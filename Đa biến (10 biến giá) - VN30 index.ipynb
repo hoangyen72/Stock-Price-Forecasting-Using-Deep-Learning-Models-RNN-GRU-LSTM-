{
 "cells": [
  {
   "cell_type": "markdown",
   "metadata": {},
   "source": [
    "# Model 1: Multivariate-3-RNN"
   ]
  },
  {
   "cell_type": "markdown",
   "metadata": {},
   "source": [
    "## RNN"
   ]
  },
  {
   "cell_type": "markdown",
   "metadata": {},
   "source": [
    "### Import các thư viện cần thiết"
   ]
  },
  {
   "cell_type": "code",
   "execution_count": 1,
   "metadata": {},
   "outputs": [],
   "source": [
    "import os\n",
    "os.environ['PYTHONHASHSEED'] = '0' # đảm bảo rằng các giá trị băm của đối tượng bất biến (dict, set, chuỗi, tuple...) luôn giống nhau giữa các lần chạy\n",
    "\n",
    "import random as rn\n",
    "import numpy as np\n",
    "np.random.seed(1)\n",
    "rn.seed(3)\n",
    "import tensorflow as tf\n",
    "tf.random.set_seed(2)"
   ]
  },
  {
   "cell_type": "code",
   "execution_count": 2,
   "metadata": {},
   "outputs": [],
   "source": [
    "import sys\n",
    "import numpy as np\n",
    "import pandas as pd\n",
    "import matplotlib.pyplot as plt"
   ]
  },
  {
   "cell_type": "code",
   "execution_count": 3,
   "metadata": {},
   "outputs": [],
   "source": [
    "import tensorflow as tf\n",
    "from tensorflow.keras.models import Sequential, load_model\n",
    "from tensorflow.keras.layers import Dense, SimpleRNN, LSTM, Dropout\n",
    "from tensorflow.keras import optimizers"
   ]
  },
  {
   "cell_type": "code",
   "execution_count": 4,
   "metadata": {},
   "outputs": [],
   "source": [
    "from tensorflow.keras.callbacks import EarlyStopping, ModelCheckpoint\n",
    "from sklearn.preprocessing import MinMaxScaler\n",
    "from sklearn.metrics import mean_squared_error, r2_score, mean_absolute_percentage_error\n",
    "from math import sqrt\n",
    "import datetime as dt\n",
    "import time\n",
    "\n",
    "from tensorflow.keras.optimizers import Adam"
   ]
  },
  {
   "cell_type": "code",
   "execution_count": 5,
   "metadata": {},
   "outputs": [],
   "source": [
    "plt.style.use('ggplot')"
   ]
  },
  {
   "cell_type": "markdown",
   "metadata": {},
   "source": [
    "### Hàm callback"
   ]
  },
  {
   "cell_type": "code",
   "execution_count": 6,
   "metadata": {},
   "outputs": [],
   "source": [
    "earlystop = EarlyStopping(monitor='val_loss', min_delta=0.0001, patience=80,  verbose=1, mode='min')  \n",
    "checkpoint = ModelCheckpoint(\n",
    "    filepath=\"10Var-vn30-rnn.h5\",   # Tên file lưu mô hình\n",
    "    monitor=\"val_loss\",         # Theo dõi val_loss\n",
    "    save_best_only=True,        # Chỉ lưu khi tốt hơn mô hình trước đó\n",
    "    mode=\"min\",                 # Giảm min của val_loss là tốt nhất\n",
    "    verbose=1\n",
    ")\n",
    "callbacks_list = [earlystop, checkpoint] "
   ]
  },
  {
   "cell_type": "markdown",
   "metadata": {},
   "source": [
    "### Đọc dữ liệu từ file csv"
   ]
  },
  {
   "cell_type": "code",
   "execution_count": null,
   "metadata": {},
   "outputs": [],
   "source": [
    "url = r\"VN30 Index.csv\"\n",
    "df = pd.read_csv(url, parse_dates= True, index_col= 0)"
   ]
  },
  {
   "cell_type": "code",
   "execution_count": 8,
   "metadata": {},
   "outputs": [
    {
     "name": "stdout",
     "output_type": "stream",
     "text": [
      "<bound method NDFrame.head of                open     high      low    close       volume\n",
      "time                                                       \n",
      "2009-01-05   311.23   311.23   311.23   311.23          NaN\n",
      "2009-01-06   314.21   314.21   314.21   314.21          NaN\n",
      "2009-01-07   320.53   320.53   320.53   320.53          NaN\n",
      "2009-01-08   314.14   314.14   314.14   314.14          NaN\n",
      "2009-01-09   312.90   312.90   312.90   312.90          NaN\n",
      "...             ...      ...      ...      ...          ...\n",
      "2025-03-14  1387.08  1394.39  1385.20  1387.03  374490000.0\n",
      "2025-03-17  1392.75  1397.28  1389.42  1394.90  352180000.0\n",
      "2025-03-18  1398.44  1400.38  1388.64  1388.64  291590000.0\n",
      "2025-03-19  1385.92  1386.57  1374.83  1377.63  363360000.0\n",
      "2025-03-20  1382.23  1388.37  1371.98  1378.95  359980000.0\n",
      "\n",
      "[4044 rows x 5 columns]>\n"
     ]
    }
   ],
   "source": [
    "print(df.head)"
   ]
  },
  {
   "cell_type": "code",
   "execution_count": 9,
   "metadata": {},
   "outputs": [
    {
     "name": "stdout",
     "output_type": "stream",
     "text": [
      "open        0\n",
      "high        0\n",
      "low         0\n",
      "close       0\n",
      "volume    859\n",
      "dtype: int64\n"
     ]
    }
   ],
   "source": [
    "print(df.isnull().sum())"
   ]
  },
  {
   "cell_type": "markdown",
   "metadata": {},
   "source": [
    "### Tiền xử lí dữ liệu"
   ]
  },
  {
   "cell_type": "code",
   "execution_count": 10,
   "metadata": {},
   "outputs": [],
   "source": [
    "# Xóa các dòng có giá trị Volume bằng 0\n",
    "df.drop(df[df['volume']==0].index, inplace=True)"
   ]
  },
  {
   "cell_type": "code",
   "execution_count": 11,
   "metadata": {},
   "outputs": [
    {
     "data": {
      "text/plain": [
       "open      0.999562\n",
       "high      0.999783\n",
       "low       0.999789\n",
       "close     1.000000\n",
       "volume    0.169492\n",
       "Name: close, dtype: float64"
      ]
     },
     "execution_count": 11,
     "metadata": {},
     "output_type": "execute_result"
    }
   ],
   "source": [
    "# Ma trận tương quan (ở đây là Pearson tương quan tuyến tính)\n",
    "df.corr()['close']"
   ]
  },
  {
   "cell_type": "code",
   "execution_count": 12,
   "metadata": {},
   "outputs": [
    {
     "name": "stdout",
     "output_type": "stream",
     "text": [
      "count    3.185000e+03\n",
      "mean     3.279171e+06\n",
      "std      2.776577e+07\n",
      "min      4.540000e+03\n",
      "25%      3.809000e+04\n",
      "50%      6.036000e+04\n",
      "75%      1.560100e+05\n",
      "max      3.744900e+08\n",
      "Name: volume, dtype: float64\n"
     ]
    }
   ],
   "source": [
    "#  Tính toán các thống kê mô tả như trung bình (mean), độ lệch chuẩn (std), min, max, phần trăm phân vị (25%, 50%, 75%).\n",
    "print(df.describe().volume) # Giúp kiểm tra phân bố của Volume, phát hiện các giá trị bất thường (outliers)."
   ]
  },
  {
   "cell_type": "code",
   "execution_count": 13,
   "metadata": {},
   "outputs": [
    {
     "data": {
      "text/plain": [
       "<Axes: >"
      ]
     },
     "execution_count": 13,
     "metadata": {},
     "output_type": "execute_result"
    },
    {
     "data": {
      "image/png": "[encoded data removed]",
      "text/plain": [
       "<Figure size 640x480 with 1 Axes>"
      ]
     },
     "metadata": {},
     "output_type": "display_data"
    }
   ],
   "source": [
    "# Vẽ biểu đồ tần suất của Volume\n",
    "df['volume'].hist(bins=10)"
   ]
  },
  {
   "cell_type": "markdown",
   "metadata": {},
   "source": [
    "**Phân tích phân bố dữ liệu Volume bằng Histogram**  \n",
    "\n",
    "🔹 `.hist(bins=10)`  \n",
    "- Vẽ **biểu đồ histogram** của cột `Volume` với **10 bins (nhóm dữ liệu)**.  \n",
    "- Giúp trực quan hóa **phân bố dữ liệu**, phát hiện sự **lệch** (skewness) và **giá trị ngoại lai** (outliers).  \n",
    "\n",
    "**Ý nghĩa của biểu đồ histogram**  \n",
    "\n",
    "- **Nếu phân bố lệch phải (right-skewed)** → Dữ liệu có nhiều giá trị nhỏ, một số giá trị rất lớn.  \n",
    "- **Nếu phân bố lệch trái (left-skewed)** → Dữ liệu có nhiều giá trị lớn, một số giá trị rất nhỏ.  \n",
    "- **Nếu có outliers (điểm nằm xa tập trung chính)** → Có thể cần xử lý như **loại bỏ** hoặc **chuẩn hóa dữ liệu**.  \n",
    "\n",
    "**Cách xử lý dữ liệu lệch/skewed**  \n",
    "\n",
    "✅ **Log Transformation** → Dùng `np.log1p(Volume)` để giảm độ lệch.  \n",
    "✅ **Scaling** → Dùng `MinMaxScaler()` hoặc `StandardScaler()` để chuẩn hóa.  \n",
    "✅ **Xử lý outliers** → Loại bỏ hoặc thay thế bằng **giá trị trung bình/median**.  \n"
   ]
  },
  {
   "cell_type": "code",
   "execution_count": 18,
   "metadata": {},
   "outputs": [],
   "source": [
    "# Bổ sung các chỉ báo kĩ thuật\n",
    "\n",
    "# Tính CMA10\n",
    "df['CMA10'] = df['close'].rolling(window=10, center=True).mean()\n",
    "# Tính SMA10\n",
    "df['SMA10'] = df['close'].rolling(window=10).mean()\n",
    "# Tính SMA50\n",
    "df['SMA50'] = df['close'].rolling(window=50).mean()\n",
    "# Tính EMA12 và EMA26\n",
    "df['EMA12'] = df['close'].ewm(span=12, adjust=False).mean()\n",
    "df['EMA26'] = df['close'].ewm(span=26, adjust=False).mean()\n",
    "# Tính MACD\n",
    "df['MACD'] = df['EMA12'] - df['EMA26']\n",
    "#Tính RSI\n",
    "# Tính giá tăng/giảm\n",
    "delta = df['close'].diff()\n",
    "\n",
    "# Tính giá tăng\n",
    "gain = delta.where(delta > 0, 0)\n",
    "\n",
    "# Tính giá giảm\n",
    "loss = -delta.where(delta < 0, 0)\n",
    "\n",
    "# Tính trung bình động\n",
    "avg_gain = gain.rolling(window=14).mean()\n",
    "avg_loss = loss.rolling(window=14).mean()\n",
    "\n",
    "# Tính RS và RSI\n",
    "rs = avg_gain / avg_loss\n",
    "df['RSI'] = 100 - (100 / (1 + rs))\n",
    "\n",
    "#Tính CCI\n",
    "# Tính giá trung bình\n",
    "typical_price = (df['high'] + df['low'] + df['close']) / 3\n",
    "\n",
    "# Tính SMA của giá trung bình\n",
    "sma_typical_price = typical_price.rolling(window=20).mean()\n",
    "\n",
    "# Tính độ lệch chuẩn\n",
    "mean_deviation = typical_price.rolling(window=20).apply(lambda x: np.mean(np.abs(x - x.mean())))\n",
    "\n",
    "# Tính CCI\n",
    "df['CCI'] = (typical_price - sma_typical_price) / (0.015 * mean_deviation)\n",
    "# Tính %K và %D\n",
    "low_min = df['low'].rolling(window=14).min()\n",
    "high_max = df['high'].rolling(window=14).max()\n",
    "\n",
    "df['%K'] = 100 * (df['close'] - low_min) / (high_max - low_min)\n",
    "df['%D'] = df['%K'].rolling(window=3).mean()"
   ]
  },
  {
   "cell_type": "code",
   "execution_count": 20,
   "metadata": {},
   "outputs": [
    {
     "name": "stdout",
     "output_type": "stream",
     "text": [
      "              open    high     low   close  volume  CMA10  SMA10  SMA50  \\\n",
      "time                                                                      \n",
      "2009-01-05  311.23  311.23  311.23  311.23     NaN    NaN    NaN    NaN   \n",
      "2009-01-06  314.21  314.21  314.21  314.21     NaN    NaN    NaN    NaN   \n",
      "2009-01-07  320.53  320.53  320.53  320.53     NaN    NaN    NaN    NaN   \n",
      "2009-01-08  314.14  314.14  314.14  314.14     NaN    NaN    NaN    NaN   \n",
      "2009-01-09  312.90  312.90  312.90  312.90     NaN    NaN    NaN    NaN   \n",
      "\n",
      "                 EMA12       EMA26      MACD  RSI  CCI  %K  %D  \n",
      "time                                                            \n",
      "2009-01-05  311.230000  311.230000  0.000000  NaN  NaN NaN NaN  \n",
      "2009-01-06  311.688462  311.450741  0.237721  NaN  NaN NaN NaN  \n",
      "2009-01-07  313.048698  312.123278  0.925420  NaN  NaN NaN NaN  \n",
      "2009-01-08  313.216591  312.272665  0.943926  NaN  NaN NaN NaN  \n",
      "2009-01-09  313.167885  312.319134  0.848750  NaN  NaN NaN NaN  \n"
     ]
    },
    {
     "data": {
      "text/plain": [
       "(4044, 15)"
      ]
     },
     "execution_count": 20,
     "metadata": {},
     "output_type": "execute_result"
    }
   ],
   "source": [
    "print(df.head())\n",
    "df.shape"
   ]
  },
  {
   "cell_type": "markdown",
   "metadata": {},
   "source": [
    "## Train model / Hàm **fit_model_2()**"
   ]
  },
  {
   "cell_type": "code",
   "execution_count": 21,
   "metadata": {},
   "outputs": [],
   "source": [
    "def fit_model_2(train, val, timesteps, hl, lr, batch, epochs):\n",
    "    np.random.seed(1)\n",
    "    tf.random.set_seed(2)\n",
    "    rn.seed(3)\n",
    "\n",
    "    X_train = []\n",
    "    Y_train = []\n",
    "    X_val = []\n",
    "    Y_val = []\n",
    "\n",
    "    # Loop for training data\n",
    "    for i in range(timesteps, train.shape[0]):\n",
    "        X_train.append(train[i-timesteps:i])\n",
    "        Y_train.append(train[i][0])\n",
    "    X_train, Y_train = np.array(X_train), np.array(Y_train)\n",
    "\n",
    "    # Loop for val data\n",
    "    for i in range(timesteps, val.shape[0]):\n",
    "        X_val.append(val[i-timesteps:i])\n",
    "        Y_val.append(val[i][0])\n",
    "    X_val, Y_val = np.array(X_val), np.array(Y_val)\n",
    "\n",
    "    # Adding Layers to the model\n",
    "    model = Sequential()\n",
    "    model.add(SimpleRNN(X_train.shape[2], input_shape = (X_train.shape[1], X_train.shape[2]), activation = 'relu', return_sequences = True))\n",
    "    for i in range(len(hl)-1):\n",
    "        model.add(SimpleRNN(hl[i], activation = 'relu', return_sequences = True))\n",
    "    model.add(SimpleRNN(hl[-1], activation = 'relu'))\n",
    "    model.add(Dense(1))\n",
    "    model.compile(optimizer = optimizers.Adam(learning_rate= lr), loss = 'mean_squared_error')\n",
    "\n",
    "    # Training the data\n",
    "    history = model.fit(X_train, Y_train, epochs = epochs, batch_size = batch, validation_data = (X_val, Y_val), verbose = 0, shuffle = False, callbacks=callbacks_list)\n",
    "    for layer in model.layers:\n",
    "        if isinstance(layer, SimpleRNN):\n",
    "            layer.reset_states() #Đảm bảo mỗi lần huấn luyện không bị ảnh hưởng bởi trạng thái cũ của LSTM.\n",
    "    return model, history.history['loss'], history.history['val_loss']"
   ]
  },
  {
   "cell_type": "markdown",
   "metadata": {},
   "source": [
    "###  Bước 1: Đặt Seed để đảm bảo tính tái lập"
   ]
  },
  {
   "cell_type": "markdown",
   "metadata": {},
   "source": [
    "Giúp đảm bảo mỗi lần chạy chương trình, các giá trị ngẫu nhiên được tạo ra giống nhau, tránh kết quả huấn luyện thay đổi giữa các lần chạy."
   ]
  },
  {
   "cell_type": "code",
   "execution_count": null,
   "metadata": {},
   "outputs": [
    {
     "data": {
      "text/plain": [
       "'\\nnp.random.seed(1)\\ntf.random.set_seed(2)\\nrn.seed(3)\\n'"
      ]
     },
     "execution_count": 162,
     "metadata": {},
     "output_type": "execute_result"
    }
   ],
   "source": [
    "\"\"\"\n",
    "np.random.seed(1)\n",
    "tf.random.set_seed(2)\n",
    "rn.seed(3)\n",
    "\"\"\""
   ]
  },
  {
   "cell_type": "markdown",
   "metadata": {},
   "source": [
    "### Bước 2: Chuẩn bị dữ liệu huấn luyện (train) và kiểm định (val)"
   ]
  },
  {
   "cell_type": "code",
   "execution_count": null,
   "metadata": {},
   "outputs": [
    {
     "data": {
      "text/plain": [
       "'\\nX_train = []\\nY_train = []\\nX_val = []\\nY_val = []\\n\\nfor i in range(timesteps, train.shape[0]):\\n    X_train.append(train[i-timesteps:i])\\n    Y_train.append(train[i][0])\\nX_train, Y_train = np.array(X_train, Y_train)\\n\\nfor i in range(timesteps, val.shape[0]):\\n    X_val.append(val[i-timesteps:i])\\n    Y_val.append(val[i][0])\\nX_val, Y_val = np.array(X_val, Y_val)  \\n'"
      ]
     },
     "execution_count": 163,
     "metadata": {},
     "output_type": "execute_result"
    }
   ],
   "source": [
    "\"\"\"\n",
    "X_train = []\n",
    "Y_train = []\n",
    "X_val = []\n",
    "Y_val = []\n",
    "\n",
    "for i in range(timesteps, train.shape[0]):\n",
    "    X_train.append(train[i-timesteps:i])\n",
    "    Y_train.append(train[i][0])\n",
    "X_train, Y_train = np.array(X_train, Y_train)\n",
    "\n",
    "for i in range(timesteps, val.shape[0]):\n",
    "    X_val.append(val[i-timesteps:i])\n",
    "    Y_val.append(val[i][0])\n",
    "X_val, Y_val = np.array(X_val, Y_val)  \n",
    "\"\"\""
   ]
  },
  {
   "cell_type": "markdown",
   "metadata": {},
   "source": [
    "### Bước 3: Xây dựng mô hình RNN"
   ]
  },
  {
   "cell_type": "code",
   "execution_count": null,
   "metadata": {},
   "outputs": [
    {
     "data": {
      "text/plain": [
       "\"\\n# Xây dựng mô hình RNN\\nmodel = Sequential()\\nmodel.add(SimpleRNN(X_train.shape[2], input_shape= (X_train.shape[1], X_train.shape[2]), activation='relu', return_sequences= True))\\nfor i in range(len(hl)-1):\\n    model.add(SimpleRNN(hl[i], activation='relu', return_sequences= True))\\nmodel.add(SimpleRNN(hl[-1], activation='relu'))\\nmodel.add(Dense(1))\\n\""
      ]
     },
     "execution_count": 164,
     "metadata": {},
     "output_type": "execute_result"
    }
   ],
   "source": [
    "\"\"\"\n",
    "# Xây dựng mô hình RNN\n",
    "model = Sequential()\n",
    "model.add(SimpleRNN(X_train.shape[2], input_shape= (X_train.shape[1], X_train.shape[2]), activation='relu', return_sequences= True))\n",
    "for i in range(len(hl)-1):\n",
    "    model.add(SimpleRNN(hl[i], activation='relu', return_sequences= True))\n",
    "model.add(SimpleRNN(hl[-1], activation='relu'))\n",
    "model.add(Dense(1))\n",
    "\"\"\""
   ]
  },
  {
   "cell_type": "markdown",
   "metadata": {},
   "source": [
    "Thêm một lớp **SimpleRNN đầu tiên**:  \n",
    "-   `X_train.shape[2]`: Số đặc trưng (features).\n",
    "-   `input_shape = (X_train.shape[1], X_train.shape[2])`: Định dạng đầu vào (timesteps, số đặc trưng).\n",
    "-   `activation = 'relu'`: Hàm kích hoạt giúp mô hình học phi tuyến tính.\n",
    "-   `return_sequences = True`: Giữ lại toàn bộ chuỗi đầu ra để sử dụng trong các lớp tiếp theo."
   ]
  },
  {
   "cell_type": "markdown",
   "metadata": {},
   "source": [
    "### Bước 4: Biên dịch mô hình"
   ]
  },
  {
   "cell_type": "code",
   "execution_count": null,
   "metadata": {},
   "outputs": [
    {
     "data": {
      "text/plain": [
       "\"\\n# Biên dịch\\nmodel.compile(optimizer= optimizers.Adam(learning_rate= lr), loss= 'mean_squared_error')\\n\""
      ]
     },
     "execution_count": 165,
     "metadata": {},
     "output_type": "execute_result"
    }
   ],
   "source": [
    "\"\"\"\n",
    "# Biên dịch\n",
    "model.compile(optimizer= optimizers.Adam(learning_rate= lr), loss= 'mean_squared_error')\n",
    "\"\"\""
   ]
  },
  {
   "cell_type": "markdown",
   "metadata": {},
   "source": [
    "### Bước 5: Huấn luyện mô hình"
   ]
  },
  {
   "cell_type": "code",
   "execution_count": null,
   "metadata": {},
   "outputs": [
    {
     "data": {
      "text/plain": [
       "'\\nhistory = model.fit(X_train, Y_train, epochs = epochs, batch_size = batch, validation_data = (X_val, Y_val), verbose = 0, shuffle = False, callbacks=callbacks_list)\\n'"
      ]
     },
     "execution_count": 166,
     "metadata": {},
     "output_type": "execute_result"
    }
   ],
   "source": [
    "\"\"\"\n",
    "history = model.fit(X_train, Y_train, epochs = epochs, batch_size = batch, validation_data = (X_val, Y_val), verbose = 0, shuffle = False, callbacks=callbacks_list)\n",
    "\"\"\""
   ]
  },
  {
   "cell_type": "markdown",
   "metadata": {},
   "source": [
    "**Cấu hình huấn luyện mô hình**\n",
    "\n",
    "🔹 Tham số trong quá trình huấn luyện  \n",
    "\n",
    "✅ `epochs = epochs` → Số vòng huấn luyện  \n",
    "✅ `batch_size = batch` → Kích thước batch  \n",
    "✅ `validation_data = (X_val, Y_val)` → Dữ liệu kiểm định để theo dõi hiệu suất sau mỗi epoch  \n",
    "✅ `verbose = 0` → Không hiển thị log huấn luyện (có thể đặt `verbose = 1` để xem tiến trình)  \n",
    "✅ `shuffle = False` → Không xáo trộn dữ liệu (do chuỗi thời gian có tính thứ tự)  \n",
    "✅ `callbacks = callbacks_list` → Danh sách callback hỗ trợ huấn luyện  "
   ]
  },
  {
   "cell_type": "markdown",
   "metadata": {},
   "source": [
    "### Bước 6: Đảm bảo trạng thái không bị ảnh hưởng khi huấn luyện nhiều lần"
   ]
  },
  {
   "cell_type": "code",
   "execution_count": null,
   "metadata": {},
   "outputs": [
    {
     "data": {
      "text/plain": [
       "'\\nfor layer in model.layers:\\n    if isinstance(layer, SimpleRNN):\\n        layer.reset_states()\\n'"
      ]
     },
     "execution_count": 167,
     "metadata": {},
     "output_type": "execute_result"
    }
   ],
   "source": [
    "\"\"\"\n",
    "for layer in model.layers:\n",
    "    if isinstance(layer, SimpleRNN):\n",
    "        layer.reset_states()\n",
    "\"\"\""
   ]
  },
  {
   "cell_type": "markdown",
   "metadata": {},
   "source": [
    "### Bước 7: Trả về kết quả"
   ]
  },
  {
   "cell_type": "code",
   "execution_count": null,
   "metadata": {},
   "outputs": [
    {
     "data": {
      "text/plain": [
       "\"\\nreturn model, history.history['train_loss'], history.history['val_loss']\\n\""
      ]
     },
     "execution_count": 168,
     "metadata": {},
     "output_type": "execute_result"
    }
   ],
   "source": [
    "\"\"\"\n",
    "return model, history.history['train_loss'], history.history['val_loss']\n",
    "\"\"\""
   ]
  },
  {
   "cell_type": "markdown",
   "metadata": {},
   "source": [
    "## **Grid Search**: Tìm kiếm siêu tham số tối ưu "
   ]
  },
  {
   "cell_type": "code",
   "execution_count": 22,
   "metadata": {},
   "outputs": [],
   "source": [
    "param_grid = {\n",
    "    'timesteps': [30, 40, 50],\n",
    "    'hl': [[40, 35]],\n",
    "    'lr': [1e-3, 1e-4],\n",
    "    'batch_size': [32, 64],\n",
    "    'num_epochs': [200, 250]\n",
    "}"
   ]
  },
  {
   "cell_type": "code",
   "execution_count": 23,
   "metadata": {},
   "outputs": [],
   "source": [
    "from itertools import product # Tích đề-các\n",
    "import pandas as pd\n",
    "\n",
    "# Hàm Grid Search\n",
    "def grid_search_rnn(train, val, test, param_grid):\n",
    "# Khởi tạo danh sách lưu kết quả\n",
    "    results = []\n",
    "    best_score = float('inf') # Ban đầu được đặt là vô cùng lớn\n",
    "    best_params = None # Lưu bộ siêu tham số có hiệu suất tốt nhất\n",
    "# Tạo tất cả các tổ hợp tham số\n",
    "    all_combinations = list(product(*param_grid.values()))\n",
    "    param_names = list(param_grid.keys())\n",
    "# Lặp qua từng tổ hợp tham số\n",
    "    for combination in all_combinations:\n",
    "        params = dict(zip(param_names, combination))\n",
    "        timesteps = params['timesteps']\n",
    "        hl = params['hl']\n",
    "        lr = params['lr']\n",
    "        batch_size = params['batch_size']\n",
    "        num_epochs = params['num_epochs']\n",
    "\n",
    "    print(f'Training with param: {params}')\n",
    "# Huấn luyện với fit.model()\n",
    "    model, train_loss, val_loss = fit_model_2(train, val, timesteps, hl, lr,  batch_size, num_epochs)\n",
    "# Đánh giá mô hình với evaluate_model()\n",
    "    mse, rmse, mape, r2, _, _ = evaluate_model_2(model, test, timesteps)\n",
    "# Lưu kết quả\n",
    "    results.append({\n",
    "        'timesteps': timesteps,\n",
    "        'hl': hl,\n",
    "        'lr': lr,\n",
    "        'batch_size': batch_size,\n",
    "        'num_epochs': num_epochs,\n",
    "        'MSE': mse,\n",
    "        'RMSE': rmse,\n",
    "        'MAPE': mape,\n",
    "        'R²': r2\n",
    "    })\n",
    "# Cập nhật bộ siêu tham số tốt nhất nếu RMSE cải thiện\n",
    "    if rmse < best_score:\n",
    "        best_score = rmse\n",
    "        best_params = params\n",
    "\n",
    "# Trả về kết quả\n",
    "    results_df = pd.DataFrame(results)\n",
    "    return best_params, best_score, results_df"
   ]
  },
  {
   "cell_type": "markdown",
   "metadata": {},
   "source": [
    "## Hàm **Evaluate_model_2()**"
   ]
  },
  {
   "cell_type": "code",
   "execution_count": 24,
   "metadata": {},
   "outputs": [
    {
     "data": {
      "text/plain": [
       "'\\n# Định nghĩa hàm mean_absolute_percentage_error() (MAPE)\\ndef mean_absolute_percentage_error(y_true, y_pred):\\n    y_true, y_pred = np.array(y_true), np.array(y_pred)\\n    return np.mean(np.abs((y_true - y_pred) / y_true))*100\"\\n    '"
      ]
     },
     "execution_count": 24,
     "metadata": {},
     "output_type": "execute_result"
    }
   ],
   "source": [
    "\"\"\"\n",
    "# Định nghĩa hàm mean_absolute_percentage_error() (MAPE)\n",
    "def mean_absolute_percentage_error(y_true, y_pred):\n",
    "    y_true, y_pred = np.array(y_true), np.array(y_pred)\n",
    "    return np.mean(np.abs((y_true - y_pred) / y_true))*100\"\n",
    "    \"\"\""
   ]
  },
  {
   "cell_type": "code",
   "execution_count": 26,
   "metadata": {},
   "outputs": [],
   "source": [
    "def evaluate_model_2(model, test, timesteps):\n",
    "    np.random.seed(1)\n",
    "    tf.random.set_seed(2)\n",
    "    rn.seed(3)\n",
    "\n",
    "    X_test = []\n",
    "    Y_test = []\n",
    "\n",
    "    # Loop for testing data\n",
    "    for i in range(timesteps, test.shape[0]):\n",
    "        X_test.append(test[i-timesteps:i])\n",
    "        Y_test.append(test[i][0])\n",
    "    X_test, Y_test = np.array(X_test), np.array(Y_test)\n",
    "\n",
    "    # Evaluate model\n",
    "    Y_hat = model.predict(X_test)                         #chứa dự đoán của model dựa trên đầu vào x_test\n",
    "    mse = mean_squared_error(Y_test, Y_hat)\n",
    "    rmse = sqrt(mse)\n",
    "    mape = mean_absolute_percentage_error(Y_test, Y_hat)\n",
    "    r2 = r2_score(Y_test, Y_hat)\n",
    "    return mse, rmse, mape, r2, Y_test, Y_hat"
   ]
  },
  {
   "cell_type": "markdown",
   "metadata": {},
   "source": [
    "## Plot chart (vẽ biểu đồ)"
   ]
  },
  {
   "cell_type": "code",
   "execution_count": 27,
   "metadata": {},
   "outputs": [],
   "source": [
    "# Plotting the predictions\n",
    "def plot_data_2(Y_test,Y_hat):\n",
    "    plt.plot(Y_test, c = 'r')\n",
    "    plt.plot(Y_hat, c = 'y')\n",
    "    plt.xlabel('Day')\n",
    "    plt.ylabel('Price')\n",
    "    plt.title(\"Stock Price Prediction using Multivatiate-RNN\")\n",
    "    plt.legend(['Actual','Predicted'], loc = 'lower right')\n",
    "    plt.show()"
   ]
  },
  {
   "cell_type": "code",
   "execution_count": 28,
   "metadata": {},
   "outputs": [],
   "source": [
    "# Plotting the training errors: trực quan loss qua các epoch -> thấy qtr học mô hình, xem có overfitting ko\n",
    "def plot_error(train_loss, val_loss):\n",
    "    plt.plot(train_loss, c = 'r')\n",
    "    plt.plot(val_loss, c = 'b')\n",
    "    plt.ylabel('Loss')\n",
    "    plt.xlabel('Epochs')\n",
    "    plt.title('Train Loss and Validation Loss Curve')\n",
    "    plt.legend(['train', 'val'], loc = 'upper right')\n",
    "    plt.show()"
   ]
  },
  {
   "cell_type": "markdown",
   "metadata": {},
   "source": [
    "## **Model building**: Xây dựng mô hình"
   ]
  },
  {
   "cell_type": "markdown",
   "metadata": {},
   "source": [
    "### Bước 1: Trích xuất và trực quan hóa dữ liệu"
   ]
  },
  {
   "cell_type": "code",
   "execution_count": 29,
   "metadata": {},
   "outputs": [
    {
     "name": "stdout",
     "output_type": "stream",
     "text": [
      "(3991, 10)\n",
      "              close     CMA10     SMA10      SMA50        EMA12        RSI  \\\n",
      "time                                                                         \n",
      "2025-03-10  1391.07  1381.379  1369.467  1336.1956  1368.821086  81.914388   \n",
      "2025-03-11  1393.57  1384.753  1372.768  1337.6066  1372.628611  80.831758   \n",
      "2025-03-12  1392.39  1386.820  1375.951  1338.9890  1375.668825  78.354464   \n",
      "2025-03-13  1387.30  1388.192  1378.319  1339.8854  1377.458236  71.932575   \n",
      "2025-03-14  1387.03  1388.125  1381.379  1340.7724  1378.930815  67.050447   \n",
      "\n",
      "                   CCI         %K         %D       MACD  \n",
      "time                                                     \n",
      "2025-03-10  186.248408  86.033606  94.302545  14.085059  \n",
      "2025-03-11  143.873911  88.007313  90.655860  15.015993  \n",
      "2025-03-12  152.955891  84.673892  86.238270  15.480105  \n",
      "2025-03-13  121.672693  73.658150  82.113118  15.261273  \n",
      "2025-03-14   97.327890  73.123391  77.151811  14.894368  \n"
     ]
    }
   ],
   "source": [
    "# Extracting the series\n",
    "series = df[['close', 'CMA10', 'SMA10', 'SMA50', 'EMA12', 'RSI', 'CCI', '%K', '%D', 'MACD']]\n",
    "# Drop rows with NaN values\n",
    "series = series.dropna()\n",
    "\n",
    "# Display the shape and the tail of the cleaned series\n",
    "print(series.shape)\n",
    "print(series.tail())"
   ]
  },
  {
   "cell_type": "code",
   "execution_count": 30,
   "metadata": {},
   "outputs": [
    {
     "data": {
      "text/html": [
       "<div>\n",
       "<style scoped>\n",
       "    .dataframe tbody tr th:only-of-type {\n",
       "        vertical-align: middle;\n",
       "    }\n",
       "\n",
       "    .dataframe tbody tr th {\n",
       "        vertical-align: top;\n",
       "    }\n",
       "\n",
       "    .dataframe thead th {\n",
       "        text-align: right;\n",
       "    }\n",
       "</style>\n",
       "<table border=\"1\" class=\"dataframe\">\n",
       "  <thead>\n",
       "    <tr style=\"text-align: right;\">\n",
       "      <th></th>\n",
       "      <th>close</th>\n",
       "      <th>CMA10</th>\n",
       "      <th>SMA10</th>\n",
       "      <th>SMA50</th>\n",
       "      <th>EMA12</th>\n",
       "      <th>RSI</th>\n",
       "      <th>CCI</th>\n",
       "      <th>%K</th>\n",
       "      <th>%D</th>\n",
       "      <th>MACD</th>\n",
       "    </tr>\n",
       "  </thead>\n",
       "  <tbody>\n",
       "    <tr>\n",
       "      <th>count</th>\n",
       "      <td>3991.000000</td>\n",
       "      <td>3991.000000</td>\n",
       "      <td>3991.00000</td>\n",
       "      <td>3991.000000</td>\n",
       "      <td>3991.000000</td>\n",
       "      <td>3991.000000</td>\n",
       "      <td>3991.000000</td>\n",
       "      <td>3991.000000</td>\n",
       "      <td>3991.000000</td>\n",
       "      <td>3991.000000</td>\n",
       "    </tr>\n",
       "    <tr>\n",
       "      <th>mean</th>\n",
       "      <td>814.145743</td>\n",
       "      <td>814.003191</td>\n",
       "      <td>812.86794</td>\n",
       "      <td>807.414210</td>\n",
       "      <td>812.591967</td>\n",
       "      <td>54.032542</td>\n",
       "      <td>17.593878</td>\n",
       "      <td>57.339202</td>\n",
       "      <td>57.342557</td>\n",
       "      <td>1.921103</td>\n",
       "    </tr>\n",
       "    <tr>\n",
       "      <th>std</th>\n",
       "      <td>321.109578</td>\n",
       "      <td>320.781191</td>\n",
       "      <td>320.75575</td>\n",
       "      <td>319.492655</td>\n",
       "      <td>320.500740</td>\n",
       "      <td>18.541935</td>\n",
       "      <td>110.243542</td>\n",
       "      <td>32.341940</td>\n",
       "      <td>30.423710</td>\n",
       "      <td>13.176084</td>\n",
       "    </tr>\n",
       "    <tr>\n",
       "      <th>min</th>\n",
       "      <td>254.820000</td>\n",
       "      <td>261.983000</td>\n",
       "      <td>251.40000</td>\n",
       "      <td>265.341000</td>\n",
       "      <td>252.982926</td>\n",
       "      <td>4.401922</td>\n",
       "      <td>-339.712898</td>\n",
       "      <td>0.000000</td>\n",
       "      <td>0.000000</td>\n",
       "      <td>-60.553670</td>\n",
       "    </tr>\n",
       "    <tr>\n",
       "      <th>25%</th>\n",
       "      <td>552.290000</td>\n",
       "      <td>551.247500</td>\n",
       "      <td>550.82900</td>\n",
       "      <td>547.833600</td>\n",
       "      <td>549.926815</td>\n",
       "      <td>40.285656</td>\n",
       "      <td>-70.241516</td>\n",
       "      <td>28.668093</td>\n",
       "      <td>28.989233</td>\n",
       "      <td>-4.653577</td>\n",
       "    </tr>\n",
       "    <tr>\n",
       "      <th>50%</th>\n",
       "      <td>673.530000</td>\n",
       "      <td>672.566000</td>\n",
       "      <td>671.65700</td>\n",
       "      <td>656.734400</td>\n",
       "      <td>669.526149</td>\n",
       "      <td>54.411293</td>\n",
       "      <td>32.984730</td>\n",
       "      <td>62.714014</td>\n",
       "      <td>62.491154</td>\n",
       "      <td>1.775423</td>\n",
       "    </tr>\n",
       "    <tr>\n",
       "      <th>75%</th>\n",
       "      <td>1056.925000</td>\n",
       "      <td>1058.503000</td>\n",
       "      <td>1057.24600</td>\n",
       "      <td>1057.393900</td>\n",
       "      <td>1058.727874</td>\n",
       "      <td>67.773165</td>\n",
       "      <td>106.763138</td>\n",
       "      <td>87.016932</td>\n",
       "      <td>85.932690</td>\n",
       "      <td>9.299267</td>\n",
       "    </tr>\n",
       "    <tr>\n",
       "      <th>max</th>\n",
       "      <td>1572.460000</td>\n",
       "      <td>1543.976000</td>\n",
       "      <td>1543.97600</td>\n",
       "      <td>1524.849800</td>\n",
       "      <td>1541.505267</td>\n",
       "      <td>100.000000</td>\n",
       "      <td>314.013206</td>\n",
       "      <td>100.000000</td>\n",
       "      <td>100.000000</td>\n",
       "      <td>49.008428</td>\n",
       "    </tr>\n",
       "  </tbody>\n",
       "</table>\n",
       "</div>"
      ],
      "text/plain": [
       "             close        CMA10       SMA10        SMA50        EMA12  \\\n",
       "count  3991.000000  3991.000000  3991.00000  3991.000000  3991.000000   \n",
       "mean    814.145743   814.003191   812.86794   807.414210   812.591967   \n",
       "std     321.109578   320.781191   320.75575   319.492655   320.500740   \n",
       "min     254.820000   261.983000   251.40000   265.341000   252.982926   \n",
       "25%     552.290000   551.247500   550.82900   547.833600   549.926815   \n",
       "50%     673.530000   672.566000   671.65700   656.734400   669.526149   \n",
       "75%    1056.925000  1058.503000  1057.24600  1057.393900  1058.727874   \n",
       "max    1572.460000  1543.976000  1543.97600  1524.849800  1541.505267   \n",
       "\n",
       "               RSI          CCI           %K           %D         MACD  \n",
       "count  3991.000000  3991.000000  3991.000000  3991.000000  3991.000000  \n",
       "mean     54.032542    17.593878    57.339202    57.342557     1.921103  \n",
       "std      18.541935   110.243542    32.341940    30.423710    13.176084  \n",
       "min       4.401922  -339.712898     0.000000     0.000000   -60.553670  \n",
       "25%      40.285656   -70.241516    28.668093    28.989233    -4.653577  \n",
       "50%      54.411293    32.984730    62.714014    62.491154     1.775423  \n",
       "75%      67.773165   106.763138    87.016932    85.932690     9.299267  \n",
       "max     100.000000   314.013206   100.000000   100.000000    49.008428  "
      ]
     },
     "execution_count": 30,
     "metadata": {},
     "output_type": "execute_result"
    }
   ],
   "source": [
    "series.describe()"
   ]
  },
  {
   "cell_type": "markdown",
   "metadata": {},
   "source": [
    "### Bước 2: Chia dữ liệu thành các tập Train, Validation, Test"
   ]
  },
  {
   "cell_type": "code",
   "execution_count": 35,
   "metadata": {},
   "outputs": [
    {
     "data": {
      "text/plain": [
       "(3991, 10)"
      ]
     },
     "execution_count": 35,
     "metadata": {},
     "output_type": "execute_result"
    }
   ],
   "source": [
    "series.shape"
   ]
  },
  {
   "cell_type": "code",
   "execution_count": 36,
   "metadata": {},
   "outputs": [
    {
     "name": "stdout",
     "output_type": "stream",
     "text": [
      "(2795, 10) (598, 10) (598, 10)\n"
     ]
    }
   ],
   "source": [
    "n = series.shape[0]\n",
    "val_size =  test_size = int(n * 0.15)\n",
    "train_size = n - val_size - test_size # Để tránh sai số làm mất dữ liệu\n",
    "\n",
    "# Chia tập dữ liệu theo thứ tự thời gian\n",
    "train_data = series.iloc[:train_size].values\n",
    "val_data = series.iloc[train_size:train_size + val_size].values\n",
    "test_data = series.iloc[(train_size + val_size):].values\n",
    "# Kiểm tra kích thước của từng tập\n",
    "print(train_data.shape, val_data.shape, test_data.shape)"
   ]
  },
  {
   "cell_type": "markdown",
   "metadata": {},
   "source": [
    "### Bước 3: Chuẩn hóa dữ liệu bằng MinMaxScaler"
   ]
  },
  {
   "cell_type": "code",
   "execution_count": 37,
   "metadata": {},
   "outputs": [
    {
     "name": "stdout",
     "output_type": "stream",
     "text": [
      "(2795, 10) (598, 10) (598, 10)\n"
     ]
    }
   ],
   "source": [
    "# Normalisation\n",
    "np.random.seed(1)\n",
    "tf.random.set_seed(2)\n",
    "rn.seed(3)\n",
    "\n",
    "# Chuẩn hóa\n",
    "sc = MinMaxScaler() # Tạo bộ chuẩn hóa MinMaxScaler\n",
    "train = sc.fit_transform(train_data)\n",
    "val = sc.transform(val_data)\n",
    "test = sc.transform(test_data)\n",
    "\n",
    "print(train.shape, val.shape, test.shape)"
   ]
  },
  {
   "cell_type": "markdown",
   "metadata": {},
   "source": [
    "### Bước 4: Tìm siêu tham số tốt nhất bằng Grid Search"
   ]
  },
  {
   "cell_type": "code",
   "execution_count": 38,
   "metadata": {},
   "outputs": [
    {
     "name": "stdout",
     "output_type": "stream",
     "text": [
      "Training with param: {'timesteps': 50, 'hl': [40, 35], 'lr': 0.0001, 'batch_size': 64, 'num_epochs': 250}\n"
     ]
    },
    {
     "name": "stderr",
     "output_type": "stream",
     "text": [
      "c:\\Users\\84368\\AppData\\Local\\Programs\\Python\\Python311\\Lib\\site-packages\\keras\\src\\layers\\rnn\\rnn.py:200: UserWarning: Do not pass an `input_shape`/`input_dim` argument to a layer. When using Sequential models, prefer using an `Input(shape)` object as the first layer in the model instead.\n",
      "  super().__init__(**kwargs)\n"
     ]
    },
    {
     "name": "stdout",
     "output_type": "stream",
     "text": [
      "\n",
      "Epoch 1: val_loss improved from inf to 0.39085, saving model to 10Var-vn30-rnn.h5\n"
     ]
    },
    {
     "name": "stderr",
     "output_type": "stream",
     "text": [
      "WARNING:absl:You are saving your model as an HDF5 file via `model.save()` or `keras.saving.save_model(model)`. This file format is considered legacy. We recommend using instead the native Keras format, e.g. `model.save('my_model.keras')` or `keras.saving.save_model(model, 'my_model.keras')`. \n"
     ]
    },
    {
     "name": "stdout",
     "output_type": "stream",
     "text": [
      "\n",
      "Epoch 2: val_loss improved from 0.39085 to 0.10623, saving model to 10Var-vn30-rnn.h5\n"
     ]
    },
    {
     "name": "stderr",
     "output_type": "stream",
     "text": [
      "WARNING:absl:You are saving your model as an HDF5 file via `model.save()` or `keras.saving.save_model(model)`. This file format is considered legacy. We recommend using instead the native Keras format, e.g. `model.save('my_model.keras')` or `keras.saving.save_model(model, 'my_model.keras')`. \n"
     ]
    },
    {
     "name": "stdout",
     "output_type": "stream",
     "text": [
      "\n",
      "Epoch 3: val_loss improved from 0.10623 to 0.02741, saving model to 10Var-vn30-rnn.h5\n"
     ]
    },
    {
     "name": "stderr",
     "output_type": "stream",
     "text": [
      "WARNING:absl:You are saving your model as an HDF5 file via `model.save()` or `keras.saving.save_model(model)`. This file format is considered legacy. We recommend using instead the native Keras format, e.g. `model.save('my_model.keras')` or `keras.saving.save_model(model, 'my_model.keras')`. \n"
     ]
    },
    {
     "name": "stdout",
     "output_type": "stream",
     "text": [
      "\n",
      "Epoch 4: val_loss improved from 0.02741 to 0.01941, saving model to 10Var-vn30-rnn.h5\n"
     ]
    },
    {
     "name": "stderr",
     "output_type": "stream",
     "text": [
      "WARNING:absl:You are saving your model as an HDF5 file via `model.save()` or `keras.saving.save_model(model)`. This file format is considered legacy. We recommend using instead the native Keras format, e.g. `model.save('my_model.keras')` or `keras.saving.save_model(model, 'my_model.keras')`. \n"
     ]
    },
    {
     "name": "stdout",
     "output_type": "stream",
     "text": [
      "\n",
      "Epoch 5: val_loss improved from 0.01941 to 0.01768, saving model to 10Var-vn30-rnn.h5\n"
     ]
    },
    {
     "name": "stderr",
     "output_type": "stream",
     "text": [
      "WARNING:absl:You are saving your model as an HDF5 file via `model.save()` or `keras.saving.save_model(model)`. This file format is considered legacy. We recommend using instead the native Keras format, e.g. `model.save('my_model.keras')` or `keras.saving.save_model(model, 'my_model.keras')`. \n"
     ]
    },
    {
     "name": "stdout",
     "output_type": "stream",
     "text": [
      "\n",
      "Epoch 6: val_loss improved from 0.01768 to 0.01545, saving model to 10Var-vn30-rnn.h5\n"
     ]
    },
    {
     "name": "stderr",
     "output_type": "stream",
     "text": [
      "WARNING:absl:You are saving your model as an HDF5 file via `model.save()` or `keras.saving.save_model(model)`. This file format is considered legacy. We recommend using instead the native Keras format, e.g. `model.save('my_model.keras')` or `keras.saving.save_model(model, 'my_model.keras')`. \n"
     ]
    },
    {
     "name": "stdout",
     "output_type": "stream",
     "text": [
      "\n",
      "Epoch 7: val_loss improved from 0.01545 to 0.01335, saving model to 10Var-vn30-rnn.h5\n"
     ]
    },
    {
     "name": "stderr",
     "output_type": "stream",
     "text": [
      "WARNING:absl:You are saving your model as an HDF5 file via `model.save()` or `keras.saving.save_model(model)`. This file format is considered legacy. We recommend using instead the native Keras format, e.g. `model.save('my_model.keras')` or `keras.saving.save_model(model, 'my_model.keras')`. \n"
     ]
    },
    {
     "name": "stdout",
     "output_type": "stream",
     "text": [
      "\n",
      "Epoch 8: val_loss improved from 0.01335 to 0.01125, saving model to 10Var-vn30-rnn.h5\n"
     ]
    },
    {
     "name": "stderr",
     "output_type": "stream",
     "text": [
      "WARNING:absl:You are saving your model as an HDF5 file via `model.save()` or `keras.saving.save_model(model)`. This file format is considered legacy. We recommend using instead the native Keras format, e.g. `model.save('my_model.keras')` or `keras.saving.save_model(model, 'my_model.keras')`. \n"
     ]
    },
    {
     "name": "stdout",
     "output_type": "stream",
     "text": [
      "\n",
      "Epoch 9: val_loss improved from 0.01125 to 0.00910, saving model to 10Var-vn30-rnn.h5\n"
     ]
    },
    {
     "name": "stderr",
     "output_type": "stream",
     "text": [
      "WARNING:absl:You are saving your model as an HDF5 file via `model.save()` or `keras.saving.save_model(model)`. This file format is considered legacy. We recommend using instead the native Keras format, e.g. `model.save('my_model.keras')` or `keras.saving.save_model(model, 'my_model.keras')`. \n"
     ]
    },
    {
     "name": "stdout",
     "output_type": "stream",
     "text": [
      "\n",
      "Epoch 10: val_loss improved from 0.00910 to 0.00679, saving model to 10Var-vn30-rnn.h5\n"
     ]
    },
    {
     "name": "stderr",
     "output_type": "stream",
     "text": [
      "WARNING:absl:You are saving your model as an HDF5 file via `model.save()` or `keras.saving.save_model(model)`. This file format is considered legacy. We recommend using instead the native Keras format, e.g. `model.save('my_model.keras')` or `keras.saving.save_model(model, 'my_model.keras')`. \n"
     ]
    },
    {
     "name": "stdout",
     "output_type": "stream",
     "text": [
      "\n",
      "Epoch 11: val_loss improved from 0.00679 to 0.00505, saving model to 10Var-vn30-rnn.h5\n"
     ]
    },
    {
     "name": "stderr",
     "output_type": "stream",
     "text": [
      "WARNING:absl:You are saving your model as an HDF5 file via `model.save()` or `keras.saving.save_model(model)`. This file format is considered legacy. We recommend using instead the native Keras format, e.g. `model.save('my_model.keras')` or `keras.saving.save_model(model, 'my_model.keras')`. \n"
     ]
    },
    {
     "name": "stdout",
     "output_type": "stream",
     "text": [
      "\n",
      "Epoch 12: val_loss improved from 0.00505 to 0.00417, saving model to 10Var-vn30-rnn.h5\n"
     ]
    },
    {
     "name": "stderr",
     "output_type": "stream",
     "text": [
      "WARNING:absl:You are saving your model as an HDF5 file via `model.save()` or `keras.saving.save_model(model)`. This file format is considered legacy. We recommend using instead the native Keras format, e.g. `model.save('my_model.keras')` or `keras.saving.save_model(model, 'my_model.keras')`. \n"
     ]
    },
    {
     "name": "stdout",
     "output_type": "stream",
     "text": [
      "\n",
      "Epoch 13: val_loss improved from 0.00417 to 0.00364, saving model to 10Var-vn30-rnn.h5\n"
     ]
    },
    {
     "name": "stderr",
     "output_type": "stream",
     "text": [
      "WARNING:absl:You are saving your model as an HDF5 file via `model.save()` or `keras.saving.save_model(model)`. This file format is considered legacy. We recommend using instead the native Keras format, e.g. `model.save('my_model.keras')` or `keras.saving.save_model(model, 'my_model.keras')`. \n"
     ]
    },
    {
     "name": "stdout",
     "output_type": "stream",
     "text": [
      "\n",
      "Epoch 14: val_loss improved from 0.00364 to 0.00332, saving model to 10Var-vn30-rnn.h5\n"
     ]
    },
    {
     "name": "stderr",
     "output_type": "stream",
     "text": [
      "WARNING:absl:You are saving your model as an HDF5 file via `model.save()` or `keras.saving.save_model(model)`. This file format is considered legacy. We recommend using instead the native Keras format, e.g. `model.save('my_model.keras')` or `keras.saving.save_model(model, 'my_model.keras')`. \n"
     ]
    },
    {
     "name": "stdout",
     "output_type": "stream",
     "text": [
      "\n",
      "Epoch 15: val_loss improved from 0.00332 to 0.00307, saving model to 10Var-vn30-rnn.h5\n"
     ]
    },
    {
     "name": "stderr",
     "output_type": "stream",
     "text": [
      "WARNING:absl:You are saving your model as an HDF5 file via `model.save()` or `keras.saving.save_model(model)`. This file format is considered legacy. We recommend using instead the native Keras format, e.g. `model.save('my_model.keras')` or `keras.saving.save_model(model, 'my_model.keras')`. \n"
     ]
    },
    {
     "name": "stdout",
     "output_type": "stream",
     "text": [
      "\n",
      "Epoch 16: val_loss improved from 0.00307 to 0.00289, saving model to 10Var-vn30-rnn.h5\n"
     ]
    },
    {
     "name": "stderr",
     "output_type": "stream",
     "text": [
      "WARNING:absl:You are saving your model as an HDF5 file via `model.save()` or `keras.saving.save_model(model)`. This file format is considered legacy. We recommend using instead the native Keras format, e.g. `model.save('my_model.keras')` or `keras.saving.save_model(model, 'my_model.keras')`. \n"
     ]
    },
    {
     "name": "stdout",
     "output_type": "stream",
     "text": [
      "\n",
      "Epoch 17: val_loss improved from 0.00289 to 0.00280, saving model to 10Var-vn30-rnn.h5\n"
     ]
    },
    {
     "name": "stderr",
     "output_type": "stream",
     "text": [
      "WARNING:absl:You are saving your model as an HDF5 file via `model.save()` or `keras.saving.save_model(model)`. This file format is considered legacy. We recommend using instead the native Keras format, e.g. `model.save('my_model.keras')` or `keras.saving.save_model(model, 'my_model.keras')`. \n"
     ]
    },
    {
     "name": "stdout",
     "output_type": "stream",
     "text": [
      "\n",
      "Epoch 18: val_loss improved from 0.00280 to 0.00276, saving model to 10Var-vn30-rnn.h5\n"
     ]
    },
    {
     "name": "stderr",
     "output_type": "stream",
     "text": [
      "WARNING:absl:You are saving your model as an HDF5 file via `model.save()` or `keras.saving.save_model(model)`. This file format is considered legacy. We recommend using instead the native Keras format, e.g. `model.save('my_model.keras')` or `keras.saving.save_model(model, 'my_model.keras')`. \n"
     ]
    },
    {
     "name": "stdout",
     "output_type": "stream",
     "text": [
      "\n",
      "Epoch 19: val_loss did not improve from 0.00276\n",
      "\n",
      "Epoch 20: val_loss did not improve from 0.00276\n",
      "\n",
      "Epoch 21: val_loss did not improve from 0.00276\n",
      "\n",
      "Epoch 22: val_loss did not improve from 0.00276\n",
      "\n",
      "Epoch 23: val_loss did not improve from 0.00276\n",
      "\n",
      "Epoch 24: val_loss did not improve from 0.00276\n",
      "\n",
      "Epoch 25: val_loss did not improve from 0.00276\n",
      "\n",
      "Epoch 26: val_loss did not improve from 0.00276\n",
      "\n",
      "Epoch 27: val_loss did not improve from 0.00276\n",
      "\n",
      "Epoch 28: val_loss did not improve from 0.00276\n",
      "\n",
      "Epoch 29: val_loss did not improve from 0.00276\n",
      "\n",
      "Epoch 30: val_loss did not improve from 0.00276\n",
      "\n",
      "Epoch 31: val_loss did not improve from 0.00276\n",
      "\n",
      "Epoch 32: val_loss did not improve from 0.00276\n",
      "\n",
      "Epoch 33: val_loss did not improve from 0.00276\n",
      "\n",
      "Epoch 34: val_loss did not improve from 0.00276\n",
      "\n",
      "Epoch 35: val_loss did not improve from 0.00276\n",
      "\n",
      "Epoch 36: val_loss did not improve from 0.00276\n",
      "\n",
      "Epoch 37: val_loss did not improve from 0.00276\n",
      "\n",
      "Epoch 38: val_loss did not improve from 0.00276\n",
      "\n",
      "Epoch 39: val_loss did not improve from 0.00276\n",
      "\n",
      "Epoch 40: val_loss did not improve from 0.00276\n",
      "\n",
      "Epoch 41: val_loss did not improve from 0.00276\n",
      "\n",
      "Epoch 42: val_loss did not improve from 0.00276\n",
      "\n",
      "Epoch 43: val_loss did not improve from 0.00276\n",
      "\n",
      "Epoch 44: val_loss did not improve from 0.00276\n",
      "\n",
      "Epoch 45: val_loss did not improve from 0.00276\n",
      "\n",
      "Epoch 46: val_loss did not improve from 0.00276\n",
      "\n",
      "Epoch 47: val_loss did not improve from 0.00276\n",
      "\n",
      "Epoch 48: val_loss did not improve from 0.00276\n",
      "\n",
      "Epoch 49: val_loss did not improve from 0.00276\n",
      "\n",
      "Epoch 50: val_loss did not improve from 0.00276\n",
      "\n",
      "Epoch 51: val_loss did not improve from 0.00276\n",
      "\n",
      "Epoch 52: val_loss did not improve from 0.00276\n",
      "\n",
      "Epoch 53: val_loss did not improve from 0.00276\n",
      "\n",
      "Epoch 54: val_loss did not improve from 0.00276\n",
      "\n",
      "Epoch 55: val_loss did not improve from 0.00276\n",
      "\n",
      "Epoch 56: val_loss did not improve from 0.00276\n",
      "\n",
      "Epoch 57: val_loss did not improve from 0.00276\n",
      "\n",
      "Epoch 58: val_loss did not improve from 0.00276\n",
      "\n",
      "Epoch 59: val_loss did not improve from 0.00276\n",
      "\n",
      "Epoch 60: val_loss did not improve from 0.00276\n",
      "\n",
      "Epoch 61: val_loss did not improve from 0.00276\n",
      "\n",
      "Epoch 62: val_loss did not improve from 0.00276\n",
      "\n",
      "Epoch 63: val_loss did not improve from 0.00276\n",
      "\n",
      "Epoch 64: val_loss did not improve from 0.00276\n",
      "\n",
      "Epoch 65: val_loss did not improve from 0.00276\n",
      "\n",
      "Epoch 66: val_loss did not improve from 0.00276\n",
      "\n",
      "Epoch 67: val_loss did not improve from 0.00276\n",
      "\n",
      "Epoch 68: val_loss did not improve from 0.00276\n",
      "\n",
      "Epoch 69: val_loss did not improve from 0.00276\n",
      "\n",
      "Epoch 70: val_loss did not improve from 0.00276\n",
      "\n",
      "Epoch 71: val_loss did not improve from 0.00276\n",
      "\n",
      "Epoch 72: val_loss did not improve from 0.00276\n",
      "\n",
      "Epoch 73: val_loss did not improve from 0.00276\n",
      "\n",
      "Epoch 74: val_loss improved from 0.00276 to 0.00276, saving model to 10Var-vn30-rnn.h5\n"
     ]
    },
    {
     "name": "stderr",
     "output_type": "stream",
     "text": [
      "WARNING:absl:You are saving your model as an HDF5 file via `model.save()` or `keras.saving.save_model(model)`. This file format is considered legacy. We recommend using instead the native Keras format, e.g. `model.save('my_model.keras')` or `keras.saving.save_model(model, 'my_model.keras')`. \n"
     ]
    },
    {
     "name": "stdout",
     "output_type": "stream",
     "text": [
      "\n",
      "Epoch 75: val_loss improved from 0.00276 to 0.00270, saving model to 10Var-vn30-rnn.h5\n"
     ]
    },
    {
     "name": "stderr",
     "output_type": "stream",
     "text": [
      "WARNING:absl:You are saving your model as an HDF5 file via `model.save()` or `keras.saving.save_model(model)`. This file format is considered legacy. We recommend using instead the native Keras format, e.g. `model.save('my_model.keras')` or `keras.saving.save_model(model, 'my_model.keras')`. \n"
     ]
    },
    {
     "name": "stdout",
     "output_type": "stream",
     "text": [
      "\n",
      "Epoch 76: val_loss improved from 0.00270 to 0.00266, saving model to 10Var-vn30-rnn.h5\n"
     ]
    },
    {
     "name": "stderr",
     "output_type": "stream",
     "text": [
      "WARNING:absl:You are saving your model as an HDF5 file via `model.save()` or `keras.saving.save_model(model)`. This file format is considered legacy. We recommend using instead the native Keras format, e.g. `model.save('my_model.keras')` or `keras.saving.save_model(model, 'my_model.keras')`. \n"
     ]
    },
    {
     "name": "stdout",
     "output_type": "stream",
     "text": [
      "\n",
      "Epoch 77: val_loss improved from 0.00266 to 0.00261, saving model to 10Var-vn30-rnn.h5\n"
     ]
    },
    {
     "name": "stderr",
     "output_type": "stream",
     "text": [
      "WARNING:absl:You are saving your model as an HDF5 file via `model.save()` or `keras.saving.save_model(model)`. This file format is considered legacy. We recommend using instead the native Keras format, e.g. `model.save('my_model.keras')` or `keras.saving.save_model(model, 'my_model.keras')`. \n"
     ]
    },
    {
     "name": "stdout",
     "output_type": "stream",
     "text": [
      "\n",
      "Epoch 78: val_loss improved from 0.00261 to 0.00258, saving model to 10Var-vn30-rnn.h5\n"
     ]
    },
    {
     "name": "stderr",
     "output_type": "stream",
     "text": [
      "WARNING:absl:You are saving your model as an HDF5 file via `model.save()` or `keras.saving.save_model(model)`. This file format is considered legacy. We recommend using instead the native Keras format, e.g. `model.save('my_model.keras')` or `keras.saving.save_model(model, 'my_model.keras')`. \n"
     ]
    },
    {
     "name": "stdout",
     "output_type": "stream",
     "text": [
      "\n",
      "Epoch 79: val_loss improved from 0.00258 to 0.00254, saving model to 10Var-vn30-rnn.h5\n"
     ]
    },
    {
     "name": "stderr",
     "output_type": "stream",
     "text": [
      "WARNING:absl:You are saving your model as an HDF5 file via `model.save()` or `keras.saving.save_model(model)`. This file format is considered legacy. We recommend using instead the native Keras format, e.g. `model.save('my_model.keras')` or `keras.saving.save_model(model, 'my_model.keras')`. \n"
     ]
    },
    {
     "name": "stdout",
     "output_type": "stream",
     "text": [
      "\n",
      "Epoch 80: val_loss improved from 0.00254 to 0.00252, saving model to 10Var-vn30-rnn.h5\n"
     ]
    },
    {
     "name": "stderr",
     "output_type": "stream",
     "text": [
      "WARNING:absl:You are saving your model as an HDF5 file via `model.save()` or `keras.saving.save_model(model)`. This file format is considered legacy. We recommend using instead the native Keras format, e.g. `model.save('my_model.keras')` or `keras.saving.save_model(model, 'my_model.keras')`. \n"
     ]
    },
    {
     "name": "stdout",
     "output_type": "stream",
     "text": [
      "\n",
      "Epoch 81: val_loss improved from 0.00252 to 0.00249, saving model to 10Var-vn30-rnn.h5\n"
     ]
    },
    {
     "name": "stderr",
     "output_type": "stream",
     "text": [
      "WARNING:absl:You are saving your model as an HDF5 file via `model.save()` or `keras.saving.save_model(model)`. This file format is considered legacy. We recommend using instead the native Keras format, e.g. `model.save('my_model.keras')` or `keras.saving.save_model(model, 'my_model.keras')`. \n"
     ]
    },
    {
     "name": "stdout",
     "output_type": "stream",
     "text": [
      "\n",
      "Epoch 82: val_loss improved from 0.00249 to 0.00245, saving model to 10Var-vn30-rnn.h5\n"
     ]
    },
    {
     "name": "stderr",
     "output_type": "stream",
     "text": [
      "WARNING:absl:You are saving your model as an HDF5 file via `model.save()` or `keras.saving.save_model(model)`. This file format is considered legacy. We recommend using instead the native Keras format, e.g. `model.save('my_model.keras')` or `keras.saving.save_model(model, 'my_model.keras')`. \n"
     ]
    },
    {
     "name": "stdout",
     "output_type": "stream",
     "text": [
      "\n",
      "Epoch 83: val_loss improved from 0.00245 to 0.00242, saving model to 10Var-vn30-rnn.h5\n"
     ]
    },
    {
     "name": "stderr",
     "output_type": "stream",
     "text": [
      "WARNING:absl:You are saving your model as an HDF5 file via `model.save()` or `keras.saving.save_model(model)`. This file format is considered legacy. We recommend using instead the native Keras format, e.g. `model.save('my_model.keras')` or `keras.saving.save_model(model, 'my_model.keras')`. \n"
     ]
    },
    {
     "name": "stdout",
     "output_type": "stream",
     "text": [
      "\n",
      "Epoch 84: val_loss improved from 0.00242 to 0.00240, saving model to 10Var-vn30-rnn.h5\n"
     ]
    },
    {
     "name": "stderr",
     "output_type": "stream",
     "text": [
      "WARNING:absl:You are saving your model as an HDF5 file via `model.save()` or `keras.saving.save_model(model)`. This file format is considered legacy. We recommend using instead the native Keras format, e.g. `model.save('my_model.keras')` or `keras.saving.save_model(model, 'my_model.keras')`. \n"
     ]
    },
    {
     "name": "stdout",
     "output_type": "stream",
     "text": [
      "\n",
      "Epoch 85: val_loss improved from 0.00240 to 0.00237, saving model to 10Var-vn30-rnn.h5\n"
     ]
    },
    {
     "name": "stderr",
     "output_type": "stream",
     "text": [
      "WARNING:absl:You are saving your model as an HDF5 file via `model.save()` or `keras.saving.save_model(model)`. This file format is considered legacy. We recommend using instead the native Keras format, e.g. `model.save('my_model.keras')` or `keras.saving.save_model(model, 'my_model.keras')`. \n"
     ]
    },
    {
     "name": "stdout",
     "output_type": "stream",
     "text": [
      "\n",
      "Epoch 86: val_loss improved from 0.00237 to 0.00236, saving model to 10Var-vn30-rnn.h5\n"
     ]
    },
    {
     "name": "stderr",
     "output_type": "stream",
     "text": [
      "WARNING:absl:You are saving your model as an HDF5 file via `model.save()` or `keras.saving.save_model(model)`. This file format is considered legacy. We recommend using instead the native Keras format, e.g. `model.save('my_model.keras')` or `keras.saving.save_model(model, 'my_model.keras')`. \n"
     ]
    },
    {
     "name": "stdout",
     "output_type": "stream",
     "text": [
      "\n",
      "Epoch 87: val_loss improved from 0.00236 to 0.00233, saving model to 10Var-vn30-rnn.h5\n"
     ]
    },
    {
     "name": "stderr",
     "output_type": "stream",
     "text": [
      "WARNING:absl:You are saving your model as an HDF5 file via `model.save()` or `keras.saving.save_model(model)`. This file format is considered legacy. We recommend using instead the native Keras format, e.g. `model.save('my_model.keras')` or `keras.saving.save_model(model, 'my_model.keras')`. \n"
     ]
    },
    {
     "name": "stdout",
     "output_type": "stream",
     "text": [
      "\n",
      "Epoch 88: val_loss improved from 0.00233 to 0.00232, saving model to 10Var-vn30-rnn.h5\n"
     ]
    },
    {
     "name": "stderr",
     "output_type": "stream",
     "text": [
      "WARNING:absl:You are saving your model as an HDF5 file via `model.save()` or `keras.saving.save_model(model)`. This file format is considered legacy. We recommend using instead the native Keras format, e.g. `model.save('my_model.keras')` or `keras.saving.save_model(model, 'my_model.keras')`. \n"
     ]
    },
    {
     "name": "stdout",
     "output_type": "stream",
     "text": [
      "\n",
      "Epoch 89: val_loss improved from 0.00232 to 0.00229, saving model to 10Var-vn30-rnn.h5\n"
     ]
    },
    {
     "name": "stderr",
     "output_type": "stream",
     "text": [
      "WARNING:absl:You are saving your model as an HDF5 file via `model.save()` or `keras.saving.save_model(model)`. This file format is considered legacy. We recommend using instead the native Keras format, e.g. `model.save('my_model.keras')` or `keras.saving.save_model(model, 'my_model.keras')`. \n"
     ]
    },
    {
     "name": "stdout",
     "output_type": "stream",
     "text": [
      "\n",
      "Epoch 90: val_loss improved from 0.00229 to 0.00227, saving model to 10Var-vn30-rnn.h5\n"
     ]
    },
    {
     "name": "stderr",
     "output_type": "stream",
     "text": [
      "WARNING:absl:You are saving your model as an HDF5 file via `model.save()` or `keras.saving.save_model(model)`. This file format is considered legacy. We recommend using instead the native Keras format, e.g. `model.save('my_model.keras')` or `keras.saving.save_model(model, 'my_model.keras')`. \n"
     ]
    },
    {
     "name": "stdout",
     "output_type": "stream",
     "text": [
      "\n",
      "Epoch 91: val_loss improved from 0.00227 to 0.00225, saving model to 10Var-vn30-rnn.h5\n"
     ]
    },
    {
     "name": "stderr",
     "output_type": "stream",
     "text": [
      "WARNING:absl:You are saving your model as an HDF5 file via `model.save()` or `keras.saving.save_model(model)`. This file format is considered legacy. We recommend using instead the native Keras format, e.g. `model.save('my_model.keras')` or `keras.saving.save_model(model, 'my_model.keras')`. \n"
     ]
    },
    {
     "name": "stdout",
     "output_type": "stream",
     "text": [
      "\n",
      "Epoch 92: val_loss improved from 0.00225 to 0.00223, saving model to 10Var-vn30-rnn.h5\n"
     ]
    },
    {
     "name": "stderr",
     "output_type": "stream",
     "text": [
      "WARNING:absl:You are saving your model as an HDF5 file via `model.save()` or `keras.saving.save_model(model)`. This file format is considered legacy. We recommend using instead the native Keras format, e.g. `model.save('my_model.keras')` or `keras.saving.save_model(model, 'my_model.keras')`. \n"
     ]
    },
    {
     "name": "stdout",
     "output_type": "stream",
     "text": [
      "\n",
      "Epoch 93: val_loss improved from 0.00223 to 0.00220, saving model to 10Var-vn30-rnn.h5\n"
     ]
    },
    {
     "name": "stderr",
     "output_type": "stream",
     "text": [
      "WARNING:absl:You are saving your model as an HDF5 file via `model.save()` or `keras.saving.save_model(model)`. This file format is considered legacy. We recommend using instead the native Keras format, e.g. `model.save('my_model.keras')` or `keras.saving.save_model(model, 'my_model.keras')`. \n"
     ]
    },
    {
     "name": "stdout",
     "output_type": "stream",
     "text": [
      "\n",
      "Epoch 94: val_loss improved from 0.00220 to 0.00219, saving model to 10Var-vn30-rnn.h5\n"
     ]
    },
    {
     "name": "stderr",
     "output_type": "stream",
     "text": [
      "WARNING:absl:You are saving your model as an HDF5 file via `model.save()` or `keras.saving.save_model(model)`. This file format is considered legacy. We recommend using instead the native Keras format, e.g. `model.save('my_model.keras')` or `keras.saving.save_model(model, 'my_model.keras')`. \n"
     ]
    },
    {
     "name": "stdout",
     "output_type": "stream",
     "text": [
      "\n",
      "Epoch 95: val_loss improved from 0.00219 to 0.00216, saving model to 10Var-vn30-rnn.h5\n"
     ]
    },
    {
     "name": "stderr",
     "output_type": "stream",
     "text": [
      "WARNING:absl:You are saving your model as an HDF5 file via `model.save()` or `keras.saving.save_model(model)`. This file format is considered legacy. We recommend using instead the native Keras format, e.g. `model.save('my_model.keras')` or `keras.saving.save_model(model, 'my_model.keras')`. \n"
     ]
    },
    {
     "name": "stdout",
     "output_type": "stream",
     "text": [
      "\n",
      "Epoch 96: val_loss improved from 0.00216 to 0.00214, saving model to 10Var-vn30-rnn.h5\n"
     ]
    },
    {
     "name": "stderr",
     "output_type": "stream",
     "text": [
      "WARNING:absl:You are saving your model as an HDF5 file via `model.save()` or `keras.saving.save_model(model)`. This file format is considered legacy. We recommend using instead the native Keras format, e.g. `model.save('my_model.keras')` or `keras.saving.save_model(model, 'my_model.keras')`. \n"
     ]
    },
    {
     "name": "stdout",
     "output_type": "stream",
     "text": [
      "\n",
      "Epoch 97: val_loss improved from 0.00214 to 0.00212, saving model to 10Var-vn30-rnn.h5\n"
     ]
    },
    {
     "name": "stderr",
     "output_type": "stream",
     "text": [
      "WARNING:absl:You are saving your model as an HDF5 file via `model.save()` or `keras.saving.save_model(model)`. This file format is considered legacy. We recommend using instead the native Keras format, e.g. `model.save('my_model.keras')` or `keras.saving.save_model(model, 'my_model.keras')`. \n"
     ]
    },
    {
     "name": "stdout",
     "output_type": "stream",
     "text": [
      "\n",
      "Epoch 98: val_loss improved from 0.00212 to 0.00208, saving model to 10Var-vn30-rnn.h5\n"
     ]
    },
    {
     "name": "stderr",
     "output_type": "stream",
     "text": [
      "WARNING:absl:You are saving your model as an HDF5 file via `model.save()` or `keras.saving.save_model(model)`. This file format is considered legacy. We recommend using instead the native Keras format, e.g. `model.save('my_model.keras')` or `keras.saving.save_model(model, 'my_model.keras')`. \n"
     ]
    },
    {
     "name": "stdout",
     "output_type": "stream",
     "text": [
      "\n",
      "Epoch 99: val_loss improved from 0.00208 to 0.00205, saving model to 10Var-vn30-rnn.h5\n"
     ]
    },
    {
     "name": "stderr",
     "output_type": "stream",
     "text": [
      "WARNING:absl:You are saving your model as an HDF5 file via `model.save()` or `keras.saving.save_model(model)`. This file format is considered legacy. We recommend using instead the native Keras format, e.g. `model.save('my_model.keras')` or `keras.saving.save_model(model, 'my_model.keras')`. \n"
     ]
    },
    {
     "name": "stdout",
     "output_type": "stream",
     "text": [
      "\n",
      "Epoch 100: val_loss improved from 0.00205 to 0.00202, saving model to 10Var-vn30-rnn.h5\n"
     ]
    },
    {
     "name": "stderr",
     "output_type": "stream",
     "text": [
      "WARNING:absl:You are saving your model as an HDF5 file via `model.save()` or `keras.saving.save_model(model)`. This file format is considered legacy. We recommend using instead the native Keras format, e.g. `model.save('my_model.keras')` or `keras.saving.save_model(model, 'my_model.keras')`. \n"
     ]
    },
    {
     "name": "stdout",
     "output_type": "stream",
     "text": [
      "\n",
      "Epoch 101: val_loss improved from 0.00202 to 0.00200, saving model to 10Var-vn30-rnn.h5\n"
     ]
    },
    {
     "name": "stderr",
     "output_type": "stream",
     "text": [
      "WARNING:absl:You are saving your model as an HDF5 file via `model.save()` or `keras.saving.save_model(model)`. This file format is considered legacy. We recommend using instead the native Keras format, e.g. `model.save('my_model.keras')` or `keras.saving.save_model(model, 'my_model.keras')`. \n"
     ]
    },
    {
     "name": "stdout",
     "output_type": "stream",
     "text": [
      "\n",
      "Epoch 102: val_loss improved from 0.00200 to 0.00196, saving model to 10Var-vn30-rnn.h5\n"
     ]
    },
    {
     "name": "stderr",
     "output_type": "stream",
     "text": [
      "WARNING:absl:You are saving your model as an HDF5 file via `model.save()` or `keras.saving.save_model(model)`. This file format is considered legacy. We recommend using instead the native Keras format, e.g. `model.save('my_model.keras')` or `keras.saving.save_model(model, 'my_model.keras')`. \n"
     ]
    },
    {
     "name": "stdout",
     "output_type": "stream",
     "text": [
      "\n",
      "Epoch 103: val_loss did not improve from 0.00196\n",
      "\n",
      "Epoch 104: val_loss improved from 0.00196 to 0.00191, saving model to 10Var-vn30-rnn.h5\n"
     ]
    },
    {
     "name": "stderr",
     "output_type": "stream",
     "text": [
      "WARNING:absl:You are saving your model as an HDF5 file via `model.save()` or `keras.saving.save_model(model)`. This file format is considered legacy. We recommend using instead the native Keras format, e.g. `model.save('my_model.keras')` or `keras.saving.save_model(model, 'my_model.keras')`. \n"
     ]
    },
    {
     "name": "stdout",
     "output_type": "stream",
     "text": [
      "\n",
      "Epoch 105: val_loss did not improve from 0.00191\n",
      "\n",
      "Epoch 106: val_loss improved from 0.00191 to 0.00187, saving model to 10Var-vn30-rnn.h5\n"
     ]
    },
    {
     "name": "stderr",
     "output_type": "stream",
     "text": [
      "WARNING:absl:You are saving your model as an HDF5 file via `model.save()` or `keras.saving.save_model(model)`. This file format is considered legacy. We recommend using instead the native Keras format, e.g. `model.save('my_model.keras')` or `keras.saving.save_model(model, 'my_model.keras')`. \n"
     ]
    },
    {
     "name": "stdout",
     "output_type": "stream",
     "text": [
      "\n",
      "Epoch 107: val_loss did not improve from 0.00187\n",
      "\n",
      "Epoch 108: val_loss improved from 0.00187 to 0.00183, saving model to 10Var-vn30-rnn.h5\n"
     ]
    },
    {
     "name": "stderr",
     "output_type": "stream",
     "text": [
      "WARNING:absl:You are saving your model as an HDF5 file via `model.save()` or `keras.saving.save_model(model)`. This file format is considered legacy. We recommend using instead the native Keras format, e.g. `model.save('my_model.keras')` or `keras.saving.save_model(model, 'my_model.keras')`. \n"
     ]
    },
    {
     "name": "stdout",
     "output_type": "stream",
     "text": [
      "\n",
      "Epoch 109: val_loss did not improve from 0.00183\n",
      "\n",
      "Epoch 110: val_loss improved from 0.00183 to 0.00179, saving model to 10Var-vn30-rnn.h5\n"
     ]
    },
    {
     "name": "stderr",
     "output_type": "stream",
     "text": [
      "WARNING:absl:You are saving your model as an HDF5 file via `model.save()` or `keras.saving.save_model(model)`. This file format is considered legacy. We recommend using instead the native Keras format, e.g. `model.save('my_model.keras')` or `keras.saving.save_model(model, 'my_model.keras')`. \n"
     ]
    },
    {
     "name": "stdout",
     "output_type": "stream",
     "text": [
      "\n",
      "Epoch 111: val_loss did not improve from 0.00179\n",
      "\n",
      "Epoch 112: val_loss improved from 0.00179 to 0.00175, saving model to 10Var-vn30-rnn.h5\n"
     ]
    },
    {
     "name": "stderr",
     "output_type": "stream",
     "text": [
      "WARNING:absl:You are saving your model as an HDF5 file via `model.save()` or `keras.saving.save_model(model)`. This file format is considered legacy. We recommend using instead the native Keras format, e.g. `model.save('my_model.keras')` or `keras.saving.save_model(model, 'my_model.keras')`. \n"
     ]
    },
    {
     "name": "stdout",
     "output_type": "stream",
     "text": [
      "\n",
      "Epoch 113: val_loss did not improve from 0.00175\n",
      "\n",
      "Epoch 114: val_loss improved from 0.00175 to 0.00172, saving model to 10Var-vn30-rnn.h5\n"
     ]
    },
    {
     "name": "stderr",
     "output_type": "stream",
     "text": [
      "WARNING:absl:You are saving your model as an HDF5 file via `model.save()` or `keras.saving.save_model(model)`. This file format is considered legacy. We recommend using instead the native Keras format, e.g. `model.save('my_model.keras')` or `keras.saving.save_model(model, 'my_model.keras')`. \n"
     ]
    },
    {
     "name": "stdout",
     "output_type": "stream",
     "text": [
      "\n",
      "Epoch 115: val_loss did not improve from 0.00172\n",
      "\n",
      "Epoch 116: val_loss improved from 0.00172 to 0.00169, saving model to 10Var-vn30-rnn.h5\n"
     ]
    },
    {
     "name": "stderr",
     "output_type": "stream",
     "text": [
      "WARNING:absl:You are saving your model as an HDF5 file via `model.save()` or `keras.saving.save_model(model)`. This file format is considered legacy. We recommend using instead the native Keras format, e.g. `model.save('my_model.keras')` or `keras.saving.save_model(model, 'my_model.keras')`. \n"
     ]
    },
    {
     "name": "stdout",
     "output_type": "stream",
     "text": [
      "\n",
      "Epoch 117: val_loss improved from 0.00169 to 0.00169, saving model to 10Var-vn30-rnn.h5\n"
     ]
    },
    {
     "name": "stderr",
     "output_type": "stream",
     "text": [
      "WARNING:absl:You are saving your model as an HDF5 file via `model.save()` or `keras.saving.save_model(model)`. This file format is considered legacy. We recommend using instead the native Keras format, e.g. `model.save('my_model.keras')` or `keras.saving.save_model(model, 'my_model.keras')`. \n"
     ]
    },
    {
     "name": "stdout",
     "output_type": "stream",
     "text": [
      "\n",
      "Epoch 118: val_loss improved from 0.00169 to 0.00166, saving model to 10Var-vn30-rnn.h5\n"
     ]
    },
    {
     "name": "stderr",
     "output_type": "stream",
     "text": [
      "WARNING:absl:You are saving your model as an HDF5 file via `model.save()` or `keras.saving.save_model(model)`. This file format is considered legacy. We recommend using instead the native Keras format, e.g. `model.save('my_model.keras')` or `keras.saving.save_model(model, 'my_model.keras')`. \n"
     ]
    },
    {
     "name": "stdout",
     "output_type": "stream",
     "text": [
      "\n",
      "Epoch 119: val_loss did not improve from 0.00166\n",
      "\n",
      "Epoch 120: val_loss improved from 0.00166 to 0.00163, saving model to 10Var-vn30-rnn.h5\n"
     ]
    },
    {
     "name": "stderr",
     "output_type": "stream",
     "text": [
      "WARNING:absl:You are saving your model as an HDF5 file via `model.save()` or `keras.saving.save_model(model)`. This file format is considered legacy. We recommend using instead the native Keras format, e.g. `model.save('my_model.keras')` or `keras.saving.save_model(model, 'my_model.keras')`. \n"
     ]
    },
    {
     "name": "stdout",
     "output_type": "stream",
     "text": [
      "\n",
      "Epoch 121: val_loss did not improve from 0.00163\n",
      "\n",
      "Epoch 122: val_loss improved from 0.00163 to 0.00162, saving model to 10Var-vn30-rnn.h5\n"
     ]
    },
    {
     "name": "stderr",
     "output_type": "stream",
     "text": [
      "WARNING:absl:You are saving your model as an HDF5 file via `model.save()` or `keras.saving.save_model(model)`. This file format is considered legacy. We recommend using instead the native Keras format, e.g. `model.save('my_model.keras')` or `keras.saving.save_model(model, 'my_model.keras')`. \n"
     ]
    },
    {
     "name": "stdout",
     "output_type": "stream",
     "text": [
      "\n",
      "Epoch 123: val_loss improved from 0.00162 to 0.00162, saving model to 10Var-vn30-rnn.h5\n"
     ]
    },
    {
     "name": "stderr",
     "output_type": "stream",
     "text": [
      "WARNING:absl:You are saving your model as an HDF5 file via `model.save()` or `keras.saving.save_model(model)`. This file format is considered legacy. We recommend using instead the native Keras format, e.g. `model.save('my_model.keras')` or `keras.saving.save_model(model, 'my_model.keras')`. \n"
     ]
    },
    {
     "name": "stdout",
     "output_type": "stream",
     "text": [
      "\n",
      "Epoch 124: val_loss improved from 0.00162 to 0.00160, saving model to 10Var-vn30-rnn.h5\n"
     ]
    },
    {
     "name": "stderr",
     "output_type": "stream",
     "text": [
      "WARNING:absl:You are saving your model as an HDF5 file via `model.save()` or `keras.saving.save_model(model)`. This file format is considered legacy. We recommend using instead the native Keras format, e.g. `model.save('my_model.keras')` or `keras.saving.save_model(model, 'my_model.keras')`. \n"
     ]
    },
    {
     "name": "stdout",
     "output_type": "stream",
     "text": [
      "\n",
      "Epoch 125: val_loss did not improve from 0.00160\n",
      "\n",
      "Epoch 126: val_loss improved from 0.00160 to 0.00158, saving model to 10Var-vn30-rnn.h5\n"
     ]
    },
    {
     "name": "stderr",
     "output_type": "stream",
     "text": [
      "WARNING:absl:You are saving your model as an HDF5 file via `model.save()` or `keras.saving.save_model(model)`. This file format is considered legacy. We recommend using instead the native Keras format, e.g. `model.save('my_model.keras')` or `keras.saving.save_model(model, 'my_model.keras')`. \n"
     ]
    },
    {
     "name": "stdout",
     "output_type": "stream",
     "text": [
      "\n",
      "Epoch 127: val_loss did not improve from 0.00158\n",
      "\n",
      "Epoch 128: val_loss improved from 0.00158 to 0.00157, saving model to 10Var-vn30-rnn.h5\n"
     ]
    },
    {
     "name": "stderr",
     "output_type": "stream",
     "text": [
      "WARNING:absl:You are saving your model as an HDF5 file via `model.save()` or `keras.saving.save_model(model)`. This file format is considered legacy. We recommend using instead the native Keras format, e.g. `model.save('my_model.keras')` or `keras.saving.save_model(model, 'my_model.keras')`. \n"
     ]
    },
    {
     "name": "stdout",
     "output_type": "stream",
     "text": [
      "\n",
      "Epoch 129: val_loss improved from 0.00157 to 0.00156, saving model to 10Var-vn30-rnn.h5\n"
     ]
    },
    {
     "name": "stderr",
     "output_type": "stream",
     "text": [
      "WARNING:absl:You are saving your model as an HDF5 file via `model.save()` or `keras.saving.save_model(model)`. This file format is considered legacy. We recommend using instead the native Keras format, e.g. `model.save('my_model.keras')` or `keras.saving.save_model(model, 'my_model.keras')`. \n"
     ]
    },
    {
     "name": "stdout",
     "output_type": "stream",
     "text": [
      "\n",
      "Epoch 130: val_loss improved from 0.00156 to 0.00154, saving model to 10Var-vn30-rnn.h5\n"
     ]
    },
    {
     "name": "stderr",
     "output_type": "stream",
     "text": [
      "WARNING:absl:You are saving your model as an HDF5 file via `model.save()` or `keras.saving.save_model(model)`. This file format is considered legacy. We recommend using instead the native Keras format, e.g. `model.save('my_model.keras')` or `keras.saving.save_model(model, 'my_model.keras')`. \n"
     ]
    },
    {
     "name": "stdout",
     "output_type": "stream",
     "text": [
      "\n",
      "Epoch 131: val_loss improved from 0.00154 to 0.00153, saving model to 10Var-vn30-rnn.h5\n"
     ]
    },
    {
     "name": "stderr",
     "output_type": "stream",
     "text": [
      "WARNING:absl:You are saving your model as an HDF5 file via `model.save()` or `keras.saving.save_model(model)`. This file format is considered legacy. We recommend using instead the native Keras format, e.g. `model.save('my_model.keras')` or `keras.saving.save_model(model, 'my_model.keras')`. \n"
     ]
    },
    {
     "name": "stdout",
     "output_type": "stream",
     "text": [
      "\n",
      "Epoch 132: val_loss improved from 0.00153 to 0.00150, saving model to 10Var-vn30-rnn.h5\n"
     ]
    },
    {
     "name": "stderr",
     "output_type": "stream",
     "text": [
      "WARNING:absl:You are saving your model as an HDF5 file via `model.save()` or `keras.saving.save_model(model)`. This file format is considered legacy. We recommend using instead the native Keras format, e.g. `model.save('my_model.keras')` or `keras.saving.save_model(model, 'my_model.keras')`. \n"
     ]
    },
    {
     "name": "stdout",
     "output_type": "stream",
     "text": [
      "\n",
      "Epoch 133: val_loss improved from 0.00150 to 0.00147, saving model to 10Var-vn30-rnn.h5\n"
     ]
    },
    {
     "name": "stderr",
     "output_type": "stream",
     "text": [
      "WARNING:absl:You are saving your model as an HDF5 file via `model.save()` or `keras.saving.save_model(model)`. This file format is considered legacy. We recommend using instead the native Keras format, e.g. `model.save('my_model.keras')` or `keras.saving.save_model(model, 'my_model.keras')`. \n"
     ]
    },
    {
     "name": "stdout",
     "output_type": "stream",
     "text": [
      "\n",
      "Epoch 134: val_loss improved from 0.00147 to 0.00146, saving model to 10Var-vn30-rnn.h5\n"
     ]
    },
    {
     "name": "stderr",
     "output_type": "stream",
     "text": [
      "WARNING:absl:You are saving your model as an HDF5 file via `model.save()` or `keras.saving.save_model(model)`. This file format is considered legacy. We recommend using instead the native Keras format, e.g. `model.save('my_model.keras')` or `keras.saving.save_model(model, 'my_model.keras')`. \n"
     ]
    },
    {
     "name": "stdout",
     "output_type": "stream",
     "text": [
      "\n",
      "Epoch 135: val_loss improved from 0.00146 to 0.00143, saving model to 10Var-vn30-rnn.h5\n"
     ]
    },
    {
     "name": "stderr",
     "output_type": "stream",
     "text": [
      "WARNING:absl:You are saving your model as an HDF5 file via `model.save()` or `keras.saving.save_model(model)`. This file format is considered legacy. We recommend using instead the native Keras format, e.g. `model.save('my_model.keras')` or `keras.saving.save_model(model, 'my_model.keras')`. \n"
     ]
    },
    {
     "name": "stdout",
     "output_type": "stream",
     "text": [
      "\n",
      "Epoch 136: val_loss improved from 0.00143 to 0.00141, saving model to 10Var-vn30-rnn.h5\n"
     ]
    },
    {
     "name": "stderr",
     "output_type": "stream",
     "text": [
      "WARNING:absl:You are saving your model as an HDF5 file via `model.save()` or `keras.saving.save_model(model)`. This file format is considered legacy. We recommend using instead the native Keras format, e.g. `model.save('my_model.keras')` or `keras.saving.save_model(model, 'my_model.keras')`. \n"
     ]
    },
    {
     "name": "stdout",
     "output_type": "stream",
     "text": [
      "\n",
      "Epoch 137: val_loss improved from 0.00141 to 0.00137, saving model to 10Var-vn30-rnn.h5\n"
     ]
    },
    {
     "name": "stderr",
     "output_type": "stream",
     "text": [
      "WARNING:absl:You are saving your model as an HDF5 file via `model.save()` or `keras.saving.save_model(model)`. This file format is considered legacy. We recommend using instead the native Keras format, e.g. `model.save('my_model.keras')` or `keras.saving.save_model(model, 'my_model.keras')`. \n"
     ]
    },
    {
     "name": "stdout",
     "output_type": "stream",
     "text": [
      "\n",
      "Epoch 138: val_loss improved from 0.00137 to 0.00135, saving model to 10Var-vn30-rnn.h5\n"
     ]
    },
    {
     "name": "stderr",
     "output_type": "stream",
     "text": [
      "WARNING:absl:You are saving your model as an HDF5 file via `model.save()` or `keras.saving.save_model(model)`. This file format is considered legacy. We recommend using instead the native Keras format, e.g. `model.save('my_model.keras')` or `keras.saving.save_model(model, 'my_model.keras')`. \n"
     ]
    },
    {
     "name": "stdout",
     "output_type": "stream",
     "text": [
      "\n",
      "Epoch 139: val_loss improved from 0.00135 to 0.00134, saving model to 10Var-vn30-rnn.h5\n"
     ]
    },
    {
     "name": "stderr",
     "output_type": "stream",
     "text": [
      "WARNING:absl:You are saving your model as an HDF5 file via `model.save()` or `keras.saving.save_model(model)`. This file format is considered legacy. We recommend using instead the native Keras format, e.g. `model.save('my_model.keras')` or `keras.saving.save_model(model, 'my_model.keras')`. \n"
     ]
    },
    {
     "name": "stdout",
     "output_type": "stream",
     "text": [
      "\n",
      "Epoch 140: val_loss improved from 0.00134 to 0.00130, saving model to 10Var-vn30-rnn.h5\n"
     ]
    },
    {
     "name": "stderr",
     "output_type": "stream",
     "text": [
      "WARNING:absl:You are saving your model as an HDF5 file via `model.save()` or `keras.saving.save_model(model)`. This file format is considered legacy. We recommend using instead the native Keras format, e.g. `model.save('my_model.keras')` or `keras.saving.save_model(model, 'my_model.keras')`. \n"
     ]
    },
    {
     "name": "stdout",
     "output_type": "stream",
     "text": [
      "\n",
      "Epoch 141: val_loss improved from 0.00130 to 0.00129, saving model to 10Var-vn30-rnn.h5\n"
     ]
    },
    {
     "name": "stderr",
     "output_type": "stream",
     "text": [
      "WARNING:absl:You are saving your model as an HDF5 file via `model.save()` or `keras.saving.save_model(model)`. This file format is considered legacy. We recommend using instead the native Keras format, e.g. `model.save('my_model.keras')` or `keras.saving.save_model(model, 'my_model.keras')`. \n"
     ]
    },
    {
     "name": "stdout",
     "output_type": "stream",
     "text": [
      "\n",
      "Epoch 142: val_loss improved from 0.00129 to 0.00126, saving model to 10Var-vn30-rnn.h5\n"
     ]
    },
    {
     "name": "stderr",
     "output_type": "stream",
     "text": [
      "WARNING:absl:You are saving your model as an HDF5 file via `model.save()` or `keras.saving.save_model(model)`. This file format is considered legacy. We recommend using instead the native Keras format, e.g. `model.save('my_model.keras')` or `keras.saving.save_model(model, 'my_model.keras')`. \n"
     ]
    },
    {
     "name": "stdout",
     "output_type": "stream",
     "text": [
      "\n",
      "Epoch 143: val_loss improved from 0.00126 to 0.00124, saving model to 10Var-vn30-rnn.h5\n"
     ]
    },
    {
     "name": "stderr",
     "output_type": "stream",
     "text": [
      "WARNING:absl:You are saving your model as an HDF5 file via `model.save()` or `keras.saving.save_model(model)`. This file format is considered legacy. We recommend using instead the native Keras format, e.g. `model.save('my_model.keras')` or `keras.saving.save_model(model, 'my_model.keras')`. \n"
     ]
    },
    {
     "name": "stdout",
     "output_type": "stream",
     "text": [
      "\n",
      "Epoch 144: val_loss improved from 0.00124 to 0.00122, saving model to 10Var-vn30-rnn.h5\n"
     ]
    },
    {
     "name": "stderr",
     "output_type": "stream",
     "text": [
      "WARNING:absl:You are saving your model as an HDF5 file via `model.save()` or `keras.saving.save_model(model)`. This file format is considered legacy. We recommend using instead the native Keras format, e.g. `model.save('my_model.keras')` or `keras.saving.save_model(model, 'my_model.keras')`. \n"
     ]
    },
    {
     "name": "stdout",
     "output_type": "stream",
     "text": [
      "\n",
      "Epoch 145: val_loss improved from 0.00122 to 0.00119, saving model to 10Var-vn30-rnn.h5\n"
     ]
    },
    {
     "name": "stderr",
     "output_type": "stream",
     "text": [
      "WARNING:absl:You are saving your model as an HDF5 file via `model.save()` or `keras.saving.save_model(model)`. This file format is considered legacy. We recommend using instead the native Keras format, e.g. `model.save('my_model.keras')` or `keras.saving.save_model(model, 'my_model.keras')`. \n"
     ]
    },
    {
     "name": "stdout",
     "output_type": "stream",
     "text": [
      "\n",
      "Epoch 146: val_loss improved from 0.00119 to 0.00118, saving model to 10Var-vn30-rnn.h5\n"
     ]
    },
    {
     "name": "stderr",
     "output_type": "stream",
     "text": [
      "WARNING:absl:You are saving your model as an HDF5 file via `model.save()` or `keras.saving.save_model(model)`. This file format is considered legacy. We recommend using instead the native Keras format, e.g. `model.save('my_model.keras')` or `keras.saving.save_model(model, 'my_model.keras')`. \n"
     ]
    },
    {
     "name": "stdout",
     "output_type": "stream",
     "text": [
      "\n",
      "Epoch 147: val_loss improved from 0.00118 to 0.00118, saving model to 10Var-vn30-rnn.h5\n"
     ]
    },
    {
     "name": "stderr",
     "output_type": "stream",
     "text": [
      "WARNING:absl:You are saving your model as an HDF5 file via `model.save()` or `keras.saving.save_model(model)`. This file format is considered legacy. We recommend using instead the native Keras format, e.g. `model.save('my_model.keras')` or `keras.saving.save_model(model, 'my_model.keras')`. \n"
     ]
    },
    {
     "name": "stdout",
     "output_type": "stream",
     "text": [
      "\n",
      "Epoch 148: val_loss did not improve from 0.00118\n",
      "\n",
      "Epoch 149: val_loss did not improve from 0.00118\n",
      "\n",
      "Epoch 150: val_loss did not improve from 0.00118\n",
      "\n",
      "Epoch 151: val_loss did not improve from 0.00118\n",
      "\n",
      "Epoch 152: val_loss did not improve from 0.00118\n",
      "\n",
      "Epoch 153: val_loss did not improve from 0.00118\n",
      "\n",
      "Epoch 154: val_loss did not improve from 0.00118\n",
      "\n",
      "Epoch 155: val_loss improved from 0.00118 to 0.00104, saving model to 10Var-vn30-rnn.h5\n"
     ]
    },
    {
     "name": "stderr",
     "output_type": "stream",
     "text": [
      "WARNING:absl:You are saving your model as an HDF5 file via `model.save()` or `keras.saving.save_model(model)`. This file format is considered legacy. We recommend using instead the native Keras format, e.g. `model.save('my_model.keras')` or `keras.saving.save_model(model, 'my_model.keras')`. \n"
     ]
    },
    {
     "name": "stdout",
     "output_type": "stream",
     "text": [
      "\n",
      "Epoch 156: val_loss did not improve from 0.00104\n",
      "\n",
      "Epoch 157: val_loss did not improve from 0.00104\n",
      "\n",
      "Epoch 158: val_loss did not improve from 0.00104\n",
      "\n",
      "Epoch 159: val_loss did not improve from 0.00104\n",
      "\n",
      "Epoch 160: val_loss did not improve from 0.00104\n",
      "\n",
      "Epoch 161: val_loss did not improve from 0.00104\n",
      "\n",
      "Epoch 162: val_loss did not improve from 0.00104\n",
      "\n",
      "Epoch 163: val_loss did not improve from 0.00104\n",
      "\n",
      "Epoch 164: val_loss did not improve from 0.00104\n",
      "\n",
      "Epoch 165: val_loss did not improve from 0.00104\n",
      "\n",
      "Epoch 166: val_loss did not improve from 0.00104\n",
      "\n",
      "Epoch 167: val_loss did not improve from 0.00104\n",
      "\n",
      "Epoch 168: val_loss did not improve from 0.00104\n",
      "\n",
      "Epoch 169: val_loss did not improve from 0.00104\n",
      "\n",
      "Epoch 170: val_loss did not improve from 0.00104\n",
      "\n",
      "Epoch 171: val_loss did not improve from 0.00104\n",
      "\n",
      "Epoch 172: val_loss did not improve from 0.00104\n",
      "\n",
      "Epoch 173: val_loss did not improve from 0.00104\n",
      "\n",
      "Epoch 174: val_loss did not improve from 0.00104\n",
      "\n",
      "Epoch 175: val_loss did not improve from 0.00104\n",
      "\n",
      "Epoch 176: val_loss did not improve from 0.00104\n",
      "\n",
      "Epoch 177: val_loss did not improve from 0.00104\n",
      "\n",
      "Epoch 178: val_loss did not improve from 0.00104\n",
      "\n",
      "Epoch 179: val_loss did not improve from 0.00104\n",
      "\n",
      "Epoch 180: val_loss did not improve from 0.00104\n",
      "\n",
      "Epoch 181: val_loss did not improve from 0.00104\n",
      "\n",
      "Epoch 182: val_loss did not improve from 0.00104\n",
      "\n",
      "Epoch 183: val_loss did not improve from 0.00104\n",
      "\n",
      "Epoch 184: val_loss did not improve from 0.00104\n",
      "\n",
      "Epoch 185: val_loss did not improve from 0.00104\n",
      "\n",
      "Epoch 186: val_loss did not improve from 0.00104\n",
      "\n",
      "Epoch 187: val_loss did not improve from 0.00104\n",
      "\n",
      "Epoch 188: val_loss did not improve from 0.00104\n",
      "\n",
      "Epoch 189: val_loss did not improve from 0.00104\n",
      "\n",
      "Epoch 190: val_loss did not improve from 0.00104\n",
      "\n",
      "Epoch 191: val_loss did not improve from 0.00104\n",
      "\n",
      "Epoch 192: val_loss did not improve from 0.00104\n",
      "\n",
      "Epoch 193: val_loss did not improve from 0.00104\n",
      "\n",
      "Epoch 194: val_loss did not improve from 0.00104\n",
      "\n",
      "Epoch 195: val_loss did not improve from 0.00104\n",
      "\n",
      "Epoch 196: val_loss did not improve from 0.00104\n",
      "\n",
      "Epoch 197: val_loss did not improve from 0.00104\n",
      "\n",
      "Epoch 198: val_loss improved from 0.00104 to 0.00092, saving model to 10Var-vn30-rnn.h5\n"
     ]
    },
    {
     "name": "stderr",
     "output_type": "stream",
     "text": [
      "WARNING:absl:You are saving your model as an HDF5 file via `model.save()` or `keras.saving.save_model(model)`. This file format is considered legacy. We recommend using instead the native Keras format, e.g. `model.save('my_model.keras')` or `keras.saving.save_model(model, 'my_model.keras')`. \n"
     ]
    },
    {
     "name": "stdout",
     "output_type": "stream",
     "text": [
      "\n",
      "Epoch 199: val_loss did not improve from 0.00092\n",
      "\n",
      "Epoch 200: val_loss did not improve from 0.00092\n",
      "\n",
      "Epoch 201: val_loss did not improve from 0.00092\n",
      "\n",
      "Epoch 202: val_loss did not improve from 0.00092\n",
      "\n",
      "Epoch 203: val_loss did not improve from 0.00092\n",
      "\n",
      "Epoch 204: val_loss did not improve from 0.00092\n",
      "\n",
      "Epoch 205: val_loss did not improve from 0.00092\n",
      "\n",
      "Epoch 206: val_loss did not improve from 0.00092\n",
      "\n",
      "Epoch 207: val_loss did not improve from 0.00092\n",
      "\n",
      "Epoch 208: val_loss did not improve from 0.00092\n",
      "\n",
      "Epoch 209: val_loss did not improve from 0.00092\n",
      "\n",
      "Epoch 210: val_loss did not improve from 0.00092\n",
      "\n",
      "Epoch 211: val_loss did not improve from 0.00092\n",
      "\n",
      "Epoch 212: val_loss did not improve from 0.00092\n",
      "\n",
      "Epoch 213: val_loss did not improve from 0.00092\n",
      "\n",
      "Epoch 214: val_loss did not improve from 0.00092\n",
      "\n",
      "Epoch 215: val_loss did not improve from 0.00092\n",
      "\n",
      "Epoch 216: val_loss did not improve from 0.00092\n",
      "\n",
      "Epoch 217: val_loss did not improve from 0.00092\n",
      "\n",
      "Epoch 218: val_loss did not improve from 0.00092\n",
      "\n",
      "Epoch 219: val_loss did not improve from 0.00092\n",
      "\n",
      "Epoch 220: val_loss did not improve from 0.00092\n",
      "\n",
      "Epoch 221: val_loss did not improve from 0.00092\n",
      "\n",
      "Epoch 222: val_loss did not improve from 0.00092\n",
      "\n",
      "Epoch 223: val_loss did not improve from 0.00092\n",
      "\n",
      "Epoch 224: val_loss did not improve from 0.00092\n",
      "\n",
      "Epoch 225: val_loss did not improve from 0.00092\n",
      "\n",
      "Epoch 226: val_loss did not improve from 0.00092\n",
      "\n",
      "Epoch 227: val_loss did not improve from 0.00092\n",
      "\n",
      "Epoch 228: val_loss did not improve from 0.00092\n",
      "\n",
      "Epoch 229: val_loss did not improve from 0.00092\n",
      "\n",
      "Epoch 230: val_loss did not improve from 0.00092\n",
      "\n",
      "Epoch 231: val_loss did not improve from 0.00092\n",
      "\n",
      "Epoch 232: val_loss did not improve from 0.00092\n",
      "\n",
      "Epoch 233: val_loss did not improve from 0.00092\n",
      "\n",
      "Epoch 234: val_loss did not improve from 0.00092\n",
      "\n",
      "Epoch 235: val_loss did not improve from 0.00092\n",
      "\n",
      "Epoch 236: val_loss did not improve from 0.00092\n",
      "\n",
      "Epoch 237: val_loss did not improve from 0.00092\n",
      "\n",
      "Epoch 238: val_loss did not improve from 0.00092\n",
      "\n",
      "Epoch 239: val_loss did not improve from 0.00092\n",
      "\n",
      "Epoch 240: val_loss did not improve from 0.00092\n",
      "\n",
      "Epoch 241: val_loss did not improve from 0.00092\n",
      "\n",
      "Epoch 242: val_loss did not improve from 0.00092\n",
      "\n",
      "Epoch 243: val_loss did not improve from 0.00092\n",
      "\n",
      "Epoch 244: val_loss did not improve from 0.00092\n",
      "\n",
      "Epoch 245: val_loss did not improve from 0.00092\n",
      "\n",
      "Epoch 246: val_loss did not improve from 0.00092\n",
      "\n",
      "Epoch 247: val_loss did not improve from 0.00092\n",
      "\n",
      "Epoch 248: val_loss did not improve from 0.00092\n",
      "\n",
      "Epoch 249: val_loss did not improve from 0.00092\n",
      "\n",
      "Epoch 250: val_loss did not improve from 0.00092\n",
      "\u001b[1m18/18\u001b[0m \u001b[32m━━━━━━━━━━━━━━━━━━━━\u001b[0m\u001b[37m\u001b[0m \u001b[1m1s\u001b[0m 32ms/step\n",
      "   timesteps        hl      lr  batch_size  num_epochs       MSE     RMSE  \\\n",
      "0         50  [40, 35]  0.0001          64         250  0.000737  0.02714   \n",
      "\n",
      "       MAPE        R²  \n",
      "0  0.020182  0.944431  \n",
      "Best parameters: {'timesteps': 50, 'hl': [40, 35], 'lr': 0.0001, 'batch_size': 64, 'num_epochs': 250}\n",
      "Best RMSE score: 0.027140470245666452\n"
     ]
    }
   ],
   "source": [
    "best_params, best_score, results_df = grid_search_rnn(train, val, test, param_grid)\n",
    "\n",
    "print(results_df)\n",
    "print(\"Best parameters:\", best_params)\n",
    "print(\"Best RMSE score:\", best_score)\n"
   ]
  },
  {
   "cell_type": "markdown",
   "metadata": {},
   "source": [
    "### Bước 5: Huấn luyện mô hình với bộ tham số tối ưu"
   ]
  },
  {
   "cell_type": "code",
   "execution_count": 39,
   "metadata": {},
   "outputs": [
    {
     "name": "stderr",
     "output_type": "stream",
     "text": [
      "c:\\Users\\84368\\AppData\\Local\\Programs\\Python\\Python311\\Lib\\site-packages\\keras\\src\\layers\\rnn\\rnn.py:200: UserWarning: Do not pass an `input_shape`/`input_dim` argument to a layer. When using Sequential models, prefer using an `Input(shape)` object as the first layer in the model instead.\n",
      "  super().__init__(**kwargs)\n"
     ]
    },
    {
     "name": "stdout",
     "output_type": "stream",
     "text": [
      "\n",
      "Epoch 1: val_loss did not improve from 0.00092\n",
      "\n",
      "Epoch 2: val_loss did not improve from 0.00092\n",
      "\n",
      "Epoch 3: val_loss did not improve from 0.00092\n",
      "\n",
      "Epoch 4: val_loss did not improve from 0.00092\n",
      "\n",
      "Epoch 5: val_loss did not improve from 0.00092\n",
      "\n",
      "Epoch 6: val_loss did not improve from 0.00092\n",
      "\n",
      "Epoch 7: val_loss did not improve from 0.00092\n",
      "\n",
      "Epoch 8: val_loss did not improve from 0.00092\n",
      "\n",
      "Epoch 9: val_loss did not improve from 0.00092\n",
      "\n",
      "Epoch 10: val_loss did not improve from 0.00092\n",
      "\n",
      "Epoch 11: val_loss did not improve from 0.00092\n",
      "\n",
      "Epoch 12: val_loss did not improve from 0.00092\n",
      "\n",
      "Epoch 13: val_loss did not improve from 0.00092\n",
      "\n",
      "Epoch 14: val_loss did not improve from 0.00092\n",
      "\n",
      "Epoch 15: val_loss did not improve from 0.00092\n",
      "\n",
      "Epoch 16: val_loss did not improve from 0.00092\n",
      "\n",
      "Epoch 17: val_loss did not improve from 0.00092\n",
      "\n",
      "Epoch 18: val_loss did not improve from 0.00092\n",
      "\n",
      "Epoch 19: val_loss did not improve from 0.00092\n",
      "\n",
      "Epoch 20: val_loss did not improve from 0.00092\n",
      "\n",
      "Epoch 21: val_loss did not improve from 0.00092\n",
      "\n",
      "Epoch 22: val_loss did not improve from 0.00092\n",
      "\n",
      "Epoch 23: val_loss did not improve from 0.00092\n",
      "\n",
      "Epoch 24: val_loss did not improve from 0.00092\n",
      "\n",
      "Epoch 25: val_loss did not improve from 0.00092\n",
      "\n",
      "Epoch 26: val_loss did not improve from 0.00092\n",
      "\n",
      "Epoch 27: val_loss did not improve from 0.00092\n",
      "\n",
      "Epoch 28: val_loss did not improve from 0.00092\n",
      "\n",
      "Epoch 29: val_loss did not improve from 0.00092\n",
      "\n",
      "Epoch 30: val_loss did not improve from 0.00092\n",
      "\n",
      "Epoch 31: val_loss did not improve from 0.00092\n",
      "\n",
      "Epoch 32: val_loss did not improve from 0.00092\n",
      "\n",
      "Epoch 33: val_loss did not improve from 0.00092\n",
      "\n",
      "Epoch 34: val_loss did not improve from 0.00092\n",
      "\n",
      "Epoch 35: val_loss did not improve from 0.00092\n",
      "\n",
      "Epoch 36: val_loss did not improve from 0.00092\n",
      "\n",
      "Epoch 37: val_loss did not improve from 0.00092\n",
      "\n",
      "Epoch 38: val_loss did not improve from 0.00092\n",
      "\n",
      "Epoch 39: val_loss did not improve from 0.00092\n",
      "\n",
      "Epoch 40: val_loss did not improve from 0.00092\n",
      "\n",
      "Epoch 41: val_loss did not improve from 0.00092\n",
      "\n",
      "Epoch 42: val_loss did not improve from 0.00092\n",
      "\n",
      "Epoch 43: val_loss did not improve from 0.00092\n",
      "\n",
      "Epoch 44: val_loss did not improve from 0.00092\n",
      "\n",
      "Epoch 45: val_loss did not improve from 0.00092\n",
      "\n",
      "Epoch 46: val_loss did not improve from 0.00092\n",
      "\n",
      "Epoch 47: val_loss did not improve from 0.00092\n",
      "\n",
      "Epoch 48: val_loss did not improve from 0.00092\n",
      "\n",
      "Epoch 49: val_loss did not improve from 0.00092\n",
      "\n",
      "Epoch 50: val_loss did not improve from 0.00092\n",
      "\n",
      "Epoch 51: val_loss did not improve from 0.00092\n",
      "\n",
      "Epoch 52: val_loss did not improve from 0.00092\n",
      "\n",
      "Epoch 53: val_loss did not improve from 0.00092\n",
      "\n",
      "Epoch 54: val_loss did not improve from 0.00092\n",
      "\n",
      "Epoch 55: val_loss did not improve from 0.00092\n",
      "\n",
      "Epoch 56: val_loss did not improve from 0.00092\n",
      "\n",
      "Epoch 57: val_loss did not improve from 0.00092\n",
      "\n",
      "Epoch 58: val_loss did not improve from 0.00092\n",
      "\n",
      "Epoch 59: val_loss did not improve from 0.00092\n",
      "\n",
      "Epoch 60: val_loss did not improve from 0.00092\n",
      "\n",
      "Epoch 61: val_loss did not improve from 0.00092\n",
      "\n",
      "Epoch 62: val_loss did not improve from 0.00092\n",
      "\n",
      "Epoch 63: val_loss did not improve from 0.00092\n",
      "\n",
      "Epoch 64: val_loss did not improve from 0.00092\n",
      "\n",
      "Epoch 65: val_loss did not improve from 0.00092\n",
      "\n",
      "Epoch 66: val_loss did not improve from 0.00092\n",
      "\n",
      "Epoch 67: val_loss did not improve from 0.00092\n",
      "\n",
      "Epoch 68: val_loss did not improve from 0.00092\n",
      "\n",
      "Epoch 69: val_loss did not improve from 0.00092\n",
      "\n",
      "Epoch 70: val_loss did not improve from 0.00092\n",
      "\n",
      "Epoch 71: val_loss did not improve from 0.00092\n",
      "\n",
      "Epoch 72: val_loss did not improve from 0.00092\n",
      "\n",
      "Epoch 73: val_loss did not improve from 0.00092\n",
      "\n",
      "Epoch 74: val_loss did not improve from 0.00092\n",
      "\n",
      "Epoch 75: val_loss did not improve from 0.00092\n",
      "\n",
      "Epoch 76: val_loss did not improve from 0.00092\n",
      "\n",
      "Epoch 77: val_loss did not improve from 0.00092\n",
      "\n",
      "Epoch 78: val_loss did not improve from 0.00092\n",
      "\n",
      "Epoch 79: val_loss did not improve from 0.00092\n",
      "\n",
      "Epoch 80: val_loss did not improve from 0.00092\n",
      "\n",
      "Epoch 81: val_loss did not improve from 0.00092\n",
      "\n",
      "Epoch 82: val_loss did not improve from 0.00092\n",
      "\n",
      "Epoch 83: val_loss did not improve from 0.00092\n",
      "\n",
      "Epoch 84: val_loss did not improve from 0.00092\n",
      "\n",
      "Epoch 85: val_loss did not improve from 0.00092\n",
      "\n",
      "Epoch 86: val_loss did not improve from 0.00092\n",
      "\n",
      "Epoch 87: val_loss did not improve from 0.00092\n",
      "\n",
      "Epoch 88: val_loss did not improve from 0.00092\n",
      "\n",
      "Epoch 89: val_loss did not improve from 0.00092\n",
      "\n",
      "Epoch 90: val_loss did not improve from 0.00092\n",
      "\n",
      "Epoch 91: val_loss did not improve from 0.00092\n",
      "\n",
      "Epoch 92: val_loss did not improve from 0.00092\n",
      "\n",
      "Epoch 93: val_loss did not improve from 0.00092\n",
      "\n",
      "Epoch 94: val_loss did not improve from 0.00092\n",
      "\n",
      "Epoch 95: val_loss did not improve from 0.00092\n",
      "\n",
      "Epoch 96: val_loss did not improve from 0.00092\n",
      "\n",
      "Epoch 97: val_loss did not improve from 0.00092\n",
      "\n",
      "Epoch 98: val_loss did not improve from 0.00092\n",
      "\n",
      "Epoch 99: val_loss did not improve from 0.00092\n",
      "\n",
      "Epoch 100: val_loss did not improve from 0.00092\n",
      "\n",
      "Epoch 101: val_loss did not improve from 0.00092\n",
      "\n",
      "Epoch 102: val_loss did not improve from 0.00092\n",
      "\n",
      "Epoch 103: val_loss did not improve from 0.00092\n",
      "\n",
      "Epoch 104: val_loss did not improve from 0.00092\n",
      "\n",
      "Epoch 105: val_loss did not improve from 0.00092\n",
      "\n",
      "Epoch 106: val_loss did not improve from 0.00092\n",
      "\n",
      "Epoch 107: val_loss did not improve from 0.00092\n",
      "\n",
      "Epoch 108: val_loss did not improve from 0.00092\n",
      "\n",
      "Epoch 109: val_loss did not improve from 0.00092\n",
      "\n",
      "Epoch 110: val_loss did not improve from 0.00092\n",
      "\n",
      "Epoch 111: val_loss did not improve from 0.00092\n",
      "\n",
      "Epoch 112: val_loss did not improve from 0.00092\n",
      "\n",
      "Epoch 113: val_loss did not improve from 0.00092\n",
      "\n",
      "Epoch 114: val_loss did not improve from 0.00092\n",
      "\n",
      "Epoch 115: val_loss did not improve from 0.00092\n",
      "\n",
      "Epoch 116: val_loss did not improve from 0.00092\n",
      "\n",
      "Epoch 117: val_loss did not improve from 0.00092\n",
      "\n",
      "Epoch 118: val_loss did not improve from 0.00092\n",
      "\n",
      "Epoch 119: val_loss did not improve from 0.00092\n",
      "\n",
      "Epoch 120: val_loss did not improve from 0.00092\n",
      "\n",
      "Epoch 121: val_loss did not improve from 0.00092\n",
      "\n",
      "Epoch 122: val_loss did not improve from 0.00092\n",
      "\n",
      "Epoch 123: val_loss did not improve from 0.00092\n",
      "\n",
      "Epoch 124: val_loss did not improve from 0.00092\n",
      "\n",
      "Epoch 125: val_loss did not improve from 0.00092\n",
      "\n",
      "Epoch 126: val_loss did not improve from 0.00092\n",
      "\n",
      "Epoch 127: val_loss did not improve from 0.00092\n",
      "\n",
      "Epoch 128: val_loss did not improve from 0.00092\n",
      "\n",
      "Epoch 129: val_loss did not improve from 0.00092\n",
      "\n",
      "Epoch 130: val_loss did not improve from 0.00092\n",
      "\n",
      "Epoch 131: val_loss did not improve from 0.00092\n",
      "\n",
      "Epoch 132: val_loss did not improve from 0.00092\n",
      "\n",
      "Epoch 133: val_loss did not improve from 0.00092\n",
      "\n",
      "Epoch 134: val_loss did not improve from 0.00092\n",
      "\n",
      "Epoch 135: val_loss did not improve from 0.00092\n",
      "\n",
      "Epoch 136: val_loss did not improve from 0.00092\n",
      "\n",
      "Epoch 137: val_loss did not improve from 0.00092\n",
      "\n",
      "Epoch 138: val_loss did not improve from 0.00092\n",
      "\n",
      "Epoch 139: val_loss did not improve from 0.00092\n",
      "\n",
      "Epoch 140: val_loss did not improve from 0.00092\n",
      "\n",
      "Epoch 141: val_loss did not improve from 0.00092\n",
      "\n",
      "Epoch 142: val_loss did not improve from 0.00092\n",
      "\n",
      "Epoch 143: val_loss did not improve from 0.00092\n",
      "\n",
      "Epoch 144: val_loss did not improve from 0.00092\n",
      "\n",
      "Epoch 145: val_loss did not improve from 0.00092\n",
      "\n",
      "Epoch 146: val_loss did not improve from 0.00092\n",
      "\n",
      "Epoch 147: val_loss did not improve from 0.00092\n",
      "\n",
      "Epoch 148: val_loss did not improve from 0.00092\n",
      "\n",
      "Epoch 149: val_loss did not improve from 0.00092\n",
      "\n",
      "Epoch 150: val_loss did not improve from 0.00092\n",
      "\n",
      "Epoch 151: val_loss did not improve from 0.00092\n",
      "\n",
      "Epoch 152: val_loss did not improve from 0.00092\n",
      "\n",
      "Epoch 153: val_loss did not improve from 0.00092\n",
      "\n",
      "Epoch 154: val_loss did not improve from 0.00092\n",
      "\n",
      "Epoch 155: val_loss did not improve from 0.00092\n",
      "\n",
      "Epoch 156: val_loss did not improve from 0.00092\n",
      "\n",
      "Epoch 157: val_loss did not improve from 0.00092\n",
      "\n",
      "Epoch 158: val_loss did not improve from 0.00092\n",
      "\n",
      "Epoch 159: val_loss did not improve from 0.00092\n",
      "\n",
      "Epoch 160: val_loss did not improve from 0.00092\n",
      "\n",
      "Epoch 161: val_loss did not improve from 0.00092\n",
      "\n",
      "Epoch 162: val_loss did not improve from 0.00092\n",
      "\n",
      "Epoch 163: val_loss did not improve from 0.00092\n",
      "\n",
      "Epoch 164: val_loss did not improve from 0.00092\n",
      "\n",
      "Epoch 165: val_loss did not improve from 0.00092\n",
      "\n",
      "Epoch 166: val_loss did not improve from 0.00092\n",
      "\n",
      "Epoch 167: val_loss did not improve from 0.00092\n",
      "\n",
      "Epoch 168: val_loss did not improve from 0.00092\n",
      "\n",
      "Epoch 169: val_loss did not improve from 0.00092\n",
      "\n",
      "Epoch 170: val_loss did not improve from 0.00092\n",
      "\n",
      "Epoch 171: val_loss did not improve from 0.00092\n",
      "\n",
      "Epoch 172: val_loss did not improve from 0.00092\n",
      "\n",
      "Epoch 173: val_loss did not improve from 0.00092\n",
      "\n",
      "Epoch 174: val_loss did not improve from 0.00092\n",
      "\n",
      "Epoch 175: val_loss did not improve from 0.00092\n",
      "\n",
      "Epoch 176: val_loss did not improve from 0.00092\n",
      "\n",
      "Epoch 177: val_loss did not improve from 0.00092\n",
      "\n",
      "Epoch 178: val_loss did not improve from 0.00092\n",
      "\n",
      "Epoch 179: val_loss did not improve from 0.00092\n",
      "\n",
      "Epoch 180: val_loss did not improve from 0.00092\n",
      "\n",
      "Epoch 181: val_loss did not improve from 0.00092\n",
      "\n",
      "Epoch 182: val_loss did not improve from 0.00092\n",
      "\n",
      "Epoch 183: val_loss did not improve from 0.00092\n",
      "\n",
      "Epoch 184: val_loss did not improve from 0.00092\n",
      "\n",
      "Epoch 185: val_loss did not improve from 0.00092\n",
      "\n",
      "Epoch 186: val_loss did not improve from 0.00092\n",
      "\n",
      "Epoch 187: val_loss did not improve from 0.00092\n",
      "\n",
      "Epoch 188: val_loss did not improve from 0.00092\n",
      "\n",
      "Epoch 189: val_loss did not improve from 0.00092\n",
      "\n",
      "Epoch 190: val_loss did not improve from 0.00092\n",
      "\n",
      "Epoch 191: val_loss did not improve from 0.00092\n",
      "\n",
      "Epoch 192: val_loss did not improve from 0.00092\n",
      "\n",
      "Epoch 193: val_loss did not improve from 0.00092\n",
      "\n",
      "Epoch 194: val_loss did not improve from 0.00092\n",
      "\n",
      "Epoch 195: val_loss did not improve from 0.00092\n",
      "\n",
      "Epoch 196: val_loss did not improve from 0.00092\n",
      "\n",
      "Epoch 197: val_loss did not improve from 0.00092\n",
      "\n",
      "Epoch 198: val_loss did not improve from 0.00092\n",
      "\n",
      "Epoch 199: val_loss did not improve from 0.00092\n",
      "\n",
      "Epoch 200: val_loss did not improve from 0.00092\n",
      "\n",
      "Epoch 201: val_loss did not improve from 0.00092\n",
      "\n",
      "Epoch 202: val_loss did not improve from 0.00092\n",
      "\n",
      "Epoch 203: val_loss did not improve from 0.00092\n",
      "\n",
      "Epoch 204: val_loss did not improve from 0.00092\n",
      "\n",
      "Epoch 205: val_loss did not improve from 0.00092\n",
      "\n",
      "Epoch 206: val_loss did not improve from 0.00092\n",
      "\n",
      "Epoch 207: val_loss did not improve from 0.00092\n",
      "\n",
      "Epoch 208: val_loss did not improve from 0.00092\n",
      "\n",
      "Epoch 209: val_loss did not improve from 0.00092\n",
      "\n",
      "Epoch 210: val_loss did not improve from 0.00092\n",
      "\n",
      "Epoch 211: val_loss did not improve from 0.00092\n",
      "\n",
      "Epoch 212: val_loss did not improve from 0.00092\n",
      "\n",
      "Epoch 213: val_loss did not improve from 0.00092\n",
      "\n",
      "Epoch 214: val_loss did not improve from 0.00092\n",
      "\n",
      "Epoch 215: val_loss did not improve from 0.00092\n",
      "\n",
      "Epoch 216: val_loss did not improve from 0.00092\n",
      "\n",
      "Epoch 217: val_loss did not improve from 0.00092\n",
      "\n",
      "Epoch 218: val_loss did not improve from 0.00092\n",
      "\n",
      "Epoch 219: val_loss did not improve from 0.00092\n",
      "\n",
      "Epoch 220: val_loss did not improve from 0.00092\n",
      "\n",
      "Epoch 221: val_loss did not improve from 0.00092\n",
      "\n",
      "Epoch 222: val_loss did not improve from 0.00092\n",
      "\n",
      "Epoch 223: val_loss did not improve from 0.00092\n",
      "\n",
      "Epoch 224: val_loss did not improve from 0.00092\n",
      "\n",
      "Epoch 225: val_loss did not improve from 0.00092\n",
      "\n",
      "Epoch 226: val_loss did not improve from 0.00092\n",
      "\n",
      "Epoch 227: val_loss did not improve from 0.00092\n",
      "\n",
      "Epoch 228: val_loss did not improve from 0.00092\n",
      "\n",
      "Epoch 229: val_loss did not improve from 0.00092\n",
      "\n",
      "Epoch 230: val_loss did not improve from 0.00092\n",
      "\n",
      "Epoch 231: val_loss did not improve from 0.00092\n",
      "\n",
      "Epoch 232: val_loss did not improve from 0.00092\n",
      "\n",
      "Epoch 233: val_loss did not improve from 0.00092\n",
      "\n",
      "Epoch 234: val_loss did not improve from 0.00092\n",
      "\n",
      "Epoch 235: val_loss did not improve from 0.00092\n",
      "\n",
      "Epoch 236: val_loss did not improve from 0.00092\n",
      "\n",
      "Epoch 237: val_loss did not improve from 0.00092\n",
      "\n",
      "Epoch 238: val_loss did not improve from 0.00092\n",
      "\n",
      "Epoch 239: val_loss did not improve from 0.00092\n",
      "\n",
      "Epoch 240: val_loss did not improve from 0.00092\n",
      "\n",
      "Epoch 241: val_loss did not improve from 0.00092\n",
      "\n",
      "Epoch 242: val_loss did not improve from 0.00092\n",
      "\n",
      "Epoch 243: val_loss did not improve from 0.00092\n",
      "\n",
      "Epoch 244: val_loss did not improve from 0.00092\n",
      "\n",
      "Epoch 245: val_loss did not improve from 0.00092\n",
      "\n",
      "Epoch 246: val_loss did not improve from 0.00092\n",
      "\n",
      "Epoch 247: val_loss did not improve from 0.00092\n",
      "\n",
      "Epoch 248: val_loss did not improve from 0.00092\n",
      "\n",
      "Epoch 249: val_loss did not improve from 0.00092\n",
      "\n",
      "Epoch 250: val_loss did not improve from 0.00092\n"
     ]
    }
   ],
   "source": [
    "timesteps = 50\n",
    "hl = [40, 35]\n",
    "lr = 0.0001\n",
    "batch_size = 64\n",
    "num_epochs = 250\n",
    "\n",
    "model, train_error, val_error = fit_model_2(train, val, timesteps, hl, lr, batch_size, num_epochs)"
   ]
  },
  {
   "cell_type": "markdown",
   "metadata": {},
   "source": [
    "### Bước 6: Đánh giá mô hình và trực quan hóa kết quả"
   ]
  },
  {
   "cell_type": "markdown",
   "metadata": {},
   "source": [
    "#### 6.1. Vẽ biểu đồ train_loss và val_loss"
   ]
  },
  {
   "cell_type": "code",
   "execution_count": 40,
   "metadata": {},
   "outputs": [
    {
     "data": {
      "image/png": "[encoded data removed]",
      "text/plain": [
       "<Figure size 640x480 with 1 Axes>"
      ]
     },
     "metadata": {},
     "output_type": "display_data"
    }
   ],
   "source": [
    "plot_error(train_error, val_error)"
   ]
  },
  {
   "cell_type": "markdown",
   "metadata": {},
   "source": [
    "#### 6.2. Đánh giá mô hình trên tập test"
   ]
  },
  {
   "cell_type": "code",
   "execution_count": 41,
   "metadata": {},
   "outputs": [
    {
     "name": "stdout",
     "output_type": "stream",
     "text": [
      "\u001b[1m18/18\u001b[0m \u001b[32m━━━━━━━━━━━━━━━━━━━━\u001b[0m\u001b[37m\u001b[0m \u001b[1m1s\u001b[0m 39ms/step\n"
     ]
    }
   ],
   "source": [
    "mse, rmse, mape, r2, true, predicted = evaluate_model_2(model, test, timesteps) #được tính dựa trên bộ dữ liệu đã chuẩn hoá\n"
   ]
  },
  {
   "cell_type": "code",
   "execution_count": 42,
   "metadata": {},
   "outputs": [
    {
     "name": "stdout",
     "output_type": "stream",
     "text": [
      "MSE = 0.000736605125155906\n",
      "RMSE = 0.027140470245666452\n",
      "MAPE = 0.020181852416107097\n",
      "R-Squared Score = 0.9444313668653268\n"
     ]
    }
   ],
   "source": [
    "print('MSE = {}'.format(mse))\n",
    "print('RMSE = {}'.format(rmse))\n",
    "print('MAPE = {}'.format(mape))\n",
    "print('R-Squared Score = {}'.format(r2))"
   ]
  },
  {
   "cell_type": "markdown",
   "metadata": {},
   "source": [
    "#### 6.3. Vẽ đồ thị dự đoán vs thực tế"
   ]
  },
  {
   "cell_type": "code",
   "execution_count": 43,
   "metadata": {},
   "outputs": [
    {
     "data": {
      "image/png": "[encoded data removed]",
      "text/plain": [
       "<Figure size 640x480 with 1 Axes>"
      ]
     },
     "metadata": {},
     "output_type": "display_data"
    }
   ],
   "source": [
    "plot_data_2(true, predicted)"
   ]
  },
  {
   "cell_type": "code",
   "execution_count": 44,
   "metadata": {},
   "outputs": [],
   "source": [
    "# Save a model\n",
    "model.save('10VAR-VN30index-rnn.keras')"
   ]
  },
  {
   "cell_type": "code",
   "execution_count": null,
   "metadata": {},
   "outputs": [],
   "source": [
    "del model"
   ]
  },
  {
   "cell_type": "markdown",
   "metadata": {},
   "source": [
    "# Model 2: Multivariate-3-GRU"
   ]
  },
  {
   "cell_type": "markdown",
   "metadata": {},
   "source": [
    "## GRU"
   ]
  },
  {
   "cell_type": "markdown",
   "metadata": {},
   "source": [
    "### Import các thư viện cần thiết"
   ]
  },
  {
   "cell_type": "code",
   "execution_count": 45,
   "metadata": {},
   "outputs": [],
   "source": [
    "import os\n",
    "os.environ['PYTHONHASHSEED'] = '0' # đảm bảo rằng các giá trị băm của đối tượng bất biến (dict, set, chuỗi, tuple...) luôn giống nhau giữa các lần chạy\n",
    "\n",
    "import random as rn\n",
    "import numpy as np\n",
    "np.random.seed(1)\n",
    "rn.seed(3)\n",
    "import tensorflow as tf\n",
    "tf.random.set_seed(2)"
   ]
  },
  {
   "cell_type": "code",
   "execution_count": 46,
   "metadata": {},
   "outputs": [],
   "source": [
    "import sys\n",
    "import numpy as np\n",
    "import pandas as pd\n",
    "import matplotlib.pyplot as plt"
   ]
  },
  {
   "cell_type": "code",
   "execution_count": 47,
   "metadata": {},
   "outputs": [],
   "source": [
    "import tensorflow as tf\n",
    "from tensorflow.keras.models import Sequential, load_model\n",
    "from tensorflow.keras.layers import Dense, GRU, Dropout\n",
    "from tensorflow.keras import optimizers"
   ]
  },
  {
   "cell_type": "code",
   "execution_count": 48,
   "metadata": {},
   "outputs": [],
   "source": [
    "from tensorflow.keras.callbacks import EarlyStopping, ModelCheckpoint\n",
    "from sklearn.preprocessing import MinMaxScaler\n",
    "from sklearn.metrics import mean_squared_error, r2_score, mean_absolute_percentage_error\n",
    "from math import sqrt\n",
    "import datetime as dt\n",
    "import time\n",
    "\n",
    "from tensorflow.keras.optimizers import Adam"
   ]
  },
  {
   "cell_type": "code",
   "execution_count": 49,
   "metadata": {},
   "outputs": [],
   "source": [
    "plt.style.use('ggplot')"
   ]
  },
  {
   "cell_type": "markdown",
   "metadata": {},
   "source": [
    "### Hàm callback"
   ]
  },
  {
   "cell_type": "code",
   "execution_count": 50,
   "metadata": {},
   "outputs": [],
   "source": [
    "earlystop = EarlyStopping(monitor='val_loss', min_delta=0.0001, patience=80,  verbose=1, mode='min')  \n",
    "checkpoint = ModelCheckpoint(\n",
    "    filepath=\"10Var-Vn30-gru.h5\",   # Tên file lưu mô hình\n",
    "    monitor=\"val_loss\",         # Theo dõi val_loss\n",
    "    save_best_only=True,        # Chỉ lưu khi tốt hơn mô hình trước đó\n",
    "    mode=\"min\",                 # Giảm min của val_loss là tốt nhất\n",
    "    verbose=1\n",
    ")\n",
    "callbacks_list = [earlystop, checkpoint] "
   ]
  },
  {
   "cell_type": "markdown",
   "metadata": {},
   "source": [
    "### Đọc dữ liệu từ file csv"
   ]
  },
  {
   "cell_type": "code",
   "execution_count": null,
   "metadata": {},
   "outputs": [],
   "source": [
    "url = r\"VN30 Index.csv\"\n",
    "df = pd.read_csv(url, parse_dates= True, index_col= 0)"
   ]
  },
  {
   "cell_type": "code",
   "execution_count": 42,
   "metadata": {},
   "outputs": [
    {
     "data": {
      "text/html": [
       "<div>\n",
       "<style scoped>\n",
       "    .dataframe tbody tr th:only-of-type {\n",
       "        vertical-align: middle;\n",
       "    }\n",
       "\n",
       "    .dataframe tbody tr th {\n",
       "        vertical-align: top;\n",
       "    }\n",
       "\n",
       "    .dataframe thead th {\n",
       "        text-align: right;\n",
       "    }\n",
       "</style>\n",
       "<table border=\"1\" class=\"dataframe\">\n",
       "  <thead>\n",
       "    <tr style=\"text-align: right;\">\n",
       "      <th></th>\n",
       "      <th>open</th>\n",
       "      <th>high</th>\n",
       "      <th>low</th>\n",
       "      <th>close</th>\n",
       "      <th>volume</th>\n",
       "    </tr>\n",
       "    <tr>\n",
       "      <th>time</th>\n",
       "      <th></th>\n",
       "      <th></th>\n",
       "      <th></th>\n",
       "      <th></th>\n",
       "      <th></th>\n",
       "    </tr>\n",
       "  </thead>\n",
       "  <tbody>\n",
       "    <tr>\n",
       "      <th>2009-01-05</th>\n",
       "      <td>311.23</td>\n",
       "      <td>311.23</td>\n",
       "      <td>311.23</td>\n",
       "      <td>311.23</td>\n",
       "      <td>NaN</td>\n",
       "    </tr>\n",
       "    <tr>\n",
       "      <th>2009-01-06</th>\n",
       "      <td>314.21</td>\n",
       "      <td>314.21</td>\n",
       "      <td>314.21</td>\n",
       "      <td>314.21</td>\n",
       "      <td>NaN</td>\n",
       "    </tr>\n",
       "    <tr>\n",
       "      <th>2009-01-07</th>\n",
       "      <td>320.53</td>\n",
       "      <td>320.53</td>\n",
       "      <td>320.53</td>\n",
       "      <td>320.53</td>\n",
       "      <td>NaN</td>\n",
       "    </tr>\n",
       "    <tr>\n",
       "      <th>2009-01-08</th>\n",
       "      <td>314.14</td>\n",
       "      <td>314.14</td>\n",
       "      <td>314.14</td>\n",
       "      <td>314.14</td>\n",
       "      <td>NaN</td>\n",
       "    </tr>\n",
       "    <tr>\n",
       "      <th>2009-01-09</th>\n",
       "      <td>312.90</td>\n",
       "      <td>312.90</td>\n",
       "      <td>312.90</td>\n",
       "      <td>312.90</td>\n",
       "      <td>NaN</td>\n",
       "    </tr>\n",
       "  </tbody>\n",
       "</table>\n",
       "</div>"
      ],
      "text/plain": [
       "              open    high     low   close  volume\n",
       "time                                              \n",
       "2009-01-05  311.23  311.23  311.23  311.23     NaN\n",
       "2009-01-06  314.21  314.21  314.21  314.21     NaN\n",
       "2009-01-07  320.53  320.53  320.53  320.53     NaN\n",
       "2009-01-08  314.14  314.14  314.14  314.14     NaN\n",
       "2009-01-09  312.90  312.90  312.90  312.90     NaN"
      ]
     },
     "execution_count": 42,
     "metadata": {},
     "output_type": "execute_result"
    }
   ],
   "source": [
    "df.head()"
   ]
  },
  {
   "cell_type": "code",
   "execution_count": 43,
   "metadata": {},
   "outputs": [
    {
     "data": {
      "text/plain": [
       "open        0\n",
       "high        0\n",
       "low         0\n",
       "close       0\n",
       "volume    859\n",
       "dtype: int64"
      ]
     },
     "execution_count": 43,
     "metadata": {},
     "output_type": "execute_result"
    }
   ],
   "source": [
    "df.isnull().sum()"
   ]
  },
  {
   "cell_type": "markdown",
   "metadata": {},
   "source": [
    "### Tiền xử lí dữ liệu"
   ]
  },
  {
   "cell_type": "code",
   "execution_count": 44,
   "metadata": {},
   "outputs": [],
   "source": [
    "# Xóa các dòng có giá trị Volume bằng 0\n",
    "df.drop(df[df['volume']==0].index, inplace=True)"
   ]
  },
  {
   "cell_type": "code",
   "execution_count": 45,
   "metadata": {},
   "outputs": [
    {
     "data": {
      "text/plain": [
       "open      0.999562\n",
       "high      0.999783\n",
       "low       0.999789\n",
       "close     1.000000\n",
       "volume    0.169492\n",
       "Name: close, dtype: float64"
      ]
     },
     "execution_count": 45,
     "metadata": {},
     "output_type": "execute_result"
    }
   ],
   "source": [
    "# Ma trận tương quan (ở đây là Pearson tương quan tuyến tính)\n",
    "df.corr()['close']"
   ]
  },
  {
   "cell_type": "code",
   "execution_count": 46,
   "metadata": {},
   "outputs": [
    {
     "name": "stdout",
     "output_type": "stream",
     "text": [
      "count    3.185000e+03\n",
      "mean     3.279171e+06\n",
      "std      2.776577e+07\n",
      "min      4.540000e+03\n",
      "25%      3.809000e+04\n",
      "50%      6.036000e+04\n",
      "75%      1.560100e+05\n",
      "max      3.744900e+08\n",
      "Name: volume, dtype: float64\n"
     ]
    }
   ],
   "source": [
    "print(df.describe().volume) "
   ]
  },
  {
   "cell_type": "code",
   "execution_count": 47,
   "metadata": {},
   "outputs": [
    {
     "data": {
      "text/plain": [
       "<Axes: >"
      ]
     },
     "execution_count": 47,
     "metadata": {},
     "output_type": "execute_result"
    },
    {
     "data": {
      "image/png": "[encoded data removed]",
      "text/plain": [
       "<Figure size 640x480 with 1 Axes>"
      ]
     },
     "metadata": {},
     "output_type": "display_data"
    }
   ],
   "source": [
    "df['volume'].hist(bins= 10)"
   ]
  },
  {
   "cell_type": "code",
   "execution_count": null,
   "metadata": {},
   "outputs": [],
   "source": [
    "# Bổ sung các chỉ báo kĩ thuật\n",
    "\n",
    "# Tính CMA10\n",
    "df['CMA10'] = df['close'].rolling(window=10, center=True).mean()\n",
    "# Tính SMA10\n",
    "df['SMA10'] = df['close'].rolling(window=10).mean()\n",
    "# Tính SMA50\n",
    "df['SMA50'] = df['close'].rolling(window=50).mean()\n",
    "# Tính EMA12 và EMA26\n",
    "df['EMA12'] = df['close'].ewm(span=12, adjust=False).mean()\n",
    "df['EMA26'] = df['close'].ewm(span=26, adjust=False).mean()\n",
    "# Tính MACD\n",
    "df['MACD'] = df['EMA12'] - df['EMA26']\n",
    "#Tính RSI\n",
    "# Tính giá tăng/giảm\n",
    "delta = df['close'].diff()\n",
    "\n",
    "# Tính giá tăng\n",
    "gain = delta.where(delta > 0, 0)\n",
    "\n",
    "# Tính giá giảm\n",
    "loss = -delta.where(delta < 0, 0)\n",
    "\n",
    "# Tính trung bình động\n",
    "avg_gain = gain.rolling(window=14).mean()\n",
    "avg_loss = loss.rolling(window=14).mean()\n",
    "\n",
    "# Tính RS và RSI\n",
    "rs = avg_gain / avg_loss\n",
    "df['RSI'] = 100 - (100 / (1 + rs))\n",
    "\n",
    "#Tính CCI\n",
    "# Tính giá trung bình\n",
    "typical_price = (df['high'] + df['low'] + df['close']) / 3\n",
    "\n",
    "# Tính SMA của giá trung bình\n",
    "sma_typical_price = typical_price.rolling(window=20).mean()\n",
    "\n",
    "# Tính độ lệch chuẩn\n",
    "mean_deviation = typical_price.rolling(window=20).apply(lambda x: np.mean(np.abs(x - x.mean())))\n",
    "\n",
    "# Tính CCI\n",
    "df['CCI'] = (typical_price - sma_typical_price) / (0.015 * mean_deviation)\n",
    "# Tính %K và %D\n",
    "low_min = df['low'].rolling(window=14).min()\n",
    "high_max = df['high'].rolling(window=14).max()\n",
    "\n",
    "df['%K'] = 100 * (df['close'] - low_min) / (high_max - low_min)\n",
    "df['%D'] = df['%K'].rolling(window=3).mean()"
   ]
  },
  {
   "cell_type": "code",
   "execution_count": 51,
   "metadata": {},
   "outputs": [
    {
     "name": "stdout",
     "output_type": "stream",
     "text": [
      "              open    high     low   close  volume  CMA10  SMA10  SMA50  \\\n",
      "time                                                                      \n",
      "2009-01-05  311.23  311.23  311.23  311.23     NaN    NaN    NaN    NaN   \n",
      "2009-01-06  314.21  314.21  314.21  314.21     NaN    NaN    NaN    NaN   \n",
      "2009-01-07  320.53  320.53  320.53  320.53     NaN    NaN    NaN    NaN   \n",
      "2009-01-08  314.14  314.14  314.14  314.14     NaN    NaN    NaN    NaN   \n",
      "2009-01-09  312.90  312.90  312.90  312.90     NaN    NaN    NaN    NaN   \n",
      "\n",
      "                 EMA12       EMA26      MACD  RSI  CCI  %K  %D  \n",
      "time                                                            \n",
      "2009-01-05  311.230000  311.230000  0.000000  NaN  NaN NaN NaN  \n",
      "2009-01-06  311.688462  311.450741  0.237721  NaN  NaN NaN NaN  \n",
      "2009-01-07  313.048698  312.123278  0.925420  NaN  NaN NaN NaN  \n",
      "2009-01-08  313.216591  312.272665  0.943926  NaN  NaN NaN NaN  \n",
      "2009-01-09  313.167885  312.319134  0.848750  NaN  NaN NaN NaN  \n"
     ]
    },
    {
     "data": {
      "text/plain": [
       "(4044, 15)"
      ]
     },
     "execution_count": 51,
     "metadata": {},
     "output_type": "execute_result"
    }
   ],
   "source": [
    "print(df.head())\n",
    "df.shape"
   ]
  },
  {
   "cell_type": "markdown",
   "metadata": {},
   "source": [
    "## Train model / Hàm **fit_model_3()**"
   ]
  },
  {
   "cell_type": "code",
   "execution_count": 52,
   "metadata": {},
   "outputs": [],
   "source": [
    "def fit_model_3(train, val, timesteps, hl, lr, batch, epochs):\n",
    "    \"\"\"\n",
    "    np.random.seed(1)\n",
    "    tf.random.set_seed(2)\n",
    "    rn.seed(3)\n",
    "    \"\"\"\n",
    "    X_train = []\n",
    "    Y_train = []\n",
    "    X_val = []\n",
    "    Y_val = []\n",
    "\n",
    "    for i in range(timesteps, train.shape[0]):\n",
    "        X_train.append(train[i-timesteps:i])\n",
    "        Y_train.append(train[i][0])\n",
    "    X_train, Y_train = np.array(X_train), np.array(Y_train)\n",
    "\n",
    "    for i in range(timesteps, val.shape[0]):\n",
    "        X_val.append(val[i-timesteps:i])\n",
    "        Y_val.append(val[i][0])\n",
    "    X_val, Y_val = np.array(X_val), np.array(Y_val)\n",
    "\n",
    "    # Thêm các lớp vào mô hình\n",
    "    model = Sequential()\n",
    "    model.add(GRU(X_train.shape[2], input_shape= (X_train.shape[1], X_train.shape[2]), activation= 'relu', return_sequences= True))\n",
    "    for i in range(len(hl)-1):\n",
    "        model.add(GRU(hl[i], activation='relu', return_sequences= True))\n",
    "    model.add(GRU(hl[-1], activation='relu'))\n",
    "    model.add(Dense(1))\n",
    "\n",
    "    # Biên dịch\n",
    "    model.compile(optimizer= optimizers.Adam(learning_rate= lr), loss= 'mean_squared_error')\n",
    "\n",
    "    # Huấn luyện dữ liệu\n",
    "    history = model.fit(X_train, Y_train, epochs= epochs, batch_size= batch, validation_data= (X_val, Y_val), verbose= 0, shuffle= False, callbacks= callbacks_list)\n",
    "    \n",
    "    # Đặt lại trạng thái\n",
    "    for layer in model.layers:\n",
    "        if isinstance(layer, GRU):\n",
    "            layer.reset_states()\n",
    "    \n",
    "    return model, history.history['loss'], history.history['val_loss']"
   ]
  },
  {
   "cell_type": "markdown",
   "metadata": {},
   "source": [
    "## Hàm **Evaluate_model_3()**"
   ]
  },
  {
   "cell_type": "code",
   "execution_count": 53,
   "metadata": {},
   "outputs": [],
   "source": [
    "def evaluate_model_3(model, test, timesteps):\n",
    "    \"\"\"\n",
    "    np.random.seed(1)\n",
    "    tf.random.set_seed(2)\n",
    "    \"\"\"\n",
    "    X_test = []\n",
    "    Y_test = []\n",
    "\n",
    "    for i in range(timesteps, test.shape[0]):\n",
    "        X_test.append(test[i-timesteps:i])\n",
    "        Y_test.append(test[i][0])\n",
    "    X_test, Y_test= np.array(X_test), np.array(Y_test)\n",
    "\n",
    "    # Các chỉ số đánh giá\n",
    "    Y_hat = model.predict(X_test)\n",
    "    mse = mean_squared_error(Y_test, Y_hat)\n",
    "    rmse = sqrt(mse)\n",
    "    mape = mean_absolute_percentage_error(Y_test, Y_hat)\n",
    "    r2 = r2_score(Y_test, Y_hat)\n",
    "\n",
    "    return mse, rmse, mape, r2, Y_test, Y_hat\n"
   ]
  },
  {
   "cell_type": "markdown",
   "metadata": {},
   "source": [
    "## **Grid Search**: Tìm kiếm siêu tham số tối ưu "
   ]
  },
  {
   "cell_type": "code",
   "execution_count": 54,
   "metadata": {},
   "outputs": [],
   "source": [
    "param_grid = {\n",
    "    'timesteps': [30, 40, 50],\n",
    "    'hl': [[40, 35]],\n",
    "    'lr': [1e-4, 1e-3],\n",
    "    'batch_size': [32, 64],\n",
    "    'num_epochs': [200, 250]\n",
    "}"
   ]
  },
  {
   "cell_type": "code",
   "execution_count": 55,
   "metadata": {},
   "outputs": [],
   "source": [
    "# Hàm grid search\n",
    "def grid_search_rnn(train, val, test, param_grid):\n",
    "    results = []\n",
    "    best_score = float('inf')\n",
    "    best_params = None\n",
    "\n",
    "    # Tạo tất cả các tổ hợp tham số\n",
    "    all_combinations = list(product(*(param_grid.values())))\n",
    "    param_names = param_grid.keys()\n",
    "\n",
    "    for combination in all_combinations:\n",
    "        # Gán giá trị tham số hiện tại\n",
    "        params = dict(zip(param_names, combination))\n",
    "        hl = params['hl']\n",
    "        lr = params['lr']\n",
    "        batch_size = params['batch_size']\n",
    "        num_epochs = params['num_epochs']\n",
    "\n",
    "        print(f'Training with params: {params}')\n",
    "\n",
    "        # Huấn luyện mô hình\n",
    "        model, train_loss, val_loss = fit_model_3(train, val, timesteps, hl, lr, batch_size, num_epochs)\n",
    "\n",
    "        # Đánh giá mô hình\n",
    "        mse, rmse, mape, r2, _, _ = evaluate_model_3(model, test, timesteps)\n",
    "\n",
    "        # Lưu kết quả\n",
    "        results.append({\n",
    "            'timesteps': timesteps,\n",
    "            'hl': hl,\n",
    "            'lr': lr,\n",
    "            'batch_size': batch_size,\n",
    "            'num_epochs': num_epochs,\n",
    "            'mse': mse,\n",
    "            'rmse': rmse,\n",
    "            'mape': mape,\n",
    "            'r2': r2\n",
    "        })\n",
    "\n",
    "        # Cập nhật tham số tốt nhất nếu RMSE cải thiện\n",
    "        if rmse < best_score:\n",
    "            best_score = rmse\n",
    "            best_params = params\n",
    "\n",
    "        # Trả về kết quả\n",
    "        results_df = pd.DataFrame(results)\n",
    "        return best_params, best_score, results_df\n"
   ]
  },
  {
   "cell_type": "markdown",
   "metadata": {},
   "source": [
    "## Plot chart (vẽ biểu đồ)"
   ]
  },
  {
   "cell_type": "code",
   "execution_count": 56,
   "metadata": {},
   "outputs": [],
   "source": [
    "# Plotting the predictions\n",
    "def plot_data_3(Y_test, Y_hat):\n",
    "    plt.plot(Y_test, c = 'r')\n",
    "    plt.plot(Y_hat, c = 'y')\n",
    "    plt.xlabel('Day')\n",
    "    plt.ylabel('Price')\n",
    "    plt.title(\"Stock Price Prediction using Multivariate-GRU\")\n",
    "    plt.legend(['Actual','Predicted'], loc = 'lower right')\n",
    "    plt.show()"
   ]
  },
  {
   "cell_type": "code",
   "execution_count": 57,
   "metadata": {},
   "outputs": [],
   "source": [
    "# Plotting the training errors: trực quan loss qua các epoch -> thấy qtr học mô hình, xem có overfitting ko\n",
    "def plot_error(train_loss, val_loss):\n",
    "    plt.plot(train_loss, c = 'r')\n",
    "    plt.plot(val_loss, c = 'b')\n",
    "    plt.ylabel('Loss')\n",
    "    plt.xlabel('Epochs')\n",
    "    plt.title('Train Loss and Validation Loss Curve')\n",
    "    plt.legend(['train', 'val'], loc = 'upper right')\n",
    "    plt.show()"
   ]
  },
  {
   "cell_type": "markdown",
   "metadata": {},
   "source": [
    "## **Model building**: Xây dựng mô hình"
   ]
  },
  {
   "cell_type": "markdown",
   "metadata": {},
   "source": [
    "### Bước 1: Trích xuất và trực quan hóa dữ liệu"
   ]
  },
  {
   "cell_type": "code",
   "execution_count": 58,
   "metadata": {},
   "outputs": [
    {
     "name": "stdout",
     "output_type": "stream",
     "text": [
      "(3991, 10)\n",
      "              close     CMA10     SMA10      SMA50        EMA12        RSI  \\\n",
      "time                                                                         \n",
      "2025-03-10  1391.07  1381.379  1369.467  1336.1956  1368.821086  81.914388   \n",
      "2025-03-11  1393.57  1384.753  1372.768  1337.6066  1372.628611  80.831758   \n",
      "2025-03-12  1392.39  1386.820  1375.951  1338.9890  1375.668825  78.354464   \n",
      "2025-03-13  1387.30  1388.192  1378.319  1339.8854  1377.458236  71.932575   \n",
      "2025-03-14  1387.03  1388.125  1381.379  1340.7724  1378.930815  67.050447   \n",
      "\n",
      "                   CCI         %K         %D       MACD  \n",
      "time                                                     \n",
      "2025-03-10  186.248408  86.033606  94.302545  14.085059  \n",
      "2025-03-11  143.873911  88.007313  90.655860  15.015993  \n",
      "2025-03-12  152.955891  84.673892  86.238270  15.480105  \n",
      "2025-03-13  121.672693  73.658150  82.113118  15.261273  \n",
      "2025-03-14   97.327890  73.123391  77.151811  14.894368  \n"
     ]
    }
   ],
   "source": [
    "# Extracting the series\n",
    "series = df[['close', 'CMA10', 'SMA10', 'SMA50', 'EMA12', 'RSI', 'CCI', '%K', '%D', 'MACD']]\n",
    "# Drop rows with NaN values\n",
    "series = series.dropna()\n",
    "\n",
    "# Display the shape and the tail of the cleaned series\n",
    "print(series.shape)\n",
    "print(series.tail())"
   ]
  },
  {
   "cell_type": "markdown",
   "metadata": {},
   "source": [
    "### Bước 2: Chia dữ liệu thành các tập Train, Validation, Test"
   ]
  },
  {
   "cell_type": "code",
   "execution_count": 59,
   "metadata": {},
   "outputs": [
    {
     "data": {
      "text/plain": [
       "(3991, 10)"
      ]
     },
     "execution_count": 59,
     "metadata": {},
     "output_type": "execute_result"
    }
   ],
   "source": [
    "series.shape"
   ]
  },
  {
   "cell_type": "code",
   "execution_count": 60,
   "metadata": {},
   "outputs": [
    {
     "name": "stdout",
     "output_type": "stream",
     "text": [
      "(2795, 10) (598, 10) (598, 10)\n"
     ]
    }
   ],
   "source": [
    "n = series.shape[0]\n",
    "val_size =  test_size = int(n * 0.15)\n",
    "train_size = n - val_size - test_size # Để tránh sai số làm mất dữ liệu\n",
    "\n",
    "# Chia tập dữ liệu theo thứ tự thời gian\n",
    "train_data = series.iloc[:train_size].values\n",
    "val_data = series.iloc[train_size:train_size + val_size].values\n",
    "test_data = series.iloc[(train_size + val_size):].values\n",
    "# Kiểm tra kích thước của từng tập\n",
    "print(train_data.shape, val_data.shape, test_data.shape)"
   ]
  },
  {
   "cell_type": "markdown",
   "metadata": {},
   "source": [
    "### Bước 3: Chuẩn hóa dữ liệu bằng MinMaxScaler"
   ]
  },
  {
   "cell_type": "code",
   "execution_count": 61,
   "metadata": {},
   "outputs": [
    {
     "name": "stdout",
     "output_type": "stream",
     "text": [
      "(2795, 10) (598, 10) (598, 10)\n"
     ]
    }
   ],
   "source": [
    "# Normalisation\n",
    "np.random.seed(1)\n",
    "tf.random.set_seed(2)\n",
    "\n",
    "sc = MinMaxScaler()\n",
    "train = sc.fit_transform(train_data)\n",
    "val = sc.transform(val_data)\n",
    "test = sc.transform(test_data)\n",
    "\n",
    "print(train.shape, val.shape, test.shape)"
   ]
  },
  {
   "cell_type": "markdown",
   "metadata": {},
   "source": [
    "### Bước 4: Tìm siêu tham số tốt nhất bằng Grid Search"
   ]
  },
  {
   "cell_type": "code",
   "execution_count": 62,
   "metadata": {},
   "outputs": [
    {
     "name": "stdout",
     "output_type": "stream",
     "text": [
      "Training with params: {'timesteps': 30, 'hl': [40, 35], 'lr': 0.0001, 'batch_size': 32, 'num_epochs': 200}\n"
     ]
    },
    {
     "name": "stderr",
     "output_type": "stream",
     "text": [
      "c:\\Users\\84368\\AppData\\Local\\Programs\\Python\\Python311\\Lib\\site-packages\\keras\\src\\layers\\rnn\\rnn.py:200: UserWarning: Do not pass an `input_shape`/`input_dim` argument to a layer. When using Sequential models, prefer using an `Input(shape)` object as the first layer in the model instead.\n",
      "  super().__init__(**kwargs)\n"
     ]
    },
    {
     "name": "stdout",
     "output_type": "stream",
     "text": [
      "\n",
      "Epoch 1: val_loss improved from inf to 1.03914, saving model to 10Var-Vn30-gru.h5\n"
     ]
    },
    {
     "name": "stderr",
     "output_type": "stream",
     "text": [
      "WARNING:absl:You are saving your model as an HDF5 file via `model.save()` or `keras.saving.save_model(model)`. This file format is considered legacy. We recommend using instead the native Keras format, e.g. `model.save('my_model.keras')` or `keras.saving.save_model(model, 'my_model.keras')`. \n"
     ]
    },
    {
     "name": "stdout",
     "output_type": "stream",
     "text": [
      "\n",
      "Epoch 2: val_loss improved from 1.03914 to 0.71168, saving model to 10Var-Vn30-gru.h5\n"
     ]
    },
    {
     "name": "stderr",
     "output_type": "stream",
     "text": [
      "WARNING:absl:You are saving your model as an HDF5 file via `model.save()` or `keras.saving.save_model(model)`. This file format is considered legacy. We recommend using instead the native Keras format, e.g. `model.save('my_model.keras')` or `keras.saving.save_model(model, 'my_model.keras')`. \n"
     ]
    },
    {
     "name": "stdout",
     "output_type": "stream",
     "text": [
      "\n",
      "Epoch 3: val_loss improved from 0.71168 to 0.36018, saving model to 10Var-Vn30-gru.h5\n"
     ]
    },
    {
     "name": "stderr",
     "output_type": "stream",
     "text": [
      "WARNING:absl:You are saving your model as an HDF5 file via `model.save()` or `keras.saving.save_model(model)`. This file format is considered legacy. We recommend using instead the native Keras format, e.g. `model.save('my_model.keras')` or `keras.saving.save_model(model, 'my_model.keras')`. \n"
     ]
    },
    {
     "name": "stdout",
     "output_type": "stream",
     "text": [
      "\n",
      "Epoch 4: val_loss improved from 0.36018 to 0.22008, saving model to 10Var-Vn30-gru.h5\n"
     ]
    },
    {
     "name": "stderr",
     "output_type": "stream",
     "text": [
      "WARNING:absl:You are saving your model as an HDF5 file via `model.save()` or `keras.saving.save_model(model)`. This file format is considered legacy. We recommend using instead the native Keras format, e.g. `model.save('my_model.keras')` or `keras.saving.save_model(model, 'my_model.keras')`. \n"
     ]
    },
    {
     "name": "stdout",
     "output_type": "stream",
     "text": [
      "\n",
      "Epoch 5: val_loss improved from 0.22008 to 0.18130, saving model to 10Var-Vn30-gru.h5\n"
     ]
    },
    {
     "name": "stderr",
     "output_type": "stream",
     "text": [
      "WARNING:absl:You are saving your model as an HDF5 file via `model.save()` or `keras.saving.save_model(model)`. This file format is considered legacy. We recommend using instead the native Keras format, e.g. `model.save('my_model.keras')` or `keras.saving.save_model(model, 'my_model.keras')`. \n"
     ]
    },
    {
     "name": "stdout",
     "output_type": "stream",
     "text": [
      "\n",
      "Epoch 6: val_loss improved from 0.18130 to 0.16611, saving model to 10Var-Vn30-gru.h5\n"
     ]
    },
    {
     "name": "stderr",
     "output_type": "stream",
     "text": [
      "WARNING:absl:You are saving your model as an HDF5 file via `model.save()` or `keras.saving.save_model(model)`. This file format is considered legacy. We recommend using instead the native Keras format, e.g. `model.save('my_model.keras')` or `keras.saving.save_model(model, 'my_model.keras')`. \n"
     ]
    },
    {
     "name": "stdout",
     "output_type": "stream",
     "text": [
      "\n",
      "Epoch 7: val_loss improved from 0.16611 to 0.14674, saving model to 10Var-Vn30-gru.h5\n"
     ]
    },
    {
     "name": "stderr",
     "output_type": "stream",
     "text": [
      "WARNING:absl:You are saving your model as an HDF5 file via `model.save()` or `keras.saving.save_model(model)`. This file format is considered legacy. We recommend using instead the native Keras format, e.g. `model.save('my_model.keras')` or `keras.saving.save_model(model, 'my_model.keras')`. \n"
     ]
    },
    {
     "name": "stdout",
     "output_type": "stream",
     "text": [
      "\n",
      "Epoch 8: val_loss improved from 0.14674 to 0.13171, saving model to 10Var-Vn30-gru.h5\n"
     ]
    },
    {
     "name": "stderr",
     "output_type": "stream",
     "text": [
      "WARNING:absl:You are saving your model as an HDF5 file via `model.save()` or `keras.saving.save_model(model)`. This file format is considered legacy. We recommend using instead the native Keras format, e.g. `model.save('my_model.keras')` or `keras.saving.save_model(model, 'my_model.keras')`. \n"
     ]
    },
    {
     "name": "stdout",
     "output_type": "stream",
     "text": [
      "\n",
      "Epoch 9: val_loss improved from 0.13171 to 0.11219, saving model to 10Var-Vn30-gru.h5\n"
     ]
    },
    {
     "name": "stderr",
     "output_type": "stream",
     "text": [
      "WARNING:absl:You are saving your model as an HDF5 file via `model.save()` or `keras.saving.save_model(model)`. This file format is considered legacy. We recommend using instead the native Keras format, e.g. `model.save('my_model.keras')` or `keras.saving.save_model(model, 'my_model.keras')`. \n"
     ]
    },
    {
     "name": "stdout",
     "output_type": "stream",
     "text": [
      "\n",
      "Epoch 10: val_loss improved from 0.11219 to 0.09802, saving model to 10Var-Vn30-gru.h5\n"
     ]
    },
    {
     "name": "stderr",
     "output_type": "stream",
     "text": [
      "WARNING:absl:You are saving your model as an HDF5 file via `model.save()` or `keras.saving.save_model(model)`. This file format is considered legacy. We recommend using instead the native Keras format, e.g. `model.save('my_model.keras')` or `keras.saving.save_model(model, 'my_model.keras')`. \n"
     ]
    },
    {
     "name": "stdout",
     "output_type": "stream",
     "text": [
      "\n",
      "Epoch 11: val_loss improved from 0.09802 to 0.08010, saving model to 10Var-Vn30-gru.h5\n"
     ]
    },
    {
     "name": "stderr",
     "output_type": "stream",
     "text": [
      "WARNING:absl:You are saving your model as an HDF5 file via `model.save()` or `keras.saving.save_model(model)`. This file format is considered legacy. We recommend using instead the native Keras format, e.g. `model.save('my_model.keras')` or `keras.saving.save_model(model, 'my_model.keras')`. \n"
     ]
    },
    {
     "name": "stdout",
     "output_type": "stream",
     "text": [
      "\n",
      "Epoch 12: val_loss improved from 0.08010 to 0.05970, saving model to 10Var-Vn30-gru.h5\n"
     ]
    },
    {
     "name": "stderr",
     "output_type": "stream",
     "text": [
      "WARNING:absl:You are saving your model as an HDF5 file via `model.save()` or `keras.saving.save_model(model)`. This file format is considered legacy. We recommend using instead the native Keras format, e.g. `model.save('my_model.keras')` or `keras.saving.save_model(model, 'my_model.keras')`. \n"
     ]
    },
    {
     "name": "stdout",
     "output_type": "stream",
     "text": [
      "\n",
      "Epoch 13: val_loss improved from 0.05970 to 0.04471, saving model to 10Var-Vn30-gru.h5\n"
     ]
    },
    {
     "name": "stderr",
     "output_type": "stream",
     "text": [
      "WARNING:absl:You are saving your model as an HDF5 file via `model.save()` or `keras.saving.save_model(model)`. This file format is considered legacy. We recommend using instead the native Keras format, e.g. `model.save('my_model.keras')` or `keras.saving.save_model(model, 'my_model.keras')`. \n"
     ]
    },
    {
     "name": "stdout",
     "output_type": "stream",
     "text": [
      "\n",
      "Epoch 14: val_loss improved from 0.04471 to 0.03505, saving model to 10Var-Vn30-gru.h5\n"
     ]
    },
    {
     "name": "stderr",
     "output_type": "stream",
     "text": [
      "WARNING:absl:You are saving your model as an HDF5 file via `model.save()` or `keras.saving.save_model(model)`. This file format is considered legacy. We recommend using instead the native Keras format, e.g. `model.save('my_model.keras')` or `keras.saving.save_model(model, 'my_model.keras')`. \n"
     ]
    },
    {
     "name": "stdout",
     "output_type": "stream",
     "text": [
      "\n",
      "Epoch 15: val_loss improved from 0.03505 to 0.02858, saving model to 10Var-Vn30-gru.h5\n"
     ]
    },
    {
     "name": "stderr",
     "output_type": "stream",
     "text": [
      "WARNING:absl:You are saving your model as an HDF5 file via `model.save()` or `keras.saving.save_model(model)`. This file format is considered legacy. We recommend using instead the native Keras format, e.g. `model.save('my_model.keras')` or `keras.saving.save_model(model, 'my_model.keras')`. \n"
     ]
    },
    {
     "name": "stdout",
     "output_type": "stream",
     "text": [
      "\n",
      "Epoch 16: val_loss improved from 0.02858 to 0.02410, saving model to 10Var-Vn30-gru.h5\n"
     ]
    },
    {
     "name": "stderr",
     "output_type": "stream",
     "text": [
      "WARNING:absl:You are saving your model as an HDF5 file via `model.save()` or `keras.saving.save_model(model)`. This file format is considered legacy. We recommend using instead the native Keras format, e.g. `model.save('my_model.keras')` or `keras.saving.save_model(model, 'my_model.keras')`. \n"
     ]
    },
    {
     "name": "stdout",
     "output_type": "stream",
     "text": [
      "\n",
      "Epoch 17: val_loss improved from 0.02410 to 0.02100, saving model to 10Var-Vn30-gru.h5\n"
     ]
    },
    {
     "name": "stderr",
     "output_type": "stream",
     "text": [
      "WARNING:absl:You are saving your model as an HDF5 file via `model.save()` or `keras.saving.save_model(model)`. This file format is considered legacy. We recommend using instead the native Keras format, e.g. `model.save('my_model.keras')` or `keras.saving.save_model(model, 'my_model.keras')`. \n"
     ]
    },
    {
     "name": "stdout",
     "output_type": "stream",
     "text": [
      "\n",
      "Epoch 18: val_loss improved from 0.02100 to 0.01910, saving model to 10Var-Vn30-gru.h5\n"
     ]
    },
    {
     "name": "stderr",
     "output_type": "stream",
     "text": [
      "WARNING:absl:You are saving your model as an HDF5 file via `model.save()` or `keras.saving.save_model(model)`. This file format is considered legacy. We recommend using instead the native Keras format, e.g. `model.save('my_model.keras')` or `keras.saving.save_model(model, 'my_model.keras')`. \n"
     ]
    },
    {
     "name": "stdout",
     "output_type": "stream",
     "text": [
      "\n",
      "Epoch 19: val_loss improved from 0.01910 to 0.01770, saving model to 10Var-Vn30-gru.h5\n"
     ]
    },
    {
     "name": "stderr",
     "output_type": "stream",
     "text": [
      "WARNING:absl:You are saving your model as an HDF5 file via `model.save()` or `keras.saving.save_model(model)`. This file format is considered legacy. We recommend using instead the native Keras format, e.g. `model.save('my_model.keras')` or `keras.saving.save_model(model, 'my_model.keras')`. \n"
     ]
    },
    {
     "name": "stdout",
     "output_type": "stream",
     "text": [
      "\n",
      "Epoch 20: val_loss improved from 0.01770 to 0.01674, saving model to 10Var-Vn30-gru.h5\n"
     ]
    },
    {
     "name": "stderr",
     "output_type": "stream",
     "text": [
      "WARNING:absl:You are saving your model as an HDF5 file via `model.save()` or `keras.saving.save_model(model)`. This file format is considered legacy. We recommend using instead the native Keras format, e.g. `model.save('my_model.keras')` or `keras.saving.save_model(model, 'my_model.keras')`. \n"
     ]
    },
    {
     "name": "stdout",
     "output_type": "stream",
     "text": [
      "\n",
      "Epoch 21: val_loss improved from 0.01674 to 0.01602, saving model to 10Var-Vn30-gru.h5\n"
     ]
    },
    {
     "name": "stderr",
     "output_type": "stream",
     "text": [
      "WARNING:absl:You are saving your model as an HDF5 file via `model.save()` or `keras.saving.save_model(model)`. This file format is considered legacy. We recommend using instead the native Keras format, e.g. `model.save('my_model.keras')` or `keras.saving.save_model(model, 'my_model.keras')`. \n"
     ]
    },
    {
     "name": "stdout",
     "output_type": "stream",
     "text": [
      "\n",
      "Epoch 22: val_loss improved from 0.01602 to 0.01545, saving model to 10Var-Vn30-gru.h5\n"
     ]
    },
    {
     "name": "stderr",
     "output_type": "stream",
     "text": [
      "WARNING:absl:You are saving your model as an HDF5 file via `model.save()` or `keras.saving.save_model(model)`. This file format is considered legacy. We recommend using instead the native Keras format, e.g. `model.save('my_model.keras')` or `keras.saving.save_model(model, 'my_model.keras')`. \n"
     ]
    },
    {
     "name": "stdout",
     "output_type": "stream",
     "text": [
      "\n",
      "Epoch 23: val_loss improved from 0.01545 to 0.01504, saving model to 10Var-Vn30-gru.h5\n"
     ]
    },
    {
     "name": "stderr",
     "output_type": "stream",
     "text": [
      "WARNING:absl:You are saving your model as an HDF5 file via `model.save()` or `keras.saving.save_model(model)`. This file format is considered legacy. We recommend using instead the native Keras format, e.g. `model.save('my_model.keras')` or `keras.saving.save_model(model, 'my_model.keras')`. \n"
     ]
    },
    {
     "name": "stdout",
     "output_type": "stream",
     "text": [
      "\n",
      "Epoch 24: val_loss improved from 0.01504 to 0.01466, saving model to 10Var-Vn30-gru.h5\n"
     ]
    },
    {
     "name": "stderr",
     "output_type": "stream",
     "text": [
      "WARNING:absl:You are saving your model as an HDF5 file via `model.save()` or `keras.saving.save_model(model)`. This file format is considered legacy. We recommend using instead the native Keras format, e.g. `model.save('my_model.keras')` or `keras.saving.save_model(model, 'my_model.keras')`. \n"
     ]
    },
    {
     "name": "stdout",
     "output_type": "stream",
     "text": [
      "\n",
      "Epoch 25: val_loss improved from 0.01466 to 0.01433, saving model to 10Var-Vn30-gru.h5\n"
     ]
    },
    {
     "name": "stderr",
     "output_type": "stream",
     "text": [
      "WARNING:absl:You are saving your model as an HDF5 file via `model.save()` or `keras.saving.save_model(model)`. This file format is considered legacy. We recommend using instead the native Keras format, e.g. `model.save('my_model.keras')` or `keras.saving.save_model(model, 'my_model.keras')`. \n"
     ]
    },
    {
     "name": "stdout",
     "output_type": "stream",
     "text": [
      "\n",
      "Epoch 26: val_loss improved from 0.01433 to 0.01404, saving model to 10Var-Vn30-gru.h5\n"
     ]
    },
    {
     "name": "stderr",
     "output_type": "stream",
     "text": [
      "WARNING:absl:You are saving your model as an HDF5 file via `model.save()` or `keras.saving.save_model(model)`. This file format is considered legacy. We recommend using instead the native Keras format, e.g. `model.save('my_model.keras')` or `keras.saving.save_model(model, 'my_model.keras')`. \n"
     ]
    },
    {
     "name": "stdout",
     "output_type": "stream",
     "text": [
      "\n",
      "Epoch 27: val_loss improved from 0.01404 to 0.01379, saving model to 10Var-Vn30-gru.h5\n"
     ]
    },
    {
     "name": "stderr",
     "output_type": "stream",
     "text": [
      "WARNING:absl:You are saving your model as an HDF5 file via `model.save()` or `keras.saving.save_model(model)`. This file format is considered legacy. We recommend using instead the native Keras format, e.g. `model.save('my_model.keras')` or `keras.saving.save_model(model, 'my_model.keras')`. \n"
     ]
    },
    {
     "name": "stdout",
     "output_type": "stream",
     "text": [
      "\n",
      "Epoch 28: val_loss improved from 0.01379 to 0.01356, saving model to 10Var-Vn30-gru.h5\n"
     ]
    },
    {
     "name": "stderr",
     "output_type": "stream",
     "text": [
      "WARNING:absl:You are saving your model as an HDF5 file via `model.save()` or `keras.saving.save_model(model)`. This file format is considered legacy. We recommend using instead the native Keras format, e.g. `model.save('my_model.keras')` or `keras.saving.save_model(model, 'my_model.keras')`. \n"
     ]
    },
    {
     "name": "stdout",
     "output_type": "stream",
     "text": [
      "\n",
      "Epoch 29: val_loss improved from 0.01356 to 0.01332, saving model to 10Var-Vn30-gru.h5\n"
     ]
    },
    {
     "name": "stderr",
     "output_type": "stream",
     "text": [
      "WARNING:absl:You are saving your model as an HDF5 file via `model.save()` or `keras.saving.save_model(model)`. This file format is considered legacy. We recommend using instead the native Keras format, e.g. `model.save('my_model.keras')` or `keras.saving.save_model(model, 'my_model.keras')`. \n"
     ]
    },
    {
     "name": "stdout",
     "output_type": "stream",
     "text": [
      "\n",
      "Epoch 30: val_loss improved from 0.01332 to 0.01314, saving model to 10Var-Vn30-gru.h5\n"
     ]
    },
    {
     "name": "stderr",
     "output_type": "stream",
     "text": [
      "WARNING:absl:You are saving your model as an HDF5 file via `model.save()` or `keras.saving.save_model(model)`. This file format is considered legacy. We recommend using instead the native Keras format, e.g. `model.save('my_model.keras')` or `keras.saving.save_model(model, 'my_model.keras')`. \n"
     ]
    },
    {
     "name": "stdout",
     "output_type": "stream",
     "text": [
      "\n",
      "Epoch 31: val_loss improved from 0.01314 to 0.01301, saving model to 10Var-Vn30-gru.h5\n"
     ]
    },
    {
     "name": "stderr",
     "output_type": "stream",
     "text": [
      "WARNING:absl:You are saving your model as an HDF5 file via `model.save()` or `keras.saving.save_model(model)`. This file format is considered legacy. We recommend using instead the native Keras format, e.g. `model.save('my_model.keras')` or `keras.saving.save_model(model, 'my_model.keras')`. \n"
     ]
    },
    {
     "name": "stdout",
     "output_type": "stream",
     "text": [
      "\n",
      "Epoch 32: val_loss improved from 0.01301 to 0.01274, saving model to 10Var-Vn30-gru.h5\n"
     ]
    },
    {
     "name": "stderr",
     "output_type": "stream",
     "text": [
      "WARNING:absl:You are saving your model as an HDF5 file via `model.save()` or `keras.saving.save_model(model)`. This file format is considered legacy. We recommend using instead the native Keras format, e.g. `model.save('my_model.keras')` or `keras.saving.save_model(model, 'my_model.keras')`. \n"
     ]
    },
    {
     "name": "stdout",
     "output_type": "stream",
     "text": [
      "\n",
      "Epoch 33: val_loss improved from 0.01274 to 0.01249, saving model to 10Var-Vn30-gru.h5\n"
     ]
    },
    {
     "name": "stderr",
     "output_type": "stream",
     "text": [
      "WARNING:absl:You are saving your model as an HDF5 file via `model.save()` or `keras.saving.save_model(model)`. This file format is considered legacy. We recommend using instead the native Keras format, e.g. `model.save('my_model.keras')` or `keras.saving.save_model(model, 'my_model.keras')`. \n"
     ]
    },
    {
     "name": "stdout",
     "output_type": "stream",
     "text": [
      "\n",
      "Epoch 34: val_loss improved from 0.01249 to 0.01224, saving model to 10Var-Vn30-gru.h5\n"
     ]
    },
    {
     "name": "stderr",
     "output_type": "stream",
     "text": [
      "WARNING:absl:You are saving your model as an HDF5 file via `model.save()` or `keras.saving.save_model(model)`. This file format is considered legacy. We recommend using instead the native Keras format, e.g. `model.save('my_model.keras')` or `keras.saving.save_model(model, 'my_model.keras')`. \n"
     ]
    },
    {
     "name": "stdout",
     "output_type": "stream",
     "text": [
      "\n",
      "Epoch 35: val_loss improved from 0.01224 to 0.01201, saving model to 10Var-Vn30-gru.h5\n"
     ]
    },
    {
     "name": "stderr",
     "output_type": "stream",
     "text": [
      "WARNING:absl:You are saving your model as an HDF5 file via `model.save()` or `keras.saving.save_model(model)`. This file format is considered legacy. We recommend using instead the native Keras format, e.g. `model.save('my_model.keras')` or `keras.saving.save_model(model, 'my_model.keras')`. \n"
     ]
    },
    {
     "name": "stdout",
     "output_type": "stream",
     "text": [
      "\n",
      "Epoch 36: val_loss improved from 0.01201 to 0.01176, saving model to 10Var-Vn30-gru.h5\n"
     ]
    },
    {
     "name": "stderr",
     "output_type": "stream",
     "text": [
      "WARNING:absl:You are saving your model as an HDF5 file via `model.save()` or `keras.saving.save_model(model)`. This file format is considered legacy. We recommend using instead the native Keras format, e.g. `model.save('my_model.keras')` or `keras.saving.save_model(model, 'my_model.keras')`. \n"
     ]
    },
    {
     "name": "stdout",
     "output_type": "stream",
     "text": [
      "\n",
      "Epoch 37: val_loss improved from 0.01176 to 0.01158, saving model to 10Var-Vn30-gru.h5\n"
     ]
    },
    {
     "name": "stderr",
     "output_type": "stream",
     "text": [
      "WARNING:absl:You are saving your model as an HDF5 file via `model.save()` or `keras.saving.save_model(model)`. This file format is considered legacy. We recommend using instead the native Keras format, e.g. `model.save('my_model.keras')` or `keras.saving.save_model(model, 'my_model.keras')`. \n"
     ]
    },
    {
     "name": "stdout",
     "output_type": "stream",
     "text": [
      "\n",
      "Epoch 38: val_loss improved from 0.01158 to 0.01144, saving model to 10Var-Vn30-gru.h5\n"
     ]
    },
    {
     "name": "stderr",
     "output_type": "stream",
     "text": [
      "WARNING:absl:You are saving your model as an HDF5 file via `model.save()` or `keras.saving.save_model(model)`. This file format is considered legacy. We recommend using instead the native Keras format, e.g. `model.save('my_model.keras')` or `keras.saving.save_model(model, 'my_model.keras')`. \n"
     ]
    },
    {
     "name": "stdout",
     "output_type": "stream",
     "text": [
      "\n",
      "Epoch 39: val_loss improved from 0.01144 to 0.01128, saving model to 10Var-Vn30-gru.h5\n"
     ]
    },
    {
     "name": "stderr",
     "output_type": "stream",
     "text": [
      "WARNING:absl:You are saving your model as an HDF5 file via `model.save()` or `keras.saving.save_model(model)`. This file format is considered legacy. We recommend using instead the native Keras format, e.g. `model.save('my_model.keras')` or `keras.saving.save_model(model, 'my_model.keras')`. \n"
     ]
    },
    {
     "name": "stdout",
     "output_type": "stream",
     "text": [
      "\n",
      "Epoch 40: val_loss improved from 0.01128 to 0.01116, saving model to 10Var-Vn30-gru.h5\n"
     ]
    },
    {
     "name": "stderr",
     "output_type": "stream",
     "text": [
      "WARNING:absl:You are saving your model as an HDF5 file via `model.save()` or `keras.saving.save_model(model)`. This file format is considered legacy. We recommend using instead the native Keras format, e.g. `model.save('my_model.keras')` or `keras.saving.save_model(model, 'my_model.keras')`. \n"
     ]
    },
    {
     "name": "stdout",
     "output_type": "stream",
     "text": [
      "\n",
      "Epoch 41: val_loss improved from 0.01116 to 0.01104, saving model to 10Var-Vn30-gru.h5\n"
     ]
    },
    {
     "name": "stderr",
     "output_type": "stream",
     "text": [
      "WARNING:absl:You are saving your model as an HDF5 file via `model.save()` or `keras.saving.save_model(model)`. This file format is considered legacy. We recommend using instead the native Keras format, e.g. `model.save('my_model.keras')` or `keras.saving.save_model(model, 'my_model.keras')`. \n"
     ]
    },
    {
     "name": "stdout",
     "output_type": "stream",
     "text": [
      "\n",
      "Epoch 42: val_loss improved from 0.01104 to 0.01091, saving model to 10Var-Vn30-gru.h5\n"
     ]
    },
    {
     "name": "stderr",
     "output_type": "stream",
     "text": [
      "WARNING:absl:You are saving your model as an HDF5 file via `model.save()` or `keras.saving.save_model(model)`. This file format is considered legacy. We recommend using instead the native Keras format, e.g. `model.save('my_model.keras')` or `keras.saving.save_model(model, 'my_model.keras')`. \n"
     ]
    },
    {
     "name": "stdout",
     "output_type": "stream",
     "text": [
      "\n",
      "Epoch 43: val_loss improved from 0.01091 to 0.01081, saving model to 10Var-Vn30-gru.h5\n"
     ]
    },
    {
     "name": "stderr",
     "output_type": "stream",
     "text": [
      "WARNING:absl:You are saving your model as an HDF5 file via `model.save()` or `keras.saving.save_model(model)`. This file format is considered legacy. We recommend using instead the native Keras format, e.g. `model.save('my_model.keras')` or `keras.saving.save_model(model, 'my_model.keras')`. \n"
     ]
    },
    {
     "name": "stdout",
     "output_type": "stream",
     "text": [
      "\n",
      "Epoch 44: val_loss improved from 0.01081 to 0.01069, saving model to 10Var-Vn30-gru.h5\n"
     ]
    },
    {
     "name": "stderr",
     "output_type": "stream",
     "text": [
      "WARNING:absl:You are saving your model as an HDF5 file via `model.save()` or `keras.saving.save_model(model)`. This file format is considered legacy. We recommend using instead the native Keras format, e.g. `model.save('my_model.keras')` or `keras.saving.save_model(model, 'my_model.keras')`. \n"
     ]
    },
    {
     "name": "stdout",
     "output_type": "stream",
     "text": [
      "\n",
      "Epoch 45: val_loss improved from 0.01069 to 0.01063, saving model to 10Var-Vn30-gru.h5\n"
     ]
    },
    {
     "name": "stderr",
     "output_type": "stream",
     "text": [
      "WARNING:absl:You are saving your model as an HDF5 file via `model.save()` or `keras.saving.save_model(model)`. This file format is considered legacy. We recommend using instead the native Keras format, e.g. `model.save('my_model.keras')` or `keras.saving.save_model(model, 'my_model.keras')`. \n"
     ]
    },
    {
     "name": "stdout",
     "output_type": "stream",
     "text": [
      "\n",
      "Epoch 46: val_loss improved from 0.01063 to 0.01052, saving model to 10Var-Vn30-gru.h5\n"
     ]
    },
    {
     "name": "stderr",
     "output_type": "stream",
     "text": [
      "WARNING:absl:You are saving your model as an HDF5 file via `model.save()` or `keras.saving.save_model(model)`. This file format is considered legacy. We recommend using instead the native Keras format, e.g. `model.save('my_model.keras')` or `keras.saving.save_model(model, 'my_model.keras')`. \n"
     ]
    },
    {
     "name": "stdout",
     "output_type": "stream",
     "text": [
      "\n",
      "Epoch 47: val_loss improved from 0.01052 to 0.01046, saving model to 10Var-Vn30-gru.h5\n"
     ]
    },
    {
     "name": "stderr",
     "output_type": "stream",
     "text": [
      "WARNING:absl:You are saving your model as an HDF5 file via `model.save()` or `keras.saving.save_model(model)`. This file format is considered legacy. We recommend using instead the native Keras format, e.g. `model.save('my_model.keras')` or `keras.saving.save_model(model, 'my_model.keras')`. \n"
     ]
    },
    {
     "name": "stdout",
     "output_type": "stream",
     "text": [
      "\n",
      "Epoch 48: val_loss improved from 0.01046 to 0.01036, saving model to 10Var-Vn30-gru.h5\n"
     ]
    },
    {
     "name": "stderr",
     "output_type": "stream",
     "text": [
      "WARNING:absl:You are saving your model as an HDF5 file via `model.save()` or `keras.saving.save_model(model)`. This file format is considered legacy. We recommend using instead the native Keras format, e.g. `model.save('my_model.keras')` or `keras.saving.save_model(model, 'my_model.keras')`. \n"
     ]
    },
    {
     "name": "stdout",
     "output_type": "stream",
     "text": [
      "\n",
      "Epoch 49: val_loss improved from 0.01036 to 0.01031, saving model to 10Var-Vn30-gru.h5\n"
     ]
    },
    {
     "name": "stderr",
     "output_type": "stream",
     "text": [
      "WARNING:absl:You are saving your model as an HDF5 file via `model.save()` or `keras.saving.save_model(model)`. This file format is considered legacy. We recommend using instead the native Keras format, e.g. `model.save('my_model.keras')` or `keras.saving.save_model(model, 'my_model.keras')`. \n"
     ]
    },
    {
     "name": "stdout",
     "output_type": "stream",
     "text": [
      "\n",
      "Epoch 50: val_loss improved from 0.01031 to 0.01021, saving model to 10Var-Vn30-gru.h5\n"
     ]
    },
    {
     "name": "stderr",
     "output_type": "stream",
     "text": [
      "WARNING:absl:You are saving your model as an HDF5 file via `model.save()` or `keras.saving.save_model(model)`. This file format is considered legacy. We recommend using instead the native Keras format, e.g. `model.save('my_model.keras')` or `keras.saving.save_model(model, 'my_model.keras')`. \n"
     ]
    },
    {
     "name": "stdout",
     "output_type": "stream",
     "text": [
      "\n",
      "Epoch 51: val_loss improved from 0.01021 to 0.01015, saving model to 10Var-Vn30-gru.h5\n"
     ]
    },
    {
     "name": "stderr",
     "output_type": "stream",
     "text": [
      "WARNING:absl:You are saving your model as an HDF5 file via `model.save()` or `keras.saving.save_model(model)`. This file format is considered legacy. We recommend using instead the native Keras format, e.g. `model.save('my_model.keras')` or `keras.saving.save_model(model, 'my_model.keras')`. \n"
     ]
    },
    {
     "name": "stdout",
     "output_type": "stream",
     "text": [
      "\n",
      "Epoch 52: val_loss improved from 0.01015 to 0.01006, saving model to 10Var-Vn30-gru.h5\n"
     ]
    },
    {
     "name": "stderr",
     "output_type": "stream",
     "text": [
      "WARNING:absl:You are saving your model as an HDF5 file via `model.save()` or `keras.saving.save_model(model)`. This file format is considered legacy. We recommend using instead the native Keras format, e.g. `model.save('my_model.keras')` or `keras.saving.save_model(model, 'my_model.keras')`. \n"
     ]
    },
    {
     "name": "stdout",
     "output_type": "stream",
     "text": [
      "\n",
      "Epoch 53: val_loss improved from 0.01006 to 0.01000, saving model to 10Var-Vn30-gru.h5\n"
     ]
    },
    {
     "name": "stderr",
     "output_type": "stream",
     "text": [
      "WARNING:absl:You are saving your model as an HDF5 file via `model.save()` or `keras.saving.save_model(model)`. This file format is considered legacy. We recommend using instead the native Keras format, e.g. `model.save('my_model.keras')` or `keras.saving.save_model(model, 'my_model.keras')`. \n"
     ]
    },
    {
     "name": "stdout",
     "output_type": "stream",
     "text": [
      "\n",
      "Epoch 54: val_loss did not improve from 0.01000\n",
      "\n",
      "Epoch 55: val_loss improved from 0.01000 to 0.00980, saving model to 10Var-Vn30-gru.h5\n"
     ]
    },
    {
     "name": "stderr",
     "output_type": "stream",
     "text": [
      "WARNING:absl:You are saving your model as an HDF5 file via `model.save()` or `keras.saving.save_model(model)`. This file format is considered legacy. We recommend using instead the native Keras format, e.g. `model.save('my_model.keras')` or `keras.saving.save_model(model, 'my_model.keras')`. \n"
     ]
    },
    {
     "name": "stdout",
     "output_type": "stream",
     "text": [
      "\n",
      "Epoch 56: val_loss improved from 0.00980 to 0.00973, saving model to 10Var-Vn30-gru.h5\n"
     ]
    },
    {
     "name": "stderr",
     "output_type": "stream",
     "text": [
      "WARNING:absl:You are saving your model as an HDF5 file via `model.save()` or `keras.saving.save_model(model)`. This file format is considered legacy. We recommend using instead the native Keras format, e.g. `model.save('my_model.keras')` or `keras.saving.save_model(model, 'my_model.keras')`. \n"
     ]
    },
    {
     "name": "stdout",
     "output_type": "stream",
     "text": [
      "\n",
      "Epoch 57: val_loss improved from 0.00973 to 0.00965, saving model to 10Var-Vn30-gru.h5\n"
     ]
    },
    {
     "name": "stderr",
     "output_type": "stream",
     "text": [
      "WARNING:absl:You are saving your model as an HDF5 file via `model.save()` or `keras.saving.save_model(model)`. This file format is considered legacy. We recommend using instead the native Keras format, e.g. `model.save('my_model.keras')` or `keras.saving.save_model(model, 'my_model.keras')`. \n"
     ]
    },
    {
     "name": "stdout",
     "output_type": "stream",
     "text": [
      "\n",
      "Epoch 58: val_loss improved from 0.00965 to 0.00957, saving model to 10Var-Vn30-gru.h5\n"
     ]
    },
    {
     "name": "stderr",
     "output_type": "stream",
     "text": [
      "WARNING:absl:You are saving your model as an HDF5 file via `model.save()` or `keras.saving.save_model(model)`. This file format is considered legacy. We recommend using instead the native Keras format, e.g. `model.save('my_model.keras')` or `keras.saving.save_model(model, 'my_model.keras')`. \n"
     ]
    },
    {
     "name": "stdout",
     "output_type": "stream",
     "text": [
      "\n",
      "Epoch 59: val_loss improved from 0.00957 to 0.00948, saving model to 10Var-Vn30-gru.h5\n"
     ]
    },
    {
     "name": "stderr",
     "output_type": "stream",
     "text": [
      "WARNING:absl:You are saving your model as an HDF5 file via `model.save()` or `keras.saving.save_model(model)`. This file format is considered legacy. We recommend using instead the native Keras format, e.g. `model.save('my_model.keras')` or `keras.saving.save_model(model, 'my_model.keras')`. \n"
     ]
    },
    {
     "name": "stdout",
     "output_type": "stream",
     "text": [
      "\n",
      "Epoch 60: val_loss improved from 0.00948 to 0.00942, saving model to 10Var-Vn30-gru.h5\n"
     ]
    },
    {
     "name": "stderr",
     "output_type": "stream",
     "text": [
      "WARNING:absl:You are saving your model as an HDF5 file via `model.save()` or `keras.saving.save_model(model)`. This file format is considered legacy. We recommend using instead the native Keras format, e.g. `model.save('my_model.keras')` or `keras.saving.save_model(model, 'my_model.keras')`. \n"
     ]
    },
    {
     "name": "stdout",
     "output_type": "stream",
     "text": [
      "\n",
      "Epoch 61: val_loss improved from 0.00942 to 0.00933, saving model to 10Var-Vn30-gru.h5\n"
     ]
    },
    {
     "name": "stderr",
     "output_type": "stream",
     "text": [
      "WARNING:absl:You are saving your model as an HDF5 file via `model.save()` or `keras.saving.save_model(model)`. This file format is considered legacy. We recommend using instead the native Keras format, e.g. `model.save('my_model.keras')` or `keras.saving.save_model(model, 'my_model.keras')`. \n"
     ]
    },
    {
     "name": "stdout",
     "output_type": "stream",
     "text": [
      "\n",
      "Epoch 62: val_loss improved from 0.00933 to 0.00927, saving model to 10Var-Vn30-gru.h5\n"
     ]
    },
    {
     "name": "stderr",
     "output_type": "stream",
     "text": [
      "WARNING:absl:You are saving your model as an HDF5 file via `model.save()` or `keras.saving.save_model(model)`. This file format is considered legacy. We recommend using instead the native Keras format, e.g. `model.save('my_model.keras')` or `keras.saving.save_model(model, 'my_model.keras')`. \n"
     ]
    },
    {
     "name": "stdout",
     "output_type": "stream",
     "text": [
      "\n",
      "Epoch 63: val_loss improved from 0.00927 to 0.00918, saving model to 10Var-Vn30-gru.h5\n"
     ]
    },
    {
     "name": "stderr",
     "output_type": "stream",
     "text": [
      "WARNING:absl:You are saving your model as an HDF5 file via `model.save()` or `keras.saving.save_model(model)`. This file format is considered legacy. We recommend using instead the native Keras format, e.g. `model.save('my_model.keras')` or `keras.saving.save_model(model, 'my_model.keras')`. \n"
     ]
    },
    {
     "name": "stdout",
     "output_type": "stream",
     "text": [
      "\n",
      "Epoch 64: val_loss improved from 0.00918 to 0.00913, saving model to 10Var-Vn30-gru.h5\n"
     ]
    },
    {
     "name": "stderr",
     "output_type": "stream",
     "text": [
      "WARNING:absl:You are saving your model as an HDF5 file via `model.save()` or `keras.saving.save_model(model)`. This file format is considered legacy. We recommend using instead the native Keras format, e.g. `model.save('my_model.keras')` or `keras.saving.save_model(model, 'my_model.keras')`. \n"
     ]
    },
    {
     "name": "stdout",
     "output_type": "stream",
     "text": [
      "\n",
      "Epoch 65: val_loss improved from 0.00913 to 0.00905, saving model to 10Var-Vn30-gru.h5\n"
     ]
    },
    {
     "name": "stderr",
     "output_type": "stream",
     "text": [
      "WARNING:absl:You are saving your model as an HDF5 file via `model.save()` or `keras.saving.save_model(model)`. This file format is considered legacy. We recommend using instead the native Keras format, e.g. `model.save('my_model.keras')` or `keras.saving.save_model(model, 'my_model.keras')`. \n"
     ]
    },
    {
     "name": "stdout",
     "output_type": "stream",
     "text": [
      "\n",
      "Epoch 66: val_loss improved from 0.00905 to 0.00898, saving model to 10Var-Vn30-gru.h5\n"
     ]
    },
    {
     "name": "stderr",
     "output_type": "stream",
     "text": [
      "WARNING:absl:You are saving your model as an HDF5 file via `model.save()` or `keras.saving.save_model(model)`. This file format is considered legacy. We recommend using instead the native Keras format, e.g. `model.save('my_model.keras')` or `keras.saving.save_model(model, 'my_model.keras')`. \n"
     ]
    },
    {
     "name": "stdout",
     "output_type": "stream",
     "text": [
      "\n",
      "Epoch 67: val_loss improved from 0.00898 to 0.00890, saving model to 10Var-Vn30-gru.h5\n"
     ]
    },
    {
     "name": "stderr",
     "output_type": "stream",
     "text": [
      "WARNING:absl:You are saving your model as an HDF5 file via `model.save()` or `keras.saving.save_model(model)`. This file format is considered legacy. We recommend using instead the native Keras format, e.g. `model.save('my_model.keras')` or `keras.saving.save_model(model, 'my_model.keras')`. \n"
     ]
    },
    {
     "name": "stdout",
     "output_type": "stream",
     "text": [
      "\n",
      "Epoch 68: val_loss improved from 0.00890 to 0.00883, saving model to 10Var-Vn30-gru.h5\n"
     ]
    },
    {
     "name": "stderr",
     "output_type": "stream",
     "text": [
      "WARNING:absl:You are saving your model as an HDF5 file via `model.save()` or `keras.saving.save_model(model)`. This file format is considered legacy. We recommend using instead the native Keras format, e.g. `model.save('my_model.keras')` or `keras.saving.save_model(model, 'my_model.keras')`. \n"
     ]
    },
    {
     "name": "stdout",
     "output_type": "stream",
     "text": [
      "\n",
      "Epoch 69: val_loss improved from 0.00883 to 0.00875, saving model to 10Var-Vn30-gru.h5\n"
     ]
    },
    {
     "name": "stderr",
     "output_type": "stream",
     "text": [
      "WARNING:absl:You are saving your model as an HDF5 file via `model.save()` or `keras.saving.save_model(model)`. This file format is considered legacy. We recommend using instead the native Keras format, e.g. `model.save('my_model.keras')` or `keras.saving.save_model(model, 'my_model.keras')`. \n"
     ]
    },
    {
     "name": "stdout",
     "output_type": "stream",
     "text": [
      "\n",
      "Epoch 70: val_loss improved from 0.00875 to 0.00867, saving model to 10Var-Vn30-gru.h5\n"
     ]
    },
    {
     "name": "stderr",
     "output_type": "stream",
     "text": [
      "WARNING:absl:You are saving your model as an HDF5 file via `model.save()` or `keras.saving.save_model(model)`. This file format is considered legacy. We recommend using instead the native Keras format, e.g. `model.save('my_model.keras')` or `keras.saving.save_model(model, 'my_model.keras')`. \n"
     ]
    },
    {
     "name": "stdout",
     "output_type": "stream",
     "text": [
      "\n",
      "Epoch 71: val_loss improved from 0.00867 to 0.00859, saving model to 10Var-Vn30-gru.h5\n"
     ]
    },
    {
     "name": "stderr",
     "output_type": "stream",
     "text": [
      "WARNING:absl:You are saving your model as an HDF5 file via `model.save()` or `keras.saving.save_model(model)`. This file format is considered legacy. We recommend using instead the native Keras format, e.g. `model.save('my_model.keras')` or `keras.saving.save_model(model, 'my_model.keras')`. \n"
     ]
    },
    {
     "name": "stdout",
     "output_type": "stream",
     "text": [
      "\n",
      "Epoch 72: val_loss improved from 0.00859 to 0.00851, saving model to 10Var-Vn30-gru.h5\n"
     ]
    },
    {
     "name": "stderr",
     "output_type": "stream",
     "text": [
      "WARNING:absl:You are saving your model as an HDF5 file via `model.save()` or `keras.saving.save_model(model)`. This file format is considered legacy. We recommend using instead the native Keras format, e.g. `model.save('my_model.keras')` or `keras.saving.save_model(model, 'my_model.keras')`. \n"
     ]
    },
    {
     "name": "stdout",
     "output_type": "stream",
     "text": [
      "\n",
      "Epoch 73: val_loss improved from 0.00851 to 0.00843, saving model to 10Var-Vn30-gru.h5\n"
     ]
    },
    {
     "name": "stderr",
     "output_type": "stream",
     "text": [
      "WARNING:absl:You are saving your model as an HDF5 file via `model.save()` or `keras.saving.save_model(model)`. This file format is considered legacy. We recommend using instead the native Keras format, e.g. `model.save('my_model.keras')` or `keras.saving.save_model(model, 'my_model.keras')`. \n"
     ]
    },
    {
     "name": "stdout",
     "output_type": "stream",
     "text": [
      "\n",
      "Epoch 74: val_loss improved from 0.00843 to 0.00834, saving model to 10Var-Vn30-gru.h5\n"
     ]
    },
    {
     "name": "stderr",
     "output_type": "stream",
     "text": [
      "WARNING:absl:You are saving your model as an HDF5 file via `model.save()` or `keras.saving.save_model(model)`. This file format is considered legacy. We recommend using instead the native Keras format, e.g. `model.save('my_model.keras')` or `keras.saving.save_model(model, 'my_model.keras')`. \n"
     ]
    },
    {
     "name": "stdout",
     "output_type": "stream",
     "text": [
      "\n",
      "Epoch 75: val_loss improved from 0.00834 to 0.00826, saving model to 10Var-Vn30-gru.h5\n"
     ]
    },
    {
     "name": "stderr",
     "output_type": "stream",
     "text": [
      "WARNING:absl:You are saving your model as an HDF5 file via `model.save()` or `keras.saving.save_model(model)`. This file format is considered legacy. We recommend using instead the native Keras format, e.g. `model.save('my_model.keras')` or `keras.saving.save_model(model, 'my_model.keras')`. \n"
     ]
    },
    {
     "name": "stdout",
     "output_type": "stream",
     "text": [
      "\n",
      "Epoch 76: val_loss improved from 0.00826 to 0.00819, saving model to 10Var-Vn30-gru.h5\n"
     ]
    },
    {
     "name": "stderr",
     "output_type": "stream",
     "text": [
      "WARNING:absl:You are saving your model as an HDF5 file via `model.save()` or `keras.saving.save_model(model)`. This file format is considered legacy. We recommend using instead the native Keras format, e.g. `model.save('my_model.keras')` or `keras.saving.save_model(model, 'my_model.keras')`. \n"
     ]
    },
    {
     "name": "stdout",
     "output_type": "stream",
     "text": [
      "\n",
      "Epoch 77: val_loss improved from 0.00819 to 0.00813, saving model to 10Var-Vn30-gru.h5\n"
     ]
    },
    {
     "name": "stderr",
     "output_type": "stream",
     "text": [
      "WARNING:absl:You are saving your model as an HDF5 file via `model.save()` or `keras.saving.save_model(model)`. This file format is considered legacy. We recommend using instead the native Keras format, e.g. `model.save('my_model.keras')` or `keras.saving.save_model(model, 'my_model.keras')`. \n"
     ]
    },
    {
     "name": "stdout",
     "output_type": "stream",
     "text": [
      "\n",
      "Epoch 78: val_loss improved from 0.00813 to 0.00808, saving model to 10Var-Vn30-gru.h5\n"
     ]
    },
    {
     "name": "stderr",
     "output_type": "stream",
     "text": [
      "WARNING:absl:You are saving your model as an HDF5 file via `model.save()` or `keras.saving.save_model(model)`. This file format is considered legacy. We recommend using instead the native Keras format, e.g. `model.save('my_model.keras')` or `keras.saving.save_model(model, 'my_model.keras')`. \n"
     ]
    },
    {
     "name": "stdout",
     "output_type": "stream",
     "text": [
      "\n",
      "Epoch 79: val_loss improved from 0.00808 to 0.00798, saving model to 10Var-Vn30-gru.h5\n"
     ]
    },
    {
     "name": "stderr",
     "output_type": "stream",
     "text": [
      "WARNING:absl:You are saving your model as an HDF5 file via `model.save()` or `keras.saving.save_model(model)`. This file format is considered legacy. We recommend using instead the native Keras format, e.g. `model.save('my_model.keras')` or `keras.saving.save_model(model, 'my_model.keras')`. \n"
     ]
    },
    {
     "name": "stdout",
     "output_type": "stream",
     "text": [
      "\n",
      "Epoch 80: val_loss improved from 0.00798 to 0.00791, saving model to 10Var-Vn30-gru.h5\n"
     ]
    },
    {
     "name": "stderr",
     "output_type": "stream",
     "text": [
      "WARNING:absl:You are saving your model as an HDF5 file via `model.save()` or `keras.saving.save_model(model)`. This file format is considered legacy. We recommend using instead the native Keras format, e.g. `model.save('my_model.keras')` or `keras.saving.save_model(model, 'my_model.keras')`. \n"
     ]
    },
    {
     "name": "stdout",
     "output_type": "stream",
     "text": [
      "\n",
      "Epoch 81: val_loss improved from 0.00791 to 0.00783, saving model to 10Var-Vn30-gru.h5\n"
     ]
    },
    {
     "name": "stderr",
     "output_type": "stream",
     "text": [
      "WARNING:absl:You are saving your model as an HDF5 file via `model.save()` or `keras.saving.save_model(model)`. This file format is considered legacy. We recommend using instead the native Keras format, e.g. `model.save('my_model.keras')` or `keras.saving.save_model(model, 'my_model.keras')`. \n"
     ]
    },
    {
     "name": "stdout",
     "output_type": "stream",
     "text": [
      "\n",
      "Epoch 82: val_loss improved from 0.00783 to 0.00774, saving model to 10Var-Vn30-gru.h5\n"
     ]
    },
    {
     "name": "stderr",
     "output_type": "stream",
     "text": [
      "WARNING:absl:You are saving your model as an HDF5 file via `model.save()` or `keras.saving.save_model(model)`. This file format is considered legacy. We recommend using instead the native Keras format, e.g. `model.save('my_model.keras')` or `keras.saving.save_model(model, 'my_model.keras')`. \n"
     ]
    },
    {
     "name": "stdout",
     "output_type": "stream",
     "text": [
      "\n",
      "Epoch 83: val_loss improved from 0.00774 to 0.00766, saving model to 10Var-Vn30-gru.h5\n"
     ]
    },
    {
     "name": "stderr",
     "output_type": "stream",
     "text": [
      "WARNING:absl:You are saving your model as an HDF5 file via `model.save()` or `keras.saving.save_model(model)`. This file format is considered legacy. We recommend using instead the native Keras format, e.g. `model.save('my_model.keras')` or `keras.saving.save_model(model, 'my_model.keras')`. \n"
     ]
    },
    {
     "name": "stdout",
     "output_type": "stream",
     "text": [
      "\n",
      "Epoch 84: val_loss improved from 0.00766 to 0.00756, saving model to 10Var-Vn30-gru.h5\n"
     ]
    },
    {
     "name": "stderr",
     "output_type": "stream",
     "text": [
      "WARNING:absl:You are saving your model as an HDF5 file via `model.save()` or `keras.saving.save_model(model)`. This file format is considered legacy. We recommend using instead the native Keras format, e.g. `model.save('my_model.keras')` or `keras.saving.save_model(model, 'my_model.keras')`. \n"
     ]
    },
    {
     "name": "stdout",
     "output_type": "stream",
     "text": [
      "\n",
      "Epoch 85: val_loss improved from 0.00756 to 0.00747, saving model to 10Var-Vn30-gru.h5\n"
     ]
    },
    {
     "name": "stderr",
     "output_type": "stream",
     "text": [
      "WARNING:absl:You are saving your model as an HDF5 file via `model.save()` or `keras.saving.save_model(model)`. This file format is considered legacy. We recommend using instead the native Keras format, e.g. `model.save('my_model.keras')` or `keras.saving.save_model(model, 'my_model.keras')`. \n"
     ]
    },
    {
     "name": "stdout",
     "output_type": "stream",
     "text": [
      "\n",
      "Epoch 86: val_loss improved from 0.00747 to 0.00738, saving model to 10Var-Vn30-gru.h5\n"
     ]
    },
    {
     "name": "stderr",
     "output_type": "stream",
     "text": [
      "WARNING:absl:You are saving your model as an HDF5 file via `model.save()` or `keras.saving.save_model(model)`. This file format is considered legacy. We recommend using instead the native Keras format, e.g. `model.save('my_model.keras')` or `keras.saving.save_model(model, 'my_model.keras')`. \n"
     ]
    },
    {
     "name": "stdout",
     "output_type": "stream",
     "text": [
      "\n",
      "Epoch 87: val_loss improved from 0.00738 to 0.00729, saving model to 10Var-Vn30-gru.h5\n"
     ]
    },
    {
     "name": "stderr",
     "output_type": "stream",
     "text": [
      "WARNING:absl:You are saving your model as an HDF5 file via `model.save()` or `keras.saving.save_model(model)`. This file format is considered legacy. We recommend using instead the native Keras format, e.g. `model.save('my_model.keras')` or `keras.saving.save_model(model, 'my_model.keras')`. \n"
     ]
    },
    {
     "name": "stdout",
     "output_type": "stream",
     "text": [
      "\n",
      "Epoch 88: val_loss improved from 0.00729 to 0.00720, saving model to 10Var-Vn30-gru.h5\n"
     ]
    },
    {
     "name": "stderr",
     "output_type": "stream",
     "text": [
      "WARNING:absl:You are saving your model as an HDF5 file via `model.save()` or `keras.saving.save_model(model)`. This file format is considered legacy. We recommend using instead the native Keras format, e.g. `model.save('my_model.keras')` or `keras.saving.save_model(model, 'my_model.keras')`. \n"
     ]
    },
    {
     "name": "stdout",
     "output_type": "stream",
     "text": [
      "\n",
      "Epoch 89: val_loss improved from 0.00720 to 0.00710, saving model to 10Var-Vn30-gru.h5\n"
     ]
    },
    {
     "name": "stderr",
     "output_type": "stream",
     "text": [
      "WARNING:absl:You are saving your model as an HDF5 file via `model.save()` or `keras.saving.save_model(model)`. This file format is considered legacy. We recommend using instead the native Keras format, e.g. `model.save('my_model.keras')` or `keras.saving.save_model(model, 'my_model.keras')`. \n"
     ]
    },
    {
     "name": "stdout",
     "output_type": "stream",
     "text": [
      "\n",
      "Epoch 90: val_loss improved from 0.00710 to 0.00701, saving model to 10Var-Vn30-gru.h5\n"
     ]
    },
    {
     "name": "stderr",
     "output_type": "stream",
     "text": [
      "WARNING:absl:You are saving your model as an HDF5 file via `model.save()` or `keras.saving.save_model(model)`. This file format is considered legacy. We recommend using instead the native Keras format, e.g. `model.save('my_model.keras')` or `keras.saving.save_model(model, 'my_model.keras')`. \n"
     ]
    },
    {
     "name": "stdout",
     "output_type": "stream",
     "text": [
      "\n",
      "Epoch 91: val_loss improved from 0.00701 to 0.00692, saving model to 10Var-Vn30-gru.h5\n"
     ]
    },
    {
     "name": "stderr",
     "output_type": "stream",
     "text": [
      "WARNING:absl:You are saving your model as an HDF5 file via `model.save()` or `keras.saving.save_model(model)`. This file format is considered legacy. We recommend using instead the native Keras format, e.g. `model.save('my_model.keras')` or `keras.saving.save_model(model, 'my_model.keras')`. \n"
     ]
    },
    {
     "name": "stdout",
     "output_type": "stream",
     "text": [
      "\n",
      "Epoch 92: val_loss improved from 0.00692 to 0.00682, saving model to 10Var-Vn30-gru.h5\n"
     ]
    },
    {
     "name": "stderr",
     "output_type": "stream",
     "text": [
      "WARNING:absl:You are saving your model as an HDF5 file via `model.save()` or `keras.saving.save_model(model)`. This file format is considered legacy. We recommend using instead the native Keras format, e.g. `model.save('my_model.keras')` or `keras.saving.save_model(model, 'my_model.keras')`. \n"
     ]
    },
    {
     "name": "stdout",
     "output_type": "stream",
     "text": [
      "\n",
      "Epoch 93: val_loss improved from 0.00682 to 0.00672, saving model to 10Var-Vn30-gru.h5\n"
     ]
    },
    {
     "name": "stderr",
     "output_type": "stream",
     "text": [
      "WARNING:absl:You are saving your model as an HDF5 file via `model.save()` or `keras.saving.save_model(model)`. This file format is considered legacy. We recommend using instead the native Keras format, e.g. `model.save('my_model.keras')` or `keras.saving.save_model(model, 'my_model.keras')`. \n"
     ]
    },
    {
     "name": "stdout",
     "output_type": "stream",
     "text": [
      "\n",
      "Epoch 94: val_loss improved from 0.00672 to 0.00664, saving model to 10Var-Vn30-gru.h5\n"
     ]
    },
    {
     "name": "stderr",
     "output_type": "stream",
     "text": [
      "WARNING:absl:You are saving your model as an HDF5 file via `model.save()` or `keras.saving.save_model(model)`. This file format is considered legacy. We recommend using instead the native Keras format, e.g. `model.save('my_model.keras')` or `keras.saving.save_model(model, 'my_model.keras')`. \n"
     ]
    },
    {
     "name": "stdout",
     "output_type": "stream",
     "text": [
      "\n",
      "Epoch 95: val_loss improved from 0.00664 to 0.00654, saving model to 10Var-Vn30-gru.h5\n"
     ]
    },
    {
     "name": "stderr",
     "output_type": "stream",
     "text": [
      "WARNING:absl:You are saving your model as an HDF5 file via `model.save()` or `keras.saving.save_model(model)`. This file format is considered legacy. We recommend using instead the native Keras format, e.g. `model.save('my_model.keras')` or `keras.saving.save_model(model, 'my_model.keras')`. \n"
     ]
    },
    {
     "name": "stdout",
     "output_type": "stream",
     "text": [
      "\n",
      "Epoch 96: val_loss improved from 0.00654 to 0.00646, saving model to 10Var-Vn30-gru.h5\n"
     ]
    },
    {
     "name": "stderr",
     "output_type": "stream",
     "text": [
      "WARNING:absl:You are saving your model as an HDF5 file via `model.save()` or `keras.saving.save_model(model)`. This file format is considered legacy. We recommend using instead the native Keras format, e.g. `model.save('my_model.keras')` or `keras.saving.save_model(model, 'my_model.keras')`. \n"
     ]
    },
    {
     "name": "stdout",
     "output_type": "stream",
     "text": [
      "\n",
      "Epoch 97: val_loss improved from 0.00646 to 0.00636, saving model to 10Var-Vn30-gru.h5\n"
     ]
    },
    {
     "name": "stderr",
     "output_type": "stream",
     "text": [
      "WARNING:absl:You are saving your model as an HDF5 file via `model.save()` or `keras.saving.save_model(model)`. This file format is considered legacy. We recommend using instead the native Keras format, e.g. `model.save('my_model.keras')` or `keras.saving.save_model(model, 'my_model.keras')`. \n"
     ]
    },
    {
     "name": "stdout",
     "output_type": "stream",
     "text": [
      "\n",
      "Epoch 98: val_loss improved from 0.00636 to 0.00628, saving model to 10Var-Vn30-gru.h5\n"
     ]
    },
    {
     "name": "stderr",
     "output_type": "stream",
     "text": [
      "WARNING:absl:You are saving your model as an HDF5 file via `model.save()` or `keras.saving.save_model(model)`. This file format is considered legacy. We recommend using instead the native Keras format, e.g. `model.save('my_model.keras')` or `keras.saving.save_model(model, 'my_model.keras')`. \n"
     ]
    },
    {
     "name": "stdout",
     "output_type": "stream",
     "text": [
      "\n",
      "Epoch 99: val_loss improved from 0.00628 to 0.00619, saving model to 10Var-Vn30-gru.h5\n"
     ]
    },
    {
     "name": "stderr",
     "output_type": "stream",
     "text": [
      "WARNING:absl:You are saving your model as an HDF5 file via `model.save()` or `keras.saving.save_model(model)`. This file format is considered legacy. We recommend using instead the native Keras format, e.g. `model.save('my_model.keras')` or `keras.saving.save_model(model, 'my_model.keras')`. \n"
     ]
    },
    {
     "name": "stdout",
     "output_type": "stream",
     "text": [
      "\n",
      "Epoch 100: val_loss improved from 0.00619 to 0.00610, saving model to 10Var-Vn30-gru.h5\n"
     ]
    },
    {
     "name": "stderr",
     "output_type": "stream",
     "text": [
      "WARNING:absl:You are saving your model as an HDF5 file via `model.save()` or `keras.saving.save_model(model)`. This file format is considered legacy. We recommend using instead the native Keras format, e.g. `model.save('my_model.keras')` or `keras.saving.save_model(model, 'my_model.keras')`. \n"
     ]
    },
    {
     "name": "stdout",
     "output_type": "stream",
     "text": [
      "\n",
      "Epoch 101: val_loss improved from 0.00610 to 0.00601, saving model to 10Var-Vn30-gru.h5\n"
     ]
    },
    {
     "name": "stderr",
     "output_type": "stream",
     "text": [
      "WARNING:absl:You are saving your model as an HDF5 file via `model.save()` or `keras.saving.save_model(model)`. This file format is considered legacy. We recommend using instead the native Keras format, e.g. `model.save('my_model.keras')` or `keras.saving.save_model(model, 'my_model.keras')`. \n"
     ]
    },
    {
     "name": "stdout",
     "output_type": "stream",
     "text": [
      "\n",
      "Epoch 102: val_loss improved from 0.00601 to 0.00592, saving model to 10Var-Vn30-gru.h5\n"
     ]
    },
    {
     "name": "stderr",
     "output_type": "stream",
     "text": [
      "WARNING:absl:You are saving your model as an HDF5 file via `model.save()` or `keras.saving.save_model(model)`. This file format is considered legacy. We recommend using instead the native Keras format, e.g. `model.save('my_model.keras')` or `keras.saving.save_model(model, 'my_model.keras')`. \n"
     ]
    },
    {
     "name": "stdout",
     "output_type": "stream",
     "text": [
      "\n",
      "Epoch 103: val_loss improved from 0.00592 to 0.00583, saving model to 10Var-Vn30-gru.h5\n"
     ]
    },
    {
     "name": "stderr",
     "output_type": "stream",
     "text": [
      "WARNING:absl:You are saving your model as an HDF5 file via `model.save()` or `keras.saving.save_model(model)`. This file format is considered legacy. We recommend using instead the native Keras format, e.g. `model.save('my_model.keras')` or `keras.saving.save_model(model, 'my_model.keras')`. \n"
     ]
    },
    {
     "name": "stdout",
     "output_type": "stream",
     "text": [
      "\n",
      "Epoch 104: val_loss improved from 0.00583 to 0.00575, saving model to 10Var-Vn30-gru.h5\n"
     ]
    },
    {
     "name": "stderr",
     "output_type": "stream",
     "text": [
      "WARNING:absl:You are saving your model as an HDF5 file via `model.save()` or `keras.saving.save_model(model)`. This file format is considered legacy. We recommend using instead the native Keras format, e.g. `model.save('my_model.keras')` or `keras.saving.save_model(model, 'my_model.keras')`. \n"
     ]
    },
    {
     "name": "stdout",
     "output_type": "stream",
     "text": [
      "\n",
      "Epoch 105: val_loss improved from 0.00575 to 0.00566, saving model to 10Var-Vn30-gru.h5\n"
     ]
    },
    {
     "name": "stderr",
     "output_type": "stream",
     "text": [
      "WARNING:absl:You are saving your model as an HDF5 file via `model.save()` or `keras.saving.save_model(model)`. This file format is considered legacy. We recommend using instead the native Keras format, e.g. `model.save('my_model.keras')` or `keras.saving.save_model(model, 'my_model.keras')`. \n"
     ]
    },
    {
     "name": "stdout",
     "output_type": "stream",
     "text": [
      "\n",
      "Epoch 106: val_loss improved from 0.00566 to 0.00558, saving model to 10Var-Vn30-gru.h5\n"
     ]
    },
    {
     "name": "stderr",
     "output_type": "stream",
     "text": [
      "WARNING:absl:You are saving your model as an HDF5 file via `model.save()` or `keras.saving.save_model(model)`. This file format is considered legacy. We recommend using instead the native Keras format, e.g. `model.save('my_model.keras')` or `keras.saving.save_model(model, 'my_model.keras')`. \n"
     ]
    },
    {
     "name": "stdout",
     "output_type": "stream",
     "text": [
      "\n",
      "Epoch 107: val_loss improved from 0.00558 to 0.00549, saving model to 10Var-Vn30-gru.h5\n"
     ]
    },
    {
     "name": "stderr",
     "output_type": "stream",
     "text": [
      "WARNING:absl:You are saving your model as an HDF5 file via `model.save()` or `keras.saving.save_model(model)`. This file format is considered legacy. We recommend using instead the native Keras format, e.g. `model.save('my_model.keras')` or `keras.saving.save_model(model, 'my_model.keras')`. \n"
     ]
    },
    {
     "name": "stdout",
     "output_type": "stream",
     "text": [
      "\n",
      "Epoch 108: val_loss improved from 0.00549 to 0.00541, saving model to 10Var-Vn30-gru.h5\n"
     ]
    },
    {
     "name": "stderr",
     "output_type": "stream",
     "text": [
      "WARNING:absl:You are saving your model as an HDF5 file via `model.save()` or `keras.saving.save_model(model)`. This file format is considered legacy. We recommend using instead the native Keras format, e.g. `model.save('my_model.keras')` or `keras.saving.save_model(model, 'my_model.keras')`. \n"
     ]
    },
    {
     "name": "stdout",
     "output_type": "stream",
     "text": [
      "\n",
      "Epoch 109: val_loss improved from 0.00541 to 0.00532, saving model to 10Var-Vn30-gru.h5\n"
     ]
    },
    {
     "name": "stderr",
     "output_type": "stream",
     "text": [
      "WARNING:absl:You are saving your model as an HDF5 file via `model.save()` or `keras.saving.save_model(model)`. This file format is considered legacy. We recommend using instead the native Keras format, e.g. `model.save('my_model.keras')` or `keras.saving.save_model(model, 'my_model.keras')`. \n"
     ]
    },
    {
     "name": "stdout",
     "output_type": "stream",
     "text": [
      "\n",
      "Epoch 110: val_loss improved from 0.00532 to 0.00523, saving model to 10Var-Vn30-gru.h5\n"
     ]
    },
    {
     "name": "stderr",
     "output_type": "stream",
     "text": [
      "WARNING:absl:You are saving your model as an HDF5 file via `model.save()` or `keras.saving.save_model(model)`. This file format is considered legacy. We recommend using instead the native Keras format, e.g. `model.save('my_model.keras')` or `keras.saving.save_model(model, 'my_model.keras')`. \n"
     ]
    },
    {
     "name": "stdout",
     "output_type": "stream",
     "text": [
      "\n",
      "Epoch 111: val_loss improved from 0.00523 to 0.00514, saving model to 10Var-Vn30-gru.h5\n"
     ]
    },
    {
     "name": "stderr",
     "output_type": "stream",
     "text": [
      "WARNING:absl:You are saving your model as an HDF5 file via `model.save()` or `keras.saving.save_model(model)`. This file format is considered legacy. We recommend using instead the native Keras format, e.g. `model.save('my_model.keras')` or `keras.saving.save_model(model, 'my_model.keras')`. \n"
     ]
    },
    {
     "name": "stdout",
     "output_type": "stream",
     "text": [
      "\n",
      "Epoch 112: val_loss improved from 0.00514 to 0.00505, saving model to 10Var-Vn30-gru.h5\n"
     ]
    },
    {
     "name": "stderr",
     "output_type": "stream",
     "text": [
      "WARNING:absl:You are saving your model as an HDF5 file via `model.save()` or `keras.saving.save_model(model)`. This file format is considered legacy. We recommend using instead the native Keras format, e.g. `model.save('my_model.keras')` or `keras.saving.save_model(model, 'my_model.keras')`. \n"
     ]
    },
    {
     "name": "stdout",
     "output_type": "stream",
     "text": [
      "\n",
      "Epoch 113: val_loss improved from 0.00505 to 0.00496, saving model to 10Var-Vn30-gru.h5\n"
     ]
    },
    {
     "name": "stderr",
     "output_type": "stream",
     "text": [
      "WARNING:absl:You are saving your model as an HDF5 file via `model.save()` or `keras.saving.save_model(model)`. This file format is considered legacy. We recommend using instead the native Keras format, e.g. `model.save('my_model.keras')` or `keras.saving.save_model(model, 'my_model.keras')`. \n"
     ]
    },
    {
     "name": "stdout",
     "output_type": "stream",
     "text": [
      "\n",
      "Epoch 114: val_loss improved from 0.00496 to 0.00486, saving model to 10Var-Vn30-gru.h5\n"
     ]
    },
    {
     "name": "stderr",
     "output_type": "stream",
     "text": [
      "WARNING:absl:You are saving your model as an HDF5 file via `model.save()` or `keras.saving.save_model(model)`. This file format is considered legacy. We recommend using instead the native Keras format, e.g. `model.save('my_model.keras')` or `keras.saving.save_model(model, 'my_model.keras')`. \n"
     ]
    },
    {
     "name": "stdout",
     "output_type": "stream",
     "text": [
      "\n",
      "Epoch 115: val_loss improved from 0.00486 to 0.00478, saving model to 10Var-Vn30-gru.h5\n"
     ]
    },
    {
     "name": "stderr",
     "output_type": "stream",
     "text": [
      "WARNING:absl:You are saving your model as an HDF5 file via `model.save()` or `keras.saving.save_model(model)`. This file format is considered legacy. We recommend using instead the native Keras format, e.g. `model.save('my_model.keras')` or `keras.saving.save_model(model, 'my_model.keras')`. \n"
     ]
    },
    {
     "name": "stdout",
     "output_type": "stream",
     "text": [
      "\n",
      "Epoch 116: val_loss improved from 0.00478 to 0.00469, saving model to 10Var-Vn30-gru.h5\n"
     ]
    },
    {
     "name": "stderr",
     "output_type": "stream",
     "text": [
      "WARNING:absl:You are saving your model as an HDF5 file via `model.save()` or `keras.saving.save_model(model)`. This file format is considered legacy. We recommend using instead the native Keras format, e.g. `model.save('my_model.keras')` or `keras.saving.save_model(model, 'my_model.keras')`. \n"
     ]
    },
    {
     "name": "stdout",
     "output_type": "stream",
     "text": [
      "\n",
      "Epoch 117: val_loss improved from 0.00469 to 0.00461, saving model to 10Var-Vn30-gru.h5\n"
     ]
    },
    {
     "name": "stderr",
     "output_type": "stream",
     "text": [
      "WARNING:absl:You are saving your model as an HDF5 file via `model.save()` or `keras.saving.save_model(model)`. This file format is considered legacy. We recommend using instead the native Keras format, e.g. `model.save('my_model.keras')` or `keras.saving.save_model(model, 'my_model.keras')`. \n"
     ]
    },
    {
     "name": "stdout",
     "output_type": "stream",
     "text": [
      "\n",
      "Epoch 118: val_loss improved from 0.00461 to 0.00452, saving model to 10Var-Vn30-gru.h5\n"
     ]
    },
    {
     "name": "stderr",
     "output_type": "stream",
     "text": [
      "WARNING:absl:You are saving your model as an HDF5 file via `model.save()` or `keras.saving.save_model(model)`. This file format is considered legacy. We recommend using instead the native Keras format, e.g. `model.save('my_model.keras')` or `keras.saving.save_model(model, 'my_model.keras')`. \n"
     ]
    },
    {
     "name": "stdout",
     "output_type": "stream",
     "text": [
      "\n",
      "Epoch 119: val_loss improved from 0.00452 to 0.00445, saving model to 10Var-Vn30-gru.h5\n"
     ]
    },
    {
     "name": "stderr",
     "output_type": "stream",
     "text": [
      "WARNING:absl:You are saving your model as an HDF5 file via `model.save()` or `keras.saving.save_model(model)`. This file format is considered legacy. We recommend using instead the native Keras format, e.g. `model.save('my_model.keras')` or `keras.saving.save_model(model, 'my_model.keras')`. \n"
     ]
    },
    {
     "name": "stdout",
     "output_type": "stream",
     "text": [
      "\n",
      "Epoch 120: val_loss improved from 0.00445 to 0.00436, saving model to 10Var-Vn30-gru.h5\n"
     ]
    },
    {
     "name": "stderr",
     "output_type": "stream",
     "text": [
      "WARNING:absl:You are saving your model as an HDF5 file via `model.save()` or `keras.saving.save_model(model)`. This file format is considered legacy. We recommend using instead the native Keras format, e.g. `model.save('my_model.keras')` or `keras.saving.save_model(model, 'my_model.keras')`. \n"
     ]
    },
    {
     "name": "stdout",
     "output_type": "stream",
     "text": [
      "\n",
      "Epoch 121: val_loss improved from 0.00436 to 0.00429, saving model to 10Var-Vn30-gru.h5\n"
     ]
    },
    {
     "name": "stderr",
     "output_type": "stream",
     "text": [
      "WARNING:absl:You are saving your model as an HDF5 file via `model.save()` or `keras.saving.save_model(model)`. This file format is considered legacy. We recommend using instead the native Keras format, e.g. `model.save('my_model.keras')` or `keras.saving.save_model(model, 'my_model.keras')`. \n"
     ]
    },
    {
     "name": "stdout",
     "output_type": "stream",
     "text": [
      "\n",
      "Epoch 122: val_loss improved from 0.00429 to 0.00422, saving model to 10Var-Vn30-gru.h5\n"
     ]
    },
    {
     "name": "stderr",
     "output_type": "stream",
     "text": [
      "WARNING:absl:You are saving your model as an HDF5 file via `model.save()` or `keras.saving.save_model(model)`. This file format is considered legacy. We recommend using instead the native Keras format, e.g. `model.save('my_model.keras')` or `keras.saving.save_model(model, 'my_model.keras')`. \n"
     ]
    },
    {
     "name": "stdout",
     "output_type": "stream",
     "text": [
      "\n",
      "Epoch 123: val_loss improved from 0.00422 to 0.00415, saving model to 10Var-Vn30-gru.h5\n"
     ]
    },
    {
     "name": "stderr",
     "output_type": "stream",
     "text": [
      "WARNING:absl:You are saving your model as an HDF5 file via `model.save()` or `keras.saving.save_model(model)`. This file format is considered legacy. We recommend using instead the native Keras format, e.g. `model.save('my_model.keras')` or `keras.saving.save_model(model, 'my_model.keras')`. \n"
     ]
    },
    {
     "name": "stdout",
     "output_type": "stream",
     "text": [
      "\n",
      "Epoch 124: val_loss improved from 0.00415 to 0.00408, saving model to 10Var-Vn30-gru.h5\n"
     ]
    },
    {
     "name": "stderr",
     "output_type": "stream",
     "text": [
      "WARNING:absl:You are saving your model as an HDF5 file via `model.save()` or `keras.saving.save_model(model)`. This file format is considered legacy. We recommend using instead the native Keras format, e.g. `model.save('my_model.keras')` or `keras.saving.save_model(model, 'my_model.keras')`. \n"
     ]
    },
    {
     "name": "stdout",
     "output_type": "stream",
     "text": [
      "\n",
      "Epoch 125: val_loss improved from 0.00408 to 0.00401, saving model to 10Var-Vn30-gru.h5\n"
     ]
    },
    {
     "name": "stderr",
     "output_type": "stream",
     "text": [
      "WARNING:absl:You are saving your model as an HDF5 file via `model.save()` or `keras.saving.save_model(model)`. This file format is considered legacy. We recommend using instead the native Keras format, e.g. `model.save('my_model.keras')` or `keras.saving.save_model(model, 'my_model.keras')`. \n"
     ]
    },
    {
     "name": "stdout",
     "output_type": "stream",
     "text": [
      "\n",
      "Epoch 126: val_loss improved from 0.00401 to 0.00394, saving model to 10Var-Vn30-gru.h5\n"
     ]
    },
    {
     "name": "stderr",
     "output_type": "stream",
     "text": [
      "WARNING:absl:You are saving your model as an HDF5 file via `model.save()` or `keras.saving.save_model(model)`. This file format is considered legacy. We recommend using instead the native Keras format, e.g. `model.save('my_model.keras')` or `keras.saving.save_model(model, 'my_model.keras')`. \n"
     ]
    },
    {
     "name": "stdout",
     "output_type": "stream",
     "text": [
      "\n",
      "Epoch 127: val_loss improved from 0.00394 to 0.00388, saving model to 10Var-Vn30-gru.h5\n"
     ]
    },
    {
     "name": "stderr",
     "output_type": "stream",
     "text": [
      "WARNING:absl:You are saving your model as an HDF5 file via `model.save()` or `keras.saving.save_model(model)`. This file format is considered legacy. We recommend using instead the native Keras format, e.g. `model.save('my_model.keras')` or `keras.saving.save_model(model, 'my_model.keras')`. \n"
     ]
    },
    {
     "name": "stdout",
     "output_type": "stream",
     "text": [
      "\n",
      "Epoch 128: val_loss improved from 0.00388 to 0.00382, saving model to 10Var-Vn30-gru.h5\n"
     ]
    },
    {
     "name": "stderr",
     "output_type": "stream",
     "text": [
      "WARNING:absl:You are saving your model as an HDF5 file via `model.save()` or `keras.saving.save_model(model)`. This file format is considered legacy. We recommend using instead the native Keras format, e.g. `model.save('my_model.keras')` or `keras.saving.save_model(model, 'my_model.keras')`. \n"
     ]
    },
    {
     "name": "stdout",
     "output_type": "stream",
     "text": [
      "\n",
      "Epoch 129: val_loss improved from 0.00382 to 0.00375, saving model to 10Var-Vn30-gru.h5\n"
     ]
    },
    {
     "name": "stderr",
     "output_type": "stream",
     "text": [
      "WARNING:absl:You are saving your model as an HDF5 file via `model.save()` or `keras.saving.save_model(model)`. This file format is considered legacy. We recommend using instead the native Keras format, e.g. `model.save('my_model.keras')` or `keras.saving.save_model(model, 'my_model.keras')`. \n"
     ]
    },
    {
     "name": "stdout",
     "output_type": "stream",
     "text": [
      "\n",
      "Epoch 130: val_loss improved from 0.00375 to 0.00369, saving model to 10Var-Vn30-gru.h5\n"
     ]
    },
    {
     "name": "stderr",
     "output_type": "stream",
     "text": [
      "WARNING:absl:You are saving your model as an HDF5 file via `model.save()` or `keras.saving.save_model(model)`. This file format is considered legacy. We recommend using instead the native Keras format, e.g. `model.save('my_model.keras')` or `keras.saving.save_model(model, 'my_model.keras')`. \n"
     ]
    },
    {
     "name": "stdout",
     "output_type": "stream",
     "text": [
      "\n",
      "Epoch 131: val_loss improved from 0.00369 to 0.00363, saving model to 10Var-Vn30-gru.h5\n"
     ]
    },
    {
     "name": "stderr",
     "output_type": "stream",
     "text": [
      "WARNING:absl:You are saving your model as an HDF5 file via `model.save()` or `keras.saving.save_model(model)`. This file format is considered legacy. We recommend using instead the native Keras format, e.g. `model.save('my_model.keras')` or `keras.saving.save_model(model, 'my_model.keras')`. \n"
     ]
    },
    {
     "name": "stdout",
     "output_type": "stream",
     "text": [
      "\n",
      "Epoch 132: val_loss improved from 0.00363 to 0.00357, saving model to 10Var-Vn30-gru.h5\n"
     ]
    },
    {
     "name": "stderr",
     "output_type": "stream",
     "text": [
      "WARNING:absl:You are saving your model as an HDF5 file via `model.save()` or `keras.saving.save_model(model)`. This file format is considered legacy. We recommend using instead the native Keras format, e.g. `model.save('my_model.keras')` or `keras.saving.save_model(model, 'my_model.keras')`. \n"
     ]
    },
    {
     "name": "stdout",
     "output_type": "stream",
     "text": [
      "\n",
      "Epoch 133: val_loss improved from 0.00357 to 0.00351, saving model to 10Var-Vn30-gru.h5\n"
     ]
    },
    {
     "name": "stderr",
     "output_type": "stream",
     "text": [
      "WARNING:absl:You are saving your model as an HDF5 file via `model.save()` or `keras.saving.save_model(model)`. This file format is considered legacy. We recommend using instead the native Keras format, e.g. `model.save('my_model.keras')` or `keras.saving.save_model(model, 'my_model.keras')`. \n"
     ]
    },
    {
     "name": "stdout",
     "output_type": "stream",
     "text": [
      "\n",
      "Epoch 134: val_loss improved from 0.00351 to 0.00345, saving model to 10Var-Vn30-gru.h5\n"
     ]
    },
    {
     "name": "stderr",
     "output_type": "stream",
     "text": [
      "WARNING:absl:You are saving your model as an HDF5 file via `model.save()` or `keras.saving.save_model(model)`. This file format is considered legacy. We recommend using instead the native Keras format, e.g. `model.save('my_model.keras')` or `keras.saving.save_model(model, 'my_model.keras')`. \n"
     ]
    },
    {
     "name": "stdout",
     "output_type": "stream",
     "text": [
      "\n",
      "Epoch 135: val_loss improved from 0.00345 to 0.00339, saving model to 10Var-Vn30-gru.h5\n"
     ]
    },
    {
     "name": "stderr",
     "output_type": "stream",
     "text": [
      "WARNING:absl:You are saving your model as an HDF5 file via `model.save()` or `keras.saving.save_model(model)`. This file format is considered legacy. We recommend using instead the native Keras format, e.g. `model.save('my_model.keras')` or `keras.saving.save_model(model, 'my_model.keras')`. \n"
     ]
    },
    {
     "name": "stdout",
     "output_type": "stream",
     "text": [
      "\n",
      "Epoch 136: val_loss improved from 0.00339 to 0.00333, saving model to 10Var-Vn30-gru.h5\n"
     ]
    },
    {
     "name": "stderr",
     "output_type": "stream",
     "text": [
      "WARNING:absl:You are saving your model as an HDF5 file via `model.save()` or `keras.saving.save_model(model)`. This file format is considered legacy. We recommend using instead the native Keras format, e.g. `model.save('my_model.keras')` or `keras.saving.save_model(model, 'my_model.keras')`. \n"
     ]
    },
    {
     "name": "stdout",
     "output_type": "stream",
     "text": [
      "\n",
      "Epoch 137: val_loss improved from 0.00333 to 0.00327, saving model to 10Var-Vn30-gru.h5\n"
     ]
    },
    {
     "name": "stderr",
     "output_type": "stream",
     "text": [
      "WARNING:absl:You are saving your model as an HDF5 file via `model.save()` or `keras.saving.save_model(model)`. This file format is considered legacy. We recommend using instead the native Keras format, e.g. `model.save('my_model.keras')` or `keras.saving.save_model(model, 'my_model.keras')`. \n"
     ]
    },
    {
     "name": "stdout",
     "output_type": "stream",
     "text": [
      "\n",
      "Epoch 138: val_loss improved from 0.00327 to 0.00321, saving model to 10Var-Vn30-gru.h5\n"
     ]
    },
    {
     "name": "stderr",
     "output_type": "stream",
     "text": [
      "WARNING:absl:You are saving your model as an HDF5 file via `model.save()` or `keras.saving.save_model(model)`. This file format is considered legacy. We recommend using instead the native Keras format, e.g. `model.save('my_model.keras')` or `keras.saving.save_model(model, 'my_model.keras')`. \n"
     ]
    },
    {
     "name": "stdout",
     "output_type": "stream",
     "text": [
      "\n",
      "Epoch 139: val_loss improved from 0.00321 to 0.00315, saving model to 10Var-Vn30-gru.h5\n"
     ]
    },
    {
     "name": "stderr",
     "output_type": "stream",
     "text": [
      "WARNING:absl:You are saving your model as an HDF5 file via `model.save()` or `keras.saving.save_model(model)`. This file format is considered legacy. We recommend using instead the native Keras format, e.g. `model.save('my_model.keras')` or `keras.saving.save_model(model, 'my_model.keras')`. \n"
     ]
    },
    {
     "name": "stdout",
     "output_type": "stream",
     "text": [
      "\n",
      "Epoch 140: val_loss improved from 0.00315 to 0.00309, saving model to 10Var-Vn30-gru.h5\n"
     ]
    },
    {
     "name": "stderr",
     "output_type": "stream",
     "text": [
      "WARNING:absl:You are saving your model as an HDF5 file via `model.save()` or `keras.saving.save_model(model)`. This file format is considered legacy. We recommend using instead the native Keras format, e.g. `model.save('my_model.keras')` or `keras.saving.save_model(model, 'my_model.keras')`. \n"
     ]
    },
    {
     "name": "stdout",
     "output_type": "stream",
     "text": [
      "\n",
      "Epoch 141: val_loss improved from 0.00309 to 0.00302, saving model to 10Var-Vn30-gru.h5\n"
     ]
    },
    {
     "name": "stderr",
     "output_type": "stream",
     "text": [
      "WARNING:absl:You are saving your model as an HDF5 file via `model.save()` or `keras.saving.save_model(model)`. This file format is considered legacy. We recommend using instead the native Keras format, e.g. `model.save('my_model.keras')` or `keras.saving.save_model(model, 'my_model.keras')`. \n"
     ]
    },
    {
     "name": "stdout",
     "output_type": "stream",
     "text": [
      "\n",
      "Epoch 142: val_loss improved from 0.00302 to 0.00296, saving model to 10Var-Vn30-gru.h5\n"
     ]
    },
    {
     "name": "stderr",
     "output_type": "stream",
     "text": [
      "WARNING:absl:You are saving your model as an HDF5 file via `model.save()` or `keras.saving.save_model(model)`. This file format is considered legacy. We recommend using instead the native Keras format, e.g. `model.save('my_model.keras')` or `keras.saving.save_model(model, 'my_model.keras')`. \n"
     ]
    },
    {
     "name": "stdout",
     "output_type": "stream",
     "text": [
      "\n",
      "Epoch 143: val_loss improved from 0.00296 to 0.00290, saving model to 10Var-Vn30-gru.h5\n"
     ]
    },
    {
     "name": "stderr",
     "output_type": "stream",
     "text": [
      "WARNING:absl:You are saving your model as an HDF5 file via `model.save()` or `keras.saving.save_model(model)`. This file format is considered legacy. We recommend using instead the native Keras format, e.g. `model.save('my_model.keras')` or `keras.saving.save_model(model, 'my_model.keras')`. \n"
     ]
    },
    {
     "name": "stdout",
     "output_type": "stream",
     "text": [
      "\n",
      "Epoch 144: val_loss improved from 0.00290 to 0.00284, saving model to 10Var-Vn30-gru.h5\n"
     ]
    },
    {
     "name": "stderr",
     "output_type": "stream",
     "text": [
      "WARNING:absl:You are saving your model as an HDF5 file via `model.save()` or `keras.saving.save_model(model)`. This file format is considered legacy. We recommend using instead the native Keras format, e.g. `model.save('my_model.keras')` or `keras.saving.save_model(model, 'my_model.keras')`. \n"
     ]
    },
    {
     "name": "stdout",
     "output_type": "stream",
     "text": [
      "\n",
      "Epoch 145: val_loss improved from 0.00284 to 0.00278, saving model to 10Var-Vn30-gru.h5\n"
     ]
    },
    {
     "name": "stderr",
     "output_type": "stream",
     "text": [
      "WARNING:absl:You are saving your model as an HDF5 file via `model.save()` or `keras.saving.save_model(model)`. This file format is considered legacy. We recommend using instead the native Keras format, e.g. `model.save('my_model.keras')` or `keras.saving.save_model(model, 'my_model.keras')`. \n"
     ]
    },
    {
     "name": "stdout",
     "output_type": "stream",
     "text": [
      "\n",
      "Epoch 146: val_loss improved from 0.00278 to 0.00273, saving model to 10Var-Vn30-gru.h5\n"
     ]
    },
    {
     "name": "stderr",
     "output_type": "stream",
     "text": [
      "WARNING:absl:You are saving your model as an HDF5 file via `model.save()` or `keras.saving.save_model(model)`. This file format is considered legacy. We recommend using instead the native Keras format, e.g. `model.save('my_model.keras')` or `keras.saving.save_model(model, 'my_model.keras')`. \n"
     ]
    },
    {
     "name": "stdout",
     "output_type": "stream",
     "text": [
      "\n",
      "Epoch 147: val_loss improved from 0.00273 to 0.00267, saving model to 10Var-Vn30-gru.h5\n"
     ]
    },
    {
     "name": "stderr",
     "output_type": "stream",
     "text": [
      "WARNING:absl:You are saving your model as an HDF5 file via `model.save()` or `keras.saving.save_model(model)`. This file format is considered legacy. We recommend using instead the native Keras format, e.g. `model.save('my_model.keras')` or `keras.saving.save_model(model, 'my_model.keras')`. \n"
     ]
    },
    {
     "name": "stdout",
     "output_type": "stream",
     "text": [
      "\n",
      "Epoch 148: val_loss improved from 0.00267 to 0.00261, saving model to 10Var-Vn30-gru.h5\n"
     ]
    },
    {
     "name": "stderr",
     "output_type": "stream",
     "text": [
      "WARNING:absl:You are saving your model as an HDF5 file via `model.save()` or `keras.saving.save_model(model)`. This file format is considered legacy. We recommend using instead the native Keras format, e.g. `model.save('my_model.keras')` or `keras.saving.save_model(model, 'my_model.keras')`. \n"
     ]
    },
    {
     "name": "stdout",
     "output_type": "stream",
     "text": [
      "\n",
      "Epoch 149: val_loss improved from 0.00261 to 0.00255, saving model to 10Var-Vn30-gru.h5\n"
     ]
    },
    {
     "name": "stderr",
     "output_type": "stream",
     "text": [
      "WARNING:absl:You are saving your model as an HDF5 file via `model.save()` or `keras.saving.save_model(model)`. This file format is considered legacy. We recommend using instead the native Keras format, e.g. `model.save('my_model.keras')` or `keras.saving.save_model(model, 'my_model.keras')`. \n"
     ]
    },
    {
     "name": "stdout",
     "output_type": "stream",
     "text": [
      "\n",
      "Epoch 150: val_loss improved from 0.00255 to 0.00250, saving model to 10Var-Vn30-gru.h5\n"
     ]
    },
    {
     "name": "stderr",
     "output_type": "stream",
     "text": [
      "WARNING:absl:You are saving your model as an HDF5 file via `model.save()` or `keras.saving.save_model(model)`. This file format is considered legacy. We recommend using instead the native Keras format, e.g. `model.save('my_model.keras')` or `keras.saving.save_model(model, 'my_model.keras')`. \n"
     ]
    },
    {
     "name": "stdout",
     "output_type": "stream",
     "text": [
      "\n",
      "Epoch 151: val_loss improved from 0.00250 to 0.00245, saving model to 10Var-Vn30-gru.h5\n"
     ]
    },
    {
     "name": "stderr",
     "output_type": "stream",
     "text": [
      "WARNING:absl:You are saving your model as an HDF5 file via `model.save()` or `keras.saving.save_model(model)`. This file format is considered legacy. We recommend using instead the native Keras format, e.g. `model.save('my_model.keras')` or `keras.saving.save_model(model, 'my_model.keras')`. \n"
     ]
    },
    {
     "name": "stdout",
     "output_type": "stream",
     "text": [
      "\n",
      "Epoch 152: val_loss improved from 0.00245 to 0.00240, saving model to 10Var-Vn30-gru.h5\n"
     ]
    },
    {
     "name": "stderr",
     "output_type": "stream",
     "text": [
      "WARNING:absl:You are saving your model as an HDF5 file via `model.save()` or `keras.saving.save_model(model)`. This file format is considered legacy. We recommend using instead the native Keras format, e.g. `model.save('my_model.keras')` or `keras.saving.save_model(model, 'my_model.keras')`. \n"
     ]
    },
    {
     "name": "stdout",
     "output_type": "stream",
     "text": [
      "\n",
      "Epoch 153: val_loss improved from 0.00240 to 0.00236, saving model to 10Var-Vn30-gru.h5\n"
     ]
    },
    {
     "name": "stderr",
     "output_type": "stream",
     "text": [
      "WARNING:absl:You are saving your model as an HDF5 file via `model.save()` or `keras.saving.save_model(model)`. This file format is considered legacy. We recommend using instead the native Keras format, e.g. `model.save('my_model.keras')` or `keras.saving.save_model(model, 'my_model.keras')`. \n"
     ]
    },
    {
     "name": "stdout",
     "output_type": "stream",
     "text": [
      "\n",
      "Epoch 154: val_loss improved from 0.00236 to 0.00231, saving model to 10Var-Vn30-gru.h5\n"
     ]
    },
    {
     "name": "stderr",
     "output_type": "stream",
     "text": [
      "WARNING:absl:You are saving your model as an HDF5 file via `model.save()` or `keras.saving.save_model(model)`. This file format is considered legacy. We recommend using instead the native Keras format, e.g. `model.save('my_model.keras')` or `keras.saving.save_model(model, 'my_model.keras')`. \n"
     ]
    },
    {
     "name": "stdout",
     "output_type": "stream",
     "text": [
      "\n",
      "Epoch 155: val_loss improved from 0.00231 to 0.00227, saving model to 10Var-Vn30-gru.h5\n"
     ]
    },
    {
     "name": "stderr",
     "output_type": "stream",
     "text": [
      "WARNING:absl:You are saving your model as an HDF5 file via `model.save()` or `keras.saving.save_model(model)`. This file format is considered legacy. We recommend using instead the native Keras format, e.g. `model.save('my_model.keras')` or `keras.saving.save_model(model, 'my_model.keras')`. \n"
     ]
    },
    {
     "name": "stdout",
     "output_type": "stream",
     "text": [
      "\n",
      "Epoch 156: val_loss improved from 0.00227 to 0.00223, saving model to 10Var-Vn30-gru.h5\n"
     ]
    },
    {
     "name": "stderr",
     "output_type": "stream",
     "text": [
      "WARNING:absl:You are saving your model as an HDF5 file via `model.save()` or `keras.saving.save_model(model)`. This file format is considered legacy. We recommend using instead the native Keras format, e.g. `model.save('my_model.keras')` or `keras.saving.save_model(model, 'my_model.keras')`. \n"
     ]
    },
    {
     "name": "stdout",
     "output_type": "stream",
     "text": [
      "\n",
      "Epoch 157: val_loss improved from 0.00223 to 0.00219, saving model to 10Var-Vn30-gru.h5\n"
     ]
    },
    {
     "name": "stderr",
     "output_type": "stream",
     "text": [
      "WARNING:absl:You are saving your model as an HDF5 file via `model.save()` or `keras.saving.save_model(model)`. This file format is considered legacy. We recommend using instead the native Keras format, e.g. `model.save('my_model.keras')` or `keras.saving.save_model(model, 'my_model.keras')`. \n"
     ]
    },
    {
     "name": "stdout",
     "output_type": "stream",
     "text": [
      "\n",
      "Epoch 158: val_loss improved from 0.00219 to 0.00215, saving model to 10Var-Vn30-gru.h5\n"
     ]
    },
    {
     "name": "stderr",
     "output_type": "stream",
     "text": [
      "WARNING:absl:You are saving your model as an HDF5 file via `model.save()` or `keras.saving.save_model(model)`. This file format is considered legacy. We recommend using instead the native Keras format, e.g. `model.save('my_model.keras')` or `keras.saving.save_model(model, 'my_model.keras')`. \n"
     ]
    },
    {
     "name": "stdout",
     "output_type": "stream",
     "text": [
      "\n",
      "Epoch 159: val_loss improved from 0.00215 to 0.00211, saving model to 10Var-Vn30-gru.h5\n"
     ]
    },
    {
     "name": "stderr",
     "output_type": "stream",
     "text": [
      "WARNING:absl:You are saving your model as an HDF5 file via `model.save()` or `keras.saving.save_model(model)`. This file format is considered legacy. We recommend using instead the native Keras format, e.g. `model.save('my_model.keras')` or `keras.saving.save_model(model, 'my_model.keras')`. \n"
     ]
    },
    {
     "name": "stdout",
     "output_type": "stream",
     "text": [
      "\n",
      "Epoch 160: val_loss improved from 0.00211 to 0.00208, saving model to 10Var-Vn30-gru.h5\n"
     ]
    },
    {
     "name": "stderr",
     "output_type": "stream",
     "text": [
      "WARNING:absl:You are saving your model as an HDF5 file via `model.save()` or `keras.saving.save_model(model)`. This file format is considered legacy. We recommend using instead the native Keras format, e.g. `model.save('my_model.keras')` or `keras.saving.save_model(model, 'my_model.keras')`. \n"
     ]
    },
    {
     "name": "stdout",
     "output_type": "stream",
     "text": [
      "\n",
      "Epoch 161: val_loss improved from 0.00208 to 0.00204, saving model to 10Var-Vn30-gru.h5\n"
     ]
    },
    {
     "name": "stderr",
     "output_type": "stream",
     "text": [
      "WARNING:absl:You are saving your model as an HDF5 file via `model.save()` or `keras.saving.save_model(model)`. This file format is considered legacy. We recommend using instead the native Keras format, e.g. `model.save('my_model.keras')` or `keras.saving.save_model(model, 'my_model.keras')`. \n"
     ]
    },
    {
     "name": "stdout",
     "output_type": "stream",
     "text": [
      "\n",
      "Epoch 162: val_loss improved from 0.00204 to 0.00200, saving model to 10Var-Vn30-gru.h5\n"
     ]
    },
    {
     "name": "stderr",
     "output_type": "stream",
     "text": [
      "WARNING:absl:You are saving your model as an HDF5 file via `model.save()` or `keras.saving.save_model(model)`. This file format is considered legacy. We recommend using instead the native Keras format, e.g. `model.save('my_model.keras')` or `keras.saving.save_model(model, 'my_model.keras')`. \n"
     ]
    },
    {
     "name": "stdout",
     "output_type": "stream",
     "text": [
      "\n",
      "Epoch 163: val_loss improved from 0.00200 to 0.00197, saving model to 10Var-Vn30-gru.h5\n"
     ]
    },
    {
     "name": "stderr",
     "output_type": "stream",
     "text": [
      "WARNING:absl:You are saving your model as an HDF5 file via `model.save()` or `keras.saving.save_model(model)`. This file format is considered legacy. We recommend using instead the native Keras format, e.g. `model.save('my_model.keras')` or `keras.saving.save_model(model, 'my_model.keras')`. \n"
     ]
    },
    {
     "name": "stdout",
     "output_type": "stream",
     "text": [
      "\n",
      "Epoch 164: val_loss improved from 0.00197 to 0.00193, saving model to 10Var-Vn30-gru.h5\n"
     ]
    },
    {
     "name": "stderr",
     "output_type": "stream",
     "text": [
      "WARNING:absl:You are saving your model as an HDF5 file via `model.save()` or `keras.saving.save_model(model)`. This file format is considered legacy. We recommend using instead the native Keras format, e.g. `model.save('my_model.keras')` or `keras.saving.save_model(model, 'my_model.keras')`. \n"
     ]
    },
    {
     "name": "stdout",
     "output_type": "stream",
     "text": [
      "\n",
      "Epoch 165: val_loss improved from 0.00193 to 0.00190, saving model to 10Var-Vn30-gru.h5\n"
     ]
    },
    {
     "name": "stderr",
     "output_type": "stream",
     "text": [
      "WARNING:absl:You are saving your model as an HDF5 file via `model.save()` or `keras.saving.save_model(model)`. This file format is considered legacy. We recommend using instead the native Keras format, e.g. `model.save('my_model.keras')` or `keras.saving.save_model(model, 'my_model.keras')`. \n"
     ]
    },
    {
     "name": "stdout",
     "output_type": "stream",
     "text": [
      "\n",
      "Epoch 166: val_loss improved from 0.00190 to 0.00187, saving model to 10Var-Vn30-gru.h5\n"
     ]
    },
    {
     "name": "stderr",
     "output_type": "stream",
     "text": [
      "WARNING:absl:You are saving your model as an HDF5 file via `model.save()` or `keras.saving.save_model(model)`. This file format is considered legacy. We recommend using instead the native Keras format, e.g. `model.save('my_model.keras')` or `keras.saving.save_model(model, 'my_model.keras')`. \n"
     ]
    },
    {
     "name": "stdout",
     "output_type": "stream",
     "text": [
      "\n",
      "Epoch 167: val_loss improved from 0.00187 to 0.00183, saving model to 10Var-Vn30-gru.h5\n"
     ]
    },
    {
     "name": "stderr",
     "output_type": "stream",
     "text": [
      "WARNING:absl:You are saving your model as an HDF5 file via `model.save()` or `keras.saving.save_model(model)`. This file format is considered legacy. We recommend using instead the native Keras format, e.g. `model.save('my_model.keras')` or `keras.saving.save_model(model, 'my_model.keras')`. \n"
     ]
    },
    {
     "name": "stdout",
     "output_type": "stream",
     "text": [
      "\n",
      "Epoch 168: val_loss improved from 0.00183 to 0.00180, saving model to 10Var-Vn30-gru.h5\n"
     ]
    },
    {
     "name": "stderr",
     "output_type": "stream",
     "text": [
      "WARNING:absl:You are saving your model as an HDF5 file via `model.save()` or `keras.saving.save_model(model)`. This file format is considered legacy. We recommend using instead the native Keras format, e.g. `model.save('my_model.keras')` or `keras.saving.save_model(model, 'my_model.keras')`. \n"
     ]
    },
    {
     "name": "stdout",
     "output_type": "stream",
     "text": [
      "\n",
      "Epoch 169: val_loss improved from 0.00180 to 0.00177, saving model to 10Var-Vn30-gru.h5\n"
     ]
    },
    {
     "name": "stderr",
     "output_type": "stream",
     "text": [
      "WARNING:absl:You are saving your model as an HDF5 file via `model.save()` or `keras.saving.save_model(model)`. This file format is considered legacy. We recommend using instead the native Keras format, e.g. `model.save('my_model.keras')` or `keras.saving.save_model(model, 'my_model.keras')`. \n"
     ]
    },
    {
     "name": "stdout",
     "output_type": "stream",
     "text": [
      "\n",
      "Epoch 170: val_loss improved from 0.00177 to 0.00174, saving model to 10Var-Vn30-gru.h5\n"
     ]
    },
    {
     "name": "stderr",
     "output_type": "stream",
     "text": [
      "WARNING:absl:You are saving your model as an HDF5 file via `model.save()` or `keras.saving.save_model(model)`. This file format is considered legacy. We recommend using instead the native Keras format, e.g. `model.save('my_model.keras')` or `keras.saving.save_model(model, 'my_model.keras')`. \n"
     ]
    },
    {
     "name": "stdout",
     "output_type": "stream",
     "text": [
      "\n",
      "Epoch 171: val_loss improved from 0.00174 to 0.00170, saving model to 10Var-Vn30-gru.h5\n"
     ]
    },
    {
     "name": "stderr",
     "output_type": "stream",
     "text": [
      "WARNING:absl:You are saving your model as an HDF5 file via `model.save()` or `keras.saving.save_model(model)`. This file format is considered legacy. We recommend using instead the native Keras format, e.g. `model.save('my_model.keras')` or `keras.saving.save_model(model, 'my_model.keras')`. \n"
     ]
    },
    {
     "name": "stdout",
     "output_type": "stream",
     "text": [
      "\n",
      "Epoch 172: val_loss improved from 0.00170 to 0.00166, saving model to 10Var-Vn30-gru.h5\n"
     ]
    },
    {
     "name": "stderr",
     "output_type": "stream",
     "text": [
      "WARNING:absl:You are saving your model as an HDF5 file via `model.save()` or `keras.saving.save_model(model)`. This file format is considered legacy. We recommend using instead the native Keras format, e.g. `model.save('my_model.keras')` or `keras.saving.save_model(model, 'my_model.keras')`. \n"
     ]
    },
    {
     "name": "stdout",
     "output_type": "stream",
     "text": [
      "\n",
      "Epoch 173: val_loss improved from 0.00166 to 0.00163, saving model to 10Var-Vn30-gru.h5\n"
     ]
    },
    {
     "name": "stderr",
     "output_type": "stream",
     "text": [
      "WARNING:absl:You are saving your model as an HDF5 file via `model.save()` or `keras.saving.save_model(model)`. This file format is considered legacy. We recommend using instead the native Keras format, e.g. `model.save('my_model.keras')` or `keras.saving.save_model(model, 'my_model.keras')`. \n"
     ]
    },
    {
     "name": "stdout",
     "output_type": "stream",
     "text": [
      "\n",
      "Epoch 174: val_loss improved from 0.00163 to 0.00160, saving model to 10Var-Vn30-gru.h5\n"
     ]
    },
    {
     "name": "stderr",
     "output_type": "stream",
     "text": [
      "WARNING:absl:You are saving your model as an HDF5 file via `model.save()` or `keras.saving.save_model(model)`. This file format is considered legacy. We recommend using instead the native Keras format, e.g. `model.save('my_model.keras')` or `keras.saving.save_model(model, 'my_model.keras')`. \n"
     ]
    },
    {
     "name": "stdout",
     "output_type": "stream",
     "text": [
      "\n",
      "Epoch 175: val_loss improved from 0.00160 to 0.00156, saving model to 10Var-Vn30-gru.h5\n"
     ]
    },
    {
     "name": "stderr",
     "output_type": "stream",
     "text": [
      "WARNING:absl:You are saving your model as an HDF5 file via `model.save()` or `keras.saving.save_model(model)`. This file format is considered legacy. We recommend using instead the native Keras format, e.g. `model.save('my_model.keras')` or `keras.saving.save_model(model, 'my_model.keras')`. \n"
     ]
    },
    {
     "name": "stdout",
     "output_type": "stream",
     "text": [
      "\n",
      "Epoch 176: val_loss improved from 0.00156 to 0.00153, saving model to 10Var-Vn30-gru.h5\n"
     ]
    },
    {
     "name": "stderr",
     "output_type": "stream",
     "text": [
      "WARNING:absl:You are saving your model as an HDF5 file via `model.save()` or `keras.saving.save_model(model)`. This file format is considered legacy. We recommend using instead the native Keras format, e.g. `model.save('my_model.keras')` or `keras.saving.save_model(model, 'my_model.keras')`. \n"
     ]
    },
    {
     "name": "stdout",
     "output_type": "stream",
     "text": [
      "\n",
      "Epoch 177: val_loss improved from 0.00153 to 0.00150, saving model to 10Var-Vn30-gru.h5\n"
     ]
    },
    {
     "name": "stderr",
     "output_type": "stream",
     "text": [
      "WARNING:absl:You are saving your model as an HDF5 file via `model.save()` or `keras.saving.save_model(model)`. This file format is considered legacy. We recommend using instead the native Keras format, e.g. `model.save('my_model.keras')` or `keras.saving.save_model(model, 'my_model.keras')`. \n"
     ]
    },
    {
     "name": "stdout",
     "output_type": "stream",
     "text": [
      "\n",
      "Epoch 178: val_loss improved from 0.00150 to 0.00146, saving model to 10Var-Vn30-gru.h5\n"
     ]
    },
    {
     "name": "stderr",
     "output_type": "stream",
     "text": [
      "WARNING:absl:You are saving your model as an HDF5 file via `model.save()` or `keras.saving.save_model(model)`. This file format is considered legacy. We recommend using instead the native Keras format, e.g. `model.save('my_model.keras')` or `keras.saving.save_model(model, 'my_model.keras')`. \n"
     ]
    },
    {
     "name": "stdout",
     "output_type": "stream",
     "text": [
      "\n",
      "Epoch 179: val_loss improved from 0.00146 to 0.00142, saving model to 10Var-Vn30-gru.h5\n"
     ]
    },
    {
     "name": "stderr",
     "output_type": "stream",
     "text": [
      "WARNING:absl:You are saving your model as an HDF5 file via `model.save()` or `keras.saving.save_model(model)`. This file format is considered legacy. We recommend using instead the native Keras format, e.g. `model.save('my_model.keras')` or `keras.saving.save_model(model, 'my_model.keras')`. \n"
     ]
    },
    {
     "name": "stdout",
     "output_type": "stream",
     "text": [
      "\n",
      "Epoch 180: val_loss improved from 0.00142 to 0.00139, saving model to 10Var-Vn30-gru.h5\n"
     ]
    },
    {
     "name": "stderr",
     "output_type": "stream",
     "text": [
      "WARNING:absl:You are saving your model as an HDF5 file via `model.save()` or `keras.saving.save_model(model)`. This file format is considered legacy. We recommend using instead the native Keras format, e.g. `model.save('my_model.keras')` or `keras.saving.save_model(model, 'my_model.keras')`. \n"
     ]
    },
    {
     "name": "stdout",
     "output_type": "stream",
     "text": [
      "\n",
      "Epoch 181: val_loss improved from 0.00139 to 0.00136, saving model to 10Var-Vn30-gru.h5\n"
     ]
    },
    {
     "name": "stderr",
     "output_type": "stream",
     "text": [
      "WARNING:absl:You are saving your model as an HDF5 file via `model.save()` or `keras.saving.save_model(model)`. This file format is considered legacy. We recommend using instead the native Keras format, e.g. `model.save('my_model.keras')` or `keras.saving.save_model(model, 'my_model.keras')`. \n"
     ]
    },
    {
     "name": "stdout",
     "output_type": "stream",
     "text": [
      "\n",
      "Epoch 182: val_loss improved from 0.00136 to 0.00133, saving model to 10Var-Vn30-gru.h5\n"
     ]
    },
    {
     "name": "stderr",
     "output_type": "stream",
     "text": [
      "WARNING:absl:You are saving your model as an HDF5 file via `model.save()` or `keras.saving.save_model(model)`. This file format is considered legacy. We recommend using instead the native Keras format, e.g. `model.save('my_model.keras')` or `keras.saving.save_model(model, 'my_model.keras')`. \n"
     ]
    },
    {
     "name": "stdout",
     "output_type": "stream",
     "text": [
      "\n",
      "Epoch 183: val_loss improved from 0.00133 to 0.00130, saving model to 10Var-Vn30-gru.h5\n"
     ]
    },
    {
     "name": "stderr",
     "output_type": "stream",
     "text": [
      "WARNING:absl:You are saving your model as an HDF5 file via `model.save()` or `keras.saving.save_model(model)`. This file format is considered legacy. We recommend using instead the native Keras format, e.g. `model.save('my_model.keras')` or `keras.saving.save_model(model, 'my_model.keras')`. \n"
     ]
    },
    {
     "name": "stdout",
     "output_type": "stream",
     "text": [
      "\n",
      "Epoch 184: val_loss improved from 0.00130 to 0.00127, saving model to 10Var-Vn30-gru.h5\n"
     ]
    },
    {
     "name": "stderr",
     "output_type": "stream",
     "text": [
      "WARNING:absl:You are saving your model as an HDF5 file via `model.save()` or `keras.saving.save_model(model)`. This file format is considered legacy. We recommend using instead the native Keras format, e.g. `model.save('my_model.keras')` or `keras.saving.save_model(model, 'my_model.keras')`. \n"
     ]
    },
    {
     "name": "stdout",
     "output_type": "stream",
     "text": [
      "\n",
      "Epoch 185: val_loss improved from 0.00127 to 0.00124, saving model to 10Var-Vn30-gru.h5\n"
     ]
    },
    {
     "name": "stderr",
     "output_type": "stream",
     "text": [
      "WARNING:absl:You are saving your model as an HDF5 file via `model.save()` or `keras.saving.save_model(model)`. This file format is considered legacy. We recommend using instead the native Keras format, e.g. `model.save('my_model.keras')` or `keras.saving.save_model(model, 'my_model.keras')`. \n"
     ]
    },
    {
     "name": "stdout",
     "output_type": "stream",
     "text": [
      "\n",
      "Epoch 186: val_loss improved from 0.00124 to 0.00121, saving model to 10Var-Vn30-gru.h5\n"
     ]
    },
    {
     "name": "stderr",
     "output_type": "stream",
     "text": [
      "WARNING:absl:You are saving your model as an HDF5 file via `model.save()` or `keras.saving.save_model(model)`. This file format is considered legacy. We recommend using instead the native Keras format, e.g. `model.save('my_model.keras')` or `keras.saving.save_model(model, 'my_model.keras')`. \n"
     ]
    },
    {
     "name": "stdout",
     "output_type": "stream",
     "text": [
      "\n",
      "Epoch 187: val_loss improved from 0.00121 to 0.00119, saving model to 10Var-Vn30-gru.h5\n"
     ]
    },
    {
     "name": "stderr",
     "output_type": "stream",
     "text": [
      "WARNING:absl:You are saving your model as an HDF5 file via `model.save()` or `keras.saving.save_model(model)`. This file format is considered legacy. We recommend using instead the native Keras format, e.g. `model.save('my_model.keras')` or `keras.saving.save_model(model, 'my_model.keras')`. \n"
     ]
    },
    {
     "name": "stdout",
     "output_type": "stream",
     "text": [
      "\n",
      "Epoch 188: val_loss improved from 0.00119 to 0.00116, saving model to 10Var-Vn30-gru.h5\n"
     ]
    },
    {
     "name": "stderr",
     "output_type": "stream",
     "text": [
      "WARNING:absl:You are saving your model as an HDF5 file via `model.save()` or `keras.saving.save_model(model)`. This file format is considered legacy. We recommend using instead the native Keras format, e.g. `model.save('my_model.keras')` or `keras.saving.save_model(model, 'my_model.keras')`. \n"
     ]
    },
    {
     "name": "stdout",
     "output_type": "stream",
     "text": [
      "\n",
      "Epoch 189: val_loss improved from 0.00116 to 0.00114, saving model to 10Var-Vn30-gru.h5\n"
     ]
    },
    {
     "name": "stderr",
     "output_type": "stream",
     "text": [
      "WARNING:absl:You are saving your model as an HDF5 file via `model.save()` or `keras.saving.save_model(model)`. This file format is considered legacy. We recommend using instead the native Keras format, e.g. `model.save('my_model.keras')` or `keras.saving.save_model(model, 'my_model.keras')`. \n"
     ]
    },
    {
     "name": "stdout",
     "output_type": "stream",
     "text": [
      "\n",
      "Epoch 190: val_loss improved from 0.00114 to 0.00112, saving model to 10Var-Vn30-gru.h5\n"
     ]
    },
    {
     "name": "stderr",
     "output_type": "stream",
     "text": [
      "WARNING:absl:You are saving your model as an HDF5 file via `model.save()` or `keras.saving.save_model(model)`. This file format is considered legacy. We recommend using instead the native Keras format, e.g. `model.save('my_model.keras')` or `keras.saving.save_model(model, 'my_model.keras')`. \n"
     ]
    },
    {
     "name": "stdout",
     "output_type": "stream",
     "text": [
      "\n",
      "Epoch 191: val_loss improved from 0.00112 to 0.00110, saving model to 10Var-Vn30-gru.h5\n"
     ]
    },
    {
     "name": "stderr",
     "output_type": "stream",
     "text": [
      "WARNING:absl:You are saving your model as an HDF5 file via `model.save()` or `keras.saving.save_model(model)`. This file format is considered legacy. We recommend using instead the native Keras format, e.g. `model.save('my_model.keras')` or `keras.saving.save_model(model, 'my_model.keras')`. \n"
     ]
    },
    {
     "name": "stdout",
     "output_type": "stream",
     "text": [
      "\n",
      "Epoch 192: val_loss improved from 0.00110 to 0.00109, saving model to 10Var-Vn30-gru.h5\n"
     ]
    },
    {
     "name": "stderr",
     "output_type": "stream",
     "text": [
      "WARNING:absl:You are saving your model as an HDF5 file via `model.save()` or `keras.saving.save_model(model)`. This file format is considered legacy. We recommend using instead the native Keras format, e.g. `model.save('my_model.keras')` or `keras.saving.save_model(model, 'my_model.keras')`. \n"
     ]
    },
    {
     "name": "stdout",
     "output_type": "stream",
     "text": [
      "\n",
      "Epoch 193: val_loss improved from 0.00109 to 0.00107, saving model to 10Var-Vn30-gru.h5\n"
     ]
    },
    {
     "name": "stderr",
     "output_type": "stream",
     "text": [
      "WARNING:absl:You are saving your model as an HDF5 file via `model.save()` or `keras.saving.save_model(model)`. This file format is considered legacy. We recommend using instead the native Keras format, e.g. `model.save('my_model.keras')` or `keras.saving.save_model(model, 'my_model.keras')`. \n"
     ]
    },
    {
     "name": "stdout",
     "output_type": "stream",
     "text": [
      "\n",
      "Epoch 194: val_loss improved from 0.00107 to 0.00106, saving model to 10Var-Vn30-gru.h5\n"
     ]
    },
    {
     "name": "stderr",
     "output_type": "stream",
     "text": [
      "WARNING:absl:You are saving your model as an HDF5 file via `model.save()` or `keras.saving.save_model(model)`. This file format is considered legacy. We recommend using instead the native Keras format, e.g. `model.save('my_model.keras')` or `keras.saving.save_model(model, 'my_model.keras')`. \n"
     ]
    },
    {
     "name": "stdout",
     "output_type": "stream",
     "text": [
      "\n",
      "Epoch 195: val_loss improved from 0.00106 to 0.00104, saving model to 10Var-Vn30-gru.h5\n"
     ]
    },
    {
     "name": "stderr",
     "output_type": "stream",
     "text": [
      "WARNING:absl:You are saving your model as an HDF5 file via `model.save()` or `keras.saving.save_model(model)`. This file format is considered legacy. We recommend using instead the native Keras format, e.g. `model.save('my_model.keras')` or `keras.saving.save_model(model, 'my_model.keras')`. \n"
     ]
    },
    {
     "name": "stdout",
     "output_type": "stream",
     "text": [
      "\n",
      "Epoch 196: val_loss improved from 0.00104 to 0.00103, saving model to 10Var-Vn30-gru.h5\n"
     ]
    },
    {
     "name": "stderr",
     "output_type": "stream",
     "text": [
      "WARNING:absl:You are saving your model as an HDF5 file via `model.save()` or `keras.saving.save_model(model)`. This file format is considered legacy. We recommend using instead the native Keras format, e.g. `model.save('my_model.keras')` or `keras.saving.save_model(model, 'my_model.keras')`. \n"
     ]
    },
    {
     "name": "stdout",
     "output_type": "stream",
     "text": [
      "\n",
      "Epoch 197: val_loss improved from 0.00103 to 0.00102, saving model to 10Var-Vn30-gru.h5\n"
     ]
    },
    {
     "name": "stderr",
     "output_type": "stream",
     "text": [
      "WARNING:absl:You are saving your model as an HDF5 file via `model.save()` or `keras.saving.save_model(model)`. This file format is considered legacy. We recommend using instead the native Keras format, e.g. `model.save('my_model.keras')` or `keras.saving.save_model(model, 'my_model.keras')`. \n"
     ]
    },
    {
     "name": "stdout",
     "output_type": "stream",
     "text": [
      "\n",
      "Epoch 198: val_loss improved from 0.00102 to 0.00100, saving model to 10Var-Vn30-gru.h5\n"
     ]
    },
    {
     "name": "stderr",
     "output_type": "stream",
     "text": [
      "WARNING:absl:You are saving your model as an HDF5 file via `model.save()` or `keras.saving.save_model(model)`. This file format is considered legacy. We recommend using instead the native Keras format, e.g. `model.save('my_model.keras')` or `keras.saving.save_model(model, 'my_model.keras')`. \n"
     ]
    },
    {
     "name": "stdout",
     "output_type": "stream",
     "text": [
      "\n",
      "Epoch 199: val_loss improved from 0.00100 to 0.00100, saving model to 10Var-Vn30-gru.h5\n"
     ]
    },
    {
     "name": "stderr",
     "output_type": "stream",
     "text": [
      "WARNING:absl:You are saving your model as an HDF5 file via `model.save()` or `keras.saving.save_model(model)`. This file format is considered legacy. We recommend using instead the native Keras format, e.g. `model.save('my_model.keras')` or `keras.saving.save_model(model, 'my_model.keras')`. \n"
     ]
    },
    {
     "name": "stdout",
     "output_type": "stream",
     "text": [
      "\n",
      "Epoch 200: val_loss improved from 0.00100 to 0.00099, saving model to 10Var-Vn30-gru.h5\n"
     ]
    },
    {
     "name": "stderr",
     "output_type": "stream",
     "text": [
      "WARNING:absl:You are saving your model as an HDF5 file via `model.save()` or `keras.saving.save_model(model)`. This file format is considered legacy. We recommend using instead the native Keras format, e.g. `model.save('my_model.keras')` or `keras.saving.save_model(model, 'my_model.keras')`. \n"
     ]
    },
    {
     "name": "stdout",
     "output_type": "stream",
     "text": [
      "\u001b[1m18/18\u001b[0m \u001b[32m━━━━━━━━━━━━━━━━━━━━\u001b[0m\u001b[37m\u001b[0m \u001b[1m2s\u001b[0m 58ms/step\n",
      "   timesteps        hl      lr  batch_size  num_epochs       mse      rmse  \\\n",
      "0         50  [40, 35]  0.0001          32         200  0.000742  0.027243   \n",
      "\n",
      "       mape        r2  \n",
      "0  0.020988  0.944013  \n",
      "Best parameters: {'timesteps': 30, 'hl': [40, 35], 'lr': 0.0001, 'batch_size': 32, 'num_epochs': 200}\n",
      "Best RMSE score: 0.02724254719812192\n"
     ]
    }
   ],
   "source": [
    "best_params, best_score, results_df = grid_search_rnn(train, val, test, param_grid)\n",
    "\n",
    "print(results_df)\n",
    "print(\"Best parameters:\", best_params)\n",
    "print(\"Best RMSE score:\", best_score)"
   ]
  },
  {
   "cell_type": "markdown",
   "metadata": {},
   "source": [
    "### Bước 5: Huấn luyện mô hình với bộ tham số tối ưu"
   ]
  },
  {
   "cell_type": "code",
   "execution_count": 63,
   "metadata": {},
   "outputs": [
    {
     "name": "stderr",
     "output_type": "stream",
     "text": [
      "c:\\Users\\84368\\AppData\\Local\\Programs\\Python\\Python311\\Lib\\site-packages\\keras\\src\\layers\\rnn\\rnn.py:200: UserWarning: Do not pass an `input_shape`/`input_dim` argument to a layer. When using Sequential models, prefer using an `Input(shape)` object as the first layer in the model instead.\n",
      "  super().__init__(**kwargs)\n"
     ]
    },
    {
     "name": "stdout",
     "output_type": "stream",
     "text": [
      "\n",
      "Epoch 1: val_loss did not improve from 0.00099\n",
      "\n",
      "Epoch 2: val_loss did not improve from 0.00099\n",
      "\n",
      "Epoch 3: val_loss did not improve from 0.00099\n",
      "\n",
      "Epoch 4: val_loss did not improve from 0.00099\n",
      "\n",
      "Epoch 5: val_loss did not improve from 0.00099\n",
      "\n",
      "Epoch 6: val_loss did not improve from 0.00099\n",
      "\n",
      "Epoch 7: val_loss did not improve from 0.00099\n",
      "\n",
      "Epoch 8: val_loss did not improve from 0.00099\n",
      "\n",
      "Epoch 9: val_loss did not improve from 0.00099\n",
      "\n",
      "Epoch 10: val_loss did not improve from 0.00099\n",
      "\n",
      "Epoch 11: val_loss did not improve from 0.00099\n",
      "\n",
      "Epoch 12: val_loss did not improve from 0.00099\n",
      "\n",
      "Epoch 13: val_loss did not improve from 0.00099\n",
      "\n",
      "Epoch 14: val_loss did not improve from 0.00099\n",
      "\n",
      "Epoch 15: val_loss did not improve from 0.00099\n",
      "\n",
      "Epoch 16: val_loss did not improve from 0.00099\n",
      "\n",
      "Epoch 17: val_loss did not improve from 0.00099\n",
      "\n",
      "Epoch 18: val_loss did not improve from 0.00099\n",
      "\n",
      "Epoch 19: val_loss did not improve from 0.00099\n",
      "\n",
      "Epoch 20: val_loss did not improve from 0.00099\n",
      "\n",
      "Epoch 21: val_loss did not improve from 0.00099\n",
      "\n",
      "Epoch 22: val_loss did not improve from 0.00099\n",
      "\n",
      "Epoch 23: val_loss did not improve from 0.00099\n",
      "\n",
      "Epoch 24: val_loss did not improve from 0.00099\n",
      "\n",
      "Epoch 25: val_loss did not improve from 0.00099\n",
      "\n",
      "Epoch 26: val_loss did not improve from 0.00099\n",
      "\n",
      "Epoch 27: val_loss did not improve from 0.00099\n",
      "\n",
      "Epoch 28: val_loss did not improve from 0.00099\n",
      "\n",
      "Epoch 29: val_loss did not improve from 0.00099\n",
      "\n",
      "Epoch 30: val_loss did not improve from 0.00099\n",
      "\n",
      "Epoch 31: val_loss did not improve from 0.00099\n",
      "\n",
      "Epoch 32: val_loss did not improve from 0.00099\n",
      "\n",
      "Epoch 33: val_loss did not improve from 0.00099\n",
      "\n",
      "Epoch 34: val_loss did not improve from 0.00099\n",
      "\n",
      "Epoch 35: val_loss did not improve from 0.00099\n",
      "\n",
      "Epoch 36: val_loss did not improve from 0.00099\n",
      "\n",
      "Epoch 37: val_loss did not improve from 0.00099\n",
      "\n",
      "Epoch 38: val_loss did not improve from 0.00099\n",
      "\n",
      "Epoch 39: val_loss did not improve from 0.00099\n",
      "\n",
      "Epoch 40: val_loss did not improve from 0.00099\n",
      "\n",
      "Epoch 41: val_loss did not improve from 0.00099\n",
      "\n",
      "Epoch 42: val_loss did not improve from 0.00099\n",
      "\n",
      "Epoch 43: val_loss did not improve from 0.00099\n",
      "\n",
      "Epoch 44: val_loss did not improve from 0.00099\n",
      "\n",
      "Epoch 45: val_loss did not improve from 0.00099\n",
      "\n",
      "Epoch 46: val_loss did not improve from 0.00099\n",
      "\n",
      "Epoch 47: val_loss did not improve from 0.00099\n",
      "\n",
      "Epoch 48: val_loss did not improve from 0.00099\n",
      "\n",
      "Epoch 49: val_loss did not improve from 0.00099\n",
      "\n",
      "Epoch 50: val_loss did not improve from 0.00099\n",
      "\n",
      "Epoch 51: val_loss did not improve from 0.00099\n",
      "\n",
      "Epoch 52: val_loss did not improve from 0.00099\n",
      "\n",
      "Epoch 53: val_loss did not improve from 0.00099\n",
      "\n",
      "Epoch 54: val_loss did not improve from 0.00099\n",
      "\n",
      "Epoch 55: val_loss did not improve from 0.00099\n",
      "\n",
      "Epoch 56: val_loss did not improve from 0.00099\n",
      "\n",
      "Epoch 57: val_loss did not improve from 0.00099\n",
      "\n",
      "Epoch 58: val_loss did not improve from 0.00099\n",
      "\n",
      "Epoch 59: val_loss improved from 0.00099 to 0.00098, saving model to 10Var-Vn30-gru.h5\n"
     ]
    },
    {
     "name": "stderr",
     "output_type": "stream",
     "text": [
      "WARNING:absl:You are saving your model as an HDF5 file via `model.save()` or `keras.saving.save_model(model)`. This file format is considered legacy. We recommend using instead the native Keras format, e.g. `model.save('my_model.keras')` or `keras.saving.save_model(model, 'my_model.keras')`. \n"
     ]
    },
    {
     "name": "stdout",
     "output_type": "stream",
     "text": [
      "\n",
      "Epoch 60: val_loss improved from 0.00098 to 0.00097, saving model to 10Var-Vn30-gru.h5\n"
     ]
    },
    {
     "name": "stderr",
     "output_type": "stream",
     "text": [
      "WARNING:absl:You are saving your model as an HDF5 file via `model.save()` or `keras.saving.save_model(model)`. This file format is considered legacy. We recommend using instead the native Keras format, e.g. `model.save('my_model.keras')` or `keras.saving.save_model(model, 'my_model.keras')`. \n"
     ]
    },
    {
     "name": "stdout",
     "output_type": "stream",
     "text": [
      "\n",
      "Epoch 61: val_loss improved from 0.00097 to 0.00096, saving model to 10Var-Vn30-gru.h5\n"
     ]
    },
    {
     "name": "stderr",
     "output_type": "stream",
     "text": [
      "WARNING:absl:You are saving your model as an HDF5 file via `model.save()` or `keras.saving.save_model(model)`. This file format is considered legacy. We recommend using instead the native Keras format, e.g. `model.save('my_model.keras')` or `keras.saving.save_model(model, 'my_model.keras')`. \n"
     ]
    },
    {
     "name": "stdout",
     "output_type": "stream",
     "text": [
      "\n",
      "Epoch 62: val_loss improved from 0.00096 to 0.00095, saving model to 10Var-Vn30-gru.h5\n"
     ]
    },
    {
     "name": "stderr",
     "output_type": "stream",
     "text": [
      "WARNING:absl:You are saving your model as an HDF5 file via `model.save()` or `keras.saving.save_model(model)`. This file format is considered legacy. We recommend using instead the native Keras format, e.g. `model.save('my_model.keras')` or `keras.saving.save_model(model, 'my_model.keras')`. \n"
     ]
    },
    {
     "name": "stdout",
     "output_type": "stream",
     "text": [
      "\n",
      "Epoch 63: val_loss improved from 0.00095 to 0.00094, saving model to 10Var-Vn30-gru.h5\n"
     ]
    },
    {
     "name": "stderr",
     "output_type": "stream",
     "text": [
      "WARNING:absl:You are saving your model as an HDF5 file via `model.save()` or `keras.saving.save_model(model)`. This file format is considered legacy. We recommend using instead the native Keras format, e.g. `model.save('my_model.keras')` or `keras.saving.save_model(model, 'my_model.keras')`. \n"
     ]
    },
    {
     "name": "stdout",
     "output_type": "stream",
     "text": [
      "\n",
      "Epoch 64: val_loss improved from 0.00094 to 0.00094, saving model to 10Var-Vn30-gru.h5\n"
     ]
    },
    {
     "name": "stderr",
     "output_type": "stream",
     "text": [
      "WARNING:absl:You are saving your model as an HDF5 file via `model.save()` or `keras.saving.save_model(model)`. This file format is considered legacy. We recommend using instead the native Keras format, e.g. `model.save('my_model.keras')` or `keras.saving.save_model(model, 'my_model.keras')`. \n"
     ]
    },
    {
     "name": "stdout",
     "output_type": "stream",
     "text": [
      "\n",
      "Epoch 65: val_loss improved from 0.00094 to 0.00094, saving model to 10Var-Vn30-gru.h5\n"
     ]
    },
    {
     "name": "stderr",
     "output_type": "stream",
     "text": [
      "WARNING:absl:You are saving your model as an HDF5 file via `model.save()` or `keras.saving.save_model(model)`. This file format is considered legacy. We recommend using instead the native Keras format, e.g. `model.save('my_model.keras')` or `keras.saving.save_model(model, 'my_model.keras')`. \n"
     ]
    },
    {
     "name": "stdout",
     "output_type": "stream",
     "text": [
      "\n",
      "Epoch 66: val_loss improved from 0.00094 to 0.00094, saving model to 10Var-Vn30-gru.h5\n"
     ]
    },
    {
     "name": "stderr",
     "output_type": "stream",
     "text": [
      "WARNING:absl:You are saving your model as an HDF5 file via `model.save()` or `keras.saving.save_model(model)`. This file format is considered legacy. We recommend using instead the native Keras format, e.g. `model.save('my_model.keras')` or `keras.saving.save_model(model, 'my_model.keras')`. \n"
     ]
    },
    {
     "name": "stdout",
     "output_type": "stream",
     "text": [
      "\n",
      "Epoch 67: val_loss did not improve from 0.00094\n",
      "\n",
      "Epoch 68: val_loss did not improve from 0.00094\n",
      "\n",
      "Epoch 69: val_loss did not improve from 0.00094\n",
      "\n",
      "Epoch 70: val_loss did not improve from 0.00094\n",
      "\n",
      "Epoch 71: val_loss did not improve from 0.00094\n",
      "\n",
      "Epoch 72: val_loss did not improve from 0.00094\n",
      "\n",
      "Epoch 73: val_loss did not improve from 0.00094\n",
      "\n",
      "Epoch 74: val_loss did not improve from 0.00094\n",
      "\n",
      "Epoch 75: val_loss did not improve from 0.00094\n",
      "\n",
      "Epoch 76: val_loss did not improve from 0.00094\n",
      "\n",
      "Epoch 77: val_loss did not improve from 0.00094\n",
      "\n",
      "Epoch 78: val_loss did not improve from 0.00094\n",
      "\n",
      "Epoch 79: val_loss did not improve from 0.00094\n",
      "\n",
      "Epoch 80: val_loss did not improve from 0.00094\n",
      "\n",
      "Epoch 81: val_loss did not improve from 0.00094\n",
      "\n",
      "Epoch 82: val_loss did not improve from 0.00094\n",
      "\n",
      "Epoch 83: val_loss did not improve from 0.00094\n",
      "\n",
      "Epoch 84: val_loss did not improve from 0.00094\n",
      "\n",
      "Epoch 85: val_loss did not improve from 0.00094\n",
      "\n",
      "Epoch 86: val_loss did not improve from 0.00094\n",
      "\n",
      "Epoch 87: val_loss did not improve from 0.00094\n",
      "\n",
      "Epoch 88: val_loss did not improve from 0.00094\n",
      "\n",
      "Epoch 89: val_loss did not improve from 0.00094\n",
      "\n",
      "Epoch 90: val_loss did not improve from 0.00094\n",
      "\n",
      "Epoch 91: val_loss did not improve from 0.00094\n",
      "\n",
      "Epoch 92: val_loss did not improve from 0.00094\n",
      "\n",
      "Epoch 93: val_loss did not improve from 0.00094\n",
      "\n",
      "Epoch 94: val_loss did not improve from 0.00094\n",
      "\n",
      "Epoch 95: val_loss did not improve from 0.00094\n",
      "\n",
      "Epoch 96: val_loss did not improve from 0.00094\n",
      "\n",
      "Epoch 97: val_loss did not improve from 0.00094\n",
      "\n",
      "Epoch 98: val_loss did not improve from 0.00094\n",
      "\n",
      "Epoch 99: val_loss did not improve from 0.00094\n",
      "\n",
      "Epoch 100: val_loss did not improve from 0.00094\n",
      "\n",
      "Epoch 101: val_loss did not improve from 0.00094\n",
      "\n",
      "Epoch 102: val_loss did not improve from 0.00094\n",
      "\n",
      "Epoch 103: val_loss did not improve from 0.00094\n",
      "\n",
      "Epoch 104: val_loss did not improve from 0.00094\n",
      "\n",
      "Epoch 105: val_loss did not improve from 0.00094\n",
      "\n",
      "Epoch 106: val_loss did not improve from 0.00094\n",
      "\n",
      "Epoch 107: val_loss did not improve from 0.00094\n",
      "\n",
      "Epoch 108: val_loss did not improve from 0.00094\n",
      "\n",
      "Epoch 109: val_loss did not improve from 0.00094\n",
      "\n",
      "Epoch 110: val_loss did not improve from 0.00094\n",
      "\n",
      "Epoch 111: val_loss did not improve from 0.00094\n",
      "\n",
      "Epoch 112: val_loss did not improve from 0.00094\n",
      "\n",
      "Epoch 113: val_loss did not improve from 0.00094\n",
      "\n",
      "Epoch 114: val_loss did not improve from 0.00094\n",
      "\n",
      "Epoch 115: val_loss did not improve from 0.00094\n",
      "\n",
      "Epoch 116: val_loss did not improve from 0.00094\n",
      "\n",
      "Epoch 117: val_loss did not improve from 0.00094\n",
      "\n",
      "Epoch 118: val_loss did not improve from 0.00094\n",
      "\n",
      "Epoch 119: val_loss did not improve from 0.00094\n",
      "\n",
      "Epoch 120: val_loss did not improve from 0.00094\n",
      "\n",
      "Epoch 121: val_loss did not improve from 0.00094\n",
      "\n",
      "Epoch 122: val_loss did not improve from 0.00094\n",
      "\n",
      "Epoch 123: val_loss did not improve from 0.00094\n",
      "\n",
      "Epoch 124: val_loss did not improve from 0.00094\n",
      "\n",
      "Epoch 125: val_loss did not improve from 0.00094\n",
      "\n",
      "Epoch 126: val_loss did not improve from 0.00094\n",
      "\n",
      "Epoch 127: val_loss did not improve from 0.00094\n",
      "\n",
      "Epoch 128: val_loss did not improve from 0.00094\n",
      "\n",
      "Epoch 129: val_loss did not improve from 0.00094\n",
      "\n",
      "Epoch 130: val_loss did not improve from 0.00094\n",
      "\n",
      "Epoch 131: val_loss did not improve from 0.00094\n",
      "\n",
      "Epoch 132: val_loss did not improve from 0.00094\n",
      "\n",
      "Epoch 133: val_loss did not improve from 0.00094\n",
      "\n",
      "Epoch 134: val_loss did not improve from 0.00094\n",
      "\n",
      "Epoch 135: val_loss did not improve from 0.00094\n",
      "\n",
      "Epoch 136: val_loss did not improve from 0.00094\n",
      "\n",
      "Epoch 137: val_loss did not improve from 0.00094\n",
      "Epoch 137: early stopping\n"
     ]
    }
   ],
   "source": [
    "timesteps = 30\n",
    "hl = [40, 35]\n",
    "lr = 1e-4\n",
    "batch_size = 32\n",
    "num_epochs = 200\n",
    "\n",
    "model, train_loss, val_loss = fit_model_3(train, val, timesteps, hl, lr, batch_size, num_epochs)"
   ]
  },
  {
   "cell_type": "markdown",
   "metadata": {},
   "source": [
    "### Bước 6: Đánh giá mô hình và trực quan hóa kết quả"
   ]
  },
  {
   "cell_type": "markdown",
   "metadata": {},
   "source": [
    "#### 6.1. Vẽ biểu đồ train_loss và val_loss"
   ]
  },
  {
   "cell_type": "code",
   "execution_count": 64,
   "metadata": {},
   "outputs": [
    {
     "data": {
      "image/png": "[encoded data removed]",
      "text/plain": [
       "<Figure size 640x480 with 1 Axes>"
      ]
     },
     "metadata": {},
     "output_type": "display_data"
    }
   ],
   "source": [
    "plot_error(train_error, val_error)"
   ]
  },
  {
   "cell_type": "markdown",
   "metadata": {},
   "source": [
    "#### 6.2. Đánh giá mô hình trên tập test"
   ]
  },
  {
   "cell_type": "code",
   "execution_count": 65,
   "metadata": {},
   "outputs": [
    {
     "name": "stdout",
     "output_type": "stream",
     "text": [
      "\u001b[1m18/18\u001b[0m \u001b[32m━━━━━━━━━━━━━━━━━━━━\u001b[0m\u001b[37m\u001b[0m \u001b[1m2s\u001b[0m 52ms/step\n"
     ]
    }
   ],
   "source": [
    "mse, rmse, mape, r2, true, predicted = evaluate_model_3(model, test, timesteps)"
   ]
  },
  {
   "cell_type": "code",
   "execution_count": 66,
   "metadata": {},
   "outputs": [
    {
     "name": "stdout",
     "output_type": "stream",
     "text": [
      "MSE = 0.0007688355691376265\n",
      "RMSE = 0.027727884324946727\n",
      "MAPE = 0.02152507816561476\n",
      "R-Squared Score = 0.9445823227225246\n"
     ]
    }
   ],
   "source": [
    "print('MSE = {}'.format(mse))\n",
    "print('RMSE = {}'.format(rmse))\n",
    "print('MAPE = {}'.format(mape))\n",
    "print('R-Squared Score = {}'.format(r2))"
   ]
  },
  {
   "cell_type": "markdown",
   "metadata": {},
   "source": [
    "#### 6.3. Vẽ đồ thị dự đoán vs thực tế"
   ]
  },
  {
   "cell_type": "code",
   "execution_count": 67,
   "metadata": {},
   "outputs": [
    {
     "data": {
      "image/png": "[encoded data removed]",
      "text/plain": [
       "<Figure size 640x480 with 1 Axes>"
      ]
     },
     "metadata": {},
     "output_type": "display_data"
    }
   ],
   "source": [
    "plot_data_3(true, predicted)"
   ]
  },
  {
   "cell_type": "code",
   "execution_count": 68,
   "metadata": {},
   "outputs": [],
   "source": [
    "# Save a model\n",
    "model.save('10VAR-VN30index-gru.keras')"
   ]
  },
  {
   "cell_type": "code",
   "execution_count": 206,
   "metadata": {},
   "outputs": [],
   "source": [
    "del model"
   ]
  },
  {
   "cell_type": "markdown",
   "metadata": {},
   "source": [
    "# Model 3: Multivariate-3-LSTM"
   ]
  },
  {
   "cell_type": "markdown",
   "metadata": {},
   "source": [
    "## LSTM"
   ]
  },
  {
   "cell_type": "markdown",
   "metadata": {},
   "source": [
    "### Import các thư viện cần thiết"
   ]
  },
  {
   "cell_type": "code",
   "execution_count": 2,
   "metadata": {},
   "outputs": [],
   "source": [
    "import os\n",
    "os.environ['PYTHONHASHSEED'] = '0' # đảm bảo rằng các giá trị băm của đối tượng bất biến (dict, set, chuỗi, tuple...) luôn giống nhau giữa các lần chạy\n",
    "\n",
    "import random as rn\n",
    "import numpy as np\n",
    "np.random.seed(1)\n",
    "rn.seed(3)\n",
    "import tensorflow as tf\n",
    "tf.random.set_seed(2)"
   ]
  },
  {
   "cell_type": "code",
   "execution_count": 3,
   "metadata": {},
   "outputs": [],
   "source": [
    "import sys\n",
    "import numpy as np\n",
    "import pandas as pd\n",
    "import matplotlib.pyplot as plt"
   ]
  },
  {
   "cell_type": "code",
   "execution_count": 4,
   "metadata": {},
   "outputs": [],
   "source": [
    "import tensorflow as tf\n",
    "from tensorflow.keras.models import Sequential, load_model\n",
    "from tensorflow.keras.layers import LSTM, Dropout, Dense\n",
    "from tensorflow.keras import optimizers"
   ]
  },
  {
   "cell_type": "code",
   "execution_count": 5,
   "metadata": {},
   "outputs": [],
   "source": [
    "from tensorflow.keras.callbacks import EarlyStopping, ModelCheckpoint\n",
    "from tensorflow.keras.optimizers import Adam\n",
    "from sklearn.preprocessing import MinMaxScaler\n",
    "from sklearn.metrics import mean_squared_error, r2_score, mean_absolute_percentage_error\n",
    "from math import sqrt\n",
    "import datetime as dt\n",
    "import time"
   ]
  },
  {
   "cell_type": "code",
   "execution_count": 6,
   "metadata": {},
   "outputs": [],
   "source": [
    "plt.style.use('ggplot')"
   ]
  },
  {
   "cell_type": "markdown",
   "metadata": {},
   "source": [
    "### Hàm callback"
   ]
  },
  {
   "cell_type": "code",
   "execution_count": 7,
   "metadata": {},
   "outputs": [],
   "source": [
    "earlystop = EarlyStopping(monitor='val_loss', min_delta=0.0001, patience=80,  verbose=1, mode='min')  \n",
    "checkpoint = ModelCheckpoint(\n",
    "    filepath=\"10Var_vn30_lstm.h5\",   # Tên file lưu mô hình\n",
    "    monitor=\"val_loss\",         # Theo dõi val_loss\n",
    "    save_best_only=True,        # Chỉ lưu khi tốt hơn mô hình trước đó\n",
    "    mode=\"min\",                 # Giảm min của val_loss là tốt nhất\n",
    "    verbose=1\n",
    ")\n",
    "callbacks_list = [earlystop, checkpoint] "
   ]
  },
  {
   "cell_type": "markdown",
   "metadata": {},
   "source": [
    "### Đọc dữ liệu từ file csv"
   ]
  },
  {
   "cell_type": "code",
   "execution_count": null,
   "metadata": {},
   "outputs": [],
   "source": [
    "url = r\"VN30 Index.csv\"\n",
    "df = pd.read_csv(url, parse_dates= True, index_col= 0)"
   ]
  },
  {
   "cell_type": "code",
   "execution_count": 9,
   "metadata": {},
   "outputs": [
    {
     "data": {
      "text/html": [
       "<div>\n",
       "<style scoped>\n",
       "    .dataframe tbody tr th:only-of-type {\n",
       "        vertical-align: middle;\n",
       "    }\n",
       "\n",
       "    .dataframe tbody tr th {\n",
       "        vertical-align: top;\n",
       "    }\n",
       "\n",
       "    .dataframe thead th {\n",
       "        text-align: right;\n",
       "    }\n",
       "</style>\n",
       "<table border=\"1\" class=\"dataframe\">\n",
       "  <thead>\n",
       "    <tr style=\"text-align: right;\">\n",
       "      <th></th>\n",
       "      <th>open</th>\n",
       "      <th>high</th>\n",
       "      <th>low</th>\n",
       "      <th>close</th>\n",
       "      <th>volume</th>\n",
       "    </tr>\n",
       "    <tr>\n",
       "      <th>time</th>\n",
       "      <th></th>\n",
       "      <th></th>\n",
       "      <th></th>\n",
       "      <th></th>\n",
       "      <th></th>\n",
       "    </tr>\n",
       "  </thead>\n",
       "  <tbody>\n",
       "    <tr>\n",
       "      <th>2009-01-05</th>\n",
       "      <td>311.23</td>\n",
       "      <td>311.23</td>\n",
       "      <td>311.23</td>\n",
       "      <td>311.23</td>\n",
       "      <td>NaN</td>\n",
       "    </tr>\n",
       "    <tr>\n",
       "      <th>2009-01-06</th>\n",
       "      <td>314.21</td>\n",
       "      <td>314.21</td>\n",
       "      <td>314.21</td>\n",
       "      <td>314.21</td>\n",
       "      <td>NaN</td>\n",
       "    </tr>\n",
       "    <tr>\n",
       "      <th>2009-01-07</th>\n",
       "      <td>320.53</td>\n",
       "      <td>320.53</td>\n",
       "      <td>320.53</td>\n",
       "      <td>320.53</td>\n",
       "      <td>NaN</td>\n",
       "    </tr>\n",
       "    <tr>\n",
       "      <th>2009-01-08</th>\n",
       "      <td>314.14</td>\n",
       "      <td>314.14</td>\n",
       "      <td>314.14</td>\n",
       "      <td>314.14</td>\n",
       "      <td>NaN</td>\n",
       "    </tr>\n",
       "    <tr>\n",
       "      <th>2009-01-09</th>\n",
       "      <td>312.90</td>\n",
       "      <td>312.90</td>\n",
       "      <td>312.90</td>\n",
       "      <td>312.90</td>\n",
       "      <td>NaN</td>\n",
       "    </tr>\n",
       "  </tbody>\n",
       "</table>\n",
       "</div>"
      ],
      "text/plain": [
       "              open    high     low   close  volume\n",
       "time                                              \n",
       "2009-01-05  311.23  311.23  311.23  311.23     NaN\n",
       "2009-01-06  314.21  314.21  314.21  314.21     NaN\n",
       "2009-01-07  320.53  320.53  320.53  320.53     NaN\n",
       "2009-01-08  314.14  314.14  314.14  314.14     NaN\n",
       "2009-01-09  312.90  312.90  312.90  312.90     NaN"
      ]
     },
     "execution_count": 9,
     "metadata": {},
     "output_type": "execute_result"
    }
   ],
   "source": [
    "df.head()"
   ]
  },
  {
   "cell_type": "code",
   "execution_count": 10,
   "metadata": {},
   "outputs": [
    {
     "data": {
      "text/plain": [
       "open        0\n",
       "high        0\n",
       "low         0\n",
       "close       0\n",
       "volume    859\n",
       "dtype: int64"
      ]
     },
     "execution_count": 10,
     "metadata": {},
     "output_type": "execute_result"
    }
   ],
   "source": [
    "df.isnull().sum()"
   ]
  },
  {
   "cell_type": "markdown",
   "metadata": {},
   "source": [
    "### Tiền xử lí dữ liệu"
   ]
  },
  {
   "cell_type": "code",
   "execution_count": 11,
   "metadata": {},
   "outputs": [],
   "source": [
    "# Xóa các dòng có giá trị Volume bằng 0\n",
    "df.drop(df[df['volume']==0].index, inplace=True)"
   ]
  },
  {
   "cell_type": "code",
   "execution_count": 12,
   "metadata": {},
   "outputs": [
    {
     "data": {
      "text/plain": [
       "open      0.999562\n",
       "high      0.999783\n",
       "low       0.999789\n",
       "close     1.000000\n",
       "volume    0.169492\n",
       "Name: close, dtype: float64"
      ]
     },
     "execution_count": 12,
     "metadata": {},
     "output_type": "execute_result"
    }
   ],
   "source": [
    "# Ma trận tương quan (ở đây là Pearson tương quan tuyến tính)\n",
    "df.corr()['close']"
   ]
  },
  {
   "cell_type": "code",
   "execution_count": 13,
   "metadata": {},
   "outputs": [
    {
     "name": "stdout",
     "output_type": "stream",
     "text": [
      "count    3.185000e+03\n",
      "mean     3.279171e+06\n",
      "std      2.776577e+07\n",
      "min      4.540000e+03\n",
      "25%      3.809000e+04\n",
      "50%      6.036000e+04\n",
      "75%      1.560100e+05\n",
      "max      3.744900e+08\n",
      "Name: volume, dtype: float64\n"
     ]
    },
    {
     "data": {
      "text/plain": [
       "<Axes: >"
      ]
     },
     "execution_count": 13,
     "metadata": {},
     "output_type": "execute_result"
    },
    {
     "data": {
      "image/png": "[encoded data removed]",
      "text/plain": [
       "<Figure size 640x480 with 1 Axes>"
      ]
     },
     "metadata": {},
     "output_type": "display_data"
    }
   ],
   "source": [
    "print(df.describe().volume) \n",
    "df['volume'].hist(bins= 10)"
   ]
  },
  {
   "cell_type": "code",
   "execution_count": 14,
   "metadata": {},
   "outputs": [],
   "source": [
    "# Bổ sung các chỉ báo kĩ thuật\n",
    "\n",
    "# Tính CMA10\n",
    "df['CMA10'] = df['close'].rolling(window=10, center=True).mean()\n",
    "# Tính SMA10\n",
    "df['SMA10'] = df['close'].rolling(window=10).mean()\n",
    "# Tính SMA50\n",
    "df['SMA50'] = df['close'].rolling(window=50).mean()\n",
    "# Tính EMA12 và EMA26\n",
    "df['EMA12'] = df['close'].ewm(span=12, adjust=False).mean()\n",
    "df['EMA26'] = df['close'].ewm(span=26, adjust=False).mean()\n",
    "# Tính MACD\n",
    "df['MACD'] = df['EMA12'] - df['EMA26']\n",
    "#Tính RSI\n",
    "# Tính giá tăng/giảm\n",
    "delta = df['close'].diff()\n",
    "\n",
    "# Tính giá tăng\n",
    "gain = delta.where(delta > 0, 0)\n",
    "\n",
    "# Tính giá giảm\n",
    "loss = -delta.where(delta < 0, 0)\n",
    "\n",
    "# Tính trung bình động\n",
    "avg_gain = gain.rolling(window=14).mean()\n",
    "avg_loss = loss.rolling(window=14).mean()\n",
    "\n",
    "# Tính RS và RSI\n",
    "rs = avg_gain / avg_loss\n",
    "df['RSI'] = 100 - (100 / (1 + rs))\n",
    "\n",
    "#Tính CCI\n",
    "# Tính giá trung bình\n",
    "typical_price = (df['high'] + df['low'] + df['close']) / 3\n",
    "\n",
    "# Tính SMA của giá trung bình\n",
    "sma_typical_price = typical_price.rolling(window=20).mean()\n",
    "\n",
    "# Tính độ lệch chuẩn\n",
    "mean_deviation = typical_price.rolling(window=20).apply(lambda x: np.mean(np.abs(x - x.mean())))\n",
    "\n",
    "# Tính CCI\n",
    "df['CCI'] = (typical_price - sma_typical_price) / (0.015 * mean_deviation)\n",
    "# Tính %K và %D\n",
    "low_min = df['low'].rolling(window=14).min()\n",
    "high_max = df['high'].rolling(window=14).max()\n",
    "\n",
    "df['%K'] = 100 * (df['close'] - low_min) / (high_max - low_min)\n",
    "df['%D'] = df['%K'].rolling(window=3).mean()"
   ]
  },
  {
   "cell_type": "code",
   "execution_count": 15,
   "metadata": {},
   "outputs": [
    {
     "name": "stdout",
     "output_type": "stream",
     "text": [
      "              open    high     low   close  volume  CMA10  SMA10  SMA50  \\\n",
      "time                                                                      \n",
      "2009-01-05  311.23  311.23  311.23  311.23     NaN    NaN    NaN    NaN   \n",
      "2009-01-06  314.21  314.21  314.21  314.21     NaN    NaN    NaN    NaN   \n",
      "2009-01-07  320.53  320.53  320.53  320.53     NaN    NaN    NaN    NaN   \n",
      "2009-01-08  314.14  314.14  314.14  314.14     NaN    NaN    NaN    NaN   \n",
      "2009-01-09  312.90  312.90  312.90  312.90     NaN    NaN    NaN    NaN   \n",
      "\n",
      "                 EMA12       EMA26      MACD  RSI  CCI  %K  %D  \n",
      "time                                                            \n",
      "2009-01-05  311.230000  311.230000  0.000000  NaN  NaN NaN NaN  \n",
      "2009-01-06  311.688462  311.450741  0.237721  NaN  NaN NaN NaN  \n",
      "2009-01-07  313.048698  312.123278  0.925420  NaN  NaN NaN NaN  \n",
      "2009-01-08  313.216591  312.272665  0.943926  NaN  NaN NaN NaN  \n",
      "2009-01-09  313.167885  312.319134  0.848750  NaN  NaN NaN NaN  \n"
     ]
    },
    {
     "data": {
      "text/plain": [
       "(4044, 15)"
      ]
     },
     "execution_count": 15,
     "metadata": {},
     "output_type": "execute_result"
    }
   ],
   "source": [
    "print(df.head())\n",
    "df.shape"
   ]
  },
  {
   "cell_type": "markdown",
   "metadata": {},
   "source": [
    "## Train model / Hàm **fit_model_4()**"
   ]
  },
  {
   "cell_type": "code",
   "execution_count": 16,
   "metadata": {},
   "outputs": [],
   "source": [
    "def fit_model_4(train, val, timesteps, hl, lr, batch, epochs):\n",
    "    X_train = []\n",
    "    Y_train = []\n",
    "    X_val = []\n",
    "    Y_val = []\n",
    "\n",
    "    for i in range(timesteps, train.shape[0]):\n",
    "        X_train.append(train[i-timesteps:i])\n",
    "        Y_train.append(train[i][0])\n",
    "    X_train, Y_train = np.array(X_train), np.array(Y_train)\n",
    "\n",
    "    for i in range(timesteps, val.shape[0]):\n",
    "        X_val.append(val[i-timesteps:i])\n",
    "        Y_val.append(val[i][0])\n",
    "    X_val, Y_val = np.array(X_val), np.array(Y_val)\n",
    "\n",
    "    # Xây dựng mô hình\n",
    "    model = Sequential()\n",
    "    model.add(LSTM(X_train.shape[2], input_shape= (X_train.shape[1], X_train.shape[2]), activation='relu', return_sequences= True))\n",
    "    for i in range(len(hl)-1):\n",
    "        model.add(LSTM(hl[i], activation='relu', return_sequences= True))\n",
    "    model.add(LSTM(hl[-1], activation='relu'))\n",
    "    model.add(Dense(1))\n",
    "\n",
    "    # Biên dịch\n",
    "    model.compile(optimizer= optimizers.Adam(learning_rate= lr), loss= 'mean_squared_error')\n",
    "\n",
    "    # Huấn luyện mô hình\n",
    "    history = model.fit(X_train, Y_train, batch_size= batch, epochs= epochs, validation_data= (X_val, Y_val), verbose= 0, shuffle= False, callbacks= callbacks_list)\n",
    "\n",
    "    # Đặt lại trạng thái\n",
    "    for layer in model.layers:\n",
    "        if isinstance(layer, LSTM):\n",
    "            layer.reset_state()\n",
    "\n",
    "    return model, history.history['loss'], history.history['val_loss']"
   ]
  },
  {
   "cell_type": "markdown",
   "metadata": {},
   "source": [
    "## Hàm **Evaluate_model_4()**"
   ]
  },
  {
   "cell_type": "code",
   "execution_count": 17,
   "metadata": {},
   "outputs": [],
   "source": [
    "def evaluate_model_4(model, test, timesteps):\n",
    "    X_test = []\n",
    "    Y_test = []\n",
    "\n",
    "    for i in range(timesteps, test.shape[0]):\n",
    "        X_test.append(test[i-timesteps:i])\n",
    "        Y_test.append(test[i][0])\n",
    "    X_test, Y_test = np.array(X_test), np.array(Y_test)\n",
    "\n",
    "    # Các chỉ số\n",
    "    Y_hat = model.predict(X_test)\n",
    "    mse = mean_squared_error(Y_test, Y_hat)\n",
    "    rmse = sqrt(mse)\n",
    "    mape = mean_absolute_percentage_error(Y_test, Y_hat)\n",
    "    r2 = r2_score(Y_test, Y_hat)\n",
    "\n",
    "    return mse, rmse, mape, r2, Y_test, Y_hat"
   ]
  },
  {
   "cell_type": "markdown",
   "metadata": {},
   "source": [
    "## **Grid Search**: Tìm kiếm siêu tham số tối ưu "
   ]
  },
  {
   "cell_type": "code",
   "execution_count": 18,
   "metadata": {},
   "outputs": [],
   "source": [
    "param_grid = {\n",
    "    'timesteps': [30, 40, 50],  # Số giá trị trước đó để dự đoán\n",
    "    'hl': [ [40, 35]], # Cấu trúc lớp ẩn\n",
    "    'lr': [1e-3, 1e-4],  # Tốc độ học\n",
    "    'batch_size': [32, 64],  # Kích thước batch\n",
    "    'num_epochs': [200, 250],  # Số epoch\n",
    "}"
   ]
  },
  {
   "cell_type": "code",
   "execution_count": 19,
   "metadata": {},
   "outputs": [],
   "source": [
    "from itertools import product\n",
    "import pandas as pd\n",
    "\n",
    "# Hàm Grid Search\n",
    "def grid_search_rnn(train, val, test, param_grid):\n",
    "    results = []  # Lưu kết quả của từng tổ hợp tham số\n",
    "    best_score = float('inf')  # Lưu RMSE tốt nhất\n",
    "    best_params = None  # Lưu bộ tham số tốt nhất\n",
    "\n",
    "    # Tạo tất cả các tổ hợp tham số\n",
    "    all_combinations = list(product(*param_grid.values()))\n",
    "    param_names = list(param_grid.keys())\n",
    "\n",
    "    for combination in all_combinations:\n",
    "        # Gán giá trị tham số hiện tại\n",
    "        params = dict(zip(param_names, combination))\n",
    "        timesteps = params['timesteps']\n",
    "        hl = params['hl']\n",
    "        lr = params['lr']\n",
    "        batch_size = params['batch_size']\n",
    "        num_epochs = params['num_epochs']\n",
    "\n",
    "        print(f\"Training with params: {params}\")\n",
    "\n",
    "        # Huấn luyện mô hình\n",
    "        model, train_loss, val_loss = fit_model_4(\n",
    "            train, val, timesteps, hl, lr, batch_size, num_epochs\n",
    "        )\n",
    "\n",
    "        # Đánh giá mô hình\n",
    "        mse, rmse, mape, r2, _, _ = evaluate_model_4(model, test, timesteps)\n",
    "\n",
    "        # Lưu kết quả\n",
    "        results.append({\n",
    "            'timesteps': timesteps,\n",
    "            'hl': hl,\n",
    "            'lr': lr,\n",
    "            'batch_size': batch_size,\n",
    "            'num_epochs': num_epochs,\n",
    "            'MSE': mse,\n",
    "            'RMSE': rmse,\n",
    "            'MAPE': mape,\n",
    "            'R²': r2\n",
    "        })\n",
    "\n",
    "        # Cập nhật tham số tốt nhất nếu RMSE cải thiện\n",
    "        if rmse < best_score:\n",
    "            best_score = rmse\n",
    "            best_params = params\n",
    "\n",
    "    # Trả về kết quả\n",
    "    results_df = pd.DataFrame(results)\n",
    "    return best_params, best_score, results_df\n"
   ]
  },
  {
   "cell_type": "markdown",
   "metadata": {},
   "source": [
    "## Plot chart (vẽ biểu đồ)"
   ]
  },
  {
   "cell_type": "code",
   "execution_count": 20,
   "metadata": {},
   "outputs": [],
   "source": [
    "# Plotting the predictions\n",
    "def plot_data_4(Y_test, Y_hat):\n",
    "    plt.plot(Y_test, c = 'r')\n",
    "    plt.plot(Y_hat, c = 'y')\n",
    "    plt.xlabel('Day')\n",
    "    plt.ylabel('Price')\n",
    "    plt.title('Stock Prediction Graph using Multivariate-LSTM model')\n",
    "    plt.legend(['Actual', 'Predicted'], loc = 'lower right')\n",
    "    plt.show()"
   ]
  },
  {
   "cell_type": "code",
   "execution_count": 21,
   "metadata": {},
   "outputs": [],
   "source": [
    "# Plotting the training errors: trực quan loss qua các epoch -> thấy qtr học mô hình, xem có overfitting ko\n",
    "def plot_error(train_loss, val_loss):\n",
    "    plt.plot(train_loss, c = 'r')\n",
    "    plt.plot(val_loss, c = 'b')\n",
    "    plt.ylabel('Loss')\n",
    "    plt.xlabel('Epochs')\n",
    "    plt.title('Train Loss and Validation Loss Curve')\n",
    "    plt.legend(['train', 'val'], loc = 'upper right')\n",
    "    plt.show()"
   ]
  },
  {
   "cell_type": "markdown",
   "metadata": {},
   "source": [
    "## **Model building**: Xây dựng mô hình"
   ]
  },
  {
   "cell_type": "markdown",
   "metadata": {},
   "source": [
    "### Bước 1: Trích xuất và trực quan hóa dữ liệu"
   ]
  },
  {
   "cell_type": "code",
   "execution_count": 22,
   "metadata": {},
   "outputs": [
    {
     "name": "stdout",
     "output_type": "stream",
     "text": [
      "(3991, 10)\n"
     ]
    },
    {
     "data": {
      "text/html": [
       "<div>\n",
       "<style scoped>\n",
       "    .dataframe tbody tr th:only-of-type {\n",
       "        vertical-align: middle;\n",
       "    }\n",
       "\n",
       "    .dataframe tbody tr th {\n",
       "        vertical-align: top;\n",
       "    }\n",
       "\n",
       "    .dataframe thead th {\n",
       "        text-align: right;\n",
       "    }\n",
       "</style>\n",
       "<table border=\"1\" class=\"dataframe\">\n",
       "  <thead>\n",
       "    <tr style=\"text-align: right;\">\n",
       "      <th></th>\n",
       "      <th>close</th>\n",
       "      <th>CMA10</th>\n",
       "      <th>SMA10</th>\n",
       "      <th>SMA50</th>\n",
       "      <th>EMA12</th>\n",
       "      <th>RSI</th>\n",
       "      <th>CCI</th>\n",
       "      <th>%K</th>\n",
       "      <th>%D</th>\n",
       "      <th>MACD</th>\n",
       "    </tr>\n",
       "  </thead>\n",
       "  <tbody>\n",
       "    <tr>\n",
       "      <th>count</th>\n",
       "      <td>3991.000000</td>\n",
       "      <td>3991.000000</td>\n",
       "      <td>3991.00000</td>\n",
       "      <td>3991.000000</td>\n",
       "      <td>3991.000000</td>\n",
       "      <td>3991.000000</td>\n",
       "      <td>3991.000000</td>\n",
       "      <td>3991.000000</td>\n",
       "      <td>3991.000000</td>\n",
       "      <td>3991.000000</td>\n",
       "    </tr>\n",
       "    <tr>\n",
       "      <th>mean</th>\n",
       "      <td>814.145743</td>\n",
       "      <td>814.003191</td>\n",
       "      <td>812.86794</td>\n",
       "      <td>807.414210</td>\n",
       "      <td>812.591967</td>\n",
       "      <td>54.032542</td>\n",
       "      <td>17.593878</td>\n",
       "      <td>57.339202</td>\n",
       "      <td>57.342557</td>\n",
       "      <td>1.921103</td>\n",
       "    </tr>\n",
       "    <tr>\n",
       "      <th>std</th>\n",
       "      <td>321.109578</td>\n",
       "      <td>320.781191</td>\n",
       "      <td>320.75575</td>\n",
       "      <td>319.492655</td>\n",
       "      <td>320.500740</td>\n",
       "      <td>18.541935</td>\n",
       "      <td>110.243542</td>\n",
       "      <td>32.341940</td>\n",
       "      <td>30.423710</td>\n",
       "      <td>13.176084</td>\n",
       "    </tr>\n",
       "    <tr>\n",
       "      <th>min</th>\n",
       "      <td>254.820000</td>\n",
       "      <td>261.983000</td>\n",
       "      <td>251.40000</td>\n",
       "      <td>265.341000</td>\n",
       "      <td>252.982926</td>\n",
       "      <td>4.401922</td>\n",
       "      <td>-339.712898</td>\n",
       "      <td>0.000000</td>\n",
       "      <td>0.000000</td>\n",
       "      <td>-60.553670</td>\n",
       "    </tr>\n",
       "    <tr>\n",
       "      <th>25%</th>\n",
       "      <td>552.290000</td>\n",
       "      <td>551.247500</td>\n",
       "      <td>550.82900</td>\n",
       "      <td>547.833600</td>\n",
       "      <td>549.926815</td>\n",
       "      <td>40.285656</td>\n",
       "      <td>-70.241516</td>\n",
       "      <td>28.668093</td>\n",
       "      <td>28.989233</td>\n",
       "      <td>-4.653577</td>\n",
       "    </tr>\n",
       "    <tr>\n",
       "      <th>50%</th>\n",
       "      <td>673.530000</td>\n",
       "      <td>672.566000</td>\n",
       "      <td>671.65700</td>\n",
       "      <td>656.734400</td>\n",
       "      <td>669.526149</td>\n",
       "      <td>54.411293</td>\n",
       "      <td>32.984730</td>\n",
       "      <td>62.714014</td>\n",
       "      <td>62.491154</td>\n",
       "      <td>1.775423</td>\n",
       "    </tr>\n",
       "    <tr>\n",
       "      <th>75%</th>\n",
       "      <td>1056.925000</td>\n",
       "      <td>1058.503000</td>\n",
       "      <td>1057.24600</td>\n",
       "      <td>1057.393900</td>\n",
       "      <td>1058.727874</td>\n",
       "      <td>67.773165</td>\n",
       "      <td>106.763138</td>\n",
       "      <td>87.016932</td>\n",
       "      <td>85.932690</td>\n",
       "      <td>9.299267</td>\n",
       "    </tr>\n",
       "    <tr>\n",
       "      <th>max</th>\n",
       "      <td>1572.460000</td>\n",
       "      <td>1543.976000</td>\n",
       "      <td>1543.97600</td>\n",
       "      <td>1524.849800</td>\n",
       "      <td>1541.505267</td>\n",
       "      <td>100.000000</td>\n",
       "      <td>314.013206</td>\n",
       "      <td>100.000000</td>\n",
       "      <td>100.000000</td>\n",
       "      <td>49.008428</td>\n",
       "    </tr>\n",
       "  </tbody>\n",
       "</table>\n",
       "</div>"
      ],
      "text/plain": [
       "             close        CMA10       SMA10        SMA50        EMA12  \\\n",
       "count  3991.000000  3991.000000  3991.00000  3991.000000  3991.000000   \n",
       "mean    814.145743   814.003191   812.86794   807.414210   812.591967   \n",
       "std     321.109578   320.781191   320.75575   319.492655   320.500740   \n",
       "min     254.820000   261.983000   251.40000   265.341000   252.982926   \n",
       "25%     552.290000   551.247500   550.82900   547.833600   549.926815   \n",
       "50%     673.530000   672.566000   671.65700   656.734400   669.526149   \n",
       "75%    1056.925000  1058.503000  1057.24600  1057.393900  1058.727874   \n",
       "max    1572.460000  1543.976000  1543.97600  1524.849800  1541.505267   \n",
       "\n",
       "               RSI          CCI           %K           %D         MACD  \n",
       "count  3991.000000  3991.000000  3991.000000  3991.000000  3991.000000  \n",
       "mean     54.032542    17.593878    57.339202    57.342557     1.921103  \n",
       "std      18.541935   110.243542    32.341940    30.423710    13.176084  \n",
       "min       4.401922  -339.712898     0.000000     0.000000   -60.553670  \n",
       "25%      40.285656   -70.241516    28.668093    28.989233    -4.653577  \n",
       "50%      54.411293    32.984730    62.714014    62.491154     1.775423  \n",
       "75%      67.773165   106.763138    87.016932    85.932690     9.299267  \n",
       "max     100.000000   314.013206   100.000000   100.000000    49.008428  "
      ]
     },
     "execution_count": 22,
     "metadata": {},
     "output_type": "execute_result"
    }
   ],
   "source": [
    "# Extracting the series\n",
    "series = df[['close', 'CMA10', 'SMA10', 'SMA50', 'EMA12', 'RSI', 'CCI', '%K', '%D', 'MACD']]\n",
    "# Drop rows with NaN values\n",
    "series = series.dropna()\n",
    "\n",
    "# Display the shape and the tail of the cleaned series\n",
    "print(series.shape)\n",
    "series.describe()"
   ]
  },
  {
   "cell_type": "markdown",
   "metadata": {},
   "source": [
    "### Bước 2: Chia dữ liệu thành các tập Train, Validation, Test"
   ]
  },
  {
   "cell_type": "code",
   "execution_count": 23,
   "metadata": {},
   "outputs": [
    {
     "data": {
      "text/plain": [
       "(3991, 10)"
      ]
     },
     "execution_count": 23,
     "metadata": {},
     "output_type": "execute_result"
    }
   ],
   "source": [
    "series.shape"
   ]
  },
  {
   "cell_type": "code",
   "execution_count": 24,
   "metadata": {},
   "outputs": [
    {
     "name": "stdout",
     "output_type": "stream",
     "text": [
      "(2795, 10) (598, 10) (598, 10)\n"
     ]
    }
   ],
   "source": [
    "\n",
    "n = series.shape[0]\n",
    "val_size =  test_size = int(n * 0.15)\n",
    "train_size = n - val_size - test_size # Để tránh sai số làm mất dữ liệu\n",
    "\n",
    "# Chia tập dữ liệu theo thứ tự thời gian\n",
    "train_data = series.iloc[:train_size].values\n",
    "val_data = series.iloc[train_size:train_size + val_size].values\n",
    "test_data = series.iloc[(train_size + val_size):].values\n",
    "# Kiểm tra kích thước của từng tập\n",
    "print(train_data.shape, val_data.shape, test_data.shape)\n"
   ]
  },
  {
   "cell_type": "markdown",
   "metadata": {},
   "source": [
    "### Bước 3: Chuẩn hóa dữ liệu bằng MinMaxScaler"
   ]
  },
  {
   "cell_type": "code",
   "execution_count": 25,
   "metadata": {},
   "outputs": [
    {
     "name": "stdout",
     "output_type": "stream",
     "text": [
      "(2795, 10) (598, 10) (598, 10)\n"
     ]
    }
   ],
   "source": [
    "np.random.seed(1)\n",
    "tf.random.set_seed(2)\n",
    "\n",
    "sc = MinMaxScaler()\n",
    "train = sc.fit_transform(train_data)\n",
    "val = sc.transform(val_data)\n",
    "test = sc.transform(test_data)\n",
    "\n",
    "print(train.shape, val.shape, test.shape)"
   ]
  },
  {
   "cell_type": "markdown",
   "metadata": {},
   "source": [
    "### Bước 4: Tìm siêu tham số tốt nhất bằng Grid Search"
   ]
  },
  {
   "cell_type": "code",
   "execution_count": 27,
   "metadata": {},
   "outputs": [
    {
     "name": "stdout",
     "output_type": "stream",
     "text": [
      "Training with params: {'timesteps': 30, 'hl': [40, 35], 'lr': 0.001, 'batch_size': 32, 'num_epochs': 200}\n"
     ]
    },
    {
     "name": "stderr",
     "output_type": "stream",
     "text": [
      "c:\\Users\\84368\\AppData\\Local\\Programs\\Python\\Python311\\Lib\\site-packages\\keras\\src\\layers\\rnn\\rnn.py:200: UserWarning: Do not pass an `input_shape`/`input_dim` argument to a layer. When using Sequential models, prefer using an `Input(shape)` object as the first layer in the model instead.\n",
      "  super().__init__(**kwargs)\n"
     ]
    },
    {
     "name": "stdout",
     "output_type": "stream",
     "text": [
      "\n",
      "Epoch 1: val_loss improved from inf to 0.10977, saving model to 10Var_vn30_lstm.h5\n"
     ]
    },
    {
     "name": "stderr",
     "output_type": "stream",
     "text": [
      "WARNING:absl:You are saving your model as an HDF5 file via `model.save()` or `keras.saving.save_model(model)`. This file format is considered legacy. We recommend using instead the native Keras format, e.g. `model.save('my_model.keras')` or `keras.saving.save_model(model, 'my_model.keras')`. \n"
     ]
    },
    {
     "name": "stdout",
     "output_type": "stream",
     "text": [
      "\n",
      "Epoch 2: val_loss did not improve from 0.10977\n",
      "\n",
      "Epoch 3: val_loss did not improve from 0.10977\n",
      "\n",
      "Epoch 4: val_loss did not improve from 0.10977\n",
      "\n",
      "Epoch 5: val_loss did not improve from 0.10977\n",
      "\n",
      "Epoch 6: val_loss did not improve from 0.10977\n",
      "\n",
      "Epoch 7: val_loss did not improve from 0.10977\n",
      "\n",
      "Epoch 8: val_loss did not improve from 0.10977\n",
      "\n",
      "Epoch 9: val_loss improved from 0.10977 to 0.10802, saving model to 10Var_vn30_lstm.h5\n"
     ]
    },
    {
     "name": "stderr",
     "output_type": "stream",
     "text": [
      "WARNING:absl:You are saving your model as an HDF5 file via `model.save()` or `keras.saving.save_model(model)`. This file format is considered legacy. We recommend using instead the native Keras format, e.g. `model.save('my_model.keras')` or `keras.saving.save_model(model, 'my_model.keras')`. \n"
     ]
    },
    {
     "name": "stdout",
     "output_type": "stream",
     "text": [
      "\n",
      "Epoch 10: val_loss did not improve from 0.10802\n",
      "\n",
      "Epoch 11: val_loss did not improve from 0.10802\n",
      "\n",
      "Epoch 12: val_loss did not improve from 0.10802\n",
      "\n",
      "Epoch 13: val_loss improved from 0.10802 to 0.05420, saving model to 10Var_vn30_lstm.h5\n"
     ]
    },
    {
     "name": "stderr",
     "output_type": "stream",
     "text": [
      "WARNING:absl:You are saving your model as an HDF5 file via `model.save()` or `keras.saving.save_model(model)`. This file format is considered legacy. We recommend using instead the native Keras format, e.g. `model.save('my_model.keras')` or `keras.saving.save_model(model, 'my_model.keras')`. \n"
     ]
    },
    {
     "name": "stdout",
     "output_type": "stream",
     "text": [
      "\n",
      "Epoch 14: val_loss did not improve from 0.05420\n",
      "\n",
      "Epoch 15: val_loss did not improve from 0.05420\n",
      "\n",
      "Epoch 16: val_loss did not improve from 0.05420\n",
      "\n",
      "Epoch 17: val_loss did not improve from 0.05420\n",
      "\n",
      "Epoch 18: val_loss did not improve from 0.05420\n",
      "\n",
      "Epoch 19: val_loss did not improve from 0.05420\n",
      "\n",
      "Epoch 20: val_loss did not improve from 0.05420\n",
      "\n",
      "Epoch 21: val_loss did not improve from 0.05420\n",
      "\n",
      "Epoch 22: val_loss did not improve from 0.05420\n",
      "\n",
      "Epoch 23: val_loss did not improve from 0.05420\n",
      "\n",
      "Epoch 24: val_loss did not improve from 0.05420\n",
      "\n",
      "Epoch 25: val_loss did not improve from 0.05420\n",
      "\n",
      "Epoch 26: val_loss did not improve from 0.05420\n",
      "\n",
      "Epoch 27: val_loss did not improve from 0.05420\n",
      "\n",
      "Epoch 28: val_loss did not improve from 0.05420\n",
      "\n",
      "Epoch 29: val_loss improved from 0.05420 to 0.05267, saving model to 10Var_vn30_lstm.h5\n"
     ]
    },
    {
     "name": "stderr",
     "output_type": "stream",
     "text": [
      "WARNING:absl:You are saving your model as an HDF5 file via `model.save()` or `keras.saving.save_model(model)`. This file format is considered legacy. We recommend using instead the native Keras format, e.g. `model.save('my_model.keras')` or `keras.saving.save_model(model, 'my_model.keras')`. \n"
     ]
    },
    {
     "name": "stdout",
     "output_type": "stream",
     "text": [
      "\n",
      "Epoch 30: val_loss improved from 0.05267 to 0.05080, saving model to 10Var_vn30_lstm.h5\n"
     ]
    },
    {
     "name": "stderr",
     "output_type": "stream",
     "text": [
      "WARNING:absl:You are saving your model as an HDF5 file via `model.save()` or `keras.saving.save_model(model)`. This file format is considered legacy. We recommend using instead the native Keras format, e.g. `model.save('my_model.keras')` or `keras.saving.save_model(model, 'my_model.keras')`. \n"
     ]
    },
    {
     "name": "stdout",
     "output_type": "stream",
     "text": [
      "\n",
      "Epoch 31: val_loss improved from 0.05080 to 0.04893, saving model to 10Var_vn30_lstm.h5\n"
     ]
    },
    {
     "name": "stderr",
     "output_type": "stream",
     "text": [
      "WARNING:absl:You are saving your model as an HDF5 file via `model.save()` or `keras.saving.save_model(model)`. This file format is considered legacy. We recommend using instead the native Keras format, e.g. `model.save('my_model.keras')` or `keras.saving.save_model(model, 'my_model.keras')`. \n"
     ]
    },
    {
     "name": "stdout",
     "output_type": "stream",
     "text": [
      "\n",
      "Epoch 32: val_loss improved from 0.04893 to 0.04716, saving model to 10Var_vn30_lstm.h5\n"
     ]
    },
    {
     "name": "stderr",
     "output_type": "stream",
     "text": [
      "WARNING:absl:You are saving your model as an HDF5 file via `model.save()` or `keras.saving.save_model(model)`. This file format is considered legacy. We recommend using instead the native Keras format, e.g. `model.save('my_model.keras')` or `keras.saving.save_model(model, 'my_model.keras')`. \n"
     ]
    },
    {
     "name": "stdout",
     "output_type": "stream",
     "text": [
      "\n",
      "Epoch 33: val_loss improved from 0.04716 to 0.04544, saving model to 10Var_vn30_lstm.h5\n"
     ]
    },
    {
     "name": "stderr",
     "output_type": "stream",
     "text": [
      "WARNING:absl:You are saving your model as an HDF5 file via `model.save()` or `keras.saving.save_model(model)`. This file format is considered legacy. We recommend using instead the native Keras format, e.g. `model.save('my_model.keras')` or `keras.saving.save_model(model, 'my_model.keras')`. \n"
     ]
    },
    {
     "name": "stdout",
     "output_type": "stream",
     "text": [
      "\n",
      "Epoch 34: val_loss improved from 0.04544 to 0.04382, saving model to 10Var_vn30_lstm.h5\n"
     ]
    },
    {
     "name": "stderr",
     "output_type": "stream",
     "text": [
      "WARNING:absl:You are saving your model as an HDF5 file via `model.save()` or `keras.saving.save_model(model)`. This file format is considered legacy. We recommend using instead the native Keras format, e.g. `model.save('my_model.keras')` or `keras.saving.save_model(model, 'my_model.keras')`. \n"
     ]
    },
    {
     "name": "stdout",
     "output_type": "stream",
     "text": [
      "\n",
      "Epoch 35: val_loss improved from 0.04382 to 0.04202, saving model to 10Var_vn30_lstm.h5\n"
     ]
    },
    {
     "name": "stderr",
     "output_type": "stream",
     "text": [
      "WARNING:absl:You are saving your model as an HDF5 file via `model.save()` or `keras.saving.save_model(model)`. This file format is considered legacy. We recommend using instead the native Keras format, e.g. `model.save('my_model.keras')` or `keras.saving.save_model(model, 'my_model.keras')`. \n"
     ]
    },
    {
     "name": "stdout",
     "output_type": "stream",
     "text": [
      "\n",
      "Epoch 36: val_loss improved from 0.04202 to 0.04050, saving model to 10Var_vn30_lstm.h5\n"
     ]
    },
    {
     "name": "stderr",
     "output_type": "stream",
     "text": [
      "WARNING:absl:You are saving your model as an HDF5 file via `model.save()` or `keras.saving.save_model(model)`. This file format is considered legacy. We recommend using instead the native Keras format, e.g. `model.save('my_model.keras')` or `keras.saving.save_model(model, 'my_model.keras')`. \n"
     ]
    },
    {
     "name": "stdout",
     "output_type": "stream",
     "text": [
      "\n",
      "Epoch 37: val_loss improved from 0.04050 to 0.03888, saving model to 10Var_vn30_lstm.h5\n"
     ]
    },
    {
     "name": "stderr",
     "output_type": "stream",
     "text": [
      "WARNING:absl:You are saving your model as an HDF5 file via `model.save()` or `keras.saving.save_model(model)`. This file format is considered legacy. We recommend using instead the native Keras format, e.g. `model.save('my_model.keras')` or `keras.saving.save_model(model, 'my_model.keras')`. \n"
     ]
    },
    {
     "name": "stdout",
     "output_type": "stream",
     "text": [
      "\n",
      "Epoch 38: val_loss improved from 0.03888 to 0.03735, saving model to 10Var_vn30_lstm.h5\n"
     ]
    },
    {
     "name": "stderr",
     "output_type": "stream",
     "text": [
      "WARNING:absl:You are saving your model as an HDF5 file via `model.save()` or `keras.saving.save_model(model)`. This file format is considered legacy. We recommend using instead the native Keras format, e.g. `model.save('my_model.keras')` or `keras.saving.save_model(model, 'my_model.keras')`. \n"
     ]
    },
    {
     "name": "stdout",
     "output_type": "stream",
     "text": [
      "\n",
      "Epoch 39: val_loss improved from 0.03735 to 0.03568, saving model to 10Var_vn30_lstm.h5\n"
     ]
    },
    {
     "name": "stderr",
     "output_type": "stream",
     "text": [
      "WARNING:absl:You are saving your model as an HDF5 file via `model.save()` or `keras.saving.save_model(model)`. This file format is considered legacy. We recommend using instead the native Keras format, e.g. `model.save('my_model.keras')` or `keras.saving.save_model(model, 'my_model.keras')`. \n"
     ]
    },
    {
     "name": "stdout",
     "output_type": "stream",
     "text": [
      "\n",
      "Epoch 40: val_loss improved from 0.03568 to 0.03437, saving model to 10Var_vn30_lstm.h5\n"
     ]
    },
    {
     "name": "stderr",
     "output_type": "stream",
     "text": [
      "WARNING:absl:You are saving your model as an HDF5 file via `model.save()` or `keras.saving.save_model(model)`. This file format is considered legacy. We recommend using instead the native Keras format, e.g. `model.save('my_model.keras')` or `keras.saving.save_model(model, 'my_model.keras')`. \n"
     ]
    },
    {
     "name": "stdout",
     "output_type": "stream",
     "text": [
      "\n",
      "Epoch 41: val_loss improved from 0.03437 to 0.03251, saving model to 10Var_vn30_lstm.h5\n"
     ]
    },
    {
     "name": "stderr",
     "output_type": "stream",
     "text": [
      "WARNING:absl:You are saving your model as an HDF5 file via `model.save()` or `keras.saving.save_model(model)`. This file format is considered legacy. We recommend using instead the native Keras format, e.g. `model.save('my_model.keras')` or `keras.saving.save_model(model, 'my_model.keras')`. \n"
     ]
    },
    {
     "name": "stdout",
     "output_type": "stream",
     "text": [
      "\n",
      "Epoch 42: val_loss improved from 0.03251 to 0.03216, saving model to 10Var_vn30_lstm.h5\n"
     ]
    },
    {
     "name": "stderr",
     "output_type": "stream",
     "text": [
      "WARNING:absl:You are saving your model as an HDF5 file via `model.save()` or `keras.saving.save_model(model)`. This file format is considered legacy. We recommend using instead the native Keras format, e.g. `model.save('my_model.keras')` or `keras.saving.save_model(model, 'my_model.keras')`. \n"
     ]
    },
    {
     "name": "stdout",
     "output_type": "stream",
     "text": [
      "\n",
      "Epoch 43: val_loss improved from 0.03216 to 0.03036, saving model to 10Var_vn30_lstm.h5\n"
     ]
    },
    {
     "name": "stderr",
     "output_type": "stream",
     "text": [
      "WARNING:absl:You are saving your model as an HDF5 file via `model.save()` or `keras.saving.save_model(model)`. This file format is considered legacy. We recommend using instead the native Keras format, e.g. `model.save('my_model.keras')` or `keras.saving.save_model(model, 'my_model.keras')`. \n"
     ]
    },
    {
     "name": "stdout",
     "output_type": "stream",
     "text": [
      "\n",
      "Epoch 44: val_loss improved from 0.03036 to 0.03005, saving model to 10Var_vn30_lstm.h5\n"
     ]
    },
    {
     "name": "stderr",
     "output_type": "stream",
     "text": [
      "WARNING:absl:You are saving your model as an HDF5 file via `model.save()` or `keras.saving.save_model(model)`. This file format is considered legacy. We recommend using instead the native Keras format, e.g. `model.save('my_model.keras')` or `keras.saving.save_model(model, 'my_model.keras')`. \n"
     ]
    },
    {
     "name": "stdout",
     "output_type": "stream",
     "text": [
      "\n",
      "Epoch 45: val_loss improved from 0.03005 to 0.02786, saving model to 10Var_vn30_lstm.h5\n"
     ]
    },
    {
     "name": "stderr",
     "output_type": "stream",
     "text": [
      "WARNING:absl:You are saving your model as an HDF5 file via `model.save()` or `keras.saving.save_model(model)`. This file format is considered legacy. We recommend using instead the native Keras format, e.g. `model.save('my_model.keras')` or `keras.saving.save_model(model, 'my_model.keras')`. \n"
     ]
    },
    {
     "name": "stdout",
     "output_type": "stream",
     "text": [
      "\n",
      "Epoch 46: val_loss improved from 0.02786 to 0.02771, saving model to 10Var_vn30_lstm.h5\n"
     ]
    },
    {
     "name": "stderr",
     "output_type": "stream",
     "text": [
      "WARNING:absl:You are saving your model as an HDF5 file via `model.save()` or `keras.saving.save_model(model)`. This file format is considered legacy. We recommend using instead the native Keras format, e.g. `model.save('my_model.keras')` or `keras.saving.save_model(model, 'my_model.keras')`. \n"
     ]
    },
    {
     "name": "stdout",
     "output_type": "stream",
     "text": [
      "\n",
      "Epoch 47: val_loss improved from 0.02771 to 0.02505, saving model to 10Var_vn30_lstm.h5\n"
     ]
    },
    {
     "name": "stderr",
     "output_type": "stream",
     "text": [
      "WARNING:absl:You are saving your model as an HDF5 file via `model.save()` or `keras.saving.save_model(model)`. This file format is considered legacy. We recommend using instead the native Keras format, e.g. `model.save('my_model.keras')` or `keras.saving.save_model(model, 'my_model.keras')`. \n"
     ]
    },
    {
     "name": "stdout",
     "output_type": "stream",
     "text": [
      "\n",
      "Epoch 48: val_loss improved from 0.02505 to 0.02369, saving model to 10Var_vn30_lstm.h5\n"
     ]
    },
    {
     "name": "stderr",
     "output_type": "stream",
     "text": [
      "WARNING:absl:You are saving your model as an HDF5 file via `model.save()` or `keras.saving.save_model(model)`. This file format is considered legacy. We recommend using instead the native Keras format, e.g. `model.save('my_model.keras')` or `keras.saving.save_model(model, 'my_model.keras')`. \n"
     ]
    },
    {
     "name": "stdout",
     "output_type": "stream",
     "text": [
      "\n",
      "Epoch 49: val_loss improved from 0.02369 to 0.02090, saving model to 10Var_vn30_lstm.h5\n"
     ]
    },
    {
     "name": "stderr",
     "output_type": "stream",
     "text": [
      "WARNING:absl:You are saving your model as an HDF5 file via `model.save()` or `keras.saving.save_model(model)`. This file format is considered legacy. We recommend using instead the native Keras format, e.g. `model.save('my_model.keras')` or `keras.saving.save_model(model, 'my_model.keras')`. \n"
     ]
    },
    {
     "name": "stdout",
     "output_type": "stream",
     "text": [
      "\n",
      "Epoch 50: val_loss did not improve from 0.02090\n",
      "\n",
      "Epoch 51: val_loss improved from 0.02090 to 0.01883, saving model to 10Var_vn30_lstm.h5\n"
     ]
    },
    {
     "name": "stderr",
     "output_type": "stream",
     "text": [
      "WARNING:absl:You are saving your model as an HDF5 file via `model.save()` or `keras.saving.save_model(model)`. This file format is considered legacy. We recommend using instead the native Keras format, e.g. `model.save('my_model.keras')` or `keras.saving.save_model(model, 'my_model.keras')`. \n"
     ]
    },
    {
     "name": "stdout",
     "output_type": "stream",
     "text": [
      "\n",
      "Epoch 52: val_loss did not improve from 0.01883\n",
      "\n",
      "Epoch 53: val_loss improved from 0.01883 to 0.01652, saving model to 10Var_vn30_lstm.h5\n"
     ]
    },
    {
     "name": "stderr",
     "output_type": "stream",
     "text": [
      "WARNING:absl:You are saving your model as an HDF5 file via `model.save()` or `keras.saving.save_model(model)`. This file format is considered legacy. We recommend using instead the native Keras format, e.g. `model.save('my_model.keras')` or `keras.saving.save_model(model, 'my_model.keras')`. \n"
     ]
    },
    {
     "name": "stdout",
     "output_type": "stream",
     "text": [
      "\n",
      "Epoch 54: val_loss improved from 0.01652 to 0.01439, saving model to 10Var_vn30_lstm.h5\n"
     ]
    },
    {
     "name": "stderr",
     "output_type": "stream",
     "text": [
      "WARNING:absl:You are saving your model as an HDF5 file via `model.save()` or `keras.saving.save_model(model)`. This file format is considered legacy. We recommend using instead the native Keras format, e.g. `model.save('my_model.keras')` or `keras.saving.save_model(model, 'my_model.keras')`. \n"
     ]
    },
    {
     "name": "stdout",
     "output_type": "stream",
     "text": [
      "\n",
      "Epoch 55: val_loss improved from 0.01439 to 0.01067, saving model to 10Var_vn30_lstm.h5\n"
     ]
    },
    {
     "name": "stderr",
     "output_type": "stream",
     "text": [
      "WARNING:absl:You are saving your model as an HDF5 file via `model.save()` or `keras.saving.save_model(model)`. This file format is considered legacy. We recommend using instead the native Keras format, e.g. `model.save('my_model.keras')` or `keras.saving.save_model(model, 'my_model.keras')`. \n"
     ]
    },
    {
     "name": "stdout",
     "output_type": "stream",
     "text": [
      "\n",
      "Epoch 56: val_loss did not improve from 0.01067\n",
      "\n",
      "Epoch 57: val_loss improved from 0.01067 to 0.00871, saving model to 10Var_vn30_lstm.h5\n"
     ]
    },
    {
     "name": "stderr",
     "output_type": "stream",
     "text": [
      "WARNING:absl:You are saving your model as an HDF5 file via `model.save()` or `keras.saving.save_model(model)`. This file format is considered legacy. We recommend using instead the native Keras format, e.g. `model.save('my_model.keras')` or `keras.saving.save_model(model, 'my_model.keras')`. \n"
     ]
    },
    {
     "name": "stdout",
     "output_type": "stream",
     "text": [
      "\n",
      "Epoch 58: val_loss improved from 0.00871 to 0.00860, saving model to 10Var_vn30_lstm.h5\n"
     ]
    },
    {
     "name": "stderr",
     "output_type": "stream",
     "text": [
      "WARNING:absl:You are saving your model as an HDF5 file via `model.save()` or `keras.saving.save_model(model)`. This file format is considered legacy. We recommend using instead the native Keras format, e.g. `model.save('my_model.keras')` or `keras.saving.save_model(model, 'my_model.keras')`. \n"
     ]
    },
    {
     "name": "stdout",
     "output_type": "stream",
     "text": [
      "\n",
      "Epoch 59: val_loss improved from 0.00860 to 0.00560, saving model to 10Var_vn30_lstm.h5\n"
     ]
    },
    {
     "name": "stderr",
     "output_type": "stream",
     "text": [
      "WARNING:absl:You are saving your model as an HDF5 file via `model.save()` or `keras.saving.save_model(model)`. This file format is considered legacy. We recommend using instead the native Keras format, e.g. `model.save('my_model.keras')` or `keras.saving.save_model(model, 'my_model.keras')`. \n"
     ]
    },
    {
     "name": "stdout",
     "output_type": "stream",
     "text": [
      "\n",
      "Epoch 60: val_loss improved from 0.00560 to 0.00535, saving model to 10Var_vn30_lstm.h5\n"
     ]
    },
    {
     "name": "stderr",
     "output_type": "stream",
     "text": [
      "WARNING:absl:You are saving your model as an HDF5 file via `model.save()` or `keras.saving.save_model(model)`. This file format is considered legacy. We recommend using instead the native Keras format, e.g. `model.save('my_model.keras')` or `keras.saving.save_model(model, 'my_model.keras')`. \n"
     ]
    },
    {
     "name": "stdout",
     "output_type": "stream",
     "text": [
      "\n",
      "Epoch 61: val_loss improved from 0.00535 to 0.00354, saving model to 10Var_vn30_lstm.h5\n"
     ]
    },
    {
     "name": "stderr",
     "output_type": "stream",
     "text": [
      "WARNING:absl:You are saving your model as an HDF5 file via `model.save()` or `keras.saving.save_model(model)`. This file format is considered legacy. We recommend using instead the native Keras format, e.g. `model.save('my_model.keras')` or `keras.saving.save_model(model, 'my_model.keras')`. \n"
     ]
    },
    {
     "name": "stdout",
     "output_type": "stream",
     "text": [
      "\n",
      "Epoch 62: val_loss improved from 0.00354 to 0.00149, saving model to 10Var_vn30_lstm.h5\n"
     ]
    },
    {
     "name": "stderr",
     "output_type": "stream",
     "text": [
      "WARNING:absl:You are saving your model as an HDF5 file via `model.save()` or `keras.saving.save_model(model)`. This file format is considered legacy. We recommend using instead the native Keras format, e.g. `model.save('my_model.keras')` or `keras.saving.save_model(model, 'my_model.keras')`. \n"
     ]
    },
    {
     "name": "stdout",
     "output_type": "stream",
     "text": [
      "\n",
      "Epoch 63: val_loss did not improve from 0.00149\n",
      "\n",
      "Epoch 64: val_loss did not improve from 0.00149\n",
      "\n",
      "Epoch 65: val_loss did not improve from 0.00149\n",
      "\n",
      "Epoch 66: val_loss did not improve from 0.00149\n",
      "\n",
      "Epoch 67: val_loss did not improve from 0.00149\n",
      "\n",
      "Epoch 68: val_loss did not improve from 0.00149\n",
      "\n",
      "Epoch 69: val_loss did not improve from 0.00149\n",
      "\n",
      "Epoch 70: val_loss did not improve from 0.00149\n",
      "\n",
      "Epoch 71: val_loss did not improve from 0.00149\n",
      "\n",
      "Epoch 72: val_loss did not improve from 0.00149\n",
      "\n",
      "Epoch 73: val_loss did not improve from 0.00149\n",
      "\n",
      "Epoch 74: val_loss did not improve from 0.00149\n",
      "\n",
      "Epoch 75: val_loss did not improve from 0.00149\n",
      "\n",
      "Epoch 76: val_loss did not improve from 0.00149\n",
      "\n",
      "Epoch 77: val_loss did not improve from 0.00149\n",
      "\n",
      "Epoch 78: val_loss did not improve from 0.00149\n",
      "\n",
      "Epoch 79: val_loss did not improve from 0.00149\n",
      "\n",
      "Epoch 80: val_loss did not improve from 0.00149\n",
      "\n",
      "Epoch 81: val_loss did not improve from 0.00149\n",
      "\n",
      "Epoch 82: val_loss did not improve from 0.00149\n",
      "\n",
      "Epoch 83: val_loss did not improve from 0.00149\n",
      "\n",
      "Epoch 84: val_loss did not improve from 0.00149\n",
      "\n",
      "Epoch 85: val_loss did not improve from 0.00149\n",
      "\n",
      "Epoch 86: val_loss did not improve from 0.00149\n",
      "\n",
      "Epoch 87: val_loss did not improve from 0.00149\n",
      "\n",
      "Epoch 88: val_loss did not improve from 0.00149\n",
      "\n",
      "Epoch 89: val_loss did not improve from 0.00149\n",
      "\n",
      "Epoch 90: val_loss did not improve from 0.00149\n",
      "\n",
      "Epoch 91: val_loss did not improve from 0.00149\n",
      "\n",
      "Epoch 92: val_loss did not improve from 0.00149\n",
      "\n",
      "Epoch 93: val_loss did not improve from 0.00149\n",
      "\n",
      "Epoch 94: val_loss did not improve from 0.00149\n",
      "\n",
      "Epoch 95: val_loss did not improve from 0.00149\n",
      "\n",
      "Epoch 96: val_loss did not improve from 0.00149\n",
      "\n",
      "Epoch 97: val_loss did not improve from 0.00149\n",
      "\n",
      "Epoch 98: val_loss did not improve from 0.00149\n",
      "\n",
      "Epoch 99: val_loss did not improve from 0.00149\n",
      "\n",
      "Epoch 100: val_loss did not improve from 0.00149\n",
      "\n",
      "Epoch 101: val_loss did not improve from 0.00149\n",
      "\n",
      "Epoch 102: val_loss did not improve from 0.00149\n",
      "\n",
      "Epoch 103: val_loss did not improve from 0.00149\n",
      "\n",
      "Epoch 104: val_loss did not improve from 0.00149\n",
      "\n",
      "Epoch 105: val_loss did not improve from 0.00149\n",
      "\n",
      "Epoch 106: val_loss did not improve from 0.00149\n",
      "\n",
      "Epoch 107: val_loss did not improve from 0.00149\n",
      "\n",
      "Epoch 108: val_loss did not improve from 0.00149\n",
      "\n",
      "Epoch 109: val_loss did not improve from 0.00149\n",
      "\n",
      "Epoch 110: val_loss did not improve from 0.00149\n",
      "\n",
      "Epoch 111: val_loss did not improve from 0.00149\n",
      "\n",
      "Epoch 112: val_loss did not improve from 0.00149\n",
      "\n",
      "Epoch 113: val_loss did not improve from 0.00149\n",
      "\n",
      "Epoch 114: val_loss did not improve from 0.00149\n",
      "\n",
      "Epoch 115: val_loss did not improve from 0.00149\n",
      "\n",
      "Epoch 116: val_loss did not improve from 0.00149\n",
      "\n",
      "Epoch 117: val_loss did not improve from 0.00149\n",
      "\n",
      "Epoch 118: val_loss did not improve from 0.00149\n",
      "\n",
      "Epoch 119: val_loss did not improve from 0.00149\n",
      "\n",
      "Epoch 120: val_loss did not improve from 0.00149\n",
      "\n",
      "Epoch 121: val_loss did not improve from 0.00149\n",
      "\n",
      "Epoch 122: val_loss did not improve from 0.00149\n",
      "\n",
      "Epoch 123: val_loss did not improve from 0.00149\n",
      "\n",
      "Epoch 124: val_loss did not improve from 0.00149\n",
      "\n",
      "Epoch 125: val_loss did not improve from 0.00149\n",
      "\n",
      "Epoch 126: val_loss did not improve from 0.00149\n",
      "\n",
      "Epoch 127: val_loss did not improve from 0.00149\n",
      "\n",
      "Epoch 128: val_loss did not improve from 0.00149\n",
      "\n",
      "Epoch 129: val_loss did not improve from 0.00149\n",
      "\n",
      "Epoch 130: val_loss did not improve from 0.00149\n",
      "\n",
      "Epoch 131: val_loss did not improve from 0.00149\n",
      "\n",
      "Epoch 132: val_loss did not improve from 0.00149\n",
      "\n",
      "Epoch 133: val_loss did not improve from 0.00149\n",
      "\n",
      "Epoch 134: val_loss did not improve from 0.00149\n",
      "\n",
      "Epoch 135: val_loss did not improve from 0.00149\n",
      "\n",
      "Epoch 136: val_loss did not improve from 0.00149\n",
      "\n",
      "Epoch 137: val_loss did not improve from 0.00149\n",
      "\n",
      "Epoch 138: val_loss did not improve from 0.00149\n",
      "\n",
      "Epoch 139: val_loss did not improve from 0.00149\n",
      "\n",
      "Epoch 140: val_loss did not improve from 0.00149\n",
      "\n",
      "Epoch 141: val_loss did not improve from 0.00149\n",
      "\n",
      "Epoch 142: val_loss did not improve from 0.00149\n",
      "Epoch 142: early stopping\n",
      "\u001b[1m18/18\u001b[0m \u001b[32m━━━━━━━━━━━━━━━━━━━━\u001b[0m\u001b[37m\u001b[0m \u001b[1m1s\u001b[0m 47ms/step\n",
      "Training with params: {'timesteps': 30, 'hl': [40, 35], 'lr': 0.001, 'batch_size': 32, 'num_epochs': 250}\n"
     ]
    },
    {
     "name": "stderr",
     "output_type": "stream",
     "text": [
      "c:\\Users\\84368\\AppData\\Local\\Programs\\Python\\Python311\\Lib\\site-packages\\keras\\src\\layers\\rnn\\rnn.py:200: UserWarning: Do not pass an `input_shape`/`input_dim` argument to a layer. When using Sequential models, prefer using an `Input(shape)` object as the first layer in the model instead.\n",
      "  super().__init__(**kwargs)\n"
     ]
    },
    {
     "name": "stdout",
     "output_type": "stream",
     "text": [
      "\n",
      "Epoch 1: val_loss did not improve from 0.00149\n",
      "\n",
      "Epoch 2: val_loss did not improve from 0.00149\n",
      "\n",
      "Epoch 3: val_loss did not improve from 0.00149\n",
      "\n",
      "Epoch 4: val_loss did not improve from 0.00149\n",
      "\n",
      "Epoch 5: val_loss did not improve from 0.00149\n",
      "\n",
      "Epoch 6: val_loss did not improve from 0.00149\n",
      "\n",
      "Epoch 7: val_loss did not improve from 0.00149\n",
      "\n",
      "Epoch 8: val_loss did not improve from 0.00149\n",
      "\n",
      "Epoch 9: val_loss did not improve from 0.00149\n",
      "\n",
      "Epoch 10: val_loss did not improve from 0.00149\n",
      "\n",
      "Epoch 11: val_loss did not improve from 0.00149\n",
      "\n",
      "Epoch 12: val_loss did not improve from 0.00149\n",
      "\n",
      "Epoch 13: val_loss did not improve from 0.00149\n",
      "\n",
      "Epoch 14: val_loss did not improve from 0.00149\n",
      "\n",
      "Epoch 15: val_loss did not improve from 0.00149\n",
      "\n",
      "Epoch 16: val_loss did not improve from 0.00149\n",
      "\n",
      "Epoch 17: val_loss did not improve from 0.00149\n",
      "\n",
      "Epoch 18: val_loss did not improve from 0.00149\n",
      "\n",
      "Epoch 19: val_loss did not improve from 0.00149\n",
      "\n",
      "Epoch 20: val_loss did not improve from 0.00149\n",
      "\n",
      "Epoch 21: val_loss did not improve from 0.00149\n",
      "\n",
      "Epoch 22: val_loss did not improve from 0.00149\n",
      "\n",
      "Epoch 23: val_loss did not improve from 0.00149\n",
      "\n",
      "Epoch 24: val_loss did not improve from 0.00149\n",
      "\n",
      "Epoch 25: val_loss did not improve from 0.00149\n",
      "\n",
      "Epoch 26: val_loss did not improve from 0.00149\n",
      "\n",
      "Epoch 27: val_loss did not improve from 0.00149\n",
      "\n",
      "Epoch 28: val_loss did not improve from 0.00149\n",
      "\n",
      "Epoch 29: val_loss did not improve from 0.00149\n",
      "\n",
      "Epoch 30: val_loss did not improve from 0.00149\n",
      "\n",
      "Epoch 31: val_loss did not improve from 0.00149\n",
      "\n",
      "Epoch 32: val_loss did not improve from 0.00149\n",
      "\n",
      "Epoch 33: val_loss did not improve from 0.00149\n",
      "\n",
      "Epoch 34: val_loss did not improve from 0.00149\n",
      "\n",
      "Epoch 35: val_loss did not improve from 0.00149\n",
      "\n",
      "Epoch 36: val_loss did not improve from 0.00149\n",
      "\n",
      "Epoch 37: val_loss did not improve from 0.00149\n",
      "\n",
      "Epoch 38: val_loss did not improve from 0.00149\n",
      "\n",
      "Epoch 39: val_loss did not improve from 0.00149\n",
      "\n",
      "Epoch 40: val_loss did not improve from 0.00149\n",
      "\n",
      "Epoch 41: val_loss did not improve from 0.00149\n",
      "\n",
      "Epoch 42: val_loss did not improve from 0.00149\n",
      "\n",
      "Epoch 43: val_loss did not improve from 0.00149\n",
      "\n",
      "Epoch 44: val_loss did not improve from 0.00149\n",
      "\n",
      "Epoch 45: val_loss did not improve from 0.00149\n",
      "\n",
      "Epoch 46: val_loss did not improve from 0.00149\n",
      "\n",
      "Epoch 47: val_loss did not improve from 0.00149\n",
      "\n",
      "Epoch 48: val_loss did not improve from 0.00149\n",
      "\n",
      "Epoch 49: val_loss did not improve from 0.00149\n",
      "\n",
      "Epoch 50: val_loss did not improve from 0.00149\n",
      "\n",
      "Epoch 51: val_loss did not improve from 0.00149\n",
      "\n",
      "Epoch 52: val_loss did not improve from 0.00149\n",
      "\n",
      "Epoch 53: val_loss did not improve from 0.00149\n",
      "\n",
      "Epoch 54: val_loss did not improve from 0.00149\n",
      "\n",
      "Epoch 55: val_loss did not improve from 0.00149\n",
      "\n",
      "Epoch 56: val_loss did not improve from 0.00149\n",
      "\n",
      "Epoch 57: val_loss did not improve from 0.00149\n",
      "\n",
      "Epoch 58: val_loss did not improve from 0.00149\n",
      "\n",
      "Epoch 59: val_loss did not improve from 0.00149\n",
      "\n",
      "Epoch 60: val_loss did not improve from 0.00149\n",
      "\n",
      "Epoch 61: val_loss did not improve from 0.00149\n",
      "\n",
      "Epoch 62: val_loss did not improve from 0.00149\n",
      "\n",
      "Epoch 63: val_loss did not improve from 0.00149\n",
      "\n",
      "Epoch 64: val_loss did not improve from 0.00149\n",
      "\n",
      "Epoch 65: val_loss did not improve from 0.00149\n",
      "\n",
      "Epoch 66: val_loss did not improve from 0.00149\n",
      "\n",
      "Epoch 67: val_loss did not improve from 0.00149\n",
      "\n",
      "Epoch 68: val_loss did not improve from 0.00149\n",
      "\n",
      "Epoch 69: val_loss did not improve from 0.00149\n",
      "\n",
      "Epoch 70: val_loss did not improve from 0.00149\n",
      "\n",
      "Epoch 71: val_loss did not improve from 0.00149\n",
      "\n",
      "Epoch 72: val_loss did not improve from 0.00149\n",
      "\n",
      "Epoch 73: val_loss did not improve from 0.00149\n",
      "\n",
      "Epoch 74: val_loss did not improve from 0.00149\n",
      "\n",
      "Epoch 75: val_loss did not improve from 0.00149\n",
      "\n",
      "Epoch 76: val_loss did not improve from 0.00149\n",
      "\n",
      "Epoch 77: val_loss did not improve from 0.00149\n",
      "\n",
      "Epoch 78: val_loss did not improve from 0.00149\n",
      "\n",
      "Epoch 79: val_loss did not improve from 0.00149\n",
      "\n",
      "Epoch 80: val_loss did not improve from 0.00149\n",
      "\n",
      "Epoch 81: val_loss did not improve from 0.00149\n",
      "\n",
      "Epoch 82: val_loss did not improve from 0.00149\n",
      "\n",
      "Epoch 83: val_loss did not improve from 0.00149\n",
      "\n",
      "Epoch 84: val_loss did not improve from 0.00149\n",
      "\n",
      "Epoch 85: val_loss did not improve from 0.00149\n",
      "\n",
      "Epoch 86: val_loss did not improve from 0.00149\n",
      "\n",
      "Epoch 87: val_loss did not improve from 0.00149\n",
      "\n",
      "Epoch 88: val_loss did not improve from 0.00149\n",
      "\n",
      "Epoch 89: val_loss did not improve from 0.00149\n",
      "\n",
      "Epoch 90: val_loss did not improve from 0.00149\n",
      "\n",
      "Epoch 91: val_loss did not improve from 0.00149\n",
      "\n",
      "Epoch 92: val_loss did not improve from 0.00149\n",
      "\n",
      "Epoch 93: val_loss did not improve from 0.00149\n",
      "\n",
      "Epoch 94: val_loss did not improve from 0.00149\n",
      "\n",
      "Epoch 95: val_loss did not improve from 0.00149\n",
      "\n",
      "Epoch 96: val_loss did not improve from 0.00149\n",
      "\n",
      "Epoch 97: val_loss did not improve from 0.00149\n",
      "\n",
      "Epoch 98: val_loss did not improve from 0.00149\n",
      "\n",
      "Epoch 99: val_loss did not improve from 0.00149\n",
      "\n",
      "Epoch 100: val_loss did not improve from 0.00149\n",
      "\n",
      "Epoch 101: val_loss did not improve from 0.00149\n",
      "\n",
      "Epoch 102: val_loss did not improve from 0.00149\n",
      "\n",
      "Epoch 103: val_loss did not improve from 0.00149\n",
      "\n",
      "Epoch 104: val_loss did not improve from 0.00149\n",
      "\n",
      "Epoch 105: val_loss did not improve from 0.00149\n",
      "\n",
      "Epoch 106: val_loss did not improve from 0.00149\n",
      "\n",
      "Epoch 107: val_loss did not improve from 0.00149\n",
      "\n",
      "Epoch 108: val_loss did not improve from 0.00149\n",
      "\n",
      "Epoch 109: val_loss did not improve from 0.00149\n",
      "\n",
      "Epoch 110: val_loss did not improve from 0.00149\n",
      "\n",
      "Epoch 111: val_loss did not improve from 0.00149\n",
      "\n",
      "Epoch 112: val_loss did not improve from 0.00149\n",
      "\n",
      "Epoch 113: val_loss did not improve from 0.00149\n",
      "\n",
      "Epoch 114: val_loss did not improve from 0.00149\n",
      "\n",
      "Epoch 115: val_loss did not improve from 0.00149\n",
      "\n",
      "Epoch 116: val_loss did not improve from 0.00149\n",
      "\n",
      "Epoch 117: val_loss did not improve from 0.00149\n",
      "\n",
      "Epoch 118: val_loss did not improve from 0.00149\n",
      "\n",
      "Epoch 119: val_loss did not improve from 0.00149\n",
      "\n",
      "Epoch 120: val_loss did not improve from 0.00149\n",
      "\n",
      "Epoch 121: val_loss did not improve from 0.00149\n",
      "\n",
      "Epoch 122: val_loss did not improve from 0.00149\n",
      "\n",
      "Epoch 123: val_loss did not improve from 0.00149\n",
      "\n",
      "Epoch 124: val_loss did not improve from 0.00149\n",
      "\n",
      "Epoch 125: val_loss did not improve from 0.00149\n",
      "\n",
      "Epoch 126: val_loss did not improve from 0.00149\n",
      "\n",
      "Epoch 127: val_loss did not improve from 0.00149\n",
      "\n",
      "Epoch 128: val_loss did not improve from 0.00149\n",
      "\n",
      "Epoch 129: val_loss did not improve from 0.00149\n",
      "\n",
      "Epoch 130: val_loss did not improve from 0.00149\n",
      "\n",
      "Epoch 131: val_loss did not improve from 0.00149\n",
      "Epoch 131: early stopping\n",
      "\u001b[1m18/18\u001b[0m \u001b[32m━━━━━━━━━━━━━━━━━━━━\u001b[0m\u001b[37m\u001b[0m \u001b[1m2s\u001b[0m 36ms/step\n",
      "Training with params: {'timesteps': 30, 'hl': [40, 35], 'lr': 0.001, 'batch_size': 64, 'num_epochs': 200}\n"
     ]
    },
    {
     "name": "stderr",
     "output_type": "stream",
     "text": [
      "c:\\Users\\84368\\AppData\\Local\\Programs\\Python\\Python311\\Lib\\site-packages\\keras\\src\\layers\\rnn\\rnn.py:200: UserWarning: Do not pass an `input_shape`/`input_dim` argument to a layer. When using Sequential models, prefer using an `Input(shape)` object as the first layer in the model instead.\n",
      "  super().__init__(**kwargs)\n"
     ]
    },
    {
     "name": "stdout",
     "output_type": "stream",
     "text": [
      "\n",
      "Epoch 1: val_loss did not improve from 0.00149\n",
      "\n",
      "Epoch 2: val_loss did not improve from 0.00149\n",
      "\n",
      "Epoch 3: val_loss did not improve from 0.00149\n",
      "\n",
      "Epoch 4: val_loss did not improve from 0.00149\n",
      "\n",
      "Epoch 5: val_loss did not improve from 0.00149\n",
      "\n",
      "Epoch 6: val_loss did not improve from 0.00149\n",
      "\n",
      "Epoch 7: val_loss did not improve from 0.00149\n",
      "\n",
      "Epoch 8: val_loss did not improve from 0.00149\n",
      "\n",
      "Epoch 9: val_loss did not improve from 0.00149\n",
      "\n",
      "Epoch 10: val_loss did not improve from 0.00149\n",
      "\n",
      "Epoch 11: val_loss did not improve from 0.00149\n",
      "\n",
      "Epoch 12: val_loss did not improve from 0.00149\n",
      "\n",
      "Epoch 13: val_loss did not improve from 0.00149\n",
      "\n",
      "Epoch 14: val_loss did not improve from 0.00149\n",
      "\n",
      "Epoch 15: val_loss did not improve from 0.00149\n",
      "\n",
      "Epoch 16: val_loss did not improve from 0.00149\n",
      "\n",
      "Epoch 17: val_loss did not improve from 0.00149\n",
      "\n",
      "Epoch 18: val_loss did not improve from 0.00149\n",
      "\n",
      "Epoch 19: val_loss did not improve from 0.00149\n",
      "\n",
      "Epoch 20: val_loss did not improve from 0.00149\n",
      "\n",
      "Epoch 21: val_loss did not improve from 0.00149\n",
      "\n",
      "Epoch 22: val_loss did not improve from 0.00149\n",
      "\n",
      "Epoch 23: val_loss did not improve from 0.00149\n",
      "\n",
      "Epoch 24: val_loss did not improve from 0.00149\n",
      "\n",
      "Epoch 25: val_loss did not improve from 0.00149\n",
      "\n",
      "Epoch 26: val_loss did not improve from 0.00149\n",
      "\n",
      "Epoch 27: val_loss did not improve from 0.00149\n",
      "\n",
      "Epoch 28: val_loss did not improve from 0.00149\n",
      "\n",
      "Epoch 29: val_loss did not improve from 0.00149\n",
      "\n",
      "Epoch 30: val_loss did not improve from 0.00149\n",
      "\n",
      "Epoch 31: val_loss did not improve from 0.00149\n",
      "\n",
      "Epoch 32: val_loss did not improve from 0.00149\n",
      "\n",
      "Epoch 33: val_loss did not improve from 0.00149\n",
      "\n",
      "Epoch 34: val_loss did not improve from 0.00149\n",
      "\n",
      "Epoch 35: val_loss did not improve from 0.00149\n",
      "\n",
      "Epoch 36: val_loss did not improve from 0.00149\n",
      "\n",
      "Epoch 37: val_loss did not improve from 0.00149\n",
      "\n",
      "Epoch 38: val_loss did not improve from 0.00149\n",
      "\n",
      "Epoch 39: val_loss did not improve from 0.00149\n",
      "\n",
      "Epoch 40: val_loss did not improve from 0.00149\n",
      "\n",
      "Epoch 41: val_loss did not improve from 0.00149\n",
      "\n",
      "Epoch 42: val_loss did not improve from 0.00149\n",
      "\n",
      "Epoch 43: val_loss did not improve from 0.00149\n",
      "\n",
      "Epoch 44: val_loss did not improve from 0.00149\n",
      "\n",
      "Epoch 45: val_loss did not improve from 0.00149\n",
      "\n",
      "Epoch 46: val_loss did not improve from 0.00149\n",
      "\n",
      "Epoch 47: val_loss did not improve from 0.00149\n",
      "\n",
      "Epoch 48: val_loss did not improve from 0.00149\n",
      "\n",
      "Epoch 49: val_loss did not improve from 0.00149\n",
      "\n",
      "Epoch 50: val_loss did not improve from 0.00149\n",
      "\n",
      "Epoch 51: val_loss improved from 0.00149 to 0.00100, saving model to 10Var_vn30_lstm.h5\n"
     ]
    },
    {
     "name": "stderr",
     "output_type": "stream",
     "text": [
      "WARNING:absl:You are saving your model as an HDF5 file via `model.save()` or `keras.saving.save_model(model)`. This file format is considered legacy. We recommend using instead the native Keras format, e.g. `model.save('my_model.keras')` or `keras.saving.save_model(model, 'my_model.keras')`. \n"
     ]
    },
    {
     "name": "stdout",
     "output_type": "stream",
     "text": [
      "\n",
      "Epoch 52: val_loss did not improve from 0.00100\n",
      "\n",
      "Epoch 53: val_loss did not improve from 0.00100\n",
      "\n",
      "Epoch 54: val_loss did not improve from 0.00100\n",
      "\n",
      "Epoch 55: val_loss did not improve from 0.00100\n",
      "\n",
      "Epoch 56: val_loss did not improve from 0.00100\n",
      "\n",
      "Epoch 57: val_loss did not improve from 0.00100\n",
      "\n",
      "Epoch 58: val_loss did not improve from 0.00100\n",
      "\n",
      "Epoch 59: val_loss did not improve from 0.00100\n",
      "\n",
      "Epoch 60: val_loss did not improve from 0.00100\n",
      "\n",
      "Epoch 61: val_loss did not improve from 0.00100\n",
      "\n",
      "Epoch 62: val_loss did not improve from 0.00100\n",
      "\n",
      "Epoch 63: val_loss did not improve from 0.00100\n",
      "\n",
      "Epoch 64: val_loss did not improve from 0.00100\n",
      "\n",
      "Epoch 65: val_loss did not improve from 0.00100\n",
      "\n",
      "Epoch 66: val_loss did not improve from 0.00100\n",
      "\n",
      "Epoch 67: val_loss did not improve from 0.00100\n",
      "\n",
      "Epoch 68: val_loss did not improve from 0.00100\n",
      "\n",
      "Epoch 69: val_loss improved from 0.00100 to 0.00095, saving model to 10Var_vn30_lstm.h5\n"
     ]
    },
    {
     "name": "stderr",
     "output_type": "stream",
     "text": [
      "WARNING:absl:You are saving your model as an HDF5 file via `model.save()` or `keras.saving.save_model(model)`. This file format is considered legacy. We recommend using instead the native Keras format, e.g. `model.save('my_model.keras')` or `keras.saving.save_model(model, 'my_model.keras')`. \n"
     ]
    },
    {
     "name": "stdout",
     "output_type": "stream",
     "text": [
      "\n",
      "Epoch 70: val_loss did not improve from 0.00095\n",
      "\n",
      "Epoch 71: val_loss did not improve from 0.00095\n",
      "\n",
      "Epoch 72: val_loss did not improve from 0.00095\n",
      "\n",
      "Epoch 73: val_loss did not improve from 0.00095\n",
      "\n",
      "Epoch 74: val_loss did not improve from 0.00095\n",
      "\n",
      "Epoch 75: val_loss did not improve from 0.00095\n",
      "\n",
      "Epoch 76: val_loss did not improve from 0.00095\n",
      "\n",
      "Epoch 77: val_loss did not improve from 0.00095\n",
      "\n",
      "Epoch 78: val_loss did not improve from 0.00095\n",
      "\n",
      "Epoch 79: val_loss improved from 0.00095 to 0.00093, saving model to 10Var_vn30_lstm.h5\n"
     ]
    },
    {
     "name": "stderr",
     "output_type": "stream",
     "text": [
      "WARNING:absl:You are saving your model as an HDF5 file via `model.save()` or `keras.saving.save_model(model)`. This file format is considered legacy. We recommend using instead the native Keras format, e.g. `model.save('my_model.keras')` or `keras.saving.save_model(model, 'my_model.keras')`. \n"
     ]
    },
    {
     "name": "stdout",
     "output_type": "stream",
     "text": [
      "\n",
      "Epoch 80: val_loss did not improve from 0.00093\n",
      "\n",
      "Epoch 81: val_loss did not improve from 0.00093\n",
      "\n",
      "Epoch 82: val_loss did not improve from 0.00093\n",
      "\n",
      "Epoch 83: val_loss did not improve from 0.00093\n",
      "\n",
      "Epoch 84: val_loss did not improve from 0.00093\n",
      "\n",
      "Epoch 85: val_loss did not improve from 0.00093\n",
      "\n",
      "Epoch 86: val_loss did not improve from 0.00093\n",
      "\n",
      "Epoch 87: val_loss did not improve from 0.00093\n",
      "\n",
      "Epoch 88: val_loss did not improve from 0.00093\n",
      "\n",
      "Epoch 89: val_loss did not improve from 0.00093\n",
      "\n",
      "Epoch 90: val_loss did not improve from 0.00093\n",
      "\n",
      "Epoch 91: val_loss did not improve from 0.00093\n",
      "\n",
      "Epoch 92: val_loss did not improve from 0.00093\n",
      "\n",
      "Epoch 93: val_loss did not improve from 0.00093\n",
      "\n",
      "Epoch 94: val_loss did not improve from 0.00093\n",
      "\n",
      "Epoch 95: val_loss did not improve from 0.00093\n",
      "\n",
      "Epoch 96: val_loss did not improve from 0.00093\n",
      "\n",
      "Epoch 97: val_loss did not improve from 0.00093\n",
      "\n",
      "Epoch 98: val_loss did not improve from 0.00093\n",
      "\n",
      "Epoch 99: val_loss did not improve from 0.00093\n",
      "\n",
      "Epoch 100: val_loss did not improve from 0.00093\n",
      "\n",
      "Epoch 101: val_loss did not improve from 0.00093\n",
      "\n",
      "Epoch 102: val_loss did not improve from 0.00093\n",
      "\n",
      "Epoch 103: val_loss did not improve from 0.00093\n",
      "\n",
      "Epoch 104: val_loss did not improve from 0.00093\n",
      "\n",
      "Epoch 105: val_loss did not improve from 0.00093\n",
      "\n",
      "Epoch 106: val_loss did not improve from 0.00093\n",
      "\n",
      "Epoch 107: val_loss did not improve from 0.00093\n",
      "\n",
      "Epoch 108: val_loss improved from 0.00093 to 0.00092, saving model to 10Var_vn30_lstm.h5\n"
     ]
    },
    {
     "name": "stderr",
     "output_type": "stream",
     "text": [
      "WARNING:absl:You are saving your model as an HDF5 file via `model.save()` or `keras.saving.save_model(model)`. This file format is considered legacy. We recommend using instead the native Keras format, e.g. `model.save('my_model.keras')` or `keras.saving.save_model(model, 'my_model.keras')`. \n"
     ]
    },
    {
     "name": "stdout",
     "output_type": "stream",
     "text": [
      "\n",
      "Epoch 109: val_loss did not improve from 0.00092\n",
      "\n",
      "Epoch 110: val_loss did not improve from 0.00092\n",
      "\n",
      "Epoch 111: val_loss did not improve from 0.00092\n",
      "\n",
      "Epoch 112: val_loss did not improve from 0.00092\n",
      "\n",
      "Epoch 113: val_loss did not improve from 0.00092\n",
      "\n",
      "Epoch 114: val_loss did not improve from 0.00092\n",
      "\n",
      "Epoch 115: val_loss did not improve from 0.00092\n",
      "\n",
      "Epoch 116: val_loss did not improve from 0.00092\n",
      "\n",
      "Epoch 117: val_loss did not improve from 0.00092\n",
      "\n",
      "Epoch 118: val_loss did not improve from 0.00092\n",
      "\n",
      "Epoch 119: val_loss did not improve from 0.00092\n",
      "\n",
      "Epoch 120: val_loss did not improve from 0.00092\n",
      "\n",
      "Epoch 121: val_loss did not improve from 0.00092\n",
      "\n",
      "Epoch 122: val_loss did not improve from 0.00092\n",
      "\n",
      "Epoch 123: val_loss did not improve from 0.00092\n",
      "\n",
      "Epoch 124: val_loss did not improve from 0.00092\n",
      "\n",
      "Epoch 125: val_loss did not improve from 0.00092\n",
      "\n",
      "Epoch 126: val_loss did not improve from 0.00092\n",
      "\n",
      "Epoch 127: val_loss did not improve from 0.00092\n",
      "\n",
      "Epoch 128: val_loss did not improve from 0.00092\n",
      "\n",
      "Epoch 129: val_loss did not improve from 0.00092\n",
      "\n",
      "Epoch 130: val_loss did not improve from 0.00092\n",
      "\n",
      "Epoch 131: val_loss did not improve from 0.00092\n",
      "Epoch 131: early stopping\n",
      "\u001b[1m18/18\u001b[0m \u001b[32m━━━━━━━━━━━━━━━━━━━━\u001b[0m\u001b[37m\u001b[0m \u001b[1m1s\u001b[0m 35ms/step\n",
      "Training with params: {'timesteps': 30, 'hl': [40, 35], 'lr': 0.001, 'batch_size': 64, 'num_epochs': 250}\n"
     ]
    },
    {
     "name": "stderr",
     "output_type": "stream",
     "text": [
      "c:\\Users\\84368\\AppData\\Local\\Programs\\Python\\Python311\\Lib\\site-packages\\keras\\src\\layers\\rnn\\rnn.py:200: UserWarning: Do not pass an `input_shape`/`input_dim` argument to a layer. When using Sequential models, prefer using an `Input(shape)` object as the first layer in the model instead.\n",
      "  super().__init__(**kwargs)\n"
     ]
    },
    {
     "name": "stdout",
     "output_type": "stream",
     "text": [
      "\n",
      "Epoch 1: val_loss did not improve from 0.00092\n",
      "\n",
      "Epoch 2: val_loss did not improve from 0.00092\n",
      "\n",
      "Epoch 3: val_loss did not improve from 0.00092\n",
      "\n",
      "Epoch 4: val_loss did not improve from 0.00092\n",
      "\n",
      "Epoch 5: val_loss did not improve from 0.00092\n",
      "\n",
      "Epoch 6: val_loss did not improve from 0.00092\n",
      "\n",
      "Epoch 7: val_loss did not improve from 0.00092\n",
      "\n",
      "Epoch 8: val_loss did not improve from 0.00092\n",
      "\n",
      "Epoch 9: val_loss did not improve from 0.00092\n",
      "\n",
      "Epoch 10: val_loss did not improve from 0.00092\n",
      "\n",
      "Epoch 11: val_loss did not improve from 0.00092\n",
      "\n",
      "Epoch 12: val_loss did not improve from 0.00092\n",
      "\n",
      "Epoch 13: val_loss did not improve from 0.00092\n",
      "\n",
      "Epoch 14: val_loss did not improve from 0.00092\n",
      "\n",
      "Epoch 15: val_loss did not improve from 0.00092\n",
      "\n",
      "Epoch 16: val_loss did not improve from 0.00092\n",
      "\n",
      "Epoch 17: val_loss did not improve from 0.00092\n",
      "\n",
      "Epoch 18: val_loss did not improve from 0.00092\n",
      "\n",
      "Epoch 19: val_loss did not improve from 0.00092\n",
      "\n",
      "Epoch 20: val_loss did not improve from 0.00092\n",
      "\n",
      "Epoch 21: val_loss did not improve from 0.00092\n",
      "\n",
      "Epoch 22: val_loss did not improve from 0.00092\n",
      "\n",
      "Epoch 23: val_loss did not improve from 0.00092\n",
      "\n",
      "Epoch 24: val_loss did not improve from 0.00092\n",
      "\n",
      "Epoch 25: val_loss did not improve from 0.00092\n",
      "\n",
      "Epoch 26: val_loss did not improve from 0.00092\n",
      "\n",
      "Epoch 27: val_loss did not improve from 0.00092\n",
      "\n",
      "Epoch 28: val_loss did not improve from 0.00092\n",
      "\n",
      "Epoch 29: val_loss did not improve from 0.00092\n",
      "\n",
      "Epoch 30: val_loss did not improve from 0.00092\n",
      "\n",
      "Epoch 31: val_loss did not improve from 0.00092\n",
      "\n",
      "Epoch 32: val_loss did not improve from 0.00092\n",
      "\n",
      "Epoch 33: val_loss did not improve from 0.00092\n",
      "\n",
      "Epoch 34: val_loss did not improve from 0.00092\n",
      "\n",
      "Epoch 35: val_loss did not improve from 0.00092\n",
      "\n",
      "Epoch 36: val_loss did not improve from 0.00092\n",
      "\n",
      "Epoch 37: val_loss did not improve from 0.00092\n",
      "\n",
      "Epoch 38: val_loss did not improve from 0.00092\n",
      "\n",
      "Epoch 39: val_loss did not improve from 0.00092\n",
      "\n",
      "Epoch 40: val_loss did not improve from 0.00092\n",
      "\n",
      "Epoch 41: val_loss did not improve from 0.00092\n",
      "\n",
      "Epoch 42: val_loss did not improve from 0.00092\n",
      "\n",
      "Epoch 43: val_loss did not improve from 0.00092\n",
      "\n",
      "Epoch 44: val_loss did not improve from 0.00092\n",
      "\n",
      "Epoch 45: val_loss did not improve from 0.00092\n",
      "\n",
      "Epoch 46: val_loss did not improve from 0.00092\n",
      "\n",
      "Epoch 47: val_loss did not improve from 0.00092\n",
      "\n",
      "Epoch 48: val_loss did not improve from 0.00092\n",
      "\n",
      "Epoch 49: val_loss did not improve from 0.00092\n",
      "\n",
      "Epoch 50: val_loss did not improve from 0.00092\n",
      "\n",
      "Epoch 51: val_loss did not improve from 0.00092\n",
      "\n",
      "Epoch 52: val_loss did not improve from 0.00092\n",
      "\n",
      "Epoch 53: val_loss did not improve from 0.00092\n",
      "\n",
      "Epoch 54: val_loss did not improve from 0.00092\n",
      "\n",
      "Epoch 55: val_loss did not improve from 0.00092\n",
      "\n",
      "Epoch 56: val_loss did not improve from 0.00092\n",
      "\n",
      "Epoch 57: val_loss did not improve from 0.00092\n",
      "\n",
      "Epoch 58: val_loss did not improve from 0.00092\n",
      "\n",
      "Epoch 59: val_loss did not improve from 0.00092\n",
      "\n",
      "Epoch 60: val_loss did not improve from 0.00092\n",
      "\n",
      "Epoch 61: val_loss did not improve from 0.00092\n",
      "\n",
      "Epoch 62: val_loss did not improve from 0.00092\n",
      "\n",
      "Epoch 63: val_loss did not improve from 0.00092\n",
      "\n",
      "Epoch 64: val_loss did not improve from 0.00092\n",
      "\n",
      "Epoch 65: val_loss did not improve from 0.00092\n",
      "\n",
      "Epoch 66: val_loss did not improve from 0.00092\n",
      "\n",
      "Epoch 67: val_loss did not improve from 0.00092\n",
      "\n",
      "Epoch 68: val_loss did not improve from 0.00092\n",
      "\n",
      "Epoch 69: val_loss did not improve from 0.00092\n",
      "\n",
      "Epoch 70: val_loss did not improve from 0.00092\n",
      "\n",
      "Epoch 71: val_loss did not improve from 0.00092\n",
      "\n",
      "Epoch 72: val_loss did not improve from 0.00092\n",
      "\n",
      "Epoch 73: val_loss did not improve from 0.00092\n",
      "\n",
      "Epoch 74: val_loss did not improve from 0.00092\n",
      "\n",
      "Epoch 75: val_loss did not improve from 0.00092\n",
      "\n",
      "Epoch 76: val_loss did not improve from 0.00092\n",
      "\n",
      "Epoch 77: val_loss did not improve from 0.00092\n",
      "\n",
      "Epoch 78: val_loss did not improve from 0.00092\n",
      "\n",
      "Epoch 79: val_loss did not improve from 0.00092\n",
      "\n",
      "Epoch 80: val_loss did not improve from 0.00092\n",
      "\n",
      "Epoch 81: val_loss did not improve from 0.00092\n",
      "\n",
      "Epoch 82: val_loss did not improve from 0.00092\n",
      "\n",
      "Epoch 83: val_loss did not improve from 0.00092\n",
      "\n",
      "Epoch 84: val_loss did not improve from 0.00092\n",
      "\n",
      "Epoch 85: val_loss did not improve from 0.00092\n",
      "\n",
      "Epoch 86: val_loss did not improve from 0.00092\n",
      "\n",
      "Epoch 87: val_loss did not improve from 0.00092\n",
      "\n",
      "Epoch 88: val_loss did not improve from 0.00092\n",
      "\n",
      "Epoch 89: val_loss did not improve from 0.00092\n",
      "\n",
      "Epoch 90: val_loss did not improve from 0.00092\n",
      "\n",
      "Epoch 91: val_loss did not improve from 0.00092\n",
      "\n",
      "Epoch 92: val_loss did not improve from 0.00092\n",
      "\n",
      "Epoch 93: val_loss did not improve from 0.00092\n",
      "\n",
      "Epoch 94: val_loss did not improve from 0.00092\n",
      "\n",
      "Epoch 95: val_loss did not improve from 0.00092\n",
      "\n",
      "Epoch 96: val_loss did not improve from 0.00092\n",
      "\n",
      "Epoch 97: val_loss did not improve from 0.00092\n",
      "\n",
      "Epoch 98: val_loss did not improve from 0.00092\n",
      "\n",
      "Epoch 99: val_loss did not improve from 0.00092\n",
      "\n",
      "Epoch 100: val_loss did not improve from 0.00092\n",
      "\n",
      "Epoch 101: val_loss did not improve from 0.00092\n",
      "\n",
      "Epoch 102: val_loss did not improve from 0.00092\n",
      "\n",
      "Epoch 103: val_loss did not improve from 0.00092\n",
      "\n",
      "Epoch 104: val_loss did not improve from 0.00092\n",
      "\n",
      "Epoch 105: val_loss did not improve from 0.00092\n",
      "\n",
      "Epoch 106: val_loss did not improve from 0.00092\n",
      "\n",
      "Epoch 107: val_loss did not improve from 0.00092\n",
      "\n",
      "Epoch 108: val_loss did not improve from 0.00092\n",
      "\n",
      "Epoch 109: val_loss did not improve from 0.00092\n",
      "\n",
      "Epoch 110: val_loss did not improve from 0.00092\n",
      "\n",
      "Epoch 111: val_loss did not improve from 0.00092\n",
      "\n",
      "Epoch 112: val_loss did not improve from 0.00092\n",
      "\n",
      "Epoch 113: val_loss did not improve from 0.00092\n",
      "\n",
      "Epoch 114: val_loss did not improve from 0.00092\n",
      "\n",
      "Epoch 115: val_loss did not improve from 0.00092\n",
      "\n",
      "Epoch 116: val_loss did not improve from 0.00092\n",
      "\n",
      "Epoch 117: val_loss did not improve from 0.00092\n",
      "\n",
      "Epoch 118: val_loss did not improve from 0.00092\n",
      "\n",
      "Epoch 119: val_loss did not improve from 0.00092\n",
      "\n",
      "Epoch 120: val_loss did not improve from 0.00092\n",
      "\n",
      "Epoch 121: val_loss did not improve from 0.00092\n",
      "\n",
      "Epoch 122: val_loss did not improve from 0.00092\n",
      "\n",
      "Epoch 123: val_loss did not improve from 0.00092\n",
      "\n",
      "Epoch 124: val_loss did not improve from 0.00092\n",
      "\n",
      "Epoch 125: val_loss did not improve from 0.00092\n",
      "\n",
      "Epoch 126: val_loss did not improve from 0.00092\n",
      "\n",
      "Epoch 127: val_loss did not improve from 0.00092\n",
      "\n",
      "Epoch 128: val_loss did not improve from 0.00092\n",
      "\n",
      "Epoch 129: val_loss did not improve from 0.00092\n",
      "\n",
      "Epoch 130: val_loss did not improve from 0.00092\n",
      "\n",
      "Epoch 131: val_loss did not improve from 0.00092\n",
      "\n",
      "Epoch 132: val_loss did not improve from 0.00092\n",
      "\n",
      "Epoch 133: val_loss did not improve from 0.00092\n",
      "\n",
      "Epoch 134: val_loss did not improve from 0.00092\n",
      "\n",
      "Epoch 135: val_loss did not improve from 0.00092\n",
      "\n",
      "Epoch 136: val_loss did not improve from 0.00092\n",
      "\n",
      "Epoch 137: val_loss did not improve from 0.00092\n",
      "\n",
      "Epoch 138: val_loss did not improve from 0.00092\n",
      "\n",
      "Epoch 139: val_loss did not improve from 0.00092\n",
      "\n",
      "Epoch 140: val_loss did not improve from 0.00092\n",
      "\n",
      "Epoch 141: val_loss did not improve from 0.00092\n",
      "\n",
      "Epoch 142: val_loss did not improve from 0.00092\n",
      "\n",
      "Epoch 143: val_loss did not improve from 0.00092\n",
      "\n",
      "Epoch 144: val_loss did not improve from 0.00092\n",
      "\n",
      "Epoch 145: val_loss did not improve from 0.00092\n",
      "\n",
      "Epoch 146: val_loss did not improve from 0.00092\n",
      "\n",
      "Epoch 147: val_loss did not improve from 0.00092\n",
      "\n",
      "Epoch 148: val_loss did not improve from 0.00092\n",
      "\n",
      "Epoch 149: val_loss did not improve from 0.00092\n",
      "\n",
      "Epoch 150: val_loss did not improve from 0.00092\n",
      "\n",
      "Epoch 151: val_loss did not improve from 0.00092\n",
      "\n",
      "Epoch 152: val_loss did not improve from 0.00092\n",
      "\n",
      "Epoch 153: val_loss did not improve from 0.00092\n",
      "\n",
      "Epoch 154: val_loss did not improve from 0.00092\n",
      "\n",
      "Epoch 155: val_loss did not improve from 0.00092\n",
      "\n",
      "Epoch 156: val_loss did not improve from 0.00092\n",
      "\n",
      "Epoch 157: val_loss did not improve from 0.00092\n",
      "\n",
      "Epoch 158: val_loss did not improve from 0.00092\n",
      "\n",
      "Epoch 159: val_loss did not improve from 0.00092\n",
      "\n",
      "Epoch 160: val_loss did not improve from 0.00092\n",
      "\n",
      "Epoch 161: val_loss did not improve from 0.00092\n",
      "\n",
      "Epoch 162: val_loss did not improve from 0.00092\n",
      "\n",
      "Epoch 163: val_loss did not improve from 0.00092\n",
      "\n",
      "Epoch 164: val_loss did not improve from 0.00092\n",
      "\n",
      "Epoch 165: val_loss did not improve from 0.00092\n",
      "\n",
      "Epoch 166: val_loss did not improve from 0.00092\n",
      "\n",
      "Epoch 167: val_loss did not improve from 0.00092\n",
      "\n",
      "Epoch 168: val_loss did not improve from 0.00092\n",
      "\n",
      "Epoch 169: val_loss did not improve from 0.00092\n",
      "\n",
      "Epoch 170: val_loss did not improve from 0.00092\n",
      "\n",
      "Epoch 171: val_loss did not improve from 0.00092\n",
      "\n",
      "Epoch 172: val_loss did not improve from 0.00092\n",
      "\n",
      "Epoch 173: val_loss did not improve from 0.00092\n",
      "\n",
      "Epoch 174: val_loss did not improve from 0.00092\n",
      "\n",
      "Epoch 175: val_loss did not improve from 0.00092\n",
      "\n",
      "Epoch 176: val_loss did not improve from 0.00092\n",
      "\n",
      "Epoch 177: val_loss did not improve from 0.00092\n",
      "\n",
      "Epoch 178: val_loss did not improve from 0.00092\n",
      "\n",
      "Epoch 179: val_loss did not improve from 0.00092\n",
      "\n",
      "Epoch 180: val_loss did not improve from 0.00092\n",
      "\n",
      "Epoch 181: val_loss did not improve from 0.00092\n",
      "\n",
      "Epoch 182: val_loss did not improve from 0.00092\n",
      "\n",
      "Epoch 183: val_loss did not improve from 0.00092\n",
      "\n",
      "Epoch 184: val_loss did not improve from 0.00092\n",
      "\n",
      "Epoch 185: val_loss did not improve from 0.00092\n",
      "\n",
      "Epoch 186: val_loss did not improve from 0.00092\n",
      "\n",
      "Epoch 187: val_loss did not improve from 0.00092\n",
      "\n",
      "Epoch 188: val_loss did not improve from 0.00092\n",
      "\n",
      "Epoch 189: val_loss did not improve from 0.00092\n",
      "\n",
      "Epoch 190: val_loss did not improve from 0.00092\n",
      "\n",
      "Epoch 191: val_loss did not improve from 0.00092\n",
      "Epoch 191: early stopping\n",
      "\u001b[1m18/18\u001b[0m \u001b[32m━━━━━━━━━━━━━━━━━━━━\u001b[0m\u001b[37m\u001b[0m \u001b[1m1s\u001b[0m 38ms/step\n",
      "Training with params: {'timesteps': 30, 'hl': [40, 35], 'lr': 0.0001, 'batch_size': 32, 'num_epochs': 200}\n"
     ]
    },
    {
     "name": "stderr",
     "output_type": "stream",
     "text": [
      "c:\\Users\\84368\\AppData\\Local\\Programs\\Python\\Python311\\Lib\\site-packages\\keras\\src\\layers\\rnn\\rnn.py:200: UserWarning: Do not pass an `input_shape`/`input_dim` argument to a layer. When using Sequential models, prefer using an `Input(shape)` object as the first layer in the model instead.\n",
      "  super().__init__(**kwargs)\n"
     ]
    },
    {
     "name": "stdout",
     "output_type": "stream",
     "text": [
      "\n",
      "Epoch 1: val_loss did not improve from 0.00092\n",
      "\n",
      "Epoch 2: val_loss did not improve from 0.00092\n",
      "\n",
      "Epoch 3: val_loss did not improve from 0.00092\n",
      "\n",
      "Epoch 4: val_loss did not improve from 0.00092\n",
      "\n",
      "Epoch 5: val_loss did not improve from 0.00092\n",
      "\n",
      "Epoch 6: val_loss did not improve from 0.00092\n",
      "\n",
      "Epoch 7: val_loss did not improve from 0.00092\n",
      "\n",
      "Epoch 8: val_loss did not improve from 0.00092\n",
      "\n",
      "Epoch 9: val_loss did not improve from 0.00092\n",
      "\n",
      "Epoch 10: val_loss did not improve from 0.00092\n",
      "\n",
      "Epoch 11: val_loss did not improve from 0.00092\n",
      "\n",
      "Epoch 12: val_loss did not improve from 0.00092\n",
      "\n",
      "Epoch 13: val_loss did not improve from 0.00092\n",
      "\n",
      "Epoch 14: val_loss did not improve from 0.00092\n",
      "\n",
      "Epoch 15: val_loss did not improve from 0.00092\n",
      "\n",
      "Epoch 16: val_loss did not improve from 0.00092\n",
      "\n",
      "Epoch 17: val_loss did not improve from 0.00092\n",
      "\n",
      "Epoch 18: val_loss did not improve from 0.00092\n",
      "\n",
      "Epoch 19: val_loss did not improve from 0.00092\n",
      "\n",
      "Epoch 20: val_loss did not improve from 0.00092\n",
      "\n",
      "Epoch 21: val_loss did not improve from 0.00092\n",
      "\n",
      "Epoch 22: val_loss did not improve from 0.00092\n",
      "\n",
      "Epoch 23: val_loss did not improve from 0.00092\n",
      "\n",
      "Epoch 24: val_loss did not improve from 0.00092\n",
      "\n",
      "Epoch 25: val_loss did not improve from 0.00092\n",
      "\n",
      "Epoch 26: val_loss did not improve from 0.00092\n",
      "\n",
      "Epoch 27: val_loss did not improve from 0.00092\n",
      "\n",
      "Epoch 28: val_loss did not improve from 0.00092\n",
      "\n",
      "Epoch 29: val_loss did not improve from 0.00092\n",
      "\n",
      "Epoch 30: val_loss did not improve from 0.00092\n",
      "\n",
      "Epoch 31: val_loss did not improve from 0.00092\n",
      "\n",
      "Epoch 32: val_loss did not improve from 0.00092\n",
      "\n",
      "Epoch 33: val_loss did not improve from 0.00092\n",
      "\n",
      "Epoch 34: val_loss did not improve from 0.00092\n",
      "\n",
      "Epoch 35: val_loss did not improve from 0.00092\n",
      "\n",
      "Epoch 36: val_loss did not improve from 0.00092\n",
      "\n",
      "Epoch 37: val_loss did not improve from 0.00092\n",
      "\n",
      "Epoch 38: val_loss did not improve from 0.00092\n",
      "\n",
      "Epoch 39: val_loss did not improve from 0.00092\n",
      "\n",
      "Epoch 40: val_loss did not improve from 0.00092\n",
      "\n",
      "Epoch 41: val_loss did not improve from 0.00092\n",
      "\n",
      "Epoch 42: val_loss did not improve from 0.00092\n",
      "\n",
      "Epoch 43: val_loss did not improve from 0.00092\n",
      "\n",
      "Epoch 44: val_loss did not improve from 0.00092\n",
      "\n",
      "Epoch 45: val_loss did not improve from 0.00092\n",
      "\n",
      "Epoch 46: val_loss did not improve from 0.00092\n",
      "\n",
      "Epoch 47: val_loss did not improve from 0.00092\n",
      "\n",
      "Epoch 48: val_loss did not improve from 0.00092\n",
      "\n",
      "Epoch 49: val_loss did not improve from 0.00092\n",
      "\n",
      "Epoch 50: val_loss did not improve from 0.00092\n",
      "\n",
      "Epoch 51: val_loss did not improve from 0.00092\n",
      "\n",
      "Epoch 52: val_loss did not improve from 0.00092\n",
      "\n",
      "Epoch 53: val_loss did not improve from 0.00092\n",
      "\n",
      "Epoch 54: val_loss did not improve from 0.00092\n",
      "\n",
      "Epoch 55: val_loss did not improve from 0.00092\n",
      "\n",
      "Epoch 56: val_loss did not improve from 0.00092\n",
      "\n",
      "Epoch 57: val_loss did not improve from 0.00092\n",
      "\n",
      "Epoch 58: val_loss did not improve from 0.00092\n",
      "\n",
      "Epoch 59: val_loss did not improve from 0.00092\n",
      "\n",
      "Epoch 60: val_loss did not improve from 0.00092\n",
      "\n",
      "Epoch 61: val_loss did not improve from 0.00092\n",
      "\n",
      "Epoch 62: val_loss did not improve from 0.00092\n",
      "\n",
      "Epoch 63: val_loss did not improve from 0.00092\n",
      "\n",
      "Epoch 64: val_loss did not improve from 0.00092\n",
      "\n",
      "Epoch 65: val_loss did not improve from 0.00092\n",
      "\n",
      "Epoch 66: val_loss did not improve from 0.00092\n",
      "\n",
      "Epoch 67: val_loss did not improve from 0.00092\n",
      "\n",
      "Epoch 68: val_loss did not improve from 0.00092\n",
      "\n",
      "Epoch 69: val_loss did not improve from 0.00092\n",
      "\n",
      "Epoch 70: val_loss did not improve from 0.00092\n",
      "\n",
      "Epoch 71: val_loss did not improve from 0.00092\n",
      "\n",
      "Epoch 72: val_loss did not improve from 0.00092\n",
      "\n",
      "Epoch 73: val_loss did not improve from 0.00092\n",
      "\n",
      "Epoch 74: val_loss did not improve from 0.00092\n",
      "\n",
      "Epoch 75: val_loss did not improve from 0.00092\n",
      "\n",
      "Epoch 76: val_loss did not improve from 0.00092\n",
      "\n",
      "Epoch 77: val_loss did not improve from 0.00092\n",
      "\n",
      "Epoch 78: val_loss did not improve from 0.00092\n",
      "\n",
      "Epoch 79: val_loss did not improve from 0.00092\n",
      "\n",
      "Epoch 80: val_loss did not improve from 0.00092\n",
      "\n",
      "Epoch 81: val_loss did not improve from 0.00092\n",
      "\n",
      "Epoch 82: val_loss did not improve from 0.00092\n",
      "\n",
      "Epoch 83: val_loss did not improve from 0.00092\n",
      "\n",
      "Epoch 84: val_loss did not improve from 0.00092\n",
      "\n",
      "Epoch 85: val_loss did not improve from 0.00092\n",
      "\n",
      "Epoch 86: val_loss did not improve from 0.00092\n",
      "\n",
      "Epoch 87: val_loss did not improve from 0.00092\n",
      "\n",
      "Epoch 88: val_loss did not improve from 0.00092\n",
      "\n",
      "Epoch 89: val_loss did not improve from 0.00092\n",
      "\n",
      "Epoch 90: val_loss did not improve from 0.00092\n",
      "\n",
      "Epoch 91: val_loss did not improve from 0.00092\n",
      "\n",
      "Epoch 92: val_loss did not improve from 0.00092\n",
      "\n",
      "Epoch 93: val_loss did not improve from 0.00092\n",
      "\n",
      "Epoch 94: val_loss did not improve from 0.00092\n",
      "\n",
      "Epoch 95: val_loss did not improve from 0.00092\n",
      "\n",
      "Epoch 96: val_loss did not improve from 0.00092\n",
      "\n",
      "Epoch 97: val_loss did not improve from 0.00092\n",
      "\n",
      "Epoch 98: val_loss did not improve from 0.00092\n",
      "\n",
      "Epoch 99: val_loss did not improve from 0.00092\n",
      "\n",
      "Epoch 100: val_loss did not improve from 0.00092\n",
      "\n",
      "Epoch 101: val_loss did not improve from 0.00092\n",
      "\n",
      "Epoch 102: val_loss did not improve from 0.00092\n",
      "\n",
      "Epoch 103: val_loss did not improve from 0.00092\n",
      "\n",
      "Epoch 104: val_loss did not improve from 0.00092\n",
      "\n",
      "Epoch 105: val_loss did not improve from 0.00092\n",
      "\n",
      "Epoch 106: val_loss did not improve from 0.00092\n",
      "\n",
      "Epoch 107: val_loss did not improve from 0.00092\n",
      "\n",
      "Epoch 108: val_loss did not improve from 0.00092\n",
      "\n",
      "Epoch 109: val_loss did not improve from 0.00092\n",
      "\n",
      "Epoch 110: val_loss did not improve from 0.00092\n",
      "\n",
      "Epoch 111: val_loss did not improve from 0.00092\n",
      "\n",
      "Epoch 112: val_loss did not improve from 0.00092\n",
      "\n",
      "Epoch 113: val_loss did not improve from 0.00092\n",
      "\n",
      "Epoch 114: val_loss did not improve from 0.00092\n",
      "\n",
      "Epoch 115: val_loss did not improve from 0.00092\n",
      "\n",
      "Epoch 116: val_loss did not improve from 0.00092\n",
      "\n",
      "Epoch 117: val_loss did not improve from 0.00092\n",
      "\n",
      "Epoch 118: val_loss did not improve from 0.00092\n",
      "\n",
      "Epoch 119: val_loss did not improve from 0.00092\n",
      "\n",
      "Epoch 120: val_loss did not improve from 0.00092\n",
      "\n",
      "Epoch 121: val_loss did not improve from 0.00092\n",
      "Epoch 121: early stopping\n",
      "\u001b[1m18/18\u001b[0m \u001b[32m━━━━━━━━━━━━━━━━━━━━\u001b[0m\u001b[37m\u001b[0m \u001b[1m1s\u001b[0m 39ms/step\n",
      "Training with params: {'timesteps': 30, 'hl': [40, 35], 'lr': 0.0001, 'batch_size': 32, 'num_epochs': 250}\n"
     ]
    },
    {
     "name": "stderr",
     "output_type": "stream",
     "text": [
      "c:\\Users\\84368\\AppData\\Local\\Programs\\Python\\Python311\\Lib\\site-packages\\keras\\src\\layers\\rnn\\rnn.py:200: UserWarning: Do not pass an `input_shape`/`input_dim` argument to a layer. When using Sequential models, prefer using an `Input(shape)` object as the first layer in the model instead.\n",
      "  super().__init__(**kwargs)\n"
     ]
    },
    {
     "name": "stdout",
     "output_type": "stream",
     "text": [
      "\n",
      "Epoch 1: val_loss did not improve from 0.00092\n",
      "\n",
      "Epoch 2: val_loss did not improve from 0.00092\n",
      "\n",
      "Epoch 3: val_loss did not improve from 0.00092\n",
      "\n",
      "Epoch 4: val_loss did not improve from 0.00092\n",
      "\n",
      "Epoch 5: val_loss did not improve from 0.00092\n",
      "\n",
      "Epoch 6: val_loss did not improve from 0.00092\n",
      "\n",
      "Epoch 7: val_loss did not improve from 0.00092\n",
      "\n",
      "Epoch 8: val_loss did not improve from 0.00092\n",
      "\n",
      "Epoch 9: val_loss did not improve from 0.00092\n",
      "\n",
      "Epoch 10: val_loss did not improve from 0.00092\n",
      "\n",
      "Epoch 11: val_loss did not improve from 0.00092\n",
      "\n",
      "Epoch 12: val_loss did not improve from 0.00092\n",
      "\n",
      "Epoch 13: val_loss did not improve from 0.00092\n",
      "\n",
      "Epoch 14: val_loss did not improve from 0.00092\n",
      "\n",
      "Epoch 15: val_loss did not improve from 0.00092\n",
      "\n",
      "Epoch 16: val_loss did not improve from 0.00092\n",
      "\n",
      "Epoch 17: val_loss did not improve from 0.00092\n",
      "\n",
      "Epoch 18: val_loss did not improve from 0.00092\n",
      "\n",
      "Epoch 19: val_loss did not improve from 0.00092\n",
      "\n",
      "Epoch 20: val_loss did not improve from 0.00092\n",
      "\n",
      "Epoch 21: val_loss did not improve from 0.00092\n",
      "\n",
      "Epoch 22: val_loss did not improve from 0.00092\n",
      "\n",
      "Epoch 23: val_loss did not improve from 0.00092\n",
      "\n",
      "Epoch 24: val_loss did not improve from 0.00092\n",
      "\n",
      "Epoch 25: val_loss did not improve from 0.00092\n",
      "\n",
      "Epoch 26: val_loss did not improve from 0.00092\n",
      "\n",
      "Epoch 27: val_loss did not improve from 0.00092\n",
      "\n",
      "Epoch 28: val_loss did not improve from 0.00092\n",
      "\n",
      "Epoch 29: val_loss did not improve from 0.00092\n",
      "\n",
      "Epoch 30: val_loss did not improve from 0.00092\n",
      "\n",
      "Epoch 31: val_loss did not improve from 0.00092\n",
      "\n",
      "Epoch 32: val_loss did not improve from 0.00092\n",
      "\n",
      "Epoch 33: val_loss did not improve from 0.00092\n",
      "\n",
      "Epoch 34: val_loss did not improve from 0.00092\n",
      "\n",
      "Epoch 35: val_loss did not improve from 0.00092\n",
      "\n",
      "Epoch 36: val_loss did not improve from 0.00092\n",
      "\n",
      "Epoch 37: val_loss did not improve from 0.00092\n",
      "\n",
      "Epoch 38: val_loss did not improve from 0.00092\n",
      "\n",
      "Epoch 39: val_loss did not improve from 0.00092\n",
      "\n",
      "Epoch 40: val_loss did not improve from 0.00092\n",
      "\n",
      "Epoch 41: val_loss did not improve from 0.00092\n",
      "\n",
      "Epoch 42: val_loss did not improve from 0.00092\n",
      "\n",
      "Epoch 43: val_loss did not improve from 0.00092\n",
      "\n",
      "Epoch 44: val_loss did not improve from 0.00092\n",
      "\n",
      "Epoch 45: val_loss did not improve from 0.00092\n",
      "\n",
      "Epoch 46: val_loss did not improve from 0.00092\n",
      "\n",
      "Epoch 47: val_loss did not improve from 0.00092\n",
      "\n",
      "Epoch 48: val_loss did not improve from 0.00092\n",
      "\n",
      "Epoch 49: val_loss did not improve from 0.00092\n",
      "\n",
      "Epoch 50: val_loss did not improve from 0.00092\n",
      "\n",
      "Epoch 51: val_loss did not improve from 0.00092\n",
      "\n",
      "Epoch 52: val_loss did not improve from 0.00092\n",
      "\n",
      "Epoch 53: val_loss did not improve from 0.00092\n",
      "\n",
      "Epoch 54: val_loss did not improve from 0.00092\n",
      "\n",
      "Epoch 55: val_loss did not improve from 0.00092\n",
      "\n",
      "Epoch 56: val_loss did not improve from 0.00092\n",
      "\n",
      "Epoch 57: val_loss did not improve from 0.00092\n",
      "\n",
      "Epoch 58: val_loss did not improve from 0.00092\n",
      "\n",
      "Epoch 59: val_loss did not improve from 0.00092\n",
      "\n",
      "Epoch 60: val_loss did not improve from 0.00092\n",
      "\n",
      "Epoch 61: val_loss did not improve from 0.00092\n",
      "\n",
      "Epoch 62: val_loss did not improve from 0.00092\n",
      "\n",
      "Epoch 63: val_loss did not improve from 0.00092\n",
      "\n",
      "Epoch 64: val_loss did not improve from 0.00092\n",
      "\n",
      "Epoch 65: val_loss did not improve from 0.00092\n",
      "\n",
      "Epoch 66: val_loss did not improve from 0.00092\n",
      "\n",
      "Epoch 67: val_loss did not improve from 0.00092\n",
      "\n",
      "Epoch 68: val_loss did not improve from 0.00092\n",
      "\n",
      "Epoch 69: val_loss did not improve from 0.00092\n",
      "\n",
      "Epoch 70: val_loss did not improve from 0.00092\n",
      "\n",
      "Epoch 71: val_loss did not improve from 0.00092\n",
      "\n",
      "Epoch 72: val_loss did not improve from 0.00092\n",
      "\n",
      "Epoch 73: val_loss did not improve from 0.00092\n",
      "\n",
      "Epoch 74: val_loss did not improve from 0.00092\n",
      "\n",
      "Epoch 75: val_loss did not improve from 0.00092\n",
      "\n",
      "Epoch 76: val_loss did not improve from 0.00092\n",
      "\n",
      "Epoch 77: val_loss did not improve from 0.00092\n",
      "\n",
      "Epoch 78: val_loss did not improve from 0.00092\n",
      "\n",
      "Epoch 79: val_loss did not improve from 0.00092\n",
      "\n",
      "Epoch 80: val_loss did not improve from 0.00092\n",
      "\n",
      "Epoch 81: val_loss did not improve from 0.00092\n",
      "\n",
      "Epoch 82: val_loss did not improve from 0.00092\n",
      "\n",
      "Epoch 83: val_loss did not improve from 0.00092\n",
      "\n",
      "Epoch 84: val_loss did not improve from 0.00092\n",
      "\n",
      "Epoch 85: val_loss did not improve from 0.00092\n",
      "\n",
      "Epoch 86: val_loss did not improve from 0.00092\n",
      "\n",
      "Epoch 87: val_loss did not improve from 0.00092\n",
      "Epoch 87: early stopping\n",
      "\u001b[1m18/18\u001b[0m \u001b[32m━━━━━━━━━━━━━━━━━━━━\u001b[0m\u001b[37m\u001b[0m \u001b[1m3s\u001b[0m 85ms/step\n",
      "Training with params: {'timesteps': 30, 'hl': [40, 35], 'lr': 0.0001, 'batch_size': 64, 'num_epochs': 200}\n"
     ]
    },
    {
     "name": "stderr",
     "output_type": "stream",
     "text": [
      "c:\\Users\\84368\\AppData\\Local\\Programs\\Python\\Python311\\Lib\\site-packages\\keras\\src\\layers\\rnn\\rnn.py:200: UserWarning: Do not pass an `input_shape`/`input_dim` argument to a layer. When using Sequential models, prefer using an `Input(shape)` object as the first layer in the model instead.\n",
      "  super().__init__(**kwargs)\n"
     ]
    },
    {
     "name": "stdout",
     "output_type": "stream",
     "text": [
      "\n",
      "Epoch 1: val_loss did not improve from 0.00092\n",
      "\n",
      "Epoch 2: val_loss did not improve from 0.00092\n",
      "\n",
      "Epoch 3: val_loss did not improve from 0.00092\n",
      "\n",
      "Epoch 4: val_loss did not improve from 0.00092\n",
      "\n",
      "Epoch 5: val_loss did not improve from 0.00092\n",
      "\n",
      "Epoch 6: val_loss did not improve from 0.00092\n",
      "\n",
      "Epoch 7: val_loss did not improve from 0.00092\n",
      "\n",
      "Epoch 8: val_loss did not improve from 0.00092\n",
      "\n",
      "Epoch 9: val_loss did not improve from 0.00092\n",
      "\n",
      "Epoch 10: val_loss did not improve from 0.00092\n",
      "\n",
      "Epoch 11: val_loss did not improve from 0.00092\n",
      "\n",
      "Epoch 12: val_loss did not improve from 0.00092\n",
      "\n",
      "Epoch 13: val_loss did not improve from 0.00092\n",
      "\n",
      "Epoch 14: val_loss did not improve from 0.00092\n",
      "\n",
      "Epoch 15: val_loss did not improve from 0.00092\n",
      "\n",
      "Epoch 16: val_loss did not improve from 0.00092\n",
      "\n",
      "Epoch 17: val_loss did not improve from 0.00092\n",
      "\n",
      "Epoch 18: val_loss did not improve from 0.00092\n",
      "\n",
      "Epoch 19: val_loss did not improve from 0.00092\n",
      "\n",
      "Epoch 20: val_loss did not improve from 0.00092\n",
      "\n",
      "Epoch 21: val_loss did not improve from 0.00092\n",
      "\n",
      "Epoch 22: val_loss did not improve from 0.00092\n",
      "\n",
      "Epoch 23: val_loss did not improve from 0.00092\n",
      "\n",
      "Epoch 24: val_loss did not improve from 0.00092\n",
      "\n",
      "Epoch 25: val_loss did not improve from 0.00092\n",
      "\n",
      "Epoch 26: val_loss did not improve from 0.00092\n",
      "\n",
      "Epoch 27: val_loss did not improve from 0.00092\n",
      "\n",
      "Epoch 28: val_loss did not improve from 0.00092\n",
      "\n",
      "Epoch 29: val_loss did not improve from 0.00092\n",
      "\n",
      "Epoch 30: val_loss did not improve from 0.00092\n",
      "\n",
      "Epoch 31: val_loss did not improve from 0.00092\n",
      "\n",
      "Epoch 32: val_loss did not improve from 0.00092\n",
      "\n",
      "Epoch 33: val_loss did not improve from 0.00092\n",
      "\n",
      "Epoch 34: val_loss did not improve from 0.00092\n",
      "\n",
      "Epoch 35: val_loss did not improve from 0.00092\n",
      "\n",
      "Epoch 36: val_loss did not improve from 0.00092\n",
      "\n",
      "Epoch 37: val_loss did not improve from 0.00092\n",
      "\n",
      "Epoch 38: val_loss did not improve from 0.00092\n",
      "\n",
      "Epoch 39: val_loss did not improve from 0.00092\n",
      "\n",
      "Epoch 40: val_loss did not improve from 0.00092\n",
      "\n",
      "Epoch 41: val_loss did not improve from 0.00092\n",
      "\n",
      "Epoch 42: val_loss did not improve from 0.00092\n",
      "\n",
      "Epoch 43: val_loss did not improve from 0.00092\n",
      "\n",
      "Epoch 44: val_loss did not improve from 0.00092\n",
      "\n",
      "Epoch 45: val_loss did not improve from 0.00092\n",
      "\n",
      "Epoch 46: val_loss did not improve from 0.00092\n",
      "\n",
      "Epoch 47: val_loss did not improve from 0.00092\n",
      "\n",
      "Epoch 48: val_loss did not improve from 0.00092\n",
      "\n",
      "Epoch 49: val_loss did not improve from 0.00092\n",
      "\n",
      "Epoch 50: val_loss did not improve from 0.00092\n",
      "\n",
      "Epoch 51: val_loss did not improve from 0.00092\n",
      "\n",
      "Epoch 52: val_loss did not improve from 0.00092\n",
      "\n",
      "Epoch 53: val_loss did not improve from 0.00092\n",
      "\n",
      "Epoch 54: val_loss did not improve from 0.00092\n",
      "\n",
      "Epoch 55: val_loss did not improve from 0.00092\n",
      "\n",
      "Epoch 56: val_loss did not improve from 0.00092\n",
      "\n",
      "Epoch 57: val_loss did not improve from 0.00092\n",
      "\n",
      "Epoch 58: val_loss did not improve from 0.00092\n",
      "\n",
      "Epoch 59: val_loss did not improve from 0.00092\n",
      "\n",
      "Epoch 60: val_loss did not improve from 0.00092\n",
      "\n",
      "Epoch 61: val_loss did not improve from 0.00092\n",
      "\n",
      "Epoch 62: val_loss did not improve from 0.00092\n",
      "\n",
      "Epoch 63: val_loss did not improve from 0.00092\n",
      "\n",
      "Epoch 64: val_loss did not improve from 0.00092\n",
      "\n",
      "Epoch 65: val_loss did not improve from 0.00092\n",
      "\n",
      "Epoch 66: val_loss did not improve from 0.00092\n",
      "\n",
      "Epoch 67: val_loss did not improve from 0.00092\n",
      "\n",
      "Epoch 68: val_loss did not improve from 0.00092\n",
      "\n",
      "Epoch 69: val_loss did not improve from 0.00092\n",
      "\n",
      "Epoch 70: val_loss did not improve from 0.00092\n",
      "\n",
      "Epoch 71: val_loss did not improve from 0.00092\n",
      "\n",
      "Epoch 72: val_loss did not improve from 0.00092\n",
      "\n",
      "Epoch 73: val_loss did not improve from 0.00092\n",
      "\n",
      "Epoch 74: val_loss did not improve from 0.00092\n",
      "\n",
      "Epoch 75: val_loss did not improve from 0.00092\n",
      "\n",
      "Epoch 76: val_loss did not improve from 0.00092\n",
      "\n",
      "Epoch 77: val_loss did not improve from 0.00092\n",
      "\n",
      "Epoch 78: val_loss did not improve from 0.00092\n",
      "\n",
      "Epoch 79: val_loss did not improve from 0.00092\n",
      "\n",
      "Epoch 80: val_loss did not improve from 0.00092\n",
      "\n",
      "Epoch 81: val_loss did not improve from 0.00092\n",
      "\n",
      "Epoch 82: val_loss did not improve from 0.00092\n",
      "\n",
      "Epoch 83: val_loss did not improve from 0.00092\n",
      "\n",
      "Epoch 84: val_loss did not improve from 0.00092\n",
      "\n",
      "Epoch 85: val_loss did not improve from 0.00092\n",
      "\n",
      "Epoch 86: val_loss did not improve from 0.00092\n",
      "\n",
      "Epoch 87: val_loss did not improve from 0.00092\n",
      "\n",
      "Epoch 88: val_loss did not improve from 0.00092\n",
      "\n",
      "Epoch 89: val_loss did not improve from 0.00092\n",
      "\n",
      "Epoch 90: val_loss did not improve from 0.00092\n",
      "\n",
      "Epoch 91: val_loss did not improve from 0.00092\n",
      "\n",
      "Epoch 92: val_loss did not improve from 0.00092\n",
      "\n",
      "Epoch 93: val_loss did not improve from 0.00092\n",
      "\n",
      "Epoch 94: val_loss did not improve from 0.00092\n",
      "\n",
      "Epoch 95: val_loss did not improve from 0.00092\n",
      "\n",
      "Epoch 96: val_loss did not improve from 0.00092\n",
      "\n",
      "Epoch 97: val_loss did not improve from 0.00092\n",
      "\n",
      "Epoch 98: val_loss did not improve from 0.00092\n",
      "\n",
      "Epoch 99: val_loss did not improve from 0.00092\n",
      "\n",
      "Epoch 100: val_loss did not improve from 0.00092\n",
      "\n",
      "Epoch 101: val_loss did not improve from 0.00092\n",
      "\n",
      "Epoch 102: val_loss did not improve from 0.00092\n",
      "\n",
      "Epoch 103: val_loss did not improve from 0.00092\n",
      "\n",
      "Epoch 104: val_loss did not improve from 0.00092\n",
      "\n",
      "Epoch 105: val_loss did not improve from 0.00092\n",
      "\n",
      "Epoch 106: val_loss did not improve from 0.00092\n",
      "\n",
      "Epoch 107: val_loss did not improve from 0.00092\n",
      "\n",
      "Epoch 108: val_loss did not improve from 0.00092\n",
      "\n",
      "Epoch 109: val_loss did not improve from 0.00092\n",
      "\n",
      "Epoch 110: val_loss did not improve from 0.00092\n",
      "\n",
      "Epoch 111: val_loss did not improve from 0.00092\n",
      "\n",
      "Epoch 112: val_loss did not improve from 0.00092\n",
      "\n",
      "Epoch 113: val_loss did not improve from 0.00092\n",
      "\n",
      "Epoch 114: val_loss did not improve from 0.00092\n",
      "\n",
      "Epoch 115: val_loss did not improve from 0.00092\n",
      "\n",
      "Epoch 116: val_loss did not improve from 0.00092\n",
      "\n",
      "Epoch 117: val_loss did not improve from 0.00092\n",
      "\n",
      "Epoch 118: val_loss did not improve from 0.00092\n",
      "\n",
      "Epoch 119: val_loss did not improve from 0.00092\n",
      "\n",
      "Epoch 120: val_loss did not improve from 0.00092\n",
      "\n",
      "Epoch 121: val_loss did not improve from 0.00092\n",
      "\n",
      "Epoch 122: val_loss did not improve from 0.00092\n",
      "\n",
      "Epoch 123: val_loss did not improve from 0.00092\n",
      "\n",
      "Epoch 124: val_loss did not improve from 0.00092\n",
      "\n",
      "Epoch 125: val_loss did not improve from 0.00092\n",
      "\n",
      "Epoch 126: val_loss did not improve from 0.00092\n",
      "\n",
      "Epoch 127: val_loss did not improve from 0.00092\n",
      "\n",
      "Epoch 128: val_loss did not improve from 0.00092\n",
      "\n",
      "Epoch 129: val_loss did not improve from 0.00092\n",
      "\n",
      "Epoch 130: val_loss did not improve from 0.00092\n",
      "\n",
      "Epoch 131: val_loss did not improve from 0.00092\n",
      "\n",
      "Epoch 132: val_loss did not improve from 0.00092\n",
      "\n",
      "Epoch 133: val_loss did not improve from 0.00092\n",
      "\n",
      "Epoch 134: val_loss did not improve from 0.00092\n",
      "\n",
      "Epoch 135: val_loss did not improve from 0.00092\n",
      "\n",
      "Epoch 136: val_loss did not improve from 0.00092\n",
      "\n",
      "Epoch 137: val_loss did not improve from 0.00092\n",
      "\n",
      "Epoch 138: val_loss did not improve from 0.00092\n",
      "\n",
      "Epoch 139: val_loss did not improve from 0.00092\n",
      "\n",
      "Epoch 140: val_loss did not improve from 0.00092\n",
      "\n",
      "Epoch 141: val_loss did not improve from 0.00092\n",
      "\n",
      "Epoch 142: val_loss did not improve from 0.00092\n",
      "\n",
      "Epoch 143: val_loss did not improve from 0.00092\n",
      "\n",
      "Epoch 144: val_loss did not improve from 0.00092\n",
      "\n",
      "Epoch 145: val_loss did not improve from 0.00092\n",
      "\n",
      "Epoch 146: val_loss did not improve from 0.00092\n",
      "\n",
      "Epoch 147: val_loss did not improve from 0.00092\n",
      "\n",
      "Epoch 148: val_loss did not improve from 0.00092\n",
      "\n",
      "Epoch 149: val_loss did not improve from 0.00092\n",
      "\n",
      "Epoch 150: val_loss did not improve from 0.00092\n",
      "\n",
      "Epoch 151: val_loss did not improve from 0.00092\n",
      "\n",
      "Epoch 152: val_loss did not improve from 0.00092\n",
      "\n",
      "Epoch 153: val_loss did not improve from 0.00092\n",
      "\n",
      "Epoch 154: val_loss did not improve from 0.00092\n",
      "\n",
      "Epoch 155: val_loss did not improve from 0.00092\n",
      "\n",
      "Epoch 156: val_loss did not improve from 0.00092\n",
      "\n",
      "Epoch 157: val_loss did not improve from 0.00092\n",
      "\n",
      "Epoch 158: val_loss did not improve from 0.00092\n",
      "\n",
      "Epoch 159: val_loss did not improve from 0.00092\n",
      "\n",
      "Epoch 160: val_loss did not improve from 0.00092\n",
      "\n",
      "Epoch 161: val_loss did not improve from 0.00092\n",
      "\n",
      "Epoch 162: val_loss did not improve from 0.00092\n",
      "\n",
      "Epoch 163: val_loss did not improve from 0.00092\n",
      "\n",
      "Epoch 164: val_loss did not improve from 0.00092\n",
      "\n",
      "Epoch 165: val_loss did not improve from 0.00092\n",
      "\n",
      "Epoch 166: val_loss did not improve from 0.00092\n",
      "\n",
      "Epoch 167: val_loss did not improve from 0.00092\n",
      "\n",
      "Epoch 168: val_loss did not improve from 0.00092\n",
      "\n",
      "Epoch 169: val_loss did not improve from 0.00092\n",
      "\n",
      "Epoch 170: val_loss did not improve from 0.00092\n",
      "\n",
      "Epoch 171: val_loss did not improve from 0.00092\n",
      "\n",
      "Epoch 172: val_loss did not improve from 0.00092\n",
      "\n",
      "Epoch 173: val_loss did not improve from 0.00092\n",
      "\n",
      "Epoch 174: val_loss did not improve from 0.00092\n",
      "\n",
      "Epoch 175: val_loss did not improve from 0.00092\n",
      "\n",
      "Epoch 176: val_loss did not improve from 0.00092\n",
      "\n",
      "Epoch 177: val_loss did not improve from 0.00092\n",
      "Epoch 177: early stopping\n",
      "\u001b[1m18/18\u001b[0m \u001b[32m━━━━━━━━━━━━━━━━━━━━\u001b[0m\u001b[37m\u001b[0m \u001b[1m2s\u001b[0m 78ms/step\n",
      "Training with params: {'timesteps': 30, 'hl': [40, 35], 'lr': 0.0001, 'batch_size': 64, 'num_epochs': 250}\n"
     ]
    },
    {
     "name": "stderr",
     "output_type": "stream",
     "text": [
      "c:\\Users\\84368\\AppData\\Local\\Programs\\Python\\Python311\\Lib\\site-packages\\keras\\src\\layers\\rnn\\rnn.py:200: UserWarning: Do not pass an `input_shape`/`input_dim` argument to a layer. When using Sequential models, prefer using an `Input(shape)` object as the first layer in the model instead.\n",
      "  super().__init__(**kwargs)\n"
     ]
    },
    {
     "name": "stdout",
     "output_type": "stream",
     "text": [
      "\n",
      "Epoch 1: val_loss did not improve from 0.00092\n",
      "\n",
      "Epoch 2: val_loss did not improve from 0.00092\n",
      "\n",
      "Epoch 3: val_loss did not improve from 0.00092\n",
      "\n",
      "Epoch 4: val_loss did not improve from 0.00092\n",
      "\n",
      "Epoch 5: val_loss did not improve from 0.00092\n",
      "\n",
      "Epoch 6: val_loss did not improve from 0.00092\n",
      "\n",
      "Epoch 7: val_loss did not improve from 0.00092\n",
      "\n",
      "Epoch 8: val_loss did not improve from 0.00092\n",
      "\n",
      "Epoch 9: val_loss did not improve from 0.00092\n",
      "\n",
      "Epoch 10: val_loss did not improve from 0.00092\n",
      "\n",
      "Epoch 11: val_loss did not improve from 0.00092\n",
      "\n",
      "Epoch 12: val_loss did not improve from 0.00092\n",
      "\n",
      "Epoch 13: val_loss did not improve from 0.00092\n",
      "\n",
      "Epoch 14: val_loss did not improve from 0.00092\n",
      "\n",
      "Epoch 15: val_loss did not improve from 0.00092\n",
      "\n",
      "Epoch 16: val_loss did not improve from 0.00092\n",
      "\n",
      "Epoch 17: val_loss did not improve from 0.00092\n",
      "\n",
      "Epoch 18: val_loss did not improve from 0.00092\n",
      "\n",
      "Epoch 19: val_loss did not improve from 0.00092\n",
      "\n",
      "Epoch 20: val_loss did not improve from 0.00092\n",
      "\n",
      "Epoch 21: val_loss did not improve from 0.00092\n",
      "\n",
      "Epoch 22: val_loss did not improve from 0.00092\n",
      "\n",
      "Epoch 23: val_loss did not improve from 0.00092\n",
      "\n",
      "Epoch 24: val_loss did not improve from 0.00092\n",
      "\n",
      "Epoch 25: val_loss did not improve from 0.00092\n",
      "\n",
      "Epoch 26: val_loss did not improve from 0.00092\n",
      "\n",
      "Epoch 27: val_loss did not improve from 0.00092\n",
      "\n",
      "Epoch 28: val_loss did not improve from 0.00092\n",
      "\n",
      "Epoch 29: val_loss did not improve from 0.00092\n",
      "\n",
      "Epoch 30: val_loss did not improve from 0.00092\n",
      "\n",
      "Epoch 31: val_loss did not improve from 0.00092\n",
      "\n",
      "Epoch 32: val_loss did not improve from 0.00092\n",
      "\n",
      "Epoch 33: val_loss did not improve from 0.00092\n",
      "\n",
      "Epoch 34: val_loss did not improve from 0.00092\n",
      "\n",
      "Epoch 35: val_loss did not improve from 0.00092\n",
      "\n",
      "Epoch 36: val_loss did not improve from 0.00092\n",
      "\n",
      "Epoch 37: val_loss did not improve from 0.00092\n",
      "\n",
      "Epoch 38: val_loss did not improve from 0.00092\n",
      "\n",
      "Epoch 39: val_loss did not improve from 0.00092\n",
      "\n",
      "Epoch 40: val_loss did not improve from 0.00092\n",
      "\n",
      "Epoch 41: val_loss did not improve from 0.00092\n",
      "\n",
      "Epoch 42: val_loss did not improve from 0.00092\n",
      "\n",
      "Epoch 43: val_loss did not improve from 0.00092\n",
      "\n",
      "Epoch 44: val_loss did not improve from 0.00092\n",
      "\n",
      "Epoch 45: val_loss did not improve from 0.00092\n",
      "\n",
      "Epoch 46: val_loss did not improve from 0.00092\n",
      "\n",
      "Epoch 47: val_loss did not improve from 0.00092\n",
      "\n",
      "Epoch 48: val_loss did not improve from 0.00092\n",
      "\n",
      "Epoch 49: val_loss did not improve from 0.00092\n",
      "\n",
      "Epoch 50: val_loss did not improve from 0.00092\n",
      "\n",
      "Epoch 51: val_loss did not improve from 0.00092\n",
      "\n",
      "Epoch 52: val_loss did not improve from 0.00092\n",
      "\n",
      "Epoch 53: val_loss did not improve from 0.00092\n",
      "\n",
      "Epoch 54: val_loss did not improve from 0.00092\n",
      "\n",
      "Epoch 55: val_loss did not improve from 0.00092\n",
      "\n",
      "Epoch 56: val_loss did not improve from 0.00092\n",
      "\n",
      "Epoch 57: val_loss did not improve from 0.00092\n",
      "\n",
      "Epoch 58: val_loss did not improve from 0.00092\n",
      "\n",
      "Epoch 59: val_loss did not improve from 0.00092\n",
      "\n",
      "Epoch 60: val_loss did not improve from 0.00092\n",
      "\n",
      "Epoch 61: val_loss did not improve from 0.00092\n",
      "\n",
      "Epoch 62: val_loss did not improve from 0.00092\n",
      "\n",
      "Epoch 63: val_loss did not improve from 0.00092\n",
      "\n",
      "Epoch 64: val_loss did not improve from 0.00092\n",
      "\n",
      "Epoch 65: val_loss did not improve from 0.00092\n",
      "\n",
      "Epoch 66: val_loss did not improve from 0.00092\n",
      "\n",
      "Epoch 67: val_loss did not improve from 0.00092\n",
      "\n",
      "Epoch 68: val_loss did not improve from 0.00092\n",
      "\n",
      "Epoch 69: val_loss did not improve from 0.00092\n",
      "\n",
      "Epoch 70: val_loss did not improve from 0.00092\n",
      "\n",
      "Epoch 71: val_loss did not improve from 0.00092\n",
      "\n",
      "Epoch 72: val_loss did not improve from 0.00092\n",
      "\n",
      "Epoch 73: val_loss did not improve from 0.00092\n",
      "\n",
      "Epoch 74: val_loss did not improve from 0.00092\n",
      "\n",
      "Epoch 75: val_loss did not improve from 0.00092\n",
      "\n",
      "Epoch 76: val_loss did not improve from 0.00092\n",
      "\n",
      "Epoch 77: val_loss did not improve from 0.00092\n",
      "\n",
      "Epoch 78: val_loss did not improve from 0.00092\n",
      "\n",
      "Epoch 79: val_loss did not improve from 0.00092\n",
      "\n",
      "Epoch 80: val_loss did not improve from 0.00092\n",
      "\n",
      "Epoch 81: val_loss did not improve from 0.00092\n",
      "\n",
      "Epoch 82: val_loss did not improve from 0.00092\n",
      "\n",
      "Epoch 83: val_loss did not improve from 0.00092\n",
      "\n",
      "Epoch 84: val_loss did not improve from 0.00092\n",
      "\n",
      "Epoch 85: val_loss did not improve from 0.00092\n",
      "\n",
      "Epoch 86: val_loss did not improve from 0.00092\n",
      "\n",
      "Epoch 87: val_loss did not improve from 0.00092\n",
      "\n",
      "Epoch 88: val_loss did not improve from 0.00092\n",
      "\n",
      "Epoch 89: val_loss did not improve from 0.00092\n",
      "\n",
      "Epoch 90: val_loss did not improve from 0.00092\n",
      "\n",
      "Epoch 91: val_loss did not improve from 0.00092\n",
      "\n",
      "Epoch 92: val_loss did not improve from 0.00092\n",
      "\n",
      "Epoch 93: val_loss did not improve from 0.00092\n",
      "\n",
      "Epoch 94: val_loss did not improve from 0.00092\n",
      "\n",
      "Epoch 95: val_loss did not improve from 0.00092\n",
      "\n",
      "Epoch 96: val_loss did not improve from 0.00092\n",
      "\n",
      "Epoch 97: val_loss did not improve from 0.00092\n",
      "\n",
      "Epoch 98: val_loss did not improve from 0.00092\n",
      "\n",
      "Epoch 99: val_loss did not improve from 0.00092\n",
      "\n",
      "Epoch 100: val_loss did not improve from 0.00092\n",
      "\n",
      "Epoch 101: val_loss did not improve from 0.00092\n",
      "\n",
      "Epoch 102: val_loss did not improve from 0.00092\n",
      "\n",
      "Epoch 103: val_loss did not improve from 0.00092\n",
      "\n",
      "Epoch 104: val_loss did not improve from 0.00092\n",
      "\n",
      "Epoch 105: val_loss did not improve from 0.00092\n",
      "\n",
      "Epoch 106: val_loss did not improve from 0.00092\n",
      "\n",
      "Epoch 107: val_loss did not improve from 0.00092\n",
      "\n",
      "Epoch 108: val_loss did not improve from 0.00092\n",
      "\n",
      "Epoch 109: val_loss did not improve from 0.00092\n",
      "\n",
      "Epoch 110: val_loss did not improve from 0.00092\n",
      "\n",
      "Epoch 111: val_loss did not improve from 0.00092\n",
      "\n",
      "Epoch 112: val_loss did not improve from 0.00092\n",
      "\n",
      "Epoch 113: val_loss did not improve from 0.00092\n",
      "\n",
      "Epoch 114: val_loss did not improve from 0.00092\n",
      "\n",
      "Epoch 115: val_loss did not improve from 0.00092\n",
      "\n",
      "Epoch 116: val_loss did not improve from 0.00092\n",
      "\n",
      "Epoch 117: val_loss did not improve from 0.00092\n",
      "\n",
      "Epoch 118: val_loss did not improve from 0.00092\n",
      "\n",
      "Epoch 119: val_loss did not improve from 0.00092\n",
      "\n",
      "Epoch 120: val_loss did not improve from 0.00092\n",
      "\n",
      "Epoch 121: val_loss did not improve from 0.00092\n",
      "\n",
      "Epoch 122: val_loss did not improve from 0.00092\n",
      "\n",
      "Epoch 123: val_loss did not improve from 0.00092\n",
      "\n",
      "Epoch 124: val_loss did not improve from 0.00092\n",
      "\n",
      "Epoch 125: val_loss did not improve from 0.00092\n",
      "\n",
      "Epoch 126: val_loss did not improve from 0.00092\n",
      "\n",
      "Epoch 127: val_loss did not improve from 0.00092\n",
      "\n",
      "Epoch 128: val_loss did not improve from 0.00092\n",
      "\n",
      "Epoch 129: val_loss did not improve from 0.00092\n",
      "\n",
      "Epoch 130: val_loss did not improve from 0.00092\n",
      "\n",
      "Epoch 131: val_loss did not improve from 0.00092\n",
      "\n",
      "Epoch 132: val_loss did not improve from 0.00092\n",
      "\n",
      "Epoch 133: val_loss did not improve from 0.00092\n",
      "\n",
      "Epoch 134: val_loss did not improve from 0.00092\n",
      "\n",
      "Epoch 135: val_loss did not improve from 0.00092\n",
      "\n",
      "Epoch 136: val_loss did not improve from 0.00092\n",
      "\n",
      "Epoch 137: val_loss did not improve from 0.00092\n",
      "\n",
      "Epoch 138: val_loss did not improve from 0.00092\n",
      "\n",
      "Epoch 139: val_loss did not improve from 0.00092\n",
      "\n",
      "Epoch 140: val_loss did not improve from 0.00092\n",
      "\n",
      "Epoch 141: val_loss did not improve from 0.00092\n",
      "\n",
      "Epoch 142: val_loss did not improve from 0.00092\n",
      "\n",
      "Epoch 143: val_loss did not improve from 0.00092\n",
      "Epoch 143: early stopping\n",
      "\u001b[1m18/18\u001b[0m \u001b[32m━━━━━━━━━━━━━━━━━━━━\u001b[0m\u001b[37m\u001b[0m \u001b[1m3s\u001b[0m 80ms/step\n",
      "Training with params: {'timesteps': 40, 'hl': [40, 35], 'lr': 0.001, 'batch_size': 32, 'num_epochs': 200}\n"
     ]
    },
    {
     "name": "stderr",
     "output_type": "stream",
     "text": [
      "c:\\Users\\84368\\AppData\\Local\\Programs\\Python\\Python311\\Lib\\site-packages\\keras\\src\\layers\\rnn\\rnn.py:200: UserWarning: Do not pass an `input_shape`/`input_dim` argument to a layer. When using Sequential models, prefer using an `Input(shape)` object as the first layer in the model instead.\n",
      "  super().__init__(**kwargs)\n"
     ]
    },
    {
     "name": "stdout",
     "output_type": "stream",
     "text": [
      "\n",
      "Epoch 1: val_loss did not improve from 0.00092\n",
      "\n",
      "Epoch 2: val_loss did not improve from 0.00092\n",
      "\n",
      "Epoch 3: val_loss did not improve from 0.00092\n",
      "\n",
      "Epoch 4: val_loss did not improve from 0.00092\n",
      "\n",
      "Epoch 5: val_loss did not improve from 0.00092\n",
      "\n",
      "Epoch 6: val_loss did not improve from 0.00092\n",
      "\n",
      "Epoch 7: val_loss did not improve from 0.00092\n",
      "\n",
      "Epoch 8: val_loss did not improve from 0.00092\n",
      "\n",
      "Epoch 9: val_loss did not improve from 0.00092\n",
      "\n",
      "Epoch 10: val_loss did not improve from 0.00092\n",
      "\n",
      "Epoch 11: val_loss did not improve from 0.00092\n",
      "\n",
      "Epoch 12: val_loss did not improve from 0.00092\n",
      "\n",
      "Epoch 13: val_loss did not improve from 0.00092\n",
      "\n",
      "Epoch 14: val_loss did not improve from 0.00092\n",
      "\n",
      "Epoch 15: val_loss did not improve from 0.00092\n",
      "\n",
      "Epoch 16: val_loss did not improve from 0.00092\n",
      "\n",
      "Epoch 17: val_loss did not improve from 0.00092\n",
      "\n",
      "Epoch 18: val_loss did not improve from 0.00092\n",
      "\n",
      "Epoch 19: val_loss did not improve from 0.00092\n",
      "\n",
      "Epoch 20: val_loss did not improve from 0.00092\n",
      "\n",
      "Epoch 21: val_loss did not improve from 0.00092\n",
      "\n",
      "Epoch 22: val_loss did not improve from 0.00092\n",
      "\n",
      "Epoch 23: val_loss did not improve from 0.00092\n",
      "\n",
      "Epoch 24: val_loss did not improve from 0.00092\n",
      "\n",
      "Epoch 25: val_loss did not improve from 0.00092\n",
      "\n",
      "Epoch 26: val_loss did not improve from 0.00092\n",
      "\n",
      "Epoch 27: val_loss did not improve from 0.00092\n",
      "\n",
      "Epoch 28: val_loss did not improve from 0.00092\n",
      "\n",
      "Epoch 29: val_loss did not improve from 0.00092\n",
      "\n",
      "Epoch 30: val_loss did not improve from 0.00092\n",
      "\n",
      "Epoch 31: val_loss did not improve from 0.00092\n",
      "\n",
      "Epoch 32: val_loss did not improve from 0.00092\n",
      "\n",
      "Epoch 33: val_loss did not improve from 0.00092\n",
      "\n",
      "Epoch 34: val_loss did not improve from 0.00092\n",
      "\n",
      "Epoch 35: val_loss did not improve from 0.00092\n",
      "\n",
      "Epoch 36: val_loss did not improve from 0.00092\n",
      "\n",
      "Epoch 37: val_loss did not improve from 0.00092\n",
      "\n",
      "Epoch 38: val_loss did not improve from 0.00092\n",
      "\n",
      "Epoch 39: val_loss did not improve from 0.00092\n",
      "\n",
      "Epoch 40: val_loss did not improve from 0.00092\n",
      "\n",
      "Epoch 41: val_loss did not improve from 0.00092\n",
      "\n",
      "Epoch 42: val_loss did not improve from 0.00092\n",
      "\n",
      "Epoch 43: val_loss did not improve from 0.00092\n",
      "\n",
      "Epoch 44: val_loss did not improve from 0.00092\n",
      "\n",
      "Epoch 45: val_loss did not improve from 0.00092\n",
      "\n",
      "Epoch 46: val_loss did not improve from 0.00092\n",
      "\n",
      "Epoch 47: val_loss did not improve from 0.00092\n",
      "\n",
      "Epoch 48: val_loss did not improve from 0.00092\n",
      "\n",
      "Epoch 49: val_loss did not improve from 0.00092\n",
      "\n",
      "Epoch 50: val_loss did not improve from 0.00092\n",
      "\n",
      "Epoch 51: val_loss did not improve from 0.00092\n",
      "\n",
      "Epoch 52: val_loss did not improve from 0.00092\n",
      "\n",
      "Epoch 53: val_loss did not improve from 0.00092\n",
      "\n",
      "Epoch 54: val_loss did not improve from 0.00092\n",
      "\n",
      "Epoch 55: val_loss did not improve from 0.00092\n",
      "\n",
      "Epoch 56: val_loss did not improve from 0.00092\n",
      "\n",
      "Epoch 57: val_loss did not improve from 0.00092\n",
      "\n",
      "Epoch 58: val_loss did not improve from 0.00092\n",
      "\n",
      "Epoch 59: val_loss did not improve from 0.00092\n",
      "\n",
      "Epoch 60: val_loss did not improve from 0.00092\n",
      "\n",
      "Epoch 61: val_loss did not improve from 0.00092\n",
      "\n",
      "Epoch 62: val_loss did not improve from 0.00092\n",
      "\n",
      "Epoch 63: val_loss did not improve from 0.00092\n",
      "\n",
      "Epoch 64: val_loss did not improve from 0.00092\n",
      "\n",
      "Epoch 65: val_loss did not improve from 0.00092\n",
      "\n",
      "Epoch 66: val_loss did not improve from 0.00092\n",
      "\n",
      "Epoch 67: val_loss did not improve from 0.00092\n",
      "\n",
      "Epoch 68: val_loss did not improve from 0.00092\n",
      "\n",
      "Epoch 69: val_loss did not improve from 0.00092\n",
      "\n",
      "Epoch 70: val_loss did not improve from 0.00092\n",
      "\n",
      "Epoch 71: val_loss did not improve from 0.00092\n",
      "\n",
      "Epoch 72: val_loss did not improve from 0.00092\n",
      "\n",
      "Epoch 73: val_loss did not improve from 0.00092\n",
      "\n",
      "Epoch 74: val_loss did not improve from 0.00092\n",
      "\n",
      "Epoch 75: val_loss did not improve from 0.00092\n",
      "\n",
      "Epoch 76: val_loss did not improve from 0.00092\n",
      "\n",
      "Epoch 77: val_loss did not improve from 0.00092\n",
      "\n",
      "Epoch 78: val_loss did not improve from 0.00092\n",
      "\n",
      "Epoch 79: val_loss did not improve from 0.00092\n",
      "\n",
      "Epoch 80: val_loss did not improve from 0.00092\n",
      "\n",
      "Epoch 81: val_loss did not improve from 0.00092\n",
      "\n",
      "Epoch 82: val_loss did not improve from 0.00092\n",
      "\n",
      "Epoch 83: val_loss did not improve from 0.00092\n",
      "\n",
      "Epoch 84: val_loss did not improve from 0.00092\n",
      "\n",
      "Epoch 85: val_loss did not improve from 0.00092\n",
      "\n",
      "Epoch 86: val_loss did not improve from 0.00092\n",
      "\n",
      "Epoch 87: val_loss did not improve from 0.00092\n",
      "\n",
      "Epoch 88: val_loss did not improve from 0.00092\n",
      "\n",
      "Epoch 89: val_loss did not improve from 0.00092\n",
      "\n",
      "Epoch 90: val_loss did not improve from 0.00092\n",
      "\n",
      "Epoch 91: val_loss did not improve from 0.00092\n",
      "\n",
      "Epoch 92: val_loss did not improve from 0.00092\n",
      "\n",
      "Epoch 93: val_loss did not improve from 0.00092\n",
      "\n",
      "Epoch 94: val_loss did not improve from 0.00092\n",
      "\n",
      "Epoch 95: val_loss did not improve from 0.00092\n",
      "\n",
      "Epoch 96: val_loss did not improve from 0.00092\n",
      "\n",
      "Epoch 97: val_loss did not improve from 0.00092\n",
      "\n",
      "Epoch 98: val_loss did not improve from 0.00092\n",
      "\n",
      "Epoch 99: val_loss did not improve from 0.00092\n",
      "\n",
      "Epoch 100: val_loss did not improve from 0.00092\n",
      "\n",
      "Epoch 101: val_loss did not improve from 0.00092\n",
      "\n",
      "Epoch 102: val_loss did not improve from 0.00092\n",
      "\n",
      "Epoch 103: val_loss did not improve from 0.00092\n",
      "\n",
      "Epoch 104: val_loss did not improve from 0.00092\n",
      "\n",
      "Epoch 105: val_loss did not improve from 0.00092\n",
      "\n",
      "Epoch 106: val_loss did not improve from 0.00092\n",
      "\n",
      "Epoch 107: val_loss did not improve from 0.00092\n",
      "\n",
      "Epoch 108: val_loss did not improve from 0.00092\n",
      "\n",
      "Epoch 109: val_loss did not improve from 0.00092\n",
      "\n",
      "Epoch 110: val_loss did not improve from 0.00092\n",
      "\n",
      "Epoch 111: val_loss did not improve from 0.00092\n",
      "\n",
      "Epoch 112: val_loss did not improve from 0.00092\n",
      "\n",
      "Epoch 113: val_loss did not improve from 0.00092\n",
      "\n",
      "Epoch 114: val_loss did not improve from 0.00092\n",
      "\n",
      "Epoch 115: val_loss did not improve from 0.00092\n",
      "\n",
      "Epoch 116: val_loss did not improve from 0.00092\n",
      "\n",
      "Epoch 117: val_loss did not improve from 0.00092\n",
      "\n",
      "Epoch 118: val_loss did not improve from 0.00092\n",
      "\n",
      "Epoch 119: val_loss did not improve from 0.00092\n",
      "\n",
      "Epoch 120: val_loss did not improve from 0.00092\n",
      "\n",
      "Epoch 121: val_loss did not improve from 0.00092\n",
      "\n",
      "Epoch 122: val_loss did not improve from 0.00092\n",
      "\n",
      "Epoch 123: val_loss did not improve from 0.00092\n",
      "\n",
      "Epoch 124: val_loss did not improve from 0.00092\n",
      "\n",
      "Epoch 125: val_loss did not improve from 0.00092\n",
      "\n",
      "Epoch 126: val_loss did not improve from 0.00092\n",
      "\n",
      "Epoch 127: val_loss did not improve from 0.00092\n",
      "\n",
      "Epoch 128: val_loss did not improve from 0.00092\n",
      "\n",
      "Epoch 129: val_loss did not improve from 0.00092\n",
      "\n",
      "Epoch 130: val_loss did not improve from 0.00092\n",
      "\n",
      "Epoch 131: val_loss did not improve from 0.00092\n",
      "\n",
      "Epoch 132: val_loss did not improve from 0.00092\n",
      "\n",
      "Epoch 133: val_loss did not improve from 0.00092\n",
      "\n",
      "Epoch 134: val_loss did not improve from 0.00092\n",
      "\n",
      "Epoch 135: val_loss did not improve from 0.00092\n",
      "\n",
      "Epoch 136: val_loss did not improve from 0.00092\n",
      "\n",
      "Epoch 137: val_loss did not improve from 0.00092\n",
      "\n",
      "Epoch 138: val_loss did not improve from 0.00092\n",
      "\n",
      "Epoch 139: val_loss did not improve from 0.00092\n",
      "\n",
      "Epoch 140: val_loss did not improve from 0.00092\n",
      "\n",
      "Epoch 141: val_loss did not improve from 0.00092\n",
      "\n",
      "Epoch 142: val_loss did not improve from 0.00092\n",
      "\n",
      "Epoch 143: val_loss did not improve from 0.00092\n",
      "\n",
      "Epoch 144: val_loss did not improve from 0.00092\n",
      "\n",
      "Epoch 145: val_loss did not improve from 0.00092\n",
      "\n",
      "Epoch 146: val_loss did not improve from 0.00092\n",
      "\n",
      "Epoch 147: val_loss did not improve from 0.00092\n",
      "\n",
      "Epoch 148: val_loss did not improve from 0.00092\n",
      "\n",
      "Epoch 149: val_loss did not improve from 0.00092\n",
      "Epoch 149: early stopping\n",
      "\u001b[1m18/18\u001b[0m \u001b[32m━━━━━━━━━━━━━━━━━━━━\u001b[0m\u001b[37m\u001b[0m \u001b[1m1s\u001b[0m 29ms/step\n",
      "Training with params: {'timesteps': 40, 'hl': [40, 35], 'lr': 0.001, 'batch_size': 32, 'num_epochs': 250}\n"
     ]
    },
    {
     "name": "stderr",
     "output_type": "stream",
     "text": [
      "c:\\Users\\84368\\AppData\\Local\\Programs\\Python\\Python311\\Lib\\site-packages\\keras\\src\\layers\\rnn\\rnn.py:200: UserWarning: Do not pass an `input_shape`/`input_dim` argument to a layer. When using Sequential models, prefer using an `Input(shape)` object as the first layer in the model instead.\n",
      "  super().__init__(**kwargs)\n"
     ]
    },
    {
     "name": "stdout",
     "output_type": "stream",
     "text": [
      "\n",
      "Epoch 1: val_loss did not improve from 0.00092\n",
      "\n",
      "Epoch 2: val_loss did not improve from 0.00092\n",
      "\n",
      "Epoch 3: val_loss did not improve from 0.00092\n",
      "\n",
      "Epoch 4: val_loss did not improve from 0.00092\n",
      "\n",
      "Epoch 5: val_loss did not improve from 0.00092\n",
      "\n",
      "Epoch 6: val_loss did not improve from 0.00092\n",
      "\n",
      "Epoch 7: val_loss did not improve from 0.00092\n",
      "\n",
      "Epoch 8: val_loss did not improve from 0.00092\n",
      "\n",
      "Epoch 9: val_loss did not improve from 0.00092\n",
      "\n",
      "Epoch 10: val_loss did not improve from 0.00092\n",
      "\n",
      "Epoch 11: val_loss did not improve from 0.00092\n",
      "\n",
      "Epoch 12: val_loss did not improve from 0.00092\n",
      "\n",
      "Epoch 13: val_loss did not improve from 0.00092\n",
      "\n",
      "Epoch 14: val_loss did not improve from 0.00092\n",
      "\n",
      "Epoch 15: val_loss did not improve from 0.00092\n",
      "\n",
      "Epoch 16: val_loss did not improve from 0.00092\n",
      "\n",
      "Epoch 17: val_loss did not improve from 0.00092\n",
      "\n",
      "Epoch 18: val_loss did not improve from 0.00092\n",
      "\n",
      "Epoch 19: val_loss did not improve from 0.00092\n",
      "\n",
      "Epoch 20: val_loss did not improve from 0.00092\n",
      "\n",
      "Epoch 21: val_loss did not improve from 0.00092\n",
      "\n",
      "Epoch 22: val_loss did not improve from 0.00092\n",
      "\n",
      "Epoch 23: val_loss did not improve from 0.00092\n",
      "\n",
      "Epoch 24: val_loss did not improve from 0.00092\n",
      "\n",
      "Epoch 25: val_loss did not improve from 0.00092\n",
      "\n",
      "Epoch 26: val_loss did not improve from 0.00092\n",
      "\n",
      "Epoch 27: val_loss did not improve from 0.00092\n",
      "\n",
      "Epoch 28: val_loss did not improve from 0.00092\n",
      "\n",
      "Epoch 29: val_loss did not improve from 0.00092\n",
      "\n",
      "Epoch 30: val_loss did not improve from 0.00092\n",
      "\n",
      "Epoch 31: val_loss did not improve from 0.00092\n",
      "\n",
      "Epoch 32: val_loss did not improve from 0.00092\n",
      "\n",
      "Epoch 33: val_loss did not improve from 0.00092\n",
      "\n",
      "Epoch 34: val_loss did not improve from 0.00092\n",
      "\n",
      "Epoch 35: val_loss did not improve from 0.00092\n",
      "\n",
      "Epoch 36: val_loss did not improve from 0.00092\n",
      "\n",
      "Epoch 37: val_loss did not improve from 0.00092\n",
      "\n",
      "Epoch 38: val_loss did not improve from 0.00092\n",
      "\n",
      "Epoch 39: val_loss did not improve from 0.00092\n",
      "\n",
      "Epoch 40: val_loss did not improve from 0.00092\n",
      "\n",
      "Epoch 41: val_loss did not improve from 0.00092\n",
      "\n",
      "Epoch 42: val_loss did not improve from 0.00092\n",
      "\n",
      "Epoch 43: val_loss did not improve from 0.00092\n",
      "\n",
      "Epoch 44: val_loss did not improve from 0.00092\n",
      "\n",
      "Epoch 45: val_loss did not improve from 0.00092\n",
      "\n",
      "Epoch 46: val_loss did not improve from 0.00092\n",
      "\n",
      "Epoch 47: val_loss did not improve from 0.00092\n",
      "\n",
      "Epoch 48: val_loss did not improve from 0.00092\n",
      "\n",
      "Epoch 49: val_loss did not improve from 0.00092\n",
      "\n",
      "Epoch 50: val_loss did not improve from 0.00092\n",
      "\n",
      "Epoch 51: val_loss did not improve from 0.00092\n",
      "\n",
      "Epoch 52: val_loss did not improve from 0.00092\n",
      "\n",
      "Epoch 53: val_loss did not improve from 0.00092\n",
      "\n",
      "Epoch 54: val_loss did not improve from 0.00092\n",
      "\n",
      "Epoch 55: val_loss did not improve from 0.00092\n",
      "\n",
      "Epoch 56: val_loss did not improve from 0.00092\n",
      "\n",
      "Epoch 57: val_loss did not improve from 0.00092\n",
      "\n",
      "Epoch 58: val_loss did not improve from 0.00092\n",
      "\n",
      "Epoch 59: val_loss did not improve from 0.00092\n",
      "\n",
      "Epoch 60: val_loss did not improve from 0.00092\n",
      "\n",
      "Epoch 61: val_loss did not improve from 0.00092\n",
      "\n",
      "Epoch 62: val_loss did not improve from 0.00092\n",
      "\n",
      "Epoch 63: val_loss did not improve from 0.00092\n",
      "\n",
      "Epoch 64: val_loss did not improve from 0.00092\n",
      "\n",
      "Epoch 65: val_loss did not improve from 0.00092\n",
      "\n",
      "Epoch 66: val_loss did not improve from 0.00092\n",
      "\n",
      "Epoch 67: val_loss did not improve from 0.00092\n",
      "\n",
      "Epoch 68: val_loss did not improve from 0.00092\n",
      "\n",
      "Epoch 69: val_loss did not improve from 0.00092\n",
      "\n",
      "Epoch 70: val_loss did not improve from 0.00092\n",
      "\n",
      "Epoch 71: val_loss did not improve from 0.00092\n",
      "\n",
      "Epoch 72: val_loss did not improve from 0.00092\n",
      "\n",
      "Epoch 73: val_loss did not improve from 0.00092\n",
      "\n",
      "Epoch 74: val_loss did not improve from 0.00092\n",
      "\n",
      "Epoch 75: val_loss did not improve from 0.00092\n",
      "\n",
      "Epoch 76: val_loss did not improve from 0.00092\n",
      "\n",
      "Epoch 77: val_loss did not improve from 0.00092\n",
      "\n",
      "Epoch 78: val_loss did not improve from 0.00092\n",
      "\n",
      "Epoch 79: val_loss did not improve from 0.00092\n",
      "\n",
      "Epoch 80: val_loss did not improve from 0.00092\n",
      "\n",
      "Epoch 81: val_loss did not improve from 0.00092\n",
      "\n",
      "Epoch 82: val_loss did not improve from 0.00092\n",
      "\n",
      "Epoch 83: val_loss did not improve from 0.00092\n",
      "\n",
      "Epoch 84: val_loss did not improve from 0.00092\n",
      "\n",
      "Epoch 85: val_loss did not improve from 0.00092\n",
      "\n",
      "Epoch 86: val_loss did not improve from 0.00092\n",
      "\n",
      "Epoch 87: val_loss did not improve from 0.00092\n",
      "\n",
      "Epoch 88: val_loss did not improve from 0.00092\n",
      "\n",
      "Epoch 89: val_loss did not improve from 0.00092\n",
      "\n",
      "Epoch 90: val_loss did not improve from 0.00092\n",
      "\n",
      "Epoch 91: val_loss did not improve from 0.00092\n",
      "\n",
      "Epoch 92: val_loss did not improve from 0.00092\n",
      "\n",
      "Epoch 93: val_loss did not improve from 0.00092\n",
      "\n",
      "Epoch 94: val_loss did not improve from 0.00092\n",
      "\n",
      "Epoch 95: val_loss did not improve from 0.00092\n",
      "\n",
      "Epoch 96: val_loss did not improve from 0.00092\n",
      "\n",
      "Epoch 97: val_loss did not improve from 0.00092\n",
      "\n",
      "Epoch 98: val_loss did not improve from 0.00092\n",
      "\n",
      "Epoch 99: val_loss did not improve from 0.00092\n",
      "\n",
      "Epoch 100: val_loss did not improve from 0.00092\n",
      "\n",
      "Epoch 101: val_loss did not improve from 0.00092\n",
      "\n",
      "Epoch 102: val_loss did not improve from 0.00092\n",
      "\n",
      "Epoch 103: val_loss did not improve from 0.00092\n",
      "\n",
      "Epoch 104: val_loss did not improve from 0.00092\n",
      "\n",
      "Epoch 105: val_loss did not improve from 0.00092\n",
      "\n",
      "Epoch 106: val_loss did not improve from 0.00092\n",
      "\n",
      "Epoch 107: val_loss did not improve from 0.00092\n",
      "\n",
      "Epoch 108: val_loss did not improve from 0.00092\n",
      "\n",
      "Epoch 109: val_loss did not improve from 0.00092\n",
      "\n",
      "Epoch 110: val_loss did not improve from 0.00092\n",
      "\n",
      "Epoch 111: val_loss did not improve from 0.00092\n",
      "\n",
      "Epoch 112: val_loss did not improve from 0.00092\n",
      "\n",
      "Epoch 113: val_loss did not improve from 0.00092\n",
      "\n",
      "Epoch 114: val_loss did not improve from 0.00092\n",
      "\n",
      "Epoch 115: val_loss did not improve from 0.00092\n",
      "\n",
      "Epoch 116: val_loss did not improve from 0.00092\n",
      "\n",
      "Epoch 117: val_loss did not improve from 0.00092\n",
      "\n",
      "Epoch 118: val_loss did not improve from 0.00092\n",
      "\n",
      "Epoch 119: val_loss did not improve from 0.00092\n",
      "\n",
      "Epoch 120: val_loss did not improve from 0.00092\n",
      "\n",
      "Epoch 121: val_loss did not improve from 0.00092\n",
      "\n",
      "Epoch 122: val_loss did not improve from 0.00092\n",
      "\n",
      "Epoch 123: val_loss did not improve from 0.00092\n",
      "\n",
      "Epoch 124: val_loss did not improve from 0.00092\n",
      "\n",
      "Epoch 125: val_loss did not improve from 0.00092\n",
      "\n",
      "Epoch 126: val_loss did not improve from 0.00092\n",
      "\n",
      "Epoch 127: val_loss did not improve from 0.00092\n",
      "\n",
      "Epoch 128: val_loss did not improve from 0.00092\n",
      "\n",
      "Epoch 129: val_loss did not improve from 0.00092\n",
      "\n",
      "Epoch 130: val_loss did not improve from 0.00092\n",
      "\n",
      "Epoch 131: val_loss did not improve from 0.00092\n",
      "\n",
      "Epoch 132: val_loss did not improve from 0.00092\n",
      "\n",
      "Epoch 133: val_loss did not improve from 0.00092\n",
      "\n",
      "Epoch 134: val_loss did not improve from 0.00092\n",
      "\n",
      "Epoch 135: val_loss did not improve from 0.00092\n",
      "\n",
      "Epoch 136: val_loss did not improve from 0.00092\n",
      "Epoch 136: early stopping\n",
      "\u001b[1m18/18\u001b[0m \u001b[32m━━━━━━━━━━━━━━━━━━━━\u001b[0m\u001b[37m\u001b[0m \u001b[1m3s\u001b[0m 82ms/step\n",
      "Training with params: {'timesteps': 40, 'hl': [40, 35], 'lr': 0.001, 'batch_size': 64, 'num_epochs': 200}\n"
     ]
    },
    {
     "name": "stderr",
     "output_type": "stream",
     "text": [
      "c:\\Users\\84368\\AppData\\Local\\Programs\\Python\\Python311\\Lib\\site-packages\\keras\\src\\layers\\rnn\\rnn.py:200: UserWarning: Do not pass an `input_shape`/`input_dim` argument to a layer. When using Sequential models, prefer using an `Input(shape)` object as the first layer in the model instead.\n",
      "  super().__init__(**kwargs)\n"
     ]
    },
    {
     "name": "stdout",
     "output_type": "stream",
     "text": [
      "\n",
      "Epoch 1: val_loss did not improve from 0.00092\n",
      "\n",
      "Epoch 2: val_loss did not improve from 0.00092\n",
      "\n",
      "Epoch 3: val_loss did not improve from 0.00092\n",
      "\n",
      "Epoch 4: val_loss did not improve from 0.00092\n",
      "\n",
      "Epoch 5: val_loss did not improve from 0.00092\n",
      "\n",
      "Epoch 6: val_loss did not improve from 0.00092\n",
      "\n",
      "Epoch 7: val_loss did not improve from 0.00092\n",
      "\n",
      "Epoch 8: val_loss did not improve from 0.00092\n",
      "\n",
      "Epoch 9: val_loss did not improve from 0.00092\n",
      "\n",
      "Epoch 10: val_loss did not improve from 0.00092\n",
      "\n",
      "Epoch 11: val_loss did not improve from 0.00092\n",
      "\n",
      "Epoch 12: val_loss did not improve from 0.00092\n",
      "\n",
      "Epoch 13: val_loss did not improve from 0.00092\n",
      "\n",
      "Epoch 14: val_loss did not improve from 0.00092\n",
      "\n",
      "Epoch 15: val_loss did not improve from 0.00092\n",
      "\n",
      "Epoch 16: val_loss did not improve from 0.00092\n",
      "\n",
      "Epoch 17: val_loss did not improve from 0.00092\n",
      "\n",
      "Epoch 18: val_loss did not improve from 0.00092\n",
      "\n",
      "Epoch 19: val_loss did not improve from 0.00092\n",
      "\n",
      "Epoch 20: val_loss did not improve from 0.00092\n",
      "\n",
      "Epoch 21: val_loss did not improve from 0.00092\n",
      "\n",
      "Epoch 22: val_loss did not improve from 0.00092\n",
      "\n",
      "Epoch 23: val_loss did not improve from 0.00092\n",
      "\n",
      "Epoch 24: val_loss did not improve from 0.00092\n",
      "\n",
      "Epoch 25: val_loss did not improve from 0.00092\n",
      "\n",
      "Epoch 26: val_loss did not improve from 0.00092\n",
      "\n",
      "Epoch 27: val_loss did not improve from 0.00092\n",
      "\n",
      "Epoch 28: val_loss did not improve from 0.00092\n",
      "\n",
      "Epoch 29: val_loss did not improve from 0.00092\n",
      "\n",
      "Epoch 30: val_loss did not improve from 0.00092\n",
      "\n",
      "Epoch 31: val_loss did not improve from 0.00092\n",
      "\n",
      "Epoch 32: val_loss did not improve from 0.00092\n",
      "\n",
      "Epoch 33: val_loss did not improve from 0.00092\n",
      "\n",
      "Epoch 34: val_loss did not improve from 0.00092\n",
      "\n",
      "Epoch 35: val_loss did not improve from 0.00092\n",
      "\n",
      "Epoch 36: val_loss did not improve from 0.00092\n",
      "\n",
      "Epoch 37: val_loss did not improve from 0.00092\n",
      "\n",
      "Epoch 38: val_loss did not improve from 0.00092\n",
      "\n",
      "Epoch 39: val_loss did not improve from 0.00092\n",
      "\n",
      "Epoch 40: val_loss did not improve from 0.00092\n",
      "\n",
      "Epoch 41: val_loss did not improve from 0.00092\n",
      "\n",
      "Epoch 42: val_loss did not improve from 0.00092\n",
      "\n",
      "Epoch 43: val_loss did not improve from 0.00092\n",
      "\n",
      "Epoch 44: val_loss did not improve from 0.00092\n",
      "\n",
      "Epoch 45: val_loss did not improve from 0.00092\n",
      "\n",
      "Epoch 46: val_loss did not improve from 0.00092\n",
      "\n",
      "Epoch 47: val_loss did not improve from 0.00092\n",
      "\n",
      "Epoch 48: val_loss did not improve from 0.00092\n",
      "\n",
      "Epoch 49: val_loss did not improve from 0.00092\n",
      "\n",
      "Epoch 50: val_loss did not improve from 0.00092\n",
      "\n",
      "Epoch 51: val_loss did not improve from 0.00092\n",
      "\n",
      "Epoch 52: val_loss did not improve from 0.00092\n",
      "\n",
      "Epoch 53: val_loss did not improve from 0.00092\n",
      "\n",
      "Epoch 54: val_loss did not improve from 0.00092\n",
      "\n",
      "Epoch 55: val_loss did not improve from 0.00092\n",
      "\n",
      "Epoch 56: val_loss did not improve from 0.00092\n",
      "\n",
      "Epoch 57: val_loss did not improve from 0.00092\n",
      "\n",
      "Epoch 58: val_loss did not improve from 0.00092\n",
      "\n",
      "Epoch 59: val_loss did not improve from 0.00092\n",
      "\n",
      "Epoch 60: val_loss did not improve from 0.00092\n",
      "\n",
      "Epoch 61: val_loss did not improve from 0.00092\n",
      "\n",
      "Epoch 62: val_loss did not improve from 0.00092\n",
      "\n",
      "Epoch 63: val_loss did not improve from 0.00092\n",
      "\n",
      "Epoch 64: val_loss did not improve from 0.00092\n",
      "\n",
      "Epoch 65: val_loss did not improve from 0.00092\n",
      "\n",
      "Epoch 66: val_loss did not improve from 0.00092\n",
      "\n",
      "Epoch 67: val_loss did not improve from 0.00092\n",
      "\n",
      "Epoch 68: val_loss did not improve from 0.00092\n",
      "\n",
      "Epoch 69: val_loss did not improve from 0.00092\n",
      "\n",
      "Epoch 70: val_loss did not improve from 0.00092\n",
      "\n",
      "Epoch 71: val_loss did not improve from 0.00092\n",
      "\n",
      "Epoch 72: val_loss did not improve from 0.00092\n",
      "\n",
      "Epoch 73: val_loss did not improve from 0.00092\n",
      "\n",
      "Epoch 74: val_loss did not improve from 0.00092\n",
      "\n",
      "Epoch 75: val_loss did not improve from 0.00092\n",
      "\n",
      "Epoch 76: val_loss did not improve from 0.00092\n",
      "\n",
      "Epoch 77: val_loss did not improve from 0.00092\n",
      "\n",
      "Epoch 78: val_loss did not improve from 0.00092\n",
      "\n",
      "Epoch 79: val_loss did not improve from 0.00092\n",
      "\n",
      "Epoch 80: val_loss did not improve from 0.00092\n",
      "\n",
      "Epoch 81: val_loss did not improve from 0.00092\n",
      "\n",
      "Epoch 82: val_loss did not improve from 0.00092\n",
      "\n",
      "Epoch 83: val_loss did not improve from 0.00092\n",
      "\n",
      "Epoch 84: val_loss did not improve from 0.00092\n",
      "\n",
      "Epoch 85: val_loss did not improve from 0.00092\n",
      "\n",
      "Epoch 86: val_loss did not improve from 0.00092\n",
      "\n",
      "Epoch 87: val_loss did not improve from 0.00092\n",
      "\n",
      "Epoch 88: val_loss did not improve from 0.00092\n",
      "\n",
      "Epoch 89: val_loss did not improve from 0.00092\n",
      "\n",
      "Epoch 90: val_loss did not improve from 0.00092\n",
      "\n",
      "Epoch 91: val_loss did not improve from 0.00092\n",
      "\n",
      "Epoch 92: val_loss did not improve from 0.00092\n",
      "\n",
      "Epoch 93: val_loss did not improve from 0.00092\n",
      "\n",
      "Epoch 94: val_loss did not improve from 0.00092\n",
      "\n",
      "Epoch 95: val_loss did not improve from 0.00092\n",
      "\n",
      "Epoch 96: val_loss did not improve from 0.00092\n",
      "\n",
      "Epoch 97: val_loss did not improve from 0.00092\n",
      "\n",
      "Epoch 98: val_loss did not improve from 0.00092\n",
      "\n",
      "Epoch 99: val_loss did not improve from 0.00092\n",
      "\n",
      "Epoch 100: val_loss did not improve from 0.00092\n",
      "\n",
      "Epoch 101: val_loss did not improve from 0.00092\n",
      "\n",
      "Epoch 102: val_loss did not improve from 0.00092\n",
      "\n",
      "Epoch 103: val_loss did not improve from 0.00092\n",
      "\n",
      "Epoch 104: val_loss did not improve from 0.00092\n",
      "\n",
      "Epoch 105: val_loss did not improve from 0.00092\n",
      "\n",
      "Epoch 106: val_loss did not improve from 0.00092\n",
      "\n",
      "Epoch 107: val_loss did not improve from 0.00092\n",
      "\n",
      "Epoch 108: val_loss did not improve from 0.00092\n",
      "\n",
      "Epoch 109: val_loss did not improve from 0.00092\n",
      "\n",
      "Epoch 110: val_loss did not improve from 0.00092\n",
      "\n",
      "Epoch 111: val_loss did not improve from 0.00092\n",
      "\n",
      "Epoch 112: val_loss did not improve from 0.00092\n",
      "\n",
      "Epoch 113: val_loss did not improve from 0.00092\n",
      "\n",
      "Epoch 114: val_loss did not improve from 0.00092\n",
      "\n",
      "Epoch 115: val_loss did not improve from 0.00092\n",
      "\n",
      "Epoch 116: val_loss did not improve from 0.00092\n",
      "\n",
      "Epoch 117: val_loss did not improve from 0.00092\n",
      "\n",
      "Epoch 118: val_loss did not improve from 0.00092\n",
      "\n",
      "Epoch 119: val_loss did not improve from 0.00092\n",
      "\n",
      "Epoch 120: val_loss did not improve from 0.00092\n",
      "\n",
      "Epoch 121: val_loss did not improve from 0.00092\n",
      "\n",
      "Epoch 122: val_loss did not improve from 0.00092\n",
      "\n",
      "Epoch 123: val_loss did not improve from 0.00092\n",
      "\n",
      "Epoch 124: val_loss did not improve from 0.00092\n",
      "\n",
      "Epoch 125: val_loss did not improve from 0.00092\n",
      "\n",
      "Epoch 126: val_loss did not improve from 0.00092\n",
      "\n",
      "Epoch 127: val_loss did not improve from 0.00092\n",
      "\n",
      "Epoch 128: val_loss did not improve from 0.00092\n",
      "\n",
      "Epoch 129: val_loss did not improve from 0.00092\n",
      "\n",
      "Epoch 130: val_loss did not improve from 0.00092\n",
      "\n",
      "Epoch 131: val_loss did not improve from 0.00092\n",
      "\n",
      "Epoch 132: val_loss did not improve from 0.00092\n",
      "\n",
      "Epoch 133: val_loss did not improve from 0.00092\n",
      "\n",
      "Epoch 134: val_loss did not improve from 0.00092\n",
      "\n",
      "Epoch 135: val_loss did not improve from 0.00092\n",
      "\n",
      "Epoch 136: val_loss did not improve from 0.00092\n",
      "\n",
      "Epoch 137: val_loss did not improve from 0.00092\n",
      "\n",
      "Epoch 138: val_loss did not improve from 0.00092\n",
      "\n",
      "Epoch 139: val_loss did not improve from 0.00092\n",
      "\n",
      "Epoch 140: val_loss did not improve from 0.00092\n",
      "\n",
      "Epoch 141: val_loss did not improve from 0.00092\n",
      "\n",
      "Epoch 142: val_loss did not improve from 0.00092\n",
      "\n",
      "Epoch 143: val_loss did not improve from 0.00092\n",
      "\n",
      "Epoch 144: val_loss did not improve from 0.00092\n",
      "\n",
      "Epoch 145: val_loss did not improve from 0.00092\n",
      "\n",
      "Epoch 146: val_loss did not improve from 0.00092\n",
      "Epoch 146: early stopping\n",
      "\u001b[1m18/18\u001b[0m \u001b[32m━━━━━━━━━━━━━━━━━━━━\u001b[0m\u001b[37m\u001b[0m \u001b[1m2s\u001b[0m 82ms/step\n",
      "Training with params: {'timesteps': 40, 'hl': [40, 35], 'lr': 0.001, 'batch_size': 64, 'num_epochs': 250}\n"
     ]
    },
    {
     "name": "stderr",
     "output_type": "stream",
     "text": [
      "c:\\Users\\84368\\AppData\\Local\\Programs\\Python\\Python311\\Lib\\site-packages\\keras\\src\\layers\\rnn\\rnn.py:200: UserWarning: Do not pass an `input_shape`/`input_dim` argument to a layer. When using Sequential models, prefer using an `Input(shape)` object as the first layer in the model instead.\n",
      "  super().__init__(**kwargs)\n"
     ]
    },
    {
     "name": "stdout",
     "output_type": "stream",
     "text": [
      "\n",
      "Epoch 1: val_loss did not improve from 0.00092\n",
      "\n",
      "Epoch 2: val_loss did not improve from 0.00092\n",
      "\n",
      "Epoch 3: val_loss did not improve from 0.00092\n",
      "\n",
      "Epoch 4: val_loss did not improve from 0.00092\n",
      "\n",
      "Epoch 5: val_loss did not improve from 0.00092\n",
      "\n",
      "Epoch 6: val_loss did not improve from 0.00092\n",
      "\n",
      "Epoch 7: val_loss did not improve from 0.00092\n",
      "\n",
      "Epoch 8: val_loss did not improve from 0.00092\n",
      "\n",
      "Epoch 9: val_loss did not improve from 0.00092\n",
      "\n",
      "Epoch 10: val_loss did not improve from 0.00092\n",
      "\n",
      "Epoch 11: val_loss did not improve from 0.00092\n",
      "\n",
      "Epoch 12: val_loss did not improve from 0.00092\n",
      "\n",
      "Epoch 13: val_loss did not improve from 0.00092\n",
      "\n",
      "Epoch 14: val_loss did not improve from 0.00092\n",
      "\n",
      "Epoch 15: val_loss did not improve from 0.00092\n",
      "\n",
      "Epoch 16: val_loss did not improve from 0.00092\n",
      "\n",
      "Epoch 17: val_loss did not improve from 0.00092\n",
      "\n",
      "Epoch 18: val_loss did not improve from 0.00092\n",
      "\n",
      "Epoch 19: val_loss did not improve from 0.00092\n",
      "\n",
      "Epoch 20: val_loss did not improve from 0.00092\n",
      "\n",
      "Epoch 21: val_loss did not improve from 0.00092\n",
      "\n",
      "Epoch 22: val_loss did not improve from 0.00092\n",
      "\n",
      "Epoch 23: val_loss did not improve from 0.00092\n",
      "\n",
      "Epoch 24: val_loss did not improve from 0.00092\n",
      "\n",
      "Epoch 25: val_loss did not improve from 0.00092\n",
      "\n",
      "Epoch 26: val_loss did not improve from 0.00092\n",
      "\n",
      "Epoch 27: val_loss did not improve from 0.00092\n",
      "\n",
      "Epoch 28: val_loss did not improve from 0.00092\n",
      "\n",
      "Epoch 29: val_loss did not improve from 0.00092\n",
      "\n",
      "Epoch 30: val_loss did not improve from 0.00092\n",
      "\n",
      "Epoch 31: val_loss did not improve from 0.00092\n",
      "\n",
      "Epoch 32: val_loss did not improve from 0.00092\n",
      "\n",
      "Epoch 33: val_loss did not improve from 0.00092\n",
      "\n",
      "Epoch 34: val_loss did not improve from 0.00092\n",
      "\n",
      "Epoch 35: val_loss did not improve from 0.00092\n",
      "\n",
      "Epoch 36: val_loss did not improve from 0.00092\n",
      "\n",
      "Epoch 37: val_loss did not improve from 0.00092\n",
      "\n",
      "Epoch 38: val_loss did not improve from 0.00092\n",
      "\n",
      "Epoch 39: val_loss did not improve from 0.00092\n",
      "\n",
      "Epoch 40: val_loss did not improve from 0.00092\n",
      "\n",
      "Epoch 41: val_loss did not improve from 0.00092\n",
      "\n",
      "Epoch 42: val_loss did not improve from 0.00092\n",
      "\n",
      "Epoch 43: val_loss did not improve from 0.00092\n",
      "\n",
      "Epoch 44: val_loss did not improve from 0.00092\n",
      "\n",
      "Epoch 45: val_loss did not improve from 0.00092\n",
      "\n",
      "Epoch 46: val_loss did not improve from 0.00092\n",
      "\n",
      "Epoch 47: val_loss did not improve from 0.00092\n",
      "\n",
      "Epoch 48: val_loss did not improve from 0.00092\n",
      "\n",
      "Epoch 49: val_loss did not improve from 0.00092\n",
      "\n",
      "Epoch 50: val_loss did not improve from 0.00092\n",
      "\n",
      "Epoch 51: val_loss did not improve from 0.00092\n",
      "\n",
      "Epoch 52: val_loss did not improve from 0.00092\n",
      "\n",
      "Epoch 53: val_loss did not improve from 0.00092\n",
      "\n",
      "Epoch 54: val_loss did not improve from 0.00092\n",
      "\n",
      "Epoch 55: val_loss did not improve from 0.00092\n",
      "\n",
      "Epoch 56: val_loss did not improve from 0.00092\n",
      "\n",
      "Epoch 57: val_loss did not improve from 0.00092\n",
      "\n",
      "Epoch 58: val_loss did not improve from 0.00092\n",
      "\n",
      "Epoch 59: val_loss did not improve from 0.00092\n",
      "\n",
      "Epoch 60: val_loss did not improve from 0.00092\n",
      "\n",
      "Epoch 61: val_loss did not improve from 0.00092\n",
      "\n",
      "Epoch 62: val_loss did not improve from 0.00092\n",
      "\n",
      "Epoch 63: val_loss did not improve from 0.00092\n",
      "\n",
      "Epoch 64: val_loss did not improve from 0.00092\n",
      "\n",
      "Epoch 65: val_loss did not improve from 0.00092\n",
      "\n",
      "Epoch 66: val_loss did not improve from 0.00092\n",
      "\n",
      "Epoch 67: val_loss did not improve from 0.00092\n",
      "\n",
      "Epoch 68: val_loss did not improve from 0.00092\n",
      "\n",
      "Epoch 69: val_loss did not improve from 0.00092\n",
      "\n",
      "Epoch 70: val_loss did not improve from 0.00092\n",
      "\n",
      "Epoch 71: val_loss did not improve from 0.00092\n",
      "\n",
      "Epoch 72: val_loss did not improve from 0.00092\n",
      "\n",
      "Epoch 73: val_loss did not improve from 0.00092\n",
      "\n",
      "Epoch 74: val_loss did not improve from 0.00092\n",
      "\n",
      "Epoch 75: val_loss did not improve from 0.00092\n",
      "\n",
      "Epoch 76: val_loss did not improve from 0.00092\n",
      "\n",
      "Epoch 77: val_loss did not improve from 0.00092\n",
      "\n",
      "Epoch 78: val_loss did not improve from 0.00092\n",
      "\n",
      "Epoch 79: val_loss did not improve from 0.00092\n",
      "\n",
      "Epoch 80: val_loss did not improve from 0.00092\n",
      "\n",
      "Epoch 81: val_loss did not improve from 0.00092\n",
      "\n",
      "Epoch 82: val_loss did not improve from 0.00092\n",
      "\n",
      "Epoch 83: val_loss did not improve from 0.00092\n",
      "\n",
      "Epoch 84: val_loss did not improve from 0.00092\n",
      "\n",
      "Epoch 85: val_loss did not improve from 0.00092\n",
      "\n",
      "Epoch 86: val_loss did not improve from 0.00092\n",
      "\n",
      "Epoch 87: val_loss did not improve from 0.00092\n",
      "\n",
      "Epoch 88: val_loss did not improve from 0.00092\n",
      "\n",
      "Epoch 89: val_loss did not improve from 0.00092\n",
      "\n",
      "Epoch 90: val_loss did not improve from 0.00092\n",
      "\n",
      "Epoch 91: val_loss did not improve from 0.00092\n",
      "\n",
      "Epoch 92: val_loss did not improve from 0.00092\n",
      "\n",
      "Epoch 93: val_loss did not improve from 0.00092\n",
      "\n",
      "Epoch 94: val_loss did not improve from 0.00092\n",
      "\n",
      "Epoch 95: val_loss did not improve from 0.00092\n",
      "\n",
      "Epoch 96: val_loss did not improve from 0.00092\n",
      "\n",
      "Epoch 97: val_loss did not improve from 0.00092\n",
      "\n",
      "Epoch 98: val_loss did not improve from 0.00092\n",
      "\n",
      "Epoch 99: val_loss did not improve from 0.00092\n",
      "\n",
      "Epoch 100: val_loss did not improve from 0.00092\n",
      "\n",
      "Epoch 101: val_loss did not improve from 0.00092\n",
      "\n",
      "Epoch 102: val_loss did not improve from 0.00092\n",
      "\n",
      "Epoch 103: val_loss did not improve from 0.00092\n",
      "\n",
      "Epoch 104: val_loss did not improve from 0.00092\n",
      "\n",
      "Epoch 105: val_loss did not improve from 0.00092\n",
      "\n",
      "Epoch 106: val_loss did not improve from 0.00092\n",
      "\n",
      "Epoch 107: val_loss did not improve from 0.00092\n",
      "\n",
      "Epoch 108: val_loss did not improve from 0.00092\n",
      "\n",
      "Epoch 109: val_loss did not improve from 0.00092\n",
      "\n",
      "Epoch 110: val_loss did not improve from 0.00092\n",
      "\n",
      "Epoch 111: val_loss did not improve from 0.00092\n",
      "\n",
      "Epoch 112: val_loss did not improve from 0.00092\n",
      "\n",
      "Epoch 113: val_loss did not improve from 0.00092\n",
      "\n",
      "Epoch 114: val_loss did not improve from 0.00092\n",
      "\n",
      "Epoch 115: val_loss did not improve from 0.00092\n",
      "\n",
      "Epoch 116: val_loss did not improve from 0.00092\n",
      "\n",
      "Epoch 117: val_loss did not improve from 0.00092\n",
      "\n",
      "Epoch 118: val_loss did not improve from 0.00092\n",
      "\n",
      "Epoch 119: val_loss did not improve from 0.00092\n",
      "\n",
      "Epoch 120: val_loss did not improve from 0.00092\n",
      "\n",
      "Epoch 121: val_loss did not improve from 0.00092\n",
      "\n",
      "Epoch 122: val_loss did not improve from 0.00092\n",
      "\n",
      "Epoch 123: val_loss did not improve from 0.00092\n",
      "\n",
      "Epoch 124: val_loss did not improve from 0.00092\n",
      "\n",
      "Epoch 125: val_loss did not improve from 0.00092\n",
      "\n",
      "Epoch 126: val_loss did not improve from 0.00092\n",
      "\n",
      "Epoch 127: val_loss did not improve from 0.00092\n",
      "\n",
      "Epoch 128: val_loss did not improve from 0.00092\n",
      "\n",
      "Epoch 129: val_loss did not improve from 0.00092\n",
      "\n",
      "Epoch 130: val_loss did not improve from 0.00092\n",
      "\n",
      "Epoch 131: val_loss did not improve from 0.00092\n",
      "\n",
      "Epoch 132: val_loss did not improve from 0.00092\n",
      "\n",
      "Epoch 133: val_loss improved from 0.00092 to 0.00069, saving model to 10Var_vn30_lstm.h5\n"
     ]
    },
    {
     "name": "stderr",
     "output_type": "stream",
     "text": [
      "WARNING:absl:You are saving your model as an HDF5 file via `model.save()` or `keras.saving.save_model(model)`. This file format is considered legacy. We recommend using instead the native Keras format, e.g. `model.save('my_model.keras')` or `keras.saving.save_model(model, 'my_model.keras')`. \n"
     ]
    },
    {
     "name": "stdout",
     "output_type": "stream",
     "text": [
      "\n",
      "Epoch 134: val_loss did not improve from 0.00069\n",
      "\n",
      "Epoch 135: val_loss did not improve from 0.00069\n",
      "\n",
      "Epoch 136: val_loss did not improve from 0.00069\n",
      "\n",
      "Epoch 137: val_loss did not improve from 0.00069\n",
      "\n",
      "Epoch 138: val_loss did not improve from 0.00069\n",
      "\n",
      "Epoch 139: val_loss did not improve from 0.00069\n",
      "\n",
      "Epoch 140: val_loss did not improve from 0.00069\n",
      "\n",
      "Epoch 141: val_loss did not improve from 0.00069\n",
      "\n",
      "Epoch 142: val_loss did not improve from 0.00069\n",
      "\n",
      "Epoch 143: val_loss did not improve from 0.00069\n",
      "\n",
      "Epoch 144: val_loss did not improve from 0.00069\n",
      "\n",
      "Epoch 145: val_loss did not improve from 0.00069\n",
      "\n",
      "Epoch 146: val_loss did not improve from 0.00069\n",
      "\n",
      "Epoch 147: val_loss did not improve from 0.00069\n",
      "\n",
      "Epoch 148: val_loss did not improve from 0.00069\n",
      "\n",
      "Epoch 149: val_loss did not improve from 0.00069\n",
      "\n",
      "Epoch 150: val_loss did not improve from 0.00069\n",
      "\n",
      "Epoch 151: val_loss did not improve from 0.00069\n",
      "\n",
      "Epoch 152: val_loss did not improve from 0.00069\n",
      "\n",
      "Epoch 153: val_loss did not improve from 0.00069\n",
      "\n",
      "Epoch 154: val_loss did not improve from 0.00069\n",
      "\n",
      "Epoch 155: val_loss did not improve from 0.00069\n",
      "\n",
      "Epoch 156: val_loss did not improve from 0.00069\n",
      "\n",
      "Epoch 157: val_loss did not improve from 0.00069\n",
      "\n",
      "Epoch 158: val_loss did not improve from 0.00069\n",
      "\n",
      "Epoch 159: val_loss did not improve from 0.00069\n",
      "\n",
      "Epoch 160: val_loss did not improve from 0.00069\n",
      "\n",
      "Epoch 161: val_loss did not improve from 0.00069\n",
      "\n",
      "Epoch 162: val_loss did not improve from 0.00069\n",
      "\n",
      "Epoch 163: val_loss did not improve from 0.00069\n",
      "\n",
      "Epoch 164: val_loss did not improve from 0.00069\n",
      "\n",
      "Epoch 165: val_loss did not improve from 0.00069\n",
      "\n",
      "Epoch 166: val_loss did not improve from 0.00069\n",
      "\n",
      "Epoch 167: val_loss did not improve from 0.00069\n",
      "\n",
      "Epoch 168: val_loss did not improve from 0.00069\n",
      "\n",
      "Epoch 169: val_loss did not improve from 0.00069\n",
      "\n",
      "Epoch 170: val_loss did not improve from 0.00069\n",
      "\n",
      "Epoch 171: val_loss did not improve from 0.00069\n",
      "\n",
      "Epoch 172: val_loss did not improve from 0.00069\n",
      "\n",
      "Epoch 173: val_loss did not improve from 0.00069\n",
      "\n",
      "Epoch 174: val_loss did not improve from 0.00069\n",
      "\n",
      "Epoch 175: val_loss did not improve from 0.00069\n",
      "\n",
      "Epoch 176: val_loss did not improve from 0.00069\n",
      "\n",
      "Epoch 177: val_loss did not improve from 0.00069\n",
      "\n",
      "Epoch 178: val_loss did not improve from 0.00069\n",
      "\n",
      "Epoch 179: val_loss did not improve from 0.00069\n",
      "\n",
      "Epoch 180: val_loss did not improve from 0.00069\n",
      "\n",
      "Epoch 181: val_loss did not improve from 0.00069\n",
      "\n",
      "Epoch 182: val_loss did not improve from 0.00069\n",
      "\n",
      "Epoch 183: val_loss did not improve from 0.00069\n",
      "\n",
      "Epoch 184: val_loss did not improve from 0.00069\n",
      "\n",
      "Epoch 185: val_loss did not improve from 0.00069\n",
      "\n",
      "Epoch 186: val_loss did not improve from 0.00069\n",
      "\n",
      "Epoch 187: val_loss did not improve from 0.00069\n",
      "\n",
      "Epoch 188: val_loss did not improve from 0.00069\n",
      "\n",
      "Epoch 189: val_loss did not improve from 0.00069\n",
      "\n",
      "Epoch 190: val_loss did not improve from 0.00069\n",
      "\n",
      "Epoch 191: val_loss did not improve from 0.00069\n",
      "\n",
      "Epoch 192: val_loss did not improve from 0.00069\n",
      "\n",
      "Epoch 193: val_loss did not improve from 0.00069\n",
      "\n",
      "Epoch 194: val_loss did not improve from 0.00069\n",
      "\n",
      "Epoch 195: val_loss did not improve from 0.00069\n",
      "\n",
      "Epoch 196: val_loss did not improve from 0.00069\n",
      "\n",
      "Epoch 197: val_loss did not improve from 0.00069\n",
      "\n",
      "Epoch 198: val_loss did not improve from 0.00069\n",
      "\n",
      "Epoch 199: val_loss did not improve from 0.00069\n",
      "\n",
      "Epoch 200: val_loss did not improve from 0.00069\n",
      "\n",
      "Epoch 201: val_loss did not improve from 0.00069\n",
      "\n",
      "Epoch 202: val_loss did not improve from 0.00069\n",
      "\n",
      "Epoch 203: val_loss did not improve from 0.00069\n",
      "\n",
      "Epoch 204: val_loss did not improve from 0.00069\n",
      "\n",
      "Epoch 205: val_loss did not improve from 0.00069\n",
      "\n",
      "Epoch 206: val_loss did not improve from 0.00069\n",
      "\n",
      "Epoch 207: val_loss did not improve from 0.00069\n",
      "\n",
      "Epoch 208: val_loss did not improve from 0.00069\n",
      "\n",
      "Epoch 209: val_loss did not improve from 0.00069\n",
      "\n",
      "Epoch 210: val_loss did not improve from 0.00069\n",
      "\n",
      "Epoch 211: val_loss did not improve from 0.00069\n",
      "\n",
      "Epoch 212: val_loss did not improve from 0.00069\n",
      "\n",
      "Epoch 213: val_loss did not improve from 0.00069\n",
      "Epoch 213: early stopping\n",
      "\u001b[1m18/18\u001b[0m \u001b[32m━━━━━━━━━━━━━━━━━━━━\u001b[0m\u001b[37m\u001b[0m \u001b[1m2s\u001b[0m 89ms/step\n",
      "Training with params: {'timesteps': 40, 'hl': [40, 35], 'lr': 0.0001, 'batch_size': 32, 'num_epochs': 200}\n"
     ]
    },
    {
     "name": "stderr",
     "output_type": "stream",
     "text": [
      "c:\\Users\\84368\\AppData\\Local\\Programs\\Python\\Python311\\Lib\\site-packages\\keras\\src\\layers\\rnn\\rnn.py:200: UserWarning: Do not pass an `input_shape`/`input_dim` argument to a layer. When using Sequential models, prefer using an `Input(shape)` object as the first layer in the model instead.\n",
      "  super().__init__(**kwargs)\n"
     ]
    },
    {
     "name": "stdout",
     "output_type": "stream",
     "text": [
      "\n",
      "Epoch 1: val_loss did not improve from 0.00069\n",
      "\n",
      "Epoch 2: val_loss did not improve from 0.00069\n",
      "\n",
      "Epoch 3: val_loss did not improve from 0.00069\n",
      "\n",
      "Epoch 4: val_loss did not improve from 0.00069\n",
      "\n",
      "Epoch 5: val_loss did not improve from 0.00069\n",
      "\n",
      "Epoch 6: val_loss did not improve from 0.00069\n",
      "\n",
      "Epoch 7: val_loss did not improve from 0.00069\n",
      "\n",
      "Epoch 8: val_loss did not improve from 0.00069\n",
      "\n",
      "Epoch 9: val_loss did not improve from 0.00069\n",
      "\n",
      "Epoch 10: val_loss did not improve from 0.00069\n",
      "\n",
      "Epoch 11: val_loss did not improve from 0.00069\n",
      "\n",
      "Epoch 12: val_loss did not improve from 0.00069\n",
      "\n",
      "Epoch 13: val_loss did not improve from 0.00069\n",
      "\n",
      "Epoch 14: val_loss did not improve from 0.00069\n",
      "\n",
      "Epoch 15: val_loss did not improve from 0.00069\n",
      "\n",
      "Epoch 16: val_loss did not improve from 0.00069\n",
      "\n",
      "Epoch 17: val_loss did not improve from 0.00069\n",
      "\n",
      "Epoch 18: val_loss did not improve from 0.00069\n",
      "\n",
      "Epoch 19: val_loss did not improve from 0.00069\n",
      "\n",
      "Epoch 20: val_loss did not improve from 0.00069\n",
      "\n",
      "Epoch 21: val_loss did not improve from 0.00069\n",
      "\n",
      "Epoch 22: val_loss did not improve from 0.00069\n",
      "\n",
      "Epoch 23: val_loss did not improve from 0.00069\n",
      "\n",
      "Epoch 24: val_loss did not improve from 0.00069\n",
      "\n",
      "Epoch 25: val_loss did not improve from 0.00069\n",
      "\n",
      "Epoch 26: val_loss did not improve from 0.00069\n",
      "\n",
      "Epoch 27: val_loss did not improve from 0.00069\n",
      "\n",
      "Epoch 28: val_loss did not improve from 0.00069\n",
      "\n",
      "Epoch 29: val_loss did not improve from 0.00069\n",
      "\n",
      "Epoch 30: val_loss did not improve from 0.00069\n",
      "\n",
      "Epoch 31: val_loss did not improve from 0.00069\n",
      "\n",
      "Epoch 32: val_loss did not improve from 0.00069\n",
      "\n",
      "Epoch 33: val_loss did not improve from 0.00069\n",
      "\n",
      "Epoch 34: val_loss did not improve from 0.00069\n",
      "\n",
      "Epoch 35: val_loss did not improve from 0.00069\n",
      "\n",
      "Epoch 36: val_loss did not improve from 0.00069\n",
      "\n",
      "Epoch 37: val_loss did not improve from 0.00069\n",
      "\n",
      "Epoch 38: val_loss did not improve from 0.00069\n",
      "\n",
      "Epoch 39: val_loss did not improve from 0.00069\n",
      "\n",
      "Epoch 40: val_loss did not improve from 0.00069\n",
      "\n",
      "Epoch 41: val_loss did not improve from 0.00069\n",
      "\n",
      "Epoch 42: val_loss did not improve from 0.00069\n",
      "\n",
      "Epoch 43: val_loss did not improve from 0.00069\n",
      "\n",
      "Epoch 44: val_loss did not improve from 0.00069\n",
      "\n",
      "Epoch 45: val_loss did not improve from 0.00069\n",
      "\n",
      "Epoch 46: val_loss did not improve from 0.00069\n",
      "\n",
      "Epoch 47: val_loss did not improve from 0.00069\n",
      "\n",
      "Epoch 48: val_loss did not improve from 0.00069\n",
      "\n",
      "Epoch 49: val_loss did not improve from 0.00069\n",
      "\n",
      "Epoch 50: val_loss did not improve from 0.00069\n",
      "\n",
      "Epoch 51: val_loss did not improve from 0.00069\n",
      "\n",
      "Epoch 52: val_loss did not improve from 0.00069\n",
      "\n",
      "Epoch 53: val_loss did not improve from 0.00069\n",
      "\n",
      "Epoch 54: val_loss did not improve from 0.00069\n",
      "\n",
      "Epoch 55: val_loss did not improve from 0.00069\n",
      "\n",
      "Epoch 56: val_loss did not improve from 0.00069\n",
      "\n",
      "Epoch 57: val_loss did not improve from 0.00069\n",
      "\n",
      "Epoch 58: val_loss did not improve from 0.00069\n",
      "\n",
      "Epoch 59: val_loss did not improve from 0.00069\n",
      "\n",
      "Epoch 60: val_loss did not improve from 0.00069\n",
      "\n",
      "Epoch 61: val_loss did not improve from 0.00069\n",
      "\n",
      "Epoch 62: val_loss did not improve from 0.00069\n",
      "\n",
      "Epoch 63: val_loss did not improve from 0.00069\n",
      "\n",
      "Epoch 64: val_loss did not improve from 0.00069\n",
      "\n",
      "Epoch 65: val_loss did not improve from 0.00069\n",
      "\n",
      "Epoch 66: val_loss did not improve from 0.00069\n",
      "\n",
      "Epoch 67: val_loss did not improve from 0.00069\n",
      "\n",
      "Epoch 68: val_loss did not improve from 0.00069\n",
      "\n",
      "Epoch 69: val_loss did not improve from 0.00069\n",
      "\n",
      "Epoch 70: val_loss did not improve from 0.00069\n",
      "\n",
      "Epoch 71: val_loss did not improve from 0.00069\n",
      "\n",
      "Epoch 72: val_loss did not improve from 0.00069\n",
      "\n",
      "Epoch 73: val_loss did not improve from 0.00069\n",
      "\n",
      "Epoch 74: val_loss did not improve from 0.00069\n",
      "\n",
      "Epoch 75: val_loss did not improve from 0.00069\n",
      "\n",
      "Epoch 76: val_loss did not improve from 0.00069\n",
      "\n",
      "Epoch 77: val_loss did not improve from 0.00069\n",
      "\n",
      "Epoch 78: val_loss did not improve from 0.00069\n",
      "\n",
      "Epoch 79: val_loss did not improve from 0.00069\n",
      "\n",
      "Epoch 80: val_loss did not improve from 0.00069\n",
      "\n",
      "Epoch 81: val_loss did not improve from 0.00069\n",
      "\n",
      "Epoch 82: val_loss did not improve from 0.00069\n",
      "\n",
      "Epoch 83: val_loss did not improve from 0.00069\n",
      "\n",
      "Epoch 84: val_loss did not improve from 0.00069\n",
      "\n",
      "Epoch 85: val_loss did not improve from 0.00069\n",
      "\n",
      "Epoch 86: val_loss did not improve from 0.00069\n",
      "\n",
      "Epoch 87: val_loss did not improve from 0.00069\n",
      "\n",
      "Epoch 88: val_loss did not improve from 0.00069\n",
      "\n",
      "Epoch 89: val_loss did not improve from 0.00069\n",
      "\n",
      "Epoch 90: val_loss did not improve from 0.00069\n",
      "\n",
      "Epoch 91: val_loss did not improve from 0.00069\n",
      "\n",
      "Epoch 92: val_loss did not improve from 0.00069\n",
      "\n",
      "Epoch 93: val_loss did not improve from 0.00069\n",
      "\n",
      "Epoch 94: val_loss did not improve from 0.00069\n",
      "\n",
      "Epoch 95: val_loss did not improve from 0.00069\n",
      "\n",
      "Epoch 96: val_loss did not improve from 0.00069\n",
      "\n",
      "Epoch 97: val_loss did not improve from 0.00069\n",
      "\n",
      "Epoch 98: val_loss did not improve from 0.00069\n",
      "\n",
      "Epoch 99: val_loss did not improve from 0.00069\n",
      "\n",
      "Epoch 100: val_loss did not improve from 0.00069\n",
      "\n",
      "Epoch 101: val_loss did not improve from 0.00069\n",
      "\n",
      "Epoch 102: val_loss did not improve from 0.00069\n",
      "\n",
      "Epoch 103: val_loss did not improve from 0.00069\n",
      "\n",
      "Epoch 104: val_loss did not improve from 0.00069\n",
      "\n",
      "Epoch 105: val_loss did not improve from 0.00069\n",
      "\n",
      "Epoch 106: val_loss did not improve from 0.00069\n",
      "\n",
      "Epoch 107: val_loss did not improve from 0.00069\n",
      "\n",
      "Epoch 108: val_loss did not improve from 0.00069\n",
      "\n",
      "Epoch 109: val_loss did not improve from 0.00069\n",
      "\n",
      "Epoch 110: val_loss did not improve from 0.00069\n",
      "\n",
      "Epoch 111: val_loss did not improve from 0.00069\n",
      "\n",
      "Epoch 112: val_loss did not improve from 0.00069\n",
      "\n",
      "Epoch 113: val_loss did not improve from 0.00069\n",
      "\n",
      "Epoch 114: val_loss did not improve from 0.00069\n",
      "\n",
      "Epoch 115: val_loss did not improve from 0.00069\n",
      "\n",
      "Epoch 116: val_loss did not improve from 0.00069\n",
      "\n",
      "Epoch 117: val_loss did not improve from 0.00069\n",
      "\n",
      "Epoch 118: val_loss did not improve from 0.00069\n",
      "\n",
      "Epoch 119: val_loss did not improve from 0.00069\n",
      "\n",
      "Epoch 120: val_loss did not improve from 0.00069\n",
      "\n",
      "Epoch 121: val_loss did not improve from 0.00069\n",
      "\n",
      "Epoch 122: val_loss did not improve from 0.00069\n",
      "\n",
      "Epoch 123: val_loss did not improve from 0.00069\n",
      "\n",
      "Epoch 124: val_loss did not improve from 0.00069\n",
      "\n",
      "Epoch 125: val_loss did not improve from 0.00069\n",
      "\n",
      "Epoch 126: val_loss did not improve from 0.00069\n",
      "\n",
      "Epoch 127: val_loss did not improve from 0.00069\n",
      "\n",
      "Epoch 128: val_loss did not improve from 0.00069\n",
      "\n",
      "Epoch 129: val_loss did not improve from 0.00069\n",
      "\n",
      "Epoch 130: val_loss did not improve from 0.00069\n",
      "\n",
      "Epoch 131: val_loss did not improve from 0.00069\n",
      "\n",
      "Epoch 132: val_loss did not improve from 0.00069\n",
      "\n",
      "Epoch 133: val_loss did not improve from 0.00069\n",
      "\n",
      "Epoch 134: val_loss did not improve from 0.00069\n",
      "\n",
      "Epoch 135: val_loss did not improve from 0.00069\n",
      "\n",
      "Epoch 136: val_loss did not improve from 0.00069\n",
      "\n",
      "Epoch 137: val_loss did not improve from 0.00069\n",
      "\n",
      "Epoch 138: val_loss did not improve from 0.00069\n",
      "\n",
      "Epoch 139: val_loss did not improve from 0.00069\n",
      "\n",
      "Epoch 140: val_loss did not improve from 0.00069\n",
      "\n",
      "Epoch 141: val_loss did not improve from 0.00069\n",
      "\n",
      "Epoch 142: val_loss did not improve from 0.00069\n",
      "\n",
      "Epoch 143: val_loss did not improve from 0.00069\n",
      "\n",
      "Epoch 144: val_loss did not improve from 0.00069\n",
      "\n",
      "Epoch 145: val_loss did not improve from 0.00069\n",
      "\n",
      "Epoch 146: val_loss did not improve from 0.00069\n",
      "\n",
      "Epoch 147: val_loss did not improve from 0.00069\n",
      "\n",
      "Epoch 148: val_loss did not improve from 0.00069\n",
      "\n",
      "Epoch 149: val_loss did not improve from 0.00069\n",
      "\n",
      "Epoch 150: val_loss did not improve from 0.00069\n",
      "\n",
      "Epoch 151: val_loss did not improve from 0.00069\n",
      "\n",
      "Epoch 152: val_loss did not improve from 0.00069\n",
      "\n",
      "Epoch 153: val_loss did not improve from 0.00069\n",
      "\n",
      "Epoch 154: val_loss did not improve from 0.00069\n",
      "\n",
      "Epoch 155: val_loss did not improve from 0.00069\n",
      "\n",
      "Epoch 156: val_loss did not improve from 0.00069\n",
      "\n",
      "Epoch 157: val_loss did not improve from 0.00069\n",
      "\n",
      "Epoch 158: val_loss did not improve from 0.00069\n",
      "\n",
      "Epoch 159: val_loss did not improve from 0.00069\n",
      "\n",
      "Epoch 160: val_loss did not improve from 0.00069\n",
      "\n",
      "Epoch 161: val_loss did not improve from 0.00069\n",
      "\n",
      "Epoch 162: val_loss did not improve from 0.00069\n",
      "\n",
      "Epoch 163: val_loss did not improve from 0.00069\n",
      "\n",
      "Epoch 164: val_loss did not improve from 0.00069\n",
      "\n",
      "Epoch 165: val_loss did not improve from 0.00069\n",
      "\n",
      "Epoch 166: val_loss did not improve from 0.00069\n",
      "\n",
      "Epoch 167: val_loss did not improve from 0.00069\n",
      "\n",
      "Epoch 168: val_loss did not improve from 0.00069\n",
      "\n",
      "Epoch 169: val_loss did not improve from 0.00069\n",
      "\n",
      "Epoch 170: val_loss did not improve from 0.00069\n",
      "\n",
      "Epoch 171: val_loss did not improve from 0.00069\n",
      "\n",
      "Epoch 172: val_loss did not improve from 0.00069\n",
      "\n",
      "Epoch 173: val_loss did not improve from 0.00069\n",
      "\n",
      "Epoch 174: val_loss did not improve from 0.00069\n",
      "\n",
      "Epoch 175: val_loss did not improve from 0.00069\n",
      "\n",
      "Epoch 176: val_loss did not improve from 0.00069\n",
      "\n",
      "Epoch 177: val_loss did not improve from 0.00069\n",
      "\n",
      "Epoch 178: val_loss did not improve from 0.00069\n",
      "\n",
      "Epoch 179: val_loss did not improve from 0.00069\n",
      "\n",
      "Epoch 180: val_loss did not improve from 0.00069\n",
      "\n",
      "Epoch 181: val_loss did not improve from 0.00069\n",
      "\n",
      "Epoch 182: val_loss did not improve from 0.00069\n",
      "\n",
      "Epoch 183: val_loss did not improve from 0.00069\n",
      "\n",
      "Epoch 184: val_loss did not improve from 0.00069\n",
      "\n",
      "Epoch 185: val_loss did not improve from 0.00069\n",
      "\n",
      "Epoch 186: val_loss did not improve from 0.00069\n",
      "\n",
      "Epoch 187: val_loss did not improve from 0.00069\n",
      "\n",
      "Epoch 188: val_loss did not improve from 0.00069\n",
      "\n",
      "Epoch 189: val_loss did not improve from 0.00069\n",
      "\n",
      "Epoch 190: val_loss did not improve from 0.00069\n",
      "\n",
      "Epoch 191: val_loss did not improve from 0.00069\n",
      "\n",
      "Epoch 192: val_loss did not improve from 0.00069\n",
      "\n",
      "Epoch 193: val_loss did not improve from 0.00069\n",
      "\n",
      "Epoch 194: val_loss did not improve from 0.00069\n",
      "\n",
      "Epoch 195: val_loss did not improve from 0.00069\n",
      "\n",
      "Epoch 196: val_loss did not improve from 0.00069\n",
      "\n",
      "Epoch 197: val_loss did not improve from 0.00069\n",
      "\n",
      "Epoch 198: val_loss did not improve from 0.00069\n",
      "\n",
      "Epoch 199: val_loss did not improve from 0.00069\n",
      "\n",
      "Epoch 200: val_loss did not improve from 0.00069\n",
      "\u001b[1m18/18\u001b[0m \u001b[32m━━━━━━━━━━━━━━━━━━━━\u001b[0m\u001b[37m\u001b[0m \u001b[1m2s\u001b[0m 67ms/step\n",
      "Training with params: {'timesteps': 40, 'hl': [40, 35], 'lr': 0.0001, 'batch_size': 32, 'num_epochs': 250}\n"
     ]
    },
    {
     "name": "stderr",
     "output_type": "stream",
     "text": [
      "c:\\Users\\84368\\AppData\\Local\\Programs\\Python\\Python311\\Lib\\site-packages\\keras\\src\\layers\\rnn\\rnn.py:200: UserWarning: Do not pass an `input_shape`/`input_dim` argument to a layer. When using Sequential models, prefer using an `Input(shape)` object as the first layer in the model instead.\n",
      "  super().__init__(**kwargs)\n"
     ]
    },
    {
     "name": "stdout",
     "output_type": "stream",
     "text": [
      "\n",
      "Epoch 1: val_loss did not improve from 0.00069\n",
      "\n",
      "Epoch 2: val_loss did not improve from 0.00069\n",
      "\n",
      "Epoch 3: val_loss did not improve from 0.00069\n",
      "\n",
      "Epoch 4: val_loss did not improve from 0.00069\n",
      "\n",
      "Epoch 5: val_loss did not improve from 0.00069\n",
      "\n",
      "Epoch 6: val_loss did not improve from 0.00069\n",
      "\n",
      "Epoch 7: val_loss did not improve from 0.00069\n",
      "\n",
      "Epoch 8: val_loss did not improve from 0.00069\n",
      "\n",
      "Epoch 9: val_loss did not improve from 0.00069\n",
      "\n",
      "Epoch 10: val_loss did not improve from 0.00069\n",
      "\n",
      "Epoch 11: val_loss did not improve from 0.00069\n",
      "\n",
      "Epoch 12: val_loss did not improve from 0.00069\n",
      "\n",
      "Epoch 13: val_loss did not improve from 0.00069\n",
      "\n",
      "Epoch 14: val_loss did not improve from 0.00069\n",
      "\n",
      "Epoch 15: val_loss did not improve from 0.00069\n",
      "\n",
      "Epoch 16: val_loss did not improve from 0.00069\n",
      "\n",
      "Epoch 17: val_loss did not improve from 0.00069\n",
      "\n",
      "Epoch 18: val_loss did not improve from 0.00069\n",
      "\n",
      "Epoch 19: val_loss did not improve from 0.00069\n",
      "\n",
      "Epoch 20: val_loss did not improve from 0.00069\n",
      "\n",
      "Epoch 21: val_loss did not improve from 0.00069\n",
      "\n",
      "Epoch 22: val_loss did not improve from 0.00069\n",
      "\n",
      "Epoch 23: val_loss did not improve from 0.00069\n",
      "\n",
      "Epoch 24: val_loss did not improve from 0.00069\n",
      "\n",
      "Epoch 25: val_loss did not improve from 0.00069\n",
      "\n",
      "Epoch 26: val_loss did not improve from 0.00069\n",
      "\n",
      "Epoch 27: val_loss did not improve from 0.00069\n",
      "\n",
      "Epoch 28: val_loss did not improve from 0.00069\n",
      "\n",
      "Epoch 29: val_loss did not improve from 0.00069\n",
      "\n",
      "Epoch 30: val_loss did not improve from 0.00069\n",
      "\n",
      "Epoch 31: val_loss did not improve from 0.00069\n",
      "\n",
      "Epoch 32: val_loss did not improve from 0.00069\n",
      "\n",
      "Epoch 33: val_loss did not improve from 0.00069\n",
      "\n",
      "Epoch 34: val_loss did not improve from 0.00069\n",
      "\n",
      "Epoch 35: val_loss did not improve from 0.00069\n",
      "\n",
      "Epoch 36: val_loss did not improve from 0.00069\n",
      "\n",
      "Epoch 37: val_loss did not improve from 0.00069\n",
      "\n",
      "Epoch 38: val_loss did not improve from 0.00069\n",
      "\n",
      "Epoch 39: val_loss did not improve from 0.00069\n",
      "\n",
      "Epoch 40: val_loss did not improve from 0.00069\n",
      "\n",
      "Epoch 41: val_loss did not improve from 0.00069\n",
      "\n",
      "Epoch 42: val_loss did not improve from 0.00069\n",
      "\n",
      "Epoch 43: val_loss did not improve from 0.00069\n",
      "\n",
      "Epoch 44: val_loss did not improve from 0.00069\n",
      "\n",
      "Epoch 45: val_loss did not improve from 0.00069\n",
      "\n",
      "Epoch 46: val_loss did not improve from 0.00069\n",
      "\n",
      "Epoch 47: val_loss did not improve from 0.00069\n",
      "\n",
      "Epoch 48: val_loss did not improve from 0.00069\n",
      "\n",
      "Epoch 49: val_loss did not improve from 0.00069\n",
      "\n",
      "Epoch 50: val_loss did not improve from 0.00069\n",
      "\n",
      "Epoch 51: val_loss did not improve from 0.00069\n",
      "\n",
      "Epoch 52: val_loss did not improve from 0.00069\n",
      "\n",
      "Epoch 53: val_loss did not improve from 0.00069\n",
      "\n",
      "Epoch 54: val_loss did not improve from 0.00069\n",
      "\n",
      "Epoch 55: val_loss did not improve from 0.00069\n",
      "\n",
      "Epoch 56: val_loss did not improve from 0.00069\n",
      "\n",
      "Epoch 57: val_loss did not improve from 0.00069\n",
      "\n",
      "Epoch 58: val_loss did not improve from 0.00069\n",
      "\n",
      "Epoch 59: val_loss did not improve from 0.00069\n",
      "\n",
      "Epoch 60: val_loss did not improve from 0.00069\n",
      "\n",
      "Epoch 61: val_loss did not improve from 0.00069\n",
      "\n",
      "Epoch 62: val_loss did not improve from 0.00069\n",
      "\n",
      "Epoch 63: val_loss did not improve from 0.00069\n",
      "\n",
      "Epoch 64: val_loss did not improve from 0.00069\n",
      "\n",
      "Epoch 65: val_loss did not improve from 0.00069\n",
      "\n",
      "Epoch 66: val_loss did not improve from 0.00069\n",
      "\n",
      "Epoch 67: val_loss did not improve from 0.00069\n",
      "\n",
      "Epoch 68: val_loss did not improve from 0.00069\n",
      "\n",
      "Epoch 69: val_loss did not improve from 0.00069\n",
      "\n",
      "Epoch 70: val_loss did not improve from 0.00069\n",
      "\n",
      "Epoch 71: val_loss did not improve from 0.00069\n",
      "\n",
      "Epoch 72: val_loss did not improve from 0.00069\n",
      "\n",
      "Epoch 73: val_loss did not improve from 0.00069\n",
      "\n",
      "Epoch 74: val_loss did not improve from 0.00069\n",
      "\n",
      "Epoch 75: val_loss did not improve from 0.00069\n",
      "\n",
      "Epoch 76: val_loss did not improve from 0.00069\n",
      "\n",
      "Epoch 77: val_loss did not improve from 0.00069\n",
      "\n",
      "Epoch 78: val_loss did not improve from 0.00069\n",
      "\n",
      "Epoch 79: val_loss did not improve from 0.00069\n",
      "\n",
      "Epoch 80: val_loss did not improve from 0.00069\n",
      "\n",
      "Epoch 81: val_loss did not improve from 0.00069\n",
      "\n",
      "Epoch 82: val_loss did not improve from 0.00069\n",
      "\n",
      "Epoch 83: val_loss did not improve from 0.00069\n",
      "\n",
      "Epoch 84: val_loss did not improve from 0.00069\n",
      "\n",
      "Epoch 85: val_loss did not improve from 0.00069\n",
      "\n",
      "Epoch 86: val_loss did not improve from 0.00069\n",
      "\n",
      "Epoch 87: val_loss did not improve from 0.00069\n",
      "\n",
      "Epoch 88: val_loss did not improve from 0.00069\n",
      "\n",
      "Epoch 89: val_loss did not improve from 0.00069\n",
      "\n",
      "Epoch 90: val_loss did not improve from 0.00069\n",
      "\n",
      "Epoch 91: val_loss did not improve from 0.00069\n",
      "\n",
      "Epoch 92: val_loss did not improve from 0.00069\n",
      "\n",
      "Epoch 93: val_loss did not improve from 0.00069\n",
      "\n",
      "Epoch 94: val_loss did not improve from 0.00069\n",
      "\n",
      "Epoch 95: val_loss did not improve from 0.00069\n",
      "\n",
      "Epoch 96: val_loss did not improve from 0.00069\n",
      "\n",
      "Epoch 97: val_loss did not improve from 0.00069\n",
      "\n",
      "Epoch 98: val_loss did not improve from 0.00069\n",
      "\n",
      "Epoch 99: val_loss did not improve from 0.00069\n",
      "\n",
      "Epoch 100: val_loss did not improve from 0.00069\n",
      "\n",
      "Epoch 101: val_loss did not improve from 0.00069\n",
      "\n",
      "Epoch 102: val_loss did not improve from 0.00069\n",
      "\n",
      "Epoch 103: val_loss did not improve from 0.00069\n",
      "\n",
      "Epoch 104: val_loss did not improve from 0.00069\n",
      "\n",
      "Epoch 105: val_loss did not improve from 0.00069\n",
      "\n",
      "Epoch 106: val_loss did not improve from 0.00069\n",
      "\n",
      "Epoch 107: val_loss did not improve from 0.00069\n",
      "\n",
      "Epoch 108: val_loss did not improve from 0.00069\n",
      "\n",
      "Epoch 109: val_loss did not improve from 0.00069\n",
      "\n",
      "Epoch 110: val_loss did not improve from 0.00069\n",
      "\n",
      "Epoch 111: val_loss did not improve from 0.00069\n",
      "\n",
      "Epoch 112: val_loss did not improve from 0.00069\n",
      "\n",
      "Epoch 113: val_loss did not improve from 0.00069\n",
      "\n",
      "Epoch 114: val_loss did not improve from 0.00069\n",
      "\n",
      "Epoch 115: val_loss did not improve from 0.00069\n",
      "\n",
      "Epoch 116: val_loss did not improve from 0.00069\n",
      "\n",
      "Epoch 117: val_loss did not improve from 0.00069\n",
      "\n",
      "Epoch 118: val_loss did not improve from 0.00069\n",
      "\n",
      "Epoch 119: val_loss did not improve from 0.00069\n",
      "\n",
      "Epoch 120: val_loss did not improve from 0.00069\n",
      "\n",
      "Epoch 121: val_loss did not improve from 0.00069\n",
      "\n",
      "Epoch 122: val_loss did not improve from 0.00069\n",
      "\n",
      "Epoch 123: val_loss did not improve from 0.00069\n",
      "\n",
      "Epoch 124: val_loss did not improve from 0.00069\n",
      "\n",
      "Epoch 125: val_loss did not improve from 0.00069\n",
      "\n",
      "Epoch 126: val_loss did not improve from 0.00069\n",
      "\n",
      "Epoch 127: val_loss did not improve from 0.00069\n",
      "\n",
      "Epoch 128: val_loss did not improve from 0.00069\n",
      "Epoch 128: early stopping\n",
      "\u001b[1m18/18\u001b[0m \u001b[32m━━━━━━━━━━━━━━━━━━━━\u001b[0m\u001b[37m\u001b[0m \u001b[1m4s\u001b[0m 225ms/step\n",
      "Training with params: {'timesteps': 40, 'hl': [40, 35], 'lr': 0.0001, 'batch_size': 64, 'num_epochs': 200}\n"
     ]
    },
    {
     "name": "stderr",
     "output_type": "stream",
     "text": [
      "c:\\Users\\84368\\AppData\\Local\\Programs\\Python\\Python311\\Lib\\site-packages\\keras\\src\\layers\\rnn\\rnn.py:200: UserWarning: Do not pass an `input_shape`/`input_dim` argument to a layer. When using Sequential models, prefer using an `Input(shape)` object as the first layer in the model instead.\n",
      "  super().__init__(**kwargs)\n"
     ]
    },
    {
     "name": "stdout",
     "output_type": "stream",
     "text": [
      "\n",
      "Epoch 1: val_loss did not improve from 0.00069\n",
      "\n",
      "Epoch 2: val_loss did not improve from 0.00069\n",
      "\n",
      "Epoch 3: val_loss did not improve from 0.00069\n",
      "\n",
      "Epoch 4: val_loss did not improve from 0.00069\n",
      "\n",
      "Epoch 5: val_loss did not improve from 0.00069\n",
      "\n",
      "Epoch 6: val_loss did not improve from 0.00069\n",
      "\n",
      "Epoch 7: val_loss did not improve from 0.00069\n",
      "\n",
      "Epoch 8: val_loss did not improve from 0.00069\n",
      "\n",
      "Epoch 9: val_loss did not improve from 0.00069\n",
      "\n",
      "Epoch 10: val_loss did not improve from 0.00069\n",
      "\n",
      "Epoch 11: val_loss did not improve from 0.00069\n",
      "\n",
      "Epoch 12: val_loss did not improve from 0.00069\n",
      "\n",
      "Epoch 13: val_loss did not improve from 0.00069\n",
      "\n",
      "Epoch 14: val_loss did not improve from 0.00069\n",
      "\n",
      "Epoch 15: val_loss did not improve from 0.00069\n",
      "\n",
      "Epoch 16: val_loss did not improve from 0.00069\n",
      "\n",
      "Epoch 17: val_loss did not improve from 0.00069\n",
      "\n",
      "Epoch 18: val_loss did not improve from 0.00069\n",
      "\n",
      "Epoch 19: val_loss did not improve from 0.00069\n",
      "\n",
      "Epoch 20: val_loss did not improve from 0.00069\n",
      "\n",
      "Epoch 21: val_loss did not improve from 0.00069\n",
      "\n",
      "Epoch 22: val_loss did not improve from 0.00069\n",
      "\n",
      "Epoch 23: val_loss did not improve from 0.00069\n",
      "\n",
      "Epoch 24: val_loss did not improve from 0.00069\n",
      "\n",
      "Epoch 25: val_loss did not improve from 0.00069\n",
      "\n",
      "Epoch 26: val_loss did not improve from 0.00069\n",
      "\n",
      "Epoch 27: val_loss did not improve from 0.00069\n",
      "\n",
      "Epoch 28: val_loss did not improve from 0.00069\n",
      "\n",
      "Epoch 29: val_loss did not improve from 0.00069\n",
      "\n",
      "Epoch 30: val_loss did not improve from 0.00069\n",
      "\n",
      "Epoch 31: val_loss did not improve from 0.00069\n",
      "\n",
      "Epoch 32: val_loss did not improve from 0.00069\n",
      "\n",
      "Epoch 33: val_loss did not improve from 0.00069\n",
      "\n",
      "Epoch 34: val_loss did not improve from 0.00069\n",
      "\n",
      "Epoch 35: val_loss did not improve from 0.00069\n",
      "\n",
      "Epoch 36: val_loss did not improve from 0.00069\n",
      "\n",
      "Epoch 37: val_loss did not improve from 0.00069\n",
      "\n",
      "Epoch 38: val_loss did not improve from 0.00069\n",
      "\n",
      "Epoch 39: val_loss did not improve from 0.00069\n",
      "\n",
      "Epoch 40: val_loss did not improve from 0.00069\n",
      "\n",
      "Epoch 41: val_loss did not improve from 0.00069\n",
      "\n",
      "Epoch 42: val_loss did not improve from 0.00069\n",
      "\n",
      "Epoch 43: val_loss did not improve from 0.00069\n",
      "\n",
      "Epoch 44: val_loss did not improve from 0.00069\n",
      "\n",
      "Epoch 45: val_loss did not improve from 0.00069\n",
      "\n",
      "Epoch 46: val_loss did not improve from 0.00069\n",
      "\n",
      "Epoch 47: val_loss did not improve from 0.00069\n",
      "\n",
      "Epoch 48: val_loss did not improve from 0.00069\n",
      "\n",
      "Epoch 49: val_loss did not improve from 0.00069\n",
      "\n",
      "Epoch 50: val_loss did not improve from 0.00069\n",
      "\n",
      "Epoch 51: val_loss did not improve from 0.00069\n",
      "\n",
      "Epoch 52: val_loss did not improve from 0.00069\n",
      "\n",
      "Epoch 53: val_loss did not improve from 0.00069\n",
      "\n",
      "Epoch 54: val_loss did not improve from 0.00069\n",
      "\n",
      "Epoch 55: val_loss did not improve from 0.00069\n",
      "\n",
      "Epoch 56: val_loss did not improve from 0.00069\n",
      "\n",
      "Epoch 57: val_loss did not improve from 0.00069\n",
      "\n",
      "Epoch 58: val_loss did not improve from 0.00069\n",
      "\n",
      "Epoch 59: val_loss did not improve from 0.00069\n",
      "\n",
      "Epoch 60: val_loss did not improve from 0.00069\n",
      "\n",
      "Epoch 61: val_loss did not improve from 0.00069\n",
      "\n",
      "Epoch 62: val_loss did not improve from 0.00069\n",
      "\n",
      "Epoch 63: val_loss did not improve from 0.00069\n",
      "\n",
      "Epoch 64: val_loss did not improve from 0.00069\n",
      "\n",
      "Epoch 65: val_loss did not improve from 0.00069\n",
      "\n",
      "Epoch 66: val_loss did not improve from 0.00069\n",
      "\n",
      "Epoch 67: val_loss did not improve from 0.00069\n",
      "\n",
      "Epoch 68: val_loss did not improve from 0.00069\n",
      "\n",
      "Epoch 69: val_loss did not improve from 0.00069\n",
      "\n",
      "Epoch 70: val_loss did not improve from 0.00069\n",
      "\n",
      "Epoch 71: val_loss did not improve from 0.00069\n",
      "\n",
      "Epoch 72: val_loss did not improve from 0.00069\n",
      "\n",
      "Epoch 73: val_loss did not improve from 0.00069\n",
      "\n",
      "Epoch 74: val_loss did not improve from 0.00069\n",
      "\n",
      "Epoch 75: val_loss did not improve from 0.00069\n",
      "\n",
      "Epoch 76: val_loss did not improve from 0.00069\n",
      "\n",
      "Epoch 77: val_loss did not improve from 0.00069\n",
      "\n",
      "Epoch 78: val_loss did not improve from 0.00069\n",
      "\n",
      "Epoch 79: val_loss did not improve from 0.00069\n",
      "\n",
      "Epoch 80: val_loss did not improve from 0.00069\n",
      "\n",
      "Epoch 81: val_loss did not improve from 0.00069\n",
      "\n",
      "Epoch 82: val_loss did not improve from 0.00069\n",
      "\n",
      "Epoch 83: val_loss did not improve from 0.00069\n",
      "\n",
      "Epoch 84: val_loss did not improve from 0.00069\n",
      "\n",
      "Epoch 85: val_loss did not improve from 0.00069\n",
      "\n",
      "Epoch 86: val_loss did not improve from 0.00069\n",
      "\n",
      "Epoch 87: val_loss did not improve from 0.00069\n",
      "\n",
      "Epoch 88: val_loss did not improve from 0.00069\n",
      "\n",
      "Epoch 89: val_loss did not improve from 0.00069\n",
      "Epoch 89: early stopping\n",
      "\u001b[1m18/18\u001b[0m \u001b[32m━━━━━━━━━━━━━━━━━━━━\u001b[0m\u001b[37m\u001b[0m \u001b[1m2s\u001b[0m 59ms/step\n",
      "Training with params: {'timesteps': 40, 'hl': [40, 35], 'lr': 0.0001, 'batch_size': 64, 'num_epochs': 250}\n"
     ]
    },
    {
     "name": "stderr",
     "output_type": "stream",
     "text": [
      "c:\\Users\\84368\\AppData\\Local\\Programs\\Python\\Python311\\Lib\\site-packages\\keras\\src\\layers\\rnn\\rnn.py:200: UserWarning: Do not pass an `input_shape`/`input_dim` argument to a layer. When using Sequential models, prefer using an `Input(shape)` object as the first layer in the model instead.\n",
      "  super().__init__(**kwargs)\n"
     ]
    },
    {
     "name": "stdout",
     "output_type": "stream",
     "text": [
      "\n",
      "Epoch 1: val_loss did not improve from 0.00069\n",
      "\n",
      "Epoch 2: val_loss did not improve from 0.00069\n",
      "\n",
      "Epoch 3: val_loss did not improve from 0.00069\n",
      "\n",
      "Epoch 4: val_loss did not improve from 0.00069\n",
      "\n",
      "Epoch 5: val_loss did not improve from 0.00069\n",
      "\n",
      "Epoch 6: val_loss did not improve from 0.00069\n",
      "\n",
      "Epoch 7: val_loss did not improve from 0.00069\n",
      "\n",
      "Epoch 8: val_loss did not improve from 0.00069\n",
      "\n",
      "Epoch 9: val_loss did not improve from 0.00069\n",
      "\n",
      "Epoch 10: val_loss did not improve from 0.00069\n",
      "\n",
      "Epoch 11: val_loss did not improve from 0.00069\n",
      "\n",
      "Epoch 12: val_loss did not improve from 0.00069\n",
      "\n",
      "Epoch 13: val_loss did not improve from 0.00069\n",
      "\n",
      "Epoch 14: val_loss did not improve from 0.00069\n",
      "\n",
      "Epoch 15: val_loss did not improve from 0.00069\n",
      "\n",
      "Epoch 16: val_loss did not improve from 0.00069\n",
      "\n",
      "Epoch 17: val_loss did not improve from 0.00069\n",
      "\n",
      "Epoch 18: val_loss did not improve from 0.00069\n",
      "\n",
      "Epoch 19: val_loss did not improve from 0.00069\n",
      "\n",
      "Epoch 20: val_loss did not improve from 0.00069\n",
      "\n",
      "Epoch 21: val_loss did not improve from 0.00069\n",
      "\n",
      "Epoch 22: val_loss did not improve from 0.00069\n",
      "\n",
      "Epoch 23: val_loss did not improve from 0.00069\n",
      "\n",
      "Epoch 24: val_loss did not improve from 0.00069\n",
      "\n",
      "Epoch 25: val_loss did not improve from 0.00069\n",
      "\n",
      "Epoch 26: val_loss did not improve from 0.00069\n",
      "\n",
      "Epoch 27: val_loss did not improve from 0.00069\n",
      "\n",
      "Epoch 28: val_loss did not improve from 0.00069\n",
      "\n",
      "Epoch 29: val_loss did not improve from 0.00069\n",
      "\n",
      "Epoch 30: val_loss did not improve from 0.00069\n",
      "\n",
      "Epoch 31: val_loss did not improve from 0.00069\n",
      "\n",
      "Epoch 32: val_loss did not improve from 0.00069\n",
      "\n",
      "Epoch 33: val_loss did not improve from 0.00069\n",
      "\n",
      "Epoch 34: val_loss did not improve from 0.00069\n",
      "\n",
      "Epoch 35: val_loss did not improve from 0.00069\n",
      "\n",
      "Epoch 36: val_loss did not improve from 0.00069\n",
      "\n",
      "Epoch 37: val_loss did not improve from 0.00069\n",
      "\n",
      "Epoch 38: val_loss did not improve from 0.00069\n",
      "\n",
      "Epoch 39: val_loss did not improve from 0.00069\n",
      "\n",
      "Epoch 40: val_loss did not improve from 0.00069\n",
      "\n",
      "Epoch 41: val_loss did not improve from 0.00069\n",
      "\n",
      "Epoch 42: val_loss did not improve from 0.00069\n",
      "\n",
      "Epoch 43: val_loss did not improve from 0.00069\n",
      "\n",
      "Epoch 44: val_loss did not improve from 0.00069\n",
      "\n",
      "Epoch 45: val_loss did not improve from 0.00069\n",
      "\n",
      "Epoch 46: val_loss did not improve from 0.00069\n",
      "\n",
      "Epoch 47: val_loss did not improve from 0.00069\n",
      "\n",
      "Epoch 48: val_loss did not improve from 0.00069\n",
      "\n",
      "Epoch 49: val_loss did not improve from 0.00069\n",
      "\n",
      "Epoch 50: val_loss did not improve from 0.00069\n",
      "\n",
      "Epoch 51: val_loss did not improve from 0.00069\n",
      "\n",
      "Epoch 52: val_loss did not improve from 0.00069\n",
      "\n",
      "Epoch 53: val_loss did not improve from 0.00069\n",
      "\n",
      "Epoch 54: val_loss did not improve from 0.00069\n",
      "\n",
      "Epoch 55: val_loss did not improve from 0.00069\n",
      "\n",
      "Epoch 56: val_loss did not improve from 0.00069\n",
      "\n",
      "Epoch 57: val_loss did not improve from 0.00069\n",
      "\n",
      "Epoch 58: val_loss did not improve from 0.00069\n",
      "\n",
      "Epoch 59: val_loss did not improve from 0.00069\n",
      "\n",
      "Epoch 60: val_loss did not improve from 0.00069\n",
      "\n",
      "Epoch 61: val_loss did not improve from 0.00069\n",
      "\n",
      "Epoch 62: val_loss did not improve from 0.00069\n",
      "\n",
      "Epoch 63: val_loss did not improve from 0.00069\n",
      "\n",
      "Epoch 64: val_loss did not improve from 0.00069\n",
      "\n",
      "Epoch 65: val_loss did not improve from 0.00069\n",
      "\n",
      "Epoch 66: val_loss did not improve from 0.00069\n",
      "\n",
      "Epoch 67: val_loss did not improve from 0.00069\n",
      "\n",
      "Epoch 68: val_loss did not improve from 0.00069\n",
      "\n",
      "Epoch 69: val_loss did not improve from 0.00069\n",
      "\n",
      "Epoch 70: val_loss did not improve from 0.00069\n",
      "\n",
      "Epoch 71: val_loss did not improve from 0.00069\n",
      "\n",
      "Epoch 72: val_loss did not improve from 0.00069\n",
      "\n",
      "Epoch 73: val_loss did not improve from 0.00069\n",
      "\n",
      "Epoch 74: val_loss did not improve from 0.00069\n",
      "\n",
      "Epoch 75: val_loss did not improve from 0.00069\n",
      "\n",
      "Epoch 76: val_loss did not improve from 0.00069\n",
      "\n",
      "Epoch 77: val_loss did not improve from 0.00069\n",
      "\n",
      "Epoch 78: val_loss did not improve from 0.00069\n",
      "\n",
      "Epoch 79: val_loss did not improve from 0.00069\n",
      "\n",
      "Epoch 80: val_loss did not improve from 0.00069\n",
      "\n",
      "Epoch 81: val_loss did not improve from 0.00069\n",
      "\n",
      "Epoch 82: val_loss did not improve from 0.00069\n",
      "\n",
      "Epoch 83: val_loss did not improve from 0.00069\n",
      "\n",
      "Epoch 84: val_loss did not improve from 0.00069\n",
      "\n",
      "Epoch 85: val_loss did not improve from 0.00069\n",
      "\n",
      "Epoch 86: val_loss did not improve from 0.00069\n",
      "\n",
      "Epoch 87: val_loss did not improve from 0.00069\n",
      "\n",
      "Epoch 88: val_loss did not improve from 0.00069\n",
      "\n",
      "Epoch 89: val_loss did not improve from 0.00069\n",
      "\n",
      "Epoch 90: val_loss did not improve from 0.00069\n",
      "\n",
      "Epoch 91: val_loss did not improve from 0.00069\n",
      "\n",
      "Epoch 92: val_loss did not improve from 0.00069\n",
      "\n",
      "Epoch 93: val_loss did not improve from 0.00069\n",
      "\n",
      "Epoch 94: val_loss did not improve from 0.00069\n",
      "\n",
      "Epoch 95: val_loss did not improve from 0.00069\n",
      "\n",
      "Epoch 96: val_loss did not improve from 0.00069\n",
      "\n",
      "Epoch 97: val_loss did not improve from 0.00069\n",
      "\n",
      "Epoch 98: val_loss did not improve from 0.00069\n",
      "\n",
      "Epoch 99: val_loss did not improve from 0.00069\n",
      "\n",
      "Epoch 100: val_loss did not improve from 0.00069\n",
      "\n",
      "Epoch 101: val_loss did not improve from 0.00069\n",
      "\n",
      "Epoch 102: val_loss did not improve from 0.00069\n",
      "\n",
      "Epoch 103: val_loss did not improve from 0.00069\n",
      "\n",
      "Epoch 104: val_loss did not improve from 0.00069\n",
      "\n",
      "Epoch 105: val_loss did not improve from 0.00069\n",
      "\n",
      "Epoch 106: val_loss did not improve from 0.00069\n",
      "\n",
      "Epoch 107: val_loss did not improve from 0.00069\n",
      "\n",
      "Epoch 108: val_loss did not improve from 0.00069\n",
      "\n",
      "Epoch 109: val_loss did not improve from 0.00069\n",
      "\n",
      "Epoch 110: val_loss did not improve from 0.00069\n",
      "\n",
      "Epoch 111: val_loss did not improve from 0.00069\n",
      "\n",
      "Epoch 112: val_loss did not improve from 0.00069\n",
      "\n",
      "Epoch 113: val_loss did not improve from 0.00069\n",
      "\n",
      "Epoch 114: val_loss did not improve from 0.00069\n",
      "\n",
      "Epoch 115: val_loss did not improve from 0.00069\n",
      "\n",
      "Epoch 116: val_loss did not improve from 0.00069\n",
      "\n",
      "Epoch 117: val_loss did not improve from 0.00069\n",
      "\n",
      "Epoch 118: val_loss did not improve from 0.00069\n",
      "\n",
      "Epoch 119: val_loss did not improve from 0.00069\n",
      "\n",
      "Epoch 120: val_loss did not improve from 0.00069\n",
      "\n",
      "Epoch 121: val_loss did not improve from 0.00069\n",
      "\n",
      "Epoch 122: val_loss did not improve from 0.00069\n",
      "\n",
      "Epoch 123: val_loss did not improve from 0.00069\n",
      "\n",
      "Epoch 124: val_loss did not improve from 0.00069\n",
      "\n",
      "Epoch 125: val_loss did not improve from 0.00069\n",
      "\n",
      "Epoch 126: val_loss did not improve from 0.00069\n",
      "\n",
      "Epoch 127: val_loss did not improve from 0.00069\n",
      "\n",
      "Epoch 128: val_loss did not improve from 0.00069\n",
      "\n",
      "Epoch 129: val_loss did not improve from 0.00069\n",
      "\n",
      "Epoch 130: val_loss did not improve from 0.00069\n",
      "\n",
      "Epoch 131: val_loss did not improve from 0.00069\n",
      "\n",
      "Epoch 132: val_loss did not improve from 0.00069\n",
      "\n",
      "Epoch 133: val_loss did not improve from 0.00069\n",
      "\n",
      "Epoch 134: val_loss did not improve from 0.00069\n",
      "\n",
      "Epoch 135: val_loss did not improve from 0.00069\n",
      "\n",
      "Epoch 136: val_loss did not improve from 0.00069\n",
      "\n",
      "Epoch 137: val_loss did not improve from 0.00069\n",
      "\n",
      "Epoch 138: val_loss did not improve from 0.00069\n",
      "\n",
      "Epoch 139: val_loss did not improve from 0.00069\n",
      "\n",
      "Epoch 140: val_loss did not improve from 0.00069\n",
      "\n",
      "Epoch 141: val_loss did not improve from 0.00069\n",
      "\n",
      "Epoch 142: val_loss did not improve from 0.00069\n",
      "\n",
      "Epoch 143: val_loss did not improve from 0.00069\n",
      "\n",
      "Epoch 144: val_loss did not improve from 0.00069\n",
      "\n",
      "Epoch 145: val_loss did not improve from 0.00069\n",
      "\n",
      "Epoch 146: val_loss did not improve from 0.00069\n",
      "\n",
      "Epoch 147: val_loss did not improve from 0.00069\n",
      "\n",
      "Epoch 148: val_loss did not improve from 0.00069\n",
      "\n",
      "Epoch 149: val_loss did not improve from 0.00069\n",
      "\n",
      "Epoch 150: val_loss did not improve from 0.00069\n",
      "\n",
      "Epoch 151: val_loss did not improve from 0.00069\n",
      "\n",
      "Epoch 152: val_loss did not improve from 0.00069\n",
      "\n",
      "Epoch 153: val_loss did not improve from 0.00069\n",
      "\n",
      "Epoch 154: val_loss did not improve from 0.00069\n",
      "\n",
      "Epoch 155: val_loss did not improve from 0.00069\n",
      "\n",
      "Epoch 156: val_loss did not improve from 0.00069\n",
      "\n",
      "Epoch 157: val_loss did not improve from 0.00069\n",
      "\n",
      "Epoch 158: val_loss did not improve from 0.00069\n",
      "\n",
      "Epoch 159: val_loss did not improve from 0.00069\n",
      "\n",
      "Epoch 160: val_loss did not improve from 0.00069\n",
      "\n",
      "Epoch 161: val_loss did not improve from 0.00069\n",
      "\n",
      "Epoch 162: val_loss did not improve from 0.00069\n",
      "\n",
      "Epoch 163: val_loss did not improve from 0.00069\n",
      "\n",
      "Epoch 164: val_loss did not improve from 0.00069\n",
      "\n",
      "Epoch 165: val_loss did not improve from 0.00069\n",
      "\n",
      "Epoch 166: val_loss did not improve from 0.00069\n",
      "\n",
      "Epoch 167: val_loss did not improve from 0.00069\n",
      "\n",
      "Epoch 168: val_loss did not improve from 0.00069\n",
      "\n",
      "Epoch 169: val_loss did not improve from 0.00069\n",
      "\n",
      "Epoch 170: val_loss did not improve from 0.00069\n",
      "\n",
      "Epoch 171: val_loss did not improve from 0.00069\n",
      "\n",
      "Epoch 172: val_loss did not improve from 0.00069\n",
      "\n",
      "Epoch 173: val_loss did not improve from 0.00069\n",
      "\n",
      "Epoch 174: val_loss did not improve from 0.00069\n",
      "\n",
      "Epoch 175: val_loss did not improve from 0.00069\n",
      "\n",
      "Epoch 176: val_loss did not improve from 0.00069\n",
      "\n",
      "Epoch 177: val_loss did not improve from 0.00069\n",
      "\n",
      "Epoch 178: val_loss did not improve from 0.00069\n",
      "\n",
      "Epoch 179: val_loss did not improve from 0.00069\n",
      "\n",
      "Epoch 180: val_loss did not improve from 0.00069\n",
      "\n",
      "Epoch 181: val_loss did not improve from 0.00069\n",
      "\n",
      "Epoch 182: val_loss did not improve from 0.00069\n",
      "\n",
      "Epoch 183: val_loss did not improve from 0.00069\n",
      "\n",
      "Epoch 184: val_loss did not improve from 0.00069\n",
      "\n",
      "Epoch 185: val_loss did not improve from 0.00069\n",
      "\n",
      "Epoch 186: val_loss did not improve from 0.00069\n",
      "\n",
      "Epoch 187: val_loss did not improve from 0.00069\n",
      "\n",
      "Epoch 188: val_loss did not improve from 0.00069\n",
      "\n",
      "Epoch 189: val_loss did not improve from 0.00069\n",
      "\n",
      "Epoch 190: val_loss did not improve from 0.00069\n",
      "Epoch 190: early stopping\n",
      "\u001b[1m18/18\u001b[0m \u001b[32m━━━━━━━━━━━━━━━━━━━━\u001b[0m\u001b[37m\u001b[0m \u001b[1m1s\u001b[0m 29ms/step\n",
      "Training with params: {'timesteps': 50, 'hl': [40, 35], 'lr': 0.001, 'batch_size': 32, 'num_epochs': 200}\n"
     ]
    },
    {
     "name": "stderr",
     "output_type": "stream",
     "text": [
      "c:\\Users\\84368\\AppData\\Local\\Programs\\Python\\Python311\\Lib\\site-packages\\keras\\src\\layers\\rnn\\rnn.py:200: UserWarning: Do not pass an `input_shape`/`input_dim` argument to a layer. When using Sequential models, prefer using an `Input(shape)` object as the first layer in the model instead.\n",
      "  super().__init__(**kwargs)\n"
     ]
    },
    {
     "name": "stdout",
     "output_type": "stream",
     "text": [
      "\n",
      "Epoch 1: val_loss did not improve from 0.00069\n",
      "\n",
      "Epoch 2: val_loss did not improve from 0.00069\n",
      "\n",
      "Epoch 3: val_loss did not improve from 0.00069\n",
      "\n",
      "Epoch 4: val_loss did not improve from 0.00069\n",
      "\n",
      "Epoch 5: val_loss did not improve from 0.00069\n",
      "\n",
      "Epoch 6: val_loss did not improve from 0.00069\n",
      "\n",
      "Epoch 7: val_loss did not improve from 0.00069\n",
      "\n",
      "Epoch 8: val_loss did not improve from 0.00069\n",
      "\n",
      "Epoch 9: val_loss did not improve from 0.00069\n",
      "\n",
      "Epoch 10: val_loss did not improve from 0.00069\n",
      "\n",
      "Epoch 11: val_loss did not improve from 0.00069\n",
      "\n",
      "Epoch 12: val_loss did not improve from 0.00069\n",
      "\n",
      "Epoch 13: val_loss did not improve from 0.00069\n",
      "\n",
      "Epoch 14: val_loss did not improve from 0.00069\n",
      "\n",
      "Epoch 15: val_loss did not improve from 0.00069\n",
      "\n",
      "Epoch 16: val_loss did not improve from 0.00069\n",
      "\n",
      "Epoch 17: val_loss did not improve from 0.00069\n",
      "\n",
      "Epoch 18: val_loss did not improve from 0.00069\n",
      "\n",
      "Epoch 19: val_loss did not improve from 0.00069\n",
      "\n",
      "Epoch 20: val_loss did not improve from 0.00069\n",
      "\n",
      "Epoch 21: val_loss did not improve from 0.00069\n",
      "\n",
      "Epoch 22: val_loss did not improve from 0.00069\n",
      "\n",
      "Epoch 23: val_loss did not improve from 0.00069\n",
      "\n",
      "Epoch 24: val_loss did not improve from 0.00069\n",
      "\n",
      "Epoch 25: val_loss did not improve from 0.00069\n",
      "\n",
      "Epoch 26: val_loss did not improve from 0.00069\n",
      "\n",
      "Epoch 27: val_loss did not improve from 0.00069\n",
      "\n",
      "Epoch 28: val_loss did not improve from 0.00069\n",
      "\n",
      "Epoch 29: val_loss did not improve from 0.00069\n",
      "\n",
      "Epoch 30: val_loss did not improve from 0.00069\n",
      "\n",
      "Epoch 31: val_loss did not improve from 0.00069\n",
      "\n",
      "Epoch 32: val_loss did not improve from 0.00069\n",
      "\n",
      "Epoch 33: val_loss did not improve from 0.00069\n",
      "\n",
      "Epoch 34: val_loss did not improve from 0.00069\n",
      "\n",
      "Epoch 35: val_loss did not improve from 0.00069\n",
      "\n",
      "Epoch 36: val_loss did not improve from 0.00069\n",
      "\n",
      "Epoch 37: val_loss did not improve from 0.00069\n",
      "\n",
      "Epoch 38: val_loss did not improve from 0.00069\n",
      "\n",
      "Epoch 39: val_loss did not improve from 0.00069\n",
      "\n",
      "Epoch 40: val_loss did not improve from 0.00069\n",
      "\n",
      "Epoch 41: val_loss did not improve from 0.00069\n",
      "\n",
      "Epoch 42: val_loss did not improve from 0.00069\n",
      "\n",
      "Epoch 43: val_loss did not improve from 0.00069\n",
      "\n",
      "Epoch 44: val_loss did not improve from 0.00069\n",
      "\n",
      "Epoch 45: val_loss did not improve from 0.00069\n",
      "\n",
      "Epoch 46: val_loss did not improve from 0.00069\n",
      "\n",
      "Epoch 47: val_loss did not improve from 0.00069\n",
      "\n",
      "Epoch 48: val_loss did not improve from 0.00069\n",
      "\n",
      "Epoch 49: val_loss did not improve from 0.00069\n",
      "\n",
      "Epoch 50: val_loss did not improve from 0.00069\n",
      "\n",
      "Epoch 51: val_loss did not improve from 0.00069\n",
      "\n",
      "Epoch 52: val_loss did not improve from 0.00069\n",
      "\n",
      "Epoch 53: val_loss did not improve from 0.00069\n",
      "\n",
      "Epoch 54: val_loss did not improve from 0.00069\n",
      "\n",
      "Epoch 55: val_loss did not improve from 0.00069\n",
      "\n",
      "Epoch 56: val_loss did not improve from 0.00069\n",
      "\n",
      "Epoch 57: val_loss did not improve from 0.00069\n",
      "\n",
      "Epoch 58: val_loss did not improve from 0.00069\n",
      "\n",
      "Epoch 59: val_loss did not improve from 0.00069\n",
      "\n",
      "Epoch 60: val_loss did not improve from 0.00069\n",
      "\n",
      "Epoch 61: val_loss did not improve from 0.00069\n",
      "\n",
      "Epoch 62: val_loss did not improve from 0.00069\n",
      "\n",
      "Epoch 63: val_loss did not improve from 0.00069\n",
      "\n",
      "Epoch 64: val_loss did not improve from 0.00069\n",
      "\n",
      "Epoch 65: val_loss did not improve from 0.00069\n",
      "\n",
      "Epoch 66: val_loss did not improve from 0.00069\n",
      "\n",
      "Epoch 67: val_loss did not improve from 0.00069\n",
      "\n",
      "Epoch 68: val_loss did not improve from 0.00069\n",
      "\n",
      "Epoch 69: val_loss did not improve from 0.00069\n",
      "\n",
      "Epoch 70: val_loss did not improve from 0.00069\n",
      "\n",
      "Epoch 71: val_loss did not improve from 0.00069\n",
      "\n",
      "Epoch 72: val_loss did not improve from 0.00069\n",
      "\n",
      "Epoch 73: val_loss did not improve from 0.00069\n",
      "\n",
      "Epoch 74: val_loss did not improve from 0.00069\n",
      "\n",
      "Epoch 75: val_loss did not improve from 0.00069\n",
      "\n",
      "Epoch 76: val_loss did not improve from 0.00069\n",
      "\n",
      "Epoch 77: val_loss did not improve from 0.00069\n",
      "\n",
      "Epoch 78: val_loss did not improve from 0.00069\n",
      "\n",
      "Epoch 79: val_loss did not improve from 0.00069\n",
      "\n",
      "Epoch 80: val_loss did not improve from 0.00069\n",
      "\n",
      "Epoch 81: val_loss did not improve from 0.00069\n",
      "\n",
      "Epoch 82: val_loss did not improve from 0.00069\n",
      "\n",
      "Epoch 83: val_loss did not improve from 0.00069\n",
      "\n",
      "Epoch 84: val_loss did not improve from 0.00069\n",
      "\n",
      "Epoch 85: val_loss did not improve from 0.00069\n",
      "\n",
      "Epoch 86: val_loss did not improve from 0.00069\n",
      "\n",
      "Epoch 87: val_loss did not improve from 0.00069\n",
      "\n",
      "Epoch 88: val_loss did not improve from 0.00069\n",
      "\n",
      "Epoch 89: val_loss did not improve from 0.00069\n",
      "\n",
      "Epoch 90: val_loss did not improve from 0.00069\n",
      "\n",
      "Epoch 91: val_loss did not improve from 0.00069\n",
      "\n",
      "Epoch 92: val_loss did not improve from 0.00069\n",
      "\n",
      "Epoch 93: val_loss did not improve from 0.00069\n",
      "\n",
      "Epoch 94: val_loss did not improve from 0.00069\n",
      "\n",
      "Epoch 95: val_loss did not improve from 0.00069\n",
      "\n",
      "Epoch 96: val_loss did not improve from 0.00069\n",
      "\n",
      "Epoch 97: val_loss did not improve from 0.00069\n",
      "\n",
      "Epoch 98: val_loss did not improve from 0.00069\n",
      "\n",
      "Epoch 99: val_loss did not improve from 0.00069\n",
      "\n",
      "Epoch 100: val_loss did not improve from 0.00069\n",
      "\n",
      "Epoch 101: val_loss did not improve from 0.00069\n",
      "\n",
      "Epoch 102: val_loss did not improve from 0.00069\n",
      "\n",
      "Epoch 103: val_loss did not improve from 0.00069\n",
      "\n",
      "Epoch 104: val_loss did not improve from 0.00069\n",
      "\n",
      "Epoch 105: val_loss did not improve from 0.00069\n",
      "Epoch 105: early stopping\n",
      "\u001b[1m18/18\u001b[0m \u001b[32m━━━━━━━━━━━━━━━━━━━━\u001b[0m\u001b[37m\u001b[0m \u001b[1m1s\u001b[0m 42ms/step\n",
      "Training with params: {'timesteps': 50, 'hl': [40, 35], 'lr': 0.001, 'batch_size': 32, 'num_epochs': 250}\n"
     ]
    },
    {
     "name": "stderr",
     "output_type": "stream",
     "text": [
      "c:\\Users\\84368\\AppData\\Local\\Programs\\Python\\Python311\\Lib\\site-packages\\keras\\src\\layers\\rnn\\rnn.py:200: UserWarning: Do not pass an `input_shape`/`input_dim` argument to a layer. When using Sequential models, prefer using an `Input(shape)` object as the first layer in the model instead.\n",
      "  super().__init__(**kwargs)\n"
     ]
    },
    {
     "name": "stdout",
     "output_type": "stream",
     "text": [
      "\n",
      "Epoch 1: val_loss did not improve from 0.00069\n",
      "\n",
      "Epoch 2: val_loss did not improve from 0.00069\n",
      "\n",
      "Epoch 3: val_loss did not improve from 0.00069\n",
      "\n",
      "Epoch 4: val_loss did not improve from 0.00069\n",
      "\n",
      "Epoch 5: val_loss did not improve from 0.00069\n",
      "\n",
      "Epoch 6: val_loss did not improve from 0.00069\n",
      "\n",
      "Epoch 7: val_loss did not improve from 0.00069\n",
      "\n",
      "Epoch 8: val_loss did not improve from 0.00069\n",
      "\n",
      "Epoch 9: val_loss did not improve from 0.00069\n",
      "\n",
      "Epoch 10: val_loss did not improve from 0.00069\n",
      "\n",
      "Epoch 11: val_loss did not improve from 0.00069\n",
      "\n",
      "Epoch 12: val_loss did not improve from 0.00069\n",
      "\n",
      "Epoch 13: val_loss did not improve from 0.00069\n",
      "\n",
      "Epoch 14: val_loss did not improve from 0.00069\n",
      "\n",
      "Epoch 15: val_loss did not improve from 0.00069\n",
      "\n",
      "Epoch 16: val_loss did not improve from 0.00069\n",
      "\n",
      "Epoch 17: val_loss did not improve from 0.00069\n",
      "\n",
      "Epoch 18: val_loss did not improve from 0.00069\n",
      "\n",
      "Epoch 19: val_loss did not improve from 0.00069\n",
      "\n",
      "Epoch 20: val_loss did not improve from 0.00069\n",
      "\n",
      "Epoch 21: val_loss did not improve from 0.00069\n",
      "\n",
      "Epoch 22: val_loss did not improve from 0.00069\n",
      "\n",
      "Epoch 23: val_loss did not improve from 0.00069\n",
      "\n",
      "Epoch 24: val_loss did not improve from 0.00069\n",
      "\n",
      "Epoch 25: val_loss did not improve from 0.00069\n",
      "\n",
      "Epoch 26: val_loss did not improve from 0.00069\n",
      "\n",
      "Epoch 27: val_loss did not improve from 0.00069\n",
      "\n",
      "Epoch 28: val_loss did not improve from 0.00069\n",
      "\n",
      "Epoch 29: val_loss did not improve from 0.00069\n",
      "\n",
      "Epoch 30: val_loss did not improve from 0.00069\n",
      "\n",
      "Epoch 31: val_loss did not improve from 0.00069\n",
      "\n",
      "Epoch 32: val_loss did not improve from 0.00069\n",
      "\n",
      "Epoch 33: val_loss did not improve from 0.00069\n",
      "\n",
      "Epoch 34: val_loss did not improve from 0.00069\n",
      "\n",
      "Epoch 35: val_loss did not improve from 0.00069\n",
      "\n",
      "Epoch 36: val_loss did not improve from 0.00069\n",
      "\n",
      "Epoch 37: val_loss did not improve from 0.00069\n",
      "\n",
      "Epoch 38: val_loss did not improve from 0.00069\n",
      "\n",
      "Epoch 39: val_loss did not improve from 0.00069\n",
      "\n",
      "Epoch 40: val_loss did not improve from 0.00069\n",
      "\n",
      "Epoch 41: val_loss did not improve from 0.00069\n",
      "\n",
      "Epoch 42: val_loss did not improve from 0.00069\n",
      "\n",
      "Epoch 43: val_loss did not improve from 0.00069\n",
      "\n",
      "Epoch 44: val_loss did not improve from 0.00069\n",
      "\n",
      "Epoch 45: val_loss did not improve from 0.00069\n",
      "\n",
      "Epoch 46: val_loss did not improve from 0.00069\n",
      "\n",
      "Epoch 47: val_loss did not improve from 0.00069\n",
      "\n",
      "Epoch 48: val_loss did not improve from 0.00069\n",
      "\n",
      "Epoch 49: val_loss did not improve from 0.00069\n",
      "\n",
      "Epoch 50: val_loss did not improve from 0.00069\n",
      "\n",
      "Epoch 51: val_loss did not improve from 0.00069\n",
      "\n",
      "Epoch 52: val_loss did not improve from 0.00069\n",
      "\n",
      "Epoch 53: val_loss did not improve from 0.00069\n",
      "\n",
      "Epoch 54: val_loss did not improve from 0.00069\n",
      "\n",
      "Epoch 55: val_loss did not improve from 0.00069\n",
      "\n",
      "Epoch 56: val_loss did not improve from 0.00069\n",
      "\n",
      "Epoch 57: val_loss did not improve from 0.00069\n",
      "\n",
      "Epoch 58: val_loss did not improve from 0.00069\n",
      "\n",
      "Epoch 59: val_loss did not improve from 0.00069\n",
      "\n",
      "Epoch 60: val_loss did not improve from 0.00069\n",
      "\n",
      "Epoch 61: val_loss did not improve from 0.00069\n",
      "\n",
      "Epoch 62: val_loss did not improve from 0.00069\n",
      "\n",
      "Epoch 63: val_loss did not improve from 0.00069\n",
      "\n",
      "Epoch 64: val_loss did not improve from 0.00069\n",
      "\n",
      "Epoch 65: val_loss did not improve from 0.00069\n",
      "\n",
      "Epoch 66: val_loss did not improve from 0.00069\n",
      "\n",
      "Epoch 67: val_loss did not improve from 0.00069\n",
      "\n",
      "Epoch 68: val_loss did not improve from 0.00069\n",
      "\n",
      "Epoch 69: val_loss did not improve from 0.00069\n",
      "\n",
      "Epoch 70: val_loss did not improve from 0.00069\n",
      "\n",
      "Epoch 71: val_loss did not improve from 0.00069\n",
      "\n",
      "Epoch 72: val_loss did not improve from 0.00069\n",
      "\n",
      "Epoch 73: val_loss did not improve from 0.00069\n",
      "\n",
      "Epoch 74: val_loss did not improve from 0.00069\n",
      "\n",
      "Epoch 75: val_loss did not improve from 0.00069\n",
      "\n",
      "Epoch 76: val_loss did not improve from 0.00069\n",
      "\n",
      "Epoch 77: val_loss did not improve from 0.00069\n",
      "\n",
      "Epoch 78: val_loss did not improve from 0.00069\n",
      "\n",
      "Epoch 79: val_loss did not improve from 0.00069\n",
      "\n",
      "Epoch 80: val_loss did not improve from 0.00069\n",
      "\n",
      "Epoch 81: val_loss did not improve from 0.00069\n",
      "\n",
      "Epoch 82: val_loss did not improve from 0.00069\n",
      "\n",
      "Epoch 83: val_loss did not improve from 0.00069\n",
      "\n",
      "Epoch 84: val_loss did not improve from 0.00069\n",
      "\n",
      "Epoch 85: val_loss did not improve from 0.00069\n",
      "\n",
      "Epoch 86: val_loss did not improve from 0.00069\n",
      "\n",
      "Epoch 87: val_loss did not improve from 0.00069\n",
      "\n",
      "Epoch 88: val_loss did not improve from 0.00069\n",
      "\n",
      "Epoch 89: val_loss did not improve from 0.00069\n",
      "\n",
      "Epoch 90: val_loss did not improve from 0.00069\n",
      "\n",
      "Epoch 91: val_loss did not improve from 0.00069\n",
      "\n",
      "Epoch 92: val_loss did not improve from 0.00069\n",
      "\n",
      "Epoch 93: val_loss did not improve from 0.00069\n",
      "\n",
      "Epoch 94: val_loss did not improve from 0.00069\n",
      "\n",
      "Epoch 95: val_loss did not improve from 0.00069\n",
      "\n",
      "Epoch 96: val_loss did not improve from 0.00069\n",
      "\n",
      "Epoch 97: val_loss did not improve from 0.00069\n",
      "\n",
      "Epoch 98: val_loss did not improve from 0.00069\n",
      "\n",
      "Epoch 99: val_loss did not improve from 0.00069\n",
      "\n",
      "Epoch 100: val_loss did not improve from 0.00069\n",
      "\n",
      "Epoch 101: val_loss did not improve from 0.00069\n",
      "\n",
      "Epoch 102: val_loss did not improve from 0.00069\n",
      "Epoch 102: early stopping\n",
      "\u001b[1m18/18\u001b[0m \u001b[32m━━━━━━━━━━━━━━━━━━━━\u001b[0m\u001b[37m\u001b[0m \u001b[1m1s\u001b[0m 45ms/step\n",
      "Training with params: {'timesteps': 50, 'hl': [40, 35], 'lr': 0.001, 'batch_size': 64, 'num_epochs': 200}\n"
     ]
    },
    {
     "name": "stderr",
     "output_type": "stream",
     "text": [
      "c:\\Users\\84368\\AppData\\Local\\Programs\\Python\\Python311\\Lib\\site-packages\\keras\\src\\layers\\rnn\\rnn.py:200: UserWarning: Do not pass an `input_shape`/`input_dim` argument to a layer. When using Sequential models, prefer using an `Input(shape)` object as the first layer in the model instead.\n",
      "  super().__init__(**kwargs)\n"
     ]
    },
    {
     "name": "stdout",
     "output_type": "stream",
     "text": [
      "\n",
      "Epoch 1: val_loss did not improve from 0.00069\n",
      "\n",
      "Epoch 2: val_loss did not improve from 0.00069\n",
      "\n",
      "Epoch 3: val_loss did not improve from 0.00069\n",
      "\n",
      "Epoch 4: val_loss did not improve from 0.00069\n",
      "\n",
      "Epoch 5: val_loss did not improve from 0.00069\n",
      "\n",
      "Epoch 6: val_loss did not improve from 0.00069\n",
      "\n",
      "Epoch 7: val_loss did not improve from 0.00069\n",
      "\n",
      "Epoch 8: val_loss did not improve from 0.00069\n",
      "\n",
      "Epoch 9: val_loss did not improve from 0.00069\n",
      "\n",
      "Epoch 10: val_loss did not improve from 0.00069\n",
      "\n",
      "Epoch 11: val_loss did not improve from 0.00069\n",
      "\n",
      "Epoch 12: val_loss did not improve from 0.00069\n",
      "\n",
      "Epoch 13: val_loss did not improve from 0.00069\n",
      "\n",
      "Epoch 14: val_loss did not improve from 0.00069\n",
      "\n",
      "Epoch 15: val_loss did not improve from 0.00069\n",
      "\n",
      "Epoch 16: val_loss did not improve from 0.00069\n",
      "\n",
      "Epoch 17: val_loss did not improve from 0.00069\n",
      "\n",
      "Epoch 18: val_loss did not improve from 0.00069\n",
      "\n",
      "Epoch 19: val_loss did not improve from 0.00069\n",
      "\n",
      "Epoch 20: val_loss did not improve from 0.00069\n",
      "\n",
      "Epoch 21: val_loss did not improve from 0.00069\n",
      "\n",
      "Epoch 22: val_loss did not improve from 0.00069\n",
      "\n",
      "Epoch 23: val_loss did not improve from 0.00069\n",
      "\n",
      "Epoch 24: val_loss did not improve from 0.00069\n",
      "\n",
      "Epoch 25: val_loss did not improve from 0.00069\n",
      "\n",
      "Epoch 26: val_loss did not improve from 0.00069\n",
      "\n",
      "Epoch 27: val_loss did not improve from 0.00069\n",
      "\n",
      "Epoch 28: val_loss did not improve from 0.00069\n",
      "\n",
      "Epoch 29: val_loss did not improve from 0.00069\n",
      "\n",
      "Epoch 30: val_loss did not improve from 0.00069\n",
      "\n",
      "Epoch 31: val_loss did not improve from 0.00069\n",
      "\n",
      "Epoch 32: val_loss did not improve from 0.00069\n",
      "\n",
      "Epoch 33: val_loss did not improve from 0.00069\n",
      "\n",
      "Epoch 34: val_loss did not improve from 0.00069\n",
      "\n",
      "Epoch 35: val_loss did not improve from 0.00069\n",
      "\n",
      "Epoch 36: val_loss did not improve from 0.00069\n",
      "\n",
      "Epoch 37: val_loss did not improve from 0.00069\n",
      "\n",
      "Epoch 38: val_loss did not improve from 0.00069\n",
      "\n",
      "Epoch 39: val_loss did not improve from 0.00069\n",
      "\n",
      "Epoch 40: val_loss did not improve from 0.00069\n",
      "\n",
      "Epoch 41: val_loss did not improve from 0.00069\n",
      "\n",
      "Epoch 42: val_loss did not improve from 0.00069\n",
      "\n",
      "Epoch 43: val_loss did not improve from 0.00069\n",
      "\n",
      "Epoch 44: val_loss did not improve from 0.00069\n",
      "\n",
      "Epoch 45: val_loss did not improve from 0.00069\n",
      "\n",
      "Epoch 46: val_loss did not improve from 0.00069\n",
      "\n",
      "Epoch 47: val_loss did not improve from 0.00069\n",
      "\n",
      "Epoch 48: val_loss did not improve from 0.00069\n",
      "\n",
      "Epoch 49: val_loss did not improve from 0.00069\n",
      "\n",
      "Epoch 50: val_loss did not improve from 0.00069\n",
      "\n",
      "Epoch 51: val_loss did not improve from 0.00069\n",
      "\n",
      "Epoch 52: val_loss did not improve from 0.00069\n",
      "\n",
      "Epoch 53: val_loss did not improve from 0.00069\n",
      "\n",
      "Epoch 54: val_loss did not improve from 0.00069\n",
      "\n",
      "Epoch 55: val_loss did not improve from 0.00069\n",
      "\n",
      "Epoch 56: val_loss did not improve from 0.00069\n",
      "\n",
      "Epoch 57: val_loss did not improve from 0.00069\n",
      "\n",
      "Epoch 58: val_loss did not improve from 0.00069\n",
      "\n",
      "Epoch 59: val_loss did not improve from 0.00069\n",
      "\n",
      "Epoch 60: val_loss did not improve from 0.00069\n",
      "\n",
      "Epoch 61: val_loss did not improve from 0.00069\n",
      "\n",
      "Epoch 62: val_loss did not improve from 0.00069\n",
      "\n",
      "Epoch 63: val_loss did not improve from 0.00069\n",
      "\n",
      "Epoch 64: val_loss did not improve from 0.00069\n",
      "\n",
      "Epoch 65: val_loss did not improve from 0.00069\n",
      "\n",
      "Epoch 66: val_loss did not improve from 0.00069\n",
      "\n",
      "Epoch 67: val_loss did not improve from 0.00069\n",
      "\n",
      "Epoch 68: val_loss did not improve from 0.00069\n",
      "\n",
      "Epoch 69: val_loss did not improve from 0.00069\n",
      "\n",
      "Epoch 70: val_loss did not improve from 0.00069\n",
      "\n",
      "Epoch 71: val_loss did not improve from 0.00069\n",
      "\n",
      "Epoch 72: val_loss did not improve from 0.00069\n",
      "\n",
      "Epoch 73: val_loss did not improve from 0.00069\n",
      "\n",
      "Epoch 74: val_loss did not improve from 0.00069\n",
      "\n",
      "Epoch 75: val_loss did not improve from 0.00069\n",
      "\n",
      "Epoch 76: val_loss did not improve from 0.00069\n",
      "\n",
      "Epoch 77: val_loss did not improve from 0.00069\n",
      "\n",
      "Epoch 78: val_loss did not improve from 0.00069\n",
      "\n",
      "Epoch 79: val_loss did not improve from 0.00069\n",
      "\n",
      "Epoch 80: val_loss did not improve from 0.00069\n",
      "\n",
      "Epoch 81: val_loss did not improve from 0.00069\n",
      "\n",
      "Epoch 82: val_loss did not improve from 0.00069\n",
      "\n",
      "Epoch 83: val_loss did not improve from 0.00069\n",
      "\n",
      "Epoch 84: val_loss did not improve from 0.00069\n",
      "\n",
      "Epoch 85: val_loss did not improve from 0.00069\n",
      "\n",
      "Epoch 86: val_loss did not improve from 0.00069\n",
      "\n",
      "Epoch 87: val_loss did not improve from 0.00069\n",
      "\n",
      "Epoch 88: val_loss did not improve from 0.00069\n",
      "\n",
      "Epoch 89: val_loss did not improve from 0.00069\n",
      "\n",
      "Epoch 90: val_loss did not improve from 0.00069\n",
      "\n",
      "Epoch 91: val_loss did not improve from 0.00069\n",
      "\n",
      "Epoch 92: val_loss did not improve from 0.00069\n",
      "\n",
      "Epoch 93: val_loss did not improve from 0.00069\n",
      "\n",
      "Epoch 94: val_loss did not improve from 0.00069\n",
      "\n",
      "Epoch 95: val_loss did not improve from 0.00069\n",
      "\n",
      "Epoch 96: val_loss did not improve from 0.00069\n",
      "\n",
      "Epoch 97: val_loss did not improve from 0.00069\n",
      "\n",
      "Epoch 98: val_loss did not improve from 0.00069\n",
      "\n",
      "Epoch 99: val_loss did not improve from 0.00069\n",
      "\n",
      "Epoch 100: val_loss did not improve from 0.00069\n",
      "\n",
      "Epoch 101: val_loss did not improve from 0.00069\n",
      "\n",
      "Epoch 102: val_loss did not improve from 0.00069\n",
      "\n",
      "Epoch 103: val_loss did not improve from 0.00069\n",
      "\n",
      "Epoch 104: val_loss did not improve from 0.00069\n",
      "\n",
      "Epoch 105: val_loss did not improve from 0.00069\n",
      "\n",
      "Epoch 106: val_loss did not improve from 0.00069\n",
      "\n",
      "Epoch 107: val_loss did not improve from 0.00069\n",
      "\n",
      "Epoch 108: val_loss did not improve from 0.00069\n",
      "\n",
      "Epoch 109: val_loss did not improve from 0.00069\n",
      "\n",
      "Epoch 110: val_loss did not improve from 0.00069\n",
      "\n",
      "Epoch 111: val_loss did not improve from 0.00069\n",
      "\n",
      "Epoch 112: val_loss did not improve from 0.00069\n",
      "\n",
      "Epoch 113: val_loss did not improve from 0.00069\n",
      "\n",
      "Epoch 114: val_loss did not improve from 0.00069\n",
      "\n",
      "Epoch 115: val_loss did not improve from 0.00069\n",
      "\n",
      "Epoch 116: val_loss did not improve from 0.00069\n",
      "\n",
      "Epoch 117: val_loss did not improve from 0.00069\n",
      "\n",
      "Epoch 118: val_loss did not improve from 0.00069\n",
      "\n",
      "Epoch 119: val_loss did not improve from 0.00069\n",
      "\n",
      "Epoch 120: val_loss did not improve from 0.00069\n",
      "\n",
      "Epoch 121: val_loss did not improve from 0.00069\n",
      "\n",
      "Epoch 122: val_loss did not improve from 0.00069\n",
      "\n",
      "Epoch 123: val_loss did not improve from 0.00069\n",
      "\n",
      "Epoch 124: val_loss did not improve from 0.00069\n",
      "\n",
      "Epoch 125: val_loss did not improve from 0.00069\n",
      "\n",
      "Epoch 126: val_loss did not improve from 0.00069\n",
      "\n",
      "Epoch 127: val_loss did not improve from 0.00069\n",
      "\n",
      "Epoch 128: val_loss did not improve from 0.00069\n",
      "\n",
      "Epoch 129: val_loss did not improve from 0.00069\n",
      "\n",
      "Epoch 130: val_loss did not improve from 0.00069\n",
      "\n",
      "Epoch 131: val_loss did not improve from 0.00069\n",
      "\n",
      "Epoch 132: val_loss did not improve from 0.00069\n",
      "\n",
      "Epoch 133: val_loss did not improve from 0.00069\n",
      "\n",
      "Epoch 134: val_loss did not improve from 0.00069\n",
      "\n",
      "Epoch 135: val_loss did not improve from 0.00069\n",
      "\n",
      "Epoch 136: val_loss did not improve from 0.00069\n",
      "\n",
      "Epoch 137: val_loss did not improve from 0.00069\n",
      "\n",
      "Epoch 138: val_loss did not improve from 0.00069\n",
      "\n",
      "Epoch 139: val_loss did not improve from 0.00069\n",
      "\n",
      "Epoch 140: val_loss did not improve from 0.00069\n",
      "\n",
      "Epoch 141: val_loss did not improve from 0.00069\n",
      "\n",
      "Epoch 142: val_loss did not improve from 0.00069\n",
      "\n",
      "Epoch 143: val_loss did not improve from 0.00069\n",
      "\n",
      "Epoch 144: val_loss did not improve from 0.00069\n",
      "\n",
      "Epoch 145: val_loss did not improve from 0.00069\n",
      "\n",
      "Epoch 146: val_loss did not improve from 0.00069\n",
      "\n",
      "Epoch 147: val_loss did not improve from 0.00069\n",
      "\n",
      "Epoch 148: val_loss did not improve from 0.00069\n",
      "\n",
      "Epoch 149: val_loss did not improve from 0.00069\n",
      "\n",
      "Epoch 150: val_loss did not improve from 0.00069\n",
      "\n",
      "Epoch 151: val_loss did not improve from 0.00069\n",
      "\n",
      "Epoch 152: val_loss did not improve from 0.00069\n",
      "\n",
      "Epoch 153: val_loss did not improve from 0.00069\n",
      "\n",
      "Epoch 154: val_loss did not improve from 0.00069\n",
      "\n",
      "Epoch 155: val_loss did not improve from 0.00069\n",
      "\n",
      "Epoch 156: val_loss did not improve from 0.00069\n",
      "\n",
      "Epoch 157: val_loss did not improve from 0.00069\n",
      "\n",
      "Epoch 158: val_loss did not improve from 0.00069\n",
      "\n",
      "Epoch 159: val_loss did not improve from 0.00069\n",
      "\n",
      "Epoch 160: val_loss did not improve from 0.00069\n",
      "\n",
      "Epoch 161: val_loss did not improve from 0.00069\n",
      "\n",
      "Epoch 162: val_loss did not improve from 0.00069\n",
      "\n",
      "Epoch 163: val_loss did not improve from 0.00069\n",
      "\n",
      "Epoch 164: val_loss did not improve from 0.00069\n",
      "\n",
      "Epoch 165: val_loss did not improve from 0.00069\n",
      "\n",
      "Epoch 166: val_loss did not improve from 0.00069\n",
      "\n",
      "Epoch 167: val_loss did not improve from 0.00069\n",
      "\n",
      "Epoch 168: val_loss did not improve from 0.00069\n",
      "\n",
      "Epoch 169: val_loss did not improve from 0.00069\n",
      "\n",
      "Epoch 170: val_loss did not improve from 0.00069\n",
      "\n",
      "Epoch 171: val_loss did not improve from 0.00069\n",
      "\n",
      "Epoch 172: val_loss did not improve from 0.00069\n",
      "\n",
      "Epoch 173: val_loss did not improve from 0.00069\n",
      "\n",
      "Epoch 174: val_loss did not improve from 0.00069\n",
      "\n",
      "Epoch 175: val_loss did not improve from 0.00069\n",
      "\n",
      "Epoch 176: val_loss did not improve from 0.00069\n",
      "\n",
      "Epoch 177: val_loss did not improve from 0.00069\n",
      "\n",
      "Epoch 178: val_loss did not improve from 0.00069\n",
      "\n",
      "Epoch 179: val_loss did not improve from 0.00069\n",
      "\n",
      "Epoch 180: val_loss did not improve from 0.00069\n",
      "\n",
      "Epoch 181: val_loss did not improve from 0.00069\n",
      "\n",
      "Epoch 182: val_loss did not improve from 0.00069\n",
      "\n",
      "Epoch 183: val_loss did not improve from 0.00069\n",
      "\n",
      "Epoch 184: val_loss did not improve from 0.00069\n",
      "\n",
      "Epoch 185: val_loss did not improve from 0.00069\n",
      "\n",
      "Epoch 186: val_loss did not improve from 0.00069\n",
      "\n",
      "Epoch 187: val_loss did not improve from 0.00069\n",
      "\n",
      "Epoch 188: val_loss did not improve from 0.00069\n",
      "\n",
      "Epoch 189: val_loss did not improve from 0.00069\n",
      "\n",
      "Epoch 190: val_loss did not improve from 0.00069\n",
      "\n",
      "Epoch 191: val_loss did not improve from 0.00069\n",
      "\n",
      "Epoch 192: val_loss did not improve from 0.00069\n",
      "\n",
      "Epoch 193: val_loss did not improve from 0.00069\n",
      "\n",
      "Epoch 194: val_loss did not improve from 0.00069\n",
      "\n",
      "Epoch 195: val_loss did not improve from 0.00069\n",
      "\n",
      "Epoch 196: val_loss did not improve from 0.00069\n",
      "\n",
      "Epoch 197: val_loss did not improve from 0.00069\n",
      "\n",
      "Epoch 198: val_loss did not improve from 0.00069\n",
      "\n",
      "Epoch 199: val_loss did not improve from 0.00069\n",
      "\n",
      "Epoch 200: val_loss did not improve from 0.00069\n",
      "\u001b[1m18/18\u001b[0m \u001b[32m━━━━━━━━━━━━━━━━━━━━\u001b[0m\u001b[37m\u001b[0m \u001b[1m1s\u001b[0m 52ms/step\n",
      "Training with params: {'timesteps': 50, 'hl': [40, 35], 'lr': 0.001, 'batch_size': 64, 'num_epochs': 250}\n"
     ]
    },
    {
     "name": "stderr",
     "output_type": "stream",
     "text": [
      "c:\\Users\\84368\\AppData\\Local\\Programs\\Python\\Python311\\Lib\\site-packages\\keras\\src\\layers\\rnn\\rnn.py:200: UserWarning: Do not pass an `input_shape`/`input_dim` argument to a layer. When using Sequential models, prefer using an `Input(shape)` object as the first layer in the model instead.\n",
      "  super().__init__(**kwargs)\n"
     ]
    },
    {
     "name": "stdout",
     "output_type": "stream",
     "text": [
      "\n",
      "Epoch 1: val_loss did not improve from 0.00069\n",
      "\n",
      "Epoch 2: val_loss did not improve from 0.00069\n",
      "\n",
      "Epoch 3: val_loss did not improve from 0.00069\n",
      "\n",
      "Epoch 4: val_loss did not improve from 0.00069\n",
      "\n",
      "Epoch 5: val_loss did not improve from 0.00069\n",
      "\n",
      "Epoch 6: val_loss did not improve from 0.00069\n",
      "\n",
      "Epoch 7: val_loss did not improve from 0.00069\n",
      "\n",
      "Epoch 8: val_loss did not improve from 0.00069\n",
      "\n",
      "Epoch 9: val_loss did not improve from 0.00069\n",
      "\n",
      "Epoch 10: val_loss did not improve from 0.00069\n",
      "\n",
      "Epoch 11: val_loss did not improve from 0.00069\n",
      "\n",
      "Epoch 12: val_loss did not improve from 0.00069\n",
      "\n",
      "Epoch 13: val_loss did not improve from 0.00069\n",
      "\n",
      "Epoch 14: val_loss did not improve from 0.00069\n",
      "\n",
      "Epoch 15: val_loss did not improve from 0.00069\n",
      "\n",
      "Epoch 16: val_loss did not improve from 0.00069\n",
      "\n",
      "Epoch 17: val_loss did not improve from 0.00069\n",
      "\n",
      "Epoch 18: val_loss did not improve from 0.00069\n",
      "\n",
      "Epoch 19: val_loss did not improve from 0.00069\n",
      "\n",
      "Epoch 20: val_loss did not improve from 0.00069\n",
      "\n",
      "Epoch 21: val_loss did not improve from 0.00069\n",
      "\n",
      "Epoch 22: val_loss did not improve from 0.00069\n",
      "\n",
      "Epoch 23: val_loss did not improve from 0.00069\n",
      "\n",
      "Epoch 24: val_loss did not improve from 0.00069\n",
      "\n",
      "Epoch 25: val_loss did not improve from 0.00069\n",
      "\n",
      "Epoch 26: val_loss did not improve from 0.00069\n",
      "\n",
      "Epoch 27: val_loss did not improve from 0.00069\n",
      "\n",
      "Epoch 28: val_loss did not improve from 0.00069\n",
      "\n",
      "Epoch 29: val_loss did not improve from 0.00069\n",
      "\n",
      "Epoch 30: val_loss did not improve from 0.00069\n",
      "\n",
      "Epoch 31: val_loss did not improve from 0.00069\n",
      "\n",
      "Epoch 32: val_loss did not improve from 0.00069\n",
      "\n",
      "Epoch 33: val_loss did not improve from 0.00069\n",
      "\n",
      "Epoch 34: val_loss did not improve from 0.00069\n",
      "\n",
      "Epoch 35: val_loss did not improve from 0.00069\n",
      "\n",
      "Epoch 36: val_loss did not improve from 0.00069\n",
      "\n",
      "Epoch 37: val_loss did not improve from 0.00069\n",
      "\n",
      "Epoch 38: val_loss did not improve from 0.00069\n",
      "\n",
      "Epoch 39: val_loss did not improve from 0.00069\n",
      "\n",
      "Epoch 40: val_loss did not improve from 0.00069\n",
      "\n",
      "Epoch 41: val_loss did not improve from 0.00069\n",
      "\n",
      "Epoch 42: val_loss did not improve from 0.00069\n",
      "\n",
      "Epoch 43: val_loss did not improve from 0.00069\n",
      "\n",
      "Epoch 44: val_loss did not improve from 0.00069\n",
      "\n",
      "Epoch 45: val_loss did not improve from 0.00069\n",
      "\n",
      "Epoch 46: val_loss did not improve from 0.00069\n",
      "\n",
      "Epoch 47: val_loss did not improve from 0.00069\n",
      "\n",
      "Epoch 48: val_loss did not improve from 0.00069\n",
      "\n",
      "Epoch 49: val_loss did not improve from 0.00069\n",
      "\n",
      "Epoch 50: val_loss did not improve from 0.00069\n",
      "\n",
      "Epoch 51: val_loss did not improve from 0.00069\n",
      "\n",
      "Epoch 52: val_loss did not improve from 0.00069\n",
      "\n",
      "Epoch 53: val_loss did not improve from 0.00069\n",
      "\n",
      "Epoch 54: val_loss did not improve from 0.00069\n",
      "\n",
      "Epoch 55: val_loss did not improve from 0.00069\n",
      "\n",
      "Epoch 56: val_loss did not improve from 0.00069\n",
      "\n",
      "Epoch 57: val_loss did not improve from 0.00069\n",
      "\n",
      "Epoch 58: val_loss did not improve from 0.00069\n",
      "\n",
      "Epoch 59: val_loss did not improve from 0.00069\n",
      "\n",
      "Epoch 60: val_loss did not improve from 0.00069\n",
      "\n",
      "Epoch 61: val_loss did not improve from 0.00069\n",
      "\n",
      "Epoch 62: val_loss did not improve from 0.00069\n",
      "\n",
      "Epoch 63: val_loss did not improve from 0.00069\n",
      "\n",
      "Epoch 64: val_loss did not improve from 0.00069\n",
      "\n",
      "Epoch 65: val_loss did not improve from 0.00069\n",
      "\n",
      "Epoch 66: val_loss did not improve from 0.00069\n",
      "\n",
      "Epoch 67: val_loss did not improve from 0.00069\n",
      "\n",
      "Epoch 68: val_loss did not improve from 0.00069\n",
      "\n",
      "Epoch 69: val_loss did not improve from 0.00069\n",
      "\n",
      "Epoch 70: val_loss did not improve from 0.00069\n",
      "\n",
      "Epoch 71: val_loss did not improve from 0.00069\n",
      "\n",
      "Epoch 72: val_loss did not improve from 0.00069\n",
      "\n",
      "Epoch 73: val_loss did not improve from 0.00069\n",
      "\n",
      "Epoch 74: val_loss did not improve from 0.00069\n",
      "\n",
      "Epoch 75: val_loss did not improve from 0.00069\n",
      "\n",
      "Epoch 76: val_loss did not improve from 0.00069\n",
      "\n",
      "Epoch 77: val_loss did not improve from 0.00069\n",
      "\n",
      "Epoch 78: val_loss did not improve from 0.00069\n",
      "\n",
      "Epoch 79: val_loss did not improve from 0.00069\n",
      "\n",
      "Epoch 80: val_loss did not improve from 0.00069\n",
      "\n",
      "Epoch 81: val_loss did not improve from 0.00069\n",
      "\n",
      "Epoch 82: val_loss did not improve from 0.00069\n",
      "\n",
      "Epoch 83: val_loss did not improve from 0.00069\n",
      "\n",
      "Epoch 84: val_loss did not improve from 0.00069\n",
      "\n",
      "Epoch 85: val_loss did not improve from 0.00069\n",
      "\n",
      "Epoch 86: val_loss did not improve from 0.00069\n",
      "\n",
      "Epoch 87: val_loss did not improve from 0.00069\n",
      "\n",
      "Epoch 88: val_loss did not improve from 0.00069\n",
      "\n",
      "Epoch 89: val_loss did not improve from 0.00069\n",
      "\n",
      "Epoch 90: val_loss did not improve from 0.00069\n",
      "\n",
      "Epoch 91: val_loss did not improve from 0.00069\n",
      "\n",
      "Epoch 92: val_loss did not improve from 0.00069\n",
      "\n",
      "Epoch 93: val_loss did not improve from 0.00069\n",
      "\n",
      "Epoch 94: val_loss did not improve from 0.00069\n",
      "\n",
      "Epoch 95: val_loss did not improve from 0.00069\n",
      "\n",
      "Epoch 96: val_loss did not improve from 0.00069\n",
      "\n",
      "Epoch 97: val_loss did not improve from 0.00069\n",
      "\n",
      "Epoch 98: val_loss did not improve from 0.00069\n",
      "\n",
      "Epoch 99: val_loss did not improve from 0.00069\n",
      "\n",
      "Epoch 100: val_loss did not improve from 0.00069\n",
      "\n",
      "Epoch 101: val_loss did not improve from 0.00069\n",
      "\n",
      "Epoch 102: val_loss did not improve from 0.00069\n",
      "\n",
      "Epoch 103: val_loss did not improve from 0.00069\n",
      "\n",
      "Epoch 104: val_loss did not improve from 0.00069\n",
      "\n",
      "Epoch 105: val_loss did not improve from 0.00069\n",
      "\n",
      "Epoch 106: val_loss did not improve from 0.00069\n",
      "\n",
      "Epoch 107: val_loss did not improve from 0.00069\n",
      "\n",
      "Epoch 108: val_loss did not improve from 0.00069\n",
      "\n",
      "Epoch 109: val_loss did not improve from 0.00069\n",
      "\n",
      "Epoch 110: val_loss did not improve from 0.00069\n",
      "\n",
      "Epoch 111: val_loss did not improve from 0.00069\n",
      "\n",
      "Epoch 112: val_loss did not improve from 0.00069\n",
      "\n",
      "Epoch 113: val_loss did not improve from 0.00069\n",
      "\n",
      "Epoch 114: val_loss did not improve from 0.00069\n",
      "\n",
      "Epoch 115: val_loss did not improve from 0.00069\n",
      "\n",
      "Epoch 116: val_loss did not improve from 0.00069\n",
      "\n",
      "Epoch 117: val_loss did not improve from 0.00069\n",
      "\n",
      "Epoch 118: val_loss did not improve from 0.00069\n",
      "\n",
      "Epoch 119: val_loss did not improve from 0.00069\n",
      "\n",
      "Epoch 120: val_loss did not improve from 0.00069\n",
      "\n",
      "Epoch 121: val_loss did not improve from 0.00069\n",
      "\n",
      "Epoch 122: val_loss did not improve from 0.00069\n",
      "\n",
      "Epoch 123: val_loss did not improve from 0.00069\n",
      "\n",
      "Epoch 124: val_loss did not improve from 0.00069\n",
      "\n",
      "Epoch 125: val_loss did not improve from 0.00069\n",
      "\n",
      "Epoch 126: val_loss did not improve from 0.00069\n",
      "\n",
      "Epoch 127: val_loss did not improve from 0.00069\n",
      "\n",
      "Epoch 128: val_loss did not improve from 0.00069\n",
      "\n",
      "Epoch 129: val_loss did not improve from 0.00069\n",
      "\n",
      "Epoch 130: val_loss did not improve from 0.00069\n",
      "\n",
      "Epoch 131: val_loss did not improve from 0.00069\n",
      "\n",
      "Epoch 132: val_loss did not improve from 0.00069\n",
      "\n",
      "Epoch 133: val_loss did not improve from 0.00069\n",
      "\n",
      "Epoch 134: val_loss did not improve from 0.00069\n",
      "\n",
      "Epoch 135: val_loss did not improve from 0.00069\n",
      "\n",
      "Epoch 136: val_loss did not improve from 0.00069\n",
      "\n",
      "Epoch 137: val_loss did not improve from 0.00069\n",
      "\n",
      "Epoch 138: val_loss did not improve from 0.00069\n",
      "\n",
      "Epoch 139: val_loss did not improve from 0.00069\n",
      "\n",
      "Epoch 140: val_loss did not improve from 0.00069\n",
      "\n",
      "Epoch 141: val_loss did not improve from 0.00069\n",
      "\n",
      "Epoch 142: val_loss did not improve from 0.00069\n",
      "\n",
      "Epoch 143: val_loss did not improve from 0.00069\n",
      "\n",
      "Epoch 144: val_loss did not improve from 0.00069\n",
      "\n",
      "Epoch 145: val_loss did not improve from 0.00069\n",
      "\n",
      "Epoch 146: val_loss did not improve from 0.00069\n",
      "\n",
      "Epoch 147: val_loss did not improve from 0.00069\n",
      "\n",
      "Epoch 148: val_loss did not improve from 0.00069\n",
      "\n",
      "Epoch 149: val_loss did not improve from 0.00069\n",
      "\n",
      "Epoch 150: val_loss did not improve from 0.00069\n",
      "\n",
      "Epoch 151: val_loss did not improve from 0.00069\n",
      "\n",
      "Epoch 152: val_loss did not improve from 0.00069\n",
      "\n",
      "Epoch 153: val_loss did not improve from 0.00069\n",
      "\n",
      "Epoch 154: val_loss did not improve from 0.00069\n",
      "\n",
      "Epoch 155: val_loss did not improve from 0.00069\n",
      "\n",
      "Epoch 156: val_loss did not improve from 0.00069\n",
      "\n",
      "Epoch 157: val_loss did not improve from 0.00069\n",
      "\n",
      "Epoch 158: val_loss did not improve from 0.00069\n",
      "\n",
      "Epoch 159: val_loss did not improve from 0.00069\n",
      "\n",
      "Epoch 160: val_loss did not improve from 0.00069\n",
      "\n",
      "Epoch 161: val_loss did not improve from 0.00069\n",
      "\n",
      "Epoch 162: val_loss did not improve from 0.00069\n",
      "\n",
      "Epoch 163: val_loss did not improve from 0.00069\n",
      "\n",
      "Epoch 164: val_loss did not improve from 0.00069\n",
      "\n",
      "Epoch 165: val_loss did not improve from 0.00069\n",
      "\n",
      "Epoch 166: val_loss did not improve from 0.00069\n",
      "\n",
      "Epoch 167: val_loss did not improve from 0.00069\n",
      "\n",
      "Epoch 168: val_loss did not improve from 0.00069\n",
      "\n",
      "Epoch 169: val_loss did not improve from 0.00069\n",
      "\n",
      "Epoch 170: val_loss did not improve from 0.00069\n",
      "\n",
      "Epoch 171: val_loss did not improve from 0.00069\n",
      "\n",
      "Epoch 172: val_loss did not improve from 0.00069\n",
      "\n",
      "Epoch 173: val_loss did not improve from 0.00069\n",
      "\n",
      "Epoch 174: val_loss did not improve from 0.00069\n",
      "\n",
      "Epoch 175: val_loss did not improve from 0.00069\n",
      "\n",
      "Epoch 176: val_loss did not improve from 0.00069\n",
      "\n",
      "Epoch 177: val_loss did not improve from 0.00069\n",
      "\n",
      "Epoch 178: val_loss did not improve from 0.00069\n",
      "\n",
      "Epoch 179: val_loss did not improve from 0.00069\n",
      "\n",
      "Epoch 180: val_loss did not improve from 0.00069\n",
      "\n",
      "Epoch 181: val_loss did not improve from 0.00069\n",
      "\n",
      "Epoch 182: val_loss did not improve from 0.00069\n",
      "\n",
      "Epoch 183: val_loss did not improve from 0.00069\n",
      "\n",
      "Epoch 184: val_loss did not improve from 0.00069\n",
      "\n",
      "Epoch 185: val_loss did not improve from 0.00069\n",
      "\n",
      "Epoch 186: val_loss did not improve from 0.00069\n",
      "\n",
      "Epoch 187: val_loss did not improve from 0.00069\n",
      "\n",
      "Epoch 188: val_loss did not improve from 0.00069\n",
      "\n",
      "Epoch 189: val_loss did not improve from 0.00069\n",
      "\n",
      "Epoch 190: val_loss did not improve from 0.00069\n",
      "\n",
      "Epoch 191: val_loss did not improve from 0.00069\n",
      "\n",
      "Epoch 192: val_loss did not improve from 0.00069\n",
      "\n",
      "Epoch 193: val_loss did not improve from 0.00069\n",
      "\n",
      "Epoch 194: val_loss did not improve from 0.00069\n",
      "\n",
      "Epoch 195: val_loss did not improve from 0.00069\n",
      "\n",
      "Epoch 196: val_loss did not improve from 0.00069\n",
      "\n",
      "Epoch 197: val_loss did not improve from 0.00069\n",
      "\n",
      "Epoch 198: val_loss did not improve from 0.00069\n",
      "\n",
      "Epoch 199: val_loss did not improve from 0.00069\n",
      "\n",
      "Epoch 200: val_loss did not improve from 0.00069\n",
      "\n",
      "Epoch 201: val_loss did not improve from 0.00069\n",
      "\n",
      "Epoch 202: val_loss did not improve from 0.00069\n",
      "\n",
      "Epoch 203: val_loss did not improve from 0.00069\n",
      "\n",
      "Epoch 204: val_loss did not improve from 0.00069\n",
      "\n",
      "Epoch 205: val_loss did not improve from 0.00069\n",
      "\n",
      "Epoch 206: val_loss did not improve from 0.00069\n",
      "\n",
      "Epoch 207: val_loss did not improve from 0.00069\n",
      "Epoch 207: early stopping\n",
      "\u001b[1m18/18\u001b[0m \u001b[32m━━━━━━━━━━━━━━━━━━━━\u001b[0m\u001b[37m\u001b[0m \u001b[1m1s\u001b[0m 50ms/step\n",
      "Training with params: {'timesteps': 50, 'hl': [40, 35], 'lr': 0.0001, 'batch_size': 32, 'num_epochs': 200}\n"
     ]
    },
    {
     "name": "stderr",
     "output_type": "stream",
     "text": [
      "c:\\Users\\84368\\AppData\\Local\\Programs\\Python\\Python311\\Lib\\site-packages\\keras\\src\\layers\\rnn\\rnn.py:200: UserWarning: Do not pass an `input_shape`/`input_dim` argument to a layer. When using Sequential models, prefer using an `Input(shape)` object as the first layer in the model instead.\n",
      "  super().__init__(**kwargs)\n"
     ]
    },
    {
     "name": "stdout",
     "output_type": "stream",
     "text": [
      "\n",
      "Epoch 1: val_loss did not improve from 0.00069\n",
      "\n",
      "Epoch 2: val_loss did not improve from 0.00069\n",
      "\n",
      "Epoch 3: val_loss did not improve from 0.00069\n",
      "\n",
      "Epoch 4: val_loss did not improve from 0.00069\n",
      "\n",
      "Epoch 5: val_loss did not improve from 0.00069\n",
      "\n",
      "Epoch 6: val_loss did not improve from 0.00069\n",
      "\n",
      "Epoch 7: val_loss did not improve from 0.00069\n",
      "\n",
      "Epoch 8: val_loss did not improve from 0.00069\n",
      "\n",
      "Epoch 9: val_loss did not improve from 0.00069\n",
      "\n",
      "Epoch 10: val_loss did not improve from 0.00069\n",
      "\n",
      "Epoch 11: val_loss did not improve from 0.00069\n",
      "\n",
      "Epoch 12: val_loss did not improve from 0.00069\n",
      "\n",
      "Epoch 13: val_loss did not improve from 0.00069\n",
      "\n",
      "Epoch 14: val_loss did not improve from 0.00069\n",
      "\n",
      "Epoch 15: val_loss did not improve from 0.00069\n",
      "\n",
      "Epoch 16: val_loss did not improve from 0.00069\n",
      "\n",
      "Epoch 17: val_loss did not improve from 0.00069\n",
      "\n",
      "Epoch 18: val_loss did not improve from 0.00069\n",
      "\n",
      "Epoch 19: val_loss did not improve from 0.00069\n",
      "\n",
      "Epoch 20: val_loss did not improve from 0.00069\n",
      "\n",
      "Epoch 21: val_loss did not improve from 0.00069\n",
      "\n",
      "Epoch 22: val_loss did not improve from 0.00069\n",
      "\n",
      "Epoch 23: val_loss did not improve from 0.00069\n",
      "\n",
      "Epoch 24: val_loss did not improve from 0.00069\n",
      "\n",
      "Epoch 25: val_loss did not improve from 0.00069\n",
      "\n",
      "Epoch 26: val_loss did not improve from 0.00069\n",
      "\n",
      "Epoch 27: val_loss did not improve from 0.00069\n",
      "\n",
      "Epoch 28: val_loss did not improve from 0.00069\n",
      "\n",
      "Epoch 29: val_loss did not improve from 0.00069\n",
      "\n",
      "Epoch 30: val_loss did not improve from 0.00069\n",
      "\n",
      "Epoch 31: val_loss did not improve from 0.00069\n",
      "\n",
      "Epoch 32: val_loss did not improve from 0.00069\n",
      "\n",
      "Epoch 33: val_loss did not improve from 0.00069\n",
      "\n",
      "Epoch 34: val_loss did not improve from 0.00069\n",
      "\n",
      "Epoch 35: val_loss did not improve from 0.00069\n",
      "\n",
      "Epoch 36: val_loss did not improve from 0.00069\n",
      "\n",
      "Epoch 37: val_loss did not improve from 0.00069\n",
      "\n",
      "Epoch 38: val_loss did not improve from 0.00069\n",
      "\n",
      "Epoch 39: val_loss did not improve from 0.00069\n",
      "\n",
      "Epoch 40: val_loss did not improve from 0.00069\n",
      "\n",
      "Epoch 41: val_loss did not improve from 0.00069\n",
      "\n",
      "Epoch 42: val_loss did not improve from 0.00069\n",
      "\n",
      "Epoch 43: val_loss did not improve from 0.00069\n",
      "\n",
      "Epoch 44: val_loss did not improve from 0.00069\n",
      "\n",
      "Epoch 45: val_loss did not improve from 0.00069\n",
      "\n",
      "Epoch 46: val_loss did not improve from 0.00069\n",
      "\n",
      "Epoch 47: val_loss did not improve from 0.00069\n",
      "\n",
      "Epoch 48: val_loss did not improve from 0.00069\n",
      "\n",
      "Epoch 49: val_loss did not improve from 0.00069\n",
      "\n",
      "Epoch 50: val_loss did not improve from 0.00069\n",
      "\n",
      "Epoch 51: val_loss did not improve from 0.00069\n",
      "\n",
      "Epoch 52: val_loss did not improve from 0.00069\n",
      "\n",
      "Epoch 53: val_loss did not improve from 0.00069\n",
      "\n",
      "Epoch 54: val_loss did not improve from 0.00069\n",
      "\n",
      "Epoch 55: val_loss did not improve from 0.00069\n",
      "\n",
      "Epoch 56: val_loss did not improve from 0.00069\n",
      "\n",
      "Epoch 57: val_loss did not improve from 0.00069\n",
      "\n",
      "Epoch 58: val_loss did not improve from 0.00069\n",
      "\n",
      "Epoch 59: val_loss did not improve from 0.00069\n",
      "\n",
      "Epoch 60: val_loss did not improve from 0.00069\n",
      "\n",
      "Epoch 61: val_loss did not improve from 0.00069\n",
      "\n",
      "Epoch 62: val_loss did not improve from 0.00069\n",
      "\n",
      "Epoch 63: val_loss did not improve from 0.00069\n",
      "\n",
      "Epoch 64: val_loss did not improve from 0.00069\n",
      "\n",
      "Epoch 65: val_loss did not improve from 0.00069\n",
      "\n",
      "Epoch 66: val_loss did not improve from 0.00069\n",
      "\n",
      "Epoch 67: val_loss did not improve from 0.00069\n",
      "\n",
      "Epoch 68: val_loss did not improve from 0.00069\n",
      "\n",
      "Epoch 69: val_loss did not improve from 0.00069\n",
      "\n",
      "Epoch 70: val_loss did not improve from 0.00069\n",
      "\n",
      "Epoch 71: val_loss did not improve from 0.00069\n",
      "\n",
      "Epoch 72: val_loss did not improve from 0.00069\n",
      "\n",
      "Epoch 73: val_loss did not improve from 0.00069\n",
      "\n",
      "Epoch 74: val_loss did not improve from 0.00069\n",
      "\n",
      "Epoch 75: val_loss did not improve from 0.00069\n",
      "\n",
      "Epoch 76: val_loss did not improve from 0.00069\n",
      "\n",
      "Epoch 77: val_loss did not improve from 0.00069\n",
      "\n",
      "Epoch 78: val_loss did not improve from 0.00069\n",
      "\n",
      "Epoch 79: val_loss did not improve from 0.00069\n",
      "\n",
      "Epoch 80: val_loss did not improve from 0.00069\n",
      "\n",
      "Epoch 81: val_loss did not improve from 0.00069\n",
      "\n",
      "Epoch 82: val_loss did not improve from 0.00069\n",
      "\n",
      "Epoch 83: val_loss did not improve from 0.00069\n",
      "\n",
      "Epoch 84: val_loss did not improve from 0.00069\n",
      "\n",
      "Epoch 85: val_loss did not improve from 0.00069\n",
      "\n",
      "Epoch 86: val_loss did not improve from 0.00069\n",
      "\n",
      "Epoch 87: val_loss did not improve from 0.00069\n",
      "\n",
      "Epoch 88: val_loss did not improve from 0.00069\n",
      "\n",
      "Epoch 89: val_loss did not improve from 0.00069\n",
      "\n",
      "Epoch 90: val_loss did not improve from 0.00069\n",
      "Epoch 90: early stopping\n",
      "\u001b[1m18/18\u001b[0m \u001b[32m━━━━━━━━━━━━━━━━━━━━\u001b[0m\u001b[37m\u001b[0m \u001b[1m2s\u001b[0m 55ms/step\n",
      "Training with params: {'timesteps': 50, 'hl': [40, 35], 'lr': 0.0001, 'batch_size': 32, 'num_epochs': 250}\n"
     ]
    },
    {
     "name": "stderr",
     "output_type": "stream",
     "text": [
      "c:\\Users\\84368\\AppData\\Local\\Programs\\Python\\Python311\\Lib\\site-packages\\keras\\src\\layers\\rnn\\rnn.py:200: UserWarning: Do not pass an `input_shape`/`input_dim` argument to a layer. When using Sequential models, prefer using an `Input(shape)` object as the first layer in the model instead.\n",
      "  super().__init__(**kwargs)\n"
     ]
    },
    {
     "name": "stdout",
     "output_type": "stream",
     "text": [
      "\n",
      "Epoch 1: val_loss did not improve from 0.00069\n",
      "\n",
      "Epoch 2: val_loss did not improve from 0.00069\n",
      "\n",
      "Epoch 3: val_loss did not improve from 0.00069\n",
      "\n",
      "Epoch 4: val_loss did not improve from 0.00069\n",
      "\n",
      "Epoch 5: val_loss did not improve from 0.00069\n",
      "\n",
      "Epoch 6: val_loss did not improve from 0.00069\n",
      "\n",
      "Epoch 7: val_loss did not improve from 0.00069\n",
      "\n",
      "Epoch 8: val_loss did not improve from 0.00069\n",
      "\n",
      "Epoch 9: val_loss did not improve from 0.00069\n",
      "\n",
      "Epoch 10: val_loss did not improve from 0.00069\n",
      "\n",
      "Epoch 11: val_loss did not improve from 0.00069\n",
      "\n",
      "Epoch 12: val_loss did not improve from 0.00069\n",
      "\n",
      "Epoch 13: val_loss did not improve from 0.00069\n",
      "\n",
      "Epoch 14: val_loss did not improve from 0.00069\n",
      "\n",
      "Epoch 15: val_loss did not improve from 0.00069\n",
      "\n",
      "Epoch 16: val_loss did not improve from 0.00069\n",
      "\n",
      "Epoch 17: val_loss did not improve from 0.00069\n",
      "\n",
      "Epoch 18: val_loss did not improve from 0.00069\n",
      "\n",
      "Epoch 19: val_loss did not improve from 0.00069\n",
      "\n",
      "Epoch 20: val_loss did not improve from 0.00069\n",
      "\n",
      "Epoch 21: val_loss did not improve from 0.00069\n",
      "\n",
      "Epoch 22: val_loss did not improve from 0.00069\n",
      "\n",
      "Epoch 23: val_loss did not improve from 0.00069\n",
      "\n",
      "Epoch 24: val_loss did not improve from 0.00069\n",
      "\n",
      "Epoch 25: val_loss did not improve from 0.00069\n",
      "\n",
      "Epoch 26: val_loss did not improve from 0.00069\n",
      "\n",
      "Epoch 27: val_loss did not improve from 0.00069\n",
      "\n",
      "Epoch 28: val_loss did not improve from 0.00069\n",
      "\n",
      "Epoch 29: val_loss did not improve from 0.00069\n",
      "\n",
      "Epoch 30: val_loss did not improve from 0.00069\n",
      "\n",
      "Epoch 31: val_loss did not improve from 0.00069\n",
      "\n",
      "Epoch 32: val_loss did not improve from 0.00069\n",
      "\n",
      "Epoch 33: val_loss did not improve from 0.00069\n",
      "\n",
      "Epoch 34: val_loss did not improve from 0.00069\n",
      "\n",
      "Epoch 35: val_loss did not improve from 0.00069\n",
      "\n",
      "Epoch 36: val_loss did not improve from 0.00069\n",
      "\n",
      "Epoch 37: val_loss did not improve from 0.00069\n",
      "\n",
      "Epoch 38: val_loss did not improve from 0.00069\n",
      "\n",
      "Epoch 39: val_loss did not improve from 0.00069\n",
      "\n",
      "Epoch 40: val_loss did not improve from 0.00069\n",
      "\n",
      "Epoch 41: val_loss did not improve from 0.00069\n",
      "\n",
      "Epoch 42: val_loss did not improve from 0.00069\n",
      "\n",
      "Epoch 43: val_loss did not improve from 0.00069\n",
      "\n",
      "Epoch 44: val_loss did not improve from 0.00069\n",
      "\n",
      "Epoch 45: val_loss did not improve from 0.00069\n",
      "\n",
      "Epoch 46: val_loss did not improve from 0.00069\n",
      "\n",
      "Epoch 47: val_loss did not improve from 0.00069\n",
      "\n",
      "Epoch 48: val_loss did not improve from 0.00069\n",
      "\n",
      "Epoch 49: val_loss did not improve from 0.00069\n",
      "\n",
      "Epoch 50: val_loss did not improve from 0.00069\n",
      "\n",
      "Epoch 51: val_loss did not improve from 0.00069\n",
      "\n",
      "Epoch 52: val_loss did not improve from 0.00069\n",
      "\n",
      "Epoch 53: val_loss did not improve from 0.00069\n",
      "\n",
      "Epoch 54: val_loss did not improve from 0.00069\n",
      "\n",
      "Epoch 55: val_loss did not improve from 0.00069\n",
      "\n",
      "Epoch 56: val_loss did not improve from 0.00069\n",
      "\n",
      "Epoch 57: val_loss did not improve from 0.00069\n",
      "\n",
      "Epoch 58: val_loss did not improve from 0.00069\n",
      "\n",
      "Epoch 59: val_loss did not improve from 0.00069\n",
      "\n",
      "Epoch 60: val_loss did not improve from 0.00069\n",
      "\n",
      "Epoch 61: val_loss did not improve from 0.00069\n",
      "\n",
      "Epoch 62: val_loss did not improve from 0.00069\n",
      "\n",
      "Epoch 63: val_loss did not improve from 0.00069\n",
      "\n",
      "Epoch 64: val_loss did not improve from 0.00069\n",
      "\n",
      "Epoch 65: val_loss did not improve from 0.00069\n",
      "\n",
      "Epoch 66: val_loss did not improve from 0.00069\n",
      "\n",
      "Epoch 67: val_loss did not improve from 0.00069\n",
      "\n",
      "Epoch 68: val_loss did not improve from 0.00069\n",
      "\n",
      "Epoch 69: val_loss did not improve from 0.00069\n",
      "\n",
      "Epoch 70: val_loss did not improve from 0.00069\n",
      "\n",
      "Epoch 71: val_loss did not improve from 0.00069\n",
      "\n",
      "Epoch 72: val_loss did not improve from 0.00069\n",
      "\n",
      "Epoch 73: val_loss did not improve from 0.00069\n",
      "\n",
      "Epoch 74: val_loss did not improve from 0.00069\n",
      "\n",
      "Epoch 75: val_loss did not improve from 0.00069\n",
      "\n",
      "Epoch 76: val_loss did not improve from 0.00069\n",
      "\n",
      "Epoch 77: val_loss did not improve from 0.00069\n",
      "\n",
      "Epoch 78: val_loss did not improve from 0.00069\n",
      "\n",
      "Epoch 79: val_loss did not improve from 0.00069\n",
      "\n",
      "Epoch 80: val_loss did not improve from 0.00069\n",
      "\n",
      "Epoch 81: val_loss did not improve from 0.00069\n",
      "\n",
      "Epoch 82: val_loss did not improve from 0.00069\n",
      "\n",
      "Epoch 83: val_loss did not improve from 0.00069\n",
      "\n",
      "Epoch 84: val_loss did not improve from 0.00069\n",
      "\n",
      "Epoch 85: val_loss did not improve from 0.00069\n",
      "\n",
      "Epoch 86: val_loss did not improve from 0.00069\n",
      "\n",
      "Epoch 87: val_loss did not improve from 0.00069\n",
      "\n",
      "Epoch 88: val_loss did not improve from 0.00069\n",
      "\n",
      "Epoch 89: val_loss did not improve from 0.00069\n",
      "\n",
      "Epoch 90: val_loss did not improve from 0.00069\n",
      "\n",
      "Epoch 91: val_loss did not improve from 0.00069\n",
      "\n",
      "Epoch 92: val_loss did not improve from 0.00069\n",
      "\n",
      "Epoch 93: val_loss did not improve from 0.00069\n",
      "\n",
      "Epoch 94: val_loss did not improve from 0.00069\n",
      "\n",
      "Epoch 95: val_loss did not improve from 0.00069\n",
      "\n",
      "Epoch 96: val_loss did not improve from 0.00069\n",
      "\n",
      "Epoch 97: val_loss did not improve from 0.00069\n",
      "\n",
      "Epoch 98: val_loss did not improve from 0.00069\n",
      "\n",
      "Epoch 99: val_loss did not improve from 0.00069\n",
      "\n",
      "Epoch 100: val_loss did not improve from 0.00069\n",
      "\n",
      "Epoch 101: val_loss did not improve from 0.00069\n",
      "\n",
      "Epoch 102: val_loss did not improve from 0.00069\n",
      "\n",
      "Epoch 103: val_loss did not improve from 0.00069\n",
      "\n",
      "Epoch 104: val_loss did not improve from 0.00069\n",
      "\n",
      "Epoch 105: val_loss did not improve from 0.00069\n",
      "\n",
      "Epoch 106: val_loss did not improve from 0.00069\n",
      "\n",
      "Epoch 107: val_loss did not improve from 0.00069\n",
      "\n",
      "Epoch 108: val_loss did not improve from 0.00069\n",
      "\n",
      "Epoch 109: val_loss did not improve from 0.00069\n",
      "\n",
      "Epoch 110: val_loss did not improve from 0.00069\n",
      "\n",
      "Epoch 111: val_loss did not improve from 0.00069\n",
      "\n",
      "Epoch 112: val_loss did not improve from 0.00069\n",
      "\n",
      "Epoch 113: val_loss did not improve from 0.00069\n",
      "\n",
      "Epoch 114: val_loss did not improve from 0.00069\n",
      "\n",
      "Epoch 115: val_loss did not improve from 0.00069\n",
      "\n",
      "Epoch 116: val_loss did not improve from 0.00069\n",
      "\n",
      "Epoch 117: val_loss did not improve from 0.00069\n",
      "\n",
      "Epoch 118: val_loss did not improve from 0.00069\n",
      "\n",
      "Epoch 119: val_loss did not improve from 0.00069\n",
      "\n",
      "Epoch 120: val_loss did not improve from 0.00069\n",
      "\n",
      "Epoch 121: val_loss did not improve from 0.00069\n",
      "\n",
      "Epoch 122: val_loss did not improve from 0.00069\n",
      "\n",
      "Epoch 123: val_loss did not improve from 0.00069\n",
      "\n",
      "Epoch 124: val_loss did not improve from 0.00069\n",
      "\n",
      "Epoch 125: val_loss did not improve from 0.00069\n",
      "\n",
      "Epoch 126: val_loss did not improve from 0.00069\n",
      "\n",
      "Epoch 127: val_loss did not improve from 0.00069\n",
      "\n",
      "Epoch 128: val_loss did not improve from 0.00069\n",
      "\n",
      "Epoch 129: val_loss did not improve from 0.00069\n",
      "\n",
      "Epoch 130: val_loss did not improve from 0.00069\n",
      "\n",
      "Epoch 131: val_loss did not improve from 0.00069\n",
      "\n",
      "Epoch 132: val_loss did not improve from 0.00069\n",
      "\n",
      "Epoch 133: val_loss did not improve from 0.00069\n",
      "\n",
      "Epoch 134: val_loss did not improve from 0.00069\n",
      "\n",
      "Epoch 135: val_loss did not improve from 0.00069\n",
      "\n",
      "Epoch 136: val_loss did not improve from 0.00069\n",
      "\n",
      "Epoch 137: val_loss did not improve from 0.00069\n",
      "\n",
      "Epoch 138: val_loss did not improve from 0.00069\n",
      "\n",
      "Epoch 139: val_loss did not improve from 0.00069\n",
      "\n",
      "Epoch 140: val_loss did not improve from 0.00069\n",
      "\n",
      "Epoch 141: val_loss did not improve from 0.00069\n",
      "\n",
      "Epoch 142: val_loss did not improve from 0.00069\n",
      "\n",
      "Epoch 143: val_loss did not improve from 0.00069\n",
      "\n",
      "Epoch 144: val_loss did not improve from 0.00069\n",
      "\n",
      "Epoch 145: val_loss did not improve from 0.00069\n",
      "\n",
      "Epoch 146: val_loss did not improve from 0.00069\n",
      "\n",
      "Epoch 147: val_loss did not improve from 0.00069\n",
      "\n",
      "Epoch 148: val_loss did not improve from 0.00069\n",
      "\n",
      "Epoch 149: val_loss did not improve from 0.00069\n",
      "\n",
      "Epoch 150: val_loss did not improve from 0.00069\n",
      "\n",
      "Epoch 151: val_loss did not improve from 0.00069\n",
      "\n",
      "Epoch 152: val_loss did not improve from 0.00069\n",
      "\n",
      "Epoch 153: val_loss did not improve from 0.00069\n",
      "\n",
      "Epoch 154: val_loss did not improve from 0.00069\n",
      "\n",
      "Epoch 155: val_loss did not improve from 0.00069\n",
      "\n",
      "Epoch 156: val_loss did not improve from 0.00069\n",
      "\n",
      "Epoch 157: val_loss did not improve from 0.00069\n",
      "\n",
      "Epoch 158: val_loss did not improve from 0.00069\n",
      "\n",
      "Epoch 159: val_loss did not improve from 0.00069\n",
      "\n",
      "Epoch 160: val_loss did not improve from 0.00069\n",
      "\n",
      "Epoch 161: val_loss did not improve from 0.00069\n",
      "\n",
      "Epoch 162: val_loss did not improve from 0.00069\n",
      "\n",
      "Epoch 163: val_loss did not improve from 0.00069\n",
      "\n",
      "Epoch 164: val_loss did not improve from 0.00069\n",
      "\n",
      "Epoch 165: val_loss did not improve from 0.00069\n",
      "\n",
      "Epoch 166: val_loss did not improve from 0.00069\n",
      "\n",
      "Epoch 167: val_loss did not improve from 0.00069\n",
      "\n",
      "Epoch 168: val_loss did not improve from 0.00069\n",
      "\n",
      "Epoch 169: val_loss did not improve from 0.00069\n",
      "\n",
      "Epoch 170: val_loss did not improve from 0.00069\n",
      "\n",
      "Epoch 171: val_loss did not improve from 0.00069\n",
      "\n",
      "Epoch 172: val_loss did not improve from 0.00069\n",
      "\n",
      "Epoch 173: val_loss did not improve from 0.00069\n",
      "\n",
      "Epoch 174: val_loss did not improve from 0.00069\n",
      "\n",
      "Epoch 175: val_loss did not improve from 0.00069\n",
      "\n",
      "Epoch 176: val_loss did not improve from 0.00069\n",
      "\n",
      "Epoch 177: val_loss did not improve from 0.00069\n",
      "\n",
      "Epoch 178: val_loss did not improve from 0.00069\n",
      "\n",
      "Epoch 179: val_loss did not improve from 0.00069\n",
      "\n",
      "Epoch 180: val_loss did not improve from 0.00069\n",
      "\n",
      "Epoch 181: val_loss did not improve from 0.00069\n",
      "\n",
      "Epoch 182: val_loss did not improve from 0.00069\n",
      "\n",
      "Epoch 183: val_loss did not improve from 0.00069\n",
      "\n",
      "Epoch 184: val_loss did not improve from 0.00069\n",
      "\n",
      "Epoch 185: val_loss did not improve from 0.00069\n",
      "\n",
      "Epoch 186: val_loss did not improve from 0.00069\n",
      "\n",
      "Epoch 187: val_loss did not improve from 0.00069\n",
      "\n",
      "Epoch 188: val_loss did not improve from 0.00069\n",
      "\n",
      "Epoch 189: val_loss did not improve from 0.00069\n",
      "\n",
      "Epoch 190: val_loss did not improve from 0.00069\n",
      "\n",
      "Epoch 191: val_loss did not improve from 0.00069\n",
      "\n",
      "Epoch 192: val_loss did not improve from 0.00069\n",
      "\n",
      "Epoch 193: val_loss did not improve from 0.00069\n",
      "\n",
      "Epoch 194: val_loss did not improve from 0.00069\n",
      "\n",
      "Epoch 195: val_loss did not improve from 0.00069\n",
      "\n",
      "Epoch 196: val_loss did not improve from 0.00069\n",
      "\n",
      "Epoch 197: val_loss did not improve from 0.00069\n",
      "Epoch 197: early stopping\n",
      "\u001b[1m18/18\u001b[0m \u001b[32m━━━━━━━━━━━━━━━━━━━━\u001b[0m\u001b[37m\u001b[0m \u001b[1m1s\u001b[0m 26ms/step\n",
      "Training with params: {'timesteps': 50, 'hl': [40, 35], 'lr': 0.0001, 'batch_size': 64, 'num_epochs': 200}\n"
     ]
    },
    {
     "name": "stderr",
     "output_type": "stream",
     "text": [
      "c:\\Users\\84368\\AppData\\Local\\Programs\\Python\\Python311\\Lib\\site-packages\\keras\\src\\layers\\rnn\\rnn.py:200: UserWarning: Do not pass an `input_shape`/`input_dim` argument to a layer. When using Sequential models, prefer using an `Input(shape)` object as the first layer in the model instead.\n",
      "  super().__init__(**kwargs)\n"
     ]
    },
    {
     "name": "stdout",
     "output_type": "stream",
     "text": [
      "\n",
      "Epoch 1: val_loss did not improve from 0.00069\n",
      "\n",
      "Epoch 2: val_loss did not improve from 0.00069\n",
      "\n",
      "Epoch 3: val_loss did not improve from 0.00069\n",
      "\n",
      "Epoch 4: val_loss did not improve from 0.00069\n",
      "\n",
      "Epoch 5: val_loss did not improve from 0.00069\n",
      "\n",
      "Epoch 6: val_loss did not improve from 0.00069\n",
      "\n",
      "Epoch 7: val_loss did not improve from 0.00069\n",
      "\n",
      "Epoch 8: val_loss did not improve from 0.00069\n",
      "\n",
      "Epoch 9: val_loss did not improve from 0.00069\n",
      "\n",
      "Epoch 10: val_loss did not improve from 0.00069\n",
      "\n",
      "Epoch 11: val_loss did not improve from 0.00069\n",
      "\n",
      "Epoch 12: val_loss did not improve from 0.00069\n",
      "\n",
      "Epoch 13: val_loss did not improve from 0.00069\n",
      "\n",
      "Epoch 14: val_loss did not improve from 0.00069\n",
      "\n",
      "Epoch 15: val_loss did not improve from 0.00069\n",
      "\n",
      "Epoch 16: val_loss did not improve from 0.00069\n",
      "\n",
      "Epoch 17: val_loss did not improve from 0.00069\n",
      "\n",
      "Epoch 18: val_loss did not improve from 0.00069\n",
      "\n",
      "Epoch 19: val_loss did not improve from 0.00069\n",
      "\n",
      "Epoch 20: val_loss did not improve from 0.00069\n",
      "\n",
      "Epoch 21: val_loss did not improve from 0.00069\n",
      "\n",
      "Epoch 22: val_loss did not improve from 0.00069\n",
      "\n",
      "Epoch 23: val_loss did not improve from 0.00069\n",
      "\n",
      "Epoch 24: val_loss did not improve from 0.00069\n",
      "\n",
      "Epoch 25: val_loss did not improve from 0.00069\n",
      "\n",
      "Epoch 26: val_loss did not improve from 0.00069\n",
      "\n",
      "Epoch 27: val_loss did not improve from 0.00069\n",
      "\n",
      "Epoch 28: val_loss did not improve from 0.00069\n",
      "\n",
      "Epoch 29: val_loss did not improve from 0.00069\n",
      "\n",
      "Epoch 30: val_loss did not improve from 0.00069\n",
      "\n",
      "Epoch 31: val_loss did not improve from 0.00069\n",
      "\n",
      "Epoch 32: val_loss did not improve from 0.00069\n",
      "\n",
      "Epoch 33: val_loss did not improve from 0.00069\n",
      "\n",
      "Epoch 34: val_loss did not improve from 0.00069\n",
      "\n",
      "Epoch 35: val_loss did not improve from 0.00069\n",
      "\n",
      "Epoch 36: val_loss did not improve from 0.00069\n",
      "\n",
      "Epoch 37: val_loss did not improve from 0.00069\n",
      "\n",
      "Epoch 38: val_loss did not improve from 0.00069\n",
      "\n",
      "Epoch 39: val_loss did not improve from 0.00069\n",
      "\n",
      "Epoch 40: val_loss did not improve from 0.00069\n",
      "\n",
      "Epoch 41: val_loss did not improve from 0.00069\n",
      "\n",
      "Epoch 42: val_loss did not improve from 0.00069\n",
      "\n",
      "Epoch 43: val_loss did not improve from 0.00069\n",
      "\n",
      "Epoch 44: val_loss did not improve from 0.00069\n",
      "\n",
      "Epoch 45: val_loss did not improve from 0.00069\n",
      "\n",
      "Epoch 46: val_loss did not improve from 0.00069\n",
      "\n",
      "Epoch 47: val_loss did not improve from 0.00069\n",
      "\n",
      "Epoch 48: val_loss did not improve from 0.00069\n",
      "\n",
      "Epoch 49: val_loss did not improve from 0.00069\n",
      "\n",
      "Epoch 50: val_loss did not improve from 0.00069\n",
      "\n",
      "Epoch 51: val_loss did not improve from 0.00069\n",
      "\n",
      "Epoch 52: val_loss did not improve from 0.00069\n",
      "\n",
      "Epoch 53: val_loss did not improve from 0.00069\n",
      "\n",
      "Epoch 54: val_loss did not improve from 0.00069\n",
      "\n",
      "Epoch 55: val_loss did not improve from 0.00069\n",
      "\n",
      "Epoch 56: val_loss did not improve from 0.00069\n",
      "\n",
      "Epoch 57: val_loss did not improve from 0.00069\n",
      "\n",
      "Epoch 58: val_loss did not improve from 0.00069\n",
      "\n",
      "Epoch 59: val_loss did not improve from 0.00069\n",
      "\n",
      "Epoch 60: val_loss did not improve from 0.00069\n",
      "\n",
      "Epoch 61: val_loss did not improve from 0.00069\n",
      "\n",
      "Epoch 62: val_loss did not improve from 0.00069\n",
      "\n",
      "Epoch 63: val_loss did not improve from 0.00069\n",
      "\n",
      "Epoch 64: val_loss did not improve from 0.00069\n",
      "\n",
      "Epoch 65: val_loss did not improve from 0.00069\n",
      "\n",
      "Epoch 66: val_loss did not improve from 0.00069\n",
      "\n",
      "Epoch 67: val_loss did not improve from 0.00069\n",
      "\n",
      "Epoch 68: val_loss did not improve from 0.00069\n",
      "\n",
      "Epoch 69: val_loss did not improve from 0.00069\n",
      "\n",
      "Epoch 70: val_loss did not improve from 0.00069\n",
      "\n",
      "Epoch 71: val_loss did not improve from 0.00069\n",
      "\n",
      "Epoch 72: val_loss did not improve from 0.00069\n",
      "\n",
      "Epoch 73: val_loss did not improve from 0.00069\n",
      "\n",
      "Epoch 74: val_loss did not improve from 0.00069\n",
      "\n",
      "Epoch 75: val_loss did not improve from 0.00069\n",
      "\n",
      "Epoch 76: val_loss did not improve from 0.00069\n",
      "\n",
      "Epoch 77: val_loss did not improve from 0.00069\n",
      "\n",
      "Epoch 78: val_loss did not improve from 0.00069\n",
      "\n",
      "Epoch 79: val_loss did not improve from 0.00069\n",
      "\n",
      "Epoch 80: val_loss did not improve from 0.00069\n",
      "\n",
      "Epoch 81: val_loss did not improve from 0.00069\n",
      "\n",
      "Epoch 82: val_loss did not improve from 0.00069\n",
      "\n",
      "Epoch 83: val_loss did not improve from 0.00069\n",
      "\n",
      "Epoch 84: val_loss did not improve from 0.00069\n",
      "\n",
      "Epoch 85: val_loss did not improve from 0.00069\n",
      "\n",
      "Epoch 86: val_loss did not improve from 0.00069\n",
      "\n",
      "Epoch 87: val_loss did not improve from 0.00069\n",
      "\n",
      "Epoch 88: val_loss did not improve from 0.00069\n",
      "\n",
      "Epoch 89: val_loss did not improve from 0.00069\n",
      "\n",
      "Epoch 90: val_loss did not improve from 0.00069\n",
      "\n",
      "Epoch 91: val_loss did not improve from 0.00069\n",
      "\n",
      "Epoch 92: val_loss did not improve from 0.00069\n",
      "\n",
      "Epoch 93: val_loss did not improve from 0.00069\n",
      "\n",
      "Epoch 94: val_loss did not improve from 0.00069\n",
      "\n",
      "Epoch 95: val_loss did not improve from 0.00069\n",
      "\n",
      "Epoch 96: val_loss did not improve from 0.00069\n",
      "\n",
      "Epoch 97: val_loss did not improve from 0.00069\n",
      "\n",
      "Epoch 98: val_loss did not improve from 0.00069\n",
      "\n",
      "Epoch 99: val_loss did not improve from 0.00069\n",
      "\n",
      "Epoch 100: val_loss did not improve from 0.00069\n",
      "\n",
      "Epoch 101: val_loss did not improve from 0.00069\n",
      "\n",
      "Epoch 102: val_loss did not improve from 0.00069\n",
      "\n",
      "Epoch 103: val_loss did not improve from 0.00069\n",
      "\n",
      "Epoch 104: val_loss did not improve from 0.00069\n",
      "\n",
      "Epoch 105: val_loss did not improve from 0.00069\n",
      "\n",
      "Epoch 106: val_loss did not improve from 0.00069\n",
      "\n",
      "Epoch 107: val_loss did not improve from 0.00069\n",
      "\n",
      "Epoch 108: val_loss did not improve from 0.00069\n",
      "\n",
      "Epoch 109: val_loss did not improve from 0.00069\n",
      "\n",
      "Epoch 110: val_loss did not improve from 0.00069\n",
      "\n",
      "Epoch 111: val_loss did not improve from 0.00069\n",
      "\n",
      "Epoch 112: val_loss did not improve from 0.00069\n",
      "\n",
      "Epoch 113: val_loss did not improve from 0.00069\n",
      "\n",
      "Epoch 114: val_loss did not improve from 0.00069\n",
      "\n",
      "Epoch 115: val_loss did not improve from 0.00069\n",
      "\n",
      "Epoch 116: val_loss did not improve from 0.00069\n",
      "\n",
      "Epoch 117: val_loss did not improve from 0.00069\n",
      "\n",
      "Epoch 118: val_loss did not improve from 0.00069\n",
      "\n",
      "Epoch 119: val_loss did not improve from 0.00069\n",
      "\n",
      "Epoch 120: val_loss did not improve from 0.00069\n",
      "\n",
      "Epoch 121: val_loss did not improve from 0.00069\n",
      "\n",
      "Epoch 122: val_loss did not improve from 0.00069\n",
      "\n",
      "Epoch 123: val_loss did not improve from 0.00069\n",
      "\n",
      "Epoch 124: val_loss did not improve from 0.00069\n",
      "\n",
      "Epoch 125: val_loss did not improve from 0.00069\n",
      "\n",
      "Epoch 126: val_loss did not improve from 0.00069\n",
      "\n",
      "Epoch 127: val_loss did not improve from 0.00069\n",
      "\n",
      "Epoch 128: val_loss did not improve from 0.00069\n",
      "\n",
      "Epoch 129: val_loss did not improve from 0.00069\n",
      "\n",
      "Epoch 130: val_loss did not improve from 0.00069\n",
      "\n",
      "Epoch 131: val_loss did not improve from 0.00069\n",
      "\n",
      "Epoch 132: val_loss did not improve from 0.00069\n",
      "Epoch 132: early stopping\n",
      "\u001b[1m18/18\u001b[0m \u001b[32m━━━━━━━━━━━━━━━━━━━━\u001b[0m\u001b[37m\u001b[0m \u001b[1m1s\u001b[0m 45ms/step\n",
      "Training with params: {'timesteps': 50, 'hl': [40, 35], 'lr': 0.0001, 'batch_size': 64, 'num_epochs': 250}\n"
     ]
    },
    {
     "name": "stderr",
     "output_type": "stream",
     "text": [
      "c:\\Users\\84368\\AppData\\Local\\Programs\\Python\\Python311\\Lib\\site-packages\\keras\\src\\layers\\rnn\\rnn.py:200: UserWarning: Do not pass an `input_shape`/`input_dim` argument to a layer. When using Sequential models, prefer using an `Input(shape)` object as the first layer in the model instead.\n",
      "  super().__init__(**kwargs)\n"
     ]
    },
    {
     "name": "stdout",
     "output_type": "stream",
     "text": [
      "\n",
      "Epoch 1: val_loss did not improve from 0.00069\n",
      "\n",
      "Epoch 2: val_loss did not improve from 0.00069\n",
      "\n",
      "Epoch 3: val_loss did not improve from 0.00069\n",
      "\n",
      "Epoch 4: val_loss did not improve from 0.00069\n",
      "\n",
      "Epoch 5: val_loss did not improve from 0.00069\n",
      "\n",
      "Epoch 6: val_loss did not improve from 0.00069\n",
      "\n",
      "Epoch 7: val_loss did not improve from 0.00069\n",
      "\n",
      "Epoch 8: val_loss did not improve from 0.00069\n",
      "\n",
      "Epoch 9: val_loss did not improve from 0.00069\n",
      "\n",
      "Epoch 10: val_loss did not improve from 0.00069\n",
      "\n",
      "Epoch 11: val_loss did not improve from 0.00069\n",
      "\n",
      "Epoch 12: val_loss did not improve from 0.00069\n",
      "\n",
      "Epoch 13: val_loss did not improve from 0.00069\n",
      "\n",
      "Epoch 14: val_loss did not improve from 0.00069\n",
      "\n",
      "Epoch 15: val_loss did not improve from 0.00069\n",
      "\n",
      "Epoch 16: val_loss did not improve from 0.00069\n",
      "\n",
      "Epoch 17: val_loss did not improve from 0.00069\n",
      "\n",
      "Epoch 18: val_loss did not improve from 0.00069\n",
      "\n",
      "Epoch 19: val_loss did not improve from 0.00069\n",
      "\n",
      "Epoch 20: val_loss did not improve from 0.00069\n",
      "\n",
      "Epoch 21: val_loss did not improve from 0.00069\n",
      "\n",
      "Epoch 22: val_loss did not improve from 0.00069\n",
      "\n",
      "Epoch 23: val_loss did not improve from 0.00069\n",
      "\n",
      "Epoch 24: val_loss did not improve from 0.00069\n",
      "\n",
      "Epoch 25: val_loss did not improve from 0.00069\n",
      "\n",
      "Epoch 26: val_loss did not improve from 0.00069\n",
      "\n",
      "Epoch 27: val_loss did not improve from 0.00069\n",
      "\n",
      "Epoch 28: val_loss did not improve from 0.00069\n",
      "\n",
      "Epoch 29: val_loss did not improve from 0.00069\n",
      "\n",
      "Epoch 30: val_loss did not improve from 0.00069\n",
      "\n",
      "Epoch 31: val_loss did not improve from 0.00069\n",
      "\n",
      "Epoch 32: val_loss did not improve from 0.00069\n",
      "\n",
      "Epoch 33: val_loss did not improve from 0.00069\n",
      "\n",
      "Epoch 34: val_loss did not improve from 0.00069\n",
      "\n",
      "Epoch 35: val_loss did not improve from 0.00069\n",
      "\n",
      "Epoch 36: val_loss did not improve from 0.00069\n",
      "\n",
      "Epoch 37: val_loss did not improve from 0.00069\n",
      "\n",
      "Epoch 38: val_loss did not improve from 0.00069\n",
      "\n",
      "Epoch 39: val_loss did not improve from 0.00069\n",
      "\n",
      "Epoch 40: val_loss did not improve from 0.00069\n",
      "\n",
      "Epoch 41: val_loss did not improve from 0.00069\n",
      "\n",
      "Epoch 42: val_loss did not improve from 0.00069\n",
      "\n",
      "Epoch 43: val_loss did not improve from 0.00069\n",
      "\n",
      "Epoch 44: val_loss did not improve from 0.00069\n",
      "\n",
      "Epoch 45: val_loss did not improve from 0.00069\n",
      "\n",
      "Epoch 46: val_loss did not improve from 0.00069\n",
      "\n",
      "Epoch 47: val_loss did not improve from 0.00069\n",
      "\n",
      "Epoch 48: val_loss did not improve from 0.00069\n",
      "\n",
      "Epoch 49: val_loss did not improve from 0.00069\n",
      "\n",
      "Epoch 50: val_loss did not improve from 0.00069\n",
      "\n",
      "Epoch 51: val_loss did not improve from 0.00069\n",
      "\n",
      "Epoch 52: val_loss did not improve from 0.00069\n",
      "\n",
      "Epoch 53: val_loss did not improve from 0.00069\n",
      "\n",
      "Epoch 54: val_loss did not improve from 0.00069\n",
      "\n",
      "Epoch 55: val_loss did not improve from 0.00069\n",
      "\n",
      "Epoch 56: val_loss did not improve from 0.00069\n",
      "\n",
      "Epoch 57: val_loss did not improve from 0.00069\n",
      "\n",
      "Epoch 58: val_loss did not improve from 0.00069\n",
      "\n",
      "Epoch 59: val_loss did not improve from 0.00069\n",
      "\n",
      "Epoch 60: val_loss did not improve from 0.00069\n",
      "\n",
      "Epoch 61: val_loss did not improve from 0.00069\n",
      "\n",
      "Epoch 62: val_loss did not improve from 0.00069\n",
      "\n",
      "Epoch 63: val_loss did not improve from 0.00069\n",
      "\n",
      "Epoch 64: val_loss did not improve from 0.00069\n",
      "\n",
      "Epoch 65: val_loss did not improve from 0.00069\n",
      "\n",
      "Epoch 66: val_loss did not improve from 0.00069\n",
      "\n",
      "Epoch 67: val_loss did not improve from 0.00069\n",
      "\n",
      "Epoch 68: val_loss did not improve from 0.00069\n",
      "\n",
      "Epoch 69: val_loss did not improve from 0.00069\n",
      "\n",
      "Epoch 70: val_loss did not improve from 0.00069\n",
      "\n",
      "Epoch 71: val_loss did not improve from 0.00069\n",
      "\n",
      "Epoch 72: val_loss did not improve from 0.00069\n",
      "\n",
      "Epoch 73: val_loss did not improve from 0.00069\n",
      "\n",
      "Epoch 74: val_loss did not improve from 0.00069\n",
      "\n",
      "Epoch 75: val_loss did not improve from 0.00069\n",
      "\n",
      "Epoch 76: val_loss did not improve from 0.00069\n",
      "\n",
      "Epoch 77: val_loss did not improve from 0.00069\n",
      "\n",
      "Epoch 78: val_loss did not improve from 0.00069\n",
      "\n",
      "Epoch 79: val_loss did not improve from 0.00069\n",
      "\n",
      "Epoch 80: val_loss did not improve from 0.00069\n",
      "\n",
      "Epoch 81: val_loss did not improve from 0.00069\n",
      "\n",
      "Epoch 82: val_loss did not improve from 0.00069\n",
      "\n",
      "Epoch 83: val_loss did not improve from 0.00069\n",
      "\n",
      "Epoch 84: val_loss did not improve from 0.00069\n",
      "\n",
      "Epoch 85: val_loss did not improve from 0.00069\n",
      "\n",
      "Epoch 86: val_loss did not improve from 0.00069\n",
      "\n",
      "Epoch 87: val_loss did not improve from 0.00069\n",
      "\n",
      "Epoch 88: val_loss did not improve from 0.00069\n",
      "\n",
      "Epoch 89: val_loss did not improve from 0.00069\n",
      "\n",
      "Epoch 90: val_loss did not improve from 0.00069\n",
      "\n",
      "Epoch 91: val_loss did not improve from 0.00069\n",
      "\n",
      "Epoch 92: val_loss did not improve from 0.00069\n",
      "\n",
      "Epoch 93: val_loss did not improve from 0.00069\n",
      "\n",
      "Epoch 94: val_loss did not improve from 0.00069\n",
      "\n",
      "Epoch 95: val_loss did not improve from 0.00069\n",
      "\n",
      "Epoch 96: val_loss did not improve from 0.00069\n",
      "\n",
      "Epoch 97: val_loss did not improve from 0.00069\n",
      "\n",
      "Epoch 98: val_loss did not improve from 0.00069\n",
      "\n",
      "Epoch 99: val_loss did not improve from 0.00069\n",
      "\n",
      "Epoch 100: val_loss did not improve from 0.00069\n",
      "\n",
      "Epoch 101: val_loss did not improve from 0.00069\n",
      "\n",
      "Epoch 102: val_loss did not improve from 0.00069\n",
      "\n",
      "Epoch 103: val_loss did not improve from 0.00069\n",
      "\n",
      "Epoch 104: val_loss did not improve from 0.00069\n",
      "\n",
      "Epoch 105: val_loss did not improve from 0.00069\n",
      "\n",
      "Epoch 106: val_loss did not improve from 0.00069\n",
      "\n",
      "Epoch 107: val_loss did not improve from 0.00069\n",
      "\n",
      "Epoch 108: val_loss did not improve from 0.00069\n",
      "\n",
      "Epoch 109: val_loss did not improve from 0.00069\n",
      "\n",
      "Epoch 110: val_loss did not improve from 0.00069\n",
      "\n",
      "Epoch 111: val_loss did not improve from 0.00069\n",
      "\n",
      "Epoch 112: val_loss did not improve from 0.00069\n",
      "\n",
      "Epoch 113: val_loss did not improve from 0.00069\n",
      "\n",
      "Epoch 114: val_loss did not improve from 0.00069\n",
      "\n",
      "Epoch 115: val_loss did not improve from 0.00069\n",
      "\n",
      "Epoch 116: val_loss did not improve from 0.00069\n",
      "\n",
      "Epoch 117: val_loss did not improve from 0.00069\n",
      "\n",
      "Epoch 118: val_loss did not improve from 0.00069\n",
      "\n",
      "Epoch 119: val_loss did not improve from 0.00069\n",
      "\n",
      "Epoch 120: val_loss did not improve from 0.00069\n",
      "\n",
      "Epoch 121: val_loss did not improve from 0.00069\n",
      "\n",
      "Epoch 122: val_loss did not improve from 0.00069\n",
      "\n",
      "Epoch 123: val_loss did not improve from 0.00069\n",
      "\n",
      "Epoch 124: val_loss did not improve from 0.00069\n",
      "\n",
      "Epoch 125: val_loss did not improve from 0.00069\n",
      "\n",
      "Epoch 126: val_loss did not improve from 0.00069\n",
      "\n",
      "Epoch 127: val_loss did not improve from 0.00069\n",
      "\n",
      "Epoch 128: val_loss did not improve from 0.00069\n",
      "\n",
      "Epoch 129: val_loss did not improve from 0.00069\n",
      "\n",
      "Epoch 130: val_loss did not improve from 0.00069\n",
      "\n",
      "Epoch 131: val_loss did not improve from 0.00069\n",
      "\n",
      "Epoch 132: val_loss did not improve from 0.00069\n",
      "\n",
      "Epoch 133: val_loss did not improve from 0.00069\n",
      "\n",
      "Epoch 134: val_loss did not improve from 0.00069\n",
      "\n",
      "Epoch 135: val_loss did not improve from 0.00069\n",
      "\n",
      "Epoch 136: val_loss did not improve from 0.00069\n",
      "\n",
      "Epoch 137: val_loss did not improve from 0.00069\n",
      "\n",
      "Epoch 138: val_loss did not improve from 0.00069\n",
      "\n",
      "Epoch 139: val_loss did not improve from 0.00069\n",
      "\n",
      "Epoch 140: val_loss did not improve from 0.00069\n",
      "\n",
      "Epoch 141: val_loss did not improve from 0.00069\n",
      "\n",
      "Epoch 142: val_loss did not improve from 0.00069\n",
      "\n",
      "Epoch 143: val_loss did not improve from 0.00069\n",
      "\n",
      "Epoch 144: val_loss did not improve from 0.00069\n",
      "\n",
      "Epoch 145: val_loss did not improve from 0.00069\n",
      "\n",
      "Epoch 146: val_loss did not improve from 0.00069\n",
      "\n",
      "Epoch 147: val_loss did not improve from 0.00069\n",
      "\n",
      "Epoch 148: val_loss did not improve from 0.00069\n",
      "\n",
      "Epoch 149: val_loss did not improve from 0.00069\n",
      "\n",
      "Epoch 150: val_loss did not improve from 0.00069\n",
      "\n",
      "Epoch 151: val_loss did not improve from 0.00069\n",
      "\n",
      "Epoch 152: val_loss did not improve from 0.00069\n",
      "\n",
      "Epoch 153: val_loss did not improve from 0.00069\n",
      "\n",
      "Epoch 154: val_loss did not improve from 0.00069\n",
      "\n",
      "Epoch 155: val_loss did not improve from 0.00069\n",
      "\n",
      "Epoch 156: val_loss did not improve from 0.00069\n",
      "\n",
      "Epoch 157: val_loss did not improve from 0.00069\n",
      "\n",
      "Epoch 158: val_loss did not improve from 0.00069\n",
      "\n",
      "Epoch 159: val_loss did not improve from 0.00069\n",
      "\n",
      "Epoch 160: val_loss did not improve from 0.00069\n",
      "\n",
      "Epoch 161: val_loss did not improve from 0.00069\n",
      "\n",
      "Epoch 162: val_loss did not improve from 0.00069\n",
      "\n",
      "Epoch 163: val_loss did not improve from 0.00069\n",
      "\n",
      "Epoch 164: val_loss did not improve from 0.00069\n",
      "\n",
      "Epoch 165: val_loss did not improve from 0.00069\n",
      "\n",
      "Epoch 166: val_loss did not improve from 0.00069\n",
      "\n",
      "Epoch 167: val_loss did not improve from 0.00069\n",
      "\n",
      "Epoch 168: val_loss did not improve from 0.00069\n",
      "\n",
      "Epoch 169: val_loss did not improve from 0.00069\n",
      "\n",
      "Epoch 170: val_loss did not improve from 0.00069\n",
      "\n",
      "Epoch 171: val_loss did not improve from 0.00069\n",
      "\n",
      "Epoch 172: val_loss did not improve from 0.00069\n",
      "\n",
      "Epoch 173: val_loss did not improve from 0.00069\n",
      "\n",
      "Epoch 174: val_loss did not improve from 0.00069\n",
      "\n",
      "Epoch 175: val_loss did not improve from 0.00069\n",
      "\n",
      "Epoch 176: val_loss did not improve from 0.00069\n",
      "\n",
      "Epoch 177: val_loss did not improve from 0.00069\n",
      "\n",
      "Epoch 178: val_loss did not improve from 0.00069\n",
      "\n",
      "Epoch 179: val_loss did not improve from 0.00069\n",
      "\n",
      "Epoch 180: val_loss did not improve from 0.00069\n",
      "\n",
      "Epoch 181: val_loss did not improve from 0.00069\n",
      "\n",
      "Epoch 182: val_loss did not improve from 0.00069\n",
      "\n",
      "Epoch 183: val_loss did not improve from 0.00069\n",
      "\n",
      "Epoch 184: val_loss did not improve from 0.00069\n",
      "\n",
      "Epoch 185: val_loss did not improve from 0.00069\n",
      "\n",
      "Epoch 186: val_loss did not improve from 0.00069\n",
      "\n",
      "Epoch 187: val_loss did not improve from 0.00069\n",
      "\n",
      "Epoch 188: val_loss did not improve from 0.00069\n",
      "\n",
      "Epoch 189: val_loss did not improve from 0.00069\n",
      "\n",
      "Epoch 190: val_loss did not improve from 0.00069\n",
      "\n",
      "Epoch 191: val_loss did not improve from 0.00069\n",
      "\n",
      "Epoch 192: val_loss did not improve from 0.00069\n",
      "\n",
      "Epoch 193: val_loss did not improve from 0.00069\n",
      "Epoch 193: early stopping\n",
      "\u001b[1m18/18\u001b[0m \u001b[32m━━━━━━━━━━━━━━━━━━━━\u001b[0m\u001b[37m\u001b[0m \u001b[1m1s\u001b[0m 29ms/step\n",
      "    timesteps        hl      lr  batch_size  num_epochs       MSE      RMSE  \\\n",
      "0          30  [40, 35]  0.0010          32         200  0.030048  0.173345   \n",
      "1          30  [40, 35]  0.0010          32         250  0.124565  0.352937   \n",
      "2          30  [40, 35]  0.0010          64         200  0.010141  0.100702   \n",
      "3          30  [40, 35]  0.0010          64         250  0.003375  0.058097   \n",
      "4          30  [40, 35]  0.0001          32         200  0.039918  0.199794   \n",
      "5          30  [40, 35]  0.0001          32         250  0.034624  0.186076   \n",
      "6          30  [40, 35]  0.0001          64         200  0.002423  0.049228   \n",
      "7          30  [40, 35]  0.0001          64         250  0.005129  0.071620   \n",
      "8          40  [40, 35]  0.0010          32         200  0.005148  0.071752   \n",
      "9          40  [40, 35]  0.0010          32         250  0.000925  0.030412   \n",
      "10         40  [40, 35]  0.0010          64         200  0.033684  0.183532   \n",
      "11         40  [40, 35]  0.0010          64         250  0.007001  0.083669   \n",
      "12         40  [40, 35]  0.0001          32         200  0.002783  0.052755   \n",
      "13         40  [40, 35]  0.0001          32         250  0.018443  0.135804   \n",
      "14         40  [40, 35]  0.0001          64         200  0.004995  0.070673   \n",
      "15         40  [40, 35]  0.0001          64         250  0.064404  0.253779   \n",
      "16         50  [40, 35]  0.0010          32         200  0.035031  0.187166   \n",
      "17         50  [40, 35]  0.0010          32         250  0.030464  0.174538   \n",
      "18         50  [40, 35]  0.0010          64         200  0.041946  0.204808   \n",
      "19         50  [40, 35]  0.0010          64         250  0.032646  0.180683   \n",
      "20         50  [40, 35]  0.0001          32         200  0.010574  0.102831   \n",
      "21         50  [40, 35]  0.0001          32         250  0.001797  0.042393   \n",
      "22         50  [40, 35]  0.0001          64         200  0.007403  0.086039   \n",
      "23         50  [40, 35]  0.0001          64         250  0.004890  0.069928   \n",
      "\n",
      "        MAPE        R²  \n",
      "0   0.113561 -1.165887  \n",
      "1   0.232811 -7.978632  \n",
      "2   0.082616  0.269050  \n",
      "3   0.047808  0.756708  \n",
      "4   0.089024 -1.877255  \n",
      "5   0.129646 -1.495706  \n",
      "6   0.038537  0.825324  \n",
      "7   0.049520  0.630271  \n",
      "8   0.050005  0.623689  \n",
      "9   0.024743  0.932399  \n",
      "10  0.144588 -1.462057  \n",
      "11  0.055717  0.488308  \n",
      "12  0.044155  0.796579  \n",
      "13  0.107018 -0.348041  \n",
      "14  0.054611  0.634925  \n",
      "15  0.196795 -3.707463  \n",
      "16  0.129088 -1.642694  \n",
      "17  0.149324 -1.298134  \n",
      "18  0.139992 -2.164375  \n",
      "19  0.149018 -1.462790  \n",
      "20  0.060777  0.202291  \n",
      "21  0.031629  0.864421  \n",
      "22  0.066517  0.441550  \n",
      "23  0.045430  0.631115  \n",
      "Best parameters: {'timesteps': 40, 'hl': [40, 35], 'lr': 0.001, 'batch_size': 32, 'num_epochs': 250}\n",
      "Best RMSE score: 0.030411502531739045\n"
     ]
    }
   ],
   "source": [
    "best_params, best_score, results_df = grid_search_rnn(train, val, test, param_grid)\n",
    "\n",
    "print(results_df)\n",
    "print(\"Best parameters:\", best_params)\n",
    "print(\"Best RMSE score:\", best_score)"
   ]
  },
  {
   "cell_type": "markdown",
   "metadata": {},
   "source": [
    "### Bước 5: Huấn luyện mô hình với bộ tham số tối ưu"
   ]
  },
  {
   "cell_type": "code",
   "execution_count": 26,
   "metadata": {},
   "outputs": [
    {
     "name": "stderr",
     "output_type": "stream",
     "text": [
      "c:\\Users\\84368\\AppData\\Local\\Programs\\Python\\Python311\\Lib\\site-packages\\keras\\src\\layers\\rnn\\rnn.py:200: UserWarning: Do not pass an `input_shape`/`input_dim` argument to a layer. When using Sequential models, prefer using an `Input(shape)` object as the first layer in the model instead.\n",
      "  super().__init__(**kwargs)\n"
     ]
    },
    {
     "name": "stdout",
     "output_type": "stream",
     "text": [
      "\n",
      "Epoch 1: val_loss improved from inf to 0.12801, saving model to 10Var_vn30_lstm.h5\n"
     ]
    },
    {
     "name": "stderr",
     "output_type": "stream",
     "text": [
      "WARNING:absl:You are saving your model as an HDF5 file via `model.save()` or `keras.saving.save_model(model)`. This file format is considered legacy. We recommend using instead the native Keras format, e.g. `model.save('my_model.keras')` or `keras.saving.save_model(model, 'my_model.keras')`. \n"
     ]
    },
    {
     "name": "stdout",
     "output_type": "stream",
     "text": [
      "\n",
      "Epoch 2: val_loss improved from 0.12801 to 0.08628, saving model to 10Var_vn30_lstm.h5\n"
     ]
    },
    {
     "name": "stderr",
     "output_type": "stream",
     "text": [
      "WARNING:absl:You are saving your model as an HDF5 file via `model.save()` or `keras.saving.save_model(model)`. This file format is considered legacy. We recommend using instead the native Keras format, e.g. `model.save('my_model.keras')` or `keras.saving.save_model(model, 'my_model.keras')`. \n"
     ]
    },
    {
     "name": "stdout",
     "output_type": "stream",
     "text": [
      "\n",
      "Epoch 3: val_loss did not improve from 0.08628\n",
      "\n",
      "Epoch 4: val_loss did not improve from 0.08628\n",
      "\n",
      "Epoch 5: val_loss did not improve from 0.08628\n",
      "\n",
      "Epoch 6: val_loss did not improve from 0.08628\n",
      "\n",
      "Epoch 7: val_loss did not improve from 0.08628\n",
      "\n",
      "Epoch 8: val_loss did not improve from 0.08628\n",
      "\n",
      "Epoch 9: val_loss did not improve from 0.08628\n",
      "\n",
      "Epoch 10: val_loss did not improve from 0.08628\n",
      "\n",
      "Epoch 11: val_loss improved from 0.08628 to 0.07785, saving model to 10Var_vn30_lstm.h5\n"
     ]
    },
    {
     "name": "stderr",
     "output_type": "stream",
     "text": [
      "WARNING:absl:You are saving your model as an HDF5 file via `model.save()` or `keras.saving.save_model(model)`. This file format is considered legacy. We recommend using instead the native Keras format, e.g. `model.save('my_model.keras')` or `keras.saving.save_model(model, 'my_model.keras')`. \n"
     ]
    },
    {
     "name": "stdout",
     "output_type": "stream",
     "text": [
      "\n",
      "Epoch 12: val_loss did not improve from 0.07785\n",
      "\n",
      "Epoch 13: val_loss did not improve from 0.07785\n",
      "\n",
      "Epoch 14: val_loss did not improve from 0.07785\n",
      "\n",
      "Epoch 15: val_loss improved from 0.07785 to 0.03631, saving model to 10Var_vn30_lstm.h5\n"
     ]
    },
    {
     "name": "stderr",
     "output_type": "stream",
     "text": [
      "WARNING:absl:You are saving your model as an HDF5 file via `model.save()` or `keras.saving.save_model(model)`. This file format is considered legacy. We recommend using instead the native Keras format, e.g. `model.save('my_model.keras')` or `keras.saving.save_model(model, 'my_model.keras')`. \n"
     ]
    },
    {
     "name": "stdout",
     "output_type": "stream",
     "text": [
      "\n",
      "Epoch 16: val_loss did not improve from 0.03631\n",
      "\n",
      "Epoch 17: val_loss improved from 0.03631 to 0.03254, saving model to 10Var_vn30_lstm.h5\n"
     ]
    },
    {
     "name": "stderr",
     "output_type": "stream",
     "text": [
      "WARNING:absl:You are saving your model as an HDF5 file via `model.save()` or `keras.saving.save_model(model)`. This file format is considered legacy. We recommend using instead the native Keras format, e.g. `model.save('my_model.keras')` or `keras.saving.save_model(model, 'my_model.keras')`. \n"
     ]
    },
    {
     "name": "stdout",
     "output_type": "stream",
     "text": [
      "\n",
      "Epoch 18: val_loss did not improve from 0.03254\n",
      "\n",
      "Epoch 19: val_loss did not improve from 0.03254\n",
      "\n",
      "Epoch 20: val_loss did not improve from 0.03254\n",
      "\n",
      "Epoch 21: val_loss improved from 0.03254 to 0.02539, saving model to 10Var_vn30_lstm.h5\n"
     ]
    },
    {
     "name": "stderr",
     "output_type": "stream",
     "text": [
      "WARNING:absl:You are saving your model as an HDF5 file via `model.save()` or `keras.saving.save_model(model)`. This file format is considered legacy. We recommend using instead the native Keras format, e.g. `model.save('my_model.keras')` or `keras.saving.save_model(model, 'my_model.keras')`. \n"
     ]
    },
    {
     "name": "stdout",
     "output_type": "stream",
     "text": [
      "\n",
      "Epoch 22: val_loss improved from 0.02539 to 0.01737, saving model to 10Var_vn30_lstm.h5\n"
     ]
    },
    {
     "name": "stderr",
     "output_type": "stream",
     "text": [
      "WARNING:absl:You are saving your model as an HDF5 file via `model.save()` or `keras.saving.save_model(model)`. This file format is considered legacy. We recommend using instead the native Keras format, e.g. `model.save('my_model.keras')` or `keras.saving.save_model(model, 'my_model.keras')`. \n"
     ]
    },
    {
     "name": "stdout",
     "output_type": "stream",
     "text": [
      "\n",
      "Epoch 23: val_loss improved from 0.01737 to 0.01052, saving model to 10Var_vn30_lstm.h5\n"
     ]
    },
    {
     "name": "stderr",
     "output_type": "stream",
     "text": [
      "WARNING:absl:You are saving your model as an HDF5 file via `model.save()` or `keras.saving.save_model(model)`. This file format is considered legacy. We recommend using instead the native Keras format, e.g. `model.save('my_model.keras')` or `keras.saving.save_model(model, 'my_model.keras')`. \n"
     ]
    },
    {
     "name": "stdout",
     "output_type": "stream",
     "text": [
      "\n",
      "Epoch 24: val_loss improved from 0.01052 to 0.00935, saving model to 10Var_vn30_lstm.h5\n"
     ]
    },
    {
     "name": "stderr",
     "output_type": "stream",
     "text": [
      "WARNING:absl:You are saving your model as an HDF5 file via `model.save()` or `keras.saving.save_model(model)`. This file format is considered legacy. We recommend using instead the native Keras format, e.g. `model.save('my_model.keras')` or `keras.saving.save_model(model, 'my_model.keras')`. \n"
     ]
    },
    {
     "name": "stdout",
     "output_type": "stream",
     "text": [
      "\n",
      "Epoch 25: val_loss improved from 0.00935 to 0.00766, saving model to 10Var_vn30_lstm.h5\n"
     ]
    },
    {
     "name": "stderr",
     "output_type": "stream",
     "text": [
      "WARNING:absl:You are saving your model as an HDF5 file via `model.save()` or `keras.saving.save_model(model)`. This file format is considered legacy. We recommend using instead the native Keras format, e.g. `model.save('my_model.keras')` or `keras.saving.save_model(model, 'my_model.keras')`. \n"
     ]
    },
    {
     "name": "stdout",
     "output_type": "stream",
     "text": [
      "\n",
      "Epoch 26: val_loss improved from 0.00766 to 0.00712, saving model to 10Var_vn30_lstm.h5\n"
     ]
    },
    {
     "name": "stderr",
     "output_type": "stream",
     "text": [
      "WARNING:absl:You are saving your model as an HDF5 file via `model.save()` or `keras.saving.save_model(model)`. This file format is considered legacy. We recommend using instead the native Keras format, e.g. `model.save('my_model.keras')` or `keras.saving.save_model(model, 'my_model.keras')`. \n"
     ]
    },
    {
     "name": "stdout",
     "output_type": "stream",
     "text": [
      "\n",
      "Epoch 27: val_loss improved from 0.00712 to 0.00600, saving model to 10Var_vn30_lstm.h5\n"
     ]
    },
    {
     "name": "stderr",
     "output_type": "stream",
     "text": [
      "WARNING:absl:You are saving your model as an HDF5 file via `model.save()` or `keras.saving.save_model(model)`. This file format is considered legacy. We recommend using instead the native Keras format, e.g. `model.save('my_model.keras')` or `keras.saving.save_model(model, 'my_model.keras')`. \n"
     ]
    },
    {
     "name": "stdout",
     "output_type": "stream",
     "text": [
      "\n",
      "Epoch 28: val_loss improved from 0.00600 to 0.00563, saving model to 10Var_vn30_lstm.h5\n"
     ]
    },
    {
     "name": "stderr",
     "output_type": "stream",
     "text": [
      "WARNING:absl:You are saving your model as an HDF5 file via `model.save()` or `keras.saving.save_model(model)`. This file format is considered legacy. We recommend using instead the native Keras format, e.g. `model.save('my_model.keras')` or `keras.saving.save_model(model, 'my_model.keras')`. \n"
     ]
    },
    {
     "name": "stdout",
     "output_type": "stream",
     "text": [
      "\n",
      "Epoch 29: val_loss improved from 0.00563 to 0.00522, saving model to 10Var_vn30_lstm.h5\n"
     ]
    },
    {
     "name": "stderr",
     "output_type": "stream",
     "text": [
      "WARNING:absl:You are saving your model as an HDF5 file via `model.save()` or `keras.saving.save_model(model)`. This file format is considered legacy. We recommend using instead the native Keras format, e.g. `model.save('my_model.keras')` or `keras.saving.save_model(model, 'my_model.keras')`. \n"
     ]
    },
    {
     "name": "stdout",
     "output_type": "stream",
     "text": [
      "\n",
      "Epoch 30: val_loss improved from 0.00522 to 0.00502, saving model to 10Var_vn30_lstm.h5\n"
     ]
    },
    {
     "name": "stderr",
     "output_type": "stream",
     "text": [
      "WARNING:absl:You are saving your model as an HDF5 file via `model.save()` or `keras.saving.save_model(model)`. This file format is considered legacy. We recommend using instead the native Keras format, e.g. `model.save('my_model.keras')` or `keras.saving.save_model(model, 'my_model.keras')`. \n"
     ]
    },
    {
     "name": "stdout",
     "output_type": "stream",
     "text": [
      "\n",
      "Epoch 31: val_loss improved from 0.00502 to 0.00478, saving model to 10Var_vn30_lstm.h5\n"
     ]
    },
    {
     "name": "stderr",
     "output_type": "stream",
     "text": [
      "WARNING:absl:You are saving your model as an HDF5 file via `model.save()` or `keras.saving.save_model(model)`. This file format is considered legacy. We recommend using instead the native Keras format, e.g. `model.save('my_model.keras')` or `keras.saving.save_model(model, 'my_model.keras')`. \n"
     ]
    },
    {
     "name": "stdout",
     "output_type": "stream",
     "text": [
      "\n",
      "Epoch 32: val_loss improved from 0.00478 to 0.00460, saving model to 10Var_vn30_lstm.h5\n"
     ]
    },
    {
     "name": "stderr",
     "output_type": "stream",
     "text": [
      "WARNING:absl:You are saving your model as an HDF5 file via `model.save()` or `keras.saving.save_model(model)`. This file format is considered legacy. We recommend using instead the native Keras format, e.g. `model.save('my_model.keras')` or `keras.saving.save_model(model, 'my_model.keras')`. \n"
     ]
    },
    {
     "name": "stdout",
     "output_type": "stream",
     "text": [
      "\n",
      "Epoch 33: val_loss improved from 0.00460 to 0.00439, saving model to 10Var_vn30_lstm.h5\n"
     ]
    },
    {
     "name": "stderr",
     "output_type": "stream",
     "text": [
      "WARNING:absl:You are saving your model as an HDF5 file via `model.save()` or `keras.saving.save_model(model)`. This file format is considered legacy. We recommend using instead the native Keras format, e.g. `model.save('my_model.keras')` or `keras.saving.save_model(model, 'my_model.keras')`. \n"
     ]
    },
    {
     "name": "stdout",
     "output_type": "stream",
     "text": [
      "\n",
      "Epoch 34: val_loss improved from 0.00439 to 0.00434, saving model to 10Var_vn30_lstm.h5\n"
     ]
    },
    {
     "name": "stderr",
     "output_type": "stream",
     "text": [
      "WARNING:absl:You are saving your model as an HDF5 file via `model.save()` or `keras.saving.save_model(model)`. This file format is considered legacy. We recommend using instead the native Keras format, e.g. `model.save('my_model.keras')` or `keras.saving.save_model(model, 'my_model.keras')`. \n"
     ]
    },
    {
     "name": "stdout",
     "output_type": "stream",
     "text": [
      "\n",
      "Epoch 35: val_loss improved from 0.00434 to 0.00416, saving model to 10Var_vn30_lstm.h5\n"
     ]
    },
    {
     "name": "stderr",
     "output_type": "stream",
     "text": [
      "WARNING:absl:You are saving your model as an HDF5 file via `model.save()` or `keras.saving.save_model(model)`. This file format is considered legacy. We recommend using instead the native Keras format, e.g. `model.save('my_model.keras')` or `keras.saving.save_model(model, 'my_model.keras')`. \n"
     ]
    },
    {
     "name": "stdout",
     "output_type": "stream",
     "text": [
      "\n",
      "Epoch 36: val_loss improved from 0.00416 to 0.00406, saving model to 10Var_vn30_lstm.h5\n"
     ]
    },
    {
     "name": "stderr",
     "output_type": "stream",
     "text": [
      "WARNING:absl:You are saving your model as an HDF5 file via `model.save()` or `keras.saving.save_model(model)`. This file format is considered legacy. We recommend using instead the native Keras format, e.g. `model.save('my_model.keras')` or `keras.saving.save_model(model, 'my_model.keras')`. \n"
     ]
    },
    {
     "name": "stdout",
     "output_type": "stream",
     "text": [
      "\n",
      "Epoch 37: val_loss improved from 0.00406 to 0.00393, saving model to 10Var_vn30_lstm.h5\n"
     ]
    },
    {
     "name": "stderr",
     "output_type": "stream",
     "text": [
      "WARNING:absl:You are saving your model as an HDF5 file via `model.save()` or `keras.saving.save_model(model)`. This file format is considered legacy. We recommend using instead the native Keras format, e.g. `model.save('my_model.keras')` or `keras.saving.save_model(model, 'my_model.keras')`. \n"
     ]
    },
    {
     "name": "stdout",
     "output_type": "stream",
     "text": [
      "\n",
      "Epoch 38: val_loss did not improve from 0.00393\n",
      "\n",
      "Epoch 39: val_loss improved from 0.00393 to 0.00386, saving model to 10Var_vn30_lstm.h5\n"
     ]
    },
    {
     "name": "stderr",
     "output_type": "stream",
     "text": [
      "WARNING:absl:You are saving your model as an HDF5 file via `model.save()` or `keras.saving.save_model(model)`. This file format is considered legacy. We recommend using instead the native Keras format, e.g. `model.save('my_model.keras')` or `keras.saving.save_model(model, 'my_model.keras')`. \n"
     ]
    },
    {
     "name": "stdout",
     "output_type": "stream",
     "text": [
      "\n",
      "Epoch 40: val_loss did not improve from 0.00386\n",
      "\n",
      "Epoch 41: val_loss did not improve from 0.00386\n",
      "\n",
      "Epoch 42: val_loss did not improve from 0.00386\n",
      "\n",
      "Epoch 43: val_loss did not improve from 0.00386\n",
      "\n",
      "Epoch 44: val_loss did not improve from 0.00386\n",
      "\n",
      "Epoch 45: val_loss did not improve from 0.00386\n",
      "\n",
      "Epoch 46: val_loss did not improve from 0.00386\n",
      "\n",
      "Epoch 47: val_loss did not improve from 0.00386\n",
      "\n",
      "Epoch 48: val_loss did not improve from 0.00386\n",
      "\n",
      "Epoch 49: val_loss did not improve from 0.00386\n",
      "\n",
      "Epoch 50: val_loss did not improve from 0.00386\n",
      "\n",
      "Epoch 51: val_loss did not improve from 0.00386\n",
      "\n",
      "Epoch 52: val_loss did not improve from 0.00386\n",
      "\n",
      "Epoch 53: val_loss did not improve from 0.00386\n",
      "\n",
      "Epoch 54: val_loss did not improve from 0.00386\n",
      "\n",
      "Epoch 55: val_loss did not improve from 0.00386\n",
      "\n",
      "Epoch 56: val_loss did not improve from 0.00386\n",
      "\n",
      "Epoch 57: val_loss did not improve from 0.00386\n",
      "\n",
      "Epoch 58: val_loss did not improve from 0.00386\n",
      "\n",
      "Epoch 59: val_loss did not improve from 0.00386\n",
      "\n",
      "Epoch 60: val_loss did not improve from 0.00386\n",
      "\n",
      "Epoch 61: val_loss did not improve from 0.00386\n",
      "\n",
      "Epoch 62: val_loss did not improve from 0.00386\n",
      "\n",
      "Epoch 63: val_loss did not improve from 0.00386\n",
      "\n",
      "Epoch 64: val_loss did not improve from 0.00386\n",
      "\n",
      "Epoch 65: val_loss did not improve from 0.00386\n",
      "\n",
      "Epoch 66: val_loss did not improve from 0.00386\n",
      "\n",
      "Epoch 67: val_loss did not improve from 0.00386\n",
      "\n",
      "Epoch 68: val_loss did not improve from 0.00386\n",
      "\n",
      "Epoch 69: val_loss did not improve from 0.00386\n",
      "\n",
      "Epoch 70: val_loss did not improve from 0.00386\n",
      "\n",
      "Epoch 71: val_loss did not improve from 0.00386\n",
      "\n",
      "Epoch 72: val_loss did not improve from 0.00386\n",
      "\n",
      "Epoch 73: val_loss did not improve from 0.00386\n",
      "\n",
      "Epoch 74: val_loss did not improve from 0.00386\n",
      "\n",
      "Epoch 75: val_loss did not improve from 0.00386\n",
      "\n",
      "Epoch 76: val_loss did not improve from 0.00386\n",
      "\n",
      "Epoch 77: val_loss did not improve from 0.00386\n",
      "\n",
      "Epoch 78: val_loss did not improve from 0.00386\n",
      "\n",
      "Epoch 79: val_loss did not improve from 0.00386\n",
      "\n",
      "Epoch 80: val_loss did not improve from 0.00386\n",
      "\n",
      "Epoch 81: val_loss did not improve from 0.00386\n",
      "\n",
      "Epoch 82: val_loss did not improve from 0.00386\n",
      "\n",
      "Epoch 83: val_loss did not improve from 0.00386\n",
      "\n",
      "Epoch 84: val_loss did not improve from 0.00386\n",
      "\n",
      "Epoch 85: val_loss did not improve from 0.00386\n",
      "\n",
      "Epoch 86: val_loss did not improve from 0.00386\n",
      "\n",
      "Epoch 87: val_loss did not improve from 0.00386\n",
      "\n",
      "Epoch 88: val_loss did not improve from 0.00386\n",
      "\n",
      "Epoch 89: val_loss did not improve from 0.00386\n",
      "\n",
      "Epoch 90: val_loss did not improve from 0.00386\n",
      "\n",
      "Epoch 91: val_loss did not improve from 0.00386\n",
      "\n",
      "Epoch 92: val_loss did not improve from 0.00386\n",
      "\n",
      "Epoch 93: val_loss did not improve from 0.00386\n",
      "\n",
      "Epoch 94: val_loss did not improve from 0.00386\n",
      "\n",
      "Epoch 95: val_loss did not improve from 0.00386\n",
      "\n",
      "Epoch 96: val_loss did not improve from 0.00386\n",
      "\n",
      "Epoch 97: val_loss did not improve from 0.00386\n",
      "\n",
      "Epoch 98: val_loss did not improve from 0.00386\n",
      "\n",
      "Epoch 99: val_loss did not improve from 0.00386\n",
      "\n",
      "Epoch 100: val_loss improved from 0.00386 to 0.00253, saving model to 10Var_vn30_lstm.h5\n"
     ]
    },
    {
     "name": "stderr",
     "output_type": "stream",
     "text": [
      "WARNING:absl:You are saving your model as an HDF5 file via `model.save()` or `keras.saving.save_model(model)`. This file format is considered legacy. We recommend using instead the native Keras format, e.g. `model.save('my_model.keras')` or `keras.saving.save_model(model, 'my_model.keras')`. \n"
     ]
    },
    {
     "name": "stdout",
     "output_type": "stream",
     "text": [
      "\n",
      "Epoch 101: val_loss improved from 0.00253 to 0.00140, saving model to 10Var_vn30_lstm.h5\n"
     ]
    },
    {
     "name": "stderr",
     "output_type": "stream",
     "text": [
      "WARNING:absl:You are saving your model as an HDF5 file via `model.save()` or `keras.saving.save_model(model)`. This file format is considered legacy. We recommend using instead the native Keras format, e.g. `model.save('my_model.keras')` or `keras.saving.save_model(model, 'my_model.keras')`. \n"
     ]
    },
    {
     "name": "stdout",
     "output_type": "stream",
     "text": [
      "\n",
      "Epoch 102: val_loss improved from 0.00140 to 0.00138, saving model to 10Var_vn30_lstm.h5\n"
     ]
    },
    {
     "name": "stderr",
     "output_type": "stream",
     "text": [
      "WARNING:absl:You are saving your model as an HDF5 file via `model.save()` or `keras.saving.save_model(model)`. This file format is considered legacy. We recommend using instead the native Keras format, e.g. `model.save('my_model.keras')` or `keras.saving.save_model(model, 'my_model.keras')`. \n"
     ]
    },
    {
     "name": "stdout",
     "output_type": "stream",
     "text": [
      "\n",
      "Epoch 103: val_loss did not improve from 0.00138\n",
      "\n",
      "Epoch 104: val_loss did not improve from 0.00138\n",
      "\n",
      "Epoch 105: val_loss did not improve from 0.00138\n",
      "\n",
      "Epoch 106: val_loss did not improve from 0.00138\n",
      "\n",
      "Epoch 107: val_loss did not improve from 0.00138\n",
      "\n",
      "Epoch 108: val_loss did not improve from 0.00138\n",
      "\n",
      "Epoch 109: val_loss did not improve from 0.00138\n",
      "\n",
      "Epoch 110: val_loss did not improve from 0.00138\n",
      "\n",
      "Epoch 111: val_loss did not improve from 0.00138\n",
      "\n",
      "Epoch 112: val_loss did not improve from 0.00138\n",
      "\n",
      "Epoch 113: val_loss did not improve from 0.00138\n",
      "\n",
      "Epoch 114: val_loss did not improve from 0.00138\n",
      "\n",
      "Epoch 115: val_loss did not improve from 0.00138\n",
      "\n",
      "Epoch 116: val_loss did not improve from 0.00138\n",
      "\n",
      "Epoch 117: val_loss did not improve from 0.00138\n",
      "\n",
      "Epoch 118: val_loss did not improve from 0.00138\n",
      "\n",
      "Epoch 119: val_loss did not improve from 0.00138\n",
      "\n",
      "Epoch 120: val_loss did not improve from 0.00138\n",
      "\n",
      "Epoch 121: val_loss did not improve from 0.00138\n",
      "\n",
      "Epoch 122: val_loss did not improve from 0.00138\n",
      "\n",
      "Epoch 123: val_loss did not improve from 0.00138\n",
      "\n",
      "Epoch 124: val_loss did not improve from 0.00138\n",
      "\n",
      "Epoch 125: val_loss did not improve from 0.00138\n",
      "\n",
      "Epoch 126: val_loss did not improve from 0.00138\n",
      "\n",
      "Epoch 127: val_loss did not improve from 0.00138\n",
      "\n",
      "Epoch 128: val_loss did not improve from 0.00138\n",
      "\n",
      "Epoch 129: val_loss did not improve from 0.00138\n",
      "\n",
      "Epoch 130: val_loss did not improve from 0.00138\n",
      "\n",
      "Epoch 131: val_loss did not improve from 0.00138\n",
      "\n",
      "Epoch 132: val_loss did not improve from 0.00138\n",
      "\n",
      "Epoch 133: val_loss did not improve from 0.00138\n",
      "\n",
      "Epoch 134: val_loss did not improve from 0.00138\n",
      "\n",
      "Epoch 135: val_loss did not improve from 0.00138\n",
      "\n",
      "Epoch 136: val_loss did not improve from 0.00138\n",
      "\n",
      "Epoch 137: val_loss did not improve from 0.00138\n",
      "\n",
      "Epoch 138: val_loss did not improve from 0.00138\n",
      "\n",
      "Epoch 139: val_loss did not improve from 0.00138\n",
      "\n",
      "Epoch 140: val_loss did not improve from 0.00138\n",
      "\n",
      "Epoch 141: val_loss did not improve from 0.00138\n",
      "\n",
      "Epoch 142: val_loss did not improve from 0.00138\n",
      "\n",
      "Epoch 143: val_loss did not improve from 0.00138\n",
      "\n",
      "Epoch 144: val_loss did not improve from 0.00138\n",
      "\n",
      "Epoch 145: val_loss did not improve from 0.00138\n",
      "\n",
      "Epoch 146: val_loss did not improve from 0.00138\n",
      "\n",
      "Epoch 147: val_loss did not improve from 0.00138\n",
      "\n",
      "Epoch 148: val_loss did not improve from 0.00138\n",
      "\n",
      "Epoch 149: val_loss did not improve from 0.00138\n",
      "\n",
      "Epoch 150: val_loss did not improve from 0.00138\n",
      "\n",
      "Epoch 151: val_loss did not improve from 0.00138\n",
      "\n",
      "Epoch 152: val_loss did not improve from 0.00138\n",
      "\n",
      "Epoch 153: val_loss did not improve from 0.00138\n",
      "\n",
      "Epoch 154: val_loss did not improve from 0.00138\n",
      "\n",
      "Epoch 155: val_loss did not improve from 0.00138\n",
      "\n",
      "Epoch 156: val_loss did not improve from 0.00138\n",
      "\n",
      "Epoch 157: val_loss did not improve from 0.00138\n",
      "\n",
      "Epoch 158: val_loss did not improve from 0.00138\n",
      "\n",
      "Epoch 159: val_loss did not improve from 0.00138\n",
      "\n",
      "Epoch 160: val_loss did not improve from 0.00138\n",
      "\n",
      "Epoch 161: val_loss did not improve from 0.00138\n",
      "\n",
      "Epoch 162: val_loss did not improve from 0.00138\n",
      "\n",
      "Epoch 163: val_loss did not improve from 0.00138\n",
      "\n",
      "Epoch 164: val_loss did not improve from 0.00138\n",
      "\n",
      "Epoch 165: val_loss did not improve from 0.00138\n",
      "\n",
      "Epoch 166: val_loss did not improve from 0.00138\n",
      "\n",
      "Epoch 167: val_loss did not improve from 0.00138\n",
      "\n",
      "Epoch 168: val_loss did not improve from 0.00138\n",
      "\n",
      "Epoch 169: val_loss did not improve from 0.00138\n",
      "\n",
      "Epoch 170: val_loss did not improve from 0.00138\n",
      "\n",
      "Epoch 171: val_loss did not improve from 0.00138\n",
      "\n",
      "Epoch 172: val_loss did not improve from 0.00138\n",
      "\n",
      "Epoch 173: val_loss did not improve from 0.00138\n",
      "\n",
      "Epoch 174: val_loss did not improve from 0.00138\n",
      "\n",
      "Epoch 175: val_loss did not improve from 0.00138\n",
      "\n",
      "Epoch 176: val_loss did not improve from 0.00138\n",
      "\n",
      "Epoch 177: val_loss did not improve from 0.00138\n",
      "\n",
      "Epoch 178: val_loss did not improve from 0.00138\n",
      "\n",
      "Epoch 179: val_loss did not improve from 0.00138\n",
      "\n",
      "Epoch 180: val_loss did not improve from 0.00138\n",
      "\n",
      "Epoch 181: val_loss did not improve from 0.00138\n",
      "Epoch 181: early stopping\n"
     ]
    }
   ],
   "source": [
    "timesteps = 40\n",
    "hl = [40, 35]\n",
    "lr = 1e-3\n",
    "batch_size = 32\n",
    "num_epochs = 250\n",
    "\n",
    "model, train_error, val_error = fit_model_4(train, val, timesteps, hl, lr, batch_size, num_epochs)"
   ]
  },
  {
   "cell_type": "markdown",
   "metadata": {},
   "source": [
    "### Bước 6: Đánh giá mô hình và trực quan hóa kết quả"
   ]
  },
  {
   "cell_type": "markdown",
   "metadata": {},
   "source": [
    "#### 6.1. Vẽ biểu đồ train_loss và val_loss"
   ]
  },
  {
   "cell_type": "code",
   "execution_count": 27,
   "metadata": {},
   "outputs": [
    {
     "data": {
      "image/png": "[encoded data removed]",
      "text/plain": [
       "<Figure size 640x480 with 1 Axes>"
      ]
     },
     "metadata": {},
     "output_type": "display_data"
    }
   ],
   "source": [
    "plot_error(train_error, val_error)"
   ]
  },
  {
   "cell_type": "markdown",
   "metadata": {},
   "source": [
    "#### 6.2. Đánh giá mô hình trên tập test"
   ]
  },
  {
   "cell_type": "code",
   "execution_count": 28,
   "metadata": {},
   "outputs": [
    {
     "name": "stdout",
     "output_type": "stream",
     "text": [
      "\u001b[1m18/18\u001b[0m \u001b[32m━━━━━━━━━━━━━━━━━━━━\u001b[0m\u001b[37m\u001b[0m \u001b[1m1s\u001b[0m 34ms/step\n"
     ]
    }
   ],
   "source": [
    "mse, rmse, mape, r2, true, predicted = evaluate_model_4(model, test, timesteps)"
   ]
  },
  {
   "cell_type": "code",
   "execution_count": 29,
   "metadata": {},
   "outputs": [
    {
     "name": "stdout",
     "output_type": "stream",
     "text": [
      "MSE = 0.0011348796054511474\n",
      "RMSE = 0.0336879741963085\n",
      "MAPE = 0.02675516819411632\n",
      "R-Squared Score = 0.9170480625833\n"
     ]
    }
   ],
   "source": [
    "print('MSE = {}'.format(mse))\n",
    "print('RMSE = {}'.format(rmse))\n",
    "print('MAPE = {}'.format(mape))\n",
    "print('R-Squared Score = {}'.format(r2))"
   ]
  },
  {
   "cell_type": "markdown",
   "metadata": {},
   "source": [
    "#### 6.3. Vẽ đồ thị dự đoán vs thực tế"
   ]
  },
  {
   "cell_type": "code",
   "execution_count": 30,
   "metadata": {},
   "outputs": [
    {
     "data": {
      "image/png": "[encoded data removed]",
      "text/plain": [
       "<Figure size 640x480 with 1 Axes>"
      ]
     },
     "metadata": {},
     "output_type": "display_data"
    }
   ],
   "source": [
    "plot_data_4(true, predicted)"
   ]
  },
  {
   "cell_type": "code",
   "execution_count": 31,
   "metadata": {},
   "outputs": [],
   "source": [
    "# Save a model\n",
    "model.save('10VAR-VN30index-lstm.keras')"
   ]
  },
  {
   "cell_type": "code",
   "execution_count": null,
   "metadata": {},
   "outputs": [],
   "source": [
    "del model"
   ]
  }
 ],
 "metadata": {
  "kernelspec": {
   "display_name": "Python 3",
   "language": "python",
   "name": "python3"
  },
  "language_info": {
   "codemirror_mode": {
    "name": "ipython",
    "version": 3
   },
   "file_extension": ".py",
   "mimetype": "text/x-python",
   "name": "python",
   "nbconvert_exporter": "python",
   "pygments_lexer": "ipython3",
   "version": "3.11.6"
  }
 },
 "nbformat": 4,
 "nbformat_minor": 2
}
