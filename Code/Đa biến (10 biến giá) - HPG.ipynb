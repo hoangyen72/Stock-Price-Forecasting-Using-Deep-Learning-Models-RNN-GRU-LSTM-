{
 "cells": [
  {
   "cell_type": "markdown",
   "metadata": {},
   "source": [
    "# Model 1: Multivariate-3-RNN"
   ]
  },
  {
   "cell_type": "markdown",
   "metadata": {},
   "source": [
    "## RNN"
   ]
  },
  {
   "cell_type": "markdown",
   "metadata": {},
   "source": [
    "### Import các thư viện cần thiết"
   ]
  },
  {
   "cell_type": "code",
   "execution_count": 1,
   "metadata": {},
   "outputs": [],
   "source": [
    "import os\n",
    "os.environ['PYTHONHASHSEED'] = '0' # đảm bảo rằng các giá trị băm của đối tượng bất biến (dict, set, chuỗi, tuple...) luôn giống nhau giữa các lần chạy\n",
    "\n",
    "import random as rn\n",
    "import numpy as np\n",
    "np.random.seed(1)\n",
    "rn.seed(3)\n",
    "import tensorflow as tf\n",
    "tf.random.set_seed(2)"
   ]
  },
  {
   "cell_type": "code",
   "execution_count": 2,
   "metadata": {},
   "outputs": [],
   "source": [
    "import sys\n",
    "import numpy as np\n",
    "import pandas as pd\n",
    "import matplotlib.pyplot as plt"
   ]
  },
  {
   "cell_type": "code",
   "execution_count": 3,
   "metadata": {},
   "outputs": [],
   "source": [
    "import tensorflow as tf\n",
    "from tensorflow.keras.models import Sequential, load_model\n",
    "from tensorflow.keras.layers import Dense, SimpleRNN, LSTM, Dropout\n",
    "from tensorflow.keras import optimizers"
   ]
  },
  {
   "cell_type": "code",
   "execution_count": 4,
   "metadata": {},
   "outputs": [],
   "source": [
    "from tensorflow.keras.callbacks import EarlyStopping, ModelCheckpoint\n",
    "from sklearn.preprocessing import MinMaxScaler\n",
    "from sklearn.metrics import mean_squared_error, r2_score, mean_absolute_percentage_error\n",
    "from math import sqrt\n",
    "import datetime as dt\n",
    "import time\n",
    "\n",
    "from tensorflow.keras.optimizers import Adam"
   ]
  },
  {
   "cell_type": "code",
   "execution_count": 5,
   "metadata": {},
   "outputs": [],
   "source": [
    "plt.style.use('ggplot')"
   ]
  },
  {
   "cell_type": "markdown",
   "metadata": {},
   "source": [
    "### Hàm callback"
   ]
  },
  {
   "cell_type": "code",
   "execution_count": 6,
   "metadata": {},
   "outputs": [],
   "source": [
    "earlystop = EarlyStopping(monitor='val_loss', min_delta=0.0001, patience=80,  verbose=1, mode='min')  \n",
    "checkpoint = ModelCheckpoint(\n",
    "    filepath=\"10Var-hpg-rnn.h5\",   # Tên file lưu mô hình\n",
    "    monitor=\"val_loss\",         # Theo dõi val_loss\n",
    "    save_best_only=True,        # Chỉ lưu khi tốt hơn mô hình trước đó\n",
    "    mode=\"min\",                 # Giảm min của val_loss là tốt nhất\n",
    "    verbose=1\n",
    ")\n",
    "callbacks_list = [earlystop, checkpoint] "
   ]
  },
  {
   "cell_type": "markdown",
   "metadata": {},
   "source": [
    "### Đọc dữ liệu từ file csv"
   ]
  },
  {
   "cell_type": "code",
   "execution_count": null,
   "metadata": {},
   "outputs": [],
   "source": [
    "url = r\"hpg_history.csv\"\n",
    "df = pd.read_csv(url, parse_dates= True, index_col= 0)"
   ]
  },
  {
   "cell_type": "code",
   "execution_count": 8,
   "metadata": {},
   "outputs": [
    {
     "name": "stdout",
     "output_type": "stream",
     "text": [
      "<bound method NDFrame.head of              open   high    low  close    volume\n",
      "time                                            \n",
      "2007-11-16   2.29   2.29   2.29   2.29    248510\n",
      "2007-11-19   2.17   2.17   2.17   2.17    120480\n",
      "2007-11-20   2.08   2.08   2.08   2.08     58710\n",
      "2007-11-21   1.99   2.16   1.99   2.16    728080\n",
      "2007-11-22   2.16   2.16   2.08   2.16    266040\n",
      "...           ...    ...    ...    ...       ...\n",
      "2025-03-14  27.70  27.85  27.55  27.55  18279900\n",
      "2025-03-17  27.90  28.15  27.75  27.85  19719700\n",
      "2025-03-18  27.90  28.05  27.60  27.60  18741700\n",
      "2025-03-19  27.60  27.60  27.10  27.25  37925600\n",
      "2025-03-20  27.30  27.45  27.05  27.15  25022500\n",
      "\n",
      "[4322 rows x 5 columns]>\n"
     ]
    }
   ],
   "source": [
    "print(df.head)"
   ]
  },
  {
   "cell_type": "code",
   "execution_count": 9,
   "metadata": {},
   "outputs": [
    {
     "name": "stdout",
     "output_type": "stream",
     "text": [
      "open      0\n",
      "high      0\n",
      "low       0\n",
      "close     0\n",
      "volume    0\n",
      "dtype: int64\n"
     ]
    }
   ],
   "source": [
    "print(df.isnull().sum())"
   ]
  },
  {
   "cell_type": "markdown",
   "metadata": {},
   "source": [
    "### Tiền xử lí dữ liệu"
   ]
  },
  {
   "cell_type": "code",
   "execution_count": 10,
   "metadata": {},
   "outputs": [],
   "source": [
    "# Xóa các dòng có giá trị Volume bằng 0\n",
    "df.drop(df[df['volume']==0].index, inplace=True)"
   ]
  },
  {
   "cell_type": "code",
   "execution_count": 11,
   "metadata": {},
   "outputs": [
    {
     "data": {
      "text/plain": [
       "open      0.999667\n",
       "high      0.999857\n",
       "low       0.999838\n",
       "close     1.000000\n",
       "volume    0.799299\n",
       "Name: close, dtype: float64"
      ]
     },
     "execution_count": 11,
     "metadata": {},
     "output_type": "execute_result"
    }
   ],
   "source": [
    "# Ma trận tương quan (ở đây là Pearson tương quan tuyến tính)\n",
    "df.corr()['close']"
   ]
  },
  {
   "cell_type": "code",
   "execution_count": 12,
   "metadata": {},
   "outputs": [
    {
     "name": "stdout",
     "output_type": "stream",
     "text": [
      "count    4.320000e+03\n",
      "mean     7.877410e+06\n",
      "std      1.133795e+07\n",
      "min      5.000000e+01\n",
      "25%      4.646300e+05\n",
      "50%      2.422785e+06\n",
      "75%      1.233620e+07\n",
      "max      9.967998e+07\n",
      "Name: volume, dtype: float64\n"
     ]
    }
   ],
   "source": [
    "#  Tính toán các thống kê mô tả như trung bình (mean), độ lệch chuẩn (std), min, max, phần trăm phân vị (25%, 50%, 75%).\n",
    "print(df.describe().volume) # Giúp kiểm tra phân bố của Volume, phát hiện các giá trị bất thường (outliers)."
   ]
  },
  {
   "cell_type": "code",
   "execution_count": 13,
   "metadata": {},
   "outputs": [
    {
     "data": {
      "text/plain": [
       "<Axes: >"
      ]
     },
     "execution_count": 13,
     "metadata": {},
     "output_type": "execute_result"
    },
    {
     "data": {
      "image/png": "[encoded data removed]",
      "text/plain": [
       "<Figure size 640x480 with 1 Axes>"
      ]
     },
     "metadata": {},
     "output_type": "display_data"
    }
   ],
   "source": [
    "# Vẽ biểu đồ tần suất của Volume\n",
    "df['volume'].hist(bins=10)"
   ]
  },
  {
   "cell_type": "markdown",
   "metadata": {},
   "source": [
    "**Phân tích phân bố dữ liệu Volume bằng Histogram**  \n",
    "\n",
    "🔹 `.hist(bins=10)`  \n",
    "- Vẽ **biểu đồ histogram** của cột `Volume` với **10 bins (nhóm dữ liệu)**.  \n",
    "- Giúp trực quan hóa **phân bố dữ liệu**, phát hiện sự **lệch** (skewness) và **giá trị ngoại lai** (outliers).  \n",
    "\n",
    "**Ý nghĩa của biểu đồ histogram**  \n",
    "\n",
    "- **Nếu phân bố lệch phải (right-skewed)** → Dữ liệu có nhiều giá trị nhỏ, một số giá trị rất lớn.  \n",
    "- **Nếu phân bố lệch trái (left-skewed)** → Dữ liệu có nhiều giá trị lớn, một số giá trị rất nhỏ.  \n",
    "- **Nếu có outliers (điểm nằm xa tập trung chính)** → Có thể cần xử lý như **loại bỏ** hoặc **chuẩn hóa dữ liệu**.  \n",
    "\n",
    "**Cách xử lý dữ liệu lệch/skewed**  \n",
    "\n",
    "✅ **Log Transformation** → Dùng `np.log1p(Volume)` để giảm độ lệch.  \n",
    "✅ **Scaling** → Dùng `MinMaxScaler()` hoặc `StandardScaler()` để chuẩn hóa.  \n",
    "✅ **Xử lý outliers** → Loại bỏ hoặc thay thế bằng **giá trị trung bình/median**.  \n"
   ]
  },
  {
   "cell_type": "code",
   "execution_count": 14,
   "metadata": {},
   "outputs": [],
   "source": [
    "# Bổ sung các chỉ báo kĩ thuật\n",
    "\n",
    "# Tính CMA10\n",
    "df['CMA10'] = df['close'].rolling(window=10, center=True).mean()\n",
    "# Tính SMA10\n",
    "df['SMA10'] = df['close'].rolling(window=10).mean()\n",
    "# Tính SMA50\n",
    "df['SMA50'] = df['close'].rolling(window=50).mean()\n",
    "# Tính EMA12 và EMA26\n",
    "df['EMA12'] = df['close'].ewm(span=12, adjust=False).mean()\n",
    "df['EMA26'] = df['close'].ewm(span=26, adjust=False).mean()\n",
    "# Tính MACD\n",
    "df['MACD'] = df['EMA12'] - df['EMA26']\n",
    "#Tính RSI\n",
    "# Tính giá tăng/giảm\n",
    "delta = df['close'].diff()\n",
    "\n",
    "# Tính giá tăng\n",
    "gain = delta.where(delta > 0, 0)\n",
    "\n",
    "# Tính giá giảm\n",
    "loss = -delta.where(delta < 0, 0)\n",
    "\n",
    "# Tính trung bình động\n",
    "avg_gain = gain.rolling(window=14).mean()\n",
    "avg_loss = loss.rolling(window=14).mean()\n",
    "\n",
    "# Tính RS và RSI\n",
    "rs = avg_gain / avg_loss\n",
    "df['RSI'] = 100 - (100 / (1 + rs))\n",
    "\n",
    "#Tính CCI\n",
    "# Tính giá trung bình\n",
    "typical_price = (df['high'] + df['low'] + df['close']) / 3\n",
    "\n",
    "# Tính SMA của giá trung bình\n",
    "sma_typical_price = typical_price.rolling(window=20).mean()\n",
    "\n",
    "# Tính độ lệch chuẩn\n",
    "mean_deviation = typical_price.rolling(window=20).apply(lambda x: np.mean(np.abs(x - x.mean())))\n",
    "\n",
    "# Tính CCI\n",
    "df['CCI'] = (typical_price - sma_typical_price) / (0.015 * mean_deviation)\n",
    "# Tính %K và %D\n",
    "low_min = df['low'].rolling(window=14).min()\n",
    "high_max = df['high'].rolling(window=14).max()\n",
    "\n",
    "df['%K'] = 100 * (df['close'] - low_min) / (high_max - low_min)\n",
    "df['%D'] = df['%K'].rolling(window=3).mean()"
   ]
  },
  {
   "cell_type": "code",
   "execution_count": 15,
   "metadata": {},
   "outputs": [
    {
     "name": "stdout",
     "output_type": "stream",
     "text": [
      "            open  high   low  close  volume  CMA10  SMA10  SMA50     EMA12  \\\n",
      "time                                                                         \n",
      "2007-11-16  2.29  2.29  2.29   2.29  248510    NaN    NaN    NaN  2.290000   \n",
      "2007-11-19  2.17  2.17  2.17   2.17  120480    NaN    NaN    NaN  2.271538   \n",
      "2007-11-20  2.08  2.08  2.08   2.08   58710    NaN    NaN    NaN  2.242071   \n",
      "2007-11-21  1.99  2.16  1.99   2.16  728080    NaN    NaN    NaN  2.229445   \n",
      "2007-11-22  2.16  2.16  2.08   2.16  266040    NaN    NaN    NaN  2.218761   \n",
      "\n",
      "               EMA26      MACD  RSI  CCI  %K  %D  \n",
      "time                                              \n",
      "2007-11-16  2.290000  0.000000  NaN  NaN NaN NaN  \n",
      "2007-11-19  2.281111 -0.009573  NaN  NaN NaN NaN  \n",
      "2007-11-20  2.266214 -0.024143  NaN  NaN NaN NaN  \n",
      "2007-11-21  2.258346 -0.028902  NaN  NaN NaN NaN  \n",
      "2007-11-22  2.251061 -0.032300  NaN  NaN NaN NaN  \n"
     ]
    },
    {
     "data": {
      "text/plain": [
       "(4320, 15)"
      ]
     },
     "execution_count": 15,
     "metadata": {},
     "output_type": "execute_result"
    }
   ],
   "source": [
    "print(df.head())\n",
    "df.shape"
   ]
  },
  {
   "cell_type": "markdown",
   "metadata": {},
   "source": [
    "## Train model / Hàm **fit_model_2()**"
   ]
  },
  {
   "cell_type": "code",
   "execution_count": 16,
   "metadata": {},
   "outputs": [],
   "source": [
    "def fit_model_2(train, val, timesteps, hl, lr, batch, epochs):\n",
    "    np.random.seed(1)\n",
    "    tf.random.set_seed(2)\n",
    "    rn.seed(3)\n",
    "\n",
    "    X_train = []\n",
    "    Y_train = []\n",
    "    X_val = []\n",
    "    Y_val = []\n",
    "\n",
    "    # Loop for training data\n",
    "    for i in range(timesteps, train.shape[0]):\n",
    "        X_train.append(train[i-timesteps:i])\n",
    "        Y_train.append(train[i][0])\n",
    "    X_train, Y_train = np.array(X_train), np.array(Y_train)\n",
    "\n",
    "    # Loop for val data\n",
    "    for i in range(timesteps, val.shape[0]):\n",
    "        X_val.append(val[i-timesteps:i])\n",
    "        Y_val.append(val[i][0])\n",
    "    X_val, Y_val = np.array(X_val), np.array(Y_val)\n",
    "\n",
    "    # Adding Layers to the model\n",
    "    model = Sequential()\n",
    "    model.add(SimpleRNN(X_train.shape[2], input_shape = (X_train.shape[1], X_train.shape[2]), activation = 'relu', return_sequences = True))\n",
    "    for i in range(len(hl)-1):\n",
    "        model.add(SimpleRNN(hl[i], activation = 'relu', return_sequences = True))\n",
    "    model.add(SimpleRNN(hl[-1], activation = 'relu'))\n",
    "    model.add(Dense(1))\n",
    "    model.compile(optimizer = optimizers.Adam(learning_rate= lr), loss = 'mean_squared_error')\n",
    "\n",
    "    # Training the data\n",
    "    history = model.fit(X_train, Y_train, epochs = epochs, batch_size = batch, validation_data = (X_val, Y_val), verbose = 0, shuffle = False, callbacks=callbacks_list)\n",
    "    for layer in model.layers:\n",
    "        if isinstance(layer, SimpleRNN):\n",
    "            layer.reset_states() #Đảm bảo mỗi lần huấn luyện không bị ảnh hưởng bởi trạng thái cũ của LSTM.\n",
    "    return model, history.history['loss'], history.history['val_loss']"
   ]
  },
  {
   "cell_type": "markdown",
   "metadata": {},
   "source": [
    "###  Bước 1: Đặt Seed để đảm bảo tính tái lập"
   ]
  },
  {
   "cell_type": "markdown",
   "metadata": {},
   "source": [
    "Giúp đảm bảo mỗi lần chạy chương trình, các giá trị ngẫu nhiên được tạo ra giống nhau, tránh kết quả huấn luyện thay đổi giữa các lần chạy."
   ]
  },
  {
   "cell_type": "code",
   "execution_count": null,
   "metadata": {},
   "outputs": [
    {
     "data": {
      "text/plain": [
       "'\\nnp.random.seed(1)\\ntf.random.set_seed(2)\\nrn.seed(3)\\n'"
      ]
     },
     "execution_count": 162,
     "metadata": {},
     "output_type": "execute_result"
    }
   ],
   "source": [
    "\"\"\"\n",
    "np.random.seed(1)\n",
    "tf.random.set_seed(2)\n",
    "rn.seed(3)\n",
    "\"\"\""
   ]
  },
  {
   "cell_type": "markdown",
   "metadata": {},
   "source": [
    "### Bước 2: Chuẩn bị dữ liệu huấn luyện (train) và kiểm định (val)"
   ]
  },
  {
   "cell_type": "code",
   "execution_count": null,
   "metadata": {},
   "outputs": [
    {
     "data": {
      "text/plain": [
       "'\\nX_train = []\\nY_train = []\\nX_val = []\\nY_val = []\\n\\nfor i in range(timesteps, train.shape[0]):\\n    X_train.append(train[i-timesteps:i])\\n    Y_train.append(train[i][0])\\nX_train, Y_train = np.array(X_train, Y_train)\\n\\nfor i in range(timesteps, val.shape[0]):\\n    X_val.append(val[i-timesteps:i])\\n    Y_val.append(val[i][0])\\nX_val, Y_val = np.array(X_val, Y_val)  \\n'"
      ]
     },
     "execution_count": 163,
     "metadata": {},
     "output_type": "execute_result"
    }
   ],
   "source": [
    "\"\"\"\n",
    "X_train = []\n",
    "Y_train = []\n",
    "X_val = []\n",
    "Y_val = []\n",
    "\n",
    "for i in range(timesteps, train.shape[0]):\n",
    "    X_train.append(train[i-timesteps:i])\n",
    "    Y_train.append(train[i][0])\n",
    "X_train, Y_train = np.array(X_train, Y_train)\n",
    "\n",
    "for i in range(timesteps, val.shape[0]):\n",
    "    X_val.append(val[i-timesteps:i])\n",
    "    Y_val.append(val[i][0])\n",
    "X_val, Y_val = np.array(X_val, Y_val)  \n",
    "\"\"\""
   ]
  },
  {
   "cell_type": "markdown",
   "metadata": {},
   "source": [
    "### Bước 3: Xây dựng mô hình RNN"
   ]
  },
  {
   "cell_type": "code",
   "execution_count": null,
   "metadata": {},
   "outputs": [
    {
     "data": {
      "text/plain": [
       "\"\\n# Xây dựng mô hình RNN\\nmodel = Sequential()\\nmodel.add(SimpleRNN(X_train.shape[2], input_shape= (X_train.shape[1], X_train.shape[2]), activation='relu', return_sequences= True))\\nfor i in range(len(hl)-1):\\n    model.add(SimpleRNN(hl[i], activation='relu', return_sequences= True))\\nmodel.add(SimpleRNN(hl[-1], activation='relu'))\\nmodel.add(Dense(1))\\n\""
      ]
     },
     "execution_count": 164,
     "metadata": {},
     "output_type": "execute_result"
    }
   ],
   "source": [
    "\"\"\"\n",
    "# Xây dựng mô hình RNN\n",
    "model = Sequential()\n",
    "model.add(SimpleRNN(X_train.shape[2], input_shape= (X_train.shape[1], X_train.shape[2]), activation='relu', return_sequences= True))\n",
    "for i in range(len(hl)-1):\n",
    "    model.add(SimpleRNN(hl[i], activation='relu', return_sequences= True))\n",
    "model.add(SimpleRNN(hl[-1], activation='relu'))\n",
    "model.add(Dense(1))\n",
    "\"\"\""
   ]
  },
  {
   "cell_type": "markdown",
   "metadata": {},
   "source": [
    "Thêm một lớp **SimpleRNN đầu tiên**:  \n",
    "-   `X_train.shape[2]`: Số đặc trưng (features).\n",
    "-   `input_shape = (X_train.shape[1], X_train.shape[2])`: Định dạng đầu vào (timesteps, số đặc trưng).\n",
    "-   `activation = 'relu'`: Hàm kích hoạt giúp mô hình học phi tuyến tính.\n",
    "-   `return_sequences = True`: Giữ lại toàn bộ chuỗi đầu ra để sử dụng trong các lớp tiếp theo."
   ]
  },
  {
   "cell_type": "markdown",
   "metadata": {},
   "source": [
    "### Bước 4: Biên dịch mô hình"
   ]
  },
  {
   "cell_type": "code",
   "execution_count": null,
   "metadata": {},
   "outputs": [
    {
     "data": {
      "text/plain": [
       "\"\\n# Biên dịch\\nmodel.compile(optimizer= optimizers.Adam(learning_rate= lr), loss= 'mean_squared_error')\\n\""
      ]
     },
     "execution_count": 165,
     "metadata": {},
     "output_type": "execute_result"
    }
   ],
   "source": [
    "\"\"\"\n",
    "# Biên dịch\n",
    "model.compile(optimizer= optimizers.Adam(learning_rate= lr), loss= 'mean_squared_error')\n",
    "\"\"\""
   ]
  },
  {
   "cell_type": "markdown",
   "metadata": {},
   "source": [
    "### Bước 5: Huấn luyện mô hình"
   ]
  },
  {
   "cell_type": "code",
   "execution_count": null,
   "metadata": {},
   "outputs": [
    {
     "data": {
      "text/plain": [
       "'\\nhistory = model.fit(X_train, Y_train, epochs = epochs, batch_size = batch, validation_data = (X_val, Y_val), verbose = 0, shuffle = False, callbacks=callbacks_list)\\n'"
      ]
     },
     "execution_count": 166,
     "metadata": {},
     "output_type": "execute_result"
    }
   ],
   "source": [
    "\"\"\"\n",
    "history = model.fit(X_train, Y_train, epochs = epochs, batch_size = batch, validation_data = (X_val, Y_val), verbose = 0, shuffle = False, callbacks=callbacks_list)\n",
    "\"\"\""
   ]
  },
  {
   "cell_type": "markdown",
   "metadata": {},
   "source": [
    "**Cấu hình huấn luyện mô hình**\n",
    "\n",
    "🔹 Tham số trong quá trình huấn luyện  \n",
    "\n",
    "✅ `epochs = epochs` → Số vòng huấn luyện  \n",
    "✅ `batch_size = batch` → Kích thước batch  \n",
    "✅ `validation_data = (X_val, Y_val)` → Dữ liệu kiểm định để theo dõi hiệu suất sau mỗi epoch  \n",
    "✅ `verbose = 0` → Không hiển thị log huấn luyện (có thể đặt `verbose = 1` để xem tiến trình)  \n",
    "✅ `shuffle = False` → Không xáo trộn dữ liệu (do chuỗi thời gian có tính thứ tự)  \n",
    "✅ `callbacks = callbacks_list` → Danh sách callback hỗ trợ huấn luyện  "
   ]
  },
  {
   "cell_type": "markdown",
   "metadata": {},
   "source": [
    "### Bước 6: Đảm bảo trạng thái không bị ảnh hưởng khi huấn luyện nhiều lần"
   ]
  },
  {
   "cell_type": "code",
   "execution_count": null,
   "metadata": {},
   "outputs": [
    {
     "data": {
      "text/plain": [
       "'\\nfor layer in model.layers:\\n    if isinstance(layer, SimpleRNN):\\n        layer.reset_states()\\n'"
      ]
     },
     "execution_count": 167,
     "metadata": {},
     "output_type": "execute_result"
    }
   ],
   "source": [
    "\"\"\"\n",
    "for layer in model.layers:\n",
    "    if isinstance(layer, SimpleRNN):\n",
    "        layer.reset_states()\n",
    "\"\"\""
   ]
  },
  {
   "cell_type": "markdown",
   "metadata": {},
   "source": [
    "### Bước 7: Trả về kết quả"
   ]
  },
  {
   "cell_type": "code",
   "execution_count": null,
   "metadata": {},
   "outputs": [
    {
     "data": {
      "text/plain": [
       "\"\\nreturn model, history.history['train_loss'], history.history['val_loss']\\n\""
      ]
     },
     "execution_count": 168,
     "metadata": {},
     "output_type": "execute_result"
    }
   ],
   "source": [
    "\"\"\"\n",
    "return model, history.history['train_loss'], history.history['val_loss']\n",
    "\"\"\""
   ]
  },
  {
   "cell_type": "markdown",
   "metadata": {},
   "source": [
    "## **Grid Search**: Tìm kiếm siêu tham số tối ưu "
   ]
  },
  {
   "cell_type": "code",
   "execution_count": 17,
   "metadata": {},
   "outputs": [],
   "source": [
    "param_grid = {\n",
    "    'timesteps': [30, 40, 50],\n",
    "    'hl': [[40, 35]],\n",
    "    'lr': [1e-3, 1e-4],\n",
    "    'batch_size': [32, 64],\n",
    "    'num_epochs': [200, 250]\n",
    "}"
   ]
  },
  {
   "cell_type": "code",
   "execution_count": 18,
   "metadata": {},
   "outputs": [],
   "source": [
    "from itertools import product # Tích đề-các\n",
    "import pandas as pd\n",
    "\n",
    "# Hàm Grid Search\n",
    "def grid_search_rnn(train, val, test, param_grid):\n",
    "# Khởi tạo danh sách lưu kết quả\n",
    "    results = []\n",
    "    best_score = float('inf') # Ban đầu được đặt là vô cùng lớn\n",
    "    best_params = None # Lưu bộ siêu tham số có hiệu suất tốt nhất\n",
    "# Tạo tất cả các tổ hợp tham số\n",
    "    all_combinations = list(product(*param_grid.values()))\n",
    "    param_names = list(param_grid.keys())\n",
    "# Lặp qua từng tổ hợp tham số\n",
    "    for combination in all_combinations:\n",
    "        params = dict(zip(param_names, combination))\n",
    "        timesteps = params['timesteps']\n",
    "        hl = params['hl']\n",
    "        lr = params['lr']\n",
    "        batch_size = params['batch_size']\n",
    "        num_epochs = params['num_epochs']\n",
    "\n",
    "    print(f'Training with param: {params}')\n",
    "# Huấn luyện với fit.model()\n",
    "    model, train_loss, val_loss = fit_model_2(train, val, timesteps, hl, lr,  batch_size, num_epochs)\n",
    "# Đánh giá mô hình với evaluate_model()\n",
    "    mse, rmse, mape, r2, _, _ = evaluate_model_2(model, test, timesteps)\n",
    "# Lưu kết quả\n",
    "    results.append({\n",
    "        'timesteps': timesteps,\n",
    "        'hl': hl,\n",
    "        'lr': lr,\n",
    "        'batch_size': batch_size,\n",
    "        'num_epochs': num_epochs,\n",
    "        'MSE': mse,\n",
    "        'RMSE': rmse,\n",
    "        'MAPE': mape,\n",
    "        'R²': r2\n",
    "    })\n",
    "# Cập nhật bộ siêu tham số tốt nhất nếu RMSE cải thiện\n",
    "    if rmse < best_score:\n",
    "        best_score = rmse\n",
    "        best_params = params\n",
    "\n",
    "# Trả về kết quả\n",
    "    results_df = pd.DataFrame(results)\n",
    "    return best_params, best_score, results_df"
   ]
  },
  {
   "cell_type": "markdown",
   "metadata": {},
   "source": [
    "## Hàm **Evaluate_model_2()**"
   ]
  },
  {
   "cell_type": "code",
   "execution_count": 24,
   "metadata": {},
   "outputs": [
    {
     "data": {
      "text/plain": [
       "'\\n# Định nghĩa hàm mean_absolute_percentage_error() (MAPE)\\ndef mean_absolute_percentage_error(y_true, y_pred):\\n    y_true, y_pred = np.array(y_true), np.array(y_pred)\\n    return np.mean(np.abs((y_true - y_pred) / y_true))*100\"\\n    '"
      ]
     },
     "execution_count": 24,
     "metadata": {},
     "output_type": "execute_result"
    }
   ],
   "source": [
    "\"\"\"\n",
    "# Định nghĩa hàm mean_absolute_percentage_error() (MAPE)\n",
    "def mean_absolute_percentage_error(y_true, y_pred):\n",
    "    y_true, y_pred = np.array(y_true), np.array(y_pred)\n",
    "    return np.mean(np.abs((y_true - y_pred) / y_true))*100\"\n",
    "    \"\"\""
   ]
  },
  {
   "cell_type": "code",
   "execution_count": 19,
   "metadata": {},
   "outputs": [],
   "source": [
    "def evaluate_model_2(model, test, timesteps):\n",
    "    np.random.seed(1)\n",
    "    tf.random.set_seed(2)\n",
    "    rn.seed(3)\n",
    "\n",
    "    X_test = []\n",
    "    Y_test = []\n",
    "\n",
    "    # Loop for testing data\n",
    "    for i in range(timesteps, test.shape[0]):\n",
    "        X_test.append(test[i-timesteps:i])\n",
    "        Y_test.append(test[i][0])\n",
    "    X_test, Y_test = np.array(X_test), np.array(Y_test)\n",
    "\n",
    "    # Evaluate model\n",
    "    Y_hat = model.predict(X_test)                         #chứa dự đoán của model dựa trên đầu vào x_test\n",
    "    mse = mean_squared_error(Y_test, Y_hat)\n",
    "    rmse = sqrt(mse)\n",
    "    mape = mean_absolute_percentage_error(Y_test, Y_hat)\n",
    "    r2 = r2_score(Y_test, Y_hat)\n",
    "    return mse, rmse, mape, r2, Y_test, Y_hat"
   ]
  },
  {
   "cell_type": "markdown",
   "metadata": {},
   "source": [
    "## Plot chart (vẽ biểu đồ)"
   ]
  },
  {
   "cell_type": "code",
   "execution_count": 20,
   "metadata": {},
   "outputs": [],
   "source": [
    "# Plotting the predictions\n",
    "def plot_data_2(Y_test,Y_hat):\n",
    "    plt.plot(Y_test, c = 'r')\n",
    "    plt.plot(Y_hat, c = 'y')\n",
    "    plt.xlabel('Day')\n",
    "    plt.ylabel('Price')\n",
    "    plt.title(\"Stock Price Prediction using Multivatiate-RNN\")\n",
    "    plt.legend(['Actual','Predicted'], loc = 'lower right')\n",
    "    plt.show()"
   ]
  },
  {
   "cell_type": "code",
   "execution_count": 21,
   "metadata": {},
   "outputs": [],
   "source": [
    "# Plotting the training errors: trực quan loss qua các epoch -> thấy qtr học mô hình, xem có overfitting ko\n",
    "def plot_error(train_loss, val_loss):\n",
    "    plt.plot(train_loss, c = 'r')\n",
    "    plt.plot(val_loss, c = 'b')\n",
    "    plt.ylabel('Loss')\n",
    "    plt.xlabel('Epochs')\n",
    "    plt.title('Train Loss and Validation Loss Curve')\n",
    "    plt.legend(['train', 'val'], loc = 'upper right')\n",
    "    plt.show()"
   ]
  },
  {
   "cell_type": "markdown",
   "metadata": {},
   "source": [
    "## **Model building**: Xây dựng mô hình"
   ]
  },
  {
   "cell_type": "markdown",
   "metadata": {},
   "source": [
    "### Bước 1: Trích xuất và trực quan hóa dữ liệu"
   ]
  },
  {
   "cell_type": "code",
   "execution_count": 22,
   "metadata": {},
   "outputs": [
    {
     "name": "stdout",
     "output_type": "stream",
     "text": [
      "(4267, 10)\n",
      "            close   CMA10   SMA10   SMA50      EMA12        RSI        CCI  \\\n",
      "time                                                                         \n",
      "2025-03-10  27.95  27.860  27.910  26.726  27.664525  66.666667  72.152412   \n",
      "2025-03-11  28.15  27.840  27.975  26.749  27.739213  68.965517  61.493516   \n",
      "2025-03-12  27.80  27.815  27.980  26.771  27.748565  63.440860  54.366686   \n",
      "2025-03-13  27.70  27.785  27.905  26.782  27.741094  63.440860  39.488661   \n",
      "2025-03-14  27.55  27.705  27.860  26.793  27.711695  47.887324  16.260163   \n",
      "\n",
      "                   %K         %D      MACD  \n",
      "time                                        \n",
      "2025-03-10  75.609756  78.723924  0.419877  \n",
      "2025-03-11  85.365854  80.790320  0.427503  \n",
      "2025-03-12  68.292683  76.422764  0.400685  \n",
      "2025-03-13  40.000000  64.552846  0.367130  \n",
      "2025-03-14  28.000000  45.430894  0.324692  \n"
     ]
    }
   ],
   "source": [
    "# Extracting the series\n",
    "series = df[['close', 'CMA10', 'SMA10', 'SMA50', 'EMA12', 'RSI', 'CCI', '%K', '%D', 'MACD']]\n",
    "# Drop rows with NaN values\n",
    "series = series.dropna()\n",
    "\n",
    "# Display the shape and the tail of the cleaned series\n",
    "print(series.shape)\n",
    "print(series.tail())"
   ]
  },
  {
   "cell_type": "code",
   "execution_count": 23,
   "metadata": {},
   "outputs": [
    {
     "data": {
      "text/html": [
       "<div>\n",
       "<style scoped>\n",
       "    .dataframe tbody tr th:only-of-type {\n",
       "        vertical-align: middle;\n",
       "    }\n",
       "\n",
       "    .dataframe tbody tr th {\n",
       "        vertical-align: top;\n",
       "    }\n",
       "\n",
       "    .dataframe thead th {\n",
       "        text-align: right;\n",
       "    }\n",
       "</style>\n",
       "<table border=\"1\" class=\"dataframe\">\n",
       "  <thead>\n",
       "    <tr style=\"text-align: right;\">\n",
       "      <th></th>\n",
       "      <th>close</th>\n",
       "      <th>CMA10</th>\n",
       "      <th>SMA10</th>\n",
       "      <th>SMA50</th>\n",
       "      <th>EMA12</th>\n",
       "      <th>RSI</th>\n",
       "      <th>CCI</th>\n",
       "      <th>%K</th>\n",
       "      <th>%D</th>\n",
       "      <th>MACD</th>\n",
       "    </tr>\n",
       "  </thead>\n",
       "  <tbody>\n",
       "    <tr>\n",
       "      <th>count</th>\n",
       "      <td>4267.000000</td>\n",
       "      <td>4267.000000</td>\n",
       "      <td>4267.00000</td>\n",
       "      <td>4267.000000</td>\n",
       "      <td>4267.000000</td>\n",
       "      <td>4267.000000</td>\n",
       "      <td>4267.000000</td>\n",
       "      <td>4267.000000</td>\n",
       "      <td>4267.000000</td>\n",
       "      <td>4267.000000</td>\n",
       "    </tr>\n",
       "    <tr>\n",
       "      <th>mean</th>\n",
       "      <td>10.025397</td>\n",
       "      <td>10.022310</td>\n",
       "      <td>9.99800</td>\n",
       "      <td>9.880565</td>\n",
       "      <td>9.992086</td>\n",
       "      <td>52.254060</td>\n",
       "      <td>12.008518</td>\n",
       "      <td>53.007353</td>\n",
       "      <td>53.000609</td>\n",
       "      <td>0.041366</td>\n",
       "    </tr>\n",
       "    <tr>\n",
       "      <th>std</th>\n",
       "      <td>10.126221</td>\n",
       "      <td>10.118056</td>\n",
       "      <td>10.10649</td>\n",
       "      <td>10.019039</td>\n",
       "      <td>10.097556</td>\n",
       "      <td>17.992688</td>\n",
       "      <td>112.438235</td>\n",
       "      <td>30.851704</td>\n",
       "      <td>29.031483</td>\n",
       "      <td>0.373255</td>\n",
       "    </tr>\n",
       "    <tr>\n",
       "      <th>min</th>\n",
       "      <td>0.680000</td>\n",
       "      <td>0.710000</td>\n",
       "      <td>0.71000</td>\n",
       "      <td>0.793800</td>\n",
       "      <td>0.726093</td>\n",
       "      <td>0.000000</td>\n",
       "      <td>-486.486486</td>\n",
       "      <td>0.000000</td>\n",
       "      <td>0.000000</td>\n",
       "      <td>-1.739242</td>\n",
       "    </tr>\n",
       "    <tr>\n",
       "      <th>25%</th>\n",
       "      <td>1.780000</td>\n",
       "      <td>1.778000</td>\n",
       "      <td>1.77800</td>\n",
       "      <td>1.760400</td>\n",
       "      <td>1.776499</td>\n",
       "      <td>38.724730</td>\n",
       "      <td>-76.041990</td>\n",
       "      <td>25.730277</td>\n",
       "      <td>26.681097</td>\n",
       "      <td>-0.045488</td>\n",
       "    </tr>\n",
       "    <tr>\n",
       "      <th>50%</th>\n",
       "      <td>5.680000</td>\n",
       "      <td>5.725000</td>\n",
       "      <td>5.70500</td>\n",
       "      <td>5.174200</td>\n",
       "      <td>5.719069</td>\n",
       "      <td>52.577320</td>\n",
       "      <td>21.806854</td>\n",
       "      <td>55.445545</td>\n",
       "      <td>55.238095</td>\n",
       "      <td>0.020672</td>\n",
       "    </tr>\n",
       "    <tr>\n",
       "      <th>75%</th>\n",
       "      <td>15.415000</td>\n",
       "      <td>15.376000</td>\n",
       "      <td>15.21950</td>\n",
       "      <td>15.065600</td>\n",
       "      <td>15.178271</td>\n",
       "      <td>66.146301</td>\n",
       "      <td>101.156626</td>\n",
       "      <td>80.702355</td>\n",
       "      <td>79.987975</td>\n",
       "      <td>0.119916</td>\n",
       "    </tr>\n",
       "    <tr>\n",
       "      <th>max</th>\n",
       "      <td>39.900000</td>\n",
       "      <td>39.285000</td>\n",
       "      <td>39.28500</td>\n",
       "      <td>37.489200</td>\n",
       "      <td>39.090578</td>\n",
       "      <td>100.000000</td>\n",
       "      <td>364.285714</td>\n",
       "      <td>100.000000</td>\n",
       "      <td>100.000000</td>\n",
       "      <td>2.247325</td>\n",
       "    </tr>\n",
       "  </tbody>\n",
       "</table>\n",
       "</div>"
      ],
      "text/plain": [
       "             close        CMA10       SMA10        SMA50        EMA12  \\\n",
       "count  4267.000000  4267.000000  4267.00000  4267.000000  4267.000000   \n",
       "mean     10.025397    10.022310     9.99800     9.880565     9.992086   \n",
       "std      10.126221    10.118056    10.10649    10.019039    10.097556   \n",
       "min       0.680000     0.710000     0.71000     0.793800     0.726093   \n",
       "25%       1.780000     1.778000     1.77800     1.760400     1.776499   \n",
       "50%       5.680000     5.725000     5.70500     5.174200     5.719069   \n",
       "75%      15.415000    15.376000    15.21950    15.065600    15.178271   \n",
       "max      39.900000    39.285000    39.28500    37.489200    39.090578   \n",
       "\n",
       "               RSI          CCI           %K           %D         MACD  \n",
       "count  4267.000000  4267.000000  4267.000000  4267.000000  4267.000000  \n",
       "mean     52.254060    12.008518    53.007353    53.000609     0.041366  \n",
       "std      17.992688   112.438235    30.851704    29.031483     0.373255  \n",
       "min       0.000000  -486.486486     0.000000     0.000000    -1.739242  \n",
       "25%      38.724730   -76.041990    25.730277    26.681097    -0.045488  \n",
       "50%      52.577320    21.806854    55.445545    55.238095     0.020672  \n",
       "75%      66.146301   101.156626    80.702355    79.987975     0.119916  \n",
       "max     100.000000   364.285714   100.000000   100.000000     2.247325  "
      ]
     },
     "execution_count": 23,
     "metadata": {},
     "output_type": "execute_result"
    }
   ],
   "source": [
    "series.describe()"
   ]
  },
  {
   "cell_type": "markdown",
   "metadata": {},
   "source": [
    "### Bước 2: Chia dữ liệu thành các tập Train, Validation, Test"
   ]
  },
  {
   "cell_type": "code",
   "execution_count": 24,
   "metadata": {},
   "outputs": [
    {
     "data": {
      "text/plain": [
       "(4267, 10)"
      ]
     },
     "execution_count": 24,
     "metadata": {},
     "output_type": "execute_result"
    }
   ],
   "source": [
    "series.shape"
   ]
  },
  {
   "cell_type": "code",
   "execution_count": 25,
   "metadata": {},
   "outputs": [
    {
     "name": "stdout",
     "output_type": "stream",
     "text": [
      "(2987, 10) (640, 10) (640, 10)\n"
     ]
    }
   ],
   "source": [
    "n = series.shape[0]\n",
    "val_size =  test_size = int(n * 0.15)\n",
    "train_size = n - val_size - test_size # Để tránh sai số làm mất dữ liệu\n",
    "\n",
    "# Chia tập dữ liệu theo thứ tự thời gian\n",
    "train_data = series.iloc[:train_size].values\n",
    "val_data = series.iloc[train_size:train_size + val_size].values\n",
    "test_data = series.iloc[(train_size + val_size):].values\n",
    "# Kiểm tra kích thước của từng tập\n",
    "print(train_data.shape, val_data.shape, test_data.shape)"
   ]
  },
  {
   "cell_type": "markdown",
   "metadata": {},
   "source": [
    "### Bước 3: Chuẩn hóa dữ liệu bằng MinMaxScaler"
   ]
  },
  {
   "cell_type": "code",
   "execution_count": 26,
   "metadata": {},
   "outputs": [
    {
     "name": "stdout",
     "output_type": "stream",
     "text": [
      "(2987, 10) (640, 10) (640, 10)\n"
     ]
    }
   ],
   "source": [
    "# Normalisation\n",
    "np.random.seed(1)\n",
    "tf.random.set_seed(2)\n",
    "rn.seed(3)\n",
    "\n",
    "# Chuẩn hóa\n",
    "sc = MinMaxScaler() # Tạo bộ chuẩn hóa MinMaxScaler\n",
    "train = sc.fit_transform(train_data)\n",
    "val = sc.transform(val_data)\n",
    "test = sc.transform(test_data)\n",
    "\n",
    "print(train.shape, val.shape, test.shape)"
   ]
  },
  {
   "cell_type": "markdown",
   "metadata": {},
   "source": [
    "### Bước 4: Tìm siêu tham số tốt nhất bằng Grid Search"
   ]
  },
  {
   "cell_type": "code",
   "execution_count": 27,
   "metadata": {},
   "outputs": [
    {
     "name": "stdout",
     "output_type": "stream",
     "text": [
      "Training with param: {'timesteps': 50, 'hl': [40, 35], 'lr': 0.0001, 'batch_size': 64, 'num_epochs': 250}\n"
     ]
    },
    {
     "name": "stderr",
     "output_type": "stream",
     "text": [
      "c:\\Users\\84368\\AppData\\Local\\Programs\\Python\\Python311\\Lib\\site-packages\\keras\\src\\layers\\rnn\\rnn.py:200: UserWarning: Do not pass an `input_shape`/`input_dim` argument to a layer. When using Sequential models, prefer using an `Input(shape)` object as the first layer in the model instead.\n",
      "  super().__init__(**kwargs)\n"
     ]
    },
    {
     "name": "stdout",
     "output_type": "stream",
     "text": [
      "\n",
      "Epoch 1: val_loss improved from inf to 1.55522, saving model to 10Var-hpg-rnn.h5\n"
     ]
    },
    {
     "name": "stderr",
     "output_type": "stream",
     "text": [
      "WARNING:absl:You are saving your model as an HDF5 file via `model.save()` or `keras.saving.save_model(model)`. This file format is considered legacy. We recommend using instead the native Keras format, e.g. `model.save('my_model.keras')` or `keras.saving.save_model(model, 'my_model.keras')`. \n"
     ]
    },
    {
     "name": "stdout",
     "output_type": "stream",
     "text": [
      "\n",
      "Epoch 2: val_loss improved from 1.55522 to 0.70718, saving model to 10Var-hpg-rnn.h5\n"
     ]
    },
    {
     "name": "stderr",
     "output_type": "stream",
     "text": [
      "WARNING:absl:You are saving your model as an HDF5 file via `model.save()` or `keras.saving.save_model(model)`. This file format is considered legacy. We recommend using instead the native Keras format, e.g. `model.save('my_model.keras')` or `keras.saving.save_model(model, 'my_model.keras')`. \n"
     ]
    },
    {
     "name": "stdout",
     "output_type": "stream",
     "text": [
      "\n",
      "Epoch 3: val_loss improved from 0.70718 to 0.29848, saving model to 10Var-hpg-rnn.h5\n"
     ]
    },
    {
     "name": "stderr",
     "output_type": "stream",
     "text": [
      "WARNING:absl:You are saving your model as an HDF5 file via `model.save()` or `keras.saving.save_model(model)`. This file format is considered legacy. We recommend using instead the native Keras format, e.g. `model.save('my_model.keras')` or `keras.saving.save_model(model, 'my_model.keras')`. \n"
     ]
    },
    {
     "name": "stdout",
     "output_type": "stream",
     "text": [
      "\n",
      "Epoch 4: val_loss improved from 0.29848 to 0.11666, saving model to 10Var-hpg-rnn.h5\n"
     ]
    },
    {
     "name": "stderr",
     "output_type": "stream",
     "text": [
      "WARNING:absl:You are saving your model as an HDF5 file via `model.save()` or `keras.saving.save_model(model)`. This file format is considered legacy. We recommend using instead the native Keras format, e.g. `model.save('my_model.keras')` or `keras.saving.save_model(model, 'my_model.keras')`. \n"
     ]
    },
    {
     "name": "stdout",
     "output_type": "stream",
     "text": [
      "\n",
      "Epoch 5: val_loss improved from 0.11666 to 0.05989, saving model to 10Var-hpg-rnn.h5\n"
     ]
    },
    {
     "name": "stderr",
     "output_type": "stream",
     "text": [
      "WARNING:absl:You are saving your model as an HDF5 file via `model.save()` or `keras.saving.save_model(model)`. This file format is considered legacy. We recommend using instead the native Keras format, e.g. `model.save('my_model.keras')` or `keras.saving.save_model(model, 'my_model.keras')`. \n"
     ]
    },
    {
     "name": "stdout",
     "output_type": "stream",
     "text": [
      "\n",
      "Epoch 6: val_loss improved from 0.05989 to 0.04296, saving model to 10Var-hpg-rnn.h5\n"
     ]
    },
    {
     "name": "stderr",
     "output_type": "stream",
     "text": [
      "WARNING:absl:You are saving your model as an HDF5 file via `model.save()` or `keras.saving.save_model(model)`. This file format is considered legacy. We recommend using instead the native Keras format, e.g. `model.save('my_model.keras')` or `keras.saving.save_model(model, 'my_model.keras')`. \n"
     ]
    },
    {
     "name": "stdout",
     "output_type": "stream",
     "text": [
      "\n",
      "Epoch 7: val_loss improved from 0.04296 to 0.03588, saving model to 10Var-hpg-rnn.h5\n"
     ]
    },
    {
     "name": "stderr",
     "output_type": "stream",
     "text": [
      "WARNING:absl:You are saving your model as an HDF5 file via `model.save()` or `keras.saving.save_model(model)`. This file format is considered legacy. We recommend using instead the native Keras format, e.g. `model.save('my_model.keras')` or `keras.saving.save_model(model, 'my_model.keras')`. \n"
     ]
    },
    {
     "name": "stdout",
     "output_type": "stream",
     "text": [
      "\n",
      "Epoch 8: val_loss improved from 0.03588 to 0.03239, saving model to 10Var-hpg-rnn.h5\n"
     ]
    },
    {
     "name": "stderr",
     "output_type": "stream",
     "text": [
      "WARNING:absl:You are saving your model as an HDF5 file via `model.save()` or `keras.saving.save_model(model)`. This file format is considered legacy. We recommend using instead the native Keras format, e.g. `model.save('my_model.keras')` or `keras.saving.save_model(model, 'my_model.keras')`. \n"
     ]
    },
    {
     "name": "stdout",
     "output_type": "stream",
     "text": [
      "\n",
      "Epoch 9: val_loss improved from 0.03239 to 0.03031, saving model to 10Var-hpg-rnn.h5\n"
     ]
    },
    {
     "name": "stderr",
     "output_type": "stream",
     "text": [
      "WARNING:absl:You are saving your model as an HDF5 file via `model.save()` or `keras.saving.save_model(model)`. This file format is considered legacy. We recommend using instead the native Keras format, e.g. `model.save('my_model.keras')` or `keras.saving.save_model(model, 'my_model.keras')`. \n"
     ]
    },
    {
     "name": "stdout",
     "output_type": "stream",
     "text": [
      "\n",
      "Epoch 10: val_loss improved from 0.03031 to 0.02851, saving model to 10Var-hpg-rnn.h5\n"
     ]
    },
    {
     "name": "stderr",
     "output_type": "stream",
     "text": [
      "WARNING:absl:You are saving your model as an HDF5 file via `model.save()` or `keras.saving.save_model(model)`. This file format is considered legacy. We recommend using instead the native Keras format, e.g. `model.save('my_model.keras')` or `keras.saving.save_model(model, 'my_model.keras')`. \n"
     ]
    },
    {
     "name": "stdout",
     "output_type": "stream",
     "text": [
      "\n",
      "Epoch 11: val_loss improved from 0.02851 to 0.02678, saving model to 10Var-hpg-rnn.h5\n"
     ]
    },
    {
     "name": "stderr",
     "output_type": "stream",
     "text": [
      "WARNING:absl:You are saving your model as an HDF5 file via `model.save()` or `keras.saving.save_model(model)`. This file format is considered legacy. We recommend using instead the native Keras format, e.g. `model.save('my_model.keras')` or `keras.saving.save_model(model, 'my_model.keras')`. \n"
     ]
    },
    {
     "name": "stdout",
     "output_type": "stream",
     "text": [
      "\n",
      "Epoch 12: val_loss improved from 0.02678 to 0.02519, saving model to 10Var-hpg-rnn.h5\n"
     ]
    },
    {
     "name": "stderr",
     "output_type": "stream",
     "text": [
      "WARNING:absl:You are saving your model as an HDF5 file via `model.save()` or `keras.saving.save_model(model)`. This file format is considered legacy. We recommend using instead the native Keras format, e.g. `model.save('my_model.keras')` or `keras.saving.save_model(model, 'my_model.keras')`. \n"
     ]
    },
    {
     "name": "stdout",
     "output_type": "stream",
     "text": [
      "\n",
      "Epoch 13: val_loss improved from 0.02519 to 0.02382, saving model to 10Var-hpg-rnn.h5\n"
     ]
    },
    {
     "name": "stderr",
     "output_type": "stream",
     "text": [
      "WARNING:absl:You are saving your model as an HDF5 file via `model.save()` or `keras.saving.save_model(model)`. This file format is considered legacy. We recommend using instead the native Keras format, e.g. `model.save('my_model.keras')` or `keras.saving.save_model(model, 'my_model.keras')`. \n"
     ]
    },
    {
     "name": "stdout",
     "output_type": "stream",
     "text": [
      "\n",
      "Epoch 14: val_loss improved from 0.02382 to 0.02276, saving model to 10Var-hpg-rnn.h5\n"
     ]
    },
    {
     "name": "stderr",
     "output_type": "stream",
     "text": [
      "WARNING:absl:You are saving your model as an HDF5 file via `model.save()` or `keras.saving.save_model(model)`. This file format is considered legacy. We recommend using instead the native Keras format, e.g. `model.save('my_model.keras')` or `keras.saving.save_model(model, 'my_model.keras')`. \n"
     ]
    },
    {
     "name": "stdout",
     "output_type": "stream",
     "text": [
      "\n",
      "Epoch 15: val_loss improved from 0.02276 to 0.02185, saving model to 10Var-hpg-rnn.h5\n"
     ]
    },
    {
     "name": "stderr",
     "output_type": "stream",
     "text": [
      "WARNING:absl:You are saving your model as an HDF5 file via `model.save()` or `keras.saving.save_model(model)`. This file format is considered legacy. We recommend using instead the native Keras format, e.g. `model.save('my_model.keras')` or `keras.saving.save_model(model, 'my_model.keras')`. \n"
     ]
    },
    {
     "name": "stdout",
     "output_type": "stream",
     "text": [
      "\n",
      "Epoch 16: val_loss improved from 0.02185 to 0.02094, saving model to 10Var-hpg-rnn.h5\n"
     ]
    },
    {
     "name": "stderr",
     "output_type": "stream",
     "text": [
      "WARNING:absl:You are saving your model as an HDF5 file via `model.save()` or `keras.saving.save_model(model)`. This file format is considered legacy. We recommend using instead the native Keras format, e.g. `model.save('my_model.keras')` or `keras.saving.save_model(model, 'my_model.keras')`. \n"
     ]
    },
    {
     "name": "stdout",
     "output_type": "stream",
     "text": [
      "\n",
      "Epoch 17: val_loss improved from 0.02094 to 0.01984, saving model to 10Var-hpg-rnn.h5\n"
     ]
    },
    {
     "name": "stderr",
     "output_type": "stream",
     "text": [
      "WARNING:absl:You are saving your model as an HDF5 file via `model.save()` or `keras.saving.save_model(model)`. This file format is considered legacy. We recommend using instead the native Keras format, e.g. `model.save('my_model.keras')` or `keras.saving.save_model(model, 'my_model.keras')`. \n"
     ]
    },
    {
     "name": "stdout",
     "output_type": "stream",
     "text": [
      "\n",
      "Epoch 18: val_loss improved from 0.01984 to 0.01898, saving model to 10Var-hpg-rnn.h5\n"
     ]
    },
    {
     "name": "stderr",
     "output_type": "stream",
     "text": [
      "WARNING:absl:You are saving your model as an HDF5 file via `model.save()` or `keras.saving.save_model(model)`. This file format is considered legacy. We recommend using instead the native Keras format, e.g. `model.save('my_model.keras')` or `keras.saving.save_model(model, 'my_model.keras')`. \n"
     ]
    },
    {
     "name": "stdout",
     "output_type": "stream",
     "text": [
      "\n",
      "Epoch 19: val_loss improved from 0.01898 to 0.01766, saving model to 10Var-hpg-rnn.h5\n"
     ]
    },
    {
     "name": "stderr",
     "output_type": "stream",
     "text": [
      "WARNING:absl:You are saving your model as an HDF5 file via `model.save()` or `keras.saving.save_model(model)`. This file format is considered legacy. We recommend using instead the native Keras format, e.g. `model.save('my_model.keras')` or `keras.saving.save_model(model, 'my_model.keras')`. \n"
     ]
    },
    {
     "name": "stdout",
     "output_type": "stream",
     "text": [
      "\n",
      "Epoch 20: val_loss improved from 0.01766 to 0.01706, saving model to 10Var-hpg-rnn.h5\n"
     ]
    },
    {
     "name": "stderr",
     "output_type": "stream",
     "text": [
      "WARNING:absl:You are saving your model as an HDF5 file via `model.save()` or `keras.saving.save_model(model)`. This file format is considered legacy. We recommend using instead the native Keras format, e.g. `model.save('my_model.keras')` or `keras.saving.save_model(model, 'my_model.keras')`. \n"
     ]
    },
    {
     "name": "stdout",
     "output_type": "stream",
     "text": [
      "\n",
      "Epoch 21: val_loss improved from 0.01706 to 0.01650, saving model to 10Var-hpg-rnn.h5\n"
     ]
    },
    {
     "name": "stderr",
     "output_type": "stream",
     "text": [
      "WARNING:absl:You are saving your model as an HDF5 file via `model.save()` or `keras.saving.save_model(model)`. This file format is considered legacy. We recommend using instead the native Keras format, e.g. `model.save('my_model.keras')` or `keras.saving.save_model(model, 'my_model.keras')`. \n"
     ]
    },
    {
     "name": "stdout",
     "output_type": "stream",
     "text": [
      "\n",
      "Epoch 22: val_loss did not improve from 0.01650\n",
      "\n",
      "Epoch 23: val_loss improved from 0.01650 to 0.01626, saving model to 10Var-hpg-rnn.h5\n"
     ]
    },
    {
     "name": "stderr",
     "output_type": "stream",
     "text": [
      "WARNING:absl:You are saving your model as an HDF5 file via `model.save()` or `keras.saving.save_model(model)`. This file format is considered legacy. We recommend using instead the native Keras format, e.g. `model.save('my_model.keras')` or `keras.saving.save_model(model, 'my_model.keras')`. \n"
     ]
    },
    {
     "name": "stdout",
     "output_type": "stream",
     "text": [
      "\n",
      "Epoch 24: val_loss improved from 0.01626 to 0.01578, saving model to 10Var-hpg-rnn.h5\n"
     ]
    },
    {
     "name": "stderr",
     "output_type": "stream",
     "text": [
      "WARNING:absl:You are saving your model as an HDF5 file via `model.save()` or `keras.saving.save_model(model)`. This file format is considered legacy. We recommend using instead the native Keras format, e.g. `model.save('my_model.keras')` or `keras.saving.save_model(model, 'my_model.keras')`. \n"
     ]
    },
    {
     "name": "stdout",
     "output_type": "stream",
     "text": [
      "\n",
      "Epoch 25: val_loss improved from 0.01578 to 0.01485, saving model to 10Var-hpg-rnn.h5\n"
     ]
    },
    {
     "name": "stderr",
     "output_type": "stream",
     "text": [
      "WARNING:absl:You are saving your model as an HDF5 file via `model.save()` or `keras.saving.save_model(model)`. This file format is considered legacy. We recommend using instead the native Keras format, e.g. `model.save('my_model.keras')` or `keras.saving.save_model(model, 'my_model.keras')`. \n"
     ]
    },
    {
     "name": "stdout",
     "output_type": "stream",
     "text": [
      "\n",
      "Epoch 26: val_loss improved from 0.01485 to 0.01442, saving model to 10Var-hpg-rnn.h5\n"
     ]
    },
    {
     "name": "stderr",
     "output_type": "stream",
     "text": [
      "WARNING:absl:You are saving your model as an HDF5 file via `model.save()` or `keras.saving.save_model(model)`. This file format is considered legacy. We recommend using instead the native Keras format, e.g. `model.save('my_model.keras')` or `keras.saving.save_model(model, 'my_model.keras')`. \n"
     ]
    },
    {
     "name": "stdout",
     "output_type": "stream",
     "text": [
      "\n",
      "Epoch 27: val_loss improved from 0.01442 to 0.01424, saving model to 10Var-hpg-rnn.h5\n"
     ]
    },
    {
     "name": "stderr",
     "output_type": "stream",
     "text": [
      "WARNING:absl:You are saving your model as an HDF5 file via `model.save()` or `keras.saving.save_model(model)`. This file format is considered legacy. We recommend using instead the native Keras format, e.g. `model.save('my_model.keras')` or `keras.saving.save_model(model, 'my_model.keras')`. \n"
     ]
    },
    {
     "name": "stdout",
     "output_type": "stream",
     "text": [
      "\n",
      "Epoch 28: val_loss improved from 0.01424 to 0.01421, saving model to 10Var-hpg-rnn.h5\n"
     ]
    },
    {
     "name": "stderr",
     "output_type": "stream",
     "text": [
      "WARNING:absl:You are saving your model as an HDF5 file via `model.save()` or `keras.saving.save_model(model)`. This file format is considered legacy. We recommend using instead the native Keras format, e.g. `model.save('my_model.keras')` or `keras.saving.save_model(model, 'my_model.keras')`. \n"
     ]
    },
    {
     "name": "stdout",
     "output_type": "stream",
     "text": [
      "\n",
      "Epoch 29: val_loss did not improve from 0.01421\n",
      "\n",
      "Epoch 30: val_loss did not improve from 0.01421\n",
      "\n",
      "Epoch 31: val_loss did not improve from 0.01421\n",
      "\n",
      "Epoch 32: val_loss did not improve from 0.01421\n",
      "\n",
      "Epoch 33: val_loss did not improve from 0.01421\n",
      "\n",
      "Epoch 34: val_loss did not improve from 0.01421\n",
      "\n",
      "Epoch 35: val_loss did not improve from 0.01421\n",
      "\n",
      "Epoch 36: val_loss did not improve from 0.01421\n",
      "\n",
      "Epoch 37: val_loss did not improve from 0.01421\n",
      "\n",
      "Epoch 38: val_loss did not improve from 0.01421\n",
      "\n",
      "Epoch 39: val_loss did not improve from 0.01421\n",
      "\n",
      "Epoch 40: val_loss did not improve from 0.01421\n",
      "\n",
      "Epoch 41: val_loss did not improve from 0.01421\n",
      "\n",
      "Epoch 42: val_loss did not improve from 0.01421\n",
      "\n",
      "Epoch 43: val_loss did not improve from 0.01421\n",
      "\n",
      "Epoch 44: val_loss did not improve from 0.01421\n",
      "\n",
      "Epoch 45: val_loss did not improve from 0.01421\n",
      "\n",
      "Epoch 46: val_loss did not improve from 0.01421\n",
      "\n",
      "Epoch 47: val_loss did not improve from 0.01421\n",
      "\n",
      "Epoch 48: val_loss did not improve from 0.01421\n",
      "\n",
      "Epoch 49: val_loss did not improve from 0.01421\n",
      "\n",
      "Epoch 50: val_loss did not improve from 0.01421\n",
      "\n",
      "Epoch 51: val_loss did not improve from 0.01421\n",
      "\n",
      "Epoch 52: val_loss did not improve from 0.01421\n",
      "\n",
      "Epoch 53: val_loss did not improve from 0.01421\n",
      "\n",
      "Epoch 54: val_loss did not improve from 0.01421\n",
      "\n",
      "Epoch 55: val_loss did not improve from 0.01421\n",
      "\n",
      "Epoch 56: val_loss did not improve from 0.01421\n",
      "\n",
      "Epoch 57: val_loss improved from 0.01421 to 0.01410, saving model to 10Var-hpg-rnn.h5\n"
     ]
    },
    {
     "name": "stderr",
     "output_type": "stream",
     "text": [
      "WARNING:absl:You are saving your model as an HDF5 file via `model.save()` or `keras.saving.save_model(model)`. This file format is considered legacy. We recommend using instead the native Keras format, e.g. `model.save('my_model.keras')` or `keras.saving.save_model(model, 'my_model.keras')`. \n"
     ]
    },
    {
     "name": "stdout",
     "output_type": "stream",
     "text": [
      "\n",
      "Epoch 58: val_loss improved from 0.01410 to 0.01404, saving model to 10Var-hpg-rnn.h5\n"
     ]
    },
    {
     "name": "stderr",
     "output_type": "stream",
     "text": [
      "WARNING:absl:You are saving your model as an HDF5 file via `model.save()` or `keras.saving.save_model(model)`. This file format is considered legacy. We recommend using instead the native Keras format, e.g. `model.save('my_model.keras')` or `keras.saving.save_model(model, 'my_model.keras')`. \n"
     ]
    },
    {
     "name": "stdout",
     "output_type": "stream",
     "text": [
      "\n",
      "Epoch 59: val_loss improved from 0.01404 to 0.01392, saving model to 10Var-hpg-rnn.h5\n"
     ]
    },
    {
     "name": "stderr",
     "output_type": "stream",
     "text": [
      "WARNING:absl:You are saving your model as an HDF5 file via `model.save()` or `keras.saving.save_model(model)`. This file format is considered legacy. We recommend using instead the native Keras format, e.g. `model.save('my_model.keras')` or `keras.saving.save_model(model, 'my_model.keras')`. \n"
     ]
    },
    {
     "name": "stdout",
     "output_type": "stream",
     "text": [
      "\n",
      "Epoch 60: val_loss improved from 0.01392 to 0.01374, saving model to 10Var-hpg-rnn.h5\n"
     ]
    },
    {
     "name": "stderr",
     "output_type": "stream",
     "text": [
      "WARNING:absl:You are saving your model as an HDF5 file via `model.save()` or `keras.saving.save_model(model)`. This file format is considered legacy. We recommend using instead the native Keras format, e.g. `model.save('my_model.keras')` or `keras.saving.save_model(model, 'my_model.keras')`. \n"
     ]
    },
    {
     "name": "stdout",
     "output_type": "stream",
     "text": [
      "\n",
      "Epoch 61: val_loss improved from 0.01374 to 0.01358, saving model to 10Var-hpg-rnn.h5\n"
     ]
    },
    {
     "name": "stderr",
     "output_type": "stream",
     "text": [
      "WARNING:absl:You are saving your model as an HDF5 file via `model.save()` or `keras.saving.save_model(model)`. This file format is considered legacy. We recommend using instead the native Keras format, e.g. `model.save('my_model.keras')` or `keras.saving.save_model(model, 'my_model.keras')`. \n"
     ]
    },
    {
     "name": "stdout",
     "output_type": "stream",
     "text": [
      "\n",
      "Epoch 62: val_loss improved from 0.01358 to 0.01348, saving model to 10Var-hpg-rnn.h5\n"
     ]
    },
    {
     "name": "stderr",
     "output_type": "stream",
     "text": [
      "WARNING:absl:You are saving your model as an HDF5 file via `model.save()` or `keras.saving.save_model(model)`. This file format is considered legacy. We recommend using instead the native Keras format, e.g. `model.save('my_model.keras')` or `keras.saving.save_model(model, 'my_model.keras')`. \n"
     ]
    },
    {
     "name": "stdout",
     "output_type": "stream",
     "text": [
      "\n",
      "Epoch 63: val_loss improved from 0.01348 to 0.01334, saving model to 10Var-hpg-rnn.h5\n"
     ]
    },
    {
     "name": "stderr",
     "output_type": "stream",
     "text": [
      "WARNING:absl:You are saving your model as an HDF5 file via `model.save()` or `keras.saving.save_model(model)`. This file format is considered legacy. We recommend using instead the native Keras format, e.g. `model.save('my_model.keras')` or `keras.saving.save_model(model, 'my_model.keras')`. \n"
     ]
    },
    {
     "name": "stdout",
     "output_type": "stream",
     "text": [
      "\n",
      "Epoch 64: val_loss improved from 0.01334 to 0.01326, saving model to 10Var-hpg-rnn.h5\n"
     ]
    },
    {
     "name": "stderr",
     "output_type": "stream",
     "text": [
      "WARNING:absl:You are saving your model as an HDF5 file via `model.save()` or `keras.saving.save_model(model)`. This file format is considered legacy. We recommend using instead the native Keras format, e.g. `model.save('my_model.keras')` or `keras.saving.save_model(model, 'my_model.keras')`. \n"
     ]
    },
    {
     "name": "stdout",
     "output_type": "stream",
     "text": [
      "\n",
      "Epoch 65: val_loss improved from 0.01326 to 0.01311, saving model to 10Var-hpg-rnn.h5\n"
     ]
    },
    {
     "name": "stderr",
     "output_type": "stream",
     "text": [
      "WARNING:absl:You are saving your model as an HDF5 file via `model.save()` or `keras.saving.save_model(model)`. This file format is considered legacy. We recommend using instead the native Keras format, e.g. `model.save('my_model.keras')` or `keras.saving.save_model(model, 'my_model.keras')`. \n"
     ]
    },
    {
     "name": "stdout",
     "output_type": "stream",
     "text": [
      "\n",
      "Epoch 66: val_loss improved from 0.01311 to 0.01304, saving model to 10Var-hpg-rnn.h5\n"
     ]
    },
    {
     "name": "stderr",
     "output_type": "stream",
     "text": [
      "WARNING:absl:You are saving your model as an HDF5 file via `model.save()` or `keras.saving.save_model(model)`. This file format is considered legacy. We recommend using instead the native Keras format, e.g. `model.save('my_model.keras')` or `keras.saving.save_model(model, 'my_model.keras')`. \n"
     ]
    },
    {
     "name": "stdout",
     "output_type": "stream",
     "text": [
      "\n",
      "Epoch 67: val_loss improved from 0.01304 to 0.01269, saving model to 10Var-hpg-rnn.h5\n"
     ]
    },
    {
     "name": "stderr",
     "output_type": "stream",
     "text": [
      "WARNING:absl:You are saving your model as an HDF5 file via `model.save()` or `keras.saving.save_model(model)`. This file format is considered legacy. We recommend using instead the native Keras format, e.g. `model.save('my_model.keras')` or `keras.saving.save_model(model, 'my_model.keras')`. \n"
     ]
    },
    {
     "name": "stdout",
     "output_type": "stream",
     "text": [
      "\n",
      "Epoch 68: val_loss improved from 0.01269 to 0.01266, saving model to 10Var-hpg-rnn.h5\n"
     ]
    },
    {
     "name": "stderr",
     "output_type": "stream",
     "text": [
      "WARNING:absl:You are saving your model as an HDF5 file via `model.save()` or `keras.saving.save_model(model)`. This file format is considered legacy. We recommend using instead the native Keras format, e.g. `model.save('my_model.keras')` or `keras.saving.save_model(model, 'my_model.keras')`. \n"
     ]
    },
    {
     "name": "stdout",
     "output_type": "stream",
     "text": [
      "\n",
      "Epoch 69: val_loss improved from 0.01266 to 0.01247, saving model to 10Var-hpg-rnn.h5\n"
     ]
    },
    {
     "name": "stderr",
     "output_type": "stream",
     "text": [
      "WARNING:absl:You are saving your model as an HDF5 file via `model.save()` or `keras.saving.save_model(model)`. This file format is considered legacy. We recommend using instead the native Keras format, e.g. `model.save('my_model.keras')` or `keras.saving.save_model(model, 'my_model.keras')`. \n"
     ]
    },
    {
     "name": "stdout",
     "output_type": "stream",
     "text": [
      "\n",
      "Epoch 70: val_loss improved from 0.01247 to 0.01244, saving model to 10Var-hpg-rnn.h5\n"
     ]
    },
    {
     "name": "stderr",
     "output_type": "stream",
     "text": [
      "WARNING:absl:You are saving your model as an HDF5 file via `model.save()` or `keras.saving.save_model(model)`. This file format is considered legacy. We recommend using instead the native Keras format, e.g. `model.save('my_model.keras')` or `keras.saving.save_model(model, 'my_model.keras')`. \n"
     ]
    },
    {
     "name": "stdout",
     "output_type": "stream",
     "text": [
      "\n",
      "Epoch 71: val_loss improved from 0.01244 to 0.01229, saving model to 10Var-hpg-rnn.h5\n"
     ]
    },
    {
     "name": "stderr",
     "output_type": "stream",
     "text": [
      "WARNING:absl:You are saving your model as an HDF5 file via `model.save()` or `keras.saving.save_model(model)`. This file format is considered legacy. We recommend using instead the native Keras format, e.g. `model.save('my_model.keras')` or `keras.saving.save_model(model, 'my_model.keras')`. \n"
     ]
    },
    {
     "name": "stdout",
     "output_type": "stream",
     "text": [
      "\n",
      "Epoch 72: val_loss improved from 0.01229 to 0.01220, saving model to 10Var-hpg-rnn.h5\n"
     ]
    },
    {
     "name": "stderr",
     "output_type": "stream",
     "text": [
      "WARNING:absl:You are saving your model as an HDF5 file via `model.save()` or `keras.saving.save_model(model)`. This file format is considered legacy. We recommend using instead the native Keras format, e.g. `model.save('my_model.keras')` or `keras.saving.save_model(model, 'my_model.keras')`. \n"
     ]
    },
    {
     "name": "stdout",
     "output_type": "stream",
     "text": [
      "\n",
      "Epoch 73: val_loss improved from 0.01220 to 0.01196, saving model to 10Var-hpg-rnn.h5\n"
     ]
    },
    {
     "name": "stderr",
     "output_type": "stream",
     "text": [
      "WARNING:absl:You are saving your model as an HDF5 file via `model.save()` or `keras.saving.save_model(model)`. This file format is considered legacy. We recommend using instead the native Keras format, e.g. `model.save('my_model.keras')` or `keras.saving.save_model(model, 'my_model.keras')`. \n"
     ]
    },
    {
     "name": "stdout",
     "output_type": "stream",
     "text": [
      "\n",
      "Epoch 74: val_loss improved from 0.01196 to 0.01184, saving model to 10Var-hpg-rnn.h5\n"
     ]
    },
    {
     "name": "stderr",
     "output_type": "stream",
     "text": [
      "WARNING:absl:You are saving your model as an HDF5 file via `model.save()` or `keras.saving.save_model(model)`. This file format is considered legacy. We recommend using instead the native Keras format, e.g. `model.save('my_model.keras')` or `keras.saving.save_model(model, 'my_model.keras')`. \n"
     ]
    },
    {
     "name": "stdout",
     "output_type": "stream",
     "text": [
      "\n",
      "Epoch 75: val_loss improved from 0.01184 to 0.01158, saving model to 10Var-hpg-rnn.h5\n"
     ]
    },
    {
     "name": "stderr",
     "output_type": "stream",
     "text": [
      "WARNING:absl:You are saving your model as an HDF5 file via `model.save()` or `keras.saving.save_model(model)`. This file format is considered legacy. We recommend using instead the native Keras format, e.g. `model.save('my_model.keras')` or `keras.saving.save_model(model, 'my_model.keras')`. \n"
     ]
    },
    {
     "name": "stdout",
     "output_type": "stream",
     "text": [
      "\n",
      "Epoch 76: val_loss improved from 0.01158 to 0.01137, saving model to 10Var-hpg-rnn.h5\n"
     ]
    },
    {
     "name": "stderr",
     "output_type": "stream",
     "text": [
      "WARNING:absl:You are saving your model as an HDF5 file via `model.save()` or `keras.saving.save_model(model)`. This file format is considered legacy. We recommend using instead the native Keras format, e.g. `model.save('my_model.keras')` or `keras.saving.save_model(model, 'my_model.keras')`. \n"
     ]
    },
    {
     "name": "stdout",
     "output_type": "stream",
     "text": [
      "\n",
      "Epoch 77: val_loss improved from 0.01137 to 0.01117, saving model to 10Var-hpg-rnn.h5\n"
     ]
    },
    {
     "name": "stderr",
     "output_type": "stream",
     "text": [
      "WARNING:absl:You are saving your model as an HDF5 file via `model.save()` or `keras.saving.save_model(model)`. This file format is considered legacy. We recommend using instead the native Keras format, e.g. `model.save('my_model.keras')` or `keras.saving.save_model(model, 'my_model.keras')`. \n"
     ]
    },
    {
     "name": "stdout",
     "output_type": "stream",
     "text": [
      "\n",
      "Epoch 78: val_loss improved from 0.01117 to 0.01104, saving model to 10Var-hpg-rnn.h5\n"
     ]
    },
    {
     "name": "stderr",
     "output_type": "stream",
     "text": [
      "WARNING:absl:You are saving your model as an HDF5 file via `model.save()` or `keras.saving.save_model(model)`. This file format is considered legacy. We recommend using instead the native Keras format, e.g. `model.save('my_model.keras')` or `keras.saving.save_model(model, 'my_model.keras')`. \n"
     ]
    },
    {
     "name": "stdout",
     "output_type": "stream",
     "text": [
      "\n",
      "Epoch 79: val_loss improved from 0.01104 to 0.01090, saving model to 10Var-hpg-rnn.h5\n"
     ]
    },
    {
     "name": "stderr",
     "output_type": "stream",
     "text": [
      "WARNING:absl:You are saving your model as an HDF5 file via `model.save()` or `keras.saving.save_model(model)`. This file format is considered legacy. We recommend using instead the native Keras format, e.g. `model.save('my_model.keras')` or `keras.saving.save_model(model, 'my_model.keras')`. \n"
     ]
    },
    {
     "name": "stdout",
     "output_type": "stream",
     "text": [
      "\n",
      "Epoch 80: val_loss did not improve from 0.01090\n",
      "\n",
      "Epoch 81: val_loss improved from 0.01090 to 0.01075, saving model to 10Var-hpg-rnn.h5\n"
     ]
    },
    {
     "name": "stderr",
     "output_type": "stream",
     "text": [
      "WARNING:absl:You are saving your model as an HDF5 file via `model.save()` or `keras.saving.save_model(model)`. This file format is considered legacy. We recommend using instead the native Keras format, e.g. `model.save('my_model.keras')` or `keras.saving.save_model(model, 'my_model.keras')`. \n"
     ]
    },
    {
     "name": "stdout",
     "output_type": "stream",
     "text": [
      "\n",
      "Epoch 82: val_loss improved from 0.01075 to 0.01072, saving model to 10Var-hpg-rnn.h5\n"
     ]
    },
    {
     "name": "stderr",
     "output_type": "stream",
     "text": [
      "WARNING:absl:You are saving your model as an HDF5 file via `model.save()` or `keras.saving.save_model(model)`. This file format is considered legacy. We recommend using instead the native Keras format, e.g. `model.save('my_model.keras')` or `keras.saving.save_model(model, 'my_model.keras')`. \n"
     ]
    },
    {
     "name": "stdout",
     "output_type": "stream",
     "text": [
      "\n",
      "Epoch 83: val_loss improved from 0.01072 to 0.01063, saving model to 10Var-hpg-rnn.h5\n"
     ]
    },
    {
     "name": "stderr",
     "output_type": "stream",
     "text": [
      "WARNING:absl:You are saving your model as an HDF5 file via `model.save()` or `keras.saving.save_model(model)`. This file format is considered legacy. We recommend using instead the native Keras format, e.g. `model.save('my_model.keras')` or `keras.saving.save_model(model, 'my_model.keras')`. \n"
     ]
    },
    {
     "name": "stdout",
     "output_type": "stream",
     "text": [
      "\n",
      "Epoch 84: val_loss improved from 0.01063 to 0.01051, saving model to 10Var-hpg-rnn.h5\n"
     ]
    },
    {
     "name": "stderr",
     "output_type": "stream",
     "text": [
      "WARNING:absl:You are saving your model as an HDF5 file via `model.save()` or `keras.saving.save_model(model)`. This file format is considered legacy. We recommend using instead the native Keras format, e.g. `model.save('my_model.keras')` or `keras.saving.save_model(model, 'my_model.keras')`. \n"
     ]
    },
    {
     "name": "stdout",
     "output_type": "stream",
     "text": [
      "\n",
      "Epoch 85: val_loss improved from 0.01051 to 0.01045, saving model to 10Var-hpg-rnn.h5\n"
     ]
    },
    {
     "name": "stderr",
     "output_type": "stream",
     "text": [
      "WARNING:absl:You are saving your model as an HDF5 file via `model.save()` or `keras.saving.save_model(model)`. This file format is considered legacy. We recommend using instead the native Keras format, e.g. `model.save('my_model.keras')` or `keras.saving.save_model(model, 'my_model.keras')`. \n"
     ]
    },
    {
     "name": "stdout",
     "output_type": "stream",
     "text": [
      "\n",
      "Epoch 86: val_loss improved from 0.01045 to 0.01024, saving model to 10Var-hpg-rnn.h5\n"
     ]
    },
    {
     "name": "stderr",
     "output_type": "stream",
     "text": [
      "WARNING:absl:You are saving your model as an HDF5 file via `model.save()` or `keras.saving.save_model(model)`. This file format is considered legacy. We recommend using instead the native Keras format, e.g. `model.save('my_model.keras')` or `keras.saving.save_model(model, 'my_model.keras')`. \n"
     ]
    },
    {
     "name": "stdout",
     "output_type": "stream",
     "text": [
      "\n",
      "Epoch 87: val_loss improved from 0.01024 to 0.01001, saving model to 10Var-hpg-rnn.h5\n"
     ]
    },
    {
     "name": "stderr",
     "output_type": "stream",
     "text": [
      "WARNING:absl:You are saving your model as an HDF5 file via `model.save()` or `keras.saving.save_model(model)`. This file format is considered legacy. We recommend using instead the native Keras format, e.g. `model.save('my_model.keras')` or `keras.saving.save_model(model, 'my_model.keras')`. \n"
     ]
    },
    {
     "name": "stdout",
     "output_type": "stream",
     "text": [
      "\n",
      "Epoch 88: val_loss improved from 0.01001 to 0.00969, saving model to 10Var-hpg-rnn.h5\n"
     ]
    },
    {
     "name": "stderr",
     "output_type": "stream",
     "text": [
      "WARNING:absl:You are saving your model as an HDF5 file via `model.save()` or `keras.saving.save_model(model)`. This file format is considered legacy. We recommend using instead the native Keras format, e.g. `model.save('my_model.keras')` or `keras.saving.save_model(model, 'my_model.keras')`. \n"
     ]
    },
    {
     "name": "stdout",
     "output_type": "stream",
     "text": [
      "\n",
      "Epoch 89: val_loss improved from 0.00969 to 0.00938, saving model to 10Var-hpg-rnn.h5\n"
     ]
    },
    {
     "name": "stderr",
     "output_type": "stream",
     "text": [
      "WARNING:absl:You are saving your model as an HDF5 file via `model.save()` or `keras.saving.save_model(model)`. This file format is considered legacy. We recommend using instead the native Keras format, e.g. `model.save('my_model.keras')` or `keras.saving.save_model(model, 'my_model.keras')`. \n"
     ]
    },
    {
     "name": "stdout",
     "output_type": "stream",
     "text": [
      "\n",
      "Epoch 90: val_loss improved from 0.00938 to 0.00919, saving model to 10Var-hpg-rnn.h5\n"
     ]
    },
    {
     "name": "stderr",
     "output_type": "stream",
     "text": [
      "WARNING:absl:You are saving your model as an HDF5 file via `model.save()` or `keras.saving.save_model(model)`. This file format is considered legacy. We recommend using instead the native Keras format, e.g. `model.save('my_model.keras')` or `keras.saving.save_model(model, 'my_model.keras')`. \n"
     ]
    },
    {
     "name": "stdout",
     "output_type": "stream",
     "text": [
      "\n",
      "Epoch 91: val_loss improved from 0.00919 to 0.00909, saving model to 10Var-hpg-rnn.h5\n"
     ]
    },
    {
     "name": "stderr",
     "output_type": "stream",
     "text": [
      "WARNING:absl:You are saving your model as an HDF5 file via `model.save()` or `keras.saving.save_model(model)`. This file format is considered legacy. We recommend using instead the native Keras format, e.g. `model.save('my_model.keras')` or `keras.saving.save_model(model, 'my_model.keras')`. \n"
     ]
    },
    {
     "name": "stdout",
     "output_type": "stream",
     "text": [
      "\n",
      "Epoch 92: val_loss did not improve from 0.00909\n",
      "\n",
      "Epoch 93: val_loss did not improve from 0.00909\n",
      "\n",
      "Epoch 94: val_loss did not improve from 0.00909\n",
      "\n",
      "Epoch 95: val_loss did not improve from 0.00909\n",
      "\n",
      "Epoch 96: val_loss did not improve from 0.00909\n",
      "\n",
      "Epoch 97: val_loss did not improve from 0.00909\n",
      "\n",
      "Epoch 98: val_loss did not improve from 0.00909\n",
      "\n",
      "Epoch 99: val_loss did not improve from 0.00909\n",
      "\n",
      "Epoch 100: val_loss did not improve from 0.00909\n",
      "\n",
      "Epoch 101: val_loss did not improve from 0.00909\n",
      "\n",
      "Epoch 102: val_loss did not improve from 0.00909\n",
      "\n",
      "Epoch 103: val_loss improved from 0.00909 to 0.00652, saving model to 10Var-hpg-rnn.h5\n"
     ]
    },
    {
     "name": "stderr",
     "output_type": "stream",
     "text": [
      "WARNING:absl:You are saving your model as an HDF5 file via `model.save()` or `keras.saving.save_model(model)`. This file format is considered legacy. We recommend using instead the native Keras format, e.g. `model.save('my_model.keras')` or `keras.saving.save_model(model, 'my_model.keras')`. \n"
     ]
    },
    {
     "name": "stdout",
     "output_type": "stream",
     "text": [
      "\n",
      "Epoch 104: val_loss improved from 0.00652 to 0.00647, saving model to 10Var-hpg-rnn.h5\n"
     ]
    },
    {
     "name": "stderr",
     "output_type": "stream",
     "text": [
      "WARNING:absl:You are saving your model as an HDF5 file via `model.save()` or `keras.saving.save_model(model)`. This file format is considered legacy. We recommend using instead the native Keras format, e.g. `model.save('my_model.keras')` or `keras.saving.save_model(model, 'my_model.keras')`. \n"
     ]
    },
    {
     "name": "stdout",
     "output_type": "stream",
     "text": [
      "\n",
      "Epoch 105: val_loss did not improve from 0.00647\n",
      "\n",
      "Epoch 106: val_loss did not improve from 0.00647\n",
      "\n",
      "Epoch 107: val_loss did not improve from 0.00647\n",
      "\n",
      "Epoch 108: val_loss did not improve from 0.00647\n",
      "\n",
      "Epoch 109: val_loss did not improve from 0.00647\n",
      "\n",
      "Epoch 110: val_loss did not improve from 0.00647\n",
      "\n",
      "Epoch 111: val_loss did not improve from 0.00647\n",
      "\n",
      "Epoch 112: val_loss did not improve from 0.00647\n",
      "\n",
      "Epoch 113: val_loss did not improve from 0.00647\n",
      "\n",
      "Epoch 114: val_loss did not improve from 0.00647\n",
      "\n",
      "Epoch 115: val_loss did not improve from 0.00647\n",
      "\n",
      "Epoch 116: val_loss did not improve from 0.00647\n",
      "\n",
      "Epoch 117: val_loss did not improve from 0.00647\n",
      "\n",
      "Epoch 118: val_loss did not improve from 0.00647\n",
      "\n",
      "Epoch 119: val_loss did not improve from 0.00647\n",
      "\n",
      "Epoch 120: val_loss did not improve from 0.00647\n",
      "\n",
      "Epoch 121: val_loss did not improve from 0.00647\n",
      "\n",
      "Epoch 122: val_loss did not improve from 0.00647\n",
      "\n",
      "Epoch 123: val_loss did not improve from 0.00647\n",
      "\n",
      "Epoch 124: val_loss did not improve from 0.00647\n",
      "\n",
      "Epoch 125: val_loss improved from 0.00647 to 0.00645, saving model to 10Var-hpg-rnn.h5\n"
     ]
    },
    {
     "name": "stderr",
     "output_type": "stream",
     "text": [
      "WARNING:absl:You are saving your model as an HDF5 file via `model.save()` or `keras.saving.save_model(model)`. This file format is considered legacy. We recommend using instead the native Keras format, e.g. `model.save('my_model.keras')` or `keras.saving.save_model(model, 'my_model.keras')`. \n"
     ]
    },
    {
     "name": "stdout",
     "output_type": "stream",
     "text": [
      "\n",
      "Epoch 126: val_loss improved from 0.00645 to 0.00572, saving model to 10Var-hpg-rnn.h5\n"
     ]
    },
    {
     "name": "stderr",
     "output_type": "stream",
     "text": [
      "WARNING:absl:You are saving your model as an HDF5 file via `model.save()` or `keras.saving.save_model(model)`. This file format is considered legacy. We recommend using instead the native Keras format, e.g. `model.save('my_model.keras')` or `keras.saving.save_model(model, 'my_model.keras')`. \n"
     ]
    },
    {
     "name": "stdout",
     "output_type": "stream",
     "text": [
      "\n",
      "Epoch 127: val_loss improved from 0.00572 to 0.00485, saving model to 10Var-hpg-rnn.h5\n"
     ]
    },
    {
     "name": "stderr",
     "output_type": "stream",
     "text": [
      "WARNING:absl:You are saving your model as an HDF5 file via `model.save()` or `keras.saving.save_model(model)`. This file format is considered legacy. We recommend using instead the native Keras format, e.g. `model.save('my_model.keras')` or `keras.saving.save_model(model, 'my_model.keras')`. \n"
     ]
    },
    {
     "name": "stdout",
     "output_type": "stream",
     "text": [
      "\n",
      "Epoch 128: val_loss improved from 0.00485 to 0.00448, saving model to 10Var-hpg-rnn.h5\n"
     ]
    },
    {
     "name": "stderr",
     "output_type": "stream",
     "text": [
      "WARNING:absl:You are saving your model as an HDF5 file via `model.save()` or `keras.saving.save_model(model)`. This file format is considered legacy. We recommend using instead the native Keras format, e.g. `model.save('my_model.keras')` or `keras.saving.save_model(model, 'my_model.keras')`. \n"
     ]
    },
    {
     "name": "stdout",
     "output_type": "stream",
     "text": [
      "\n",
      "Epoch 129: val_loss did not improve from 0.00448\n",
      "\n",
      "Epoch 130: val_loss did not improve from 0.00448\n",
      "\n",
      "Epoch 131: val_loss did not improve from 0.00448\n",
      "\n",
      "Epoch 132: val_loss did not improve from 0.00448\n",
      "\n",
      "Epoch 133: val_loss did not improve from 0.00448\n",
      "\n",
      "Epoch 134: val_loss did not improve from 0.00448\n",
      "\n",
      "Epoch 135: val_loss did not improve from 0.00448\n",
      "\n",
      "Epoch 136: val_loss did not improve from 0.00448\n",
      "\n",
      "Epoch 137: val_loss did not improve from 0.00448\n",
      "\n",
      "Epoch 138: val_loss did not improve from 0.00448\n",
      "\n",
      "Epoch 139: val_loss did not improve from 0.00448\n",
      "\n",
      "Epoch 140: val_loss did not improve from 0.00448\n",
      "\n",
      "Epoch 141: val_loss did not improve from 0.00448\n",
      "\n",
      "Epoch 142: val_loss did not improve from 0.00448\n",
      "\n",
      "Epoch 143: val_loss did not improve from 0.00448\n",
      "\n",
      "Epoch 144: val_loss did not improve from 0.00448\n",
      "\n",
      "Epoch 145: val_loss did not improve from 0.00448\n",
      "\n",
      "Epoch 146: val_loss improved from 0.00448 to 0.00445, saving model to 10Var-hpg-rnn.h5\n"
     ]
    },
    {
     "name": "stderr",
     "output_type": "stream",
     "text": [
      "WARNING:absl:You are saving your model as an HDF5 file via `model.save()` or `keras.saving.save_model(model)`. This file format is considered legacy. We recommend using instead the native Keras format, e.g. `model.save('my_model.keras')` or `keras.saving.save_model(model, 'my_model.keras')`. \n"
     ]
    },
    {
     "name": "stdout",
     "output_type": "stream",
     "text": [
      "\n",
      "Epoch 147: val_loss improved from 0.00445 to 0.00388, saving model to 10Var-hpg-rnn.h5\n"
     ]
    },
    {
     "name": "stderr",
     "output_type": "stream",
     "text": [
      "WARNING:absl:You are saving your model as an HDF5 file via `model.save()` or `keras.saving.save_model(model)`. This file format is considered legacy. We recommend using instead the native Keras format, e.g. `model.save('my_model.keras')` or `keras.saving.save_model(model, 'my_model.keras')`. \n"
     ]
    },
    {
     "name": "stdout",
     "output_type": "stream",
     "text": [
      "\n",
      "Epoch 148: val_loss improved from 0.00388 to 0.00371, saving model to 10Var-hpg-rnn.h5\n"
     ]
    },
    {
     "name": "stderr",
     "output_type": "stream",
     "text": [
      "WARNING:absl:You are saving your model as an HDF5 file via `model.save()` or `keras.saving.save_model(model)`. This file format is considered legacy. We recommend using instead the native Keras format, e.g. `model.save('my_model.keras')` or `keras.saving.save_model(model, 'my_model.keras')`. \n"
     ]
    },
    {
     "name": "stdout",
     "output_type": "stream",
     "text": [
      "\n",
      "Epoch 149: val_loss improved from 0.00371 to 0.00370, saving model to 10Var-hpg-rnn.h5\n"
     ]
    },
    {
     "name": "stderr",
     "output_type": "stream",
     "text": [
      "WARNING:absl:You are saving your model as an HDF5 file via `model.save()` or `keras.saving.save_model(model)`. This file format is considered legacy. We recommend using instead the native Keras format, e.g. `model.save('my_model.keras')` or `keras.saving.save_model(model, 'my_model.keras')`. \n"
     ]
    },
    {
     "name": "stdout",
     "output_type": "stream",
     "text": [
      "\n",
      "Epoch 150: val_loss did not improve from 0.00370\n",
      "\n",
      "Epoch 151: val_loss did not improve from 0.00370\n",
      "\n",
      "Epoch 152: val_loss did not improve from 0.00370\n",
      "\n",
      "Epoch 153: val_loss did not improve from 0.00370\n",
      "\n",
      "Epoch 154: val_loss did not improve from 0.00370\n",
      "\n",
      "Epoch 155: val_loss did not improve from 0.00370\n",
      "\n",
      "Epoch 156: val_loss did not improve from 0.00370\n",
      "\n",
      "Epoch 157: val_loss did not improve from 0.00370\n",
      "\n",
      "Epoch 158: val_loss improved from 0.00370 to 0.00361, saving model to 10Var-hpg-rnn.h5\n"
     ]
    },
    {
     "name": "stderr",
     "output_type": "stream",
     "text": [
      "WARNING:absl:You are saving your model as an HDF5 file via `model.save()` or `keras.saving.save_model(model)`. This file format is considered legacy. We recommend using instead the native Keras format, e.g. `model.save('my_model.keras')` or `keras.saving.save_model(model, 'my_model.keras')`. \n"
     ]
    },
    {
     "name": "stdout",
     "output_type": "stream",
     "text": [
      "\n",
      "Epoch 159: val_loss did not improve from 0.00361\n",
      "\n",
      "Epoch 160: val_loss did not improve from 0.00361\n",
      "\n",
      "Epoch 161: val_loss did not improve from 0.00361\n",
      "\n",
      "Epoch 162: val_loss did not improve from 0.00361\n",
      "\n",
      "Epoch 163: val_loss did not improve from 0.00361\n",
      "\n",
      "Epoch 164: val_loss did not improve from 0.00361\n",
      "\n",
      "Epoch 165: val_loss did not improve from 0.00361\n",
      "\n",
      "Epoch 166: val_loss improved from 0.00361 to 0.00335, saving model to 10Var-hpg-rnn.h5\n"
     ]
    },
    {
     "name": "stderr",
     "output_type": "stream",
     "text": [
      "WARNING:absl:You are saving your model as an HDF5 file via `model.save()` or `keras.saving.save_model(model)`. This file format is considered legacy. We recommend using instead the native Keras format, e.g. `model.save('my_model.keras')` or `keras.saving.save_model(model, 'my_model.keras')`. \n"
     ]
    },
    {
     "name": "stdout",
     "output_type": "stream",
     "text": [
      "\n",
      "Epoch 167: val_loss improved from 0.00335 to 0.00326, saving model to 10Var-hpg-rnn.h5\n"
     ]
    },
    {
     "name": "stderr",
     "output_type": "stream",
     "text": [
      "WARNING:absl:You are saving your model as an HDF5 file via `model.save()` or `keras.saving.save_model(model)`. This file format is considered legacy. We recommend using instead the native Keras format, e.g. `model.save('my_model.keras')` or `keras.saving.save_model(model, 'my_model.keras')`. \n"
     ]
    },
    {
     "name": "stdout",
     "output_type": "stream",
     "text": [
      "\n",
      "Epoch 168: val_loss improved from 0.00326 to 0.00323, saving model to 10Var-hpg-rnn.h5\n"
     ]
    },
    {
     "name": "stderr",
     "output_type": "stream",
     "text": [
      "WARNING:absl:You are saving your model as an HDF5 file via `model.save()` or `keras.saving.save_model(model)`. This file format is considered legacy. We recommend using instead the native Keras format, e.g. `model.save('my_model.keras')` or `keras.saving.save_model(model, 'my_model.keras')`. \n"
     ]
    },
    {
     "name": "stdout",
     "output_type": "stream",
     "text": [
      "\n",
      "Epoch 169: val_loss did not improve from 0.00323\n",
      "\n",
      "Epoch 170: val_loss did not improve from 0.00323\n",
      "\n",
      "Epoch 171: val_loss did not improve from 0.00323\n",
      "\n",
      "Epoch 172: val_loss did not improve from 0.00323\n",
      "\n",
      "Epoch 173: val_loss did not improve from 0.00323\n",
      "\n",
      "Epoch 174: val_loss did not improve from 0.00323\n",
      "\n",
      "Epoch 175: val_loss did not improve from 0.00323\n",
      "\n",
      "Epoch 176: val_loss did not improve from 0.00323\n",
      "\n",
      "Epoch 177: val_loss did not improve from 0.00323\n",
      "\n",
      "Epoch 178: val_loss did not improve from 0.00323\n",
      "\n",
      "Epoch 179: val_loss did not improve from 0.00323\n",
      "\n",
      "Epoch 180: val_loss did not improve from 0.00323\n",
      "\n",
      "Epoch 181: val_loss did not improve from 0.00323\n",
      "\n",
      "Epoch 182: val_loss did not improve from 0.00323\n",
      "\n",
      "Epoch 183: val_loss did not improve from 0.00323\n",
      "\n",
      "Epoch 184: val_loss did not improve from 0.00323\n",
      "\n",
      "Epoch 185: val_loss did not improve from 0.00323\n",
      "\n",
      "Epoch 186: val_loss did not improve from 0.00323\n",
      "\n",
      "Epoch 187: val_loss improved from 0.00323 to 0.00303, saving model to 10Var-hpg-rnn.h5\n"
     ]
    },
    {
     "name": "stderr",
     "output_type": "stream",
     "text": [
      "WARNING:absl:You are saving your model as an HDF5 file via `model.save()` or `keras.saving.save_model(model)`. This file format is considered legacy. We recommend using instead the native Keras format, e.g. `model.save('my_model.keras')` or `keras.saving.save_model(model, 'my_model.keras')`. \n"
     ]
    },
    {
     "name": "stdout",
     "output_type": "stream",
     "text": [
      "\n",
      "Epoch 188: val_loss improved from 0.00303 to 0.00302, saving model to 10Var-hpg-rnn.h5\n"
     ]
    },
    {
     "name": "stderr",
     "output_type": "stream",
     "text": [
      "WARNING:absl:You are saving your model as an HDF5 file via `model.save()` or `keras.saving.save_model(model)`. This file format is considered legacy. We recommend using instead the native Keras format, e.g. `model.save('my_model.keras')` or `keras.saving.save_model(model, 'my_model.keras')`. \n"
     ]
    },
    {
     "name": "stdout",
     "output_type": "stream",
     "text": [
      "\n",
      "Epoch 189: val_loss did not improve from 0.00302\n",
      "\n",
      "Epoch 190: val_loss did not improve from 0.00302\n",
      "\n",
      "Epoch 191: val_loss did not improve from 0.00302\n",
      "\n",
      "Epoch 192: val_loss did not improve from 0.00302\n",
      "\n",
      "Epoch 193: val_loss did not improve from 0.00302\n",
      "\n",
      "Epoch 194: val_loss did not improve from 0.00302\n",
      "\n",
      "Epoch 195: val_loss did not improve from 0.00302\n",
      "\n",
      "Epoch 196: val_loss did not improve from 0.00302\n",
      "\n",
      "Epoch 197: val_loss did not improve from 0.00302\n",
      "\n",
      "Epoch 198: val_loss did not improve from 0.00302\n",
      "\n",
      "Epoch 199: val_loss did not improve from 0.00302\n",
      "\n",
      "Epoch 200: val_loss did not improve from 0.00302\n",
      "\n",
      "Epoch 201: val_loss did not improve from 0.00302\n",
      "\n",
      "Epoch 202: val_loss did not improve from 0.00302\n",
      "\n",
      "Epoch 203: val_loss did not improve from 0.00302\n",
      "\n",
      "Epoch 204: val_loss did not improve from 0.00302\n",
      "\n",
      "Epoch 205: val_loss did not improve from 0.00302\n",
      "\n",
      "Epoch 206: val_loss did not improve from 0.00302\n",
      "\n",
      "Epoch 207: val_loss improved from 0.00302 to 0.00292, saving model to 10Var-hpg-rnn.h5\n"
     ]
    },
    {
     "name": "stderr",
     "output_type": "stream",
     "text": [
      "WARNING:absl:You are saving your model as an HDF5 file via `model.save()` or `keras.saving.save_model(model)`. This file format is considered legacy. We recommend using instead the native Keras format, e.g. `model.save('my_model.keras')` or `keras.saving.save_model(model, 'my_model.keras')`. \n"
     ]
    },
    {
     "name": "stdout",
     "output_type": "stream",
     "text": [
      "\n",
      "Epoch 208: val_loss did not improve from 0.00292\n",
      "\n",
      "Epoch 209: val_loss did not improve from 0.00292\n",
      "\n",
      "Epoch 210: val_loss did not improve from 0.00292\n",
      "\n",
      "Epoch 211: val_loss did not improve from 0.00292\n",
      "\n",
      "Epoch 212: val_loss did not improve from 0.00292\n",
      "\n",
      "Epoch 213: val_loss did not improve from 0.00292\n",
      "\n",
      "Epoch 214: val_loss did not improve from 0.00292\n",
      "\n",
      "Epoch 215: val_loss did not improve from 0.00292\n",
      "\n",
      "Epoch 216: val_loss did not improve from 0.00292\n",
      "\n",
      "Epoch 217: val_loss did not improve from 0.00292\n",
      "\n",
      "Epoch 218: val_loss did not improve from 0.00292\n",
      "\n",
      "Epoch 219: val_loss did not improve from 0.00292\n",
      "\n",
      "Epoch 220: val_loss did not improve from 0.00292\n",
      "\n",
      "Epoch 221: val_loss did not improve from 0.00292\n",
      "\n",
      "Epoch 222: val_loss did not improve from 0.00292\n",
      "\n",
      "Epoch 223: val_loss did not improve from 0.00292\n",
      "\n",
      "Epoch 224: val_loss did not improve from 0.00292\n",
      "\n",
      "Epoch 225: val_loss did not improve from 0.00292\n",
      "\n",
      "Epoch 226: val_loss improved from 0.00292 to 0.00281, saving model to 10Var-hpg-rnn.h5\n"
     ]
    },
    {
     "name": "stderr",
     "output_type": "stream",
     "text": [
      "WARNING:absl:You are saving your model as an HDF5 file via `model.save()` or `keras.saving.save_model(model)`. This file format is considered legacy. We recommend using instead the native Keras format, e.g. `model.save('my_model.keras')` or `keras.saving.save_model(model, 'my_model.keras')`. \n"
     ]
    },
    {
     "name": "stdout",
     "output_type": "stream",
     "text": [
      "\n",
      "Epoch 227: val_loss improved from 0.00281 to 0.00280, saving model to 10Var-hpg-rnn.h5\n"
     ]
    },
    {
     "name": "stderr",
     "output_type": "stream",
     "text": [
      "WARNING:absl:You are saving your model as an HDF5 file via `model.save()` or `keras.saving.save_model(model)`. This file format is considered legacy. We recommend using instead the native Keras format, e.g. `model.save('my_model.keras')` or `keras.saving.save_model(model, 'my_model.keras')`. \n"
     ]
    },
    {
     "name": "stdout",
     "output_type": "stream",
     "text": [
      "\n",
      "Epoch 228: val_loss did not improve from 0.00280\n",
      "\n",
      "Epoch 229: val_loss did not improve from 0.00280\n",
      "\n",
      "Epoch 230: val_loss did not improve from 0.00280\n",
      "\n",
      "Epoch 231: val_loss did not improve from 0.00280\n",
      "\n",
      "Epoch 232: val_loss did not improve from 0.00280\n",
      "\n",
      "Epoch 233: val_loss did not improve from 0.00280\n",
      "\n",
      "Epoch 234: val_loss did not improve from 0.00280\n",
      "\n",
      "Epoch 235: val_loss did not improve from 0.00280\n",
      "\n",
      "Epoch 236: val_loss did not improve from 0.00280\n",
      "\n",
      "Epoch 237: val_loss did not improve from 0.00280\n",
      "\n",
      "Epoch 238: val_loss improved from 0.00280 to 0.00279, saving model to 10Var-hpg-rnn.h5\n"
     ]
    },
    {
     "name": "stderr",
     "output_type": "stream",
     "text": [
      "WARNING:absl:You are saving your model as an HDF5 file via `model.save()` or `keras.saving.save_model(model)`. This file format is considered legacy. We recommend using instead the native Keras format, e.g. `model.save('my_model.keras')` or `keras.saving.save_model(model, 'my_model.keras')`. \n"
     ]
    },
    {
     "name": "stdout",
     "output_type": "stream",
     "text": [
      "\n",
      "Epoch 239: val_loss did not improve from 0.00279\n",
      "\n",
      "Epoch 240: val_loss did not improve from 0.00279\n",
      "\n",
      "Epoch 241: val_loss did not improve from 0.00279\n",
      "\n",
      "Epoch 242: val_loss did not improve from 0.00279\n",
      "\n",
      "Epoch 243: val_loss did not improve from 0.00279\n",
      "\n",
      "Epoch 244: val_loss did not improve from 0.00279\n",
      "\n",
      "Epoch 245: val_loss did not improve from 0.00279\n",
      "\n",
      "Epoch 246: val_loss did not improve from 0.00279\n",
      "\n",
      "Epoch 247: val_loss improved from 0.00279 to 0.00275, saving model to 10Var-hpg-rnn.h5\n"
     ]
    },
    {
     "name": "stderr",
     "output_type": "stream",
     "text": [
      "WARNING:absl:You are saving your model as an HDF5 file via `model.save()` or `keras.saving.save_model(model)`. This file format is considered legacy. We recommend using instead the native Keras format, e.g. `model.save('my_model.keras')` or `keras.saving.save_model(model, 'my_model.keras')`. \n"
     ]
    },
    {
     "name": "stdout",
     "output_type": "stream",
     "text": [
      "\n",
      "Epoch 248: val_loss did not improve from 0.00275\n",
      "\n",
      "Epoch 249: val_loss did not improve from 0.00275\n",
      "\n",
      "Epoch 250: val_loss did not improve from 0.00275\n",
      "\u001b[1m19/19\u001b[0m \u001b[32m━━━━━━━━━━━━━━━━━━━━\u001b[0m\u001b[37m\u001b[0m \u001b[1m1s\u001b[0m 24ms/step\n",
      "   timesteps        hl      lr  batch_size  num_epochs       MSE      RMSE  \\\n",
      "0         50  [40, 35]  0.0001          64         250  0.002294  0.047899   \n",
      "\n",
      "       MAPE        R²  \n",
      "0  0.023111  0.970069  \n",
      "Best parameters: {'timesteps': 50, 'hl': [40, 35], 'lr': 0.0001, 'batch_size': 64, 'num_epochs': 250}\n",
      "Best RMSE score: 0.0478987837599279\n"
     ]
    }
   ],
   "source": [
    "best_params, best_score, results_df = grid_search_rnn(train, val, test, param_grid)\n",
    "\n",
    "print(results_df)\n",
    "print(\"Best parameters:\", best_params)\n",
    "print(\"Best RMSE score:\", best_score)\n"
   ]
  },
  {
   "cell_type": "markdown",
   "metadata": {},
   "source": [
    "### Bước 5: Huấn luyện mô hình với bộ tham số tối ưu"
   ]
  },
  {
   "cell_type": "code",
   "execution_count": 28,
   "metadata": {},
   "outputs": [
    {
     "name": "stderr",
     "output_type": "stream",
     "text": [
      "c:\\Users\\84368\\AppData\\Local\\Programs\\Python\\Python311\\Lib\\site-packages\\keras\\src\\layers\\rnn\\rnn.py:200: UserWarning: Do not pass an `input_shape`/`input_dim` argument to a layer. When using Sequential models, prefer using an `Input(shape)` object as the first layer in the model instead.\n",
      "  super().__init__(**kwargs)\n"
     ]
    },
    {
     "name": "stdout",
     "output_type": "stream",
     "text": [
      "\n",
      "Epoch 1: val_loss did not improve from 0.00275\n",
      "\n",
      "Epoch 2: val_loss did not improve from 0.00275\n",
      "\n",
      "Epoch 3: val_loss did not improve from 0.00275\n",
      "\n",
      "Epoch 4: val_loss did not improve from 0.00275\n",
      "\n",
      "Epoch 5: val_loss did not improve from 0.00275\n",
      "\n",
      "Epoch 6: val_loss did not improve from 0.00275\n",
      "\n",
      "Epoch 7: val_loss did not improve from 0.00275\n",
      "\n",
      "Epoch 8: val_loss did not improve from 0.00275\n",
      "\n",
      "Epoch 9: val_loss did not improve from 0.00275\n",
      "\n",
      "Epoch 10: val_loss did not improve from 0.00275\n",
      "\n",
      "Epoch 11: val_loss did not improve from 0.00275\n",
      "\n",
      "Epoch 12: val_loss did not improve from 0.00275\n",
      "\n",
      "Epoch 13: val_loss did not improve from 0.00275\n",
      "\n",
      "Epoch 14: val_loss did not improve from 0.00275\n",
      "\n",
      "Epoch 15: val_loss did not improve from 0.00275\n",
      "\n",
      "Epoch 16: val_loss did not improve from 0.00275\n",
      "\n",
      "Epoch 17: val_loss did not improve from 0.00275\n",
      "\n",
      "Epoch 18: val_loss did not improve from 0.00275\n",
      "\n",
      "Epoch 19: val_loss did not improve from 0.00275\n",
      "\n",
      "Epoch 20: val_loss did not improve from 0.00275\n",
      "\n",
      "Epoch 21: val_loss did not improve from 0.00275\n",
      "\n",
      "Epoch 22: val_loss did not improve from 0.00275\n",
      "\n",
      "Epoch 23: val_loss did not improve from 0.00275\n",
      "\n",
      "Epoch 24: val_loss did not improve from 0.00275\n",
      "\n",
      "Epoch 25: val_loss did not improve from 0.00275\n",
      "\n",
      "Epoch 26: val_loss did not improve from 0.00275\n",
      "\n",
      "Epoch 27: val_loss did not improve from 0.00275\n",
      "\n",
      "Epoch 28: val_loss did not improve from 0.00275\n",
      "\n",
      "Epoch 29: val_loss did not improve from 0.00275\n",
      "\n",
      "Epoch 30: val_loss did not improve from 0.00275\n",
      "\n",
      "Epoch 31: val_loss did not improve from 0.00275\n",
      "\n",
      "Epoch 32: val_loss did not improve from 0.00275\n",
      "\n",
      "Epoch 33: val_loss did not improve from 0.00275\n",
      "\n",
      "Epoch 34: val_loss did not improve from 0.00275\n",
      "\n",
      "Epoch 35: val_loss did not improve from 0.00275\n",
      "\n",
      "Epoch 36: val_loss did not improve from 0.00275\n",
      "\n",
      "Epoch 37: val_loss did not improve from 0.00275\n",
      "\n",
      "Epoch 38: val_loss did not improve from 0.00275\n",
      "\n",
      "Epoch 39: val_loss did not improve from 0.00275\n",
      "\n",
      "Epoch 40: val_loss did not improve from 0.00275\n",
      "\n",
      "Epoch 41: val_loss did not improve from 0.00275\n",
      "\n",
      "Epoch 42: val_loss did not improve from 0.00275\n",
      "\n",
      "Epoch 43: val_loss did not improve from 0.00275\n",
      "\n",
      "Epoch 44: val_loss did not improve from 0.00275\n",
      "\n",
      "Epoch 45: val_loss did not improve from 0.00275\n",
      "\n",
      "Epoch 46: val_loss did not improve from 0.00275\n",
      "\n",
      "Epoch 47: val_loss did not improve from 0.00275\n",
      "\n",
      "Epoch 48: val_loss did not improve from 0.00275\n",
      "\n",
      "Epoch 49: val_loss did not improve from 0.00275\n",
      "\n",
      "Epoch 50: val_loss did not improve from 0.00275\n",
      "\n",
      "Epoch 51: val_loss did not improve from 0.00275\n",
      "\n",
      "Epoch 52: val_loss did not improve from 0.00275\n",
      "\n",
      "Epoch 53: val_loss did not improve from 0.00275\n",
      "\n",
      "Epoch 54: val_loss did not improve from 0.00275\n",
      "\n",
      "Epoch 55: val_loss did not improve from 0.00275\n",
      "\n",
      "Epoch 56: val_loss did not improve from 0.00275\n",
      "\n",
      "Epoch 57: val_loss did not improve from 0.00275\n",
      "\n",
      "Epoch 58: val_loss did not improve from 0.00275\n",
      "\n",
      "Epoch 59: val_loss did not improve from 0.00275\n",
      "\n",
      "Epoch 60: val_loss did not improve from 0.00275\n",
      "\n",
      "Epoch 61: val_loss did not improve from 0.00275\n",
      "\n",
      "Epoch 62: val_loss did not improve from 0.00275\n",
      "\n",
      "Epoch 63: val_loss did not improve from 0.00275\n",
      "\n",
      "Epoch 64: val_loss did not improve from 0.00275\n",
      "\n",
      "Epoch 65: val_loss did not improve from 0.00275\n",
      "\n",
      "Epoch 66: val_loss did not improve from 0.00275\n",
      "\n",
      "Epoch 67: val_loss did not improve from 0.00275\n",
      "\n",
      "Epoch 68: val_loss did not improve from 0.00275\n",
      "\n",
      "Epoch 69: val_loss did not improve from 0.00275\n",
      "\n",
      "Epoch 70: val_loss did not improve from 0.00275\n",
      "\n",
      "Epoch 71: val_loss did not improve from 0.00275\n",
      "\n",
      "Epoch 72: val_loss did not improve from 0.00275\n",
      "\n",
      "Epoch 73: val_loss did not improve from 0.00275\n",
      "\n",
      "Epoch 74: val_loss did not improve from 0.00275\n",
      "\n",
      "Epoch 75: val_loss did not improve from 0.00275\n",
      "\n",
      "Epoch 76: val_loss did not improve from 0.00275\n",
      "\n",
      "Epoch 77: val_loss did not improve from 0.00275\n",
      "\n",
      "Epoch 78: val_loss did not improve from 0.00275\n",
      "\n",
      "Epoch 79: val_loss did not improve from 0.00275\n",
      "\n",
      "Epoch 80: val_loss did not improve from 0.00275\n",
      "\n",
      "Epoch 81: val_loss did not improve from 0.00275\n",
      "\n",
      "Epoch 82: val_loss did not improve from 0.00275\n",
      "\n",
      "Epoch 83: val_loss did not improve from 0.00275\n",
      "\n",
      "Epoch 84: val_loss did not improve from 0.00275\n",
      "\n",
      "Epoch 85: val_loss did not improve from 0.00275\n",
      "\n",
      "Epoch 86: val_loss did not improve from 0.00275\n",
      "\n",
      "Epoch 87: val_loss did not improve from 0.00275\n",
      "\n",
      "Epoch 88: val_loss did not improve from 0.00275\n",
      "\n",
      "Epoch 89: val_loss did not improve from 0.00275\n",
      "\n",
      "Epoch 90: val_loss did not improve from 0.00275\n",
      "\n",
      "Epoch 91: val_loss did not improve from 0.00275\n",
      "\n",
      "Epoch 92: val_loss did not improve from 0.00275\n",
      "\n",
      "Epoch 93: val_loss did not improve from 0.00275\n",
      "\n",
      "Epoch 94: val_loss did not improve from 0.00275\n",
      "\n",
      "Epoch 95: val_loss did not improve from 0.00275\n",
      "\n",
      "Epoch 96: val_loss did not improve from 0.00275\n",
      "\n",
      "Epoch 97: val_loss did not improve from 0.00275\n",
      "\n",
      "Epoch 98: val_loss did not improve from 0.00275\n",
      "\n",
      "Epoch 99: val_loss did not improve from 0.00275\n",
      "\n",
      "Epoch 100: val_loss did not improve from 0.00275\n",
      "\n",
      "Epoch 101: val_loss did not improve from 0.00275\n",
      "\n",
      "Epoch 102: val_loss did not improve from 0.00275\n",
      "\n",
      "Epoch 103: val_loss did not improve from 0.00275\n",
      "\n",
      "Epoch 104: val_loss did not improve from 0.00275\n",
      "\n",
      "Epoch 105: val_loss did not improve from 0.00275\n",
      "\n",
      "Epoch 106: val_loss did not improve from 0.00275\n",
      "\n",
      "Epoch 107: val_loss did not improve from 0.00275\n",
      "\n",
      "Epoch 108: val_loss did not improve from 0.00275\n",
      "\n",
      "Epoch 109: val_loss did not improve from 0.00275\n",
      "\n",
      "Epoch 110: val_loss did not improve from 0.00275\n",
      "\n",
      "Epoch 111: val_loss did not improve from 0.00275\n",
      "\n",
      "Epoch 112: val_loss did not improve from 0.00275\n",
      "\n",
      "Epoch 113: val_loss did not improve from 0.00275\n",
      "\n",
      "Epoch 114: val_loss did not improve from 0.00275\n",
      "\n",
      "Epoch 115: val_loss did not improve from 0.00275\n",
      "\n",
      "Epoch 116: val_loss did not improve from 0.00275\n",
      "\n",
      "Epoch 117: val_loss did not improve from 0.00275\n",
      "\n",
      "Epoch 118: val_loss did not improve from 0.00275\n",
      "\n",
      "Epoch 119: val_loss did not improve from 0.00275\n",
      "\n",
      "Epoch 120: val_loss did not improve from 0.00275\n",
      "\n",
      "Epoch 121: val_loss did not improve from 0.00275\n",
      "\n",
      "Epoch 122: val_loss did not improve from 0.00275\n",
      "\n",
      "Epoch 123: val_loss did not improve from 0.00275\n",
      "\n",
      "Epoch 124: val_loss did not improve from 0.00275\n",
      "\n",
      "Epoch 125: val_loss did not improve from 0.00275\n",
      "\n",
      "Epoch 126: val_loss did not improve from 0.00275\n",
      "\n",
      "Epoch 127: val_loss did not improve from 0.00275\n",
      "\n",
      "Epoch 128: val_loss did not improve from 0.00275\n",
      "\n",
      "Epoch 129: val_loss did not improve from 0.00275\n",
      "\n",
      "Epoch 130: val_loss did not improve from 0.00275\n",
      "\n",
      "Epoch 131: val_loss did not improve from 0.00275\n",
      "\n",
      "Epoch 132: val_loss did not improve from 0.00275\n",
      "\n",
      "Epoch 133: val_loss did not improve from 0.00275\n",
      "\n",
      "Epoch 134: val_loss did not improve from 0.00275\n",
      "\n",
      "Epoch 135: val_loss did not improve from 0.00275\n",
      "\n",
      "Epoch 136: val_loss did not improve from 0.00275\n",
      "\n",
      "Epoch 137: val_loss did not improve from 0.00275\n",
      "\n",
      "Epoch 138: val_loss did not improve from 0.00275\n",
      "\n",
      "Epoch 139: val_loss did not improve from 0.00275\n",
      "\n",
      "Epoch 140: val_loss did not improve from 0.00275\n",
      "\n",
      "Epoch 141: val_loss did not improve from 0.00275\n",
      "\n",
      "Epoch 142: val_loss did not improve from 0.00275\n",
      "\n",
      "Epoch 143: val_loss did not improve from 0.00275\n",
      "\n",
      "Epoch 144: val_loss did not improve from 0.00275\n",
      "\n",
      "Epoch 145: val_loss did not improve from 0.00275\n",
      "\n",
      "Epoch 146: val_loss did not improve from 0.00275\n",
      "\n",
      "Epoch 147: val_loss did not improve from 0.00275\n",
      "\n",
      "Epoch 148: val_loss did not improve from 0.00275\n",
      "\n",
      "Epoch 149: val_loss did not improve from 0.00275\n",
      "\n",
      "Epoch 150: val_loss did not improve from 0.00275\n",
      "\n",
      "Epoch 151: val_loss did not improve from 0.00275\n",
      "\n",
      "Epoch 152: val_loss did not improve from 0.00275\n",
      "\n",
      "Epoch 153: val_loss did not improve from 0.00275\n",
      "\n",
      "Epoch 154: val_loss did not improve from 0.00275\n",
      "\n",
      "Epoch 155: val_loss did not improve from 0.00275\n",
      "\n",
      "Epoch 156: val_loss did not improve from 0.00275\n",
      "\n",
      "Epoch 157: val_loss did not improve from 0.00275\n",
      "\n",
      "Epoch 158: val_loss did not improve from 0.00275\n",
      "\n",
      "Epoch 159: val_loss did not improve from 0.00275\n",
      "\n",
      "Epoch 160: val_loss did not improve from 0.00275\n",
      "\n",
      "Epoch 161: val_loss did not improve from 0.00275\n",
      "\n",
      "Epoch 162: val_loss did not improve from 0.00275\n",
      "\n",
      "Epoch 163: val_loss did not improve from 0.00275\n",
      "\n",
      "Epoch 164: val_loss did not improve from 0.00275\n",
      "\n",
      "Epoch 165: val_loss did not improve from 0.00275\n",
      "\n",
      "Epoch 166: val_loss did not improve from 0.00275\n",
      "\n",
      "Epoch 167: val_loss did not improve from 0.00275\n",
      "\n",
      "Epoch 168: val_loss did not improve from 0.00275\n",
      "\n",
      "Epoch 169: val_loss did not improve from 0.00275\n",
      "\n",
      "Epoch 170: val_loss did not improve from 0.00275\n",
      "\n",
      "Epoch 171: val_loss did not improve from 0.00275\n",
      "\n",
      "Epoch 172: val_loss did not improve from 0.00275\n",
      "\n",
      "Epoch 173: val_loss did not improve from 0.00275\n",
      "\n",
      "Epoch 174: val_loss did not improve from 0.00275\n",
      "\n",
      "Epoch 175: val_loss did not improve from 0.00275\n",
      "\n",
      "Epoch 176: val_loss did not improve from 0.00275\n",
      "\n",
      "Epoch 177: val_loss did not improve from 0.00275\n",
      "\n",
      "Epoch 178: val_loss did not improve from 0.00275\n",
      "\n",
      "Epoch 179: val_loss did not improve from 0.00275\n",
      "\n",
      "Epoch 180: val_loss did not improve from 0.00275\n",
      "\n",
      "Epoch 181: val_loss did not improve from 0.00275\n",
      "\n",
      "Epoch 182: val_loss did not improve from 0.00275\n",
      "\n",
      "Epoch 183: val_loss did not improve from 0.00275\n",
      "\n",
      "Epoch 184: val_loss did not improve from 0.00275\n",
      "\n",
      "Epoch 185: val_loss did not improve from 0.00275\n",
      "\n",
      "Epoch 186: val_loss did not improve from 0.00275\n",
      "\n",
      "Epoch 187: val_loss did not improve from 0.00275\n",
      "\n",
      "Epoch 188: val_loss did not improve from 0.00275\n",
      "\n",
      "Epoch 189: val_loss did not improve from 0.00275\n",
      "\n",
      "Epoch 190: val_loss did not improve from 0.00275\n",
      "\n",
      "Epoch 191: val_loss did not improve from 0.00275\n",
      "\n",
      "Epoch 192: val_loss did not improve from 0.00275\n",
      "\n",
      "Epoch 193: val_loss did not improve from 0.00275\n",
      "\n",
      "Epoch 194: val_loss did not improve from 0.00275\n",
      "\n",
      "Epoch 195: val_loss did not improve from 0.00275\n",
      "\n",
      "Epoch 196: val_loss did not improve from 0.00275\n",
      "\n",
      "Epoch 197: val_loss did not improve from 0.00275\n",
      "\n",
      "Epoch 198: val_loss did not improve from 0.00275\n",
      "\n",
      "Epoch 199: val_loss did not improve from 0.00275\n",
      "\n",
      "Epoch 200: val_loss did not improve from 0.00275\n",
      "\n",
      "Epoch 201: val_loss did not improve from 0.00275\n",
      "\n",
      "Epoch 202: val_loss did not improve from 0.00275\n",
      "\n",
      "Epoch 203: val_loss did not improve from 0.00275\n",
      "\n",
      "Epoch 204: val_loss did not improve from 0.00275\n",
      "\n",
      "Epoch 205: val_loss did not improve from 0.00275\n",
      "\n",
      "Epoch 206: val_loss did not improve from 0.00275\n",
      "\n",
      "Epoch 207: val_loss did not improve from 0.00275\n",
      "\n",
      "Epoch 208: val_loss did not improve from 0.00275\n",
      "\n",
      "Epoch 209: val_loss did not improve from 0.00275\n",
      "\n",
      "Epoch 210: val_loss did not improve from 0.00275\n",
      "\n",
      "Epoch 211: val_loss did not improve from 0.00275\n",
      "\n",
      "Epoch 212: val_loss did not improve from 0.00275\n",
      "\n",
      "Epoch 213: val_loss did not improve from 0.00275\n",
      "\n",
      "Epoch 214: val_loss did not improve from 0.00275\n",
      "\n",
      "Epoch 215: val_loss did not improve from 0.00275\n",
      "\n",
      "Epoch 216: val_loss did not improve from 0.00275\n",
      "\n",
      "Epoch 217: val_loss did not improve from 0.00275\n",
      "\n",
      "Epoch 218: val_loss did not improve from 0.00275\n",
      "\n",
      "Epoch 219: val_loss did not improve from 0.00275\n",
      "\n",
      "Epoch 220: val_loss did not improve from 0.00275\n",
      "\n",
      "Epoch 221: val_loss did not improve from 0.00275\n",
      "\n",
      "Epoch 222: val_loss did not improve from 0.00275\n",
      "\n",
      "Epoch 223: val_loss did not improve from 0.00275\n",
      "\n",
      "Epoch 224: val_loss did not improve from 0.00275\n",
      "\n",
      "Epoch 225: val_loss did not improve from 0.00275\n",
      "\n",
      "Epoch 226: val_loss did not improve from 0.00275\n",
      "\n",
      "Epoch 227: val_loss did not improve from 0.00275\n",
      "\n",
      "Epoch 228: val_loss did not improve from 0.00275\n",
      "\n",
      "Epoch 229: val_loss did not improve from 0.00275\n",
      "\n",
      "Epoch 230: val_loss did not improve from 0.00275\n",
      "\n",
      "Epoch 231: val_loss did not improve from 0.00275\n",
      "\n",
      "Epoch 232: val_loss did not improve from 0.00275\n",
      "\n",
      "Epoch 233: val_loss did not improve from 0.00275\n",
      "\n",
      "Epoch 234: val_loss did not improve from 0.00275\n",
      "\n",
      "Epoch 235: val_loss did not improve from 0.00275\n",
      "\n",
      "Epoch 236: val_loss did not improve from 0.00275\n",
      "\n",
      "Epoch 237: val_loss did not improve from 0.00275\n",
      "\n",
      "Epoch 238: val_loss did not improve from 0.00275\n",
      "\n",
      "Epoch 239: val_loss did not improve from 0.00275\n",
      "\n",
      "Epoch 240: val_loss did not improve from 0.00275\n",
      "\n",
      "Epoch 241: val_loss did not improve from 0.00275\n",
      "\n",
      "Epoch 242: val_loss did not improve from 0.00275\n",
      "\n",
      "Epoch 243: val_loss did not improve from 0.00275\n",
      "\n",
      "Epoch 244: val_loss did not improve from 0.00275\n",
      "\n",
      "Epoch 245: val_loss did not improve from 0.00275\n",
      "\n",
      "Epoch 246: val_loss did not improve from 0.00275\n",
      "\n",
      "Epoch 247: val_loss did not improve from 0.00275\n",
      "\n",
      "Epoch 248: val_loss did not improve from 0.00275\n",
      "\n",
      "Epoch 249: val_loss did not improve from 0.00275\n",
      "\n",
      "Epoch 250: val_loss did not improve from 0.00275\n"
     ]
    }
   ],
   "source": [
    "timesteps = 50\n",
    "hl = [40, 35]\n",
    "lr = 0.0001\n",
    "batch_size = 64\n",
    "num_epochs = 250\n",
    "\n",
    "model, train_error, val_error = fit_model_2(train, val, timesteps, hl, lr, batch_size, num_epochs)"
   ]
  },
  {
   "cell_type": "markdown",
   "metadata": {},
   "source": [
    "### Bước 6: Đánh giá mô hình và trực quan hóa kết quả"
   ]
  },
  {
   "cell_type": "markdown",
   "metadata": {},
   "source": [
    "#### 6.1. Vẽ biểu đồ train_loss và val_loss"
   ]
  },
  {
   "cell_type": "code",
   "execution_count": 29,
   "metadata": {},
   "outputs": [
    {
     "data": {
      "image/png": "[encoded data removed]",
      "text/plain": [
       "<Figure size 640x480 with 1 Axes>"
      ]
     },
     "metadata": {},
     "output_type": "display_data"
    }
   ],
   "source": [
    "plot_error(train_error, val_error)"
   ]
  },
  {
   "cell_type": "markdown",
   "metadata": {},
   "source": [
    "#### 6.2. Đánh giá mô hình trên tập test"
   ]
  },
  {
   "cell_type": "code",
   "execution_count": 30,
   "metadata": {},
   "outputs": [
    {
     "name": "stdout",
     "output_type": "stream",
     "text": [
      "\u001b[1m19/19\u001b[0m \u001b[32m━━━━━━━━━━━━━━━━━━━━\u001b[0m\u001b[37m\u001b[0m \u001b[1m1s\u001b[0m 32ms/step\n"
     ]
    }
   ],
   "source": [
    "mse, rmse, mape, r2, true, predicted = evaluate_model_2(model, test, timesteps) #được tính dựa trên bộ dữ liệu đã chuẩn hoá\n"
   ]
  },
  {
   "cell_type": "code",
   "execution_count": 31,
   "metadata": {},
   "outputs": [
    {
     "name": "stdout",
     "output_type": "stream",
     "text": [
      "MSE = 0.0022942934856803325\n",
      "RMSE = 0.0478987837599279\n",
      "MAPE = 0.023111373786061293\n",
      "R-Squared Score = 0.970069153146253\n"
     ]
    }
   ],
   "source": [
    "print('MSE = {}'.format(mse))\n",
    "print('RMSE = {}'.format(rmse))\n",
    "print('MAPE = {}'.format(mape))\n",
    "print('R-Squared Score = {}'.format(r2))"
   ]
  },
  {
   "cell_type": "markdown",
   "metadata": {},
   "source": [
    "#### 6.3. Vẽ đồ thị dự đoán vs thực tế"
   ]
  },
  {
   "cell_type": "code",
   "execution_count": 32,
   "metadata": {},
   "outputs": [
    {
     "data": {
      "image/png": "[encoded data removed]",
      "text/plain": [
       "<Figure size 640x480 with 1 Axes>"
      ]
     },
     "metadata": {},
     "output_type": "display_data"
    }
   ],
   "source": [
    "plot_data_2(true, predicted)"
   ]
  },
  {
   "cell_type": "code",
   "execution_count": 33,
   "metadata": {},
   "outputs": [],
   "source": [
    "# Save a model\n",
    "model.save('10VAR-hpg-rnn.keras')"
   ]
  },
  {
   "cell_type": "code",
   "execution_count": null,
   "metadata": {},
   "outputs": [],
   "source": [
    "del model"
   ]
  },
  {
   "cell_type": "markdown",
   "metadata": {},
   "source": [
    "# Model 2: Multivariate-3-GRU"
   ]
  },
  {
   "cell_type": "markdown",
   "metadata": {},
   "source": [
    "## GRU"
   ]
  },
  {
   "cell_type": "markdown",
   "metadata": {},
   "source": [
    "### Import các thư viện cần thiết"
   ]
  },
  {
   "cell_type": "code",
   "execution_count": 33,
   "metadata": {},
   "outputs": [],
   "source": [
    "import os\n",
    "os.environ['PYTHONHASHSEED'] = '0' # đảm bảo rằng các giá trị băm của đối tượng bất biến (dict, set, chuỗi, tuple...) luôn giống nhau giữa các lần chạy\n",
    "\n",
    "import random as rn\n",
    "import numpy as np\n",
    "np.random.seed(1)\n",
    "rn.seed(3)\n",
    "import tensorflow as tf\n",
    "tf.random.set_seed(2)"
   ]
  },
  {
   "cell_type": "code",
   "execution_count": 34,
   "metadata": {},
   "outputs": [],
   "source": [
    "import sys\n",
    "import numpy as np\n",
    "import pandas as pd\n",
    "import matplotlib.pyplot as plt"
   ]
  },
  {
   "cell_type": "code",
   "execution_count": 35,
   "metadata": {},
   "outputs": [],
   "source": [
    "import tensorflow as tf\n",
    "from tensorflow.keras.models import Sequential, load_model\n",
    "from tensorflow.keras.layers import Dense, GRU, Dropout\n",
    "from tensorflow.keras import optimizers"
   ]
  },
  {
   "cell_type": "code",
   "execution_count": 36,
   "metadata": {},
   "outputs": [],
   "source": [
    "from tensorflow.keras.callbacks import EarlyStopping, ModelCheckpoint\n",
    "from sklearn.preprocessing import MinMaxScaler\n",
    "from sklearn.metrics import mean_squared_error, r2_score, mean_absolute_percentage_error\n",
    "from math import sqrt\n",
    "import datetime as dt\n",
    "import time\n",
    "\n",
    "from tensorflow.keras.optimizers import Adam"
   ]
  },
  {
   "cell_type": "code",
   "execution_count": 37,
   "metadata": {},
   "outputs": [],
   "source": [
    "plt.style.use('ggplot')"
   ]
  },
  {
   "cell_type": "markdown",
   "metadata": {},
   "source": [
    "### Hàm callback"
   ]
  },
  {
   "cell_type": "code",
   "execution_count": 38,
   "metadata": {},
   "outputs": [],
   "source": [
    "earlystop = EarlyStopping(monitor='val_loss', min_delta=0.0001, patience=80,  verbose=1, mode='min')  \n",
    "checkpoint = ModelCheckpoint(\n",
    "    filepath=\"10Var-hpg-gru.h5\",   # Tên file lưu mô hình\n",
    "    monitor=\"val_loss\",         # Theo dõi val_loss\n",
    "    save_best_only=True,        # Chỉ lưu khi tốt hơn mô hình trước đó\n",
    "    mode=\"min\",                 # Giảm min của val_loss là tốt nhất\n",
    "    verbose=1\n",
    ")\n",
    "callbacks_list = [earlystop, checkpoint] "
   ]
  },
  {
   "cell_type": "markdown",
   "metadata": {},
   "source": [
    "### Đọc dữ liệu từ file csv"
   ]
  },
  {
   "cell_type": "code",
   "execution_count": null,
   "metadata": {},
   "outputs": [],
   "source": [
    "url = r\"hpg_history.csv\"\n",
    "df = pd.read_csv(url, parse_dates= True, index_col= 0)"
   ]
  },
  {
   "cell_type": "code",
   "execution_count": 40,
   "metadata": {},
   "outputs": [
    {
     "data": {
      "text/html": [
       "<div>\n",
       "<style scoped>\n",
       "    .dataframe tbody tr th:only-of-type {\n",
       "        vertical-align: middle;\n",
       "    }\n",
       "\n",
       "    .dataframe tbody tr th {\n",
       "        vertical-align: top;\n",
       "    }\n",
       "\n",
       "    .dataframe thead th {\n",
       "        text-align: right;\n",
       "    }\n",
       "</style>\n",
       "<table border=\"1\" class=\"dataframe\">\n",
       "  <thead>\n",
       "    <tr style=\"text-align: right;\">\n",
       "      <th></th>\n",
       "      <th>open</th>\n",
       "      <th>high</th>\n",
       "      <th>low</th>\n",
       "      <th>close</th>\n",
       "      <th>volume</th>\n",
       "    </tr>\n",
       "    <tr>\n",
       "      <th>time</th>\n",
       "      <th></th>\n",
       "      <th></th>\n",
       "      <th></th>\n",
       "      <th></th>\n",
       "      <th></th>\n",
       "    </tr>\n",
       "  </thead>\n",
       "  <tbody>\n",
       "    <tr>\n",
       "      <th>2007-11-16</th>\n",
       "      <td>2.29</td>\n",
       "      <td>2.29</td>\n",
       "      <td>2.29</td>\n",
       "      <td>2.29</td>\n",
       "      <td>248510</td>\n",
       "    </tr>\n",
       "    <tr>\n",
       "      <th>2007-11-19</th>\n",
       "      <td>2.17</td>\n",
       "      <td>2.17</td>\n",
       "      <td>2.17</td>\n",
       "      <td>2.17</td>\n",
       "      <td>120480</td>\n",
       "    </tr>\n",
       "    <tr>\n",
       "      <th>2007-11-20</th>\n",
       "      <td>2.08</td>\n",
       "      <td>2.08</td>\n",
       "      <td>2.08</td>\n",
       "      <td>2.08</td>\n",
       "      <td>58710</td>\n",
       "    </tr>\n",
       "    <tr>\n",
       "      <th>2007-11-21</th>\n",
       "      <td>1.99</td>\n",
       "      <td>2.16</td>\n",
       "      <td>1.99</td>\n",
       "      <td>2.16</td>\n",
       "      <td>728080</td>\n",
       "    </tr>\n",
       "    <tr>\n",
       "      <th>2007-11-22</th>\n",
       "      <td>2.16</td>\n",
       "      <td>2.16</td>\n",
       "      <td>2.08</td>\n",
       "      <td>2.16</td>\n",
       "      <td>266040</td>\n",
       "    </tr>\n",
       "  </tbody>\n",
       "</table>\n",
       "</div>"
      ],
      "text/plain": [
       "            open  high   low  close  volume\n",
       "time                                       \n",
       "2007-11-16  2.29  2.29  2.29   2.29  248510\n",
       "2007-11-19  2.17  2.17  2.17   2.17  120480\n",
       "2007-11-20  2.08  2.08  2.08   2.08   58710\n",
       "2007-11-21  1.99  2.16  1.99   2.16  728080\n",
       "2007-11-22  2.16  2.16  2.08   2.16  266040"
      ]
     },
     "execution_count": 40,
     "metadata": {},
     "output_type": "execute_result"
    }
   ],
   "source": [
    "df.head()"
   ]
  },
  {
   "cell_type": "code",
   "execution_count": 41,
   "metadata": {},
   "outputs": [
    {
     "data": {
      "text/plain": [
       "open      0\n",
       "high      0\n",
       "low       0\n",
       "close     0\n",
       "volume    0\n",
       "dtype: int64"
      ]
     },
     "execution_count": 41,
     "metadata": {},
     "output_type": "execute_result"
    }
   ],
   "source": [
    "df.isnull().sum()"
   ]
  },
  {
   "cell_type": "markdown",
   "metadata": {},
   "source": [
    "### Tiền xử lí dữ liệu"
   ]
  },
  {
   "cell_type": "code",
   "execution_count": 42,
   "metadata": {},
   "outputs": [],
   "source": [
    "# Xóa các dòng có giá trị Volume bằng 0\n",
    "df.drop(df[df['volume']==0].index, inplace=True)"
   ]
  },
  {
   "cell_type": "code",
   "execution_count": 43,
   "metadata": {},
   "outputs": [
    {
     "data": {
      "text/plain": [
       "open      0.999667\n",
       "high      0.999857\n",
       "low       0.999838\n",
       "close     1.000000\n",
       "volume    0.799299\n",
       "Name: close, dtype: float64"
      ]
     },
     "execution_count": 43,
     "metadata": {},
     "output_type": "execute_result"
    }
   ],
   "source": [
    "# Ma trận tương quan (ở đây là Pearson tương quan tuyến tính)\n",
    "df.corr()['close']"
   ]
  },
  {
   "cell_type": "code",
   "execution_count": 44,
   "metadata": {},
   "outputs": [
    {
     "name": "stdout",
     "output_type": "stream",
     "text": [
      "count    4.320000e+03\n",
      "mean     7.877410e+06\n",
      "std      1.133795e+07\n",
      "min      5.000000e+01\n",
      "25%      4.646300e+05\n",
      "50%      2.422785e+06\n",
      "75%      1.233620e+07\n",
      "max      9.967998e+07\n",
      "Name: volume, dtype: float64\n"
     ]
    }
   ],
   "source": [
    "print(df.describe().volume) "
   ]
  },
  {
   "cell_type": "code",
   "execution_count": 45,
   "metadata": {},
   "outputs": [
    {
     "data": {
      "text/plain": [
       "<Axes: >"
      ]
     },
     "execution_count": 45,
     "metadata": {},
     "output_type": "execute_result"
    },
    {
     "data": {
      "image/png": "[encoded data removed]",
      "text/plain": [
       "<Figure size 640x480 with 1 Axes>"
      ]
     },
     "metadata": {},
     "output_type": "display_data"
    }
   ],
   "source": [
    "df['volume'].hist(bins= 10)"
   ]
  },
  {
   "cell_type": "code",
   "execution_count": 46,
   "metadata": {},
   "outputs": [],
   "source": [
    "# Bổ sung các chỉ báo kĩ thuật\n",
    "\n",
    "# Tính CMA10\n",
    "df['CMA10'] = df['close'].rolling(window=10, center=True).mean()\n",
    "# Tính SMA10\n",
    "df['SMA10'] = df['close'].rolling(window=10).mean()\n",
    "# Tính SMA50\n",
    "df['SMA50'] = df['close'].rolling(window=50).mean()\n",
    "# Tính EMA12 và EMA26\n",
    "df['EMA12'] = df['close'].ewm(span=12, adjust=False).mean()\n",
    "df['EMA26'] = df['close'].ewm(span=26, adjust=False).mean()\n",
    "# Tính MACD\n",
    "df['MACD'] = df['EMA12'] - df['EMA26']\n",
    "#Tính RSI\n",
    "# Tính giá tăng/giảm\n",
    "delta = df['close'].diff()\n",
    "\n",
    "# Tính giá tăng\n",
    "gain = delta.where(delta > 0, 0)\n",
    "\n",
    "# Tính giá giảm\n",
    "loss = -delta.where(delta < 0, 0)\n",
    "\n",
    "# Tính trung bình động\n",
    "avg_gain = gain.rolling(window=14).mean()\n",
    "avg_loss = loss.rolling(window=14).mean()\n",
    "\n",
    "# Tính RS và RSI\n",
    "rs = avg_gain / avg_loss\n",
    "df['RSI'] = 100 - (100 / (1 + rs))\n",
    "\n",
    "#Tính CCI\n",
    "# Tính giá trung bình\n",
    "typical_price = (df['high'] + df['low'] + df['close']) / 3\n",
    "\n",
    "# Tính SMA của giá trung bình\n",
    "sma_typical_price = typical_price.rolling(window=20).mean()\n",
    "\n",
    "# Tính độ lệch chuẩn\n",
    "mean_deviation = typical_price.rolling(window=20).apply(lambda x: np.mean(np.abs(x - x.mean())))\n",
    "\n",
    "# Tính CCI\n",
    "df['CCI'] = (typical_price - sma_typical_price) / (0.015 * mean_deviation)\n",
    "# Tính %K và %D\n",
    "low_min = df['low'].rolling(window=14).min()\n",
    "high_max = df['high'].rolling(window=14).max()\n",
    "\n",
    "df['%K'] = 100 * (df['close'] - low_min) / (high_max - low_min)\n",
    "df['%D'] = df['%K'].rolling(window=3).mean()"
   ]
  },
  {
   "cell_type": "code",
   "execution_count": 47,
   "metadata": {},
   "outputs": [
    {
     "name": "stdout",
     "output_type": "stream",
     "text": [
      "            open  high   low  close  volume  CMA10  SMA10  SMA50     EMA12  \\\n",
      "time                                                                         \n",
      "2007-11-16  2.29  2.29  2.29   2.29  248510    NaN    NaN    NaN  2.290000   \n",
      "2007-11-19  2.17  2.17  2.17   2.17  120480    NaN    NaN    NaN  2.271538   \n",
      "2007-11-20  2.08  2.08  2.08   2.08   58710    NaN    NaN    NaN  2.242071   \n",
      "2007-11-21  1.99  2.16  1.99   2.16  728080    NaN    NaN    NaN  2.229445   \n",
      "2007-11-22  2.16  2.16  2.08   2.16  266040    NaN    NaN    NaN  2.218761   \n",
      "\n",
      "               EMA26      MACD  RSI  CCI  %K  %D  \n",
      "time                                              \n",
      "2007-11-16  2.290000  0.000000  NaN  NaN NaN NaN  \n",
      "2007-11-19  2.281111 -0.009573  NaN  NaN NaN NaN  \n",
      "2007-11-20  2.266214 -0.024143  NaN  NaN NaN NaN  \n",
      "2007-11-21  2.258346 -0.028902  NaN  NaN NaN NaN  \n",
      "2007-11-22  2.251061 -0.032300  NaN  NaN NaN NaN  \n"
     ]
    },
    {
     "data": {
      "text/plain": [
       "(4320, 15)"
      ]
     },
     "execution_count": 47,
     "metadata": {},
     "output_type": "execute_result"
    }
   ],
   "source": [
    "print(df.head())\n",
    "df.shape"
   ]
  },
  {
   "cell_type": "markdown",
   "metadata": {},
   "source": [
    "## Train model / Hàm **fit_model_3()**"
   ]
  },
  {
   "cell_type": "code",
   "execution_count": 48,
   "metadata": {},
   "outputs": [],
   "source": [
    "def fit_model_3(train, val, timesteps, hl, lr, batch, epochs):\n",
    "    \"\"\"\n",
    "    np.random.seed(1)\n",
    "    tf.random.set_seed(2)\n",
    "    rn.seed(3)\n",
    "    \"\"\"\n",
    "    X_train = []\n",
    "    Y_train = []\n",
    "    X_val = []\n",
    "    Y_val = []\n",
    "\n",
    "    for i in range(timesteps, train.shape[0]):\n",
    "        X_train.append(train[i-timesteps:i])\n",
    "        Y_train.append(train[i][0])\n",
    "    X_train, Y_train = np.array(X_train), np.array(Y_train)\n",
    "\n",
    "    for i in range(timesteps, val.shape[0]):\n",
    "        X_val.append(val[i-timesteps:i])\n",
    "        Y_val.append(val[i][0])\n",
    "    X_val, Y_val = np.array(X_val), np.array(Y_val)\n",
    "\n",
    "    # Thêm các lớp vào mô hình\n",
    "    model = Sequential()\n",
    "    model.add(GRU(X_train.shape[2], input_shape= (X_train.shape[1], X_train.shape[2]), activation= 'relu', return_sequences= True))\n",
    "    for i in range(len(hl)-1):\n",
    "        model.add(GRU(hl[i], activation='relu', return_sequences= True))\n",
    "    model.add(GRU(hl[-1], activation='relu'))\n",
    "    model.add(Dense(1))\n",
    "\n",
    "    # Biên dịch\n",
    "    model.compile(optimizer= optimizers.Adam(learning_rate= lr), loss= 'mean_squared_error')\n",
    "\n",
    "    # Huấn luyện dữ liệu\n",
    "    history = model.fit(X_train, Y_train, epochs= epochs, batch_size= batch, validation_data= (X_val, Y_val), verbose= 0, shuffle= False, callbacks= callbacks_list)\n",
    "    \n",
    "    # Đặt lại trạng thái\n",
    "    for layer in model.layers:\n",
    "        if isinstance(layer, GRU):\n",
    "            layer.reset_states()\n",
    "    \n",
    "    return model, history.history['loss'], history.history['val_loss']"
   ]
  },
  {
   "cell_type": "markdown",
   "metadata": {},
   "source": [
    "## Hàm **Evaluate_model_3()**"
   ]
  },
  {
   "cell_type": "code",
   "execution_count": 49,
   "metadata": {},
   "outputs": [],
   "source": [
    "def evaluate_model_3(model, test, timesteps):\n",
    "    \"\"\"\n",
    "    np.random.seed(1)\n",
    "    tf.random.set_seed(2)\n",
    "    \"\"\"\n",
    "    X_test = []\n",
    "    Y_test = []\n",
    "\n",
    "    for i in range(timesteps, test.shape[0]):\n",
    "        X_test.append(test[i-timesteps:i])\n",
    "        Y_test.append(test[i][0])\n",
    "    X_test, Y_test= np.array(X_test), np.array(Y_test)\n",
    "\n",
    "    # Các chỉ số đánh giá\n",
    "    Y_hat = model.predict(X_test)\n",
    "    mse = mean_squared_error(Y_test, Y_hat)\n",
    "    rmse = sqrt(mse)\n",
    "    mape = mean_absolute_percentage_error(Y_test, Y_hat)\n",
    "    r2 = r2_score(Y_test, Y_hat)\n",
    "\n",
    "    return mse, rmse, mape, r2, Y_test, Y_hat\n"
   ]
  },
  {
   "cell_type": "markdown",
   "metadata": {},
   "source": [
    "## **Grid Search**: Tìm kiếm siêu tham số tối ưu "
   ]
  },
  {
   "cell_type": "code",
   "execution_count": 50,
   "metadata": {},
   "outputs": [],
   "source": [
    "param_grid = {\n",
    "    'timesteps': [30, 40, 50],\n",
    "    'hl': [[40, 35]],\n",
    "    'lr': [1e-4, 1e-3],\n",
    "    'batch_size': [32, 64],\n",
    "    'num_epochs': [200, 250]\n",
    "}"
   ]
  },
  {
   "cell_type": "code",
   "execution_count": 51,
   "metadata": {},
   "outputs": [],
   "source": [
    "# Hàm grid search\n",
    "def grid_search_rnn(train, val, test, param_grid):\n",
    "    results = []\n",
    "    best_score = float('inf')\n",
    "    best_params = None\n",
    "\n",
    "    # Tạo tất cả các tổ hợp tham số\n",
    "    all_combinations = list(product(*(param_grid.values())))\n",
    "    param_names = param_grid.keys()\n",
    "\n",
    "    for combination in all_combinations:\n",
    "        # Gán giá trị tham số hiện tại\n",
    "        params = dict(zip(param_names, combination))\n",
    "        hl = params['hl']\n",
    "        lr = params['lr']\n",
    "        batch_size = params['batch_size']\n",
    "        num_epochs = params['num_epochs']\n",
    "\n",
    "        print(f'Training with params: {params}')\n",
    "\n",
    "        # Huấn luyện mô hình\n",
    "        model, train_loss, val_loss = fit_model_3(train, val, timesteps, hl, lr, batch_size, num_epochs)\n",
    "\n",
    "        # Đánh giá mô hình\n",
    "        mse, rmse, mape, r2, _, _ = evaluate_model_3(model, test, timesteps)\n",
    "\n",
    "        # Lưu kết quả\n",
    "        results.append({\n",
    "            'timesteps': timesteps,\n",
    "            'hl': hl,\n",
    "            'lr': lr,\n",
    "            'batch_size': batch_size,\n",
    "            'num_epochs': num_epochs,\n",
    "            'mse': mse,\n",
    "            'rmse': rmse,\n",
    "            'mape': mape,\n",
    "            'r2': r2\n",
    "        })\n",
    "\n",
    "        # Cập nhật tham số tốt nhất nếu RMSE cải thiện\n",
    "        if rmse < best_score:\n",
    "            best_score = rmse\n",
    "            best_params = params\n",
    "\n",
    "        # Trả về kết quả\n",
    "        results_df = pd.DataFrame(results)\n",
    "        return best_params, best_score, results_df\n"
   ]
  },
  {
   "cell_type": "markdown",
   "metadata": {},
   "source": [
    "## Plot chart (vẽ biểu đồ)"
   ]
  },
  {
   "cell_type": "code",
   "execution_count": 52,
   "metadata": {},
   "outputs": [],
   "source": [
    "# Plotting the predictions\n",
    "def plot_data_3(Y_test, Y_hat):\n",
    "    plt.plot(Y_test, c = 'r')\n",
    "    plt.plot(Y_hat, c = 'y')\n",
    "    plt.xlabel('Day')\n",
    "    plt.ylabel('Price')\n",
    "    plt.title(\"Stock Price Prediction using Multivariate-GRU\")\n",
    "    plt.legend(['Actual','Predicted'], loc = 'lower right')\n",
    "    plt.show()"
   ]
  },
  {
   "cell_type": "code",
   "execution_count": 53,
   "metadata": {},
   "outputs": [],
   "source": [
    "# Plotting the training errors: trực quan loss qua các epoch -> thấy qtr học mô hình, xem có overfitting ko\n",
    "def plot_error(train_loss, val_loss):\n",
    "    plt.plot(train_loss, c = 'r')\n",
    "    plt.plot(val_loss, c = 'b')\n",
    "    plt.ylabel('Loss')\n",
    "    plt.xlabel('Epochs')\n",
    "    plt.title('Train Loss and Validation Loss Curve')\n",
    "    plt.legend(['train', 'val'], loc = 'upper right')\n",
    "    plt.show()"
   ]
  },
  {
   "cell_type": "markdown",
   "metadata": {},
   "source": [
    "## **Model building**: Xây dựng mô hình"
   ]
  },
  {
   "cell_type": "markdown",
   "metadata": {},
   "source": [
    "### Bước 1: Trích xuất và trực quan hóa dữ liệu"
   ]
  },
  {
   "cell_type": "code",
   "execution_count": 54,
   "metadata": {},
   "outputs": [
    {
     "name": "stdout",
     "output_type": "stream",
     "text": [
      "(4267, 10)\n",
      "            close   CMA10   SMA10   SMA50      EMA12        RSI        CCI  \\\n",
      "time                                                                         \n",
      "2025-03-10  27.95  27.860  27.910  26.726  27.664525  66.666667  72.152412   \n",
      "2025-03-11  28.15  27.840  27.975  26.749  27.739213  68.965517  61.493516   \n",
      "2025-03-12  27.80  27.815  27.980  26.771  27.748565  63.440860  54.366686   \n",
      "2025-03-13  27.70  27.785  27.905  26.782  27.741094  63.440860  39.488661   \n",
      "2025-03-14  27.55  27.705  27.860  26.793  27.711695  47.887324  16.260163   \n",
      "\n",
      "                   %K         %D      MACD  \n",
      "time                                        \n",
      "2025-03-10  75.609756  78.723924  0.419877  \n",
      "2025-03-11  85.365854  80.790320  0.427503  \n",
      "2025-03-12  68.292683  76.422764  0.400685  \n",
      "2025-03-13  40.000000  64.552846  0.367130  \n",
      "2025-03-14  28.000000  45.430894  0.324692  \n"
     ]
    }
   ],
   "source": [
    "# Extracting the series\n",
    "series = df[['close', 'CMA10', 'SMA10', 'SMA50', 'EMA12', 'RSI', 'CCI', '%K', '%D', 'MACD']]\n",
    "# Drop rows with NaN values\n",
    "series = series.dropna()\n",
    "\n",
    "# Display the shape and the tail of the cleaned series\n",
    "print(series.shape)\n",
    "print(series.tail())"
   ]
  },
  {
   "cell_type": "markdown",
   "metadata": {},
   "source": [
    "### Bước 2: Chia dữ liệu thành các tập Train, Validation, Test"
   ]
  },
  {
   "cell_type": "code",
   "execution_count": 55,
   "metadata": {},
   "outputs": [
    {
     "data": {
      "text/plain": [
       "(4267, 10)"
      ]
     },
     "execution_count": 55,
     "metadata": {},
     "output_type": "execute_result"
    }
   ],
   "source": [
    "series.shape"
   ]
  },
  {
   "cell_type": "code",
   "execution_count": 56,
   "metadata": {},
   "outputs": [
    {
     "name": "stdout",
     "output_type": "stream",
     "text": [
      "(2987, 10) (640, 10) (640, 10)\n"
     ]
    }
   ],
   "source": [
    "n = series.shape[0]\n",
    "val_size =  test_size = int(n * 0.15)\n",
    "train_size = n - val_size - test_size # Để tránh sai số làm mất dữ liệu\n",
    "\n",
    "# Chia tập dữ liệu theo thứ tự thời gian\n",
    "train_data = series.iloc[:train_size].values\n",
    "val_data = series.iloc[train_size:train_size + val_size].values\n",
    "test_data = series.iloc[(train_size + val_size):].values\n",
    "# Kiểm tra kích thước của từng tập\n",
    "print(train_data.shape, val_data.shape, test_data.shape)"
   ]
  },
  {
   "cell_type": "markdown",
   "metadata": {},
   "source": [
    "### Bước 3: Chuẩn hóa dữ liệu bằng MinMaxScaler"
   ]
  },
  {
   "cell_type": "code",
   "execution_count": 57,
   "metadata": {},
   "outputs": [
    {
     "name": "stdout",
     "output_type": "stream",
     "text": [
      "(2987, 10) (640, 10) (640, 10)\n"
     ]
    }
   ],
   "source": [
    "# Normalisation\n",
    "np.random.seed(1)\n",
    "tf.random.set_seed(2)\n",
    "\n",
    "sc = MinMaxScaler()\n",
    "train = sc.fit_transform(train_data)\n",
    "val = sc.transform(val_data)\n",
    "test = sc.transform(test_data)\n",
    "\n",
    "print(train.shape, val.shape, test.shape)"
   ]
  },
  {
   "cell_type": "markdown",
   "metadata": {},
   "source": [
    "### Bước 4: Tìm siêu tham số tốt nhất bằng Grid Search"
   ]
  },
  {
   "cell_type": "code",
   "execution_count": 58,
   "metadata": {},
   "outputs": [
    {
     "name": "stdout",
     "output_type": "stream",
     "text": [
      "Training with params: {'timesteps': 30, 'hl': [40, 35], 'lr': 0.0001, 'batch_size': 32, 'num_epochs': 200}\n"
     ]
    },
    {
     "name": "stderr",
     "output_type": "stream",
     "text": [
      "c:\\Users\\84368\\AppData\\Local\\Programs\\Python\\Python311\\Lib\\site-packages\\keras\\src\\layers\\rnn\\rnn.py:200: UserWarning: Do not pass an `input_shape`/`input_dim` argument to a layer. When using Sequential models, prefer using an `Input(shape)` object as the first layer in the model instead.\n",
      "  super().__init__(**kwargs)\n"
     ]
    },
    {
     "name": "stdout",
     "output_type": "stream",
     "text": [
      "\n",
      "Epoch 1: val_loss improved from inf to 2.50771, saving model to 10Var-hpg-gru.h5\n"
     ]
    },
    {
     "name": "stderr",
     "output_type": "stream",
     "text": [
      "WARNING:absl:You are saving your model as an HDF5 file via `model.save()` or `keras.saving.save_model(model)`. This file format is considered legacy. We recommend using instead the native Keras format, e.g. `model.save('my_model.keras')` or `keras.saving.save_model(model, 'my_model.keras')`. \n"
     ]
    },
    {
     "name": "stdout",
     "output_type": "stream",
     "text": [
      "\n",
      "Epoch 2: val_loss improved from 2.50771 to 2.09337, saving model to 10Var-hpg-gru.h5\n"
     ]
    },
    {
     "name": "stderr",
     "output_type": "stream",
     "text": [
      "WARNING:absl:You are saving your model as an HDF5 file via `model.save()` or `keras.saving.save_model(model)`. This file format is considered legacy. We recommend using instead the native Keras format, e.g. `model.save('my_model.keras')` or `keras.saving.save_model(model, 'my_model.keras')`. \n"
     ]
    },
    {
     "name": "stdout",
     "output_type": "stream",
     "text": [
      "\n",
      "Epoch 3: val_loss improved from 2.09337 to 1.71586, saving model to 10Var-hpg-gru.h5\n"
     ]
    },
    {
     "name": "stderr",
     "output_type": "stream",
     "text": [
      "WARNING:absl:You are saving your model as an HDF5 file via `model.save()` or `keras.saving.save_model(model)`. This file format is considered legacy. We recommend using instead the native Keras format, e.g. `model.save('my_model.keras')` or `keras.saving.save_model(model, 'my_model.keras')`. \n"
     ]
    },
    {
     "name": "stdout",
     "output_type": "stream",
     "text": [
      "\n",
      "Epoch 4: val_loss improved from 1.71586 to 1.39341, saving model to 10Var-hpg-gru.h5\n"
     ]
    },
    {
     "name": "stderr",
     "output_type": "stream",
     "text": [
      "WARNING:absl:You are saving your model as an HDF5 file via `model.save()` or `keras.saving.save_model(model)`. This file format is considered legacy. We recommend using instead the native Keras format, e.g. `model.save('my_model.keras')` or `keras.saving.save_model(model, 'my_model.keras')`. \n"
     ]
    },
    {
     "name": "stdout",
     "output_type": "stream",
     "text": [
      "\n",
      "Epoch 5: val_loss improved from 1.39341 to 1.16265, saving model to 10Var-hpg-gru.h5\n"
     ]
    },
    {
     "name": "stderr",
     "output_type": "stream",
     "text": [
      "WARNING:absl:You are saving your model as an HDF5 file via `model.save()` or `keras.saving.save_model(model)`. This file format is considered legacy. We recommend using instead the native Keras format, e.g. `model.save('my_model.keras')` or `keras.saving.save_model(model, 'my_model.keras')`. \n"
     ]
    },
    {
     "name": "stdout",
     "output_type": "stream",
     "text": [
      "\n",
      "Epoch 6: val_loss improved from 1.16265 to 0.94984, saving model to 10Var-hpg-gru.h5\n"
     ]
    },
    {
     "name": "stderr",
     "output_type": "stream",
     "text": [
      "WARNING:absl:You are saving your model as an HDF5 file via `model.save()` or `keras.saving.save_model(model)`. This file format is considered legacy. We recommend using instead the native Keras format, e.g. `model.save('my_model.keras')` or `keras.saving.save_model(model, 'my_model.keras')`. \n"
     ]
    },
    {
     "name": "stdout",
     "output_type": "stream",
     "text": [
      "\n",
      "Epoch 7: val_loss improved from 0.94984 to 0.74114, saving model to 10Var-hpg-gru.h5\n"
     ]
    },
    {
     "name": "stderr",
     "output_type": "stream",
     "text": [
      "WARNING:absl:You are saving your model as an HDF5 file via `model.save()` or `keras.saving.save_model(model)`. This file format is considered legacy. We recommend using instead the native Keras format, e.g. `model.save('my_model.keras')` or `keras.saving.save_model(model, 'my_model.keras')`. \n"
     ]
    },
    {
     "name": "stdout",
     "output_type": "stream",
     "text": [
      "\n",
      "Epoch 8: val_loss improved from 0.74114 to 0.52979, saving model to 10Var-hpg-gru.h5\n"
     ]
    },
    {
     "name": "stderr",
     "output_type": "stream",
     "text": [
      "WARNING:absl:You are saving your model as an HDF5 file via `model.save()` or `keras.saving.save_model(model)`. This file format is considered legacy. We recommend using instead the native Keras format, e.g. `model.save('my_model.keras')` or `keras.saving.save_model(model, 'my_model.keras')`. \n"
     ]
    },
    {
     "name": "stdout",
     "output_type": "stream",
     "text": [
      "\n",
      "Epoch 9: val_loss improved from 0.52979 to 0.37024, saving model to 10Var-hpg-gru.h5\n"
     ]
    },
    {
     "name": "stderr",
     "output_type": "stream",
     "text": [
      "WARNING:absl:You are saving your model as an HDF5 file via `model.save()` or `keras.saving.save_model(model)`. This file format is considered legacy. We recommend using instead the native Keras format, e.g. `model.save('my_model.keras')` or `keras.saving.save_model(model, 'my_model.keras')`. \n"
     ]
    },
    {
     "name": "stdout",
     "output_type": "stream",
     "text": [
      "\n",
      "Epoch 10: val_loss improved from 0.37024 to 0.28262, saving model to 10Var-hpg-gru.h5\n"
     ]
    },
    {
     "name": "stderr",
     "output_type": "stream",
     "text": [
      "WARNING:absl:You are saving your model as an HDF5 file via `model.save()` or `keras.saving.save_model(model)`. This file format is considered legacy. We recommend using instead the native Keras format, e.g. `model.save('my_model.keras')` or `keras.saving.save_model(model, 'my_model.keras')`. \n"
     ]
    },
    {
     "name": "stdout",
     "output_type": "stream",
     "text": [
      "\n",
      "Epoch 11: val_loss improved from 0.28262 to 0.24039, saving model to 10Var-hpg-gru.h5\n"
     ]
    },
    {
     "name": "stderr",
     "output_type": "stream",
     "text": [
      "WARNING:absl:You are saving your model as an HDF5 file via `model.save()` or `keras.saving.save_model(model)`. This file format is considered legacy. We recommend using instead the native Keras format, e.g. `model.save('my_model.keras')` or `keras.saving.save_model(model, 'my_model.keras')`. \n"
     ]
    },
    {
     "name": "stdout",
     "output_type": "stream",
     "text": [
      "\n",
      "Epoch 12: val_loss improved from 0.24039 to 0.22075, saving model to 10Var-hpg-gru.h5\n"
     ]
    },
    {
     "name": "stderr",
     "output_type": "stream",
     "text": [
      "WARNING:absl:You are saving your model as an HDF5 file via `model.save()` or `keras.saving.save_model(model)`. This file format is considered legacy. We recommend using instead the native Keras format, e.g. `model.save('my_model.keras')` or `keras.saving.save_model(model, 'my_model.keras')`. \n"
     ]
    },
    {
     "name": "stdout",
     "output_type": "stream",
     "text": [
      "\n",
      "Epoch 13: val_loss improved from 0.22075 to 0.20906, saving model to 10Var-hpg-gru.h5\n"
     ]
    },
    {
     "name": "stderr",
     "output_type": "stream",
     "text": [
      "WARNING:absl:You are saving your model as an HDF5 file via `model.save()` or `keras.saving.save_model(model)`. This file format is considered legacy. We recommend using instead the native Keras format, e.g. `model.save('my_model.keras')` or `keras.saving.save_model(model, 'my_model.keras')`. \n"
     ]
    },
    {
     "name": "stdout",
     "output_type": "stream",
     "text": [
      "\n",
      "Epoch 14: val_loss improved from 0.20906 to 0.20132, saving model to 10Var-hpg-gru.h5\n"
     ]
    },
    {
     "name": "stderr",
     "output_type": "stream",
     "text": [
      "WARNING:absl:You are saving your model as an HDF5 file via `model.save()` or `keras.saving.save_model(model)`. This file format is considered legacy. We recommend using instead the native Keras format, e.g. `model.save('my_model.keras')` or `keras.saving.save_model(model, 'my_model.keras')`. \n"
     ]
    },
    {
     "name": "stdout",
     "output_type": "stream",
     "text": [
      "\n",
      "Epoch 15: val_loss improved from 0.20132 to 0.19559, saving model to 10Var-hpg-gru.h5\n"
     ]
    },
    {
     "name": "stderr",
     "output_type": "stream",
     "text": [
      "WARNING:absl:You are saving your model as an HDF5 file via `model.save()` or `keras.saving.save_model(model)`. This file format is considered legacy. We recommend using instead the native Keras format, e.g. `model.save('my_model.keras')` or `keras.saving.save_model(model, 'my_model.keras')`. \n"
     ]
    },
    {
     "name": "stdout",
     "output_type": "stream",
     "text": [
      "\n",
      "Epoch 16: val_loss improved from 0.19559 to 0.19129, saving model to 10Var-hpg-gru.h5\n"
     ]
    },
    {
     "name": "stderr",
     "output_type": "stream",
     "text": [
      "WARNING:absl:You are saving your model as an HDF5 file via `model.save()` or `keras.saving.save_model(model)`. This file format is considered legacy. We recommend using instead the native Keras format, e.g. `model.save('my_model.keras')` or `keras.saving.save_model(model, 'my_model.keras')`. \n"
     ]
    },
    {
     "name": "stdout",
     "output_type": "stream",
     "text": [
      "\n",
      "Epoch 17: val_loss improved from 0.19129 to 0.18773, saving model to 10Var-hpg-gru.h5\n"
     ]
    },
    {
     "name": "stderr",
     "output_type": "stream",
     "text": [
      "WARNING:absl:You are saving your model as an HDF5 file via `model.save()` or `keras.saving.save_model(model)`. This file format is considered legacy. We recommend using instead the native Keras format, e.g. `model.save('my_model.keras')` or `keras.saving.save_model(model, 'my_model.keras')`. \n"
     ]
    },
    {
     "name": "stdout",
     "output_type": "stream",
     "text": [
      "\n",
      "Epoch 18: val_loss improved from 0.18773 to 0.18468, saving model to 10Var-hpg-gru.h5\n"
     ]
    },
    {
     "name": "stderr",
     "output_type": "stream",
     "text": [
      "WARNING:absl:You are saving your model as an HDF5 file via `model.save()` or `keras.saving.save_model(model)`. This file format is considered legacy. We recommend using instead the native Keras format, e.g. `model.save('my_model.keras')` or `keras.saving.save_model(model, 'my_model.keras')`. \n"
     ]
    },
    {
     "name": "stdout",
     "output_type": "stream",
     "text": [
      "\n",
      "Epoch 19: val_loss improved from 0.18468 to 0.18160, saving model to 10Var-hpg-gru.h5\n"
     ]
    },
    {
     "name": "stderr",
     "output_type": "stream",
     "text": [
      "WARNING:absl:You are saving your model as an HDF5 file via `model.save()` or `keras.saving.save_model(model)`. This file format is considered legacy. We recommend using instead the native Keras format, e.g. `model.save('my_model.keras')` or `keras.saving.save_model(model, 'my_model.keras')`. \n"
     ]
    },
    {
     "name": "stdout",
     "output_type": "stream",
     "text": [
      "\n",
      "Epoch 20: val_loss improved from 0.18160 to 0.17886, saving model to 10Var-hpg-gru.h5\n"
     ]
    },
    {
     "name": "stderr",
     "output_type": "stream",
     "text": [
      "WARNING:absl:You are saving your model as an HDF5 file via `model.save()` or `keras.saving.save_model(model)`. This file format is considered legacy. We recommend using instead the native Keras format, e.g. `model.save('my_model.keras')` or `keras.saving.save_model(model, 'my_model.keras')`. \n"
     ]
    },
    {
     "name": "stdout",
     "output_type": "stream",
     "text": [
      "\n",
      "Epoch 21: val_loss improved from 0.17886 to 0.17635, saving model to 10Var-hpg-gru.h5\n"
     ]
    },
    {
     "name": "stderr",
     "output_type": "stream",
     "text": [
      "WARNING:absl:You are saving your model as an HDF5 file via `model.save()` or `keras.saving.save_model(model)`. This file format is considered legacy. We recommend using instead the native Keras format, e.g. `model.save('my_model.keras')` or `keras.saving.save_model(model, 'my_model.keras')`. \n"
     ]
    },
    {
     "name": "stdout",
     "output_type": "stream",
     "text": [
      "\n",
      "Epoch 22: val_loss improved from 0.17635 to 0.17387, saving model to 10Var-hpg-gru.h5\n"
     ]
    },
    {
     "name": "stderr",
     "output_type": "stream",
     "text": [
      "WARNING:absl:You are saving your model as an HDF5 file via `model.save()` or `keras.saving.save_model(model)`. This file format is considered legacy. We recommend using instead the native Keras format, e.g. `model.save('my_model.keras')` or `keras.saving.save_model(model, 'my_model.keras')`. \n"
     ]
    },
    {
     "name": "stdout",
     "output_type": "stream",
     "text": [
      "\n",
      "Epoch 23: val_loss improved from 0.17387 to 0.17168, saving model to 10Var-hpg-gru.h5\n"
     ]
    },
    {
     "name": "stderr",
     "output_type": "stream",
     "text": [
      "WARNING:absl:You are saving your model as an HDF5 file via `model.save()` or `keras.saving.save_model(model)`. This file format is considered legacy. We recommend using instead the native Keras format, e.g. `model.save('my_model.keras')` or `keras.saving.save_model(model, 'my_model.keras')`. \n"
     ]
    },
    {
     "name": "stdout",
     "output_type": "stream",
     "text": [
      "\n",
      "Epoch 24: val_loss improved from 0.17168 to 0.16997, saving model to 10Var-hpg-gru.h5\n"
     ]
    },
    {
     "name": "stderr",
     "output_type": "stream",
     "text": [
      "WARNING:absl:You are saving your model as an HDF5 file via `model.save()` or `keras.saving.save_model(model)`. This file format is considered legacy. We recommend using instead the native Keras format, e.g. `model.save('my_model.keras')` or `keras.saving.save_model(model, 'my_model.keras')`. \n"
     ]
    },
    {
     "name": "stdout",
     "output_type": "stream",
     "text": [
      "\n",
      "Epoch 25: val_loss improved from 0.16997 to 0.16862, saving model to 10Var-hpg-gru.h5\n"
     ]
    },
    {
     "name": "stderr",
     "output_type": "stream",
     "text": [
      "WARNING:absl:You are saving your model as an HDF5 file via `model.save()` or `keras.saving.save_model(model)`. This file format is considered legacy. We recommend using instead the native Keras format, e.g. `model.save('my_model.keras')` or `keras.saving.save_model(model, 'my_model.keras')`. \n"
     ]
    },
    {
     "name": "stdout",
     "output_type": "stream",
     "text": [
      "\n",
      "Epoch 26: val_loss improved from 0.16862 to 0.16756, saving model to 10Var-hpg-gru.h5\n"
     ]
    },
    {
     "name": "stderr",
     "output_type": "stream",
     "text": [
      "WARNING:absl:You are saving your model as an HDF5 file via `model.save()` or `keras.saving.save_model(model)`. This file format is considered legacy. We recommend using instead the native Keras format, e.g. `model.save('my_model.keras')` or `keras.saving.save_model(model, 'my_model.keras')`. \n"
     ]
    },
    {
     "name": "stdout",
     "output_type": "stream",
     "text": [
      "\n",
      "Epoch 27: val_loss improved from 0.16756 to 0.16640, saving model to 10Var-hpg-gru.h5\n"
     ]
    },
    {
     "name": "stderr",
     "output_type": "stream",
     "text": [
      "WARNING:absl:You are saving your model as an HDF5 file via `model.save()` or `keras.saving.save_model(model)`. This file format is considered legacy. We recommend using instead the native Keras format, e.g. `model.save('my_model.keras')` or `keras.saving.save_model(model, 'my_model.keras')`. \n"
     ]
    },
    {
     "name": "stdout",
     "output_type": "stream",
     "text": [
      "\n",
      "Epoch 28: val_loss improved from 0.16640 to 0.16528, saving model to 10Var-hpg-gru.h5\n"
     ]
    },
    {
     "name": "stderr",
     "output_type": "stream",
     "text": [
      "WARNING:absl:You are saving your model as an HDF5 file via `model.save()` or `keras.saving.save_model(model)`. This file format is considered legacy. We recommend using instead the native Keras format, e.g. `model.save('my_model.keras')` or `keras.saving.save_model(model, 'my_model.keras')`. \n"
     ]
    },
    {
     "name": "stdout",
     "output_type": "stream",
     "text": [
      "\n",
      "Epoch 29: val_loss improved from 0.16528 to 0.16445, saving model to 10Var-hpg-gru.h5\n"
     ]
    },
    {
     "name": "stderr",
     "output_type": "stream",
     "text": [
      "WARNING:absl:You are saving your model as an HDF5 file via `model.save()` or `keras.saving.save_model(model)`. This file format is considered legacy. We recommend using instead the native Keras format, e.g. `model.save('my_model.keras')` or `keras.saving.save_model(model, 'my_model.keras')`. \n"
     ]
    },
    {
     "name": "stdout",
     "output_type": "stream",
     "text": [
      "\n",
      "Epoch 30: val_loss improved from 0.16445 to 0.16362, saving model to 10Var-hpg-gru.h5\n"
     ]
    },
    {
     "name": "stderr",
     "output_type": "stream",
     "text": [
      "WARNING:absl:You are saving your model as an HDF5 file via `model.save()` or `keras.saving.save_model(model)`. This file format is considered legacy. We recommend using instead the native Keras format, e.g. `model.save('my_model.keras')` or `keras.saving.save_model(model, 'my_model.keras')`. \n"
     ]
    },
    {
     "name": "stdout",
     "output_type": "stream",
     "text": [
      "\n",
      "Epoch 31: val_loss improved from 0.16362 to 0.16287, saving model to 10Var-hpg-gru.h5\n"
     ]
    },
    {
     "name": "stderr",
     "output_type": "stream",
     "text": [
      "WARNING:absl:You are saving your model as an HDF5 file via `model.save()` or `keras.saving.save_model(model)`. This file format is considered legacy. We recommend using instead the native Keras format, e.g. `model.save('my_model.keras')` or `keras.saving.save_model(model, 'my_model.keras')`. \n"
     ]
    },
    {
     "name": "stdout",
     "output_type": "stream",
     "text": [
      "\n",
      "Epoch 32: val_loss improved from 0.16287 to 0.16214, saving model to 10Var-hpg-gru.h5\n"
     ]
    },
    {
     "name": "stderr",
     "output_type": "stream",
     "text": [
      "WARNING:absl:You are saving your model as an HDF5 file via `model.save()` or `keras.saving.save_model(model)`. This file format is considered legacy. We recommend using instead the native Keras format, e.g. `model.save('my_model.keras')` or `keras.saving.save_model(model, 'my_model.keras')`. \n"
     ]
    },
    {
     "name": "stdout",
     "output_type": "stream",
     "text": [
      "\n",
      "Epoch 33: val_loss improved from 0.16214 to 0.16126, saving model to 10Var-hpg-gru.h5\n"
     ]
    },
    {
     "name": "stderr",
     "output_type": "stream",
     "text": [
      "WARNING:absl:You are saving your model as an HDF5 file via `model.save()` or `keras.saving.save_model(model)`. This file format is considered legacy. We recommend using instead the native Keras format, e.g. `model.save('my_model.keras')` or `keras.saving.save_model(model, 'my_model.keras')`. \n"
     ]
    },
    {
     "name": "stdout",
     "output_type": "stream",
     "text": [
      "\n",
      "Epoch 34: val_loss improved from 0.16126 to 0.16070, saving model to 10Var-hpg-gru.h5\n"
     ]
    },
    {
     "name": "stderr",
     "output_type": "stream",
     "text": [
      "WARNING:absl:You are saving your model as an HDF5 file via `model.save()` or `keras.saving.save_model(model)`. This file format is considered legacy. We recommend using instead the native Keras format, e.g. `model.save('my_model.keras')` or `keras.saving.save_model(model, 'my_model.keras')`. \n"
     ]
    },
    {
     "name": "stdout",
     "output_type": "stream",
     "text": [
      "\n",
      "Epoch 35: val_loss improved from 0.16070 to 0.15985, saving model to 10Var-hpg-gru.h5\n"
     ]
    },
    {
     "name": "stderr",
     "output_type": "stream",
     "text": [
      "WARNING:absl:You are saving your model as an HDF5 file via `model.save()` or `keras.saving.save_model(model)`. This file format is considered legacy. We recommend using instead the native Keras format, e.g. `model.save('my_model.keras')` or `keras.saving.save_model(model, 'my_model.keras')`. \n"
     ]
    },
    {
     "name": "stdout",
     "output_type": "stream",
     "text": [
      "\n",
      "Epoch 36: val_loss improved from 0.15985 to 0.15923, saving model to 10Var-hpg-gru.h5\n"
     ]
    },
    {
     "name": "stderr",
     "output_type": "stream",
     "text": [
      "WARNING:absl:You are saving your model as an HDF5 file via `model.save()` or `keras.saving.save_model(model)`. This file format is considered legacy. We recommend using instead the native Keras format, e.g. `model.save('my_model.keras')` or `keras.saving.save_model(model, 'my_model.keras')`. \n"
     ]
    },
    {
     "name": "stdout",
     "output_type": "stream",
     "text": [
      "\n",
      "Epoch 37: val_loss improved from 0.15923 to 0.15846, saving model to 10Var-hpg-gru.h5\n"
     ]
    },
    {
     "name": "stderr",
     "output_type": "stream",
     "text": [
      "WARNING:absl:You are saving your model as an HDF5 file via `model.save()` or `keras.saving.save_model(model)`. This file format is considered legacy. We recommend using instead the native Keras format, e.g. `model.save('my_model.keras')` or `keras.saving.save_model(model, 'my_model.keras')`. \n"
     ]
    },
    {
     "name": "stdout",
     "output_type": "stream",
     "text": [
      "\n",
      "Epoch 38: val_loss improved from 0.15846 to 0.15773, saving model to 10Var-hpg-gru.h5\n"
     ]
    },
    {
     "name": "stderr",
     "output_type": "stream",
     "text": [
      "WARNING:absl:You are saving your model as an HDF5 file via `model.save()` or `keras.saving.save_model(model)`. This file format is considered legacy. We recommend using instead the native Keras format, e.g. `model.save('my_model.keras')` or `keras.saving.save_model(model, 'my_model.keras')`. \n"
     ]
    },
    {
     "name": "stdout",
     "output_type": "stream",
     "text": [
      "\n",
      "Epoch 39: val_loss improved from 0.15773 to 0.15687, saving model to 10Var-hpg-gru.h5\n"
     ]
    },
    {
     "name": "stderr",
     "output_type": "stream",
     "text": [
      "WARNING:absl:You are saving your model as an HDF5 file via `model.save()` or `keras.saving.save_model(model)`. This file format is considered legacy. We recommend using instead the native Keras format, e.g. `model.save('my_model.keras')` or `keras.saving.save_model(model, 'my_model.keras')`. \n"
     ]
    },
    {
     "name": "stdout",
     "output_type": "stream",
     "text": [
      "\n",
      "Epoch 40: val_loss improved from 0.15687 to 0.15603, saving model to 10Var-hpg-gru.h5\n"
     ]
    },
    {
     "name": "stderr",
     "output_type": "stream",
     "text": [
      "WARNING:absl:You are saving your model as an HDF5 file via `model.save()` or `keras.saving.save_model(model)`. This file format is considered legacy. We recommend using instead the native Keras format, e.g. `model.save('my_model.keras')` or `keras.saving.save_model(model, 'my_model.keras')`. \n"
     ]
    },
    {
     "name": "stdout",
     "output_type": "stream",
     "text": [
      "\n",
      "Epoch 41: val_loss improved from 0.15603 to 0.15511, saving model to 10Var-hpg-gru.h5\n"
     ]
    },
    {
     "name": "stderr",
     "output_type": "stream",
     "text": [
      "WARNING:absl:You are saving your model as an HDF5 file via `model.save()` or `keras.saving.save_model(model)`. This file format is considered legacy. We recommend using instead the native Keras format, e.g. `model.save('my_model.keras')` or `keras.saving.save_model(model, 'my_model.keras')`. \n"
     ]
    },
    {
     "name": "stdout",
     "output_type": "stream",
     "text": [
      "\n",
      "Epoch 42: val_loss improved from 0.15511 to 0.15436, saving model to 10Var-hpg-gru.h5\n"
     ]
    },
    {
     "name": "stderr",
     "output_type": "stream",
     "text": [
      "WARNING:absl:You are saving your model as an HDF5 file via `model.save()` or `keras.saving.save_model(model)`. This file format is considered legacy. We recommend using instead the native Keras format, e.g. `model.save('my_model.keras')` or `keras.saving.save_model(model, 'my_model.keras')`. \n"
     ]
    },
    {
     "name": "stdout",
     "output_type": "stream",
     "text": [
      "\n",
      "Epoch 43: val_loss improved from 0.15436 to 0.15372, saving model to 10Var-hpg-gru.h5\n"
     ]
    },
    {
     "name": "stderr",
     "output_type": "stream",
     "text": [
      "WARNING:absl:You are saving your model as an HDF5 file via `model.save()` or `keras.saving.save_model(model)`. This file format is considered legacy. We recommend using instead the native Keras format, e.g. `model.save('my_model.keras')` or `keras.saving.save_model(model, 'my_model.keras')`. \n"
     ]
    },
    {
     "name": "stdout",
     "output_type": "stream",
     "text": [
      "\n",
      "Epoch 44: val_loss improved from 0.15372 to 0.15265, saving model to 10Var-hpg-gru.h5\n"
     ]
    },
    {
     "name": "stderr",
     "output_type": "stream",
     "text": [
      "WARNING:absl:You are saving your model as an HDF5 file via `model.save()` or `keras.saving.save_model(model)`. This file format is considered legacy. We recommend using instead the native Keras format, e.g. `model.save('my_model.keras')` or `keras.saving.save_model(model, 'my_model.keras')`. \n"
     ]
    },
    {
     "name": "stdout",
     "output_type": "stream",
     "text": [
      "\n",
      "Epoch 45: val_loss improved from 0.15265 to 0.15253, saving model to 10Var-hpg-gru.h5\n"
     ]
    },
    {
     "name": "stderr",
     "output_type": "stream",
     "text": [
      "WARNING:absl:You are saving your model as an HDF5 file via `model.save()` or `keras.saving.save_model(model)`. This file format is considered legacy. We recommend using instead the native Keras format, e.g. `model.save('my_model.keras')` or `keras.saving.save_model(model, 'my_model.keras')`. \n"
     ]
    },
    {
     "name": "stdout",
     "output_type": "stream",
     "text": [
      "\n",
      "Epoch 46: val_loss improved from 0.15253 to 0.15070, saving model to 10Var-hpg-gru.h5\n"
     ]
    },
    {
     "name": "stderr",
     "output_type": "stream",
     "text": [
      "WARNING:absl:You are saving your model as an HDF5 file via `model.save()` or `keras.saving.save_model(model)`. This file format is considered legacy. We recommend using instead the native Keras format, e.g. `model.save('my_model.keras')` or `keras.saving.save_model(model, 'my_model.keras')`. \n"
     ]
    },
    {
     "name": "stdout",
     "output_type": "stream",
     "text": [
      "\n",
      "Epoch 47: val_loss did not improve from 0.15070\n",
      "\n",
      "Epoch 48: val_loss improved from 0.15070 to 0.14893, saving model to 10Var-hpg-gru.h5\n"
     ]
    },
    {
     "name": "stderr",
     "output_type": "stream",
     "text": [
      "WARNING:absl:You are saving your model as an HDF5 file via `model.save()` or `keras.saving.save_model(model)`. This file format is considered legacy. We recommend using instead the native Keras format, e.g. `model.save('my_model.keras')` or `keras.saving.save_model(model, 'my_model.keras')`. \n"
     ]
    },
    {
     "name": "stdout",
     "output_type": "stream",
     "text": [
      "\n",
      "Epoch 49: val_loss did not improve from 0.14893\n",
      "\n",
      "Epoch 50: val_loss improved from 0.14893 to 0.14746, saving model to 10Var-hpg-gru.h5\n"
     ]
    },
    {
     "name": "stderr",
     "output_type": "stream",
     "text": [
      "WARNING:absl:You are saving your model as an HDF5 file via `model.save()` or `keras.saving.save_model(model)`. This file format is considered legacy. We recommend using instead the native Keras format, e.g. `model.save('my_model.keras')` or `keras.saving.save_model(model, 'my_model.keras')`. \n"
     ]
    },
    {
     "name": "stdout",
     "output_type": "stream",
     "text": [
      "\n",
      "Epoch 51: val_loss did not improve from 0.14746\n",
      "\n",
      "Epoch 52: val_loss improved from 0.14746 to 0.14561, saving model to 10Var-hpg-gru.h5\n"
     ]
    },
    {
     "name": "stderr",
     "output_type": "stream",
     "text": [
      "WARNING:absl:You are saving your model as an HDF5 file via `model.save()` or `keras.saving.save_model(model)`. This file format is considered legacy. We recommend using instead the native Keras format, e.g. `model.save('my_model.keras')` or `keras.saving.save_model(model, 'my_model.keras')`. \n"
     ]
    },
    {
     "name": "stdout",
     "output_type": "stream",
     "text": [
      "\n",
      "Epoch 53: val_loss did not improve from 0.14561\n",
      "\n",
      "Epoch 54: val_loss improved from 0.14561 to 0.14364, saving model to 10Var-hpg-gru.h5\n"
     ]
    },
    {
     "name": "stderr",
     "output_type": "stream",
     "text": [
      "WARNING:absl:You are saving your model as an HDF5 file via `model.save()` or `keras.saving.save_model(model)`. This file format is considered legacy. We recommend using instead the native Keras format, e.g. `model.save('my_model.keras')` or `keras.saving.save_model(model, 'my_model.keras')`. \n"
     ]
    },
    {
     "name": "stdout",
     "output_type": "stream",
     "text": [
      "\n",
      "Epoch 55: val_loss did not improve from 0.14364\n",
      "\n",
      "Epoch 56: val_loss improved from 0.14364 to 0.14177, saving model to 10Var-hpg-gru.h5\n"
     ]
    },
    {
     "name": "stderr",
     "output_type": "stream",
     "text": [
      "WARNING:absl:You are saving your model as an HDF5 file via `model.save()` or `keras.saving.save_model(model)`. This file format is considered legacy. We recommend using instead the native Keras format, e.g. `model.save('my_model.keras')` or `keras.saving.save_model(model, 'my_model.keras')`. \n"
     ]
    },
    {
     "name": "stdout",
     "output_type": "stream",
     "text": [
      "\n",
      "Epoch 57: val_loss did not improve from 0.14177\n",
      "\n",
      "Epoch 58: val_loss improved from 0.14177 to 0.13991, saving model to 10Var-hpg-gru.h5\n"
     ]
    },
    {
     "name": "stderr",
     "output_type": "stream",
     "text": [
      "WARNING:absl:You are saving your model as an HDF5 file via `model.save()` or `keras.saving.save_model(model)`. This file format is considered legacy. We recommend using instead the native Keras format, e.g. `model.save('my_model.keras')` or `keras.saving.save_model(model, 'my_model.keras')`. \n"
     ]
    },
    {
     "name": "stdout",
     "output_type": "stream",
     "text": [
      "\n",
      "Epoch 59: val_loss improved from 0.13991 to 0.13984, saving model to 10Var-hpg-gru.h5\n"
     ]
    },
    {
     "name": "stderr",
     "output_type": "stream",
     "text": [
      "WARNING:absl:You are saving your model as an HDF5 file via `model.save()` or `keras.saving.save_model(model)`. This file format is considered legacy. We recommend using instead the native Keras format, e.g. `model.save('my_model.keras')` or `keras.saving.save_model(model, 'my_model.keras')`. \n"
     ]
    },
    {
     "name": "stdout",
     "output_type": "stream",
     "text": [
      "\n",
      "Epoch 60: val_loss improved from 0.13984 to 0.13796, saving model to 10Var-hpg-gru.h5\n"
     ]
    },
    {
     "name": "stderr",
     "output_type": "stream",
     "text": [
      "WARNING:absl:You are saving your model as an HDF5 file via `model.save()` or `keras.saving.save_model(model)`. This file format is considered legacy. We recommend using instead the native Keras format, e.g. `model.save('my_model.keras')` or `keras.saving.save_model(model, 'my_model.keras')`. \n"
     ]
    },
    {
     "name": "stdout",
     "output_type": "stream",
     "text": [
      "\n",
      "Epoch 61: val_loss improved from 0.13796 to 0.13788, saving model to 10Var-hpg-gru.h5\n"
     ]
    },
    {
     "name": "stderr",
     "output_type": "stream",
     "text": [
      "WARNING:absl:You are saving your model as an HDF5 file via `model.save()` or `keras.saving.save_model(model)`. This file format is considered legacy. We recommend using instead the native Keras format, e.g. `model.save('my_model.keras')` or `keras.saving.save_model(model, 'my_model.keras')`. \n"
     ]
    },
    {
     "name": "stdout",
     "output_type": "stream",
     "text": [
      "\n",
      "Epoch 62: val_loss improved from 0.13788 to 0.13569, saving model to 10Var-hpg-gru.h5\n"
     ]
    },
    {
     "name": "stderr",
     "output_type": "stream",
     "text": [
      "WARNING:absl:You are saving your model as an HDF5 file via `model.save()` or `keras.saving.save_model(model)`. This file format is considered legacy. We recommend using instead the native Keras format, e.g. `model.save('my_model.keras')` or `keras.saving.save_model(model, 'my_model.keras')`. \n"
     ]
    },
    {
     "name": "stdout",
     "output_type": "stream",
     "text": [
      "\n",
      "Epoch 63: val_loss improved from 0.13569 to 0.13541, saving model to 10Var-hpg-gru.h5\n"
     ]
    },
    {
     "name": "stderr",
     "output_type": "stream",
     "text": [
      "WARNING:absl:You are saving your model as an HDF5 file via `model.save()` or `keras.saving.save_model(model)`. This file format is considered legacy. We recommend using instead the native Keras format, e.g. `model.save('my_model.keras')` or `keras.saving.save_model(model, 'my_model.keras')`. \n"
     ]
    },
    {
     "name": "stdout",
     "output_type": "stream",
     "text": [
      "\n",
      "Epoch 64: val_loss improved from 0.13541 to 0.13333, saving model to 10Var-hpg-gru.h5\n"
     ]
    },
    {
     "name": "stderr",
     "output_type": "stream",
     "text": [
      "WARNING:absl:You are saving your model as an HDF5 file via `model.save()` or `keras.saving.save_model(model)`. This file format is considered legacy. We recommend using instead the native Keras format, e.g. `model.save('my_model.keras')` or `keras.saving.save_model(model, 'my_model.keras')`. \n"
     ]
    },
    {
     "name": "stdout",
     "output_type": "stream",
     "text": [
      "\n",
      "Epoch 65: val_loss improved from 0.13333 to 0.13303, saving model to 10Var-hpg-gru.h5\n"
     ]
    },
    {
     "name": "stderr",
     "output_type": "stream",
     "text": [
      "WARNING:absl:You are saving your model as an HDF5 file via `model.save()` or `keras.saving.save_model(model)`. This file format is considered legacy. We recommend using instead the native Keras format, e.g. `model.save('my_model.keras')` or `keras.saving.save_model(model, 'my_model.keras')`. \n"
     ]
    },
    {
     "name": "stdout",
     "output_type": "stream",
     "text": [
      "\n",
      "Epoch 66: val_loss improved from 0.13303 to 0.13103, saving model to 10Var-hpg-gru.h5\n"
     ]
    },
    {
     "name": "stderr",
     "output_type": "stream",
     "text": [
      "WARNING:absl:You are saving your model as an HDF5 file via `model.save()` or `keras.saving.save_model(model)`. This file format is considered legacy. We recommend using instead the native Keras format, e.g. `model.save('my_model.keras')` or `keras.saving.save_model(model, 'my_model.keras')`. \n"
     ]
    },
    {
     "name": "stdout",
     "output_type": "stream",
     "text": [
      "\n",
      "Epoch 67: val_loss improved from 0.13103 to 0.13077, saving model to 10Var-hpg-gru.h5\n"
     ]
    },
    {
     "name": "stderr",
     "output_type": "stream",
     "text": [
      "WARNING:absl:You are saving your model as an HDF5 file via `model.save()` or `keras.saving.save_model(model)`. This file format is considered legacy. We recommend using instead the native Keras format, e.g. `model.save('my_model.keras')` or `keras.saving.save_model(model, 'my_model.keras')`. \n"
     ]
    },
    {
     "name": "stdout",
     "output_type": "stream",
     "text": [
      "\n",
      "Epoch 68: val_loss improved from 0.13077 to 0.12865, saving model to 10Var-hpg-gru.h5\n"
     ]
    },
    {
     "name": "stderr",
     "output_type": "stream",
     "text": [
      "WARNING:absl:You are saving your model as an HDF5 file via `model.save()` or `keras.saving.save_model(model)`. This file format is considered legacy. We recommend using instead the native Keras format, e.g. `model.save('my_model.keras')` or `keras.saving.save_model(model, 'my_model.keras')`. \n"
     ]
    },
    {
     "name": "stdout",
     "output_type": "stream",
     "text": [
      "\n",
      "Epoch 69: val_loss improved from 0.12865 to 0.12846, saving model to 10Var-hpg-gru.h5\n"
     ]
    },
    {
     "name": "stderr",
     "output_type": "stream",
     "text": [
      "WARNING:absl:You are saving your model as an HDF5 file via `model.save()` or `keras.saving.save_model(model)`. This file format is considered legacy. We recommend using instead the native Keras format, e.g. `model.save('my_model.keras')` or `keras.saving.save_model(model, 'my_model.keras')`. \n"
     ]
    },
    {
     "name": "stdout",
     "output_type": "stream",
     "text": [
      "\n",
      "Epoch 70: val_loss improved from 0.12846 to 0.12653, saving model to 10Var-hpg-gru.h5\n"
     ]
    },
    {
     "name": "stderr",
     "output_type": "stream",
     "text": [
      "WARNING:absl:You are saving your model as an HDF5 file via `model.save()` or `keras.saving.save_model(model)`. This file format is considered legacy. We recommend using instead the native Keras format, e.g. `model.save('my_model.keras')` or `keras.saving.save_model(model, 'my_model.keras')`. \n"
     ]
    },
    {
     "name": "stdout",
     "output_type": "stream",
     "text": [
      "\n",
      "Epoch 71: val_loss improved from 0.12653 to 0.12634, saving model to 10Var-hpg-gru.h5\n"
     ]
    },
    {
     "name": "stderr",
     "output_type": "stream",
     "text": [
      "WARNING:absl:You are saving your model as an HDF5 file via `model.save()` or `keras.saving.save_model(model)`. This file format is considered legacy. We recommend using instead the native Keras format, e.g. `model.save('my_model.keras')` or `keras.saving.save_model(model, 'my_model.keras')`. \n"
     ]
    },
    {
     "name": "stdout",
     "output_type": "stream",
     "text": [
      "\n",
      "Epoch 72: val_loss improved from 0.12634 to 0.12454, saving model to 10Var-hpg-gru.h5\n"
     ]
    },
    {
     "name": "stderr",
     "output_type": "stream",
     "text": [
      "WARNING:absl:You are saving your model as an HDF5 file via `model.save()` or `keras.saving.save_model(model)`. This file format is considered legacy. We recommend using instead the native Keras format, e.g. `model.save('my_model.keras')` or `keras.saving.save_model(model, 'my_model.keras')`. \n"
     ]
    },
    {
     "name": "stdout",
     "output_type": "stream",
     "text": [
      "\n",
      "Epoch 73: val_loss did not improve from 0.12454\n",
      "\n",
      "Epoch 74: val_loss improved from 0.12454 to 0.12287, saving model to 10Var-hpg-gru.h5\n"
     ]
    },
    {
     "name": "stderr",
     "output_type": "stream",
     "text": [
      "WARNING:absl:You are saving your model as an HDF5 file via `model.save()` or `keras.saving.save_model(model)`. This file format is considered legacy. We recommend using instead the native Keras format, e.g. `model.save('my_model.keras')` or `keras.saving.save_model(model, 'my_model.keras')`. \n"
     ]
    },
    {
     "name": "stdout",
     "output_type": "stream",
     "text": [
      "\n",
      "Epoch 75: val_loss improved from 0.12287 to 0.12267, saving model to 10Var-hpg-gru.h5\n"
     ]
    },
    {
     "name": "stderr",
     "output_type": "stream",
     "text": [
      "WARNING:absl:You are saving your model as an HDF5 file via `model.save()` or `keras.saving.save_model(model)`. This file format is considered legacy. We recommend using instead the native Keras format, e.g. `model.save('my_model.keras')` or `keras.saving.save_model(model, 'my_model.keras')`. \n"
     ]
    },
    {
     "name": "stdout",
     "output_type": "stream",
     "text": [
      "\n",
      "Epoch 76: val_loss improved from 0.12267 to 0.12086, saving model to 10Var-hpg-gru.h5\n"
     ]
    },
    {
     "name": "stderr",
     "output_type": "stream",
     "text": [
      "WARNING:absl:You are saving your model as an HDF5 file via `model.save()` or `keras.saving.save_model(model)`. This file format is considered legacy. We recommend using instead the native Keras format, e.g. `model.save('my_model.keras')` or `keras.saving.save_model(model, 'my_model.keras')`. \n"
     ]
    },
    {
     "name": "stdout",
     "output_type": "stream",
     "text": [
      "\n",
      "Epoch 77: val_loss improved from 0.12086 to 0.12060, saving model to 10Var-hpg-gru.h5\n"
     ]
    },
    {
     "name": "stderr",
     "output_type": "stream",
     "text": [
      "WARNING:absl:You are saving your model as an HDF5 file via `model.save()` or `keras.saving.save_model(model)`. This file format is considered legacy. We recommend using instead the native Keras format, e.g. `model.save('my_model.keras')` or `keras.saving.save_model(model, 'my_model.keras')`. \n"
     ]
    },
    {
     "name": "stdout",
     "output_type": "stream",
     "text": [
      "\n",
      "Epoch 78: val_loss improved from 0.12060 to 0.11883, saving model to 10Var-hpg-gru.h5\n"
     ]
    },
    {
     "name": "stderr",
     "output_type": "stream",
     "text": [
      "WARNING:absl:You are saving your model as an HDF5 file via `model.save()` or `keras.saving.save_model(model)`. This file format is considered legacy. We recommend using instead the native Keras format, e.g. `model.save('my_model.keras')` or `keras.saving.save_model(model, 'my_model.keras')`. \n"
     ]
    },
    {
     "name": "stdout",
     "output_type": "stream",
     "text": [
      "\n",
      "Epoch 79: val_loss improved from 0.11883 to 0.11847, saving model to 10Var-hpg-gru.h5\n"
     ]
    },
    {
     "name": "stderr",
     "output_type": "stream",
     "text": [
      "WARNING:absl:You are saving your model as an HDF5 file via `model.save()` or `keras.saving.save_model(model)`. This file format is considered legacy. We recommend using instead the native Keras format, e.g. `model.save('my_model.keras')` or `keras.saving.save_model(model, 'my_model.keras')`. \n"
     ]
    },
    {
     "name": "stdout",
     "output_type": "stream",
     "text": [
      "\n",
      "Epoch 80: val_loss improved from 0.11847 to 0.11690, saving model to 10Var-hpg-gru.h5\n"
     ]
    },
    {
     "name": "stderr",
     "output_type": "stream",
     "text": [
      "WARNING:absl:You are saving your model as an HDF5 file via `model.save()` or `keras.saving.save_model(model)`. This file format is considered legacy. We recommend using instead the native Keras format, e.g. `model.save('my_model.keras')` or `keras.saving.save_model(model, 'my_model.keras')`. \n"
     ]
    },
    {
     "name": "stdout",
     "output_type": "stream",
     "text": [
      "\n",
      "Epoch 81: val_loss improved from 0.11690 to 0.11677, saving model to 10Var-hpg-gru.h5\n"
     ]
    },
    {
     "name": "stderr",
     "output_type": "stream",
     "text": [
      "WARNING:absl:You are saving your model as an HDF5 file via `model.save()` or `keras.saving.save_model(model)`. This file format is considered legacy. We recommend using instead the native Keras format, e.g. `model.save('my_model.keras')` or `keras.saving.save_model(model, 'my_model.keras')`. \n"
     ]
    },
    {
     "name": "stdout",
     "output_type": "stream",
     "text": [
      "\n",
      "Epoch 82: val_loss improved from 0.11677 to 0.11501, saving model to 10Var-hpg-gru.h5\n"
     ]
    },
    {
     "name": "stderr",
     "output_type": "stream",
     "text": [
      "WARNING:absl:You are saving your model as an HDF5 file via `model.save()` or `keras.saving.save_model(model)`. This file format is considered legacy. We recommend using instead the native Keras format, e.g. `model.save('my_model.keras')` or `keras.saving.save_model(model, 'my_model.keras')`. \n"
     ]
    },
    {
     "name": "stdout",
     "output_type": "stream",
     "text": [
      "\n",
      "Epoch 83: val_loss improved from 0.11501 to 0.11462, saving model to 10Var-hpg-gru.h5\n"
     ]
    },
    {
     "name": "stderr",
     "output_type": "stream",
     "text": [
      "WARNING:absl:You are saving your model as an HDF5 file via `model.save()` or `keras.saving.save_model(model)`. This file format is considered legacy. We recommend using instead the native Keras format, e.g. `model.save('my_model.keras')` or `keras.saving.save_model(model, 'my_model.keras')`. \n"
     ]
    },
    {
     "name": "stdout",
     "output_type": "stream",
     "text": [
      "\n",
      "Epoch 84: val_loss improved from 0.11462 to 0.11300, saving model to 10Var-hpg-gru.h5\n"
     ]
    },
    {
     "name": "stderr",
     "output_type": "stream",
     "text": [
      "WARNING:absl:You are saving your model as an HDF5 file via `model.save()` or `keras.saving.save_model(model)`. This file format is considered legacy. We recommend using instead the native Keras format, e.g. `model.save('my_model.keras')` or `keras.saving.save_model(model, 'my_model.keras')`. \n"
     ]
    },
    {
     "name": "stdout",
     "output_type": "stream",
     "text": [
      "\n",
      "Epoch 85: val_loss improved from 0.11300 to 0.11276, saving model to 10Var-hpg-gru.h5\n"
     ]
    },
    {
     "name": "stderr",
     "output_type": "stream",
     "text": [
      "WARNING:absl:You are saving your model as an HDF5 file via `model.save()` or `keras.saving.save_model(model)`. This file format is considered legacy. We recommend using instead the native Keras format, e.g. `model.save('my_model.keras')` or `keras.saving.save_model(model, 'my_model.keras')`. \n"
     ]
    },
    {
     "name": "stdout",
     "output_type": "stream",
     "text": [
      "\n",
      "Epoch 86: val_loss improved from 0.11276 to 0.11110, saving model to 10Var-hpg-gru.h5\n"
     ]
    },
    {
     "name": "stderr",
     "output_type": "stream",
     "text": [
      "WARNING:absl:You are saving your model as an HDF5 file via `model.save()` or `keras.saving.save_model(model)`. This file format is considered legacy. We recommend using instead the native Keras format, e.g. `model.save('my_model.keras')` or `keras.saving.save_model(model, 'my_model.keras')`. \n"
     ]
    },
    {
     "name": "stdout",
     "output_type": "stream",
     "text": [
      "\n",
      "Epoch 87: val_loss improved from 0.11110 to 0.11063, saving model to 10Var-hpg-gru.h5\n"
     ]
    },
    {
     "name": "stderr",
     "output_type": "stream",
     "text": [
      "WARNING:absl:You are saving your model as an HDF5 file via `model.save()` or `keras.saving.save_model(model)`. This file format is considered legacy. We recommend using instead the native Keras format, e.g. `model.save('my_model.keras')` or `keras.saving.save_model(model, 'my_model.keras')`. \n"
     ]
    },
    {
     "name": "stdout",
     "output_type": "stream",
     "text": [
      "\n",
      "Epoch 88: val_loss improved from 0.11063 to 0.10901, saving model to 10Var-hpg-gru.h5\n"
     ]
    },
    {
     "name": "stderr",
     "output_type": "stream",
     "text": [
      "WARNING:absl:You are saving your model as an HDF5 file via `model.save()` or `keras.saving.save_model(model)`. This file format is considered legacy. We recommend using instead the native Keras format, e.g. `model.save('my_model.keras')` or `keras.saving.save_model(model, 'my_model.keras')`. \n"
     ]
    },
    {
     "name": "stdout",
     "output_type": "stream",
     "text": [
      "\n",
      "Epoch 89: val_loss improved from 0.10901 to 0.10844, saving model to 10Var-hpg-gru.h5\n"
     ]
    },
    {
     "name": "stderr",
     "output_type": "stream",
     "text": [
      "WARNING:absl:You are saving your model as an HDF5 file via `model.save()` or `keras.saving.save_model(model)`. This file format is considered legacy. We recommend using instead the native Keras format, e.g. `model.save('my_model.keras')` or `keras.saving.save_model(model, 'my_model.keras')`. \n"
     ]
    },
    {
     "name": "stdout",
     "output_type": "stream",
     "text": [
      "\n",
      "Epoch 90: val_loss improved from 0.10844 to 0.10701, saving model to 10Var-hpg-gru.h5\n"
     ]
    },
    {
     "name": "stderr",
     "output_type": "stream",
     "text": [
      "WARNING:absl:You are saving your model as an HDF5 file via `model.save()` or `keras.saving.save_model(model)`. This file format is considered legacy. We recommend using instead the native Keras format, e.g. `model.save('my_model.keras')` or `keras.saving.save_model(model, 'my_model.keras')`. \n"
     ]
    },
    {
     "name": "stdout",
     "output_type": "stream",
     "text": [
      "\n",
      "Epoch 91: val_loss improved from 0.10701 to 0.10649, saving model to 10Var-hpg-gru.h5\n"
     ]
    },
    {
     "name": "stderr",
     "output_type": "stream",
     "text": [
      "WARNING:absl:You are saving your model as an HDF5 file via `model.save()` or `keras.saving.save_model(model)`. This file format is considered legacy. We recommend using instead the native Keras format, e.g. `model.save('my_model.keras')` or `keras.saving.save_model(model, 'my_model.keras')`. \n"
     ]
    },
    {
     "name": "stdout",
     "output_type": "stream",
     "text": [
      "\n",
      "Epoch 92: val_loss improved from 0.10649 to 0.10510, saving model to 10Var-hpg-gru.h5\n"
     ]
    },
    {
     "name": "stderr",
     "output_type": "stream",
     "text": [
      "WARNING:absl:You are saving your model as an HDF5 file via `model.save()` or `keras.saving.save_model(model)`. This file format is considered legacy. We recommend using instead the native Keras format, e.g. `model.save('my_model.keras')` or `keras.saving.save_model(model, 'my_model.keras')`. \n"
     ]
    },
    {
     "name": "stdout",
     "output_type": "stream",
     "text": [
      "\n",
      "Epoch 93: val_loss improved from 0.10510 to 0.10458, saving model to 10Var-hpg-gru.h5\n"
     ]
    },
    {
     "name": "stderr",
     "output_type": "stream",
     "text": [
      "WARNING:absl:You are saving your model as an HDF5 file via `model.save()` or `keras.saving.save_model(model)`. This file format is considered legacy. We recommend using instead the native Keras format, e.g. `model.save('my_model.keras')` or `keras.saving.save_model(model, 'my_model.keras')`. \n"
     ]
    },
    {
     "name": "stdout",
     "output_type": "stream",
     "text": [
      "\n",
      "Epoch 94: val_loss improved from 0.10458 to 0.10309, saving model to 10Var-hpg-gru.h5\n"
     ]
    },
    {
     "name": "stderr",
     "output_type": "stream",
     "text": [
      "WARNING:absl:You are saving your model as an HDF5 file via `model.save()` or `keras.saving.save_model(model)`. This file format is considered legacy. We recommend using instead the native Keras format, e.g. `model.save('my_model.keras')` or `keras.saving.save_model(model, 'my_model.keras')`. \n"
     ]
    },
    {
     "name": "stdout",
     "output_type": "stream",
     "text": [
      "\n",
      "Epoch 95: val_loss improved from 0.10309 to 0.10260, saving model to 10Var-hpg-gru.h5\n"
     ]
    },
    {
     "name": "stderr",
     "output_type": "stream",
     "text": [
      "WARNING:absl:You are saving your model as an HDF5 file via `model.save()` or `keras.saving.save_model(model)`. This file format is considered legacy. We recommend using instead the native Keras format, e.g. `model.save('my_model.keras')` or `keras.saving.save_model(model, 'my_model.keras')`. \n"
     ]
    },
    {
     "name": "stdout",
     "output_type": "stream",
     "text": [
      "\n",
      "Epoch 96: val_loss improved from 0.10260 to 0.10124, saving model to 10Var-hpg-gru.h5\n"
     ]
    },
    {
     "name": "stderr",
     "output_type": "stream",
     "text": [
      "WARNING:absl:You are saving your model as an HDF5 file via `model.save()` or `keras.saving.save_model(model)`. This file format is considered legacy. We recommend using instead the native Keras format, e.g. `model.save('my_model.keras')` or `keras.saving.save_model(model, 'my_model.keras')`. \n"
     ]
    },
    {
     "name": "stdout",
     "output_type": "stream",
     "text": [
      "\n",
      "Epoch 97: val_loss improved from 0.10124 to 0.10072, saving model to 10Var-hpg-gru.h5\n"
     ]
    },
    {
     "name": "stderr",
     "output_type": "stream",
     "text": [
      "WARNING:absl:You are saving your model as an HDF5 file via `model.save()` or `keras.saving.save_model(model)`. This file format is considered legacy. We recommend using instead the native Keras format, e.g. `model.save('my_model.keras')` or `keras.saving.save_model(model, 'my_model.keras')`. \n"
     ]
    },
    {
     "name": "stdout",
     "output_type": "stream",
     "text": [
      "\n",
      "Epoch 98: val_loss improved from 0.10072 to 0.09920, saving model to 10Var-hpg-gru.h5\n"
     ]
    },
    {
     "name": "stderr",
     "output_type": "stream",
     "text": [
      "WARNING:absl:You are saving your model as an HDF5 file via `model.save()` or `keras.saving.save_model(model)`. This file format is considered legacy. We recommend using instead the native Keras format, e.g. `model.save('my_model.keras')` or `keras.saving.save_model(model, 'my_model.keras')`. \n"
     ]
    },
    {
     "name": "stdout",
     "output_type": "stream",
     "text": [
      "\n",
      "Epoch 99: val_loss improved from 0.09920 to 0.09882, saving model to 10Var-hpg-gru.h5\n"
     ]
    },
    {
     "name": "stderr",
     "output_type": "stream",
     "text": [
      "WARNING:absl:You are saving your model as an HDF5 file via `model.save()` or `keras.saving.save_model(model)`. This file format is considered legacy. We recommend using instead the native Keras format, e.g. `model.save('my_model.keras')` or `keras.saving.save_model(model, 'my_model.keras')`. \n"
     ]
    },
    {
     "name": "stdout",
     "output_type": "stream",
     "text": [
      "\n",
      "Epoch 100: val_loss improved from 0.09882 to 0.09716, saving model to 10Var-hpg-gru.h5\n"
     ]
    },
    {
     "name": "stderr",
     "output_type": "stream",
     "text": [
      "WARNING:absl:You are saving your model as an HDF5 file via `model.save()` or `keras.saving.save_model(model)`. This file format is considered legacy. We recommend using instead the native Keras format, e.g. `model.save('my_model.keras')` or `keras.saving.save_model(model, 'my_model.keras')`. \n"
     ]
    },
    {
     "name": "stdout",
     "output_type": "stream",
     "text": [
      "\n",
      "Epoch 101: val_loss improved from 0.09716 to 0.09658, saving model to 10Var-hpg-gru.h5\n"
     ]
    },
    {
     "name": "stderr",
     "output_type": "stream",
     "text": [
      "WARNING:absl:You are saving your model as an HDF5 file via `model.save()` or `keras.saving.save_model(model)`. This file format is considered legacy. We recommend using instead the native Keras format, e.g. `model.save('my_model.keras')` or `keras.saving.save_model(model, 'my_model.keras')`. \n"
     ]
    },
    {
     "name": "stdout",
     "output_type": "stream",
     "text": [
      "\n",
      "Epoch 102: val_loss improved from 0.09658 to 0.09515, saving model to 10Var-hpg-gru.h5\n"
     ]
    },
    {
     "name": "stderr",
     "output_type": "stream",
     "text": [
      "WARNING:absl:You are saving your model as an HDF5 file via `model.save()` or `keras.saving.save_model(model)`. This file format is considered legacy. We recommend using instead the native Keras format, e.g. `model.save('my_model.keras')` or `keras.saving.save_model(model, 'my_model.keras')`. \n"
     ]
    },
    {
     "name": "stdout",
     "output_type": "stream",
     "text": [
      "\n",
      "Epoch 103: val_loss improved from 0.09515 to 0.09456, saving model to 10Var-hpg-gru.h5\n"
     ]
    },
    {
     "name": "stderr",
     "output_type": "stream",
     "text": [
      "WARNING:absl:You are saving your model as an HDF5 file via `model.save()` or `keras.saving.save_model(model)`. This file format is considered legacy. We recommend using instead the native Keras format, e.g. `model.save('my_model.keras')` or `keras.saving.save_model(model, 'my_model.keras')`. \n"
     ]
    },
    {
     "name": "stdout",
     "output_type": "stream",
     "text": [
      "\n",
      "Epoch 104: val_loss improved from 0.09456 to 0.09307, saving model to 10Var-hpg-gru.h5\n"
     ]
    },
    {
     "name": "stderr",
     "output_type": "stream",
     "text": [
      "WARNING:absl:You are saving your model as an HDF5 file via `model.save()` or `keras.saving.save_model(model)`. This file format is considered legacy. We recommend using instead the native Keras format, e.g. `model.save('my_model.keras')` or `keras.saving.save_model(model, 'my_model.keras')`. \n"
     ]
    },
    {
     "name": "stdout",
     "output_type": "stream",
     "text": [
      "\n",
      "Epoch 105: val_loss improved from 0.09307 to 0.09245, saving model to 10Var-hpg-gru.h5\n"
     ]
    },
    {
     "name": "stderr",
     "output_type": "stream",
     "text": [
      "WARNING:absl:You are saving your model as an HDF5 file via `model.save()` or `keras.saving.save_model(model)`. This file format is considered legacy. We recommend using instead the native Keras format, e.g. `model.save('my_model.keras')` or `keras.saving.save_model(model, 'my_model.keras')`. \n"
     ]
    },
    {
     "name": "stdout",
     "output_type": "stream",
     "text": [
      "\n",
      "Epoch 106: val_loss improved from 0.09245 to 0.09104, saving model to 10Var-hpg-gru.h5\n"
     ]
    },
    {
     "name": "stderr",
     "output_type": "stream",
     "text": [
      "WARNING:absl:You are saving your model as an HDF5 file via `model.save()` or `keras.saving.save_model(model)`. This file format is considered legacy. We recommend using instead the native Keras format, e.g. `model.save('my_model.keras')` or `keras.saving.save_model(model, 'my_model.keras')`. \n"
     ]
    },
    {
     "name": "stdout",
     "output_type": "stream",
     "text": [
      "\n",
      "Epoch 107: val_loss improved from 0.09104 to 0.09038, saving model to 10Var-hpg-gru.h5\n"
     ]
    },
    {
     "name": "stderr",
     "output_type": "stream",
     "text": [
      "WARNING:absl:You are saving your model as an HDF5 file via `model.save()` or `keras.saving.save_model(model)`. This file format is considered legacy. We recommend using instead the native Keras format, e.g. `model.save('my_model.keras')` or `keras.saving.save_model(model, 'my_model.keras')`. \n"
     ]
    },
    {
     "name": "stdout",
     "output_type": "stream",
     "text": [
      "\n",
      "Epoch 108: val_loss improved from 0.09038 to 0.08905, saving model to 10Var-hpg-gru.h5\n"
     ]
    },
    {
     "name": "stderr",
     "output_type": "stream",
     "text": [
      "WARNING:absl:You are saving your model as an HDF5 file via `model.save()` or `keras.saving.save_model(model)`. This file format is considered legacy. We recommend using instead the native Keras format, e.g. `model.save('my_model.keras')` or `keras.saving.save_model(model, 'my_model.keras')`. \n"
     ]
    },
    {
     "name": "stdout",
     "output_type": "stream",
     "text": [
      "\n",
      "Epoch 109: val_loss improved from 0.08905 to 0.08832, saving model to 10Var-hpg-gru.h5\n"
     ]
    },
    {
     "name": "stderr",
     "output_type": "stream",
     "text": [
      "WARNING:absl:You are saving your model as an HDF5 file via `model.save()` or `keras.saving.save_model(model)`. This file format is considered legacy. We recommend using instead the native Keras format, e.g. `model.save('my_model.keras')` or `keras.saving.save_model(model, 'my_model.keras')`. \n"
     ]
    },
    {
     "name": "stdout",
     "output_type": "stream",
     "text": [
      "\n",
      "Epoch 110: val_loss improved from 0.08832 to 0.08702, saving model to 10Var-hpg-gru.h5\n"
     ]
    },
    {
     "name": "stderr",
     "output_type": "stream",
     "text": [
      "WARNING:absl:You are saving your model as an HDF5 file via `model.save()` or `keras.saving.save_model(model)`. This file format is considered legacy. We recommend using instead the native Keras format, e.g. `model.save('my_model.keras')` or `keras.saving.save_model(model, 'my_model.keras')`. \n"
     ]
    },
    {
     "name": "stdout",
     "output_type": "stream",
     "text": [
      "\n",
      "Epoch 111: val_loss improved from 0.08702 to 0.08649, saving model to 10Var-hpg-gru.h5\n"
     ]
    },
    {
     "name": "stderr",
     "output_type": "stream",
     "text": [
      "WARNING:absl:You are saving your model as an HDF5 file via `model.save()` or `keras.saving.save_model(model)`. This file format is considered legacy. We recommend using instead the native Keras format, e.g. `model.save('my_model.keras')` or `keras.saving.save_model(model, 'my_model.keras')`. \n"
     ]
    },
    {
     "name": "stdout",
     "output_type": "stream",
     "text": [
      "\n",
      "Epoch 112: val_loss improved from 0.08649 to 0.08517, saving model to 10Var-hpg-gru.h5\n"
     ]
    },
    {
     "name": "stderr",
     "output_type": "stream",
     "text": [
      "WARNING:absl:You are saving your model as an HDF5 file via `model.save()` or `keras.saving.save_model(model)`. This file format is considered legacy. We recommend using instead the native Keras format, e.g. `model.save('my_model.keras')` or `keras.saving.save_model(model, 'my_model.keras')`. \n"
     ]
    },
    {
     "name": "stdout",
     "output_type": "stream",
     "text": [
      "\n",
      "Epoch 113: val_loss improved from 0.08517 to 0.08461, saving model to 10Var-hpg-gru.h5\n"
     ]
    },
    {
     "name": "stderr",
     "output_type": "stream",
     "text": [
      "WARNING:absl:You are saving your model as an HDF5 file via `model.save()` or `keras.saving.save_model(model)`. This file format is considered legacy. We recommend using instead the native Keras format, e.g. `model.save('my_model.keras')` or `keras.saving.save_model(model, 'my_model.keras')`. \n"
     ]
    },
    {
     "name": "stdout",
     "output_type": "stream",
     "text": [
      "\n",
      "Epoch 114: val_loss improved from 0.08461 to 0.08343, saving model to 10Var-hpg-gru.h5\n"
     ]
    },
    {
     "name": "stderr",
     "output_type": "stream",
     "text": [
      "WARNING:absl:You are saving your model as an HDF5 file via `model.save()` or `keras.saving.save_model(model)`. This file format is considered legacy. We recommend using instead the native Keras format, e.g. `model.save('my_model.keras')` or `keras.saving.save_model(model, 'my_model.keras')`. \n"
     ]
    },
    {
     "name": "stdout",
     "output_type": "stream",
     "text": [
      "\n",
      "Epoch 115: val_loss improved from 0.08343 to 0.08217, saving model to 10Var-hpg-gru.h5\n"
     ]
    },
    {
     "name": "stderr",
     "output_type": "stream",
     "text": [
      "WARNING:absl:You are saving your model as an HDF5 file via `model.save()` or `keras.saving.save_model(model)`. This file format is considered legacy. We recommend using instead the native Keras format, e.g. `model.save('my_model.keras')` or `keras.saving.save_model(model, 'my_model.keras')`. \n"
     ]
    },
    {
     "name": "stdout",
     "output_type": "stream",
     "text": [
      "\n",
      "Epoch 116: val_loss improved from 0.08217 to 0.08090, saving model to 10Var-hpg-gru.h5\n"
     ]
    },
    {
     "name": "stderr",
     "output_type": "stream",
     "text": [
      "WARNING:absl:You are saving your model as an HDF5 file via `model.save()` or `keras.saving.save_model(model)`. This file format is considered legacy. We recommend using instead the native Keras format, e.g. `model.save('my_model.keras')` or `keras.saving.save_model(model, 'my_model.keras')`. \n"
     ]
    },
    {
     "name": "stdout",
     "output_type": "stream",
     "text": [
      "\n",
      "Epoch 117: val_loss improved from 0.08090 to 0.08033, saving model to 10Var-hpg-gru.h5\n"
     ]
    },
    {
     "name": "stderr",
     "output_type": "stream",
     "text": [
      "WARNING:absl:You are saving your model as an HDF5 file via `model.save()` or `keras.saving.save_model(model)`. This file format is considered legacy. We recommend using instead the native Keras format, e.g. `model.save('my_model.keras')` or `keras.saving.save_model(model, 'my_model.keras')`. \n"
     ]
    },
    {
     "name": "stdout",
     "output_type": "stream",
     "text": [
      "\n",
      "Epoch 118: val_loss improved from 0.08033 to 0.07939, saving model to 10Var-hpg-gru.h5\n"
     ]
    },
    {
     "name": "stderr",
     "output_type": "stream",
     "text": [
      "WARNING:absl:You are saving your model as an HDF5 file via `model.save()` or `keras.saving.save_model(model)`. This file format is considered legacy. We recommend using instead the native Keras format, e.g. `model.save('my_model.keras')` or `keras.saving.save_model(model, 'my_model.keras')`. \n"
     ]
    },
    {
     "name": "stdout",
     "output_type": "stream",
     "text": [
      "\n",
      "Epoch 119: val_loss improved from 0.07939 to 0.07833, saving model to 10Var-hpg-gru.h5\n"
     ]
    },
    {
     "name": "stderr",
     "output_type": "stream",
     "text": [
      "WARNING:absl:You are saving your model as an HDF5 file via `model.save()` or `keras.saving.save_model(model)`. This file format is considered legacy. We recommend using instead the native Keras format, e.g. `model.save('my_model.keras')` or `keras.saving.save_model(model, 'my_model.keras')`. \n"
     ]
    },
    {
     "name": "stdout",
     "output_type": "stream",
     "text": [
      "\n",
      "Epoch 120: val_loss improved from 0.07833 to 0.07733, saving model to 10Var-hpg-gru.h5\n"
     ]
    },
    {
     "name": "stderr",
     "output_type": "stream",
     "text": [
      "WARNING:absl:You are saving your model as an HDF5 file via `model.save()` or `keras.saving.save_model(model)`. This file format is considered legacy. We recommend using instead the native Keras format, e.g. `model.save('my_model.keras')` or `keras.saving.save_model(model, 'my_model.keras')`. \n"
     ]
    },
    {
     "name": "stdout",
     "output_type": "stream",
     "text": [
      "\n",
      "Epoch 121: val_loss improved from 0.07733 to 0.07610, saving model to 10Var-hpg-gru.h5\n"
     ]
    },
    {
     "name": "stderr",
     "output_type": "stream",
     "text": [
      "WARNING:absl:You are saving your model as an HDF5 file via `model.save()` or `keras.saving.save_model(model)`. This file format is considered legacy. We recommend using instead the native Keras format, e.g. `model.save('my_model.keras')` or `keras.saving.save_model(model, 'my_model.keras')`. \n"
     ]
    },
    {
     "name": "stdout",
     "output_type": "stream",
     "text": [
      "\n",
      "Epoch 122: val_loss improved from 0.07610 to 0.07523, saving model to 10Var-hpg-gru.h5\n"
     ]
    },
    {
     "name": "stderr",
     "output_type": "stream",
     "text": [
      "WARNING:absl:You are saving your model as an HDF5 file via `model.save()` or `keras.saving.save_model(model)`. This file format is considered legacy. We recommend using instead the native Keras format, e.g. `model.save('my_model.keras')` or `keras.saving.save_model(model, 'my_model.keras')`. \n"
     ]
    },
    {
     "name": "stdout",
     "output_type": "stream",
     "text": [
      "\n",
      "Epoch 123: val_loss improved from 0.07523 to 0.07402, saving model to 10Var-hpg-gru.h5\n"
     ]
    },
    {
     "name": "stderr",
     "output_type": "stream",
     "text": [
      "WARNING:absl:You are saving your model as an HDF5 file via `model.save()` or `keras.saving.save_model(model)`. This file format is considered legacy. We recommend using instead the native Keras format, e.g. `model.save('my_model.keras')` or `keras.saving.save_model(model, 'my_model.keras')`. \n"
     ]
    },
    {
     "name": "stdout",
     "output_type": "stream",
     "text": [
      "\n",
      "Epoch 124: val_loss improved from 0.07402 to 0.07304, saving model to 10Var-hpg-gru.h5\n"
     ]
    },
    {
     "name": "stderr",
     "output_type": "stream",
     "text": [
      "WARNING:absl:You are saving your model as an HDF5 file via `model.save()` or `keras.saving.save_model(model)`. This file format is considered legacy. We recommend using instead the native Keras format, e.g. `model.save('my_model.keras')` or `keras.saving.save_model(model, 'my_model.keras')`. \n"
     ]
    },
    {
     "name": "stdout",
     "output_type": "stream",
     "text": [
      "\n",
      "Epoch 125: val_loss improved from 0.07304 to 0.07264, saving model to 10Var-hpg-gru.h5\n"
     ]
    },
    {
     "name": "stderr",
     "output_type": "stream",
     "text": [
      "WARNING:absl:You are saving your model as an HDF5 file via `model.save()` or `keras.saving.save_model(model)`. This file format is considered legacy. We recommend using instead the native Keras format, e.g. `model.save('my_model.keras')` or `keras.saving.save_model(model, 'my_model.keras')`. \n"
     ]
    },
    {
     "name": "stdout",
     "output_type": "stream",
     "text": [
      "\n",
      "Epoch 126: val_loss improved from 0.07264 to 0.07148, saving model to 10Var-hpg-gru.h5\n"
     ]
    },
    {
     "name": "stderr",
     "output_type": "stream",
     "text": [
      "WARNING:absl:You are saving your model as an HDF5 file via `model.save()` or `keras.saving.save_model(model)`. This file format is considered legacy. We recommend using instead the native Keras format, e.g. `model.save('my_model.keras')` or `keras.saving.save_model(model, 'my_model.keras')`. \n"
     ]
    },
    {
     "name": "stdout",
     "output_type": "stream",
     "text": [
      "\n",
      "Epoch 127: val_loss improved from 0.07148 to 0.07121, saving model to 10Var-hpg-gru.h5\n"
     ]
    },
    {
     "name": "stderr",
     "output_type": "stream",
     "text": [
      "WARNING:absl:You are saving your model as an HDF5 file via `model.save()` or `keras.saving.save_model(model)`. This file format is considered legacy. We recommend using instead the native Keras format, e.g. `model.save('my_model.keras')` or `keras.saving.save_model(model, 'my_model.keras')`. \n"
     ]
    },
    {
     "name": "stdout",
     "output_type": "stream",
     "text": [
      "\n",
      "Epoch 128: val_loss improved from 0.07121 to 0.06978, saving model to 10Var-hpg-gru.h5\n"
     ]
    },
    {
     "name": "stderr",
     "output_type": "stream",
     "text": [
      "WARNING:absl:You are saving your model as an HDF5 file via `model.save()` or `keras.saving.save_model(model)`. This file format is considered legacy. We recommend using instead the native Keras format, e.g. `model.save('my_model.keras')` or `keras.saving.save_model(model, 'my_model.keras')`. \n"
     ]
    },
    {
     "name": "stdout",
     "output_type": "stream",
     "text": [
      "\n",
      "Epoch 129: val_loss improved from 0.06978 to 0.06937, saving model to 10Var-hpg-gru.h5\n"
     ]
    },
    {
     "name": "stderr",
     "output_type": "stream",
     "text": [
      "WARNING:absl:You are saving your model as an HDF5 file via `model.save()` or `keras.saving.save_model(model)`. This file format is considered legacy. We recommend using instead the native Keras format, e.g. `model.save('my_model.keras')` or `keras.saving.save_model(model, 'my_model.keras')`. \n"
     ]
    },
    {
     "name": "stdout",
     "output_type": "stream",
     "text": [
      "\n",
      "Epoch 130: val_loss improved from 0.06937 to 0.06809, saving model to 10Var-hpg-gru.h5\n"
     ]
    },
    {
     "name": "stderr",
     "output_type": "stream",
     "text": [
      "WARNING:absl:You are saving your model as an HDF5 file via `model.save()` or `keras.saving.save_model(model)`. This file format is considered legacy. We recommend using instead the native Keras format, e.g. `model.save('my_model.keras')` or `keras.saving.save_model(model, 'my_model.keras')`. \n"
     ]
    },
    {
     "name": "stdout",
     "output_type": "stream",
     "text": [
      "\n",
      "Epoch 131: val_loss improved from 0.06809 to 0.06737, saving model to 10Var-hpg-gru.h5\n"
     ]
    },
    {
     "name": "stderr",
     "output_type": "stream",
     "text": [
      "WARNING:absl:You are saving your model as an HDF5 file via `model.save()` or `keras.saving.save_model(model)`. This file format is considered legacy. We recommend using instead the native Keras format, e.g. `model.save('my_model.keras')` or `keras.saving.save_model(model, 'my_model.keras')`. \n"
     ]
    },
    {
     "name": "stdout",
     "output_type": "stream",
     "text": [
      "\n",
      "Epoch 132: val_loss improved from 0.06737 to 0.06631, saving model to 10Var-hpg-gru.h5\n"
     ]
    },
    {
     "name": "stderr",
     "output_type": "stream",
     "text": [
      "WARNING:absl:You are saving your model as an HDF5 file via `model.save()` or `keras.saving.save_model(model)`. This file format is considered legacy. We recommend using instead the native Keras format, e.g. `model.save('my_model.keras')` or `keras.saving.save_model(model, 'my_model.keras')`. \n"
     ]
    },
    {
     "name": "stdout",
     "output_type": "stream",
     "text": [
      "\n",
      "Epoch 133: val_loss improved from 0.06631 to 0.06521, saving model to 10Var-hpg-gru.h5\n"
     ]
    },
    {
     "name": "stderr",
     "output_type": "stream",
     "text": [
      "WARNING:absl:You are saving your model as an HDF5 file via `model.save()` or `keras.saving.save_model(model)`. This file format is considered legacy. We recommend using instead the native Keras format, e.g. `model.save('my_model.keras')` or `keras.saving.save_model(model, 'my_model.keras')`. \n"
     ]
    },
    {
     "name": "stdout",
     "output_type": "stream",
     "text": [
      "\n",
      "Epoch 134: val_loss improved from 0.06521 to 0.06380, saving model to 10Var-hpg-gru.h5\n"
     ]
    },
    {
     "name": "stderr",
     "output_type": "stream",
     "text": [
      "WARNING:absl:You are saving your model as an HDF5 file via `model.save()` or `keras.saving.save_model(model)`. This file format is considered legacy. We recommend using instead the native Keras format, e.g. `model.save('my_model.keras')` or `keras.saving.save_model(model, 'my_model.keras')`. \n"
     ]
    },
    {
     "name": "stdout",
     "output_type": "stream",
     "text": [
      "\n",
      "Epoch 135: val_loss improved from 0.06380 to 0.06269, saving model to 10Var-hpg-gru.h5\n"
     ]
    },
    {
     "name": "stderr",
     "output_type": "stream",
     "text": [
      "WARNING:absl:You are saving your model as an HDF5 file via `model.save()` or `keras.saving.save_model(model)`. This file format is considered legacy. We recommend using instead the native Keras format, e.g. `model.save('my_model.keras')` or `keras.saving.save_model(model, 'my_model.keras')`. \n"
     ]
    },
    {
     "name": "stdout",
     "output_type": "stream",
     "text": [
      "\n",
      "Epoch 136: val_loss improved from 0.06269 to 0.06181, saving model to 10Var-hpg-gru.h5\n"
     ]
    },
    {
     "name": "stderr",
     "output_type": "stream",
     "text": [
      "WARNING:absl:You are saving your model as an HDF5 file via `model.save()` or `keras.saving.save_model(model)`. This file format is considered legacy. We recommend using instead the native Keras format, e.g. `model.save('my_model.keras')` or `keras.saving.save_model(model, 'my_model.keras')`. \n"
     ]
    },
    {
     "name": "stdout",
     "output_type": "stream",
     "text": [
      "\n",
      "Epoch 137: val_loss improved from 0.06181 to 0.06024, saving model to 10Var-hpg-gru.h5\n"
     ]
    },
    {
     "name": "stderr",
     "output_type": "stream",
     "text": [
      "WARNING:absl:You are saving your model as an HDF5 file via `model.save()` or `keras.saving.save_model(model)`. This file format is considered legacy. We recommend using instead the native Keras format, e.g. `model.save('my_model.keras')` or `keras.saving.save_model(model, 'my_model.keras')`. \n"
     ]
    },
    {
     "name": "stdout",
     "output_type": "stream",
     "text": [
      "\n",
      "Epoch 138: val_loss improved from 0.06024 to 0.05953, saving model to 10Var-hpg-gru.h5\n"
     ]
    },
    {
     "name": "stderr",
     "output_type": "stream",
     "text": [
      "WARNING:absl:You are saving your model as an HDF5 file via `model.save()` or `keras.saving.save_model(model)`. This file format is considered legacy. We recommend using instead the native Keras format, e.g. `model.save('my_model.keras')` or `keras.saving.save_model(model, 'my_model.keras')`. \n"
     ]
    },
    {
     "name": "stdout",
     "output_type": "stream",
     "text": [
      "\n",
      "Epoch 139: val_loss improved from 0.05953 to 0.05815, saving model to 10Var-hpg-gru.h5\n"
     ]
    },
    {
     "name": "stderr",
     "output_type": "stream",
     "text": [
      "WARNING:absl:You are saving your model as an HDF5 file via `model.save()` or `keras.saving.save_model(model)`. This file format is considered legacy. We recommend using instead the native Keras format, e.g. `model.save('my_model.keras')` or `keras.saving.save_model(model, 'my_model.keras')`. \n"
     ]
    },
    {
     "name": "stdout",
     "output_type": "stream",
     "text": [
      "\n",
      "Epoch 140: val_loss improved from 0.05815 to 0.05705, saving model to 10Var-hpg-gru.h5\n"
     ]
    },
    {
     "name": "stderr",
     "output_type": "stream",
     "text": [
      "WARNING:absl:You are saving your model as an HDF5 file via `model.save()` or `keras.saving.save_model(model)`. This file format is considered legacy. We recommend using instead the native Keras format, e.g. `model.save('my_model.keras')` or `keras.saving.save_model(model, 'my_model.keras')`. \n"
     ]
    },
    {
     "name": "stdout",
     "output_type": "stream",
     "text": [
      "\n",
      "Epoch 141: val_loss improved from 0.05705 to 0.05585, saving model to 10Var-hpg-gru.h5\n"
     ]
    },
    {
     "name": "stderr",
     "output_type": "stream",
     "text": [
      "WARNING:absl:You are saving your model as an HDF5 file via `model.save()` or `keras.saving.save_model(model)`. This file format is considered legacy. We recommend using instead the native Keras format, e.g. `model.save('my_model.keras')` or `keras.saving.save_model(model, 'my_model.keras')`. \n"
     ]
    },
    {
     "name": "stdout",
     "output_type": "stream",
     "text": [
      "\n",
      "Epoch 142: val_loss improved from 0.05585 to 0.05484, saving model to 10Var-hpg-gru.h5\n"
     ]
    },
    {
     "name": "stderr",
     "output_type": "stream",
     "text": [
      "WARNING:absl:You are saving your model as an HDF5 file via `model.save()` or `keras.saving.save_model(model)`. This file format is considered legacy. We recommend using instead the native Keras format, e.g. `model.save('my_model.keras')` or `keras.saving.save_model(model, 'my_model.keras')`. \n"
     ]
    },
    {
     "name": "stdout",
     "output_type": "stream",
     "text": [
      "\n",
      "Epoch 143: val_loss improved from 0.05484 to 0.05370, saving model to 10Var-hpg-gru.h5\n"
     ]
    },
    {
     "name": "stderr",
     "output_type": "stream",
     "text": [
      "WARNING:absl:You are saving your model as an HDF5 file via `model.save()` or `keras.saving.save_model(model)`. This file format is considered legacy. We recommend using instead the native Keras format, e.g. `model.save('my_model.keras')` or `keras.saving.save_model(model, 'my_model.keras')`. \n"
     ]
    },
    {
     "name": "stdout",
     "output_type": "stream",
     "text": [
      "\n",
      "Epoch 144: val_loss improved from 0.05370 to 0.05323, saving model to 10Var-hpg-gru.h5\n"
     ]
    },
    {
     "name": "stderr",
     "output_type": "stream",
     "text": [
      "WARNING:absl:You are saving your model as an HDF5 file via `model.save()` or `keras.saving.save_model(model)`. This file format is considered legacy. We recommend using instead the native Keras format, e.g. `model.save('my_model.keras')` or `keras.saving.save_model(model, 'my_model.keras')`. \n"
     ]
    },
    {
     "name": "stdout",
     "output_type": "stream",
     "text": [
      "\n",
      "Epoch 145: val_loss improved from 0.05323 to 0.05202, saving model to 10Var-hpg-gru.h5\n"
     ]
    },
    {
     "name": "stderr",
     "output_type": "stream",
     "text": [
      "WARNING:absl:You are saving your model as an HDF5 file via `model.save()` or `keras.saving.save_model(model)`. This file format is considered legacy. We recommend using instead the native Keras format, e.g. `model.save('my_model.keras')` or `keras.saving.save_model(model, 'my_model.keras')`. \n"
     ]
    },
    {
     "name": "stdout",
     "output_type": "stream",
     "text": [
      "\n",
      "Epoch 146: val_loss did not improve from 0.05202\n",
      "\n",
      "Epoch 147: val_loss improved from 0.05202 to 0.05085, saving model to 10Var-hpg-gru.h5\n"
     ]
    },
    {
     "name": "stderr",
     "output_type": "stream",
     "text": [
      "WARNING:absl:You are saving your model as an HDF5 file via `model.save()` or `keras.saving.save_model(model)`. This file format is considered legacy. We recommend using instead the native Keras format, e.g. `model.save('my_model.keras')` or `keras.saving.save_model(model, 'my_model.keras')`. \n"
     ]
    },
    {
     "name": "stdout",
     "output_type": "stream",
     "text": [
      "\n",
      "Epoch 148: val_loss improved from 0.05085 to 0.04986, saving model to 10Var-hpg-gru.h5\n"
     ]
    },
    {
     "name": "stderr",
     "output_type": "stream",
     "text": [
      "WARNING:absl:You are saving your model as an HDF5 file via `model.save()` or `keras.saving.save_model(model)`. This file format is considered legacy. We recommend using instead the native Keras format, e.g. `model.save('my_model.keras')` or `keras.saving.save_model(model, 'my_model.keras')`. \n"
     ]
    },
    {
     "name": "stdout",
     "output_type": "stream",
     "text": [
      "\n",
      "Epoch 149: val_loss improved from 0.04986 to 0.04894, saving model to 10Var-hpg-gru.h5\n"
     ]
    },
    {
     "name": "stderr",
     "output_type": "stream",
     "text": [
      "WARNING:absl:You are saving your model as an HDF5 file via `model.save()` or `keras.saving.save_model(model)`. This file format is considered legacy. We recommend using instead the native Keras format, e.g. `model.save('my_model.keras')` or `keras.saving.save_model(model, 'my_model.keras')`. \n"
     ]
    },
    {
     "name": "stdout",
     "output_type": "stream",
     "text": [
      "\n",
      "Epoch 150: val_loss improved from 0.04894 to 0.04800, saving model to 10Var-hpg-gru.h5\n"
     ]
    },
    {
     "name": "stderr",
     "output_type": "stream",
     "text": [
      "WARNING:absl:You are saving your model as an HDF5 file via `model.save()` or `keras.saving.save_model(model)`. This file format is considered legacy. We recommend using instead the native Keras format, e.g. `model.save('my_model.keras')` or `keras.saving.save_model(model, 'my_model.keras')`. \n"
     ]
    },
    {
     "name": "stdout",
     "output_type": "stream",
     "text": [
      "\n",
      "Epoch 151: val_loss improved from 0.04800 to 0.04649, saving model to 10Var-hpg-gru.h5\n"
     ]
    },
    {
     "name": "stderr",
     "output_type": "stream",
     "text": [
      "WARNING:absl:You are saving your model as an HDF5 file via `model.save()` or `keras.saving.save_model(model)`. This file format is considered legacy. We recommend using instead the native Keras format, e.g. `model.save('my_model.keras')` or `keras.saving.save_model(model, 'my_model.keras')`. \n"
     ]
    },
    {
     "name": "stdout",
     "output_type": "stream",
     "text": [
      "\n",
      "Epoch 152: val_loss improved from 0.04649 to 0.04483, saving model to 10Var-hpg-gru.h5\n"
     ]
    },
    {
     "name": "stderr",
     "output_type": "stream",
     "text": [
      "WARNING:absl:You are saving your model as an HDF5 file via `model.save()` or `keras.saving.save_model(model)`. This file format is considered legacy. We recommend using instead the native Keras format, e.g. `model.save('my_model.keras')` or `keras.saving.save_model(model, 'my_model.keras')`. \n"
     ]
    },
    {
     "name": "stdout",
     "output_type": "stream",
     "text": [
      "\n",
      "Epoch 153: val_loss improved from 0.04483 to 0.04392, saving model to 10Var-hpg-gru.h5\n"
     ]
    },
    {
     "name": "stderr",
     "output_type": "stream",
     "text": [
      "WARNING:absl:You are saving your model as an HDF5 file via `model.save()` or `keras.saving.save_model(model)`. This file format is considered legacy. We recommend using instead the native Keras format, e.g. `model.save('my_model.keras')` or `keras.saving.save_model(model, 'my_model.keras')`. \n"
     ]
    },
    {
     "name": "stdout",
     "output_type": "stream",
     "text": [
      "\n",
      "Epoch 154: val_loss improved from 0.04392 to 0.04288, saving model to 10Var-hpg-gru.h5\n"
     ]
    },
    {
     "name": "stderr",
     "output_type": "stream",
     "text": [
      "WARNING:absl:You are saving your model as an HDF5 file via `model.save()` or `keras.saving.save_model(model)`. This file format is considered legacy. We recommend using instead the native Keras format, e.g. `model.save('my_model.keras')` or `keras.saving.save_model(model, 'my_model.keras')`. \n"
     ]
    },
    {
     "name": "stdout",
     "output_type": "stream",
     "text": [
      "\n",
      "Epoch 155: val_loss improved from 0.04288 to 0.04232, saving model to 10Var-hpg-gru.h5\n"
     ]
    },
    {
     "name": "stderr",
     "output_type": "stream",
     "text": [
      "WARNING:absl:You are saving your model as an HDF5 file via `model.save()` or `keras.saving.save_model(model)`. This file format is considered legacy. We recommend using instead the native Keras format, e.g. `model.save('my_model.keras')` or `keras.saving.save_model(model, 'my_model.keras')`. \n"
     ]
    },
    {
     "name": "stdout",
     "output_type": "stream",
     "text": [
      "\n",
      "Epoch 156: val_loss improved from 0.04232 to 0.04121, saving model to 10Var-hpg-gru.h5\n"
     ]
    },
    {
     "name": "stderr",
     "output_type": "stream",
     "text": [
      "WARNING:absl:You are saving your model as an HDF5 file via `model.save()` or `keras.saving.save_model(model)`. This file format is considered legacy. We recommend using instead the native Keras format, e.g. `model.save('my_model.keras')` or `keras.saving.save_model(model, 'my_model.keras')`. \n"
     ]
    },
    {
     "name": "stdout",
     "output_type": "stream",
     "text": [
      "\n",
      "Epoch 157: val_loss improved from 0.04121 to 0.04051, saving model to 10Var-hpg-gru.h5\n"
     ]
    },
    {
     "name": "stderr",
     "output_type": "stream",
     "text": [
      "WARNING:absl:You are saving your model as an HDF5 file via `model.save()` or `keras.saving.save_model(model)`. This file format is considered legacy. We recommend using instead the native Keras format, e.g. `model.save('my_model.keras')` or `keras.saving.save_model(model, 'my_model.keras')`. \n"
     ]
    },
    {
     "name": "stdout",
     "output_type": "stream",
     "text": [
      "\n",
      "Epoch 158: val_loss improved from 0.04051 to 0.03927, saving model to 10Var-hpg-gru.h5\n"
     ]
    },
    {
     "name": "stderr",
     "output_type": "stream",
     "text": [
      "WARNING:absl:You are saving your model as an HDF5 file via `model.save()` or `keras.saving.save_model(model)`. This file format is considered legacy. We recommend using instead the native Keras format, e.g. `model.save('my_model.keras')` or `keras.saving.save_model(model, 'my_model.keras')`. \n"
     ]
    },
    {
     "name": "stdout",
     "output_type": "stream",
     "text": [
      "\n",
      "Epoch 159: val_loss improved from 0.03927 to 0.03865, saving model to 10Var-hpg-gru.h5\n"
     ]
    },
    {
     "name": "stderr",
     "output_type": "stream",
     "text": [
      "WARNING:absl:You are saving your model as an HDF5 file via `model.save()` or `keras.saving.save_model(model)`. This file format is considered legacy. We recommend using instead the native Keras format, e.g. `model.save('my_model.keras')` or `keras.saving.save_model(model, 'my_model.keras')`. \n"
     ]
    },
    {
     "name": "stdout",
     "output_type": "stream",
     "text": [
      "\n",
      "Epoch 160: val_loss improved from 0.03865 to 0.03754, saving model to 10Var-hpg-gru.h5\n"
     ]
    },
    {
     "name": "stderr",
     "output_type": "stream",
     "text": [
      "WARNING:absl:You are saving your model as an HDF5 file via `model.save()` or `keras.saving.save_model(model)`. This file format is considered legacy. We recommend using instead the native Keras format, e.g. `model.save('my_model.keras')` or `keras.saving.save_model(model, 'my_model.keras')`. \n"
     ]
    },
    {
     "name": "stdout",
     "output_type": "stream",
     "text": [
      "\n",
      "Epoch 161: val_loss improved from 0.03754 to 0.03677, saving model to 10Var-hpg-gru.h5\n"
     ]
    },
    {
     "name": "stderr",
     "output_type": "stream",
     "text": [
      "WARNING:absl:You are saving your model as an HDF5 file via `model.save()` or `keras.saving.save_model(model)`. This file format is considered legacy. We recommend using instead the native Keras format, e.g. `model.save('my_model.keras')` or `keras.saving.save_model(model, 'my_model.keras')`. \n"
     ]
    },
    {
     "name": "stdout",
     "output_type": "stream",
     "text": [
      "\n",
      "Epoch 162: val_loss improved from 0.03677 to 0.03591, saving model to 10Var-hpg-gru.h5\n"
     ]
    },
    {
     "name": "stderr",
     "output_type": "stream",
     "text": [
      "WARNING:absl:You are saving your model as an HDF5 file via `model.save()` or `keras.saving.save_model(model)`. This file format is considered legacy. We recommend using instead the native Keras format, e.g. `model.save('my_model.keras')` or `keras.saving.save_model(model, 'my_model.keras')`. \n"
     ]
    },
    {
     "name": "stdout",
     "output_type": "stream",
     "text": [
      "\n",
      "Epoch 163: val_loss improved from 0.03591 to 0.03506, saving model to 10Var-hpg-gru.h5\n"
     ]
    },
    {
     "name": "stderr",
     "output_type": "stream",
     "text": [
      "WARNING:absl:You are saving your model as an HDF5 file via `model.save()` or `keras.saving.save_model(model)`. This file format is considered legacy. We recommend using instead the native Keras format, e.g. `model.save('my_model.keras')` or `keras.saving.save_model(model, 'my_model.keras')`. \n"
     ]
    },
    {
     "name": "stdout",
     "output_type": "stream",
     "text": [
      "\n",
      "Epoch 164: val_loss improved from 0.03506 to 0.03433, saving model to 10Var-hpg-gru.h5\n"
     ]
    },
    {
     "name": "stderr",
     "output_type": "stream",
     "text": [
      "WARNING:absl:You are saving your model as an HDF5 file via `model.save()` or `keras.saving.save_model(model)`. This file format is considered legacy. We recommend using instead the native Keras format, e.g. `model.save('my_model.keras')` or `keras.saving.save_model(model, 'my_model.keras')`. \n"
     ]
    },
    {
     "name": "stdout",
     "output_type": "stream",
     "text": [
      "\n",
      "Epoch 165: val_loss improved from 0.03433 to 0.03348, saving model to 10Var-hpg-gru.h5\n"
     ]
    },
    {
     "name": "stderr",
     "output_type": "stream",
     "text": [
      "WARNING:absl:You are saving your model as an HDF5 file via `model.save()` or `keras.saving.save_model(model)`. This file format is considered legacy. We recommend using instead the native Keras format, e.g. `model.save('my_model.keras')` or `keras.saving.save_model(model, 'my_model.keras')`. \n"
     ]
    },
    {
     "name": "stdout",
     "output_type": "stream",
     "text": [
      "\n",
      "Epoch 166: val_loss improved from 0.03348 to 0.03263, saving model to 10Var-hpg-gru.h5\n"
     ]
    },
    {
     "name": "stderr",
     "output_type": "stream",
     "text": [
      "WARNING:absl:You are saving your model as an HDF5 file via `model.save()` or `keras.saving.save_model(model)`. This file format is considered legacy. We recommend using instead the native Keras format, e.g. `model.save('my_model.keras')` or `keras.saving.save_model(model, 'my_model.keras')`. \n"
     ]
    },
    {
     "name": "stdout",
     "output_type": "stream",
     "text": [
      "\n",
      "Epoch 167: val_loss improved from 0.03263 to 0.03186, saving model to 10Var-hpg-gru.h5\n"
     ]
    },
    {
     "name": "stderr",
     "output_type": "stream",
     "text": [
      "WARNING:absl:You are saving your model as an HDF5 file via `model.save()` or `keras.saving.save_model(model)`. This file format is considered legacy. We recommend using instead the native Keras format, e.g. `model.save('my_model.keras')` or `keras.saving.save_model(model, 'my_model.keras')`. \n"
     ]
    },
    {
     "name": "stdout",
     "output_type": "stream",
     "text": [
      "\n",
      "Epoch 168: val_loss improved from 0.03186 to 0.03113, saving model to 10Var-hpg-gru.h5\n"
     ]
    },
    {
     "name": "stderr",
     "output_type": "stream",
     "text": [
      "WARNING:absl:You are saving your model as an HDF5 file via `model.save()` or `keras.saving.save_model(model)`. This file format is considered legacy. We recommend using instead the native Keras format, e.g. `model.save('my_model.keras')` or `keras.saving.save_model(model, 'my_model.keras')`. \n"
     ]
    },
    {
     "name": "stdout",
     "output_type": "stream",
     "text": [
      "\n",
      "Epoch 169: val_loss improved from 0.03113 to 0.03035, saving model to 10Var-hpg-gru.h5\n"
     ]
    },
    {
     "name": "stderr",
     "output_type": "stream",
     "text": [
      "WARNING:absl:You are saving your model as an HDF5 file via `model.save()` or `keras.saving.save_model(model)`. This file format is considered legacy. We recommend using instead the native Keras format, e.g. `model.save('my_model.keras')` or `keras.saving.save_model(model, 'my_model.keras')`. \n"
     ]
    },
    {
     "name": "stdout",
     "output_type": "stream",
     "text": [
      "\n",
      "Epoch 170: val_loss improved from 0.03035 to 0.02960, saving model to 10Var-hpg-gru.h5\n"
     ]
    },
    {
     "name": "stderr",
     "output_type": "stream",
     "text": [
      "WARNING:absl:You are saving your model as an HDF5 file via `model.save()` or `keras.saving.save_model(model)`. This file format is considered legacy. We recommend using instead the native Keras format, e.g. `model.save('my_model.keras')` or `keras.saving.save_model(model, 'my_model.keras')`. \n"
     ]
    },
    {
     "name": "stdout",
     "output_type": "stream",
     "text": [
      "\n",
      "Epoch 171: val_loss improved from 0.02960 to 0.02892, saving model to 10Var-hpg-gru.h5\n"
     ]
    },
    {
     "name": "stderr",
     "output_type": "stream",
     "text": [
      "WARNING:absl:You are saving your model as an HDF5 file via `model.save()` or `keras.saving.save_model(model)`. This file format is considered legacy. We recommend using instead the native Keras format, e.g. `model.save('my_model.keras')` or `keras.saving.save_model(model, 'my_model.keras')`. \n"
     ]
    },
    {
     "name": "stdout",
     "output_type": "stream",
     "text": [
      "\n",
      "Epoch 172: val_loss improved from 0.02892 to 0.02801, saving model to 10Var-hpg-gru.h5\n"
     ]
    },
    {
     "name": "stderr",
     "output_type": "stream",
     "text": [
      "WARNING:absl:You are saving your model as an HDF5 file via `model.save()` or `keras.saving.save_model(model)`. This file format is considered legacy. We recommend using instead the native Keras format, e.g. `model.save('my_model.keras')` or `keras.saving.save_model(model, 'my_model.keras')`. \n"
     ]
    },
    {
     "name": "stdout",
     "output_type": "stream",
     "text": [
      "\n",
      "Epoch 173: val_loss improved from 0.02801 to 0.02731, saving model to 10Var-hpg-gru.h5\n"
     ]
    },
    {
     "name": "stderr",
     "output_type": "stream",
     "text": [
      "WARNING:absl:You are saving your model as an HDF5 file via `model.save()` or `keras.saving.save_model(model)`. This file format is considered legacy. We recommend using instead the native Keras format, e.g. `model.save('my_model.keras')` or `keras.saving.save_model(model, 'my_model.keras')`. \n"
     ]
    },
    {
     "name": "stdout",
     "output_type": "stream",
     "text": [
      "\n",
      "Epoch 174: val_loss improved from 0.02731 to 0.02668, saving model to 10Var-hpg-gru.h5\n"
     ]
    },
    {
     "name": "stderr",
     "output_type": "stream",
     "text": [
      "WARNING:absl:You are saving your model as an HDF5 file via `model.save()` or `keras.saving.save_model(model)`. This file format is considered legacy. We recommend using instead the native Keras format, e.g. `model.save('my_model.keras')` or `keras.saving.save_model(model, 'my_model.keras')`. \n"
     ]
    },
    {
     "name": "stdout",
     "output_type": "stream",
     "text": [
      "\n",
      "Epoch 175: val_loss improved from 0.02668 to 0.02611, saving model to 10Var-hpg-gru.h5\n"
     ]
    },
    {
     "name": "stderr",
     "output_type": "stream",
     "text": [
      "WARNING:absl:You are saving your model as an HDF5 file via `model.save()` or `keras.saving.save_model(model)`. This file format is considered legacy. We recommend using instead the native Keras format, e.g. `model.save('my_model.keras')` or `keras.saving.save_model(model, 'my_model.keras')`. \n"
     ]
    },
    {
     "name": "stdout",
     "output_type": "stream",
     "text": [
      "\n",
      "Epoch 176: val_loss improved from 0.02611 to 0.02545, saving model to 10Var-hpg-gru.h5\n"
     ]
    },
    {
     "name": "stderr",
     "output_type": "stream",
     "text": [
      "WARNING:absl:You are saving your model as an HDF5 file via `model.save()` or `keras.saving.save_model(model)`. This file format is considered legacy. We recommend using instead the native Keras format, e.g. `model.save('my_model.keras')` or `keras.saving.save_model(model, 'my_model.keras')`. \n"
     ]
    },
    {
     "name": "stdout",
     "output_type": "stream",
     "text": [
      "\n",
      "Epoch 177: val_loss improved from 0.02545 to 0.02478, saving model to 10Var-hpg-gru.h5\n"
     ]
    },
    {
     "name": "stderr",
     "output_type": "stream",
     "text": [
      "WARNING:absl:You are saving your model as an HDF5 file via `model.save()` or `keras.saving.save_model(model)`. This file format is considered legacy. We recommend using instead the native Keras format, e.g. `model.save('my_model.keras')` or `keras.saving.save_model(model, 'my_model.keras')`. \n"
     ]
    },
    {
     "name": "stdout",
     "output_type": "stream",
     "text": [
      "\n",
      "Epoch 178: val_loss improved from 0.02478 to 0.02417, saving model to 10Var-hpg-gru.h5\n"
     ]
    },
    {
     "name": "stderr",
     "output_type": "stream",
     "text": [
      "WARNING:absl:You are saving your model as an HDF5 file via `model.save()` or `keras.saving.save_model(model)`. This file format is considered legacy. We recommend using instead the native Keras format, e.g. `model.save('my_model.keras')` or `keras.saving.save_model(model, 'my_model.keras')`. \n"
     ]
    },
    {
     "name": "stdout",
     "output_type": "stream",
     "text": [
      "\n",
      "Epoch 179: val_loss improved from 0.02417 to 0.02350, saving model to 10Var-hpg-gru.h5\n"
     ]
    },
    {
     "name": "stderr",
     "output_type": "stream",
     "text": [
      "WARNING:absl:You are saving your model as an HDF5 file via `model.save()` or `keras.saving.save_model(model)`. This file format is considered legacy. We recommend using instead the native Keras format, e.g. `model.save('my_model.keras')` or `keras.saving.save_model(model, 'my_model.keras')`. \n"
     ]
    },
    {
     "name": "stdout",
     "output_type": "stream",
     "text": [
      "\n",
      "Epoch 180: val_loss improved from 0.02350 to 0.02300, saving model to 10Var-hpg-gru.h5\n"
     ]
    },
    {
     "name": "stderr",
     "output_type": "stream",
     "text": [
      "WARNING:absl:You are saving your model as an HDF5 file via `model.save()` or `keras.saving.save_model(model)`. This file format is considered legacy. We recommend using instead the native Keras format, e.g. `model.save('my_model.keras')` or `keras.saving.save_model(model, 'my_model.keras')`. \n"
     ]
    },
    {
     "name": "stdout",
     "output_type": "stream",
     "text": [
      "\n",
      "Epoch 181: val_loss improved from 0.02300 to 0.02236, saving model to 10Var-hpg-gru.h5\n"
     ]
    },
    {
     "name": "stderr",
     "output_type": "stream",
     "text": [
      "WARNING:absl:You are saving your model as an HDF5 file via `model.save()` or `keras.saving.save_model(model)`. This file format is considered legacy. We recommend using instead the native Keras format, e.g. `model.save('my_model.keras')` or `keras.saving.save_model(model, 'my_model.keras')`. \n"
     ]
    },
    {
     "name": "stdout",
     "output_type": "stream",
     "text": [
      "\n",
      "Epoch 182: val_loss improved from 0.02236 to 0.02180, saving model to 10Var-hpg-gru.h5\n"
     ]
    },
    {
     "name": "stderr",
     "output_type": "stream",
     "text": [
      "WARNING:absl:You are saving your model as an HDF5 file via `model.save()` or `keras.saving.save_model(model)`. This file format is considered legacy. We recommend using instead the native Keras format, e.g. `model.save('my_model.keras')` or `keras.saving.save_model(model, 'my_model.keras')`. \n"
     ]
    },
    {
     "name": "stdout",
     "output_type": "stream",
     "text": [
      "\n",
      "Epoch 183: val_loss improved from 0.02180 to 0.02116, saving model to 10Var-hpg-gru.h5\n"
     ]
    },
    {
     "name": "stderr",
     "output_type": "stream",
     "text": [
      "WARNING:absl:You are saving your model as an HDF5 file via `model.save()` or `keras.saving.save_model(model)`. This file format is considered legacy. We recommend using instead the native Keras format, e.g. `model.save('my_model.keras')` or `keras.saving.save_model(model, 'my_model.keras')`. \n"
     ]
    },
    {
     "name": "stdout",
     "output_type": "stream",
     "text": [
      "\n",
      "Epoch 184: val_loss improved from 0.02116 to 0.02068, saving model to 10Var-hpg-gru.h5\n"
     ]
    },
    {
     "name": "stderr",
     "output_type": "stream",
     "text": [
      "WARNING:absl:You are saving your model as an HDF5 file via `model.save()` or `keras.saving.save_model(model)`. This file format is considered legacy. We recommend using instead the native Keras format, e.g. `model.save('my_model.keras')` or `keras.saving.save_model(model, 'my_model.keras')`. \n"
     ]
    },
    {
     "name": "stdout",
     "output_type": "stream",
     "text": [
      "\n",
      "Epoch 185: val_loss improved from 0.02068 to 0.02013, saving model to 10Var-hpg-gru.h5\n"
     ]
    },
    {
     "name": "stderr",
     "output_type": "stream",
     "text": [
      "WARNING:absl:You are saving your model as an HDF5 file via `model.save()` or `keras.saving.save_model(model)`. This file format is considered legacy. We recommend using instead the native Keras format, e.g. `model.save('my_model.keras')` or `keras.saving.save_model(model, 'my_model.keras')`. \n"
     ]
    },
    {
     "name": "stdout",
     "output_type": "stream",
     "text": [
      "\n",
      "Epoch 186: val_loss improved from 0.02013 to 0.01957, saving model to 10Var-hpg-gru.h5\n"
     ]
    },
    {
     "name": "stderr",
     "output_type": "stream",
     "text": [
      "WARNING:absl:You are saving your model as an HDF5 file via `model.save()` or `keras.saving.save_model(model)`. This file format is considered legacy. We recommend using instead the native Keras format, e.g. `model.save('my_model.keras')` or `keras.saving.save_model(model, 'my_model.keras')`. \n"
     ]
    },
    {
     "name": "stdout",
     "output_type": "stream",
     "text": [
      "\n",
      "Epoch 187: val_loss improved from 0.01957 to 0.01911, saving model to 10Var-hpg-gru.h5\n"
     ]
    },
    {
     "name": "stderr",
     "output_type": "stream",
     "text": [
      "WARNING:absl:You are saving your model as an HDF5 file via `model.save()` or `keras.saving.save_model(model)`. This file format is considered legacy. We recommend using instead the native Keras format, e.g. `model.save('my_model.keras')` or `keras.saving.save_model(model, 'my_model.keras')`. \n"
     ]
    },
    {
     "name": "stdout",
     "output_type": "stream",
     "text": [
      "\n",
      "Epoch 188: val_loss improved from 0.01911 to 0.01860, saving model to 10Var-hpg-gru.h5\n"
     ]
    },
    {
     "name": "stderr",
     "output_type": "stream",
     "text": [
      "WARNING:absl:You are saving your model as an HDF5 file via `model.save()` or `keras.saving.save_model(model)`. This file format is considered legacy. We recommend using instead the native Keras format, e.g. `model.save('my_model.keras')` or `keras.saving.save_model(model, 'my_model.keras')`. \n"
     ]
    },
    {
     "name": "stdout",
     "output_type": "stream",
     "text": [
      "\n",
      "Epoch 189: val_loss improved from 0.01860 to 0.01803, saving model to 10Var-hpg-gru.h5\n"
     ]
    },
    {
     "name": "stderr",
     "output_type": "stream",
     "text": [
      "WARNING:absl:You are saving your model as an HDF5 file via `model.save()` or `keras.saving.save_model(model)`. This file format is considered legacy. We recommend using instead the native Keras format, e.g. `model.save('my_model.keras')` or `keras.saving.save_model(model, 'my_model.keras')`. \n"
     ]
    },
    {
     "name": "stdout",
     "output_type": "stream",
     "text": [
      "\n",
      "Epoch 190: val_loss improved from 0.01803 to 0.01753, saving model to 10Var-hpg-gru.h5\n"
     ]
    },
    {
     "name": "stderr",
     "output_type": "stream",
     "text": [
      "WARNING:absl:You are saving your model as an HDF5 file via `model.save()` or `keras.saving.save_model(model)`. This file format is considered legacy. We recommend using instead the native Keras format, e.g. `model.save('my_model.keras')` or `keras.saving.save_model(model, 'my_model.keras')`. \n"
     ]
    },
    {
     "name": "stdout",
     "output_type": "stream",
     "text": [
      "\n",
      "Epoch 191: val_loss improved from 0.01753 to 0.01695, saving model to 10Var-hpg-gru.h5\n"
     ]
    },
    {
     "name": "stderr",
     "output_type": "stream",
     "text": [
      "WARNING:absl:You are saving your model as an HDF5 file via `model.save()` or `keras.saving.save_model(model)`. This file format is considered legacy. We recommend using instead the native Keras format, e.g. `model.save('my_model.keras')` or `keras.saving.save_model(model, 'my_model.keras')`. \n"
     ]
    },
    {
     "name": "stdout",
     "output_type": "stream",
     "text": [
      "\n",
      "Epoch 192: val_loss improved from 0.01695 to 0.01650, saving model to 10Var-hpg-gru.h5\n"
     ]
    },
    {
     "name": "stderr",
     "output_type": "stream",
     "text": [
      "WARNING:absl:You are saving your model as an HDF5 file via `model.save()` or `keras.saving.save_model(model)`. This file format is considered legacy. We recommend using instead the native Keras format, e.g. `model.save('my_model.keras')` or `keras.saving.save_model(model, 'my_model.keras')`. \n"
     ]
    },
    {
     "name": "stdout",
     "output_type": "stream",
     "text": [
      "\n",
      "Epoch 193: val_loss improved from 0.01650 to 0.01594, saving model to 10Var-hpg-gru.h5\n"
     ]
    },
    {
     "name": "stderr",
     "output_type": "stream",
     "text": [
      "WARNING:absl:You are saving your model as an HDF5 file via `model.save()` or `keras.saving.save_model(model)`. This file format is considered legacy. We recommend using instead the native Keras format, e.g. `model.save('my_model.keras')` or `keras.saving.save_model(model, 'my_model.keras')`. \n"
     ]
    },
    {
     "name": "stdout",
     "output_type": "stream",
     "text": [
      "\n",
      "Epoch 194: val_loss improved from 0.01594 to 0.01543, saving model to 10Var-hpg-gru.h5\n"
     ]
    },
    {
     "name": "stderr",
     "output_type": "stream",
     "text": [
      "WARNING:absl:You are saving your model as an HDF5 file via `model.save()` or `keras.saving.save_model(model)`. This file format is considered legacy. We recommend using instead the native Keras format, e.g. `model.save('my_model.keras')` or `keras.saving.save_model(model, 'my_model.keras')`. \n"
     ]
    },
    {
     "name": "stdout",
     "output_type": "stream",
     "text": [
      "\n",
      "Epoch 195: val_loss improved from 0.01543 to 0.01499, saving model to 10Var-hpg-gru.h5\n"
     ]
    },
    {
     "name": "stderr",
     "output_type": "stream",
     "text": [
      "WARNING:absl:You are saving your model as an HDF5 file via `model.save()` or `keras.saving.save_model(model)`. This file format is considered legacy. We recommend using instead the native Keras format, e.g. `model.save('my_model.keras')` or `keras.saving.save_model(model, 'my_model.keras')`. \n"
     ]
    },
    {
     "name": "stdout",
     "output_type": "stream",
     "text": [
      "\n",
      "Epoch 196: val_loss improved from 0.01499 to 0.01457, saving model to 10Var-hpg-gru.h5\n"
     ]
    },
    {
     "name": "stderr",
     "output_type": "stream",
     "text": [
      "WARNING:absl:You are saving your model as an HDF5 file via `model.save()` or `keras.saving.save_model(model)`. This file format is considered legacy. We recommend using instead the native Keras format, e.g. `model.save('my_model.keras')` or `keras.saving.save_model(model, 'my_model.keras')`. \n"
     ]
    },
    {
     "name": "stdout",
     "output_type": "stream",
     "text": [
      "\n",
      "Epoch 197: val_loss improved from 0.01457 to 0.01414, saving model to 10Var-hpg-gru.h5\n"
     ]
    },
    {
     "name": "stderr",
     "output_type": "stream",
     "text": [
      "WARNING:absl:You are saving your model as an HDF5 file via `model.save()` or `keras.saving.save_model(model)`. This file format is considered legacy. We recommend using instead the native Keras format, e.g. `model.save('my_model.keras')` or `keras.saving.save_model(model, 'my_model.keras')`. \n"
     ]
    },
    {
     "name": "stdout",
     "output_type": "stream",
     "text": [
      "\n",
      "Epoch 198: val_loss improved from 0.01414 to 0.01372, saving model to 10Var-hpg-gru.h5\n"
     ]
    },
    {
     "name": "stderr",
     "output_type": "stream",
     "text": [
      "WARNING:absl:You are saving your model as an HDF5 file via `model.save()` or `keras.saving.save_model(model)`. This file format is considered legacy. We recommend using instead the native Keras format, e.g. `model.save('my_model.keras')` or `keras.saving.save_model(model, 'my_model.keras')`. \n"
     ]
    },
    {
     "name": "stdout",
     "output_type": "stream",
     "text": [
      "\n",
      "Epoch 199: val_loss improved from 0.01372 to 0.01333, saving model to 10Var-hpg-gru.h5\n"
     ]
    },
    {
     "name": "stderr",
     "output_type": "stream",
     "text": [
      "WARNING:absl:You are saving your model as an HDF5 file via `model.save()` or `keras.saving.save_model(model)`. This file format is considered legacy. We recommend using instead the native Keras format, e.g. `model.save('my_model.keras')` or `keras.saving.save_model(model, 'my_model.keras')`. \n"
     ]
    },
    {
     "name": "stdout",
     "output_type": "stream",
     "text": [
      "\n",
      "Epoch 200: val_loss improved from 0.01333 to 0.01290, saving model to 10Var-hpg-gru.h5\n"
     ]
    },
    {
     "name": "stderr",
     "output_type": "stream",
     "text": [
      "WARNING:absl:You are saving your model as an HDF5 file via `model.save()` or `keras.saving.save_model(model)`. This file format is considered legacy. We recommend using instead the native Keras format, e.g. `model.save('my_model.keras')` or `keras.saving.save_model(model, 'my_model.keras')`. \n"
     ]
    },
    {
     "name": "stdout",
     "output_type": "stream",
     "text": [
      "\u001b[1m19/19\u001b[0m \u001b[32m━━━━━━━━━━━━━━━━━━━━\u001b[0m\u001b[37m\u001b[0m \u001b[1m1s\u001b[0m 44ms/step\n",
      "   timesteps        hl      lr  batch_size  num_epochs       mse      rmse  \\\n",
      "0         40  [40, 35]  0.0001          32         200  0.003551  0.059593   \n",
      "\n",
      "       mape        r2  \n",
      "0  0.031415  0.956033  \n",
      "Best parameters: {'timesteps': 30, 'hl': [40, 35], 'lr': 0.0001, 'batch_size': 32, 'num_epochs': 200}\n",
      "Best RMSE score: 0.05959297616303428\n"
     ]
    }
   ],
   "source": [
    "best_params, best_score, results_df = grid_search_rnn(train, val, test, param_grid)\n",
    "\n",
    "print(results_df)\n",
    "print(\"Best parameters:\", best_params)\n",
    "print(\"Best RMSE score:\", best_score)"
   ]
  },
  {
   "cell_type": "markdown",
   "metadata": {},
   "source": [
    "### Bước 5: Huấn luyện mô hình với bộ tham số tối ưu"
   ]
  },
  {
   "cell_type": "code",
   "execution_count": 65,
   "metadata": {},
   "outputs": [
    {
     "name": "stderr",
     "output_type": "stream",
     "text": [
      "c:\\Users\\84368\\AppData\\Local\\Programs\\Python\\Python311\\Lib\\site-packages\\keras\\src\\layers\\rnn\\rnn.py:200: UserWarning: Do not pass an `input_shape`/`input_dim` argument to a layer. When using Sequential models, prefer using an `Input(shape)` object as the first layer in the model instead.\n",
      "  super().__init__(**kwargs)\n"
     ]
    },
    {
     "name": "stdout",
     "output_type": "stream",
     "text": [
      "\n",
      "Epoch 1: val_loss did not improve from 0.00731\n",
      "\n",
      "Epoch 2: val_loss did not improve from 0.00731\n",
      "\n",
      "Epoch 3: val_loss did not improve from 0.00731\n",
      "\n",
      "Epoch 4: val_loss did not improve from 0.00731\n",
      "\n",
      "Epoch 5: val_loss did not improve from 0.00731\n",
      "\n",
      "Epoch 6: val_loss did not improve from 0.00731\n",
      "\n",
      "Epoch 7: val_loss did not improve from 0.00731\n",
      "\n",
      "Epoch 8: val_loss did not improve from 0.00731\n",
      "\n",
      "Epoch 9: val_loss did not improve from 0.00731\n",
      "\n",
      "Epoch 10: val_loss did not improve from 0.00731\n",
      "\n",
      "Epoch 11: val_loss did not improve from 0.00731\n",
      "\n",
      "Epoch 12: val_loss did not improve from 0.00731\n",
      "\n",
      "Epoch 13: val_loss did not improve from 0.00731\n",
      "\n",
      "Epoch 14: val_loss did not improve from 0.00731\n",
      "\n",
      "Epoch 15: val_loss did not improve from 0.00731\n",
      "\n",
      "Epoch 16: val_loss did not improve from 0.00731\n",
      "\n",
      "Epoch 17: val_loss did not improve from 0.00731\n",
      "\n",
      "Epoch 18: val_loss did not improve from 0.00731\n",
      "\n",
      "Epoch 19: val_loss did not improve from 0.00731\n",
      "\n",
      "Epoch 20: val_loss did not improve from 0.00731\n",
      "\n",
      "Epoch 21: val_loss did not improve from 0.00731\n",
      "\n",
      "Epoch 22: val_loss did not improve from 0.00731\n",
      "\n",
      "Epoch 23: val_loss did not improve from 0.00731\n",
      "\n",
      "Epoch 24: val_loss did not improve from 0.00731\n",
      "\n",
      "Epoch 25: val_loss did not improve from 0.00731\n",
      "\n",
      "Epoch 26: val_loss did not improve from 0.00731\n",
      "\n",
      "Epoch 27: val_loss did not improve from 0.00731\n",
      "\n",
      "Epoch 28: val_loss did not improve from 0.00731\n",
      "\n",
      "Epoch 29: val_loss did not improve from 0.00731\n",
      "\n",
      "Epoch 30: val_loss did not improve from 0.00731\n",
      "\n",
      "Epoch 31: val_loss did not improve from 0.00731\n",
      "\n",
      "Epoch 32: val_loss did not improve from 0.00731\n",
      "\n",
      "Epoch 33: val_loss did not improve from 0.00731\n",
      "\n",
      "Epoch 34: val_loss did not improve from 0.00731\n",
      "\n",
      "Epoch 35: val_loss did not improve from 0.00731\n",
      "\n",
      "Epoch 36: val_loss did not improve from 0.00731\n",
      "\n",
      "Epoch 37: val_loss did not improve from 0.00731\n",
      "\n",
      "Epoch 38: val_loss did not improve from 0.00731\n",
      "\n",
      "Epoch 39: val_loss did not improve from 0.00731\n",
      "\n",
      "Epoch 40: val_loss did not improve from 0.00731\n",
      "\n",
      "Epoch 41: val_loss did not improve from 0.00731\n",
      "\n",
      "Epoch 42: val_loss did not improve from 0.00731\n",
      "\n",
      "Epoch 43: val_loss did not improve from 0.00731\n",
      "\n",
      "Epoch 44: val_loss did not improve from 0.00731\n",
      "\n",
      "Epoch 45: val_loss did not improve from 0.00731\n",
      "\n",
      "Epoch 46: val_loss did not improve from 0.00731\n",
      "\n",
      "Epoch 47: val_loss did not improve from 0.00731\n",
      "\n",
      "Epoch 48: val_loss did not improve from 0.00731\n",
      "\n",
      "Epoch 49: val_loss did not improve from 0.00731\n",
      "\n",
      "Epoch 50: val_loss did not improve from 0.00731\n",
      "\n",
      "Epoch 51: val_loss did not improve from 0.00731\n",
      "\n",
      "Epoch 52: val_loss did not improve from 0.00731\n",
      "\n",
      "Epoch 53: val_loss did not improve from 0.00731\n",
      "\n",
      "Epoch 54: val_loss did not improve from 0.00731\n",
      "\n",
      "Epoch 55: val_loss did not improve from 0.00731\n",
      "\n",
      "Epoch 56: val_loss did not improve from 0.00731\n",
      "\n",
      "Epoch 57: val_loss did not improve from 0.00731\n",
      "\n",
      "Epoch 58: val_loss did not improve from 0.00731\n",
      "\n",
      "Epoch 59: val_loss did not improve from 0.00731\n",
      "\n",
      "Epoch 60: val_loss did not improve from 0.00731\n",
      "\n",
      "Epoch 61: val_loss did not improve from 0.00731\n",
      "\n",
      "Epoch 62: val_loss did not improve from 0.00731\n",
      "\n",
      "Epoch 63: val_loss did not improve from 0.00731\n",
      "\n",
      "Epoch 64: val_loss did not improve from 0.00731\n",
      "\n",
      "Epoch 65: val_loss did not improve from 0.00731\n",
      "\n",
      "Epoch 66: val_loss did not improve from 0.00731\n",
      "\n",
      "Epoch 67: val_loss did not improve from 0.00731\n",
      "\n",
      "Epoch 68: val_loss did not improve from 0.00731\n",
      "\n",
      "Epoch 69: val_loss did not improve from 0.00731\n",
      "\n",
      "Epoch 70: val_loss did not improve from 0.00731\n",
      "\n",
      "Epoch 71: val_loss did not improve from 0.00731\n",
      "\n",
      "Epoch 72: val_loss did not improve from 0.00731\n",
      "\n",
      "Epoch 73: val_loss did not improve from 0.00731\n",
      "\n",
      "Epoch 74: val_loss did not improve from 0.00731\n",
      "\n",
      "Epoch 75: val_loss did not improve from 0.00731\n",
      "\n",
      "Epoch 76: val_loss did not improve from 0.00731\n",
      "\n",
      "Epoch 77: val_loss did not improve from 0.00731\n",
      "\n",
      "Epoch 78: val_loss did not improve from 0.00731\n",
      "\n",
      "Epoch 79: val_loss did not improve from 0.00731\n",
      "\n",
      "Epoch 80: val_loss did not improve from 0.00731\n",
      "\n",
      "Epoch 81: val_loss did not improve from 0.00731\n",
      "\n",
      "Epoch 82: val_loss did not improve from 0.00731\n",
      "\n",
      "Epoch 83: val_loss did not improve from 0.00731\n",
      "\n",
      "Epoch 84: val_loss did not improve from 0.00731\n",
      "\n",
      "Epoch 85: val_loss did not improve from 0.00731\n",
      "\n",
      "Epoch 86: val_loss did not improve from 0.00731\n",
      "\n",
      "Epoch 87: val_loss did not improve from 0.00731\n",
      "\n",
      "Epoch 88: val_loss did not improve from 0.00731\n",
      "\n",
      "Epoch 89: val_loss did not improve from 0.00731\n",
      "\n",
      "Epoch 90: val_loss did not improve from 0.00731\n",
      "\n",
      "Epoch 91: val_loss did not improve from 0.00731\n",
      "\n",
      "Epoch 92: val_loss did not improve from 0.00731\n",
      "\n",
      "Epoch 93: val_loss did not improve from 0.00731\n",
      "\n",
      "Epoch 94: val_loss did not improve from 0.00731\n",
      "\n",
      "Epoch 95: val_loss did not improve from 0.00731\n",
      "\n",
      "Epoch 96: val_loss did not improve from 0.00731\n",
      "\n",
      "Epoch 97: val_loss did not improve from 0.00731\n",
      "\n",
      "Epoch 98: val_loss did not improve from 0.00731\n",
      "\n",
      "Epoch 99: val_loss did not improve from 0.00731\n",
      "\n",
      "Epoch 100: val_loss did not improve from 0.00731\n",
      "\n",
      "Epoch 101: val_loss did not improve from 0.00731\n",
      "\n",
      "Epoch 102: val_loss did not improve from 0.00731\n",
      "\n",
      "Epoch 103: val_loss did not improve from 0.00731\n",
      "\n",
      "Epoch 104: val_loss did not improve from 0.00731\n",
      "\n",
      "Epoch 105: val_loss improved from 0.00731 to 0.00706, saving model to 10Var-hpg-gru.h5\n"
     ]
    },
    {
     "name": "stderr",
     "output_type": "stream",
     "text": [
      "WARNING:absl:You are saving your model as an HDF5 file via `model.save()` or `keras.saving.save_model(model)`. This file format is considered legacy. We recommend using instead the native Keras format, e.g. `model.save('my_model.keras')` or `keras.saving.save_model(model, 'my_model.keras')`. \n"
     ]
    },
    {
     "name": "stdout",
     "output_type": "stream",
     "text": [
      "\n",
      "Epoch 106: val_loss improved from 0.00706 to 0.00673, saving model to 10Var-hpg-gru.h5\n"
     ]
    },
    {
     "name": "stderr",
     "output_type": "stream",
     "text": [
      "WARNING:absl:You are saving your model as an HDF5 file via `model.save()` or `keras.saving.save_model(model)`. This file format is considered legacy. We recommend using instead the native Keras format, e.g. `model.save('my_model.keras')` or `keras.saving.save_model(model, 'my_model.keras')`. \n"
     ]
    },
    {
     "name": "stdout",
     "output_type": "stream",
     "text": [
      "\n",
      "Epoch 107: val_loss improved from 0.00673 to 0.00647, saving model to 10Var-hpg-gru.h5\n"
     ]
    },
    {
     "name": "stderr",
     "output_type": "stream",
     "text": [
      "WARNING:absl:You are saving your model as an HDF5 file via `model.save()` or `keras.saving.save_model(model)`. This file format is considered legacy. We recommend using instead the native Keras format, e.g. `model.save('my_model.keras')` or `keras.saving.save_model(model, 'my_model.keras')`. \n"
     ]
    },
    {
     "name": "stdout",
     "output_type": "stream",
     "text": [
      "\n",
      "Epoch 108: val_loss improved from 0.00647 to 0.00633, saving model to 10Var-hpg-gru.h5\n"
     ]
    },
    {
     "name": "stderr",
     "output_type": "stream",
     "text": [
      "WARNING:absl:You are saving your model as an HDF5 file via `model.save()` or `keras.saving.save_model(model)`. This file format is considered legacy. We recommend using instead the native Keras format, e.g. `model.save('my_model.keras')` or `keras.saving.save_model(model, 'my_model.keras')`. \n"
     ]
    },
    {
     "name": "stdout",
     "output_type": "stream",
     "text": [
      "\n",
      "Epoch 109: val_loss improved from 0.00633 to 0.00590, saving model to 10Var-hpg-gru.h5\n"
     ]
    },
    {
     "name": "stderr",
     "output_type": "stream",
     "text": [
      "WARNING:absl:You are saving your model as an HDF5 file via `model.save()` or `keras.saving.save_model(model)`. This file format is considered legacy. We recommend using instead the native Keras format, e.g. `model.save('my_model.keras')` or `keras.saving.save_model(model, 'my_model.keras')`. \n"
     ]
    },
    {
     "name": "stdout",
     "output_type": "stream",
     "text": [
      "\n",
      "Epoch 110: val_loss improved from 0.00590 to 0.00584, saving model to 10Var-hpg-gru.h5\n"
     ]
    },
    {
     "name": "stderr",
     "output_type": "stream",
     "text": [
      "WARNING:absl:You are saving your model as an HDF5 file via `model.save()` or `keras.saving.save_model(model)`. This file format is considered legacy. We recommend using instead the native Keras format, e.g. `model.save('my_model.keras')` or `keras.saving.save_model(model, 'my_model.keras')`. \n"
     ]
    },
    {
     "name": "stdout",
     "output_type": "stream",
     "text": [
      "\n",
      "Epoch 111: val_loss improved from 0.00584 to 0.00555, saving model to 10Var-hpg-gru.h5\n"
     ]
    },
    {
     "name": "stderr",
     "output_type": "stream",
     "text": [
      "WARNING:absl:You are saving your model as an HDF5 file via `model.save()` or `keras.saving.save_model(model)`. This file format is considered legacy. We recommend using instead the native Keras format, e.g. `model.save('my_model.keras')` or `keras.saving.save_model(model, 'my_model.keras')`. \n"
     ]
    },
    {
     "name": "stdout",
     "output_type": "stream",
     "text": [
      "\n",
      "Epoch 112: val_loss improved from 0.00555 to 0.00552, saving model to 10Var-hpg-gru.h5\n"
     ]
    },
    {
     "name": "stderr",
     "output_type": "stream",
     "text": [
      "WARNING:absl:You are saving your model as an HDF5 file via `model.save()` or `keras.saving.save_model(model)`. This file format is considered legacy. We recommend using instead the native Keras format, e.g. `model.save('my_model.keras')` or `keras.saving.save_model(model, 'my_model.keras')`. \n"
     ]
    },
    {
     "name": "stdout",
     "output_type": "stream",
     "text": [
      "\n",
      "Epoch 113: val_loss improved from 0.00552 to 0.00535, saving model to 10Var-hpg-gru.h5\n"
     ]
    },
    {
     "name": "stderr",
     "output_type": "stream",
     "text": [
      "WARNING:absl:You are saving your model as an HDF5 file via `model.save()` or `keras.saving.save_model(model)`. This file format is considered legacy. We recommend using instead the native Keras format, e.g. `model.save('my_model.keras')` or `keras.saving.save_model(model, 'my_model.keras')`. \n"
     ]
    },
    {
     "name": "stdout",
     "output_type": "stream",
     "text": [
      "\n",
      "Epoch 114: val_loss improved from 0.00535 to 0.00531, saving model to 10Var-hpg-gru.h5\n"
     ]
    },
    {
     "name": "stderr",
     "output_type": "stream",
     "text": [
      "WARNING:absl:You are saving your model as an HDF5 file via `model.save()` or `keras.saving.save_model(model)`. This file format is considered legacy. We recommend using instead the native Keras format, e.g. `model.save('my_model.keras')` or `keras.saving.save_model(model, 'my_model.keras')`. \n"
     ]
    },
    {
     "name": "stdout",
     "output_type": "stream",
     "text": [
      "\n",
      "Epoch 115: val_loss improved from 0.00531 to 0.00520, saving model to 10Var-hpg-gru.h5\n"
     ]
    },
    {
     "name": "stderr",
     "output_type": "stream",
     "text": [
      "WARNING:absl:You are saving your model as an HDF5 file via `model.save()` or `keras.saving.save_model(model)`. This file format is considered legacy. We recommend using instead the native Keras format, e.g. `model.save('my_model.keras')` or `keras.saving.save_model(model, 'my_model.keras')`. \n"
     ]
    },
    {
     "name": "stdout",
     "output_type": "stream",
     "text": [
      "\n",
      "Epoch 116: val_loss improved from 0.00520 to 0.00514, saving model to 10Var-hpg-gru.h5\n"
     ]
    },
    {
     "name": "stderr",
     "output_type": "stream",
     "text": [
      "WARNING:absl:You are saving your model as an HDF5 file via `model.save()` or `keras.saving.save_model(model)`. This file format is considered legacy. We recommend using instead the native Keras format, e.g. `model.save('my_model.keras')` or `keras.saving.save_model(model, 'my_model.keras')`. \n"
     ]
    },
    {
     "name": "stdout",
     "output_type": "stream",
     "text": [
      "\n",
      "Epoch 117: val_loss improved from 0.00514 to 0.00500, saving model to 10Var-hpg-gru.h5\n"
     ]
    },
    {
     "name": "stderr",
     "output_type": "stream",
     "text": [
      "WARNING:absl:You are saving your model as an HDF5 file via `model.save()` or `keras.saving.save_model(model)`. This file format is considered legacy. We recommend using instead the native Keras format, e.g. `model.save('my_model.keras')` or `keras.saving.save_model(model, 'my_model.keras')`. \n"
     ]
    },
    {
     "name": "stdout",
     "output_type": "stream",
     "text": [
      "\n",
      "Epoch 118: val_loss improved from 0.00500 to 0.00495, saving model to 10Var-hpg-gru.h5\n"
     ]
    },
    {
     "name": "stderr",
     "output_type": "stream",
     "text": [
      "WARNING:absl:You are saving your model as an HDF5 file via `model.save()` or `keras.saving.save_model(model)`. This file format is considered legacy. We recommend using instead the native Keras format, e.g. `model.save('my_model.keras')` or `keras.saving.save_model(model, 'my_model.keras')`. \n"
     ]
    },
    {
     "name": "stdout",
     "output_type": "stream",
     "text": [
      "\n",
      "Epoch 119: val_loss improved from 0.00495 to 0.00480, saving model to 10Var-hpg-gru.h5\n"
     ]
    },
    {
     "name": "stderr",
     "output_type": "stream",
     "text": [
      "WARNING:absl:You are saving your model as an HDF5 file via `model.save()` or `keras.saving.save_model(model)`. This file format is considered legacy. We recommend using instead the native Keras format, e.g. `model.save('my_model.keras')` or `keras.saving.save_model(model, 'my_model.keras')`. \n"
     ]
    },
    {
     "name": "stdout",
     "output_type": "stream",
     "text": [
      "\n",
      "Epoch 120: val_loss improved from 0.00480 to 0.00473, saving model to 10Var-hpg-gru.h5\n"
     ]
    },
    {
     "name": "stderr",
     "output_type": "stream",
     "text": [
      "WARNING:absl:You are saving your model as an HDF5 file via `model.save()` or `keras.saving.save_model(model)`. This file format is considered legacy. We recommend using instead the native Keras format, e.g. `model.save('my_model.keras')` or `keras.saving.save_model(model, 'my_model.keras')`. \n"
     ]
    },
    {
     "name": "stdout",
     "output_type": "stream",
     "text": [
      "\n",
      "Epoch 121: val_loss improved from 0.00473 to 0.00462, saving model to 10Var-hpg-gru.h5\n"
     ]
    },
    {
     "name": "stderr",
     "output_type": "stream",
     "text": [
      "WARNING:absl:You are saving your model as an HDF5 file via `model.save()` or `keras.saving.save_model(model)`. This file format is considered legacy. We recommend using instead the native Keras format, e.g. `model.save('my_model.keras')` or `keras.saving.save_model(model, 'my_model.keras')`. \n"
     ]
    },
    {
     "name": "stdout",
     "output_type": "stream",
     "text": [
      "\n",
      "Epoch 122: val_loss improved from 0.00462 to 0.00456, saving model to 10Var-hpg-gru.h5\n"
     ]
    },
    {
     "name": "stderr",
     "output_type": "stream",
     "text": [
      "WARNING:absl:You are saving your model as an HDF5 file via `model.save()` or `keras.saving.save_model(model)`. This file format is considered legacy. We recommend using instead the native Keras format, e.g. `model.save('my_model.keras')` or `keras.saving.save_model(model, 'my_model.keras')`. \n"
     ]
    },
    {
     "name": "stdout",
     "output_type": "stream",
     "text": [
      "\n",
      "Epoch 123: val_loss improved from 0.00456 to 0.00447, saving model to 10Var-hpg-gru.h5\n"
     ]
    },
    {
     "name": "stderr",
     "output_type": "stream",
     "text": [
      "WARNING:absl:You are saving your model as an HDF5 file via `model.save()` or `keras.saving.save_model(model)`. This file format is considered legacy. We recommend using instead the native Keras format, e.g. `model.save('my_model.keras')` or `keras.saving.save_model(model, 'my_model.keras')`. \n"
     ]
    },
    {
     "name": "stdout",
     "output_type": "stream",
     "text": [
      "\n",
      "Epoch 124: val_loss improved from 0.00447 to 0.00435, saving model to 10Var-hpg-gru.h5\n"
     ]
    },
    {
     "name": "stderr",
     "output_type": "stream",
     "text": [
      "WARNING:absl:You are saving your model as an HDF5 file via `model.save()` or `keras.saving.save_model(model)`. This file format is considered legacy. We recommend using instead the native Keras format, e.g. `model.save('my_model.keras')` or `keras.saving.save_model(model, 'my_model.keras')`. \n"
     ]
    },
    {
     "name": "stdout",
     "output_type": "stream",
     "text": [
      "\n",
      "Epoch 125: val_loss improved from 0.00435 to 0.00427, saving model to 10Var-hpg-gru.h5\n"
     ]
    },
    {
     "name": "stderr",
     "output_type": "stream",
     "text": [
      "WARNING:absl:You are saving your model as an HDF5 file via `model.save()` or `keras.saving.save_model(model)`. This file format is considered legacy. We recommend using instead the native Keras format, e.g. `model.save('my_model.keras')` or `keras.saving.save_model(model, 'my_model.keras')`. \n"
     ]
    },
    {
     "name": "stdout",
     "output_type": "stream",
     "text": [
      "\n",
      "Epoch 126: val_loss improved from 0.00427 to 0.00418, saving model to 10Var-hpg-gru.h5\n"
     ]
    },
    {
     "name": "stderr",
     "output_type": "stream",
     "text": [
      "WARNING:absl:You are saving your model as an HDF5 file via `model.save()` or `keras.saving.save_model(model)`. This file format is considered legacy. We recommend using instead the native Keras format, e.g. `model.save('my_model.keras')` or `keras.saving.save_model(model, 'my_model.keras')`. \n"
     ]
    },
    {
     "name": "stdout",
     "output_type": "stream",
     "text": [
      "\n",
      "Epoch 127: val_loss improved from 0.00418 to 0.00411, saving model to 10Var-hpg-gru.h5\n"
     ]
    },
    {
     "name": "stderr",
     "output_type": "stream",
     "text": [
      "WARNING:absl:You are saving your model as an HDF5 file via `model.save()` or `keras.saving.save_model(model)`. This file format is considered legacy. We recommend using instead the native Keras format, e.g. `model.save('my_model.keras')` or `keras.saving.save_model(model, 'my_model.keras')`. \n"
     ]
    },
    {
     "name": "stdout",
     "output_type": "stream",
     "text": [
      "\n",
      "Epoch 128: val_loss improved from 0.00411 to 0.00404, saving model to 10Var-hpg-gru.h5\n"
     ]
    },
    {
     "name": "stderr",
     "output_type": "stream",
     "text": [
      "WARNING:absl:You are saving your model as an HDF5 file via `model.save()` or `keras.saving.save_model(model)`. This file format is considered legacy. We recommend using instead the native Keras format, e.g. `model.save('my_model.keras')` or `keras.saving.save_model(model, 'my_model.keras')`. \n"
     ]
    },
    {
     "name": "stdout",
     "output_type": "stream",
     "text": [
      "\n",
      "Epoch 129: val_loss improved from 0.00404 to 0.00396, saving model to 10Var-hpg-gru.h5\n"
     ]
    },
    {
     "name": "stderr",
     "output_type": "stream",
     "text": [
      "WARNING:absl:You are saving your model as an HDF5 file via `model.save()` or `keras.saving.save_model(model)`. This file format is considered legacy. We recommend using instead the native Keras format, e.g. `model.save('my_model.keras')` or `keras.saving.save_model(model, 'my_model.keras')`. \n"
     ]
    },
    {
     "name": "stdout",
     "output_type": "stream",
     "text": [
      "\n",
      "Epoch 130: val_loss improved from 0.00396 to 0.00392, saving model to 10Var-hpg-gru.h5\n"
     ]
    },
    {
     "name": "stderr",
     "output_type": "stream",
     "text": [
      "WARNING:absl:You are saving your model as an HDF5 file via `model.save()` or `keras.saving.save_model(model)`. This file format is considered legacy. We recommend using instead the native Keras format, e.g. `model.save('my_model.keras')` or `keras.saving.save_model(model, 'my_model.keras')`. \n"
     ]
    },
    {
     "name": "stdout",
     "output_type": "stream",
     "text": [
      "\n",
      "Epoch 131: val_loss improved from 0.00392 to 0.00387, saving model to 10Var-hpg-gru.h5\n"
     ]
    },
    {
     "name": "stderr",
     "output_type": "stream",
     "text": [
      "WARNING:absl:You are saving your model as an HDF5 file via `model.save()` or `keras.saving.save_model(model)`. This file format is considered legacy. We recommend using instead the native Keras format, e.g. `model.save('my_model.keras')` or `keras.saving.save_model(model, 'my_model.keras')`. \n"
     ]
    },
    {
     "name": "stdout",
     "output_type": "stream",
     "text": [
      "\n",
      "Epoch 132: val_loss improved from 0.00387 to 0.00381, saving model to 10Var-hpg-gru.h5\n"
     ]
    },
    {
     "name": "stderr",
     "output_type": "stream",
     "text": [
      "WARNING:absl:You are saving your model as an HDF5 file via `model.save()` or `keras.saving.save_model(model)`. This file format is considered legacy. We recommend using instead the native Keras format, e.g. `model.save('my_model.keras')` or `keras.saving.save_model(model, 'my_model.keras')`. \n"
     ]
    },
    {
     "name": "stdout",
     "output_type": "stream",
     "text": [
      "\n",
      "Epoch 133: val_loss improved from 0.00381 to 0.00376, saving model to 10Var-hpg-gru.h5\n"
     ]
    },
    {
     "name": "stderr",
     "output_type": "stream",
     "text": [
      "WARNING:absl:You are saving your model as an HDF5 file via `model.save()` or `keras.saving.save_model(model)`. This file format is considered legacy. We recommend using instead the native Keras format, e.g. `model.save('my_model.keras')` or `keras.saving.save_model(model, 'my_model.keras')`. \n"
     ]
    },
    {
     "name": "stdout",
     "output_type": "stream",
     "text": [
      "\n",
      "Epoch 134: val_loss improved from 0.00376 to 0.00372, saving model to 10Var-hpg-gru.h5\n"
     ]
    },
    {
     "name": "stderr",
     "output_type": "stream",
     "text": [
      "WARNING:absl:You are saving your model as an HDF5 file via `model.save()` or `keras.saving.save_model(model)`. This file format is considered legacy. We recommend using instead the native Keras format, e.g. `model.save('my_model.keras')` or `keras.saving.save_model(model, 'my_model.keras')`. \n"
     ]
    },
    {
     "name": "stdout",
     "output_type": "stream",
     "text": [
      "\n",
      "Epoch 135: val_loss improved from 0.00372 to 0.00368, saving model to 10Var-hpg-gru.h5\n"
     ]
    },
    {
     "name": "stderr",
     "output_type": "stream",
     "text": [
      "WARNING:absl:You are saving your model as an HDF5 file via `model.save()` or `keras.saving.save_model(model)`. This file format is considered legacy. We recommend using instead the native Keras format, e.g. `model.save('my_model.keras')` or `keras.saving.save_model(model, 'my_model.keras')`. \n"
     ]
    },
    {
     "name": "stdout",
     "output_type": "stream",
     "text": [
      "\n",
      "Epoch 136: val_loss improved from 0.00368 to 0.00368, saving model to 10Var-hpg-gru.h5\n"
     ]
    },
    {
     "name": "stderr",
     "output_type": "stream",
     "text": [
      "WARNING:absl:You are saving your model as an HDF5 file via `model.save()` or `keras.saving.save_model(model)`. This file format is considered legacy. We recommend using instead the native Keras format, e.g. `model.save('my_model.keras')` or `keras.saving.save_model(model, 'my_model.keras')`. \n"
     ]
    },
    {
     "name": "stdout",
     "output_type": "stream",
     "text": [
      "\n",
      "Epoch 137: val_loss improved from 0.00368 to 0.00367, saving model to 10Var-hpg-gru.h5\n"
     ]
    },
    {
     "name": "stderr",
     "output_type": "stream",
     "text": [
      "WARNING:absl:You are saving your model as an HDF5 file via `model.save()` or `keras.saving.save_model(model)`. This file format is considered legacy. We recommend using instead the native Keras format, e.g. `model.save('my_model.keras')` or `keras.saving.save_model(model, 'my_model.keras')`. \n"
     ]
    },
    {
     "name": "stdout",
     "output_type": "stream",
     "text": [
      "\n",
      "Epoch 138: val_loss did not improve from 0.00367\n",
      "\n",
      "Epoch 139: val_loss did not improve from 0.00367\n",
      "\n",
      "Epoch 140: val_loss did not improve from 0.00367\n",
      "\n",
      "Epoch 141: val_loss did not improve from 0.00367\n",
      "\n",
      "Epoch 142: val_loss did not improve from 0.00367\n",
      "\n",
      "Epoch 143: val_loss did not improve from 0.00367\n",
      "\n",
      "Epoch 144: val_loss did not improve from 0.00367\n",
      "\n",
      "Epoch 145: val_loss did not improve from 0.00367\n",
      "\n",
      "Epoch 146: val_loss did not improve from 0.00367\n",
      "\n",
      "Epoch 147: val_loss did not improve from 0.00367\n",
      "\n",
      "Epoch 148: val_loss did not improve from 0.00367\n",
      "\n",
      "Epoch 149: val_loss did not improve from 0.00367\n",
      "\n",
      "Epoch 150: val_loss did not improve from 0.00367\n",
      "\n",
      "Epoch 151: val_loss did not improve from 0.00367\n",
      "\n",
      "Epoch 152: val_loss did not improve from 0.00367\n",
      "\n",
      "Epoch 153: val_loss did not improve from 0.00367\n",
      "\n",
      "Epoch 154: val_loss did not improve from 0.00367\n",
      "\n",
      "Epoch 155: val_loss did not improve from 0.00367\n",
      "\n",
      "Epoch 156: val_loss did not improve from 0.00367\n",
      "\n",
      "Epoch 157: val_loss did not improve from 0.00367\n",
      "\n",
      "Epoch 158: val_loss did not improve from 0.00367\n",
      "\n",
      "Epoch 159: val_loss did not improve from 0.00367\n",
      "\n",
      "Epoch 160: val_loss did not improve from 0.00367\n",
      "\n",
      "Epoch 161: val_loss did not improve from 0.00367\n",
      "\n",
      "Epoch 162: val_loss did not improve from 0.00367\n",
      "\n",
      "Epoch 163: val_loss did not improve from 0.00367\n",
      "\n",
      "Epoch 164: val_loss did not improve from 0.00367\n",
      "\n",
      "Epoch 165: val_loss did not improve from 0.00367\n",
      "\n",
      "Epoch 166: val_loss did not improve from 0.00367\n",
      "\n",
      "Epoch 167: val_loss did not improve from 0.00367\n",
      "\n",
      "Epoch 168: val_loss did not improve from 0.00367\n",
      "\n",
      "Epoch 169: val_loss did not improve from 0.00367\n",
      "\n",
      "Epoch 170: val_loss did not improve from 0.00367\n",
      "\n",
      "Epoch 171: val_loss did not improve from 0.00367\n",
      "\n",
      "Epoch 172: val_loss did not improve from 0.00367\n",
      "\n",
      "Epoch 173: val_loss did not improve from 0.00367\n",
      "\n",
      "Epoch 174: val_loss did not improve from 0.00367\n",
      "\n",
      "Epoch 175: val_loss did not improve from 0.00367\n",
      "\n",
      "Epoch 176: val_loss did not improve from 0.00367\n",
      "\n",
      "Epoch 177: val_loss did not improve from 0.00367\n",
      "\n",
      "Epoch 178: val_loss did not improve from 0.00367\n",
      "\n",
      "Epoch 179: val_loss did not improve from 0.00367\n",
      "\n",
      "Epoch 180: val_loss did not improve from 0.00367\n",
      "\n",
      "Epoch 181: val_loss did not improve from 0.00367\n",
      "\n",
      "Epoch 182: val_loss did not improve from 0.00367\n",
      "\n",
      "Epoch 183: val_loss did not improve from 0.00367\n",
      "\n",
      "Epoch 184: val_loss did not improve from 0.00367\n",
      "\n",
      "Epoch 185: val_loss did not improve from 0.00367\n",
      "\n",
      "Epoch 186: val_loss did not improve from 0.00367\n",
      "\n",
      "Epoch 187: val_loss did not improve from 0.00367\n",
      "\n",
      "Epoch 188: val_loss did not improve from 0.00367\n",
      "\n",
      "Epoch 189: val_loss did not improve from 0.00367\n",
      "\n",
      "Epoch 190: val_loss did not improve from 0.00367\n",
      "\n",
      "Epoch 191: val_loss did not improve from 0.00367\n",
      "\n",
      "Epoch 192: val_loss did not improve from 0.00367\n",
      "\n",
      "Epoch 193: val_loss did not improve from 0.00367\n",
      "\n",
      "Epoch 194: val_loss did not improve from 0.00367\n",
      "\n",
      "Epoch 195: val_loss did not improve from 0.00367\n",
      "\n",
      "Epoch 196: val_loss did not improve from 0.00367\n",
      "\n",
      "Epoch 197: val_loss did not improve from 0.00367\n",
      "\n",
      "Epoch 198: val_loss did not improve from 0.00367\n",
      "\n",
      "Epoch 199: val_loss did not improve from 0.00367\n",
      "\n",
      "Epoch 200: val_loss did not improve from 0.00367\n"
     ]
    }
   ],
   "source": [
    "timesteps = 30\n",
    "hl = [40, 35]\n",
    "lr = 1e-4\n",
    "batch_size = 32\n",
    "num_epochs = 200\n",
    "\n",
    "model, train_loss, val_loss = fit_model_3(train, val, timesteps, hl, lr, batch_size, num_epochs)"
   ]
  },
  {
   "cell_type": "markdown",
   "metadata": {},
   "source": [
    "### Bước 6: Đánh giá mô hình và trực quan hóa kết quả"
   ]
  },
  {
   "cell_type": "markdown",
   "metadata": {},
   "source": [
    "#### 6.1. Vẽ biểu đồ train_loss và val_loss"
   ]
  },
  {
   "cell_type": "code",
   "execution_count": 66,
   "metadata": {},
   "outputs": [
    {
     "data": {
      "image/png": "[encoded data removed]",
      "text/plain": [
       "<Figure size 640x480 with 1 Axes>"
      ]
     },
     "metadata": {},
     "output_type": "display_data"
    }
   ],
   "source": [
    "plot_error(train_error, val_error)"
   ]
  },
  {
   "cell_type": "markdown",
   "metadata": {},
   "source": [
    "#### 6.2. Đánh giá mô hình trên tập test"
   ]
  },
  {
   "cell_type": "code",
   "execution_count": 67,
   "metadata": {},
   "outputs": [
    {
     "name": "stdout",
     "output_type": "stream",
     "text": [
      "\u001b[1m20/20\u001b[0m \u001b[32m━━━━━━━━━━━━━━━━━━━━\u001b[0m\u001b[37m\u001b[0m \u001b[1m2s\u001b[0m 42ms/step\n"
     ]
    }
   ],
   "source": [
    "mse, rmse, mape, r2, true, predicted = evaluate_model_3(model, test, timesteps)"
   ]
  },
  {
   "cell_type": "code",
   "execution_count": 68,
   "metadata": {},
   "outputs": [
    {
     "name": "stdout",
     "output_type": "stream",
     "text": [
      "MSE = 0.009244120548516081\n",
      "RMSE = 0.09614634963697832\n",
      "MAPE = 0.05267980001025357\n",
      "R-Squared Score = 0.8887704466101446\n"
     ]
    }
   ],
   "source": [
    "print('MSE = {}'.format(mse))\n",
    "print('RMSE = {}'.format(rmse))\n",
    "print('MAPE = {}'.format(mape))\n",
    "print('R-Squared Score = {}'.format(r2))"
   ]
  },
  {
   "cell_type": "markdown",
   "metadata": {},
   "source": [
    "#### 6.3. Vẽ đồ thị dự đoán vs thực tế"
   ]
  },
  {
   "cell_type": "code",
   "execution_count": 69,
   "metadata": {},
   "outputs": [
    {
     "data": {
      "image/png": "[encoded data removed]",
      "text/plain": [
       "<Figure size 640x480 with 1 Axes>"
      ]
     },
     "metadata": {},
     "output_type": "display_data"
    }
   ],
   "source": [
    "plot_data_3(true, predicted)"
   ]
  },
  {
   "cell_type": "code",
   "execution_count": 67,
   "metadata": {},
   "outputs": [],
   "source": [
    "# Save a model\n",
    "model.save('10VAR-hpg-gru.keras')"
   ]
  },
  {
   "cell_type": "code",
   "execution_count": 206,
   "metadata": {},
   "outputs": [],
   "source": [
    "del model"
   ]
  },
  {
   "cell_type": "markdown",
   "metadata": {},
   "source": [
    "# Model 3: Multivariate-3-LSTM"
   ]
  },
  {
   "cell_type": "markdown",
   "metadata": {},
   "source": [
    "## LSTM"
   ]
  },
  {
   "cell_type": "markdown",
   "metadata": {},
   "source": [
    "### Import các thư viện cần thiết"
   ]
  },
  {
   "cell_type": "code",
   "execution_count": 2,
   "metadata": {},
   "outputs": [],
   "source": [
    "import os\n",
    "os.environ['PYTHONHASHSEED'] = '0' # đảm bảo rằng các giá trị băm của đối tượng bất biến (dict, set, chuỗi, tuple...) luôn giống nhau giữa các lần chạy\n",
    "\n",
    "import random as rn\n",
    "import numpy as np\n",
    "np.random.seed(1)\n",
    "rn.seed(3)\n",
    "import tensorflow as tf\n",
    "tf.random.set_seed(2)"
   ]
  },
  {
   "cell_type": "code",
   "execution_count": 3,
   "metadata": {},
   "outputs": [],
   "source": [
    "import sys\n",
    "import numpy as np\n",
    "import pandas as pd\n",
    "import matplotlib.pyplot as plt"
   ]
  },
  {
   "cell_type": "code",
   "execution_count": 4,
   "metadata": {},
   "outputs": [],
   "source": [
    "import tensorflow as tf\n",
    "from tensorflow.keras.models import Sequential, load_model\n",
    "from tensorflow.keras.layers import LSTM, Dropout, Dense\n",
    "from tensorflow.keras import optimizers"
   ]
  },
  {
   "cell_type": "code",
   "execution_count": 5,
   "metadata": {},
   "outputs": [],
   "source": [
    "from tensorflow.keras.callbacks import EarlyStopping, ModelCheckpoint\n",
    "from tensorflow.keras.optimizers import Adam\n",
    "from sklearn.preprocessing import MinMaxScaler\n",
    "from sklearn.metrics import mean_squared_error, r2_score, mean_absolute_percentage_error\n",
    "from math import sqrt\n",
    "import datetime as dt\n",
    "import time"
   ]
  },
  {
   "cell_type": "code",
   "execution_count": 6,
   "metadata": {},
   "outputs": [],
   "source": [
    "plt.style.use('ggplot')"
   ]
  },
  {
   "cell_type": "markdown",
   "metadata": {},
   "source": [
    "### Hàm callback"
   ]
  },
  {
   "cell_type": "code",
   "execution_count": 7,
   "metadata": {},
   "outputs": [],
   "source": [
    "earlystop = EarlyStopping(monitor='val_loss', min_delta=0.0001, patience=80,  verbose=1, mode='min')  \n",
    "checkpoint = ModelCheckpoint(\n",
    "    filepath=\"10Var_hpg_lstm.h5\",   # Tên file lưu mô hình\n",
    "    monitor=\"val_loss\",         # Theo dõi val_loss\n",
    "    save_best_only=True,        # Chỉ lưu khi tốt hơn mô hình trước đó\n",
    "    mode=\"min\",                 # Giảm min của val_loss là tốt nhất\n",
    "    verbose=1\n",
    ")\n",
    "callbacks_list = [earlystop, checkpoint] "
   ]
  },
  {
   "cell_type": "markdown",
   "metadata": {},
   "source": [
    "### Đọc dữ liệu từ file csv"
   ]
  },
  {
   "cell_type": "code",
   "execution_count": null,
   "metadata": {},
   "outputs": [],
   "source": [
    "url = r\"hpg_history.csv\"\n",
    "df = pd.read_csv(url, parse_dates= True, index_col= 0)"
   ]
  },
  {
   "cell_type": "code",
   "execution_count": 9,
   "metadata": {},
   "outputs": [
    {
     "data": {
      "text/html": [
       "<div>\n",
       "<style scoped>\n",
       "    .dataframe tbody tr th:only-of-type {\n",
       "        vertical-align: middle;\n",
       "    }\n",
       "\n",
       "    .dataframe tbody tr th {\n",
       "        vertical-align: top;\n",
       "    }\n",
       "\n",
       "    .dataframe thead th {\n",
       "        text-align: right;\n",
       "    }\n",
       "</style>\n",
       "<table border=\"1\" class=\"dataframe\">\n",
       "  <thead>\n",
       "    <tr style=\"text-align: right;\">\n",
       "      <th></th>\n",
       "      <th>open</th>\n",
       "      <th>high</th>\n",
       "      <th>low</th>\n",
       "      <th>close</th>\n",
       "      <th>volume</th>\n",
       "    </tr>\n",
       "    <tr>\n",
       "      <th>time</th>\n",
       "      <th></th>\n",
       "      <th></th>\n",
       "      <th></th>\n",
       "      <th></th>\n",
       "      <th></th>\n",
       "    </tr>\n",
       "  </thead>\n",
       "  <tbody>\n",
       "    <tr>\n",
       "      <th>2007-11-16</th>\n",
       "      <td>2.29</td>\n",
       "      <td>2.29</td>\n",
       "      <td>2.29</td>\n",
       "      <td>2.29</td>\n",
       "      <td>248510</td>\n",
       "    </tr>\n",
       "    <tr>\n",
       "      <th>2007-11-19</th>\n",
       "      <td>2.17</td>\n",
       "      <td>2.17</td>\n",
       "      <td>2.17</td>\n",
       "      <td>2.17</td>\n",
       "      <td>120480</td>\n",
       "    </tr>\n",
       "    <tr>\n",
       "      <th>2007-11-20</th>\n",
       "      <td>2.08</td>\n",
       "      <td>2.08</td>\n",
       "      <td>2.08</td>\n",
       "      <td>2.08</td>\n",
       "      <td>58710</td>\n",
       "    </tr>\n",
       "    <tr>\n",
       "      <th>2007-11-21</th>\n",
       "      <td>1.99</td>\n",
       "      <td>2.16</td>\n",
       "      <td>1.99</td>\n",
       "      <td>2.16</td>\n",
       "      <td>728080</td>\n",
       "    </tr>\n",
       "    <tr>\n",
       "      <th>2007-11-22</th>\n",
       "      <td>2.16</td>\n",
       "      <td>2.16</td>\n",
       "      <td>2.08</td>\n",
       "      <td>2.16</td>\n",
       "      <td>266040</td>\n",
       "    </tr>\n",
       "  </tbody>\n",
       "</table>\n",
       "</div>"
      ],
      "text/plain": [
       "            open  high   low  close  volume\n",
       "time                                       \n",
       "2007-11-16  2.29  2.29  2.29   2.29  248510\n",
       "2007-11-19  2.17  2.17  2.17   2.17  120480\n",
       "2007-11-20  2.08  2.08  2.08   2.08   58710\n",
       "2007-11-21  1.99  2.16  1.99   2.16  728080\n",
       "2007-11-22  2.16  2.16  2.08   2.16  266040"
      ]
     },
     "execution_count": 9,
     "metadata": {},
     "output_type": "execute_result"
    }
   ],
   "source": [
    "df.head()"
   ]
  },
  {
   "cell_type": "code",
   "execution_count": 10,
   "metadata": {},
   "outputs": [
    {
     "data": {
      "text/plain": [
       "open      0\n",
       "high      0\n",
       "low       0\n",
       "close     0\n",
       "volume    0\n",
       "dtype: int64"
      ]
     },
     "execution_count": 10,
     "metadata": {},
     "output_type": "execute_result"
    }
   ],
   "source": [
    "df.isnull().sum()"
   ]
  },
  {
   "cell_type": "markdown",
   "metadata": {},
   "source": [
    "### Tiền xử lí dữ liệu"
   ]
  },
  {
   "cell_type": "code",
   "execution_count": 11,
   "metadata": {},
   "outputs": [],
   "source": [
    "# Xóa các dòng có giá trị Volume bằng 0\n",
    "df.drop(df[df['volume']==0].index, inplace=True)"
   ]
  },
  {
   "cell_type": "code",
   "execution_count": 12,
   "metadata": {},
   "outputs": [
    {
     "data": {
      "text/plain": [
       "open      0.999667\n",
       "high      0.999857\n",
       "low       0.999838\n",
       "close     1.000000\n",
       "volume    0.799299\n",
       "Name: close, dtype: float64"
      ]
     },
     "execution_count": 12,
     "metadata": {},
     "output_type": "execute_result"
    }
   ],
   "source": [
    "# Ma trận tương quan (ở đây là Pearson tương quan tuyến tính)\n",
    "df.corr()['close']"
   ]
  },
  {
   "cell_type": "code",
   "execution_count": 13,
   "metadata": {},
   "outputs": [
    {
     "name": "stdout",
     "output_type": "stream",
     "text": [
      "count    4.320000e+03\n",
      "mean     7.877410e+06\n",
      "std      1.133795e+07\n",
      "min      5.000000e+01\n",
      "25%      4.646300e+05\n",
      "50%      2.422785e+06\n",
      "75%      1.233620e+07\n",
      "max      9.967998e+07\n",
      "Name: volume, dtype: float64\n"
     ]
    },
    {
     "data": {
      "text/plain": [
       "<Axes: >"
      ]
     },
     "execution_count": 13,
     "metadata": {},
     "output_type": "execute_result"
    },
    {
     "data": {
      "image/png": "[encoded data removed]",
      "text/plain": [
       "<Figure size 640x480 with 1 Axes>"
      ]
     },
     "metadata": {},
     "output_type": "display_data"
    }
   ],
   "source": [
    "print(df.describe().volume) \n",
    "df['volume'].hist(bins= 10)"
   ]
  },
  {
   "cell_type": "code",
   "execution_count": 14,
   "metadata": {},
   "outputs": [],
   "source": [
    "# Bổ sung các chỉ báo kĩ thuật\n",
    "\n",
    "# Tính CMA10\n",
    "df['CMA10'] = df['close'].rolling(window=10, center=True).mean()\n",
    "# Tính SMA10\n",
    "df['SMA10'] = df['close'].rolling(window=10).mean()\n",
    "# Tính SMA50\n",
    "df['SMA50'] = df['close'].rolling(window=50).mean()\n",
    "# Tính EMA12 và EMA26\n",
    "df['EMA12'] = df['close'].ewm(span=12, adjust=False).mean()\n",
    "df['EMA26'] = df['close'].ewm(span=26, adjust=False).mean()\n",
    "# Tính MACD\n",
    "df['MACD'] = df['EMA12'] - df['EMA26']\n",
    "#Tính RSI\n",
    "# Tính giá tăng/giảm\n",
    "delta = df['close'].diff()\n",
    "\n",
    "# Tính giá tăng\n",
    "gain = delta.where(delta > 0, 0)\n",
    "\n",
    "# Tính giá giảm\n",
    "loss = -delta.where(delta < 0, 0)\n",
    "\n",
    "# Tính trung bình động\n",
    "avg_gain = gain.rolling(window=14).mean()\n",
    "avg_loss = loss.rolling(window=14).mean()\n",
    "\n",
    "# Tính RS và RSI\n",
    "rs = avg_gain / avg_loss\n",
    "df['RSI'] = 100 - (100 / (1 + rs))\n",
    "\n",
    "#Tính CCI\n",
    "# Tính giá trung bình\n",
    "typical_price = (df['high'] + df['low'] + df['close']) / 3\n",
    "\n",
    "# Tính SMA của giá trung bình\n",
    "sma_typical_price = typical_price.rolling(window=20).mean()\n",
    "\n",
    "# Tính độ lệch chuẩn\n",
    "mean_deviation = typical_price.rolling(window=20).apply(lambda x: np.mean(np.abs(x - x.mean())))\n",
    "\n",
    "# Tính CCI\n",
    "df['CCI'] = (typical_price - sma_typical_price) / (0.015 * mean_deviation)\n",
    "# Tính %K và %D\n",
    "low_min = df['low'].rolling(window=14).min()\n",
    "high_max = df['high'].rolling(window=14).max()\n",
    "\n",
    "df['%K'] = 100 * (df['close'] - low_min) / (high_max - low_min)\n",
    "df['%D'] = df['%K'].rolling(window=3).mean()"
   ]
  },
  {
   "cell_type": "code",
   "execution_count": 15,
   "metadata": {},
   "outputs": [
    {
     "name": "stdout",
     "output_type": "stream",
     "text": [
      "            open  high   low  close  volume  CMA10  SMA10  SMA50     EMA12  \\\n",
      "time                                                                         \n",
      "2007-11-16  2.29  2.29  2.29   2.29  248510    NaN    NaN    NaN  2.290000   \n",
      "2007-11-19  2.17  2.17  2.17   2.17  120480    NaN    NaN    NaN  2.271538   \n",
      "2007-11-20  2.08  2.08  2.08   2.08   58710    NaN    NaN    NaN  2.242071   \n",
      "2007-11-21  1.99  2.16  1.99   2.16  728080    NaN    NaN    NaN  2.229445   \n",
      "2007-11-22  2.16  2.16  2.08   2.16  266040    NaN    NaN    NaN  2.218761   \n",
      "\n",
      "               EMA26      MACD  RSI  CCI  %K  %D  \n",
      "time                                              \n",
      "2007-11-16  2.290000  0.000000  NaN  NaN NaN NaN  \n",
      "2007-11-19  2.281111 -0.009573  NaN  NaN NaN NaN  \n",
      "2007-11-20  2.266214 -0.024143  NaN  NaN NaN NaN  \n",
      "2007-11-21  2.258346 -0.028902  NaN  NaN NaN NaN  \n",
      "2007-11-22  2.251061 -0.032300  NaN  NaN NaN NaN  \n"
     ]
    },
    {
     "data": {
      "text/plain": [
       "(4320, 15)"
      ]
     },
     "execution_count": 15,
     "metadata": {},
     "output_type": "execute_result"
    }
   ],
   "source": [
    "print(df.head())\n",
    "df.shape"
   ]
  },
  {
   "cell_type": "markdown",
   "metadata": {},
   "source": [
    "## Train model / Hàm **fit_model_4()**"
   ]
  },
  {
   "cell_type": "code",
   "execution_count": 16,
   "metadata": {},
   "outputs": [],
   "source": [
    "def fit_model_4(train, val, timesteps, hl, lr, batch, epochs):\n",
    "    X_train = []\n",
    "    Y_train = []\n",
    "    X_val = []\n",
    "    Y_val = []\n",
    "\n",
    "    for i in range(timesteps, train.shape[0]):\n",
    "        X_train.append(train[i-timesteps:i])\n",
    "        Y_train.append(train[i][0])\n",
    "    X_train, Y_train = np.array(X_train), np.array(Y_train)\n",
    "\n",
    "    for i in range(timesteps, val.shape[0]):\n",
    "        X_val.append(val[i-timesteps:i])\n",
    "        Y_val.append(val[i][0])\n",
    "    X_val, Y_val = np.array(X_val), np.array(Y_val)\n",
    "\n",
    "    # Xây dựng mô hình\n",
    "    model = Sequential()\n",
    "    model.add(LSTM(X_train.shape[2], input_shape= (X_train.shape[1], X_train.shape[2]), activation='relu', return_sequences= True))\n",
    "    for i in range(len(hl)-1):\n",
    "        model.add(LSTM(hl[i], activation='relu', return_sequences= True))\n",
    "    model.add(LSTM(hl[-1], activation='relu'))\n",
    "    model.add(Dense(1))\n",
    "\n",
    "    # Biên dịch\n",
    "    model.compile(optimizer= optimizers.Adam(learning_rate= lr), loss= 'mean_squared_error')\n",
    "\n",
    "    # Huấn luyện mô hình\n",
    "    history = model.fit(X_train, Y_train, batch_size= batch, epochs= epochs, validation_data= (X_val, Y_val), verbose= 0, shuffle= False, callbacks= callbacks_list)\n",
    "\n",
    "    # Đặt lại trạng thái\n",
    "    for layer in model.layers:\n",
    "        if isinstance(layer, LSTM):\n",
    "            layer.reset_state()\n",
    "\n",
    "    return model, history.history['loss'], history.history['val_loss']"
   ]
  },
  {
   "cell_type": "markdown",
   "metadata": {},
   "source": [
    "## Hàm **Evaluate_model_4()**"
   ]
  },
  {
   "cell_type": "code",
   "execution_count": 17,
   "metadata": {},
   "outputs": [],
   "source": [
    "def evaluate_model_4(model, test, timesteps):\n",
    "    X_test = []\n",
    "    Y_test = []\n",
    "\n",
    "    for i in range(timesteps, test.shape[0]):\n",
    "        X_test.append(test[i-timesteps:i])\n",
    "        Y_test.append(test[i][0])\n",
    "    X_test, Y_test = np.array(X_test), np.array(Y_test)\n",
    "\n",
    "    # Các chỉ số\n",
    "    Y_hat = model.predict(X_test)\n",
    "    mse = mean_squared_error(Y_test, Y_hat)\n",
    "    rmse = sqrt(mse)\n",
    "    mape = mean_absolute_percentage_error(Y_test, Y_hat)\n",
    "    r2 = r2_score(Y_test, Y_hat)\n",
    "\n",
    "    return mse, rmse, mape, r2, Y_test, Y_hat"
   ]
  },
  {
   "cell_type": "markdown",
   "metadata": {},
   "source": [
    "## **Grid Search**: Tìm kiếm siêu tham số tối ưu "
   ]
  },
  {
   "cell_type": "code",
   "execution_count": 18,
   "metadata": {},
   "outputs": [],
   "source": [
    "param_grid = {\n",
    "    'timesteps': [30, 40, 50],  # Số giá trị trước đó để dự đoán\n",
    "    'hl': [ [40, 35]], # Cấu trúc lớp ẩn\n",
    "    'lr': [1e-3, 1e-4],  # Tốc độ học\n",
    "    'batch_size': [32, 64],  # Kích thước batch\n",
    "    'num_epochs': [200, 250],  # Số epoch\n",
    "}"
   ]
  },
  {
   "cell_type": "code",
   "execution_count": 19,
   "metadata": {},
   "outputs": [],
   "source": [
    "from itertools import product\n",
    "import pandas as pd\n",
    "\n",
    "# Hàm Grid Search\n",
    "def grid_search_rnn(train, val, test, param_grid):\n",
    "    results = []  # Lưu kết quả của từng tổ hợp tham số\n",
    "    best_score = float('inf')  # Lưu RMSE tốt nhất\n",
    "    best_params = None  # Lưu bộ tham số tốt nhất\n",
    "\n",
    "    # Tạo tất cả các tổ hợp tham số\n",
    "    all_combinations = list(product(*param_grid.values()))\n",
    "    param_names = list(param_grid.keys())\n",
    "\n",
    "    for combination in all_combinations:\n",
    "        # Gán giá trị tham số hiện tại\n",
    "        params = dict(zip(param_names, combination))\n",
    "        timesteps = params['timesteps']\n",
    "        hl = params['hl']\n",
    "        lr = params['lr']\n",
    "        batch_size = params['batch_size']\n",
    "        num_epochs = params['num_epochs']\n",
    "\n",
    "        print(f\"Training with params: {params}\")\n",
    "\n",
    "        # Huấn luyện mô hình\n",
    "        model, train_loss, val_loss = fit_model_4(\n",
    "            train, val, timesteps, hl, lr, batch_size, num_epochs\n",
    "        )\n",
    "\n",
    "        # Đánh giá mô hình\n",
    "        mse, rmse, mape, r2, _, _ = evaluate_model_4(model, test, timesteps)\n",
    "\n",
    "        # Lưu kết quả\n",
    "        results.append({\n",
    "            'timesteps': timesteps,\n",
    "            'hl': hl,\n",
    "            'lr': lr,\n",
    "            'batch_size': batch_size,\n",
    "            'num_epochs': num_epochs,\n",
    "            'MSE': mse,\n",
    "            'RMSE': rmse,\n",
    "            'MAPE': mape,\n",
    "            'R²': r2\n",
    "        })\n",
    "\n",
    "        # Cập nhật tham số tốt nhất nếu RMSE cải thiện\n",
    "        if rmse < best_score:\n",
    "            best_score = rmse\n",
    "            best_params = params\n",
    "\n",
    "    # Trả về kết quả\n",
    "    results_df = pd.DataFrame(results)\n",
    "    return best_params, best_score, results_df\n"
   ]
  },
  {
   "cell_type": "markdown",
   "metadata": {},
   "source": [
    "## Plot chart (vẽ biểu đồ)"
   ]
  },
  {
   "cell_type": "code",
   "execution_count": 20,
   "metadata": {},
   "outputs": [],
   "source": [
    "# Plotting the predictions\n",
    "def plot_data_4(Y_test, Y_hat):\n",
    "    plt.plot(Y_test, c = 'r')\n",
    "    plt.plot(Y_hat, c = 'y')\n",
    "    plt.xlabel('Day')\n",
    "    plt.ylabel('Price')\n",
    "    plt.title('Stock Prediction Graph using Multivariate-LSTM model')\n",
    "    plt.legend(['Actual', 'Predicted'], loc = 'lower right')\n",
    "    plt.show()"
   ]
  },
  {
   "cell_type": "code",
   "execution_count": 21,
   "metadata": {},
   "outputs": [],
   "source": [
    "# Plotting the training errors: trực quan loss qua các epoch -> thấy qtr học mô hình, xem có overfitting ko\n",
    "def plot_error(train_loss, val_loss):\n",
    "    plt.plot(train_loss, c = 'r')\n",
    "    plt.plot(val_loss, c = 'b')\n",
    "    plt.ylabel('Loss')\n",
    "    plt.xlabel('Epochs')\n",
    "    plt.title('Train Loss and Validation Loss Curve')\n",
    "    plt.legend(['train', 'val'], loc = 'upper right')\n",
    "    plt.show()"
   ]
  },
  {
   "cell_type": "markdown",
   "metadata": {},
   "source": [
    "## **Model building**: Xây dựng mô hình"
   ]
  },
  {
   "cell_type": "markdown",
   "metadata": {},
   "source": [
    "### Bước 1: Trích xuất và trực quan hóa dữ liệu"
   ]
  },
  {
   "cell_type": "code",
   "execution_count": 22,
   "metadata": {},
   "outputs": [
    {
     "name": "stdout",
     "output_type": "stream",
     "text": [
      "(4267, 10)\n"
     ]
    },
    {
     "data": {
      "text/html": [
       "<div>\n",
       "<style scoped>\n",
       "    .dataframe tbody tr th:only-of-type {\n",
       "        vertical-align: middle;\n",
       "    }\n",
       "\n",
       "    .dataframe tbody tr th {\n",
       "        vertical-align: top;\n",
       "    }\n",
       "\n",
       "    .dataframe thead th {\n",
       "        text-align: right;\n",
       "    }\n",
       "</style>\n",
       "<table border=\"1\" class=\"dataframe\">\n",
       "  <thead>\n",
       "    <tr style=\"text-align: right;\">\n",
       "      <th></th>\n",
       "      <th>close</th>\n",
       "      <th>CMA10</th>\n",
       "      <th>SMA10</th>\n",
       "      <th>SMA50</th>\n",
       "      <th>EMA12</th>\n",
       "      <th>RSI</th>\n",
       "      <th>CCI</th>\n",
       "      <th>%K</th>\n",
       "      <th>%D</th>\n",
       "      <th>MACD</th>\n",
       "    </tr>\n",
       "  </thead>\n",
       "  <tbody>\n",
       "    <tr>\n",
       "      <th>count</th>\n",
       "      <td>4267.000000</td>\n",
       "      <td>4267.000000</td>\n",
       "      <td>4267.00000</td>\n",
       "      <td>4267.000000</td>\n",
       "      <td>4267.000000</td>\n",
       "      <td>4267.000000</td>\n",
       "      <td>4267.000000</td>\n",
       "      <td>4267.000000</td>\n",
       "      <td>4267.000000</td>\n",
       "      <td>4267.000000</td>\n",
       "    </tr>\n",
       "    <tr>\n",
       "      <th>mean</th>\n",
       "      <td>10.025397</td>\n",
       "      <td>10.022310</td>\n",
       "      <td>9.99800</td>\n",
       "      <td>9.880565</td>\n",
       "      <td>9.992086</td>\n",
       "      <td>52.254060</td>\n",
       "      <td>12.008518</td>\n",
       "      <td>53.007353</td>\n",
       "      <td>53.000609</td>\n",
       "      <td>0.041366</td>\n",
       "    </tr>\n",
       "    <tr>\n",
       "      <th>std</th>\n",
       "      <td>10.126221</td>\n",
       "      <td>10.118056</td>\n",
       "      <td>10.10649</td>\n",
       "      <td>10.019039</td>\n",
       "      <td>10.097556</td>\n",
       "      <td>17.992688</td>\n",
       "      <td>112.438235</td>\n",
       "      <td>30.851704</td>\n",
       "      <td>29.031483</td>\n",
       "      <td>0.373255</td>\n",
       "    </tr>\n",
       "    <tr>\n",
       "      <th>min</th>\n",
       "      <td>0.680000</td>\n",
       "      <td>0.710000</td>\n",
       "      <td>0.71000</td>\n",
       "      <td>0.793800</td>\n",
       "      <td>0.726093</td>\n",
       "      <td>0.000000</td>\n",
       "      <td>-486.486486</td>\n",
       "      <td>0.000000</td>\n",
       "      <td>0.000000</td>\n",
       "      <td>-1.739242</td>\n",
       "    </tr>\n",
       "    <tr>\n",
       "      <th>25%</th>\n",
       "      <td>1.780000</td>\n",
       "      <td>1.778000</td>\n",
       "      <td>1.77800</td>\n",
       "      <td>1.760400</td>\n",
       "      <td>1.776499</td>\n",
       "      <td>38.724730</td>\n",
       "      <td>-76.041990</td>\n",
       "      <td>25.730277</td>\n",
       "      <td>26.681097</td>\n",
       "      <td>-0.045488</td>\n",
       "    </tr>\n",
       "    <tr>\n",
       "      <th>50%</th>\n",
       "      <td>5.680000</td>\n",
       "      <td>5.725000</td>\n",
       "      <td>5.70500</td>\n",
       "      <td>5.174200</td>\n",
       "      <td>5.719069</td>\n",
       "      <td>52.577320</td>\n",
       "      <td>21.806854</td>\n",
       "      <td>55.445545</td>\n",
       "      <td>55.238095</td>\n",
       "      <td>0.020672</td>\n",
       "    </tr>\n",
       "    <tr>\n",
       "      <th>75%</th>\n",
       "      <td>15.415000</td>\n",
       "      <td>15.376000</td>\n",
       "      <td>15.21950</td>\n",
       "      <td>15.065600</td>\n",
       "      <td>15.178271</td>\n",
       "      <td>66.146301</td>\n",
       "      <td>101.156626</td>\n",
       "      <td>80.702355</td>\n",
       "      <td>79.987975</td>\n",
       "      <td>0.119916</td>\n",
       "    </tr>\n",
       "    <tr>\n",
       "      <th>max</th>\n",
       "      <td>39.900000</td>\n",
       "      <td>39.285000</td>\n",
       "      <td>39.28500</td>\n",
       "      <td>37.489200</td>\n",
       "      <td>39.090578</td>\n",
       "      <td>100.000000</td>\n",
       "      <td>364.285714</td>\n",
       "      <td>100.000000</td>\n",
       "      <td>100.000000</td>\n",
       "      <td>2.247325</td>\n",
       "    </tr>\n",
       "  </tbody>\n",
       "</table>\n",
       "</div>"
      ],
      "text/plain": [
       "             close        CMA10       SMA10        SMA50        EMA12  \\\n",
       "count  4267.000000  4267.000000  4267.00000  4267.000000  4267.000000   \n",
       "mean     10.025397    10.022310     9.99800     9.880565     9.992086   \n",
       "std      10.126221    10.118056    10.10649    10.019039    10.097556   \n",
       "min       0.680000     0.710000     0.71000     0.793800     0.726093   \n",
       "25%       1.780000     1.778000     1.77800     1.760400     1.776499   \n",
       "50%       5.680000     5.725000     5.70500     5.174200     5.719069   \n",
       "75%      15.415000    15.376000    15.21950    15.065600    15.178271   \n",
       "max      39.900000    39.285000    39.28500    37.489200    39.090578   \n",
       "\n",
       "               RSI          CCI           %K           %D         MACD  \n",
       "count  4267.000000  4267.000000  4267.000000  4267.000000  4267.000000  \n",
       "mean     52.254060    12.008518    53.007353    53.000609     0.041366  \n",
       "std      17.992688   112.438235    30.851704    29.031483     0.373255  \n",
       "min       0.000000  -486.486486     0.000000     0.000000    -1.739242  \n",
       "25%      38.724730   -76.041990    25.730277    26.681097    -0.045488  \n",
       "50%      52.577320    21.806854    55.445545    55.238095     0.020672  \n",
       "75%      66.146301   101.156626    80.702355    79.987975     0.119916  \n",
       "max     100.000000   364.285714   100.000000   100.000000     2.247325  "
      ]
     },
     "execution_count": 22,
     "metadata": {},
     "output_type": "execute_result"
    }
   ],
   "source": [
    "# Extracting the series\n",
    "series = df[['close', 'CMA10', 'SMA10', 'SMA50', 'EMA12', 'RSI', 'CCI', '%K', '%D', 'MACD']]\n",
    "# Drop rows with NaN values\n",
    "series = series.dropna()\n",
    "\n",
    "# Display the shape and the tail of the cleaned series\n",
    "print(series.shape)\n",
    "series.describe()"
   ]
  },
  {
   "cell_type": "markdown",
   "metadata": {},
   "source": [
    "### Bước 2: Chia dữ liệu thành các tập Train, Validation, Test"
   ]
  },
  {
   "cell_type": "code",
   "execution_count": 23,
   "metadata": {},
   "outputs": [
    {
     "data": {
      "text/plain": [
       "(4267, 10)"
      ]
     },
     "execution_count": 23,
     "metadata": {},
     "output_type": "execute_result"
    }
   ],
   "source": [
    "series.shape"
   ]
  },
  {
   "cell_type": "code",
   "execution_count": 24,
   "metadata": {},
   "outputs": [
    {
     "name": "stdout",
     "output_type": "stream",
     "text": [
      "(2987, 10) (640, 10) (640, 10)\n"
     ]
    }
   ],
   "source": [
    "\n",
    "n = series.shape[0]\n",
    "val_size =  test_size = int(n * 0.15)\n",
    "train_size = n - val_size - test_size # Để tránh sai số làm mất dữ liệu\n",
    "\n",
    "# Chia tập dữ liệu theo thứ tự thời gian\n",
    "train_data = series.iloc[:train_size].values\n",
    "val_data = series.iloc[train_size:train_size + val_size].values\n",
    "test_data = series.iloc[(train_size + val_size):].values\n",
    "# Kiểm tra kích thước của từng tập\n",
    "print(train_data.shape, val_data.shape, test_data.shape)\n"
   ]
  },
  {
   "cell_type": "markdown",
   "metadata": {},
   "source": [
    "### Bước 3: Chuẩn hóa dữ liệu bằng MinMaxScaler"
   ]
  },
  {
   "cell_type": "code",
   "execution_count": 25,
   "metadata": {},
   "outputs": [
    {
     "name": "stdout",
     "output_type": "stream",
     "text": [
      "(2987, 10) (640, 10) (640, 10)\n"
     ]
    }
   ],
   "source": [
    "np.random.seed(1)\n",
    "tf.random.set_seed(2)\n",
    "\n",
    "sc = MinMaxScaler()\n",
    "train = sc.fit_transform(train_data)\n",
    "val = sc.transform(val_data)\n",
    "test = sc.transform(test_data)\n",
    "\n",
    "print(train.shape, val.shape, test.shape)"
   ]
  },
  {
   "cell_type": "markdown",
   "metadata": {},
   "source": [
    "### Bước 4: Tìm siêu tham số tốt nhất bằng Grid Search"
   ]
  },
  {
   "cell_type": "code",
   "execution_count": 25,
   "metadata": {},
   "outputs": [
    {
     "name": "stdout",
     "output_type": "stream",
     "text": [
      "Training with params: {'timesteps': 30, 'hl': [40, 35], 'lr': 0.001, 'batch_size': 32, 'num_epochs': 200}\n"
     ]
    },
    {
     "name": "stderr",
     "output_type": "stream",
     "text": [
      "c:\\Users\\84368\\AppData\\Local\\Programs\\Python\\Python311\\Lib\\site-packages\\keras\\src\\layers\\rnn\\rnn.py:200: UserWarning: Do not pass an `input_shape`/`input_dim` argument to a layer. When using Sequential models, prefer using an `Input(shape)` object as the first layer in the model instead.\n",
      "  super().__init__(**kwargs)\n"
     ]
    },
    {
     "name": "stdout",
     "output_type": "stream",
     "text": [
      "\n",
      "Epoch 1: val_loss improved from inf to 0.34059, saving model to 10Var_hpg_lstm.h5\n"
     ]
    },
    {
     "name": "stderr",
     "output_type": "stream",
     "text": [
      "WARNING:absl:You are saving your model as an HDF5 file via `model.save()` or `keras.saving.save_model(model)`. This file format is considered legacy. We recommend using instead the native Keras format, e.g. `model.save('my_model.keras')` or `keras.saving.save_model(model, 'my_model.keras')`. \n"
     ]
    },
    {
     "name": "stdout",
     "output_type": "stream",
     "text": [
      "\n",
      "Epoch 2: val_loss improved from 0.34059 to 0.10461, saving model to 10Var_hpg_lstm.h5\n"
     ]
    },
    {
     "name": "stderr",
     "output_type": "stream",
     "text": [
      "WARNING:absl:You are saving your model as an HDF5 file via `model.save()` or `keras.saving.save_model(model)`. This file format is considered legacy. We recommend using instead the native Keras format, e.g. `model.save('my_model.keras')` or `keras.saving.save_model(model, 'my_model.keras')`. \n"
     ]
    },
    {
     "name": "stdout",
     "output_type": "stream",
     "text": [
      "\n",
      "Epoch 3: val_loss did not improve from 0.10461\n",
      "\n",
      "Epoch 4: val_loss did not improve from 0.10461\n",
      "\n",
      "Epoch 5: val_loss did not improve from 0.10461\n",
      "\n",
      "Epoch 6: val_loss did not improve from 0.10461\n",
      "\n",
      "Epoch 7: val_loss did not improve from 0.10461\n",
      "\n",
      "Epoch 8: val_loss did not improve from 0.10461\n",
      "\n",
      "Epoch 9: val_loss did not improve from 0.10461\n",
      "\n",
      "Epoch 10: val_loss did not improve from 0.10461\n",
      "\n",
      "Epoch 11: val_loss did not improve from 0.10461\n",
      "\n",
      "Epoch 12: val_loss did not improve from 0.10461\n",
      "\n",
      "Epoch 13: val_loss did not improve from 0.10461\n",
      "\n",
      "Epoch 14: val_loss did not improve from 0.10461\n",
      "\n",
      "Epoch 15: val_loss did not improve from 0.10461\n",
      "\n",
      "Epoch 16: val_loss improved from 0.10461 to 0.07478, saving model to 10Var_hpg_lstm.h5\n"
     ]
    },
    {
     "name": "stderr",
     "output_type": "stream",
     "text": [
      "WARNING:absl:You are saving your model as an HDF5 file via `model.save()` or `keras.saving.save_model(model)`. This file format is considered legacy. We recommend using instead the native Keras format, e.g. `model.save('my_model.keras')` or `keras.saving.save_model(model, 'my_model.keras')`. \n"
     ]
    },
    {
     "name": "stdout",
     "output_type": "stream",
     "text": [
      "\n",
      "Epoch 17: val_loss improved from 0.07478 to 0.06678, saving model to 10Var_hpg_lstm.h5\n"
     ]
    },
    {
     "name": "stderr",
     "output_type": "stream",
     "text": [
      "WARNING:absl:You are saving your model as an HDF5 file via `model.save()` or `keras.saving.save_model(model)`. This file format is considered legacy. We recommend using instead the native Keras format, e.g. `model.save('my_model.keras')` or `keras.saving.save_model(model, 'my_model.keras')`. \n"
     ]
    },
    {
     "name": "stdout",
     "output_type": "stream",
     "text": [
      "\n",
      "Epoch 18: val_loss did not improve from 0.06678\n",
      "\n",
      "Epoch 19: val_loss did not improve from 0.06678\n",
      "\n",
      "Epoch 20: val_loss did not improve from 0.06678\n",
      "\n",
      "Epoch 21: val_loss did not improve from 0.06678\n",
      "\n",
      "Epoch 22: val_loss did not improve from 0.06678\n",
      "\n",
      "Epoch 23: val_loss did not improve from 0.06678\n",
      "\n",
      "Epoch 24: val_loss did not improve from 0.06678\n",
      "\n",
      "Epoch 25: val_loss did not improve from 0.06678\n",
      "\n",
      "Epoch 26: val_loss did not improve from 0.06678\n",
      "\n",
      "Epoch 27: val_loss did not improve from 0.06678\n",
      "\n",
      "Epoch 28: val_loss did not improve from 0.06678\n",
      "\n",
      "Epoch 29: val_loss did not improve from 0.06678\n",
      "\n",
      "Epoch 30: val_loss did not improve from 0.06678\n",
      "\n",
      "Epoch 31: val_loss did not improve from 0.06678\n",
      "\n",
      "Epoch 32: val_loss did not improve from 0.06678\n",
      "\n",
      "Epoch 33: val_loss did not improve from 0.06678\n",
      "\n",
      "Epoch 34: val_loss did not improve from 0.06678\n",
      "\n",
      "Epoch 35: val_loss improved from 0.06678 to 0.06629, saving model to 10Var_hpg_lstm.h5\n"
     ]
    },
    {
     "name": "stderr",
     "output_type": "stream",
     "text": [
      "WARNING:absl:You are saving your model as an HDF5 file via `model.save()` or `keras.saving.save_model(model)`. This file format is considered legacy. We recommend using instead the native Keras format, e.g. `model.save('my_model.keras')` or `keras.saving.save_model(model, 'my_model.keras')`. \n"
     ]
    },
    {
     "name": "stdout",
     "output_type": "stream",
     "text": [
      "\n",
      "Epoch 36: val_loss did not improve from 0.06629\n",
      "\n",
      "Epoch 37: val_loss improved from 0.06629 to 0.06588, saving model to 10Var_hpg_lstm.h5\n"
     ]
    },
    {
     "name": "stderr",
     "output_type": "stream",
     "text": [
      "WARNING:absl:You are saving your model as an HDF5 file via `model.save()` or `keras.saving.save_model(model)`. This file format is considered legacy. We recommend using instead the native Keras format, e.g. `model.save('my_model.keras')` or `keras.saving.save_model(model, 'my_model.keras')`. \n"
     ]
    },
    {
     "name": "stdout",
     "output_type": "stream",
     "text": [
      "\n",
      "Epoch 38: val_loss did not improve from 0.06588\n",
      "\n",
      "Epoch 39: val_loss did not improve from 0.06588\n",
      "\n",
      "Epoch 40: val_loss did not improve from 0.06588\n",
      "\n",
      "Epoch 41: val_loss did not improve from 0.06588\n",
      "\n",
      "Epoch 42: val_loss did not improve from 0.06588\n",
      "\n",
      "Epoch 43: val_loss improved from 0.06588 to 0.06147, saving model to 10Var_hpg_lstm.h5\n"
     ]
    },
    {
     "name": "stderr",
     "output_type": "stream",
     "text": [
      "WARNING:absl:You are saving your model as an HDF5 file via `model.save()` or `keras.saving.save_model(model)`. This file format is considered legacy. We recommend using instead the native Keras format, e.g. `model.save('my_model.keras')` or `keras.saving.save_model(model, 'my_model.keras')`. \n"
     ]
    },
    {
     "name": "stdout",
     "output_type": "stream",
     "text": [
      "\n",
      "Epoch 44: val_loss did not improve from 0.06147\n",
      "\n",
      "Epoch 45: val_loss improved from 0.06147 to 0.04038, saving model to 10Var_hpg_lstm.h5\n"
     ]
    },
    {
     "name": "stderr",
     "output_type": "stream",
     "text": [
      "WARNING:absl:You are saving your model as an HDF5 file via `model.save()` or `keras.saving.save_model(model)`. This file format is considered legacy. We recommend using instead the native Keras format, e.g. `model.save('my_model.keras')` or `keras.saving.save_model(model, 'my_model.keras')`. \n"
     ]
    },
    {
     "name": "stdout",
     "output_type": "stream",
     "text": [
      "\n",
      "Epoch 46: val_loss did not improve from 0.04038\n",
      "\n",
      "Epoch 47: val_loss improved from 0.04038 to 0.03638, saving model to 10Var_hpg_lstm.h5\n"
     ]
    },
    {
     "name": "stderr",
     "output_type": "stream",
     "text": [
      "WARNING:absl:You are saving your model as an HDF5 file via `model.save()` or `keras.saving.save_model(model)`. This file format is considered legacy. We recommend using instead the native Keras format, e.g. `model.save('my_model.keras')` or `keras.saving.save_model(model, 'my_model.keras')`. \n"
     ]
    },
    {
     "name": "stdout",
     "output_type": "stream",
     "text": [
      "\n",
      "Epoch 48: val_loss improved from 0.03638 to 0.03284, saving model to 10Var_hpg_lstm.h5\n"
     ]
    },
    {
     "name": "stderr",
     "output_type": "stream",
     "text": [
      "WARNING:absl:You are saving your model as an HDF5 file via `model.save()` or `keras.saving.save_model(model)`. This file format is considered legacy. We recommend using instead the native Keras format, e.g. `model.save('my_model.keras')` or `keras.saving.save_model(model, 'my_model.keras')`. \n"
     ]
    },
    {
     "name": "stdout",
     "output_type": "stream",
     "text": [
      "\n",
      "Epoch 49: val_loss improved from 0.03284 to 0.02921, saving model to 10Var_hpg_lstm.h5\n"
     ]
    },
    {
     "name": "stderr",
     "output_type": "stream",
     "text": [
      "WARNING:absl:You are saving your model as an HDF5 file via `model.save()` or `keras.saving.save_model(model)`. This file format is considered legacy. We recommend using instead the native Keras format, e.g. `model.save('my_model.keras')` or `keras.saving.save_model(model, 'my_model.keras')`. \n"
     ]
    },
    {
     "name": "stdout",
     "output_type": "stream",
     "text": [
      "\n",
      "Epoch 50: val_loss improved from 0.02921 to 0.02606, saving model to 10Var_hpg_lstm.h5\n"
     ]
    },
    {
     "name": "stderr",
     "output_type": "stream",
     "text": [
      "WARNING:absl:You are saving your model as an HDF5 file via `model.save()` or `keras.saving.save_model(model)`. This file format is considered legacy. We recommend using instead the native Keras format, e.g. `model.save('my_model.keras')` or `keras.saving.save_model(model, 'my_model.keras')`. \n"
     ]
    },
    {
     "name": "stdout",
     "output_type": "stream",
     "text": [
      "\n",
      "Epoch 51: val_loss improved from 0.02606 to 0.02315, saving model to 10Var_hpg_lstm.h5\n"
     ]
    },
    {
     "name": "stderr",
     "output_type": "stream",
     "text": [
      "WARNING:absl:You are saving your model as an HDF5 file via `model.save()` or `keras.saving.save_model(model)`. This file format is considered legacy. We recommend using instead the native Keras format, e.g. `model.save('my_model.keras')` or `keras.saving.save_model(model, 'my_model.keras')`. \n"
     ]
    },
    {
     "name": "stdout",
     "output_type": "stream",
     "text": [
      "\n",
      "Epoch 52: val_loss improved from 0.02315 to 0.02061, saving model to 10Var_hpg_lstm.h5\n"
     ]
    },
    {
     "name": "stderr",
     "output_type": "stream",
     "text": [
      "WARNING:absl:You are saving your model as an HDF5 file via `model.save()` or `keras.saving.save_model(model)`. This file format is considered legacy. We recommend using instead the native Keras format, e.g. `model.save('my_model.keras')` or `keras.saving.save_model(model, 'my_model.keras')`. \n"
     ]
    },
    {
     "name": "stdout",
     "output_type": "stream",
     "text": [
      "\n",
      "Epoch 53: val_loss improved from 0.02061 to 0.01845, saving model to 10Var_hpg_lstm.h5\n"
     ]
    },
    {
     "name": "stderr",
     "output_type": "stream",
     "text": [
      "WARNING:absl:You are saving your model as an HDF5 file via `model.save()` or `keras.saving.save_model(model)`. This file format is considered legacy. We recommend using instead the native Keras format, e.g. `model.save('my_model.keras')` or `keras.saving.save_model(model, 'my_model.keras')`. \n"
     ]
    },
    {
     "name": "stdout",
     "output_type": "stream",
     "text": [
      "\n",
      "Epoch 54: val_loss improved from 0.01845 to 0.01664, saving model to 10Var_hpg_lstm.h5\n"
     ]
    },
    {
     "name": "stderr",
     "output_type": "stream",
     "text": [
      "WARNING:absl:You are saving your model as an HDF5 file via `model.save()` or `keras.saving.save_model(model)`. This file format is considered legacy. We recommend using instead the native Keras format, e.g. `model.save('my_model.keras')` or `keras.saving.save_model(model, 'my_model.keras')`. \n"
     ]
    },
    {
     "name": "stdout",
     "output_type": "stream",
     "text": [
      "\n",
      "Epoch 55: val_loss improved from 0.01664 to 0.01513, saving model to 10Var_hpg_lstm.h5\n"
     ]
    },
    {
     "name": "stderr",
     "output_type": "stream",
     "text": [
      "WARNING:absl:You are saving your model as an HDF5 file via `model.save()` or `keras.saving.save_model(model)`. This file format is considered legacy. We recommend using instead the native Keras format, e.g. `model.save('my_model.keras')` or `keras.saving.save_model(model, 'my_model.keras')`. \n"
     ]
    },
    {
     "name": "stdout",
     "output_type": "stream",
     "text": [
      "\n",
      "Epoch 56: val_loss improved from 0.01513 to 0.01392, saving model to 10Var_hpg_lstm.h5\n"
     ]
    },
    {
     "name": "stderr",
     "output_type": "stream",
     "text": [
      "WARNING:absl:You are saving your model as an HDF5 file via `model.save()` or `keras.saving.save_model(model)`. This file format is considered legacy. We recommend using instead the native Keras format, e.g. `model.save('my_model.keras')` or `keras.saving.save_model(model, 'my_model.keras')`. \n"
     ]
    },
    {
     "name": "stdout",
     "output_type": "stream",
     "text": [
      "\n",
      "Epoch 57: val_loss improved from 0.01392 to 0.01295, saving model to 10Var_hpg_lstm.h5\n"
     ]
    },
    {
     "name": "stderr",
     "output_type": "stream",
     "text": [
      "WARNING:absl:You are saving your model as an HDF5 file via `model.save()` or `keras.saving.save_model(model)`. This file format is considered legacy. We recommend using instead the native Keras format, e.g. `model.save('my_model.keras')` or `keras.saving.save_model(model, 'my_model.keras')`. \n"
     ]
    },
    {
     "name": "stdout",
     "output_type": "stream",
     "text": [
      "\n",
      "Epoch 58: val_loss improved from 0.01295 to 0.01222, saving model to 10Var_hpg_lstm.h5\n"
     ]
    },
    {
     "name": "stderr",
     "output_type": "stream",
     "text": [
      "WARNING:absl:You are saving your model as an HDF5 file via `model.save()` or `keras.saving.save_model(model)`. This file format is considered legacy. We recommend using instead the native Keras format, e.g. `model.save('my_model.keras')` or `keras.saving.save_model(model, 'my_model.keras')`. \n"
     ]
    },
    {
     "name": "stdout",
     "output_type": "stream",
     "text": [
      "\n",
      "Epoch 59: val_loss improved from 0.01222 to 0.01173, saving model to 10Var_hpg_lstm.h5\n"
     ]
    },
    {
     "name": "stderr",
     "output_type": "stream",
     "text": [
      "WARNING:absl:You are saving your model as an HDF5 file via `model.save()` or `keras.saving.save_model(model)`. This file format is considered legacy. We recommend using instead the native Keras format, e.g. `model.save('my_model.keras')` or `keras.saving.save_model(model, 'my_model.keras')`. \n"
     ]
    },
    {
     "name": "stdout",
     "output_type": "stream",
     "text": [
      "\n",
      "Epoch 60: val_loss improved from 0.01173 to 0.01145, saving model to 10Var_hpg_lstm.h5\n"
     ]
    },
    {
     "name": "stderr",
     "output_type": "stream",
     "text": [
      "WARNING:absl:You are saving your model as an HDF5 file via `model.save()` or `keras.saving.save_model(model)`. This file format is considered legacy. We recommend using instead the native Keras format, e.g. `model.save('my_model.keras')` or `keras.saving.save_model(model, 'my_model.keras')`. \n"
     ]
    },
    {
     "name": "stdout",
     "output_type": "stream",
     "text": [
      "\n",
      "Epoch 61: val_loss improved from 0.01145 to 0.01143, saving model to 10Var_hpg_lstm.h5\n"
     ]
    },
    {
     "name": "stderr",
     "output_type": "stream",
     "text": [
      "WARNING:absl:You are saving your model as an HDF5 file via `model.save()` or `keras.saving.save_model(model)`. This file format is considered legacy. We recommend using instead the native Keras format, e.g. `model.save('my_model.keras')` or `keras.saving.save_model(model, 'my_model.keras')`. \n"
     ]
    },
    {
     "name": "stdout",
     "output_type": "stream",
     "text": [
      "\n",
      "Epoch 62: val_loss did not improve from 0.01143\n",
      "\n",
      "Epoch 63: val_loss did not improve from 0.01143\n",
      "\n",
      "Epoch 64: val_loss did not improve from 0.01143\n",
      "\n",
      "Epoch 65: val_loss did not improve from 0.01143\n",
      "\n",
      "Epoch 66: val_loss did not improve from 0.01143\n",
      "\n",
      "Epoch 67: val_loss did not improve from 0.01143\n",
      "\n",
      "Epoch 68: val_loss did not improve from 0.01143\n",
      "\n",
      "Epoch 69: val_loss did not improve from 0.01143\n",
      "\n",
      "Epoch 70: val_loss did not improve from 0.01143\n",
      "\n",
      "Epoch 71: val_loss did not improve from 0.01143\n",
      "\n",
      "Epoch 72: val_loss did not improve from 0.01143\n",
      "\n",
      "Epoch 73: val_loss did not improve from 0.01143\n",
      "\n",
      "Epoch 74: val_loss did not improve from 0.01143\n",
      "\n",
      "Epoch 75: val_loss did not improve from 0.01143\n",
      "\n",
      "Epoch 76: val_loss did not improve from 0.01143\n",
      "\n",
      "Epoch 77: val_loss did not improve from 0.01143\n",
      "\n",
      "Epoch 78: val_loss did not improve from 0.01143\n",
      "\n",
      "Epoch 79: val_loss did not improve from 0.01143\n",
      "\n",
      "Epoch 80: val_loss did not improve from 0.01143\n",
      "\n",
      "Epoch 81: val_loss did not improve from 0.01143\n",
      "\n",
      "Epoch 82: val_loss did not improve from 0.01143\n",
      "\n",
      "Epoch 83: val_loss did not improve from 0.01143\n",
      "\n",
      "Epoch 84: val_loss did not improve from 0.01143\n",
      "\n",
      "Epoch 85: val_loss did not improve from 0.01143\n",
      "\n",
      "Epoch 86: val_loss did not improve from 0.01143\n",
      "\n",
      "Epoch 87: val_loss did not improve from 0.01143\n",
      "\n",
      "Epoch 88: val_loss did not improve from 0.01143\n",
      "\n",
      "Epoch 89: val_loss did not improve from 0.01143\n",
      "\n",
      "Epoch 90: val_loss did not improve from 0.01143\n",
      "\n",
      "Epoch 91: val_loss did not improve from 0.01143\n",
      "\n",
      "Epoch 92: val_loss did not improve from 0.01143\n",
      "\n",
      "Epoch 93: val_loss did not improve from 0.01143\n",
      "\n",
      "Epoch 94: val_loss did not improve from 0.01143\n",
      "\n",
      "Epoch 95: val_loss did not improve from 0.01143\n",
      "\n",
      "Epoch 96: val_loss did not improve from 0.01143\n",
      "\n",
      "Epoch 97: val_loss did not improve from 0.01143\n",
      "\n",
      "Epoch 98: val_loss did not improve from 0.01143\n",
      "\n",
      "Epoch 99: val_loss did not improve from 0.01143\n",
      "\n",
      "Epoch 100: val_loss did not improve from 0.01143\n",
      "\n",
      "Epoch 101: val_loss did not improve from 0.01143\n",
      "\n",
      "Epoch 102: val_loss did not improve from 0.01143\n",
      "\n",
      "Epoch 103: val_loss did not improve from 0.01143\n",
      "\n",
      "Epoch 104: val_loss did not improve from 0.01143\n",
      "\n",
      "Epoch 105: val_loss did not improve from 0.01143\n",
      "\n",
      "Epoch 106: val_loss did not improve from 0.01143\n",
      "\n",
      "Epoch 107: val_loss did not improve from 0.01143\n",
      "\n",
      "Epoch 108: val_loss did not improve from 0.01143\n",
      "\n",
      "Epoch 109: val_loss did not improve from 0.01143\n",
      "\n",
      "Epoch 110: val_loss did not improve from 0.01143\n",
      "\n",
      "Epoch 111: val_loss did not improve from 0.01143\n",
      "\n",
      "Epoch 112: val_loss did not improve from 0.01143\n",
      "\n",
      "Epoch 113: val_loss did not improve from 0.01143\n",
      "\n",
      "Epoch 114: val_loss did not improve from 0.01143\n",
      "\n",
      "Epoch 115: val_loss did not improve from 0.01143\n",
      "\n",
      "Epoch 116: val_loss did not improve from 0.01143\n",
      "\n",
      "Epoch 117: val_loss did not improve from 0.01143\n",
      "\n",
      "Epoch 118: val_loss did not improve from 0.01143\n",
      "\n",
      "Epoch 119: val_loss did not improve from 0.01143\n",
      "\n",
      "Epoch 120: val_loss did not improve from 0.01143\n",
      "\n",
      "Epoch 121: val_loss did not improve from 0.01143\n",
      "\n",
      "Epoch 122: val_loss did not improve from 0.01143\n",
      "\n",
      "Epoch 123: val_loss did not improve from 0.01143\n",
      "\n",
      "Epoch 124: val_loss did not improve from 0.01143\n",
      "\n",
      "Epoch 125: val_loss did not improve from 0.01143\n",
      "\n",
      "Epoch 126: val_loss did not improve from 0.01143\n",
      "\n",
      "Epoch 127: val_loss did not improve from 0.01143\n",
      "\n",
      "Epoch 128: val_loss did not improve from 0.01143\n",
      "\n",
      "Epoch 129: val_loss did not improve from 0.01143\n",
      "\n",
      "Epoch 130: val_loss did not improve from 0.01143\n",
      "\n",
      "Epoch 131: val_loss did not improve from 0.01143\n",
      "\n",
      "Epoch 132: val_loss did not improve from 0.01143\n",
      "\n",
      "Epoch 133: val_loss did not improve from 0.01143\n",
      "\n",
      "Epoch 134: val_loss did not improve from 0.01143\n",
      "\n",
      "Epoch 135: val_loss did not improve from 0.01143\n",
      "\n",
      "Epoch 136: val_loss did not improve from 0.01143\n",
      "\n",
      "Epoch 137: val_loss did not improve from 0.01143\n",
      "\n",
      "Epoch 138: val_loss did not improve from 0.01143\n",
      "\n",
      "Epoch 139: val_loss did not improve from 0.01143\n",
      "\n",
      "Epoch 140: val_loss did not improve from 0.01143\n",
      "Epoch 140: early stopping\n",
      "\u001b[1m20/20\u001b[0m \u001b[32m━━━━━━━━━━━━━━━━━━━━\u001b[0m\u001b[37m\u001b[0m \u001b[1m1s\u001b[0m 25ms/step\n",
      "Training with params: {'timesteps': 30, 'hl': [40, 35], 'lr': 0.001, 'batch_size': 32, 'num_epochs': 250}\n"
     ]
    },
    {
     "name": "stderr",
     "output_type": "stream",
     "text": [
      "c:\\Users\\84368\\AppData\\Local\\Programs\\Python\\Python311\\Lib\\site-packages\\keras\\src\\layers\\rnn\\rnn.py:200: UserWarning: Do not pass an `input_shape`/`input_dim` argument to a layer. When using Sequential models, prefer using an `Input(shape)` object as the first layer in the model instead.\n",
      "  super().__init__(**kwargs)\n"
     ]
    },
    {
     "name": "stdout",
     "output_type": "stream",
     "text": [
      "\n",
      "Epoch 1: val_loss did not improve from 0.01143\n",
      "\n",
      "Epoch 2: val_loss did not improve from 0.01143\n",
      "\n",
      "Epoch 3: val_loss did not improve from 0.01143\n",
      "\n",
      "Epoch 4: val_loss did not improve from 0.01143\n",
      "\n",
      "Epoch 5: val_loss did not improve from 0.01143\n",
      "\n",
      "Epoch 6: val_loss did not improve from 0.01143\n",
      "\n",
      "Epoch 7: val_loss did not improve from 0.01143\n",
      "\n",
      "Epoch 8: val_loss did not improve from 0.01143\n",
      "\n",
      "Epoch 9: val_loss did not improve from 0.01143\n",
      "\n",
      "Epoch 10: val_loss did not improve from 0.01143\n",
      "\n",
      "Epoch 11: val_loss did not improve from 0.01143\n",
      "\n",
      "Epoch 12: val_loss did not improve from 0.01143\n",
      "\n",
      "Epoch 13: val_loss did not improve from 0.01143\n",
      "\n",
      "Epoch 14: val_loss did not improve from 0.01143\n",
      "\n",
      "Epoch 15: val_loss did not improve from 0.01143\n",
      "\n",
      "Epoch 16: val_loss did not improve from 0.01143\n",
      "\n",
      "Epoch 17: val_loss did not improve from 0.01143\n",
      "\n",
      "Epoch 18: val_loss did not improve from 0.01143\n",
      "\n",
      "Epoch 19: val_loss did not improve from 0.01143\n",
      "\n",
      "Epoch 20: val_loss did not improve from 0.01143\n",
      "\n",
      "Epoch 21: val_loss did not improve from 0.01143\n",
      "\n",
      "Epoch 22: val_loss did not improve from 0.01143\n",
      "\n",
      "Epoch 23: val_loss did not improve from 0.01143\n",
      "\n",
      "Epoch 24: val_loss did not improve from 0.01143\n",
      "\n",
      "Epoch 25: val_loss did not improve from 0.01143\n",
      "\n",
      "Epoch 26: val_loss did not improve from 0.01143\n",
      "\n",
      "Epoch 27: val_loss did not improve from 0.01143\n",
      "\n",
      "Epoch 28: val_loss did not improve from 0.01143\n",
      "\n",
      "Epoch 29: val_loss did not improve from 0.01143\n",
      "\n",
      "Epoch 30: val_loss did not improve from 0.01143\n",
      "\n",
      "Epoch 31: val_loss did not improve from 0.01143\n",
      "\n",
      "Epoch 32: val_loss did not improve from 0.01143\n",
      "\n",
      "Epoch 33: val_loss did not improve from 0.01143\n",
      "\n",
      "Epoch 34: val_loss did not improve from 0.01143\n",
      "\n",
      "Epoch 35: val_loss did not improve from 0.01143\n",
      "\n",
      "Epoch 36: val_loss did not improve from 0.01143\n",
      "\n",
      "Epoch 37: val_loss did not improve from 0.01143\n",
      "\n",
      "Epoch 38: val_loss did not improve from 0.01143\n",
      "\n",
      "Epoch 39: val_loss did not improve from 0.01143\n",
      "\n",
      "Epoch 40: val_loss did not improve from 0.01143\n",
      "\n",
      "Epoch 41: val_loss did not improve from 0.01143\n",
      "\n",
      "Epoch 42: val_loss did not improve from 0.01143\n",
      "\n",
      "Epoch 43: val_loss did not improve from 0.01143\n",
      "\n",
      "Epoch 44: val_loss did not improve from 0.01143\n",
      "\n",
      "Epoch 45: val_loss did not improve from 0.01143\n",
      "\n",
      "Epoch 46: val_loss did not improve from 0.01143\n",
      "\n",
      "Epoch 47: val_loss did not improve from 0.01143\n",
      "\n",
      "Epoch 48: val_loss did not improve from 0.01143\n",
      "\n",
      "Epoch 49: val_loss did not improve from 0.01143\n",
      "\n",
      "Epoch 50: val_loss did not improve from 0.01143\n",
      "\n",
      "Epoch 51: val_loss did not improve from 0.01143\n",
      "\n",
      "Epoch 52: val_loss did not improve from 0.01143\n",
      "\n",
      "Epoch 53: val_loss did not improve from 0.01143\n",
      "\n",
      "Epoch 54: val_loss did not improve from 0.01143\n",
      "\n",
      "Epoch 55: val_loss did not improve from 0.01143\n",
      "\n",
      "Epoch 56: val_loss did not improve from 0.01143\n",
      "\n",
      "Epoch 57: val_loss did not improve from 0.01143\n",
      "\n",
      "Epoch 58: val_loss did not improve from 0.01143\n",
      "\n",
      "Epoch 59: val_loss did not improve from 0.01143\n",
      "\n",
      "Epoch 60: val_loss did not improve from 0.01143\n",
      "\n",
      "Epoch 61: val_loss did not improve from 0.01143\n",
      "\n",
      "Epoch 62: val_loss did not improve from 0.01143\n",
      "\n",
      "Epoch 63: val_loss did not improve from 0.01143\n",
      "\n",
      "Epoch 64: val_loss did not improve from 0.01143\n",
      "\n",
      "Epoch 65: val_loss did not improve from 0.01143\n",
      "\n",
      "Epoch 66: val_loss did not improve from 0.01143\n",
      "\n",
      "Epoch 67: val_loss did not improve from 0.01143\n",
      "\n",
      "Epoch 68: val_loss did not improve from 0.01143\n",
      "\n",
      "Epoch 69: val_loss did not improve from 0.01143\n",
      "\n",
      "Epoch 70: val_loss did not improve from 0.01143\n",
      "\n",
      "Epoch 71: val_loss did not improve from 0.01143\n",
      "\n",
      "Epoch 72: val_loss did not improve from 0.01143\n",
      "\n",
      "Epoch 73: val_loss did not improve from 0.01143\n",
      "\n",
      "Epoch 74: val_loss did not improve from 0.01143\n",
      "\n",
      "Epoch 75: val_loss did not improve from 0.01143\n",
      "\n",
      "Epoch 76: val_loss did not improve from 0.01143\n",
      "\n",
      "Epoch 77: val_loss did not improve from 0.01143\n",
      "\n",
      "Epoch 78: val_loss did not improve from 0.01143\n",
      "\n",
      "Epoch 79: val_loss did not improve from 0.01143\n",
      "\n",
      "Epoch 80: val_loss did not improve from 0.01143\n",
      "\n",
      "Epoch 81: val_loss did not improve from 0.01143\n",
      "\n",
      "Epoch 82: val_loss did not improve from 0.01143\n",
      "\n",
      "Epoch 83: val_loss did not improve from 0.01143\n",
      "\n",
      "Epoch 84: val_loss did not improve from 0.01143\n",
      "\n",
      "Epoch 85: val_loss did not improve from 0.01143\n",
      "\n",
      "Epoch 86: val_loss did not improve from 0.01143\n",
      "Epoch 86: early stopping\n",
      "\u001b[1m20/20\u001b[0m \u001b[32m━━━━━━━━━━━━━━━━━━━━\u001b[0m\u001b[37m\u001b[0m \u001b[1m1s\u001b[0m 25ms/step\n",
      "Training with params: {'timesteps': 30, 'hl': [40, 35], 'lr': 0.001, 'batch_size': 64, 'num_epochs': 200}\n"
     ]
    },
    {
     "name": "stderr",
     "output_type": "stream",
     "text": [
      "c:\\Users\\84368\\AppData\\Local\\Programs\\Python\\Python311\\Lib\\site-packages\\keras\\src\\layers\\rnn\\rnn.py:200: UserWarning: Do not pass an `input_shape`/`input_dim` argument to a layer. When using Sequential models, prefer using an `Input(shape)` object as the first layer in the model instead.\n",
      "  super().__init__(**kwargs)\n"
     ]
    },
    {
     "name": "stdout",
     "output_type": "stream",
     "text": [
      "\n",
      "Epoch 1: val_loss did not improve from 0.01143\n",
      "\n",
      "Epoch 2: val_loss did not improve from 0.01143\n",
      "\n",
      "Epoch 3: val_loss did not improve from 0.01143\n",
      "\n",
      "Epoch 4: val_loss did not improve from 0.01143\n",
      "\n",
      "Epoch 5: val_loss did not improve from 0.01143\n",
      "\n",
      "Epoch 6: val_loss did not improve from 0.01143\n",
      "\n",
      "Epoch 7: val_loss did not improve from 0.01143\n",
      "\n",
      "Epoch 8: val_loss did not improve from 0.01143\n",
      "\n",
      "Epoch 9: val_loss did not improve from 0.01143\n",
      "\n",
      "Epoch 10: val_loss did not improve from 0.01143\n",
      "\n",
      "Epoch 11: val_loss did not improve from 0.01143\n",
      "\n",
      "Epoch 12: val_loss did not improve from 0.01143\n",
      "\n",
      "Epoch 13: val_loss did not improve from 0.01143\n",
      "\n",
      "Epoch 14: val_loss did not improve from 0.01143\n",
      "\n",
      "Epoch 15: val_loss did not improve from 0.01143\n",
      "\n",
      "Epoch 16: val_loss did not improve from 0.01143\n",
      "\n",
      "Epoch 17: val_loss did not improve from 0.01143\n",
      "\n",
      "Epoch 18: val_loss did not improve from 0.01143\n",
      "\n",
      "Epoch 19: val_loss did not improve from 0.01143\n",
      "\n",
      "Epoch 20: val_loss did not improve from 0.01143\n",
      "\n",
      "Epoch 21: val_loss did not improve from 0.01143\n",
      "\n",
      "Epoch 22: val_loss did not improve from 0.01143\n",
      "\n",
      "Epoch 23: val_loss did not improve from 0.01143\n",
      "\n",
      "Epoch 24: val_loss did not improve from 0.01143\n",
      "\n",
      "Epoch 25: val_loss did not improve from 0.01143\n",
      "\n",
      "Epoch 26: val_loss did not improve from 0.01143\n",
      "\n",
      "Epoch 27: val_loss did not improve from 0.01143\n",
      "\n",
      "Epoch 28: val_loss did not improve from 0.01143\n",
      "\n",
      "Epoch 29: val_loss did not improve from 0.01143\n",
      "\n",
      "Epoch 30: val_loss did not improve from 0.01143\n",
      "\n",
      "Epoch 31: val_loss did not improve from 0.01143\n",
      "\n",
      "Epoch 32: val_loss did not improve from 0.01143\n",
      "\n",
      "Epoch 33: val_loss did not improve from 0.01143\n",
      "\n",
      "Epoch 34: val_loss did not improve from 0.01143\n",
      "\n",
      "Epoch 35: val_loss did not improve from 0.01143\n",
      "\n",
      "Epoch 36: val_loss did not improve from 0.01143\n",
      "\n",
      "Epoch 37: val_loss did not improve from 0.01143\n",
      "\n",
      "Epoch 38: val_loss did not improve from 0.01143\n",
      "\n",
      "Epoch 39: val_loss did not improve from 0.01143\n",
      "\n",
      "Epoch 40: val_loss did not improve from 0.01143\n",
      "\n",
      "Epoch 41: val_loss did not improve from 0.01143\n",
      "\n",
      "Epoch 42: val_loss did not improve from 0.01143\n",
      "\n",
      "Epoch 43: val_loss did not improve from 0.01143\n",
      "\n",
      "Epoch 44: val_loss did not improve from 0.01143\n",
      "\n",
      "Epoch 45: val_loss did not improve from 0.01143\n",
      "\n",
      "Epoch 46: val_loss did not improve from 0.01143\n",
      "\n",
      "Epoch 47: val_loss did not improve from 0.01143\n",
      "\n",
      "Epoch 48: val_loss did not improve from 0.01143\n",
      "\n",
      "Epoch 49: val_loss did not improve from 0.01143\n",
      "\n",
      "Epoch 50: val_loss did not improve from 0.01143\n",
      "\n",
      "Epoch 51: val_loss did not improve from 0.01143\n",
      "\n",
      "Epoch 52: val_loss did not improve from 0.01143\n",
      "\n",
      "Epoch 53: val_loss did not improve from 0.01143\n",
      "\n",
      "Epoch 54: val_loss did not improve from 0.01143\n",
      "\n",
      "Epoch 55: val_loss did not improve from 0.01143\n",
      "\n",
      "Epoch 56: val_loss did not improve from 0.01143\n",
      "\n",
      "Epoch 57: val_loss did not improve from 0.01143\n",
      "\n",
      "Epoch 58: val_loss did not improve from 0.01143\n",
      "\n",
      "Epoch 59: val_loss did not improve from 0.01143\n",
      "\n",
      "Epoch 60: val_loss did not improve from 0.01143\n",
      "\n",
      "Epoch 61: val_loss did not improve from 0.01143\n",
      "\n",
      "Epoch 62: val_loss did not improve from 0.01143\n",
      "\n",
      "Epoch 63: val_loss did not improve from 0.01143\n",
      "\n",
      "Epoch 64: val_loss improved from 0.01143 to 0.01082, saving model to 10Var_hpg_lstm.h5\n"
     ]
    },
    {
     "name": "stderr",
     "output_type": "stream",
     "text": [
      "WARNING:absl:You are saving your model as an HDF5 file via `model.save()` or `keras.saving.save_model(model)`. This file format is considered legacy. We recommend using instead the native Keras format, e.g. `model.save('my_model.keras')` or `keras.saving.save_model(model, 'my_model.keras')`. \n"
     ]
    },
    {
     "name": "stdout",
     "output_type": "stream",
     "text": [
      "\n",
      "Epoch 65: val_loss improved from 0.01082 to 0.00574, saving model to 10Var_hpg_lstm.h5\n"
     ]
    },
    {
     "name": "stderr",
     "output_type": "stream",
     "text": [
      "WARNING:absl:You are saving your model as an HDF5 file via `model.save()` or `keras.saving.save_model(model)`. This file format is considered legacy. We recommend using instead the native Keras format, e.g. `model.save('my_model.keras')` or `keras.saving.save_model(model, 'my_model.keras')`. \n"
     ]
    },
    {
     "name": "stdout",
     "output_type": "stream",
     "text": [
      "\n",
      "Epoch 66: val_loss improved from 0.00574 to 0.00485, saving model to 10Var_hpg_lstm.h5\n"
     ]
    },
    {
     "name": "stderr",
     "output_type": "stream",
     "text": [
      "WARNING:absl:You are saving your model as an HDF5 file via `model.save()` or `keras.saving.save_model(model)`. This file format is considered legacy. We recommend using instead the native Keras format, e.g. `model.save('my_model.keras')` or `keras.saving.save_model(model, 'my_model.keras')`. \n"
     ]
    },
    {
     "name": "stdout",
     "output_type": "stream",
     "text": [
      "\n",
      "Epoch 67: val_loss did not improve from 0.00485\n",
      "\n",
      "Epoch 68: val_loss did not improve from 0.00485\n",
      "\n",
      "Epoch 69: val_loss did not improve from 0.00485\n",
      "\n",
      "Epoch 70: val_loss did not improve from 0.00485\n",
      "\n",
      "Epoch 71: val_loss did not improve from 0.00485\n",
      "\n",
      "Epoch 72: val_loss did not improve from 0.00485\n",
      "\n",
      "Epoch 73: val_loss did not improve from 0.00485\n",
      "\n",
      "Epoch 74: val_loss did not improve from 0.00485\n",
      "\n",
      "Epoch 75: val_loss did not improve from 0.00485\n",
      "\n",
      "Epoch 76: val_loss did not improve from 0.00485\n",
      "\n",
      "Epoch 77: val_loss did not improve from 0.00485\n",
      "\n",
      "Epoch 78: val_loss improved from 0.00485 to 0.00450, saving model to 10Var_hpg_lstm.h5\n"
     ]
    },
    {
     "name": "stderr",
     "output_type": "stream",
     "text": [
      "WARNING:absl:You are saving your model as an HDF5 file via `model.save()` or `keras.saving.save_model(model)`. This file format is considered legacy. We recommend using instead the native Keras format, e.g. `model.save('my_model.keras')` or `keras.saving.save_model(model, 'my_model.keras')`. \n"
     ]
    },
    {
     "name": "stdout",
     "output_type": "stream",
     "text": [
      "\n",
      "Epoch 79: val_loss did not improve from 0.00450\n",
      "\n",
      "Epoch 80: val_loss did not improve from 0.00450\n",
      "\n",
      "Epoch 81: val_loss did not improve from 0.00450\n",
      "\n",
      "Epoch 82: val_loss did not improve from 0.00450\n",
      "\n",
      "Epoch 83: val_loss did not improve from 0.00450\n",
      "\n",
      "Epoch 84: val_loss did not improve from 0.00450\n",
      "\n",
      "Epoch 85: val_loss did not improve from 0.00450\n",
      "\n",
      "Epoch 86: val_loss did not improve from 0.00450\n",
      "\n",
      "Epoch 87: val_loss did not improve from 0.00450\n",
      "\n",
      "Epoch 88: val_loss did not improve from 0.00450\n",
      "\n",
      "Epoch 89: val_loss did not improve from 0.00450\n",
      "\n",
      "Epoch 90: val_loss did not improve from 0.00450\n",
      "\n",
      "Epoch 91: val_loss did not improve from 0.00450\n",
      "\n",
      "Epoch 92: val_loss did not improve from 0.00450\n",
      "\n",
      "Epoch 93: val_loss did not improve from 0.00450\n",
      "\n",
      "Epoch 94: val_loss did not improve from 0.00450\n",
      "\n",
      "Epoch 95: val_loss did not improve from 0.00450\n",
      "\n",
      "Epoch 96: val_loss did not improve from 0.00450\n",
      "\n",
      "Epoch 97: val_loss did not improve from 0.00450\n",
      "\n",
      "Epoch 98: val_loss did not improve from 0.00450\n",
      "\n",
      "Epoch 99: val_loss did not improve from 0.00450\n",
      "\n",
      "Epoch 100: val_loss did not improve from 0.00450\n",
      "\n",
      "Epoch 101: val_loss did not improve from 0.00450\n",
      "\n",
      "Epoch 102: val_loss did not improve from 0.00450\n",
      "\n",
      "Epoch 103: val_loss did not improve from 0.00450\n",
      "\n",
      "Epoch 104: val_loss did not improve from 0.00450\n",
      "\n",
      "Epoch 105: val_loss did not improve from 0.00450\n",
      "\n",
      "Epoch 106: val_loss did not improve from 0.00450\n",
      "\n",
      "Epoch 107: val_loss did not improve from 0.00450\n",
      "\n",
      "Epoch 108: val_loss did not improve from 0.00450\n",
      "\n",
      "Epoch 109: val_loss did not improve from 0.00450\n",
      "\n",
      "Epoch 110: val_loss did not improve from 0.00450\n",
      "\n",
      "Epoch 111: val_loss did not improve from 0.00450\n",
      "\n",
      "Epoch 112: val_loss did not improve from 0.00450\n",
      "\n",
      "Epoch 113: val_loss did not improve from 0.00450\n",
      "\n",
      "Epoch 114: val_loss did not improve from 0.00450\n",
      "\n",
      "Epoch 115: val_loss did not improve from 0.00450\n",
      "\n",
      "Epoch 116: val_loss did not improve from 0.00450\n",
      "\n",
      "Epoch 117: val_loss did not improve from 0.00450\n",
      "\n",
      "Epoch 118: val_loss did not improve from 0.00450\n",
      "\n",
      "Epoch 119: val_loss did not improve from 0.00450\n",
      "\n",
      "Epoch 120: val_loss did not improve from 0.00450\n",
      "\n",
      "Epoch 121: val_loss did not improve from 0.00450\n",
      "\n",
      "Epoch 122: val_loss did not improve from 0.00450\n",
      "\n",
      "Epoch 123: val_loss did not improve from 0.00450\n",
      "\n",
      "Epoch 124: val_loss did not improve from 0.00450\n",
      "\n",
      "Epoch 125: val_loss did not improve from 0.00450\n",
      "\n",
      "Epoch 126: val_loss did not improve from 0.00450\n",
      "\n",
      "Epoch 127: val_loss did not improve from 0.00450\n",
      "\n",
      "Epoch 128: val_loss did not improve from 0.00450\n",
      "\n",
      "Epoch 129: val_loss did not improve from 0.00450\n",
      "\n",
      "Epoch 130: val_loss did not improve from 0.00450\n",
      "\n",
      "Epoch 131: val_loss did not improve from 0.00450\n",
      "\n",
      "Epoch 132: val_loss did not improve from 0.00450\n",
      "\n",
      "Epoch 133: val_loss did not improve from 0.00450\n",
      "\n",
      "Epoch 134: val_loss did not improve from 0.00450\n",
      "\n",
      "Epoch 135: val_loss did not improve from 0.00450\n",
      "\n",
      "Epoch 136: val_loss did not improve from 0.00450\n",
      "\n",
      "Epoch 137: val_loss did not improve from 0.00450\n",
      "\n",
      "Epoch 138: val_loss did not improve from 0.00450\n",
      "\n",
      "Epoch 139: val_loss did not improve from 0.00450\n",
      "\n",
      "Epoch 140: val_loss did not improve from 0.00450\n",
      "\n",
      "Epoch 141: val_loss did not improve from 0.00450\n",
      "\n",
      "Epoch 142: val_loss did not improve from 0.00450\n",
      "\n",
      "Epoch 143: val_loss did not improve from 0.00450\n",
      "\n",
      "Epoch 144: val_loss did not improve from 0.00450\n",
      "\n",
      "Epoch 145: val_loss did not improve from 0.00450\n",
      "\n",
      "Epoch 146: val_loss did not improve from 0.00450\n",
      "\n",
      "Epoch 147: val_loss did not improve from 0.00450\n",
      "\n",
      "Epoch 148: val_loss did not improve from 0.00450\n",
      "\n",
      "Epoch 149: val_loss did not improve from 0.00450\n",
      "\n",
      "Epoch 150: val_loss did not improve from 0.00450\n",
      "\n",
      "Epoch 151: val_loss did not improve from 0.00450\n",
      "\n",
      "Epoch 152: val_loss did not improve from 0.00450\n",
      "\n",
      "Epoch 153: val_loss did not improve from 0.00450\n",
      "\n",
      "Epoch 154: val_loss did not improve from 0.00450\n",
      "\n",
      "Epoch 155: val_loss did not improve from 0.00450\n",
      "\n",
      "Epoch 156: val_loss did not improve from 0.00450\n",
      "\n",
      "Epoch 157: val_loss did not improve from 0.00450\n",
      "\n",
      "Epoch 158: val_loss did not improve from 0.00450\n",
      "Epoch 158: early stopping\n",
      "\u001b[1m20/20\u001b[0m \u001b[32m━━━━━━━━━━━━━━━━━━━━\u001b[0m\u001b[37m\u001b[0m \u001b[1m2s\u001b[0m 66ms/step\n",
      "Training with params: {'timesteps': 30, 'hl': [40, 35], 'lr': 0.001, 'batch_size': 64, 'num_epochs': 250}\n"
     ]
    },
    {
     "name": "stderr",
     "output_type": "stream",
     "text": [
      "c:\\Users\\84368\\AppData\\Local\\Programs\\Python\\Python311\\Lib\\site-packages\\keras\\src\\layers\\rnn\\rnn.py:200: UserWarning: Do not pass an `input_shape`/`input_dim` argument to a layer. When using Sequential models, prefer using an `Input(shape)` object as the first layer in the model instead.\n",
      "  super().__init__(**kwargs)\n"
     ]
    },
    {
     "name": "stdout",
     "output_type": "stream",
     "text": [
      "\n",
      "Epoch 1: val_loss did not improve from 0.00450\n",
      "\n",
      "Epoch 2: val_loss did not improve from 0.00450\n",
      "\n",
      "Epoch 3: val_loss did not improve from 0.00450\n",
      "\n",
      "Epoch 4: val_loss did not improve from 0.00450\n",
      "\n",
      "Epoch 5: val_loss did not improve from 0.00450\n",
      "\n",
      "Epoch 6: val_loss did not improve from 0.00450\n",
      "\n",
      "Epoch 7: val_loss did not improve from 0.00450\n",
      "\n",
      "Epoch 8: val_loss did not improve from 0.00450\n",
      "\n",
      "Epoch 9: val_loss did not improve from 0.00450\n",
      "\n",
      "Epoch 10: val_loss did not improve from 0.00450\n",
      "\n",
      "Epoch 11: val_loss did not improve from 0.00450\n",
      "\n",
      "Epoch 12: val_loss did not improve from 0.00450\n",
      "\n",
      "Epoch 13: val_loss did not improve from 0.00450\n",
      "\n",
      "Epoch 14: val_loss did not improve from 0.00450\n",
      "\n",
      "Epoch 15: val_loss did not improve from 0.00450\n",
      "\n",
      "Epoch 16: val_loss did not improve from 0.00450\n",
      "\n",
      "Epoch 17: val_loss did not improve from 0.00450\n",
      "\n",
      "Epoch 18: val_loss did not improve from 0.00450\n",
      "\n",
      "Epoch 19: val_loss did not improve from 0.00450\n",
      "\n",
      "Epoch 20: val_loss did not improve from 0.00450\n",
      "\n",
      "Epoch 21: val_loss did not improve from 0.00450\n",
      "\n",
      "Epoch 22: val_loss did not improve from 0.00450\n",
      "\n",
      "Epoch 23: val_loss did not improve from 0.00450\n",
      "\n",
      "Epoch 24: val_loss did not improve from 0.00450\n",
      "\n",
      "Epoch 25: val_loss did not improve from 0.00450\n",
      "\n",
      "Epoch 26: val_loss did not improve from 0.00450\n",
      "\n",
      "Epoch 27: val_loss did not improve from 0.00450\n",
      "\n",
      "Epoch 28: val_loss did not improve from 0.00450\n",
      "\n",
      "Epoch 29: val_loss did not improve from 0.00450\n",
      "\n",
      "Epoch 30: val_loss did not improve from 0.00450\n",
      "\n",
      "Epoch 31: val_loss did not improve from 0.00450\n",
      "\n",
      "Epoch 32: val_loss did not improve from 0.00450\n",
      "\n",
      "Epoch 33: val_loss did not improve from 0.00450\n",
      "\n",
      "Epoch 34: val_loss did not improve from 0.00450\n",
      "\n",
      "Epoch 35: val_loss did not improve from 0.00450\n",
      "\n",
      "Epoch 36: val_loss did not improve from 0.00450\n",
      "\n",
      "Epoch 37: val_loss did not improve from 0.00450\n",
      "\n",
      "Epoch 38: val_loss did not improve from 0.00450\n",
      "\n",
      "Epoch 39: val_loss did not improve from 0.00450\n",
      "\n",
      "Epoch 40: val_loss did not improve from 0.00450\n",
      "\n",
      "Epoch 41: val_loss did not improve from 0.00450\n",
      "\n",
      "Epoch 42: val_loss did not improve from 0.00450\n",
      "\n",
      "Epoch 43: val_loss did not improve from 0.00450\n",
      "\n",
      "Epoch 44: val_loss did not improve from 0.00450\n",
      "\n",
      "Epoch 45: val_loss did not improve from 0.00450\n",
      "\n",
      "Epoch 46: val_loss did not improve from 0.00450\n",
      "\n",
      "Epoch 47: val_loss did not improve from 0.00450\n",
      "\n",
      "Epoch 48: val_loss did not improve from 0.00450\n",
      "\n",
      "Epoch 49: val_loss did not improve from 0.00450\n",
      "\n",
      "Epoch 50: val_loss did not improve from 0.00450\n",
      "\n",
      "Epoch 51: val_loss did not improve from 0.00450\n",
      "\n",
      "Epoch 52: val_loss did not improve from 0.00450\n",
      "\n",
      "Epoch 53: val_loss did not improve from 0.00450\n",
      "\n",
      "Epoch 54: val_loss did not improve from 0.00450\n",
      "\n",
      "Epoch 55: val_loss did not improve from 0.00450\n",
      "\n",
      "Epoch 56: val_loss did not improve from 0.00450\n",
      "\n",
      "Epoch 57: val_loss did not improve from 0.00450\n",
      "\n",
      "Epoch 58: val_loss did not improve from 0.00450\n",
      "\n",
      "Epoch 59: val_loss did not improve from 0.00450\n",
      "\n",
      "Epoch 60: val_loss did not improve from 0.00450\n",
      "\n",
      "Epoch 61: val_loss did not improve from 0.00450\n",
      "\n",
      "Epoch 62: val_loss did not improve from 0.00450\n",
      "\n",
      "Epoch 63: val_loss did not improve from 0.00450\n",
      "\n",
      "Epoch 64: val_loss did not improve from 0.00450\n",
      "\n",
      "Epoch 65: val_loss did not improve from 0.00450\n",
      "\n",
      "Epoch 66: val_loss did not improve from 0.00450\n",
      "\n",
      "Epoch 67: val_loss did not improve from 0.00450\n",
      "\n",
      "Epoch 68: val_loss did not improve from 0.00450\n",
      "\n",
      "Epoch 69: val_loss did not improve from 0.00450\n",
      "\n",
      "Epoch 70: val_loss did not improve from 0.00450\n",
      "\n",
      "Epoch 71: val_loss did not improve from 0.00450\n",
      "\n",
      "Epoch 72: val_loss did not improve from 0.00450\n",
      "\n",
      "Epoch 73: val_loss did not improve from 0.00450\n",
      "\n",
      "Epoch 74: val_loss did not improve from 0.00450\n",
      "\n",
      "Epoch 75: val_loss did not improve from 0.00450\n",
      "\n",
      "Epoch 76: val_loss did not improve from 0.00450\n",
      "\n",
      "Epoch 77: val_loss did not improve from 0.00450\n",
      "\n",
      "Epoch 78: val_loss did not improve from 0.00450\n",
      "\n",
      "Epoch 79: val_loss did not improve from 0.00450\n",
      "\n",
      "Epoch 80: val_loss did not improve from 0.00450\n",
      "\n",
      "Epoch 81: val_loss did not improve from 0.00450\n",
      "Epoch 81: early stopping\n",
      "\u001b[1m20/20\u001b[0m \u001b[32m━━━━━━━━━━━━━━━━━━━━\u001b[0m\u001b[37m\u001b[0m \u001b[1m2s\u001b[0m 72ms/step\n",
      "Training with params: {'timesteps': 30, 'hl': [40, 35], 'lr': 0.0001, 'batch_size': 32, 'num_epochs': 200}\n"
     ]
    },
    {
     "name": "stderr",
     "output_type": "stream",
     "text": [
      "c:\\Users\\84368\\AppData\\Local\\Programs\\Python\\Python311\\Lib\\site-packages\\keras\\src\\layers\\rnn\\rnn.py:200: UserWarning: Do not pass an `input_shape`/`input_dim` argument to a layer. When using Sequential models, prefer using an `Input(shape)` object as the first layer in the model instead.\n",
      "  super().__init__(**kwargs)\n"
     ]
    },
    {
     "name": "stdout",
     "output_type": "stream",
     "text": [
      "\n",
      "Epoch 1: val_loss did not improve from 0.00450\n",
      "\n",
      "Epoch 2: val_loss did not improve from 0.00450\n",
      "\n",
      "Epoch 3: val_loss did not improve from 0.00450\n",
      "\n",
      "Epoch 4: val_loss did not improve from 0.00450\n",
      "\n",
      "Epoch 5: val_loss did not improve from 0.00450\n",
      "\n",
      "Epoch 6: val_loss did not improve from 0.00450\n",
      "\n",
      "Epoch 7: val_loss did not improve from 0.00450\n",
      "\n",
      "Epoch 8: val_loss did not improve from 0.00450\n",
      "\n",
      "Epoch 9: val_loss did not improve from 0.00450\n",
      "\n",
      "Epoch 10: val_loss did not improve from 0.00450\n",
      "\n",
      "Epoch 11: val_loss did not improve from 0.00450\n",
      "\n",
      "Epoch 12: val_loss did not improve from 0.00450\n",
      "\n",
      "Epoch 13: val_loss did not improve from 0.00450\n",
      "\n",
      "Epoch 14: val_loss did not improve from 0.00450\n",
      "\n",
      "Epoch 15: val_loss did not improve from 0.00450\n",
      "\n",
      "Epoch 16: val_loss did not improve from 0.00450\n",
      "\n",
      "Epoch 17: val_loss did not improve from 0.00450\n",
      "\n",
      "Epoch 18: val_loss did not improve from 0.00450\n",
      "\n",
      "Epoch 19: val_loss did not improve from 0.00450\n",
      "\n",
      "Epoch 20: val_loss did not improve from 0.00450\n",
      "\n",
      "Epoch 21: val_loss did not improve from 0.00450\n",
      "\n",
      "Epoch 22: val_loss did not improve from 0.00450\n",
      "\n",
      "Epoch 23: val_loss did not improve from 0.00450\n",
      "\n",
      "Epoch 24: val_loss did not improve from 0.00450\n",
      "\n",
      "Epoch 25: val_loss did not improve from 0.00450\n",
      "\n",
      "Epoch 26: val_loss did not improve from 0.00450\n",
      "\n",
      "Epoch 27: val_loss did not improve from 0.00450\n",
      "\n",
      "Epoch 28: val_loss did not improve from 0.00450\n",
      "\n",
      "Epoch 29: val_loss did not improve from 0.00450\n",
      "\n",
      "Epoch 30: val_loss did not improve from 0.00450\n",
      "\n",
      "Epoch 31: val_loss did not improve from 0.00450\n",
      "\n",
      "Epoch 32: val_loss did not improve from 0.00450\n",
      "\n",
      "Epoch 33: val_loss did not improve from 0.00450\n",
      "\n",
      "Epoch 34: val_loss did not improve from 0.00450\n",
      "\n",
      "Epoch 35: val_loss did not improve from 0.00450\n",
      "\n",
      "Epoch 36: val_loss did not improve from 0.00450\n",
      "\n",
      "Epoch 37: val_loss did not improve from 0.00450\n",
      "\n",
      "Epoch 38: val_loss did not improve from 0.00450\n",
      "\n",
      "Epoch 39: val_loss did not improve from 0.00450\n",
      "\n",
      "Epoch 40: val_loss did not improve from 0.00450\n",
      "\n",
      "Epoch 41: val_loss did not improve from 0.00450\n",
      "\n",
      "Epoch 42: val_loss did not improve from 0.00450\n",
      "\n",
      "Epoch 43: val_loss did not improve from 0.00450\n",
      "\n",
      "Epoch 44: val_loss did not improve from 0.00450\n",
      "\n",
      "Epoch 45: val_loss did not improve from 0.00450\n",
      "\n",
      "Epoch 46: val_loss did not improve from 0.00450\n",
      "\n",
      "Epoch 47: val_loss did not improve from 0.00450\n",
      "\n",
      "Epoch 48: val_loss did not improve from 0.00450\n",
      "\n",
      "Epoch 49: val_loss did not improve from 0.00450\n",
      "\n",
      "Epoch 50: val_loss did not improve from 0.00450\n",
      "\n",
      "Epoch 51: val_loss did not improve from 0.00450\n",
      "\n",
      "Epoch 52: val_loss did not improve from 0.00450\n",
      "\n",
      "Epoch 53: val_loss did not improve from 0.00450\n",
      "\n",
      "Epoch 54: val_loss did not improve from 0.00450\n",
      "\n",
      "Epoch 55: val_loss did not improve from 0.00450\n",
      "\n",
      "Epoch 56: val_loss did not improve from 0.00450\n",
      "\n",
      "Epoch 57: val_loss did not improve from 0.00450\n",
      "\n",
      "Epoch 58: val_loss did not improve from 0.00450\n",
      "\n",
      "Epoch 59: val_loss did not improve from 0.00450\n",
      "\n",
      "Epoch 60: val_loss did not improve from 0.00450\n",
      "\n",
      "Epoch 61: val_loss did not improve from 0.00450\n",
      "\n",
      "Epoch 62: val_loss did not improve from 0.00450\n",
      "\n",
      "Epoch 63: val_loss did not improve from 0.00450\n",
      "\n",
      "Epoch 64: val_loss did not improve from 0.00450\n",
      "\n",
      "Epoch 65: val_loss did not improve from 0.00450\n",
      "\n",
      "Epoch 66: val_loss did not improve from 0.00450\n",
      "\n",
      "Epoch 67: val_loss did not improve from 0.00450\n",
      "\n",
      "Epoch 68: val_loss did not improve from 0.00450\n",
      "\n",
      "Epoch 69: val_loss did not improve from 0.00450\n",
      "\n",
      "Epoch 70: val_loss did not improve from 0.00450\n",
      "\n",
      "Epoch 71: val_loss did not improve from 0.00450\n",
      "\n",
      "Epoch 72: val_loss did not improve from 0.00450\n",
      "\n",
      "Epoch 73: val_loss did not improve from 0.00450\n",
      "\n",
      "Epoch 74: val_loss did not improve from 0.00450\n",
      "\n",
      "Epoch 75: val_loss did not improve from 0.00450\n",
      "\n",
      "Epoch 76: val_loss did not improve from 0.00450\n",
      "\n",
      "Epoch 77: val_loss did not improve from 0.00450\n",
      "\n",
      "Epoch 78: val_loss did not improve from 0.00450\n",
      "\n",
      "Epoch 79: val_loss did not improve from 0.00450\n",
      "\n",
      "Epoch 80: val_loss did not improve from 0.00450\n",
      "\n",
      "Epoch 81: val_loss did not improve from 0.00450\n",
      "Epoch 81: early stopping\n",
      "\u001b[1m20/20\u001b[0m \u001b[32m━━━━━━━━━━━━━━━━━━━━\u001b[0m\u001b[37m\u001b[0m \u001b[1m2s\u001b[0m 69ms/step\n",
      "Training with params: {'timesteps': 30, 'hl': [40, 35], 'lr': 0.0001, 'batch_size': 32, 'num_epochs': 250}\n"
     ]
    },
    {
     "name": "stderr",
     "output_type": "stream",
     "text": [
      "c:\\Users\\84368\\AppData\\Local\\Programs\\Python\\Python311\\Lib\\site-packages\\keras\\src\\layers\\rnn\\rnn.py:200: UserWarning: Do not pass an `input_shape`/`input_dim` argument to a layer. When using Sequential models, prefer using an `Input(shape)` object as the first layer in the model instead.\n",
      "  super().__init__(**kwargs)\n"
     ]
    },
    {
     "name": "stdout",
     "output_type": "stream",
     "text": [
      "\n",
      "Epoch 1: val_loss did not improve from 0.00450\n",
      "\n",
      "Epoch 2: val_loss did not improve from 0.00450\n",
      "\n",
      "Epoch 3: val_loss did not improve from 0.00450\n",
      "\n",
      "Epoch 4: val_loss did not improve from 0.00450\n",
      "\n",
      "Epoch 5: val_loss did not improve from 0.00450\n",
      "\n",
      "Epoch 6: val_loss did not improve from 0.00450\n",
      "\n",
      "Epoch 7: val_loss did not improve from 0.00450\n",
      "\n",
      "Epoch 8: val_loss did not improve from 0.00450\n",
      "\n",
      "Epoch 9: val_loss did not improve from 0.00450\n",
      "\n",
      "Epoch 10: val_loss did not improve from 0.00450\n",
      "\n",
      "Epoch 11: val_loss did not improve from 0.00450\n",
      "\n",
      "Epoch 12: val_loss did not improve from 0.00450\n",
      "\n",
      "Epoch 13: val_loss did not improve from 0.00450\n",
      "\n",
      "Epoch 14: val_loss did not improve from 0.00450\n",
      "\n",
      "Epoch 15: val_loss did not improve from 0.00450\n",
      "\n",
      "Epoch 16: val_loss did not improve from 0.00450\n",
      "\n",
      "Epoch 17: val_loss did not improve from 0.00450\n",
      "\n",
      "Epoch 18: val_loss did not improve from 0.00450\n",
      "\n",
      "Epoch 19: val_loss did not improve from 0.00450\n",
      "\n",
      "Epoch 20: val_loss did not improve from 0.00450\n",
      "\n",
      "Epoch 21: val_loss did not improve from 0.00450\n",
      "\n",
      "Epoch 22: val_loss did not improve from 0.00450\n",
      "\n",
      "Epoch 23: val_loss did not improve from 0.00450\n",
      "\n",
      "Epoch 24: val_loss did not improve from 0.00450\n",
      "\n",
      "Epoch 25: val_loss did not improve from 0.00450\n",
      "\n",
      "Epoch 26: val_loss did not improve from 0.00450\n",
      "\n",
      "Epoch 27: val_loss did not improve from 0.00450\n",
      "\n",
      "Epoch 28: val_loss did not improve from 0.00450\n",
      "\n",
      "Epoch 29: val_loss did not improve from 0.00450\n",
      "\n",
      "Epoch 30: val_loss did not improve from 0.00450\n",
      "\n",
      "Epoch 31: val_loss did not improve from 0.00450\n",
      "\n",
      "Epoch 32: val_loss did not improve from 0.00450\n",
      "\n",
      "Epoch 33: val_loss did not improve from 0.00450\n",
      "\n",
      "Epoch 34: val_loss did not improve from 0.00450\n",
      "\n",
      "Epoch 35: val_loss did not improve from 0.00450\n",
      "\n",
      "Epoch 36: val_loss did not improve from 0.00450\n",
      "\n",
      "Epoch 37: val_loss did not improve from 0.00450\n",
      "\n",
      "Epoch 38: val_loss did not improve from 0.00450\n",
      "\n",
      "Epoch 39: val_loss did not improve from 0.00450\n",
      "\n",
      "Epoch 40: val_loss did not improve from 0.00450\n",
      "\n",
      "Epoch 41: val_loss did not improve from 0.00450\n",
      "\n",
      "Epoch 42: val_loss did not improve from 0.00450\n",
      "\n",
      "Epoch 43: val_loss did not improve from 0.00450\n",
      "\n",
      "Epoch 44: val_loss did not improve from 0.00450\n",
      "\n",
      "Epoch 45: val_loss did not improve from 0.00450\n",
      "\n",
      "Epoch 46: val_loss did not improve from 0.00450\n",
      "\n",
      "Epoch 47: val_loss did not improve from 0.00450\n",
      "\n",
      "Epoch 48: val_loss did not improve from 0.00450\n",
      "\n",
      "Epoch 49: val_loss did not improve from 0.00450\n",
      "\n",
      "Epoch 50: val_loss did not improve from 0.00450\n",
      "\n",
      "Epoch 51: val_loss did not improve from 0.00450\n",
      "\n",
      "Epoch 52: val_loss did not improve from 0.00450\n",
      "\n",
      "Epoch 53: val_loss did not improve from 0.00450\n",
      "\n",
      "Epoch 54: val_loss did not improve from 0.00450\n",
      "\n",
      "Epoch 55: val_loss did not improve from 0.00450\n",
      "\n",
      "Epoch 56: val_loss did not improve from 0.00450\n",
      "\n",
      "Epoch 57: val_loss did not improve from 0.00450\n",
      "\n",
      "Epoch 58: val_loss did not improve from 0.00450\n",
      "\n",
      "Epoch 59: val_loss did not improve from 0.00450\n",
      "\n",
      "Epoch 60: val_loss did not improve from 0.00450\n",
      "\n",
      "Epoch 61: val_loss did not improve from 0.00450\n",
      "\n",
      "Epoch 62: val_loss did not improve from 0.00450\n",
      "\n",
      "Epoch 63: val_loss did not improve from 0.00450\n",
      "\n",
      "Epoch 64: val_loss did not improve from 0.00450\n",
      "\n",
      "Epoch 65: val_loss did not improve from 0.00450\n",
      "\n",
      "Epoch 66: val_loss did not improve from 0.00450\n",
      "\n",
      "Epoch 67: val_loss did not improve from 0.00450\n",
      "\n",
      "Epoch 68: val_loss did not improve from 0.00450\n",
      "\n",
      "Epoch 69: val_loss did not improve from 0.00450\n",
      "\n",
      "Epoch 70: val_loss did not improve from 0.00450\n",
      "\n",
      "Epoch 71: val_loss did not improve from 0.00450\n",
      "\n",
      "Epoch 72: val_loss did not improve from 0.00450\n",
      "\n",
      "Epoch 73: val_loss did not improve from 0.00450\n",
      "\n",
      "Epoch 74: val_loss did not improve from 0.00450\n",
      "\n",
      "Epoch 75: val_loss did not improve from 0.00450\n",
      "\n",
      "Epoch 76: val_loss did not improve from 0.00450\n",
      "\n",
      "Epoch 77: val_loss did not improve from 0.00450\n",
      "\n",
      "Epoch 78: val_loss did not improve from 0.00450\n",
      "\n",
      "Epoch 79: val_loss did not improve from 0.00450\n",
      "\n",
      "Epoch 80: val_loss did not improve from 0.00450\n",
      "\n",
      "Epoch 81: val_loss did not improve from 0.00450\n",
      "\n",
      "Epoch 82: val_loss did not improve from 0.00450\n",
      "\n",
      "Epoch 83: val_loss did not improve from 0.00450\n",
      "\n",
      "Epoch 84: val_loss did not improve from 0.00450\n",
      "\n",
      "Epoch 85: val_loss did not improve from 0.00450\n",
      "\n",
      "Epoch 86: val_loss did not improve from 0.00450\n",
      "\n",
      "Epoch 87: val_loss did not improve from 0.00450\n",
      "\n",
      "Epoch 88: val_loss did not improve from 0.00450\n",
      "\n",
      "Epoch 89: val_loss did not improve from 0.00450\n",
      "\n",
      "Epoch 90: val_loss did not improve from 0.00450\n",
      "\n",
      "Epoch 91: val_loss did not improve from 0.00450\n",
      "\n",
      "Epoch 92: val_loss did not improve from 0.00450\n",
      "\n",
      "Epoch 93: val_loss did not improve from 0.00450\n",
      "\n",
      "Epoch 94: val_loss did not improve from 0.00450\n",
      "\n",
      "Epoch 95: val_loss did not improve from 0.00450\n",
      "\n",
      "Epoch 96: val_loss did not improve from 0.00450\n",
      "\n",
      "Epoch 97: val_loss did not improve from 0.00450\n",
      "\n",
      "Epoch 98: val_loss did not improve from 0.00450\n",
      "\n",
      "Epoch 99: val_loss did not improve from 0.00450\n",
      "\n",
      "Epoch 100: val_loss did not improve from 0.00450\n",
      "\n",
      "Epoch 101: val_loss did not improve from 0.00450\n",
      "\n",
      "Epoch 102: val_loss did not improve from 0.00450\n",
      "\n",
      "Epoch 103: val_loss did not improve from 0.00450\n",
      "\n",
      "Epoch 104: val_loss did not improve from 0.00450\n",
      "\n",
      "Epoch 105: val_loss did not improve from 0.00450\n",
      "\n",
      "Epoch 106: val_loss did not improve from 0.00450\n",
      "\n",
      "Epoch 107: val_loss did not improve from 0.00450\n",
      "\n",
      "Epoch 108: val_loss did not improve from 0.00450\n",
      "\n",
      "Epoch 109: val_loss did not improve from 0.00450\n",
      "\n",
      "Epoch 110: val_loss did not improve from 0.00450\n",
      "\n",
      "Epoch 111: val_loss did not improve from 0.00450\n",
      "\n",
      "Epoch 112: val_loss did not improve from 0.00450\n",
      "\n",
      "Epoch 113: val_loss did not improve from 0.00450\n",
      "\n",
      "Epoch 114: val_loss did not improve from 0.00450\n",
      "\n",
      "Epoch 115: val_loss did not improve from 0.00450\n",
      "\n",
      "Epoch 116: val_loss did not improve from 0.00450\n",
      "\n",
      "Epoch 117: val_loss did not improve from 0.00450\n",
      "\n",
      "Epoch 118: val_loss did not improve from 0.00450\n",
      "\n",
      "Epoch 119: val_loss did not improve from 0.00450\n",
      "\n",
      "Epoch 120: val_loss did not improve from 0.00450\n",
      "Epoch 120: early stopping\n",
      "\u001b[1m20/20\u001b[0m \u001b[32m━━━━━━━━━━━━━━━━━━━━\u001b[0m\u001b[37m\u001b[0m \u001b[1m1s\u001b[0m 26ms/step\n",
      "Training with params: {'timesteps': 30, 'hl': [40, 35], 'lr': 0.0001, 'batch_size': 64, 'num_epochs': 200}\n"
     ]
    },
    {
     "name": "stderr",
     "output_type": "stream",
     "text": [
      "c:\\Users\\84368\\AppData\\Local\\Programs\\Python\\Python311\\Lib\\site-packages\\keras\\src\\layers\\rnn\\rnn.py:200: UserWarning: Do not pass an `input_shape`/`input_dim` argument to a layer. When using Sequential models, prefer using an `Input(shape)` object as the first layer in the model instead.\n",
      "  super().__init__(**kwargs)\n"
     ]
    },
    {
     "name": "stdout",
     "output_type": "stream",
     "text": [
      "\n",
      "Epoch 1: val_loss did not improve from 0.00450\n",
      "\n",
      "Epoch 2: val_loss did not improve from 0.00450\n",
      "\n",
      "Epoch 3: val_loss did not improve from 0.00450\n",
      "\n",
      "Epoch 4: val_loss did not improve from 0.00450\n",
      "\n",
      "Epoch 5: val_loss did not improve from 0.00450\n",
      "\n",
      "Epoch 6: val_loss did not improve from 0.00450\n",
      "\n",
      "Epoch 7: val_loss did not improve from 0.00450\n",
      "\n",
      "Epoch 8: val_loss did not improve from 0.00450\n",
      "\n",
      "Epoch 9: val_loss did not improve from 0.00450\n",
      "\n",
      "Epoch 10: val_loss did not improve from 0.00450\n",
      "\n",
      "Epoch 11: val_loss did not improve from 0.00450\n",
      "\n",
      "Epoch 12: val_loss did not improve from 0.00450\n",
      "\n",
      "Epoch 13: val_loss did not improve from 0.00450\n",
      "\n",
      "Epoch 14: val_loss did not improve from 0.00450\n",
      "\n",
      "Epoch 15: val_loss did not improve from 0.00450\n",
      "\n",
      "Epoch 16: val_loss did not improve from 0.00450\n",
      "\n",
      "Epoch 17: val_loss did not improve from 0.00450\n",
      "\n",
      "Epoch 18: val_loss did not improve from 0.00450\n",
      "\n",
      "Epoch 19: val_loss did not improve from 0.00450\n",
      "\n",
      "Epoch 20: val_loss did not improve from 0.00450\n",
      "\n",
      "Epoch 21: val_loss did not improve from 0.00450\n",
      "\n",
      "Epoch 22: val_loss did not improve from 0.00450\n",
      "\n",
      "Epoch 23: val_loss did not improve from 0.00450\n",
      "\n",
      "Epoch 24: val_loss did not improve from 0.00450\n",
      "\n",
      "Epoch 25: val_loss did not improve from 0.00450\n",
      "\n",
      "Epoch 26: val_loss did not improve from 0.00450\n",
      "\n",
      "Epoch 27: val_loss did not improve from 0.00450\n",
      "\n",
      "Epoch 28: val_loss did not improve from 0.00450\n",
      "\n",
      "Epoch 29: val_loss did not improve from 0.00450\n",
      "\n",
      "Epoch 30: val_loss did not improve from 0.00450\n",
      "\n",
      "Epoch 31: val_loss did not improve from 0.00450\n",
      "\n",
      "Epoch 32: val_loss did not improve from 0.00450\n",
      "\n",
      "Epoch 33: val_loss did not improve from 0.00450\n",
      "\n",
      "Epoch 34: val_loss did not improve from 0.00450\n",
      "\n",
      "Epoch 35: val_loss did not improve from 0.00450\n",
      "\n",
      "Epoch 36: val_loss did not improve from 0.00450\n",
      "\n",
      "Epoch 37: val_loss did not improve from 0.00450\n",
      "\n",
      "Epoch 38: val_loss did not improve from 0.00450\n",
      "\n",
      "Epoch 39: val_loss did not improve from 0.00450\n",
      "\n",
      "Epoch 40: val_loss did not improve from 0.00450\n",
      "\n",
      "Epoch 41: val_loss did not improve from 0.00450\n",
      "\n",
      "Epoch 42: val_loss did not improve from 0.00450\n",
      "\n",
      "Epoch 43: val_loss did not improve from 0.00450\n",
      "\n",
      "Epoch 44: val_loss did not improve from 0.00450\n",
      "\n",
      "Epoch 45: val_loss did not improve from 0.00450\n",
      "\n",
      "Epoch 46: val_loss did not improve from 0.00450\n",
      "\n",
      "Epoch 47: val_loss did not improve from 0.00450\n",
      "\n",
      "Epoch 48: val_loss did not improve from 0.00450\n",
      "\n",
      "Epoch 49: val_loss did not improve from 0.00450\n",
      "\n",
      "Epoch 50: val_loss did not improve from 0.00450\n",
      "\n",
      "Epoch 51: val_loss did not improve from 0.00450\n",
      "\n",
      "Epoch 52: val_loss did not improve from 0.00450\n",
      "\n",
      "Epoch 53: val_loss did not improve from 0.00450\n",
      "\n",
      "Epoch 54: val_loss did not improve from 0.00450\n",
      "\n",
      "Epoch 55: val_loss did not improve from 0.00450\n",
      "\n",
      "Epoch 56: val_loss did not improve from 0.00450\n",
      "\n",
      "Epoch 57: val_loss did not improve from 0.00450\n",
      "\n",
      "Epoch 58: val_loss did not improve from 0.00450\n",
      "\n",
      "Epoch 59: val_loss did not improve from 0.00450\n",
      "\n",
      "Epoch 60: val_loss did not improve from 0.00450\n",
      "\n",
      "Epoch 61: val_loss did not improve from 0.00450\n",
      "\n",
      "Epoch 62: val_loss did not improve from 0.00450\n",
      "\n",
      "Epoch 63: val_loss did not improve from 0.00450\n",
      "\n",
      "Epoch 64: val_loss did not improve from 0.00450\n",
      "\n",
      "Epoch 65: val_loss did not improve from 0.00450\n",
      "\n",
      "Epoch 66: val_loss did not improve from 0.00450\n",
      "\n",
      "Epoch 67: val_loss did not improve from 0.00450\n",
      "\n",
      "Epoch 68: val_loss did not improve from 0.00450\n",
      "\n",
      "Epoch 69: val_loss did not improve from 0.00450\n",
      "\n",
      "Epoch 70: val_loss did not improve from 0.00450\n",
      "\n",
      "Epoch 71: val_loss did not improve from 0.00450\n",
      "\n",
      "Epoch 72: val_loss did not improve from 0.00450\n",
      "\n",
      "Epoch 73: val_loss did not improve from 0.00450\n",
      "\n",
      "Epoch 74: val_loss did not improve from 0.00450\n",
      "\n",
      "Epoch 75: val_loss did not improve from 0.00450\n",
      "\n",
      "Epoch 76: val_loss did not improve from 0.00450\n",
      "\n",
      "Epoch 77: val_loss did not improve from 0.00450\n",
      "\n",
      "Epoch 78: val_loss did not improve from 0.00450\n",
      "\n",
      "Epoch 79: val_loss did not improve from 0.00450\n",
      "\n",
      "Epoch 80: val_loss did not improve from 0.00450\n",
      "\n",
      "Epoch 81: val_loss did not improve from 0.00450\n",
      "\n",
      "Epoch 82: val_loss did not improve from 0.00450\n",
      "\n",
      "Epoch 83: val_loss did not improve from 0.00450\n",
      "\n",
      "Epoch 84: val_loss did not improve from 0.00450\n",
      "\n",
      "Epoch 85: val_loss did not improve from 0.00450\n",
      "\n",
      "Epoch 86: val_loss did not improve from 0.00450\n",
      "\n",
      "Epoch 87: val_loss did not improve from 0.00450\n",
      "\n",
      "Epoch 88: val_loss did not improve from 0.00450\n",
      "\n",
      "Epoch 89: val_loss did not improve from 0.00450\n",
      "\n",
      "Epoch 90: val_loss did not improve from 0.00450\n",
      "\n",
      "Epoch 91: val_loss did not improve from 0.00450\n",
      "\n",
      "Epoch 92: val_loss did not improve from 0.00450\n",
      "\n",
      "Epoch 93: val_loss did not improve from 0.00450\n",
      "\n",
      "Epoch 94: val_loss did not improve from 0.00450\n",
      "\n",
      "Epoch 95: val_loss did not improve from 0.00450\n",
      "\n",
      "Epoch 96: val_loss did not improve from 0.00450\n",
      "\n",
      "Epoch 97: val_loss did not improve from 0.00450\n",
      "\n",
      "Epoch 98: val_loss did not improve from 0.00450\n",
      "\n",
      "Epoch 99: val_loss did not improve from 0.00450\n",
      "\n",
      "Epoch 100: val_loss did not improve from 0.00450\n",
      "\n",
      "Epoch 101: val_loss did not improve from 0.00450\n",
      "\n",
      "Epoch 102: val_loss did not improve from 0.00450\n",
      "\n",
      "Epoch 103: val_loss did not improve from 0.00450\n",
      "\n",
      "Epoch 104: val_loss did not improve from 0.00450\n",
      "\n",
      "Epoch 105: val_loss did not improve from 0.00450\n",
      "\n",
      "Epoch 106: val_loss did not improve from 0.00450\n",
      "\n",
      "Epoch 107: val_loss did not improve from 0.00450\n",
      "\n",
      "Epoch 108: val_loss did not improve from 0.00450\n",
      "\n",
      "Epoch 109: val_loss did not improve from 0.00450\n",
      "Epoch 109: early stopping\n",
      "\u001b[1m20/20\u001b[0m \u001b[32m━━━━━━━━━━━━━━━━━━━━\u001b[0m\u001b[37m\u001b[0m \u001b[1m1s\u001b[0m 28ms/step\n",
      "Training with params: {'timesteps': 30, 'hl': [40, 35], 'lr': 0.0001, 'batch_size': 64, 'num_epochs': 250}\n"
     ]
    },
    {
     "name": "stderr",
     "output_type": "stream",
     "text": [
      "c:\\Users\\84368\\AppData\\Local\\Programs\\Python\\Python311\\Lib\\site-packages\\keras\\src\\layers\\rnn\\rnn.py:200: UserWarning: Do not pass an `input_shape`/`input_dim` argument to a layer. When using Sequential models, prefer using an `Input(shape)` object as the first layer in the model instead.\n",
      "  super().__init__(**kwargs)\n"
     ]
    },
    {
     "name": "stdout",
     "output_type": "stream",
     "text": [
      "\n",
      "Epoch 1: val_loss did not improve from 0.00450\n",
      "\n",
      "Epoch 2: val_loss did not improve from 0.00450\n",
      "\n",
      "Epoch 3: val_loss did not improve from 0.00450\n",
      "\n",
      "Epoch 4: val_loss did not improve from 0.00450\n",
      "\n",
      "Epoch 5: val_loss did not improve from 0.00450\n",
      "\n",
      "Epoch 6: val_loss did not improve from 0.00450\n",
      "\n",
      "Epoch 7: val_loss did not improve from 0.00450\n",
      "\n",
      "Epoch 8: val_loss did not improve from 0.00450\n",
      "\n",
      "Epoch 9: val_loss did not improve from 0.00450\n",
      "\n",
      "Epoch 10: val_loss did not improve from 0.00450\n",
      "\n",
      "Epoch 11: val_loss did not improve from 0.00450\n",
      "\n",
      "Epoch 12: val_loss did not improve from 0.00450\n",
      "\n",
      "Epoch 13: val_loss did not improve from 0.00450\n",
      "\n",
      "Epoch 14: val_loss did not improve from 0.00450\n",
      "\n",
      "Epoch 15: val_loss did not improve from 0.00450\n",
      "\n",
      "Epoch 16: val_loss did not improve from 0.00450\n",
      "\n",
      "Epoch 17: val_loss did not improve from 0.00450\n",
      "\n",
      "Epoch 18: val_loss did not improve from 0.00450\n",
      "\n",
      "Epoch 19: val_loss did not improve from 0.00450\n",
      "\n",
      "Epoch 20: val_loss did not improve from 0.00450\n",
      "\n",
      "Epoch 21: val_loss did not improve from 0.00450\n",
      "\n",
      "Epoch 22: val_loss did not improve from 0.00450\n",
      "\n",
      "Epoch 23: val_loss did not improve from 0.00450\n",
      "\n",
      "Epoch 24: val_loss did not improve from 0.00450\n",
      "\n",
      "Epoch 25: val_loss did not improve from 0.00450\n",
      "\n",
      "Epoch 26: val_loss did not improve from 0.00450\n",
      "\n",
      "Epoch 27: val_loss did not improve from 0.00450\n",
      "\n",
      "Epoch 28: val_loss did not improve from 0.00450\n",
      "\n",
      "Epoch 29: val_loss did not improve from 0.00450\n",
      "\n",
      "Epoch 30: val_loss did not improve from 0.00450\n",
      "\n",
      "Epoch 31: val_loss did not improve from 0.00450\n",
      "\n",
      "Epoch 32: val_loss did not improve from 0.00450\n",
      "\n",
      "Epoch 33: val_loss did not improve from 0.00450\n",
      "\n",
      "Epoch 34: val_loss did not improve from 0.00450\n",
      "\n",
      "Epoch 35: val_loss did not improve from 0.00450\n",
      "\n",
      "Epoch 36: val_loss did not improve from 0.00450\n",
      "\n",
      "Epoch 37: val_loss did not improve from 0.00450\n",
      "\n",
      "Epoch 38: val_loss did not improve from 0.00450\n",
      "\n",
      "Epoch 39: val_loss did not improve from 0.00450\n",
      "\n",
      "Epoch 40: val_loss did not improve from 0.00450\n",
      "\n",
      "Epoch 41: val_loss did not improve from 0.00450\n",
      "\n",
      "Epoch 42: val_loss did not improve from 0.00450\n",
      "\n",
      "Epoch 43: val_loss did not improve from 0.00450\n",
      "\n",
      "Epoch 44: val_loss did not improve from 0.00450\n",
      "\n",
      "Epoch 45: val_loss did not improve from 0.00450\n",
      "\n",
      "Epoch 46: val_loss did not improve from 0.00450\n",
      "\n",
      "Epoch 47: val_loss did not improve from 0.00450\n",
      "\n",
      "Epoch 48: val_loss did not improve from 0.00450\n",
      "\n",
      "Epoch 49: val_loss did not improve from 0.00450\n",
      "\n",
      "Epoch 50: val_loss did not improve from 0.00450\n",
      "\n",
      "Epoch 51: val_loss did not improve from 0.00450\n",
      "\n",
      "Epoch 52: val_loss did not improve from 0.00450\n",
      "\n",
      "Epoch 53: val_loss did not improve from 0.00450\n",
      "\n",
      "Epoch 54: val_loss did not improve from 0.00450\n",
      "\n",
      "Epoch 55: val_loss did not improve from 0.00450\n",
      "\n",
      "Epoch 56: val_loss did not improve from 0.00450\n",
      "\n",
      "Epoch 57: val_loss did not improve from 0.00450\n",
      "\n",
      "Epoch 58: val_loss did not improve from 0.00450\n",
      "\n",
      "Epoch 59: val_loss did not improve from 0.00450\n",
      "\n",
      "Epoch 60: val_loss did not improve from 0.00450\n",
      "\n",
      "Epoch 61: val_loss did not improve from 0.00450\n",
      "\n",
      "Epoch 62: val_loss did not improve from 0.00450\n",
      "\n",
      "Epoch 63: val_loss did not improve from 0.00450\n",
      "\n",
      "Epoch 64: val_loss did not improve from 0.00450\n",
      "\n",
      "Epoch 65: val_loss did not improve from 0.00450\n",
      "\n",
      "Epoch 66: val_loss did not improve from 0.00450\n",
      "\n",
      "Epoch 67: val_loss did not improve from 0.00450\n",
      "\n",
      "Epoch 68: val_loss did not improve from 0.00450\n",
      "\n",
      "Epoch 69: val_loss did not improve from 0.00450\n",
      "\n",
      "Epoch 70: val_loss did not improve from 0.00450\n",
      "\n",
      "Epoch 71: val_loss did not improve from 0.00450\n",
      "\n",
      "Epoch 72: val_loss did not improve from 0.00450\n",
      "\n",
      "Epoch 73: val_loss did not improve from 0.00450\n",
      "\n",
      "Epoch 74: val_loss did not improve from 0.00450\n",
      "\n",
      "Epoch 75: val_loss did not improve from 0.00450\n",
      "\n",
      "Epoch 76: val_loss did not improve from 0.00450\n",
      "\n",
      "Epoch 77: val_loss did not improve from 0.00450\n",
      "\n",
      "Epoch 78: val_loss did not improve from 0.00450\n",
      "\n",
      "Epoch 79: val_loss did not improve from 0.00450\n",
      "\n",
      "Epoch 80: val_loss did not improve from 0.00450\n",
      "\n",
      "Epoch 81: val_loss did not improve from 0.00450\n",
      "\n",
      "Epoch 82: val_loss did not improve from 0.00450\n",
      "\n",
      "Epoch 83: val_loss did not improve from 0.00450\n",
      "\n",
      "Epoch 84: val_loss did not improve from 0.00450\n",
      "\n",
      "Epoch 85: val_loss did not improve from 0.00450\n",
      "\n",
      "Epoch 86: val_loss did not improve from 0.00450\n",
      "\n",
      "Epoch 87: val_loss did not improve from 0.00450\n",
      "\n",
      "Epoch 88: val_loss did not improve from 0.00450\n",
      "\n",
      "Epoch 89: val_loss did not improve from 0.00450\n",
      "\n",
      "Epoch 90: val_loss did not improve from 0.00450\n",
      "\n",
      "Epoch 91: val_loss did not improve from 0.00450\n",
      "\n",
      "Epoch 92: val_loss did not improve from 0.00450\n",
      "\n",
      "Epoch 93: val_loss did not improve from 0.00450\n",
      "\n",
      "Epoch 94: val_loss did not improve from 0.00450\n",
      "\n",
      "Epoch 95: val_loss did not improve from 0.00450\n",
      "\n",
      "Epoch 96: val_loss did not improve from 0.00450\n",
      "\n",
      "Epoch 97: val_loss did not improve from 0.00450\n",
      "\n",
      "Epoch 98: val_loss did not improve from 0.00450\n",
      "\n",
      "Epoch 99: val_loss did not improve from 0.00450\n",
      "\n",
      "Epoch 100: val_loss did not improve from 0.00450\n",
      "\n",
      "Epoch 101: val_loss did not improve from 0.00450\n",
      "\n",
      "Epoch 102: val_loss did not improve from 0.00450\n",
      "\n",
      "Epoch 103: val_loss did not improve from 0.00450\n",
      "\n",
      "Epoch 104: val_loss did not improve from 0.00450\n",
      "\n",
      "Epoch 105: val_loss did not improve from 0.00450\n",
      "\n",
      "Epoch 106: val_loss did not improve from 0.00450\n",
      "\n",
      "Epoch 107: val_loss did not improve from 0.00450\n",
      "\n",
      "Epoch 108: val_loss did not improve from 0.00450\n",
      "\n",
      "Epoch 109: val_loss did not improve from 0.00450\n",
      "\n",
      "Epoch 110: val_loss did not improve from 0.00450\n",
      "\n",
      "Epoch 111: val_loss did not improve from 0.00450\n",
      "\n",
      "Epoch 112: val_loss did not improve from 0.00450\n",
      "\n",
      "Epoch 113: val_loss did not improve from 0.00450\n",
      "\n",
      "Epoch 114: val_loss did not improve from 0.00450\n",
      "\n",
      "Epoch 115: val_loss did not improve from 0.00450\n",
      "\n",
      "Epoch 116: val_loss did not improve from 0.00450\n",
      "\n",
      "Epoch 117: val_loss did not improve from 0.00450\n",
      "\n",
      "Epoch 118: val_loss did not improve from 0.00450\n",
      "\n",
      "Epoch 119: val_loss did not improve from 0.00450\n",
      "\n",
      "Epoch 120: val_loss did not improve from 0.00450\n",
      "\n",
      "Epoch 121: val_loss did not improve from 0.00450\n",
      "\n",
      "Epoch 122: val_loss did not improve from 0.00450\n",
      "\n",
      "Epoch 123: val_loss did not improve from 0.00450\n",
      "\n",
      "Epoch 124: val_loss did not improve from 0.00450\n",
      "\n",
      "Epoch 125: val_loss did not improve from 0.00450\n",
      "\n",
      "Epoch 126: val_loss did not improve from 0.00450\n",
      "\n",
      "Epoch 127: val_loss did not improve from 0.00450\n",
      "\n",
      "Epoch 128: val_loss did not improve from 0.00450\n",
      "\n",
      "Epoch 129: val_loss did not improve from 0.00450\n",
      "\n",
      "Epoch 130: val_loss did not improve from 0.00450\n",
      "\n",
      "Epoch 131: val_loss did not improve from 0.00450\n",
      "\n",
      "Epoch 132: val_loss did not improve from 0.00450\n",
      "\n",
      "Epoch 133: val_loss did not improve from 0.00450\n",
      "\n",
      "Epoch 134: val_loss did not improve from 0.00450\n",
      "\n",
      "Epoch 135: val_loss did not improve from 0.00450\n",
      "\n",
      "Epoch 136: val_loss did not improve from 0.00450\n",
      "\n",
      "Epoch 137: val_loss did not improve from 0.00450\n",
      "\n",
      "Epoch 138: val_loss did not improve from 0.00450\n",
      "\n",
      "Epoch 139: val_loss did not improve from 0.00450\n",
      "\n",
      "Epoch 140: val_loss did not improve from 0.00450\n",
      "\n",
      "Epoch 141: val_loss did not improve from 0.00450\n",
      "\n",
      "Epoch 142: val_loss did not improve from 0.00450\n",
      "\n",
      "Epoch 143: val_loss did not improve from 0.00450\n",
      "\n",
      "Epoch 144: val_loss did not improve from 0.00450\n",
      "\n",
      "Epoch 145: val_loss did not improve from 0.00450\n",
      "\n",
      "Epoch 146: val_loss did not improve from 0.00450\n",
      "\n",
      "Epoch 147: val_loss did not improve from 0.00450\n",
      "\n",
      "Epoch 148: val_loss did not improve from 0.00450\n",
      "\n",
      "Epoch 149: val_loss did not improve from 0.00450\n",
      "\n",
      "Epoch 150: val_loss did not improve from 0.00450\n",
      "\n",
      "Epoch 151: val_loss did not improve from 0.00450\n",
      "\n",
      "Epoch 152: val_loss did not improve from 0.00450\n",
      "\n",
      "Epoch 153: val_loss did not improve from 0.00450\n",
      "\n",
      "Epoch 154: val_loss did not improve from 0.00450\n",
      "\n",
      "Epoch 155: val_loss did not improve from 0.00450\n",
      "\n",
      "Epoch 156: val_loss did not improve from 0.00450\n",
      "\n",
      "Epoch 157: val_loss did not improve from 0.00450\n",
      "\n",
      "Epoch 158: val_loss did not improve from 0.00450\n",
      "\n",
      "Epoch 159: val_loss did not improve from 0.00450\n",
      "\n",
      "Epoch 160: val_loss did not improve from 0.00450\n",
      "\n",
      "Epoch 161: val_loss did not improve from 0.00450\n",
      "\n",
      "Epoch 162: val_loss did not improve from 0.00450\n",
      "\n",
      "Epoch 163: val_loss did not improve from 0.00450\n",
      "\n",
      "Epoch 164: val_loss did not improve from 0.00450\n",
      "\n",
      "Epoch 165: val_loss did not improve from 0.00450\n",
      "\n",
      "Epoch 166: val_loss did not improve from 0.00450\n",
      "\n",
      "Epoch 167: val_loss did not improve from 0.00450\n",
      "\n",
      "Epoch 168: val_loss did not improve from 0.00450\n",
      "\n",
      "Epoch 169: val_loss did not improve from 0.00450\n",
      "\n",
      "Epoch 170: val_loss did not improve from 0.00450\n",
      "\n",
      "Epoch 171: val_loss did not improve from 0.00450\n",
      "\n",
      "Epoch 172: val_loss did not improve from 0.00450\n",
      "\n",
      "Epoch 173: val_loss did not improve from 0.00450\n",
      "\n",
      "Epoch 174: val_loss did not improve from 0.00450\n",
      "\n",
      "Epoch 175: val_loss did not improve from 0.00450\n",
      "\n",
      "Epoch 176: val_loss did not improve from 0.00450\n",
      "\n",
      "Epoch 177: val_loss did not improve from 0.00450\n",
      "\n",
      "Epoch 178: val_loss did not improve from 0.00450\n",
      "\n",
      "Epoch 179: val_loss did not improve from 0.00450\n",
      "\n",
      "Epoch 180: val_loss did not improve from 0.00450\n",
      "\n",
      "Epoch 181: val_loss did not improve from 0.00450\n",
      "\n",
      "Epoch 182: val_loss did not improve from 0.00450\n",
      "\n",
      "Epoch 183: val_loss did not improve from 0.00450\n",
      "\n",
      "Epoch 184: val_loss did not improve from 0.00450\n",
      "\n",
      "Epoch 185: val_loss did not improve from 0.00450\n",
      "\n",
      "Epoch 186: val_loss did not improve from 0.00450\n",
      "\n",
      "Epoch 187: val_loss did not improve from 0.00450\n",
      "\n",
      "Epoch 188: val_loss did not improve from 0.00450\n",
      "\n",
      "Epoch 189: val_loss did not improve from 0.00450\n",
      "\n",
      "Epoch 190: val_loss did not improve from 0.00450\n",
      "\n",
      "Epoch 191: val_loss did not improve from 0.00450\n",
      "\n",
      "Epoch 192: val_loss did not improve from 0.00450\n",
      "\n",
      "Epoch 193: val_loss did not improve from 0.00450\n",
      "\n",
      "Epoch 194: val_loss did not improve from 0.00450\n",
      "\n",
      "Epoch 195: val_loss did not improve from 0.00450\n",
      "\n",
      "Epoch 196: val_loss did not improve from 0.00450\n",
      "\n",
      "Epoch 197: val_loss did not improve from 0.00450\n",
      "\n",
      "Epoch 198: val_loss did not improve from 0.00450\n",
      "\n",
      "Epoch 199: val_loss did not improve from 0.00450\n",
      "\n",
      "Epoch 200: val_loss did not improve from 0.00450\n",
      "\n",
      "Epoch 201: val_loss did not improve from 0.00450\n",
      "\n",
      "Epoch 202: val_loss did not improve from 0.00450\n",
      "\n",
      "Epoch 203: val_loss did not improve from 0.00450\n",
      "\n",
      "Epoch 204: val_loss did not improve from 0.00450\n",
      "\n",
      "Epoch 205: val_loss did not improve from 0.00450\n",
      "\n",
      "Epoch 206: val_loss did not improve from 0.00450\n",
      "\n",
      "Epoch 207: val_loss did not improve from 0.00450\n",
      "\n",
      "Epoch 208: val_loss did not improve from 0.00450\n",
      "\n",
      "Epoch 209: val_loss did not improve from 0.00450\n",
      "\n",
      "Epoch 210: val_loss did not improve from 0.00450\n",
      "\n",
      "Epoch 211: val_loss did not improve from 0.00450\n",
      "\n",
      "Epoch 212: val_loss did not improve from 0.00450\n",
      "\n",
      "Epoch 213: val_loss did not improve from 0.00450\n",
      "\n",
      "Epoch 214: val_loss did not improve from 0.00450\n",
      "\n",
      "Epoch 215: val_loss did not improve from 0.00450\n",
      "\n",
      "Epoch 216: val_loss did not improve from 0.00450\n",
      "\n",
      "Epoch 217: val_loss did not improve from 0.00450\n",
      "\n",
      "Epoch 218: val_loss did not improve from 0.00450\n",
      "\n",
      "Epoch 219: val_loss did not improve from 0.00450\n",
      "\n",
      "Epoch 220: val_loss did not improve from 0.00450\n",
      "\n",
      "Epoch 221: val_loss did not improve from 0.00450\n",
      "\n",
      "Epoch 222: val_loss did not improve from 0.00450\n",
      "\n",
      "Epoch 223: val_loss did not improve from 0.00450\n",
      "\n",
      "Epoch 224: val_loss did not improve from 0.00450\n",
      "\n",
      "Epoch 225: val_loss did not improve from 0.00450\n",
      "\n",
      "Epoch 226: val_loss did not improve from 0.00450\n",
      "\n",
      "Epoch 227: val_loss did not improve from 0.00450\n",
      "\n",
      "Epoch 228: val_loss did not improve from 0.00450\n",
      "\n",
      "Epoch 229: val_loss did not improve from 0.00450\n",
      "\n",
      "Epoch 230: val_loss did not improve from 0.00450\n",
      "\n",
      "Epoch 231: val_loss did not improve from 0.00450\n",
      "\n",
      "Epoch 232: val_loss did not improve from 0.00450\n",
      "\n",
      "Epoch 233: val_loss did not improve from 0.00450\n",
      "\n",
      "Epoch 234: val_loss did not improve from 0.00450\n",
      "\n",
      "Epoch 235: val_loss did not improve from 0.00450\n",
      "\n",
      "Epoch 236: val_loss did not improve from 0.00450\n",
      "\n",
      "Epoch 237: val_loss did not improve from 0.00450\n",
      "\n",
      "Epoch 238: val_loss did not improve from 0.00450\n",
      "\n",
      "Epoch 239: val_loss did not improve from 0.00450\n",
      "\n",
      "Epoch 240: val_loss did not improve from 0.00450\n",
      "\n",
      "Epoch 241: val_loss did not improve from 0.00450\n",
      "\n",
      "Epoch 242: val_loss did not improve from 0.00450\n",
      "\n",
      "Epoch 243: val_loss did not improve from 0.00450\n",
      "\n",
      "Epoch 244: val_loss did not improve from 0.00450\n",
      "\n",
      "Epoch 245: val_loss did not improve from 0.00450\n",
      "\n",
      "Epoch 246: val_loss did not improve from 0.00450\n",
      "\n",
      "Epoch 247: val_loss did not improve from 0.00450\n",
      "\n",
      "Epoch 248: val_loss did not improve from 0.00450\n",
      "\n",
      "Epoch 249: val_loss did not improve from 0.00450\n",
      "\n",
      "Epoch 250: val_loss did not improve from 0.00450\n",
      "\u001b[1m20/20\u001b[0m \u001b[32m━━━━━━━━━━━━━━━━━━━━\u001b[0m\u001b[37m\u001b[0m \u001b[1m1s\u001b[0m 26ms/step\n",
      "Training with params: {'timesteps': 40, 'hl': [40, 35], 'lr': 0.001, 'batch_size': 32, 'num_epochs': 200}\n"
     ]
    },
    {
     "name": "stderr",
     "output_type": "stream",
     "text": [
      "c:\\Users\\84368\\AppData\\Local\\Programs\\Python\\Python311\\Lib\\site-packages\\keras\\src\\layers\\rnn\\rnn.py:200: UserWarning: Do not pass an `input_shape`/`input_dim` argument to a layer. When using Sequential models, prefer using an `Input(shape)` object as the first layer in the model instead.\n",
      "  super().__init__(**kwargs)\n"
     ]
    },
    {
     "name": "stdout",
     "output_type": "stream",
     "text": [
      "\n",
      "Epoch 1: val_loss did not improve from 0.00450\n",
      "\n",
      "Epoch 2: val_loss did not improve from 0.00450\n",
      "\n",
      "Epoch 3: val_loss did not improve from 0.00450\n",
      "\n",
      "Epoch 4: val_loss did not improve from 0.00450\n",
      "\n",
      "Epoch 5: val_loss did not improve from 0.00450\n",
      "\n",
      "Epoch 6: val_loss did not improve from 0.00450\n",
      "\n",
      "Epoch 7: val_loss did not improve from 0.00450\n",
      "\n",
      "Epoch 8: val_loss did not improve from 0.00450\n",
      "\n",
      "Epoch 9: val_loss did not improve from 0.00450\n",
      "\n",
      "Epoch 10: val_loss did not improve from 0.00450\n",
      "\n",
      "Epoch 11: val_loss did not improve from 0.00450\n",
      "\n",
      "Epoch 12: val_loss did not improve from 0.00450\n",
      "\n",
      "Epoch 13: val_loss did not improve from 0.00450\n",
      "\n",
      "Epoch 14: val_loss did not improve from 0.00450\n",
      "\n",
      "Epoch 15: val_loss did not improve from 0.00450\n",
      "\n",
      "Epoch 16: val_loss did not improve from 0.00450\n",
      "\n",
      "Epoch 17: val_loss did not improve from 0.00450\n",
      "\n",
      "Epoch 18: val_loss did not improve from 0.00450\n",
      "\n",
      "Epoch 19: val_loss did not improve from 0.00450\n",
      "\n",
      "Epoch 20: val_loss did not improve from 0.00450\n",
      "\n",
      "Epoch 21: val_loss did not improve from 0.00450\n",
      "\n",
      "Epoch 22: val_loss did not improve from 0.00450\n",
      "\n",
      "Epoch 23: val_loss did not improve from 0.00450\n",
      "\n",
      "Epoch 24: val_loss did not improve from 0.00450\n",
      "\n",
      "Epoch 25: val_loss did not improve from 0.00450\n",
      "\n",
      "Epoch 26: val_loss did not improve from 0.00450\n",
      "\n",
      "Epoch 27: val_loss did not improve from 0.00450\n",
      "\n",
      "Epoch 28: val_loss did not improve from 0.00450\n",
      "\n",
      "Epoch 29: val_loss did not improve from 0.00450\n",
      "\n",
      "Epoch 30: val_loss did not improve from 0.00450\n",
      "\n",
      "Epoch 31: val_loss did not improve from 0.00450\n",
      "\n",
      "Epoch 32: val_loss did not improve from 0.00450\n",
      "\n",
      "Epoch 33: val_loss did not improve from 0.00450\n",
      "\n",
      "Epoch 34: val_loss did not improve from 0.00450\n",
      "\n",
      "Epoch 35: val_loss did not improve from 0.00450\n",
      "\n",
      "Epoch 36: val_loss did not improve from 0.00450\n",
      "\n",
      "Epoch 37: val_loss did not improve from 0.00450\n",
      "\n",
      "Epoch 38: val_loss did not improve from 0.00450\n",
      "\n",
      "Epoch 39: val_loss did not improve from 0.00450\n",
      "\n",
      "Epoch 40: val_loss did not improve from 0.00450\n",
      "\n",
      "Epoch 41: val_loss did not improve from 0.00450\n",
      "\n",
      "Epoch 42: val_loss did not improve from 0.00450\n",
      "\n",
      "Epoch 43: val_loss did not improve from 0.00450\n",
      "\n",
      "Epoch 44: val_loss did not improve from 0.00450\n",
      "\n",
      "Epoch 45: val_loss did not improve from 0.00450\n",
      "\n",
      "Epoch 46: val_loss did not improve from 0.00450\n",
      "\n",
      "Epoch 47: val_loss did not improve from 0.00450\n",
      "\n",
      "Epoch 48: val_loss did not improve from 0.00450\n",
      "\n",
      "Epoch 49: val_loss did not improve from 0.00450\n",
      "\n",
      "Epoch 50: val_loss did not improve from 0.00450\n",
      "\n",
      "Epoch 51: val_loss did not improve from 0.00450\n",
      "\n",
      "Epoch 52: val_loss did not improve from 0.00450\n",
      "\n",
      "Epoch 53: val_loss did not improve from 0.00450\n",
      "\n",
      "Epoch 54: val_loss did not improve from 0.00450\n",
      "\n",
      "Epoch 55: val_loss did not improve from 0.00450\n",
      "\n",
      "Epoch 56: val_loss did not improve from 0.00450\n",
      "\n",
      "Epoch 57: val_loss did not improve from 0.00450\n",
      "\n",
      "Epoch 58: val_loss did not improve from 0.00450\n",
      "\n",
      "Epoch 59: val_loss did not improve from 0.00450\n",
      "\n",
      "Epoch 60: val_loss did not improve from 0.00450\n",
      "\n",
      "Epoch 61: val_loss did not improve from 0.00450\n",
      "\n",
      "Epoch 62: val_loss did not improve from 0.00450\n",
      "\n",
      "Epoch 63: val_loss did not improve from 0.00450\n",
      "\n",
      "Epoch 64: val_loss did not improve from 0.00450\n",
      "\n",
      "Epoch 65: val_loss did not improve from 0.00450\n",
      "\n",
      "Epoch 66: val_loss did not improve from 0.00450\n",
      "\n",
      "Epoch 67: val_loss did not improve from 0.00450\n",
      "\n",
      "Epoch 68: val_loss did not improve from 0.00450\n",
      "\n",
      "Epoch 69: val_loss did not improve from 0.00450\n",
      "\n",
      "Epoch 70: val_loss did not improve from 0.00450\n",
      "\n",
      "Epoch 71: val_loss did not improve from 0.00450\n",
      "\n",
      "Epoch 72: val_loss did not improve from 0.00450\n",
      "\n",
      "Epoch 73: val_loss did not improve from 0.00450\n",
      "\n",
      "Epoch 74: val_loss did not improve from 0.00450\n",
      "\n",
      "Epoch 75: val_loss did not improve from 0.00450\n",
      "\n",
      "Epoch 76: val_loss did not improve from 0.00450\n",
      "\n",
      "Epoch 77: val_loss did not improve from 0.00450\n",
      "\n",
      "Epoch 78: val_loss did not improve from 0.00450\n",
      "\n",
      "Epoch 79: val_loss did not improve from 0.00450\n",
      "\n",
      "Epoch 80: val_loss did not improve from 0.00450\n",
      "\n",
      "Epoch 81: val_loss did not improve from 0.00450\n",
      "\n",
      "Epoch 82: val_loss did not improve from 0.00450\n",
      "\n",
      "Epoch 83: val_loss did not improve from 0.00450\n",
      "\n",
      "Epoch 84: val_loss did not improve from 0.00450\n",
      "\n",
      "Epoch 85: val_loss did not improve from 0.00450\n",
      "\n",
      "Epoch 86: val_loss did not improve from 0.00450\n",
      "\n",
      "Epoch 87: val_loss did not improve from 0.00450\n",
      "\n",
      "Epoch 88: val_loss did not improve from 0.00450\n",
      "\n",
      "Epoch 89: val_loss did not improve from 0.00450\n",
      "\n",
      "Epoch 90: val_loss did not improve from 0.00450\n",
      "\n",
      "Epoch 91: val_loss did not improve from 0.00450\n",
      "\n",
      "Epoch 92: val_loss did not improve from 0.00450\n",
      "\n",
      "Epoch 93: val_loss did not improve from 0.00450\n",
      "\n",
      "Epoch 94: val_loss did not improve from 0.00450\n",
      "\n",
      "Epoch 95: val_loss did not improve from 0.00450\n",
      "\n",
      "Epoch 96: val_loss did not improve from 0.00450\n",
      "\n",
      "Epoch 97: val_loss did not improve from 0.00450\n",
      "\n",
      "Epoch 98: val_loss did not improve from 0.00450\n",
      "\n",
      "Epoch 99: val_loss did not improve from 0.00450\n",
      "\n",
      "Epoch 100: val_loss did not improve from 0.00450\n",
      "\n",
      "Epoch 101: val_loss did not improve from 0.00450\n",
      "\n",
      "Epoch 102: val_loss did not improve from 0.00450\n",
      "\n",
      "Epoch 103: val_loss did not improve from 0.00450\n",
      "\n",
      "Epoch 104: val_loss did not improve from 0.00450\n",
      "\n",
      "Epoch 105: val_loss did not improve from 0.00450\n",
      "\n",
      "Epoch 106: val_loss did not improve from 0.00450\n",
      "\n",
      "Epoch 107: val_loss did not improve from 0.00450\n",
      "\n",
      "Epoch 108: val_loss did not improve from 0.00450\n",
      "\n",
      "Epoch 109: val_loss did not improve from 0.00450\n",
      "\n",
      "Epoch 110: val_loss did not improve from 0.00450\n",
      "\n",
      "Epoch 111: val_loss did not improve from 0.00450\n",
      "\n",
      "Epoch 112: val_loss did not improve from 0.00450\n",
      "\n",
      "Epoch 113: val_loss did not improve from 0.00450\n",
      "\n",
      "Epoch 114: val_loss did not improve from 0.00450\n",
      "\n",
      "Epoch 115: val_loss did not improve from 0.00450\n",
      "\n",
      "Epoch 116: val_loss did not improve from 0.00450\n",
      "\n",
      "Epoch 117: val_loss did not improve from 0.00450\n",
      "\n",
      "Epoch 118: val_loss did not improve from 0.00450\n",
      "\n",
      "Epoch 119: val_loss did not improve from 0.00450\n",
      "\n",
      "Epoch 120: val_loss did not improve from 0.00450\n",
      "\n",
      "Epoch 121: val_loss did not improve from 0.00450\n",
      "\n",
      "Epoch 122: val_loss did not improve from 0.00450\n",
      "\n",
      "Epoch 123: val_loss did not improve from 0.00450\n",
      "\n",
      "Epoch 124: val_loss did not improve from 0.00450\n",
      "\n",
      "Epoch 125: val_loss did not improve from 0.00450\n",
      "\n",
      "Epoch 126: val_loss did not improve from 0.00450\n",
      "\n",
      "Epoch 127: val_loss did not improve from 0.00450\n",
      "\n",
      "Epoch 128: val_loss did not improve from 0.00450\n",
      "\n",
      "Epoch 129: val_loss did not improve from 0.00450\n",
      "\n",
      "Epoch 130: val_loss did not improve from 0.00450\n",
      "\n",
      "Epoch 131: val_loss did not improve from 0.00450\n",
      "\n",
      "Epoch 132: val_loss did not improve from 0.00450\n",
      "\n",
      "Epoch 133: val_loss did not improve from 0.00450\n",
      "\n",
      "Epoch 134: val_loss did not improve from 0.00450\n",
      "\n",
      "Epoch 135: val_loss did not improve from 0.00450\n",
      "\n",
      "Epoch 136: val_loss did not improve from 0.00450\n",
      "\n",
      "Epoch 137: val_loss did not improve from 0.00450\n",
      "\n",
      "Epoch 138: val_loss did not improve from 0.00450\n",
      "\n",
      "Epoch 139: val_loss did not improve from 0.00450\n",
      "\n",
      "Epoch 140: val_loss did not improve from 0.00450\n",
      "\n",
      "Epoch 141: val_loss did not improve from 0.00450\n",
      "\n",
      "Epoch 142: val_loss did not improve from 0.00450\n",
      "\n",
      "Epoch 143: val_loss did not improve from 0.00450\n",
      "\n",
      "Epoch 144: val_loss did not improve from 0.00450\n",
      "\n",
      "Epoch 145: val_loss did not improve from 0.00450\n",
      "\n",
      "Epoch 146: val_loss did not improve from 0.00450\n",
      "\n",
      "Epoch 147: val_loss did not improve from 0.00450\n",
      "\n",
      "Epoch 148: val_loss did not improve from 0.00450\n",
      "\n",
      "Epoch 149: val_loss did not improve from 0.00450\n",
      "\n",
      "Epoch 150: val_loss did not improve from 0.00450\n",
      "\n",
      "Epoch 151: val_loss did not improve from 0.00450\n",
      "\n",
      "Epoch 152: val_loss did not improve from 0.00450\n",
      "\n",
      "Epoch 153: val_loss did not improve from 0.00450\n",
      "\n",
      "Epoch 154: val_loss did not improve from 0.00450\n",
      "\n",
      "Epoch 155: val_loss did not improve from 0.00450\n",
      "\n",
      "Epoch 156: val_loss did not improve from 0.00450\n",
      "Epoch 156: early stopping\n",
      "\u001b[1m19/19\u001b[0m \u001b[32m━━━━━━━━━━━━━━━━━━━━\u001b[0m\u001b[37m\u001b[0m \u001b[1m1s\u001b[0m 28ms/step\n",
      "Training with params: {'timesteps': 40, 'hl': [40, 35], 'lr': 0.001, 'batch_size': 32, 'num_epochs': 250}\n"
     ]
    },
    {
     "name": "stderr",
     "output_type": "stream",
     "text": [
      "c:\\Users\\84368\\AppData\\Local\\Programs\\Python\\Python311\\Lib\\site-packages\\keras\\src\\layers\\rnn\\rnn.py:200: UserWarning: Do not pass an `input_shape`/`input_dim` argument to a layer. When using Sequential models, prefer using an `Input(shape)` object as the first layer in the model instead.\n",
      "  super().__init__(**kwargs)\n"
     ]
    },
    {
     "name": "stdout",
     "output_type": "stream",
     "text": [
      "\n",
      "Epoch 1: val_loss did not improve from 0.00450\n",
      "\n",
      "Epoch 2: val_loss did not improve from 0.00450\n",
      "\n",
      "Epoch 3: val_loss did not improve from 0.00450\n",
      "\n",
      "Epoch 4: val_loss did not improve from 0.00450\n",
      "\n",
      "Epoch 5: val_loss did not improve from 0.00450\n",
      "\n",
      "Epoch 6: val_loss did not improve from 0.00450\n",
      "\n",
      "Epoch 7: val_loss did not improve from 0.00450\n",
      "\n",
      "Epoch 8: val_loss did not improve from 0.00450\n",
      "\n",
      "Epoch 9: val_loss did not improve from 0.00450\n",
      "\n",
      "Epoch 10: val_loss did not improve from 0.00450\n",
      "\n",
      "Epoch 11: val_loss did not improve from 0.00450\n",
      "\n",
      "Epoch 12: val_loss did not improve from 0.00450\n",
      "\n",
      "Epoch 13: val_loss did not improve from 0.00450\n",
      "\n",
      "Epoch 14: val_loss did not improve from 0.00450\n",
      "\n",
      "Epoch 15: val_loss did not improve from 0.00450\n",
      "\n",
      "Epoch 16: val_loss did not improve from 0.00450\n",
      "\n",
      "Epoch 17: val_loss did not improve from 0.00450\n",
      "\n",
      "Epoch 18: val_loss did not improve from 0.00450\n",
      "\n",
      "Epoch 19: val_loss did not improve from 0.00450\n",
      "\n",
      "Epoch 20: val_loss did not improve from 0.00450\n",
      "\n",
      "Epoch 21: val_loss did not improve from 0.00450\n",
      "\n",
      "Epoch 22: val_loss did not improve from 0.00450\n",
      "\n",
      "Epoch 23: val_loss did not improve from 0.00450\n",
      "\n",
      "Epoch 24: val_loss did not improve from 0.00450\n",
      "\n",
      "Epoch 25: val_loss did not improve from 0.00450\n",
      "\n",
      "Epoch 26: val_loss did not improve from 0.00450\n",
      "\n",
      "Epoch 27: val_loss did not improve from 0.00450\n",
      "\n",
      "Epoch 28: val_loss did not improve from 0.00450\n",
      "\n",
      "Epoch 29: val_loss did not improve from 0.00450\n",
      "\n",
      "Epoch 30: val_loss did not improve from 0.00450\n",
      "\n",
      "Epoch 31: val_loss did not improve from 0.00450\n",
      "\n",
      "Epoch 32: val_loss did not improve from 0.00450\n",
      "\n",
      "Epoch 33: val_loss did not improve from 0.00450\n",
      "\n",
      "Epoch 34: val_loss did not improve from 0.00450\n",
      "\n",
      "Epoch 35: val_loss did not improve from 0.00450\n",
      "\n",
      "Epoch 36: val_loss did not improve from 0.00450\n",
      "\n",
      "Epoch 37: val_loss did not improve from 0.00450\n",
      "\n",
      "Epoch 38: val_loss did not improve from 0.00450\n",
      "\n",
      "Epoch 39: val_loss did not improve from 0.00450\n",
      "\n",
      "Epoch 40: val_loss did not improve from 0.00450\n",
      "\n",
      "Epoch 41: val_loss did not improve from 0.00450\n",
      "\n",
      "Epoch 42: val_loss did not improve from 0.00450\n",
      "\n",
      "Epoch 43: val_loss did not improve from 0.00450\n",
      "\n",
      "Epoch 44: val_loss did not improve from 0.00450\n",
      "\n",
      "Epoch 45: val_loss did not improve from 0.00450\n",
      "\n",
      "Epoch 46: val_loss did not improve from 0.00450\n",
      "\n",
      "Epoch 47: val_loss did not improve from 0.00450\n",
      "\n",
      "Epoch 48: val_loss did not improve from 0.00450\n",
      "\n",
      "Epoch 49: val_loss did not improve from 0.00450\n",
      "\n",
      "Epoch 50: val_loss did not improve from 0.00450\n",
      "\n",
      "Epoch 51: val_loss did not improve from 0.00450\n",
      "\n",
      "Epoch 52: val_loss did not improve from 0.00450\n",
      "\n",
      "Epoch 53: val_loss did not improve from 0.00450\n",
      "\n",
      "Epoch 54: val_loss did not improve from 0.00450\n",
      "\n",
      "Epoch 55: val_loss did not improve from 0.00450\n",
      "\n",
      "Epoch 56: val_loss did not improve from 0.00450\n",
      "\n",
      "Epoch 57: val_loss did not improve from 0.00450\n",
      "\n",
      "Epoch 58: val_loss did not improve from 0.00450\n",
      "\n",
      "Epoch 59: val_loss did not improve from 0.00450\n",
      "\n",
      "Epoch 60: val_loss did not improve from 0.00450\n",
      "\n",
      "Epoch 61: val_loss did not improve from 0.00450\n",
      "\n",
      "Epoch 62: val_loss did not improve from 0.00450\n",
      "\n",
      "Epoch 63: val_loss did not improve from 0.00450\n",
      "\n",
      "Epoch 64: val_loss did not improve from 0.00450\n",
      "\n",
      "Epoch 65: val_loss did not improve from 0.00450\n",
      "\n",
      "Epoch 66: val_loss did not improve from 0.00450\n",
      "\n",
      "Epoch 67: val_loss did not improve from 0.00450\n",
      "\n",
      "Epoch 68: val_loss did not improve from 0.00450\n",
      "\n",
      "Epoch 69: val_loss did not improve from 0.00450\n",
      "\n",
      "Epoch 70: val_loss did not improve from 0.00450\n",
      "\n",
      "Epoch 71: val_loss did not improve from 0.00450\n",
      "\n",
      "Epoch 72: val_loss did not improve from 0.00450\n",
      "\n",
      "Epoch 73: val_loss did not improve from 0.00450\n",
      "\n",
      "Epoch 74: val_loss did not improve from 0.00450\n",
      "\n",
      "Epoch 75: val_loss did not improve from 0.00450\n",
      "\n",
      "Epoch 76: val_loss did not improve from 0.00450\n",
      "\n",
      "Epoch 77: val_loss did not improve from 0.00450\n",
      "\n",
      "Epoch 78: val_loss did not improve from 0.00450\n",
      "\n",
      "Epoch 79: val_loss did not improve from 0.00450\n",
      "\n",
      "Epoch 80: val_loss did not improve from 0.00450\n",
      "\n",
      "Epoch 81: val_loss did not improve from 0.00450\n",
      "\n",
      "Epoch 82: val_loss did not improve from 0.00450\n",
      "\n",
      "Epoch 83: val_loss did not improve from 0.00450\n",
      "\n",
      "Epoch 84: val_loss did not improve from 0.00450\n",
      "\n",
      "Epoch 85: val_loss did not improve from 0.00450\n",
      "\n",
      "Epoch 86: val_loss did not improve from 0.00450\n",
      "\n",
      "Epoch 87: val_loss did not improve from 0.00450\n",
      "\n",
      "Epoch 88: val_loss did not improve from 0.00450\n",
      "\n",
      "Epoch 89: val_loss did not improve from 0.00450\n",
      "\n",
      "Epoch 90: val_loss did not improve from 0.00450\n",
      "\n",
      "Epoch 91: val_loss did not improve from 0.00450\n",
      "\n",
      "Epoch 92: val_loss did not improve from 0.00450\n",
      "\n",
      "Epoch 93: val_loss did not improve from 0.00450\n",
      "\n",
      "Epoch 94: val_loss did not improve from 0.00450\n",
      "\n",
      "Epoch 95: val_loss did not improve from 0.00450\n",
      "\n",
      "Epoch 96: val_loss did not improve from 0.00450\n",
      "\n",
      "Epoch 97: val_loss did not improve from 0.00450\n",
      "\n",
      "Epoch 98: val_loss did not improve from 0.00450\n",
      "\n",
      "Epoch 99: val_loss did not improve from 0.00450\n",
      "\n",
      "Epoch 100: val_loss did not improve from 0.00450\n",
      "\n",
      "Epoch 101: val_loss did not improve from 0.00450\n",
      "\n",
      "Epoch 102: val_loss did not improve from 0.00450\n",
      "\n",
      "Epoch 103: val_loss did not improve from 0.00450\n",
      "\n",
      "Epoch 104: val_loss did not improve from 0.00450\n",
      "\n",
      "Epoch 105: val_loss did not improve from 0.00450\n",
      "\n",
      "Epoch 106: val_loss did not improve from 0.00450\n",
      "\n",
      "Epoch 107: val_loss did not improve from 0.00450\n",
      "\n",
      "Epoch 108: val_loss did not improve from 0.00450\n",
      "\n",
      "Epoch 109: val_loss did not improve from 0.00450\n",
      "\n",
      "Epoch 110: val_loss did not improve from 0.00450\n",
      "\n",
      "Epoch 111: val_loss did not improve from 0.00450\n",
      "\n",
      "Epoch 112: val_loss did not improve from 0.00450\n",
      "\n",
      "Epoch 113: val_loss did not improve from 0.00450\n",
      "\n",
      "Epoch 114: val_loss did not improve from 0.00450\n",
      "\n",
      "Epoch 115: val_loss did not improve from 0.00450\n",
      "\n",
      "Epoch 116: val_loss did not improve from 0.00450\n",
      "\n",
      "Epoch 117: val_loss did not improve from 0.00450\n",
      "\n",
      "Epoch 118: val_loss did not improve from 0.00450\n",
      "\n",
      "Epoch 119: val_loss did not improve from 0.00450\n",
      "\n",
      "Epoch 120: val_loss did not improve from 0.00450\n",
      "\n",
      "Epoch 121: val_loss did not improve from 0.00450\n",
      "\n",
      "Epoch 122: val_loss did not improve from 0.00450\n",
      "\n",
      "Epoch 123: val_loss did not improve from 0.00450\n",
      "\n",
      "Epoch 124: val_loss did not improve from 0.00450\n",
      "\n",
      "Epoch 125: val_loss did not improve from 0.00450\n",
      "\n",
      "Epoch 126: val_loss did not improve from 0.00450\n",
      "\n",
      "Epoch 127: val_loss did not improve from 0.00450\n",
      "\n",
      "Epoch 128: val_loss did not improve from 0.00450\n",
      "\n",
      "Epoch 129: val_loss did not improve from 0.00450\n",
      "\n",
      "Epoch 130: val_loss did not improve from 0.00450\n",
      "Epoch 130: early stopping\n",
      "\u001b[1m19/19\u001b[0m \u001b[32m━━━━━━━━━━━━━━━━━━━━\u001b[0m\u001b[37m\u001b[0m \u001b[1m1s\u001b[0m 26ms/step\n",
      "Training with params: {'timesteps': 40, 'hl': [40, 35], 'lr': 0.001, 'batch_size': 64, 'num_epochs': 200}\n"
     ]
    },
    {
     "name": "stderr",
     "output_type": "stream",
     "text": [
      "c:\\Users\\84368\\AppData\\Local\\Programs\\Python\\Python311\\Lib\\site-packages\\keras\\src\\layers\\rnn\\rnn.py:200: UserWarning: Do not pass an `input_shape`/`input_dim` argument to a layer. When using Sequential models, prefer using an `Input(shape)` object as the first layer in the model instead.\n",
      "  super().__init__(**kwargs)\n"
     ]
    },
    {
     "name": "stdout",
     "output_type": "stream",
     "text": [
      "\n",
      "Epoch 1: val_loss did not improve from 0.00450\n",
      "\n",
      "Epoch 2: val_loss did not improve from 0.00450\n",
      "\n",
      "Epoch 3: val_loss did not improve from 0.00450\n",
      "\n",
      "Epoch 4: val_loss did not improve from 0.00450\n",
      "\n",
      "Epoch 5: val_loss did not improve from 0.00450\n",
      "\n",
      "Epoch 6: val_loss did not improve from 0.00450\n",
      "\n",
      "Epoch 7: val_loss did not improve from 0.00450\n",
      "\n",
      "Epoch 8: val_loss did not improve from 0.00450\n",
      "\n",
      "Epoch 9: val_loss did not improve from 0.00450\n",
      "\n",
      "Epoch 10: val_loss did not improve from 0.00450\n",
      "\n",
      "Epoch 11: val_loss did not improve from 0.00450\n",
      "\n",
      "Epoch 12: val_loss did not improve from 0.00450\n",
      "\n",
      "Epoch 13: val_loss did not improve from 0.00450\n",
      "\n",
      "Epoch 14: val_loss did not improve from 0.00450\n",
      "\n",
      "Epoch 15: val_loss did not improve from 0.00450\n",
      "\n",
      "Epoch 16: val_loss did not improve from 0.00450\n",
      "\n",
      "Epoch 17: val_loss did not improve from 0.00450\n",
      "\n",
      "Epoch 18: val_loss did not improve from 0.00450\n",
      "\n",
      "Epoch 19: val_loss did not improve from 0.00450\n",
      "\n",
      "Epoch 20: val_loss did not improve from 0.00450\n",
      "\n",
      "Epoch 21: val_loss did not improve from 0.00450\n",
      "\n",
      "Epoch 22: val_loss did not improve from 0.00450\n",
      "\n",
      "Epoch 23: val_loss did not improve from 0.00450\n",
      "\n",
      "Epoch 24: val_loss did not improve from 0.00450\n",
      "\n",
      "Epoch 25: val_loss did not improve from 0.00450\n",
      "\n",
      "Epoch 26: val_loss did not improve from 0.00450\n",
      "\n",
      "Epoch 27: val_loss did not improve from 0.00450\n",
      "\n",
      "Epoch 28: val_loss did not improve from 0.00450\n",
      "\n",
      "Epoch 29: val_loss did not improve from 0.00450\n",
      "\n",
      "Epoch 30: val_loss did not improve from 0.00450\n",
      "\n",
      "Epoch 31: val_loss did not improve from 0.00450\n",
      "\n",
      "Epoch 32: val_loss did not improve from 0.00450\n",
      "\n",
      "Epoch 33: val_loss did not improve from 0.00450\n",
      "\n",
      "Epoch 34: val_loss did not improve from 0.00450\n",
      "\n",
      "Epoch 35: val_loss did not improve from 0.00450\n",
      "\n",
      "Epoch 36: val_loss did not improve from 0.00450\n",
      "\n",
      "Epoch 37: val_loss did not improve from 0.00450\n",
      "\n",
      "Epoch 38: val_loss did not improve from 0.00450\n",
      "\n",
      "Epoch 39: val_loss did not improve from 0.00450\n",
      "\n",
      "Epoch 40: val_loss did not improve from 0.00450\n",
      "\n",
      "Epoch 41: val_loss did not improve from 0.00450\n",
      "\n",
      "Epoch 42: val_loss did not improve from 0.00450\n",
      "\n",
      "Epoch 43: val_loss did not improve from 0.00450\n",
      "\n",
      "Epoch 44: val_loss did not improve from 0.00450\n",
      "\n",
      "Epoch 45: val_loss did not improve from 0.00450\n",
      "\n",
      "Epoch 46: val_loss did not improve from 0.00450\n",
      "\n",
      "Epoch 47: val_loss did not improve from 0.00450\n",
      "\n",
      "Epoch 48: val_loss did not improve from 0.00450\n",
      "\n",
      "Epoch 49: val_loss did not improve from 0.00450\n",
      "\n",
      "Epoch 50: val_loss did not improve from 0.00450\n",
      "\n",
      "Epoch 51: val_loss did not improve from 0.00450\n",
      "\n",
      "Epoch 52: val_loss did not improve from 0.00450\n",
      "\n",
      "Epoch 53: val_loss did not improve from 0.00450\n",
      "\n",
      "Epoch 54: val_loss did not improve from 0.00450\n",
      "\n",
      "Epoch 55: val_loss did not improve from 0.00450\n",
      "\n",
      "Epoch 56: val_loss did not improve from 0.00450\n",
      "\n",
      "Epoch 57: val_loss did not improve from 0.00450\n",
      "\n",
      "Epoch 58: val_loss did not improve from 0.00450\n",
      "\n",
      "Epoch 59: val_loss did not improve from 0.00450\n",
      "\n",
      "Epoch 60: val_loss did not improve from 0.00450\n",
      "\n",
      "Epoch 61: val_loss did not improve from 0.00450\n",
      "\n",
      "Epoch 62: val_loss did not improve from 0.00450\n",
      "\n",
      "Epoch 63: val_loss did not improve from 0.00450\n",
      "\n",
      "Epoch 64: val_loss did not improve from 0.00450\n",
      "\n",
      "Epoch 65: val_loss did not improve from 0.00450\n",
      "\n",
      "Epoch 66: val_loss did not improve from 0.00450\n",
      "\n",
      "Epoch 67: val_loss did not improve from 0.00450\n",
      "\n",
      "Epoch 68: val_loss did not improve from 0.00450\n",
      "\n",
      "Epoch 69: val_loss did not improve from 0.00450\n",
      "\n",
      "Epoch 70: val_loss did not improve from 0.00450\n",
      "\n",
      "Epoch 71: val_loss did not improve from 0.00450\n",
      "\n",
      "Epoch 72: val_loss did not improve from 0.00450\n",
      "\n",
      "Epoch 73: val_loss did not improve from 0.00450\n",
      "\n",
      "Epoch 74: val_loss did not improve from 0.00450\n",
      "\n",
      "Epoch 75: val_loss did not improve from 0.00450\n",
      "\n",
      "Epoch 76: val_loss did not improve from 0.00450\n",
      "\n",
      "Epoch 77: val_loss did not improve from 0.00450\n",
      "\n",
      "Epoch 78: val_loss did not improve from 0.00450\n",
      "\n",
      "Epoch 79: val_loss did not improve from 0.00450\n",
      "\n",
      "Epoch 80: val_loss did not improve from 0.00450\n",
      "\n",
      "Epoch 81: val_loss did not improve from 0.00450\n",
      "\n",
      "Epoch 82: val_loss did not improve from 0.00450\n",
      "\n",
      "Epoch 83: val_loss did not improve from 0.00450\n",
      "\n",
      "Epoch 84: val_loss did not improve from 0.00450\n",
      "\n",
      "Epoch 85: val_loss did not improve from 0.00450\n",
      "\n",
      "Epoch 86: val_loss did not improve from 0.00450\n",
      "\n",
      "Epoch 87: val_loss did not improve from 0.00450\n",
      "\n",
      "Epoch 88: val_loss did not improve from 0.00450\n",
      "\n",
      "Epoch 89: val_loss did not improve from 0.00450\n",
      "\n",
      "Epoch 90: val_loss did not improve from 0.00450\n",
      "\n",
      "Epoch 91: val_loss did not improve from 0.00450\n",
      "\n",
      "Epoch 92: val_loss did not improve from 0.00450\n",
      "\n",
      "Epoch 93: val_loss did not improve from 0.00450\n",
      "\n",
      "Epoch 94: val_loss did not improve from 0.00450\n",
      "\n",
      "Epoch 95: val_loss did not improve from 0.00450\n",
      "\n",
      "Epoch 96: val_loss did not improve from 0.00450\n",
      "\n",
      "Epoch 97: val_loss did not improve from 0.00450\n",
      "\n",
      "Epoch 98: val_loss did not improve from 0.00450\n",
      "\n",
      "Epoch 99: val_loss did not improve from 0.00450\n",
      "\n",
      "Epoch 100: val_loss did not improve from 0.00450\n",
      "\n",
      "Epoch 101: val_loss did not improve from 0.00450\n",
      "\n",
      "Epoch 102: val_loss did not improve from 0.00450\n",
      "\n",
      "Epoch 103: val_loss did not improve from 0.00450\n",
      "\n",
      "Epoch 104: val_loss did not improve from 0.00450\n",
      "\n",
      "Epoch 105: val_loss did not improve from 0.00450\n",
      "\n",
      "Epoch 106: val_loss did not improve from 0.00450\n",
      "\n",
      "Epoch 107: val_loss did not improve from 0.00450\n",
      "\n",
      "Epoch 108: val_loss did not improve from 0.00450\n",
      "\n",
      "Epoch 109: val_loss did not improve from 0.00450\n",
      "\n",
      "Epoch 110: val_loss did not improve from 0.00450\n",
      "\n",
      "Epoch 111: val_loss did not improve from 0.00450\n",
      "\n",
      "Epoch 112: val_loss did not improve from 0.00450\n",
      "\n",
      "Epoch 113: val_loss did not improve from 0.00450\n",
      "\n",
      "Epoch 114: val_loss did not improve from 0.00450\n",
      "\n",
      "Epoch 115: val_loss did not improve from 0.00450\n",
      "\n",
      "Epoch 116: val_loss did not improve from 0.00450\n",
      "\n",
      "Epoch 117: val_loss did not improve from 0.00450\n",
      "\n",
      "Epoch 118: val_loss did not improve from 0.00450\n",
      "\n",
      "Epoch 119: val_loss did not improve from 0.00450\n",
      "\n",
      "Epoch 120: val_loss did not improve from 0.00450\n",
      "\n",
      "Epoch 121: val_loss did not improve from 0.00450\n",
      "\n",
      "Epoch 122: val_loss did not improve from 0.00450\n",
      "\n",
      "Epoch 123: val_loss did not improve from 0.00450\n",
      "\n",
      "Epoch 124: val_loss did not improve from 0.00450\n",
      "\n",
      "Epoch 125: val_loss did not improve from 0.00450\n",
      "\n",
      "Epoch 126: val_loss did not improve from 0.00450\n",
      "\n",
      "Epoch 127: val_loss did not improve from 0.00450\n",
      "\n",
      "Epoch 128: val_loss did not improve from 0.00450\n",
      "\n",
      "Epoch 129: val_loss did not improve from 0.00450\n",
      "\n",
      "Epoch 130: val_loss did not improve from 0.00450\n",
      "\n",
      "Epoch 131: val_loss did not improve from 0.00450\n",
      "\n",
      "Epoch 132: val_loss did not improve from 0.00450\n",
      "\n",
      "Epoch 133: val_loss did not improve from 0.00450\n",
      "\n",
      "Epoch 134: val_loss did not improve from 0.00450\n",
      "\n",
      "Epoch 135: val_loss did not improve from 0.00450\n",
      "\n",
      "Epoch 136: val_loss did not improve from 0.00450\n",
      "\n",
      "Epoch 137: val_loss did not improve from 0.00450\n",
      "\n",
      "Epoch 138: val_loss did not improve from 0.00450\n",
      "\n",
      "Epoch 139: val_loss did not improve from 0.00450\n",
      "\n",
      "Epoch 140: val_loss did not improve from 0.00450\n",
      "\n",
      "Epoch 141: val_loss did not improve from 0.00450\n",
      "\n",
      "Epoch 142: val_loss did not improve from 0.00450\n",
      "\n",
      "Epoch 143: val_loss did not improve from 0.00450\n",
      "\n",
      "Epoch 144: val_loss did not improve from 0.00450\n",
      "\n",
      "Epoch 145: val_loss did not improve from 0.00450\n",
      "\n",
      "Epoch 146: val_loss did not improve from 0.00450\n",
      "\n",
      "Epoch 147: val_loss did not improve from 0.00450\n",
      "\n",
      "Epoch 148: val_loss did not improve from 0.00450\n",
      "\n",
      "Epoch 149: val_loss did not improve from 0.00450\n",
      "\n",
      "Epoch 150: val_loss did not improve from 0.00450\n",
      "\n",
      "Epoch 151: val_loss did not improve from 0.00450\n",
      "\n",
      "Epoch 152: val_loss did not improve from 0.00450\n",
      "\n",
      "Epoch 153: val_loss did not improve from 0.00450\n",
      "\n",
      "Epoch 154: val_loss did not improve from 0.00450\n",
      "\n",
      "Epoch 155: val_loss did not improve from 0.00450\n",
      "\n",
      "Epoch 156: val_loss did not improve from 0.00450\n",
      "\n",
      "Epoch 157: val_loss did not improve from 0.00450\n",
      "\n",
      "Epoch 158: val_loss did not improve from 0.00450\n",
      "\n",
      "Epoch 159: val_loss did not improve from 0.00450\n",
      "\n",
      "Epoch 160: val_loss did not improve from 0.00450\n",
      "\n",
      "Epoch 161: val_loss did not improve from 0.00450\n",
      "\n",
      "Epoch 162: val_loss did not improve from 0.00450\n",
      "\n",
      "Epoch 163: val_loss did not improve from 0.00450\n",
      "\n",
      "Epoch 164: val_loss did not improve from 0.00450\n",
      "\n",
      "Epoch 165: val_loss did not improve from 0.00450\n",
      "\n",
      "Epoch 166: val_loss did not improve from 0.00450\n",
      "\n",
      "Epoch 167: val_loss did not improve from 0.00450\n",
      "\n",
      "Epoch 168: val_loss did not improve from 0.00450\n",
      "\n",
      "Epoch 169: val_loss did not improve from 0.00450\n",
      "\n",
      "Epoch 170: val_loss did not improve from 0.00450\n",
      "\n",
      "Epoch 171: val_loss did not improve from 0.00450\n",
      "\n",
      "Epoch 172: val_loss did not improve from 0.00450\n",
      "\n",
      "Epoch 173: val_loss did not improve from 0.00450\n",
      "\n",
      "Epoch 174: val_loss did not improve from 0.00450\n",
      "\n",
      "Epoch 175: val_loss did not improve from 0.00450\n",
      "\n",
      "Epoch 176: val_loss did not improve from 0.00450\n",
      "\n",
      "Epoch 177: val_loss did not improve from 0.00450\n",
      "\n",
      "Epoch 178: val_loss did not improve from 0.00450\n",
      "\n",
      "Epoch 179: val_loss did not improve from 0.00450\n",
      "\n",
      "Epoch 180: val_loss did not improve from 0.00450\n",
      "\n",
      "Epoch 181: val_loss did not improve from 0.00450\n",
      "\n",
      "Epoch 182: val_loss did not improve from 0.00450\n",
      "\n",
      "Epoch 183: val_loss did not improve from 0.00450\n",
      "\n",
      "Epoch 184: val_loss did not improve from 0.00450\n",
      "\n",
      "Epoch 185: val_loss did not improve from 0.00450\n",
      "\n",
      "Epoch 186: val_loss did not improve from 0.00450\n",
      "\n",
      "Epoch 187: val_loss did not improve from 0.00450\n",
      "\n",
      "Epoch 188: val_loss did not improve from 0.00450\n",
      "\n",
      "Epoch 189: val_loss did not improve from 0.00450\n",
      "\n",
      "Epoch 190: val_loss did not improve from 0.00450\n",
      "\n",
      "Epoch 191: val_loss did not improve from 0.00450\n",
      "\n",
      "Epoch 192: val_loss did not improve from 0.00450\n",
      "\n",
      "Epoch 193: val_loss did not improve from 0.00450\n",
      "\n",
      "Epoch 194: val_loss did not improve from 0.00450\n",
      "\n",
      "Epoch 195: val_loss did not improve from 0.00450\n",
      "\n",
      "Epoch 196: val_loss did not improve from 0.00450\n",
      "\n",
      "Epoch 197: val_loss did not improve from 0.00450\n",
      "\n",
      "Epoch 198: val_loss did not improve from 0.00450\n",
      "\n",
      "Epoch 199: val_loss did not improve from 0.00450\n",
      "\n",
      "Epoch 200: val_loss did not improve from 0.00450\n",
      "\u001b[1m19/19\u001b[0m \u001b[32m━━━━━━━━━━━━━━━━━━━━\u001b[0m\u001b[37m\u001b[0m \u001b[1m4s\u001b[0m 95ms/step\n",
      "Training with params: {'timesteps': 40, 'hl': [40, 35], 'lr': 0.001, 'batch_size': 64, 'num_epochs': 250}\n"
     ]
    },
    {
     "name": "stderr",
     "output_type": "stream",
     "text": [
      "c:\\Users\\84368\\AppData\\Local\\Programs\\Python\\Python311\\Lib\\site-packages\\keras\\src\\layers\\rnn\\rnn.py:200: UserWarning: Do not pass an `input_shape`/`input_dim` argument to a layer. When using Sequential models, prefer using an `Input(shape)` object as the first layer in the model instead.\n",
      "  super().__init__(**kwargs)\n"
     ]
    },
    {
     "name": "stdout",
     "output_type": "stream",
     "text": [
      "\n",
      "Epoch 1: val_loss did not improve from 0.00450\n",
      "\n",
      "Epoch 2: val_loss did not improve from 0.00450\n",
      "\n",
      "Epoch 3: val_loss did not improve from 0.00450\n",
      "\n",
      "Epoch 4: val_loss did not improve from 0.00450\n",
      "\n",
      "Epoch 5: val_loss did not improve from 0.00450\n",
      "\n",
      "Epoch 6: val_loss did not improve from 0.00450\n",
      "\n",
      "Epoch 7: val_loss did not improve from 0.00450\n",
      "\n",
      "Epoch 8: val_loss did not improve from 0.00450\n",
      "\n",
      "Epoch 9: val_loss did not improve from 0.00450\n",
      "\n",
      "Epoch 10: val_loss did not improve from 0.00450\n",
      "\n",
      "Epoch 11: val_loss did not improve from 0.00450\n",
      "\n",
      "Epoch 12: val_loss did not improve from 0.00450\n",
      "\n",
      "Epoch 13: val_loss did not improve from 0.00450\n",
      "\n",
      "Epoch 14: val_loss did not improve from 0.00450\n",
      "\n",
      "Epoch 15: val_loss did not improve from 0.00450\n",
      "\n",
      "Epoch 16: val_loss did not improve from 0.00450\n",
      "\n",
      "Epoch 17: val_loss did not improve from 0.00450\n",
      "\n",
      "Epoch 18: val_loss did not improve from 0.00450\n",
      "\n",
      "Epoch 19: val_loss did not improve from 0.00450\n",
      "\n",
      "Epoch 20: val_loss did not improve from 0.00450\n",
      "\n",
      "Epoch 21: val_loss did not improve from 0.00450\n",
      "\n",
      "Epoch 22: val_loss did not improve from 0.00450\n",
      "\n",
      "Epoch 23: val_loss did not improve from 0.00450\n",
      "\n",
      "Epoch 24: val_loss did not improve from 0.00450\n",
      "\n",
      "Epoch 25: val_loss did not improve from 0.00450\n",
      "\n",
      "Epoch 26: val_loss did not improve from 0.00450\n",
      "\n",
      "Epoch 27: val_loss did not improve from 0.00450\n",
      "\n",
      "Epoch 28: val_loss did not improve from 0.00450\n",
      "\n",
      "Epoch 29: val_loss did not improve from 0.00450\n",
      "\n",
      "Epoch 30: val_loss did not improve from 0.00450\n",
      "\n",
      "Epoch 31: val_loss did not improve from 0.00450\n",
      "\n",
      "Epoch 32: val_loss did not improve from 0.00450\n",
      "\n",
      "Epoch 33: val_loss did not improve from 0.00450\n",
      "\n",
      "Epoch 34: val_loss did not improve from 0.00450\n",
      "\n",
      "Epoch 35: val_loss did not improve from 0.00450\n",
      "\n",
      "Epoch 36: val_loss did not improve from 0.00450\n",
      "\n",
      "Epoch 37: val_loss did not improve from 0.00450\n",
      "\n",
      "Epoch 38: val_loss did not improve from 0.00450\n",
      "\n",
      "Epoch 39: val_loss did not improve from 0.00450\n",
      "\n",
      "Epoch 40: val_loss did not improve from 0.00450\n",
      "\n",
      "Epoch 41: val_loss did not improve from 0.00450\n",
      "\n",
      "Epoch 42: val_loss did not improve from 0.00450\n",
      "\n",
      "Epoch 43: val_loss did not improve from 0.00450\n",
      "\n",
      "Epoch 44: val_loss did not improve from 0.00450\n",
      "\n",
      "Epoch 45: val_loss did not improve from 0.00450\n",
      "\n",
      "Epoch 46: val_loss did not improve from 0.00450\n",
      "\n",
      "Epoch 47: val_loss did not improve from 0.00450\n",
      "\n",
      "Epoch 48: val_loss did not improve from 0.00450\n",
      "\n",
      "Epoch 49: val_loss did not improve from 0.00450\n",
      "\n",
      "Epoch 50: val_loss did not improve from 0.00450\n",
      "\n",
      "Epoch 51: val_loss did not improve from 0.00450\n",
      "\n",
      "Epoch 52: val_loss did not improve from 0.00450\n",
      "\n",
      "Epoch 53: val_loss did not improve from 0.00450\n",
      "\n",
      "Epoch 54: val_loss did not improve from 0.00450\n",
      "\n",
      "Epoch 55: val_loss did not improve from 0.00450\n",
      "\n",
      "Epoch 56: val_loss did not improve from 0.00450\n",
      "\n",
      "Epoch 57: val_loss did not improve from 0.00450\n",
      "\n",
      "Epoch 58: val_loss did not improve from 0.00450\n",
      "\n",
      "Epoch 59: val_loss did not improve from 0.00450\n",
      "\n",
      "Epoch 60: val_loss did not improve from 0.00450\n",
      "\n",
      "Epoch 61: val_loss did not improve from 0.00450\n",
      "\n",
      "Epoch 62: val_loss did not improve from 0.00450\n",
      "\n",
      "Epoch 63: val_loss did not improve from 0.00450\n",
      "\n",
      "Epoch 64: val_loss did not improve from 0.00450\n",
      "\n",
      "Epoch 65: val_loss did not improve from 0.00450\n",
      "\n",
      "Epoch 66: val_loss did not improve from 0.00450\n",
      "\n",
      "Epoch 67: val_loss did not improve from 0.00450\n",
      "\n",
      "Epoch 68: val_loss did not improve from 0.00450\n",
      "\n",
      "Epoch 69: val_loss did not improve from 0.00450\n",
      "\n",
      "Epoch 70: val_loss did not improve from 0.00450\n",
      "\n",
      "Epoch 71: val_loss did not improve from 0.00450\n",
      "\n",
      "Epoch 72: val_loss did not improve from 0.00450\n",
      "\n",
      "Epoch 73: val_loss did not improve from 0.00450\n",
      "\n",
      "Epoch 74: val_loss did not improve from 0.00450\n",
      "\n",
      "Epoch 75: val_loss did not improve from 0.00450\n",
      "\n",
      "Epoch 76: val_loss did not improve from 0.00450\n",
      "\n",
      "Epoch 77: val_loss did not improve from 0.00450\n",
      "\n",
      "Epoch 78: val_loss did not improve from 0.00450\n",
      "\n",
      "Epoch 79: val_loss did not improve from 0.00450\n",
      "\n",
      "Epoch 80: val_loss did not improve from 0.00450\n",
      "\n",
      "Epoch 81: val_loss did not improve from 0.00450\n",
      "\n",
      "Epoch 82: val_loss did not improve from 0.00450\n",
      "\n",
      "Epoch 83: val_loss did not improve from 0.00450\n",
      "\n",
      "Epoch 84: val_loss did not improve from 0.00450\n",
      "\n",
      "Epoch 85: val_loss did not improve from 0.00450\n",
      "Epoch 85: early stopping\n",
      "\u001b[1m19/19\u001b[0m \u001b[32m━━━━━━━━━━━━━━━━━━━━\u001b[0m\u001b[37m\u001b[0m \u001b[1m3s\u001b[0m 83ms/step\n",
      "Training with params: {'timesteps': 40, 'hl': [40, 35], 'lr': 0.0001, 'batch_size': 32, 'num_epochs': 200}\n"
     ]
    },
    {
     "name": "stderr",
     "output_type": "stream",
     "text": [
      "c:\\Users\\84368\\AppData\\Local\\Programs\\Python\\Python311\\Lib\\site-packages\\keras\\src\\layers\\rnn\\rnn.py:200: UserWarning: Do not pass an `input_shape`/`input_dim` argument to a layer. When using Sequential models, prefer using an `Input(shape)` object as the first layer in the model instead.\n",
      "  super().__init__(**kwargs)\n"
     ]
    },
    {
     "name": "stdout",
     "output_type": "stream",
     "text": [
      "\n",
      "Epoch 1: val_loss did not improve from 0.00450\n",
      "\n",
      "Epoch 2: val_loss did not improve from 0.00450\n",
      "\n",
      "Epoch 3: val_loss did not improve from 0.00450\n",
      "\n",
      "Epoch 4: val_loss did not improve from 0.00450\n",
      "\n",
      "Epoch 5: val_loss did not improve from 0.00450\n",
      "\n",
      "Epoch 6: val_loss did not improve from 0.00450\n",
      "\n",
      "Epoch 7: val_loss did not improve from 0.00450\n",
      "\n",
      "Epoch 8: val_loss did not improve from 0.00450\n",
      "\n",
      "Epoch 9: val_loss did not improve from 0.00450\n",
      "\n",
      "Epoch 10: val_loss did not improve from 0.00450\n",
      "\n",
      "Epoch 11: val_loss did not improve from 0.00450\n",
      "\n",
      "Epoch 12: val_loss did not improve from 0.00450\n",
      "\n",
      "Epoch 13: val_loss did not improve from 0.00450\n",
      "\n",
      "Epoch 14: val_loss did not improve from 0.00450\n",
      "\n",
      "Epoch 15: val_loss did not improve from 0.00450\n",
      "\n",
      "Epoch 16: val_loss did not improve from 0.00450\n",
      "\n",
      "Epoch 17: val_loss did not improve from 0.00450\n",
      "\n",
      "Epoch 18: val_loss did not improve from 0.00450\n",
      "\n",
      "Epoch 19: val_loss did not improve from 0.00450\n",
      "\n",
      "Epoch 20: val_loss did not improve from 0.00450\n",
      "\n",
      "Epoch 21: val_loss did not improve from 0.00450\n",
      "\n",
      "Epoch 22: val_loss did not improve from 0.00450\n",
      "\n",
      "Epoch 23: val_loss did not improve from 0.00450\n",
      "\n",
      "Epoch 24: val_loss did not improve from 0.00450\n",
      "\n",
      "Epoch 25: val_loss did not improve from 0.00450\n",
      "\n",
      "Epoch 26: val_loss did not improve from 0.00450\n",
      "\n",
      "Epoch 27: val_loss did not improve from 0.00450\n",
      "\n",
      "Epoch 28: val_loss did not improve from 0.00450\n",
      "\n",
      "Epoch 29: val_loss did not improve from 0.00450\n",
      "\n",
      "Epoch 30: val_loss did not improve from 0.00450\n",
      "\n",
      "Epoch 31: val_loss did not improve from 0.00450\n",
      "\n",
      "Epoch 32: val_loss did not improve from 0.00450\n",
      "\n",
      "Epoch 33: val_loss did not improve from 0.00450\n",
      "\n",
      "Epoch 34: val_loss did not improve from 0.00450\n",
      "\n",
      "Epoch 35: val_loss did not improve from 0.00450\n",
      "\n",
      "Epoch 36: val_loss did not improve from 0.00450\n",
      "\n",
      "Epoch 37: val_loss did not improve from 0.00450\n",
      "\n",
      "Epoch 38: val_loss did not improve from 0.00450\n",
      "\n",
      "Epoch 39: val_loss did not improve from 0.00450\n",
      "\n",
      "Epoch 40: val_loss did not improve from 0.00450\n",
      "\n",
      "Epoch 41: val_loss did not improve from 0.00450\n",
      "\n",
      "Epoch 42: val_loss did not improve from 0.00450\n",
      "\n",
      "Epoch 43: val_loss did not improve from 0.00450\n",
      "\n",
      "Epoch 44: val_loss did not improve from 0.00450\n",
      "\n",
      "Epoch 45: val_loss did not improve from 0.00450\n",
      "\n",
      "Epoch 46: val_loss did not improve from 0.00450\n",
      "\n",
      "Epoch 47: val_loss did not improve from 0.00450\n",
      "\n",
      "Epoch 48: val_loss did not improve from 0.00450\n",
      "\n",
      "Epoch 49: val_loss did not improve from 0.00450\n",
      "\n",
      "Epoch 50: val_loss did not improve from 0.00450\n",
      "\n",
      "Epoch 51: val_loss did not improve from 0.00450\n",
      "\n",
      "Epoch 52: val_loss did not improve from 0.00450\n",
      "\n",
      "Epoch 53: val_loss did not improve from 0.00450\n",
      "\n",
      "Epoch 54: val_loss did not improve from 0.00450\n",
      "\n",
      "Epoch 55: val_loss did not improve from 0.00450\n",
      "\n",
      "Epoch 56: val_loss did not improve from 0.00450\n",
      "\n",
      "Epoch 57: val_loss did not improve from 0.00450\n",
      "\n",
      "Epoch 58: val_loss did not improve from 0.00450\n",
      "\n",
      "Epoch 59: val_loss did not improve from 0.00450\n",
      "\n",
      "Epoch 60: val_loss did not improve from 0.00450\n",
      "\n",
      "Epoch 61: val_loss did not improve from 0.00450\n",
      "\n",
      "Epoch 62: val_loss did not improve from 0.00450\n",
      "\n",
      "Epoch 63: val_loss did not improve from 0.00450\n",
      "\n",
      "Epoch 64: val_loss did not improve from 0.00450\n",
      "\n",
      "Epoch 65: val_loss did not improve from 0.00450\n",
      "\n",
      "Epoch 66: val_loss did not improve from 0.00450\n",
      "\n",
      "Epoch 67: val_loss did not improve from 0.00450\n",
      "\n",
      "Epoch 68: val_loss did not improve from 0.00450\n",
      "\n",
      "Epoch 69: val_loss did not improve from 0.00450\n",
      "\n",
      "Epoch 70: val_loss did not improve from 0.00450\n",
      "\n",
      "Epoch 71: val_loss did not improve from 0.00450\n",
      "\n",
      "Epoch 72: val_loss did not improve from 0.00450\n",
      "\n",
      "Epoch 73: val_loss did not improve from 0.00450\n",
      "\n",
      "Epoch 74: val_loss did not improve from 0.00450\n",
      "\n",
      "Epoch 75: val_loss did not improve from 0.00450\n",
      "\n",
      "Epoch 76: val_loss did not improve from 0.00450\n",
      "\n",
      "Epoch 77: val_loss did not improve from 0.00450\n",
      "\n",
      "Epoch 78: val_loss did not improve from 0.00450\n",
      "\n",
      "Epoch 79: val_loss did not improve from 0.00450\n",
      "\n",
      "Epoch 80: val_loss did not improve from 0.00450\n",
      "\n",
      "Epoch 81: val_loss did not improve from 0.00450\n",
      "\n",
      "Epoch 82: val_loss did not improve from 0.00450\n",
      "\n",
      "Epoch 83: val_loss did not improve from 0.00450\n",
      "\n",
      "Epoch 84: val_loss did not improve from 0.00450\n",
      "\n",
      "Epoch 85: val_loss did not improve from 0.00450\n",
      "\n",
      "Epoch 86: val_loss did not improve from 0.00450\n",
      "\n",
      "Epoch 87: val_loss did not improve from 0.00450\n",
      "\n",
      "Epoch 88: val_loss did not improve from 0.00450\n",
      "\n",
      "Epoch 89: val_loss did not improve from 0.00450\n",
      "\n",
      "Epoch 90: val_loss did not improve from 0.00450\n",
      "\n",
      "Epoch 91: val_loss did not improve from 0.00450\n",
      "\n",
      "Epoch 92: val_loss did not improve from 0.00450\n",
      "\n",
      "Epoch 93: val_loss did not improve from 0.00450\n",
      "\n",
      "Epoch 94: val_loss did not improve from 0.00450\n",
      "\n",
      "Epoch 95: val_loss did not improve from 0.00450\n",
      "\n",
      "Epoch 96: val_loss did not improve from 0.00450\n",
      "\n",
      "Epoch 97: val_loss did not improve from 0.00450\n",
      "\n",
      "Epoch 98: val_loss did not improve from 0.00450\n",
      "\n",
      "Epoch 99: val_loss did not improve from 0.00450\n",
      "\n",
      "Epoch 100: val_loss did not improve from 0.00450\n",
      "\n",
      "Epoch 101: val_loss did not improve from 0.00450\n",
      "\n",
      "Epoch 102: val_loss did not improve from 0.00450\n",
      "\n",
      "Epoch 103: val_loss did not improve from 0.00450\n",
      "\n",
      "Epoch 104: val_loss did not improve from 0.00450\n",
      "\n",
      "Epoch 105: val_loss did not improve from 0.00450\n",
      "\n",
      "Epoch 106: val_loss did not improve from 0.00450\n",
      "\n",
      "Epoch 107: val_loss did not improve from 0.00450\n",
      "\n",
      "Epoch 108: val_loss did not improve from 0.00450\n",
      "\n",
      "Epoch 109: val_loss did not improve from 0.00450\n",
      "\n",
      "Epoch 110: val_loss did not improve from 0.00450\n",
      "\n",
      "Epoch 111: val_loss did not improve from 0.00450\n",
      "\n",
      "Epoch 112: val_loss did not improve from 0.00450\n",
      "\n",
      "Epoch 113: val_loss did not improve from 0.00450\n",
      "\n",
      "Epoch 114: val_loss did not improve from 0.00450\n",
      "\n",
      "Epoch 115: val_loss did not improve from 0.00450\n",
      "\n",
      "Epoch 116: val_loss did not improve from 0.00450\n",
      "\n",
      "Epoch 117: val_loss did not improve from 0.00450\n",
      "\n",
      "Epoch 118: val_loss did not improve from 0.00450\n",
      "\n",
      "Epoch 119: val_loss did not improve from 0.00450\n",
      "\n",
      "Epoch 120: val_loss did not improve from 0.00450\n",
      "\n",
      "Epoch 121: val_loss did not improve from 0.00450\n",
      "\n",
      "Epoch 122: val_loss did not improve from 0.00450\n",
      "\n",
      "Epoch 123: val_loss did not improve from 0.00450\n",
      "\n",
      "Epoch 124: val_loss did not improve from 0.00450\n",
      "\n",
      "Epoch 125: val_loss did not improve from 0.00450\n",
      "\n",
      "Epoch 126: val_loss did not improve from 0.00450\n",
      "\n",
      "Epoch 127: val_loss did not improve from 0.00450\n",
      "\n",
      "Epoch 128: val_loss did not improve from 0.00450\n",
      "\n",
      "Epoch 129: val_loss did not improve from 0.00450\n",
      "\n",
      "Epoch 130: val_loss did not improve from 0.00450\n",
      "\n",
      "Epoch 131: val_loss did not improve from 0.00450\n",
      "\n",
      "Epoch 132: val_loss did not improve from 0.00450\n",
      "\n",
      "Epoch 133: val_loss did not improve from 0.00450\n",
      "\n",
      "Epoch 134: val_loss did not improve from 0.00450\n",
      "\n",
      "Epoch 135: val_loss did not improve from 0.00450\n",
      "\n",
      "Epoch 136: val_loss did not improve from 0.00450\n",
      "\n",
      "Epoch 137: val_loss did not improve from 0.00450\n",
      "\n",
      "Epoch 138: val_loss did not improve from 0.00450\n",
      "\n",
      "Epoch 139: val_loss did not improve from 0.00450\n",
      "\n",
      "Epoch 140: val_loss did not improve from 0.00450\n",
      "\n",
      "Epoch 141: val_loss did not improve from 0.00450\n",
      "\n",
      "Epoch 142: val_loss did not improve from 0.00450\n",
      "\n",
      "Epoch 143: val_loss did not improve from 0.00450\n",
      "\n",
      "Epoch 144: val_loss did not improve from 0.00450\n",
      "\n",
      "Epoch 145: val_loss did not improve from 0.00450\n",
      "\n",
      "Epoch 146: val_loss did not improve from 0.00450\n",
      "\n",
      "Epoch 147: val_loss did not improve from 0.00450\n",
      "\n",
      "Epoch 148: val_loss did not improve from 0.00450\n",
      "\n",
      "Epoch 149: val_loss did not improve from 0.00450\n",
      "\n",
      "Epoch 150: val_loss did not improve from 0.00450\n",
      "\n",
      "Epoch 151: val_loss did not improve from 0.00450\n",
      "\n",
      "Epoch 152: val_loss did not improve from 0.00450\n",
      "\n",
      "Epoch 153: val_loss did not improve from 0.00450\n",
      "\n",
      "Epoch 154: val_loss did not improve from 0.00450\n",
      "\n",
      "Epoch 155: val_loss did not improve from 0.00450\n",
      "\n",
      "Epoch 156: val_loss did not improve from 0.00450\n",
      "\n",
      "Epoch 157: val_loss did not improve from 0.00450\n",
      "\n",
      "Epoch 158: val_loss did not improve from 0.00450\n",
      "\n",
      "Epoch 159: val_loss did not improve from 0.00450\n",
      "Epoch 159: early stopping\n",
      "\u001b[1m19/19\u001b[0m \u001b[32m━━━━━━━━━━━━━━━━━━━━\u001b[0m\u001b[37m\u001b[0m \u001b[1m3s\u001b[0m 89ms/step\n",
      "Training with params: {'timesteps': 40, 'hl': [40, 35], 'lr': 0.0001, 'batch_size': 32, 'num_epochs': 250}\n"
     ]
    },
    {
     "name": "stderr",
     "output_type": "stream",
     "text": [
      "c:\\Users\\84368\\AppData\\Local\\Programs\\Python\\Python311\\Lib\\site-packages\\keras\\src\\layers\\rnn\\rnn.py:200: UserWarning: Do not pass an `input_shape`/`input_dim` argument to a layer. When using Sequential models, prefer using an `Input(shape)` object as the first layer in the model instead.\n",
      "  super().__init__(**kwargs)\n"
     ]
    },
    {
     "name": "stdout",
     "output_type": "stream",
     "text": [
      "\n",
      "Epoch 1: val_loss did not improve from 0.00450\n",
      "\n",
      "Epoch 2: val_loss did not improve from 0.00450\n",
      "\n",
      "Epoch 3: val_loss did not improve from 0.00450\n",
      "\n",
      "Epoch 4: val_loss did not improve from 0.00450\n",
      "\n",
      "Epoch 5: val_loss did not improve from 0.00450\n",
      "\n",
      "Epoch 6: val_loss did not improve from 0.00450\n",
      "\n",
      "Epoch 7: val_loss did not improve from 0.00450\n",
      "\n",
      "Epoch 8: val_loss did not improve from 0.00450\n",
      "\n",
      "Epoch 9: val_loss did not improve from 0.00450\n",
      "\n",
      "Epoch 10: val_loss did not improve from 0.00450\n",
      "\n",
      "Epoch 11: val_loss did not improve from 0.00450\n",
      "\n",
      "Epoch 12: val_loss did not improve from 0.00450\n",
      "\n",
      "Epoch 13: val_loss did not improve from 0.00450\n",
      "\n",
      "Epoch 14: val_loss did not improve from 0.00450\n",
      "\n",
      "Epoch 15: val_loss did not improve from 0.00450\n",
      "\n",
      "Epoch 16: val_loss did not improve from 0.00450\n",
      "\n",
      "Epoch 17: val_loss did not improve from 0.00450\n",
      "\n",
      "Epoch 18: val_loss did not improve from 0.00450\n",
      "\n",
      "Epoch 19: val_loss did not improve from 0.00450\n",
      "\n",
      "Epoch 20: val_loss did not improve from 0.00450\n",
      "\n",
      "Epoch 21: val_loss did not improve from 0.00450\n",
      "\n",
      "Epoch 22: val_loss did not improve from 0.00450\n",
      "\n",
      "Epoch 23: val_loss did not improve from 0.00450\n",
      "\n",
      "Epoch 24: val_loss did not improve from 0.00450\n",
      "\n",
      "Epoch 25: val_loss did not improve from 0.00450\n",
      "\n",
      "Epoch 26: val_loss did not improve from 0.00450\n",
      "\n",
      "Epoch 27: val_loss did not improve from 0.00450\n",
      "\n",
      "Epoch 28: val_loss did not improve from 0.00450\n",
      "\n",
      "Epoch 29: val_loss did not improve from 0.00450\n",
      "\n",
      "Epoch 30: val_loss did not improve from 0.00450\n",
      "\n",
      "Epoch 31: val_loss did not improve from 0.00450\n",
      "\n",
      "Epoch 32: val_loss did not improve from 0.00450\n",
      "\n",
      "Epoch 33: val_loss did not improve from 0.00450\n",
      "\n",
      "Epoch 34: val_loss did not improve from 0.00450\n",
      "\n",
      "Epoch 35: val_loss did not improve from 0.00450\n",
      "\n",
      "Epoch 36: val_loss did not improve from 0.00450\n",
      "\n",
      "Epoch 37: val_loss did not improve from 0.00450\n",
      "\n",
      "Epoch 38: val_loss did not improve from 0.00450\n",
      "\n",
      "Epoch 39: val_loss did not improve from 0.00450\n",
      "\n",
      "Epoch 40: val_loss did not improve from 0.00450\n",
      "\n",
      "Epoch 41: val_loss did not improve from 0.00450\n",
      "\n",
      "Epoch 42: val_loss did not improve from 0.00450\n",
      "\n",
      "Epoch 43: val_loss did not improve from 0.00450\n",
      "\n",
      "Epoch 44: val_loss did not improve from 0.00450\n",
      "\n",
      "Epoch 45: val_loss did not improve from 0.00450\n",
      "\n",
      "Epoch 46: val_loss did not improve from 0.00450\n",
      "\n",
      "Epoch 47: val_loss did not improve from 0.00450\n",
      "\n",
      "Epoch 48: val_loss did not improve from 0.00450\n",
      "\n",
      "Epoch 49: val_loss did not improve from 0.00450\n",
      "\n",
      "Epoch 50: val_loss did not improve from 0.00450\n",
      "\n",
      "Epoch 51: val_loss did not improve from 0.00450\n",
      "\n",
      "Epoch 52: val_loss did not improve from 0.00450\n",
      "\n",
      "Epoch 53: val_loss did not improve from 0.00450\n",
      "\n",
      "Epoch 54: val_loss did not improve from 0.00450\n",
      "\n",
      "Epoch 55: val_loss did not improve from 0.00450\n",
      "\n",
      "Epoch 56: val_loss did not improve from 0.00450\n",
      "\n",
      "Epoch 57: val_loss did not improve from 0.00450\n",
      "\n",
      "Epoch 58: val_loss did not improve from 0.00450\n",
      "\n",
      "Epoch 59: val_loss did not improve from 0.00450\n",
      "\n",
      "Epoch 60: val_loss did not improve from 0.00450\n",
      "\n",
      "Epoch 61: val_loss did not improve from 0.00450\n",
      "\n",
      "Epoch 62: val_loss did not improve from 0.00450\n",
      "\n",
      "Epoch 63: val_loss did not improve from 0.00450\n",
      "\n",
      "Epoch 64: val_loss did not improve from 0.00450\n",
      "\n",
      "Epoch 65: val_loss did not improve from 0.00450\n",
      "\n",
      "Epoch 66: val_loss did not improve from 0.00450\n",
      "\n",
      "Epoch 67: val_loss did not improve from 0.00450\n",
      "\n",
      "Epoch 68: val_loss did not improve from 0.00450\n",
      "\n",
      "Epoch 69: val_loss did not improve from 0.00450\n",
      "\n",
      "Epoch 70: val_loss did not improve from 0.00450\n",
      "\n",
      "Epoch 71: val_loss did not improve from 0.00450\n",
      "\n",
      "Epoch 72: val_loss did not improve from 0.00450\n",
      "\n",
      "Epoch 73: val_loss did not improve from 0.00450\n",
      "\n",
      "Epoch 74: val_loss did not improve from 0.00450\n",
      "\n",
      "Epoch 75: val_loss did not improve from 0.00450\n",
      "\n",
      "Epoch 76: val_loss did not improve from 0.00450\n",
      "\n",
      "Epoch 77: val_loss did not improve from 0.00450\n",
      "\n",
      "Epoch 78: val_loss did not improve from 0.00450\n",
      "\n",
      "Epoch 79: val_loss did not improve from 0.00450\n",
      "\n",
      "Epoch 80: val_loss did not improve from 0.00450\n",
      "\n",
      "Epoch 81: val_loss did not improve from 0.00450\n",
      "\n",
      "Epoch 82: val_loss did not improve from 0.00450\n",
      "Epoch 82: early stopping\n",
      "\u001b[1m19/19\u001b[0m \u001b[32m━━━━━━━━━━━━━━━━━━━━\u001b[0m\u001b[37m\u001b[0m \u001b[1m2s\u001b[0m 78ms/step\n",
      "Training with params: {'timesteps': 40, 'hl': [40, 35], 'lr': 0.0001, 'batch_size': 64, 'num_epochs': 200}\n"
     ]
    },
    {
     "name": "stderr",
     "output_type": "stream",
     "text": [
      "c:\\Users\\84368\\AppData\\Local\\Programs\\Python\\Python311\\Lib\\site-packages\\keras\\src\\layers\\rnn\\rnn.py:200: UserWarning: Do not pass an `input_shape`/`input_dim` argument to a layer. When using Sequential models, prefer using an `Input(shape)` object as the first layer in the model instead.\n",
      "  super().__init__(**kwargs)\n"
     ]
    },
    {
     "name": "stdout",
     "output_type": "stream",
     "text": [
      "\n",
      "Epoch 1: val_loss did not improve from 0.00450\n",
      "\n",
      "Epoch 2: val_loss did not improve from 0.00450\n",
      "\n",
      "Epoch 3: val_loss did not improve from 0.00450\n",
      "\n",
      "Epoch 4: val_loss did not improve from 0.00450\n",
      "\n",
      "Epoch 5: val_loss did not improve from 0.00450\n",
      "\n",
      "Epoch 6: val_loss did not improve from 0.00450\n",
      "\n",
      "Epoch 7: val_loss did not improve from 0.00450\n",
      "\n",
      "Epoch 8: val_loss did not improve from 0.00450\n",
      "\n",
      "Epoch 9: val_loss did not improve from 0.00450\n",
      "\n",
      "Epoch 10: val_loss did not improve from 0.00450\n",
      "\n",
      "Epoch 11: val_loss did not improve from 0.00450\n",
      "\n",
      "Epoch 12: val_loss did not improve from 0.00450\n",
      "\n",
      "Epoch 13: val_loss did not improve from 0.00450\n",
      "\n",
      "Epoch 14: val_loss did not improve from 0.00450\n",
      "\n",
      "Epoch 15: val_loss did not improve from 0.00450\n",
      "\n",
      "Epoch 16: val_loss did not improve from 0.00450\n",
      "\n",
      "Epoch 17: val_loss did not improve from 0.00450\n",
      "\n",
      "Epoch 18: val_loss did not improve from 0.00450\n",
      "\n",
      "Epoch 19: val_loss did not improve from 0.00450\n",
      "\n",
      "Epoch 20: val_loss did not improve from 0.00450\n",
      "\n",
      "Epoch 21: val_loss did not improve from 0.00450\n",
      "\n",
      "Epoch 22: val_loss did not improve from 0.00450\n",
      "\n",
      "Epoch 23: val_loss did not improve from 0.00450\n",
      "\n",
      "Epoch 24: val_loss did not improve from 0.00450\n",
      "\n",
      "Epoch 25: val_loss did not improve from 0.00450\n",
      "\n",
      "Epoch 26: val_loss did not improve from 0.00450\n",
      "\n",
      "Epoch 27: val_loss did not improve from 0.00450\n",
      "\n",
      "Epoch 28: val_loss did not improve from 0.00450\n",
      "\n",
      "Epoch 29: val_loss did not improve from 0.00450\n",
      "\n",
      "Epoch 30: val_loss did not improve from 0.00450\n",
      "\n",
      "Epoch 31: val_loss did not improve from 0.00450\n",
      "\n",
      "Epoch 32: val_loss did not improve from 0.00450\n",
      "\n",
      "Epoch 33: val_loss did not improve from 0.00450\n",
      "\n",
      "Epoch 34: val_loss did not improve from 0.00450\n",
      "\n",
      "Epoch 35: val_loss did not improve from 0.00450\n",
      "\n",
      "Epoch 36: val_loss did not improve from 0.00450\n",
      "\n",
      "Epoch 37: val_loss did not improve from 0.00450\n",
      "\n",
      "Epoch 38: val_loss did not improve from 0.00450\n",
      "\n",
      "Epoch 39: val_loss did not improve from 0.00450\n",
      "\n",
      "Epoch 40: val_loss did not improve from 0.00450\n",
      "\n",
      "Epoch 41: val_loss did not improve from 0.00450\n",
      "\n",
      "Epoch 42: val_loss did not improve from 0.00450\n",
      "\n",
      "Epoch 43: val_loss did not improve from 0.00450\n",
      "\n",
      "Epoch 44: val_loss did not improve from 0.00450\n",
      "\n",
      "Epoch 45: val_loss did not improve from 0.00450\n",
      "\n",
      "Epoch 46: val_loss did not improve from 0.00450\n",
      "\n",
      "Epoch 47: val_loss did not improve from 0.00450\n",
      "\n",
      "Epoch 48: val_loss did not improve from 0.00450\n",
      "\n",
      "Epoch 49: val_loss did not improve from 0.00450\n",
      "\n",
      "Epoch 50: val_loss did not improve from 0.00450\n",
      "\n",
      "Epoch 51: val_loss did not improve from 0.00450\n",
      "\n",
      "Epoch 52: val_loss did not improve from 0.00450\n",
      "\n",
      "Epoch 53: val_loss did not improve from 0.00450\n",
      "\n",
      "Epoch 54: val_loss did not improve from 0.00450\n",
      "\n",
      "Epoch 55: val_loss did not improve from 0.00450\n",
      "\n",
      "Epoch 56: val_loss did not improve from 0.00450\n",
      "\n",
      "Epoch 57: val_loss did not improve from 0.00450\n",
      "\n",
      "Epoch 58: val_loss did not improve from 0.00450\n",
      "\n",
      "Epoch 59: val_loss did not improve from 0.00450\n",
      "\n",
      "Epoch 60: val_loss did not improve from 0.00450\n",
      "\n",
      "Epoch 61: val_loss did not improve from 0.00450\n",
      "\n",
      "Epoch 62: val_loss did not improve from 0.00450\n",
      "\n",
      "Epoch 63: val_loss did not improve from 0.00450\n",
      "\n",
      "Epoch 64: val_loss did not improve from 0.00450\n",
      "\n",
      "Epoch 65: val_loss did not improve from 0.00450\n",
      "\n",
      "Epoch 66: val_loss did not improve from 0.00450\n",
      "\n",
      "Epoch 67: val_loss did not improve from 0.00450\n",
      "\n",
      "Epoch 68: val_loss did not improve from 0.00450\n",
      "\n",
      "Epoch 69: val_loss did not improve from 0.00450\n",
      "\n",
      "Epoch 70: val_loss did not improve from 0.00450\n",
      "\n",
      "Epoch 71: val_loss did not improve from 0.00450\n",
      "\n",
      "Epoch 72: val_loss did not improve from 0.00450\n",
      "\n",
      "Epoch 73: val_loss did not improve from 0.00450\n",
      "\n",
      "Epoch 74: val_loss did not improve from 0.00450\n",
      "\n",
      "Epoch 75: val_loss did not improve from 0.00450\n",
      "\n",
      "Epoch 76: val_loss did not improve from 0.00450\n",
      "\n",
      "Epoch 77: val_loss did not improve from 0.00450\n",
      "\n",
      "Epoch 78: val_loss did not improve from 0.00450\n",
      "\n",
      "Epoch 79: val_loss did not improve from 0.00450\n",
      "\n",
      "Epoch 80: val_loss did not improve from 0.00450\n",
      "\n",
      "Epoch 81: val_loss did not improve from 0.00450\n",
      "\n",
      "Epoch 82: val_loss did not improve from 0.00450\n",
      "\n",
      "Epoch 83: val_loss did not improve from 0.00450\n",
      "\n",
      "Epoch 84: val_loss did not improve from 0.00450\n",
      "\n",
      "Epoch 85: val_loss did not improve from 0.00450\n",
      "\n",
      "Epoch 86: val_loss did not improve from 0.00450\n",
      "Epoch 86: early stopping\n",
      "\u001b[1m19/19\u001b[0m \u001b[32m━━━━━━━━━━━━━━━━━━━━\u001b[0m\u001b[37m\u001b[0m \u001b[1m2s\u001b[0m 77ms/step\n",
      "Training with params: {'timesteps': 40, 'hl': [40, 35], 'lr': 0.0001, 'batch_size': 64, 'num_epochs': 250}\n"
     ]
    },
    {
     "name": "stderr",
     "output_type": "stream",
     "text": [
      "c:\\Users\\84368\\AppData\\Local\\Programs\\Python\\Python311\\Lib\\site-packages\\keras\\src\\layers\\rnn\\rnn.py:200: UserWarning: Do not pass an `input_shape`/`input_dim` argument to a layer. When using Sequential models, prefer using an `Input(shape)` object as the first layer in the model instead.\n",
      "  super().__init__(**kwargs)\n"
     ]
    },
    {
     "name": "stdout",
     "output_type": "stream",
     "text": [
      "\n",
      "Epoch 1: val_loss did not improve from 0.00450\n",
      "\n",
      "Epoch 2: val_loss did not improve from 0.00450\n",
      "\n",
      "Epoch 3: val_loss did not improve from 0.00450\n",
      "\n",
      "Epoch 4: val_loss did not improve from 0.00450\n",
      "\n",
      "Epoch 5: val_loss did not improve from 0.00450\n",
      "\n",
      "Epoch 6: val_loss did not improve from 0.00450\n",
      "\n",
      "Epoch 7: val_loss did not improve from 0.00450\n",
      "\n",
      "Epoch 8: val_loss did not improve from 0.00450\n",
      "\n",
      "Epoch 9: val_loss did not improve from 0.00450\n",
      "\n",
      "Epoch 10: val_loss did not improve from 0.00450\n",
      "\n",
      "Epoch 11: val_loss did not improve from 0.00450\n",
      "\n",
      "Epoch 12: val_loss did not improve from 0.00450\n",
      "\n",
      "Epoch 13: val_loss did not improve from 0.00450\n",
      "\n",
      "Epoch 14: val_loss did not improve from 0.00450\n",
      "\n",
      "Epoch 15: val_loss did not improve from 0.00450\n",
      "\n",
      "Epoch 16: val_loss did not improve from 0.00450\n",
      "\n",
      "Epoch 17: val_loss did not improve from 0.00450\n",
      "\n",
      "Epoch 18: val_loss did not improve from 0.00450\n",
      "\n",
      "Epoch 19: val_loss did not improve from 0.00450\n",
      "\n",
      "Epoch 20: val_loss did not improve from 0.00450\n",
      "\n",
      "Epoch 21: val_loss did not improve from 0.00450\n",
      "\n",
      "Epoch 22: val_loss did not improve from 0.00450\n",
      "\n",
      "Epoch 23: val_loss did not improve from 0.00450\n",
      "\n",
      "Epoch 24: val_loss did not improve from 0.00450\n",
      "\n",
      "Epoch 25: val_loss did not improve from 0.00450\n",
      "\n",
      "Epoch 26: val_loss did not improve from 0.00450\n",
      "\n",
      "Epoch 27: val_loss did not improve from 0.00450\n",
      "\n",
      "Epoch 28: val_loss did not improve from 0.00450\n",
      "\n",
      "Epoch 29: val_loss did not improve from 0.00450\n",
      "\n",
      "Epoch 30: val_loss did not improve from 0.00450\n",
      "\n",
      "Epoch 31: val_loss did not improve from 0.00450\n",
      "\n",
      "Epoch 32: val_loss did not improve from 0.00450\n",
      "\n",
      "Epoch 33: val_loss did not improve from 0.00450\n",
      "\n",
      "Epoch 34: val_loss did not improve from 0.00450\n",
      "\n",
      "Epoch 35: val_loss did not improve from 0.00450\n",
      "\n",
      "Epoch 36: val_loss did not improve from 0.00450\n",
      "\n",
      "Epoch 37: val_loss did not improve from 0.00450\n",
      "\n",
      "Epoch 38: val_loss did not improve from 0.00450\n",
      "\n",
      "Epoch 39: val_loss did not improve from 0.00450\n",
      "\n",
      "Epoch 40: val_loss did not improve from 0.00450\n",
      "\n",
      "Epoch 41: val_loss did not improve from 0.00450\n",
      "\n",
      "Epoch 42: val_loss did not improve from 0.00450\n",
      "\n",
      "Epoch 43: val_loss did not improve from 0.00450\n",
      "\n",
      "Epoch 44: val_loss did not improve from 0.00450\n",
      "\n",
      "Epoch 45: val_loss did not improve from 0.00450\n",
      "\n",
      "Epoch 46: val_loss did not improve from 0.00450\n",
      "\n",
      "Epoch 47: val_loss did not improve from 0.00450\n",
      "\n",
      "Epoch 48: val_loss did not improve from 0.00450\n",
      "\n",
      "Epoch 49: val_loss did not improve from 0.00450\n",
      "\n",
      "Epoch 50: val_loss did not improve from 0.00450\n",
      "\n",
      "Epoch 51: val_loss did not improve from 0.00450\n",
      "\n",
      "Epoch 52: val_loss did not improve from 0.00450\n",
      "\n",
      "Epoch 53: val_loss did not improve from 0.00450\n",
      "\n",
      "Epoch 54: val_loss did not improve from 0.00450\n",
      "\n",
      "Epoch 55: val_loss did not improve from 0.00450\n",
      "\n",
      "Epoch 56: val_loss did not improve from 0.00450\n",
      "\n",
      "Epoch 57: val_loss did not improve from 0.00450\n",
      "\n",
      "Epoch 58: val_loss did not improve from 0.00450\n",
      "\n",
      "Epoch 59: val_loss did not improve from 0.00450\n",
      "\n",
      "Epoch 60: val_loss did not improve from 0.00450\n",
      "\n",
      "Epoch 61: val_loss did not improve from 0.00450\n",
      "\n",
      "Epoch 62: val_loss did not improve from 0.00450\n",
      "\n",
      "Epoch 63: val_loss did not improve from 0.00450\n",
      "\n",
      "Epoch 64: val_loss did not improve from 0.00450\n",
      "\n",
      "Epoch 65: val_loss did not improve from 0.00450\n",
      "\n",
      "Epoch 66: val_loss did not improve from 0.00450\n",
      "\n",
      "Epoch 67: val_loss did not improve from 0.00450\n",
      "\n",
      "Epoch 68: val_loss did not improve from 0.00450\n",
      "\n",
      "Epoch 69: val_loss did not improve from 0.00450\n",
      "\n",
      "Epoch 70: val_loss did not improve from 0.00450\n",
      "\n",
      "Epoch 71: val_loss did not improve from 0.00450\n",
      "\n",
      "Epoch 72: val_loss did not improve from 0.00450\n",
      "\n",
      "Epoch 73: val_loss did not improve from 0.00450\n",
      "\n",
      "Epoch 74: val_loss did not improve from 0.00450\n",
      "\n",
      "Epoch 75: val_loss did not improve from 0.00450\n",
      "\n",
      "Epoch 76: val_loss did not improve from 0.00450\n",
      "\n",
      "Epoch 77: val_loss did not improve from 0.00450\n",
      "\n",
      "Epoch 78: val_loss did not improve from 0.00450\n",
      "\n",
      "Epoch 79: val_loss did not improve from 0.00450\n",
      "\n",
      "Epoch 80: val_loss did not improve from 0.00450\n",
      "\n",
      "Epoch 81: val_loss did not improve from 0.00450\n",
      "\n",
      "Epoch 82: val_loss did not improve from 0.00450\n",
      "\n",
      "Epoch 83: val_loss did not improve from 0.00450\n",
      "\n",
      "Epoch 84: val_loss did not improve from 0.00450\n",
      "\n",
      "Epoch 85: val_loss did not improve from 0.00450\n",
      "\n",
      "Epoch 86: val_loss did not improve from 0.00450\n",
      "\n",
      "Epoch 87: val_loss did not improve from 0.00450\n",
      "\n",
      "Epoch 88: val_loss did not improve from 0.00450\n",
      "Epoch 88: early stopping\n",
      "\u001b[1m19/19\u001b[0m \u001b[32m━━━━━━━━━━━━━━━━━━━━\u001b[0m\u001b[37m\u001b[0m \u001b[1m2s\u001b[0m 79ms/step\n",
      "Training with params: {'timesteps': 50, 'hl': [40, 35], 'lr': 0.001, 'batch_size': 32, 'num_epochs': 200}\n"
     ]
    },
    {
     "name": "stderr",
     "output_type": "stream",
     "text": [
      "c:\\Users\\84368\\AppData\\Local\\Programs\\Python\\Python311\\Lib\\site-packages\\keras\\src\\layers\\rnn\\rnn.py:200: UserWarning: Do not pass an `input_shape`/`input_dim` argument to a layer. When using Sequential models, prefer using an `Input(shape)` object as the first layer in the model instead.\n",
      "  super().__init__(**kwargs)\n"
     ]
    },
    {
     "name": "stdout",
     "output_type": "stream",
     "text": [
      "\n",
      "Epoch 1: val_loss did not improve from 0.00450\n",
      "\n",
      "Epoch 2: val_loss did not improve from 0.00450\n",
      "\n",
      "Epoch 3: val_loss did not improve from 0.00450\n",
      "\n",
      "Epoch 4: val_loss did not improve from 0.00450\n",
      "\n",
      "Epoch 5: val_loss did not improve from 0.00450\n",
      "\n",
      "Epoch 6: val_loss did not improve from 0.00450\n",
      "\n",
      "Epoch 7: val_loss did not improve from 0.00450\n",
      "\n",
      "Epoch 8: val_loss did not improve from 0.00450\n",
      "\n",
      "Epoch 9: val_loss did not improve from 0.00450\n",
      "\n",
      "Epoch 10: val_loss did not improve from 0.00450\n",
      "\n",
      "Epoch 11: val_loss did not improve from 0.00450\n",
      "\n",
      "Epoch 12: val_loss did not improve from 0.00450\n",
      "\n",
      "Epoch 13: val_loss did not improve from 0.00450\n",
      "\n",
      "Epoch 14: val_loss did not improve from 0.00450\n",
      "\n",
      "Epoch 15: val_loss did not improve from 0.00450\n",
      "\n",
      "Epoch 16: val_loss did not improve from 0.00450\n",
      "\n",
      "Epoch 17: val_loss did not improve from 0.00450\n",
      "\n",
      "Epoch 18: val_loss did not improve from 0.00450\n",
      "\n",
      "Epoch 19: val_loss did not improve from 0.00450\n",
      "\n",
      "Epoch 20: val_loss did not improve from 0.00450\n",
      "\n",
      "Epoch 21: val_loss did not improve from 0.00450\n",
      "\n",
      "Epoch 22: val_loss did not improve from 0.00450\n",
      "\n",
      "Epoch 23: val_loss did not improve from 0.00450\n",
      "\n",
      "Epoch 24: val_loss did not improve from 0.00450\n",
      "\n",
      "Epoch 25: val_loss did not improve from 0.00450\n",
      "\n",
      "Epoch 26: val_loss did not improve from 0.00450\n",
      "\n",
      "Epoch 27: val_loss did not improve from 0.00450\n",
      "\n",
      "Epoch 28: val_loss did not improve from 0.00450\n",
      "\n",
      "Epoch 29: val_loss did not improve from 0.00450\n",
      "\n",
      "Epoch 30: val_loss did not improve from 0.00450\n",
      "\n",
      "Epoch 31: val_loss did not improve from 0.00450\n",
      "\n",
      "Epoch 32: val_loss did not improve from 0.00450\n",
      "\n",
      "Epoch 33: val_loss did not improve from 0.00450\n",
      "\n",
      "Epoch 34: val_loss did not improve from 0.00450\n",
      "\n",
      "Epoch 35: val_loss did not improve from 0.00450\n",
      "\n",
      "Epoch 36: val_loss did not improve from 0.00450\n",
      "\n",
      "Epoch 37: val_loss did not improve from 0.00450\n",
      "\n",
      "Epoch 38: val_loss did not improve from 0.00450\n",
      "\n",
      "Epoch 39: val_loss did not improve from 0.00450\n",
      "\n",
      "Epoch 40: val_loss did not improve from 0.00450\n",
      "\n",
      "Epoch 41: val_loss did not improve from 0.00450\n",
      "\n",
      "Epoch 42: val_loss did not improve from 0.00450\n",
      "\n",
      "Epoch 43: val_loss did not improve from 0.00450\n",
      "\n",
      "Epoch 44: val_loss did not improve from 0.00450\n",
      "\n",
      "Epoch 45: val_loss did not improve from 0.00450\n",
      "\n",
      "Epoch 46: val_loss did not improve from 0.00450\n",
      "\n",
      "Epoch 47: val_loss did not improve from 0.00450\n",
      "\n",
      "Epoch 48: val_loss did not improve from 0.00450\n",
      "\n",
      "Epoch 49: val_loss did not improve from 0.00450\n",
      "\n",
      "Epoch 50: val_loss did not improve from 0.00450\n",
      "\n",
      "Epoch 51: val_loss did not improve from 0.00450\n",
      "\n",
      "Epoch 52: val_loss did not improve from 0.00450\n",
      "\n",
      "Epoch 53: val_loss did not improve from 0.00450\n",
      "\n",
      "Epoch 54: val_loss did not improve from 0.00450\n",
      "\n",
      "Epoch 55: val_loss did not improve from 0.00450\n",
      "\n",
      "Epoch 56: val_loss did not improve from 0.00450\n",
      "\n",
      "Epoch 57: val_loss did not improve from 0.00450\n",
      "\n",
      "Epoch 58: val_loss did not improve from 0.00450\n",
      "\n",
      "Epoch 59: val_loss did not improve from 0.00450\n",
      "\n",
      "Epoch 60: val_loss did not improve from 0.00450\n",
      "\n",
      "Epoch 61: val_loss did not improve from 0.00450\n",
      "\n",
      "Epoch 62: val_loss did not improve from 0.00450\n",
      "\n",
      "Epoch 63: val_loss did not improve from 0.00450\n",
      "\n",
      "Epoch 64: val_loss did not improve from 0.00450\n",
      "\n",
      "Epoch 65: val_loss did not improve from 0.00450\n",
      "\n",
      "Epoch 66: val_loss did not improve from 0.00450\n",
      "\n",
      "Epoch 67: val_loss did not improve from 0.00450\n",
      "\n",
      "Epoch 68: val_loss did not improve from 0.00450\n",
      "\n",
      "Epoch 69: val_loss did not improve from 0.00450\n",
      "\n",
      "Epoch 70: val_loss did not improve from 0.00450\n",
      "\n",
      "Epoch 71: val_loss did not improve from 0.00450\n",
      "\n",
      "Epoch 72: val_loss did not improve from 0.00450\n",
      "\n",
      "Epoch 73: val_loss did not improve from 0.00450\n",
      "\n",
      "Epoch 74: val_loss did not improve from 0.00450\n",
      "\n",
      "Epoch 75: val_loss did not improve from 0.00450\n",
      "\n",
      "Epoch 76: val_loss did not improve from 0.00450\n",
      "\n",
      "Epoch 77: val_loss did not improve from 0.00450\n",
      "\n",
      "Epoch 78: val_loss did not improve from 0.00450\n",
      "\n",
      "Epoch 79: val_loss did not improve from 0.00450\n",
      "\n",
      "Epoch 80: val_loss did not improve from 0.00450\n",
      "\n",
      "Epoch 81: val_loss did not improve from 0.00450\n",
      "\n",
      "Epoch 82: val_loss did not improve from 0.00450\n",
      "\n",
      "Epoch 83: val_loss did not improve from 0.00450\n",
      "\n",
      "Epoch 84: val_loss did not improve from 0.00450\n",
      "\n",
      "Epoch 85: val_loss did not improve from 0.00450\n",
      "Epoch 85: early stopping\n",
      "\u001b[1m19/19\u001b[0m \u001b[32m━━━━━━━━━━━━━━━━━━━━\u001b[0m\u001b[37m\u001b[0m \u001b[1m3s\u001b[0m 92ms/step\n",
      "Training with params: {'timesteps': 50, 'hl': [40, 35], 'lr': 0.001, 'batch_size': 32, 'num_epochs': 250}\n"
     ]
    },
    {
     "name": "stderr",
     "output_type": "stream",
     "text": [
      "c:\\Users\\84368\\AppData\\Local\\Programs\\Python\\Python311\\Lib\\site-packages\\keras\\src\\layers\\rnn\\rnn.py:200: UserWarning: Do not pass an `input_shape`/`input_dim` argument to a layer. When using Sequential models, prefer using an `Input(shape)` object as the first layer in the model instead.\n",
      "  super().__init__(**kwargs)\n"
     ]
    },
    {
     "name": "stdout",
     "output_type": "stream",
     "text": [
      "\n",
      "Epoch 1: val_loss did not improve from 0.00450\n",
      "\n",
      "Epoch 2: val_loss did not improve from 0.00450\n",
      "\n",
      "Epoch 3: val_loss did not improve from 0.00450\n",
      "\n",
      "Epoch 4: val_loss did not improve from 0.00450\n",
      "\n",
      "Epoch 5: val_loss did not improve from 0.00450\n",
      "\n",
      "Epoch 6: val_loss did not improve from 0.00450\n",
      "\n",
      "Epoch 7: val_loss did not improve from 0.00450\n",
      "\n",
      "Epoch 8: val_loss did not improve from 0.00450\n",
      "\n",
      "Epoch 9: val_loss did not improve from 0.00450\n",
      "\n",
      "Epoch 10: val_loss did not improve from 0.00450\n",
      "\n",
      "Epoch 11: val_loss did not improve from 0.00450\n",
      "\n",
      "Epoch 12: val_loss did not improve from 0.00450\n",
      "\n",
      "Epoch 13: val_loss did not improve from 0.00450\n",
      "\n",
      "Epoch 14: val_loss did not improve from 0.00450\n",
      "\n",
      "Epoch 15: val_loss did not improve from 0.00450\n",
      "\n",
      "Epoch 16: val_loss did not improve from 0.00450\n",
      "\n",
      "Epoch 17: val_loss did not improve from 0.00450\n",
      "\n",
      "Epoch 18: val_loss did not improve from 0.00450\n",
      "\n",
      "Epoch 19: val_loss did not improve from 0.00450\n",
      "\n",
      "Epoch 20: val_loss did not improve from 0.00450\n",
      "\n",
      "Epoch 21: val_loss did not improve from 0.00450\n",
      "\n",
      "Epoch 22: val_loss did not improve from 0.00450\n",
      "\n",
      "Epoch 23: val_loss did not improve from 0.00450\n",
      "\n",
      "Epoch 24: val_loss did not improve from 0.00450\n",
      "\n",
      "Epoch 25: val_loss did not improve from 0.00450\n",
      "\n",
      "Epoch 26: val_loss did not improve from 0.00450\n",
      "\n",
      "Epoch 27: val_loss did not improve from 0.00450\n",
      "\n",
      "Epoch 28: val_loss did not improve from 0.00450\n",
      "\n",
      "Epoch 29: val_loss did not improve from 0.00450\n",
      "\n",
      "Epoch 30: val_loss did not improve from 0.00450\n",
      "\n",
      "Epoch 31: val_loss did not improve from 0.00450\n",
      "\n",
      "Epoch 32: val_loss did not improve from 0.00450\n",
      "\n",
      "Epoch 33: val_loss did not improve from 0.00450\n",
      "\n",
      "Epoch 34: val_loss did not improve from 0.00450\n",
      "\n",
      "Epoch 35: val_loss did not improve from 0.00450\n",
      "\n",
      "Epoch 36: val_loss did not improve from 0.00450\n",
      "\n",
      "Epoch 37: val_loss did not improve from 0.00450\n",
      "\n",
      "Epoch 38: val_loss did not improve from 0.00450\n",
      "\n",
      "Epoch 39: val_loss did not improve from 0.00450\n",
      "\n",
      "Epoch 40: val_loss did not improve from 0.00450\n",
      "\n",
      "Epoch 41: val_loss did not improve from 0.00450\n",
      "\n",
      "Epoch 42: val_loss did not improve from 0.00450\n",
      "\n",
      "Epoch 43: val_loss did not improve from 0.00450\n",
      "\n",
      "Epoch 44: val_loss did not improve from 0.00450\n",
      "\n",
      "Epoch 45: val_loss did not improve from 0.00450\n",
      "\n",
      "Epoch 46: val_loss did not improve from 0.00450\n",
      "\n",
      "Epoch 47: val_loss did not improve from 0.00450\n",
      "\n",
      "Epoch 48: val_loss did not improve from 0.00450\n",
      "\n",
      "Epoch 49: val_loss did not improve from 0.00450\n",
      "\n",
      "Epoch 50: val_loss did not improve from 0.00450\n",
      "\n",
      "Epoch 51: val_loss did not improve from 0.00450\n",
      "\n",
      "Epoch 52: val_loss did not improve from 0.00450\n",
      "\n",
      "Epoch 53: val_loss did not improve from 0.00450\n",
      "\n",
      "Epoch 54: val_loss did not improve from 0.00450\n",
      "\n",
      "Epoch 55: val_loss did not improve from 0.00450\n",
      "\n",
      "Epoch 56: val_loss did not improve from 0.00450\n",
      "\n",
      "Epoch 57: val_loss did not improve from 0.00450\n",
      "\n",
      "Epoch 58: val_loss did not improve from 0.00450\n",
      "\n",
      "Epoch 59: val_loss did not improve from 0.00450\n",
      "\n",
      "Epoch 60: val_loss did not improve from 0.00450\n",
      "\n",
      "Epoch 61: val_loss did not improve from 0.00450\n",
      "\n",
      "Epoch 62: val_loss did not improve from 0.00450\n",
      "\n",
      "Epoch 63: val_loss did not improve from 0.00450\n",
      "\n",
      "Epoch 64: val_loss did not improve from 0.00450\n",
      "\n",
      "Epoch 65: val_loss did not improve from 0.00450\n",
      "\n",
      "Epoch 66: val_loss did not improve from 0.00450\n",
      "\n",
      "Epoch 67: val_loss did not improve from 0.00450\n",
      "\n",
      "Epoch 68: val_loss did not improve from 0.00450\n",
      "\n",
      "Epoch 69: val_loss did not improve from 0.00450\n",
      "\n",
      "Epoch 70: val_loss did not improve from 0.00450\n",
      "\n",
      "Epoch 71: val_loss did not improve from 0.00450\n",
      "\n",
      "Epoch 72: val_loss did not improve from 0.00450\n",
      "\n",
      "Epoch 73: val_loss did not improve from 0.00450\n",
      "\n",
      "Epoch 74: val_loss did not improve from 0.00450\n",
      "\n",
      "Epoch 75: val_loss did not improve from 0.00450\n",
      "\n",
      "Epoch 76: val_loss did not improve from 0.00450\n",
      "\n",
      "Epoch 77: val_loss did not improve from 0.00450\n",
      "\n",
      "Epoch 78: val_loss did not improve from 0.00450\n",
      "\n",
      "Epoch 79: val_loss did not improve from 0.00450\n",
      "\n",
      "Epoch 80: val_loss did not improve from 0.00450\n",
      "\n",
      "Epoch 81: val_loss did not improve from 0.00450\n",
      "\n",
      "Epoch 82: val_loss did not improve from 0.00450\n",
      "\n",
      "Epoch 83: val_loss did not improve from 0.00450\n",
      "\n",
      "Epoch 84: val_loss did not improve from 0.00450\n",
      "\n",
      "Epoch 85: val_loss did not improve from 0.00450\n",
      "Epoch 85: early stopping\n",
      "\u001b[1m19/19\u001b[0m \u001b[32m━━━━━━━━━━━━━━━━━━━━\u001b[0m\u001b[37m\u001b[0m \u001b[1m8s\u001b[0m 390ms/step\n",
      "Training with params: {'timesteps': 50, 'hl': [40, 35], 'lr': 0.001, 'batch_size': 64, 'num_epochs': 200}\n"
     ]
    },
    {
     "name": "stderr",
     "output_type": "stream",
     "text": [
      "c:\\Users\\84368\\AppData\\Local\\Programs\\Python\\Python311\\Lib\\site-packages\\keras\\src\\layers\\rnn\\rnn.py:200: UserWarning: Do not pass an `input_shape`/`input_dim` argument to a layer. When using Sequential models, prefer using an `Input(shape)` object as the first layer in the model instead.\n",
      "  super().__init__(**kwargs)\n"
     ]
    },
    {
     "name": "stdout",
     "output_type": "stream",
     "text": [
      "\n",
      "Epoch 1: val_loss did not improve from 0.00450\n",
      "\n",
      "Epoch 2: val_loss did not improve from 0.00450\n",
      "\n",
      "Epoch 3: val_loss did not improve from 0.00450\n",
      "\n",
      "Epoch 4: val_loss did not improve from 0.00450\n",
      "\n",
      "Epoch 5: val_loss did not improve from 0.00450\n",
      "\n",
      "Epoch 6: val_loss did not improve from 0.00450\n",
      "\n",
      "Epoch 7: val_loss did not improve from 0.00450\n",
      "\n",
      "Epoch 8: val_loss did not improve from 0.00450\n",
      "\n",
      "Epoch 9: val_loss did not improve from 0.00450\n",
      "\n",
      "Epoch 10: val_loss did not improve from 0.00450\n",
      "\n",
      "Epoch 11: val_loss did not improve from 0.00450\n",
      "\n",
      "Epoch 12: val_loss did not improve from 0.00450\n",
      "\n",
      "Epoch 13: val_loss did not improve from 0.00450\n",
      "\n",
      "Epoch 14: val_loss did not improve from 0.00450\n",
      "\n",
      "Epoch 15: val_loss did not improve from 0.00450\n",
      "\n",
      "Epoch 16: val_loss did not improve from 0.00450\n",
      "\n",
      "Epoch 17: val_loss did not improve from 0.00450\n",
      "\n",
      "Epoch 18: val_loss did not improve from 0.00450\n",
      "\n",
      "Epoch 19: val_loss did not improve from 0.00450\n",
      "\n",
      "Epoch 20: val_loss did not improve from 0.00450\n",
      "\n",
      "Epoch 21: val_loss did not improve from 0.00450\n",
      "\n",
      "Epoch 22: val_loss did not improve from 0.00450\n",
      "\n",
      "Epoch 23: val_loss did not improve from 0.00450\n",
      "\n",
      "Epoch 24: val_loss did not improve from 0.00450\n",
      "\n",
      "Epoch 25: val_loss did not improve from 0.00450\n",
      "\n",
      "Epoch 26: val_loss did not improve from 0.00450\n",
      "\n",
      "Epoch 27: val_loss did not improve from 0.00450\n",
      "\n",
      "Epoch 28: val_loss did not improve from 0.00450\n",
      "\n",
      "Epoch 29: val_loss did not improve from 0.00450\n",
      "\n",
      "Epoch 30: val_loss did not improve from 0.00450\n",
      "\n",
      "Epoch 31: val_loss did not improve from 0.00450\n",
      "\n",
      "Epoch 32: val_loss did not improve from 0.00450\n",
      "\n",
      "Epoch 33: val_loss did not improve from 0.00450\n",
      "\n",
      "Epoch 34: val_loss did not improve from 0.00450\n",
      "\n",
      "Epoch 35: val_loss did not improve from 0.00450\n",
      "\n",
      "Epoch 36: val_loss did not improve from 0.00450\n",
      "\n",
      "Epoch 37: val_loss did not improve from 0.00450\n",
      "\n",
      "Epoch 38: val_loss did not improve from 0.00450\n",
      "\n",
      "Epoch 39: val_loss did not improve from 0.00450\n",
      "\n",
      "Epoch 40: val_loss did not improve from 0.00450\n",
      "\n",
      "Epoch 41: val_loss did not improve from 0.00450\n",
      "\n",
      "Epoch 42: val_loss did not improve from 0.00450\n",
      "\n",
      "Epoch 43: val_loss did not improve from 0.00450\n",
      "\n",
      "Epoch 44: val_loss did not improve from 0.00450\n",
      "\n",
      "Epoch 45: val_loss did not improve from 0.00450\n",
      "\n",
      "Epoch 46: val_loss did not improve from 0.00450\n",
      "\n",
      "Epoch 47: val_loss did not improve from 0.00450\n",
      "\n",
      "Epoch 48: val_loss did not improve from 0.00450\n",
      "\n",
      "Epoch 49: val_loss did not improve from 0.00450\n",
      "\n",
      "Epoch 50: val_loss did not improve from 0.00450\n",
      "\n",
      "Epoch 51: val_loss did not improve from 0.00450\n",
      "\n",
      "Epoch 52: val_loss did not improve from 0.00450\n",
      "\n",
      "Epoch 53: val_loss did not improve from 0.00450\n",
      "\n",
      "Epoch 54: val_loss did not improve from 0.00450\n",
      "\n",
      "Epoch 55: val_loss did not improve from 0.00450\n",
      "\n",
      "Epoch 56: val_loss did not improve from 0.00450\n",
      "\n",
      "Epoch 57: val_loss did not improve from 0.00450\n",
      "\n",
      "Epoch 58: val_loss did not improve from 0.00450\n",
      "\n",
      "Epoch 59: val_loss did not improve from 0.00450\n",
      "\n",
      "Epoch 60: val_loss did not improve from 0.00450\n",
      "\n",
      "Epoch 61: val_loss did not improve from 0.00450\n",
      "\n",
      "Epoch 62: val_loss did not improve from 0.00450\n",
      "\n",
      "Epoch 63: val_loss did not improve from 0.00450\n",
      "\n",
      "Epoch 64: val_loss did not improve from 0.00450\n",
      "\n",
      "Epoch 65: val_loss did not improve from 0.00450\n",
      "\n",
      "Epoch 66: val_loss did not improve from 0.00450\n",
      "\n",
      "Epoch 67: val_loss did not improve from 0.00450\n",
      "\n",
      "Epoch 68: val_loss did not improve from 0.00450\n",
      "\n",
      "Epoch 69: val_loss did not improve from 0.00450\n",
      "\n",
      "Epoch 70: val_loss did not improve from 0.00450\n",
      "\n",
      "Epoch 71: val_loss did not improve from 0.00450\n",
      "\n",
      "Epoch 72: val_loss did not improve from 0.00450\n",
      "\n",
      "Epoch 73: val_loss did not improve from 0.00450\n",
      "\n",
      "Epoch 74: val_loss did not improve from 0.00450\n",
      "\n",
      "Epoch 75: val_loss did not improve from 0.00450\n",
      "\n",
      "Epoch 76: val_loss did not improve from 0.00450\n",
      "\n",
      "Epoch 77: val_loss did not improve from 0.00450\n",
      "\n",
      "Epoch 78: val_loss did not improve from 0.00450\n",
      "\n",
      "Epoch 79: val_loss did not improve from 0.00450\n",
      "\n",
      "Epoch 80: val_loss did not improve from 0.00450\n",
      "\n",
      "Epoch 81: val_loss did not improve from 0.00450\n",
      "\n",
      "Epoch 82: val_loss did not improve from 0.00450\n",
      "\n",
      "Epoch 83: val_loss did not improve from 0.00450\n",
      "Epoch 83: early stopping\n",
      "\u001b[1m19/19\u001b[0m \u001b[32m━━━━━━━━━━━━━━━━━━━━\u001b[0m\u001b[37m\u001b[0m \u001b[1m2s\u001b[0m 84ms/step\n",
      "Training with params: {'timesteps': 50, 'hl': [40, 35], 'lr': 0.001, 'batch_size': 64, 'num_epochs': 250}\n"
     ]
    },
    {
     "name": "stderr",
     "output_type": "stream",
     "text": [
      "c:\\Users\\84368\\AppData\\Local\\Programs\\Python\\Python311\\Lib\\site-packages\\keras\\src\\layers\\rnn\\rnn.py:200: UserWarning: Do not pass an `input_shape`/`input_dim` argument to a layer. When using Sequential models, prefer using an `Input(shape)` object as the first layer in the model instead.\n",
      "  super().__init__(**kwargs)\n"
     ]
    },
    {
     "name": "stdout",
     "output_type": "stream",
     "text": [
      "\n",
      "Epoch 1: val_loss did not improve from 0.00450\n",
      "\n",
      "Epoch 2: val_loss did not improve from 0.00450\n",
      "\n",
      "Epoch 3: val_loss did not improve from 0.00450\n",
      "\n",
      "Epoch 4: val_loss did not improve from 0.00450\n",
      "\n",
      "Epoch 5: val_loss did not improve from 0.00450\n",
      "\n",
      "Epoch 6: val_loss did not improve from 0.00450\n",
      "\n",
      "Epoch 7: val_loss did not improve from 0.00450\n",
      "\n",
      "Epoch 8: val_loss did not improve from 0.00450\n",
      "\n",
      "Epoch 9: val_loss did not improve from 0.00450\n",
      "\n",
      "Epoch 10: val_loss did not improve from 0.00450\n",
      "\n",
      "Epoch 11: val_loss did not improve from 0.00450\n",
      "\n",
      "Epoch 12: val_loss did not improve from 0.00450\n",
      "\n",
      "Epoch 13: val_loss did not improve from 0.00450\n",
      "\n",
      "Epoch 14: val_loss did not improve from 0.00450\n",
      "\n",
      "Epoch 15: val_loss did not improve from 0.00450\n",
      "\n",
      "Epoch 16: val_loss did not improve from 0.00450\n",
      "\n",
      "Epoch 17: val_loss did not improve from 0.00450\n",
      "\n",
      "Epoch 18: val_loss did not improve from 0.00450\n",
      "\n",
      "Epoch 19: val_loss did not improve from 0.00450\n",
      "\n",
      "Epoch 20: val_loss did not improve from 0.00450\n",
      "\n",
      "Epoch 21: val_loss did not improve from 0.00450\n",
      "\n",
      "Epoch 22: val_loss did not improve from 0.00450\n",
      "\n",
      "Epoch 23: val_loss did not improve from 0.00450\n",
      "\n",
      "Epoch 24: val_loss did not improve from 0.00450\n",
      "\n",
      "Epoch 25: val_loss did not improve from 0.00450\n",
      "\n",
      "Epoch 26: val_loss did not improve from 0.00450\n",
      "\n",
      "Epoch 27: val_loss did not improve from 0.00450\n",
      "\n",
      "Epoch 28: val_loss did not improve from 0.00450\n",
      "\n",
      "Epoch 29: val_loss did not improve from 0.00450\n",
      "\n",
      "Epoch 30: val_loss did not improve from 0.00450\n",
      "\n",
      "Epoch 31: val_loss did not improve from 0.00450\n",
      "\n",
      "Epoch 32: val_loss did not improve from 0.00450\n",
      "\n",
      "Epoch 33: val_loss did not improve from 0.00450\n",
      "\n",
      "Epoch 34: val_loss did not improve from 0.00450\n",
      "\n",
      "Epoch 35: val_loss did not improve from 0.00450\n",
      "\n",
      "Epoch 36: val_loss did not improve from 0.00450\n",
      "\n",
      "Epoch 37: val_loss did not improve from 0.00450\n",
      "\n",
      "Epoch 38: val_loss did not improve from 0.00450\n",
      "\n",
      "Epoch 39: val_loss did not improve from 0.00450\n",
      "\n",
      "Epoch 40: val_loss did not improve from 0.00450\n",
      "\n",
      "Epoch 41: val_loss did not improve from 0.00450\n",
      "\n",
      "Epoch 42: val_loss did not improve from 0.00450\n",
      "\n",
      "Epoch 43: val_loss did not improve from 0.00450\n",
      "\n",
      "Epoch 44: val_loss did not improve from 0.00450\n",
      "\n",
      "Epoch 45: val_loss did not improve from 0.00450\n",
      "\n",
      "Epoch 46: val_loss did not improve from 0.00450\n",
      "\n",
      "Epoch 47: val_loss did not improve from 0.00450\n",
      "\n",
      "Epoch 48: val_loss did not improve from 0.00450\n",
      "\n",
      "Epoch 49: val_loss did not improve from 0.00450\n",
      "\n",
      "Epoch 50: val_loss did not improve from 0.00450\n",
      "\n",
      "Epoch 51: val_loss did not improve from 0.00450\n",
      "\n",
      "Epoch 52: val_loss did not improve from 0.00450\n",
      "\n",
      "Epoch 53: val_loss did not improve from 0.00450\n",
      "\n",
      "Epoch 54: val_loss did not improve from 0.00450\n",
      "\n",
      "Epoch 55: val_loss did not improve from 0.00450\n",
      "\n",
      "Epoch 56: val_loss did not improve from 0.00450\n",
      "\n",
      "Epoch 57: val_loss did not improve from 0.00450\n",
      "\n",
      "Epoch 58: val_loss did not improve from 0.00450\n",
      "\n",
      "Epoch 59: val_loss did not improve from 0.00450\n",
      "\n",
      "Epoch 60: val_loss did not improve from 0.00450\n",
      "\n",
      "Epoch 61: val_loss did not improve from 0.00450\n",
      "\n",
      "Epoch 62: val_loss did not improve from 0.00450\n",
      "\n",
      "Epoch 63: val_loss did not improve from 0.00450\n",
      "\n",
      "Epoch 64: val_loss did not improve from 0.00450\n",
      "\n",
      "Epoch 65: val_loss did not improve from 0.00450\n",
      "\n",
      "Epoch 66: val_loss did not improve from 0.00450\n",
      "\n",
      "Epoch 67: val_loss did not improve from 0.00450\n",
      "\n",
      "Epoch 68: val_loss did not improve from 0.00450\n",
      "\n",
      "Epoch 69: val_loss did not improve from 0.00450\n",
      "\n",
      "Epoch 70: val_loss did not improve from 0.00450\n",
      "\n",
      "Epoch 71: val_loss did not improve from 0.00450\n",
      "\n",
      "Epoch 72: val_loss did not improve from 0.00450\n",
      "\n",
      "Epoch 73: val_loss did not improve from 0.00450\n",
      "\n",
      "Epoch 74: val_loss did not improve from 0.00450\n",
      "\n",
      "Epoch 75: val_loss did not improve from 0.00450\n",
      "\n",
      "Epoch 76: val_loss did not improve from 0.00450\n",
      "\n",
      "Epoch 77: val_loss did not improve from 0.00450\n",
      "\n",
      "Epoch 78: val_loss did not improve from 0.00450\n",
      "\n",
      "Epoch 79: val_loss did not improve from 0.00450\n",
      "\n",
      "Epoch 80: val_loss did not improve from 0.00450\n",
      "\n",
      "Epoch 81: val_loss did not improve from 0.00450\n",
      "\n",
      "Epoch 82: val_loss did not improve from 0.00450\n",
      "\n",
      "Epoch 83: val_loss did not improve from 0.00450\n",
      "\n",
      "Epoch 84: val_loss did not improve from 0.00450\n",
      "\n",
      "Epoch 85: val_loss did not improve from 0.00450\n",
      "\n",
      "Epoch 86: val_loss did not improve from 0.00450\n",
      "\n",
      "Epoch 87: val_loss did not improve from 0.00450\n",
      "\n",
      "Epoch 88: val_loss did not improve from 0.00450\n",
      "\n",
      "Epoch 89: val_loss did not improve from 0.00450\n",
      "\n",
      "Epoch 90: val_loss did not improve from 0.00450\n",
      "\n",
      "Epoch 91: val_loss did not improve from 0.00450\n",
      "\n",
      "Epoch 92: val_loss did not improve from 0.00450\n",
      "\n",
      "Epoch 93: val_loss did not improve from 0.00450\n",
      "\n",
      "Epoch 94: val_loss did not improve from 0.00450\n",
      "\n",
      "Epoch 95: val_loss did not improve from 0.00450\n",
      "\n",
      "Epoch 96: val_loss did not improve from 0.00450\n",
      "\n",
      "Epoch 97: val_loss did not improve from 0.00450\n",
      "\n",
      "Epoch 98: val_loss did not improve from 0.00450\n",
      "\n",
      "Epoch 99: val_loss did not improve from 0.00450\n",
      "\n",
      "Epoch 100: val_loss did not improve from 0.00450\n",
      "\n",
      "Epoch 101: val_loss did not improve from 0.00450\n",
      "\n",
      "Epoch 102: val_loss did not improve from 0.00450\n",
      "\n",
      "Epoch 103: val_loss did not improve from 0.00450\n",
      "\n",
      "Epoch 104: val_loss did not improve from 0.00450\n",
      "\n",
      "Epoch 105: val_loss did not improve from 0.00450\n",
      "\n",
      "Epoch 106: val_loss did not improve from 0.00450\n",
      "\n",
      "Epoch 107: val_loss did not improve from 0.00450\n",
      "\n",
      "Epoch 108: val_loss did not improve from 0.00450\n",
      "\n",
      "Epoch 109: val_loss did not improve from 0.00450\n",
      "\n",
      "Epoch 110: val_loss did not improve from 0.00450\n",
      "\n",
      "Epoch 111: val_loss did not improve from 0.00450\n",
      "\n",
      "Epoch 112: val_loss did not improve from 0.00450\n",
      "\n",
      "Epoch 113: val_loss did not improve from 0.00450\n",
      "\n",
      "Epoch 114: val_loss did not improve from 0.00450\n",
      "\n",
      "Epoch 115: val_loss did not improve from 0.00450\n",
      "\n",
      "Epoch 116: val_loss did not improve from 0.00450\n",
      "\n",
      "Epoch 117: val_loss did not improve from 0.00450\n",
      "\n",
      "Epoch 118: val_loss did not improve from 0.00450\n",
      "\n",
      "Epoch 119: val_loss did not improve from 0.00450\n",
      "\n",
      "Epoch 120: val_loss did not improve from 0.00450\n",
      "\n",
      "Epoch 121: val_loss did not improve from 0.00450\n",
      "\n",
      "Epoch 122: val_loss did not improve from 0.00450\n",
      "\n",
      "Epoch 123: val_loss did not improve from 0.00450\n",
      "\n",
      "Epoch 124: val_loss did not improve from 0.00450\n",
      "\n",
      "Epoch 125: val_loss did not improve from 0.00450\n",
      "\n",
      "Epoch 126: val_loss did not improve from 0.00450\n",
      "\n",
      "Epoch 127: val_loss did not improve from 0.00450\n",
      "\n",
      "Epoch 128: val_loss did not improve from 0.00450\n",
      "\n",
      "Epoch 129: val_loss did not improve from 0.00450\n",
      "\n",
      "Epoch 130: val_loss did not improve from 0.00450\n",
      "\n",
      "Epoch 131: val_loss did not improve from 0.00450\n",
      "\n",
      "Epoch 132: val_loss did not improve from 0.00450\n",
      "\n",
      "Epoch 133: val_loss did not improve from 0.00450\n",
      "\n",
      "Epoch 134: val_loss did not improve from 0.00450\n",
      "\n",
      "Epoch 135: val_loss did not improve from 0.00450\n",
      "\n",
      "Epoch 136: val_loss did not improve from 0.00450\n",
      "\n",
      "Epoch 137: val_loss did not improve from 0.00450\n",
      "\n",
      "Epoch 138: val_loss did not improve from 0.00450\n",
      "\n",
      "Epoch 139: val_loss did not improve from 0.00450\n",
      "\n",
      "Epoch 140: val_loss did not improve from 0.00450\n",
      "\n",
      "Epoch 141: val_loss did not improve from 0.00450\n",
      "\n",
      "Epoch 142: val_loss did not improve from 0.00450\n",
      "\n",
      "Epoch 143: val_loss did not improve from 0.00450\n",
      "\n",
      "Epoch 144: val_loss did not improve from 0.00450\n",
      "\n",
      "Epoch 145: val_loss did not improve from 0.00450\n",
      "\n",
      "Epoch 146: val_loss did not improve from 0.00450\n",
      "\n",
      "Epoch 147: val_loss did not improve from 0.00450\n",
      "\n",
      "Epoch 148: val_loss did not improve from 0.00450\n",
      "\n",
      "Epoch 149: val_loss did not improve from 0.00450\n",
      "\n",
      "Epoch 150: val_loss did not improve from 0.00450\n",
      "\n",
      "Epoch 151: val_loss did not improve from 0.00450\n",
      "\n",
      "Epoch 152: val_loss did not improve from 0.00450\n",
      "\n",
      "Epoch 153: val_loss did not improve from 0.00450\n",
      "\n",
      "Epoch 154: val_loss did not improve from 0.00450\n",
      "\n",
      "Epoch 155: val_loss did not improve from 0.00450\n",
      "Epoch 155: early stopping\n",
      "\u001b[1m19/19\u001b[0m \u001b[32m━━━━━━━━━━━━━━━━━━━━\u001b[0m\u001b[37m\u001b[0m \u001b[1m2s\u001b[0m 74ms/step\n",
      "Training with params: {'timesteps': 50, 'hl': [40, 35], 'lr': 0.0001, 'batch_size': 32, 'num_epochs': 200}\n"
     ]
    },
    {
     "name": "stderr",
     "output_type": "stream",
     "text": [
      "c:\\Users\\84368\\AppData\\Local\\Programs\\Python\\Python311\\Lib\\site-packages\\keras\\src\\layers\\rnn\\rnn.py:200: UserWarning: Do not pass an `input_shape`/`input_dim` argument to a layer. When using Sequential models, prefer using an `Input(shape)` object as the first layer in the model instead.\n",
      "  super().__init__(**kwargs)\n"
     ]
    },
    {
     "name": "stdout",
     "output_type": "stream",
     "text": [
      "\n",
      "Epoch 1: val_loss did not improve from 0.00450\n",
      "\n",
      "Epoch 2: val_loss did not improve from 0.00450\n",
      "\n",
      "Epoch 3: val_loss did not improve from 0.00450\n",
      "\n",
      "Epoch 4: val_loss did not improve from 0.00450\n",
      "\n",
      "Epoch 5: val_loss did not improve from 0.00450\n",
      "\n",
      "Epoch 6: val_loss did not improve from 0.00450\n",
      "\n",
      "Epoch 7: val_loss did not improve from 0.00450\n",
      "\n",
      "Epoch 8: val_loss did not improve from 0.00450\n",
      "\n",
      "Epoch 9: val_loss did not improve from 0.00450\n",
      "\n",
      "Epoch 10: val_loss did not improve from 0.00450\n",
      "\n",
      "Epoch 11: val_loss did not improve from 0.00450\n",
      "\n",
      "Epoch 12: val_loss did not improve from 0.00450\n",
      "\n",
      "Epoch 13: val_loss did not improve from 0.00450\n",
      "\n",
      "Epoch 14: val_loss did not improve from 0.00450\n",
      "\n",
      "Epoch 15: val_loss did not improve from 0.00450\n",
      "\n",
      "Epoch 16: val_loss did not improve from 0.00450\n",
      "\n",
      "Epoch 17: val_loss did not improve from 0.00450\n",
      "\n",
      "Epoch 18: val_loss did not improve from 0.00450\n",
      "\n",
      "Epoch 19: val_loss did not improve from 0.00450\n",
      "\n",
      "Epoch 20: val_loss did not improve from 0.00450\n",
      "\n",
      "Epoch 21: val_loss did not improve from 0.00450\n",
      "\n",
      "Epoch 22: val_loss did not improve from 0.00450\n",
      "\n",
      "Epoch 23: val_loss did not improve from 0.00450\n",
      "\n",
      "Epoch 24: val_loss did not improve from 0.00450\n",
      "\n",
      "Epoch 25: val_loss did not improve from 0.00450\n",
      "\n",
      "Epoch 26: val_loss did not improve from 0.00450\n",
      "\n",
      "Epoch 27: val_loss did not improve from 0.00450\n",
      "\n",
      "Epoch 28: val_loss did not improve from 0.00450\n",
      "\n",
      "Epoch 29: val_loss did not improve from 0.00450\n",
      "\n",
      "Epoch 30: val_loss did not improve from 0.00450\n",
      "\n",
      "Epoch 31: val_loss did not improve from 0.00450\n",
      "\n",
      "Epoch 32: val_loss did not improve from 0.00450\n",
      "\n",
      "Epoch 33: val_loss did not improve from 0.00450\n",
      "\n",
      "Epoch 34: val_loss did not improve from 0.00450\n",
      "\n",
      "Epoch 35: val_loss did not improve from 0.00450\n",
      "\n",
      "Epoch 36: val_loss did not improve from 0.00450\n",
      "\n",
      "Epoch 37: val_loss did not improve from 0.00450\n",
      "\n",
      "Epoch 38: val_loss did not improve from 0.00450\n",
      "\n",
      "Epoch 39: val_loss did not improve from 0.00450\n",
      "\n",
      "Epoch 40: val_loss did not improve from 0.00450\n",
      "\n",
      "Epoch 41: val_loss did not improve from 0.00450\n",
      "\n",
      "Epoch 42: val_loss did not improve from 0.00450\n",
      "\n",
      "Epoch 43: val_loss did not improve from 0.00450\n",
      "\n",
      "Epoch 44: val_loss did not improve from 0.00450\n",
      "\n",
      "Epoch 45: val_loss did not improve from 0.00450\n",
      "\n",
      "Epoch 46: val_loss did not improve from 0.00450\n",
      "\n",
      "Epoch 47: val_loss did not improve from 0.00450\n",
      "\n",
      "Epoch 48: val_loss did not improve from 0.00450\n",
      "\n",
      "Epoch 49: val_loss did not improve from 0.00450\n",
      "\n",
      "Epoch 50: val_loss did not improve from 0.00450\n",
      "\n",
      "Epoch 51: val_loss did not improve from 0.00450\n",
      "\n",
      "Epoch 52: val_loss did not improve from 0.00450\n",
      "\n",
      "Epoch 53: val_loss did not improve from 0.00450\n",
      "\n",
      "Epoch 54: val_loss did not improve from 0.00450\n",
      "\n",
      "Epoch 55: val_loss did not improve from 0.00450\n",
      "\n",
      "Epoch 56: val_loss did not improve from 0.00450\n",
      "\n",
      "Epoch 57: val_loss did not improve from 0.00450\n",
      "\n",
      "Epoch 58: val_loss did not improve from 0.00450\n",
      "\n",
      "Epoch 59: val_loss did not improve from 0.00450\n",
      "\n",
      "Epoch 60: val_loss did not improve from 0.00450\n",
      "\n",
      "Epoch 61: val_loss did not improve from 0.00450\n",
      "\n",
      "Epoch 62: val_loss did not improve from 0.00450\n",
      "\n",
      "Epoch 63: val_loss did not improve from 0.00450\n",
      "\n",
      "Epoch 64: val_loss did not improve from 0.00450\n",
      "\n",
      "Epoch 65: val_loss did not improve from 0.00450\n",
      "\n",
      "Epoch 66: val_loss did not improve from 0.00450\n",
      "\n",
      "Epoch 67: val_loss did not improve from 0.00450\n",
      "\n",
      "Epoch 68: val_loss did not improve from 0.00450\n",
      "\n",
      "Epoch 69: val_loss did not improve from 0.00450\n",
      "\n",
      "Epoch 70: val_loss did not improve from 0.00450\n",
      "\n",
      "Epoch 71: val_loss did not improve from 0.00450\n",
      "\n",
      "Epoch 72: val_loss did not improve from 0.00450\n",
      "\n",
      "Epoch 73: val_loss did not improve from 0.00450\n",
      "\n",
      "Epoch 74: val_loss did not improve from 0.00450\n",
      "\n",
      "Epoch 75: val_loss did not improve from 0.00450\n",
      "\n",
      "Epoch 76: val_loss did not improve from 0.00450\n",
      "\n",
      "Epoch 77: val_loss did not improve from 0.00450\n",
      "\n",
      "Epoch 78: val_loss did not improve from 0.00450\n",
      "\n",
      "Epoch 79: val_loss did not improve from 0.00450\n",
      "\n",
      "Epoch 80: val_loss did not improve from 0.00450\n",
      "\n",
      "Epoch 81: val_loss did not improve from 0.00450\n",
      "\n",
      "Epoch 82: val_loss did not improve from 0.00450\n",
      "\n",
      "Epoch 83: val_loss did not improve from 0.00450\n",
      "\n",
      "Epoch 84: val_loss did not improve from 0.00450\n",
      "Epoch 84: early stopping\n",
      "\u001b[1m19/19\u001b[0m \u001b[32m━━━━━━━━━━━━━━━━━━━━\u001b[0m\u001b[37m\u001b[0m \u001b[1m2s\u001b[0m 61ms/step\n",
      "Training with params: {'timesteps': 50, 'hl': [40, 35], 'lr': 0.0001, 'batch_size': 32, 'num_epochs': 250}\n"
     ]
    },
    {
     "name": "stderr",
     "output_type": "stream",
     "text": [
      "c:\\Users\\84368\\AppData\\Local\\Programs\\Python\\Python311\\Lib\\site-packages\\keras\\src\\layers\\rnn\\rnn.py:200: UserWarning: Do not pass an `input_shape`/`input_dim` argument to a layer. When using Sequential models, prefer using an `Input(shape)` object as the first layer in the model instead.\n",
      "  super().__init__(**kwargs)\n"
     ]
    },
    {
     "name": "stdout",
     "output_type": "stream",
     "text": [
      "\n",
      "Epoch 1: val_loss did not improve from 0.00450\n",
      "\n",
      "Epoch 2: val_loss did not improve from 0.00450\n",
      "\n",
      "Epoch 3: val_loss did not improve from 0.00450\n",
      "\n",
      "Epoch 4: val_loss did not improve from 0.00450\n",
      "\n",
      "Epoch 5: val_loss did not improve from 0.00450\n",
      "\n",
      "Epoch 6: val_loss did not improve from 0.00450\n",
      "\n",
      "Epoch 7: val_loss did not improve from 0.00450\n",
      "\n",
      "Epoch 8: val_loss did not improve from 0.00450\n",
      "\n",
      "Epoch 9: val_loss did not improve from 0.00450\n",
      "\n",
      "Epoch 10: val_loss did not improve from 0.00450\n",
      "\n",
      "Epoch 11: val_loss did not improve from 0.00450\n",
      "\n",
      "Epoch 12: val_loss did not improve from 0.00450\n",
      "\n",
      "Epoch 13: val_loss did not improve from 0.00450\n",
      "\n",
      "Epoch 14: val_loss did not improve from 0.00450\n",
      "\n",
      "Epoch 15: val_loss did not improve from 0.00450\n",
      "\n",
      "Epoch 16: val_loss did not improve from 0.00450\n",
      "\n",
      "Epoch 17: val_loss did not improve from 0.00450\n",
      "\n",
      "Epoch 18: val_loss did not improve from 0.00450\n",
      "\n",
      "Epoch 19: val_loss did not improve from 0.00450\n",
      "\n",
      "Epoch 20: val_loss did not improve from 0.00450\n",
      "\n",
      "Epoch 21: val_loss did not improve from 0.00450\n",
      "\n",
      "Epoch 22: val_loss did not improve from 0.00450\n",
      "\n",
      "Epoch 23: val_loss did not improve from 0.00450\n",
      "\n",
      "Epoch 24: val_loss did not improve from 0.00450\n",
      "\n",
      "Epoch 25: val_loss did not improve from 0.00450\n",
      "\n",
      "Epoch 26: val_loss did not improve from 0.00450\n",
      "\n",
      "Epoch 27: val_loss did not improve from 0.00450\n",
      "\n",
      "Epoch 28: val_loss did not improve from 0.00450\n",
      "\n",
      "Epoch 29: val_loss did not improve from 0.00450\n",
      "\n",
      "Epoch 30: val_loss did not improve from 0.00450\n",
      "\n",
      "Epoch 31: val_loss did not improve from 0.00450\n",
      "\n",
      "Epoch 32: val_loss did not improve from 0.00450\n",
      "\n",
      "Epoch 33: val_loss did not improve from 0.00450\n",
      "\n",
      "Epoch 34: val_loss did not improve from 0.00450\n",
      "\n",
      "Epoch 35: val_loss did not improve from 0.00450\n",
      "\n",
      "Epoch 36: val_loss did not improve from 0.00450\n",
      "\n",
      "Epoch 37: val_loss did not improve from 0.00450\n",
      "\n",
      "Epoch 38: val_loss did not improve from 0.00450\n",
      "\n",
      "Epoch 39: val_loss did not improve from 0.00450\n",
      "\n",
      "Epoch 40: val_loss did not improve from 0.00450\n",
      "\n",
      "Epoch 41: val_loss did not improve from 0.00450\n",
      "\n",
      "Epoch 42: val_loss did not improve from 0.00450\n",
      "\n",
      "Epoch 43: val_loss did not improve from 0.00450\n",
      "\n",
      "Epoch 44: val_loss did not improve from 0.00450\n",
      "\n",
      "Epoch 45: val_loss did not improve from 0.00450\n",
      "\n",
      "Epoch 46: val_loss did not improve from 0.00450\n",
      "\n",
      "Epoch 47: val_loss did not improve from 0.00450\n",
      "\n",
      "Epoch 48: val_loss did not improve from 0.00450\n",
      "\n",
      "Epoch 49: val_loss did not improve from 0.00450\n",
      "\n",
      "Epoch 50: val_loss did not improve from 0.00450\n",
      "\n",
      "Epoch 51: val_loss did not improve from 0.00450\n",
      "\n",
      "Epoch 52: val_loss did not improve from 0.00450\n",
      "\n",
      "Epoch 53: val_loss did not improve from 0.00450\n",
      "\n",
      "Epoch 54: val_loss did not improve from 0.00450\n",
      "\n",
      "Epoch 55: val_loss did not improve from 0.00450\n",
      "\n",
      "Epoch 56: val_loss did not improve from 0.00450\n",
      "\n",
      "Epoch 57: val_loss did not improve from 0.00450\n",
      "\n",
      "Epoch 58: val_loss did not improve from 0.00450\n",
      "\n",
      "Epoch 59: val_loss did not improve from 0.00450\n",
      "\n",
      "Epoch 60: val_loss did not improve from 0.00450\n",
      "\n",
      "Epoch 61: val_loss did not improve from 0.00450\n",
      "\n",
      "Epoch 62: val_loss did not improve from 0.00450\n",
      "\n",
      "Epoch 63: val_loss did not improve from 0.00450\n",
      "\n",
      "Epoch 64: val_loss did not improve from 0.00450\n",
      "\n",
      "Epoch 65: val_loss did not improve from 0.00450\n",
      "\n",
      "Epoch 66: val_loss did not improve from 0.00450\n",
      "\n",
      "Epoch 67: val_loss did not improve from 0.00450\n",
      "\n",
      "Epoch 68: val_loss did not improve from 0.00450\n",
      "\n",
      "Epoch 69: val_loss did not improve from 0.00450\n",
      "\n",
      "Epoch 70: val_loss did not improve from 0.00450\n",
      "\n",
      "Epoch 71: val_loss did not improve from 0.00450\n",
      "\n",
      "Epoch 72: val_loss did not improve from 0.00450\n",
      "\n",
      "Epoch 73: val_loss did not improve from 0.00450\n",
      "\n",
      "Epoch 74: val_loss did not improve from 0.00450\n",
      "\n",
      "Epoch 75: val_loss did not improve from 0.00450\n",
      "\n",
      "Epoch 76: val_loss did not improve from 0.00450\n",
      "\n",
      "Epoch 77: val_loss did not improve from 0.00450\n",
      "\n",
      "Epoch 78: val_loss did not improve from 0.00450\n",
      "\n",
      "Epoch 79: val_loss did not improve from 0.00450\n",
      "\n",
      "Epoch 80: val_loss did not improve from 0.00450\n",
      "\n",
      "Epoch 81: val_loss did not improve from 0.00450\n",
      "Epoch 81: early stopping\n",
      "\u001b[1m19/19\u001b[0m \u001b[32m━━━━━━━━━━━━━━━━━━━━\u001b[0m\u001b[37m\u001b[0m \u001b[1m1s\u001b[0m 42ms/step\n",
      "Training with params: {'timesteps': 50, 'hl': [40, 35], 'lr': 0.0001, 'batch_size': 64, 'num_epochs': 200}\n"
     ]
    },
    {
     "name": "stderr",
     "output_type": "stream",
     "text": [
      "c:\\Users\\84368\\AppData\\Local\\Programs\\Python\\Python311\\Lib\\site-packages\\keras\\src\\layers\\rnn\\rnn.py:200: UserWarning: Do not pass an `input_shape`/`input_dim` argument to a layer. When using Sequential models, prefer using an `Input(shape)` object as the first layer in the model instead.\n",
      "  super().__init__(**kwargs)\n"
     ]
    },
    {
     "name": "stdout",
     "output_type": "stream",
     "text": [
      "\n",
      "Epoch 1: val_loss did not improve from 0.00450\n",
      "\n",
      "Epoch 2: val_loss did not improve from 0.00450\n",
      "\n",
      "Epoch 3: val_loss did not improve from 0.00450\n",
      "\n",
      "Epoch 4: val_loss did not improve from 0.00450\n",
      "\n",
      "Epoch 5: val_loss did not improve from 0.00450\n",
      "\n",
      "Epoch 6: val_loss did not improve from 0.00450\n",
      "\n",
      "Epoch 7: val_loss did not improve from 0.00450\n",
      "\n",
      "Epoch 8: val_loss did not improve from 0.00450\n",
      "\n",
      "Epoch 9: val_loss did not improve from 0.00450\n",
      "\n",
      "Epoch 10: val_loss did not improve from 0.00450\n",
      "\n",
      "Epoch 11: val_loss did not improve from 0.00450\n",
      "\n",
      "Epoch 12: val_loss did not improve from 0.00450\n",
      "\n",
      "Epoch 13: val_loss did not improve from 0.00450\n",
      "\n",
      "Epoch 14: val_loss did not improve from 0.00450\n",
      "\n",
      "Epoch 15: val_loss did not improve from 0.00450\n",
      "\n",
      "Epoch 16: val_loss did not improve from 0.00450\n",
      "\n",
      "Epoch 17: val_loss did not improve from 0.00450\n",
      "\n",
      "Epoch 18: val_loss did not improve from 0.00450\n",
      "\n",
      "Epoch 19: val_loss did not improve from 0.00450\n",
      "\n",
      "Epoch 20: val_loss did not improve from 0.00450\n",
      "\n",
      "Epoch 21: val_loss did not improve from 0.00450\n",
      "\n",
      "Epoch 22: val_loss did not improve from 0.00450\n",
      "\n",
      "Epoch 23: val_loss did not improve from 0.00450\n",
      "\n",
      "Epoch 24: val_loss did not improve from 0.00450\n",
      "\n",
      "Epoch 25: val_loss did not improve from 0.00450\n",
      "\n",
      "Epoch 26: val_loss did not improve from 0.00450\n",
      "\n",
      "Epoch 27: val_loss did not improve from 0.00450\n",
      "\n",
      "Epoch 28: val_loss did not improve from 0.00450\n",
      "\n",
      "Epoch 29: val_loss did not improve from 0.00450\n",
      "\n",
      "Epoch 30: val_loss did not improve from 0.00450\n",
      "\n",
      "Epoch 31: val_loss did not improve from 0.00450\n",
      "\n",
      "Epoch 32: val_loss did not improve from 0.00450\n",
      "\n",
      "Epoch 33: val_loss did not improve from 0.00450\n",
      "\n",
      "Epoch 34: val_loss did not improve from 0.00450\n",
      "\n",
      "Epoch 35: val_loss did not improve from 0.00450\n",
      "\n",
      "Epoch 36: val_loss did not improve from 0.00450\n",
      "\n",
      "Epoch 37: val_loss did not improve from 0.00450\n",
      "\n",
      "Epoch 38: val_loss did not improve from 0.00450\n",
      "\n",
      "Epoch 39: val_loss did not improve from 0.00450\n",
      "\n",
      "Epoch 40: val_loss did not improve from 0.00450\n",
      "\n",
      "Epoch 41: val_loss did not improve from 0.00450\n",
      "\n",
      "Epoch 42: val_loss did not improve from 0.00450\n",
      "\n",
      "Epoch 43: val_loss did not improve from 0.00450\n",
      "\n",
      "Epoch 44: val_loss did not improve from 0.00450\n",
      "\n",
      "Epoch 45: val_loss did not improve from 0.00450\n",
      "\n",
      "Epoch 46: val_loss did not improve from 0.00450\n",
      "\n",
      "Epoch 47: val_loss did not improve from 0.00450\n",
      "\n",
      "Epoch 48: val_loss did not improve from 0.00450\n",
      "\n",
      "Epoch 49: val_loss did not improve from 0.00450\n",
      "\n",
      "Epoch 50: val_loss did not improve from 0.00450\n",
      "\n",
      "Epoch 51: val_loss did not improve from 0.00450\n",
      "\n",
      "Epoch 52: val_loss did not improve from 0.00450\n",
      "\n",
      "Epoch 53: val_loss did not improve from 0.00450\n",
      "\n",
      "Epoch 54: val_loss did not improve from 0.00450\n",
      "\n",
      "Epoch 55: val_loss did not improve from 0.00450\n",
      "\n",
      "Epoch 56: val_loss did not improve from 0.00450\n",
      "\n",
      "Epoch 57: val_loss did not improve from 0.00450\n",
      "\n",
      "Epoch 58: val_loss did not improve from 0.00450\n",
      "\n",
      "Epoch 59: val_loss did not improve from 0.00450\n",
      "\n",
      "Epoch 60: val_loss did not improve from 0.00450\n",
      "\n",
      "Epoch 61: val_loss did not improve from 0.00450\n",
      "\n",
      "Epoch 62: val_loss did not improve from 0.00450\n",
      "\n",
      "Epoch 63: val_loss did not improve from 0.00450\n",
      "\n",
      "Epoch 64: val_loss did not improve from 0.00450\n",
      "\n",
      "Epoch 65: val_loss did not improve from 0.00450\n",
      "\n",
      "Epoch 66: val_loss did not improve from 0.00450\n",
      "\n",
      "Epoch 67: val_loss did not improve from 0.00450\n",
      "\n",
      "Epoch 68: val_loss did not improve from 0.00450\n",
      "\n",
      "Epoch 69: val_loss did not improve from 0.00450\n",
      "\n",
      "Epoch 70: val_loss did not improve from 0.00450\n",
      "\n",
      "Epoch 71: val_loss did not improve from 0.00450\n",
      "\n",
      "Epoch 72: val_loss did not improve from 0.00450\n",
      "\n",
      "Epoch 73: val_loss did not improve from 0.00450\n",
      "\n",
      "Epoch 74: val_loss did not improve from 0.00450\n",
      "\n",
      "Epoch 75: val_loss did not improve from 0.00450\n",
      "\n",
      "Epoch 76: val_loss did not improve from 0.00450\n",
      "\n",
      "Epoch 77: val_loss did not improve from 0.00450\n",
      "\n",
      "Epoch 78: val_loss did not improve from 0.00450\n",
      "\n",
      "Epoch 79: val_loss did not improve from 0.00450\n",
      "\n",
      "Epoch 80: val_loss did not improve from 0.00450\n",
      "\n",
      "Epoch 81: val_loss did not improve from 0.00450\n",
      "\n",
      "Epoch 82: val_loss did not improve from 0.00450\n",
      "\n",
      "Epoch 83: val_loss did not improve from 0.00450\n",
      "\n",
      "Epoch 84: val_loss did not improve from 0.00450\n",
      "\n",
      "Epoch 85: val_loss did not improve from 0.00450\n",
      "\n",
      "Epoch 86: val_loss did not improve from 0.00450\n",
      "\n",
      "Epoch 87: val_loss did not improve from 0.00450\n",
      "\n",
      "Epoch 88: val_loss did not improve from 0.00450\n",
      "\n",
      "Epoch 89: val_loss did not improve from 0.00450\n",
      "\n",
      "Epoch 90: val_loss did not improve from 0.00450\n",
      "\n",
      "Epoch 91: val_loss did not improve from 0.00450\n",
      "\n",
      "Epoch 92: val_loss did not improve from 0.00450\n",
      "\n",
      "Epoch 93: val_loss did not improve from 0.00450\n",
      "\n",
      "Epoch 94: val_loss did not improve from 0.00450\n",
      "\n",
      "Epoch 95: val_loss did not improve from 0.00450\n",
      "\n",
      "Epoch 96: val_loss did not improve from 0.00450\n",
      "\n",
      "Epoch 97: val_loss did not improve from 0.00450\n",
      "\n",
      "Epoch 98: val_loss did not improve from 0.00450\n",
      "\n",
      "Epoch 99: val_loss did not improve from 0.00450\n",
      "\n",
      "Epoch 100: val_loss did not improve from 0.00450\n",
      "\n",
      "Epoch 101: val_loss did not improve from 0.00450\n",
      "\n",
      "Epoch 102: val_loss did not improve from 0.00450\n",
      "\n",
      "Epoch 103: val_loss did not improve from 0.00450\n",
      "\n",
      "Epoch 104: val_loss did not improve from 0.00450\n",
      "\n",
      "Epoch 105: val_loss did not improve from 0.00450\n",
      "\n",
      "Epoch 106: val_loss did not improve from 0.00450\n",
      "\n",
      "Epoch 107: val_loss did not improve from 0.00450\n",
      "\n",
      "Epoch 108: val_loss did not improve from 0.00450\n",
      "\n",
      "Epoch 109: val_loss did not improve from 0.00450\n",
      "\n",
      "Epoch 110: val_loss did not improve from 0.00450\n",
      "\n",
      "Epoch 111: val_loss did not improve from 0.00450\n",
      "\n",
      "Epoch 112: val_loss did not improve from 0.00450\n",
      "\n",
      "Epoch 113: val_loss did not improve from 0.00450\n",
      "\n",
      "Epoch 114: val_loss did not improve from 0.00450\n",
      "\n",
      "Epoch 115: val_loss did not improve from 0.00450\n",
      "\n",
      "Epoch 116: val_loss did not improve from 0.00450\n",
      "\n",
      "Epoch 117: val_loss did not improve from 0.00450\n",
      "\n",
      "Epoch 118: val_loss did not improve from 0.00450\n",
      "\n",
      "Epoch 119: val_loss did not improve from 0.00450\n",
      "\n",
      "Epoch 120: val_loss did not improve from 0.00450\n",
      "\n",
      "Epoch 121: val_loss did not improve from 0.00450\n",
      "\n",
      "Epoch 122: val_loss did not improve from 0.00450\n",
      "\n",
      "Epoch 123: val_loss did not improve from 0.00450\n",
      "\n",
      "Epoch 124: val_loss did not improve from 0.00450\n",
      "\n",
      "Epoch 125: val_loss did not improve from 0.00450\n",
      "\n",
      "Epoch 126: val_loss did not improve from 0.00450\n",
      "\n",
      "Epoch 127: val_loss did not improve from 0.00450\n",
      "\n",
      "Epoch 128: val_loss did not improve from 0.00450\n",
      "\n",
      "Epoch 129: val_loss did not improve from 0.00450\n",
      "\n",
      "Epoch 130: val_loss did not improve from 0.00450\n",
      "\n",
      "Epoch 131: val_loss did not improve from 0.00450\n",
      "\n",
      "Epoch 132: val_loss did not improve from 0.00450\n",
      "\n",
      "Epoch 133: val_loss did not improve from 0.00450\n",
      "\n",
      "Epoch 134: val_loss did not improve from 0.00450\n",
      "\n",
      "Epoch 135: val_loss did not improve from 0.00450\n",
      "\n",
      "Epoch 136: val_loss did not improve from 0.00450\n",
      "\n",
      "Epoch 137: val_loss did not improve from 0.00450\n",
      "\n",
      "Epoch 138: val_loss did not improve from 0.00450\n",
      "\n",
      "Epoch 139: val_loss did not improve from 0.00450\n",
      "\n",
      "Epoch 140: val_loss did not improve from 0.00450\n",
      "\n",
      "Epoch 141: val_loss did not improve from 0.00450\n",
      "\n",
      "Epoch 142: val_loss did not improve from 0.00450\n",
      "\n",
      "Epoch 143: val_loss did not improve from 0.00450\n",
      "\n",
      "Epoch 144: val_loss did not improve from 0.00450\n",
      "\n",
      "Epoch 145: val_loss did not improve from 0.00450\n",
      "\n",
      "Epoch 146: val_loss did not improve from 0.00450\n",
      "\n",
      "Epoch 147: val_loss did not improve from 0.00450\n",
      "\n",
      "Epoch 148: val_loss did not improve from 0.00450\n",
      "\n",
      "Epoch 149: val_loss did not improve from 0.00450\n",
      "\n",
      "Epoch 150: val_loss did not improve from 0.00450\n",
      "\n",
      "Epoch 151: val_loss did not improve from 0.00450\n",
      "\n",
      "Epoch 152: val_loss did not improve from 0.00450\n",
      "\n",
      "Epoch 153: val_loss did not improve from 0.00450\n",
      "\n",
      "Epoch 154: val_loss did not improve from 0.00450\n",
      "\n",
      "Epoch 155: val_loss did not improve from 0.00450\n",
      "\n",
      "Epoch 156: val_loss did not improve from 0.00450\n",
      "\n",
      "Epoch 157: val_loss did not improve from 0.00450\n",
      "\n",
      "Epoch 158: val_loss did not improve from 0.00450\n",
      "\n",
      "Epoch 159: val_loss did not improve from 0.00450\n",
      "\n",
      "Epoch 160: val_loss did not improve from 0.00450\n",
      "\n",
      "Epoch 161: val_loss did not improve from 0.00450\n",
      "\n",
      "Epoch 162: val_loss did not improve from 0.00450\n",
      "\n",
      "Epoch 163: val_loss did not improve from 0.00450\n",
      "\n",
      "Epoch 164: val_loss did not improve from 0.00450\n",
      "\n",
      "Epoch 165: val_loss did not improve from 0.00450\n",
      "\n",
      "Epoch 166: val_loss did not improve from 0.00450\n",
      "\n",
      "Epoch 167: val_loss did not improve from 0.00450\n",
      "\n",
      "Epoch 168: val_loss did not improve from 0.00450\n",
      "\n",
      "Epoch 169: val_loss did not improve from 0.00450\n",
      "\n",
      "Epoch 170: val_loss did not improve from 0.00450\n",
      "\n",
      "Epoch 171: val_loss did not improve from 0.00450\n",
      "\n",
      "Epoch 172: val_loss did not improve from 0.00450\n",
      "\n",
      "Epoch 173: val_loss did not improve from 0.00450\n",
      "\n",
      "Epoch 174: val_loss did not improve from 0.00450\n",
      "\n",
      "Epoch 175: val_loss did not improve from 0.00450\n",
      "\n",
      "Epoch 176: val_loss did not improve from 0.00450\n",
      "\n",
      "Epoch 177: val_loss did not improve from 0.00450\n",
      "\n",
      "Epoch 178: val_loss did not improve from 0.00450\n",
      "\n",
      "Epoch 179: val_loss did not improve from 0.00450\n",
      "\n",
      "Epoch 180: val_loss did not improve from 0.00450\n",
      "\n",
      "Epoch 181: val_loss did not improve from 0.00450\n",
      "\n",
      "Epoch 182: val_loss did not improve from 0.00450\n",
      "\n",
      "Epoch 183: val_loss did not improve from 0.00450\n",
      "\n",
      "Epoch 184: val_loss did not improve from 0.00450\n",
      "\n",
      "Epoch 185: val_loss did not improve from 0.00450\n",
      "\n",
      "Epoch 186: val_loss did not improve from 0.00450\n",
      "\n",
      "Epoch 187: val_loss did not improve from 0.00450\n",
      "\n",
      "Epoch 188: val_loss did not improve from 0.00450\n",
      "\n",
      "Epoch 189: val_loss did not improve from 0.00450\n",
      "\n",
      "Epoch 190: val_loss did not improve from 0.00450\n",
      "\n",
      "Epoch 191: val_loss did not improve from 0.00450\n",
      "\n",
      "Epoch 192: val_loss did not improve from 0.00450\n",
      "\n",
      "Epoch 193: val_loss did not improve from 0.00450\n",
      "\n",
      "Epoch 194: val_loss did not improve from 0.00450\n",
      "\n",
      "Epoch 195: val_loss did not improve from 0.00450\n",
      "\n",
      "Epoch 196: val_loss did not improve from 0.00450\n",
      "\n",
      "Epoch 197: val_loss did not improve from 0.00450\n",
      "\n",
      "Epoch 198: val_loss did not improve from 0.00450\n",
      "\n",
      "Epoch 199: val_loss did not improve from 0.00450\n",
      "\n",
      "Epoch 200: val_loss did not improve from 0.00450\n",
      "Epoch 200: early stopping\n",
      "\u001b[1m19/19\u001b[0m \u001b[32m━━━━━━━━━━━━━━━━━━━━\u001b[0m\u001b[37m\u001b[0m \u001b[1m5s\u001b[0m 234ms/step\n",
      "Training with params: {'timesteps': 50, 'hl': [40, 35], 'lr': 0.0001, 'batch_size': 64, 'num_epochs': 250}\n"
     ]
    },
    {
     "name": "stderr",
     "output_type": "stream",
     "text": [
      "c:\\Users\\84368\\AppData\\Local\\Programs\\Python\\Python311\\Lib\\site-packages\\keras\\src\\layers\\rnn\\rnn.py:200: UserWarning: Do not pass an `input_shape`/`input_dim` argument to a layer. When using Sequential models, prefer using an `Input(shape)` object as the first layer in the model instead.\n",
      "  super().__init__(**kwargs)\n"
     ]
    },
    {
     "name": "stdout",
     "output_type": "stream",
     "text": [
      "\n",
      "Epoch 1: val_loss did not improve from 0.00450\n",
      "\n",
      "Epoch 2: val_loss did not improve from 0.00450\n",
      "\n",
      "Epoch 3: val_loss did not improve from 0.00450\n",
      "\n",
      "Epoch 4: val_loss did not improve from 0.00450\n",
      "\n",
      "Epoch 5: val_loss did not improve from 0.00450\n",
      "\n",
      "Epoch 6: val_loss did not improve from 0.00450\n",
      "\n",
      "Epoch 7: val_loss did not improve from 0.00450\n",
      "\n",
      "Epoch 8: val_loss did not improve from 0.00450\n",
      "\n",
      "Epoch 9: val_loss did not improve from 0.00450\n",
      "\n",
      "Epoch 10: val_loss did not improve from 0.00450\n",
      "\n",
      "Epoch 11: val_loss did not improve from 0.00450\n",
      "\n",
      "Epoch 12: val_loss did not improve from 0.00450\n",
      "\n",
      "Epoch 13: val_loss did not improve from 0.00450\n",
      "\n",
      "Epoch 14: val_loss did not improve from 0.00450\n",
      "\n",
      "Epoch 15: val_loss did not improve from 0.00450\n",
      "\n",
      "Epoch 16: val_loss did not improve from 0.00450\n",
      "\n",
      "Epoch 17: val_loss did not improve from 0.00450\n",
      "\n",
      "Epoch 18: val_loss did not improve from 0.00450\n",
      "\n",
      "Epoch 19: val_loss did not improve from 0.00450\n",
      "\n",
      "Epoch 20: val_loss did not improve from 0.00450\n",
      "\n",
      "Epoch 21: val_loss did not improve from 0.00450\n",
      "\n",
      "Epoch 22: val_loss did not improve from 0.00450\n",
      "\n",
      "Epoch 23: val_loss did not improve from 0.00450\n",
      "\n",
      "Epoch 24: val_loss did not improve from 0.00450\n",
      "\n",
      "Epoch 25: val_loss did not improve from 0.00450\n",
      "\n",
      "Epoch 26: val_loss did not improve from 0.00450\n",
      "\n",
      "Epoch 27: val_loss did not improve from 0.00450\n",
      "\n",
      "Epoch 28: val_loss did not improve from 0.00450\n",
      "\n",
      "Epoch 29: val_loss did not improve from 0.00450\n",
      "\n",
      "Epoch 30: val_loss did not improve from 0.00450\n",
      "\n",
      "Epoch 31: val_loss did not improve from 0.00450\n",
      "\n",
      "Epoch 32: val_loss did not improve from 0.00450\n",
      "\n",
      "Epoch 33: val_loss did not improve from 0.00450\n",
      "\n",
      "Epoch 34: val_loss did not improve from 0.00450\n",
      "\n",
      "Epoch 35: val_loss did not improve from 0.00450\n",
      "\n",
      "Epoch 36: val_loss did not improve from 0.00450\n",
      "\n",
      "Epoch 37: val_loss did not improve from 0.00450\n",
      "\n",
      "Epoch 38: val_loss did not improve from 0.00450\n",
      "\n",
      "Epoch 39: val_loss did not improve from 0.00450\n",
      "\n",
      "Epoch 40: val_loss did not improve from 0.00450\n",
      "\n",
      "Epoch 41: val_loss did not improve from 0.00450\n",
      "\n",
      "Epoch 42: val_loss did not improve from 0.00450\n",
      "\n",
      "Epoch 43: val_loss did not improve from 0.00450\n",
      "\n",
      "Epoch 44: val_loss did not improve from 0.00450\n",
      "\n",
      "Epoch 45: val_loss did not improve from 0.00450\n",
      "\n",
      "Epoch 46: val_loss did not improve from 0.00450\n",
      "\n",
      "Epoch 47: val_loss did not improve from 0.00450\n",
      "\n",
      "Epoch 48: val_loss did not improve from 0.00450\n",
      "\n",
      "Epoch 49: val_loss did not improve from 0.00450\n",
      "\n",
      "Epoch 50: val_loss did not improve from 0.00450\n",
      "\n",
      "Epoch 51: val_loss did not improve from 0.00450\n",
      "\n",
      "Epoch 52: val_loss did not improve from 0.00450\n",
      "\n",
      "Epoch 53: val_loss did not improve from 0.00450\n",
      "\n",
      "Epoch 54: val_loss did not improve from 0.00450\n",
      "\n",
      "Epoch 55: val_loss did not improve from 0.00450\n",
      "\n",
      "Epoch 56: val_loss did not improve from 0.00450\n",
      "\n",
      "Epoch 57: val_loss did not improve from 0.00450\n",
      "\n",
      "Epoch 58: val_loss did not improve from 0.00450\n",
      "\n",
      "Epoch 59: val_loss did not improve from 0.00450\n",
      "\n",
      "Epoch 60: val_loss did not improve from 0.00450\n",
      "\n",
      "Epoch 61: val_loss did not improve from 0.00450\n",
      "\n",
      "Epoch 62: val_loss did not improve from 0.00450\n",
      "\n",
      "Epoch 63: val_loss did not improve from 0.00450\n",
      "\n",
      "Epoch 64: val_loss did not improve from 0.00450\n",
      "\n",
      "Epoch 65: val_loss did not improve from 0.00450\n",
      "\n",
      "Epoch 66: val_loss did not improve from 0.00450\n",
      "\n",
      "Epoch 67: val_loss did not improve from 0.00450\n",
      "\n",
      "Epoch 68: val_loss did not improve from 0.00450\n",
      "\n",
      "Epoch 69: val_loss did not improve from 0.00450\n",
      "\n",
      "Epoch 70: val_loss did not improve from 0.00450\n",
      "\n",
      "Epoch 71: val_loss did not improve from 0.00450\n",
      "\n",
      "Epoch 72: val_loss did not improve from 0.00450\n",
      "\n",
      "Epoch 73: val_loss did not improve from 0.00450\n",
      "\n",
      "Epoch 74: val_loss did not improve from 0.00450\n",
      "\n",
      "Epoch 75: val_loss did not improve from 0.00450\n",
      "\n",
      "Epoch 76: val_loss did not improve from 0.00450\n",
      "\n",
      "Epoch 77: val_loss did not improve from 0.00450\n",
      "\n",
      "Epoch 78: val_loss did not improve from 0.00450\n",
      "\n",
      "Epoch 79: val_loss did not improve from 0.00450\n",
      "\n",
      "Epoch 80: val_loss did not improve from 0.00450\n",
      "\n",
      "Epoch 81: val_loss did not improve from 0.00450\n",
      "\n",
      "Epoch 82: val_loss did not improve from 0.00450\n",
      "\n",
      "Epoch 83: val_loss did not improve from 0.00450\n",
      "\n",
      "Epoch 84: val_loss did not improve from 0.00450\n",
      "\n",
      "Epoch 85: val_loss did not improve from 0.00450\n",
      "\n",
      "Epoch 86: val_loss did not improve from 0.00450\n",
      "\n",
      "Epoch 87: val_loss did not improve from 0.00450\n",
      "\n",
      "Epoch 88: val_loss did not improve from 0.00450\n",
      "\n",
      "Epoch 89: val_loss did not improve from 0.00450\n",
      "\n",
      "Epoch 90: val_loss did not improve from 0.00450\n",
      "\n",
      "Epoch 91: val_loss did not improve from 0.00450\n",
      "\n",
      "Epoch 92: val_loss did not improve from 0.00450\n",
      "\n",
      "Epoch 93: val_loss did not improve from 0.00450\n",
      "\n",
      "Epoch 94: val_loss did not improve from 0.00450\n",
      "\n",
      "Epoch 95: val_loss did not improve from 0.00450\n",
      "\n",
      "Epoch 96: val_loss did not improve from 0.00450\n",
      "\n",
      "Epoch 97: val_loss did not improve from 0.00450\n",
      "\n",
      "Epoch 98: val_loss did not improve from 0.00450\n",
      "\n",
      "Epoch 99: val_loss did not improve from 0.00450\n",
      "\n",
      "Epoch 100: val_loss did not improve from 0.00450\n",
      "\n",
      "Epoch 101: val_loss did not improve from 0.00450\n",
      "\n",
      "Epoch 102: val_loss did not improve from 0.00450\n",
      "\n",
      "Epoch 103: val_loss did not improve from 0.00450\n",
      "\n",
      "Epoch 104: val_loss did not improve from 0.00450\n",
      "\n",
      "Epoch 105: val_loss did not improve from 0.00450\n",
      "\n",
      "Epoch 106: val_loss did not improve from 0.00450\n",
      "\n",
      "Epoch 107: val_loss did not improve from 0.00450\n",
      "\n",
      "Epoch 108: val_loss did not improve from 0.00450\n",
      "\n",
      "Epoch 109: val_loss did not improve from 0.00450\n",
      "\n",
      "Epoch 110: val_loss did not improve from 0.00450\n",
      "\n",
      "Epoch 111: val_loss did not improve from 0.00450\n",
      "\n",
      "Epoch 112: val_loss did not improve from 0.00450\n",
      "\n",
      "Epoch 113: val_loss did not improve from 0.00450\n",
      "\n",
      "Epoch 114: val_loss did not improve from 0.00450\n",
      "\n",
      "Epoch 115: val_loss did not improve from 0.00450\n",
      "\n",
      "Epoch 116: val_loss did not improve from 0.00450\n",
      "\n",
      "Epoch 117: val_loss did not improve from 0.00450\n",
      "\n",
      "Epoch 118: val_loss did not improve from 0.00450\n",
      "\n",
      "Epoch 119: val_loss did not improve from 0.00450\n",
      "\n",
      "Epoch 120: val_loss did not improve from 0.00450\n",
      "\n",
      "Epoch 121: val_loss did not improve from 0.00450\n",
      "\n",
      "Epoch 122: val_loss did not improve from 0.00450\n",
      "\n",
      "Epoch 123: val_loss did not improve from 0.00450\n",
      "\n",
      "Epoch 124: val_loss did not improve from 0.00450\n",
      "\n",
      "Epoch 125: val_loss did not improve from 0.00450\n",
      "\n",
      "Epoch 126: val_loss did not improve from 0.00450\n",
      "\n",
      "Epoch 127: val_loss did not improve from 0.00450\n",
      "\n",
      "Epoch 128: val_loss did not improve from 0.00450\n",
      "\n",
      "Epoch 129: val_loss did not improve from 0.00450\n",
      "\n",
      "Epoch 130: val_loss did not improve from 0.00450\n",
      "\n",
      "Epoch 131: val_loss did not improve from 0.00450\n",
      "\n",
      "Epoch 132: val_loss did not improve from 0.00450\n",
      "\n",
      "Epoch 133: val_loss did not improve from 0.00450\n",
      "\n",
      "Epoch 134: val_loss did not improve from 0.00450\n",
      "\n",
      "Epoch 135: val_loss did not improve from 0.00450\n",
      "\n",
      "Epoch 136: val_loss did not improve from 0.00450\n",
      "\n",
      "Epoch 137: val_loss did not improve from 0.00450\n",
      "\n",
      "Epoch 138: val_loss did not improve from 0.00450\n",
      "\n",
      "Epoch 139: val_loss did not improve from 0.00450\n",
      "\n",
      "Epoch 140: val_loss did not improve from 0.00450\n",
      "\n",
      "Epoch 141: val_loss did not improve from 0.00450\n",
      "\n",
      "Epoch 142: val_loss did not improve from 0.00450\n",
      "\n",
      "Epoch 143: val_loss did not improve from 0.00450\n",
      "\n",
      "Epoch 144: val_loss did not improve from 0.00450\n",
      "\n",
      "Epoch 145: val_loss did not improve from 0.00450\n",
      "\n",
      "Epoch 146: val_loss did not improve from 0.00450\n",
      "\n",
      "Epoch 147: val_loss did not improve from 0.00450\n",
      "\n",
      "Epoch 148: val_loss did not improve from 0.00450\n",
      "\n",
      "Epoch 149: val_loss did not improve from 0.00450\n",
      "\n",
      "Epoch 150: val_loss did not improve from 0.00450\n",
      "\n",
      "Epoch 151: val_loss did not improve from 0.00450\n",
      "\n",
      "Epoch 152: val_loss did not improve from 0.00450\n",
      "\n",
      "Epoch 153: val_loss did not improve from 0.00450\n",
      "\n",
      "Epoch 154: val_loss did not improve from 0.00450\n",
      "\n",
      "Epoch 155: val_loss did not improve from 0.00450\n",
      "\n",
      "Epoch 156: val_loss did not improve from 0.00450\n",
      "\n",
      "Epoch 157: val_loss did not improve from 0.00450\n",
      "\n",
      "Epoch 158: val_loss did not improve from 0.00450\n",
      "\n",
      "Epoch 159: val_loss did not improve from 0.00450\n",
      "\n",
      "Epoch 160: val_loss did not improve from 0.00450\n",
      "\n",
      "Epoch 161: val_loss did not improve from 0.00450\n",
      "\n",
      "Epoch 162: val_loss did not improve from 0.00450\n",
      "\n",
      "Epoch 163: val_loss did not improve from 0.00450\n",
      "\n",
      "Epoch 164: val_loss did not improve from 0.00450\n",
      "\n",
      "Epoch 165: val_loss did not improve from 0.00450\n",
      "Epoch 165: early stopping\n",
      "\u001b[1m19/19\u001b[0m \u001b[32m━━━━━━━━━━━━━━━━━━━━\u001b[0m\u001b[37m\u001b[0m \u001b[1m1s\u001b[0m 27ms/step\n",
      "    timesteps        hl      lr  batch_size  num_epochs            MSE  \\\n",
      "0          30  [40, 35]  0.0010          32         200       0.018166   \n",
      "1          30  [40, 35]  0.0010          32         250       0.502617   \n",
      "2          30  [40, 35]  0.0010          64         200       0.082128   \n",
      "3          30  [40, 35]  0.0010          64         250      19.323725   \n",
      "4          30  [40, 35]  0.0001          32         200      92.451043   \n",
      "5          30  [40, 35]  0.0001          32         250       1.263663   \n",
      "6          30  [40, 35]  0.0001          64         200       0.038086   \n",
      "7          30  [40, 35]  0.0001          64         250       0.040460   \n",
      "8          40  [40, 35]  0.0010          32         200       0.168978   \n",
      "9          40  [40, 35]  0.0010          32         250       0.017970   \n",
      "10         40  [40, 35]  0.0010          64         200       0.082201   \n",
      "11         40  [40, 35]  0.0010          64         250       0.299000   \n",
      "12         40  [40, 35]  0.0001          32         200       1.790999   \n",
      "13         40  [40, 35]  0.0001          32         250     435.573039   \n",
      "14         40  [40, 35]  0.0001          64         200       2.655032   \n",
      "15         40  [40, 35]  0.0001          64         250       4.052959   \n",
      "16         50  [40, 35]  0.0010          32         200       1.981392   \n",
      "17         50  [40, 35]  0.0010          32         250    1052.803603   \n",
      "18         50  [40, 35]  0.0010          64         200  250667.292907   \n",
      "19         50  [40, 35]  0.0010          64         250       0.033993   \n",
      "20         50  [40, 35]  0.0001          32         200       0.385948   \n",
      "21         50  [40, 35]  0.0001          32         250       0.117378   \n",
      "22         50  [40, 35]  0.0001          64         200       0.163681   \n",
      "23         50  [40, 35]  0.0001          64         250       0.309909   \n",
      "\n",
      "          RMSE       MAPE            R²  \n",
      "0     0.134782   0.063126  7.814172e-01  \n",
      "1     0.708955   0.392959 -5.047723e+00  \n",
      "2     0.286581   0.163733  1.179283e-02  \n",
      "3     4.395876   2.413806 -2.315120e+02  \n",
      "4     9.615147   4.612546 -1.111414e+03  \n",
      "5     1.124128   0.533471 -1.420498e+01  \n",
      "6     0.195155   0.101154  5.417374e-01  \n",
      "7     0.201147   0.114375  5.131663e-01  \n",
      "8     0.411070   0.216199 -1.092007e+00  \n",
      "9     0.134053   0.083376  7.775234e-01  \n",
      "10    0.286707   0.153126 -1.767662e-02  \n",
      "11    0.546809   0.296422 -2.701726e+00  \n",
      "12    1.338282   0.684410 -2.117316e+01  \n",
      "13   20.870387   8.975707 -5.391540e+03  \n",
      "14    1.629427   0.688026 -3.187018e+01  \n",
      "15    2.013196   0.904592 -4.917699e+01  \n",
      "16    1.407619   0.673821 -2.484881e+01  \n",
      "17   32.446935   2.561094 -1.373364e+04  \n",
      "18  500.666848  56.852633 -3.270149e+06  \n",
      "19    0.184373   0.095950  5.565289e-01  \n",
      "20    0.621247   0.297732 -4.034988e+00  \n",
      "21    0.342605   0.160287 -5.312868e-01  \n",
      "22    0.404575   0.157158 -1.135344e+00  \n",
      "23    0.556695   0.270997 -3.043007e+00  \n",
      "Best parameters: {'timesteps': 40, 'hl': [40, 35], 'lr': 0.001, 'batch_size': 32, 'num_epochs': 250}\n",
      "Best RMSE score: 0.13405281686277914\n"
     ]
    }
   ],
   "source": [
    "best_params, best_score, results_df = grid_search_rnn(train, val, test, param_grid)\n",
    "\n",
    "print(results_df)\n",
    "print(\"Best parameters:\", best_params)\n",
    "print(\"Best RMSE score:\", best_score)"
   ]
  },
  {
   "cell_type": "markdown",
   "metadata": {},
   "source": [
    "### Bước 5: Huấn luyện mô hình với bộ tham số tối ưu"
   ]
  },
  {
   "cell_type": "code",
   "execution_count": 26,
   "metadata": {},
   "outputs": [
    {
     "name": "stderr",
     "output_type": "stream",
     "text": [
      "c:\\Users\\84368\\AppData\\Local\\Programs\\Python\\Python311\\Lib\\site-packages\\keras\\src\\layers\\rnn\\rnn.py:200: UserWarning: Do not pass an `input_shape`/`input_dim` argument to a layer. When using Sequential models, prefer using an `Input(shape)` object as the first layer in the model instead.\n",
      "  super().__init__(**kwargs)\n"
     ]
    },
    {
     "name": "stdout",
     "output_type": "stream",
     "text": [
      "\n",
      "Epoch 1: val_loss improved from inf to 0.39539, saving model to 10Var_hpg_lstm.h5\n"
     ]
    },
    {
     "name": "stderr",
     "output_type": "stream",
     "text": [
      "WARNING:absl:You are saving your model as an HDF5 file via `model.save()` or `keras.saving.save_model(model)`. This file format is considered legacy. We recommend using instead the native Keras format, e.g. `model.save('my_model.keras')` or `keras.saving.save_model(model, 'my_model.keras')`. \n"
     ]
    },
    {
     "name": "stdout",
     "output_type": "stream",
     "text": [
      "\n",
      "Epoch 2: val_loss did not improve from 0.39539\n",
      "\n",
      "Epoch 3: val_loss improved from 0.39539 to 0.36036, saving model to 10Var_hpg_lstm.h5\n"
     ]
    },
    {
     "name": "stderr",
     "output_type": "stream",
     "text": [
      "WARNING:absl:You are saving your model as an HDF5 file via `model.save()` or `keras.saving.save_model(model)`. This file format is considered legacy. We recommend using instead the native Keras format, e.g. `model.save('my_model.keras')` or `keras.saving.save_model(model, 'my_model.keras')`. \n"
     ]
    },
    {
     "name": "stdout",
     "output_type": "stream",
     "text": [
      "\n",
      "Epoch 4: val_loss improved from 0.36036 to 0.29609, saving model to 10Var_hpg_lstm.h5\n"
     ]
    },
    {
     "name": "stderr",
     "output_type": "stream",
     "text": [
      "WARNING:absl:You are saving your model as an HDF5 file via `model.save()` or `keras.saving.save_model(model)`. This file format is considered legacy. We recommend using instead the native Keras format, e.g. `model.save('my_model.keras')` or `keras.saving.save_model(model, 'my_model.keras')`. \n"
     ]
    },
    {
     "name": "stdout",
     "output_type": "stream",
     "text": [
      "\n",
      "Epoch 5: val_loss improved from 0.29609 to 0.15478, saving model to 10Var_hpg_lstm.h5\n"
     ]
    },
    {
     "name": "stderr",
     "output_type": "stream",
     "text": [
      "WARNING:absl:You are saving your model as an HDF5 file via `model.save()` or `keras.saving.save_model(model)`. This file format is considered legacy. We recommend using instead the native Keras format, e.g. `model.save('my_model.keras')` or `keras.saving.save_model(model, 'my_model.keras')`. \n"
     ]
    },
    {
     "name": "stdout",
     "output_type": "stream",
     "text": [
      "\n",
      "Epoch 6: val_loss improved from 0.15478 to 0.09551, saving model to 10Var_hpg_lstm.h5\n"
     ]
    },
    {
     "name": "stderr",
     "output_type": "stream",
     "text": [
      "WARNING:absl:You are saving your model as an HDF5 file via `model.save()` or `keras.saving.save_model(model)`. This file format is considered legacy. We recommend using instead the native Keras format, e.g. `model.save('my_model.keras')` or `keras.saving.save_model(model, 'my_model.keras')`. \n"
     ]
    },
    {
     "name": "stdout",
     "output_type": "stream",
     "text": [
      "\n",
      "Epoch 7: val_loss did not improve from 0.09551\n",
      "\n",
      "Epoch 8: val_loss did not improve from 0.09551\n",
      "\n",
      "Epoch 9: val_loss improved from 0.09551 to 0.07028, saving model to 10Var_hpg_lstm.h5\n"
     ]
    },
    {
     "name": "stderr",
     "output_type": "stream",
     "text": [
      "WARNING:absl:You are saving your model as an HDF5 file via `model.save()` or `keras.saving.save_model(model)`. This file format is considered legacy. We recommend using instead the native Keras format, e.g. `model.save('my_model.keras')` or `keras.saving.save_model(model, 'my_model.keras')`. \n"
     ]
    },
    {
     "name": "stdout",
     "output_type": "stream",
     "text": [
      "\n",
      "Epoch 10: val_loss improved from 0.07028 to 0.05181, saving model to 10Var_hpg_lstm.h5\n"
     ]
    },
    {
     "name": "stderr",
     "output_type": "stream",
     "text": [
      "WARNING:absl:You are saving your model as an HDF5 file via `model.save()` or `keras.saving.save_model(model)`. This file format is considered legacy. We recommend using instead the native Keras format, e.g. `model.save('my_model.keras')` or `keras.saving.save_model(model, 'my_model.keras')`. \n"
     ]
    },
    {
     "name": "stdout",
     "output_type": "stream",
     "text": [
      "\n",
      "Epoch 11: val_loss did not improve from 0.05181\n",
      "\n",
      "Epoch 12: val_loss did not improve from 0.05181\n",
      "\n",
      "Epoch 13: val_loss did not improve from 0.05181\n",
      "\n",
      "Epoch 14: val_loss did not improve from 0.05181\n",
      "\n",
      "Epoch 15: val_loss did not improve from 0.05181\n",
      "\n",
      "Epoch 16: val_loss did not improve from 0.05181\n",
      "\n",
      "Epoch 17: val_loss did not improve from 0.05181\n",
      "\n",
      "Epoch 18: val_loss improved from 0.05181 to 0.04220, saving model to 10Var_hpg_lstm.h5\n"
     ]
    },
    {
     "name": "stderr",
     "output_type": "stream",
     "text": [
      "WARNING:absl:You are saving your model as an HDF5 file via `model.save()` or `keras.saving.save_model(model)`. This file format is considered legacy. We recommend using instead the native Keras format, e.g. `model.save('my_model.keras')` or `keras.saving.save_model(model, 'my_model.keras')`. \n"
     ]
    },
    {
     "name": "stdout",
     "output_type": "stream",
     "text": [
      "\n",
      "Epoch 19: val_loss improved from 0.04220 to 0.02960, saving model to 10Var_hpg_lstm.h5\n"
     ]
    },
    {
     "name": "stderr",
     "output_type": "stream",
     "text": [
      "WARNING:absl:You are saving your model as an HDF5 file via `model.save()` or `keras.saving.save_model(model)`. This file format is considered legacy. We recommend using instead the native Keras format, e.g. `model.save('my_model.keras')` or `keras.saving.save_model(model, 'my_model.keras')`. \n"
     ]
    },
    {
     "name": "stdout",
     "output_type": "stream",
     "text": [
      "\n",
      "Epoch 20: val_loss did not improve from 0.02960\n",
      "\n",
      "Epoch 21: val_loss did not improve from 0.02960\n",
      "\n",
      "Epoch 22: val_loss did not improve from 0.02960\n",
      "\n",
      "Epoch 23: val_loss did not improve from 0.02960\n",
      "\n",
      "Epoch 24: val_loss did not improve from 0.02960\n",
      "\n",
      "Epoch 25: val_loss did not improve from 0.02960\n",
      "\n",
      "Epoch 26: val_loss did not improve from 0.02960\n",
      "\n",
      "Epoch 27: val_loss did not improve from 0.02960\n",
      "\n",
      "Epoch 28: val_loss did not improve from 0.02960\n",
      "\n",
      "Epoch 29: val_loss did not improve from 0.02960\n",
      "\n",
      "Epoch 30: val_loss did not improve from 0.02960\n",
      "\n",
      "Epoch 31: val_loss did not improve from 0.02960\n",
      "\n",
      "Epoch 32: val_loss did not improve from 0.02960\n",
      "\n",
      "Epoch 33: val_loss did not improve from 0.02960\n",
      "\n",
      "Epoch 34: val_loss did not improve from 0.02960\n",
      "\n",
      "Epoch 35: val_loss did not improve from 0.02960\n",
      "\n",
      "Epoch 36: val_loss did not improve from 0.02960\n",
      "\n",
      "Epoch 37: val_loss did not improve from 0.02960\n",
      "\n",
      "Epoch 38: val_loss did not improve from 0.02960\n",
      "\n",
      "Epoch 39: val_loss did not improve from 0.02960\n",
      "\n",
      "Epoch 40: val_loss did not improve from 0.02960\n",
      "\n",
      "Epoch 41: val_loss did not improve from 0.02960\n",
      "\n",
      "Epoch 42: val_loss did not improve from 0.02960\n",
      "\n",
      "Epoch 43: val_loss did not improve from 0.02960\n",
      "\n",
      "Epoch 44: val_loss did not improve from 0.02960\n",
      "\n",
      "Epoch 45: val_loss did not improve from 0.02960\n",
      "\n",
      "Epoch 46: val_loss did not improve from 0.02960\n",
      "\n",
      "Epoch 47: val_loss did not improve from 0.02960\n",
      "\n",
      "Epoch 48: val_loss did not improve from 0.02960\n",
      "\n",
      "Epoch 49: val_loss did not improve from 0.02960\n",
      "\n",
      "Epoch 50: val_loss did not improve from 0.02960\n",
      "\n",
      "Epoch 51: val_loss did not improve from 0.02960\n",
      "\n",
      "Epoch 52: val_loss did not improve from 0.02960\n",
      "\n",
      "Epoch 53: val_loss did not improve from 0.02960\n",
      "\n",
      "Epoch 54: val_loss did not improve from 0.02960\n",
      "\n",
      "Epoch 55: val_loss did not improve from 0.02960\n",
      "\n",
      "Epoch 56: val_loss did not improve from 0.02960\n",
      "\n",
      "Epoch 57: val_loss did not improve from 0.02960\n",
      "\n",
      "Epoch 58: val_loss did not improve from 0.02960\n",
      "\n",
      "Epoch 59: val_loss did not improve from 0.02960\n",
      "\n",
      "Epoch 60: val_loss did not improve from 0.02960\n",
      "\n",
      "Epoch 61: val_loss did not improve from 0.02960\n",
      "\n",
      "Epoch 62: val_loss did not improve from 0.02960\n",
      "\n",
      "Epoch 63: val_loss did not improve from 0.02960\n",
      "\n",
      "Epoch 64: val_loss did not improve from 0.02960\n",
      "\n",
      "Epoch 65: val_loss did not improve from 0.02960\n",
      "\n",
      "Epoch 66: val_loss did not improve from 0.02960\n",
      "\n",
      "Epoch 67: val_loss did not improve from 0.02960\n",
      "\n",
      "Epoch 68: val_loss did not improve from 0.02960\n",
      "\n",
      "Epoch 69: val_loss did not improve from 0.02960\n",
      "\n",
      "Epoch 70: val_loss did not improve from 0.02960\n",
      "\n",
      "Epoch 71: val_loss did not improve from 0.02960\n",
      "\n",
      "Epoch 72: val_loss did not improve from 0.02960\n",
      "\n",
      "Epoch 73: val_loss did not improve from 0.02960\n",
      "\n",
      "Epoch 74: val_loss did not improve from 0.02960\n",
      "\n",
      "Epoch 75: val_loss did not improve from 0.02960\n",
      "\n",
      "Epoch 76: val_loss did not improve from 0.02960\n",
      "\n",
      "Epoch 77: val_loss did not improve from 0.02960\n",
      "\n",
      "Epoch 78: val_loss did not improve from 0.02960\n",
      "\n",
      "Epoch 79: val_loss did not improve from 0.02960\n",
      "\n",
      "Epoch 80: val_loss did not improve from 0.02960\n",
      "\n",
      "Epoch 81: val_loss improved from 0.02960 to 0.01642, saving model to 10Var_hpg_lstm.h5\n"
     ]
    },
    {
     "name": "stderr",
     "output_type": "stream",
     "text": [
      "WARNING:absl:You are saving your model as an HDF5 file via `model.save()` or `keras.saving.save_model(model)`. This file format is considered legacy. We recommend using instead the native Keras format, e.g. `model.save('my_model.keras')` or `keras.saving.save_model(model, 'my_model.keras')`. \n"
     ]
    },
    {
     "name": "stdout",
     "output_type": "stream",
     "text": [
      "\n",
      "Epoch 82: val_loss did not improve from 0.01642\n",
      "\n",
      "Epoch 83: val_loss did not improve from 0.01642\n",
      "\n",
      "Epoch 84: val_loss did not improve from 0.01642\n",
      "\n",
      "Epoch 85: val_loss did not improve from 0.01642\n",
      "\n",
      "Epoch 86: val_loss did not improve from 0.01642\n",
      "\n",
      "Epoch 87: val_loss did not improve from 0.01642\n",
      "\n",
      "Epoch 88: val_loss did not improve from 0.01642\n",
      "\n",
      "Epoch 89: val_loss did not improve from 0.01642\n",
      "\n",
      "Epoch 90: val_loss did not improve from 0.01642\n",
      "\n",
      "Epoch 91: val_loss did not improve from 0.01642\n",
      "\n",
      "Epoch 92: val_loss did not improve from 0.01642\n",
      "\n",
      "Epoch 93: val_loss did not improve from 0.01642\n",
      "\n",
      "Epoch 94: val_loss did not improve from 0.01642\n",
      "\n",
      "Epoch 95: val_loss did not improve from 0.01642\n",
      "\n",
      "Epoch 96: val_loss did not improve from 0.01642\n",
      "\n",
      "Epoch 97: val_loss did not improve from 0.01642\n",
      "\n",
      "Epoch 98: val_loss did not improve from 0.01642\n",
      "\n",
      "Epoch 99: val_loss did not improve from 0.01642\n",
      "\n",
      "Epoch 100: val_loss did not improve from 0.01642\n",
      "\n",
      "Epoch 101: val_loss did not improve from 0.01642\n",
      "\n",
      "Epoch 102: val_loss did not improve from 0.01642\n",
      "\n",
      "Epoch 103: val_loss did not improve from 0.01642\n",
      "\n",
      "Epoch 104: val_loss did not improve from 0.01642\n",
      "\n",
      "Epoch 105: val_loss did not improve from 0.01642\n",
      "\n",
      "Epoch 106: val_loss did not improve from 0.01642\n",
      "\n",
      "Epoch 107: val_loss did not improve from 0.01642\n",
      "\n",
      "Epoch 108: val_loss did not improve from 0.01642\n",
      "\n",
      "Epoch 109: val_loss did not improve from 0.01642\n",
      "\n",
      "Epoch 110: val_loss did not improve from 0.01642\n",
      "\n",
      "Epoch 111: val_loss did not improve from 0.01642\n",
      "\n",
      "Epoch 112: val_loss did not improve from 0.01642\n",
      "\n",
      "Epoch 113: val_loss did not improve from 0.01642\n",
      "\n",
      "Epoch 114: val_loss did not improve from 0.01642\n",
      "\n",
      "Epoch 115: val_loss did not improve from 0.01642\n",
      "\n",
      "Epoch 116: val_loss did not improve from 0.01642\n",
      "\n",
      "Epoch 117: val_loss did not improve from 0.01642\n",
      "\n",
      "Epoch 118: val_loss did not improve from 0.01642\n",
      "\n",
      "Epoch 119: val_loss did not improve from 0.01642\n",
      "\n",
      "Epoch 120: val_loss did not improve from 0.01642\n",
      "\n",
      "Epoch 121: val_loss did not improve from 0.01642\n",
      "\n",
      "Epoch 122: val_loss did not improve from 0.01642\n",
      "\n",
      "Epoch 123: val_loss did not improve from 0.01642\n",
      "\n",
      "Epoch 124: val_loss did not improve from 0.01642\n",
      "\n",
      "Epoch 125: val_loss did not improve from 0.01642\n",
      "\n",
      "Epoch 126: val_loss did not improve from 0.01642\n",
      "\n",
      "Epoch 127: val_loss did not improve from 0.01642\n",
      "\n",
      "Epoch 128: val_loss did not improve from 0.01642\n",
      "\n",
      "Epoch 129: val_loss did not improve from 0.01642\n",
      "\n",
      "Epoch 130: val_loss did not improve from 0.01642\n",
      "\n",
      "Epoch 131: val_loss did not improve from 0.01642\n",
      "\n",
      "Epoch 132: val_loss did not improve from 0.01642\n",
      "\n",
      "Epoch 133: val_loss did not improve from 0.01642\n",
      "\n",
      "Epoch 134: val_loss did not improve from 0.01642\n",
      "\n",
      "Epoch 135: val_loss did not improve from 0.01642\n",
      "\n",
      "Epoch 136: val_loss did not improve from 0.01642\n",
      "\n",
      "Epoch 137: val_loss did not improve from 0.01642\n",
      "\n",
      "Epoch 138: val_loss did not improve from 0.01642\n",
      "\n",
      "Epoch 139: val_loss did not improve from 0.01642\n",
      "\n",
      "Epoch 140: val_loss did not improve from 0.01642\n",
      "\n",
      "Epoch 141: val_loss did not improve from 0.01642\n",
      "\n",
      "Epoch 142: val_loss did not improve from 0.01642\n",
      "\n",
      "Epoch 143: val_loss did not improve from 0.01642\n",
      "\n",
      "Epoch 144: val_loss did not improve from 0.01642\n",
      "\n",
      "Epoch 145: val_loss did not improve from 0.01642\n",
      "\n",
      "Epoch 146: val_loss did not improve from 0.01642\n",
      "\n",
      "Epoch 147: val_loss did not improve from 0.01642\n",
      "\n",
      "Epoch 148: val_loss did not improve from 0.01642\n",
      "\n",
      "Epoch 149: val_loss did not improve from 0.01642\n",
      "\n",
      "Epoch 150: val_loss did not improve from 0.01642\n",
      "\n",
      "Epoch 151: val_loss did not improve from 0.01642\n",
      "\n",
      "Epoch 152: val_loss did not improve from 0.01642\n",
      "\n",
      "Epoch 153: val_loss did not improve from 0.01642\n",
      "\n",
      "Epoch 154: val_loss did not improve from 0.01642\n",
      "\n",
      "Epoch 155: val_loss did not improve from 0.01642\n",
      "\n",
      "Epoch 156: val_loss did not improve from 0.01642\n",
      "\n",
      "Epoch 157: val_loss did not improve from 0.01642\n",
      "\n",
      "Epoch 158: val_loss did not improve from 0.01642\n",
      "\n",
      "Epoch 159: val_loss did not improve from 0.01642\n",
      "\n",
      "Epoch 160: val_loss did not improve from 0.01642\n",
      "\n",
      "Epoch 161: val_loss did not improve from 0.01642\n",
      "Epoch 161: early stopping\n"
     ]
    }
   ],
   "source": [
    "timesteps = 40\n",
    "hl = [40, 35]\n",
    "lr = 1e-3\n",
    "batch_size = 32\n",
    "num_epochs = 250\n",
    "\n",
    "model, train_error, val_error = fit_model_4(train, val, timesteps, hl, lr, batch_size, num_epochs)"
   ]
  },
  {
   "cell_type": "markdown",
   "metadata": {},
   "source": [
    "### Bước 6: Đánh giá mô hình và trực quan hóa kết quả"
   ]
  },
  {
   "cell_type": "markdown",
   "metadata": {},
   "source": [
    "#### 6.1. Vẽ biểu đồ train_loss và val_loss"
   ]
  },
  {
   "cell_type": "code",
   "execution_count": 27,
   "metadata": {},
   "outputs": [
    {
     "data": {
      "image/png": "[encoded data removed]",
      "text/plain": [
       "<Figure size 640x480 with 1 Axes>"
      ]
     },
     "metadata": {},
     "output_type": "display_data"
    }
   ],
   "source": [
    "plot_error(train_error, val_error)"
   ]
  },
  {
   "cell_type": "markdown",
   "metadata": {},
   "source": [
    "#### 6.2. Đánh giá mô hình trên tập test"
   ]
  },
  {
   "cell_type": "code",
   "execution_count": 28,
   "metadata": {},
   "outputs": [
    {
     "name": "stdout",
     "output_type": "stream",
     "text": [
      "\u001b[1m19/19\u001b[0m \u001b[32m━━━━━━━━━━━━━━━━━━━━\u001b[0m\u001b[37m\u001b[0m \u001b[1m2s\u001b[0m 35ms/step\n"
     ]
    }
   ],
   "source": [
    "mse, rmse, mape, r2, true, predicted = evaluate_model_4(model, test, timesteps)"
   ]
  },
  {
   "cell_type": "code",
   "execution_count": 31,
   "metadata": {},
   "outputs": [
    {
     "name": "stdout",
     "output_type": "stream",
     "text": [
      "MSE = 0.3025234036292122\n",
      "RMSE = 0.5500212756150549\n",
      "MAPE = 0.2892431515809715\n",
      "R-Squared Score = -2.7453408595001494\n"
     ]
    }
   ],
   "source": [
    "print('MSE = {}'.format(mse))\n",
    "print('RMSE = {}'.format(rmse))\n",
    "print('MAPE = {}'.format(mape))\n",
    "print('R-Squared Score = {}'.format(r2))"
   ]
  },
  {
   "cell_type": "markdown",
   "metadata": {},
   "source": [
    "#### 6.3. Vẽ đồ thị dự đoán vs thực tế"
   ]
  },
  {
   "cell_type": "code",
   "execution_count": 32,
   "metadata": {},
   "outputs": [
    {
     "data": {
      "image/png": "[encoded data removed]",
      "text/plain": [
       "<Figure size 640x480 with 1 Axes>"
      ]
     },
     "metadata": {},
     "output_type": "display_data"
    }
   ],
   "source": [
    "plot_data_4(true, predicted)"
   ]
  },
  {
   "cell_type": "code",
   "execution_count": 39,
   "metadata": {},
   "outputs": [],
   "source": [
    "# Save a model\n",
    "model.save('10VAR-hpg-lstm.keras')"
   ]
  },
  {
   "cell_type": "code",
   "execution_count": null,
   "metadata": {},
   "outputs": [],
   "source": [
    "del model"
   ]
  }
 ],
 "metadata": {
  "kernelspec": {
   "display_name": "Python 3",
   "language": "python",
   "name": "python3"
  },
  "language_info": {
   "codemirror_mode": {
    "name": "ipython",
    "version": 3
   },
   "file_extension": ".py",
   "mimetype": "text/x-python",
   "name": "python",
   "nbconvert_exporter": "python",
   "pygments_lexer": "ipython3",
   "version": "3.11.6"
  }
 },
 "nbformat": 4,
 "nbformat_minor": 2
}
