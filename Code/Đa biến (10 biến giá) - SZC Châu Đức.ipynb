{
 "cells": [
  {
   "cell_type": "markdown",
   "metadata": {},
   "source": [
    "# Model 1: Multivariate-3-RNN"
   ]
  },
  {
   "cell_type": "markdown",
   "metadata": {},
   "source": [
    "## RNN"
   ]
  },
  {
   "cell_type": "markdown",
   "metadata": {},
   "source": [
    "### Import các thư viện cần thiết"
   ]
  },
  {
   "cell_type": "code",
   "execution_count": 1,
   "metadata": {},
   "outputs": [],
   "source": [
    "import os\n",
    "os.environ['PYTHONHASHSEED'] = '0' # đảm bảo rằng các giá trị băm của đối tượng bất biến (dict, set, chuỗi, tuple...) luôn giống nhau giữa các lần chạy\n",
    "\n",
    "import random as rn\n",
    "import numpy as np\n",
    "np.random.seed(1)\n",
    "rn.seed(3)\n",
    "import tensorflow as tf\n",
    "tf.random.set_seed(2)"
   ]
  },
  {
   "cell_type": "code",
   "execution_count": 2,
   "metadata": {},
   "outputs": [],
   "source": [
    "import sys\n",
    "import numpy as np\n",
    "import pandas as pd\n",
    "import matplotlib.pyplot as plt"
   ]
  },
  {
   "cell_type": "code",
   "execution_count": 3,
   "metadata": {},
   "outputs": [],
   "source": [
    "import tensorflow as tf\n",
    "from tensorflow.keras.models import Sequential, load_model\n",
    "from tensorflow.keras.layers import Dense, SimpleRNN, LSTM, Dropout\n",
    "from tensorflow.keras import optimizers"
   ]
  },
  {
   "cell_type": "code",
   "execution_count": 4,
   "metadata": {},
   "outputs": [],
   "source": [
    "from tensorflow.keras.callbacks import EarlyStopping, ModelCheckpoint\n",
    "from sklearn.preprocessing import MinMaxScaler\n",
    "from sklearn.metrics import mean_squared_error, r2_score, mean_absolute_percentage_error\n",
    "from math import sqrt\n",
    "import datetime as dt\n",
    "import time\n",
    "\n",
    "from tensorflow.keras.optimizers import Adam"
   ]
  },
  {
   "cell_type": "code",
   "execution_count": 5,
   "metadata": {},
   "outputs": [],
   "source": [
    "plt.style.use('ggplot')"
   ]
  },
  {
   "cell_type": "markdown",
   "metadata": {},
   "source": [
    "### Hàm callback"
   ]
  },
  {
   "cell_type": "code",
   "execution_count": 6,
   "metadata": {},
   "outputs": [],
   "source": [
    "earlystop = EarlyStopping(monitor='val_loss', min_delta=0.0001, patience=80,  verbose=1, mode='min')  \n",
    "checkpoint = ModelCheckpoint(\n",
    "    filepath=\"10Var-szc-rnn.h5\",   # Tên file lưu mô hình\n",
    "    monitor=\"val_loss\",         # Theo dõi val_loss\n",
    "    save_best_only=True,        # Chỉ lưu khi tốt hơn mô hình trước đó\n",
    "    mode=\"min\",                 # Giảm min của val_loss là tốt nhất\n",
    "    verbose=1\n",
    ")\n",
    "callbacks_list = [earlystop, checkpoint] "
   ]
  },
  {
   "cell_type": "markdown",
   "metadata": {},
   "source": [
    "### Đọc dữ liệu từ file csv"
   ]
  },
  {
   "cell_type": "code",
   "execution_count": null,
   "metadata": {},
   "outputs": [],
   "source": [
    "url = r\"SZC_stock_data.csv\"\n",
    "df = pd.read_csv(url, parse_dates= True, index_col= 0)"
   ]
  },
  {
   "cell_type": "code",
   "execution_count": 8,
   "metadata": {},
   "outputs": [
    {
     "name": "stdout",
     "output_type": "stream",
     "text": [
      "<bound method NDFrame.head of              open   high    low  close   volume\n",
      "time                                           \n",
      "2019-01-15   8.97   8.97   6.58   6.58   109570\n",
      "2019-01-16   6.58   7.03   6.58   7.03    27940\n",
      "2019-01-17   7.51   7.51   7.51   7.51   119080\n",
      "2019-01-18   7.84   7.89   7.51   7.51    50480\n",
      "2019-01-21   7.51   7.51   7.12   7.12    13560\n",
      "...           ...    ...    ...    ...      ...\n",
      "2024-03-14  44.25  45.32  43.33  43.86  2243970\n",
      "2024-03-15  43.67  43.86  42.94  43.86  2592889\n",
      "2024-03-18  43.81  43.81  40.79  41.13  3896580\n",
      "2024-03-19  41.42  41.62  40.79  41.38  1409570\n",
      "2024-03-20  41.33  42.40  40.99  42.06  1099459\n",
      "\n",
      "[1293 rows x 5 columns]>\n"
     ]
    }
   ],
   "source": [
    "print(df.head)"
   ]
  },
  {
   "cell_type": "code",
   "execution_count": 9,
   "metadata": {},
   "outputs": [
    {
     "name": "stdout",
     "output_type": "stream",
     "text": [
      "open      0\n",
      "high      0\n",
      "low       0\n",
      "close     0\n",
      "volume    0\n",
      "dtype: int64\n"
     ]
    }
   ],
   "source": [
    "print(df.isnull().sum())"
   ]
  },
  {
   "cell_type": "markdown",
   "metadata": {},
   "source": [
    "### Tiền xử lí dữ liệu"
   ]
  },
  {
   "cell_type": "code",
   "execution_count": 10,
   "metadata": {},
   "outputs": [],
   "source": [
    "# Xóa các dòng có giá trị Volume bằng 0\n",
    "df.drop(df[df['volume']==0].index, inplace=True)"
   ]
  },
  {
   "cell_type": "code",
   "execution_count": 11,
   "metadata": {},
   "outputs": [
    {
     "data": {
      "text/plain": [
       "open      0.997768\n",
       "high      0.999022\n",
       "low       0.998935\n",
       "close     1.000000\n",
       "volume    0.444012\n",
       "Name: close, dtype: float64"
      ]
     },
     "execution_count": 11,
     "metadata": {},
     "output_type": "execute_result"
    }
   ],
   "source": [
    "# Ma trận tương quan (ở đây là Pearson tương quan tuyến tính)\n",
    "df.corr()['close']"
   ]
  },
  {
   "cell_type": "code",
   "execution_count": 12,
   "metadata": {},
   "outputs": [
    {
     "name": "stdout",
     "output_type": "stream",
     "text": [
      "count    1.293000e+03\n",
      "mean     9.618657e+05\n",
      "std      7.256608e+05\n",
      "min      2.400000e+02\n",
      "25%      4.538290e+05\n",
      "50%      8.436720e+05\n",
      "75%      1.285800e+06\n",
      "max      4.346420e+06\n",
      "Name: volume, dtype: float64\n"
     ]
    }
   ],
   "source": [
    "#  Tính toán các thống kê mô tả như trung bình (mean), độ lệch chuẩn (std), min, max, phần trăm phân vị (25%, 50%, 75%).\n",
    "print(df.describe().volume) # Giúp kiểm tra phân bố của Volume, phát hiện các giá trị bất thường (outliers)."
   ]
  },
  {
   "cell_type": "code",
   "execution_count": 13,
   "metadata": {},
   "outputs": [
    {
     "data": {
      "text/plain": [
       "<Axes: >"
      ]
     },
     "execution_count": 13,
     "metadata": {},
     "output_type": "execute_result"
    },
    {
     "data": {
      "image/png": "[encoded data removed]",
      "text/plain": [
       "<Figure size 640x480 with 1 Axes>"
      ]
     },
     "metadata": {},
     "output_type": "display_data"
    }
   ],
   "source": [
    "# Vẽ biểu đồ tần suất của Volume\n",
    "df['volume'].hist(bins=10)"
   ]
  },
  {
   "cell_type": "markdown",
   "metadata": {},
   "source": [
    "**Phân tích phân bố dữ liệu Volume bằng Histogram**  \n",
    "\n",
    "🔹 `.hist(bins=10)`  \n",
    "- Vẽ **biểu đồ histogram** của cột `Volume` với **10 bins (nhóm dữ liệu)**.  \n",
    "- Giúp trực quan hóa **phân bố dữ liệu**, phát hiện sự **lệch** (skewness) và **giá trị ngoại lai** (outliers).  \n",
    "\n",
    "**Ý nghĩa của biểu đồ histogram**  \n",
    "\n",
    "- **Nếu phân bố lệch phải (right-skewed)** → Dữ liệu có nhiều giá trị nhỏ, một số giá trị rất lớn.  \n",
    "- **Nếu phân bố lệch trái (left-skewed)** → Dữ liệu có nhiều giá trị lớn, một số giá trị rất nhỏ.  \n",
    "- **Nếu có outliers (điểm nằm xa tập trung chính)** → Có thể cần xử lý như **loại bỏ** hoặc **chuẩn hóa dữ liệu**.  \n",
    "\n",
    "**Cách xử lý dữ liệu lệch/skewed**  \n",
    "\n",
    "✅ **Log Transformation** → Dùng `np.log1p(Volume)` để giảm độ lệch.  \n",
    "✅ **Scaling** → Dùng `MinMaxScaler()` hoặc `StandardScaler()` để chuẩn hóa.  \n",
    "✅ **Xử lý outliers** → Loại bỏ hoặc thay thế bằng **giá trị trung bình/median**.  \n"
   ]
  },
  {
   "cell_type": "code",
   "execution_count": 14,
   "metadata": {},
   "outputs": [],
   "source": [
    "# Bổ sung các chỉ báo kĩ thuật\n",
    "\n",
    "# Tính CMA10\n",
    "df['CMA10'] = df['close'].rolling(window=10, center=True).mean()\n",
    "# Tính SMA10\n",
    "df['SMA10'] = df['close'].rolling(window=10).mean()\n",
    "# Tính SMA50\n",
    "df['SMA50'] = df['close'].rolling(window=50).mean()\n",
    "# Tính EMA12 và EMA26\n",
    "df['EMA12'] = df['close'].ewm(span=12, adjust=False).mean()\n",
    "df['EMA26'] = df['close'].ewm(span=26, adjust=False).mean()\n",
    "# Tính MACD\n",
    "df['MACD'] = df['EMA12'] - df['EMA26']\n",
    "#Tính RSI\n",
    "# Tính giá tăng/giảm\n",
    "delta = df['close'].diff()\n",
    "\n",
    "# Tính giá tăng\n",
    "gain = delta.where(delta > 0, 0)\n",
    "\n",
    "# Tính giá giảm\n",
    "loss = -delta.where(delta < 0, 0)\n",
    "\n",
    "# Tính trung bình động\n",
    "avg_gain = gain.rolling(window=14).mean()\n",
    "avg_loss = loss.rolling(window=14).mean()\n",
    "\n",
    "# Tính RS và RSI\n",
    "rs = avg_gain / avg_loss\n",
    "df['RSI'] = 100 - (100 / (1 + rs))\n",
    "\n",
    "#Tính CCI\n",
    "# Tính giá trung bình\n",
    "typical_price = (df['high'] + df['low'] + df['close']) / 3\n",
    "\n",
    "# Tính SMA của giá trung bình\n",
    "sma_typical_price = typical_price.rolling(window=20).mean()\n",
    "\n",
    "# Tính độ lệch chuẩn\n",
    "mean_deviation = typical_price.rolling(window=20).apply(lambda x: np.mean(np.abs(x - x.mean())))\n",
    "\n",
    "# Tính CCI\n",
    "df['CCI'] = (typical_price - sma_typical_price) / (0.015 * mean_deviation)\n",
    "# Tính %K và %D\n",
    "low_min = df['low'].rolling(window=14).min()\n",
    "high_max = df['high'].rolling(window=14).max()\n",
    "\n",
    "df['%K'] = 100 * (df['close'] - low_min) / (high_max - low_min)\n",
    "df['%D'] = df['%K'].rolling(window=3).mean()"
   ]
  },
  {
   "cell_type": "code",
   "execution_count": 15,
   "metadata": {},
   "outputs": [
    {
     "name": "stdout",
     "output_type": "stream",
     "text": [
      "            open  high   low  close  volume  CMA10  SMA10  SMA50     EMA12  \\\n",
      "time                                                                         \n",
      "2019-01-15  8.97  8.97  6.58   6.58  109570    NaN    NaN    NaN  6.580000   \n",
      "2019-01-16  6.58  7.03  6.58   7.03   27940    NaN    NaN    NaN  6.649231   \n",
      "2019-01-17  7.51  7.51  7.51   7.51  119080    NaN    NaN    NaN  6.781657   \n",
      "2019-01-18  7.84  7.89  7.51   7.51   50480    NaN    NaN    NaN  6.893710   \n",
      "2019-01-21  7.51  7.51  7.12   7.12   13560    NaN    NaN    NaN  6.928524   \n",
      "\n",
      "               EMA26      MACD  RSI  CCI  %K  %D  \n",
      "time                                              \n",
      "2019-01-15  6.580000  0.000000  NaN  NaN NaN NaN  \n",
      "2019-01-16  6.613333  0.035897  NaN  NaN NaN NaN  \n",
      "2019-01-17  6.679753  0.101904  NaN  NaN NaN NaN  \n",
      "2019-01-18  6.741253  0.152457  NaN  NaN NaN NaN  \n",
      "2019-01-21  6.769308  0.159215  NaN  NaN NaN NaN  \n"
     ]
    },
    {
     "data": {
      "text/plain": [
       "(1293, 15)"
      ]
     },
     "execution_count": 15,
     "metadata": {},
     "output_type": "execute_result"
    }
   ],
   "source": [
    "print(df.head())\n",
    "df.shape"
   ]
  },
  {
   "cell_type": "markdown",
   "metadata": {},
   "source": [
    "## Train model / Hàm **fit_model_2()**"
   ]
  },
  {
   "cell_type": "code",
   "execution_count": 16,
   "metadata": {},
   "outputs": [],
   "source": [
    "def fit_model_2(train, val, timesteps, hl, lr, batch, epochs):\n",
    "    np.random.seed(1)\n",
    "    tf.random.set_seed(2)\n",
    "    rn.seed(3)\n",
    "\n",
    "    X_train = []\n",
    "    Y_train = []\n",
    "    X_val = []\n",
    "    Y_val = []\n",
    "\n",
    "    # Loop for training data\n",
    "    for i in range(timesteps, train.shape[0]):\n",
    "        X_train.append(train[i-timesteps:i])\n",
    "        Y_train.append(train[i][0])\n",
    "    X_train, Y_train = np.array(X_train), np.array(Y_train)\n",
    "\n",
    "    # Loop for val data\n",
    "    for i in range(timesteps, val.shape[0]):\n",
    "        X_val.append(val[i-timesteps:i])\n",
    "        Y_val.append(val[i][0])\n",
    "    X_val, Y_val = np.array(X_val), np.array(Y_val)\n",
    "\n",
    "    # Adding Layers to the model\n",
    "    model = Sequential()\n",
    "    model.add(SimpleRNN(X_train.shape[2], input_shape = (X_train.shape[1], X_train.shape[2]), activation = 'relu', return_sequences = True))\n",
    "    for i in range(len(hl)-1):\n",
    "        model.add(SimpleRNN(hl[i], activation = 'relu', return_sequences = True))\n",
    "    model.add(SimpleRNN(hl[-1], activation = 'relu'))\n",
    "    model.add(Dense(1))\n",
    "    model.compile(optimizer = optimizers.Adam(learning_rate= lr), loss = 'mean_squared_error')\n",
    "\n",
    "    # Training the data\n",
    "    history = model.fit(X_train, Y_train, epochs = epochs, batch_size = batch, validation_data = (X_val, Y_val), verbose = 0, shuffle = False, callbacks=callbacks_list)\n",
    "    for layer in model.layers:\n",
    "        if isinstance(layer, SimpleRNN):\n",
    "            layer.reset_states() #Đảm bảo mỗi lần huấn luyện không bị ảnh hưởng bởi trạng thái cũ của LSTM.\n",
    "    return model, history.history['loss'], history.history['val_loss']"
   ]
  },
  {
   "cell_type": "markdown",
   "metadata": {},
   "source": [
    "###  Bước 1: Đặt Seed để đảm bảo tính tái lập"
   ]
  },
  {
   "cell_type": "markdown",
   "metadata": {},
   "source": [
    "Giúp đảm bảo mỗi lần chạy chương trình, các giá trị ngẫu nhiên được tạo ra giống nhau, tránh kết quả huấn luyện thay đổi giữa các lần chạy."
   ]
  },
  {
   "cell_type": "code",
   "execution_count": null,
   "metadata": {},
   "outputs": [
    {
     "data": {
      "text/plain": [
       "'\\nnp.random.seed(1)\\ntf.random.set_seed(2)\\nrn.seed(3)\\n'"
      ]
     },
     "execution_count": 162,
     "metadata": {},
     "output_type": "execute_result"
    }
   ],
   "source": [
    "\"\"\"\n",
    "np.random.seed(1)\n",
    "tf.random.set_seed(2)\n",
    "rn.seed(3)\n",
    "\"\"\""
   ]
  },
  {
   "cell_type": "markdown",
   "metadata": {},
   "source": [
    "### Bước 2: Chuẩn bị dữ liệu huấn luyện (train) và kiểm định (val)"
   ]
  },
  {
   "cell_type": "code",
   "execution_count": null,
   "metadata": {},
   "outputs": [
    {
     "data": {
      "text/plain": [
       "'\\nX_train = []\\nY_train = []\\nX_val = []\\nY_val = []\\n\\nfor i in range(timesteps, train.shape[0]):\\n    X_train.append(train[i-timesteps:i])\\n    Y_train.append(train[i][0])\\nX_train, Y_train = np.array(X_train, Y_train)\\n\\nfor i in range(timesteps, val.shape[0]):\\n    X_val.append(val[i-timesteps:i])\\n    Y_val.append(val[i][0])\\nX_val, Y_val = np.array(X_val, Y_val)  \\n'"
      ]
     },
     "execution_count": 163,
     "metadata": {},
     "output_type": "execute_result"
    }
   ],
   "source": [
    "\"\"\"\n",
    "X_train = []\n",
    "Y_train = []\n",
    "X_val = []\n",
    "Y_val = []\n",
    "\n",
    "for i in range(timesteps, train.shape[0]):\n",
    "    X_train.append(train[i-timesteps:i])\n",
    "    Y_train.append(train[i][0])\n",
    "X_train, Y_train = np.array(X_train, Y_train)\n",
    "\n",
    "for i in range(timesteps, val.shape[0]):\n",
    "    X_val.append(val[i-timesteps:i])\n",
    "    Y_val.append(val[i][0])\n",
    "X_val, Y_val = np.array(X_val, Y_val)  \n",
    "\"\"\""
   ]
  },
  {
   "cell_type": "markdown",
   "metadata": {},
   "source": [
    "### Bước 3: Xây dựng mô hình RNN"
   ]
  },
  {
   "cell_type": "code",
   "execution_count": null,
   "metadata": {},
   "outputs": [
    {
     "data": {
      "text/plain": [
       "\"\\n# Xây dựng mô hình RNN\\nmodel = Sequential()\\nmodel.add(SimpleRNN(X_train.shape[2], input_shape= (X_train.shape[1], X_train.shape[2]), activation='relu', return_sequences= True))\\nfor i in range(len(hl)-1):\\n    model.add(SimpleRNN(hl[i], activation='relu', return_sequences= True))\\nmodel.add(SimpleRNN(hl[-1], activation='relu'))\\nmodel.add(Dense(1))\\n\""
      ]
     },
     "execution_count": 164,
     "metadata": {},
     "output_type": "execute_result"
    }
   ],
   "source": [
    "\"\"\"\n",
    "# Xây dựng mô hình RNN\n",
    "model = Sequential()\n",
    "model.add(SimpleRNN(X_train.shape[2], input_shape= (X_train.shape[1], X_train.shape[2]), activation='relu', return_sequences= True))\n",
    "for i in range(len(hl)-1):\n",
    "    model.add(SimpleRNN(hl[i], activation='relu', return_sequences= True))\n",
    "model.add(SimpleRNN(hl[-1], activation='relu'))\n",
    "model.add(Dense(1))\n",
    "\"\"\""
   ]
  },
  {
   "cell_type": "markdown",
   "metadata": {},
   "source": [
    "Thêm một lớp **SimpleRNN đầu tiên**:  \n",
    "-   `X_train.shape[2]`: Số đặc trưng (features).\n",
    "-   `input_shape = (X_train.shape[1], X_train.shape[2])`: Định dạng đầu vào (timesteps, số đặc trưng).\n",
    "-   `activation = 'relu'`: Hàm kích hoạt giúp mô hình học phi tuyến tính.\n",
    "-   `return_sequences = True`: Giữ lại toàn bộ chuỗi đầu ra để sử dụng trong các lớp tiếp theo."
   ]
  },
  {
   "cell_type": "markdown",
   "metadata": {},
   "source": [
    "### Bước 4: Biên dịch mô hình"
   ]
  },
  {
   "cell_type": "code",
   "execution_count": null,
   "metadata": {},
   "outputs": [
    {
     "data": {
      "text/plain": [
       "\"\\n# Biên dịch\\nmodel.compile(optimizer= optimizers.Adam(learning_rate= lr), loss= 'mean_squared_error')\\n\""
      ]
     },
     "execution_count": 165,
     "metadata": {},
     "output_type": "execute_result"
    }
   ],
   "source": [
    "\"\"\"\n",
    "# Biên dịch\n",
    "model.compile(optimizer= optimizers.Adam(learning_rate= lr), loss= 'mean_squared_error')\n",
    "\"\"\""
   ]
  },
  {
   "cell_type": "markdown",
   "metadata": {},
   "source": [
    "### Bước 5: Huấn luyện mô hình"
   ]
  },
  {
   "cell_type": "code",
   "execution_count": null,
   "metadata": {},
   "outputs": [
    {
     "data": {
      "text/plain": [
       "'\\nhistory = model.fit(X_train, Y_train, epochs = epochs, batch_size = batch, validation_data = (X_val, Y_val), verbose = 0, shuffle = False, callbacks=callbacks_list)\\n'"
      ]
     },
     "execution_count": 166,
     "metadata": {},
     "output_type": "execute_result"
    }
   ],
   "source": [
    "\"\"\"\n",
    "history = model.fit(X_train, Y_train, epochs = epochs, batch_size = batch, validation_data = (X_val, Y_val), verbose = 0, shuffle = False, callbacks=callbacks_list)\n",
    "\"\"\""
   ]
  },
  {
   "cell_type": "markdown",
   "metadata": {},
   "source": [
    "**Cấu hình huấn luyện mô hình**\n",
    "\n",
    "🔹 Tham số trong quá trình huấn luyện  \n",
    "\n",
    "✅ `epochs = epochs` → Số vòng huấn luyện  \n",
    "✅ `batch_size = batch` → Kích thước batch  \n",
    "✅ `validation_data = (X_val, Y_val)` → Dữ liệu kiểm định để theo dõi hiệu suất sau mỗi epoch  \n",
    "✅ `verbose = 0` → Không hiển thị log huấn luyện (có thể đặt `verbose = 1` để xem tiến trình)  \n",
    "✅ `shuffle = False` → Không xáo trộn dữ liệu (do chuỗi thời gian có tính thứ tự)  \n",
    "✅ `callbacks = callbacks_list` → Danh sách callback hỗ trợ huấn luyện  "
   ]
  },
  {
   "cell_type": "markdown",
   "metadata": {},
   "source": [
    "### Bước 6: Đảm bảo trạng thái không bị ảnh hưởng khi huấn luyện nhiều lần"
   ]
  },
  {
   "cell_type": "code",
   "execution_count": null,
   "metadata": {},
   "outputs": [
    {
     "data": {
      "text/plain": [
       "'\\nfor layer in model.layers:\\n    if isinstance(layer, SimpleRNN):\\n        layer.reset_states()\\n'"
      ]
     },
     "execution_count": 167,
     "metadata": {},
     "output_type": "execute_result"
    }
   ],
   "source": [
    "\"\"\"\n",
    "for layer in model.layers:\n",
    "    if isinstance(layer, SimpleRNN):\n",
    "        layer.reset_states()\n",
    "\"\"\""
   ]
  },
  {
   "cell_type": "markdown",
   "metadata": {},
   "source": [
    "### Bước 7: Trả về kết quả"
   ]
  },
  {
   "cell_type": "code",
   "execution_count": null,
   "metadata": {},
   "outputs": [
    {
     "data": {
      "text/plain": [
       "\"\\nreturn model, history.history['train_loss'], history.history['val_loss']\\n\""
      ]
     },
     "execution_count": 168,
     "metadata": {},
     "output_type": "execute_result"
    }
   ],
   "source": [
    "\"\"\"\n",
    "return model, history.history['train_loss'], history.history['val_loss']\n",
    "\"\"\""
   ]
  },
  {
   "cell_type": "markdown",
   "metadata": {},
   "source": [
    "## **Grid Search**: Tìm kiếm siêu tham số tối ưu "
   ]
  },
  {
   "cell_type": "code",
   "execution_count": 17,
   "metadata": {},
   "outputs": [],
   "source": [
    "param_grid = {\n",
    "    'timesteps': [30, 40, 50],\n",
    "    'hl': [[40, 35]],\n",
    "    'lr': [1e-3, 1e-4],\n",
    "    'batch_size': [32, 64],\n",
    "    'num_epochs': [200, 250]\n",
    "}"
   ]
  },
  {
   "cell_type": "code",
   "execution_count": 18,
   "metadata": {},
   "outputs": [],
   "source": [
    "from itertools import product # Tích đề-các\n",
    "import pandas as pd\n",
    "\n",
    "# Hàm Grid Search\n",
    "def grid_search_rnn(train, val, test, param_grid):\n",
    "# Khởi tạo danh sách lưu kết quả\n",
    "    results = []\n",
    "    best_score = float('inf') # Ban đầu được đặt là vô cùng lớn\n",
    "    best_params = None # Lưu bộ siêu tham số có hiệu suất tốt nhất\n",
    "# Tạo tất cả các tổ hợp tham số\n",
    "    all_combinations = list(product(*param_grid.values()))\n",
    "    param_names = list(param_grid.keys())\n",
    "# Lặp qua từng tổ hợp tham số\n",
    "    for combination in all_combinations:\n",
    "        params = dict(zip(param_names, combination))\n",
    "        timesteps = params['timesteps']\n",
    "        hl = params['hl']\n",
    "        lr = params['lr']\n",
    "        batch_size = params['batch_size']\n",
    "        num_epochs = params['num_epochs']\n",
    "\n",
    "    print(f'Training with param: {params}')\n",
    "# Huấn luyện với fit.model()\n",
    "    model, train_loss, val_loss = fit_model_2(train, val, timesteps, hl, lr,  batch_size, num_epochs)\n",
    "# Đánh giá mô hình với evaluate_model()\n",
    "    mse, rmse, mape, r2, _, _ = evaluate_model_2(model, test, timesteps)\n",
    "# Lưu kết quả\n",
    "    results.append({\n",
    "        'timesteps': timesteps,\n",
    "        'hl': hl,\n",
    "        'lr': lr,\n",
    "        'batch_size': batch_size,\n",
    "        'num_epochs': num_epochs,\n",
    "        'MSE': mse,\n",
    "        'RMSE': rmse,\n",
    "        'MAPE': mape,\n",
    "        'R²': r2\n",
    "    })\n",
    "# Cập nhật bộ siêu tham số tốt nhất nếu RMSE cải thiện\n",
    "    if rmse < best_score:\n",
    "        best_score = rmse\n",
    "        best_params = params\n",
    "\n",
    "# Trả về kết quả\n",
    "    results_df = pd.DataFrame(results)\n",
    "    return best_params, best_score, results_df"
   ]
  },
  {
   "cell_type": "markdown",
   "metadata": {},
   "source": [
    "## Hàm **Evaluate_model_2()**"
   ]
  },
  {
   "cell_type": "code",
   "execution_count": 24,
   "metadata": {},
   "outputs": [
    {
     "data": {
      "text/plain": [
       "'\\n# Định nghĩa hàm mean_absolute_percentage_error() (MAPE)\\ndef mean_absolute_percentage_error(y_true, y_pred):\\n    y_true, y_pred = np.array(y_true), np.array(y_pred)\\n    return np.mean(np.abs((y_true - y_pred) / y_true))*100\"\\n    '"
      ]
     },
     "execution_count": 24,
     "metadata": {},
     "output_type": "execute_result"
    }
   ],
   "source": [
    "\"\"\"\n",
    "# Định nghĩa hàm mean_absolute_percentage_error() (MAPE)\n",
    "def mean_absolute_percentage_error(y_true, y_pred):\n",
    "    y_true, y_pred = np.array(y_true), np.array(y_pred)\n",
    "    return np.mean(np.abs((y_true - y_pred) / y_true))*100\"\n",
    "    \"\"\""
   ]
  },
  {
   "cell_type": "code",
   "execution_count": 19,
   "metadata": {},
   "outputs": [],
   "source": [
    "def evaluate_model_2(model, test, timesteps):\n",
    "    np.random.seed(1)\n",
    "    tf.random.set_seed(2)\n",
    "    rn.seed(3)\n",
    "\n",
    "    X_test = []\n",
    "    Y_test = []\n",
    "\n",
    "    # Loop for testing data\n",
    "    for i in range(timesteps, test.shape[0]):\n",
    "        X_test.append(test[i-timesteps:i])\n",
    "        Y_test.append(test[i][0])\n",
    "    X_test, Y_test = np.array(X_test), np.array(Y_test)\n",
    "\n",
    "    # Evaluate model\n",
    "    Y_hat = model.predict(X_test)                         #chứa dự đoán của model dựa trên đầu vào x_test\n",
    "    mse = mean_squared_error(Y_test, Y_hat)\n",
    "    rmse = sqrt(mse)\n",
    "    mape = mean_absolute_percentage_error(Y_test, Y_hat)\n",
    "    r2 = r2_score(Y_test, Y_hat)\n",
    "    return mse, rmse, mape, r2, Y_test, Y_hat"
   ]
  },
  {
   "cell_type": "markdown",
   "metadata": {},
   "source": [
    "## Plot chart (vẽ biểu đồ)"
   ]
  },
  {
   "cell_type": "code",
   "execution_count": 20,
   "metadata": {},
   "outputs": [],
   "source": [
    "# Plotting the predictions\n",
    "def plot_data_2(Y_test,Y_hat):\n",
    "    plt.plot(Y_test, c = 'r')\n",
    "    plt.plot(Y_hat, c = 'y')\n",
    "    plt.xlabel('Day')\n",
    "    plt.ylabel('Price')\n",
    "    plt.title(\"Stock Price Prediction using Multivatiate-RNN\")\n",
    "    plt.legend(['Actual','Predicted'], loc = 'lower right')\n",
    "    plt.show()"
   ]
  },
  {
   "cell_type": "code",
   "execution_count": 21,
   "metadata": {},
   "outputs": [],
   "source": [
    "# Plotting the training errors: trực quan loss qua các epoch -> thấy qtr học mô hình, xem có overfitting ko\n",
    "def plot_error(train_loss, val_loss):\n",
    "    plt.plot(train_loss, c = 'r')\n",
    "    plt.plot(val_loss, c = 'b')\n",
    "    plt.ylabel('Loss')\n",
    "    plt.xlabel('Epochs')\n",
    "    plt.title('Train Loss and Validation Loss Curve')\n",
    "    plt.legend(['train', 'val'], loc = 'upper right')\n",
    "    plt.show()"
   ]
  },
  {
   "cell_type": "markdown",
   "metadata": {},
   "source": [
    "## **Model building**: Xây dựng mô hình"
   ]
  },
  {
   "cell_type": "markdown",
   "metadata": {},
   "source": [
    "### Bước 1: Trích xuất và trực quan hóa dữ liệu"
   ]
  },
  {
   "cell_type": "code",
   "execution_count": 22,
   "metadata": {},
   "outputs": [
    {
     "name": "stdout",
     "output_type": "stream",
     "text": [
      "(1240, 10)\n",
      "            close   CMA10   SMA10    SMA50      EMA12        RSI         CCI  \\\n",
      "time                                                                           \n",
      "2024-03-08  42.01  42.700  42.082  38.1438  41.728648  58.527132   89.439762   \n",
      "2024-03-11  42.11  42.841  42.214  38.2866  41.787318  61.733333   78.471023   \n",
      "2024-03-12  43.76  42.695  42.311  38.4576  42.090807  66.471963  151.814600   \n",
      "2024-03-13  44.15  42.574  42.520  38.6188  42.407606  66.274971  198.091866   \n",
      "2024-03-14  43.86  42.599  42.700  38.7822  42.631051  74.406332  169.247492   \n",
      "\n",
      "                   %K         %D      MACD  \n",
      "time                                        \n",
      "2024-03-08  57.584270  53.491481  1.160930  \n",
      "2024-03-11  60.393258  55.799831  1.105357  \n",
      "2024-03-12  86.560364  68.179298  1.180843  \n",
      "2024-03-13  85.860656  77.604760  1.257639  \n",
      "2024-03-14  72.761194  81.727405  1.280341  \n"
     ]
    }
   ],
   "source": [
    "# Extracting the series\n",
    "series = df[['close', 'CMA10', 'SMA10', 'SMA50', 'EMA12', 'RSI', 'CCI', '%K', '%D', 'MACD']]\n",
    "# Drop rows with NaN values\n",
    "series = series.dropna()\n",
    "\n",
    "# Display the shape and the tail of the cleaned series\n",
    "print(series.shape)\n",
    "print(series.tail())"
   ]
  },
  {
   "cell_type": "code",
   "execution_count": 23,
   "metadata": {},
   "outputs": [
    {
     "data": {
      "text/html": [
       "<div>\n",
       "<style scoped>\n",
       "    .dataframe tbody tr th:only-of-type {\n",
       "        vertical-align: middle;\n",
       "    }\n",
       "\n",
       "    .dataframe tbody tr th {\n",
       "        vertical-align: top;\n",
       "    }\n",
       "\n",
       "    .dataframe thead th {\n",
       "        text-align: right;\n",
       "    }\n",
       "</style>\n",
       "<table border=\"1\" class=\"dataframe\">\n",
       "  <thead>\n",
       "    <tr style=\"text-align: right;\">\n",
       "      <th></th>\n",
       "      <th>close</th>\n",
       "      <th>CMA10</th>\n",
       "      <th>SMA10</th>\n",
       "      <th>SMA50</th>\n",
       "      <th>EMA12</th>\n",
       "      <th>RSI</th>\n",
       "      <th>CCI</th>\n",
       "      <th>%K</th>\n",
       "      <th>%D</th>\n",
       "      <th>MACD</th>\n",
       "    </tr>\n",
       "  </thead>\n",
       "  <tbody>\n",
       "    <tr>\n",
       "      <th>count</th>\n",
       "      <td>1240.000000</td>\n",
       "      <td>1240.000000</td>\n",
       "      <td>1240.000000</td>\n",
       "      <td>1240.000000</td>\n",
       "      <td>1240.000000</td>\n",
       "      <td>1240.000000</td>\n",
       "      <td>1240.000000</td>\n",
       "      <td>1240.000000</td>\n",
       "      <td>1240.000000</td>\n",
       "      <td>1240.000000</td>\n",
       "    </tr>\n",
       "    <tr>\n",
       "      <th>mean</th>\n",
       "      <td>23.922185</td>\n",
       "      <td>23.907293</td>\n",
       "      <td>23.800945</td>\n",
       "      <td>23.281065</td>\n",
       "      <td>23.774227</td>\n",
       "      <td>53.859959</td>\n",
       "      <td>23.864276</td>\n",
       "      <td>55.347558</td>\n",
       "      <td>55.334764</td>\n",
       "      <td>0.182251</td>\n",
       "    </tr>\n",
       "    <tr>\n",
       "      <th>std</th>\n",
       "      <td>11.051640</td>\n",
       "      <td>10.997325</td>\n",
       "      <td>10.974661</td>\n",
       "      <td>10.724423</td>\n",
       "      <td>10.929829</td>\n",
       "      <td>17.645922</td>\n",
       "      <td>109.921258</td>\n",
       "      <td>30.334386</td>\n",
       "      <td>28.409879</td>\n",
       "      <td>0.985588</td>\n",
       "    </tr>\n",
       "    <tr>\n",
       "      <th>min</th>\n",
       "      <td>7.790000</td>\n",
       "      <td>8.319000</td>\n",
       "      <td>8.319000</td>\n",
       "      <td>7.664600</td>\n",
       "      <td>8.479359</td>\n",
       "      <td>2.400000</td>\n",
       "      <td>-314.348887</td>\n",
       "      <td>0.000000</td>\n",
       "      <td>0.000000</td>\n",
       "      <td>-4.034671</td>\n",
       "    </tr>\n",
       "    <tr>\n",
       "      <th>25%</th>\n",
       "      <td>14.197500</td>\n",
       "      <td>14.148500</td>\n",
       "      <td>13.839000</td>\n",
       "      <td>13.238450</td>\n",
       "      <td>13.736157</td>\n",
       "      <td>41.205512</td>\n",
       "      <td>-62.423004</td>\n",
       "      <td>28.300176</td>\n",
       "      <td>28.838193</td>\n",
       "      <td>-0.209920</td>\n",
       "    </tr>\n",
       "    <tr>\n",
       "      <th>50%</th>\n",
       "      <td>23.055000</td>\n",
       "      <td>22.756500</td>\n",
       "      <td>22.627000</td>\n",
       "      <td>22.829700</td>\n",
       "      <td>22.904042</td>\n",
       "      <td>54.691071</td>\n",
       "      <td>45.642973</td>\n",
       "      <td>60.917367</td>\n",
       "      <td>60.525771</td>\n",
       "      <td>0.306842</td>\n",
       "    </tr>\n",
       "    <tr>\n",
       "      <th>75%</th>\n",
       "      <td>31.242500</td>\n",
       "      <td>31.126500</td>\n",
       "      <td>31.060750</td>\n",
       "      <td>31.221150</td>\n",
       "      <td>30.902806</td>\n",
       "      <td>67.240614</td>\n",
       "      <td>108.659315</td>\n",
       "      <td>82.298464</td>\n",
       "      <td>81.481269</td>\n",
       "      <td>0.714092</td>\n",
       "    </tr>\n",
       "    <tr>\n",
       "      <th>max</th>\n",
       "      <td>54.610000</td>\n",
       "      <td>53.114000</td>\n",
       "      <td>53.114000</td>\n",
       "      <td>50.160200</td>\n",
       "      <td>52.765743</td>\n",
       "      <td>92.916667</td>\n",
       "      <td>267.139480</td>\n",
       "      <td>100.000000</td>\n",
       "      <td>99.425287</td>\n",
       "      <td>2.254717</td>\n",
       "    </tr>\n",
       "  </tbody>\n",
       "</table>\n",
       "</div>"
      ],
      "text/plain": [
       "             close        CMA10        SMA10        SMA50        EMA12  \\\n",
       "count  1240.000000  1240.000000  1240.000000  1240.000000  1240.000000   \n",
       "mean     23.922185    23.907293    23.800945    23.281065    23.774227   \n",
       "std      11.051640    10.997325    10.974661    10.724423    10.929829   \n",
       "min       7.790000     8.319000     8.319000     7.664600     8.479359   \n",
       "25%      14.197500    14.148500    13.839000    13.238450    13.736157   \n",
       "50%      23.055000    22.756500    22.627000    22.829700    22.904042   \n",
       "75%      31.242500    31.126500    31.060750    31.221150    30.902806   \n",
       "max      54.610000    53.114000    53.114000    50.160200    52.765743   \n",
       "\n",
       "               RSI          CCI           %K           %D         MACD  \n",
       "count  1240.000000  1240.000000  1240.000000  1240.000000  1240.000000  \n",
       "mean     53.859959    23.864276    55.347558    55.334764     0.182251  \n",
       "std      17.645922   109.921258    30.334386    28.409879     0.985588  \n",
       "min       2.400000  -314.348887     0.000000     0.000000    -4.034671  \n",
       "25%      41.205512   -62.423004    28.300176    28.838193    -0.209920  \n",
       "50%      54.691071    45.642973    60.917367    60.525771     0.306842  \n",
       "75%      67.240614   108.659315    82.298464    81.481269     0.714092  \n",
       "max      92.916667   267.139480   100.000000    99.425287     2.254717  "
      ]
     },
     "execution_count": 23,
     "metadata": {},
     "output_type": "execute_result"
    }
   ],
   "source": [
    "series.describe()"
   ]
  },
  {
   "cell_type": "markdown",
   "metadata": {},
   "source": [
    "### Bước 2: Chia dữ liệu thành các tập Train, Validation, Test"
   ]
  },
  {
   "cell_type": "code",
   "execution_count": 24,
   "metadata": {},
   "outputs": [
    {
     "data": {
      "text/plain": [
       "(1240, 10)"
      ]
     },
     "execution_count": 24,
     "metadata": {},
     "output_type": "execute_result"
    }
   ],
   "source": [
    "series.shape"
   ]
  },
  {
   "cell_type": "code",
   "execution_count": 25,
   "metadata": {},
   "outputs": [
    {
     "name": "stdout",
     "output_type": "stream",
     "text": [
      "(868, 10) (186, 10) (186, 10)\n"
     ]
    }
   ],
   "source": [
    "n = series.shape[0]\n",
    "val_size =  test_size = int(n * 0.15)\n",
    "train_size = n - val_size - test_size # Để tránh sai số làm mất dữ liệu\n",
    "\n",
    "# Chia tập dữ liệu theo thứ tự thời gian\n",
    "train_data = series.iloc[:train_size].values\n",
    "val_data = series.iloc[train_size:train_size + val_size].values\n",
    "test_data = series.iloc[(train_size + val_size):].values\n",
    "# Kiểm tra kích thước của từng tập\n",
    "print(train_data.shape, val_data.shape, test_data.shape)"
   ]
  },
  {
   "cell_type": "markdown",
   "metadata": {},
   "source": [
    "### Bước 3: Chuẩn hóa dữ liệu bằng MinMaxScaler"
   ]
  },
  {
   "cell_type": "code",
   "execution_count": 26,
   "metadata": {},
   "outputs": [
    {
     "name": "stdout",
     "output_type": "stream",
     "text": [
      "(868, 10) (186, 10) (186, 10)\n"
     ]
    }
   ],
   "source": [
    "# Normalisation\n",
    "np.random.seed(1)\n",
    "tf.random.set_seed(2)\n",
    "rn.seed(3)\n",
    "\n",
    "# Chuẩn hóa\n",
    "sc = MinMaxScaler() # Tạo bộ chuẩn hóa MinMaxScaler\n",
    "train = sc.fit_transform(train_data)\n",
    "val = sc.transform(val_data)\n",
    "test = sc.transform(test_data)\n",
    "\n",
    "print(train.shape, val.shape, test.shape)"
   ]
  },
  {
   "cell_type": "markdown",
   "metadata": {},
   "source": [
    "### Bước 4: Tìm siêu tham số tốt nhất bằng Grid Search"
   ]
  },
  {
   "cell_type": "code",
   "execution_count": 27,
   "metadata": {},
   "outputs": [
    {
     "name": "stdout",
     "output_type": "stream",
     "text": [
      "Training with param: {'timesteps': 50, 'hl': [40, 35], 'lr': 0.0001, 'batch_size': 64, 'num_epochs': 250}\n"
     ]
    },
    {
     "name": "stderr",
     "output_type": "stream",
     "text": [
      "c:\\Users\\84368\\AppData\\Local\\Programs\\Python\\Python311\\Lib\\site-packages\\keras\\src\\layers\\rnn\\rnn.py:200: UserWarning: Do not pass an `input_shape`/`input_dim` argument to a layer. When using Sequential models, prefer using an `Input(shape)` object as the first layer in the model instead.\n",
      "  super().__init__(**kwargs)\n"
     ]
    },
    {
     "name": "stdout",
     "output_type": "stream",
     "text": [
      "\n",
      "Epoch 1: val_loss improved from inf to 0.05648, saving model to 10Var-szc-rnn.h5\n"
     ]
    },
    {
     "name": "stderr",
     "output_type": "stream",
     "text": [
      "WARNING:absl:You are saving your model as an HDF5 file via `model.save()` or `keras.saving.save_model(model)`. This file format is considered legacy. We recommend using instead the native Keras format, e.g. `model.save('my_model.keras')` or `keras.saving.save_model(model, 'my_model.keras')`. \n"
     ]
    },
    {
     "name": "stdout",
     "output_type": "stream",
     "text": [
      "\n",
      "Epoch 2: val_loss improved from 0.05648 to 0.04746, saving model to 10Var-szc-rnn.h5\n"
     ]
    },
    {
     "name": "stderr",
     "output_type": "stream",
     "text": [
      "WARNING:absl:You are saving your model as an HDF5 file via `model.save()` or `keras.saving.save_model(model)`. This file format is considered legacy. We recommend using instead the native Keras format, e.g. `model.save('my_model.keras')` or `keras.saving.save_model(model, 'my_model.keras')`. \n"
     ]
    },
    {
     "name": "stdout",
     "output_type": "stream",
     "text": [
      "\n",
      "Epoch 3: val_loss improved from 0.04746 to 0.03898, saving model to 10Var-szc-rnn.h5\n"
     ]
    },
    {
     "name": "stderr",
     "output_type": "stream",
     "text": [
      "WARNING:absl:You are saving your model as an HDF5 file via `model.save()` or `keras.saving.save_model(model)`. This file format is considered legacy. We recommend using instead the native Keras format, e.g. `model.save('my_model.keras')` or `keras.saving.save_model(model, 'my_model.keras')`. \n"
     ]
    },
    {
     "name": "stdout",
     "output_type": "stream",
     "text": [
      "\n",
      "Epoch 4: val_loss improved from 0.03898 to 0.03132, saving model to 10Var-szc-rnn.h5\n"
     ]
    },
    {
     "name": "stderr",
     "output_type": "stream",
     "text": [
      "WARNING:absl:You are saving your model as an HDF5 file via `model.save()` or `keras.saving.save_model(model)`. This file format is considered legacy. We recommend using instead the native Keras format, e.g. `model.save('my_model.keras')` or `keras.saving.save_model(model, 'my_model.keras')`. \n"
     ]
    },
    {
     "name": "stdout",
     "output_type": "stream",
     "text": [
      "\n",
      "Epoch 5: val_loss improved from 0.03132 to 0.02459, saving model to 10Var-szc-rnn.h5\n"
     ]
    },
    {
     "name": "stderr",
     "output_type": "stream",
     "text": [
      "WARNING:absl:You are saving your model as an HDF5 file via `model.save()` or `keras.saving.save_model(model)`. This file format is considered legacy. We recommend using instead the native Keras format, e.g. `model.save('my_model.keras')` or `keras.saving.save_model(model, 'my_model.keras')`. \n"
     ]
    },
    {
     "name": "stdout",
     "output_type": "stream",
     "text": [
      "\n",
      "Epoch 6: val_loss improved from 0.02459 to 0.01873, saving model to 10Var-szc-rnn.h5\n"
     ]
    },
    {
     "name": "stderr",
     "output_type": "stream",
     "text": [
      "WARNING:absl:You are saving your model as an HDF5 file via `model.save()` or `keras.saving.save_model(model)`. This file format is considered legacy. We recommend using instead the native Keras format, e.g. `model.save('my_model.keras')` or `keras.saving.save_model(model, 'my_model.keras')`. \n"
     ]
    },
    {
     "name": "stdout",
     "output_type": "stream",
     "text": [
      "\n",
      "Epoch 7: val_loss improved from 0.01873 to 0.01384, saving model to 10Var-szc-rnn.h5\n"
     ]
    },
    {
     "name": "stderr",
     "output_type": "stream",
     "text": [
      "WARNING:absl:You are saving your model as an HDF5 file via `model.save()` or `keras.saving.save_model(model)`. This file format is considered legacy. We recommend using instead the native Keras format, e.g. `model.save('my_model.keras')` or `keras.saving.save_model(model, 'my_model.keras')`. \n"
     ]
    },
    {
     "name": "stdout",
     "output_type": "stream",
     "text": [
      "\n",
      "Epoch 8: val_loss improved from 0.01384 to 0.00998, saving model to 10Var-szc-rnn.h5\n"
     ]
    },
    {
     "name": "stderr",
     "output_type": "stream",
     "text": [
      "WARNING:absl:You are saving your model as an HDF5 file via `model.save()` or `keras.saving.save_model(model)`. This file format is considered legacy. We recommend using instead the native Keras format, e.g. `model.save('my_model.keras')` or `keras.saving.save_model(model, 'my_model.keras')`. \n"
     ]
    },
    {
     "name": "stdout",
     "output_type": "stream",
     "text": [
      "\n",
      "Epoch 9: val_loss improved from 0.00998 to 0.00716, saving model to 10Var-szc-rnn.h5\n"
     ]
    },
    {
     "name": "stderr",
     "output_type": "stream",
     "text": [
      "WARNING:absl:You are saving your model as an HDF5 file via `model.save()` or `keras.saving.save_model(model)`. This file format is considered legacy. We recommend using instead the native Keras format, e.g. `model.save('my_model.keras')` or `keras.saving.save_model(model, 'my_model.keras')`. \n"
     ]
    },
    {
     "name": "stdout",
     "output_type": "stream",
     "text": [
      "\n",
      "Epoch 10: val_loss improved from 0.00716 to 0.00539, saving model to 10Var-szc-rnn.h5\n"
     ]
    },
    {
     "name": "stderr",
     "output_type": "stream",
     "text": [
      "WARNING:absl:You are saving your model as an HDF5 file via `model.save()` or `keras.saving.save_model(model)`. This file format is considered legacy. We recommend using instead the native Keras format, e.g. `model.save('my_model.keras')` or `keras.saving.save_model(model, 'my_model.keras')`. \n"
     ]
    },
    {
     "name": "stdout",
     "output_type": "stream",
     "text": [
      "\n",
      "Epoch 11: val_loss improved from 0.00539 to 0.00450, saving model to 10Var-szc-rnn.h5\n"
     ]
    },
    {
     "name": "stderr",
     "output_type": "stream",
     "text": [
      "WARNING:absl:You are saving your model as an HDF5 file via `model.save()` or `keras.saving.save_model(model)`. This file format is considered legacy. We recommend using instead the native Keras format, e.g. `model.save('my_model.keras')` or `keras.saving.save_model(model, 'my_model.keras')`. \n"
     ]
    },
    {
     "name": "stdout",
     "output_type": "stream",
     "text": [
      "\n",
      "Epoch 12: val_loss improved from 0.00450 to 0.00421, saving model to 10Var-szc-rnn.h5\n"
     ]
    },
    {
     "name": "stderr",
     "output_type": "stream",
     "text": [
      "WARNING:absl:You are saving your model as an HDF5 file via `model.save()` or `keras.saving.save_model(model)`. This file format is considered legacy. We recommend using instead the native Keras format, e.g. `model.save('my_model.keras')` or `keras.saving.save_model(model, 'my_model.keras')`. \n"
     ]
    },
    {
     "name": "stdout",
     "output_type": "stream",
     "text": [
      "\n",
      "Epoch 13: val_loss did not improve from 0.00421\n",
      "\n",
      "Epoch 14: val_loss did not improve from 0.00421\n",
      "\n",
      "Epoch 15: val_loss did not improve from 0.00421\n",
      "\n",
      "Epoch 16: val_loss did not improve from 0.00421\n",
      "\n",
      "Epoch 17: val_loss did not improve from 0.00421\n",
      "\n",
      "Epoch 18: val_loss did not improve from 0.00421\n",
      "\n",
      "Epoch 19: val_loss did not improve from 0.00421\n",
      "\n",
      "Epoch 20: val_loss did not improve from 0.00421\n",
      "\n",
      "Epoch 21: val_loss did not improve from 0.00421\n",
      "\n",
      "Epoch 22: val_loss improved from 0.00421 to 0.00419, saving model to 10Var-szc-rnn.h5\n"
     ]
    },
    {
     "name": "stderr",
     "output_type": "stream",
     "text": [
      "WARNING:absl:You are saving your model as an HDF5 file via `model.save()` or `keras.saving.save_model(model)`. This file format is considered legacy. We recommend using instead the native Keras format, e.g. `model.save('my_model.keras')` or `keras.saving.save_model(model, 'my_model.keras')`. \n"
     ]
    },
    {
     "name": "stdout",
     "output_type": "stream",
     "text": [
      "\n",
      "Epoch 23: val_loss improved from 0.00419 to 0.00417, saving model to 10Var-szc-rnn.h5\n"
     ]
    },
    {
     "name": "stderr",
     "output_type": "stream",
     "text": [
      "WARNING:absl:You are saving your model as an HDF5 file via `model.save()` or `keras.saving.save_model(model)`. This file format is considered legacy. We recommend using instead the native Keras format, e.g. `model.save('my_model.keras')` or `keras.saving.save_model(model, 'my_model.keras')`. \n"
     ]
    },
    {
     "name": "stdout",
     "output_type": "stream",
     "text": [
      "\n",
      "Epoch 24: val_loss improved from 0.00417 to 0.00414, saving model to 10Var-szc-rnn.h5\n"
     ]
    },
    {
     "name": "stderr",
     "output_type": "stream",
     "text": [
      "WARNING:absl:You are saving your model as an HDF5 file via `model.save()` or `keras.saving.save_model(model)`. This file format is considered legacy. We recommend using instead the native Keras format, e.g. `model.save('my_model.keras')` or `keras.saving.save_model(model, 'my_model.keras')`. \n"
     ]
    },
    {
     "name": "stdout",
     "output_type": "stream",
     "text": [
      "\n",
      "Epoch 25: val_loss improved from 0.00414 to 0.00410, saving model to 10Var-szc-rnn.h5\n"
     ]
    },
    {
     "name": "stderr",
     "output_type": "stream",
     "text": [
      "WARNING:absl:You are saving your model as an HDF5 file via `model.save()` or `keras.saving.save_model(model)`. This file format is considered legacy. We recommend using instead the native Keras format, e.g. `model.save('my_model.keras')` or `keras.saving.save_model(model, 'my_model.keras')`. \n"
     ]
    },
    {
     "name": "stdout",
     "output_type": "stream",
     "text": [
      "\n",
      "Epoch 26: val_loss improved from 0.00410 to 0.00405, saving model to 10Var-szc-rnn.h5\n"
     ]
    },
    {
     "name": "stderr",
     "output_type": "stream",
     "text": [
      "WARNING:absl:You are saving your model as an HDF5 file via `model.save()` or `keras.saving.save_model(model)`. This file format is considered legacy. We recommend using instead the native Keras format, e.g. `model.save('my_model.keras')` or `keras.saving.save_model(model, 'my_model.keras')`. \n"
     ]
    },
    {
     "name": "stdout",
     "output_type": "stream",
     "text": [
      "\n",
      "Epoch 27: val_loss improved from 0.00405 to 0.00400, saving model to 10Var-szc-rnn.h5\n"
     ]
    },
    {
     "name": "stderr",
     "output_type": "stream",
     "text": [
      "WARNING:absl:You are saving your model as an HDF5 file via `model.save()` or `keras.saving.save_model(model)`. This file format is considered legacy. We recommend using instead the native Keras format, e.g. `model.save('my_model.keras')` or `keras.saving.save_model(model, 'my_model.keras')`. \n"
     ]
    },
    {
     "name": "stdout",
     "output_type": "stream",
     "text": [
      "\n",
      "Epoch 28: val_loss improved from 0.00400 to 0.00394, saving model to 10Var-szc-rnn.h5\n"
     ]
    },
    {
     "name": "stderr",
     "output_type": "stream",
     "text": [
      "WARNING:absl:You are saving your model as an HDF5 file via `model.save()` or `keras.saving.save_model(model)`. This file format is considered legacy. We recommend using instead the native Keras format, e.g. `model.save('my_model.keras')` or `keras.saving.save_model(model, 'my_model.keras')`. \n"
     ]
    },
    {
     "name": "stdout",
     "output_type": "stream",
     "text": [
      "\n",
      "Epoch 29: val_loss improved from 0.00394 to 0.00389, saving model to 10Var-szc-rnn.h5\n"
     ]
    },
    {
     "name": "stderr",
     "output_type": "stream",
     "text": [
      "WARNING:absl:You are saving your model as an HDF5 file via `model.save()` or `keras.saving.save_model(model)`. This file format is considered legacy. We recommend using instead the native Keras format, e.g. `model.save('my_model.keras')` or `keras.saving.save_model(model, 'my_model.keras')`. \n"
     ]
    },
    {
     "name": "stdout",
     "output_type": "stream",
     "text": [
      "\n",
      "Epoch 30: val_loss improved from 0.00389 to 0.00383, saving model to 10Var-szc-rnn.h5\n"
     ]
    },
    {
     "name": "stderr",
     "output_type": "stream",
     "text": [
      "WARNING:absl:You are saving your model as an HDF5 file via `model.save()` or `keras.saving.save_model(model)`. This file format is considered legacy. We recommend using instead the native Keras format, e.g. `model.save('my_model.keras')` or `keras.saving.save_model(model, 'my_model.keras')`. \n"
     ]
    },
    {
     "name": "stdout",
     "output_type": "stream",
     "text": [
      "\n",
      "Epoch 31: val_loss improved from 0.00383 to 0.00376, saving model to 10Var-szc-rnn.h5\n"
     ]
    },
    {
     "name": "stderr",
     "output_type": "stream",
     "text": [
      "WARNING:absl:You are saving your model as an HDF5 file via `model.save()` or `keras.saving.save_model(model)`. This file format is considered legacy. We recommend using instead the native Keras format, e.g. `model.save('my_model.keras')` or `keras.saving.save_model(model, 'my_model.keras')`. \n"
     ]
    },
    {
     "name": "stdout",
     "output_type": "stream",
     "text": [
      "\n",
      "Epoch 32: val_loss improved from 0.00376 to 0.00370, saving model to 10Var-szc-rnn.h5\n"
     ]
    },
    {
     "name": "stderr",
     "output_type": "stream",
     "text": [
      "WARNING:absl:You are saving your model as an HDF5 file via `model.save()` or `keras.saving.save_model(model)`. This file format is considered legacy. We recommend using instead the native Keras format, e.g. `model.save('my_model.keras')` or `keras.saving.save_model(model, 'my_model.keras')`. \n"
     ]
    },
    {
     "name": "stdout",
     "output_type": "stream",
     "text": [
      "\n",
      "Epoch 33: val_loss improved from 0.00370 to 0.00364, saving model to 10Var-szc-rnn.h5\n"
     ]
    },
    {
     "name": "stderr",
     "output_type": "stream",
     "text": [
      "WARNING:absl:You are saving your model as an HDF5 file via `model.save()` or `keras.saving.save_model(model)`. This file format is considered legacy. We recommend using instead the native Keras format, e.g. `model.save('my_model.keras')` or `keras.saving.save_model(model, 'my_model.keras')`. \n"
     ]
    },
    {
     "name": "stdout",
     "output_type": "stream",
     "text": [
      "\n",
      "Epoch 34: val_loss improved from 0.00364 to 0.00358, saving model to 10Var-szc-rnn.h5\n"
     ]
    },
    {
     "name": "stderr",
     "output_type": "stream",
     "text": [
      "WARNING:absl:You are saving your model as an HDF5 file via `model.save()` or `keras.saving.save_model(model)`. This file format is considered legacy. We recommend using instead the native Keras format, e.g. `model.save('my_model.keras')` or `keras.saving.save_model(model, 'my_model.keras')`. \n"
     ]
    },
    {
     "name": "stdout",
     "output_type": "stream",
     "text": [
      "\n",
      "Epoch 35: val_loss improved from 0.00358 to 0.00352, saving model to 10Var-szc-rnn.h5\n"
     ]
    },
    {
     "name": "stderr",
     "output_type": "stream",
     "text": [
      "WARNING:absl:You are saving your model as an HDF5 file via `model.save()` or `keras.saving.save_model(model)`. This file format is considered legacy. We recommend using instead the native Keras format, e.g. `model.save('my_model.keras')` or `keras.saving.save_model(model, 'my_model.keras')`. \n"
     ]
    },
    {
     "name": "stdout",
     "output_type": "stream",
     "text": [
      "\n",
      "Epoch 36: val_loss improved from 0.00352 to 0.00345, saving model to 10Var-szc-rnn.h5\n"
     ]
    },
    {
     "name": "stderr",
     "output_type": "stream",
     "text": [
      "WARNING:absl:You are saving your model as an HDF5 file via `model.save()` or `keras.saving.save_model(model)`. This file format is considered legacy. We recommend using instead the native Keras format, e.g. `model.save('my_model.keras')` or `keras.saving.save_model(model, 'my_model.keras')`. \n"
     ]
    },
    {
     "name": "stdout",
     "output_type": "stream",
     "text": [
      "\n",
      "Epoch 37: val_loss improved from 0.00345 to 0.00338, saving model to 10Var-szc-rnn.h5\n"
     ]
    },
    {
     "name": "stderr",
     "output_type": "stream",
     "text": [
      "WARNING:absl:You are saving your model as an HDF5 file via `model.save()` or `keras.saving.save_model(model)`. This file format is considered legacy. We recommend using instead the native Keras format, e.g. `model.save('my_model.keras')` or `keras.saving.save_model(model, 'my_model.keras')`. \n"
     ]
    },
    {
     "name": "stdout",
     "output_type": "stream",
     "text": [
      "\n",
      "Epoch 38: val_loss improved from 0.00338 to 0.00332, saving model to 10Var-szc-rnn.h5\n"
     ]
    },
    {
     "name": "stderr",
     "output_type": "stream",
     "text": [
      "WARNING:absl:You are saving your model as an HDF5 file via `model.save()` or `keras.saving.save_model(model)`. This file format is considered legacy. We recommend using instead the native Keras format, e.g. `model.save('my_model.keras')` or `keras.saving.save_model(model, 'my_model.keras')`. \n"
     ]
    },
    {
     "name": "stdout",
     "output_type": "stream",
     "text": [
      "\n",
      "Epoch 39: val_loss improved from 0.00332 to 0.00326, saving model to 10Var-szc-rnn.h5\n"
     ]
    },
    {
     "name": "stderr",
     "output_type": "stream",
     "text": [
      "WARNING:absl:You are saving your model as an HDF5 file via `model.save()` or `keras.saving.save_model(model)`. This file format is considered legacy. We recommend using instead the native Keras format, e.g. `model.save('my_model.keras')` or `keras.saving.save_model(model, 'my_model.keras')`. \n"
     ]
    },
    {
     "name": "stdout",
     "output_type": "stream",
     "text": [
      "\n",
      "Epoch 40: val_loss improved from 0.00326 to 0.00321, saving model to 10Var-szc-rnn.h5\n"
     ]
    },
    {
     "name": "stderr",
     "output_type": "stream",
     "text": [
      "WARNING:absl:You are saving your model as an HDF5 file via `model.save()` or `keras.saving.save_model(model)`. This file format is considered legacy. We recommend using instead the native Keras format, e.g. `model.save('my_model.keras')` or `keras.saving.save_model(model, 'my_model.keras')`. \n"
     ]
    },
    {
     "name": "stdout",
     "output_type": "stream",
     "text": [
      "\n",
      "Epoch 41: val_loss improved from 0.00321 to 0.00317, saving model to 10Var-szc-rnn.h5\n"
     ]
    },
    {
     "name": "stderr",
     "output_type": "stream",
     "text": [
      "WARNING:absl:You are saving your model as an HDF5 file via `model.save()` or `keras.saving.save_model(model)`. This file format is considered legacy. We recommend using instead the native Keras format, e.g. `model.save('my_model.keras')` or `keras.saving.save_model(model, 'my_model.keras')`. \n"
     ]
    },
    {
     "name": "stdout",
     "output_type": "stream",
     "text": [
      "\n",
      "Epoch 42: val_loss improved from 0.00317 to 0.00314, saving model to 10Var-szc-rnn.h5\n"
     ]
    },
    {
     "name": "stderr",
     "output_type": "stream",
     "text": [
      "WARNING:absl:You are saving your model as an HDF5 file via `model.save()` or `keras.saving.save_model(model)`. This file format is considered legacy. We recommend using instead the native Keras format, e.g. `model.save('my_model.keras')` or `keras.saving.save_model(model, 'my_model.keras')`. \n"
     ]
    },
    {
     "name": "stdout",
     "output_type": "stream",
     "text": [
      "\n",
      "Epoch 43: val_loss improved from 0.00314 to 0.00310, saving model to 10Var-szc-rnn.h5\n"
     ]
    },
    {
     "name": "stderr",
     "output_type": "stream",
     "text": [
      "WARNING:absl:You are saving your model as an HDF5 file via `model.save()` or `keras.saving.save_model(model)`. This file format is considered legacy. We recommend using instead the native Keras format, e.g. `model.save('my_model.keras')` or `keras.saving.save_model(model, 'my_model.keras')`. \n"
     ]
    },
    {
     "name": "stdout",
     "output_type": "stream",
     "text": [
      "\n",
      "Epoch 44: val_loss improved from 0.00310 to 0.00307, saving model to 10Var-szc-rnn.h5\n"
     ]
    },
    {
     "name": "stderr",
     "output_type": "stream",
     "text": [
      "WARNING:absl:You are saving your model as an HDF5 file via `model.save()` or `keras.saving.save_model(model)`. This file format is considered legacy. We recommend using instead the native Keras format, e.g. `model.save('my_model.keras')` or `keras.saving.save_model(model, 'my_model.keras')`. \n"
     ]
    },
    {
     "name": "stdout",
     "output_type": "stream",
     "text": [
      "\n",
      "Epoch 45: val_loss improved from 0.00307 to 0.00303, saving model to 10Var-szc-rnn.h5\n"
     ]
    },
    {
     "name": "stderr",
     "output_type": "stream",
     "text": [
      "WARNING:absl:You are saving your model as an HDF5 file via `model.save()` or `keras.saving.save_model(model)`. This file format is considered legacy. We recommend using instead the native Keras format, e.g. `model.save('my_model.keras')` or `keras.saving.save_model(model, 'my_model.keras')`. \n"
     ]
    },
    {
     "name": "stdout",
     "output_type": "stream",
     "text": [
      "\n",
      "Epoch 46: val_loss improved from 0.00303 to 0.00299, saving model to 10Var-szc-rnn.h5\n"
     ]
    },
    {
     "name": "stderr",
     "output_type": "stream",
     "text": [
      "WARNING:absl:You are saving your model as an HDF5 file via `model.save()` or `keras.saving.save_model(model)`. This file format is considered legacy. We recommend using instead the native Keras format, e.g. `model.save('my_model.keras')` or `keras.saving.save_model(model, 'my_model.keras')`. \n"
     ]
    },
    {
     "name": "stdout",
     "output_type": "stream",
     "text": [
      "\n",
      "Epoch 47: val_loss improved from 0.00299 to 0.00296, saving model to 10Var-szc-rnn.h5\n"
     ]
    },
    {
     "name": "stderr",
     "output_type": "stream",
     "text": [
      "WARNING:absl:You are saving your model as an HDF5 file via `model.save()` or `keras.saving.save_model(model)`. This file format is considered legacy. We recommend using instead the native Keras format, e.g. `model.save('my_model.keras')` or `keras.saving.save_model(model, 'my_model.keras')`. \n"
     ]
    },
    {
     "name": "stdout",
     "output_type": "stream",
     "text": [
      "\n",
      "Epoch 48: val_loss improved from 0.00296 to 0.00293, saving model to 10Var-szc-rnn.h5\n"
     ]
    },
    {
     "name": "stderr",
     "output_type": "stream",
     "text": [
      "WARNING:absl:You are saving your model as an HDF5 file via `model.save()` or `keras.saving.save_model(model)`. This file format is considered legacy. We recommend using instead the native Keras format, e.g. `model.save('my_model.keras')` or `keras.saving.save_model(model, 'my_model.keras')`. \n"
     ]
    },
    {
     "name": "stdout",
     "output_type": "stream",
     "text": [
      "\n",
      "Epoch 49: val_loss improved from 0.00293 to 0.00289, saving model to 10Var-szc-rnn.h5\n"
     ]
    },
    {
     "name": "stderr",
     "output_type": "stream",
     "text": [
      "WARNING:absl:You are saving your model as an HDF5 file via `model.save()` or `keras.saving.save_model(model)`. This file format is considered legacy. We recommend using instead the native Keras format, e.g. `model.save('my_model.keras')` or `keras.saving.save_model(model, 'my_model.keras')`. \n"
     ]
    },
    {
     "name": "stdout",
     "output_type": "stream",
     "text": [
      "\n",
      "Epoch 50: val_loss improved from 0.00289 to 0.00285, saving model to 10Var-szc-rnn.h5\n"
     ]
    },
    {
     "name": "stderr",
     "output_type": "stream",
     "text": [
      "WARNING:absl:You are saving your model as an HDF5 file via `model.save()` or `keras.saving.save_model(model)`. This file format is considered legacy. We recommend using instead the native Keras format, e.g. `model.save('my_model.keras')` or `keras.saving.save_model(model, 'my_model.keras')`. \n"
     ]
    },
    {
     "name": "stdout",
     "output_type": "stream",
     "text": [
      "\n",
      "Epoch 51: val_loss improved from 0.00285 to 0.00281, saving model to 10Var-szc-rnn.h5\n"
     ]
    },
    {
     "name": "stderr",
     "output_type": "stream",
     "text": [
      "WARNING:absl:You are saving your model as an HDF5 file via `model.save()` or `keras.saving.save_model(model)`. This file format is considered legacy. We recommend using instead the native Keras format, e.g. `model.save('my_model.keras')` or `keras.saving.save_model(model, 'my_model.keras')`. \n"
     ]
    },
    {
     "name": "stdout",
     "output_type": "stream",
     "text": [
      "\n",
      "Epoch 52: val_loss improved from 0.00281 to 0.00275, saving model to 10Var-szc-rnn.h5\n"
     ]
    },
    {
     "name": "stderr",
     "output_type": "stream",
     "text": [
      "WARNING:absl:You are saving your model as an HDF5 file via `model.save()` or `keras.saving.save_model(model)`. This file format is considered legacy. We recommend using instead the native Keras format, e.g. `model.save('my_model.keras')` or `keras.saving.save_model(model, 'my_model.keras')`. \n"
     ]
    },
    {
     "name": "stdout",
     "output_type": "stream",
     "text": [
      "\n",
      "Epoch 53: val_loss improved from 0.00275 to 0.00270, saving model to 10Var-szc-rnn.h5\n"
     ]
    },
    {
     "name": "stderr",
     "output_type": "stream",
     "text": [
      "WARNING:absl:You are saving your model as an HDF5 file via `model.save()` or `keras.saving.save_model(model)`. This file format is considered legacy. We recommend using instead the native Keras format, e.g. `model.save('my_model.keras')` or `keras.saving.save_model(model, 'my_model.keras')`. \n"
     ]
    },
    {
     "name": "stdout",
     "output_type": "stream",
     "text": [
      "\n",
      "Epoch 54: val_loss improved from 0.00270 to 0.00265, saving model to 10Var-szc-rnn.h5\n"
     ]
    },
    {
     "name": "stderr",
     "output_type": "stream",
     "text": [
      "WARNING:absl:You are saving your model as an HDF5 file via `model.save()` or `keras.saving.save_model(model)`. This file format is considered legacy. We recommend using instead the native Keras format, e.g. `model.save('my_model.keras')` or `keras.saving.save_model(model, 'my_model.keras')`. \n"
     ]
    },
    {
     "name": "stdout",
     "output_type": "stream",
     "text": [
      "\n",
      "Epoch 55: val_loss improved from 0.00265 to 0.00260, saving model to 10Var-szc-rnn.h5\n"
     ]
    },
    {
     "name": "stderr",
     "output_type": "stream",
     "text": [
      "WARNING:absl:You are saving your model as an HDF5 file via `model.save()` or `keras.saving.save_model(model)`. This file format is considered legacy. We recommend using instead the native Keras format, e.g. `model.save('my_model.keras')` or `keras.saving.save_model(model, 'my_model.keras')`. \n"
     ]
    },
    {
     "name": "stdout",
     "output_type": "stream",
     "text": [
      "\n",
      "Epoch 56: val_loss improved from 0.00260 to 0.00256, saving model to 10Var-szc-rnn.h5\n"
     ]
    },
    {
     "name": "stderr",
     "output_type": "stream",
     "text": [
      "WARNING:absl:You are saving your model as an HDF5 file via `model.save()` or `keras.saving.save_model(model)`. This file format is considered legacy. We recommend using instead the native Keras format, e.g. `model.save('my_model.keras')` or `keras.saving.save_model(model, 'my_model.keras')`. \n"
     ]
    },
    {
     "name": "stdout",
     "output_type": "stream",
     "text": [
      "\n",
      "Epoch 57: val_loss improved from 0.00256 to 0.00252, saving model to 10Var-szc-rnn.h5\n"
     ]
    },
    {
     "name": "stderr",
     "output_type": "stream",
     "text": [
      "WARNING:absl:You are saving your model as an HDF5 file via `model.save()` or `keras.saving.save_model(model)`. This file format is considered legacy. We recommend using instead the native Keras format, e.g. `model.save('my_model.keras')` or `keras.saving.save_model(model, 'my_model.keras')`. \n"
     ]
    },
    {
     "name": "stdout",
     "output_type": "stream",
     "text": [
      "\n",
      "Epoch 58: val_loss improved from 0.00252 to 0.00248, saving model to 10Var-szc-rnn.h5\n"
     ]
    },
    {
     "name": "stderr",
     "output_type": "stream",
     "text": [
      "WARNING:absl:You are saving your model as an HDF5 file via `model.save()` or `keras.saving.save_model(model)`. This file format is considered legacy. We recommend using instead the native Keras format, e.g. `model.save('my_model.keras')` or `keras.saving.save_model(model, 'my_model.keras')`. \n"
     ]
    },
    {
     "name": "stdout",
     "output_type": "stream",
     "text": [
      "\n",
      "Epoch 59: val_loss improved from 0.00248 to 0.00244, saving model to 10Var-szc-rnn.h5\n"
     ]
    },
    {
     "name": "stderr",
     "output_type": "stream",
     "text": [
      "WARNING:absl:You are saving your model as an HDF5 file via `model.save()` or `keras.saving.save_model(model)`. This file format is considered legacy. We recommend using instead the native Keras format, e.g. `model.save('my_model.keras')` or `keras.saving.save_model(model, 'my_model.keras')`. \n"
     ]
    },
    {
     "name": "stdout",
     "output_type": "stream",
     "text": [
      "\n",
      "Epoch 60: val_loss improved from 0.00244 to 0.00241, saving model to 10Var-szc-rnn.h5\n"
     ]
    },
    {
     "name": "stderr",
     "output_type": "stream",
     "text": [
      "WARNING:absl:You are saving your model as an HDF5 file via `model.save()` or `keras.saving.save_model(model)`. This file format is considered legacy. We recommend using instead the native Keras format, e.g. `model.save('my_model.keras')` or `keras.saving.save_model(model, 'my_model.keras')`. \n"
     ]
    },
    {
     "name": "stdout",
     "output_type": "stream",
     "text": [
      "\n",
      "Epoch 61: val_loss improved from 0.00241 to 0.00238, saving model to 10Var-szc-rnn.h5\n"
     ]
    },
    {
     "name": "stderr",
     "output_type": "stream",
     "text": [
      "WARNING:absl:You are saving your model as an HDF5 file via `model.save()` or `keras.saving.save_model(model)`. This file format is considered legacy. We recommend using instead the native Keras format, e.g. `model.save('my_model.keras')` or `keras.saving.save_model(model, 'my_model.keras')`. \n"
     ]
    },
    {
     "name": "stdout",
     "output_type": "stream",
     "text": [
      "\n",
      "Epoch 62: val_loss improved from 0.00238 to 0.00235, saving model to 10Var-szc-rnn.h5\n"
     ]
    },
    {
     "name": "stderr",
     "output_type": "stream",
     "text": [
      "WARNING:absl:You are saving your model as an HDF5 file via `model.save()` or `keras.saving.save_model(model)`. This file format is considered legacy. We recommend using instead the native Keras format, e.g. `model.save('my_model.keras')` or `keras.saving.save_model(model, 'my_model.keras')`. \n"
     ]
    },
    {
     "name": "stdout",
     "output_type": "stream",
     "text": [
      "\n",
      "Epoch 63: val_loss improved from 0.00235 to 0.00232, saving model to 10Var-szc-rnn.h5\n"
     ]
    },
    {
     "name": "stderr",
     "output_type": "stream",
     "text": [
      "WARNING:absl:You are saving your model as an HDF5 file via `model.save()` or `keras.saving.save_model(model)`. This file format is considered legacy. We recommend using instead the native Keras format, e.g. `model.save('my_model.keras')` or `keras.saving.save_model(model, 'my_model.keras')`. \n"
     ]
    },
    {
     "name": "stdout",
     "output_type": "stream",
     "text": [
      "\n",
      "Epoch 64: val_loss improved from 0.00232 to 0.00229, saving model to 10Var-szc-rnn.h5\n"
     ]
    },
    {
     "name": "stderr",
     "output_type": "stream",
     "text": [
      "WARNING:absl:You are saving your model as an HDF5 file via `model.save()` or `keras.saving.save_model(model)`. This file format is considered legacy. We recommend using instead the native Keras format, e.g. `model.save('my_model.keras')` or `keras.saving.save_model(model, 'my_model.keras')`. \n"
     ]
    },
    {
     "name": "stdout",
     "output_type": "stream",
     "text": [
      "\n",
      "Epoch 65: val_loss improved from 0.00229 to 0.00227, saving model to 10Var-szc-rnn.h5\n"
     ]
    },
    {
     "name": "stderr",
     "output_type": "stream",
     "text": [
      "WARNING:absl:You are saving your model as an HDF5 file via `model.save()` or `keras.saving.save_model(model)`. This file format is considered legacy. We recommend using instead the native Keras format, e.g. `model.save('my_model.keras')` or `keras.saving.save_model(model, 'my_model.keras')`. \n"
     ]
    },
    {
     "name": "stdout",
     "output_type": "stream",
     "text": [
      "\n",
      "Epoch 66: val_loss improved from 0.00227 to 0.00225, saving model to 10Var-szc-rnn.h5\n"
     ]
    },
    {
     "name": "stderr",
     "output_type": "stream",
     "text": [
      "WARNING:absl:You are saving your model as an HDF5 file via `model.save()` or `keras.saving.save_model(model)`. This file format is considered legacy. We recommend using instead the native Keras format, e.g. `model.save('my_model.keras')` or `keras.saving.save_model(model, 'my_model.keras')`. \n"
     ]
    },
    {
     "name": "stdout",
     "output_type": "stream",
     "text": [
      "\n",
      "Epoch 67: val_loss improved from 0.00225 to 0.00223, saving model to 10Var-szc-rnn.h5\n"
     ]
    },
    {
     "name": "stderr",
     "output_type": "stream",
     "text": [
      "WARNING:absl:You are saving your model as an HDF5 file via `model.save()` or `keras.saving.save_model(model)`. This file format is considered legacy. We recommend using instead the native Keras format, e.g. `model.save('my_model.keras')` or `keras.saving.save_model(model, 'my_model.keras')`. \n"
     ]
    },
    {
     "name": "stdout",
     "output_type": "stream",
     "text": [
      "\n",
      "Epoch 68: val_loss improved from 0.00223 to 0.00220, saving model to 10Var-szc-rnn.h5\n"
     ]
    },
    {
     "name": "stderr",
     "output_type": "stream",
     "text": [
      "WARNING:absl:You are saving your model as an HDF5 file via `model.save()` or `keras.saving.save_model(model)`. This file format is considered legacy. We recommend using instead the native Keras format, e.g. `model.save('my_model.keras')` or `keras.saving.save_model(model, 'my_model.keras')`. \n"
     ]
    },
    {
     "name": "stdout",
     "output_type": "stream",
     "text": [
      "\n",
      "Epoch 69: val_loss improved from 0.00220 to 0.00218, saving model to 10Var-szc-rnn.h5\n"
     ]
    },
    {
     "name": "stderr",
     "output_type": "stream",
     "text": [
      "WARNING:absl:You are saving your model as an HDF5 file via `model.save()` or `keras.saving.save_model(model)`. This file format is considered legacy. We recommend using instead the native Keras format, e.g. `model.save('my_model.keras')` or `keras.saving.save_model(model, 'my_model.keras')`. \n"
     ]
    },
    {
     "name": "stdout",
     "output_type": "stream",
     "text": [
      "\n",
      "Epoch 70: val_loss improved from 0.00218 to 0.00215, saving model to 10Var-szc-rnn.h5\n"
     ]
    },
    {
     "name": "stderr",
     "output_type": "stream",
     "text": [
      "WARNING:absl:You are saving your model as an HDF5 file via `model.save()` or `keras.saving.save_model(model)`. This file format is considered legacy. We recommend using instead the native Keras format, e.g. `model.save('my_model.keras')` or `keras.saving.save_model(model, 'my_model.keras')`. \n"
     ]
    },
    {
     "name": "stdout",
     "output_type": "stream",
     "text": [
      "\n",
      "Epoch 71: val_loss improved from 0.00215 to 0.00213, saving model to 10Var-szc-rnn.h5\n"
     ]
    },
    {
     "name": "stderr",
     "output_type": "stream",
     "text": [
      "WARNING:absl:You are saving your model as an HDF5 file via `model.save()` or `keras.saving.save_model(model)`. This file format is considered legacy. We recommend using instead the native Keras format, e.g. `model.save('my_model.keras')` or `keras.saving.save_model(model, 'my_model.keras')`. \n"
     ]
    },
    {
     "name": "stdout",
     "output_type": "stream",
     "text": [
      "\n",
      "Epoch 72: val_loss improved from 0.00213 to 0.00210, saving model to 10Var-szc-rnn.h5\n"
     ]
    },
    {
     "name": "stderr",
     "output_type": "stream",
     "text": [
      "WARNING:absl:You are saving your model as an HDF5 file via `model.save()` or `keras.saving.save_model(model)`. This file format is considered legacy. We recommend using instead the native Keras format, e.g. `model.save('my_model.keras')` or `keras.saving.save_model(model, 'my_model.keras')`. \n"
     ]
    },
    {
     "name": "stdout",
     "output_type": "stream",
     "text": [
      "\n",
      "Epoch 73: val_loss improved from 0.00210 to 0.00208, saving model to 10Var-szc-rnn.h5\n"
     ]
    },
    {
     "name": "stderr",
     "output_type": "stream",
     "text": [
      "WARNING:absl:You are saving your model as an HDF5 file via `model.save()` or `keras.saving.save_model(model)`. This file format is considered legacy. We recommend using instead the native Keras format, e.g. `model.save('my_model.keras')` or `keras.saving.save_model(model, 'my_model.keras')`. \n"
     ]
    },
    {
     "name": "stdout",
     "output_type": "stream",
     "text": [
      "\n",
      "Epoch 74: val_loss improved from 0.00208 to 0.00205, saving model to 10Var-szc-rnn.h5\n"
     ]
    },
    {
     "name": "stderr",
     "output_type": "stream",
     "text": [
      "WARNING:absl:You are saving your model as an HDF5 file via `model.save()` or `keras.saving.save_model(model)`. This file format is considered legacy. We recommend using instead the native Keras format, e.g. `model.save('my_model.keras')` or `keras.saving.save_model(model, 'my_model.keras')`. \n"
     ]
    },
    {
     "name": "stdout",
     "output_type": "stream",
     "text": [
      "\n",
      "Epoch 75: val_loss improved from 0.00205 to 0.00203, saving model to 10Var-szc-rnn.h5\n"
     ]
    },
    {
     "name": "stderr",
     "output_type": "stream",
     "text": [
      "WARNING:absl:You are saving your model as an HDF5 file via `model.save()` or `keras.saving.save_model(model)`. This file format is considered legacy. We recommend using instead the native Keras format, e.g. `model.save('my_model.keras')` or `keras.saving.save_model(model, 'my_model.keras')`. \n"
     ]
    },
    {
     "name": "stdout",
     "output_type": "stream",
     "text": [
      "\n",
      "Epoch 76: val_loss improved from 0.00203 to 0.00200, saving model to 10Var-szc-rnn.h5\n"
     ]
    },
    {
     "name": "stderr",
     "output_type": "stream",
     "text": [
      "WARNING:absl:You are saving your model as an HDF5 file via `model.save()` or `keras.saving.save_model(model)`. This file format is considered legacy. We recommend using instead the native Keras format, e.g. `model.save('my_model.keras')` or `keras.saving.save_model(model, 'my_model.keras')`. \n"
     ]
    },
    {
     "name": "stdout",
     "output_type": "stream",
     "text": [
      "\n",
      "Epoch 77: val_loss improved from 0.00200 to 0.00198, saving model to 10Var-szc-rnn.h5\n"
     ]
    },
    {
     "name": "stderr",
     "output_type": "stream",
     "text": [
      "WARNING:absl:You are saving your model as an HDF5 file via `model.save()` or `keras.saving.save_model(model)`. This file format is considered legacy. We recommend using instead the native Keras format, e.g. `model.save('my_model.keras')` or `keras.saving.save_model(model, 'my_model.keras')`. \n"
     ]
    },
    {
     "name": "stdout",
     "output_type": "stream",
     "text": [
      "\n",
      "Epoch 78: val_loss improved from 0.00198 to 0.00195, saving model to 10Var-szc-rnn.h5\n"
     ]
    },
    {
     "name": "stderr",
     "output_type": "stream",
     "text": [
      "WARNING:absl:You are saving your model as an HDF5 file via `model.save()` or `keras.saving.save_model(model)`. This file format is considered legacy. We recommend using instead the native Keras format, e.g. `model.save('my_model.keras')` or `keras.saving.save_model(model, 'my_model.keras')`. \n"
     ]
    },
    {
     "name": "stdout",
     "output_type": "stream",
     "text": [
      "\n",
      "Epoch 79: val_loss improved from 0.00195 to 0.00193, saving model to 10Var-szc-rnn.h5\n"
     ]
    },
    {
     "name": "stderr",
     "output_type": "stream",
     "text": [
      "WARNING:absl:You are saving your model as an HDF5 file via `model.save()` or `keras.saving.save_model(model)`. This file format is considered legacy. We recommend using instead the native Keras format, e.g. `model.save('my_model.keras')` or `keras.saving.save_model(model, 'my_model.keras')`. \n"
     ]
    },
    {
     "name": "stdout",
     "output_type": "stream",
     "text": [
      "\n",
      "Epoch 80: val_loss improved from 0.00193 to 0.00191, saving model to 10Var-szc-rnn.h5\n"
     ]
    },
    {
     "name": "stderr",
     "output_type": "stream",
     "text": [
      "WARNING:absl:You are saving your model as an HDF5 file via `model.save()` or `keras.saving.save_model(model)`. This file format is considered legacy. We recommend using instead the native Keras format, e.g. `model.save('my_model.keras')` or `keras.saving.save_model(model, 'my_model.keras')`. \n"
     ]
    },
    {
     "name": "stdout",
     "output_type": "stream",
     "text": [
      "\n",
      "Epoch 81: val_loss improved from 0.00191 to 0.00190, saving model to 10Var-szc-rnn.h5\n"
     ]
    },
    {
     "name": "stderr",
     "output_type": "stream",
     "text": [
      "WARNING:absl:You are saving your model as an HDF5 file via `model.save()` or `keras.saving.save_model(model)`. This file format is considered legacy. We recommend using instead the native Keras format, e.g. `model.save('my_model.keras')` or `keras.saving.save_model(model, 'my_model.keras')`. \n"
     ]
    },
    {
     "name": "stdout",
     "output_type": "stream",
     "text": [
      "\n",
      "Epoch 82: val_loss improved from 0.00190 to 0.00188, saving model to 10Var-szc-rnn.h5\n"
     ]
    },
    {
     "name": "stderr",
     "output_type": "stream",
     "text": [
      "WARNING:absl:You are saving your model as an HDF5 file via `model.save()` or `keras.saving.save_model(model)`. This file format is considered legacy. We recommend using instead the native Keras format, e.g. `model.save('my_model.keras')` or `keras.saving.save_model(model, 'my_model.keras')`. \n"
     ]
    },
    {
     "name": "stdout",
     "output_type": "stream",
     "text": [
      "\n",
      "Epoch 83: val_loss improved from 0.00188 to 0.00186, saving model to 10Var-szc-rnn.h5\n"
     ]
    },
    {
     "name": "stderr",
     "output_type": "stream",
     "text": [
      "WARNING:absl:You are saving your model as an HDF5 file via `model.save()` or `keras.saving.save_model(model)`. This file format is considered legacy. We recommend using instead the native Keras format, e.g. `model.save('my_model.keras')` or `keras.saving.save_model(model, 'my_model.keras')`. \n"
     ]
    },
    {
     "name": "stdout",
     "output_type": "stream",
     "text": [
      "\n",
      "Epoch 84: val_loss improved from 0.00186 to 0.00184, saving model to 10Var-szc-rnn.h5\n"
     ]
    },
    {
     "name": "stderr",
     "output_type": "stream",
     "text": [
      "WARNING:absl:You are saving your model as an HDF5 file via `model.save()` or `keras.saving.save_model(model)`. This file format is considered legacy. We recommend using instead the native Keras format, e.g. `model.save('my_model.keras')` or `keras.saving.save_model(model, 'my_model.keras')`. \n"
     ]
    },
    {
     "name": "stdout",
     "output_type": "stream",
     "text": [
      "\n",
      "Epoch 85: val_loss improved from 0.00184 to 0.00182, saving model to 10Var-szc-rnn.h5\n"
     ]
    },
    {
     "name": "stderr",
     "output_type": "stream",
     "text": [
      "WARNING:absl:You are saving your model as an HDF5 file via `model.save()` or `keras.saving.save_model(model)`. This file format is considered legacy. We recommend using instead the native Keras format, e.g. `model.save('my_model.keras')` or `keras.saving.save_model(model, 'my_model.keras')`. \n"
     ]
    },
    {
     "name": "stdout",
     "output_type": "stream",
     "text": [
      "\n",
      "Epoch 86: val_loss improved from 0.00182 to 0.00180, saving model to 10Var-szc-rnn.h5\n"
     ]
    },
    {
     "name": "stderr",
     "output_type": "stream",
     "text": [
      "WARNING:absl:You are saving your model as an HDF5 file via `model.save()` or `keras.saving.save_model(model)`. This file format is considered legacy. We recommend using instead the native Keras format, e.g. `model.save('my_model.keras')` or `keras.saving.save_model(model, 'my_model.keras')`. \n"
     ]
    },
    {
     "name": "stdout",
     "output_type": "stream",
     "text": [
      "\n",
      "Epoch 87: val_loss improved from 0.00180 to 0.00178, saving model to 10Var-szc-rnn.h5\n"
     ]
    },
    {
     "name": "stderr",
     "output_type": "stream",
     "text": [
      "WARNING:absl:You are saving your model as an HDF5 file via `model.save()` or `keras.saving.save_model(model)`. This file format is considered legacy. We recommend using instead the native Keras format, e.g. `model.save('my_model.keras')` or `keras.saving.save_model(model, 'my_model.keras')`. \n"
     ]
    },
    {
     "name": "stdout",
     "output_type": "stream",
     "text": [
      "\n",
      "Epoch 88: val_loss improved from 0.00178 to 0.00176, saving model to 10Var-szc-rnn.h5\n"
     ]
    },
    {
     "name": "stderr",
     "output_type": "stream",
     "text": [
      "WARNING:absl:You are saving your model as an HDF5 file via `model.save()` or `keras.saving.save_model(model)`. This file format is considered legacy. We recommend using instead the native Keras format, e.g. `model.save('my_model.keras')` or `keras.saving.save_model(model, 'my_model.keras')`. \n"
     ]
    },
    {
     "name": "stdout",
     "output_type": "stream",
     "text": [
      "\n",
      "Epoch 89: val_loss improved from 0.00176 to 0.00175, saving model to 10Var-szc-rnn.h5\n"
     ]
    },
    {
     "name": "stderr",
     "output_type": "stream",
     "text": [
      "WARNING:absl:You are saving your model as an HDF5 file via `model.save()` or `keras.saving.save_model(model)`. This file format is considered legacy. We recommend using instead the native Keras format, e.g. `model.save('my_model.keras')` or `keras.saving.save_model(model, 'my_model.keras')`. \n"
     ]
    },
    {
     "name": "stdout",
     "output_type": "stream",
     "text": [
      "\n",
      "Epoch 90: val_loss improved from 0.00175 to 0.00173, saving model to 10Var-szc-rnn.h5\n"
     ]
    },
    {
     "name": "stderr",
     "output_type": "stream",
     "text": [
      "WARNING:absl:You are saving your model as an HDF5 file via `model.save()` or `keras.saving.save_model(model)`. This file format is considered legacy. We recommend using instead the native Keras format, e.g. `model.save('my_model.keras')` or `keras.saving.save_model(model, 'my_model.keras')`. \n"
     ]
    },
    {
     "name": "stdout",
     "output_type": "stream",
     "text": [
      "\n",
      "Epoch 91: val_loss improved from 0.00173 to 0.00172, saving model to 10Var-szc-rnn.h5\n"
     ]
    },
    {
     "name": "stderr",
     "output_type": "stream",
     "text": [
      "WARNING:absl:You are saving your model as an HDF5 file via `model.save()` or `keras.saving.save_model(model)`. This file format is considered legacy. We recommend using instead the native Keras format, e.g. `model.save('my_model.keras')` or `keras.saving.save_model(model, 'my_model.keras')`. \n"
     ]
    },
    {
     "name": "stdout",
     "output_type": "stream",
     "text": [
      "\n",
      "Epoch 92: val_loss improved from 0.00172 to 0.00170, saving model to 10Var-szc-rnn.h5\n"
     ]
    },
    {
     "name": "stderr",
     "output_type": "stream",
     "text": [
      "WARNING:absl:You are saving your model as an HDF5 file via `model.save()` or `keras.saving.save_model(model)`. This file format is considered legacy. We recommend using instead the native Keras format, e.g. `model.save('my_model.keras')` or `keras.saving.save_model(model, 'my_model.keras')`. \n"
     ]
    },
    {
     "name": "stdout",
     "output_type": "stream",
     "text": [
      "\n",
      "Epoch 93: val_loss improved from 0.00170 to 0.00168, saving model to 10Var-szc-rnn.h5\n"
     ]
    },
    {
     "name": "stderr",
     "output_type": "stream",
     "text": [
      "WARNING:absl:You are saving your model as an HDF5 file via `model.save()` or `keras.saving.save_model(model)`. This file format is considered legacy. We recommend using instead the native Keras format, e.g. `model.save('my_model.keras')` or `keras.saving.save_model(model, 'my_model.keras')`. \n"
     ]
    },
    {
     "name": "stdout",
     "output_type": "stream",
     "text": [
      "\n",
      "Epoch 94: val_loss improved from 0.00168 to 0.00167, saving model to 10Var-szc-rnn.h5\n"
     ]
    },
    {
     "name": "stderr",
     "output_type": "stream",
     "text": [
      "WARNING:absl:You are saving your model as an HDF5 file via `model.save()` or `keras.saving.save_model(model)`. This file format is considered legacy. We recommend using instead the native Keras format, e.g. `model.save('my_model.keras')` or `keras.saving.save_model(model, 'my_model.keras')`. \n"
     ]
    },
    {
     "name": "stdout",
     "output_type": "stream",
     "text": [
      "\n",
      "Epoch 95: val_loss improved from 0.00167 to 0.00165, saving model to 10Var-szc-rnn.h5\n"
     ]
    },
    {
     "name": "stderr",
     "output_type": "stream",
     "text": [
      "WARNING:absl:You are saving your model as an HDF5 file via `model.save()` or `keras.saving.save_model(model)`. This file format is considered legacy. We recommend using instead the native Keras format, e.g. `model.save('my_model.keras')` or `keras.saving.save_model(model, 'my_model.keras')`. \n"
     ]
    },
    {
     "name": "stdout",
     "output_type": "stream",
     "text": [
      "\n",
      "Epoch 96: val_loss improved from 0.00165 to 0.00164, saving model to 10Var-szc-rnn.h5\n"
     ]
    },
    {
     "name": "stderr",
     "output_type": "stream",
     "text": [
      "WARNING:absl:You are saving your model as an HDF5 file via `model.save()` or `keras.saving.save_model(model)`. This file format is considered legacy. We recommend using instead the native Keras format, e.g. `model.save('my_model.keras')` or `keras.saving.save_model(model, 'my_model.keras')`. \n"
     ]
    },
    {
     "name": "stdout",
     "output_type": "stream",
     "text": [
      "\n",
      "Epoch 97: val_loss improved from 0.00164 to 0.00163, saving model to 10Var-szc-rnn.h5\n"
     ]
    },
    {
     "name": "stderr",
     "output_type": "stream",
     "text": [
      "WARNING:absl:You are saving your model as an HDF5 file via `model.save()` or `keras.saving.save_model(model)`. This file format is considered legacy. We recommend using instead the native Keras format, e.g. `model.save('my_model.keras')` or `keras.saving.save_model(model, 'my_model.keras')`. \n"
     ]
    },
    {
     "name": "stdout",
     "output_type": "stream",
     "text": [
      "\n",
      "Epoch 98: val_loss improved from 0.00163 to 0.00161, saving model to 10Var-szc-rnn.h5\n"
     ]
    },
    {
     "name": "stderr",
     "output_type": "stream",
     "text": [
      "WARNING:absl:You are saving your model as an HDF5 file via `model.save()` or `keras.saving.save_model(model)`. This file format is considered legacy. We recommend using instead the native Keras format, e.g. `model.save('my_model.keras')` or `keras.saving.save_model(model, 'my_model.keras')`. \n"
     ]
    },
    {
     "name": "stdout",
     "output_type": "stream",
     "text": [
      "\n",
      "Epoch 99: val_loss improved from 0.00161 to 0.00160, saving model to 10Var-szc-rnn.h5\n"
     ]
    },
    {
     "name": "stderr",
     "output_type": "stream",
     "text": [
      "WARNING:absl:You are saving your model as an HDF5 file via `model.save()` or `keras.saving.save_model(model)`. This file format is considered legacy. We recommend using instead the native Keras format, e.g. `model.save('my_model.keras')` or `keras.saving.save_model(model, 'my_model.keras')`. \n"
     ]
    },
    {
     "name": "stdout",
     "output_type": "stream",
     "text": [
      "\n",
      "Epoch 100: val_loss improved from 0.00160 to 0.00158, saving model to 10Var-szc-rnn.h5\n"
     ]
    },
    {
     "name": "stderr",
     "output_type": "stream",
     "text": [
      "WARNING:absl:You are saving your model as an HDF5 file via `model.save()` or `keras.saving.save_model(model)`. This file format is considered legacy. We recommend using instead the native Keras format, e.g. `model.save('my_model.keras')` or `keras.saving.save_model(model, 'my_model.keras')`. \n"
     ]
    },
    {
     "name": "stdout",
     "output_type": "stream",
     "text": [
      "\n",
      "Epoch 101: val_loss improved from 0.00158 to 0.00157, saving model to 10Var-szc-rnn.h5\n"
     ]
    },
    {
     "name": "stderr",
     "output_type": "stream",
     "text": [
      "WARNING:absl:You are saving your model as an HDF5 file via `model.save()` or `keras.saving.save_model(model)`. This file format is considered legacy. We recommend using instead the native Keras format, e.g. `model.save('my_model.keras')` or `keras.saving.save_model(model, 'my_model.keras')`. \n"
     ]
    },
    {
     "name": "stdout",
     "output_type": "stream",
     "text": [
      "\n",
      "Epoch 102: val_loss improved from 0.00157 to 0.00155, saving model to 10Var-szc-rnn.h5\n"
     ]
    },
    {
     "name": "stderr",
     "output_type": "stream",
     "text": [
      "WARNING:absl:You are saving your model as an HDF5 file via `model.save()` or `keras.saving.save_model(model)`. This file format is considered legacy. We recommend using instead the native Keras format, e.g. `model.save('my_model.keras')` or `keras.saving.save_model(model, 'my_model.keras')`. \n"
     ]
    },
    {
     "name": "stdout",
     "output_type": "stream",
     "text": [
      "\n",
      "Epoch 103: val_loss improved from 0.00155 to 0.00154, saving model to 10Var-szc-rnn.h5\n"
     ]
    },
    {
     "name": "stderr",
     "output_type": "stream",
     "text": [
      "WARNING:absl:You are saving your model as an HDF5 file via `model.save()` or `keras.saving.save_model(model)`. This file format is considered legacy. We recommend using instead the native Keras format, e.g. `model.save('my_model.keras')` or `keras.saving.save_model(model, 'my_model.keras')`. \n"
     ]
    },
    {
     "name": "stdout",
     "output_type": "stream",
     "text": [
      "\n",
      "Epoch 104: val_loss improved from 0.00154 to 0.00152, saving model to 10Var-szc-rnn.h5\n"
     ]
    },
    {
     "name": "stderr",
     "output_type": "stream",
     "text": [
      "WARNING:absl:You are saving your model as an HDF5 file via `model.save()` or `keras.saving.save_model(model)`. This file format is considered legacy. We recommend using instead the native Keras format, e.g. `model.save('my_model.keras')` or `keras.saving.save_model(model, 'my_model.keras')`. \n"
     ]
    },
    {
     "name": "stdout",
     "output_type": "stream",
     "text": [
      "\n",
      "Epoch 105: val_loss improved from 0.00152 to 0.00151, saving model to 10Var-szc-rnn.h5\n"
     ]
    },
    {
     "name": "stderr",
     "output_type": "stream",
     "text": [
      "WARNING:absl:You are saving your model as an HDF5 file via `model.save()` or `keras.saving.save_model(model)`. This file format is considered legacy. We recommend using instead the native Keras format, e.g. `model.save('my_model.keras')` or `keras.saving.save_model(model, 'my_model.keras')`. \n"
     ]
    },
    {
     "name": "stdout",
     "output_type": "stream",
     "text": [
      "\n",
      "Epoch 106: val_loss improved from 0.00151 to 0.00149, saving model to 10Var-szc-rnn.h5\n"
     ]
    },
    {
     "name": "stderr",
     "output_type": "stream",
     "text": [
      "WARNING:absl:You are saving your model as an HDF5 file via `model.save()` or `keras.saving.save_model(model)`. This file format is considered legacy. We recommend using instead the native Keras format, e.g. `model.save('my_model.keras')` or `keras.saving.save_model(model, 'my_model.keras')`. \n"
     ]
    },
    {
     "name": "stdout",
     "output_type": "stream",
     "text": [
      "\n",
      "Epoch 107: val_loss improved from 0.00149 to 0.00148, saving model to 10Var-szc-rnn.h5\n"
     ]
    },
    {
     "name": "stderr",
     "output_type": "stream",
     "text": [
      "WARNING:absl:You are saving your model as an HDF5 file via `model.save()` or `keras.saving.save_model(model)`. This file format is considered legacy. We recommend using instead the native Keras format, e.g. `model.save('my_model.keras')` or `keras.saving.save_model(model, 'my_model.keras')`. \n"
     ]
    },
    {
     "name": "stdout",
     "output_type": "stream",
     "text": [
      "\n",
      "Epoch 108: val_loss improved from 0.00148 to 0.00147, saving model to 10Var-szc-rnn.h5\n"
     ]
    },
    {
     "name": "stderr",
     "output_type": "stream",
     "text": [
      "WARNING:absl:You are saving your model as an HDF5 file via `model.save()` or `keras.saving.save_model(model)`. This file format is considered legacy. We recommend using instead the native Keras format, e.g. `model.save('my_model.keras')` or `keras.saving.save_model(model, 'my_model.keras')`. \n"
     ]
    },
    {
     "name": "stdout",
     "output_type": "stream",
     "text": [
      "\n",
      "Epoch 109: val_loss improved from 0.00147 to 0.00145, saving model to 10Var-szc-rnn.h5\n"
     ]
    },
    {
     "name": "stderr",
     "output_type": "stream",
     "text": [
      "WARNING:absl:You are saving your model as an HDF5 file via `model.save()` or `keras.saving.save_model(model)`. This file format is considered legacy. We recommend using instead the native Keras format, e.g. `model.save('my_model.keras')` or `keras.saving.save_model(model, 'my_model.keras')`. \n"
     ]
    },
    {
     "name": "stdout",
     "output_type": "stream",
     "text": [
      "\n",
      "Epoch 110: val_loss improved from 0.00145 to 0.00144, saving model to 10Var-szc-rnn.h5\n"
     ]
    },
    {
     "name": "stderr",
     "output_type": "stream",
     "text": [
      "WARNING:absl:You are saving your model as an HDF5 file via `model.save()` or `keras.saving.save_model(model)`. This file format is considered legacy. We recommend using instead the native Keras format, e.g. `model.save('my_model.keras')` or `keras.saving.save_model(model, 'my_model.keras')`. \n"
     ]
    },
    {
     "name": "stdout",
     "output_type": "stream",
     "text": [
      "\n",
      "Epoch 111: val_loss improved from 0.00144 to 0.00143, saving model to 10Var-szc-rnn.h5\n"
     ]
    },
    {
     "name": "stderr",
     "output_type": "stream",
     "text": [
      "WARNING:absl:You are saving your model as an HDF5 file via `model.save()` or `keras.saving.save_model(model)`. This file format is considered legacy. We recommend using instead the native Keras format, e.g. `model.save('my_model.keras')` or `keras.saving.save_model(model, 'my_model.keras')`. \n"
     ]
    },
    {
     "name": "stdout",
     "output_type": "stream",
     "text": [
      "\n",
      "Epoch 112: val_loss improved from 0.00143 to 0.00142, saving model to 10Var-szc-rnn.h5\n"
     ]
    },
    {
     "name": "stderr",
     "output_type": "stream",
     "text": [
      "WARNING:absl:You are saving your model as an HDF5 file via `model.save()` or `keras.saving.save_model(model)`. This file format is considered legacy. We recommend using instead the native Keras format, e.g. `model.save('my_model.keras')` or `keras.saving.save_model(model, 'my_model.keras')`. \n"
     ]
    },
    {
     "name": "stdout",
     "output_type": "stream",
     "text": [
      "\n",
      "Epoch 113: val_loss improved from 0.00142 to 0.00140, saving model to 10Var-szc-rnn.h5\n"
     ]
    },
    {
     "name": "stderr",
     "output_type": "stream",
     "text": [
      "WARNING:absl:You are saving your model as an HDF5 file via `model.save()` or `keras.saving.save_model(model)`. This file format is considered legacy. We recommend using instead the native Keras format, e.g. `model.save('my_model.keras')` or `keras.saving.save_model(model, 'my_model.keras')`. \n"
     ]
    },
    {
     "name": "stdout",
     "output_type": "stream",
     "text": [
      "\n",
      "Epoch 114: val_loss improved from 0.00140 to 0.00139, saving model to 10Var-szc-rnn.h5\n"
     ]
    },
    {
     "name": "stderr",
     "output_type": "stream",
     "text": [
      "WARNING:absl:You are saving your model as an HDF5 file via `model.save()` or `keras.saving.save_model(model)`. This file format is considered legacy. We recommend using instead the native Keras format, e.g. `model.save('my_model.keras')` or `keras.saving.save_model(model, 'my_model.keras')`. \n"
     ]
    },
    {
     "name": "stdout",
     "output_type": "stream",
     "text": [
      "\n",
      "Epoch 115: val_loss improved from 0.00139 to 0.00138, saving model to 10Var-szc-rnn.h5\n"
     ]
    },
    {
     "name": "stderr",
     "output_type": "stream",
     "text": [
      "WARNING:absl:You are saving your model as an HDF5 file via `model.save()` or `keras.saving.save_model(model)`. This file format is considered legacy. We recommend using instead the native Keras format, e.g. `model.save('my_model.keras')` or `keras.saving.save_model(model, 'my_model.keras')`. \n"
     ]
    },
    {
     "name": "stdout",
     "output_type": "stream",
     "text": [
      "\n",
      "Epoch 116: val_loss improved from 0.00138 to 0.00137, saving model to 10Var-szc-rnn.h5\n"
     ]
    },
    {
     "name": "stderr",
     "output_type": "stream",
     "text": [
      "WARNING:absl:You are saving your model as an HDF5 file via `model.save()` or `keras.saving.save_model(model)`. This file format is considered legacy. We recommend using instead the native Keras format, e.g. `model.save('my_model.keras')` or `keras.saving.save_model(model, 'my_model.keras')`. \n"
     ]
    },
    {
     "name": "stdout",
     "output_type": "stream",
     "text": [
      "\n",
      "Epoch 117: val_loss improved from 0.00137 to 0.00136, saving model to 10Var-szc-rnn.h5\n"
     ]
    },
    {
     "name": "stderr",
     "output_type": "stream",
     "text": [
      "WARNING:absl:You are saving your model as an HDF5 file via `model.save()` or `keras.saving.save_model(model)`. This file format is considered legacy. We recommend using instead the native Keras format, e.g. `model.save('my_model.keras')` or `keras.saving.save_model(model, 'my_model.keras')`. \n"
     ]
    },
    {
     "name": "stdout",
     "output_type": "stream",
     "text": [
      "\n",
      "Epoch 118: val_loss improved from 0.00136 to 0.00135, saving model to 10Var-szc-rnn.h5\n"
     ]
    },
    {
     "name": "stderr",
     "output_type": "stream",
     "text": [
      "WARNING:absl:You are saving your model as an HDF5 file via `model.save()` or `keras.saving.save_model(model)`. This file format is considered legacy. We recommend using instead the native Keras format, e.g. `model.save('my_model.keras')` or `keras.saving.save_model(model, 'my_model.keras')`. \n"
     ]
    },
    {
     "name": "stdout",
     "output_type": "stream",
     "text": [
      "\n",
      "Epoch 119: val_loss improved from 0.00135 to 0.00134, saving model to 10Var-szc-rnn.h5\n"
     ]
    },
    {
     "name": "stderr",
     "output_type": "stream",
     "text": [
      "WARNING:absl:You are saving your model as an HDF5 file via `model.save()` or `keras.saving.save_model(model)`. This file format is considered legacy. We recommend using instead the native Keras format, e.g. `model.save('my_model.keras')` or `keras.saving.save_model(model, 'my_model.keras')`. \n"
     ]
    },
    {
     "name": "stdout",
     "output_type": "stream",
     "text": [
      "\n",
      "Epoch 120: val_loss improved from 0.00134 to 0.00133, saving model to 10Var-szc-rnn.h5\n"
     ]
    },
    {
     "name": "stderr",
     "output_type": "stream",
     "text": [
      "WARNING:absl:You are saving your model as an HDF5 file via `model.save()` or `keras.saving.save_model(model)`. This file format is considered legacy. We recommend using instead the native Keras format, e.g. `model.save('my_model.keras')` or `keras.saving.save_model(model, 'my_model.keras')`. \n"
     ]
    },
    {
     "name": "stdout",
     "output_type": "stream",
     "text": [
      "\n",
      "Epoch 121: val_loss improved from 0.00133 to 0.00132, saving model to 10Var-szc-rnn.h5\n"
     ]
    },
    {
     "name": "stderr",
     "output_type": "stream",
     "text": [
      "WARNING:absl:You are saving your model as an HDF5 file via `model.save()` or `keras.saving.save_model(model)`. This file format is considered legacy. We recommend using instead the native Keras format, e.g. `model.save('my_model.keras')` or `keras.saving.save_model(model, 'my_model.keras')`. \n"
     ]
    },
    {
     "name": "stdout",
     "output_type": "stream",
     "text": [
      "\n",
      "Epoch 122: val_loss improved from 0.00132 to 0.00131, saving model to 10Var-szc-rnn.h5\n"
     ]
    },
    {
     "name": "stderr",
     "output_type": "stream",
     "text": [
      "WARNING:absl:You are saving your model as an HDF5 file via `model.save()` or `keras.saving.save_model(model)`. This file format is considered legacy. We recommend using instead the native Keras format, e.g. `model.save('my_model.keras')` or `keras.saving.save_model(model, 'my_model.keras')`. \n"
     ]
    },
    {
     "name": "stdout",
     "output_type": "stream",
     "text": [
      "\n",
      "Epoch 123: val_loss improved from 0.00131 to 0.00130, saving model to 10Var-szc-rnn.h5\n"
     ]
    },
    {
     "name": "stderr",
     "output_type": "stream",
     "text": [
      "WARNING:absl:You are saving your model as an HDF5 file via `model.save()` or `keras.saving.save_model(model)`. This file format is considered legacy. We recommend using instead the native Keras format, e.g. `model.save('my_model.keras')` or `keras.saving.save_model(model, 'my_model.keras')`. \n"
     ]
    },
    {
     "name": "stdout",
     "output_type": "stream",
     "text": [
      "\n",
      "Epoch 124: val_loss improved from 0.00130 to 0.00128, saving model to 10Var-szc-rnn.h5\n"
     ]
    },
    {
     "name": "stderr",
     "output_type": "stream",
     "text": [
      "WARNING:absl:You are saving your model as an HDF5 file via `model.save()` or `keras.saving.save_model(model)`. This file format is considered legacy. We recommend using instead the native Keras format, e.g. `model.save('my_model.keras')` or `keras.saving.save_model(model, 'my_model.keras')`. \n"
     ]
    },
    {
     "name": "stdout",
     "output_type": "stream",
     "text": [
      "\n",
      "Epoch 125: val_loss improved from 0.00128 to 0.00127, saving model to 10Var-szc-rnn.h5\n"
     ]
    },
    {
     "name": "stderr",
     "output_type": "stream",
     "text": [
      "WARNING:absl:You are saving your model as an HDF5 file via `model.save()` or `keras.saving.save_model(model)`. This file format is considered legacy. We recommend using instead the native Keras format, e.g. `model.save('my_model.keras')` or `keras.saving.save_model(model, 'my_model.keras')`. \n"
     ]
    },
    {
     "name": "stdout",
     "output_type": "stream",
     "text": [
      "\n",
      "Epoch 126: val_loss improved from 0.00127 to 0.00126, saving model to 10Var-szc-rnn.h5\n"
     ]
    },
    {
     "name": "stderr",
     "output_type": "stream",
     "text": [
      "WARNING:absl:You are saving your model as an HDF5 file via `model.save()` or `keras.saving.save_model(model)`. This file format is considered legacy. We recommend using instead the native Keras format, e.g. `model.save('my_model.keras')` or `keras.saving.save_model(model, 'my_model.keras')`. \n"
     ]
    },
    {
     "name": "stdout",
     "output_type": "stream",
     "text": [
      "\n",
      "Epoch 127: val_loss improved from 0.00126 to 0.00126, saving model to 10Var-szc-rnn.h5\n"
     ]
    },
    {
     "name": "stderr",
     "output_type": "stream",
     "text": [
      "WARNING:absl:You are saving your model as an HDF5 file via `model.save()` or `keras.saving.save_model(model)`. This file format is considered legacy. We recommend using instead the native Keras format, e.g. `model.save('my_model.keras')` or `keras.saving.save_model(model, 'my_model.keras')`. \n"
     ]
    },
    {
     "name": "stdout",
     "output_type": "stream",
     "text": [
      "\n",
      "Epoch 128: val_loss improved from 0.00126 to 0.00125, saving model to 10Var-szc-rnn.h5\n"
     ]
    },
    {
     "name": "stderr",
     "output_type": "stream",
     "text": [
      "WARNING:absl:You are saving your model as an HDF5 file via `model.save()` or `keras.saving.save_model(model)`. This file format is considered legacy. We recommend using instead the native Keras format, e.g. `model.save('my_model.keras')` or `keras.saving.save_model(model, 'my_model.keras')`. \n"
     ]
    },
    {
     "name": "stdout",
     "output_type": "stream",
     "text": [
      "\n",
      "Epoch 129: val_loss improved from 0.00125 to 0.00124, saving model to 10Var-szc-rnn.h5\n"
     ]
    },
    {
     "name": "stderr",
     "output_type": "stream",
     "text": [
      "WARNING:absl:You are saving your model as an HDF5 file via `model.save()` or `keras.saving.save_model(model)`. This file format is considered legacy. We recommend using instead the native Keras format, e.g. `model.save('my_model.keras')` or `keras.saving.save_model(model, 'my_model.keras')`. \n"
     ]
    },
    {
     "name": "stdout",
     "output_type": "stream",
     "text": [
      "\n",
      "Epoch 130: val_loss improved from 0.00124 to 0.00123, saving model to 10Var-szc-rnn.h5\n"
     ]
    },
    {
     "name": "stderr",
     "output_type": "stream",
     "text": [
      "WARNING:absl:You are saving your model as an HDF5 file via `model.save()` or `keras.saving.save_model(model)`. This file format is considered legacy. We recommend using instead the native Keras format, e.g. `model.save('my_model.keras')` or `keras.saving.save_model(model, 'my_model.keras')`. \n"
     ]
    },
    {
     "name": "stdout",
     "output_type": "stream",
     "text": [
      "\n",
      "Epoch 131: val_loss improved from 0.00123 to 0.00123, saving model to 10Var-szc-rnn.h5\n"
     ]
    },
    {
     "name": "stderr",
     "output_type": "stream",
     "text": [
      "WARNING:absl:You are saving your model as an HDF5 file via `model.save()` or `keras.saving.save_model(model)`. This file format is considered legacy. We recommend using instead the native Keras format, e.g. `model.save('my_model.keras')` or `keras.saving.save_model(model, 'my_model.keras')`. \n"
     ]
    },
    {
     "name": "stdout",
     "output_type": "stream",
     "text": [
      "\n",
      "Epoch 132: val_loss improved from 0.00123 to 0.00122, saving model to 10Var-szc-rnn.h5\n"
     ]
    },
    {
     "name": "stderr",
     "output_type": "stream",
     "text": [
      "WARNING:absl:You are saving your model as an HDF5 file via `model.save()` or `keras.saving.save_model(model)`. This file format is considered legacy. We recommend using instead the native Keras format, e.g. `model.save('my_model.keras')` or `keras.saving.save_model(model, 'my_model.keras')`. \n"
     ]
    },
    {
     "name": "stdout",
     "output_type": "stream",
     "text": [
      "\n",
      "Epoch 133: val_loss improved from 0.00122 to 0.00122, saving model to 10Var-szc-rnn.h5\n"
     ]
    },
    {
     "name": "stderr",
     "output_type": "stream",
     "text": [
      "WARNING:absl:You are saving your model as an HDF5 file via `model.save()` or `keras.saving.save_model(model)`. This file format is considered legacy. We recommend using instead the native Keras format, e.g. `model.save('my_model.keras')` or `keras.saving.save_model(model, 'my_model.keras')`. \n"
     ]
    },
    {
     "name": "stdout",
     "output_type": "stream",
     "text": [
      "\n",
      "Epoch 134: val_loss improved from 0.00122 to 0.00121, saving model to 10Var-szc-rnn.h5\n"
     ]
    },
    {
     "name": "stderr",
     "output_type": "stream",
     "text": [
      "WARNING:absl:You are saving your model as an HDF5 file via `model.save()` or `keras.saving.save_model(model)`. This file format is considered legacy. We recommend using instead the native Keras format, e.g. `model.save('my_model.keras')` or `keras.saving.save_model(model, 'my_model.keras')`. \n"
     ]
    },
    {
     "name": "stdout",
     "output_type": "stream",
     "text": [
      "\n",
      "Epoch 135: val_loss improved from 0.00121 to 0.00120, saving model to 10Var-szc-rnn.h5\n"
     ]
    },
    {
     "name": "stderr",
     "output_type": "stream",
     "text": [
      "WARNING:absl:You are saving your model as an HDF5 file via `model.save()` or `keras.saving.save_model(model)`. This file format is considered legacy. We recommend using instead the native Keras format, e.g. `model.save('my_model.keras')` or `keras.saving.save_model(model, 'my_model.keras')`. \n"
     ]
    },
    {
     "name": "stdout",
     "output_type": "stream",
     "text": [
      "\n",
      "Epoch 136: val_loss improved from 0.00120 to 0.00119, saving model to 10Var-szc-rnn.h5\n"
     ]
    },
    {
     "name": "stderr",
     "output_type": "stream",
     "text": [
      "WARNING:absl:You are saving your model as an HDF5 file via `model.save()` or `keras.saving.save_model(model)`. This file format is considered legacy. We recommend using instead the native Keras format, e.g. `model.save('my_model.keras')` or `keras.saving.save_model(model, 'my_model.keras')`. \n"
     ]
    },
    {
     "name": "stdout",
     "output_type": "stream",
     "text": [
      "\n",
      "Epoch 137: val_loss improved from 0.00119 to 0.00119, saving model to 10Var-szc-rnn.h5\n"
     ]
    },
    {
     "name": "stderr",
     "output_type": "stream",
     "text": [
      "WARNING:absl:You are saving your model as an HDF5 file via `model.save()` or `keras.saving.save_model(model)`. This file format is considered legacy. We recommend using instead the native Keras format, e.g. `model.save('my_model.keras')` or `keras.saving.save_model(model, 'my_model.keras')`. \n"
     ]
    },
    {
     "name": "stdout",
     "output_type": "stream",
     "text": [
      "\n",
      "Epoch 138: val_loss improved from 0.00119 to 0.00118, saving model to 10Var-szc-rnn.h5\n"
     ]
    },
    {
     "name": "stderr",
     "output_type": "stream",
     "text": [
      "WARNING:absl:You are saving your model as an HDF5 file via `model.save()` or `keras.saving.save_model(model)`. This file format is considered legacy. We recommend using instead the native Keras format, e.g. `model.save('my_model.keras')` or `keras.saving.save_model(model, 'my_model.keras')`. \n"
     ]
    },
    {
     "name": "stdout",
     "output_type": "stream",
     "text": [
      "\n",
      "Epoch 139: val_loss improved from 0.00118 to 0.00117, saving model to 10Var-szc-rnn.h5\n"
     ]
    },
    {
     "name": "stderr",
     "output_type": "stream",
     "text": [
      "WARNING:absl:You are saving your model as an HDF5 file via `model.save()` or `keras.saving.save_model(model)`. This file format is considered legacy. We recommend using instead the native Keras format, e.g. `model.save('my_model.keras')` or `keras.saving.save_model(model, 'my_model.keras')`. \n"
     ]
    },
    {
     "name": "stdout",
     "output_type": "stream",
     "text": [
      "\n",
      "Epoch 140: val_loss improved from 0.00117 to 0.00116, saving model to 10Var-szc-rnn.h5\n"
     ]
    },
    {
     "name": "stderr",
     "output_type": "stream",
     "text": [
      "WARNING:absl:You are saving your model as an HDF5 file via `model.save()` or `keras.saving.save_model(model)`. This file format is considered legacy. We recommend using instead the native Keras format, e.g. `model.save('my_model.keras')` or `keras.saving.save_model(model, 'my_model.keras')`. \n"
     ]
    },
    {
     "name": "stdout",
     "output_type": "stream",
     "text": [
      "\n",
      "Epoch 141: val_loss improved from 0.00116 to 0.00115, saving model to 10Var-szc-rnn.h5\n"
     ]
    },
    {
     "name": "stderr",
     "output_type": "stream",
     "text": [
      "WARNING:absl:You are saving your model as an HDF5 file via `model.save()` or `keras.saving.save_model(model)`. This file format is considered legacy. We recommend using instead the native Keras format, e.g. `model.save('my_model.keras')` or `keras.saving.save_model(model, 'my_model.keras')`. \n"
     ]
    },
    {
     "name": "stdout",
     "output_type": "stream",
     "text": [
      "\n",
      "Epoch 142: val_loss improved from 0.00115 to 0.00114, saving model to 10Var-szc-rnn.h5\n"
     ]
    },
    {
     "name": "stderr",
     "output_type": "stream",
     "text": [
      "WARNING:absl:You are saving your model as an HDF5 file via `model.save()` or `keras.saving.save_model(model)`. This file format is considered legacy. We recommend using instead the native Keras format, e.g. `model.save('my_model.keras')` or `keras.saving.save_model(model, 'my_model.keras')`. \n"
     ]
    },
    {
     "name": "stdout",
     "output_type": "stream",
     "text": [
      "\n",
      "Epoch 143: val_loss improved from 0.00114 to 0.00114, saving model to 10Var-szc-rnn.h5\n"
     ]
    },
    {
     "name": "stderr",
     "output_type": "stream",
     "text": [
      "WARNING:absl:You are saving your model as an HDF5 file via `model.save()` or `keras.saving.save_model(model)`. This file format is considered legacy. We recommend using instead the native Keras format, e.g. `model.save('my_model.keras')` or `keras.saving.save_model(model, 'my_model.keras')`. \n"
     ]
    },
    {
     "name": "stdout",
     "output_type": "stream",
     "text": [
      "\n",
      "Epoch 144: val_loss improved from 0.00114 to 0.00113, saving model to 10Var-szc-rnn.h5\n"
     ]
    },
    {
     "name": "stderr",
     "output_type": "stream",
     "text": [
      "WARNING:absl:You are saving your model as an HDF5 file via `model.save()` or `keras.saving.save_model(model)`. This file format is considered legacy. We recommend using instead the native Keras format, e.g. `model.save('my_model.keras')` or `keras.saving.save_model(model, 'my_model.keras')`. \n"
     ]
    },
    {
     "name": "stdout",
     "output_type": "stream",
     "text": [
      "\n",
      "Epoch 145: val_loss improved from 0.00113 to 0.00112, saving model to 10Var-szc-rnn.h5\n"
     ]
    },
    {
     "name": "stderr",
     "output_type": "stream",
     "text": [
      "WARNING:absl:You are saving your model as an HDF5 file via `model.save()` or `keras.saving.save_model(model)`. This file format is considered legacy. We recommend using instead the native Keras format, e.g. `model.save('my_model.keras')` or `keras.saving.save_model(model, 'my_model.keras')`. \n"
     ]
    },
    {
     "name": "stdout",
     "output_type": "stream",
     "text": [
      "\n",
      "Epoch 146: val_loss improved from 0.00112 to 0.00111, saving model to 10Var-szc-rnn.h5\n"
     ]
    },
    {
     "name": "stderr",
     "output_type": "stream",
     "text": [
      "WARNING:absl:You are saving your model as an HDF5 file via `model.save()` or `keras.saving.save_model(model)`. This file format is considered legacy. We recommend using instead the native Keras format, e.g. `model.save('my_model.keras')` or `keras.saving.save_model(model, 'my_model.keras')`. \n"
     ]
    },
    {
     "name": "stdout",
     "output_type": "stream",
     "text": [
      "\n",
      "Epoch 147: val_loss improved from 0.00111 to 0.00110, saving model to 10Var-szc-rnn.h5\n"
     ]
    },
    {
     "name": "stderr",
     "output_type": "stream",
     "text": [
      "WARNING:absl:You are saving your model as an HDF5 file via `model.save()` or `keras.saving.save_model(model)`. This file format is considered legacy. We recommend using instead the native Keras format, e.g. `model.save('my_model.keras')` or `keras.saving.save_model(model, 'my_model.keras')`. \n"
     ]
    },
    {
     "name": "stdout",
     "output_type": "stream",
     "text": [
      "\n",
      "Epoch 148: val_loss improved from 0.00110 to 0.00109, saving model to 10Var-szc-rnn.h5\n"
     ]
    },
    {
     "name": "stderr",
     "output_type": "stream",
     "text": [
      "WARNING:absl:You are saving your model as an HDF5 file via `model.save()` or `keras.saving.save_model(model)`. This file format is considered legacy. We recommend using instead the native Keras format, e.g. `model.save('my_model.keras')` or `keras.saving.save_model(model, 'my_model.keras')`. \n"
     ]
    },
    {
     "name": "stdout",
     "output_type": "stream",
     "text": [
      "\n",
      "Epoch 149: val_loss improved from 0.00109 to 0.00109, saving model to 10Var-szc-rnn.h5\n"
     ]
    },
    {
     "name": "stderr",
     "output_type": "stream",
     "text": [
      "WARNING:absl:You are saving your model as an HDF5 file via `model.save()` or `keras.saving.save_model(model)`. This file format is considered legacy. We recommend using instead the native Keras format, e.g. `model.save('my_model.keras')` or `keras.saving.save_model(model, 'my_model.keras')`. \n"
     ]
    },
    {
     "name": "stdout",
     "output_type": "stream",
     "text": [
      "\n",
      "Epoch 150: val_loss improved from 0.00109 to 0.00108, saving model to 10Var-szc-rnn.h5\n"
     ]
    },
    {
     "name": "stderr",
     "output_type": "stream",
     "text": [
      "WARNING:absl:You are saving your model as an HDF5 file via `model.save()` or `keras.saving.save_model(model)`. This file format is considered legacy. We recommend using instead the native Keras format, e.g. `model.save('my_model.keras')` or `keras.saving.save_model(model, 'my_model.keras')`. \n"
     ]
    },
    {
     "name": "stdout",
     "output_type": "stream",
     "text": [
      "\n",
      "Epoch 151: val_loss improved from 0.00108 to 0.00107, saving model to 10Var-szc-rnn.h5\n"
     ]
    },
    {
     "name": "stderr",
     "output_type": "stream",
     "text": [
      "WARNING:absl:You are saving your model as an HDF5 file via `model.save()` or `keras.saving.save_model(model)`. This file format is considered legacy. We recommend using instead the native Keras format, e.g. `model.save('my_model.keras')` or `keras.saving.save_model(model, 'my_model.keras')`. \n"
     ]
    },
    {
     "name": "stdout",
     "output_type": "stream",
     "text": [
      "\n",
      "Epoch 152: val_loss improved from 0.00107 to 0.00106, saving model to 10Var-szc-rnn.h5\n"
     ]
    },
    {
     "name": "stderr",
     "output_type": "stream",
     "text": [
      "WARNING:absl:You are saving your model as an HDF5 file via `model.save()` or `keras.saving.save_model(model)`. This file format is considered legacy. We recommend using instead the native Keras format, e.g. `model.save('my_model.keras')` or `keras.saving.save_model(model, 'my_model.keras')`. \n"
     ]
    },
    {
     "name": "stdout",
     "output_type": "stream",
     "text": [
      "\n",
      "Epoch 153: val_loss improved from 0.00106 to 0.00105, saving model to 10Var-szc-rnn.h5\n"
     ]
    },
    {
     "name": "stderr",
     "output_type": "stream",
     "text": [
      "WARNING:absl:You are saving your model as an HDF5 file via `model.save()` or `keras.saving.save_model(model)`. This file format is considered legacy. We recommend using instead the native Keras format, e.g. `model.save('my_model.keras')` or `keras.saving.save_model(model, 'my_model.keras')`. \n"
     ]
    },
    {
     "name": "stdout",
     "output_type": "stream",
     "text": [
      "\n",
      "Epoch 154: val_loss improved from 0.00105 to 0.00105, saving model to 10Var-szc-rnn.h5\n"
     ]
    },
    {
     "name": "stderr",
     "output_type": "stream",
     "text": [
      "WARNING:absl:You are saving your model as an HDF5 file via `model.save()` or `keras.saving.save_model(model)`. This file format is considered legacy. We recommend using instead the native Keras format, e.g. `model.save('my_model.keras')` or `keras.saving.save_model(model, 'my_model.keras')`. \n"
     ]
    },
    {
     "name": "stdout",
     "output_type": "stream",
     "text": [
      "\n",
      "Epoch 155: val_loss improved from 0.00105 to 0.00104, saving model to 10Var-szc-rnn.h5\n"
     ]
    },
    {
     "name": "stderr",
     "output_type": "stream",
     "text": [
      "WARNING:absl:You are saving your model as an HDF5 file via `model.save()` or `keras.saving.save_model(model)`. This file format is considered legacy. We recommend using instead the native Keras format, e.g. `model.save('my_model.keras')` or `keras.saving.save_model(model, 'my_model.keras')`. \n"
     ]
    },
    {
     "name": "stdout",
     "output_type": "stream",
     "text": [
      "\n",
      "Epoch 156: val_loss improved from 0.00104 to 0.00103, saving model to 10Var-szc-rnn.h5\n"
     ]
    },
    {
     "name": "stderr",
     "output_type": "stream",
     "text": [
      "WARNING:absl:You are saving your model as an HDF5 file via `model.save()` or `keras.saving.save_model(model)`. This file format is considered legacy. We recommend using instead the native Keras format, e.g. `model.save('my_model.keras')` or `keras.saving.save_model(model, 'my_model.keras')`. \n"
     ]
    },
    {
     "name": "stdout",
     "output_type": "stream",
     "text": [
      "\n",
      "Epoch 157: val_loss improved from 0.00103 to 0.00103, saving model to 10Var-szc-rnn.h5\n"
     ]
    },
    {
     "name": "stderr",
     "output_type": "stream",
     "text": [
      "WARNING:absl:You are saving your model as an HDF5 file via `model.save()` or `keras.saving.save_model(model)`. This file format is considered legacy. We recommend using instead the native Keras format, e.g. `model.save('my_model.keras')` or `keras.saving.save_model(model, 'my_model.keras')`. \n"
     ]
    },
    {
     "name": "stdout",
     "output_type": "stream",
     "text": [
      "\n",
      "Epoch 158: val_loss improved from 0.00103 to 0.00102, saving model to 10Var-szc-rnn.h5\n"
     ]
    },
    {
     "name": "stderr",
     "output_type": "stream",
     "text": [
      "WARNING:absl:You are saving your model as an HDF5 file via `model.save()` or `keras.saving.save_model(model)`. This file format is considered legacy. We recommend using instead the native Keras format, e.g. `model.save('my_model.keras')` or `keras.saving.save_model(model, 'my_model.keras')`. \n"
     ]
    },
    {
     "name": "stdout",
     "output_type": "stream",
     "text": [
      "\n",
      "Epoch 159: val_loss improved from 0.00102 to 0.00102, saving model to 10Var-szc-rnn.h5\n"
     ]
    },
    {
     "name": "stderr",
     "output_type": "stream",
     "text": [
      "WARNING:absl:You are saving your model as an HDF5 file via `model.save()` or `keras.saving.save_model(model)`. This file format is considered legacy. We recommend using instead the native Keras format, e.g. `model.save('my_model.keras')` or `keras.saving.save_model(model, 'my_model.keras')`. \n"
     ]
    },
    {
     "name": "stdout",
     "output_type": "stream",
     "text": [
      "\n",
      "Epoch 160: val_loss improved from 0.00102 to 0.00101, saving model to 10Var-szc-rnn.h5\n"
     ]
    },
    {
     "name": "stderr",
     "output_type": "stream",
     "text": [
      "WARNING:absl:You are saving your model as an HDF5 file via `model.save()` or `keras.saving.save_model(model)`. This file format is considered legacy. We recommend using instead the native Keras format, e.g. `model.save('my_model.keras')` or `keras.saving.save_model(model, 'my_model.keras')`. \n"
     ]
    },
    {
     "name": "stdout",
     "output_type": "stream",
     "text": [
      "\n",
      "Epoch 161: val_loss improved from 0.00101 to 0.00101, saving model to 10Var-szc-rnn.h5\n"
     ]
    },
    {
     "name": "stderr",
     "output_type": "stream",
     "text": [
      "WARNING:absl:You are saving your model as an HDF5 file via `model.save()` or `keras.saving.save_model(model)`. This file format is considered legacy. We recommend using instead the native Keras format, e.g. `model.save('my_model.keras')` or `keras.saving.save_model(model, 'my_model.keras')`. \n"
     ]
    },
    {
     "name": "stdout",
     "output_type": "stream",
     "text": [
      "\n",
      "Epoch 162: val_loss improved from 0.00101 to 0.00100, saving model to 10Var-szc-rnn.h5\n"
     ]
    },
    {
     "name": "stderr",
     "output_type": "stream",
     "text": [
      "WARNING:absl:You are saving your model as an HDF5 file via `model.save()` or `keras.saving.save_model(model)`. This file format is considered legacy. We recommend using instead the native Keras format, e.g. `model.save('my_model.keras')` or `keras.saving.save_model(model, 'my_model.keras')`. \n"
     ]
    },
    {
     "name": "stdout",
     "output_type": "stream",
     "text": [
      "\n",
      "Epoch 163: val_loss improved from 0.00100 to 0.00099, saving model to 10Var-szc-rnn.h5\n"
     ]
    },
    {
     "name": "stderr",
     "output_type": "stream",
     "text": [
      "WARNING:absl:You are saving your model as an HDF5 file via `model.save()` or `keras.saving.save_model(model)`. This file format is considered legacy. We recommend using instead the native Keras format, e.g. `model.save('my_model.keras')` or `keras.saving.save_model(model, 'my_model.keras')`. \n"
     ]
    },
    {
     "name": "stdout",
     "output_type": "stream",
     "text": [
      "\n",
      "Epoch 164: val_loss improved from 0.00099 to 0.00099, saving model to 10Var-szc-rnn.h5\n"
     ]
    },
    {
     "name": "stderr",
     "output_type": "stream",
     "text": [
      "WARNING:absl:You are saving your model as an HDF5 file via `model.save()` or `keras.saving.save_model(model)`. This file format is considered legacy. We recommend using instead the native Keras format, e.g. `model.save('my_model.keras')` or `keras.saving.save_model(model, 'my_model.keras')`. \n"
     ]
    },
    {
     "name": "stdout",
     "output_type": "stream",
     "text": [
      "\n",
      "Epoch 165: val_loss improved from 0.00099 to 0.00098, saving model to 10Var-szc-rnn.h5\n"
     ]
    },
    {
     "name": "stderr",
     "output_type": "stream",
     "text": [
      "WARNING:absl:You are saving your model as an HDF5 file via `model.save()` or `keras.saving.save_model(model)`. This file format is considered legacy. We recommend using instead the native Keras format, e.g. `model.save('my_model.keras')` or `keras.saving.save_model(model, 'my_model.keras')`. \n"
     ]
    },
    {
     "name": "stdout",
     "output_type": "stream",
     "text": [
      "\n",
      "Epoch 166: val_loss improved from 0.00098 to 0.00098, saving model to 10Var-szc-rnn.h5\n"
     ]
    },
    {
     "name": "stderr",
     "output_type": "stream",
     "text": [
      "WARNING:absl:You are saving your model as an HDF5 file via `model.save()` or `keras.saving.save_model(model)`. This file format is considered legacy. We recommend using instead the native Keras format, e.g. `model.save('my_model.keras')` or `keras.saving.save_model(model, 'my_model.keras')`. \n"
     ]
    },
    {
     "name": "stdout",
     "output_type": "stream",
     "text": [
      "\n",
      "Epoch 167: val_loss improved from 0.00098 to 0.00097, saving model to 10Var-szc-rnn.h5\n"
     ]
    },
    {
     "name": "stderr",
     "output_type": "stream",
     "text": [
      "WARNING:absl:You are saving your model as an HDF5 file via `model.save()` or `keras.saving.save_model(model)`. This file format is considered legacy. We recommend using instead the native Keras format, e.g. `model.save('my_model.keras')` or `keras.saving.save_model(model, 'my_model.keras')`. \n"
     ]
    },
    {
     "name": "stdout",
     "output_type": "stream",
     "text": [
      "\n",
      "Epoch 168: val_loss improved from 0.00097 to 0.00096, saving model to 10Var-szc-rnn.h5\n"
     ]
    },
    {
     "name": "stderr",
     "output_type": "stream",
     "text": [
      "WARNING:absl:You are saving your model as an HDF5 file via `model.save()` or `keras.saving.save_model(model)`. This file format is considered legacy. We recommend using instead the native Keras format, e.g. `model.save('my_model.keras')` or `keras.saving.save_model(model, 'my_model.keras')`. \n"
     ]
    },
    {
     "name": "stdout",
     "output_type": "stream",
     "text": [
      "\n",
      "Epoch 169: val_loss improved from 0.00096 to 0.00096, saving model to 10Var-szc-rnn.h5\n"
     ]
    },
    {
     "name": "stderr",
     "output_type": "stream",
     "text": [
      "WARNING:absl:You are saving your model as an HDF5 file via `model.save()` or `keras.saving.save_model(model)`. This file format is considered legacy. We recommend using instead the native Keras format, e.g. `model.save('my_model.keras')` or `keras.saving.save_model(model, 'my_model.keras')`. \n"
     ]
    },
    {
     "name": "stdout",
     "output_type": "stream",
     "text": [
      "\n",
      "Epoch 170: val_loss improved from 0.00096 to 0.00095, saving model to 10Var-szc-rnn.h5\n"
     ]
    },
    {
     "name": "stderr",
     "output_type": "stream",
     "text": [
      "WARNING:absl:You are saving your model as an HDF5 file via `model.save()` or `keras.saving.save_model(model)`. This file format is considered legacy. We recommend using instead the native Keras format, e.g. `model.save('my_model.keras')` or `keras.saving.save_model(model, 'my_model.keras')`. \n"
     ]
    },
    {
     "name": "stdout",
     "output_type": "stream",
     "text": [
      "\n",
      "Epoch 171: val_loss improved from 0.00095 to 0.00095, saving model to 10Var-szc-rnn.h5\n"
     ]
    },
    {
     "name": "stderr",
     "output_type": "stream",
     "text": [
      "WARNING:absl:You are saving your model as an HDF5 file via `model.save()` or `keras.saving.save_model(model)`. This file format is considered legacy. We recommend using instead the native Keras format, e.g. `model.save('my_model.keras')` or `keras.saving.save_model(model, 'my_model.keras')`. \n"
     ]
    },
    {
     "name": "stdout",
     "output_type": "stream",
     "text": [
      "\n",
      "Epoch 172: val_loss improved from 0.00095 to 0.00095, saving model to 10Var-szc-rnn.h5\n"
     ]
    },
    {
     "name": "stderr",
     "output_type": "stream",
     "text": [
      "WARNING:absl:You are saving your model as an HDF5 file via `model.save()` or `keras.saving.save_model(model)`. This file format is considered legacy. We recommend using instead the native Keras format, e.g. `model.save('my_model.keras')` or `keras.saving.save_model(model, 'my_model.keras')`. \n"
     ]
    },
    {
     "name": "stdout",
     "output_type": "stream",
     "text": [
      "\n",
      "Epoch 173: val_loss improved from 0.00095 to 0.00094, saving model to 10Var-szc-rnn.h5\n"
     ]
    },
    {
     "name": "stderr",
     "output_type": "stream",
     "text": [
      "WARNING:absl:You are saving your model as an HDF5 file via `model.save()` or `keras.saving.save_model(model)`. This file format is considered legacy. We recommend using instead the native Keras format, e.g. `model.save('my_model.keras')` or `keras.saving.save_model(model, 'my_model.keras')`. \n"
     ]
    },
    {
     "name": "stdout",
     "output_type": "stream",
     "text": [
      "\n",
      "Epoch 174: val_loss improved from 0.00094 to 0.00094, saving model to 10Var-szc-rnn.h5\n"
     ]
    },
    {
     "name": "stderr",
     "output_type": "stream",
     "text": [
      "WARNING:absl:You are saving your model as an HDF5 file via `model.save()` or `keras.saving.save_model(model)`. This file format is considered legacy. We recommend using instead the native Keras format, e.g. `model.save('my_model.keras')` or `keras.saving.save_model(model, 'my_model.keras')`. \n"
     ]
    },
    {
     "name": "stdout",
     "output_type": "stream",
     "text": [
      "\n",
      "Epoch 175: val_loss improved from 0.00094 to 0.00094, saving model to 10Var-szc-rnn.h5\n"
     ]
    },
    {
     "name": "stderr",
     "output_type": "stream",
     "text": [
      "WARNING:absl:You are saving your model as an HDF5 file via `model.save()` or `keras.saving.save_model(model)`. This file format is considered legacy. We recommend using instead the native Keras format, e.g. `model.save('my_model.keras')` or `keras.saving.save_model(model, 'my_model.keras')`. \n"
     ]
    },
    {
     "name": "stdout",
     "output_type": "stream",
     "text": [
      "\n",
      "Epoch 176: val_loss improved from 0.00094 to 0.00093, saving model to 10Var-szc-rnn.h5\n"
     ]
    },
    {
     "name": "stderr",
     "output_type": "stream",
     "text": [
      "WARNING:absl:You are saving your model as an HDF5 file via `model.save()` or `keras.saving.save_model(model)`. This file format is considered legacy. We recommend using instead the native Keras format, e.g. `model.save('my_model.keras')` or `keras.saving.save_model(model, 'my_model.keras')`. \n"
     ]
    },
    {
     "name": "stdout",
     "output_type": "stream",
     "text": [
      "\n",
      "Epoch 177: val_loss improved from 0.00093 to 0.00093, saving model to 10Var-szc-rnn.h5\n"
     ]
    },
    {
     "name": "stderr",
     "output_type": "stream",
     "text": [
      "WARNING:absl:You are saving your model as an HDF5 file via `model.save()` or `keras.saving.save_model(model)`. This file format is considered legacy. We recommend using instead the native Keras format, e.g. `model.save('my_model.keras')` or `keras.saving.save_model(model, 'my_model.keras')`. \n"
     ]
    },
    {
     "name": "stdout",
     "output_type": "stream",
     "text": [
      "\n",
      "Epoch 178: val_loss improved from 0.00093 to 0.00092, saving model to 10Var-szc-rnn.h5\n"
     ]
    },
    {
     "name": "stderr",
     "output_type": "stream",
     "text": [
      "WARNING:absl:You are saving your model as an HDF5 file via `model.save()` or `keras.saving.save_model(model)`. This file format is considered legacy. We recommend using instead the native Keras format, e.g. `model.save('my_model.keras')` or `keras.saving.save_model(model, 'my_model.keras')`. \n"
     ]
    },
    {
     "name": "stdout",
     "output_type": "stream",
     "text": [
      "\n",
      "Epoch 179: val_loss improved from 0.00092 to 0.00092, saving model to 10Var-szc-rnn.h5\n"
     ]
    },
    {
     "name": "stderr",
     "output_type": "stream",
     "text": [
      "WARNING:absl:You are saving your model as an HDF5 file via `model.save()` or `keras.saving.save_model(model)`. This file format is considered legacy. We recommend using instead the native Keras format, e.g. `model.save('my_model.keras')` or `keras.saving.save_model(model, 'my_model.keras')`. \n"
     ]
    },
    {
     "name": "stdout",
     "output_type": "stream",
     "text": [
      "\n",
      "Epoch 180: val_loss improved from 0.00092 to 0.00092, saving model to 10Var-szc-rnn.h5\n"
     ]
    },
    {
     "name": "stderr",
     "output_type": "stream",
     "text": [
      "WARNING:absl:You are saving your model as an HDF5 file via `model.save()` or `keras.saving.save_model(model)`. This file format is considered legacy. We recommend using instead the native Keras format, e.g. `model.save('my_model.keras')` or `keras.saving.save_model(model, 'my_model.keras')`. \n"
     ]
    },
    {
     "name": "stdout",
     "output_type": "stream",
     "text": [
      "\n",
      "Epoch 181: val_loss improved from 0.00092 to 0.00091, saving model to 10Var-szc-rnn.h5\n"
     ]
    },
    {
     "name": "stderr",
     "output_type": "stream",
     "text": [
      "WARNING:absl:You are saving your model as an HDF5 file via `model.save()` or `keras.saving.save_model(model)`. This file format is considered legacy. We recommend using instead the native Keras format, e.g. `model.save('my_model.keras')` or `keras.saving.save_model(model, 'my_model.keras')`. \n"
     ]
    },
    {
     "name": "stdout",
     "output_type": "stream",
     "text": [
      "\n",
      "Epoch 182: val_loss improved from 0.00091 to 0.00091, saving model to 10Var-szc-rnn.h5\n"
     ]
    },
    {
     "name": "stderr",
     "output_type": "stream",
     "text": [
      "WARNING:absl:You are saving your model as an HDF5 file via `model.save()` or `keras.saving.save_model(model)`. This file format is considered legacy. We recommend using instead the native Keras format, e.g. `model.save('my_model.keras')` or `keras.saving.save_model(model, 'my_model.keras')`. \n"
     ]
    },
    {
     "name": "stdout",
     "output_type": "stream",
     "text": [
      "\n",
      "Epoch 183: val_loss improved from 0.00091 to 0.00091, saving model to 10Var-szc-rnn.h5\n"
     ]
    },
    {
     "name": "stderr",
     "output_type": "stream",
     "text": [
      "WARNING:absl:You are saving your model as an HDF5 file via `model.save()` or `keras.saving.save_model(model)`. This file format is considered legacy. We recommend using instead the native Keras format, e.g. `model.save('my_model.keras')` or `keras.saving.save_model(model, 'my_model.keras')`. \n"
     ]
    },
    {
     "name": "stdout",
     "output_type": "stream",
     "text": [
      "\n",
      "Epoch 184: val_loss improved from 0.00091 to 0.00090, saving model to 10Var-szc-rnn.h5\n"
     ]
    },
    {
     "name": "stderr",
     "output_type": "stream",
     "text": [
      "WARNING:absl:You are saving your model as an HDF5 file via `model.save()` or `keras.saving.save_model(model)`. This file format is considered legacy. We recommend using instead the native Keras format, e.g. `model.save('my_model.keras')` or `keras.saving.save_model(model, 'my_model.keras')`. \n"
     ]
    },
    {
     "name": "stdout",
     "output_type": "stream",
     "text": [
      "\n",
      "Epoch 185: val_loss improved from 0.00090 to 0.00090, saving model to 10Var-szc-rnn.h5\n"
     ]
    },
    {
     "name": "stderr",
     "output_type": "stream",
     "text": [
      "WARNING:absl:You are saving your model as an HDF5 file via `model.save()` or `keras.saving.save_model(model)`. This file format is considered legacy. We recommend using instead the native Keras format, e.g. `model.save('my_model.keras')` or `keras.saving.save_model(model, 'my_model.keras')`. \n"
     ]
    },
    {
     "name": "stdout",
     "output_type": "stream",
     "text": [
      "\n",
      "Epoch 186: val_loss improved from 0.00090 to 0.00089, saving model to 10Var-szc-rnn.h5\n"
     ]
    },
    {
     "name": "stderr",
     "output_type": "stream",
     "text": [
      "WARNING:absl:You are saving your model as an HDF5 file via `model.save()` or `keras.saving.save_model(model)`. This file format is considered legacy. We recommend using instead the native Keras format, e.g. `model.save('my_model.keras')` or `keras.saving.save_model(model, 'my_model.keras')`. \n"
     ]
    },
    {
     "name": "stdout",
     "output_type": "stream",
     "text": [
      "\n",
      "Epoch 187: val_loss improved from 0.00089 to 0.00089, saving model to 10Var-szc-rnn.h5\n"
     ]
    },
    {
     "name": "stderr",
     "output_type": "stream",
     "text": [
      "WARNING:absl:You are saving your model as an HDF5 file via `model.save()` or `keras.saving.save_model(model)`. This file format is considered legacy. We recommend using instead the native Keras format, e.g. `model.save('my_model.keras')` or `keras.saving.save_model(model, 'my_model.keras')`. \n"
     ]
    },
    {
     "name": "stdout",
     "output_type": "stream",
     "text": [
      "\n",
      "Epoch 188: val_loss improved from 0.00089 to 0.00088, saving model to 10Var-szc-rnn.h5\n"
     ]
    },
    {
     "name": "stderr",
     "output_type": "stream",
     "text": [
      "WARNING:absl:You are saving your model as an HDF5 file via `model.save()` or `keras.saving.save_model(model)`. This file format is considered legacy. We recommend using instead the native Keras format, e.g. `model.save('my_model.keras')` or `keras.saving.save_model(model, 'my_model.keras')`. \n"
     ]
    },
    {
     "name": "stdout",
     "output_type": "stream",
     "text": [
      "\n",
      "Epoch 189: val_loss improved from 0.00088 to 0.00088, saving model to 10Var-szc-rnn.h5\n"
     ]
    },
    {
     "name": "stderr",
     "output_type": "stream",
     "text": [
      "WARNING:absl:You are saving your model as an HDF5 file via `model.save()` or `keras.saving.save_model(model)`. This file format is considered legacy. We recommend using instead the native Keras format, e.g. `model.save('my_model.keras')` or `keras.saving.save_model(model, 'my_model.keras')`. \n"
     ]
    },
    {
     "name": "stdout",
     "output_type": "stream",
     "text": [
      "\n",
      "Epoch 190: val_loss improved from 0.00088 to 0.00088, saving model to 10Var-szc-rnn.h5\n"
     ]
    },
    {
     "name": "stderr",
     "output_type": "stream",
     "text": [
      "WARNING:absl:You are saving your model as an HDF5 file via `model.save()` or `keras.saving.save_model(model)`. This file format is considered legacy. We recommend using instead the native Keras format, e.g. `model.save('my_model.keras')` or `keras.saving.save_model(model, 'my_model.keras')`. \n"
     ]
    },
    {
     "name": "stdout",
     "output_type": "stream",
     "text": [
      "\n",
      "Epoch 191: val_loss improved from 0.00088 to 0.00087, saving model to 10Var-szc-rnn.h5\n"
     ]
    },
    {
     "name": "stderr",
     "output_type": "stream",
     "text": [
      "WARNING:absl:You are saving your model as an HDF5 file via `model.save()` or `keras.saving.save_model(model)`. This file format is considered legacy. We recommend using instead the native Keras format, e.g. `model.save('my_model.keras')` or `keras.saving.save_model(model, 'my_model.keras')`. \n"
     ]
    },
    {
     "name": "stdout",
     "output_type": "stream",
     "text": [
      "\n",
      "Epoch 192: val_loss improved from 0.00087 to 0.00087, saving model to 10Var-szc-rnn.h5\n"
     ]
    },
    {
     "name": "stderr",
     "output_type": "stream",
     "text": [
      "WARNING:absl:You are saving your model as an HDF5 file via `model.save()` or `keras.saving.save_model(model)`. This file format is considered legacy. We recommend using instead the native Keras format, e.g. `model.save('my_model.keras')` or `keras.saving.save_model(model, 'my_model.keras')`. \n"
     ]
    },
    {
     "name": "stdout",
     "output_type": "stream",
     "text": [
      "\n",
      "Epoch 193: val_loss improved from 0.00087 to 0.00087, saving model to 10Var-szc-rnn.h5\n"
     ]
    },
    {
     "name": "stderr",
     "output_type": "stream",
     "text": [
      "WARNING:absl:You are saving your model as an HDF5 file via `model.save()` or `keras.saving.save_model(model)`. This file format is considered legacy. We recommend using instead the native Keras format, e.g. `model.save('my_model.keras')` or `keras.saving.save_model(model, 'my_model.keras')`. \n"
     ]
    },
    {
     "name": "stdout",
     "output_type": "stream",
     "text": [
      "\n",
      "Epoch 194: val_loss improved from 0.00087 to 0.00086, saving model to 10Var-szc-rnn.h5\n"
     ]
    },
    {
     "name": "stderr",
     "output_type": "stream",
     "text": [
      "WARNING:absl:You are saving your model as an HDF5 file via `model.save()` or `keras.saving.save_model(model)`. This file format is considered legacy. We recommend using instead the native Keras format, e.g. `model.save('my_model.keras')` or `keras.saving.save_model(model, 'my_model.keras')`. \n"
     ]
    },
    {
     "name": "stdout",
     "output_type": "stream",
     "text": [
      "\n",
      "Epoch 195: val_loss improved from 0.00086 to 0.00086, saving model to 10Var-szc-rnn.h5\n"
     ]
    },
    {
     "name": "stderr",
     "output_type": "stream",
     "text": [
      "WARNING:absl:You are saving your model as an HDF5 file via `model.save()` or `keras.saving.save_model(model)`. This file format is considered legacy. We recommend using instead the native Keras format, e.g. `model.save('my_model.keras')` or `keras.saving.save_model(model, 'my_model.keras')`. \n"
     ]
    },
    {
     "name": "stdout",
     "output_type": "stream",
     "text": [
      "\n",
      "Epoch 196: val_loss improved from 0.00086 to 0.00086, saving model to 10Var-szc-rnn.h5\n"
     ]
    },
    {
     "name": "stderr",
     "output_type": "stream",
     "text": [
      "WARNING:absl:You are saving your model as an HDF5 file via `model.save()` or `keras.saving.save_model(model)`. This file format is considered legacy. We recommend using instead the native Keras format, e.g. `model.save('my_model.keras')` or `keras.saving.save_model(model, 'my_model.keras')`. \n"
     ]
    },
    {
     "name": "stdout",
     "output_type": "stream",
     "text": [
      "\n",
      "Epoch 197: val_loss improved from 0.00086 to 0.00086, saving model to 10Var-szc-rnn.h5\n"
     ]
    },
    {
     "name": "stderr",
     "output_type": "stream",
     "text": [
      "WARNING:absl:You are saving your model as an HDF5 file via `model.save()` or `keras.saving.save_model(model)`. This file format is considered legacy. We recommend using instead the native Keras format, e.g. `model.save('my_model.keras')` or `keras.saving.save_model(model, 'my_model.keras')`. \n"
     ]
    },
    {
     "name": "stdout",
     "output_type": "stream",
     "text": [
      "\n",
      "Epoch 198: val_loss improved from 0.00086 to 0.00085, saving model to 10Var-szc-rnn.h5\n"
     ]
    },
    {
     "name": "stderr",
     "output_type": "stream",
     "text": [
      "WARNING:absl:You are saving your model as an HDF5 file via `model.save()` or `keras.saving.save_model(model)`. This file format is considered legacy. We recommend using instead the native Keras format, e.g. `model.save('my_model.keras')` or `keras.saving.save_model(model, 'my_model.keras')`. \n"
     ]
    },
    {
     "name": "stdout",
     "output_type": "stream",
     "text": [
      "\n",
      "Epoch 199: val_loss improved from 0.00085 to 0.00085, saving model to 10Var-szc-rnn.h5\n"
     ]
    },
    {
     "name": "stderr",
     "output_type": "stream",
     "text": [
      "WARNING:absl:You are saving your model as an HDF5 file via `model.save()` or `keras.saving.save_model(model)`. This file format is considered legacy. We recommend using instead the native Keras format, e.g. `model.save('my_model.keras')` or `keras.saving.save_model(model, 'my_model.keras')`. \n"
     ]
    },
    {
     "name": "stdout",
     "output_type": "stream",
     "text": [
      "\n",
      "Epoch 200: val_loss improved from 0.00085 to 0.00084, saving model to 10Var-szc-rnn.h5\n"
     ]
    },
    {
     "name": "stderr",
     "output_type": "stream",
     "text": [
      "WARNING:absl:You are saving your model as an HDF5 file via `model.save()` or `keras.saving.save_model(model)`. This file format is considered legacy. We recommend using instead the native Keras format, e.g. `model.save('my_model.keras')` or `keras.saving.save_model(model, 'my_model.keras')`. \n"
     ]
    },
    {
     "name": "stdout",
     "output_type": "stream",
     "text": [
      "\n",
      "Epoch 201: val_loss improved from 0.00084 to 0.00084, saving model to 10Var-szc-rnn.h5\n"
     ]
    },
    {
     "name": "stderr",
     "output_type": "stream",
     "text": [
      "WARNING:absl:You are saving your model as an HDF5 file via `model.save()` or `keras.saving.save_model(model)`. This file format is considered legacy. We recommend using instead the native Keras format, e.g. `model.save('my_model.keras')` or `keras.saving.save_model(model, 'my_model.keras')`. \n"
     ]
    },
    {
     "name": "stdout",
     "output_type": "stream",
     "text": [
      "\n",
      "Epoch 202: val_loss improved from 0.00084 to 0.00083, saving model to 10Var-szc-rnn.h5\n"
     ]
    },
    {
     "name": "stderr",
     "output_type": "stream",
     "text": [
      "WARNING:absl:You are saving your model as an HDF5 file via `model.save()` or `keras.saving.save_model(model)`. This file format is considered legacy. We recommend using instead the native Keras format, e.g. `model.save('my_model.keras')` or `keras.saving.save_model(model, 'my_model.keras')`. \n"
     ]
    },
    {
     "name": "stdout",
     "output_type": "stream",
     "text": [
      "\n",
      "Epoch 203: val_loss improved from 0.00083 to 0.00083, saving model to 10Var-szc-rnn.h5\n"
     ]
    },
    {
     "name": "stderr",
     "output_type": "stream",
     "text": [
      "WARNING:absl:You are saving your model as an HDF5 file via `model.save()` or `keras.saving.save_model(model)`. This file format is considered legacy. We recommend using instead the native Keras format, e.g. `model.save('my_model.keras')` or `keras.saving.save_model(model, 'my_model.keras')`. \n"
     ]
    },
    {
     "name": "stdout",
     "output_type": "stream",
     "text": [
      "\n",
      "Epoch 204: val_loss improved from 0.00083 to 0.00083, saving model to 10Var-szc-rnn.h5\n"
     ]
    },
    {
     "name": "stderr",
     "output_type": "stream",
     "text": [
      "WARNING:absl:You are saving your model as an HDF5 file via `model.save()` or `keras.saving.save_model(model)`. This file format is considered legacy. We recommend using instead the native Keras format, e.g. `model.save('my_model.keras')` or `keras.saving.save_model(model, 'my_model.keras')`. \n"
     ]
    },
    {
     "name": "stdout",
     "output_type": "stream",
     "text": [
      "\n",
      "Epoch 205: val_loss improved from 0.00083 to 0.00083, saving model to 10Var-szc-rnn.h5\n"
     ]
    },
    {
     "name": "stderr",
     "output_type": "stream",
     "text": [
      "WARNING:absl:You are saving your model as an HDF5 file via `model.save()` or `keras.saving.save_model(model)`. This file format is considered legacy. We recommend using instead the native Keras format, e.g. `model.save('my_model.keras')` or `keras.saving.save_model(model, 'my_model.keras')`. \n"
     ]
    },
    {
     "name": "stdout",
     "output_type": "stream",
     "text": [
      "\n",
      "Epoch 206: val_loss improved from 0.00083 to 0.00082, saving model to 10Var-szc-rnn.h5\n"
     ]
    },
    {
     "name": "stderr",
     "output_type": "stream",
     "text": [
      "WARNING:absl:You are saving your model as an HDF5 file via `model.save()` or `keras.saving.save_model(model)`. This file format is considered legacy. We recommend using instead the native Keras format, e.g. `model.save('my_model.keras')` or `keras.saving.save_model(model, 'my_model.keras')`. \n"
     ]
    },
    {
     "name": "stdout",
     "output_type": "stream",
     "text": [
      "\n",
      "Epoch 207: val_loss improved from 0.00082 to 0.00082, saving model to 10Var-szc-rnn.h5\n"
     ]
    },
    {
     "name": "stderr",
     "output_type": "stream",
     "text": [
      "WARNING:absl:You are saving your model as an HDF5 file via `model.save()` or `keras.saving.save_model(model)`. This file format is considered legacy. We recommend using instead the native Keras format, e.g. `model.save('my_model.keras')` or `keras.saving.save_model(model, 'my_model.keras')`. \n"
     ]
    },
    {
     "name": "stdout",
     "output_type": "stream",
     "text": [
      "\n",
      "Epoch 208: val_loss improved from 0.00082 to 0.00082, saving model to 10Var-szc-rnn.h5\n"
     ]
    },
    {
     "name": "stderr",
     "output_type": "stream",
     "text": [
      "WARNING:absl:You are saving your model as an HDF5 file via `model.save()` or `keras.saving.save_model(model)`. This file format is considered legacy. We recommend using instead the native Keras format, e.g. `model.save('my_model.keras')` or `keras.saving.save_model(model, 'my_model.keras')`. \n"
     ]
    },
    {
     "name": "stdout",
     "output_type": "stream",
     "text": [
      "\n",
      "Epoch 209: val_loss did not improve from 0.00082\n",
      "\n",
      "Epoch 210: val_loss improved from 0.00082 to 0.00082, saving model to 10Var-szc-rnn.h5\n"
     ]
    },
    {
     "name": "stderr",
     "output_type": "stream",
     "text": [
      "WARNING:absl:You are saving your model as an HDF5 file via `model.save()` or `keras.saving.save_model(model)`. This file format is considered legacy. We recommend using instead the native Keras format, e.g. `model.save('my_model.keras')` or `keras.saving.save_model(model, 'my_model.keras')`. \n"
     ]
    },
    {
     "name": "stdout",
     "output_type": "stream",
     "text": [
      "\n",
      "Epoch 211: val_loss did not improve from 0.00082\n",
      "\n",
      "Epoch 212: val_loss improved from 0.00082 to 0.00081, saving model to 10Var-szc-rnn.h5\n"
     ]
    },
    {
     "name": "stderr",
     "output_type": "stream",
     "text": [
      "WARNING:absl:You are saving your model as an HDF5 file via `model.save()` or `keras.saving.save_model(model)`. This file format is considered legacy. We recommend using instead the native Keras format, e.g. `model.save('my_model.keras')` or `keras.saving.save_model(model, 'my_model.keras')`. \n"
     ]
    },
    {
     "name": "stdout",
     "output_type": "stream",
     "text": [
      "\n",
      "Epoch 213: val_loss did not improve from 0.00081\n",
      "\n",
      "Epoch 214: val_loss improved from 0.00081 to 0.00081, saving model to 10Var-szc-rnn.h5\n"
     ]
    },
    {
     "name": "stderr",
     "output_type": "stream",
     "text": [
      "WARNING:absl:You are saving your model as an HDF5 file via `model.save()` or `keras.saving.save_model(model)`. This file format is considered legacy. We recommend using instead the native Keras format, e.g. `model.save('my_model.keras')` or `keras.saving.save_model(model, 'my_model.keras')`. \n"
     ]
    },
    {
     "name": "stdout",
     "output_type": "stream",
     "text": [
      "\n",
      "Epoch 215: val_loss did not improve from 0.00081\n",
      "\n",
      "Epoch 216: val_loss improved from 0.00081 to 0.00080, saving model to 10Var-szc-rnn.h5\n"
     ]
    },
    {
     "name": "stderr",
     "output_type": "stream",
     "text": [
      "WARNING:absl:You are saving your model as an HDF5 file via `model.save()` or `keras.saving.save_model(model)`. This file format is considered legacy. We recommend using instead the native Keras format, e.g. `model.save('my_model.keras')` or `keras.saving.save_model(model, 'my_model.keras')`. \n"
     ]
    },
    {
     "name": "stdout",
     "output_type": "stream",
     "text": [
      "\n",
      "Epoch 217: val_loss did not improve from 0.00080\n",
      "\n",
      "Epoch 218: val_loss improved from 0.00080 to 0.00080, saving model to 10Var-szc-rnn.h5\n"
     ]
    },
    {
     "name": "stderr",
     "output_type": "stream",
     "text": [
      "WARNING:absl:You are saving your model as an HDF5 file via `model.save()` or `keras.saving.save_model(model)`. This file format is considered legacy. We recommend using instead the native Keras format, e.g. `model.save('my_model.keras')` or `keras.saving.save_model(model, 'my_model.keras')`. \n"
     ]
    },
    {
     "name": "stdout",
     "output_type": "stream",
     "text": [
      "\n",
      "Epoch 219: val_loss did not improve from 0.00080\n",
      "\n",
      "Epoch 220: val_loss improved from 0.00080 to 0.00080, saving model to 10Var-szc-rnn.h5\n"
     ]
    },
    {
     "name": "stderr",
     "output_type": "stream",
     "text": [
      "WARNING:absl:You are saving your model as an HDF5 file via `model.save()` or `keras.saving.save_model(model)`. This file format is considered legacy. We recommend using instead the native Keras format, e.g. `model.save('my_model.keras')` or `keras.saving.save_model(model, 'my_model.keras')`. \n"
     ]
    },
    {
     "name": "stdout",
     "output_type": "stream",
     "text": [
      "\n",
      "Epoch 221: val_loss did not improve from 0.00080\n",
      "\n",
      "Epoch 222: val_loss improved from 0.00080 to 0.00079, saving model to 10Var-szc-rnn.h5\n"
     ]
    },
    {
     "name": "stderr",
     "output_type": "stream",
     "text": [
      "WARNING:absl:You are saving your model as an HDF5 file via `model.save()` or `keras.saving.save_model(model)`. This file format is considered legacy. We recommend using instead the native Keras format, e.g. `model.save('my_model.keras')` or `keras.saving.save_model(model, 'my_model.keras')`. \n"
     ]
    },
    {
     "name": "stdout",
     "output_type": "stream",
     "text": [
      "\n",
      "Epoch 223: val_loss did not improve from 0.00079\n",
      "\n",
      "Epoch 224: val_loss improved from 0.00079 to 0.00079, saving model to 10Var-szc-rnn.h5\n"
     ]
    },
    {
     "name": "stderr",
     "output_type": "stream",
     "text": [
      "WARNING:absl:You are saving your model as an HDF5 file via `model.save()` or `keras.saving.save_model(model)`. This file format is considered legacy. We recommend using instead the native Keras format, e.g. `model.save('my_model.keras')` or `keras.saving.save_model(model, 'my_model.keras')`. \n"
     ]
    },
    {
     "name": "stdout",
     "output_type": "stream",
     "text": [
      "\n",
      "Epoch 225: val_loss did not improve from 0.00079\n",
      "\n",
      "Epoch 226: val_loss improved from 0.00079 to 0.00078, saving model to 10Var-szc-rnn.h5\n"
     ]
    },
    {
     "name": "stderr",
     "output_type": "stream",
     "text": [
      "WARNING:absl:You are saving your model as an HDF5 file via `model.save()` or `keras.saving.save_model(model)`. This file format is considered legacy. We recommend using instead the native Keras format, e.g. `model.save('my_model.keras')` or `keras.saving.save_model(model, 'my_model.keras')`. \n"
     ]
    },
    {
     "name": "stdout",
     "output_type": "stream",
     "text": [
      "\n",
      "Epoch 227: val_loss did not improve from 0.00078\n",
      "\n",
      "Epoch 228: val_loss improved from 0.00078 to 0.00077, saving model to 10Var-szc-rnn.h5\n"
     ]
    },
    {
     "name": "stderr",
     "output_type": "stream",
     "text": [
      "WARNING:absl:You are saving your model as an HDF5 file via `model.save()` or `keras.saving.save_model(model)`. This file format is considered legacy. We recommend using instead the native Keras format, e.g. `model.save('my_model.keras')` or `keras.saving.save_model(model, 'my_model.keras')`. \n"
     ]
    },
    {
     "name": "stdout",
     "output_type": "stream",
     "text": [
      "\n",
      "Epoch 229: val_loss did not improve from 0.00077\n",
      "\n",
      "Epoch 230: val_loss improved from 0.00077 to 0.00077, saving model to 10Var-szc-rnn.h5\n"
     ]
    },
    {
     "name": "stderr",
     "output_type": "stream",
     "text": [
      "WARNING:absl:You are saving your model as an HDF5 file via `model.save()` or `keras.saving.save_model(model)`. This file format is considered legacy. We recommend using instead the native Keras format, e.g. `model.save('my_model.keras')` or `keras.saving.save_model(model, 'my_model.keras')`. \n"
     ]
    },
    {
     "name": "stdout",
     "output_type": "stream",
     "text": [
      "\n",
      "Epoch 231: val_loss did not improve from 0.00077\n",
      "\n",
      "Epoch 232: val_loss improved from 0.00077 to 0.00076, saving model to 10Var-szc-rnn.h5\n"
     ]
    },
    {
     "name": "stderr",
     "output_type": "stream",
     "text": [
      "WARNING:absl:You are saving your model as an HDF5 file via `model.save()` or `keras.saving.save_model(model)`. This file format is considered legacy. We recommend using instead the native Keras format, e.g. `model.save('my_model.keras')` or `keras.saving.save_model(model, 'my_model.keras')`. \n"
     ]
    },
    {
     "name": "stdout",
     "output_type": "stream",
     "text": [
      "\n",
      "Epoch 233: val_loss did not improve from 0.00076\n",
      "\n",
      "Epoch 234: val_loss improved from 0.00076 to 0.00076, saving model to 10Var-szc-rnn.h5\n"
     ]
    },
    {
     "name": "stderr",
     "output_type": "stream",
     "text": [
      "WARNING:absl:You are saving your model as an HDF5 file via `model.save()` or `keras.saving.save_model(model)`. This file format is considered legacy. We recommend using instead the native Keras format, e.g. `model.save('my_model.keras')` or `keras.saving.save_model(model, 'my_model.keras')`. \n"
     ]
    },
    {
     "name": "stdout",
     "output_type": "stream",
     "text": [
      "\n",
      "Epoch 235: val_loss did not improve from 0.00076\n",
      "\n",
      "Epoch 236: val_loss improved from 0.00076 to 0.00075, saving model to 10Var-szc-rnn.h5\n"
     ]
    },
    {
     "name": "stderr",
     "output_type": "stream",
     "text": [
      "WARNING:absl:You are saving your model as an HDF5 file via `model.save()` or `keras.saving.save_model(model)`. This file format is considered legacy. We recommend using instead the native Keras format, e.g. `model.save('my_model.keras')` or `keras.saving.save_model(model, 'my_model.keras')`. \n"
     ]
    },
    {
     "name": "stdout",
     "output_type": "stream",
     "text": [
      "\n",
      "Epoch 237: val_loss did not improve from 0.00075\n",
      "\n",
      "Epoch 238: val_loss improved from 0.00075 to 0.00075, saving model to 10Var-szc-rnn.h5\n"
     ]
    },
    {
     "name": "stderr",
     "output_type": "stream",
     "text": [
      "WARNING:absl:You are saving your model as an HDF5 file via `model.save()` or `keras.saving.save_model(model)`. This file format is considered legacy. We recommend using instead the native Keras format, e.g. `model.save('my_model.keras')` or `keras.saving.save_model(model, 'my_model.keras')`. \n"
     ]
    },
    {
     "name": "stdout",
     "output_type": "stream",
     "text": [
      "\n",
      "Epoch 239: val_loss did not improve from 0.00075\n",
      "\n",
      "Epoch 240: val_loss improved from 0.00075 to 0.00075, saving model to 10Var-szc-rnn.h5\n"
     ]
    },
    {
     "name": "stderr",
     "output_type": "stream",
     "text": [
      "WARNING:absl:You are saving your model as an HDF5 file via `model.save()` or `keras.saving.save_model(model)`. This file format is considered legacy. We recommend using instead the native Keras format, e.g. `model.save('my_model.keras')` or `keras.saving.save_model(model, 'my_model.keras')`. \n"
     ]
    },
    {
     "name": "stdout",
     "output_type": "stream",
     "text": [
      "\n",
      "Epoch 241: val_loss did not improve from 0.00075\n",
      "\n",
      "Epoch 242: val_loss improved from 0.00075 to 0.00074, saving model to 10Var-szc-rnn.h5\n"
     ]
    },
    {
     "name": "stderr",
     "output_type": "stream",
     "text": [
      "WARNING:absl:You are saving your model as an HDF5 file via `model.save()` or `keras.saving.save_model(model)`. This file format is considered legacy. We recommend using instead the native Keras format, e.g. `model.save('my_model.keras')` or `keras.saving.save_model(model, 'my_model.keras')`. \n"
     ]
    },
    {
     "name": "stdout",
     "output_type": "stream",
     "text": [
      "\n",
      "Epoch 243: val_loss did not improve from 0.00074\n",
      "\n",
      "Epoch 244: val_loss improved from 0.00074 to 0.00074, saving model to 10Var-szc-rnn.h5\n"
     ]
    },
    {
     "name": "stderr",
     "output_type": "stream",
     "text": [
      "WARNING:absl:You are saving your model as an HDF5 file via `model.save()` or `keras.saving.save_model(model)`. This file format is considered legacy. We recommend using instead the native Keras format, e.g. `model.save('my_model.keras')` or `keras.saving.save_model(model, 'my_model.keras')`. \n"
     ]
    },
    {
     "name": "stdout",
     "output_type": "stream",
     "text": [
      "\n",
      "Epoch 245: val_loss did not improve from 0.00074\n",
      "\n",
      "Epoch 246: val_loss improved from 0.00074 to 0.00074, saving model to 10Var-szc-rnn.h5\n"
     ]
    },
    {
     "name": "stderr",
     "output_type": "stream",
     "text": [
      "WARNING:absl:You are saving your model as an HDF5 file via `model.save()` or `keras.saving.save_model(model)`. This file format is considered legacy. We recommend using instead the native Keras format, e.g. `model.save('my_model.keras')` or `keras.saving.save_model(model, 'my_model.keras')`. \n"
     ]
    },
    {
     "name": "stdout",
     "output_type": "stream",
     "text": [
      "\n",
      "Epoch 247: val_loss did not improve from 0.00074\n",
      "\n",
      "Epoch 248: val_loss improved from 0.00074 to 0.00073, saving model to 10Var-szc-rnn.h5\n"
     ]
    },
    {
     "name": "stderr",
     "output_type": "stream",
     "text": [
      "WARNING:absl:You are saving your model as an HDF5 file via `model.save()` or `keras.saving.save_model(model)`. This file format is considered legacy. We recommend using instead the native Keras format, e.g. `model.save('my_model.keras')` or `keras.saving.save_model(model, 'my_model.keras')`. \n"
     ]
    },
    {
     "name": "stdout",
     "output_type": "stream",
     "text": [
      "\n",
      "Epoch 249: val_loss did not improve from 0.00073\n",
      "\n",
      "Epoch 250: val_loss improved from 0.00073 to 0.00073, saving model to 10Var-szc-rnn.h5\n"
     ]
    },
    {
     "name": "stderr",
     "output_type": "stream",
     "text": [
      "WARNING:absl:You are saving your model as an HDF5 file via `model.save()` or `keras.saving.save_model(model)`. This file format is considered legacy. We recommend using instead the native Keras format, e.g. `model.save('my_model.keras')` or `keras.saving.save_model(model, 'my_model.keras')`. \n"
     ]
    },
    {
     "name": "stdout",
     "output_type": "stream",
     "text": [
      "\u001b[1m5/5\u001b[0m \u001b[32m━━━━━━━━━━━━━━━━━━━━\u001b[0m\u001b[37m\u001b[0m \u001b[1m2s\u001b[0m 211ms/step\n",
      "   timesteps        hl      lr  batch_size  num_epochs       MSE     RMSE  \\\n",
      "0         50  [40, 35]  0.0001          64         250  0.001056  0.03249   \n",
      "\n",
      "      MAPE        R²  \n",
      "0  0.04694  0.891341  \n",
      "Best parameters: {'timesteps': 50, 'hl': [40, 35], 'lr': 0.0001, 'batch_size': 64, 'num_epochs': 250}\n",
      "Best RMSE score: 0.032489627747631054\n"
     ]
    }
   ],
   "source": [
    "best_params, best_score, results_df = grid_search_rnn(train, val, test, param_grid)\n",
    "\n",
    "print(results_df)\n",
    "print(\"Best parameters:\", best_params)\n",
    "print(\"Best RMSE score:\", best_score)\n"
   ]
  },
  {
   "cell_type": "markdown",
   "metadata": {},
   "source": [
    "### Bước 5: Huấn luyện mô hình với bộ tham số tối ưu"
   ]
  },
  {
   "cell_type": "code",
   "execution_count": 28,
   "metadata": {},
   "outputs": [
    {
     "name": "stderr",
     "output_type": "stream",
     "text": [
      "c:\\Users\\84368\\AppData\\Local\\Programs\\Python\\Python311\\Lib\\site-packages\\keras\\src\\layers\\rnn\\rnn.py:200: UserWarning: Do not pass an `input_shape`/`input_dim` argument to a layer. When using Sequential models, prefer using an `Input(shape)` object as the first layer in the model instead.\n",
      "  super().__init__(**kwargs)\n"
     ]
    },
    {
     "name": "stdout",
     "output_type": "stream",
     "text": [
      "\n",
      "Epoch 1: val_loss did not improve from 0.00073\n",
      "\n",
      "Epoch 2: val_loss did not improve from 0.00073\n",
      "\n",
      "Epoch 3: val_loss did not improve from 0.00073\n",
      "\n",
      "Epoch 4: val_loss did not improve from 0.00073\n",
      "\n",
      "Epoch 5: val_loss did not improve from 0.00073\n",
      "\n",
      "Epoch 6: val_loss did not improve from 0.00073\n",
      "\n",
      "Epoch 7: val_loss did not improve from 0.00073\n",
      "\n",
      "Epoch 8: val_loss did not improve from 0.00073\n",
      "\n",
      "Epoch 9: val_loss did not improve from 0.00073\n",
      "\n",
      "Epoch 10: val_loss did not improve from 0.00073\n",
      "\n",
      "Epoch 11: val_loss did not improve from 0.00073\n",
      "\n",
      "Epoch 12: val_loss did not improve from 0.00073\n",
      "\n",
      "Epoch 13: val_loss did not improve from 0.00073\n",
      "\n",
      "Epoch 14: val_loss did not improve from 0.00073\n",
      "\n",
      "Epoch 15: val_loss did not improve from 0.00073\n",
      "\n",
      "Epoch 16: val_loss did not improve from 0.00073\n",
      "\n",
      "Epoch 17: val_loss did not improve from 0.00073\n",
      "\n",
      "Epoch 18: val_loss did not improve from 0.00073\n",
      "\n",
      "Epoch 19: val_loss did not improve from 0.00073\n",
      "\n",
      "Epoch 20: val_loss did not improve from 0.00073\n",
      "\n",
      "Epoch 21: val_loss did not improve from 0.00073\n",
      "\n",
      "Epoch 22: val_loss did not improve from 0.00073\n",
      "\n",
      "Epoch 23: val_loss did not improve from 0.00073\n",
      "\n",
      "Epoch 24: val_loss did not improve from 0.00073\n",
      "\n",
      "Epoch 25: val_loss did not improve from 0.00073\n",
      "\n",
      "Epoch 26: val_loss did not improve from 0.00073\n",
      "\n",
      "Epoch 27: val_loss did not improve from 0.00073\n",
      "\n",
      "Epoch 28: val_loss did not improve from 0.00073\n",
      "\n",
      "Epoch 29: val_loss did not improve from 0.00073\n",
      "\n",
      "Epoch 30: val_loss did not improve from 0.00073\n",
      "\n",
      "Epoch 31: val_loss did not improve from 0.00073\n",
      "\n",
      "Epoch 32: val_loss did not improve from 0.00073\n",
      "\n",
      "Epoch 33: val_loss did not improve from 0.00073\n",
      "\n",
      "Epoch 34: val_loss did not improve from 0.00073\n",
      "\n",
      "Epoch 35: val_loss did not improve from 0.00073\n",
      "\n",
      "Epoch 36: val_loss did not improve from 0.00073\n",
      "\n",
      "Epoch 37: val_loss did not improve from 0.00073\n",
      "\n",
      "Epoch 38: val_loss did not improve from 0.00073\n",
      "\n",
      "Epoch 39: val_loss did not improve from 0.00073\n",
      "\n",
      "Epoch 40: val_loss did not improve from 0.00073\n",
      "\n",
      "Epoch 41: val_loss did not improve from 0.00073\n",
      "\n",
      "Epoch 42: val_loss did not improve from 0.00073\n",
      "\n",
      "Epoch 43: val_loss did not improve from 0.00073\n",
      "\n",
      "Epoch 44: val_loss did not improve from 0.00073\n",
      "\n",
      "Epoch 45: val_loss did not improve from 0.00073\n",
      "\n",
      "Epoch 46: val_loss did not improve from 0.00073\n",
      "\n",
      "Epoch 47: val_loss did not improve from 0.00073\n",
      "\n",
      "Epoch 48: val_loss did not improve from 0.00073\n",
      "\n",
      "Epoch 49: val_loss did not improve from 0.00073\n",
      "\n",
      "Epoch 50: val_loss did not improve from 0.00073\n",
      "\n",
      "Epoch 51: val_loss did not improve from 0.00073\n",
      "\n",
      "Epoch 52: val_loss did not improve from 0.00073\n",
      "\n",
      "Epoch 53: val_loss did not improve from 0.00073\n",
      "\n",
      "Epoch 54: val_loss did not improve from 0.00073\n",
      "\n",
      "Epoch 55: val_loss did not improve from 0.00073\n",
      "\n",
      "Epoch 56: val_loss did not improve from 0.00073\n",
      "\n",
      "Epoch 57: val_loss did not improve from 0.00073\n",
      "\n",
      "Epoch 58: val_loss did not improve from 0.00073\n",
      "\n",
      "Epoch 59: val_loss did not improve from 0.00073\n",
      "\n",
      "Epoch 60: val_loss did not improve from 0.00073\n",
      "\n",
      "Epoch 61: val_loss did not improve from 0.00073\n",
      "\n",
      "Epoch 62: val_loss did not improve from 0.00073\n",
      "\n",
      "Epoch 63: val_loss did not improve from 0.00073\n",
      "\n",
      "Epoch 64: val_loss did not improve from 0.00073\n",
      "\n",
      "Epoch 65: val_loss did not improve from 0.00073\n",
      "\n",
      "Epoch 66: val_loss did not improve from 0.00073\n",
      "\n",
      "Epoch 67: val_loss did not improve from 0.00073\n",
      "\n",
      "Epoch 68: val_loss did not improve from 0.00073\n",
      "\n",
      "Epoch 69: val_loss did not improve from 0.00073\n",
      "\n",
      "Epoch 70: val_loss did not improve from 0.00073\n",
      "\n",
      "Epoch 71: val_loss did not improve from 0.00073\n",
      "\n",
      "Epoch 72: val_loss did not improve from 0.00073\n",
      "\n",
      "Epoch 73: val_loss did not improve from 0.00073\n",
      "\n",
      "Epoch 74: val_loss did not improve from 0.00073\n",
      "\n",
      "Epoch 75: val_loss did not improve from 0.00073\n",
      "\n",
      "Epoch 76: val_loss did not improve from 0.00073\n",
      "\n",
      "Epoch 77: val_loss did not improve from 0.00073\n",
      "\n",
      "Epoch 78: val_loss did not improve from 0.00073\n",
      "\n",
      "Epoch 79: val_loss did not improve from 0.00073\n",
      "\n",
      "Epoch 80: val_loss did not improve from 0.00073\n",
      "\n",
      "Epoch 81: val_loss did not improve from 0.00073\n",
      "\n",
      "Epoch 82: val_loss did not improve from 0.00073\n",
      "\n",
      "Epoch 83: val_loss did not improve from 0.00073\n",
      "\n",
      "Epoch 84: val_loss did not improve from 0.00073\n",
      "\n",
      "Epoch 85: val_loss did not improve from 0.00073\n",
      "\n",
      "Epoch 86: val_loss did not improve from 0.00073\n",
      "\n",
      "Epoch 87: val_loss did not improve from 0.00073\n",
      "\n",
      "Epoch 88: val_loss did not improve from 0.00073\n",
      "\n",
      "Epoch 89: val_loss did not improve from 0.00073\n",
      "\n",
      "Epoch 90: val_loss did not improve from 0.00073\n",
      "\n",
      "Epoch 91: val_loss did not improve from 0.00073\n",
      "\n",
      "Epoch 92: val_loss did not improve from 0.00073\n",
      "\n",
      "Epoch 93: val_loss did not improve from 0.00073\n",
      "\n",
      "Epoch 94: val_loss did not improve from 0.00073\n",
      "\n",
      "Epoch 95: val_loss did not improve from 0.00073\n",
      "\n",
      "Epoch 96: val_loss did not improve from 0.00073\n",
      "\n",
      "Epoch 97: val_loss did not improve from 0.00073\n",
      "\n",
      "Epoch 98: val_loss did not improve from 0.00073\n",
      "\n",
      "Epoch 99: val_loss did not improve from 0.00073\n",
      "\n",
      "Epoch 100: val_loss did not improve from 0.00073\n",
      "\n",
      "Epoch 101: val_loss did not improve from 0.00073\n",
      "\n",
      "Epoch 102: val_loss did not improve from 0.00073\n",
      "\n",
      "Epoch 103: val_loss did not improve from 0.00073\n",
      "\n",
      "Epoch 104: val_loss did not improve from 0.00073\n",
      "\n",
      "Epoch 105: val_loss did not improve from 0.00073\n",
      "\n",
      "Epoch 106: val_loss did not improve from 0.00073\n",
      "\n",
      "Epoch 107: val_loss did not improve from 0.00073\n",
      "\n",
      "Epoch 108: val_loss did not improve from 0.00073\n",
      "\n",
      "Epoch 109: val_loss did not improve from 0.00073\n",
      "\n",
      "Epoch 110: val_loss did not improve from 0.00073\n",
      "\n",
      "Epoch 111: val_loss did not improve from 0.00073\n",
      "\n",
      "Epoch 112: val_loss did not improve from 0.00073\n",
      "\n",
      "Epoch 113: val_loss did not improve from 0.00073\n",
      "\n",
      "Epoch 114: val_loss did not improve from 0.00073\n",
      "\n",
      "Epoch 115: val_loss did not improve from 0.00073\n",
      "\n",
      "Epoch 116: val_loss did not improve from 0.00073\n",
      "\n",
      "Epoch 117: val_loss did not improve from 0.00073\n",
      "\n",
      "Epoch 118: val_loss did not improve from 0.00073\n",
      "\n",
      "Epoch 119: val_loss did not improve from 0.00073\n",
      "\n",
      "Epoch 120: val_loss did not improve from 0.00073\n",
      "\n",
      "Epoch 121: val_loss did not improve from 0.00073\n",
      "\n",
      "Epoch 122: val_loss did not improve from 0.00073\n",
      "\n",
      "Epoch 123: val_loss did not improve from 0.00073\n",
      "\n",
      "Epoch 124: val_loss did not improve from 0.00073\n",
      "\n",
      "Epoch 125: val_loss did not improve from 0.00073\n",
      "\n",
      "Epoch 126: val_loss did not improve from 0.00073\n",
      "\n",
      "Epoch 127: val_loss did not improve from 0.00073\n",
      "\n",
      "Epoch 128: val_loss did not improve from 0.00073\n",
      "\n",
      "Epoch 129: val_loss did not improve from 0.00073\n",
      "\n",
      "Epoch 130: val_loss did not improve from 0.00073\n",
      "\n",
      "Epoch 131: val_loss did not improve from 0.00073\n",
      "\n",
      "Epoch 132: val_loss did not improve from 0.00073\n",
      "\n",
      "Epoch 133: val_loss did not improve from 0.00073\n",
      "\n",
      "Epoch 134: val_loss did not improve from 0.00073\n",
      "\n",
      "Epoch 135: val_loss did not improve from 0.00073\n",
      "\n",
      "Epoch 136: val_loss did not improve from 0.00073\n",
      "\n",
      "Epoch 137: val_loss did not improve from 0.00073\n",
      "\n",
      "Epoch 138: val_loss did not improve from 0.00073\n",
      "\n",
      "Epoch 139: val_loss did not improve from 0.00073\n",
      "\n",
      "Epoch 140: val_loss did not improve from 0.00073\n",
      "\n",
      "Epoch 141: val_loss did not improve from 0.00073\n",
      "\n",
      "Epoch 142: val_loss did not improve from 0.00073\n",
      "\n",
      "Epoch 143: val_loss did not improve from 0.00073\n",
      "\n",
      "Epoch 144: val_loss did not improve from 0.00073\n",
      "\n",
      "Epoch 145: val_loss did not improve from 0.00073\n",
      "\n",
      "Epoch 146: val_loss did not improve from 0.00073\n",
      "\n",
      "Epoch 147: val_loss did not improve from 0.00073\n",
      "\n",
      "Epoch 148: val_loss did not improve from 0.00073\n",
      "\n",
      "Epoch 149: val_loss did not improve from 0.00073\n",
      "\n",
      "Epoch 150: val_loss did not improve from 0.00073\n",
      "\n",
      "Epoch 151: val_loss did not improve from 0.00073\n",
      "\n",
      "Epoch 152: val_loss did not improve from 0.00073\n",
      "\n",
      "Epoch 153: val_loss did not improve from 0.00073\n",
      "\n",
      "Epoch 154: val_loss did not improve from 0.00073\n",
      "\n",
      "Epoch 155: val_loss did not improve from 0.00073\n",
      "\n",
      "Epoch 156: val_loss did not improve from 0.00073\n",
      "\n",
      "Epoch 157: val_loss did not improve from 0.00073\n",
      "\n",
      "Epoch 158: val_loss did not improve from 0.00073\n",
      "\n",
      "Epoch 159: val_loss did not improve from 0.00073\n",
      "\n",
      "Epoch 160: val_loss did not improve from 0.00073\n",
      "\n",
      "Epoch 161: val_loss did not improve from 0.00073\n",
      "\n",
      "Epoch 162: val_loss did not improve from 0.00073\n",
      "\n",
      "Epoch 163: val_loss did not improve from 0.00073\n",
      "\n",
      "Epoch 164: val_loss did not improve from 0.00073\n",
      "\n",
      "Epoch 165: val_loss did not improve from 0.00073\n",
      "\n",
      "Epoch 166: val_loss did not improve from 0.00073\n",
      "\n",
      "Epoch 167: val_loss did not improve from 0.00073\n",
      "\n",
      "Epoch 168: val_loss did not improve from 0.00073\n",
      "\n",
      "Epoch 169: val_loss did not improve from 0.00073\n",
      "\n",
      "Epoch 170: val_loss did not improve from 0.00073\n",
      "\n",
      "Epoch 171: val_loss did not improve from 0.00073\n",
      "\n",
      "Epoch 172: val_loss did not improve from 0.00073\n",
      "\n",
      "Epoch 173: val_loss did not improve from 0.00073\n",
      "\n",
      "Epoch 174: val_loss did not improve from 0.00073\n",
      "\n",
      "Epoch 175: val_loss did not improve from 0.00073\n",
      "\n",
      "Epoch 176: val_loss did not improve from 0.00073\n",
      "\n",
      "Epoch 177: val_loss did not improve from 0.00073\n",
      "\n",
      "Epoch 178: val_loss did not improve from 0.00073\n",
      "\n",
      "Epoch 179: val_loss did not improve from 0.00073\n",
      "\n",
      "Epoch 180: val_loss did not improve from 0.00073\n",
      "\n",
      "Epoch 181: val_loss did not improve from 0.00073\n",
      "\n",
      "Epoch 182: val_loss did not improve from 0.00073\n",
      "\n",
      "Epoch 183: val_loss did not improve from 0.00073\n",
      "\n",
      "Epoch 184: val_loss did not improve from 0.00073\n",
      "\n",
      "Epoch 185: val_loss did not improve from 0.00073\n",
      "\n",
      "Epoch 186: val_loss did not improve from 0.00073\n",
      "\n",
      "Epoch 187: val_loss did not improve from 0.00073\n",
      "\n",
      "Epoch 188: val_loss did not improve from 0.00073\n",
      "\n",
      "Epoch 189: val_loss did not improve from 0.00073\n",
      "\n",
      "Epoch 190: val_loss did not improve from 0.00073\n",
      "\n",
      "Epoch 191: val_loss did not improve from 0.00073\n",
      "\n",
      "Epoch 192: val_loss did not improve from 0.00073\n",
      "\n",
      "Epoch 193: val_loss did not improve from 0.00073\n",
      "\n",
      "Epoch 194: val_loss did not improve from 0.00073\n",
      "\n",
      "Epoch 195: val_loss did not improve from 0.00073\n",
      "\n",
      "Epoch 196: val_loss did not improve from 0.00073\n",
      "\n",
      "Epoch 197: val_loss did not improve from 0.00073\n",
      "\n",
      "Epoch 198: val_loss did not improve from 0.00073\n",
      "\n",
      "Epoch 199: val_loss did not improve from 0.00073\n",
      "\n",
      "Epoch 200: val_loss did not improve from 0.00073\n",
      "\n",
      "Epoch 201: val_loss did not improve from 0.00073\n",
      "\n",
      "Epoch 202: val_loss did not improve from 0.00073\n",
      "\n",
      "Epoch 203: val_loss did not improve from 0.00073\n",
      "\n",
      "Epoch 204: val_loss did not improve from 0.00073\n",
      "\n",
      "Epoch 205: val_loss did not improve from 0.00073\n",
      "\n",
      "Epoch 206: val_loss did not improve from 0.00073\n",
      "\n",
      "Epoch 207: val_loss did not improve from 0.00073\n",
      "\n",
      "Epoch 208: val_loss did not improve from 0.00073\n",
      "\n",
      "Epoch 209: val_loss did not improve from 0.00073\n",
      "\n",
      "Epoch 210: val_loss did not improve from 0.00073\n",
      "\n",
      "Epoch 211: val_loss did not improve from 0.00073\n",
      "\n",
      "Epoch 212: val_loss did not improve from 0.00073\n",
      "\n",
      "Epoch 213: val_loss did not improve from 0.00073\n",
      "\n",
      "Epoch 214: val_loss did not improve from 0.00073\n",
      "\n",
      "Epoch 215: val_loss did not improve from 0.00073\n",
      "\n",
      "Epoch 216: val_loss did not improve from 0.00073\n",
      "\n",
      "Epoch 217: val_loss did not improve from 0.00073\n",
      "\n",
      "Epoch 218: val_loss did not improve from 0.00073\n",
      "\n",
      "Epoch 219: val_loss did not improve from 0.00073\n",
      "\n",
      "Epoch 220: val_loss did not improve from 0.00073\n",
      "\n",
      "Epoch 221: val_loss did not improve from 0.00073\n",
      "\n",
      "Epoch 222: val_loss did not improve from 0.00073\n",
      "\n",
      "Epoch 223: val_loss did not improve from 0.00073\n",
      "\n",
      "Epoch 224: val_loss did not improve from 0.00073\n",
      "\n",
      "Epoch 225: val_loss did not improve from 0.00073\n",
      "\n",
      "Epoch 226: val_loss did not improve from 0.00073\n",
      "\n",
      "Epoch 227: val_loss did not improve from 0.00073\n",
      "\n",
      "Epoch 228: val_loss did not improve from 0.00073\n",
      "\n",
      "Epoch 229: val_loss did not improve from 0.00073\n",
      "\n",
      "Epoch 230: val_loss did not improve from 0.00073\n",
      "\n",
      "Epoch 231: val_loss did not improve from 0.00073\n",
      "\n",
      "Epoch 232: val_loss did not improve from 0.00073\n",
      "\n",
      "Epoch 233: val_loss did not improve from 0.00073\n",
      "\n",
      "Epoch 234: val_loss did not improve from 0.00073\n",
      "\n",
      "Epoch 235: val_loss did not improve from 0.00073\n",
      "\n",
      "Epoch 236: val_loss did not improve from 0.00073\n",
      "\n",
      "Epoch 237: val_loss did not improve from 0.00073\n",
      "\n",
      "Epoch 238: val_loss did not improve from 0.00073\n",
      "\n",
      "Epoch 239: val_loss did not improve from 0.00073\n",
      "\n",
      "Epoch 240: val_loss did not improve from 0.00073\n",
      "\n",
      "Epoch 241: val_loss did not improve from 0.00073\n",
      "\n",
      "Epoch 242: val_loss did not improve from 0.00073\n",
      "\n",
      "Epoch 243: val_loss did not improve from 0.00073\n",
      "\n",
      "Epoch 244: val_loss did not improve from 0.00073\n",
      "\n",
      "Epoch 245: val_loss did not improve from 0.00073\n",
      "\n",
      "Epoch 246: val_loss did not improve from 0.00073\n",
      "\n",
      "Epoch 247: val_loss did not improve from 0.00073\n",
      "\n",
      "Epoch 248: val_loss did not improve from 0.00073\n",
      "\n",
      "Epoch 249: val_loss did not improve from 0.00073\n",
      "\n",
      "Epoch 250: val_loss did not improve from 0.00073\n"
     ]
    }
   ],
   "source": [
    "timesteps = 50\n",
    "hl = [40, 35]\n",
    "lr = 0.0001\n",
    "batch_size = 64\n",
    "num_epochs = 250\n",
    "\n",
    "model, train_error, val_error = fit_model_2(train, val, timesteps, hl, lr, batch_size, num_epochs)"
   ]
  },
  {
   "cell_type": "markdown",
   "metadata": {},
   "source": [
    "### Bước 6: Đánh giá mô hình và trực quan hóa kết quả"
   ]
  },
  {
   "cell_type": "markdown",
   "metadata": {},
   "source": [
    "#### 6.1. Vẽ biểu đồ train_loss và val_loss"
   ]
  },
  {
   "cell_type": "code",
   "execution_count": 29,
   "metadata": {},
   "outputs": [
    {
     "data": {
      "image/png": "[encoded data removed]",
      "text/plain": [
       "<Figure size 640x480 with 1 Axes>"
      ]
     },
     "metadata": {},
     "output_type": "display_data"
    }
   ],
   "source": [
    "plot_error(train_error, val_error)"
   ]
  },
  {
   "cell_type": "markdown",
   "metadata": {},
   "source": [
    "#### 6.2. Đánh giá mô hình trên tập test"
   ]
  },
  {
   "cell_type": "code",
   "execution_count": 30,
   "metadata": {},
   "outputs": [
    {
     "name": "stdout",
     "output_type": "stream",
     "text": [
      "\u001b[1m5/5\u001b[0m \u001b[32m━━━━━━━━━━━━━━━━━━━━\u001b[0m\u001b[37m\u001b[0m \u001b[1m2s\u001b[0m 183ms/step\n"
     ]
    }
   ],
   "source": [
    "mse, rmse, mape, r2, true, predicted = evaluate_model_2(model, test, timesteps) #được tính dựa trên bộ dữ liệu đã chuẩn hoá\n"
   ]
  },
  {
   "cell_type": "code",
   "execution_count": 31,
   "metadata": {},
   "outputs": [
    {
     "name": "stdout",
     "output_type": "stream",
     "text": [
      "MSE = 0.0010555759111796376\n",
      "RMSE = 0.032489627747631054\n",
      "MAPE = 0.046939901762186674\n",
      "R-Squared Score = 0.8913409440413683\n"
     ]
    }
   ],
   "source": [
    "print('MSE = {}'.format(mse))\n",
    "print('RMSE = {}'.format(rmse))\n",
    "print('MAPE = {}'.format(mape))\n",
    "print('R-Squared Score = {}'.format(r2))"
   ]
  },
  {
   "cell_type": "markdown",
   "metadata": {},
   "source": [
    "#### 6.3. Vẽ đồ thị dự đoán vs thực tế"
   ]
  },
  {
   "cell_type": "code",
   "execution_count": 32,
   "metadata": {},
   "outputs": [
    {
     "data": {
      "image/png": "[encoded data removed]",
      "text/plain": [
       "<Figure size 640x480 with 1 Axes>"
      ]
     },
     "metadata": {},
     "output_type": "display_data"
    }
   ],
   "source": [
    "plot_data_2(true, predicted)"
   ]
  },
  {
   "cell_type": "code",
   "execution_count": 33,
   "metadata": {},
   "outputs": [],
   "source": [
    "# Save a model\n",
    "model.save('10VAR-szc-rnn.keras')"
   ]
  },
  {
   "cell_type": "code",
   "execution_count": null,
   "metadata": {},
   "outputs": [],
   "source": [
    "del model"
   ]
  },
  {
   "cell_type": "markdown",
   "metadata": {},
   "source": [
    "# Model 2: Multivariate-3-GRU"
   ]
  },
  {
   "cell_type": "markdown",
   "metadata": {},
   "source": [
    "## GRU"
   ]
  },
  {
   "cell_type": "markdown",
   "metadata": {},
   "source": [
    "### Import các thư viện cần thiết"
   ]
  },
  {
   "cell_type": "code",
   "execution_count": 34,
   "metadata": {},
   "outputs": [],
   "source": [
    "import os\n",
    "os.environ['PYTHONHASHSEED'] = '0' # đảm bảo rằng các giá trị băm của đối tượng bất biến (dict, set, chuỗi, tuple...) luôn giống nhau giữa các lần chạy\n",
    "\n",
    "import random as rn\n",
    "import numpy as np\n",
    "np.random.seed(1)\n",
    "rn.seed(3)\n",
    "import tensorflow as tf\n",
    "tf.random.set_seed(2)"
   ]
  },
  {
   "cell_type": "code",
   "execution_count": 35,
   "metadata": {},
   "outputs": [],
   "source": [
    "import sys\n",
    "import numpy as np\n",
    "import pandas as pd\n",
    "import matplotlib.pyplot as plt"
   ]
  },
  {
   "cell_type": "code",
   "execution_count": 36,
   "metadata": {},
   "outputs": [],
   "source": [
    "import tensorflow as tf\n",
    "from tensorflow.keras.models import Sequential, load_model\n",
    "from tensorflow.keras.layers import Dense, GRU, Dropout\n",
    "from tensorflow.keras import optimizers"
   ]
  },
  {
   "cell_type": "code",
   "execution_count": 37,
   "metadata": {},
   "outputs": [],
   "source": [
    "from tensorflow.keras.callbacks import EarlyStopping, ModelCheckpoint\n",
    "from sklearn.preprocessing import MinMaxScaler\n",
    "from sklearn.metrics import mean_squared_error, r2_score, mean_absolute_percentage_error\n",
    "from math import sqrt\n",
    "import datetime as dt\n",
    "import time\n",
    "\n",
    "from tensorflow.keras.optimizers import Adam"
   ]
  },
  {
   "cell_type": "code",
   "execution_count": 38,
   "metadata": {},
   "outputs": [],
   "source": [
    "plt.style.use('ggplot')"
   ]
  },
  {
   "cell_type": "markdown",
   "metadata": {},
   "source": [
    "### Hàm callback"
   ]
  },
  {
   "cell_type": "code",
   "execution_count": 39,
   "metadata": {},
   "outputs": [],
   "source": [
    "earlystop = EarlyStopping(monitor='val_loss', min_delta=0.0001, patience=80,  verbose=1, mode='min')  \n",
    "checkpoint = ModelCheckpoint(\n",
    "    filepath=\"10Var-szc-gru.h5\",   # Tên file lưu mô hình\n",
    "    monitor=\"val_loss\",         # Theo dõi val_loss\n",
    "    save_best_only=True,        # Chỉ lưu khi tốt hơn mô hình trước đó\n",
    "    mode=\"min\",                 # Giảm min của val_loss là tốt nhất\n",
    "    verbose=1\n",
    ")\n",
    "callbacks_list = [earlystop, checkpoint] "
   ]
  },
  {
   "cell_type": "markdown",
   "metadata": {},
   "source": [
    "### Đọc dữ liệu từ file csv"
   ]
  },
  {
   "cell_type": "code",
   "execution_count": null,
   "metadata": {},
   "outputs": [],
   "source": [
    "url = r\"SZC_stock_data.csv\"\n",
    "df = pd.read_csv(url, parse_dates= True, index_col= 0)"
   ]
  },
  {
   "cell_type": "code",
   "execution_count": 41,
   "metadata": {},
   "outputs": [
    {
     "data": {
      "text/html": [
       "<div>\n",
       "<style scoped>\n",
       "    .dataframe tbody tr th:only-of-type {\n",
       "        vertical-align: middle;\n",
       "    }\n",
       "\n",
       "    .dataframe tbody tr th {\n",
       "        vertical-align: top;\n",
       "    }\n",
       "\n",
       "    .dataframe thead th {\n",
       "        text-align: right;\n",
       "    }\n",
       "</style>\n",
       "<table border=\"1\" class=\"dataframe\">\n",
       "  <thead>\n",
       "    <tr style=\"text-align: right;\">\n",
       "      <th></th>\n",
       "      <th>open</th>\n",
       "      <th>high</th>\n",
       "      <th>low</th>\n",
       "      <th>close</th>\n",
       "      <th>volume</th>\n",
       "    </tr>\n",
       "    <tr>\n",
       "      <th>time</th>\n",
       "      <th></th>\n",
       "      <th></th>\n",
       "      <th></th>\n",
       "      <th></th>\n",
       "      <th></th>\n",
       "    </tr>\n",
       "  </thead>\n",
       "  <tbody>\n",
       "    <tr>\n",
       "      <th>2019-01-15</th>\n",
       "      <td>8.97</td>\n",
       "      <td>8.97</td>\n",
       "      <td>6.58</td>\n",
       "      <td>6.58</td>\n",
       "      <td>109570</td>\n",
       "    </tr>\n",
       "    <tr>\n",
       "      <th>2019-01-16</th>\n",
       "      <td>6.58</td>\n",
       "      <td>7.03</td>\n",
       "      <td>6.58</td>\n",
       "      <td>7.03</td>\n",
       "      <td>27940</td>\n",
       "    </tr>\n",
       "    <tr>\n",
       "      <th>2019-01-17</th>\n",
       "      <td>7.51</td>\n",
       "      <td>7.51</td>\n",
       "      <td>7.51</td>\n",
       "      <td>7.51</td>\n",
       "      <td>119080</td>\n",
       "    </tr>\n",
       "    <tr>\n",
       "      <th>2019-01-18</th>\n",
       "      <td>7.84</td>\n",
       "      <td>7.89</td>\n",
       "      <td>7.51</td>\n",
       "      <td>7.51</td>\n",
       "      <td>50480</td>\n",
       "    </tr>\n",
       "    <tr>\n",
       "      <th>2019-01-21</th>\n",
       "      <td>7.51</td>\n",
       "      <td>7.51</td>\n",
       "      <td>7.12</td>\n",
       "      <td>7.12</td>\n",
       "      <td>13560</td>\n",
       "    </tr>\n",
       "  </tbody>\n",
       "</table>\n",
       "</div>"
      ],
      "text/plain": [
       "            open  high   low  close  volume\n",
       "time                                       \n",
       "2019-01-15  8.97  8.97  6.58   6.58  109570\n",
       "2019-01-16  6.58  7.03  6.58   7.03   27940\n",
       "2019-01-17  7.51  7.51  7.51   7.51  119080\n",
       "2019-01-18  7.84  7.89  7.51   7.51   50480\n",
       "2019-01-21  7.51  7.51  7.12   7.12   13560"
      ]
     },
     "execution_count": 41,
     "metadata": {},
     "output_type": "execute_result"
    }
   ],
   "source": [
    "df.head()"
   ]
  },
  {
   "cell_type": "code",
   "execution_count": 42,
   "metadata": {},
   "outputs": [
    {
     "data": {
      "text/plain": [
       "open      0\n",
       "high      0\n",
       "low       0\n",
       "close     0\n",
       "volume    0\n",
       "dtype: int64"
      ]
     },
     "execution_count": 42,
     "metadata": {},
     "output_type": "execute_result"
    }
   ],
   "source": [
    "df.isnull().sum()"
   ]
  },
  {
   "cell_type": "markdown",
   "metadata": {},
   "source": [
    "### Tiền xử lí dữ liệu"
   ]
  },
  {
   "cell_type": "code",
   "execution_count": 43,
   "metadata": {},
   "outputs": [],
   "source": [
    "# Xóa các dòng có giá trị Volume bằng 0\n",
    "df.drop(df[df['volume']==0].index, inplace=True)"
   ]
  },
  {
   "cell_type": "code",
   "execution_count": 44,
   "metadata": {},
   "outputs": [
    {
     "data": {
      "text/plain": [
       "open      0.997768\n",
       "high      0.999022\n",
       "low       0.998935\n",
       "close     1.000000\n",
       "volume    0.444012\n",
       "Name: close, dtype: float64"
      ]
     },
     "execution_count": 44,
     "metadata": {},
     "output_type": "execute_result"
    }
   ],
   "source": [
    "# Ma trận tương quan (ở đây là Pearson tương quan tuyến tính)\n",
    "df.corr()['close']"
   ]
  },
  {
   "cell_type": "code",
   "execution_count": 45,
   "metadata": {},
   "outputs": [
    {
     "name": "stdout",
     "output_type": "stream",
     "text": [
      "count    1.293000e+03\n",
      "mean     9.618657e+05\n",
      "std      7.256608e+05\n",
      "min      2.400000e+02\n",
      "25%      4.538290e+05\n",
      "50%      8.436720e+05\n",
      "75%      1.285800e+06\n",
      "max      4.346420e+06\n",
      "Name: volume, dtype: float64\n"
     ]
    }
   ],
   "source": [
    "print(df.describe().volume) "
   ]
  },
  {
   "cell_type": "code",
   "execution_count": 46,
   "metadata": {},
   "outputs": [
    {
     "data": {
      "text/plain": [
       "<Axes: >"
      ]
     },
     "execution_count": 46,
     "metadata": {},
     "output_type": "execute_result"
    },
    {
     "data": {
      "image/png": "[encoded data removed]",
      "text/plain": [
       "<Figure size 640x480 with 1 Axes>"
      ]
     },
     "metadata": {},
     "output_type": "display_data"
    }
   ],
   "source": [
    "df['volume'].hist(bins= 10)"
   ]
  },
  {
   "cell_type": "code",
   "execution_count": 47,
   "metadata": {},
   "outputs": [],
   "source": [
    "# Bổ sung các chỉ báo kĩ thuật\n",
    "\n",
    "# Tính CMA10\n",
    "df['CMA10'] = df['close'].rolling(window=10, center=True).mean()\n",
    "# Tính SMA10\n",
    "df['SMA10'] = df['close'].rolling(window=10).mean()\n",
    "# Tính SMA50\n",
    "df['SMA50'] = df['close'].rolling(window=50).mean()\n",
    "# Tính EMA12 và EMA26\n",
    "df['EMA12'] = df['close'].ewm(span=12, adjust=False).mean()\n",
    "df['EMA26'] = df['close'].ewm(span=26, adjust=False).mean()\n",
    "# Tính MACD\n",
    "df['MACD'] = df['EMA12'] - df['EMA26']\n",
    "#Tính RSI\n",
    "# Tính giá tăng/giảm\n",
    "delta = df['close'].diff()\n",
    "\n",
    "# Tính giá tăng\n",
    "gain = delta.where(delta > 0, 0)\n",
    "\n",
    "# Tính giá giảm\n",
    "loss = -delta.where(delta < 0, 0)\n",
    "\n",
    "# Tính trung bình động\n",
    "avg_gain = gain.rolling(window=14).mean()\n",
    "avg_loss = loss.rolling(window=14).mean()\n",
    "\n",
    "# Tính RS và RSI\n",
    "rs = avg_gain / avg_loss\n",
    "df['RSI'] = 100 - (100 / (1 + rs))\n",
    "\n",
    "#Tính CCI\n",
    "# Tính giá trung bình\n",
    "typical_price = (df['high'] + df['low'] + df['close']) / 3\n",
    "\n",
    "# Tính SMA của giá trung bình\n",
    "sma_typical_price = typical_price.rolling(window=20).mean()\n",
    "\n",
    "# Tính độ lệch chuẩn\n",
    "mean_deviation = typical_price.rolling(window=20).apply(lambda x: np.mean(np.abs(x - x.mean())))\n",
    "\n",
    "# Tính CCI\n",
    "df['CCI'] = (typical_price - sma_typical_price) / (0.015 * mean_deviation)\n",
    "# Tính %K và %D\n",
    "low_min = df['low'].rolling(window=14).min()\n",
    "high_max = df['high'].rolling(window=14).max()\n",
    "\n",
    "df['%K'] = 100 * (df['close'] - low_min) / (high_max - low_min)\n",
    "df['%D'] = df['%K'].rolling(window=3).mean()"
   ]
  },
  {
   "cell_type": "code",
   "execution_count": 48,
   "metadata": {},
   "outputs": [
    {
     "name": "stdout",
     "output_type": "stream",
     "text": [
      "            open  high   low  close  volume  CMA10  SMA10  SMA50     EMA12  \\\n",
      "time                                                                         \n",
      "2019-01-15  8.97  8.97  6.58   6.58  109570    NaN    NaN    NaN  6.580000   \n",
      "2019-01-16  6.58  7.03  6.58   7.03   27940    NaN    NaN    NaN  6.649231   \n",
      "2019-01-17  7.51  7.51  7.51   7.51  119080    NaN    NaN    NaN  6.781657   \n",
      "2019-01-18  7.84  7.89  7.51   7.51   50480    NaN    NaN    NaN  6.893710   \n",
      "2019-01-21  7.51  7.51  7.12   7.12   13560    NaN    NaN    NaN  6.928524   \n",
      "\n",
      "               EMA26      MACD  RSI  CCI  %K  %D  \n",
      "time                                              \n",
      "2019-01-15  6.580000  0.000000  NaN  NaN NaN NaN  \n",
      "2019-01-16  6.613333  0.035897  NaN  NaN NaN NaN  \n",
      "2019-01-17  6.679753  0.101904  NaN  NaN NaN NaN  \n",
      "2019-01-18  6.741253  0.152457  NaN  NaN NaN NaN  \n",
      "2019-01-21  6.769308  0.159215  NaN  NaN NaN NaN  \n"
     ]
    },
    {
     "data": {
      "text/plain": [
       "(1293, 15)"
      ]
     },
     "execution_count": 48,
     "metadata": {},
     "output_type": "execute_result"
    }
   ],
   "source": [
    "print(df.head())\n",
    "df.shape"
   ]
  },
  {
   "cell_type": "markdown",
   "metadata": {},
   "source": [
    "## Train model / Hàm **fit_model_3()**"
   ]
  },
  {
   "cell_type": "code",
   "execution_count": 49,
   "metadata": {},
   "outputs": [],
   "source": [
    "def fit_model_3(train, val, timesteps, hl, lr, batch, epochs):\n",
    "    \"\"\"\n",
    "    np.random.seed(1)\n",
    "    tf.random.set_seed(2)\n",
    "    rn.seed(3)\n",
    "    \"\"\"\n",
    "    X_train = []\n",
    "    Y_train = []\n",
    "    X_val = []\n",
    "    Y_val = []\n",
    "\n",
    "    for i in range(timesteps, train.shape[0]):\n",
    "        X_train.append(train[i-timesteps:i])\n",
    "        Y_train.append(train[i][0])\n",
    "    X_train, Y_train = np.array(X_train), np.array(Y_train)\n",
    "\n",
    "    for i in range(timesteps, val.shape[0]):\n",
    "        X_val.append(val[i-timesteps:i])\n",
    "        Y_val.append(val[i][0])\n",
    "    X_val, Y_val = np.array(X_val), np.array(Y_val)\n",
    "\n",
    "    # Thêm các lớp vào mô hình\n",
    "    model = Sequential()\n",
    "    model.add(GRU(X_train.shape[2], input_shape= (X_train.shape[1], X_train.shape[2]), activation= 'relu', return_sequences= True))\n",
    "    for i in range(len(hl)-1):\n",
    "        model.add(GRU(hl[i], activation='relu', return_sequences= True))\n",
    "    model.add(GRU(hl[-1], activation='relu'))\n",
    "    model.add(Dense(1))\n",
    "\n",
    "    # Biên dịch\n",
    "    model.compile(optimizer= optimizers.Adam(learning_rate= lr), loss= 'mean_squared_error')\n",
    "\n",
    "    # Huấn luyện dữ liệu\n",
    "    history = model.fit(X_train, Y_train, epochs= epochs, batch_size= batch, validation_data= (X_val, Y_val), verbose= 0, shuffle= False, callbacks= callbacks_list)\n",
    "    \n",
    "    # Đặt lại trạng thái\n",
    "    for layer in model.layers:\n",
    "        if isinstance(layer, GRU):\n",
    "            layer.reset_states()\n",
    "    \n",
    "    return model, history.history['loss'], history.history['val_loss']"
   ]
  },
  {
   "cell_type": "markdown",
   "metadata": {},
   "source": [
    "## Hàm **Evaluate_model_3()**"
   ]
  },
  {
   "cell_type": "code",
   "execution_count": 50,
   "metadata": {},
   "outputs": [],
   "source": [
    "def evaluate_model_3(model, test, timesteps):\n",
    "    \"\"\"\n",
    "    np.random.seed(1)\n",
    "    tf.random.set_seed(2)\n",
    "    \"\"\"\n",
    "    X_test = []\n",
    "    Y_test = []\n",
    "\n",
    "    for i in range(timesteps, test.shape[0]):\n",
    "        X_test.append(test[i-timesteps:i])\n",
    "        Y_test.append(test[i][0])\n",
    "    X_test, Y_test= np.array(X_test), np.array(Y_test)\n",
    "\n",
    "    # Các chỉ số đánh giá\n",
    "    Y_hat = model.predict(X_test)\n",
    "    mse = mean_squared_error(Y_test, Y_hat)\n",
    "    rmse = sqrt(mse)\n",
    "    mape = mean_absolute_percentage_error(Y_test, Y_hat)\n",
    "    r2 = r2_score(Y_test, Y_hat)\n",
    "\n",
    "    return mse, rmse, mape, r2, Y_test, Y_hat\n"
   ]
  },
  {
   "cell_type": "markdown",
   "metadata": {},
   "source": [
    "## **Grid Search**: Tìm kiếm siêu tham số tối ưu "
   ]
  },
  {
   "cell_type": "code",
   "execution_count": 51,
   "metadata": {},
   "outputs": [],
   "source": [
    "param_grid = {\n",
    "    'timesteps': [30, 40, 50],\n",
    "    'hl': [[40, 35]],\n",
    "    'lr': [1e-4, 1e-3],\n",
    "    'batch_size': [32, 64],\n",
    "    'num_epochs': [200, 250]\n",
    "}"
   ]
  },
  {
   "cell_type": "code",
   "execution_count": 52,
   "metadata": {},
   "outputs": [],
   "source": [
    "# Hàm grid search\n",
    "def grid_search_rnn(train, val, test, param_grid):\n",
    "    results = []\n",
    "    best_score = float('inf')\n",
    "    best_params = None\n",
    "\n",
    "    # Tạo tất cả các tổ hợp tham số\n",
    "    all_combinations = list(product(*(param_grid.values())))\n",
    "    param_names = param_grid.keys()\n",
    "\n",
    "    for combination in all_combinations:\n",
    "        # Gán giá trị tham số hiện tại\n",
    "        params = dict(zip(param_names, combination))\n",
    "        hl = params['hl']\n",
    "        lr = params['lr']\n",
    "        batch_size = params['batch_size']\n",
    "        num_epochs = params['num_epochs']\n",
    "\n",
    "        print(f'Training with params: {params}')\n",
    "\n",
    "        # Huấn luyện mô hình\n",
    "        model, train_loss, val_loss = fit_model_3(train, val, timesteps, hl, lr, batch_size, num_epochs)\n",
    "\n",
    "        # Đánh giá mô hình\n",
    "        mse, rmse, mape, r2, _, _ = evaluate_model_3(model, test, timesteps)\n",
    "\n",
    "        # Lưu kết quả\n",
    "        results.append({\n",
    "            'timesteps': timesteps,\n",
    "            'hl': hl,\n",
    "            'lr': lr,\n",
    "            'batch_size': batch_size,\n",
    "            'num_epochs': num_epochs,\n",
    "            'mse': mse,\n",
    "            'rmse': rmse,\n",
    "            'mape': mape,\n",
    "            'r2': r2\n",
    "        })\n",
    "\n",
    "        # Cập nhật tham số tốt nhất nếu RMSE cải thiện\n",
    "        if rmse < best_score:\n",
    "            best_score = rmse\n",
    "            best_params = params\n",
    "\n",
    "        # Trả về kết quả\n",
    "        results_df = pd.DataFrame(results)\n",
    "        return best_params, best_score, results_df\n"
   ]
  },
  {
   "cell_type": "markdown",
   "metadata": {},
   "source": [
    "## Plot chart (vẽ biểu đồ)"
   ]
  },
  {
   "cell_type": "code",
   "execution_count": 53,
   "metadata": {},
   "outputs": [],
   "source": [
    "# Plotting the predictions\n",
    "def plot_data_3(Y_test, Y_hat):\n",
    "    plt.plot(Y_test, c = 'r')\n",
    "    plt.plot(Y_hat, c = 'y')\n",
    "    plt.xlabel('Day')\n",
    "    plt.ylabel('Price')\n",
    "    plt.title(\"Stock Price Prediction using Multivariate-GRU\")\n",
    "    plt.legend(['Actual','Predicted'], loc = 'lower right')\n",
    "    plt.show()"
   ]
  },
  {
   "cell_type": "code",
   "execution_count": 54,
   "metadata": {},
   "outputs": [],
   "source": [
    "# Plotting the training errors: trực quan loss qua các epoch -> thấy qtr học mô hình, xem có overfitting ko\n",
    "def plot_error(train_loss, val_loss):\n",
    "    plt.plot(train_loss, c = 'r')\n",
    "    plt.plot(val_loss, c = 'b')\n",
    "    plt.ylabel('Loss')\n",
    "    plt.xlabel('Epochs')\n",
    "    plt.title('Train Loss and Validation Loss Curve')\n",
    "    plt.legend(['train', 'val'], loc = 'upper right')\n",
    "    plt.show()"
   ]
  },
  {
   "cell_type": "markdown",
   "metadata": {},
   "source": [
    "## **Model building**: Xây dựng mô hình"
   ]
  },
  {
   "cell_type": "markdown",
   "metadata": {},
   "source": [
    "### Bước 1: Trích xuất và trực quan hóa dữ liệu"
   ]
  },
  {
   "cell_type": "code",
   "execution_count": 55,
   "metadata": {},
   "outputs": [
    {
     "name": "stdout",
     "output_type": "stream",
     "text": [
      "(1240, 10)\n",
      "            close   CMA10   SMA10    SMA50      EMA12        RSI         CCI  \\\n",
      "time                                                                           \n",
      "2024-03-08  42.01  42.700  42.082  38.1438  41.728648  58.527132   89.439762   \n",
      "2024-03-11  42.11  42.841  42.214  38.2866  41.787318  61.733333   78.471023   \n",
      "2024-03-12  43.76  42.695  42.311  38.4576  42.090807  66.471963  151.814600   \n",
      "2024-03-13  44.15  42.574  42.520  38.6188  42.407606  66.274971  198.091866   \n",
      "2024-03-14  43.86  42.599  42.700  38.7822  42.631051  74.406332  169.247492   \n",
      "\n",
      "                   %K         %D      MACD  \n",
      "time                                        \n",
      "2024-03-08  57.584270  53.491481  1.160930  \n",
      "2024-03-11  60.393258  55.799831  1.105357  \n",
      "2024-03-12  86.560364  68.179298  1.180843  \n",
      "2024-03-13  85.860656  77.604760  1.257639  \n",
      "2024-03-14  72.761194  81.727405  1.280341  \n"
     ]
    }
   ],
   "source": [
    "# Extracting the series\n",
    "series = df[['close', 'CMA10', 'SMA10', 'SMA50', 'EMA12', 'RSI', 'CCI', '%K', '%D', 'MACD']]\n",
    "# Drop rows with NaN values\n",
    "series = series.dropna()\n",
    "\n",
    "# Display the shape and the tail of the cleaned series\n",
    "print(series.shape)\n",
    "print(series.tail())"
   ]
  },
  {
   "cell_type": "markdown",
   "metadata": {},
   "source": [
    "### Bước 2: Chia dữ liệu thành các tập Train, Validation, Test"
   ]
  },
  {
   "cell_type": "code",
   "execution_count": 56,
   "metadata": {},
   "outputs": [
    {
     "data": {
      "text/plain": [
       "(1240, 10)"
      ]
     },
     "execution_count": 56,
     "metadata": {},
     "output_type": "execute_result"
    }
   ],
   "source": [
    "series.shape"
   ]
  },
  {
   "cell_type": "code",
   "execution_count": 57,
   "metadata": {},
   "outputs": [
    {
     "name": "stdout",
     "output_type": "stream",
     "text": [
      "(868, 10) (186, 10) (186, 10)\n"
     ]
    }
   ],
   "source": [
    "n = series.shape[0]\n",
    "val_size =  test_size = int(n * 0.15)\n",
    "train_size = n - val_size - test_size # Để tránh sai số làm mất dữ liệu\n",
    "\n",
    "# Chia tập dữ liệu theo thứ tự thời gian\n",
    "train_data = series.iloc[:train_size].values\n",
    "val_data = series.iloc[train_size:train_size + val_size].values\n",
    "test_data = series.iloc[(train_size + val_size):].values\n",
    "# Kiểm tra kích thước của từng tập\n",
    "print(train_data.shape, val_data.shape, test_data.shape)"
   ]
  },
  {
   "cell_type": "markdown",
   "metadata": {},
   "source": [
    "### Bước 3: Chuẩn hóa dữ liệu bằng MinMaxScaler"
   ]
  },
  {
   "cell_type": "code",
   "execution_count": 58,
   "metadata": {},
   "outputs": [
    {
     "name": "stdout",
     "output_type": "stream",
     "text": [
      "(868, 10) (186, 10) (186, 10)\n"
     ]
    }
   ],
   "source": [
    "# Normalisation\n",
    "np.random.seed(1)\n",
    "tf.random.set_seed(2)\n",
    "\n",
    "sc = MinMaxScaler()\n",
    "train = sc.fit_transform(train_data)\n",
    "val = sc.transform(val_data)\n",
    "test = sc.transform(test_data)\n",
    "\n",
    "print(train.shape, val.shape, test.shape)"
   ]
  },
  {
   "cell_type": "markdown",
   "metadata": {},
   "source": [
    "### Bước 4: Tìm siêu tham số tốt nhất bằng Grid Search"
   ]
  },
  {
   "cell_type": "code",
   "execution_count": 59,
   "metadata": {},
   "outputs": [
    {
     "name": "stdout",
     "output_type": "stream",
     "text": [
      "Training with params: {'timesteps': 30, 'hl': [40, 35], 'lr': 0.0001, 'batch_size': 32, 'num_epochs': 200}\n"
     ]
    },
    {
     "name": "stderr",
     "output_type": "stream",
     "text": [
      "c:\\Users\\84368\\AppData\\Local\\Programs\\Python\\Python311\\Lib\\site-packages\\keras\\src\\layers\\rnn\\rnn.py:200: UserWarning: Do not pass an `input_shape`/`input_dim` argument to a layer. When using Sequential models, prefer using an `Input(shape)` object as the first layer in the model instead.\n",
      "  super().__init__(**kwargs)\n"
     ]
    },
    {
     "name": "stdout",
     "output_type": "stream",
     "text": [
      "\n",
      "Epoch 1: val_loss improved from inf to 0.07570, saving model to 10Var-szc-gru.h5\n"
     ]
    },
    {
     "name": "stderr",
     "output_type": "stream",
     "text": [
      "WARNING:absl:You are saving your model as an HDF5 file via `model.save()` or `keras.saving.save_model(model)`. This file format is considered legacy. We recommend using instead the native Keras format, e.g. `model.save('my_model.keras')` or `keras.saving.save_model(model, 'my_model.keras')`. \n"
     ]
    },
    {
     "name": "stdout",
     "output_type": "stream",
     "text": [
      "\n",
      "Epoch 2: val_loss improved from 0.07570 to 0.06414, saving model to 10Var-szc-gru.h5\n"
     ]
    },
    {
     "name": "stderr",
     "output_type": "stream",
     "text": [
      "WARNING:absl:You are saving your model as an HDF5 file via `model.save()` or `keras.saving.save_model(model)`. This file format is considered legacy. We recommend using instead the native Keras format, e.g. `model.save('my_model.keras')` or `keras.saving.save_model(model, 'my_model.keras')`. \n"
     ]
    },
    {
     "name": "stdout",
     "output_type": "stream",
     "text": [
      "\n",
      "Epoch 3: val_loss improved from 0.06414 to 0.05369, saving model to 10Var-szc-gru.h5\n"
     ]
    },
    {
     "name": "stderr",
     "output_type": "stream",
     "text": [
      "WARNING:absl:You are saving your model as an HDF5 file via `model.save()` or `keras.saving.save_model(model)`. This file format is considered legacy. We recommend using instead the native Keras format, e.g. `model.save('my_model.keras')` or `keras.saving.save_model(model, 'my_model.keras')`. \n"
     ]
    },
    {
     "name": "stdout",
     "output_type": "stream",
     "text": [
      "\n",
      "Epoch 4: val_loss improved from 0.05369 to 0.04205, saving model to 10Var-szc-gru.h5\n"
     ]
    },
    {
     "name": "stderr",
     "output_type": "stream",
     "text": [
      "WARNING:absl:You are saving your model as an HDF5 file via `model.save()` or `keras.saving.save_model(model)`. This file format is considered legacy. We recommend using instead the native Keras format, e.g. `model.save('my_model.keras')` or `keras.saving.save_model(model, 'my_model.keras')`. \n"
     ]
    },
    {
     "name": "stdout",
     "output_type": "stream",
     "text": [
      "\n",
      "Epoch 5: val_loss improved from 0.04205 to 0.03081, saving model to 10Var-szc-gru.h5\n"
     ]
    },
    {
     "name": "stderr",
     "output_type": "stream",
     "text": [
      "WARNING:absl:You are saving your model as an HDF5 file via `model.save()` or `keras.saving.save_model(model)`. This file format is considered legacy. We recommend using instead the native Keras format, e.g. `model.save('my_model.keras')` or `keras.saving.save_model(model, 'my_model.keras')`. \n"
     ]
    },
    {
     "name": "stdout",
     "output_type": "stream",
     "text": [
      "\n",
      "Epoch 6: val_loss improved from 0.03081 to 0.02139, saving model to 10Var-szc-gru.h5\n"
     ]
    },
    {
     "name": "stderr",
     "output_type": "stream",
     "text": [
      "WARNING:absl:You are saving your model as an HDF5 file via `model.save()` or `keras.saving.save_model(model)`. This file format is considered legacy. We recommend using instead the native Keras format, e.g. `model.save('my_model.keras')` or `keras.saving.save_model(model, 'my_model.keras')`. \n"
     ]
    },
    {
     "name": "stdout",
     "output_type": "stream",
     "text": [
      "\n",
      "Epoch 7: val_loss improved from 0.02139 to 0.01375, saving model to 10Var-szc-gru.h5\n"
     ]
    },
    {
     "name": "stderr",
     "output_type": "stream",
     "text": [
      "WARNING:absl:You are saving your model as an HDF5 file via `model.save()` or `keras.saving.save_model(model)`. This file format is considered legacy. We recommend using instead the native Keras format, e.g. `model.save('my_model.keras')` or `keras.saving.save_model(model, 'my_model.keras')`. \n"
     ]
    },
    {
     "name": "stdout",
     "output_type": "stream",
     "text": [
      "\n",
      "Epoch 8: val_loss improved from 0.01375 to 0.00786, saving model to 10Var-szc-gru.h5\n"
     ]
    },
    {
     "name": "stderr",
     "output_type": "stream",
     "text": [
      "WARNING:absl:You are saving your model as an HDF5 file via `model.save()` or `keras.saving.save_model(model)`. This file format is considered legacy. We recommend using instead the native Keras format, e.g. `model.save('my_model.keras')` or `keras.saving.save_model(model, 'my_model.keras')`. \n"
     ]
    },
    {
     "name": "stdout",
     "output_type": "stream",
     "text": [
      "\n",
      "Epoch 9: val_loss improved from 0.00786 to 0.00381, saving model to 10Var-szc-gru.h5\n"
     ]
    },
    {
     "name": "stderr",
     "output_type": "stream",
     "text": [
      "WARNING:absl:You are saving your model as an HDF5 file via `model.save()` or `keras.saving.save_model(model)`. This file format is considered legacy. We recommend using instead the native Keras format, e.g. `model.save('my_model.keras')` or `keras.saving.save_model(model, 'my_model.keras')`. \n"
     ]
    },
    {
     "name": "stdout",
     "output_type": "stream",
     "text": [
      "\n",
      "Epoch 10: val_loss improved from 0.00381 to 0.00160, saving model to 10Var-szc-gru.h5\n"
     ]
    },
    {
     "name": "stderr",
     "output_type": "stream",
     "text": [
      "WARNING:absl:You are saving your model as an HDF5 file via `model.save()` or `keras.saving.save_model(model)`. This file format is considered legacy. We recommend using instead the native Keras format, e.g. `model.save('my_model.keras')` or `keras.saving.save_model(model, 'my_model.keras')`. \n"
     ]
    },
    {
     "name": "stdout",
     "output_type": "stream",
     "text": [
      "\n",
      "Epoch 11: val_loss improved from 0.00160 to 0.00102, saving model to 10Var-szc-gru.h5\n"
     ]
    },
    {
     "name": "stderr",
     "output_type": "stream",
     "text": [
      "WARNING:absl:You are saving your model as an HDF5 file via `model.save()` or `keras.saving.save_model(model)`. This file format is considered legacy. We recommend using instead the native Keras format, e.g. `model.save('my_model.keras')` or `keras.saving.save_model(model, 'my_model.keras')`. \n"
     ]
    },
    {
     "name": "stdout",
     "output_type": "stream",
     "text": [
      "\n",
      "Epoch 12: val_loss did not improve from 0.00102\n",
      "\n",
      "Epoch 13: val_loss did not improve from 0.00102\n",
      "\n",
      "Epoch 14: val_loss did not improve from 0.00102\n",
      "\n",
      "Epoch 15: val_loss did not improve from 0.00102\n",
      "\n",
      "Epoch 16: val_loss did not improve from 0.00102\n",
      "\n",
      "Epoch 17: val_loss did not improve from 0.00102\n",
      "\n",
      "Epoch 18: val_loss did not improve from 0.00102\n",
      "\n",
      "Epoch 19: val_loss did not improve from 0.00102\n",
      "\n",
      "Epoch 20: val_loss did not improve from 0.00102\n",
      "\n",
      "Epoch 21: val_loss did not improve from 0.00102\n",
      "\n",
      "Epoch 22: val_loss did not improve from 0.00102\n",
      "\n",
      "Epoch 23: val_loss did not improve from 0.00102\n",
      "\n",
      "Epoch 24: val_loss did not improve from 0.00102\n",
      "\n",
      "Epoch 25: val_loss did not improve from 0.00102\n",
      "\n",
      "Epoch 26: val_loss did not improve from 0.00102\n",
      "\n",
      "Epoch 27: val_loss did not improve from 0.00102\n",
      "\n",
      "Epoch 28: val_loss did not improve from 0.00102\n",
      "\n",
      "Epoch 29: val_loss did not improve from 0.00102\n",
      "\n",
      "Epoch 30: val_loss did not improve from 0.00102\n",
      "\n",
      "Epoch 31: val_loss did not improve from 0.00102\n",
      "\n",
      "Epoch 32: val_loss did not improve from 0.00102\n",
      "\n",
      "Epoch 33: val_loss did not improve from 0.00102\n",
      "\n",
      "Epoch 34: val_loss did not improve from 0.00102\n",
      "\n",
      "Epoch 35: val_loss did not improve from 0.00102\n",
      "\n",
      "Epoch 36: val_loss did not improve from 0.00102\n",
      "\n",
      "Epoch 37: val_loss did not improve from 0.00102\n",
      "\n",
      "Epoch 38: val_loss did not improve from 0.00102\n",
      "\n",
      "Epoch 39: val_loss did not improve from 0.00102\n",
      "\n",
      "Epoch 40: val_loss did not improve from 0.00102\n",
      "\n",
      "Epoch 41: val_loss did not improve from 0.00102\n",
      "\n",
      "Epoch 42: val_loss did not improve from 0.00102\n",
      "\n",
      "Epoch 43: val_loss did not improve from 0.00102\n",
      "\n",
      "Epoch 44: val_loss did not improve from 0.00102\n",
      "\n",
      "Epoch 45: val_loss did not improve from 0.00102\n",
      "\n",
      "Epoch 46: val_loss did not improve from 0.00102\n",
      "\n",
      "Epoch 47: val_loss did not improve from 0.00102\n",
      "\n",
      "Epoch 48: val_loss did not improve from 0.00102\n",
      "\n",
      "Epoch 49: val_loss did not improve from 0.00102\n",
      "\n",
      "Epoch 50: val_loss did not improve from 0.00102\n",
      "\n",
      "Epoch 51: val_loss did not improve from 0.00102\n",
      "\n",
      "Epoch 52: val_loss did not improve from 0.00102\n",
      "\n",
      "Epoch 53: val_loss did not improve from 0.00102\n",
      "\n",
      "Epoch 54: val_loss did not improve from 0.00102\n",
      "\n",
      "Epoch 55: val_loss did not improve from 0.00102\n",
      "\n",
      "Epoch 56: val_loss did not improve from 0.00102\n",
      "\n",
      "Epoch 57: val_loss did not improve from 0.00102\n",
      "\n",
      "Epoch 58: val_loss did not improve from 0.00102\n",
      "\n",
      "Epoch 59: val_loss did not improve from 0.00102\n",
      "\n",
      "Epoch 60: val_loss did not improve from 0.00102\n",
      "\n",
      "Epoch 61: val_loss did not improve from 0.00102\n",
      "\n",
      "Epoch 62: val_loss did not improve from 0.00102\n",
      "\n",
      "Epoch 63: val_loss did not improve from 0.00102\n",
      "\n",
      "Epoch 64: val_loss did not improve from 0.00102\n",
      "\n",
      "Epoch 65: val_loss did not improve from 0.00102\n",
      "\n",
      "Epoch 66: val_loss did not improve from 0.00102\n",
      "\n",
      "Epoch 67: val_loss did not improve from 0.00102\n",
      "\n",
      "Epoch 68: val_loss did not improve from 0.00102\n",
      "\n",
      "Epoch 69: val_loss did not improve from 0.00102\n",
      "\n",
      "Epoch 70: val_loss did not improve from 0.00102\n",
      "\n",
      "Epoch 71: val_loss did not improve from 0.00102\n",
      "\n",
      "Epoch 72: val_loss did not improve from 0.00102\n",
      "\n",
      "Epoch 73: val_loss did not improve from 0.00102\n",
      "\n",
      "Epoch 74: val_loss did not improve from 0.00102\n",
      "\n",
      "Epoch 75: val_loss did not improve from 0.00102\n",
      "\n",
      "Epoch 76: val_loss did not improve from 0.00102\n",
      "\n",
      "Epoch 77: val_loss did not improve from 0.00102\n",
      "\n",
      "Epoch 78: val_loss did not improve from 0.00102\n",
      "\n",
      "Epoch 79: val_loss did not improve from 0.00102\n",
      "\n",
      "Epoch 80: val_loss did not improve from 0.00102\n",
      "\n",
      "Epoch 81: val_loss did not improve from 0.00102\n",
      "\n",
      "Epoch 82: val_loss did not improve from 0.00102\n",
      "\n",
      "Epoch 83: val_loss did not improve from 0.00102\n",
      "\n",
      "Epoch 84: val_loss did not improve from 0.00102\n",
      "\n",
      "Epoch 85: val_loss did not improve from 0.00102\n",
      "\n",
      "Epoch 86: val_loss did not improve from 0.00102\n",
      "\n",
      "Epoch 87: val_loss did not improve from 0.00102\n",
      "\n",
      "Epoch 88: val_loss did not improve from 0.00102\n",
      "\n",
      "Epoch 89: val_loss did not improve from 0.00102\n",
      "\n",
      "Epoch 90: val_loss did not improve from 0.00102\n",
      "\n",
      "Epoch 91: val_loss did not improve from 0.00102\n",
      "Epoch 91: early stopping\n",
      "WARNING:tensorflow:5 out of the last 11 calls to <function TensorFlowTrainer.make_predict_function.<locals>.one_step_on_data_distributed at 0x0000022F01A0DB20> triggered tf.function retracing. Tracing is expensive and the excessive number of tracings could be due to (1) creating @tf.function repeatedly in a loop, (2) passing tensors with different shapes, (3) passing Python objects instead of tensors. For (1), please define your @tf.function outside of the loop. For (2), @tf.function has reduce_retracing=True option that can avoid unnecessary retracing. For (3), please refer to https://www.tensorflow.org/guide/function#controlling_retracing and https://www.tensorflow.org/api_docs/python/tf/function for  more details.\n"
     ]
    },
    {
     "name": "stderr",
     "output_type": "stream",
     "text": [
      "WARNING:tensorflow:5 out of the last 11 calls to <function TensorFlowTrainer.make_predict_function.<locals>.one_step_on_data_distributed at 0x0000022F01A0DB20> triggered tf.function retracing. Tracing is expensive and the excessive number of tracings could be due to (1) creating @tf.function repeatedly in a loop, (2) passing tensors with different shapes, (3) passing Python objects instead of tensors. For (1), please define your @tf.function outside of the loop. For (2), @tf.function has reduce_retracing=True option that can avoid unnecessary retracing. For (3), please refer to https://www.tensorflow.org/guide/function#controlling_retracing and https://www.tensorflow.org/api_docs/python/tf/function for  more details.\n"
     ]
    },
    {
     "name": "stdout",
     "output_type": "stream",
     "text": [
      "\u001b[1m1/5\u001b[0m \u001b[32m━━━━\u001b[0m\u001b[37m━━━━━━━━━━━━━━━━\u001b[0m \u001b[1m2s\u001b[0m 523ms/stepWARNING:tensorflow:5 out of the last 11 calls to <function TensorFlowTrainer.make_predict_function.<locals>.one_step_on_data_distributed at 0x0000022F01A0DB20> triggered tf.function retracing. Tracing is expensive and the excessive number of tracings could be due to (1) creating @tf.function repeatedly in a loop, (2) passing tensors with different shapes, (3) passing Python objects instead of tensors. For (1), please define your @tf.function outside of the loop. For (2), @tf.function has reduce_retracing=True option that can avoid unnecessary retracing. For (3), please refer to https://www.tensorflow.org/guide/function#controlling_retracing and https://www.tensorflow.org/api_docs/python/tf/function for  more details.\n"
     ]
    },
    {
     "name": "stderr",
     "output_type": "stream",
     "text": [
      "WARNING:tensorflow:5 out of the last 11 calls to <function TensorFlowTrainer.make_predict_function.<locals>.one_step_on_data_distributed at 0x0000022F01A0DB20> triggered tf.function retracing. Tracing is expensive and the excessive number of tracings could be due to (1) creating @tf.function repeatedly in a loop, (2) passing tensors with different shapes, (3) passing Python objects instead of tensors. For (1), please define your @tf.function outside of the loop. For (2), @tf.function has reduce_retracing=True option that can avoid unnecessary retracing. For (3), please refer to https://www.tensorflow.org/guide/function#controlling_retracing and https://www.tensorflow.org/api_docs/python/tf/function for  more details.\n"
     ]
    },
    {
     "name": "stdout",
     "output_type": "stream",
     "text": [
      "\u001b[1m5/5\u001b[0m \u001b[32m━━━━━━━━━━━━━━━━━━━━\u001b[0m\u001b[37m\u001b[0m \u001b[1m1s\u001b[0m 133ms/step\n",
      "   timesteps        hl      lr  batch_size  num_epochs       mse      rmse  \\\n",
      "0         50  [40, 35]  0.0001          32         200  0.001224  0.034984   \n",
      "\n",
      "       mape        r2  \n",
      "0  0.053613  0.874018  \n",
      "Best parameters: {'timesteps': 30, 'hl': [40, 35], 'lr': 0.0001, 'batch_size': 32, 'num_epochs': 200}\n",
      "Best RMSE score: 0.03498372451419397\n"
     ]
    }
   ],
   "source": [
    "best_params, best_score, results_df = grid_search_rnn(train, val, test, param_grid)\n",
    "\n",
    "print(results_df)\n",
    "print(\"Best parameters:\", best_params)\n",
    "print(\"Best RMSE score:\", best_score)"
   ]
  },
  {
   "cell_type": "markdown",
   "metadata": {},
   "source": [
    "### Bước 5: Huấn luyện mô hình với bộ tham số tối ưu"
   ]
  },
  {
   "cell_type": "code",
   "execution_count": 60,
   "metadata": {},
   "outputs": [
    {
     "name": "stderr",
     "output_type": "stream",
     "text": [
      "c:\\Users\\84368\\AppData\\Local\\Programs\\Python\\Python311\\Lib\\site-packages\\keras\\src\\layers\\rnn\\rnn.py:200: UserWarning: Do not pass an `input_shape`/`input_dim` argument to a layer. When using Sequential models, prefer using an `Input(shape)` object as the first layer in the model instead.\n",
      "  super().__init__(**kwargs)\n"
     ]
    },
    {
     "name": "stdout",
     "output_type": "stream",
     "text": [
      "\n",
      "Epoch 1: val_loss did not improve from 0.00102\n",
      "\n",
      "Epoch 2: val_loss did not improve from 0.00102\n",
      "\n",
      "Epoch 3: val_loss did not improve from 0.00102\n",
      "\n",
      "Epoch 4: val_loss did not improve from 0.00102\n",
      "\n",
      "Epoch 5: val_loss did not improve from 0.00102\n",
      "\n",
      "Epoch 6: val_loss did not improve from 0.00102\n",
      "\n",
      "Epoch 7: val_loss did not improve from 0.00102\n",
      "\n",
      "Epoch 8: val_loss improved from 0.00102 to 0.00097, saving model to 10Var-szc-gru.h5\n"
     ]
    },
    {
     "name": "stderr",
     "output_type": "stream",
     "text": [
      "WARNING:absl:You are saving your model as an HDF5 file via `model.save()` or `keras.saving.save_model(model)`. This file format is considered legacy. We recommend using instead the native Keras format, e.g. `model.save('my_model.keras')` or `keras.saving.save_model(model, 'my_model.keras')`. \n"
     ]
    },
    {
     "name": "stdout",
     "output_type": "stream",
     "text": [
      "\n",
      "Epoch 9: val_loss did not improve from 0.00097\n",
      "\n",
      "Epoch 10: val_loss did not improve from 0.00097\n",
      "\n",
      "Epoch 11: val_loss did not improve from 0.00097\n",
      "\n",
      "Epoch 12: val_loss did not improve from 0.00097\n",
      "\n",
      "Epoch 13: val_loss did not improve from 0.00097\n",
      "\n",
      "Epoch 14: val_loss did not improve from 0.00097\n",
      "\n",
      "Epoch 15: val_loss did not improve from 0.00097\n",
      "\n",
      "Epoch 16: val_loss did not improve from 0.00097\n",
      "\n",
      "Epoch 17: val_loss did not improve from 0.00097\n",
      "\n",
      "Epoch 18: val_loss did not improve from 0.00097\n",
      "\n",
      "Epoch 19: val_loss did not improve from 0.00097\n",
      "\n",
      "Epoch 20: val_loss did not improve from 0.00097\n",
      "\n",
      "Epoch 21: val_loss did not improve from 0.00097\n",
      "\n",
      "Epoch 22: val_loss did not improve from 0.00097\n",
      "\n",
      "Epoch 23: val_loss did not improve from 0.00097\n",
      "\n",
      "Epoch 24: val_loss did not improve from 0.00097\n",
      "\n",
      "Epoch 25: val_loss did not improve from 0.00097\n",
      "\n",
      "Epoch 26: val_loss did not improve from 0.00097\n",
      "\n",
      "Epoch 27: val_loss did not improve from 0.00097\n",
      "\n",
      "Epoch 28: val_loss did not improve from 0.00097\n",
      "\n",
      "Epoch 29: val_loss did not improve from 0.00097\n",
      "\n",
      "Epoch 30: val_loss did not improve from 0.00097\n",
      "\n",
      "Epoch 31: val_loss did not improve from 0.00097\n",
      "\n",
      "Epoch 32: val_loss did not improve from 0.00097\n",
      "\n",
      "Epoch 33: val_loss did not improve from 0.00097\n",
      "\n",
      "Epoch 34: val_loss did not improve from 0.00097\n",
      "\n",
      "Epoch 35: val_loss did not improve from 0.00097\n",
      "\n",
      "Epoch 36: val_loss did not improve from 0.00097\n",
      "\n",
      "Epoch 37: val_loss did not improve from 0.00097\n",
      "\n",
      "Epoch 38: val_loss did not improve from 0.00097\n",
      "\n",
      "Epoch 39: val_loss did not improve from 0.00097\n",
      "\n",
      "Epoch 40: val_loss did not improve from 0.00097\n",
      "\n",
      "Epoch 41: val_loss did not improve from 0.00097\n",
      "\n",
      "Epoch 42: val_loss did not improve from 0.00097\n",
      "\n",
      "Epoch 43: val_loss did not improve from 0.00097\n",
      "\n",
      "Epoch 44: val_loss did not improve from 0.00097\n",
      "\n",
      "Epoch 45: val_loss did not improve from 0.00097\n",
      "\n",
      "Epoch 46: val_loss did not improve from 0.00097\n",
      "\n",
      "Epoch 47: val_loss did not improve from 0.00097\n",
      "\n",
      "Epoch 48: val_loss did not improve from 0.00097\n",
      "\n",
      "Epoch 49: val_loss did not improve from 0.00097\n",
      "\n",
      "Epoch 50: val_loss did not improve from 0.00097\n",
      "\n",
      "Epoch 51: val_loss improved from 0.00097 to 0.00097, saving model to 10Var-szc-gru.h5\n"
     ]
    },
    {
     "name": "stderr",
     "output_type": "stream",
     "text": [
      "WARNING:absl:You are saving your model as an HDF5 file via `model.save()` or `keras.saving.save_model(model)`. This file format is considered legacy. We recommend using instead the native Keras format, e.g. `model.save('my_model.keras')` or `keras.saving.save_model(model, 'my_model.keras')`. \n"
     ]
    },
    {
     "name": "stdout",
     "output_type": "stream",
     "text": [
      "\n",
      "Epoch 52: val_loss improved from 0.00097 to 0.00096, saving model to 10Var-szc-gru.h5\n"
     ]
    },
    {
     "name": "stderr",
     "output_type": "stream",
     "text": [
      "WARNING:absl:You are saving your model as an HDF5 file via `model.save()` or `keras.saving.save_model(model)`. This file format is considered legacy. We recommend using instead the native Keras format, e.g. `model.save('my_model.keras')` or `keras.saving.save_model(model, 'my_model.keras')`. \n"
     ]
    },
    {
     "name": "stdout",
     "output_type": "stream",
     "text": [
      "\n",
      "Epoch 53: val_loss improved from 0.00096 to 0.00095, saving model to 10Var-szc-gru.h5\n"
     ]
    },
    {
     "name": "stderr",
     "output_type": "stream",
     "text": [
      "WARNING:absl:You are saving your model as an HDF5 file via `model.save()` or `keras.saving.save_model(model)`. This file format is considered legacy. We recommend using instead the native Keras format, e.g. `model.save('my_model.keras')` or `keras.saving.save_model(model, 'my_model.keras')`. \n"
     ]
    },
    {
     "name": "stdout",
     "output_type": "stream",
     "text": [
      "\n",
      "Epoch 54: val_loss improved from 0.00095 to 0.00094, saving model to 10Var-szc-gru.h5\n"
     ]
    },
    {
     "name": "stderr",
     "output_type": "stream",
     "text": [
      "WARNING:absl:You are saving your model as an HDF5 file via `model.save()` or `keras.saving.save_model(model)`. This file format is considered legacy. We recommend using instead the native Keras format, e.g. `model.save('my_model.keras')` or `keras.saving.save_model(model, 'my_model.keras')`. \n"
     ]
    },
    {
     "name": "stdout",
     "output_type": "stream",
     "text": [
      "\n",
      "Epoch 55: val_loss improved from 0.00094 to 0.00094, saving model to 10Var-szc-gru.h5\n"
     ]
    },
    {
     "name": "stderr",
     "output_type": "stream",
     "text": [
      "WARNING:absl:You are saving your model as an HDF5 file via `model.save()` or `keras.saving.save_model(model)`. This file format is considered legacy. We recommend using instead the native Keras format, e.g. `model.save('my_model.keras')` or `keras.saving.save_model(model, 'my_model.keras')`. \n"
     ]
    },
    {
     "name": "stdout",
     "output_type": "stream",
     "text": [
      "\n",
      "Epoch 56: val_loss improved from 0.00094 to 0.00093, saving model to 10Var-szc-gru.h5\n"
     ]
    },
    {
     "name": "stderr",
     "output_type": "stream",
     "text": [
      "WARNING:absl:You are saving your model as an HDF5 file via `model.save()` or `keras.saving.save_model(model)`. This file format is considered legacy. We recommend using instead the native Keras format, e.g. `model.save('my_model.keras')` or `keras.saving.save_model(model, 'my_model.keras')`. \n"
     ]
    },
    {
     "name": "stdout",
     "output_type": "stream",
     "text": [
      "\n",
      "Epoch 57: val_loss improved from 0.00093 to 0.00092, saving model to 10Var-szc-gru.h5\n"
     ]
    },
    {
     "name": "stderr",
     "output_type": "stream",
     "text": [
      "WARNING:absl:You are saving your model as an HDF5 file via `model.save()` or `keras.saving.save_model(model)`. This file format is considered legacy. We recommend using instead the native Keras format, e.g. `model.save('my_model.keras')` or `keras.saving.save_model(model, 'my_model.keras')`. \n"
     ]
    },
    {
     "name": "stdout",
     "output_type": "stream",
     "text": [
      "\n",
      "Epoch 58: val_loss improved from 0.00092 to 0.00092, saving model to 10Var-szc-gru.h5\n"
     ]
    },
    {
     "name": "stderr",
     "output_type": "stream",
     "text": [
      "WARNING:absl:You are saving your model as an HDF5 file via `model.save()` or `keras.saving.save_model(model)`. This file format is considered legacy. We recommend using instead the native Keras format, e.g. `model.save('my_model.keras')` or `keras.saving.save_model(model, 'my_model.keras')`. \n"
     ]
    },
    {
     "name": "stdout",
     "output_type": "stream",
     "text": [
      "\n",
      "Epoch 59: val_loss improved from 0.00092 to 0.00091, saving model to 10Var-szc-gru.h5\n"
     ]
    },
    {
     "name": "stderr",
     "output_type": "stream",
     "text": [
      "WARNING:absl:You are saving your model as an HDF5 file via `model.save()` or `keras.saving.save_model(model)`. This file format is considered legacy. We recommend using instead the native Keras format, e.g. `model.save('my_model.keras')` or `keras.saving.save_model(model, 'my_model.keras')`. \n"
     ]
    },
    {
     "name": "stdout",
     "output_type": "stream",
     "text": [
      "\n",
      "Epoch 60: val_loss improved from 0.00091 to 0.00090, saving model to 10Var-szc-gru.h5\n"
     ]
    },
    {
     "name": "stderr",
     "output_type": "stream",
     "text": [
      "WARNING:absl:You are saving your model as an HDF5 file via `model.save()` or `keras.saving.save_model(model)`. This file format is considered legacy. We recommend using instead the native Keras format, e.g. `model.save('my_model.keras')` or `keras.saving.save_model(model, 'my_model.keras')`. \n"
     ]
    },
    {
     "name": "stdout",
     "output_type": "stream",
     "text": [
      "\n",
      "Epoch 61: val_loss improved from 0.00090 to 0.00090, saving model to 10Var-szc-gru.h5\n"
     ]
    },
    {
     "name": "stderr",
     "output_type": "stream",
     "text": [
      "WARNING:absl:You are saving your model as an HDF5 file via `model.save()` or `keras.saving.save_model(model)`. This file format is considered legacy. We recommend using instead the native Keras format, e.g. `model.save('my_model.keras')` or `keras.saving.save_model(model, 'my_model.keras')`. \n"
     ]
    },
    {
     "name": "stdout",
     "output_type": "stream",
     "text": [
      "\n",
      "Epoch 62: val_loss improved from 0.00090 to 0.00089, saving model to 10Var-szc-gru.h5\n"
     ]
    },
    {
     "name": "stderr",
     "output_type": "stream",
     "text": [
      "WARNING:absl:You are saving your model as an HDF5 file via `model.save()` or `keras.saving.save_model(model)`. This file format is considered legacy. We recommend using instead the native Keras format, e.g. `model.save('my_model.keras')` or `keras.saving.save_model(model, 'my_model.keras')`. \n"
     ]
    },
    {
     "name": "stdout",
     "output_type": "stream",
     "text": [
      "\n",
      "Epoch 63: val_loss improved from 0.00089 to 0.00088, saving model to 10Var-szc-gru.h5\n"
     ]
    },
    {
     "name": "stderr",
     "output_type": "stream",
     "text": [
      "WARNING:absl:You are saving your model as an HDF5 file via `model.save()` or `keras.saving.save_model(model)`. This file format is considered legacy. We recommend using instead the native Keras format, e.g. `model.save('my_model.keras')` or `keras.saving.save_model(model, 'my_model.keras')`. \n"
     ]
    },
    {
     "name": "stdout",
     "output_type": "stream",
     "text": [
      "\n",
      "Epoch 64: val_loss improved from 0.00088 to 0.00087, saving model to 10Var-szc-gru.h5\n"
     ]
    },
    {
     "name": "stderr",
     "output_type": "stream",
     "text": [
      "WARNING:absl:You are saving your model as an HDF5 file via `model.save()` or `keras.saving.save_model(model)`. This file format is considered legacy. We recommend using instead the native Keras format, e.g. `model.save('my_model.keras')` or `keras.saving.save_model(model, 'my_model.keras')`. \n"
     ]
    },
    {
     "name": "stdout",
     "output_type": "stream",
     "text": [
      "\n",
      "Epoch 65: val_loss improved from 0.00087 to 0.00087, saving model to 10Var-szc-gru.h5\n"
     ]
    },
    {
     "name": "stderr",
     "output_type": "stream",
     "text": [
      "WARNING:absl:You are saving your model as an HDF5 file via `model.save()` or `keras.saving.save_model(model)`. This file format is considered legacy. We recommend using instead the native Keras format, e.g. `model.save('my_model.keras')` or `keras.saving.save_model(model, 'my_model.keras')`. \n"
     ]
    },
    {
     "name": "stdout",
     "output_type": "stream",
     "text": [
      "\n",
      "Epoch 66: val_loss improved from 0.00087 to 0.00086, saving model to 10Var-szc-gru.h5\n"
     ]
    },
    {
     "name": "stderr",
     "output_type": "stream",
     "text": [
      "WARNING:absl:You are saving your model as an HDF5 file via `model.save()` or `keras.saving.save_model(model)`. This file format is considered legacy. We recommend using instead the native Keras format, e.g. `model.save('my_model.keras')` or `keras.saving.save_model(model, 'my_model.keras')`. \n"
     ]
    },
    {
     "name": "stdout",
     "output_type": "stream",
     "text": [
      "\n",
      "Epoch 67: val_loss improved from 0.00086 to 0.00085, saving model to 10Var-szc-gru.h5\n"
     ]
    },
    {
     "name": "stderr",
     "output_type": "stream",
     "text": [
      "WARNING:absl:You are saving your model as an HDF5 file via `model.save()` or `keras.saving.save_model(model)`. This file format is considered legacy. We recommend using instead the native Keras format, e.g. `model.save('my_model.keras')` or `keras.saving.save_model(model, 'my_model.keras')`. \n"
     ]
    },
    {
     "name": "stdout",
     "output_type": "stream",
     "text": [
      "\n",
      "Epoch 68: val_loss improved from 0.00085 to 0.00085, saving model to 10Var-szc-gru.h5\n"
     ]
    },
    {
     "name": "stderr",
     "output_type": "stream",
     "text": [
      "WARNING:absl:You are saving your model as an HDF5 file via `model.save()` or `keras.saving.save_model(model)`. This file format is considered legacy. We recommend using instead the native Keras format, e.g. `model.save('my_model.keras')` or `keras.saving.save_model(model, 'my_model.keras')`. \n"
     ]
    },
    {
     "name": "stdout",
     "output_type": "stream",
     "text": [
      "\n",
      "Epoch 69: val_loss improved from 0.00085 to 0.00084, saving model to 10Var-szc-gru.h5\n"
     ]
    },
    {
     "name": "stderr",
     "output_type": "stream",
     "text": [
      "WARNING:absl:You are saving your model as an HDF5 file via `model.save()` or `keras.saving.save_model(model)`. This file format is considered legacy. We recommend using instead the native Keras format, e.g. `model.save('my_model.keras')` or `keras.saving.save_model(model, 'my_model.keras')`. \n"
     ]
    },
    {
     "name": "stdout",
     "output_type": "stream",
     "text": [
      "\n",
      "Epoch 70: val_loss improved from 0.00084 to 0.00084, saving model to 10Var-szc-gru.h5\n"
     ]
    },
    {
     "name": "stderr",
     "output_type": "stream",
     "text": [
      "WARNING:absl:You are saving your model as an HDF5 file via `model.save()` or `keras.saving.save_model(model)`. This file format is considered legacy. We recommend using instead the native Keras format, e.g. `model.save('my_model.keras')` or `keras.saving.save_model(model, 'my_model.keras')`. \n"
     ]
    },
    {
     "name": "stdout",
     "output_type": "stream",
     "text": [
      "\n",
      "Epoch 71: val_loss improved from 0.00084 to 0.00084, saving model to 10Var-szc-gru.h5\n"
     ]
    },
    {
     "name": "stderr",
     "output_type": "stream",
     "text": [
      "WARNING:absl:You are saving your model as an HDF5 file via `model.save()` or `keras.saving.save_model(model)`. This file format is considered legacy. We recommend using instead the native Keras format, e.g. `model.save('my_model.keras')` or `keras.saving.save_model(model, 'my_model.keras')`. \n"
     ]
    },
    {
     "name": "stdout",
     "output_type": "stream",
     "text": [
      "\n",
      "Epoch 72: val_loss improved from 0.00084 to 0.00083, saving model to 10Var-szc-gru.h5\n"
     ]
    },
    {
     "name": "stderr",
     "output_type": "stream",
     "text": [
      "WARNING:absl:You are saving your model as an HDF5 file via `model.save()` or `keras.saving.save_model(model)`. This file format is considered legacy. We recommend using instead the native Keras format, e.g. `model.save('my_model.keras')` or `keras.saving.save_model(model, 'my_model.keras')`. \n"
     ]
    },
    {
     "name": "stdout",
     "output_type": "stream",
     "text": [
      "\n",
      "Epoch 73: val_loss improved from 0.00083 to 0.00082, saving model to 10Var-szc-gru.h5\n"
     ]
    },
    {
     "name": "stderr",
     "output_type": "stream",
     "text": [
      "WARNING:absl:You are saving your model as an HDF5 file via `model.save()` or `keras.saving.save_model(model)`. This file format is considered legacy. We recommend using instead the native Keras format, e.g. `model.save('my_model.keras')` or `keras.saving.save_model(model, 'my_model.keras')`. \n"
     ]
    },
    {
     "name": "stdout",
     "output_type": "stream",
     "text": [
      "\n",
      "Epoch 74: val_loss improved from 0.00082 to 0.00082, saving model to 10Var-szc-gru.h5\n"
     ]
    },
    {
     "name": "stderr",
     "output_type": "stream",
     "text": [
      "WARNING:absl:You are saving your model as an HDF5 file via `model.save()` or `keras.saving.save_model(model)`. This file format is considered legacy. We recommend using instead the native Keras format, e.g. `model.save('my_model.keras')` or `keras.saving.save_model(model, 'my_model.keras')`. \n"
     ]
    },
    {
     "name": "stdout",
     "output_type": "stream",
     "text": [
      "\n",
      "Epoch 75: val_loss improved from 0.00082 to 0.00081, saving model to 10Var-szc-gru.h5\n"
     ]
    },
    {
     "name": "stderr",
     "output_type": "stream",
     "text": [
      "WARNING:absl:You are saving your model as an HDF5 file via `model.save()` or `keras.saving.save_model(model)`. This file format is considered legacy. We recommend using instead the native Keras format, e.g. `model.save('my_model.keras')` or `keras.saving.save_model(model, 'my_model.keras')`. \n"
     ]
    },
    {
     "name": "stdout",
     "output_type": "stream",
     "text": [
      "\n",
      "Epoch 76: val_loss improved from 0.00081 to 0.00081, saving model to 10Var-szc-gru.h5\n"
     ]
    },
    {
     "name": "stderr",
     "output_type": "stream",
     "text": [
      "WARNING:absl:You are saving your model as an HDF5 file via `model.save()` or `keras.saving.save_model(model)`. This file format is considered legacy. We recommend using instead the native Keras format, e.g. `model.save('my_model.keras')` or `keras.saving.save_model(model, 'my_model.keras')`. \n"
     ]
    },
    {
     "name": "stdout",
     "output_type": "stream",
     "text": [
      "\n",
      "Epoch 77: val_loss improved from 0.00081 to 0.00080, saving model to 10Var-szc-gru.h5\n"
     ]
    },
    {
     "name": "stderr",
     "output_type": "stream",
     "text": [
      "WARNING:absl:You are saving your model as an HDF5 file via `model.save()` or `keras.saving.save_model(model)`. This file format is considered legacy. We recommend using instead the native Keras format, e.g. `model.save('my_model.keras')` or `keras.saving.save_model(model, 'my_model.keras')`. \n"
     ]
    },
    {
     "name": "stdout",
     "output_type": "stream",
     "text": [
      "\n",
      "Epoch 78: val_loss improved from 0.00080 to 0.00080, saving model to 10Var-szc-gru.h5\n"
     ]
    },
    {
     "name": "stderr",
     "output_type": "stream",
     "text": [
      "WARNING:absl:You are saving your model as an HDF5 file via `model.save()` or `keras.saving.save_model(model)`. This file format is considered legacy. We recommend using instead the native Keras format, e.g. `model.save('my_model.keras')` or `keras.saving.save_model(model, 'my_model.keras')`. \n"
     ]
    },
    {
     "name": "stdout",
     "output_type": "stream",
     "text": [
      "\n",
      "Epoch 79: val_loss improved from 0.00080 to 0.00079, saving model to 10Var-szc-gru.h5\n"
     ]
    },
    {
     "name": "stderr",
     "output_type": "stream",
     "text": [
      "WARNING:absl:You are saving your model as an HDF5 file via `model.save()` or `keras.saving.save_model(model)`. This file format is considered legacy. We recommend using instead the native Keras format, e.g. `model.save('my_model.keras')` or `keras.saving.save_model(model, 'my_model.keras')`. \n"
     ]
    },
    {
     "name": "stdout",
     "output_type": "stream",
     "text": [
      "\n",
      "Epoch 80: val_loss improved from 0.00079 to 0.00079, saving model to 10Var-szc-gru.h5\n"
     ]
    },
    {
     "name": "stderr",
     "output_type": "stream",
     "text": [
      "WARNING:absl:You are saving your model as an HDF5 file via `model.save()` or `keras.saving.save_model(model)`. This file format is considered legacy. We recommend using instead the native Keras format, e.g. `model.save('my_model.keras')` or `keras.saving.save_model(model, 'my_model.keras')`. \n"
     ]
    },
    {
     "name": "stdout",
     "output_type": "stream",
     "text": [
      "\n",
      "Epoch 81: val_loss improved from 0.00079 to 0.00078, saving model to 10Var-szc-gru.h5\n"
     ]
    },
    {
     "name": "stderr",
     "output_type": "stream",
     "text": [
      "WARNING:absl:You are saving your model as an HDF5 file via `model.save()` or `keras.saving.save_model(model)`. This file format is considered legacy. We recommend using instead the native Keras format, e.g. `model.save('my_model.keras')` or `keras.saving.save_model(model, 'my_model.keras')`. \n"
     ]
    },
    {
     "name": "stdout",
     "output_type": "stream",
     "text": [
      "\n",
      "Epoch 82: val_loss improved from 0.00078 to 0.00078, saving model to 10Var-szc-gru.h5\n"
     ]
    },
    {
     "name": "stderr",
     "output_type": "stream",
     "text": [
      "WARNING:absl:You are saving your model as an HDF5 file via `model.save()` or `keras.saving.save_model(model)`. This file format is considered legacy. We recommend using instead the native Keras format, e.g. `model.save('my_model.keras')` or `keras.saving.save_model(model, 'my_model.keras')`. \n"
     ]
    },
    {
     "name": "stdout",
     "output_type": "stream",
     "text": [
      "\n",
      "Epoch 83: val_loss improved from 0.00078 to 0.00077, saving model to 10Var-szc-gru.h5\n"
     ]
    },
    {
     "name": "stderr",
     "output_type": "stream",
     "text": [
      "WARNING:absl:You are saving your model as an HDF5 file via `model.save()` or `keras.saving.save_model(model)`. This file format is considered legacy. We recommend using instead the native Keras format, e.g. `model.save('my_model.keras')` or `keras.saving.save_model(model, 'my_model.keras')`. \n"
     ]
    },
    {
     "name": "stdout",
     "output_type": "stream",
     "text": [
      "\n",
      "Epoch 84: val_loss improved from 0.00077 to 0.00077, saving model to 10Var-szc-gru.h5\n"
     ]
    },
    {
     "name": "stderr",
     "output_type": "stream",
     "text": [
      "WARNING:absl:You are saving your model as an HDF5 file via `model.save()` or `keras.saving.save_model(model)`. This file format is considered legacy. We recommend using instead the native Keras format, e.g. `model.save('my_model.keras')` or `keras.saving.save_model(model, 'my_model.keras')`. \n"
     ]
    },
    {
     "name": "stdout",
     "output_type": "stream",
     "text": [
      "\n",
      "Epoch 85: val_loss improved from 0.00077 to 0.00077, saving model to 10Var-szc-gru.h5\n"
     ]
    },
    {
     "name": "stderr",
     "output_type": "stream",
     "text": [
      "WARNING:absl:You are saving your model as an HDF5 file via `model.save()` or `keras.saving.save_model(model)`. This file format is considered legacy. We recommend using instead the native Keras format, e.g. `model.save('my_model.keras')` or `keras.saving.save_model(model, 'my_model.keras')`. \n"
     ]
    },
    {
     "name": "stdout",
     "output_type": "stream",
     "text": [
      "\n",
      "Epoch 86: val_loss improved from 0.00077 to 0.00076, saving model to 10Var-szc-gru.h5\n"
     ]
    },
    {
     "name": "stderr",
     "output_type": "stream",
     "text": [
      "WARNING:absl:You are saving your model as an HDF5 file via `model.save()` or `keras.saving.save_model(model)`. This file format is considered legacy. We recommend using instead the native Keras format, e.g. `model.save('my_model.keras')` or `keras.saving.save_model(model, 'my_model.keras')`. \n"
     ]
    },
    {
     "name": "stdout",
     "output_type": "stream",
     "text": [
      "\n",
      "Epoch 87: val_loss improved from 0.00076 to 0.00076, saving model to 10Var-szc-gru.h5\n"
     ]
    },
    {
     "name": "stderr",
     "output_type": "stream",
     "text": [
      "WARNING:absl:You are saving your model as an HDF5 file via `model.save()` or `keras.saving.save_model(model)`. This file format is considered legacy. We recommend using instead the native Keras format, e.g. `model.save('my_model.keras')` or `keras.saving.save_model(model, 'my_model.keras')`. \n"
     ]
    },
    {
     "name": "stdout",
     "output_type": "stream",
     "text": [
      "\n",
      "Epoch 88: val_loss improved from 0.00076 to 0.00075, saving model to 10Var-szc-gru.h5\n"
     ]
    },
    {
     "name": "stderr",
     "output_type": "stream",
     "text": [
      "WARNING:absl:You are saving your model as an HDF5 file via `model.save()` or `keras.saving.save_model(model)`. This file format is considered legacy. We recommend using instead the native Keras format, e.g. `model.save('my_model.keras')` or `keras.saving.save_model(model, 'my_model.keras')`. \n"
     ]
    },
    {
     "name": "stdout",
     "output_type": "stream",
     "text": [
      "\n",
      "Epoch 89: val_loss improved from 0.00075 to 0.00075, saving model to 10Var-szc-gru.h5\n"
     ]
    },
    {
     "name": "stderr",
     "output_type": "stream",
     "text": [
      "WARNING:absl:You are saving your model as an HDF5 file via `model.save()` or `keras.saving.save_model(model)`. This file format is considered legacy. We recommend using instead the native Keras format, e.g. `model.save('my_model.keras')` or `keras.saving.save_model(model, 'my_model.keras')`. \n"
     ]
    },
    {
     "name": "stdout",
     "output_type": "stream",
     "text": [
      "\n",
      "Epoch 90: val_loss improved from 0.00075 to 0.00074, saving model to 10Var-szc-gru.h5\n"
     ]
    },
    {
     "name": "stderr",
     "output_type": "stream",
     "text": [
      "WARNING:absl:You are saving your model as an HDF5 file via `model.save()` or `keras.saving.save_model(model)`. This file format is considered legacy. We recommend using instead the native Keras format, e.g. `model.save('my_model.keras')` or `keras.saving.save_model(model, 'my_model.keras')`. \n"
     ]
    },
    {
     "name": "stdout",
     "output_type": "stream",
     "text": [
      "\n",
      "Epoch 91: val_loss improved from 0.00074 to 0.00074, saving model to 10Var-szc-gru.h5\n"
     ]
    },
    {
     "name": "stderr",
     "output_type": "stream",
     "text": [
      "WARNING:absl:You are saving your model as an HDF5 file via `model.save()` or `keras.saving.save_model(model)`. This file format is considered legacy. We recommend using instead the native Keras format, e.g. `model.save('my_model.keras')` or `keras.saving.save_model(model, 'my_model.keras')`. \n"
     ]
    },
    {
     "name": "stdout",
     "output_type": "stream",
     "text": [
      "\n",
      "Epoch 92: val_loss improved from 0.00074 to 0.00074, saving model to 10Var-szc-gru.h5\n"
     ]
    },
    {
     "name": "stderr",
     "output_type": "stream",
     "text": [
      "WARNING:absl:You are saving your model as an HDF5 file via `model.save()` or `keras.saving.save_model(model)`. This file format is considered legacy. We recommend using instead the native Keras format, e.g. `model.save('my_model.keras')` or `keras.saving.save_model(model, 'my_model.keras')`. \n"
     ]
    },
    {
     "name": "stdout",
     "output_type": "stream",
     "text": [
      "\n",
      "Epoch 93: val_loss improved from 0.00074 to 0.00073, saving model to 10Var-szc-gru.h5\n"
     ]
    },
    {
     "name": "stderr",
     "output_type": "stream",
     "text": [
      "WARNING:absl:You are saving your model as an HDF5 file via `model.save()` or `keras.saving.save_model(model)`. This file format is considered legacy. We recommend using instead the native Keras format, e.g. `model.save('my_model.keras')` or `keras.saving.save_model(model, 'my_model.keras')`. \n"
     ]
    },
    {
     "name": "stdout",
     "output_type": "stream",
     "text": [
      "\n",
      "Epoch 94: val_loss improved from 0.00073 to 0.00072, saving model to 10Var-szc-gru.h5\n"
     ]
    },
    {
     "name": "stderr",
     "output_type": "stream",
     "text": [
      "WARNING:absl:You are saving your model as an HDF5 file via `model.save()` or `keras.saving.save_model(model)`. This file format is considered legacy. We recommend using instead the native Keras format, e.g. `model.save('my_model.keras')` or `keras.saving.save_model(model, 'my_model.keras')`. \n"
     ]
    },
    {
     "name": "stdout",
     "output_type": "stream",
     "text": [
      "\n",
      "Epoch 95: val_loss improved from 0.00072 to 0.00072, saving model to 10Var-szc-gru.h5\n"
     ]
    },
    {
     "name": "stderr",
     "output_type": "stream",
     "text": [
      "WARNING:absl:You are saving your model as an HDF5 file via `model.save()` or `keras.saving.save_model(model)`. This file format is considered legacy. We recommend using instead the native Keras format, e.g. `model.save('my_model.keras')` or `keras.saving.save_model(model, 'my_model.keras')`. \n"
     ]
    },
    {
     "name": "stdout",
     "output_type": "stream",
     "text": [
      "\n",
      "Epoch 96: val_loss improved from 0.00072 to 0.00071, saving model to 10Var-szc-gru.h5\n"
     ]
    },
    {
     "name": "stderr",
     "output_type": "stream",
     "text": [
      "WARNING:absl:You are saving your model as an HDF5 file via `model.save()` or `keras.saving.save_model(model)`. This file format is considered legacy. We recommend using instead the native Keras format, e.g. `model.save('my_model.keras')` or `keras.saving.save_model(model, 'my_model.keras')`. \n"
     ]
    },
    {
     "name": "stdout",
     "output_type": "stream",
     "text": [
      "\n",
      "Epoch 97: val_loss improved from 0.00071 to 0.00070, saving model to 10Var-szc-gru.h5\n"
     ]
    },
    {
     "name": "stderr",
     "output_type": "stream",
     "text": [
      "WARNING:absl:You are saving your model as an HDF5 file via `model.save()` or `keras.saving.save_model(model)`. This file format is considered legacy. We recommend using instead the native Keras format, e.g. `model.save('my_model.keras')` or `keras.saving.save_model(model, 'my_model.keras')`. \n"
     ]
    },
    {
     "name": "stdout",
     "output_type": "stream",
     "text": [
      "\n",
      "Epoch 98: val_loss improved from 0.00070 to 0.00070, saving model to 10Var-szc-gru.h5\n"
     ]
    },
    {
     "name": "stderr",
     "output_type": "stream",
     "text": [
      "WARNING:absl:You are saving your model as an HDF5 file via `model.save()` or `keras.saving.save_model(model)`. This file format is considered legacy. We recommend using instead the native Keras format, e.g. `model.save('my_model.keras')` or `keras.saving.save_model(model, 'my_model.keras')`. \n"
     ]
    },
    {
     "name": "stdout",
     "output_type": "stream",
     "text": [
      "\n",
      "Epoch 99: val_loss improved from 0.00070 to 0.00069, saving model to 10Var-szc-gru.h5\n"
     ]
    },
    {
     "name": "stderr",
     "output_type": "stream",
     "text": [
      "WARNING:absl:You are saving your model as an HDF5 file via `model.save()` or `keras.saving.save_model(model)`. This file format is considered legacy. We recommend using instead the native Keras format, e.g. `model.save('my_model.keras')` or `keras.saving.save_model(model, 'my_model.keras')`. \n"
     ]
    },
    {
     "name": "stdout",
     "output_type": "stream",
     "text": [
      "\n",
      "Epoch 100: val_loss improved from 0.00069 to 0.00069, saving model to 10Var-szc-gru.h5\n"
     ]
    },
    {
     "name": "stderr",
     "output_type": "stream",
     "text": [
      "WARNING:absl:You are saving your model as an HDF5 file via `model.save()` or `keras.saving.save_model(model)`. This file format is considered legacy. We recommend using instead the native Keras format, e.g. `model.save('my_model.keras')` or `keras.saving.save_model(model, 'my_model.keras')`. \n"
     ]
    },
    {
     "name": "stdout",
     "output_type": "stream",
     "text": [
      "\n",
      "Epoch 101: val_loss improved from 0.00069 to 0.00068, saving model to 10Var-szc-gru.h5\n"
     ]
    },
    {
     "name": "stderr",
     "output_type": "stream",
     "text": [
      "WARNING:absl:You are saving your model as an HDF5 file via `model.save()` or `keras.saving.save_model(model)`. This file format is considered legacy. We recommend using instead the native Keras format, e.g. `model.save('my_model.keras')` or `keras.saving.save_model(model, 'my_model.keras')`. \n"
     ]
    },
    {
     "name": "stdout",
     "output_type": "stream",
     "text": [
      "\n",
      "Epoch 102: val_loss improved from 0.00068 to 0.00068, saving model to 10Var-szc-gru.h5\n"
     ]
    },
    {
     "name": "stderr",
     "output_type": "stream",
     "text": [
      "WARNING:absl:You are saving your model as an HDF5 file via `model.save()` or `keras.saving.save_model(model)`. This file format is considered legacy. We recommend using instead the native Keras format, e.g. `model.save('my_model.keras')` or `keras.saving.save_model(model, 'my_model.keras')`. \n"
     ]
    },
    {
     "name": "stdout",
     "output_type": "stream",
     "text": [
      "\n",
      "Epoch 103: val_loss improved from 0.00068 to 0.00068, saving model to 10Var-szc-gru.h5\n"
     ]
    },
    {
     "name": "stderr",
     "output_type": "stream",
     "text": [
      "WARNING:absl:You are saving your model as an HDF5 file via `model.save()` or `keras.saving.save_model(model)`. This file format is considered legacy. We recommend using instead the native Keras format, e.g. `model.save('my_model.keras')` or `keras.saving.save_model(model, 'my_model.keras')`. \n"
     ]
    },
    {
     "name": "stdout",
     "output_type": "stream",
     "text": [
      "\n",
      "Epoch 104: val_loss improved from 0.00068 to 0.00067, saving model to 10Var-szc-gru.h5\n"
     ]
    },
    {
     "name": "stderr",
     "output_type": "stream",
     "text": [
      "WARNING:absl:You are saving your model as an HDF5 file via `model.save()` or `keras.saving.save_model(model)`. This file format is considered legacy. We recommend using instead the native Keras format, e.g. `model.save('my_model.keras')` or `keras.saving.save_model(model, 'my_model.keras')`. \n"
     ]
    },
    {
     "name": "stdout",
     "output_type": "stream",
     "text": [
      "\n",
      "Epoch 105: val_loss improved from 0.00067 to 0.00067, saving model to 10Var-szc-gru.h5\n"
     ]
    },
    {
     "name": "stderr",
     "output_type": "stream",
     "text": [
      "WARNING:absl:You are saving your model as an HDF5 file via `model.save()` or `keras.saving.save_model(model)`. This file format is considered legacy. We recommend using instead the native Keras format, e.g. `model.save('my_model.keras')` or `keras.saving.save_model(model, 'my_model.keras')`. \n"
     ]
    },
    {
     "name": "stdout",
     "output_type": "stream",
     "text": [
      "\n",
      "Epoch 106: val_loss improved from 0.00067 to 0.00067, saving model to 10Var-szc-gru.h5\n"
     ]
    },
    {
     "name": "stderr",
     "output_type": "stream",
     "text": [
      "WARNING:absl:You are saving your model as an HDF5 file via `model.save()` or `keras.saving.save_model(model)`. This file format is considered legacy. We recommend using instead the native Keras format, e.g. `model.save('my_model.keras')` or `keras.saving.save_model(model, 'my_model.keras')`. \n"
     ]
    },
    {
     "name": "stdout",
     "output_type": "stream",
     "text": [
      "\n",
      "Epoch 107: val_loss improved from 0.00067 to 0.00066, saving model to 10Var-szc-gru.h5\n"
     ]
    },
    {
     "name": "stderr",
     "output_type": "stream",
     "text": [
      "WARNING:absl:You are saving your model as an HDF5 file via `model.save()` or `keras.saving.save_model(model)`. This file format is considered legacy. We recommend using instead the native Keras format, e.g. `model.save('my_model.keras')` or `keras.saving.save_model(model, 'my_model.keras')`. \n"
     ]
    },
    {
     "name": "stdout",
     "output_type": "stream",
     "text": [
      "\n",
      "Epoch 108: val_loss improved from 0.00066 to 0.00066, saving model to 10Var-szc-gru.h5\n"
     ]
    },
    {
     "name": "stderr",
     "output_type": "stream",
     "text": [
      "WARNING:absl:You are saving your model as an HDF5 file via `model.save()` or `keras.saving.save_model(model)`. This file format is considered legacy. We recommend using instead the native Keras format, e.g. `model.save('my_model.keras')` or `keras.saving.save_model(model, 'my_model.keras')`. \n"
     ]
    },
    {
     "name": "stdout",
     "output_type": "stream",
     "text": [
      "\n",
      "Epoch 109: val_loss improved from 0.00066 to 0.00065, saving model to 10Var-szc-gru.h5\n"
     ]
    },
    {
     "name": "stderr",
     "output_type": "stream",
     "text": [
      "WARNING:absl:You are saving your model as an HDF5 file via `model.save()` or `keras.saving.save_model(model)`. This file format is considered legacy. We recommend using instead the native Keras format, e.g. `model.save('my_model.keras')` or `keras.saving.save_model(model, 'my_model.keras')`. \n"
     ]
    },
    {
     "name": "stdout",
     "output_type": "stream",
     "text": [
      "\n",
      "Epoch 110: val_loss improved from 0.00065 to 0.00065, saving model to 10Var-szc-gru.h5\n"
     ]
    },
    {
     "name": "stderr",
     "output_type": "stream",
     "text": [
      "WARNING:absl:You are saving your model as an HDF5 file via `model.save()` or `keras.saving.save_model(model)`. This file format is considered legacy. We recommend using instead the native Keras format, e.g. `model.save('my_model.keras')` or `keras.saving.save_model(model, 'my_model.keras')`. \n"
     ]
    },
    {
     "name": "stdout",
     "output_type": "stream",
     "text": [
      "\n",
      "Epoch 111: val_loss improved from 0.00065 to 0.00064, saving model to 10Var-szc-gru.h5\n"
     ]
    },
    {
     "name": "stderr",
     "output_type": "stream",
     "text": [
      "WARNING:absl:You are saving your model as an HDF5 file via `model.save()` or `keras.saving.save_model(model)`. This file format is considered legacy. We recommend using instead the native Keras format, e.g. `model.save('my_model.keras')` or `keras.saving.save_model(model, 'my_model.keras')`. \n"
     ]
    },
    {
     "name": "stdout",
     "output_type": "stream",
     "text": [
      "\n",
      "Epoch 112: val_loss improved from 0.00064 to 0.00064, saving model to 10Var-szc-gru.h5\n"
     ]
    },
    {
     "name": "stderr",
     "output_type": "stream",
     "text": [
      "WARNING:absl:You are saving your model as an HDF5 file via `model.save()` or `keras.saving.save_model(model)`. This file format is considered legacy. We recommend using instead the native Keras format, e.g. `model.save('my_model.keras')` or `keras.saving.save_model(model, 'my_model.keras')`. \n"
     ]
    },
    {
     "name": "stdout",
     "output_type": "stream",
     "text": [
      "\n",
      "Epoch 113: val_loss improved from 0.00064 to 0.00063, saving model to 10Var-szc-gru.h5\n"
     ]
    },
    {
     "name": "stderr",
     "output_type": "stream",
     "text": [
      "WARNING:absl:You are saving your model as an HDF5 file via `model.save()` or `keras.saving.save_model(model)`. This file format is considered legacy. We recommend using instead the native Keras format, e.g. `model.save('my_model.keras')` or `keras.saving.save_model(model, 'my_model.keras')`. \n"
     ]
    },
    {
     "name": "stdout",
     "output_type": "stream",
     "text": [
      "\n",
      "Epoch 114: val_loss improved from 0.00063 to 0.00062, saving model to 10Var-szc-gru.h5\n"
     ]
    },
    {
     "name": "stderr",
     "output_type": "stream",
     "text": [
      "WARNING:absl:You are saving your model as an HDF5 file via `model.save()` or `keras.saving.save_model(model)`. This file format is considered legacy. We recommend using instead the native Keras format, e.g. `model.save('my_model.keras')` or `keras.saving.save_model(model, 'my_model.keras')`. \n"
     ]
    },
    {
     "name": "stdout",
     "output_type": "stream",
     "text": [
      "\n",
      "Epoch 115: val_loss improved from 0.00062 to 0.00062, saving model to 10Var-szc-gru.h5\n"
     ]
    },
    {
     "name": "stderr",
     "output_type": "stream",
     "text": [
      "WARNING:absl:You are saving your model as an HDF5 file via `model.save()` or `keras.saving.save_model(model)`. This file format is considered legacy. We recommend using instead the native Keras format, e.g. `model.save('my_model.keras')` or `keras.saving.save_model(model, 'my_model.keras')`. \n"
     ]
    },
    {
     "name": "stdout",
     "output_type": "stream",
     "text": [
      "\n",
      "Epoch 116: val_loss improved from 0.00062 to 0.00062, saving model to 10Var-szc-gru.h5\n"
     ]
    },
    {
     "name": "stderr",
     "output_type": "stream",
     "text": [
      "WARNING:absl:You are saving your model as an HDF5 file via `model.save()` or `keras.saving.save_model(model)`. This file format is considered legacy. We recommend using instead the native Keras format, e.g. `model.save('my_model.keras')` or `keras.saving.save_model(model, 'my_model.keras')`. \n"
     ]
    },
    {
     "name": "stdout",
     "output_type": "stream",
     "text": [
      "\n",
      "Epoch 117: val_loss improved from 0.00062 to 0.00061, saving model to 10Var-szc-gru.h5\n"
     ]
    },
    {
     "name": "stderr",
     "output_type": "stream",
     "text": [
      "WARNING:absl:You are saving your model as an HDF5 file via `model.save()` or `keras.saving.save_model(model)`. This file format is considered legacy. We recommend using instead the native Keras format, e.g. `model.save('my_model.keras')` or `keras.saving.save_model(model, 'my_model.keras')`. \n"
     ]
    },
    {
     "name": "stdout",
     "output_type": "stream",
     "text": [
      "\n",
      "Epoch 118: val_loss improved from 0.00061 to 0.00061, saving model to 10Var-szc-gru.h5\n"
     ]
    },
    {
     "name": "stderr",
     "output_type": "stream",
     "text": [
      "WARNING:absl:You are saving your model as an HDF5 file via `model.save()` or `keras.saving.save_model(model)`. This file format is considered legacy. We recommend using instead the native Keras format, e.g. `model.save('my_model.keras')` or `keras.saving.save_model(model, 'my_model.keras')`. \n"
     ]
    },
    {
     "name": "stdout",
     "output_type": "stream",
     "text": [
      "\n",
      "Epoch 119: val_loss improved from 0.00061 to 0.00060, saving model to 10Var-szc-gru.h5\n"
     ]
    },
    {
     "name": "stderr",
     "output_type": "stream",
     "text": [
      "WARNING:absl:You are saving your model as an HDF5 file via `model.save()` or `keras.saving.save_model(model)`. This file format is considered legacy. We recommend using instead the native Keras format, e.g. `model.save('my_model.keras')` or `keras.saving.save_model(model, 'my_model.keras')`. \n"
     ]
    },
    {
     "name": "stdout",
     "output_type": "stream",
     "text": [
      "\n",
      "Epoch 120: val_loss improved from 0.00060 to 0.00060, saving model to 10Var-szc-gru.h5\n"
     ]
    },
    {
     "name": "stderr",
     "output_type": "stream",
     "text": [
      "WARNING:absl:You are saving your model as an HDF5 file via `model.save()` or `keras.saving.save_model(model)`. This file format is considered legacy. We recommend using instead the native Keras format, e.g. `model.save('my_model.keras')` or `keras.saving.save_model(model, 'my_model.keras')`. \n"
     ]
    },
    {
     "name": "stdout",
     "output_type": "stream",
     "text": [
      "\n",
      "Epoch 121: val_loss improved from 0.00060 to 0.00059, saving model to 10Var-szc-gru.h5\n"
     ]
    },
    {
     "name": "stderr",
     "output_type": "stream",
     "text": [
      "WARNING:absl:You are saving your model as an HDF5 file via `model.save()` or `keras.saving.save_model(model)`. This file format is considered legacy. We recommend using instead the native Keras format, e.g. `model.save('my_model.keras')` or `keras.saving.save_model(model, 'my_model.keras')`. \n"
     ]
    },
    {
     "name": "stdout",
     "output_type": "stream",
     "text": [
      "\n",
      "Epoch 122: val_loss improved from 0.00059 to 0.00059, saving model to 10Var-szc-gru.h5\n"
     ]
    },
    {
     "name": "stderr",
     "output_type": "stream",
     "text": [
      "WARNING:absl:You are saving your model as an HDF5 file via `model.save()` or `keras.saving.save_model(model)`. This file format is considered legacy. We recommend using instead the native Keras format, e.g. `model.save('my_model.keras')` or `keras.saving.save_model(model, 'my_model.keras')`. \n"
     ]
    },
    {
     "name": "stdout",
     "output_type": "stream",
     "text": [
      "\n",
      "Epoch 123: val_loss improved from 0.00059 to 0.00058, saving model to 10Var-szc-gru.h5\n"
     ]
    },
    {
     "name": "stderr",
     "output_type": "stream",
     "text": [
      "WARNING:absl:You are saving your model as an HDF5 file via `model.save()` or `keras.saving.save_model(model)`. This file format is considered legacy. We recommend using instead the native Keras format, e.g. `model.save('my_model.keras')` or `keras.saving.save_model(model, 'my_model.keras')`. \n"
     ]
    },
    {
     "name": "stdout",
     "output_type": "stream",
     "text": [
      "\n",
      "Epoch 124: val_loss improved from 0.00058 to 0.00058, saving model to 10Var-szc-gru.h5\n"
     ]
    },
    {
     "name": "stderr",
     "output_type": "stream",
     "text": [
      "WARNING:absl:You are saving your model as an HDF5 file via `model.save()` or `keras.saving.save_model(model)`. This file format is considered legacy. We recommend using instead the native Keras format, e.g. `model.save('my_model.keras')` or `keras.saving.save_model(model, 'my_model.keras')`. \n"
     ]
    },
    {
     "name": "stdout",
     "output_type": "stream",
     "text": [
      "\n",
      "Epoch 125: val_loss improved from 0.00058 to 0.00057, saving model to 10Var-szc-gru.h5\n"
     ]
    },
    {
     "name": "stderr",
     "output_type": "stream",
     "text": [
      "WARNING:absl:You are saving your model as an HDF5 file via `model.save()` or `keras.saving.save_model(model)`. This file format is considered legacy. We recommend using instead the native Keras format, e.g. `model.save('my_model.keras')` or `keras.saving.save_model(model, 'my_model.keras')`. \n"
     ]
    },
    {
     "name": "stdout",
     "output_type": "stream",
     "text": [
      "\n",
      "Epoch 126: val_loss improved from 0.00057 to 0.00057, saving model to 10Var-szc-gru.h5\n"
     ]
    },
    {
     "name": "stderr",
     "output_type": "stream",
     "text": [
      "WARNING:absl:You are saving your model as an HDF5 file via `model.save()` or `keras.saving.save_model(model)`. This file format is considered legacy. We recommend using instead the native Keras format, e.g. `model.save('my_model.keras')` or `keras.saving.save_model(model, 'my_model.keras')`. \n"
     ]
    },
    {
     "name": "stdout",
     "output_type": "stream",
     "text": [
      "\n",
      "Epoch 127: val_loss improved from 0.00057 to 0.00056, saving model to 10Var-szc-gru.h5\n"
     ]
    },
    {
     "name": "stderr",
     "output_type": "stream",
     "text": [
      "WARNING:absl:You are saving your model as an HDF5 file via `model.save()` or `keras.saving.save_model(model)`. This file format is considered legacy. We recommend using instead the native Keras format, e.g. `model.save('my_model.keras')` or `keras.saving.save_model(model, 'my_model.keras')`. \n"
     ]
    },
    {
     "name": "stdout",
     "output_type": "stream",
     "text": [
      "\n",
      "Epoch 128: val_loss improved from 0.00056 to 0.00055, saving model to 10Var-szc-gru.h5\n"
     ]
    },
    {
     "name": "stderr",
     "output_type": "stream",
     "text": [
      "WARNING:absl:You are saving your model as an HDF5 file via `model.save()` or `keras.saving.save_model(model)`. This file format is considered legacy. We recommend using instead the native Keras format, e.g. `model.save('my_model.keras')` or `keras.saving.save_model(model, 'my_model.keras')`. \n"
     ]
    },
    {
     "name": "stdout",
     "output_type": "stream",
     "text": [
      "\n",
      "Epoch 129: val_loss improved from 0.00055 to 0.00055, saving model to 10Var-szc-gru.h5\n"
     ]
    },
    {
     "name": "stderr",
     "output_type": "stream",
     "text": [
      "WARNING:absl:You are saving your model as an HDF5 file via `model.save()` or `keras.saving.save_model(model)`. This file format is considered legacy. We recommend using instead the native Keras format, e.g. `model.save('my_model.keras')` or `keras.saving.save_model(model, 'my_model.keras')`. \n"
     ]
    },
    {
     "name": "stdout",
     "output_type": "stream",
     "text": [
      "\n",
      "Epoch 130: val_loss improved from 0.00055 to 0.00054, saving model to 10Var-szc-gru.h5\n"
     ]
    },
    {
     "name": "stderr",
     "output_type": "stream",
     "text": [
      "WARNING:absl:You are saving your model as an HDF5 file via `model.save()` or `keras.saving.save_model(model)`. This file format is considered legacy. We recommend using instead the native Keras format, e.g. `model.save('my_model.keras')` or `keras.saving.save_model(model, 'my_model.keras')`. \n"
     ]
    },
    {
     "name": "stdout",
     "output_type": "stream",
     "text": [
      "\n",
      "Epoch 131: val_loss improved from 0.00054 to 0.00054, saving model to 10Var-szc-gru.h5\n"
     ]
    },
    {
     "name": "stderr",
     "output_type": "stream",
     "text": [
      "WARNING:absl:You are saving your model as an HDF5 file via `model.save()` or `keras.saving.save_model(model)`. This file format is considered legacy. We recommend using instead the native Keras format, e.g. `model.save('my_model.keras')` or `keras.saving.save_model(model, 'my_model.keras')`. \n"
     ]
    },
    {
     "name": "stdout",
     "output_type": "stream",
     "text": [
      "\n",
      "Epoch 132: val_loss improved from 0.00054 to 0.00054, saving model to 10Var-szc-gru.h5\n"
     ]
    },
    {
     "name": "stderr",
     "output_type": "stream",
     "text": [
      "WARNING:absl:You are saving your model as an HDF5 file via `model.save()` or `keras.saving.save_model(model)`. This file format is considered legacy. We recommend using instead the native Keras format, e.g. `model.save('my_model.keras')` or `keras.saving.save_model(model, 'my_model.keras')`. \n"
     ]
    },
    {
     "name": "stdout",
     "output_type": "stream",
     "text": [
      "\n",
      "Epoch 133: val_loss improved from 0.00054 to 0.00053, saving model to 10Var-szc-gru.h5\n"
     ]
    },
    {
     "name": "stderr",
     "output_type": "stream",
     "text": [
      "WARNING:absl:You are saving your model as an HDF5 file via `model.save()` or `keras.saving.save_model(model)`. This file format is considered legacy. We recommend using instead the native Keras format, e.g. `model.save('my_model.keras')` or `keras.saving.save_model(model, 'my_model.keras')`. \n"
     ]
    },
    {
     "name": "stdout",
     "output_type": "stream",
     "text": [
      "\n",
      "Epoch 134: val_loss improved from 0.00053 to 0.00053, saving model to 10Var-szc-gru.h5\n"
     ]
    },
    {
     "name": "stderr",
     "output_type": "stream",
     "text": [
      "WARNING:absl:You are saving your model as an HDF5 file via `model.save()` or `keras.saving.save_model(model)`. This file format is considered legacy. We recommend using instead the native Keras format, e.g. `model.save('my_model.keras')` or `keras.saving.save_model(model, 'my_model.keras')`. \n"
     ]
    },
    {
     "name": "stdout",
     "output_type": "stream",
     "text": [
      "\n",
      "Epoch 135: val_loss improved from 0.00053 to 0.00053, saving model to 10Var-szc-gru.h5\n"
     ]
    },
    {
     "name": "stderr",
     "output_type": "stream",
     "text": [
      "WARNING:absl:You are saving your model as an HDF5 file via `model.save()` or `keras.saving.save_model(model)`. This file format is considered legacy. We recommend using instead the native Keras format, e.g. `model.save('my_model.keras')` or `keras.saving.save_model(model, 'my_model.keras')`. \n"
     ]
    },
    {
     "name": "stdout",
     "output_type": "stream",
     "text": [
      "\n",
      "Epoch 136: val_loss improved from 0.00053 to 0.00053, saving model to 10Var-szc-gru.h5\n"
     ]
    },
    {
     "name": "stderr",
     "output_type": "stream",
     "text": [
      "WARNING:absl:You are saving your model as an HDF5 file via `model.save()` or `keras.saving.save_model(model)`. This file format is considered legacy. We recommend using instead the native Keras format, e.g. `model.save('my_model.keras')` or `keras.saving.save_model(model, 'my_model.keras')`. \n"
     ]
    },
    {
     "name": "stdout",
     "output_type": "stream",
     "text": [
      "\n",
      "Epoch 137: val_loss improved from 0.00053 to 0.00052, saving model to 10Var-szc-gru.h5\n"
     ]
    },
    {
     "name": "stderr",
     "output_type": "stream",
     "text": [
      "WARNING:absl:You are saving your model as an HDF5 file via `model.save()` or `keras.saving.save_model(model)`. This file format is considered legacy. We recommend using instead the native Keras format, e.g. `model.save('my_model.keras')` or `keras.saving.save_model(model, 'my_model.keras')`. \n"
     ]
    },
    {
     "name": "stdout",
     "output_type": "stream",
     "text": [
      "\n",
      "Epoch 138: val_loss improved from 0.00052 to 0.00052, saving model to 10Var-szc-gru.h5\n"
     ]
    },
    {
     "name": "stderr",
     "output_type": "stream",
     "text": [
      "WARNING:absl:You are saving your model as an HDF5 file via `model.save()` or `keras.saving.save_model(model)`. This file format is considered legacy. We recommend using instead the native Keras format, e.g. `model.save('my_model.keras')` or `keras.saving.save_model(model, 'my_model.keras')`. \n"
     ]
    },
    {
     "name": "stdout",
     "output_type": "stream",
     "text": [
      "\n",
      "Epoch 139: val_loss improved from 0.00052 to 0.00052, saving model to 10Var-szc-gru.h5\n"
     ]
    },
    {
     "name": "stderr",
     "output_type": "stream",
     "text": [
      "WARNING:absl:You are saving your model as an HDF5 file via `model.save()` or `keras.saving.save_model(model)`. This file format is considered legacy. We recommend using instead the native Keras format, e.g. `model.save('my_model.keras')` or `keras.saving.save_model(model, 'my_model.keras')`. \n"
     ]
    },
    {
     "name": "stdout",
     "output_type": "stream",
     "text": [
      "\n",
      "Epoch 140: val_loss improved from 0.00052 to 0.00052, saving model to 10Var-szc-gru.h5\n"
     ]
    },
    {
     "name": "stderr",
     "output_type": "stream",
     "text": [
      "WARNING:absl:You are saving your model as an HDF5 file via `model.save()` or `keras.saving.save_model(model)`. This file format is considered legacy. We recommend using instead the native Keras format, e.g. `model.save('my_model.keras')` or `keras.saving.save_model(model, 'my_model.keras')`. \n"
     ]
    },
    {
     "name": "stdout",
     "output_type": "stream",
     "text": [
      "\n",
      "Epoch 141: val_loss improved from 0.00052 to 0.00051, saving model to 10Var-szc-gru.h5\n"
     ]
    },
    {
     "name": "stderr",
     "output_type": "stream",
     "text": [
      "WARNING:absl:You are saving your model as an HDF5 file via `model.save()` or `keras.saving.save_model(model)`. This file format is considered legacy. We recommend using instead the native Keras format, e.g. `model.save('my_model.keras')` or `keras.saving.save_model(model, 'my_model.keras')`. \n"
     ]
    },
    {
     "name": "stdout",
     "output_type": "stream",
     "text": [
      "\n",
      "Epoch 142: val_loss improved from 0.00051 to 0.00051, saving model to 10Var-szc-gru.h5\n"
     ]
    },
    {
     "name": "stderr",
     "output_type": "stream",
     "text": [
      "WARNING:absl:You are saving your model as an HDF5 file via `model.save()` or `keras.saving.save_model(model)`. This file format is considered legacy. We recommend using instead the native Keras format, e.g. `model.save('my_model.keras')` or `keras.saving.save_model(model, 'my_model.keras')`. \n"
     ]
    },
    {
     "name": "stdout",
     "output_type": "stream",
     "text": [
      "\n",
      "Epoch 143: val_loss improved from 0.00051 to 0.00051, saving model to 10Var-szc-gru.h5\n"
     ]
    },
    {
     "name": "stderr",
     "output_type": "stream",
     "text": [
      "WARNING:absl:You are saving your model as an HDF5 file via `model.save()` or `keras.saving.save_model(model)`. This file format is considered legacy. We recommend using instead the native Keras format, e.g. `model.save('my_model.keras')` or `keras.saving.save_model(model, 'my_model.keras')`. \n"
     ]
    },
    {
     "name": "stdout",
     "output_type": "stream",
     "text": [
      "\n",
      "Epoch 144: val_loss improved from 0.00051 to 0.00051, saving model to 10Var-szc-gru.h5\n"
     ]
    },
    {
     "name": "stderr",
     "output_type": "stream",
     "text": [
      "WARNING:absl:You are saving your model as an HDF5 file via `model.save()` or `keras.saving.save_model(model)`. This file format is considered legacy. We recommend using instead the native Keras format, e.g. `model.save('my_model.keras')` or `keras.saving.save_model(model, 'my_model.keras')`. \n"
     ]
    },
    {
     "name": "stdout",
     "output_type": "stream",
     "text": [
      "\n",
      "Epoch 145: val_loss improved from 0.00051 to 0.00051, saving model to 10Var-szc-gru.h5\n"
     ]
    },
    {
     "name": "stderr",
     "output_type": "stream",
     "text": [
      "WARNING:absl:You are saving your model as an HDF5 file via `model.save()` or `keras.saving.save_model(model)`. This file format is considered legacy. We recommend using instead the native Keras format, e.g. `model.save('my_model.keras')` or `keras.saving.save_model(model, 'my_model.keras')`. \n"
     ]
    },
    {
     "name": "stdout",
     "output_type": "stream",
     "text": [
      "\n",
      "Epoch 146: val_loss improved from 0.00051 to 0.00051, saving model to 10Var-szc-gru.h5\n"
     ]
    },
    {
     "name": "stderr",
     "output_type": "stream",
     "text": [
      "WARNING:absl:You are saving your model as an HDF5 file via `model.save()` or `keras.saving.save_model(model)`. This file format is considered legacy. We recommend using instead the native Keras format, e.g. `model.save('my_model.keras')` or `keras.saving.save_model(model, 'my_model.keras')`. \n"
     ]
    },
    {
     "name": "stdout",
     "output_type": "stream",
     "text": [
      "\n",
      "Epoch 147: val_loss did not improve from 0.00051\n",
      "\n",
      "Epoch 148: val_loss did not improve from 0.00051\n",
      "\n",
      "Epoch 149: val_loss did not improve from 0.00051\n",
      "\n",
      "Epoch 150: val_loss did not improve from 0.00051\n",
      "\n",
      "Epoch 151: val_loss improved from 0.00051 to 0.00051, saving model to 10Var-szc-gru.h5\n"
     ]
    },
    {
     "name": "stderr",
     "output_type": "stream",
     "text": [
      "WARNING:absl:You are saving your model as an HDF5 file via `model.save()` or `keras.saving.save_model(model)`. This file format is considered legacy. We recommend using instead the native Keras format, e.g. `model.save('my_model.keras')` or `keras.saving.save_model(model, 'my_model.keras')`. \n"
     ]
    },
    {
     "name": "stdout",
     "output_type": "stream",
     "text": [
      "\n",
      "Epoch 152: val_loss improved from 0.00051 to 0.00051, saving model to 10Var-szc-gru.h5\n"
     ]
    },
    {
     "name": "stderr",
     "output_type": "stream",
     "text": [
      "WARNING:absl:You are saving your model as an HDF5 file via `model.save()` or `keras.saving.save_model(model)`. This file format is considered legacy. We recommend using instead the native Keras format, e.g. `model.save('my_model.keras')` or `keras.saving.save_model(model, 'my_model.keras')`. \n"
     ]
    },
    {
     "name": "stdout",
     "output_type": "stream",
     "text": [
      "\n",
      "Epoch 153: val_loss improved from 0.00051 to 0.00050, saving model to 10Var-szc-gru.h5\n"
     ]
    },
    {
     "name": "stderr",
     "output_type": "stream",
     "text": [
      "WARNING:absl:You are saving your model as an HDF5 file via `model.save()` or `keras.saving.save_model(model)`. This file format is considered legacy. We recommend using instead the native Keras format, e.g. `model.save('my_model.keras')` or `keras.saving.save_model(model, 'my_model.keras')`. \n"
     ]
    },
    {
     "name": "stdout",
     "output_type": "stream",
     "text": [
      "\n",
      "Epoch 154: val_loss improved from 0.00050 to 0.00050, saving model to 10Var-szc-gru.h5\n"
     ]
    },
    {
     "name": "stderr",
     "output_type": "stream",
     "text": [
      "WARNING:absl:You are saving your model as an HDF5 file via `model.save()` or `keras.saving.save_model(model)`. This file format is considered legacy. We recommend using instead the native Keras format, e.g. `model.save('my_model.keras')` or `keras.saving.save_model(model, 'my_model.keras')`. \n"
     ]
    },
    {
     "name": "stdout",
     "output_type": "stream",
     "text": [
      "\n",
      "Epoch 155: val_loss improved from 0.00050 to 0.00050, saving model to 10Var-szc-gru.h5\n"
     ]
    },
    {
     "name": "stderr",
     "output_type": "stream",
     "text": [
      "WARNING:absl:You are saving your model as an HDF5 file via `model.save()` or `keras.saving.save_model(model)`. This file format is considered legacy. We recommend using instead the native Keras format, e.g. `model.save('my_model.keras')` or `keras.saving.save_model(model, 'my_model.keras')`. \n"
     ]
    },
    {
     "name": "stdout",
     "output_type": "stream",
     "text": [
      "\n",
      "Epoch 156: val_loss improved from 0.00050 to 0.00050, saving model to 10Var-szc-gru.h5\n"
     ]
    },
    {
     "name": "stderr",
     "output_type": "stream",
     "text": [
      "WARNING:absl:You are saving your model as an HDF5 file via `model.save()` or `keras.saving.save_model(model)`. This file format is considered legacy. We recommend using instead the native Keras format, e.g. `model.save('my_model.keras')` or `keras.saving.save_model(model, 'my_model.keras')`. \n"
     ]
    },
    {
     "name": "stdout",
     "output_type": "stream",
     "text": [
      "\n",
      "Epoch 157: val_loss did not improve from 0.00050\n",
      "\n",
      "Epoch 158: val_loss did not improve from 0.00050\n",
      "\n",
      "Epoch 159: val_loss did not improve from 0.00050\n",
      "\n",
      "Epoch 160: val_loss did not improve from 0.00050\n",
      "\n",
      "Epoch 161: val_loss did not improve from 0.00050\n",
      "\n",
      "Epoch 162: val_loss did not improve from 0.00050\n",
      "\n",
      "Epoch 163: val_loss did not improve from 0.00050\n",
      "\n",
      "Epoch 164: val_loss did not improve from 0.00050\n",
      "\n",
      "Epoch 165: val_loss did not improve from 0.00050\n",
      "\n",
      "Epoch 166: val_loss did not improve from 0.00050\n",
      "\n",
      "Epoch 167: val_loss did not improve from 0.00050\n",
      "\n",
      "Epoch 168: val_loss did not improve from 0.00050\n",
      "\n",
      "Epoch 169: val_loss did not improve from 0.00050\n",
      "\n",
      "Epoch 170: val_loss did not improve from 0.00050\n",
      "\n",
      "Epoch 171: val_loss did not improve from 0.00050\n",
      "\n",
      "Epoch 172: val_loss did not improve from 0.00050\n",
      "\n",
      "Epoch 173: val_loss did not improve from 0.00050\n",
      "\n",
      "Epoch 174: val_loss did not improve from 0.00050\n",
      "\n",
      "Epoch 175: val_loss did not improve from 0.00050\n",
      "\n",
      "Epoch 176: val_loss did not improve from 0.00050\n",
      "\n",
      "Epoch 177: val_loss did not improve from 0.00050\n",
      "\n",
      "Epoch 178: val_loss did not improve from 0.00050\n",
      "\n",
      "Epoch 179: val_loss did not improve from 0.00050\n",
      "\n",
      "Epoch 180: val_loss did not improve from 0.00050\n",
      "\n",
      "Epoch 181: val_loss did not improve from 0.00050\n",
      "\n",
      "Epoch 182: val_loss did not improve from 0.00050\n",
      "\n",
      "Epoch 183: val_loss did not improve from 0.00050\n",
      "\n",
      "Epoch 184: val_loss improved from 0.00050 to 0.00048, saving model to 10Var-szc-gru.h5\n"
     ]
    },
    {
     "name": "stderr",
     "output_type": "stream",
     "text": [
      "WARNING:absl:You are saving your model as an HDF5 file via `model.save()` or `keras.saving.save_model(model)`. This file format is considered legacy. We recommend using instead the native Keras format, e.g. `model.save('my_model.keras')` or `keras.saving.save_model(model, 'my_model.keras')`. \n"
     ]
    },
    {
     "name": "stdout",
     "output_type": "stream",
     "text": [
      "\n",
      "Epoch 185: val_loss improved from 0.00048 to 0.00044, saving model to 10Var-szc-gru.h5\n"
     ]
    },
    {
     "name": "stderr",
     "output_type": "stream",
     "text": [
      "WARNING:absl:You are saving your model as an HDF5 file via `model.save()` or `keras.saving.save_model(model)`. This file format is considered legacy. We recommend using instead the native Keras format, e.g. `model.save('my_model.keras')` or `keras.saving.save_model(model, 'my_model.keras')`. \n"
     ]
    },
    {
     "name": "stdout",
     "output_type": "stream",
     "text": [
      "\n",
      "Epoch 186: val_loss did not improve from 0.00044\n",
      "\n",
      "Epoch 187: val_loss did not improve from 0.00044\n",
      "\n",
      "Epoch 188: val_loss did not improve from 0.00044\n",
      "\n",
      "Epoch 189: val_loss did not improve from 0.00044\n",
      "\n",
      "Epoch 190: val_loss did not improve from 0.00044\n",
      "\n",
      "Epoch 191: val_loss did not improve from 0.00044\n",
      "\n",
      "Epoch 192: val_loss did not improve from 0.00044\n",
      "\n",
      "Epoch 193: val_loss did not improve from 0.00044\n",
      "\n",
      "Epoch 194: val_loss improved from 0.00044 to 0.00042, saving model to 10Var-szc-gru.h5\n"
     ]
    },
    {
     "name": "stderr",
     "output_type": "stream",
     "text": [
      "WARNING:absl:You are saving your model as an HDF5 file via `model.save()` or `keras.saving.save_model(model)`. This file format is considered legacy. We recommend using instead the native Keras format, e.g. `model.save('my_model.keras')` or `keras.saving.save_model(model, 'my_model.keras')`. \n"
     ]
    },
    {
     "name": "stdout",
     "output_type": "stream",
     "text": [
      "\n",
      "Epoch 195: val_loss did not improve from 0.00042\n",
      "\n",
      "Epoch 196: val_loss did not improve from 0.00042\n",
      "\n",
      "Epoch 197: val_loss did not improve from 0.00042\n",
      "\n",
      "Epoch 198: val_loss did not improve from 0.00042\n",
      "\n",
      "Epoch 199: val_loss did not improve from 0.00042\n",
      "\n",
      "Epoch 200: val_loss did not improve from 0.00042\n"
     ]
    }
   ],
   "source": [
    "timesteps = 30\n",
    "hl = [40, 35]\n",
    "lr = 1e-4\n",
    "batch_size = 32\n",
    "num_epochs = 200\n",
    "\n",
    "model, train_loss, val_loss = fit_model_3(train, val, timesteps, hl, lr, batch_size, num_epochs)"
   ]
  },
  {
   "cell_type": "markdown",
   "metadata": {},
   "source": [
    "### Bước 6: Đánh giá mô hình và trực quan hóa kết quả"
   ]
  },
  {
   "cell_type": "markdown",
   "metadata": {},
   "source": [
    "#### 6.1. Vẽ biểu đồ train_loss và val_loss"
   ]
  },
  {
   "cell_type": "code",
   "execution_count": 61,
   "metadata": {},
   "outputs": [
    {
     "data": {
      "image/png": "[encoded data removed]",
      "text/plain": [
       "<Figure size 640x480 with 1 Axes>"
      ]
     },
     "metadata": {},
     "output_type": "display_data"
    }
   ],
   "source": [
    "plot_error(train_error, val_error)"
   ]
  },
  {
   "cell_type": "markdown",
   "metadata": {},
   "source": [
    "#### 6.2. Đánh giá mô hình trên tập test"
   ]
  },
  {
   "cell_type": "code",
   "execution_count": 62,
   "metadata": {},
   "outputs": [
    {
     "name": "stdout",
     "output_type": "stream",
     "text": [
      "\u001b[1m5/5\u001b[0m \u001b[32m━━━━━━━━━━━━━━━━━━━━\u001b[0m\u001b[37m\u001b[0m \u001b[1m3s\u001b[0m 401ms/step\n"
     ]
    }
   ],
   "source": [
    "mse, rmse, mape, r2, true, predicted = evaluate_model_3(model, test, timesteps)"
   ]
  },
  {
   "cell_type": "code",
   "execution_count": 63,
   "metadata": {},
   "outputs": [
    {
     "name": "stdout",
     "output_type": "stream",
     "text": [
      "MSE = 0.0008193828573460445\n",
      "RMSE = 0.02862486432013337\n",
      "MAPE = 0.04159674168447461\n",
      "R-Squared Score = 0.9156396651261202\n"
     ]
    }
   ],
   "source": [
    "print('MSE = {}'.format(mse))\n",
    "print('RMSE = {}'.format(rmse))\n",
    "print('MAPE = {}'.format(mape))\n",
    "print('R-Squared Score = {}'.format(r2))"
   ]
  },
  {
   "cell_type": "markdown",
   "metadata": {},
   "source": [
    "#### 6.3. Vẽ đồ thị dự đoán vs thực tế"
   ]
  },
  {
   "cell_type": "code",
   "execution_count": 64,
   "metadata": {},
   "outputs": [
    {
     "data": {
      "image/png": "[encoded data removed]",
      "text/plain": [
       "<Figure size 640x480 with 1 Axes>"
      ]
     },
     "metadata": {},
     "output_type": "display_data"
    }
   ],
   "source": [
    "plot_data_3(true, predicted)"
   ]
  },
  {
   "cell_type": "code",
   "execution_count": 65,
   "metadata": {},
   "outputs": [],
   "source": [
    "# Save a model\n",
    "model.save('10VAR-szc-gru.keras')"
   ]
  },
  {
   "cell_type": "code",
   "execution_count": 206,
   "metadata": {},
   "outputs": [],
   "source": [
    "del model"
   ]
  },
  {
   "cell_type": "markdown",
   "metadata": {},
   "source": [
    "# Model 3: Multivariate-3-LSTM"
   ]
  },
  {
   "cell_type": "markdown",
   "metadata": {},
   "source": [
    "## LSTM"
   ]
  },
  {
   "cell_type": "markdown",
   "metadata": {},
   "source": [
    "### Import các thư viện cần thiết"
   ]
  },
  {
   "cell_type": "code",
   "execution_count": 66,
   "metadata": {},
   "outputs": [],
   "source": [
    "import os\n",
    "os.environ['PYTHONHASHSEED'] = '0' # đảm bảo rằng các giá trị băm của đối tượng bất biến (dict, set, chuỗi, tuple...) luôn giống nhau giữa các lần chạy\n",
    "\n",
    "import random as rn\n",
    "import numpy as np\n",
    "np.random.seed(1)\n",
    "rn.seed(3)\n",
    "import tensorflow as tf\n",
    "tf.random.set_seed(2)"
   ]
  },
  {
   "cell_type": "code",
   "execution_count": 67,
   "metadata": {},
   "outputs": [],
   "source": [
    "import sys\n",
    "import numpy as np\n",
    "import pandas as pd\n",
    "import matplotlib.pyplot as plt"
   ]
  },
  {
   "cell_type": "code",
   "execution_count": 68,
   "metadata": {},
   "outputs": [],
   "source": [
    "import tensorflow as tf\n",
    "from tensorflow.keras.models import Sequential, load_model\n",
    "from tensorflow.keras.layers import LSTM, Dropout, Dense\n",
    "from tensorflow.keras import optimizers"
   ]
  },
  {
   "cell_type": "code",
   "execution_count": 69,
   "metadata": {},
   "outputs": [],
   "source": [
    "from tensorflow.keras.callbacks import EarlyStopping, ModelCheckpoint\n",
    "from tensorflow.keras.optimizers import Adam\n",
    "from sklearn.preprocessing import MinMaxScaler\n",
    "from sklearn.metrics import mean_squared_error, r2_score, mean_absolute_percentage_error\n",
    "from math import sqrt\n",
    "import datetime as dt\n",
    "import time"
   ]
  },
  {
   "cell_type": "code",
   "execution_count": 70,
   "metadata": {},
   "outputs": [],
   "source": [
    "plt.style.use('ggplot')"
   ]
  },
  {
   "cell_type": "markdown",
   "metadata": {},
   "source": [
    "### Hàm callback"
   ]
  },
  {
   "cell_type": "code",
   "execution_count": 71,
   "metadata": {},
   "outputs": [],
   "source": [
    "earlystop = EarlyStopping(monitor='val_loss', min_delta=0.0001, patience=80,  verbose=1, mode='min')  \n",
    "checkpoint = ModelCheckpoint(\n",
    "    filepath=\"10Var_szc_lstm.h5\",   # Tên file lưu mô hình\n",
    "    monitor=\"val_loss\",         # Theo dõi val_loss\n",
    "    save_best_only=True,        # Chỉ lưu khi tốt hơn mô hình trước đó\n",
    "    mode=\"min\",                 # Giảm min của val_loss là tốt nhất\n",
    "    verbose=1\n",
    ")\n",
    "callbacks_list = [earlystop, checkpoint] "
   ]
  },
  {
   "cell_type": "markdown",
   "metadata": {},
   "source": [
    "### Đọc dữ liệu từ file csv"
   ]
  },
  {
   "cell_type": "code",
   "execution_count": null,
   "metadata": {},
   "outputs": [],
   "source": [
    "url = r\"SZC_stock_data.csv\"\n",
    "df = pd.read_csv(url, parse_dates= True, index_col= 0)"
   ]
  },
  {
   "cell_type": "code",
   "execution_count": 73,
   "metadata": {},
   "outputs": [
    {
     "data": {
      "text/html": [
       "<div>\n",
       "<style scoped>\n",
       "    .dataframe tbody tr th:only-of-type {\n",
       "        vertical-align: middle;\n",
       "    }\n",
       "\n",
       "    .dataframe tbody tr th {\n",
       "        vertical-align: top;\n",
       "    }\n",
       "\n",
       "    .dataframe thead th {\n",
       "        text-align: right;\n",
       "    }\n",
       "</style>\n",
       "<table border=\"1\" class=\"dataframe\">\n",
       "  <thead>\n",
       "    <tr style=\"text-align: right;\">\n",
       "      <th></th>\n",
       "      <th>open</th>\n",
       "      <th>high</th>\n",
       "      <th>low</th>\n",
       "      <th>close</th>\n",
       "      <th>volume</th>\n",
       "    </tr>\n",
       "    <tr>\n",
       "      <th>time</th>\n",
       "      <th></th>\n",
       "      <th></th>\n",
       "      <th></th>\n",
       "      <th></th>\n",
       "      <th></th>\n",
       "    </tr>\n",
       "  </thead>\n",
       "  <tbody>\n",
       "    <tr>\n",
       "      <th>2019-01-15</th>\n",
       "      <td>8.97</td>\n",
       "      <td>8.97</td>\n",
       "      <td>6.58</td>\n",
       "      <td>6.58</td>\n",
       "      <td>109570</td>\n",
       "    </tr>\n",
       "    <tr>\n",
       "      <th>2019-01-16</th>\n",
       "      <td>6.58</td>\n",
       "      <td>7.03</td>\n",
       "      <td>6.58</td>\n",
       "      <td>7.03</td>\n",
       "      <td>27940</td>\n",
       "    </tr>\n",
       "    <tr>\n",
       "      <th>2019-01-17</th>\n",
       "      <td>7.51</td>\n",
       "      <td>7.51</td>\n",
       "      <td>7.51</td>\n",
       "      <td>7.51</td>\n",
       "      <td>119080</td>\n",
       "    </tr>\n",
       "    <tr>\n",
       "      <th>2019-01-18</th>\n",
       "      <td>7.84</td>\n",
       "      <td>7.89</td>\n",
       "      <td>7.51</td>\n",
       "      <td>7.51</td>\n",
       "      <td>50480</td>\n",
       "    </tr>\n",
       "    <tr>\n",
       "      <th>2019-01-21</th>\n",
       "      <td>7.51</td>\n",
       "      <td>7.51</td>\n",
       "      <td>7.12</td>\n",
       "      <td>7.12</td>\n",
       "      <td>13560</td>\n",
       "    </tr>\n",
       "  </tbody>\n",
       "</table>\n",
       "</div>"
      ],
      "text/plain": [
       "            open  high   low  close  volume\n",
       "time                                       \n",
       "2019-01-15  8.97  8.97  6.58   6.58  109570\n",
       "2019-01-16  6.58  7.03  6.58   7.03   27940\n",
       "2019-01-17  7.51  7.51  7.51   7.51  119080\n",
       "2019-01-18  7.84  7.89  7.51   7.51   50480\n",
       "2019-01-21  7.51  7.51  7.12   7.12   13560"
      ]
     },
     "execution_count": 73,
     "metadata": {},
     "output_type": "execute_result"
    }
   ],
   "source": [
    "df.head()"
   ]
  },
  {
   "cell_type": "code",
   "execution_count": 74,
   "metadata": {},
   "outputs": [
    {
     "data": {
      "text/plain": [
       "open      0\n",
       "high      0\n",
       "low       0\n",
       "close     0\n",
       "volume    0\n",
       "dtype: int64"
      ]
     },
     "execution_count": 74,
     "metadata": {},
     "output_type": "execute_result"
    }
   ],
   "source": [
    "df.isnull().sum()"
   ]
  },
  {
   "cell_type": "markdown",
   "metadata": {},
   "source": [
    "### Tiền xử lí dữ liệu"
   ]
  },
  {
   "cell_type": "code",
   "execution_count": 75,
   "metadata": {},
   "outputs": [],
   "source": [
    "# Xóa các dòng có giá trị Volume bằng 0\n",
    "df.drop(df[df['volume']==0].index, inplace=True)"
   ]
  },
  {
   "cell_type": "code",
   "execution_count": 76,
   "metadata": {},
   "outputs": [
    {
     "data": {
      "text/plain": [
       "open      0.997768\n",
       "high      0.999022\n",
       "low       0.998935\n",
       "close     1.000000\n",
       "volume    0.444012\n",
       "Name: close, dtype: float64"
      ]
     },
     "execution_count": 76,
     "metadata": {},
     "output_type": "execute_result"
    }
   ],
   "source": [
    "# Ma trận tương quan (ở đây là Pearson tương quan tuyến tính)\n",
    "df.corr()['close']"
   ]
  },
  {
   "cell_type": "code",
   "execution_count": 77,
   "metadata": {},
   "outputs": [
    {
     "name": "stdout",
     "output_type": "stream",
     "text": [
      "count    1.293000e+03\n",
      "mean     9.618657e+05\n",
      "std      7.256608e+05\n",
      "min      2.400000e+02\n",
      "25%      4.538290e+05\n",
      "50%      8.436720e+05\n",
      "75%      1.285800e+06\n",
      "max      4.346420e+06\n",
      "Name: volume, dtype: float64\n"
     ]
    },
    {
     "data": {
      "text/plain": [
       "<Axes: >"
      ]
     },
     "execution_count": 77,
     "metadata": {},
     "output_type": "execute_result"
    },
    {
     "data": {
      "image/png": "[encoded data removed]",
      "text/plain": [
       "<Figure size 640x480 with 1 Axes>"
      ]
     },
     "metadata": {},
     "output_type": "display_data"
    }
   ],
   "source": [
    "print(df.describe().volume) \n",
    "df['volume'].hist(bins= 10)"
   ]
  },
  {
   "cell_type": "code",
   "execution_count": 78,
   "metadata": {},
   "outputs": [],
   "source": [
    "# Bổ sung các chỉ báo kĩ thuật\n",
    "\n",
    "# Tính CMA10\n",
    "df['CMA10'] = df['close'].rolling(window=10, center=True).mean()\n",
    "# Tính SMA10\n",
    "df['SMA10'] = df['close'].rolling(window=10).mean()\n",
    "# Tính SMA50\n",
    "df['SMA50'] = df['close'].rolling(window=50).mean()\n",
    "# Tính EMA12 và EMA26\n",
    "df['EMA12'] = df['close'].ewm(span=12, adjust=False).mean()\n",
    "df['EMA26'] = df['close'].ewm(span=26, adjust=False).mean()\n",
    "# Tính MACD\n",
    "df['MACD'] = df['EMA12'] - df['EMA26']\n",
    "#Tính RSI\n",
    "# Tính giá tăng/giảm\n",
    "delta = df['close'].diff()\n",
    "\n",
    "# Tính giá tăng\n",
    "gain = delta.where(delta > 0, 0)\n",
    "\n",
    "# Tính giá giảm\n",
    "loss = -delta.where(delta < 0, 0)\n",
    "\n",
    "# Tính trung bình động\n",
    "avg_gain = gain.rolling(window=14).mean()\n",
    "avg_loss = loss.rolling(window=14).mean()\n",
    "\n",
    "# Tính RS và RSI\n",
    "rs = avg_gain / avg_loss\n",
    "df['RSI'] = 100 - (100 / (1 + rs))\n",
    "\n",
    "#Tính CCI\n",
    "# Tính giá trung bình\n",
    "typical_price = (df['high'] + df['low'] + df['close']) / 3\n",
    "\n",
    "# Tính SMA của giá trung bình\n",
    "sma_typical_price = typical_price.rolling(window=20).mean()\n",
    "\n",
    "# Tính độ lệch chuẩn\n",
    "mean_deviation = typical_price.rolling(window=20).apply(lambda x: np.mean(np.abs(x - x.mean())))\n",
    "\n",
    "# Tính CCI\n",
    "df['CCI'] = (typical_price - sma_typical_price) / (0.015 * mean_deviation)\n",
    "# Tính %K và %D\n",
    "low_min = df['low'].rolling(window=14).min()\n",
    "high_max = df['high'].rolling(window=14).max()\n",
    "\n",
    "df['%K'] = 100 * (df['close'] - low_min) / (high_max - low_min)\n",
    "df['%D'] = df['%K'].rolling(window=3).mean()"
   ]
  },
  {
   "cell_type": "code",
   "execution_count": 79,
   "metadata": {},
   "outputs": [
    {
     "name": "stdout",
     "output_type": "stream",
     "text": [
      "            open  high   low  close  volume  CMA10  SMA10  SMA50     EMA12  \\\n",
      "time                                                                         \n",
      "2019-01-15  8.97  8.97  6.58   6.58  109570    NaN    NaN    NaN  6.580000   \n",
      "2019-01-16  6.58  7.03  6.58   7.03   27940    NaN    NaN    NaN  6.649231   \n",
      "2019-01-17  7.51  7.51  7.51   7.51  119080    NaN    NaN    NaN  6.781657   \n",
      "2019-01-18  7.84  7.89  7.51   7.51   50480    NaN    NaN    NaN  6.893710   \n",
      "2019-01-21  7.51  7.51  7.12   7.12   13560    NaN    NaN    NaN  6.928524   \n",
      "\n",
      "               EMA26      MACD  RSI  CCI  %K  %D  \n",
      "time                                              \n",
      "2019-01-15  6.580000  0.000000  NaN  NaN NaN NaN  \n",
      "2019-01-16  6.613333  0.035897  NaN  NaN NaN NaN  \n",
      "2019-01-17  6.679753  0.101904  NaN  NaN NaN NaN  \n",
      "2019-01-18  6.741253  0.152457  NaN  NaN NaN NaN  \n",
      "2019-01-21  6.769308  0.159215  NaN  NaN NaN NaN  \n"
     ]
    },
    {
     "data": {
      "text/plain": [
       "(1293, 15)"
      ]
     },
     "execution_count": 79,
     "metadata": {},
     "output_type": "execute_result"
    }
   ],
   "source": [
    "print(df.head())\n",
    "df.shape"
   ]
  },
  {
   "cell_type": "markdown",
   "metadata": {},
   "source": [
    "## Train model / Hàm **fit_model_4()**"
   ]
  },
  {
   "cell_type": "code",
   "execution_count": 80,
   "metadata": {},
   "outputs": [],
   "source": [
    "def fit_model_4(train, val, timesteps, hl, lr, batch, epochs):\n",
    "    X_train = []\n",
    "    Y_train = []\n",
    "    X_val = []\n",
    "    Y_val = []\n",
    "\n",
    "    for i in range(timesteps, train.shape[0]):\n",
    "        X_train.append(train[i-timesteps:i])\n",
    "        Y_train.append(train[i][0])\n",
    "    X_train, Y_train = np.array(X_train), np.array(Y_train)\n",
    "\n",
    "    for i in range(timesteps, val.shape[0]):\n",
    "        X_val.append(val[i-timesteps:i])\n",
    "        Y_val.append(val[i][0])\n",
    "    X_val, Y_val = np.array(X_val), np.array(Y_val)\n",
    "\n",
    "    # Xây dựng mô hình\n",
    "    model = Sequential()\n",
    "    model.add(LSTM(X_train.shape[2], input_shape= (X_train.shape[1], X_train.shape[2]), activation='relu', return_sequences= True))\n",
    "    for i in range(len(hl)-1):\n",
    "        model.add(LSTM(hl[i], activation='relu', return_sequences= True))\n",
    "    model.add(LSTM(hl[-1], activation='relu'))\n",
    "    model.add(Dense(1))\n",
    "\n",
    "    # Biên dịch\n",
    "    model.compile(optimizer= optimizers.Adam(learning_rate= lr), loss= 'mean_squared_error')\n",
    "\n",
    "    # Huấn luyện mô hình\n",
    "    history = model.fit(X_train, Y_train, batch_size= batch, epochs= epochs, validation_data= (X_val, Y_val), verbose= 0, shuffle= False, callbacks= callbacks_list)\n",
    "\n",
    "    # Đặt lại trạng thái\n",
    "    for layer in model.layers:\n",
    "        if isinstance(layer, LSTM):\n",
    "            layer.reset_state()\n",
    "\n",
    "    return model, history.history['loss'], history.history['val_loss']"
   ]
  },
  {
   "cell_type": "markdown",
   "metadata": {},
   "source": [
    "## Hàm **Evaluate_model_4()**"
   ]
  },
  {
   "cell_type": "code",
   "execution_count": 81,
   "metadata": {},
   "outputs": [],
   "source": [
    "def evaluate_model_4(model, test, timesteps):\n",
    "    X_test = []\n",
    "    Y_test = []\n",
    "\n",
    "    for i in range(timesteps, test.shape[0]):\n",
    "        X_test.append(test[i-timesteps:i])\n",
    "        Y_test.append(test[i][0])\n",
    "    X_test, Y_test = np.array(X_test), np.array(Y_test)\n",
    "\n",
    "    # Các chỉ số\n",
    "    Y_hat = model.predict(X_test)\n",
    "    mse = mean_squared_error(Y_test, Y_hat)\n",
    "    rmse = sqrt(mse)\n",
    "    mape = mean_absolute_percentage_error(Y_test, Y_hat)\n",
    "    r2 = r2_score(Y_test, Y_hat)\n",
    "\n",
    "    return mse, rmse, mape, r2, Y_test, Y_hat"
   ]
  },
  {
   "cell_type": "markdown",
   "metadata": {},
   "source": [
    "## **Grid Search**: Tìm kiếm siêu tham số tối ưu "
   ]
  },
  {
   "cell_type": "code",
   "execution_count": 82,
   "metadata": {},
   "outputs": [],
   "source": [
    "param_grid = {\n",
    "    'timesteps': [30, 40, 50],  # Số giá trị trước đó để dự đoán\n",
    "    'hl': [ [40, 35]], # Cấu trúc lớp ẩn\n",
    "    'lr': [1e-3, 1e-4],  # Tốc độ học\n",
    "    'batch_size': [32, 64],  # Kích thước batch\n",
    "    'num_epochs': [200, 250],  # Số epoch\n",
    "}"
   ]
  },
  {
   "cell_type": "code",
   "execution_count": 83,
   "metadata": {},
   "outputs": [],
   "source": [
    "from itertools import product\n",
    "import pandas as pd\n",
    "\n",
    "# Hàm Grid Search\n",
    "def grid_search_rnn(train, val, test, param_grid):\n",
    "    results = []  # Lưu kết quả của từng tổ hợp tham số\n",
    "    best_score = float('inf')  # Lưu RMSE tốt nhất\n",
    "    best_params = None  # Lưu bộ tham số tốt nhất\n",
    "\n",
    "    # Tạo tất cả các tổ hợp tham số\n",
    "    all_combinations = list(product(*param_grid.values()))\n",
    "    param_names = list(param_grid.keys())\n",
    "\n",
    "    for combination in all_combinations:\n",
    "        # Gán giá trị tham số hiện tại\n",
    "        params = dict(zip(param_names, combination))\n",
    "        timesteps = params['timesteps']\n",
    "        hl = params['hl']\n",
    "        lr = params['lr']\n",
    "        batch_size = params['batch_size']\n",
    "        num_epochs = params['num_epochs']\n",
    "\n",
    "        print(f\"Training with params: {params}\")\n",
    "\n",
    "        # Huấn luyện mô hình\n",
    "        model, train_loss, val_loss = fit_model_4(\n",
    "            train, val, timesteps, hl, lr, batch_size, num_epochs\n",
    "        )\n",
    "\n",
    "        # Đánh giá mô hình\n",
    "        mse, rmse, mape, r2, _, _ = evaluate_model_4(model, test, timesteps)\n",
    "\n",
    "        # Lưu kết quả\n",
    "        results.append({\n",
    "            'timesteps': timesteps,\n",
    "            'hl': hl,\n",
    "            'lr': lr,\n",
    "            'batch_size': batch_size,\n",
    "            'num_epochs': num_epochs,\n",
    "            'MSE': mse,\n",
    "            'RMSE': rmse,\n",
    "            'MAPE': mape,\n",
    "            'R²': r2\n",
    "        })\n",
    "\n",
    "        # Cập nhật tham số tốt nhất nếu RMSE cải thiện\n",
    "        if rmse < best_score:\n",
    "            best_score = rmse\n",
    "            best_params = params\n",
    "\n",
    "    # Trả về kết quả\n",
    "    results_df = pd.DataFrame(results)\n",
    "    return best_params, best_score, results_df\n"
   ]
  },
  {
   "cell_type": "markdown",
   "metadata": {},
   "source": [
    "## Plot chart (vẽ biểu đồ)"
   ]
  },
  {
   "cell_type": "code",
   "execution_count": 84,
   "metadata": {},
   "outputs": [],
   "source": [
    "# Plotting the predictions\n",
    "def plot_data_4(Y_test, Y_hat):\n",
    "    plt.plot(Y_test, c = 'r')\n",
    "    plt.plot(Y_hat, c = 'y')\n",
    "    plt.xlabel('Day')\n",
    "    plt.ylabel('Price')\n",
    "    plt.title('Stock Prediction Graph using Multivariate-LSTM model')\n",
    "    plt.legend(['Actual', 'Predicted'], loc = 'lower right')\n",
    "    plt.show()"
   ]
  },
  {
   "cell_type": "code",
   "execution_count": 85,
   "metadata": {},
   "outputs": [],
   "source": [
    "# Plotting the training errors: trực quan loss qua các epoch -> thấy qtr học mô hình, xem có overfitting ko\n",
    "def plot_error(train_loss, val_loss):\n",
    "    plt.plot(train_loss, c = 'r')\n",
    "    plt.plot(val_loss, c = 'b')\n",
    "    plt.ylabel('Loss')\n",
    "    plt.xlabel('Epochs')\n",
    "    plt.title('Train Loss and Validation Loss Curve')\n",
    "    plt.legend(['train', 'val'], loc = 'upper right')\n",
    "    plt.show()"
   ]
  },
  {
   "cell_type": "markdown",
   "metadata": {},
   "source": [
    "## **Model building**: Xây dựng mô hình"
   ]
  },
  {
   "cell_type": "markdown",
   "metadata": {},
   "source": [
    "### Bước 1: Trích xuất và trực quan hóa dữ liệu"
   ]
  },
  {
   "cell_type": "code",
   "execution_count": 86,
   "metadata": {},
   "outputs": [
    {
     "name": "stdout",
     "output_type": "stream",
     "text": [
      "(1240, 10)\n"
     ]
    },
    {
     "data": {
      "text/html": [
       "<div>\n",
       "<style scoped>\n",
       "    .dataframe tbody tr th:only-of-type {\n",
       "        vertical-align: middle;\n",
       "    }\n",
       "\n",
       "    .dataframe tbody tr th {\n",
       "        vertical-align: top;\n",
       "    }\n",
       "\n",
       "    .dataframe thead th {\n",
       "        text-align: right;\n",
       "    }\n",
       "</style>\n",
       "<table border=\"1\" class=\"dataframe\">\n",
       "  <thead>\n",
       "    <tr style=\"text-align: right;\">\n",
       "      <th></th>\n",
       "      <th>close</th>\n",
       "      <th>CMA10</th>\n",
       "      <th>SMA10</th>\n",
       "      <th>SMA50</th>\n",
       "      <th>EMA12</th>\n",
       "      <th>RSI</th>\n",
       "      <th>CCI</th>\n",
       "      <th>%K</th>\n",
       "      <th>%D</th>\n",
       "      <th>MACD</th>\n",
       "    </tr>\n",
       "  </thead>\n",
       "  <tbody>\n",
       "    <tr>\n",
       "      <th>count</th>\n",
       "      <td>1240.000000</td>\n",
       "      <td>1240.000000</td>\n",
       "      <td>1240.000000</td>\n",
       "      <td>1240.000000</td>\n",
       "      <td>1240.000000</td>\n",
       "      <td>1240.000000</td>\n",
       "      <td>1240.000000</td>\n",
       "      <td>1240.000000</td>\n",
       "      <td>1240.000000</td>\n",
       "      <td>1240.000000</td>\n",
       "    </tr>\n",
       "    <tr>\n",
       "      <th>mean</th>\n",
       "      <td>23.922185</td>\n",
       "      <td>23.907293</td>\n",
       "      <td>23.800945</td>\n",
       "      <td>23.281065</td>\n",
       "      <td>23.774227</td>\n",
       "      <td>53.859959</td>\n",
       "      <td>23.864276</td>\n",
       "      <td>55.347558</td>\n",
       "      <td>55.334764</td>\n",
       "      <td>0.182251</td>\n",
       "    </tr>\n",
       "    <tr>\n",
       "      <th>std</th>\n",
       "      <td>11.051640</td>\n",
       "      <td>10.997325</td>\n",
       "      <td>10.974661</td>\n",
       "      <td>10.724423</td>\n",
       "      <td>10.929829</td>\n",
       "      <td>17.645922</td>\n",
       "      <td>109.921258</td>\n",
       "      <td>30.334386</td>\n",
       "      <td>28.409879</td>\n",
       "      <td>0.985588</td>\n",
       "    </tr>\n",
       "    <tr>\n",
       "      <th>min</th>\n",
       "      <td>7.790000</td>\n",
       "      <td>8.319000</td>\n",
       "      <td>8.319000</td>\n",
       "      <td>7.664600</td>\n",
       "      <td>8.479359</td>\n",
       "      <td>2.400000</td>\n",
       "      <td>-314.348887</td>\n",
       "      <td>0.000000</td>\n",
       "      <td>0.000000</td>\n",
       "      <td>-4.034671</td>\n",
       "    </tr>\n",
       "    <tr>\n",
       "      <th>25%</th>\n",
       "      <td>14.197500</td>\n",
       "      <td>14.148500</td>\n",
       "      <td>13.839000</td>\n",
       "      <td>13.238450</td>\n",
       "      <td>13.736157</td>\n",
       "      <td>41.205512</td>\n",
       "      <td>-62.423004</td>\n",
       "      <td>28.300176</td>\n",
       "      <td>28.838193</td>\n",
       "      <td>-0.209920</td>\n",
       "    </tr>\n",
       "    <tr>\n",
       "      <th>50%</th>\n",
       "      <td>23.055000</td>\n",
       "      <td>22.756500</td>\n",
       "      <td>22.627000</td>\n",
       "      <td>22.829700</td>\n",
       "      <td>22.904042</td>\n",
       "      <td>54.691071</td>\n",
       "      <td>45.642973</td>\n",
       "      <td>60.917367</td>\n",
       "      <td>60.525771</td>\n",
       "      <td>0.306842</td>\n",
       "    </tr>\n",
       "    <tr>\n",
       "      <th>75%</th>\n",
       "      <td>31.242500</td>\n",
       "      <td>31.126500</td>\n",
       "      <td>31.060750</td>\n",
       "      <td>31.221150</td>\n",
       "      <td>30.902806</td>\n",
       "      <td>67.240614</td>\n",
       "      <td>108.659315</td>\n",
       "      <td>82.298464</td>\n",
       "      <td>81.481269</td>\n",
       "      <td>0.714092</td>\n",
       "    </tr>\n",
       "    <tr>\n",
       "      <th>max</th>\n",
       "      <td>54.610000</td>\n",
       "      <td>53.114000</td>\n",
       "      <td>53.114000</td>\n",
       "      <td>50.160200</td>\n",
       "      <td>52.765743</td>\n",
       "      <td>92.916667</td>\n",
       "      <td>267.139480</td>\n",
       "      <td>100.000000</td>\n",
       "      <td>99.425287</td>\n",
       "      <td>2.254717</td>\n",
       "    </tr>\n",
       "  </tbody>\n",
       "</table>\n",
       "</div>"
      ],
      "text/plain": [
       "             close        CMA10        SMA10        SMA50        EMA12  \\\n",
       "count  1240.000000  1240.000000  1240.000000  1240.000000  1240.000000   \n",
       "mean     23.922185    23.907293    23.800945    23.281065    23.774227   \n",
       "std      11.051640    10.997325    10.974661    10.724423    10.929829   \n",
       "min       7.790000     8.319000     8.319000     7.664600     8.479359   \n",
       "25%      14.197500    14.148500    13.839000    13.238450    13.736157   \n",
       "50%      23.055000    22.756500    22.627000    22.829700    22.904042   \n",
       "75%      31.242500    31.126500    31.060750    31.221150    30.902806   \n",
       "max      54.610000    53.114000    53.114000    50.160200    52.765743   \n",
       "\n",
       "               RSI          CCI           %K           %D         MACD  \n",
       "count  1240.000000  1240.000000  1240.000000  1240.000000  1240.000000  \n",
       "mean     53.859959    23.864276    55.347558    55.334764     0.182251  \n",
       "std      17.645922   109.921258    30.334386    28.409879     0.985588  \n",
       "min       2.400000  -314.348887     0.000000     0.000000    -4.034671  \n",
       "25%      41.205512   -62.423004    28.300176    28.838193    -0.209920  \n",
       "50%      54.691071    45.642973    60.917367    60.525771     0.306842  \n",
       "75%      67.240614   108.659315    82.298464    81.481269     0.714092  \n",
       "max      92.916667   267.139480   100.000000    99.425287     2.254717  "
      ]
     },
     "execution_count": 86,
     "metadata": {},
     "output_type": "execute_result"
    }
   ],
   "source": [
    "# Extracting the series\n",
    "series = df[['close', 'CMA10', 'SMA10', 'SMA50', 'EMA12', 'RSI', 'CCI', '%K', '%D', 'MACD']]\n",
    "# Drop rows with NaN values\n",
    "series = series.dropna()\n",
    "\n",
    "# Display the shape and the tail of the cleaned series\n",
    "print(series.shape)\n",
    "series.describe()"
   ]
  },
  {
   "cell_type": "markdown",
   "metadata": {},
   "source": [
    "### Bước 2: Chia dữ liệu thành các tập Train, Validation, Test"
   ]
  },
  {
   "cell_type": "code",
   "execution_count": 87,
   "metadata": {},
   "outputs": [
    {
     "data": {
      "text/plain": [
       "(1240, 10)"
      ]
     },
     "execution_count": 87,
     "metadata": {},
     "output_type": "execute_result"
    }
   ],
   "source": [
    "series.shape"
   ]
  },
  {
   "cell_type": "code",
   "execution_count": 88,
   "metadata": {},
   "outputs": [
    {
     "name": "stdout",
     "output_type": "stream",
     "text": [
      "(868, 10) (186, 10) (186, 10)\n"
     ]
    }
   ],
   "source": [
    "\n",
    "n = series.shape[0]\n",
    "val_size =  test_size = int(n * 0.15)\n",
    "train_size = n - val_size - test_size # Để tránh sai số làm mất dữ liệu\n",
    "\n",
    "# Chia tập dữ liệu theo thứ tự thời gian\n",
    "train_data = series.iloc[:train_size].values\n",
    "val_data = series.iloc[train_size:train_size + val_size].values\n",
    "test_data = series.iloc[(train_size + val_size):].values\n",
    "# Kiểm tra kích thước của từng tập\n",
    "print(train_data.shape, val_data.shape, test_data.shape)\n"
   ]
  },
  {
   "cell_type": "markdown",
   "metadata": {},
   "source": [
    "### Bước 3: Chuẩn hóa dữ liệu bằng MinMaxScaler"
   ]
  },
  {
   "cell_type": "code",
   "execution_count": 89,
   "metadata": {},
   "outputs": [
    {
     "name": "stdout",
     "output_type": "stream",
     "text": [
      "(868, 10) (186, 10) (186, 10)\n"
     ]
    }
   ],
   "source": [
    "np.random.seed(1)\n",
    "tf.random.set_seed(2)\n",
    "\n",
    "sc = MinMaxScaler()\n",
    "train = sc.fit_transform(train_data)\n",
    "val = sc.transform(val_data)\n",
    "test = sc.transform(test_data)\n",
    "\n",
    "print(train.shape, val.shape, test.shape)"
   ]
  },
  {
   "cell_type": "markdown",
   "metadata": {},
   "source": [
    "### Bước 4: Tìm siêu tham số tốt nhất bằng Grid Search"
   ]
  },
  {
   "cell_type": "code",
   "execution_count": 90,
   "metadata": {},
   "outputs": [
    {
     "name": "stdout",
     "output_type": "stream",
     "text": [
      "Training with params: {'timesteps': 30, 'hl': [40, 35], 'lr': 0.001, 'batch_size': 32, 'num_epochs': 200}\n"
     ]
    },
    {
     "name": "stderr",
     "output_type": "stream",
     "text": [
      "c:\\Users\\84368\\AppData\\Local\\Programs\\Python\\Python311\\Lib\\site-packages\\keras\\src\\layers\\rnn\\rnn.py:200: UserWarning: Do not pass an `input_shape`/`input_dim` argument to a layer. When using Sequential models, prefer using an `Input(shape)` object as the first layer in the model instead.\n",
      "  super().__init__(**kwargs)\n"
     ]
    },
    {
     "name": "stdout",
     "output_type": "stream",
     "text": [
      "\n",
      "Epoch 1: val_loss improved from inf to 0.01689, saving model to 10Var_szc_lstm.h5\n"
     ]
    },
    {
     "name": "stderr",
     "output_type": "stream",
     "text": [
      "WARNING:absl:You are saving your model as an HDF5 file via `model.save()` or `keras.saving.save_model(model)`. This file format is considered legacy. We recommend using instead the native Keras format, e.g. `model.save('my_model.keras')` or `keras.saving.save_model(model, 'my_model.keras')`. \n"
     ]
    },
    {
     "name": "stdout",
     "output_type": "stream",
     "text": [
      "\n",
      "Epoch 2: val_loss improved from 0.01689 to 0.00142, saving model to 10Var_szc_lstm.h5\n"
     ]
    },
    {
     "name": "stderr",
     "output_type": "stream",
     "text": [
      "WARNING:absl:You are saving your model as an HDF5 file via `model.save()` or `keras.saving.save_model(model)`. This file format is considered legacy. We recommend using instead the native Keras format, e.g. `model.save('my_model.keras')` or `keras.saving.save_model(model, 'my_model.keras')`. \n"
     ]
    },
    {
     "name": "stdout",
     "output_type": "stream",
     "text": [
      "\n",
      "Epoch 3: val_loss did not improve from 0.00142\n",
      "\n",
      "Epoch 4: val_loss did not improve from 0.00142\n",
      "\n",
      "Epoch 5: val_loss did not improve from 0.00142\n",
      "\n",
      "Epoch 6: val_loss did not improve from 0.00142\n",
      "\n",
      "Epoch 7: val_loss did not improve from 0.00142\n",
      "\n",
      "Epoch 8: val_loss did not improve from 0.00142\n",
      "\n",
      "Epoch 9: val_loss did not improve from 0.00142\n",
      "\n",
      "Epoch 10: val_loss did not improve from 0.00142\n",
      "\n",
      "Epoch 11: val_loss did not improve from 0.00142\n",
      "\n",
      "Epoch 12: val_loss did not improve from 0.00142\n",
      "\n",
      "Epoch 13: val_loss did not improve from 0.00142\n",
      "\n",
      "Epoch 14: val_loss did not improve from 0.00142\n",
      "\n",
      "Epoch 15: val_loss did not improve from 0.00142\n",
      "\n",
      "Epoch 16: val_loss did not improve from 0.00142\n",
      "\n",
      "Epoch 17: val_loss did not improve from 0.00142\n",
      "\n",
      "Epoch 18: val_loss did not improve from 0.00142\n",
      "\n",
      "Epoch 19: val_loss did not improve from 0.00142\n",
      "\n",
      "Epoch 20: val_loss did not improve from 0.00142\n",
      "\n",
      "Epoch 21: val_loss did not improve from 0.00142\n",
      "\n",
      "Epoch 22: val_loss did not improve from 0.00142\n",
      "\n",
      "Epoch 23: val_loss did not improve from 0.00142\n",
      "\n",
      "Epoch 24: val_loss did not improve from 0.00142\n",
      "\n",
      "Epoch 25: val_loss did not improve from 0.00142\n",
      "\n",
      "Epoch 26: val_loss did not improve from 0.00142\n",
      "\n",
      "Epoch 27: val_loss did not improve from 0.00142\n",
      "\n",
      "Epoch 28: val_loss did not improve from 0.00142\n",
      "\n",
      "Epoch 29: val_loss did not improve from 0.00142\n",
      "\n",
      "Epoch 30: val_loss did not improve from 0.00142\n",
      "\n",
      "Epoch 31: val_loss did not improve from 0.00142\n",
      "\n",
      "Epoch 32: val_loss did not improve from 0.00142\n",
      "\n",
      "Epoch 33: val_loss did not improve from 0.00142\n",
      "\n",
      "Epoch 34: val_loss did not improve from 0.00142\n",
      "\n",
      "Epoch 35: val_loss did not improve from 0.00142\n",
      "\n",
      "Epoch 36: val_loss did not improve from 0.00142\n",
      "\n",
      "Epoch 37: val_loss did not improve from 0.00142\n",
      "\n",
      "Epoch 38: val_loss did not improve from 0.00142\n",
      "\n",
      "Epoch 39: val_loss did not improve from 0.00142\n",
      "\n",
      "Epoch 40: val_loss did not improve from 0.00142\n",
      "\n",
      "Epoch 41: val_loss did not improve from 0.00142\n",
      "\n",
      "Epoch 42: val_loss did not improve from 0.00142\n",
      "\n",
      "Epoch 43: val_loss did not improve from 0.00142\n",
      "\n",
      "Epoch 44: val_loss did not improve from 0.00142\n",
      "\n",
      "Epoch 45: val_loss did not improve from 0.00142\n",
      "\n",
      "Epoch 46: val_loss did not improve from 0.00142\n",
      "\n",
      "Epoch 47: val_loss did not improve from 0.00142\n",
      "\n",
      "Epoch 48: val_loss did not improve from 0.00142\n",
      "\n",
      "Epoch 49: val_loss did not improve from 0.00142\n",
      "\n",
      "Epoch 50: val_loss did not improve from 0.00142\n",
      "\n",
      "Epoch 51: val_loss did not improve from 0.00142\n",
      "\n",
      "Epoch 52: val_loss did not improve from 0.00142\n",
      "\n",
      "Epoch 53: val_loss improved from 0.00142 to 0.00117, saving model to 10Var_szc_lstm.h5\n"
     ]
    },
    {
     "name": "stderr",
     "output_type": "stream",
     "text": [
      "WARNING:absl:You are saving your model as an HDF5 file via `model.save()` or `keras.saving.save_model(model)`. This file format is considered legacy. We recommend using instead the native Keras format, e.g. `model.save('my_model.keras')` or `keras.saving.save_model(model, 'my_model.keras')`. \n"
     ]
    },
    {
     "name": "stdout",
     "output_type": "stream",
     "text": [
      "\n",
      "Epoch 54: val_loss improved from 0.00117 to 0.00098, saving model to 10Var_szc_lstm.h5\n"
     ]
    },
    {
     "name": "stderr",
     "output_type": "stream",
     "text": [
      "WARNING:absl:You are saving your model as an HDF5 file via `model.save()` or `keras.saving.save_model(model)`. This file format is considered legacy. We recommend using instead the native Keras format, e.g. `model.save('my_model.keras')` or `keras.saving.save_model(model, 'my_model.keras')`. \n"
     ]
    },
    {
     "name": "stdout",
     "output_type": "stream",
     "text": [
      "\n",
      "Epoch 55: val_loss improved from 0.00098 to 0.00087, saving model to 10Var_szc_lstm.h5\n"
     ]
    },
    {
     "name": "stderr",
     "output_type": "stream",
     "text": [
      "WARNING:absl:You are saving your model as an HDF5 file via `model.save()` or `keras.saving.save_model(model)`. This file format is considered legacy. We recommend using instead the native Keras format, e.g. `model.save('my_model.keras')` or `keras.saving.save_model(model, 'my_model.keras')`. \n"
     ]
    },
    {
     "name": "stdout",
     "output_type": "stream",
     "text": [
      "\n",
      "Epoch 56: val_loss did not improve from 0.00087\n",
      "\n",
      "Epoch 57: val_loss did not improve from 0.00087\n",
      "\n",
      "Epoch 58: val_loss did not improve from 0.00087\n",
      "\n",
      "Epoch 59: val_loss did not improve from 0.00087\n",
      "\n",
      "Epoch 60: val_loss did not improve from 0.00087\n",
      "\n",
      "Epoch 61: val_loss did not improve from 0.00087\n",
      "\n",
      "Epoch 62: val_loss did not improve from 0.00087\n",
      "\n",
      "Epoch 63: val_loss did not improve from 0.00087\n",
      "\n",
      "Epoch 64: val_loss did not improve from 0.00087\n",
      "\n",
      "Epoch 65: val_loss did not improve from 0.00087\n",
      "\n",
      "Epoch 66: val_loss did not improve from 0.00087\n",
      "\n",
      "Epoch 67: val_loss did not improve from 0.00087\n",
      "\n",
      "Epoch 68: val_loss improved from 0.00087 to 0.00087, saving model to 10Var_szc_lstm.h5\n"
     ]
    },
    {
     "name": "stderr",
     "output_type": "stream",
     "text": [
      "WARNING:absl:You are saving your model as an HDF5 file via `model.save()` or `keras.saving.save_model(model)`. This file format is considered legacy. We recommend using instead the native Keras format, e.g. `model.save('my_model.keras')` or `keras.saving.save_model(model, 'my_model.keras')`. \n"
     ]
    },
    {
     "name": "stdout",
     "output_type": "stream",
     "text": [
      "\n",
      "Epoch 69: val_loss improved from 0.00087 to 0.00085, saving model to 10Var_szc_lstm.h5\n"
     ]
    },
    {
     "name": "stderr",
     "output_type": "stream",
     "text": [
      "WARNING:absl:You are saving your model as an HDF5 file via `model.save()` or `keras.saving.save_model(model)`. This file format is considered legacy. We recommend using instead the native Keras format, e.g. `model.save('my_model.keras')` or `keras.saving.save_model(model, 'my_model.keras')`. \n"
     ]
    },
    {
     "name": "stdout",
     "output_type": "stream",
     "text": [
      "\n",
      "Epoch 70: val_loss improved from 0.00085 to 0.00082, saving model to 10Var_szc_lstm.h5\n"
     ]
    },
    {
     "name": "stderr",
     "output_type": "stream",
     "text": [
      "WARNING:absl:You are saving your model as an HDF5 file via `model.save()` or `keras.saving.save_model(model)`. This file format is considered legacy. We recommend using instead the native Keras format, e.g. `model.save('my_model.keras')` or `keras.saving.save_model(model, 'my_model.keras')`. \n"
     ]
    },
    {
     "name": "stdout",
     "output_type": "stream",
     "text": [
      "\n",
      "Epoch 71: val_loss did not improve from 0.00082\n",
      "\n",
      "Epoch 72: val_loss did not improve from 0.00082\n",
      "\n",
      "Epoch 73: val_loss did not improve from 0.00082\n",
      "\n",
      "Epoch 74: val_loss did not improve from 0.00082\n",
      "\n",
      "Epoch 75: val_loss did not improve from 0.00082\n",
      "\n",
      "Epoch 76: val_loss did not improve from 0.00082\n",
      "\n",
      "Epoch 77: val_loss did not improve from 0.00082\n",
      "\n",
      "Epoch 78: val_loss did not improve from 0.00082\n",
      "\n",
      "Epoch 79: val_loss did not improve from 0.00082\n",
      "\n",
      "Epoch 80: val_loss did not improve from 0.00082\n",
      "\n",
      "Epoch 81: val_loss did not improve from 0.00082\n",
      "\n",
      "Epoch 82: val_loss did not improve from 0.00082\n",
      "\n",
      "Epoch 83: val_loss did not improve from 0.00082\n",
      "\n",
      "Epoch 84: val_loss did not improve from 0.00082\n",
      "\n",
      "Epoch 85: val_loss did not improve from 0.00082\n",
      "\n",
      "Epoch 86: val_loss did not improve from 0.00082\n",
      "\n",
      "Epoch 87: val_loss did not improve from 0.00082\n",
      "\n",
      "Epoch 88: val_loss did not improve from 0.00082\n",
      "\n",
      "Epoch 89: val_loss did not improve from 0.00082\n",
      "\n",
      "Epoch 90: val_loss improved from 0.00082 to 0.00080, saving model to 10Var_szc_lstm.h5\n"
     ]
    },
    {
     "name": "stderr",
     "output_type": "stream",
     "text": [
      "WARNING:absl:You are saving your model as an HDF5 file via `model.save()` or `keras.saving.save_model(model)`. This file format is considered legacy. We recommend using instead the native Keras format, e.g. `model.save('my_model.keras')` or `keras.saving.save_model(model, 'my_model.keras')`. \n"
     ]
    },
    {
     "name": "stdout",
     "output_type": "stream",
     "text": [
      "\n",
      "Epoch 91: val_loss did not improve from 0.00080\n",
      "\n",
      "Epoch 92: val_loss improved from 0.00080 to 0.00077, saving model to 10Var_szc_lstm.h5\n"
     ]
    },
    {
     "name": "stderr",
     "output_type": "stream",
     "text": [
      "WARNING:absl:You are saving your model as an HDF5 file via `model.save()` or `keras.saving.save_model(model)`. This file format is considered legacy. We recommend using instead the native Keras format, e.g. `model.save('my_model.keras')` or `keras.saving.save_model(model, 'my_model.keras')`. \n"
     ]
    },
    {
     "name": "stdout",
     "output_type": "stream",
     "text": [
      "\n",
      "Epoch 93: val_loss did not improve from 0.00077\n",
      "\n",
      "Epoch 94: val_loss did not improve from 0.00077\n",
      "\n",
      "Epoch 95: val_loss did not improve from 0.00077\n",
      "\n",
      "Epoch 96: val_loss did not improve from 0.00077\n",
      "\n",
      "Epoch 97: val_loss did not improve from 0.00077\n",
      "\n",
      "Epoch 98: val_loss did not improve from 0.00077\n",
      "\n",
      "Epoch 99: val_loss improved from 0.00077 to 0.00075, saving model to 10Var_szc_lstm.h5\n"
     ]
    },
    {
     "name": "stderr",
     "output_type": "stream",
     "text": [
      "WARNING:absl:You are saving your model as an HDF5 file via `model.save()` or `keras.saving.save_model(model)`. This file format is considered legacy. We recommend using instead the native Keras format, e.g. `model.save('my_model.keras')` or `keras.saving.save_model(model, 'my_model.keras')`. \n"
     ]
    },
    {
     "name": "stdout",
     "output_type": "stream",
     "text": [
      "\n",
      "Epoch 100: val_loss did not improve from 0.00075\n",
      "\n",
      "Epoch 101: val_loss did not improve from 0.00075\n",
      "\n",
      "Epoch 102: val_loss did not improve from 0.00075\n",
      "\n",
      "Epoch 103: val_loss improved from 0.00075 to 0.00070, saving model to 10Var_szc_lstm.h5\n"
     ]
    },
    {
     "name": "stderr",
     "output_type": "stream",
     "text": [
      "WARNING:absl:You are saving your model as an HDF5 file via `model.save()` or `keras.saving.save_model(model)`. This file format is considered legacy. We recommend using instead the native Keras format, e.g. `model.save('my_model.keras')` or `keras.saving.save_model(model, 'my_model.keras')`. \n"
     ]
    },
    {
     "name": "stdout",
     "output_type": "stream",
     "text": [
      "\n",
      "Epoch 104: val_loss did not improve from 0.00070\n",
      "\n",
      "Epoch 105: val_loss did not improve from 0.00070\n",
      "\n",
      "Epoch 106: val_loss did not improve from 0.00070\n",
      "\n",
      "Epoch 107: val_loss did not improve from 0.00070\n",
      "\n",
      "Epoch 108: val_loss did not improve from 0.00070\n",
      "\n",
      "Epoch 109: val_loss did not improve from 0.00070\n",
      "\n",
      "Epoch 110: val_loss did not improve from 0.00070\n",
      "\n",
      "Epoch 111: val_loss did not improve from 0.00070\n",
      "\n",
      "Epoch 112: val_loss did not improve from 0.00070\n",
      "\n",
      "Epoch 113: val_loss did not improve from 0.00070\n",
      "\n",
      "Epoch 114: val_loss did not improve from 0.00070\n",
      "\n",
      "Epoch 115: val_loss did not improve from 0.00070\n",
      "\n",
      "Epoch 116: val_loss did not improve from 0.00070\n",
      "\n",
      "Epoch 117: val_loss did not improve from 0.00070\n",
      "\n",
      "Epoch 118: val_loss did not improve from 0.00070\n",
      "\n",
      "Epoch 119: val_loss did not improve from 0.00070\n",
      "\n",
      "Epoch 120: val_loss did not improve from 0.00070\n",
      "\n",
      "Epoch 121: val_loss did not improve from 0.00070\n",
      "\n",
      "Epoch 122: val_loss did not improve from 0.00070\n",
      "\n",
      "Epoch 123: val_loss did not improve from 0.00070\n",
      "\n",
      "Epoch 124: val_loss did not improve from 0.00070\n",
      "\n",
      "Epoch 125: val_loss did not improve from 0.00070\n",
      "\n",
      "Epoch 126: val_loss did not improve from 0.00070\n",
      "\n",
      "Epoch 127: val_loss did not improve from 0.00070\n",
      "\n",
      "Epoch 128: val_loss did not improve from 0.00070\n",
      "\n",
      "Epoch 129: val_loss did not improve from 0.00070\n",
      "\n",
      "Epoch 130: val_loss did not improve from 0.00070\n",
      "\n",
      "Epoch 131: val_loss did not improve from 0.00070\n",
      "\n",
      "Epoch 132: val_loss did not improve from 0.00070\n",
      "\n",
      "Epoch 133: val_loss did not improve from 0.00070\n",
      "\n",
      "Epoch 134: val_loss did not improve from 0.00070\n",
      "\n",
      "Epoch 135: val_loss did not improve from 0.00070\n",
      "\n",
      "Epoch 136: val_loss did not improve from 0.00070\n",
      "\n",
      "Epoch 137: val_loss did not improve from 0.00070\n",
      "\n",
      "Epoch 138: val_loss did not improve from 0.00070\n",
      "\n",
      "Epoch 139: val_loss did not improve from 0.00070\n",
      "\n",
      "Epoch 140: val_loss improved from 0.00070 to 0.00070, saving model to 10Var_szc_lstm.h5\n"
     ]
    },
    {
     "name": "stderr",
     "output_type": "stream",
     "text": [
      "WARNING:absl:You are saving your model as an HDF5 file via `model.save()` or `keras.saving.save_model(model)`. This file format is considered legacy. We recommend using instead the native Keras format, e.g. `model.save('my_model.keras')` or `keras.saving.save_model(model, 'my_model.keras')`. \n"
     ]
    },
    {
     "name": "stdout",
     "output_type": "stream",
     "text": [
      "\n",
      "Epoch 141: val_loss did not improve from 0.00070\n",
      "\n",
      "Epoch 142: val_loss improved from 0.00070 to 0.00067, saving model to 10Var_szc_lstm.h5\n"
     ]
    },
    {
     "name": "stderr",
     "output_type": "stream",
     "text": [
      "WARNING:absl:You are saving your model as an HDF5 file via `model.save()` or `keras.saving.save_model(model)`. This file format is considered legacy. We recommend using instead the native Keras format, e.g. `model.save('my_model.keras')` or `keras.saving.save_model(model, 'my_model.keras')`. \n"
     ]
    },
    {
     "name": "stdout",
     "output_type": "stream",
     "text": [
      "\n",
      "Epoch 143: val_loss did not improve from 0.00067\n",
      "\n",
      "Epoch 144: val_loss improved from 0.00067 to 0.00066, saving model to 10Var_szc_lstm.h5\n"
     ]
    },
    {
     "name": "stderr",
     "output_type": "stream",
     "text": [
      "WARNING:absl:You are saving your model as an HDF5 file via `model.save()` or `keras.saving.save_model(model)`. This file format is considered legacy. We recommend using instead the native Keras format, e.g. `model.save('my_model.keras')` or `keras.saving.save_model(model, 'my_model.keras')`. \n"
     ]
    },
    {
     "name": "stdout",
     "output_type": "stream",
     "text": [
      "\n",
      "Epoch 145: val_loss improved from 0.00066 to 0.00064, saving model to 10Var_szc_lstm.h5\n"
     ]
    },
    {
     "name": "stderr",
     "output_type": "stream",
     "text": [
      "WARNING:absl:You are saving your model as an HDF5 file via `model.save()` or `keras.saving.save_model(model)`. This file format is considered legacy. We recommend using instead the native Keras format, e.g. `model.save('my_model.keras')` or `keras.saving.save_model(model, 'my_model.keras')`. \n"
     ]
    },
    {
     "name": "stdout",
     "output_type": "stream",
     "text": [
      "\n",
      "Epoch 146: val_loss did not improve from 0.00064\n",
      "\n",
      "Epoch 147: val_loss did not improve from 0.00064\n",
      "\n",
      "Epoch 148: val_loss did not improve from 0.00064\n",
      "\n",
      "Epoch 149: val_loss did not improve from 0.00064\n",
      "\n",
      "Epoch 150: val_loss did not improve from 0.00064\n",
      "\n",
      "Epoch 151: val_loss improved from 0.00064 to 0.00063, saving model to 10Var_szc_lstm.h5\n"
     ]
    },
    {
     "name": "stderr",
     "output_type": "stream",
     "text": [
      "WARNING:absl:You are saving your model as an HDF5 file via `model.save()` or `keras.saving.save_model(model)`. This file format is considered legacy. We recommend using instead the native Keras format, e.g. `model.save('my_model.keras')` or `keras.saving.save_model(model, 'my_model.keras')`. \n"
     ]
    },
    {
     "name": "stdout",
     "output_type": "stream",
     "text": [
      "\n",
      "Epoch 152: val_loss did not improve from 0.00063\n",
      "\n",
      "Epoch 153: val_loss did not improve from 0.00063\n",
      "\n",
      "Epoch 154: val_loss did not improve from 0.00063\n",
      "\n",
      "Epoch 155: val_loss did not improve from 0.00063\n",
      "\n",
      "Epoch 156: val_loss did not improve from 0.00063\n",
      "\n",
      "Epoch 157: val_loss did not improve from 0.00063\n",
      "\n",
      "Epoch 158: val_loss did not improve from 0.00063\n",
      "\n",
      "Epoch 159: val_loss did not improve from 0.00063\n",
      "\n",
      "Epoch 160: val_loss did not improve from 0.00063\n",
      "\n",
      "Epoch 161: val_loss did not improve from 0.00063\n",
      "\n",
      "Epoch 162: val_loss did not improve from 0.00063\n",
      "\n",
      "Epoch 163: val_loss did not improve from 0.00063\n",
      "\n",
      "Epoch 164: val_loss did not improve from 0.00063\n",
      "\n",
      "Epoch 165: val_loss did not improve from 0.00063\n",
      "\n",
      "Epoch 166: val_loss did not improve from 0.00063\n",
      "\n",
      "Epoch 167: val_loss did not improve from 0.00063\n",
      "\n",
      "Epoch 168: val_loss did not improve from 0.00063\n",
      "\n",
      "Epoch 169: val_loss did not improve from 0.00063\n",
      "\n",
      "Epoch 170: val_loss did not improve from 0.00063\n",
      "\n",
      "Epoch 171: val_loss did not improve from 0.00063\n",
      "\n",
      "Epoch 172: val_loss did not improve from 0.00063\n",
      "\n",
      "Epoch 173: val_loss did not improve from 0.00063\n",
      "\n",
      "Epoch 174: val_loss did not improve from 0.00063\n",
      "\n",
      "Epoch 175: val_loss did not improve from 0.00063\n",
      "\n",
      "Epoch 176: val_loss did not improve from 0.00063\n",
      "\n",
      "Epoch 177: val_loss did not improve from 0.00063\n",
      "\n",
      "Epoch 178: val_loss did not improve from 0.00063\n",
      "\n",
      "Epoch 179: val_loss did not improve from 0.00063\n",
      "\n",
      "Epoch 180: val_loss did not improve from 0.00063\n",
      "\n",
      "Epoch 181: val_loss did not improve from 0.00063\n",
      "\n",
      "Epoch 182: val_loss did not improve from 0.00063\n",
      "\n",
      "Epoch 183: val_loss did not improve from 0.00063\n",
      "\n",
      "Epoch 184: val_loss did not improve from 0.00063\n",
      "\n",
      "Epoch 185: val_loss did not improve from 0.00063\n",
      "\n",
      "Epoch 186: val_loss did not improve from 0.00063\n",
      "\n",
      "Epoch 187: val_loss did not improve from 0.00063\n",
      "\n",
      "Epoch 188: val_loss did not improve from 0.00063\n",
      "\n",
      "Epoch 189: val_loss improved from 0.00063 to 0.00063, saving model to 10Var_szc_lstm.h5\n"
     ]
    },
    {
     "name": "stderr",
     "output_type": "stream",
     "text": [
      "WARNING:absl:You are saving your model as an HDF5 file via `model.save()` or `keras.saving.save_model(model)`. This file format is considered legacy. We recommend using instead the native Keras format, e.g. `model.save('my_model.keras')` or `keras.saving.save_model(model, 'my_model.keras')`. \n"
     ]
    },
    {
     "name": "stdout",
     "output_type": "stream",
     "text": [
      "\n",
      "Epoch 190: val_loss did not improve from 0.00063\n",
      "\n",
      "Epoch 191: val_loss did not improve from 0.00063\n",
      "\n",
      "Epoch 192: val_loss did not improve from 0.00063\n",
      "\n",
      "Epoch 193: val_loss did not improve from 0.00063\n",
      "\n",
      "Epoch 194: val_loss did not improve from 0.00063\n",
      "\n",
      "Epoch 195: val_loss did not improve from 0.00063\n",
      "\n",
      "Epoch 196: val_loss did not improve from 0.00063\n",
      "\n",
      "Epoch 197: val_loss did not improve from 0.00063\n",
      "\n",
      "Epoch 198: val_loss did not improve from 0.00063\n",
      "\n",
      "Epoch 199: val_loss did not improve from 0.00063\n",
      "\n",
      "Epoch 200: val_loss did not improve from 0.00063\n",
      "\u001b[1m5/5\u001b[0m \u001b[32m━━━━━━━━━━━━━━━━━━━━\u001b[0m\u001b[37m\u001b[0m \u001b[1m1s\u001b[0m 157ms/step\n",
      "Training with params: {'timesteps': 30, 'hl': [40, 35], 'lr': 0.001, 'batch_size': 32, 'num_epochs': 250}\n"
     ]
    },
    {
     "name": "stderr",
     "output_type": "stream",
     "text": [
      "c:\\Users\\84368\\AppData\\Local\\Programs\\Python\\Python311\\Lib\\site-packages\\keras\\src\\layers\\rnn\\rnn.py:200: UserWarning: Do not pass an `input_shape`/`input_dim` argument to a layer. When using Sequential models, prefer using an `Input(shape)` object as the first layer in the model instead.\n",
      "  super().__init__(**kwargs)\n"
     ]
    },
    {
     "name": "stdout",
     "output_type": "stream",
     "text": [
      "\n",
      "Epoch 1: val_loss did not improve from 0.00063\n",
      "\n",
      "Epoch 2: val_loss did not improve from 0.00063\n",
      "\n",
      "Epoch 3: val_loss did not improve from 0.00063\n",
      "\n",
      "Epoch 4: val_loss did not improve from 0.00063\n",
      "\n",
      "Epoch 5: val_loss did not improve from 0.00063\n",
      "\n",
      "Epoch 6: val_loss did not improve from 0.00063\n",
      "\n",
      "Epoch 7: val_loss did not improve from 0.00063\n",
      "\n",
      "Epoch 8: val_loss did not improve from 0.00063\n",
      "\n",
      "Epoch 9: val_loss did not improve from 0.00063\n",
      "\n",
      "Epoch 10: val_loss did not improve from 0.00063\n",
      "\n",
      "Epoch 11: val_loss did not improve from 0.00063\n",
      "\n",
      "Epoch 12: val_loss did not improve from 0.00063\n",
      "\n",
      "Epoch 13: val_loss did not improve from 0.00063\n",
      "\n",
      "Epoch 14: val_loss did not improve from 0.00063\n",
      "\n",
      "Epoch 15: val_loss did not improve from 0.00063\n",
      "\n",
      "Epoch 16: val_loss did not improve from 0.00063\n",
      "\n",
      "Epoch 17: val_loss did not improve from 0.00063\n",
      "\n",
      "Epoch 18: val_loss did not improve from 0.00063\n",
      "\n",
      "Epoch 19: val_loss did not improve from 0.00063\n",
      "\n",
      "Epoch 20: val_loss did not improve from 0.00063\n",
      "\n",
      "Epoch 21: val_loss did not improve from 0.00063\n",
      "\n",
      "Epoch 22: val_loss did not improve from 0.00063\n",
      "\n",
      "Epoch 23: val_loss did not improve from 0.00063\n",
      "\n",
      "Epoch 24: val_loss did not improve from 0.00063\n",
      "\n",
      "Epoch 25: val_loss did not improve from 0.00063\n",
      "\n",
      "Epoch 26: val_loss did not improve from 0.00063\n",
      "\n",
      "Epoch 27: val_loss did not improve from 0.00063\n",
      "\n",
      "Epoch 28: val_loss did not improve from 0.00063\n",
      "\n",
      "Epoch 29: val_loss did not improve from 0.00063\n",
      "\n",
      "Epoch 30: val_loss did not improve from 0.00063\n",
      "\n",
      "Epoch 31: val_loss did not improve from 0.00063\n",
      "\n",
      "Epoch 32: val_loss did not improve from 0.00063\n",
      "\n",
      "Epoch 33: val_loss did not improve from 0.00063\n",
      "\n",
      "Epoch 34: val_loss did not improve from 0.00063\n",
      "\n",
      "Epoch 35: val_loss did not improve from 0.00063\n",
      "\n",
      "Epoch 36: val_loss did not improve from 0.00063\n",
      "\n",
      "Epoch 37: val_loss did not improve from 0.00063\n",
      "\n",
      "Epoch 38: val_loss did not improve from 0.00063\n",
      "\n",
      "Epoch 39: val_loss did not improve from 0.00063\n",
      "\n",
      "Epoch 40: val_loss did not improve from 0.00063\n",
      "\n",
      "Epoch 41: val_loss did not improve from 0.00063\n",
      "\n",
      "Epoch 42: val_loss did not improve from 0.00063\n",
      "\n",
      "Epoch 43: val_loss did not improve from 0.00063\n",
      "\n",
      "Epoch 44: val_loss did not improve from 0.00063\n",
      "\n",
      "Epoch 45: val_loss did not improve from 0.00063\n",
      "\n",
      "Epoch 46: val_loss did not improve from 0.00063\n",
      "\n",
      "Epoch 47: val_loss did not improve from 0.00063\n",
      "\n",
      "Epoch 48: val_loss did not improve from 0.00063\n",
      "\n",
      "Epoch 49: val_loss did not improve from 0.00063\n",
      "\n",
      "Epoch 50: val_loss did not improve from 0.00063\n",
      "\n",
      "Epoch 51: val_loss did not improve from 0.00063\n",
      "\n",
      "Epoch 52: val_loss did not improve from 0.00063\n",
      "\n",
      "Epoch 53: val_loss did not improve from 0.00063\n",
      "\n",
      "Epoch 54: val_loss did not improve from 0.00063\n",
      "\n",
      "Epoch 55: val_loss did not improve from 0.00063\n",
      "\n",
      "Epoch 56: val_loss did not improve from 0.00063\n",
      "\n",
      "Epoch 57: val_loss did not improve from 0.00063\n",
      "\n",
      "Epoch 58: val_loss did not improve from 0.00063\n",
      "\n",
      "Epoch 59: val_loss did not improve from 0.00063\n",
      "\n",
      "Epoch 60: val_loss did not improve from 0.00063\n",
      "\n",
      "Epoch 61: val_loss did not improve from 0.00063\n",
      "\n",
      "Epoch 62: val_loss did not improve from 0.00063\n",
      "\n",
      "Epoch 63: val_loss did not improve from 0.00063\n",
      "\n",
      "Epoch 64: val_loss did not improve from 0.00063\n",
      "\n",
      "Epoch 65: val_loss did not improve from 0.00063\n",
      "\n",
      "Epoch 66: val_loss did not improve from 0.00063\n",
      "\n",
      "Epoch 67: val_loss did not improve from 0.00063\n",
      "\n",
      "Epoch 68: val_loss did not improve from 0.00063\n",
      "\n",
      "Epoch 69: val_loss did not improve from 0.00063\n",
      "\n",
      "Epoch 70: val_loss did not improve from 0.00063\n",
      "\n",
      "Epoch 71: val_loss did not improve from 0.00063\n",
      "\n",
      "Epoch 72: val_loss did not improve from 0.00063\n",
      "\n",
      "Epoch 73: val_loss did not improve from 0.00063\n",
      "\n",
      "Epoch 74: val_loss did not improve from 0.00063\n",
      "\n",
      "Epoch 75: val_loss did not improve from 0.00063\n",
      "\n",
      "Epoch 76: val_loss did not improve from 0.00063\n",
      "\n",
      "Epoch 77: val_loss did not improve from 0.00063\n",
      "\n",
      "Epoch 78: val_loss did not improve from 0.00063\n",
      "\n",
      "Epoch 79: val_loss did not improve from 0.00063\n",
      "\n",
      "Epoch 80: val_loss did not improve from 0.00063\n",
      "\n",
      "Epoch 81: val_loss did not improve from 0.00063\n",
      "\n",
      "Epoch 82: val_loss did not improve from 0.00063\n",
      "\n",
      "Epoch 83: val_loss did not improve from 0.00063\n",
      "\n",
      "Epoch 84: val_loss did not improve from 0.00063\n",
      "\n",
      "Epoch 85: val_loss did not improve from 0.00063\n",
      "\n",
      "Epoch 86: val_loss did not improve from 0.00063\n",
      "\n",
      "Epoch 87: val_loss did not improve from 0.00063\n",
      "\n",
      "Epoch 88: val_loss did not improve from 0.00063\n",
      "\n",
      "Epoch 89: val_loss did not improve from 0.00063\n",
      "\n",
      "Epoch 90: val_loss did not improve from 0.00063\n",
      "\n",
      "Epoch 91: val_loss did not improve from 0.00063\n",
      "\n",
      "Epoch 92: val_loss did not improve from 0.00063\n",
      "\n",
      "Epoch 93: val_loss did not improve from 0.00063\n",
      "\n",
      "Epoch 94: val_loss did not improve from 0.00063\n",
      "\n",
      "Epoch 95: val_loss did not improve from 0.00063\n",
      "\n",
      "Epoch 96: val_loss did not improve from 0.00063\n",
      "\n",
      "Epoch 97: val_loss did not improve from 0.00063\n",
      "\n",
      "Epoch 98: val_loss improved from 0.00063 to 0.00059, saving model to 10Var_szc_lstm.h5\n"
     ]
    },
    {
     "name": "stderr",
     "output_type": "stream",
     "text": [
      "WARNING:absl:You are saving your model as an HDF5 file via `model.save()` or `keras.saving.save_model(model)`. This file format is considered legacy. We recommend using instead the native Keras format, e.g. `model.save('my_model.keras')` or `keras.saving.save_model(model, 'my_model.keras')`. \n"
     ]
    },
    {
     "name": "stdout",
     "output_type": "stream",
     "text": [
      "\n",
      "Epoch 99: val_loss improved from 0.00059 to 0.00058, saving model to 10Var_szc_lstm.h5\n"
     ]
    },
    {
     "name": "stderr",
     "output_type": "stream",
     "text": [
      "WARNING:absl:You are saving your model as an HDF5 file via `model.save()` or `keras.saving.save_model(model)`. This file format is considered legacy. We recommend using instead the native Keras format, e.g. `model.save('my_model.keras')` or `keras.saving.save_model(model, 'my_model.keras')`. \n"
     ]
    },
    {
     "name": "stdout",
     "output_type": "stream",
     "text": [
      "\n",
      "Epoch 100: val_loss did not improve from 0.00058\n",
      "\n",
      "Epoch 101: val_loss did not improve from 0.00058\n",
      "\n",
      "Epoch 102: val_loss did not improve from 0.00058\n",
      "\n",
      "Epoch 103: val_loss did not improve from 0.00058\n",
      "\n",
      "Epoch 104: val_loss did not improve from 0.00058\n",
      "\n",
      "Epoch 105: val_loss did not improve from 0.00058\n",
      "\n",
      "Epoch 106: val_loss did not improve from 0.00058\n",
      "\n",
      "Epoch 107: val_loss did not improve from 0.00058\n",
      "\n",
      "Epoch 108: val_loss did not improve from 0.00058\n",
      "\n",
      "Epoch 109: val_loss did not improve from 0.00058\n",
      "\n",
      "Epoch 110: val_loss did not improve from 0.00058\n",
      "\n",
      "Epoch 111: val_loss improved from 0.00058 to 0.00056, saving model to 10Var_szc_lstm.h5\n"
     ]
    },
    {
     "name": "stderr",
     "output_type": "stream",
     "text": [
      "WARNING:absl:You are saving your model as an HDF5 file via `model.save()` or `keras.saving.save_model(model)`. This file format is considered legacy. We recommend using instead the native Keras format, e.g. `model.save('my_model.keras')` or `keras.saving.save_model(model, 'my_model.keras')`. \n"
     ]
    },
    {
     "name": "stdout",
     "output_type": "stream",
     "text": [
      "\n",
      "Epoch 112: val_loss did not improve from 0.00056\n",
      "\n",
      "Epoch 113: val_loss did not improve from 0.00056\n",
      "\n",
      "Epoch 114: val_loss did not improve from 0.00056\n",
      "\n",
      "Epoch 115: val_loss did not improve from 0.00056\n",
      "\n",
      "Epoch 116: val_loss did not improve from 0.00056\n",
      "\n",
      "Epoch 117: val_loss did not improve from 0.00056\n",
      "\n",
      "Epoch 118: val_loss did not improve from 0.00056\n",
      "\n",
      "Epoch 119: val_loss did not improve from 0.00056\n",
      "\n",
      "Epoch 120: val_loss did not improve from 0.00056\n",
      "\n",
      "Epoch 121: val_loss did not improve from 0.00056\n",
      "\n",
      "Epoch 122: val_loss did not improve from 0.00056\n",
      "\n",
      "Epoch 123: val_loss did not improve from 0.00056\n",
      "\n",
      "Epoch 124: val_loss did not improve from 0.00056\n",
      "\n",
      "Epoch 125: val_loss did not improve from 0.00056\n",
      "\n",
      "Epoch 126: val_loss did not improve from 0.00056\n",
      "\n",
      "Epoch 127: val_loss did not improve from 0.00056\n",
      "\n",
      "Epoch 128: val_loss did not improve from 0.00056\n",
      "\n",
      "Epoch 129: val_loss improved from 0.00056 to 0.00052, saving model to 10Var_szc_lstm.h5\n"
     ]
    },
    {
     "name": "stderr",
     "output_type": "stream",
     "text": [
      "WARNING:absl:You are saving your model as an HDF5 file via `model.save()` or `keras.saving.save_model(model)`. This file format is considered legacy. We recommend using instead the native Keras format, e.g. `model.save('my_model.keras')` or `keras.saving.save_model(model, 'my_model.keras')`. \n"
     ]
    },
    {
     "name": "stdout",
     "output_type": "stream",
     "text": [
      "\n",
      "Epoch 130: val_loss did not improve from 0.00052\n",
      "\n",
      "Epoch 131: val_loss did not improve from 0.00052\n",
      "\n",
      "Epoch 132: val_loss did not improve from 0.00052\n",
      "\n",
      "Epoch 133: val_loss did not improve from 0.00052\n",
      "\n",
      "Epoch 134: val_loss did not improve from 0.00052\n",
      "\n",
      "Epoch 135: val_loss did not improve from 0.00052\n",
      "\n",
      "Epoch 136: val_loss did not improve from 0.00052\n",
      "\n",
      "Epoch 137: val_loss did not improve from 0.00052\n",
      "\n",
      "Epoch 138: val_loss did not improve from 0.00052\n",
      "\n",
      "Epoch 139: val_loss did not improve from 0.00052\n",
      "\n",
      "Epoch 140: val_loss did not improve from 0.00052\n",
      "\n",
      "Epoch 141: val_loss did not improve from 0.00052\n",
      "\n",
      "Epoch 142: val_loss did not improve from 0.00052\n",
      "\n",
      "Epoch 143: val_loss did not improve from 0.00052\n",
      "\n",
      "Epoch 144: val_loss did not improve from 0.00052\n",
      "\n",
      "Epoch 145: val_loss did not improve from 0.00052\n",
      "\n",
      "Epoch 146: val_loss did not improve from 0.00052\n",
      "\n",
      "Epoch 147: val_loss did not improve from 0.00052\n",
      "\n",
      "Epoch 148: val_loss improved from 0.00052 to 0.00047, saving model to 10Var_szc_lstm.h5\n"
     ]
    },
    {
     "name": "stderr",
     "output_type": "stream",
     "text": [
      "WARNING:absl:You are saving your model as an HDF5 file via `model.save()` or `keras.saving.save_model(model)`. This file format is considered legacy. We recommend using instead the native Keras format, e.g. `model.save('my_model.keras')` or `keras.saving.save_model(model, 'my_model.keras')`. \n"
     ]
    },
    {
     "name": "stdout",
     "output_type": "stream",
     "text": [
      "\n",
      "Epoch 149: val_loss did not improve from 0.00047\n",
      "\n",
      "Epoch 150: val_loss did not improve from 0.00047\n",
      "\n",
      "Epoch 151: val_loss did not improve from 0.00047\n",
      "\n",
      "Epoch 152: val_loss did not improve from 0.00047\n",
      "\n",
      "Epoch 153: val_loss did not improve from 0.00047\n",
      "\n",
      "Epoch 154: val_loss did not improve from 0.00047\n",
      "\n",
      "Epoch 155: val_loss did not improve from 0.00047\n",
      "\n",
      "Epoch 156: val_loss did not improve from 0.00047\n",
      "\n",
      "Epoch 157: val_loss did not improve from 0.00047\n",
      "\n",
      "Epoch 158: val_loss did not improve from 0.00047\n",
      "\n",
      "Epoch 159: val_loss did not improve from 0.00047\n",
      "\n",
      "Epoch 160: val_loss did not improve from 0.00047\n",
      "\n",
      "Epoch 161: val_loss did not improve from 0.00047\n",
      "\n",
      "Epoch 162: val_loss did not improve from 0.00047\n",
      "\n",
      "Epoch 163: val_loss did not improve from 0.00047\n",
      "\n",
      "Epoch 164: val_loss did not improve from 0.00047\n",
      "\n",
      "Epoch 165: val_loss did not improve from 0.00047\n",
      "\n",
      "Epoch 166: val_loss did not improve from 0.00047\n",
      "\n",
      "Epoch 167: val_loss did not improve from 0.00047\n",
      "\n",
      "Epoch 168: val_loss did not improve from 0.00047\n",
      "\n",
      "Epoch 169: val_loss did not improve from 0.00047\n",
      "\n",
      "Epoch 170: val_loss did not improve from 0.00047\n",
      "\n",
      "Epoch 171: val_loss did not improve from 0.00047\n",
      "\n",
      "Epoch 172: val_loss did not improve from 0.00047\n",
      "\n",
      "Epoch 173: val_loss did not improve from 0.00047\n",
      "\n",
      "Epoch 174: val_loss did not improve from 0.00047\n",
      "\n",
      "Epoch 175: val_loss did not improve from 0.00047\n",
      "\n",
      "Epoch 176: val_loss did not improve from 0.00047\n",
      "\n",
      "Epoch 177: val_loss did not improve from 0.00047\n",
      "\n",
      "Epoch 178: val_loss did not improve from 0.00047\n",
      "\n",
      "Epoch 179: val_loss did not improve from 0.00047\n",
      "\n",
      "Epoch 180: val_loss did not improve from 0.00047\n",
      "\n",
      "Epoch 181: val_loss did not improve from 0.00047\n",
      "\n",
      "Epoch 182: val_loss did not improve from 0.00047\n",
      "\n",
      "Epoch 183: val_loss did not improve from 0.00047\n",
      "\n",
      "Epoch 184: val_loss did not improve from 0.00047\n",
      "\n",
      "Epoch 185: val_loss did not improve from 0.00047\n",
      "\n",
      "Epoch 186: val_loss did not improve from 0.00047\n",
      "\n",
      "Epoch 187: val_loss did not improve from 0.00047\n",
      "\n",
      "Epoch 188: val_loss did not improve from 0.00047\n",
      "\n",
      "Epoch 189: val_loss did not improve from 0.00047\n",
      "\n",
      "Epoch 190: val_loss did not improve from 0.00047\n",
      "\n",
      "Epoch 191: val_loss did not improve from 0.00047\n",
      "\n",
      "Epoch 192: val_loss did not improve from 0.00047\n",
      "\n",
      "Epoch 193: val_loss did not improve from 0.00047\n",
      "\n",
      "Epoch 194: val_loss did not improve from 0.00047\n",
      "\n",
      "Epoch 195: val_loss did not improve from 0.00047\n",
      "\n",
      "Epoch 196: val_loss did not improve from 0.00047\n",
      "\n",
      "Epoch 197: val_loss did not improve from 0.00047\n",
      "\n",
      "Epoch 198: val_loss did not improve from 0.00047\n",
      "\n",
      "Epoch 199: val_loss did not improve from 0.00047\n",
      "\n",
      "Epoch 200: val_loss did not improve from 0.00047\n",
      "\n",
      "Epoch 201: val_loss improved from 0.00047 to 0.00039, saving model to 10Var_szc_lstm.h5\n"
     ]
    },
    {
     "name": "stderr",
     "output_type": "stream",
     "text": [
      "WARNING:absl:You are saving your model as an HDF5 file via `model.save()` or `keras.saving.save_model(model)`. This file format is considered legacy. We recommend using instead the native Keras format, e.g. `model.save('my_model.keras')` or `keras.saving.save_model(model, 'my_model.keras')`. \n"
     ]
    },
    {
     "name": "stdout",
     "output_type": "stream",
     "text": [
      "\n",
      "Epoch 202: val_loss did not improve from 0.00039\n",
      "\n",
      "Epoch 203: val_loss did not improve from 0.00039\n",
      "\n",
      "Epoch 204: val_loss did not improve from 0.00039\n",
      "\n",
      "Epoch 205: val_loss did not improve from 0.00039\n",
      "\n",
      "Epoch 206: val_loss did not improve from 0.00039\n",
      "\n",
      "Epoch 207: val_loss did not improve from 0.00039\n",
      "\n",
      "Epoch 208: val_loss did not improve from 0.00039\n",
      "\n",
      "Epoch 209: val_loss improved from 0.00039 to 0.00034, saving model to 10Var_szc_lstm.h5\n"
     ]
    },
    {
     "name": "stderr",
     "output_type": "stream",
     "text": [
      "WARNING:absl:You are saving your model as an HDF5 file via `model.save()` or `keras.saving.save_model(model)`. This file format is considered legacy. We recommend using instead the native Keras format, e.g. `model.save('my_model.keras')` or `keras.saving.save_model(model, 'my_model.keras')`. \n"
     ]
    },
    {
     "name": "stdout",
     "output_type": "stream",
     "text": [
      "\n",
      "Epoch 210: val_loss did not improve from 0.00034\n",
      "\n",
      "Epoch 211: val_loss did not improve from 0.00034\n",
      "\n",
      "Epoch 212: val_loss did not improve from 0.00034\n",
      "\n",
      "Epoch 213: val_loss did not improve from 0.00034\n",
      "\n",
      "Epoch 214: val_loss did not improve from 0.00034\n",
      "\n",
      "Epoch 215: val_loss did not improve from 0.00034\n",
      "\n",
      "Epoch 216: val_loss did not improve from 0.00034\n",
      "\n",
      "Epoch 217: val_loss did not improve from 0.00034\n",
      "\n",
      "Epoch 218: val_loss did not improve from 0.00034\n",
      "\n",
      "Epoch 219: val_loss did not improve from 0.00034\n",
      "\n",
      "Epoch 220: val_loss did not improve from 0.00034\n",
      "\n",
      "Epoch 221: val_loss did not improve from 0.00034\n",
      "\n",
      "Epoch 222: val_loss did not improve from 0.00034\n",
      "\n",
      "Epoch 223: val_loss did not improve from 0.00034\n",
      "\n",
      "Epoch 224: val_loss improved from 0.00034 to 0.00032, saving model to 10Var_szc_lstm.h5\n"
     ]
    },
    {
     "name": "stderr",
     "output_type": "stream",
     "text": [
      "WARNING:absl:You are saving your model as an HDF5 file via `model.save()` or `keras.saving.save_model(model)`. This file format is considered legacy. We recommend using instead the native Keras format, e.g. `model.save('my_model.keras')` or `keras.saving.save_model(model, 'my_model.keras')`. \n"
     ]
    },
    {
     "name": "stdout",
     "output_type": "stream",
     "text": [
      "\n",
      "Epoch 225: val_loss did not improve from 0.00032\n",
      "\n",
      "Epoch 226: val_loss did not improve from 0.00032\n",
      "\n",
      "Epoch 227: val_loss did not improve from 0.00032\n",
      "\n",
      "Epoch 228: val_loss did not improve from 0.00032\n",
      "\n",
      "Epoch 229: val_loss did not improve from 0.00032\n",
      "\n",
      "Epoch 230: val_loss did not improve from 0.00032\n",
      "\n",
      "Epoch 231: val_loss did not improve from 0.00032\n",
      "\n",
      "Epoch 232: val_loss did not improve from 0.00032\n",
      "\n",
      "Epoch 233: val_loss did not improve from 0.00032\n",
      "\n",
      "Epoch 234: val_loss did not improve from 0.00032\n",
      "\n",
      "Epoch 235: val_loss did not improve from 0.00032\n",
      "\n",
      "Epoch 236: val_loss did not improve from 0.00032\n",
      "\n",
      "Epoch 237: val_loss did not improve from 0.00032\n",
      "\n",
      "Epoch 238: val_loss improved from 0.00032 to 0.00032, saving model to 10Var_szc_lstm.h5\n"
     ]
    },
    {
     "name": "stderr",
     "output_type": "stream",
     "text": [
      "WARNING:absl:You are saving your model as an HDF5 file via `model.save()` or `keras.saving.save_model(model)`. This file format is considered legacy. We recommend using instead the native Keras format, e.g. `model.save('my_model.keras')` or `keras.saving.save_model(model, 'my_model.keras')`. \n"
     ]
    },
    {
     "name": "stdout",
     "output_type": "stream",
     "text": [
      "\n",
      "Epoch 239: val_loss did not improve from 0.00032\n",
      "\n",
      "Epoch 240: val_loss did not improve from 0.00032\n",
      "\n",
      "Epoch 241: val_loss did not improve from 0.00032\n",
      "\n",
      "Epoch 242: val_loss did not improve from 0.00032\n",
      "\n",
      "Epoch 243: val_loss did not improve from 0.00032\n",
      "\n",
      "Epoch 244: val_loss did not improve from 0.00032\n",
      "\n",
      "Epoch 245: val_loss did not improve from 0.00032\n",
      "\n",
      "Epoch 246: val_loss did not improve from 0.00032\n",
      "\n",
      "Epoch 247: val_loss did not improve from 0.00032\n",
      "\n",
      "Epoch 248: val_loss did not improve from 0.00032\n",
      "\n",
      "Epoch 249: val_loss did not improve from 0.00032\n",
      "\n",
      "Epoch 250: val_loss did not improve from 0.00032\n",
      "\u001b[1m5/5\u001b[0m \u001b[32m━━━━━━━━━━━━━━━━━━━━\u001b[0m\u001b[37m\u001b[0m \u001b[1m2s\u001b[0m 318ms/step\n",
      "Training with params: {'timesteps': 30, 'hl': [40, 35], 'lr': 0.001, 'batch_size': 64, 'num_epochs': 200}\n"
     ]
    },
    {
     "name": "stderr",
     "output_type": "stream",
     "text": [
      "c:\\Users\\84368\\AppData\\Local\\Programs\\Python\\Python311\\Lib\\site-packages\\keras\\src\\layers\\rnn\\rnn.py:200: UserWarning: Do not pass an `input_shape`/`input_dim` argument to a layer. When using Sequential models, prefer using an `Input(shape)` object as the first layer in the model instead.\n",
      "  super().__init__(**kwargs)\n"
     ]
    },
    {
     "name": "stdout",
     "output_type": "stream",
     "text": [
      "\n",
      "Epoch 1: val_loss did not improve from 0.00032\n",
      "\n",
      "Epoch 2: val_loss did not improve from 0.00032\n",
      "\n",
      "Epoch 3: val_loss did not improve from 0.00032\n",
      "\n",
      "Epoch 4: val_loss did not improve from 0.00032\n",
      "\n",
      "Epoch 5: val_loss did not improve from 0.00032\n",
      "\n",
      "Epoch 6: val_loss did not improve from 0.00032\n",
      "\n",
      "Epoch 7: val_loss did not improve from 0.00032\n",
      "\n",
      "Epoch 8: val_loss did not improve from 0.00032\n",
      "\n",
      "Epoch 9: val_loss did not improve from 0.00032\n",
      "\n",
      "Epoch 10: val_loss did not improve from 0.00032\n",
      "\n",
      "Epoch 11: val_loss did not improve from 0.00032\n",
      "\n",
      "Epoch 12: val_loss did not improve from 0.00032\n",
      "\n",
      "Epoch 13: val_loss did not improve from 0.00032\n",
      "\n",
      "Epoch 14: val_loss did not improve from 0.00032\n",
      "\n",
      "Epoch 15: val_loss did not improve from 0.00032\n",
      "\n",
      "Epoch 16: val_loss did not improve from 0.00032\n",
      "\n",
      "Epoch 17: val_loss did not improve from 0.00032\n",
      "\n",
      "Epoch 18: val_loss did not improve from 0.00032\n",
      "\n",
      "Epoch 19: val_loss did not improve from 0.00032\n",
      "\n",
      "Epoch 20: val_loss did not improve from 0.00032\n",
      "\n",
      "Epoch 21: val_loss did not improve from 0.00032\n",
      "\n",
      "Epoch 22: val_loss did not improve from 0.00032\n",
      "\n",
      "Epoch 23: val_loss did not improve from 0.00032\n",
      "\n",
      "Epoch 24: val_loss did not improve from 0.00032\n",
      "\n",
      "Epoch 25: val_loss did not improve from 0.00032\n",
      "\n",
      "Epoch 26: val_loss did not improve from 0.00032\n",
      "\n",
      "Epoch 27: val_loss did not improve from 0.00032\n",
      "\n",
      "Epoch 28: val_loss did not improve from 0.00032\n",
      "\n",
      "Epoch 29: val_loss did not improve from 0.00032\n",
      "\n",
      "Epoch 30: val_loss did not improve from 0.00032\n",
      "\n",
      "Epoch 31: val_loss did not improve from 0.00032\n",
      "\n",
      "Epoch 32: val_loss did not improve from 0.00032\n",
      "\n",
      "Epoch 33: val_loss did not improve from 0.00032\n",
      "\n",
      "Epoch 34: val_loss did not improve from 0.00032\n",
      "\n",
      "Epoch 35: val_loss did not improve from 0.00032\n",
      "\n",
      "Epoch 36: val_loss did not improve from 0.00032\n",
      "\n",
      "Epoch 37: val_loss did not improve from 0.00032\n",
      "\n",
      "Epoch 38: val_loss did not improve from 0.00032\n",
      "\n",
      "Epoch 39: val_loss did not improve from 0.00032\n",
      "\n",
      "Epoch 40: val_loss did not improve from 0.00032\n",
      "\n",
      "Epoch 41: val_loss did not improve from 0.00032\n",
      "\n",
      "Epoch 42: val_loss did not improve from 0.00032\n",
      "\n",
      "Epoch 43: val_loss did not improve from 0.00032\n",
      "\n",
      "Epoch 44: val_loss did not improve from 0.00032\n",
      "\n",
      "Epoch 45: val_loss did not improve from 0.00032\n",
      "\n",
      "Epoch 46: val_loss did not improve from 0.00032\n",
      "\n",
      "Epoch 47: val_loss did not improve from 0.00032\n",
      "\n",
      "Epoch 48: val_loss did not improve from 0.00032\n",
      "\n",
      "Epoch 49: val_loss did not improve from 0.00032\n",
      "\n",
      "Epoch 50: val_loss did not improve from 0.00032\n",
      "\n",
      "Epoch 51: val_loss did not improve from 0.00032\n",
      "\n",
      "Epoch 52: val_loss did not improve from 0.00032\n",
      "\n",
      "Epoch 53: val_loss did not improve from 0.00032\n",
      "\n",
      "Epoch 54: val_loss did not improve from 0.00032\n",
      "\n",
      "Epoch 55: val_loss did not improve from 0.00032\n",
      "\n",
      "Epoch 56: val_loss did not improve from 0.00032\n",
      "\n",
      "Epoch 57: val_loss did not improve from 0.00032\n",
      "\n",
      "Epoch 58: val_loss did not improve from 0.00032\n",
      "\n",
      "Epoch 59: val_loss did not improve from 0.00032\n",
      "\n",
      "Epoch 60: val_loss did not improve from 0.00032\n",
      "\n",
      "Epoch 61: val_loss did not improve from 0.00032\n",
      "\n",
      "Epoch 62: val_loss did not improve from 0.00032\n",
      "\n",
      "Epoch 63: val_loss did not improve from 0.00032\n",
      "\n",
      "Epoch 64: val_loss did not improve from 0.00032\n",
      "\n",
      "Epoch 65: val_loss did not improve from 0.00032\n",
      "\n",
      "Epoch 66: val_loss did not improve from 0.00032\n",
      "\n",
      "Epoch 67: val_loss did not improve from 0.00032\n",
      "\n",
      "Epoch 68: val_loss did not improve from 0.00032\n",
      "\n",
      "Epoch 69: val_loss did not improve from 0.00032\n",
      "\n",
      "Epoch 70: val_loss did not improve from 0.00032\n",
      "\n",
      "Epoch 71: val_loss did not improve from 0.00032\n",
      "\n",
      "Epoch 72: val_loss did not improve from 0.00032\n",
      "\n",
      "Epoch 73: val_loss did not improve from 0.00032\n",
      "\n",
      "Epoch 74: val_loss did not improve from 0.00032\n",
      "\n",
      "Epoch 75: val_loss did not improve from 0.00032\n",
      "\n",
      "Epoch 76: val_loss did not improve from 0.00032\n",
      "\n",
      "Epoch 77: val_loss did not improve from 0.00032\n",
      "\n",
      "Epoch 78: val_loss did not improve from 0.00032\n",
      "\n",
      "Epoch 79: val_loss did not improve from 0.00032\n",
      "\n",
      "Epoch 80: val_loss did not improve from 0.00032\n",
      "\n",
      "Epoch 81: val_loss did not improve from 0.00032\n",
      "\n",
      "Epoch 82: val_loss did not improve from 0.00032\n",
      "Epoch 82: early stopping\n",
      "\u001b[1m5/5\u001b[0m \u001b[32m━━━━━━━━━━━━━━━━━━━━\u001b[0m\u001b[37m\u001b[0m \u001b[1m2s\u001b[0m 194ms/step\n",
      "Training with params: {'timesteps': 30, 'hl': [40, 35], 'lr': 0.001, 'batch_size': 64, 'num_epochs': 250}\n"
     ]
    },
    {
     "name": "stderr",
     "output_type": "stream",
     "text": [
      "c:\\Users\\84368\\AppData\\Local\\Programs\\Python\\Python311\\Lib\\site-packages\\keras\\src\\layers\\rnn\\rnn.py:200: UserWarning: Do not pass an `input_shape`/`input_dim` argument to a layer. When using Sequential models, prefer using an `Input(shape)` object as the first layer in the model instead.\n",
      "  super().__init__(**kwargs)\n"
     ]
    },
    {
     "name": "stdout",
     "output_type": "stream",
     "text": [
      "\n",
      "Epoch 1: val_loss did not improve from 0.00032\n",
      "\n",
      "Epoch 2: val_loss did not improve from 0.00032\n",
      "\n",
      "Epoch 3: val_loss did not improve from 0.00032\n",
      "\n",
      "Epoch 4: val_loss did not improve from 0.00032\n",
      "\n",
      "Epoch 5: val_loss did not improve from 0.00032\n",
      "\n",
      "Epoch 6: val_loss did not improve from 0.00032\n",
      "\n",
      "Epoch 7: val_loss did not improve from 0.00032\n",
      "\n",
      "Epoch 8: val_loss did not improve from 0.00032\n",
      "\n",
      "Epoch 9: val_loss did not improve from 0.00032\n",
      "\n",
      "Epoch 10: val_loss did not improve from 0.00032\n",
      "\n",
      "Epoch 11: val_loss did not improve from 0.00032\n",
      "\n",
      "Epoch 12: val_loss did not improve from 0.00032\n",
      "\n",
      "Epoch 13: val_loss did not improve from 0.00032\n",
      "\n",
      "Epoch 14: val_loss did not improve from 0.00032\n",
      "\n",
      "Epoch 15: val_loss did not improve from 0.00032\n",
      "\n",
      "Epoch 16: val_loss did not improve from 0.00032\n",
      "\n",
      "Epoch 17: val_loss did not improve from 0.00032\n",
      "\n",
      "Epoch 18: val_loss did not improve from 0.00032\n",
      "\n",
      "Epoch 19: val_loss did not improve from 0.00032\n",
      "\n",
      "Epoch 20: val_loss did not improve from 0.00032\n",
      "\n",
      "Epoch 21: val_loss did not improve from 0.00032\n",
      "\n",
      "Epoch 22: val_loss did not improve from 0.00032\n",
      "\n",
      "Epoch 23: val_loss did not improve from 0.00032\n",
      "\n",
      "Epoch 24: val_loss did not improve from 0.00032\n",
      "\n",
      "Epoch 25: val_loss did not improve from 0.00032\n",
      "\n",
      "Epoch 26: val_loss did not improve from 0.00032\n",
      "\n",
      "Epoch 27: val_loss did not improve from 0.00032\n",
      "\n",
      "Epoch 28: val_loss did not improve from 0.00032\n",
      "\n",
      "Epoch 29: val_loss did not improve from 0.00032\n",
      "\n",
      "Epoch 30: val_loss did not improve from 0.00032\n",
      "\n",
      "Epoch 31: val_loss did not improve from 0.00032\n",
      "\n",
      "Epoch 32: val_loss did not improve from 0.00032\n",
      "\n",
      "Epoch 33: val_loss did not improve from 0.00032\n",
      "\n",
      "Epoch 34: val_loss did not improve from 0.00032\n",
      "\n",
      "Epoch 35: val_loss did not improve from 0.00032\n",
      "\n",
      "Epoch 36: val_loss did not improve from 0.00032\n",
      "\n",
      "Epoch 37: val_loss did not improve from 0.00032\n",
      "\n",
      "Epoch 38: val_loss did not improve from 0.00032\n",
      "\n",
      "Epoch 39: val_loss did not improve from 0.00032\n",
      "\n",
      "Epoch 40: val_loss did not improve from 0.00032\n",
      "\n",
      "Epoch 41: val_loss did not improve from 0.00032\n",
      "\n",
      "Epoch 42: val_loss did not improve from 0.00032\n",
      "\n",
      "Epoch 43: val_loss did not improve from 0.00032\n",
      "\n",
      "Epoch 44: val_loss did not improve from 0.00032\n",
      "\n",
      "Epoch 45: val_loss did not improve from 0.00032\n",
      "\n",
      "Epoch 46: val_loss did not improve from 0.00032\n",
      "\n",
      "Epoch 47: val_loss did not improve from 0.00032\n",
      "\n",
      "Epoch 48: val_loss did not improve from 0.00032\n",
      "\n",
      "Epoch 49: val_loss did not improve from 0.00032\n",
      "\n",
      "Epoch 50: val_loss did not improve from 0.00032\n",
      "\n",
      "Epoch 51: val_loss did not improve from 0.00032\n",
      "\n",
      "Epoch 52: val_loss did not improve from 0.00032\n",
      "\n",
      "Epoch 53: val_loss did not improve from 0.00032\n",
      "\n",
      "Epoch 54: val_loss did not improve from 0.00032\n",
      "\n",
      "Epoch 55: val_loss did not improve from 0.00032\n",
      "\n",
      "Epoch 56: val_loss did not improve from 0.00032\n",
      "\n",
      "Epoch 57: val_loss did not improve from 0.00032\n",
      "\n",
      "Epoch 58: val_loss did not improve from 0.00032\n",
      "\n",
      "Epoch 59: val_loss did not improve from 0.00032\n",
      "\n",
      "Epoch 60: val_loss did not improve from 0.00032\n",
      "\n",
      "Epoch 61: val_loss did not improve from 0.00032\n",
      "\n",
      "Epoch 62: val_loss did not improve from 0.00032\n",
      "\n",
      "Epoch 63: val_loss did not improve from 0.00032\n",
      "\n",
      "Epoch 64: val_loss did not improve from 0.00032\n",
      "\n",
      "Epoch 65: val_loss did not improve from 0.00032\n",
      "\n",
      "Epoch 66: val_loss did not improve from 0.00032\n",
      "\n",
      "Epoch 67: val_loss did not improve from 0.00032\n",
      "\n",
      "Epoch 68: val_loss did not improve from 0.00032\n",
      "\n",
      "Epoch 69: val_loss did not improve from 0.00032\n",
      "\n",
      "Epoch 70: val_loss did not improve from 0.00032\n",
      "\n",
      "Epoch 71: val_loss did not improve from 0.00032\n",
      "\n",
      "Epoch 72: val_loss did not improve from 0.00032\n",
      "\n",
      "Epoch 73: val_loss did not improve from 0.00032\n",
      "\n",
      "Epoch 74: val_loss did not improve from 0.00032\n",
      "\n",
      "Epoch 75: val_loss did not improve from 0.00032\n",
      "\n",
      "Epoch 76: val_loss did not improve from 0.00032\n",
      "\n",
      "Epoch 77: val_loss did not improve from 0.00032\n",
      "\n",
      "Epoch 78: val_loss did not improve from 0.00032\n",
      "\n",
      "Epoch 79: val_loss did not improve from 0.00032\n",
      "\n",
      "Epoch 80: val_loss did not improve from 0.00032\n",
      "\n",
      "Epoch 81: val_loss did not improve from 0.00032\n",
      "\n",
      "Epoch 82: val_loss did not improve from 0.00032\n",
      "\n",
      "Epoch 83: val_loss did not improve from 0.00032\n",
      "\n",
      "Epoch 84: val_loss did not improve from 0.00032\n",
      "\n",
      "Epoch 85: val_loss did not improve from 0.00032\n",
      "\n",
      "Epoch 86: val_loss did not improve from 0.00032\n",
      "Epoch 86: early stopping\n",
      "\u001b[1m5/5\u001b[0m \u001b[32m━━━━━━━━━━━━━━━━━━━━\u001b[0m\u001b[37m\u001b[0m \u001b[1m1s\u001b[0m 201ms/step\n",
      "Training with params: {'timesteps': 30, 'hl': [40, 35], 'lr': 0.0001, 'batch_size': 32, 'num_epochs': 200}\n"
     ]
    },
    {
     "name": "stderr",
     "output_type": "stream",
     "text": [
      "c:\\Users\\84368\\AppData\\Local\\Programs\\Python\\Python311\\Lib\\site-packages\\keras\\src\\layers\\rnn\\rnn.py:200: UserWarning: Do not pass an `input_shape`/`input_dim` argument to a layer. When using Sequential models, prefer using an `Input(shape)` object as the first layer in the model instead.\n",
      "  super().__init__(**kwargs)\n"
     ]
    },
    {
     "name": "stdout",
     "output_type": "stream",
     "text": [
      "\n",
      "Epoch 1: val_loss did not improve from 0.00032\n",
      "\n",
      "Epoch 2: val_loss did not improve from 0.00032\n",
      "\n",
      "Epoch 3: val_loss did not improve from 0.00032\n",
      "\n",
      "Epoch 4: val_loss did not improve from 0.00032\n",
      "\n",
      "Epoch 5: val_loss did not improve from 0.00032\n",
      "\n",
      "Epoch 6: val_loss did not improve from 0.00032\n",
      "\n",
      "Epoch 7: val_loss did not improve from 0.00032\n",
      "\n",
      "Epoch 8: val_loss did not improve from 0.00032\n",
      "\n",
      "Epoch 9: val_loss did not improve from 0.00032\n",
      "\n",
      "Epoch 10: val_loss did not improve from 0.00032\n",
      "\n",
      "Epoch 11: val_loss did not improve from 0.00032\n",
      "\n",
      "Epoch 12: val_loss did not improve from 0.00032\n",
      "\n",
      "Epoch 13: val_loss did not improve from 0.00032\n",
      "\n",
      "Epoch 14: val_loss did not improve from 0.00032\n",
      "\n",
      "Epoch 15: val_loss did not improve from 0.00032\n",
      "\n",
      "Epoch 16: val_loss did not improve from 0.00032\n",
      "\n",
      "Epoch 17: val_loss did not improve from 0.00032\n",
      "\n",
      "Epoch 18: val_loss did not improve from 0.00032\n",
      "\n",
      "Epoch 19: val_loss did not improve from 0.00032\n",
      "\n",
      "Epoch 20: val_loss did not improve from 0.00032\n",
      "\n",
      "Epoch 21: val_loss did not improve from 0.00032\n",
      "\n",
      "Epoch 22: val_loss did not improve from 0.00032\n",
      "\n",
      "Epoch 23: val_loss did not improve from 0.00032\n",
      "\n",
      "Epoch 24: val_loss did not improve from 0.00032\n",
      "\n",
      "Epoch 25: val_loss did not improve from 0.00032\n",
      "\n",
      "Epoch 26: val_loss did not improve from 0.00032\n",
      "\n",
      "Epoch 27: val_loss did not improve from 0.00032\n",
      "\n",
      "Epoch 28: val_loss did not improve from 0.00032\n",
      "\n",
      "Epoch 29: val_loss did not improve from 0.00032\n",
      "\n",
      "Epoch 30: val_loss did not improve from 0.00032\n",
      "\n",
      "Epoch 31: val_loss did not improve from 0.00032\n",
      "\n",
      "Epoch 32: val_loss did not improve from 0.00032\n",
      "\n",
      "Epoch 33: val_loss did not improve from 0.00032\n",
      "\n",
      "Epoch 34: val_loss did not improve from 0.00032\n",
      "\n",
      "Epoch 35: val_loss did not improve from 0.00032\n",
      "\n",
      "Epoch 36: val_loss did not improve from 0.00032\n",
      "\n",
      "Epoch 37: val_loss did not improve from 0.00032\n",
      "\n",
      "Epoch 38: val_loss did not improve from 0.00032\n",
      "\n",
      "Epoch 39: val_loss did not improve from 0.00032\n",
      "\n",
      "Epoch 40: val_loss did not improve from 0.00032\n",
      "\n",
      "Epoch 41: val_loss did not improve from 0.00032\n",
      "\n",
      "Epoch 42: val_loss did not improve from 0.00032\n",
      "\n",
      "Epoch 43: val_loss did not improve from 0.00032\n",
      "\n",
      "Epoch 44: val_loss did not improve from 0.00032\n",
      "\n",
      "Epoch 45: val_loss did not improve from 0.00032\n",
      "\n",
      "Epoch 46: val_loss did not improve from 0.00032\n",
      "\n",
      "Epoch 47: val_loss did not improve from 0.00032\n",
      "\n",
      "Epoch 48: val_loss did not improve from 0.00032\n",
      "\n",
      "Epoch 49: val_loss did not improve from 0.00032\n",
      "\n",
      "Epoch 50: val_loss did not improve from 0.00032\n",
      "\n",
      "Epoch 51: val_loss did not improve from 0.00032\n",
      "\n",
      "Epoch 52: val_loss did not improve from 0.00032\n",
      "\n",
      "Epoch 53: val_loss did not improve from 0.00032\n",
      "\n",
      "Epoch 54: val_loss did not improve from 0.00032\n",
      "\n",
      "Epoch 55: val_loss did not improve from 0.00032\n",
      "\n",
      "Epoch 56: val_loss did not improve from 0.00032\n",
      "\n",
      "Epoch 57: val_loss did not improve from 0.00032\n",
      "\n",
      "Epoch 58: val_loss did not improve from 0.00032\n",
      "\n",
      "Epoch 59: val_loss did not improve from 0.00032\n",
      "\n",
      "Epoch 60: val_loss did not improve from 0.00032\n",
      "\n",
      "Epoch 61: val_loss did not improve from 0.00032\n",
      "\n",
      "Epoch 62: val_loss did not improve from 0.00032\n",
      "\n",
      "Epoch 63: val_loss did not improve from 0.00032\n",
      "\n",
      "Epoch 64: val_loss did not improve from 0.00032\n",
      "\n",
      "Epoch 65: val_loss did not improve from 0.00032\n",
      "\n",
      "Epoch 66: val_loss did not improve from 0.00032\n",
      "\n",
      "Epoch 67: val_loss did not improve from 0.00032\n",
      "\n",
      "Epoch 68: val_loss did not improve from 0.00032\n",
      "\n",
      "Epoch 69: val_loss did not improve from 0.00032\n",
      "\n",
      "Epoch 70: val_loss did not improve from 0.00032\n",
      "\n",
      "Epoch 71: val_loss did not improve from 0.00032\n",
      "\n",
      "Epoch 72: val_loss did not improve from 0.00032\n",
      "\n",
      "Epoch 73: val_loss did not improve from 0.00032\n",
      "\n",
      "Epoch 74: val_loss did not improve from 0.00032\n",
      "\n",
      "Epoch 75: val_loss did not improve from 0.00032\n",
      "\n",
      "Epoch 76: val_loss did not improve from 0.00032\n",
      "\n",
      "Epoch 77: val_loss did not improve from 0.00032\n",
      "\n",
      "Epoch 78: val_loss did not improve from 0.00032\n",
      "\n",
      "Epoch 79: val_loss did not improve from 0.00032\n",
      "\n",
      "Epoch 80: val_loss did not improve from 0.00032\n",
      "\n",
      "Epoch 81: val_loss did not improve from 0.00032\n",
      "\n",
      "Epoch 82: val_loss did not improve from 0.00032\n",
      "\n",
      "Epoch 83: val_loss did not improve from 0.00032\n",
      "\n",
      "Epoch 84: val_loss did not improve from 0.00032\n",
      "\n",
      "Epoch 85: val_loss did not improve from 0.00032\n",
      "\n",
      "Epoch 86: val_loss did not improve from 0.00032\n",
      "\n",
      "Epoch 87: val_loss did not improve from 0.00032\n",
      "\n",
      "Epoch 88: val_loss did not improve from 0.00032\n",
      "\n",
      "Epoch 89: val_loss did not improve from 0.00032\n",
      "\n",
      "Epoch 90: val_loss did not improve from 0.00032\n",
      "\n",
      "Epoch 91: val_loss did not improve from 0.00032\n",
      "\n",
      "Epoch 92: val_loss did not improve from 0.00032\n",
      "\n",
      "Epoch 93: val_loss did not improve from 0.00032\n",
      "\n",
      "Epoch 94: val_loss did not improve from 0.00032\n",
      "\n",
      "Epoch 95: val_loss did not improve from 0.00032\n",
      "\n",
      "Epoch 96: val_loss did not improve from 0.00032\n",
      "\n",
      "Epoch 97: val_loss did not improve from 0.00032\n",
      "\n",
      "Epoch 98: val_loss did not improve from 0.00032\n",
      "\n",
      "Epoch 99: val_loss did not improve from 0.00032\n",
      "\n",
      "Epoch 100: val_loss did not improve from 0.00032\n",
      "\n",
      "Epoch 101: val_loss did not improve from 0.00032\n",
      "\n",
      "Epoch 102: val_loss did not improve from 0.00032\n",
      "\n",
      "Epoch 103: val_loss did not improve from 0.00032\n",
      "\n",
      "Epoch 104: val_loss did not improve from 0.00032\n",
      "\n",
      "Epoch 105: val_loss did not improve from 0.00032\n",
      "\n",
      "Epoch 106: val_loss did not improve from 0.00032\n",
      "\n",
      "Epoch 107: val_loss did not improve from 0.00032\n",
      "\n",
      "Epoch 108: val_loss did not improve from 0.00032\n",
      "\n",
      "Epoch 109: val_loss did not improve from 0.00032\n",
      "\n",
      "Epoch 110: val_loss did not improve from 0.00032\n",
      "\n",
      "Epoch 111: val_loss did not improve from 0.00032\n",
      "\n",
      "Epoch 112: val_loss did not improve from 0.00032\n",
      "\n",
      "Epoch 113: val_loss did not improve from 0.00032\n",
      "\n",
      "Epoch 114: val_loss did not improve from 0.00032\n",
      "\n",
      "Epoch 115: val_loss did not improve from 0.00032\n",
      "\n",
      "Epoch 116: val_loss did not improve from 0.00032\n",
      "\n",
      "Epoch 117: val_loss did not improve from 0.00032\n",
      "\n",
      "Epoch 118: val_loss did not improve from 0.00032\n",
      "\n",
      "Epoch 119: val_loss did not improve from 0.00032\n",
      "\n",
      "Epoch 120: val_loss did not improve from 0.00032\n",
      "\n",
      "Epoch 121: val_loss did not improve from 0.00032\n",
      "\n",
      "Epoch 122: val_loss did not improve from 0.00032\n",
      "\n",
      "Epoch 123: val_loss did not improve from 0.00032\n",
      "\n",
      "Epoch 124: val_loss did not improve from 0.00032\n",
      "\n",
      "Epoch 125: val_loss did not improve from 0.00032\n",
      "\n",
      "Epoch 126: val_loss did not improve from 0.00032\n",
      "\n",
      "Epoch 127: val_loss did not improve from 0.00032\n",
      "\n",
      "Epoch 128: val_loss did not improve from 0.00032\n",
      "\n",
      "Epoch 129: val_loss did not improve from 0.00032\n",
      "\n",
      "Epoch 130: val_loss did not improve from 0.00032\n",
      "Epoch 130: early stopping\n",
      "\u001b[1m5/5\u001b[0m \u001b[32m━━━━━━━━━━━━━━━━━━━━\u001b[0m\u001b[37m\u001b[0m \u001b[1m2s\u001b[0m 214ms/step\n",
      "Training with params: {'timesteps': 30, 'hl': [40, 35], 'lr': 0.0001, 'batch_size': 32, 'num_epochs': 250}\n"
     ]
    },
    {
     "name": "stderr",
     "output_type": "stream",
     "text": [
      "c:\\Users\\84368\\AppData\\Local\\Programs\\Python\\Python311\\Lib\\site-packages\\keras\\src\\layers\\rnn\\rnn.py:200: UserWarning: Do not pass an `input_shape`/`input_dim` argument to a layer. When using Sequential models, prefer using an `Input(shape)` object as the first layer in the model instead.\n",
      "  super().__init__(**kwargs)\n"
     ]
    },
    {
     "name": "stdout",
     "output_type": "stream",
     "text": [
      "\n",
      "Epoch 1: val_loss did not improve from 0.00032\n",
      "\n",
      "Epoch 2: val_loss did not improve from 0.00032\n",
      "\n",
      "Epoch 3: val_loss did not improve from 0.00032\n",
      "\n",
      "Epoch 4: val_loss did not improve from 0.00032\n",
      "\n",
      "Epoch 5: val_loss did not improve from 0.00032\n",
      "\n",
      "Epoch 6: val_loss did not improve from 0.00032\n",
      "\n",
      "Epoch 7: val_loss did not improve from 0.00032\n",
      "\n",
      "Epoch 8: val_loss did not improve from 0.00032\n",
      "\n",
      "Epoch 9: val_loss did not improve from 0.00032\n",
      "\n",
      "Epoch 10: val_loss did not improve from 0.00032\n",
      "\n",
      "Epoch 11: val_loss did not improve from 0.00032\n",
      "\n",
      "Epoch 12: val_loss did not improve from 0.00032\n",
      "\n",
      "Epoch 13: val_loss did not improve from 0.00032\n",
      "\n",
      "Epoch 14: val_loss did not improve from 0.00032\n",
      "\n",
      "Epoch 15: val_loss did not improve from 0.00032\n",
      "\n",
      "Epoch 16: val_loss did not improve from 0.00032\n",
      "\n",
      "Epoch 17: val_loss did not improve from 0.00032\n",
      "\n",
      "Epoch 18: val_loss did not improve from 0.00032\n",
      "\n",
      "Epoch 19: val_loss did not improve from 0.00032\n",
      "\n",
      "Epoch 20: val_loss did not improve from 0.00032\n",
      "\n",
      "Epoch 21: val_loss did not improve from 0.00032\n",
      "\n",
      "Epoch 22: val_loss did not improve from 0.00032\n",
      "\n",
      "Epoch 23: val_loss did not improve from 0.00032\n",
      "\n",
      "Epoch 24: val_loss did not improve from 0.00032\n",
      "\n",
      "Epoch 25: val_loss did not improve from 0.00032\n",
      "\n",
      "Epoch 26: val_loss did not improve from 0.00032\n",
      "\n",
      "Epoch 27: val_loss did not improve from 0.00032\n",
      "\n",
      "Epoch 28: val_loss did not improve from 0.00032\n",
      "\n",
      "Epoch 29: val_loss did not improve from 0.00032\n",
      "\n",
      "Epoch 30: val_loss did not improve from 0.00032\n",
      "\n",
      "Epoch 31: val_loss did not improve from 0.00032\n",
      "\n",
      "Epoch 32: val_loss did not improve from 0.00032\n",
      "\n",
      "Epoch 33: val_loss did not improve from 0.00032\n",
      "\n",
      "Epoch 34: val_loss did not improve from 0.00032\n",
      "\n",
      "Epoch 35: val_loss did not improve from 0.00032\n",
      "\n",
      "Epoch 36: val_loss did not improve from 0.00032\n",
      "\n",
      "Epoch 37: val_loss did not improve from 0.00032\n",
      "\n",
      "Epoch 38: val_loss did not improve from 0.00032\n",
      "\n",
      "Epoch 39: val_loss did not improve from 0.00032\n",
      "\n",
      "Epoch 40: val_loss did not improve from 0.00032\n",
      "\n",
      "Epoch 41: val_loss did not improve from 0.00032\n",
      "\n",
      "Epoch 42: val_loss did not improve from 0.00032\n",
      "\n",
      "Epoch 43: val_loss did not improve from 0.00032\n",
      "\n",
      "Epoch 44: val_loss did not improve from 0.00032\n",
      "\n",
      "Epoch 45: val_loss did not improve from 0.00032\n",
      "\n",
      "Epoch 46: val_loss did not improve from 0.00032\n",
      "\n",
      "Epoch 47: val_loss did not improve from 0.00032\n",
      "\n",
      "Epoch 48: val_loss did not improve from 0.00032\n",
      "\n",
      "Epoch 49: val_loss did not improve from 0.00032\n",
      "\n",
      "Epoch 50: val_loss did not improve from 0.00032\n",
      "\n",
      "Epoch 51: val_loss did not improve from 0.00032\n",
      "\n",
      "Epoch 52: val_loss did not improve from 0.00032\n",
      "\n",
      "Epoch 53: val_loss did not improve from 0.00032\n",
      "\n",
      "Epoch 54: val_loss did not improve from 0.00032\n",
      "\n",
      "Epoch 55: val_loss did not improve from 0.00032\n",
      "\n",
      "Epoch 56: val_loss did not improve from 0.00032\n",
      "\n",
      "Epoch 57: val_loss did not improve from 0.00032\n",
      "\n",
      "Epoch 58: val_loss did not improve from 0.00032\n",
      "\n",
      "Epoch 59: val_loss did not improve from 0.00032\n",
      "\n",
      "Epoch 60: val_loss did not improve from 0.00032\n",
      "\n",
      "Epoch 61: val_loss did not improve from 0.00032\n",
      "\n",
      "Epoch 62: val_loss did not improve from 0.00032\n",
      "\n",
      "Epoch 63: val_loss did not improve from 0.00032\n",
      "\n",
      "Epoch 64: val_loss did not improve from 0.00032\n",
      "\n",
      "Epoch 65: val_loss did not improve from 0.00032\n",
      "\n",
      "Epoch 66: val_loss did not improve from 0.00032\n",
      "\n",
      "Epoch 67: val_loss did not improve from 0.00032\n",
      "\n",
      "Epoch 68: val_loss did not improve from 0.00032\n",
      "\n",
      "Epoch 69: val_loss did not improve from 0.00032\n",
      "\n",
      "Epoch 70: val_loss did not improve from 0.00032\n",
      "\n",
      "Epoch 71: val_loss did not improve from 0.00032\n",
      "\n",
      "Epoch 72: val_loss did not improve from 0.00032\n",
      "\n",
      "Epoch 73: val_loss did not improve from 0.00032\n",
      "\n",
      "Epoch 74: val_loss did not improve from 0.00032\n",
      "\n",
      "Epoch 75: val_loss did not improve from 0.00032\n",
      "\n",
      "Epoch 76: val_loss did not improve from 0.00032\n",
      "\n",
      "Epoch 77: val_loss did not improve from 0.00032\n",
      "\n",
      "Epoch 78: val_loss did not improve from 0.00032\n",
      "\n",
      "Epoch 79: val_loss did not improve from 0.00032\n",
      "\n",
      "Epoch 80: val_loss did not improve from 0.00032\n",
      "\n",
      "Epoch 81: val_loss did not improve from 0.00032\n",
      "\n",
      "Epoch 82: val_loss did not improve from 0.00032\n",
      "\n",
      "Epoch 83: val_loss did not improve from 0.00032\n",
      "\n",
      "Epoch 84: val_loss did not improve from 0.00032\n",
      "\n",
      "Epoch 85: val_loss did not improve from 0.00032\n",
      "\n",
      "Epoch 86: val_loss did not improve from 0.00032\n",
      "\n",
      "Epoch 87: val_loss did not improve from 0.00032\n",
      "\n",
      "Epoch 88: val_loss did not improve from 0.00032\n",
      "\n",
      "Epoch 89: val_loss did not improve from 0.00032\n",
      "\n",
      "Epoch 90: val_loss did not improve from 0.00032\n",
      "\n",
      "Epoch 91: val_loss did not improve from 0.00032\n",
      "\n",
      "Epoch 92: val_loss did not improve from 0.00032\n",
      "\n",
      "Epoch 93: val_loss did not improve from 0.00032\n",
      "\n",
      "Epoch 94: val_loss did not improve from 0.00032\n",
      "\n",
      "Epoch 95: val_loss did not improve from 0.00032\n",
      "\n",
      "Epoch 96: val_loss did not improve from 0.00032\n",
      "\n",
      "Epoch 97: val_loss did not improve from 0.00032\n",
      "\n",
      "Epoch 98: val_loss did not improve from 0.00032\n",
      "\n",
      "Epoch 99: val_loss did not improve from 0.00032\n",
      "\n",
      "Epoch 100: val_loss did not improve from 0.00032\n",
      "\n",
      "Epoch 101: val_loss did not improve from 0.00032\n",
      "\n",
      "Epoch 102: val_loss did not improve from 0.00032\n",
      "\n",
      "Epoch 103: val_loss did not improve from 0.00032\n",
      "\n",
      "Epoch 104: val_loss did not improve from 0.00032\n",
      "\n",
      "Epoch 105: val_loss did not improve from 0.00032\n",
      "\n",
      "Epoch 106: val_loss did not improve from 0.00032\n",
      "\n",
      "Epoch 107: val_loss did not improve from 0.00032\n",
      "\n",
      "Epoch 108: val_loss did not improve from 0.00032\n",
      "\n",
      "Epoch 109: val_loss did not improve from 0.00032\n",
      "\n",
      "Epoch 110: val_loss did not improve from 0.00032\n",
      "\n",
      "Epoch 111: val_loss did not improve from 0.00032\n",
      "\n",
      "Epoch 112: val_loss did not improve from 0.00032\n",
      "\n",
      "Epoch 113: val_loss did not improve from 0.00032\n",
      "\n",
      "Epoch 114: val_loss did not improve from 0.00032\n",
      "\n",
      "Epoch 115: val_loss did not improve from 0.00032\n",
      "\n",
      "Epoch 116: val_loss did not improve from 0.00032\n",
      "\n",
      "Epoch 117: val_loss did not improve from 0.00032\n",
      "\n",
      "Epoch 118: val_loss did not improve from 0.00032\n",
      "\n",
      "Epoch 119: val_loss did not improve from 0.00032\n",
      "\n",
      "Epoch 120: val_loss did not improve from 0.00032\n",
      "\n",
      "Epoch 121: val_loss did not improve from 0.00032\n",
      "\n",
      "Epoch 122: val_loss did not improve from 0.00032\n",
      "\n",
      "Epoch 123: val_loss did not improve from 0.00032\n",
      "\n",
      "Epoch 124: val_loss did not improve from 0.00032\n",
      "\n",
      "Epoch 125: val_loss did not improve from 0.00032\n",
      "\n",
      "Epoch 126: val_loss did not improve from 0.00032\n",
      "\n",
      "Epoch 127: val_loss did not improve from 0.00032\n",
      "\n",
      "Epoch 128: val_loss did not improve from 0.00032\n",
      "\n",
      "Epoch 129: val_loss did not improve from 0.00032\n",
      "\n",
      "Epoch 130: val_loss did not improve from 0.00032\n",
      "\n",
      "Epoch 131: val_loss did not improve from 0.00032\n",
      "Epoch 131: early stopping\n",
      "\u001b[1m5/5\u001b[0m \u001b[32m━━━━━━━━━━━━━━━━━━━━\u001b[0m\u001b[37m\u001b[0m \u001b[1m1s\u001b[0m 94ms/step\n",
      "Training with params: {'timesteps': 30, 'hl': [40, 35], 'lr': 0.0001, 'batch_size': 64, 'num_epochs': 200}\n"
     ]
    },
    {
     "name": "stderr",
     "output_type": "stream",
     "text": [
      "c:\\Users\\84368\\AppData\\Local\\Programs\\Python\\Python311\\Lib\\site-packages\\keras\\src\\layers\\rnn\\rnn.py:200: UserWarning: Do not pass an `input_shape`/`input_dim` argument to a layer. When using Sequential models, prefer using an `Input(shape)` object as the first layer in the model instead.\n",
      "  super().__init__(**kwargs)\n"
     ]
    },
    {
     "name": "stdout",
     "output_type": "stream",
     "text": [
      "\n",
      "Epoch 1: val_loss did not improve from 0.00032\n",
      "\n",
      "Epoch 2: val_loss did not improve from 0.00032\n",
      "\n",
      "Epoch 3: val_loss did not improve from 0.00032\n",
      "\n",
      "Epoch 4: val_loss did not improve from 0.00032\n",
      "\n",
      "Epoch 5: val_loss did not improve from 0.00032\n",
      "\n",
      "Epoch 6: val_loss did not improve from 0.00032\n",
      "\n",
      "Epoch 7: val_loss did not improve from 0.00032\n",
      "\n",
      "Epoch 8: val_loss did not improve from 0.00032\n",
      "\n",
      "Epoch 9: val_loss did not improve from 0.00032\n",
      "\n",
      "Epoch 10: val_loss did not improve from 0.00032\n",
      "\n",
      "Epoch 11: val_loss did not improve from 0.00032\n",
      "\n",
      "Epoch 12: val_loss did not improve from 0.00032\n",
      "\n",
      "Epoch 13: val_loss did not improve from 0.00032\n",
      "\n",
      "Epoch 14: val_loss did not improve from 0.00032\n",
      "\n",
      "Epoch 15: val_loss did not improve from 0.00032\n",
      "\n",
      "Epoch 16: val_loss did not improve from 0.00032\n",
      "\n",
      "Epoch 17: val_loss did not improve from 0.00032\n",
      "\n",
      "Epoch 18: val_loss did not improve from 0.00032\n",
      "\n",
      "Epoch 19: val_loss did not improve from 0.00032\n",
      "\n",
      "Epoch 20: val_loss did not improve from 0.00032\n",
      "\n",
      "Epoch 21: val_loss did not improve from 0.00032\n",
      "\n",
      "Epoch 22: val_loss did not improve from 0.00032\n",
      "\n",
      "Epoch 23: val_loss did not improve from 0.00032\n",
      "\n",
      "Epoch 24: val_loss did not improve from 0.00032\n",
      "\n",
      "Epoch 25: val_loss did not improve from 0.00032\n",
      "\n",
      "Epoch 26: val_loss did not improve from 0.00032\n",
      "\n",
      "Epoch 27: val_loss did not improve from 0.00032\n",
      "\n",
      "Epoch 28: val_loss did not improve from 0.00032\n",
      "\n",
      "Epoch 29: val_loss did not improve from 0.00032\n",
      "\n",
      "Epoch 30: val_loss did not improve from 0.00032\n",
      "\n",
      "Epoch 31: val_loss did not improve from 0.00032\n",
      "\n",
      "Epoch 32: val_loss did not improve from 0.00032\n",
      "\n",
      "Epoch 33: val_loss did not improve from 0.00032\n",
      "\n",
      "Epoch 34: val_loss did not improve from 0.00032\n",
      "\n",
      "Epoch 35: val_loss did not improve from 0.00032\n",
      "\n",
      "Epoch 36: val_loss did not improve from 0.00032\n",
      "\n",
      "Epoch 37: val_loss did not improve from 0.00032\n",
      "\n",
      "Epoch 38: val_loss did not improve from 0.00032\n",
      "\n",
      "Epoch 39: val_loss did not improve from 0.00032\n",
      "\n",
      "Epoch 40: val_loss did not improve from 0.00032\n",
      "\n",
      "Epoch 41: val_loss did not improve from 0.00032\n",
      "\n",
      "Epoch 42: val_loss did not improve from 0.00032\n",
      "\n",
      "Epoch 43: val_loss did not improve from 0.00032\n",
      "\n",
      "Epoch 44: val_loss did not improve from 0.00032\n",
      "\n",
      "Epoch 45: val_loss did not improve from 0.00032\n",
      "\n",
      "Epoch 46: val_loss did not improve from 0.00032\n",
      "\n",
      "Epoch 47: val_loss did not improve from 0.00032\n",
      "\n",
      "Epoch 48: val_loss did not improve from 0.00032\n",
      "\n",
      "Epoch 49: val_loss did not improve from 0.00032\n",
      "\n",
      "Epoch 50: val_loss did not improve from 0.00032\n",
      "\n",
      "Epoch 51: val_loss did not improve from 0.00032\n",
      "\n",
      "Epoch 52: val_loss did not improve from 0.00032\n",
      "\n",
      "Epoch 53: val_loss did not improve from 0.00032\n",
      "\n",
      "Epoch 54: val_loss did not improve from 0.00032\n",
      "\n",
      "Epoch 55: val_loss did not improve from 0.00032\n",
      "\n",
      "Epoch 56: val_loss did not improve from 0.00032\n",
      "\n",
      "Epoch 57: val_loss did not improve from 0.00032\n",
      "\n",
      "Epoch 58: val_loss did not improve from 0.00032\n",
      "\n",
      "Epoch 59: val_loss did not improve from 0.00032\n",
      "\n",
      "Epoch 60: val_loss did not improve from 0.00032\n",
      "\n",
      "Epoch 61: val_loss did not improve from 0.00032\n",
      "\n",
      "Epoch 62: val_loss did not improve from 0.00032\n",
      "\n",
      "Epoch 63: val_loss did not improve from 0.00032\n",
      "\n",
      "Epoch 64: val_loss did not improve from 0.00032\n",
      "\n",
      "Epoch 65: val_loss did not improve from 0.00032\n",
      "\n",
      "Epoch 66: val_loss did not improve from 0.00032\n",
      "\n",
      "Epoch 67: val_loss did not improve from 0.00032\n",
      "\n",
      "Epoch 68: val_loss did not improve from 0.00032\n",
      "\n",
      "Epoch 69: val_loss did not improve from 0.00032\n",
      "\n",
      "Epoch 70: val_loss did not improve from 0.00032\n",
      "\n",
      "Epoch 71: val_loss did not improve from 0.00032\n",
      "\n",
      "Epoch 72: val_loss did not improve from 0.00032\n",
      "\n",
      "Epoch 73: val_loss did not improve from 0.00032\n",
      "\n",
      "Epoch 74: val_loss did not improve from 0.00032\n",
      "\n",
      "Epoch 75: val_loss did not improve from 0.00032\n",
      "\n",
      "Epoch 76: val_loss did not improve from 0.00032\n",
      "\n",
      "Epoch 77: val_loss did not improve from 0.00032\n",
      "\n",
      "Epoch 78: val_loss did not improve from 0.00032\n",
      "\n",
      "Epoch 79: val_loss did not improve from 0.00032\n",
      "\n",
      "Epoch 80: val_loss did not improve from 0.00032\n",
      "\n",
      "Epoch 81: val_loss did not improve from 0.00032\n",
      "\n",
      "Epoch 82: val_loss did not improve from 0.00032\n",
      "\n",
      "Epoch 83: val_loss did not improve from 0.00032\n",
      "\n",
      "Epoch 84: val_loss did not improve from 0.00032\n",
      "\n",
      "Epoch 85: val_loss did not improve from 0.00032\n",
      "\n",
      "Epoch 86: val_loss did not improve from 0.00032\n",
      "\n",
      "Epoch 87: val_loss did not improve from 0.00032\n",
      "\n",
      "Epoch 88: val_loss did not improve from 0.00032\n",
      "\n",
      "Epoch 89: val_loss did not improve from 0.00032\n",
      "\n",
      "Epoch 90: val_loss did not improve from 0.00032\n",
      "\n",
      "Epoch 91: val_loss did not improve from 0.00032\n",
      "\n",
      "Epoch 92: val_loss did not improve from 0.00032\n",
      "Epoch 92: early stopping\n",
      "\u001b[1m5/5\u001b[0m \u001b[32m━━━━━━━━━━━━━━━━━━━━\u001b[0m\u001b[37m\u001b[0m \u001b[1m1s\u001b[0m 170ms/step\n",
      "Training with params: {'timesteps': 30, 'hl': [40, 35], 'lr': 0.0001, 'batch_size': 64, 'num_epochs': 250}\n"
     ]
    },
    {
     "name": "stderr",
     "output_type": "stream",
     "text": [
      "c:\\Users\\84368\\AppData\\Local\\Programs\\Python\\Python311\\Lib\\site-packages\\keras\\src\\layers\\rnn\\rnn.py:200: UserWarning: Do not pass an `input_shape`/`input_dim` argument to a layer. When using Sequential models, prefer using an `Input(shape)` object as the first layer in the model instead.\n",
      "  super().__init__(**kwargs)\n"
     ]
    },
    {
     "name": "stdout",
     "output_type": "stream",
     "text": [
      "\n",
      "Epoch 1: val_loss did not improve from 0.00032\n",
      "\n",
      "Epoch 2: val_loss did not improve from 0.00032\n",
      "\n",
      "Epoch 3: val_loss did not improve from 0.00032\n",
      "\n",
      "Epoch 4: val_loss did not improve from 0.00032\n",
      "\n",
      "Epoch 5: val_loss did not improve from 0.00032\n",
      "\n",
      "Epoch 6: val_loss did not improve from 0.00032\n",
      "\n",
      "Epoch 7: val_loss did not improve from 0.00032\n",
      "\n",
      "Epoch 8: val_loss did not improve from 0.00032\n",
      "\n",
      "Epoch 9: val_loss did not improve from 0.00032\n",
      "\n",
      "Epoch 10: val_loss did not improve from 0.00032\n",
      "\n",
      "Epoch 11: val_loss did not improve from 0.00032\n",
      "\n",
      "Epoch 12: val_loss did not improve from 0.00032\n",
      "\n",
      "Epoch 13: val_loss did not improve from 0.00032\n",
      "\n",
      "Epoch 14: val_loss did not improve from 0.00032\n",
      "\n",
      "Epoch 15: val_loss did not improve from 0.00032\n",
      "\n",
      "Epoch 16: val_loss did not improve from 0.00032\n",
      "\n",
      "Epoch 17: val_loss did not improve from 0.00032\n",
      "\n",
      "Epoch 18: val_loss did not improve from 0.00032\n",
      "\n",
      "Epoch 19: val_loss did not improve from 0.00032\n",
      "\n",
      "Epoch 20: val_loss did not improve from 0.00032\n",
      "\n",
      "Epoch 21: val_loss did not improve from 0.00032\n",
      "\n",
      "Epoch 22: val_loss did not improve from 0.00032\n",
      "\n",
      "Epoch 23: val_loss did not improve from 0.00032\n",
      "\n",
      "Epoch 24: val_loss did not improve from 0.00032\n",
      "\n",
      "Epoch 25: val_loss did not improve from 0.00032\n",
      "\n",
      "Epoch 26: val_loss did not improve from 0.00032\n",
      "\n",
      "Epoch 27: val_loss did not improve from 0.00032\n",
      "\n",
      "Epoch 28: val_loss did not improve from 0.00032\n",
      "\n",
      "Epoch 29: val_loss did not improve from 0.00032\n",
      "\n",
      "Epoch 30: val_loss did not improve from 0.00032\n",
      "\n",
      "Epoch 31: val_loss did not improve from 0.00032\n",
      "\n",
      "Epoch 32: val_loss did not improve from 0.00032\n",
      "\n",
      "Epoch 33: val_loss did not improve from 0.00032\n",
      "\n",
      "Epoch 34: val_loss did not improve from 0.00032\n",
      "\n",
      "Epoch 35: val_loss did not improve from 0.00032\n",
      "\n",
      "Epoch 36: val_loss did not improve from 0.00032\n",
      "\n",
      "Epoch 37: val_loss did not improve from 0.00032\n",
      "\n",
      "Epoch 38: val_loss did not improve from 0.00032\n",
      "\n",
      "Epoch 39: val_loss did not improve from 0.00032\n",
      "\n",
      "Epoch 40: val_loss did not improve from 0.00032\n",
      "\n",
      "Epoch 41: val_loss did not improve from 0.00032\n",
      "\n",
      "Epoch 42: val_loss did not improve from 0.00032\n",
      "\n",
      "Epoch 43: val_loss did not improve from 0.00032\n",
      "\n",
      "Epoch 44: val_loss did not improve from 0.00032\n",
      "\n",
      "Epoch 45: val_loss did not improve from 0.00032\n",
      "\n",
      "Epoch 46: val_loss did not improve from 0.00032\n",
      "\n",
      "Epoch 47: val_loss did not improve from 0.00032\n",
      "\n",
      "Epoch 48: val_loss did not improve from 0.00032\n",
      "\n",
      "Epoch 49: val_loss did not improve from 0.00032\n",
      "\n",
      "Epoch 50: val_loss did not improve from 0.00032\n",
      "\n",
      "Epoch 51: val_loss did not improve from 0.00032\n",
      "\n",
      "Epoch 52: val_loss did not improve from 0.00032\n",
      "\n",
      "Epoch 53: val_loss did not improve from 0.00032\n",
      "\n",
      "Epoch 54: val_loss did not improve from 0.00032\n",
      "\n",
      "Epoch 55: val_loss did not improve from 0.00032\n",
      "\n",
      "Epoch 56: val_loss did not improve from 0.00032\n",
      "\n",
      "Epoch 57: val_loss did not improve from 0.00032\n",
      "\n",
      "Epoch 58: val_loss did not improve from 0.00032\n",
      "\n",
      "Epoch 59: val_loss did not improve from 0.00032\n",
      "\n",
      "Epoch 60: val_loss did not improve from 0.00032\n",
      "\n",
      "Epoch 61: val_loss did not improve from 0.00032\n",
      "\n",
      "Epoch 62: val_loss did not improve from 0.00032\n",
      "\n",
      "Epoch 63: val_loss did not improve from 0.00032\n",
      "\n",
      "Epoch 64: val_loss did not improve from 0.00032\n",
      "\n",
      "Epoch 65: val_loss did not improve from 0.00032\n",
      "\n",
      "Epoch 66: val_loss did not improve from 0.00032\n",
      "\n",
      "Epoch 67: val_loss did not improve from 0.00032\n",
      "\n",
      "Epoch 68: val_loss did not improve from 0.00032\n",
      "\n",
      "Epoch 69: val_loss did not improve from 0.00032\n",
      "\n",
      "Epoch 70: val_loss did not improve from 0.00032\n",
      "\n",
      "Epoch 71: val_loss did not improve from 0.00032\n",
      "\n",
      "Epoch 72: val_loss did not improve from 0.00032\n",
      "\n",
      "Epoch 73: val_loss did not improve from 0.00032\n",
      "\n",
      "Epoch 74: val_loss did not improve from 0.00032\n",
      "\n",
      "Epoch 75: val_loss did not improve from 0.00032\n",
      "\n",
      "Epoch 76: val_loss did not improve from 0.00032\n",
      "\n",
      "Epoch 77: val_loss did not improve from 0.00032\n",
      "\n",
      "Epoch 78: val_loss did not improve from 0.00032\n",
      "\n",
      "Epoch 79: val_loss did not improve from 0.00032\n",
      "\n",
      "Epoch 80: val_loss did not improve from 0.00032\n",
      "\n",
      "Epoch 81: val_loss did not improve from 0.00032\n",
      "\n",
      "Epoch 82: val_loss did not improve from 0.00032\n",
      "\n",
      "Epoch 83: val_loss did not improve from 0.00032\n",
      "\n",
      "Epoch 84: val_loss did not improve from 0.00032\n",
      "\n",
      "Epoch 85: val_loss did not improve from 0.00032\n",
      "\n",
      "Epoch 86: val_loss did not improve from 0.00032\n",
      "\n",
      "Epoch 87: val_loss did not improve from 0.00032\n",
      "\n",
      "Epoch 88: val_loss did not improve from 0.00032\n",
      "\n",
      "Epoch 89: val_loss did not improve from 0.00032\n",
      "\n",
      "Epoch 90: val_loss did not improve from 0.00032\n",
      "\n",
      "Epoch 91: val_loss did not improve from 0.00032\n",
      "\n",
      "Epoch 92: val_loss did not improve from 0.00032\n",
      "Epoch 92: early stopping\n",
      "\u001b[1m5/5\u001b[0m \u001b[32m━━━━━━━━━━━━━━━━━━━━\u001b[0m\u001b[37m\u001b[0m \u001b[1m1s\u001b[0m 158ms/step\n",
      "Training with params: {'timesteps': 40, 'hl': [40, 35], 'lr': 0.001, 'batch_size': 32, 'num_epochs': 200}\n"
     ]
    },
    {
     "name": "stderr",
     "output_type": "stream",
     "text": [
      "c:\\Users\\84368\\AppData\\Local\\Programs\\Python\\Python311\\Lib\\site-packages\\keras\\src\\layers\\rnn\\rnn.py:200: UserWarning: Do not pass an `input_shape`/`input_dim` argument to a layer. When using Sequential models, prefer using an `Input(shape)` object as the first layer in the model instead.\n",
      "  super().__init__(**kwargs)\n"
     ]
    },
    {
     "name": "stdout",
     "output_type": "stream",
     "text": [
      "\n",
      "Epoch 1: val_loss did not improve from 0.00032\n",
      "\n",
      "Epoch 2: val_loss did not improve from 0.00032\n",
      "\n",
      "Epoch 3: val_loss did not improve from 0.00032\n",
      "\n",
      "Epoch 4: val_loss did not improve from 0.00032\n",
      "\n",
      "Epoch 5: val_loss did not improve from 0.00032\n",
      "\n",
      "Epoch 6: val_loss did not improve from 0.00032\n",
      "\n",
      "Epoch 7: val_loss did not improve from 0.00032\n",
      "\n",
      "Epoch 8: val_loss did not improve from 0.00032\n",
      "\n",
      "Epoch 9: val_loss did not improve from 0.00032\n",
      "\n",
      "Epoch 10: val_loss did not improve from 0.00032\n",
      "\n",
      "Epoch 11: val_loss did not improve from 0.00032\n",
      "\n",
      "Epoch 12: val_loss did not improve from 0.00032\n",
      "\n",
      "Epoch 13: val_loss did not improve from 0.00032\n",
      "\n",
      "Epoch 14: val_loss did not improve from 0.00032\n",
      "\n",
      "Epoch 15: val_loss did not improve from 0.00032\n",
      "\n",
      "Epoch 16: val_loss did not improve from 0.00032\n",
      "\n",
      "Epoch 17: val_loss did not improve from 0.00032\n",
      "\n",
      "Epoch 18: val_loss did not improve from 0.00032\n",
      "\n",
      "Epoch 19: val_loss did not improve from 0.00032\n",
      "\n",
      "Epoch 20: val_loss did not improve from 0.00032\n",
      "\n",
      "Epoch 21: val_loss did not improve from 0.00032\n",
      "\n",
      "Epoch 22: val_loss did not improve from 0.00032\n",
      "\n",
      "Epoch 23: val_loss did not improve from 0.00032\n",
      "\n",
      "Epoch 24: val_loss did not improve from 0.00032\n",
      "\n",
      "Epoch 25: val_loss did not improve from 0.00032\n",
      "\n",
      "Epoch 26: val_loss did not improve from 0.00032\n",
      "\n",
      "Epoch 27: val_loss did not improve from 0.00032\n",
      "\n",
      "Epoch 28: val_loss did not improve from 0.00032\n",
      "\n",
      "Epoch 29: val_loss did not improve from 0.00032\n",
      "\n",
      "Epoch 30: val_loss did not improve from 0.00032\n",
      "\n",
      "Epoch 31: val_loss did not improve from 0.00032\n",
      "\n",
      "Epoch 32: val_loss did not improve from 0.00032\n",
      "\n",
      "Epoch 33: val_loss did not improve from 0.00032\n",
      "\n",
      "Epoch 34: val_loss did not improve from 0.00032\n",
      "\n",
      "Epoch 35: val_loss did not improve from 0.00032\n",
      "\n",
      "Epoch 36: val_loss did not improve from 0.00032\n",
      "\n",
      "Epoch 37: val_loss did not improve from 0.00032\n",
      "\n",
      "Epoch 38: val_loss did not improve from 0.00032\n",
      "\n",
      "Epoch 39: val_loss did not improve from 0.00032\n",
      "\n",
      "Epoch 40: val_loss did not improve from 0.00032\n",
      "\n",
      "Epoch 41: val_loss did not improve from 0.00032\n",
      "\n",
      "Epoch 42: val_loss did not improve from 0.00032\n",
      "\n",
      "Epoch 43: val_loss did not improve from 0.00032\n",
      "\n",
      "Epoch 44: val_loss did not improve from 0.00032\n",
      "\n",
      "Epoch 45: val_loss did not improve from 0.00032\n",
      "\n",
      "Epoch 46: val_loss did not improve from 0.00032\n",
      "\n",
      "Epoch 47: val_loss did not improve from 0.00032\n",
      "\n",
      "Epoch 48: val_loss did not improve from 0.00032\n",
      "\n",
      "Epoch 49: val_loss did not improve from 0.00032\n",
      "\n",
      "Epoch 50: val_loss did not improve from 0.00032\n",
      "\n",
      "Epoch 51: val_loss did not improve from 0.00032\n",
      "\n",
      "Epoch 52: val_loss did not improve from 0.00032\n",
      "\n",
      "Epoch 53: val_loss did not improve from 0.00032\n",
      "\n",
      "Epoch 54: val_loss did not improve from 0.00032\n",
      "\n",
      "Epoch 55: val_loss did not improve from 0.00032\n",
      "\n",
      "Epoch 56: val_loss did not improve from 0.00032\n",
      "\n",
      "Epoch 57: val_loss did not improve from 0.00032\n",
      "\n",
      "Epoch 58: val_loss did not improve from 0.00032\n",
      "\n",
      "Epoch 59: val_loss did not improve from 0.00032\n",
      "\n",
      "Epoch 60: val_loss did not improve from 0.00032\n",
      "\n",
      "Epoch 61: val_loss did not improve from 0.00032\n",
      "\n",
      "Epoch 62: val_loss did not improve from 0.00032\n",
      "\n",
      "Epoch 63: val_loss did not improve from 0.00032\n",
      "\n",
      "Epoch 64: val_loss did not improve from 0.00032\n",
      "\n",
      "Epoch 65: val_loss did not improve from 0.00032\n",
      "\n",
      "Epoch 66: val_loss did not improve from 0.00032\n",
      "\n",
      "Epoch 67: val_loss did not improve from 0.00032\n",
      "\n",
      "Epoch 68: val_loss did not improve from 0.00032\n",
      "\n",
      "Epoch 69: val_loss did not improve from 0.00032\n",
      "\n",
      "Epoch 70: val_loss did not improve from 0.00032\n",
      "\n",
      "Epoch 71: val_loss did not improve from 0.00032\n",
      "\n",
      "Epoch 72: val_loss did not improve from 0.00032\n",
      "\n",
      "Epoch 73: val_loss did not improve from 0.00032\n",
      "\n",
      "Epoch 74: val_loss did not improve from 0.00032\n",
      "\n",
      "Epoch 75: val_loss did not improve from 0.00032\n",
      "\n",
      "Epoch 76: val_loss did not improve from 0.00032\n",
      "\n",
      "Epoch 77: val_loss did not improve from 0.00032\n",
      "\n",
      "Epoch 78: val_loss did not improve from 0.00032\n",
      "\n",
      "Epoch 79: val_loss did not improve from 0.00032\n",
      "\n",
      "Epoch 80: val_loss did not improve from 0.00032\n",
      "\n",
      "Epoch 81: val_loss did not improve from 0.00032\n",
      "\n",
      "Epoch 82: val_loss did not improve from 0.00032\n",
      "\n",
      "Epoch 83: val_loss did not improve from 0.00032\n",
      "\n",
      "Epoch 84: val_loss did not improve from 0.00032\n",
      "\n",
      "Epoch 85: val_loss did not improve from 0.00032\n",
      "\n",
      "Epoch 86: val_loss did not improve from 0.00032\n",
      "\n",
      "Epoch 87: val_loss did not improve from 0.00032\n",
      "\n",
      "Epoch 88: val_loss did not improve from 0.00032\n",
      "\n",
      "Epoch 89: val_loss did not improve from 0.00032\n",
      "\n",
      "Epoch 90: val_loss did not improve from 0.00032\n",
      "\n",
      "Epoch 91: val_loss did not improve from 0.00032\n",
      "\n",
      "Epoch 92: val_loss did not improve from 0.00032\n",
      "\n",
      "Epoch 93: val_loss did not improve from 0.00032\n",
      "\n",
      "Epoch 94: val_loss did not improve from 0.00032\n",
      "\n",
      "Epoch 95: val_loss did not improve from 0.00032\n",
      "\n",
      "Epoch 96: val_loss did not improve from 0.00032\n",
      "\n",
      "Epoch 97: val_loss did not improve from 0.00032\n",
      "\n",
      "Epoch 98: val_loss did not improve from 0.00032\n",
      "\n",
      "Epoch 99: val_loss did not improve from 0.00032\n",
      "\n",
      "Epoch 100: val_loss did not improve from 0.00032\n",
      "\n",
      "Epoch 101: val_loss did not improve from 0.00032\n",
      "\n",
      "Epoch 102: val_loss did not improve from 0.00032\n",
      "\n",
      "Epoch 103: val_loss did not improve from 0.00032\n",
      "\n",
      "Epoch 104: val_loss did not improve from 0.00032\n",
      "\n",
      "Epoch 105: val_loss did not improve from 0.00032\n",
      "\n",
      "Epoch 106: val_loss did not improve from 0.00032\n",
      "\n",
      "Epoch 107: val_loss did not improve from 0.00032\n",
      "\n",
      "Epoch 108: val_loss did not improve from 0.00032\n",
      "\n",
      "Epoch 109: val_loss did not improve from 0.00032\n",
      "\n",
      "Epoch 110: val_loss did not improve from 0.00032\n",
      "\n",
      "Epoch 111: val_loss did not improve from 0.00032\n",
      "\n",
      "Epoch 112: val_loss did not improve from 0.00032\n",
      "\n",
      "Epoch 113: val_loss did not improve from 0.00032\n",
      "\n",
      "Epoch 114: val_loss did not improve from 0.00032\n",
      "\n",
      "Epoch 115: val_loss did not improve from 0.00032\n",
      "\n",
      "Epoch 116: val_loss did not improve from 0.00032\n",
      "\n",
      "Epoch 117: val_loss did not improve from 0.00032\n",
      "\n",
      "Epoch 118: val_loss did not improve from 0.00032\n",
      "\n",
      "Epoch 119: val_loss did not improve from 0.00032\n",
      "\n",
      "Epoch 120: val_loss did not improve from 0.00032\n",
      "\n",
      "Epoch 121: val_loss did not improve from 0.00032\n",
      "\n",
      "Epoch 122: val_loss did not improve from 0.00032\n",
      "\n",
      "Epoch 123: val_loss did not improve from 0.00032\n",
      "\n",
      "Epoch 124: val_loss did not improve from 0.00032\n",
      "\n",
      "Epoch 125: val_loss did not improve from 0.00032\n",
      "\n",
      "Epoch 126: val_loss did not improve from 0.00032\n",
      "\n",
      "Epoch 127: val_loss did not improve from 0.00032\n",
      "\n",
      "Epoch 128: val_loss did not improve from 0.00032\n",
      "\n",
      "Epoch 129: val_loss did not improve from 0.00032\n",
      "\n",
      "Epoch 130: val_loss did not improve from 0.00032\n",
      "\n",
      "Epoch 131: val_loss did not improve from 0.00032\n",
      "\n",
      "Epoch 132: val_loss did not improve from 0.00032\n",
      "\n",
      "Epoch 133: val_loss did not improve from 0.00032\n",
      "\n",
      "Epoch 134: val_loss did not improve from 0.00032\n",
      "\n",
      "Epoch 135: val_loss did not improve from 0.00032\n",
      "\n",
      "Epoch 136: val_loss did not improve from 0.00032\n",
      "\n",
      "Epoch 137: val_loss did not improve from 0.00032\n",
      "\n",
      "Epoch 138: val_loss did not improve from 0.00032\n",
      "\n",
      "Epoch 139: val_loss did not improve from 0.00032\n",
      "\n",
      "Epoch 140: val_loss did not improve from 0.00032\n",
      "\n",
      "Epoch 141: val_loss did not improve from 0.00032\n",
      "\n",
      "Epoch 142: val_loss did not improve from 0.00032\n",
      "\n",
      "Epoch 143: val_loss did not improve from 0.00032\n",
      "\n",
      "Epoch 144: val_loss did not improve from 0.00032\n",
      "\n",
      "Epoch 145: val_loss did not improve from 0.00032\n",
      "\n",
      "Epoch 146: val_loss did not improve from 0.00032\n",
      "\n",
      "Epoch 147: val_loss did not improve from 0.00032\n",
      "\n",
      "Epoch 148: val_loss did not improve from 0.00032\n",
      "\n",
      "Epoch 149: val_loss did not improve from 0.00032\n",
      "\n",
      "Epoch 150: val_loss did not improve from 0.00032\n",
      "\n",
      "Epoch 151: val_loss did not improve from 0.00032\n",
      "\n",
      "Epoch 152: val_loss did not improve from 0.00032\n",
      "\n",
      "Epoch 153: val_loss did not improve from 0.00032\n",
      "\n",
      "Epoch 154: val_loss did not improve from 0.00032\n",
      "\n",
      "Epoch 155: val_loss did not improve from 0.00032\n",
      "\n",
      "Epoch 156: val_loss did not improve from 0.00032\n",
      "\n",
      "Epoch 157: val_loss did not improve from 0.00032\n",
      "\n",
      "Epoch 158: val_loss did not improve from 0.00032\n",
      "\n",
      "Epoch 159: val_loss did not improve from 0.00032\n",
      "\n",
      "Epoch 160: val_loss did not improve from 0.00032\n",
      "\n",
      "Epoch 161: val_loss did not improve from 0.00032\n",
      "\n",
      "Epoch 162: val_loss did not improve from 0.00032\n",
      "\n",
      "Epoch 163: val_loss did not improve from 0.00032\n",
      "\n",
      "Epoch 164: val_loss did not improve from 0.00032\n",
      "\n",
      "Epoch 165: val_loss did not improve from 0.00032\n",
      "\n",
      "Epoch 166: val_loss did not improve from 0.00032\n",
      "\n",
      "Epoch 167: val_loss did not improve from 0.00032\n",
      "\n",
      "Epoch 168: val_loss did not improve from 0.00032\n",
      "\n",
      "Epoch 169: val_loss did not improve from 0.00032\n",
      "\n",
      "Epoch 170: val_loss did not improve from 0.00032\n",
      "\n",
      "Epoch 171: val_loss did not improve from 0.00032\n",
      "\n",
      "Epoch 172: val_loss did not improve from 0.00032\n",
      "\n",
      "Epoch 173: val_loss did not improve from 0.00032\n",
      "\n",
      "Epoch 174: val_loss did not improve from 0.00032\n",
      "\n",
      "Epoch 175: val_loss did not improve from 0.00032\n",
      "\n",
      "Epoch 176: val_loss did not improve from 0.00032\n",
      "\n",
      "Epoch 177: val_loss did not improve from 0.00032\n",
      "\n",
      "Epoch 178: val_loss did not improve from 0.00032\n",
      "\n",
      "Epoch 179: val_loss did not improve from 0.00032\n",
      "\n",
      "Epoch 180: val_loss did not improve from 0.00032\n",
      "\n",
      "Epoch 181: val_loss did not improve from 0.00032\n",
      "\n",
      "Epoch 182: val_loss did not improve from 0.00032\n",
      "\n",
      "Epoch 183: val_loss did not improve from 0.00032\n",
      "\n",
      "Epoch 184: val_loss did not improve from 0.00032\n",
      "\n",
      "Epoch 185: val_loss did not improve from 0.00032\n",
      "\n",
      "Epoch 186: val_loss did not improve from 0.00032\n",
      "\n",
      "Epoch 187: val_loss did not improve from 0.00032\n",
      "\n",
      "Epoch 188: val_loss did not improve from 0.00032\n",
      "\n",
      "Epoch 189: val_loss did not improve from 0.00032\n",
      "Epoch 189: early stopping\n",
      "\u001b[1m5/5\u001b[0m \u001b[32m━━━━━━━━━━━━━━━━━━━━\u001b[0m\u001b[37m\u001b[0m \u001b[1m4s\u001b[0m 450ms/step\n",
      "Training with params: {'timesteps': 40, 'hl': [40, 35], 'lr': 0.001, 'batch_size': 32, 'num_epochs': 250}\n"
     ]
    },
    {
     "name": "stderr",
     "output_type": "stream",
     "text": [
      "c:\\Users\\84368\\AppData\\Local\\Programs\\Python\\Python311\\Lib\\site-packages\\keras\\src\\layers\\rnn\\rnn.py:200: UserWarning: Do not pass an `input_shape`/`input_dim` argument to a layer. When using Sequential models, prefer using an `Input(shape)` object as the first layer in the model instead.\n",
      "  super().__init__(**kwargs)\n"
     ]
    },
    {
     "name": "stdout",
     "output_type": "stream",
     "text": [
      "\n",
      "Epoch 1: val_loss did not improve from 0.00032\n",
      "\n",
      "Epoch 2: val_loss did not improve from 0.00032\n",
      "\n",
      "Epoch 3: val_loss did not improve from 0.00032\n",
      "\n",
      "Epoch 4: val_loss did not improve from 0.00032\n",
      "\n",
      "Epoch 5: val_loss did not improve from 0.00032\n",
      "\n",
      "Epoch 6: val_loss did not improve from 0.00032\n",
      "\n",
      "Epoch 7: val_loss did not improve from 0.00032\n",
      "\n",
      "Epoch 8: val_loss did not improve from 0.00032\n",
      "\n",
      "Epoch 9: val_loss did not improve from 0.00032\n",
      "\n",
      "Epoch 10: val_loss did not improve from 0.00032\n",
      "\n",
      "Epoch 11: val_loss did not improve from 0.00032\n",
      "\n",
      "Epoch 12: val_loss did not improve from 0.00032\n",
      "\n",
      "Epoch 13: val_loss did not improve from 0.00032\n",
      "\n",
      "Epoch 14: val_loss did not improve from 0.00032\n",
      "\n",
      "Epoch 15: val_loss did not improve from 0.00032\n",
      "\n",
      "Epoch 16: val_loss did not improve from 0.00032\n",
      "\n",
      "Epoch 17: val_loss did not improve from 0.00032\n",
      "\n",
      "Epoch 18: val_loss did not improve from 0.00032\n",
      "\n",
      "Epoch 19: val_loss did not improve from 0.00032\n",
      "\n",
      "Epoch 20: val_loss did not improve from 0.00032\n",
      "\n",
      "Epoch 21: val_loss did not improve from 0.00032\n",
      "\n",
      "Epoch 22: val_loss did not improve from 0.00032\n",
      "\n",
      "Epoch 23: val_loss did not improve from 0.00032\n",
      "\n",
      "Epoch 24: val_loss did not improve from 0.00032\n",
      "\n",
      "Epoch 25: val_loss did not improve from 0.00032\n",
      "\n",
      "Epoch 26: val_loss did not improve from 0.00032\n",
      "\n",
      "Epoch 27: val_loss did not improve from 0.00032\n",
      "\n",
      "Epoch 28: val_loss did not improve from 0.00032\n",
      "\n",
      "Epoch 29: val_loss did not improve from 0.00032\n",
      "\n",
      "Epoch 30: val_loss did not improve from 0.00032\n",
      "\n",
      "Epoch 31: val_loss did not improve from 0.00032\n",
      "\n",
      "Epoch 32: val_loss did not improve from 0.00032\n",
      "\n",
      "Epoch 33: val_loss did not improve from 0.00032\n",
      "\n",
      "Epoch 34: val_loss did not improve from 0.00032\n",
      "\n",
      "Epoch 35: val_loss did not improve from 0.00032\n",
      "\n",
      "Epoch 36: val_loss did not improve from 0.00032\n",
      "\n",
      "Epoch 37: val_loss did not improve from 0.00032\n",
      "\n",
      "Epoch 38: val_loss did not improve from 0.00032\n",
      "\n",
      "Epoch 39: val_loss did not improve from 0.00032\n",
      "\n",
      "Epoch 40: val_loss did not improve from 0.00032\n",
      "\n",
      "Epoch 41: val_loss did not improve from 0.00032\n",
      "\n",
      "Epoch 42: val_loss did not improve from 0.00032\n",
      "\n",
      "Epoch 43: val_loss did not improve from 0.00032\n",
      "\n",
      "Epoch 44: val_loss did not improve from 0.00032\n",
      "\n",
      "Epoch 45: val_loss did not improve from 0.00032\n",
      "\n",
      "Epoch 46: val_loss did not improve from 0.00032\n",
      "\n",
      "Epoch 47: val_loss did not improve from 0.00032\n",
      "\n",
      "Epoch 48: val_loss did not improve from 0.00032\n",
      "\n",
      "Epoch 49: val_loss did not improve from 0.00032\n",
      "\n",
      "Epoch 50: val_loss did not improve from 0.00032\n",
      "\n",
      "Epoch 51: val_loss did not improve from 0.00032\n",
      "\n",
      "Epoch 52: val_loss did not improve from 0.00032\n",
      "\n",
      "Epoch 53: val_loss did not improve from 0.00032\n",
      "\n",
      "Epoch 54: val_loss did not improve from 0.00032\n",
      "\n",
      "Epoch 55: val_loss did not improve from 0.00032\n",
      "\n",
      "Epoch 56: val_loss did not improve from 0.00032\n",
      "\n",
      "Epoch 57: val_loss did not improve from 0.00032\n",
      "\n",
      "Epoch 58: val_loss did not improve from 0.00032\n",
      "\n",
      "Epoch 59: val_loss did not improve from 0.00032\n",
      "\n",
      "Epoch 60: val_loss did not improve from 0.00032\n",
      "\n",
      "Epoch 61: val_loss did not improve from 0.00032\n",
      "\n",
      "Epoch 62: val_loss did not improve from 0.00032\n",
      "\n",
      "Epoch 63: val_loss did not improve from 0.00032\n",
      "\n",
      "Epoch 64: val_loss did not improve from 0.00032\n",
      "\n",
      "Epoch 65: val_loss did not improve from 0.00032\n",
      "\n",
      "Epoch 66: val_loss did not improve from 0.00032\n",
      "\n",
      "Epoch 67: val_loss did not improve from 0.00032\n",
      "\n",
      "Epoch 68: val_loss did not improve from 0.00032\n",
      "\n",
      "Epoch 69: val_loss did not improve from 0.00032\n",
      "\n",
      "Epoch 70: val_loss did not improve from 0.00032\n",
      "\n",
      "Epoch 71: val_loss did not improve from 0.00032\n",
      "\n",
      "Epoch 72: val_loss did not improve from 0.00032\n",
      "\n",
      "Epoch 73: val_loss did not improve from 0.00032\n",
      "\n",
      "Epoch 74: val_loss did not improve from 0.00032\n",
      "\n",
      "Epoch 75: val_loss did not improve from 0.00032\n",
      "\n",
      "Epoch 76: val_loss did not improve from 0.00032\n",
      "\n",
      "Epoch 77: val_loss did not improve from 0.00032\n",
      "\n",
      "Epoch 78: val_loss did not improve from 0.00032\n",
      "\n",
      "Epoch 79: val_loss did not improve from 0.00032\n",
      "\n",
      "Epoch 80: val_loss did not improve from 0.00032\n",
      "\n",
      "Epoch 81: val_loss did not improve from 0.00032\n",
      "\n",
      "Epoch 82: val_loss did not improve from 0.00032\n",
      "\n",
      "Epoch 83: val_loss did not improve from 0.00032\n",
      "\n",
      "Epoch 84: val_loss did not improve from 0.00032\n",
      "\n",
      "Epoch 85: val_loss did not improve from 0.00032\n",
      "\n",
      "Epoch 86: val_loss did not improve from 0.00032\n",
      "\n",
      "Epoch 87: val_loss did not improve from 0.00032\n",
      "\n",
      "Epoch 88: val_loss did not improve from 0.00032\n",
      "\n",
      "Epoch 89: val_loss did not improve from 0.00032\n",
      "\n",
      "Epoch 90: val_loss did not improve from 0.00032\n",
      "\n",
      "Epoch 91: val_loss did not improve from 0.00032\n",
      "\n",
      "Epoch 92: val_loss did not improve from 0.00032\n",
      "\n",
      "Epoch 93: val_loss did not improve from 0.00032\n",
      "\n",
      "Epoch 94: val_loss did not improve from 0.00032\n",
      "\n",
      "Epoch 95: val_loss did not improve from 0.00032\n",
      "\n",
      "Epoch 96: val_loss did not improve from 0.00032\n",
      "\n",
      "Epoch 97: val_loss did not improve from 0.00032\n",
      "\n",
      "Epoch 98: val_loss did not improve from 0.00032\n",
      "\n",
      "Epoch 99: val_loss did not improve from 0.00032\n",
      "\n",
      "Epoch 100: val_loss did not improve from 0.00032\n",
      "\n",
      "Epoch 101: val_loss did not improve from 0.00032\n",
      "\n",
      "Epoch 102: val_loss did not improve from 0.00032\n",
      "\n",
      "Epoch 103: val_loss did not improve from 0.00032\n",
      "\n",
      "Epoch 104: val_loss did not improve from 0.00032\n",
      "\n",
      "Epoch 105: val_loss did not improve from 0.00032\n",
      "\n",
      "Epoch 106: val_loss did not improve from 0.00032\n",
      "\n",
      "Epoch 107: val_loss did not improve from 0.00032\n",
      "\n",
      "Epoch 108: val_loss did not improve from 0.00032\n",
      "\n",
      "Epoch 109: val_loss did not improve from 0.00032\n",
      "\n",
      "Epoch 110: val_loss did not improve from 0.00032\n",
      "\n",
      "Epoch 111: val_loss did not improve from 0.00032\n",
      "\n",
      "Epoch 112: val_loss did not improve from 0.00032\n",
      "\n",
      "Epoch 113: val_loss did not improve from 0.00032\n",
      "\n",
      "Epoch 114: val_loss did not improve from 0.00032\n",
      "\n",
      "Epoch 115: val_loss did not improve from 0.00032\n",
      "\n",
      "Epoch 116: val_loss did not improve from 0.00032\n",
      "\n",
      "Epoch 117: val_loss did not improve from 0.00032\n",
      "\n",
      "Epoch 118: val_loss did not improve from 0.00032\n",
      "\n",
      "Epoch 119: val_loss did not improve from 0.00032\n",
      "\n",
      "Epoch 120: val_loss did not improve from 0.00032\n",
      "\n",
      "Epoch 121: val_loss did not improve from 0.00032\n",
      "\n",
      "Epoch 122: val_loss did not improve from 0.00032\n",
      "\n",
      "Epoch 123: val_loss did not improve from 0.00032\n",
      "\n",
      "Epoch 124: val_loss did not improve from 0.00032\n",
      "\n",
      "Epoch 125: val_loss did not improve from 0.00032\n",
      "\n",
      "Epoch 126: val_loss did not improve from 0.00032\n",
      "\n",
      "Epoch 127: val_loss did not improve from 0.00032\n",
      "\n",
      "Epoch 128: val_loss did not improve from 0.00032\n",
      "\n",
      "Epoch 129: val_loss did not improve from 0.00032\n",
      "\n",
      "Epoch 130: val_loss did not improve from 0.00032\n",
      "\n",
      "Epoch 131: val_loss did not improve from 0.00032\n",
      "\n",
      "Epoch 132: val_loss did not improve from 0.00032\n",
      "\n",
      "Epoch 133: val_loss did not improve from 0.00032\n",
      "\n",
      "Epoch 134: val_loss did not improve from 0.00032\n",
      "\n",
      "Epoch 135: val_loss did not improve from 0.00032\n",
      "\n",
      "Epoch 136: val_loss did not improve from 0.00032\n",
      "\n",
      "Epoch 137: val_loss did not improve from 0.00032\n",
      "\n",
      "Epoch 138: val_loss did not improve from 0.00032\n",
      "\n",
      "Epoch 139: val_loss did not improve from 0.00032\n",
      "\n",
      "Epoch 140: val_loss did not improve from 0.00032\n",
      "\n",
      "Epoch 141: val_loss did not improve from 0.00032\n",
      "\n",
      "Epoch 142: val_loss did not improve from 0.00032\n",
      "\n",
      "Epoch 143: val_loss did not improve from 0.00032\n",
      "\n",
      "Epoch 144: val_loss did not improve from 0.00032\n",
      "\n",
      "Epoch 145: val_loss did not improve from 0.00032\n",
      "\n",
      "Epoch 146: val_loss did not improve from 0.00032\n",
      "\n",
      "Epoch 147: val_loss did not improve from 0.00032\n",
      "\n",
      "Epoch 148: val_loss did not improve from 0.00032\n",
      "\n",
      "Epoch 149: val_loss did not improve from 0.00032\n",
      "\n",
      "Epoch 150: val_loss did not improve from 0.00032\n",
      "\n",
      "Epoch 151: val_loss did not improve from 0.00032\n",
      "\n",
      "Epoch 152: val_loss did not improve from 0.00032\n",
      "\n",
      "Epoch 153: val_loss did not improve from 0.00032\n",
      "\n",
      "Epoch 154: val_loss did not improve from 0.00032\n",
      "\n",
      "Epoch 155: val_loss did not improve from 0.00032\n",
      "\n",
      "Epoch 156: val_loss did not improve from 0.00032\n",
      "\n",
      "Epoch 157: val_loss did not improve from 0.00032\n",
      "\n",
      "Epoch 158: val_loss did not improve from 0.00032\n",
      "\n",
      "Epoch 159: val_loss did not improve from 0.00032\n",
      "\n",
      "Epoch 160: val_loss did not improve from 0.00032\n",
      "\n",
      "Epoch 161: val_loss did not improve from 0.00032\n",
      "\n",
      "Epoch 162: val_loss did not improve from 0.00032\n",
      "\n",
      "Epoch 163: val_loss did not improve from 0.00032\n",
      "\n",
      "Epoch 164: val_loss did not improve from 0.00032\n",
      "\n",
      "Epoch 165: val_loss did not improve from 0.00032\n",
      "\n",
      "Epoch 166: val_loss did not improve from 0.00032\n",
      "\n",
      "Epoch 167: val_loss did not improve from 0.00032\n",
      "\n",
      "Epoch 168: val_loss did not improve from 0.00032\n",
      "\n",
      "Epoch 169: val_loss did not improve from 0.00032\n",
      "\n",
      "Epoch 170: val_loss did not improve from 0.00032\n",
      "\n",
      "Epoch 171: val_loss did not improve from 0.00032\n",
      "\n",
      "Epoch 172: val_loss did not improve from 0.00032\n",
      "\n",
      "Epoch 173: val_loss did not improve from 0.00032\n",
      "\n",
      "Epoch 174: val_loss did not improve from 0.00032\n",
      "\n",
      "Epoch 175: val_loss did not improve from 0.00032\n",
      "\n",
      "Epoch 176: val_loss did not improve from 0.00032\n",
      "\n",
      "Epoch 177: val_loss did not improve from 0.00032\n",
      "\n",
      "Epoch 178: val_loss did not improve from 0.00032\n",
      "\n",
      "Epoch 179: val_loss improved from 0.00032 to 0.00031, saving model to 10Var_szc_lstm.h5\n"
     ]
    },
    {
     "name": "stderr",
     "output_type": "stream",
     "text": [
      "WARNING:absl:You are saving your model as an HDF5 file via `model.save()` or `keras.saving.save_model(model)`. This file format is considered legacy. We recommend using instead the native Keras format, e.g. `model.save('my_model.keras')` or `keras.saving.save_model(model, 'my_model.keras')`. \n"
     ]
    },
    {
     "name": "stdout",
     "output_type": "stream",
     "text": [
      "\n",
      "Epoch 180: val_loss did not improve from 0.00031\n",
      "\n",
      "Epoch 181: val_loss did not improve from 0.00031\n",
      "\n",
      "Epoch 182: val_loss did not improve from 0.00031\n",
      "\n",
      "Epoch 183: val_loss did not improve from 0.00031\n",
      "\n",
      "Epoch 184: val_loss did not improve from 0.00031\n",
      "\n",
      "Epoch 185: val_loss did not improve from 0.00031\n",
      "\n",
      "Epoch 186: val_loss did not improve from 0.00031\n",
      "\n",
      "Epoch 187: val_loss did not improve from 0.00031\n",
      "\n",
      "Epoch 188: val_loss did not improve from 0.00031\n",
      "\n",
      "Epoch 189: val_loss did not improve from 0.00031\n",
      "\n",
      "Epoch 190: val_loss did not improve from 0.00031\n",
      "\n",
      "Epoch 191: val_loss did not improve from 0.00031\n",
      "\n",
      "Epoch 192: val_loss did not improve from 0.00031\n",
      "\n",
      "Epoch 193: val_loss did not improve from 0.00031\n",
      "\n",
      "Epoch 194: val_loss did not improve from 0.00031\n",
      "\n",
      "Epoch 195: val_loss did not improve from 0.00031\n",
      "\n",
      "Epoch 196: val_loss did not improve from 0.00031\n",
      "\n",
      "Epoch 197: val_loss did not improve from 0.00031\n",
      "\n",
      "Epoch 198: val_loss did not improve from 0.00031\n",
      "\n",
      "Epoch 199: val_loss did not improve from 0.00031\n",
      "\n",
      "Epoch 200: val_loss improved from 0.00031 to 0.00029, saving model to 10Var_szc_lstm.h5\n"
     ]
    },
    {
     "name": "stderr",
     "output_type": "stream",
     "text": [
      "WARNING:absl:You are saving your model as an HDF5 file via `model.save()` or `keras.saving.save_model(model)`. This file format is considered legacy. We recommend using instead the native Keras format, e.g. `model.save('my_model.keras')` or `keras.saving.save_model(model, 'my_model.keras')`. \n"
     ]
    },
    {
     "name": "stdout",
     "output_type": "stream",
     "text": [
      "\n",
      "Epoch 201: val_loss did not improve from 0.00029\n",
      "\n",
      "Epoch 202: val_loss did not improve from 0.00029\n",
      "\n",
      "Epoch 203: val_loss did not improve from 0.00029\n",
      "\n",
      "Epoch 204: val_loss did not improve from 0.00029\n",
      "\n",
      "Epoch 205: val_loss did not improve from 0.00029\n",
      "\n",
      "Epoch 206: val_loss did not improve from 0.00029\n",
      "\n",
      "Epoch 207: val_loss did not improve from 0.00029\n",
      "\n",
      "Epoch 208: val_loss did not improve from 0.00029\n",
      "\n",
      "Epoch 209: val_loss did not improve from 0.00029\n",
      "\n",
      "Epoch 210: val_loss did not improve from 0.00029\n",
      "\n",
      "Epoch 211: val_loss did not improve from 0.00029\n",
      "\n",
      "Epoch 212: val_loss did not improve from 0.00029\n",
      "\n",
      "Epoch 213: val_loss did not improve from 0.00029\n",
      "\n",
      "Epoch 214: val_loss did not improve from 0.00029\n",
      "\n",
      "Epoch 215: val_loss improved from 0.00029 to 0.00026, saving model to 10Var_szc_lstm.h5\n"
     ]
    },
    {
     "name": "stderr",
     "output_type": "stream",
     "text": [
      "WARNING:absl:You are saving your model as an HDF5 file via `model.save()` or `keras.saving.save_model(model)`. This file format is considered legacy. We recommend using instead the native Keras format, e.g. `model.save('my_model.keras')` or `keras.saving.save_model(model, 'my_model.keras')`. \n"
     ]
    },
    {
     "name": "stdout",
     "output_type": "stream",
     "text": [
      "\n",
      "Epoch 216: val_loss did not improve from 0.00026\n",
      "\n",
      "Epoch 217: val_loss did not improve from 0.00026\n",
      "\n",
      "Epoch 218: val_loss did not improve from 0.00026\n",
      "\n",
      "Epoch 219: val_loss did not improve from 0.00026\n",
      "\n",
      "Epoch 220: val_loss did not improve from 0.00026\n",
      "\n",
      "Epoch 221: val_loss did not improve from 0.00026\n",
      "\n",
      "Epoch 222: val_loss did not improve from 0.00026\n",
      "\n",
      "Epoch 223: val_loss did not improve from 0.00026\n",
      "\n",
      "Epoch 224: val_loss did not improve from 0.00026\n",
      "\n",
      "Epoch 225: val_loss did not improve from 0.00026\n",
      "\n",
      "Epoch 226: val_loss did not improve from 0.00026\n",
      "\n",
      "Epoch 227: val_loss did not improve from 0.00026\n",
      "\n",
      "Epoch 228: val_loss did not improve from 0.00026\n",
      "\n",
      "Epoch 229: val_loss did not improve from 0.00026\n",
      "\n",
      "Epoch 230: val_loss improved from 0.00026 to 0.00025, saving model to 10Var_szc_lstm.h5\n"
     ]
    },
    {
     "name": "stderr",
     "output_type": "stream",
     "text": [
      "WARNING:absl:You are saving your model as an HDF5 file via `model.save()` or `keras.saving.save_model(model)`. This file format is considered legacy. We recommend using instead the native Keras format, e.g. `model.save('my_model.keras')` or `keras.saving.save_model(model, 'my_model.keras')`. \n"
     ]
    },
    {
     "name": "stdout",
     "output_type": "stream",
     "text": [
      "\n",
      "Epoch 231: val_loss did not improve from 0.00025\n",
      "\n",
      "Epoch 232: val_loss did not improve from 0.00025\n",
      "\n",
      "Epoch 233: val_loss did not improve from 0.00025\n",
      "\n",
      "Epoch 234: val_loss did not improve from 0.00025\n",
      "\n",
      "Epoch 235: val_loss did not improve from 0.00025\n",
      "\n",
      "Epoch 236: val_loss did not improve from 0.00025\n",
      "\n",
      "Epoch 237: val_loss did not improve from 0.00025\n",
      "\n",
      "Epoch 238: val_loss did not improve from 0.00025\n",
      "\n",
      "Epoch 239: val_loss did not improve from 0.00025\n",
      "\n",
      "Epoch 240: val_loss did not improve from 0.00025\n",
      "\n",
      "Epoch 241: val_loss did not improve from 0.00025\n",
      "\n",
      "Epoch 242: val_loss did not improve from 0.00025\n",
      "\n",
      "Epoch 243: val_loss did not improve from 0.00025\n",
      "\n",
      "Epoch 244: val_loss did not improve from 0.00025\n",
      "\n",
      "Epoch 245: val_loss did not improve from 0.00025\n",
      "\n",
      "Epoch 246: val_loss did not improve from 0.00025\n",
      "\n",
      "Epoch 247: val_loss did not improve from 0.00025\n",
      "\n",
      "Epoch 248: val_loss did not improve from 0.00025\n",
      "\n",
      "Epoch 249: val_loss did not improve from 0.00025\n",
      "\n",
      "Epoch 250: val_loss did not improve from 0.00025\n",
      "\u001b[1m5/5\u001b[0m \u001b[32m━━━━━━━━━━━━━━━━━━━━\u001b[0m\u001b[37m\u001b[0m \u001b[1m2s\u001b[0m 188ms/step\n",
      "Training with params: {'timesteps': 40, 'hl': [40, 35], 'lr': 0.001, 'batch_size': 64, 'num_epochs': 200}\n"
     ]
    },
    {
     "name": "stderr",
     "output_type": "stream",
     "text": [
      "c:\\Users\\84368\\AppData\\Local\\Programs\\Python\\Python311\\Lib\\site-packages\\keras\\src\\layers\\rnn\\rnn.py:200: UserWarning: Do not pass an `input_shape`/`input_dim` argument to a layer. When using Sequential models, prefer using an `Input(shape)` object as the first layer in the model instead.\n",
      "  super().__init__(**kwargs)\n"
     ]
    },
    {
     "name": "stdout",
     "output_type": "stream",
     "text": [
      "\n",
      "Epoch 1: val_loss did not improve from 0.00025\n",
      "\n",
      "Epoch 2: val_loss did not improve from 0.00025\n",
      "\n",
      "Epoch 3: val_loss did not improve from 0.00025\n",
      "\n",
      "Epoch 4: val_loss did not improve from 0.00025\n",
      "\n",
      "Epoch 5: val_loss did not improve from 0.00025\n",
      "\n",
      "Epoch 6: val_loss did not improve from 0.00025\n",
      "\n",
      "Epoch 7: val_loss did not improve from 0.00025\n",
      "\n",
      "Epoch 8: val_loss did not improve from 0.00025\n",
      "\n",
      "Epoch 9: val_loss did not improve from 0.00025\n",
      "\n",
      "Epoch 10: val_loss did not improve from 0.00025\n",
      "\n",
      "Epoch 11: val_loss did not improve from 0.00025\n",
      "\n",
      "Epoch 12: val_loss did not improve from 0.00025\n",
      "\n",
      "Epoch 13: val_loss did not improve from 0.00025\n",
      "\n",
      "Epoch 14: val_loss did not improve from 0.00025\n",
      "\n",
      "Epoch 15: val_loss did not improve from 0.00025\n",
      "\n",
      "Epoch 16: val_loss did not improve from 0.00025\n",
      "\n",
      "Epoch 17: val_loss did not improve from 0.00025\n",
      "\n",
      "Epoch 18: val_loss did not improve from 0.00025\n",
      "\n",
      "Epoch 19: val_loss did not improve from 0.00025\n",
      "\n",
      "Epoch 20: val_loss did not improve from 0.00025\n",
      "\n",
      "Epoch 21: val_loss did not improve from 0.00025\n",
      "\n",
      "Epoch 22: val_loss did not improve from 0.00025\n",
      "\n",
      "Epoch 23: val_loss did not improve from 0.00025\n",
      "\n",
      "Epoch 24: val_loss did not improve from 0.00025\n",
      "\n",
      "Epoch 25: val_loss did not improve from 0.00025\n",
      "\n",
      "Epoch 26: val_loss did not improve from 0.00025\n",
      "\n",
      "Epoch 27: val_loss did not improve from 0.00025\n",
      "\n",
      "Epoch 28: val_loss did not improve from 0.00025\n",
      "\n",
      "Epoch 29: val_loss did not improve from 0.00025\n",
      "\n",
      "Epoch 30: val_loss did not improve from 0.00025\n",
      "\n",
      "Epoch 31: val_loss did not improve from 0.00025\n",
      "\n",
      "Epoch 32: val_loss did not improve from 0.00025\n",
      "\n",
      "Epoch 33: val_loss did not improve from 0.00025\n",
      "\n",
      "Epoch 34: val_loss did not improve from 0.00025\n",
      "\n",
      "Epoch 35: val_loss did not improve from 0.00025\n",
      "\n",
      "Epoch 36: val_loss did not improve from 0.00025\n",
      "\n",
      "Epoch 37: val_loss did not improve from 0.00025\n",
      "\n",
      "Epoch 38: val_loss did not improve from 0.00025\n",
      "\n",
      "Epoch 39: val_loss did not improve from 0.00025\n",
      "\n",
      "Epoch 40: val_loss did not improve from 0.00025\n",
      "\n",
      "Epoch 41: val_loss did not improve from 0.00025\n",
      "\n",
      "Epoch 42: val_loss did not improve from 0.00025\n",
      "\n",
      "Epoch 43: val_loss did not improve from 0.00025\n",
      "\n",
      "Epoch 44: val_loss did not improve from 0.00025\n",
      "\n",
      "Epoch 45: val_loss did not improve from 0.00025\n",
      "\n",
      "Epoch 46: val_loss did not improve from 0.00025\n",
      "\n",
      "Epoch 47: val_loss did not improve from 0.00025\n",
      "\n",
      "Epoch 48: val_loss did not improve from 0.00025\n",
      "\n",
      "Epoch 49: val_loss did not improve from 0.00025\n",
      "\n",
      "Epoch 50: val_loss did not improve from 0.00025\n",
      "\n",
      "Epoch 51: val_loss did not improve from 0.00025\n",
      "\n",
      "Epoch 52: val_loss did not improve from 0.00025\n",
      "\n",
      "Epoch 53: val_loss did not improve from 0.00025\n",
      "\n",
      "Epoch 54: val_loss did not improve from 0.00025\n",
      "\n",
      "Epoch 55: val_loss did not improve from 0.00025\n",
      "\n",
      "Epoch 56: val_loss did not improve from 0.00025\n",
      "\n",
      "Epoch 57: val_loss did not improve from 0.00025\n",
      "\n",
      "Epoch 58: val_loss did not improve from 0.00025\n",
      "\n",
      "Epoch 59: val_loss did not improve from 0.00025\n",
      "\n",
      "Epoch 60: val_loss did not improve from 0.00025\n",
      "\n",
      "Epoch 61: val_loss did not improve from 0.00025\n",
      "\n",
      "Epoch 62: val_loss did not improve from 0.00025\n",
      "\n",
      "Epoch 63: val_loss did not improve from 0.00025\n",
      "\n",
      "Epoch 64: val_loss did not improve from 0.00025\n",
      "\n",
      "Epoch 65: val_loss did not improve from 0.00025\n",
      "\n",
      "Epoch 66: val_loss did not improve from 0.00025\n",
      "\n",
      "Epoch 67: val_loss did not improve from 0.00025\n",
      "\n",
      "Epoch 68: val_loss did not improve from 0.00025\n",
      "\n",
      "Epoch 69: val_loss did not improve from 0.00025\n",
      "\n",
      "Epoch 70: val_loss did not improve from 0.00025\n",
      "\n",
      "Epoch 71: val_loss did not improve from 0.00025\n",
      "\n",
      "Epoch 72: val_loss did not improve from 0.00025\n",
      "\n",
      "Epoch 73: val_loss did not improve from 0.00025\n",
      "\n",
      "Epoch 74: val_loss did not improve from 0.00025\n",
      "\n",
      "Epoch 75: val_loss did not improve from 0.00025\n",
      "\n",
      "Epoch 76: val_loss did not improve from 0.00025\n",
      "\n",
      "Epoch 77: val_loss did not improve from 0.00025\n",
      "\n",
      "Epoch 78: val_loss did not improve from 0.00025\n",
      "\n",
      "Epoch 79: val_loss did not improve from 0.00025\n",
      "\n",
      "Epoch 80: val_loss did not improve from 0.00025\n",
      "\n",
      "Epoch 81: val_loss did not improve from 0.00025\n",
      "\n",
      "Epoch 82: val_loss did not improve from 0.00025\n",
      "\n",
      "Epoch 83: val_loss did not improve from 0.00025\n",
      "\n",
      "Epoch 84: val_loss did not improve from 0.00025\n",
      "\n",
      "Epoch 85: val_loss did not improve from 0.00025\n",
      "\n",
      "Epoch 86: val_loss did not improve from 0.00025\n",
      "\n",
      "Epoch 87: val_loss did not improve from 0.00025\n",
      "\n",
      "Epoch 88: val_loss did not improve from 0.00025\n",
      "\n",
      "Epoch 89: val_loss did not improve from 0.00025\n",
      "\n",
      "Epoch 90: val_loss did not improve from 0.00025\n",
      "\n",
      "Epoch 91: val_loss did not improve from 0.00025\n",
      "\n",
      "Epoch 92: val_loss did not improve from 0.00025\n",
      "\n",
      "Epoch 93: val_loss did not improve from 0.00025\n",
      "\n",
      "Epoch 94: val_loss did not improve from 0.00025\n",
      "Epoch 94: early stopping\n",
      "\u001b[1m5/5\u001b[0m \u001b[32m━━━━━━━━━━━━━━━━━━━━\u001b[0m\u001b[37m\u001b[0m \u001b[1m2s\u001b[0m 262ms/step\n",
      "Training with params: {'timesteps': 40, 'hl': [40, 35], 'lr': 0.001, 'batch_size': 64, 'num_epochs': 250}\n"
     ]
    },
    {
     "name": "stderr",
     "output_type": "stream",
     "text": [
      "c:\\Users\\84368\\AppData\\Local\\Programs\\Python\\Python311\\Lib\\site-packages\\keras\\src\\layers\\rnn\\rnn.py:200: UserWarning: Do not pass an `input_shape`/`input_dim` argument to a layer. When using Sequential models, prefer using an `Input(shape)` object as the first layer in the model instead.\n",
      "  super().__init__(**kwargs)\n"
     ]
    },
    {
     "name": "stdout",
     "output_type": "stream",
     "text": [
      "\n",
      "Epoch 1: val_loss did not improve from 0.00025\n",
      "\n",
      "Epoch 2: val_loss did not improve from 0.00025\n",
      "\n",
      "Epoch 3: val_loss did not improve from 0.00025\n",
      "\n",
      "Epoch 4: val_loss did not improve from 0.00025\n",
      "\n",
      "Epoch 5: val_loss did not improve from 0.00025\n",
      "\n",
      "Epoch 6: val_loss did not improve from 0.00025\n",
      "\n",
      "Epoch 7: val_loss did not improve from 0.00025\n",
      "\n",
      "Epoch 8: val_loss did not improve from 0.00025\n",
      "\n",
      "Epoch 9: val_loss did not improve from 0.00025\n",
      "\n",
      "Epoch 10: val_loss did not improve from 0.00025\n",
      "\n",
      "Epoch 11: val_loss did not improve from 0.00025\n",
      "\n",
      "Epoch 12: val_loss did not improve from 0.00025\n",
      "\n",
      "Epoch 13: val_loss did not improve from 0.00025\n",
      "\n",
      "Epoch 14: val_loss did not improve from 0.00025\n",
      "\n",
      "Epoch 15: val_loss did not improve from 0.00025\n",
      "\n",
      "Epoch 16: val_loss did not improve from 0.00025\n",
      "\n",
      "Epoch 17: val_loss did not improve from 0.00025\n",
      "\n",
      "Epoch 18: val_loss did not improve from 0.00025\n",
      "\n",
      "Epoch 19: val_loss did not improve from 0.00025\n",
      "\n",
      "Epoch 20: val_loss did not improve from 0.00025\n",
      "\n",
      "Epoch 21: val_loss did not improve from 0.00025\n",
      "\n",
      "Epoch 22: val_loss did not improve from 0.00025\n",
      "\n",
      "Epoch 23: val_loss did not improve from 0.00025\n",
      "\n",
      "Epoch 24: val_loss did not improve from 0.00025\n",
      "\n",
      "Epoch 25: val_loss did not improve from 0.00025\n",
      "\n",
      "Epoch 26: val_loss did not improve from 0.00025\n",
      "\n",
      "Epoch 27: val_loss did not improve from 0.00025\n",
      "\n",
      "Epoch 28: val_loss did not improve from 0.00025\n",
      "\n",
      "Epoch 29: val_loss did not improve from 0.00025\n",
      "\n",
      "Epoch 30: val_loss did not improve from 0.00025\n",
      "\n",
      "Epoch 31: val_loss did not improve from 0.00025\n",
      "\n",
      "Epoch 32: val_loss did not improve from 0.00025\n",
      "\n",
      "Epoch 33: val_loss did not improve from 0.00025\n",
      "\n",
      "Epoch 34: val_loss did not improve from 0.00025\n",
      "\n",
      "Epoch 35: val_loss did not improve from 0.00025\n",
      "\n",
      "Epoch 36: val_loss did not improve from 0.00025\n",
      "\n",
      "Epoch 37: val_loss did not improve from 0.00025\n",
      "\n",
      "Epoch 38: val_loss did not improve from 0.00025\n",
      "\n",
      "Epoch 39: val_loss did not improve from 0.00025\n",
      "\n",
      "Epoch 40: val_loss did not improve from 0.00025\n",
      "\n",
      "Epoch 41: val_loss did not improve from 0.00025\n",
      "\n",
      "Epoch 42: val_loss did not improve from 0.00025\n",
      "\n",
      "Epoch 43: val_loss did not improve from 0.00025\n",
      "\n",
      "Epoch 44: val_loss did not improve from 0.00025\n",
      "\n",
      "Epoch 45: val_loss did not improve from 0.00025\n",
      "\n",
      "Epoch 46: val_loss did not improve from 0.00025\n",
      "\n",
      "Epoch 47: val_loss did not improve from 0.00025\n",
      "\n",
      "Epoch 48: val_loss did not improve from 0.00025\n",
      "\n",
      "Epoch 49: val_loss did not improve from 0.00025\n",
      "\n",
      "Epoch 50: val_loss did not improve from 0.00025\n",
      "\n",
      "Epoch 51: val_loss did not improve from 0.00025\n",
      "\n",
      "Epoch 52: val_loss did not improve from 0.00025\n",
      "\n",
      "Epoch 53: val_loss did not improve from 0.00025\n",
      "\n",
      "Epoch 54: val_loss did not improve from 0.00025\n",
      "\n",
      "Epoch 55: val_loss did not improve from 0.00025\n",
      "\n",
      "Epoch 56: val_loss did not improve from 0.00025\n",
      "\n",
      "Epoch 57: val_loss did not improve from 0.00025\n",
      "\n",
      "Epoch 58: val_loss did not improve from 0.00025\n",
      "\n",
      "Epoch 59: val_loss did not improve from 0.00025\n",
      "\n",
      "Epoch 60: val_loss did not improve from 0.00025\n",
      "\n",
      "Epoch 61: val_loss did not improve from 0.00025\n",
      "\n",
      "Epoch 62: val_loss did not improve from 0.00025\n",
      "\n",
      "Epoch 63: val_loss did not improve from 0.00025\n",
      "\n",
      "Epoch 64: val_loss did not improve from 0.00025\n",
      "\n",
      "Epoch 65: val_loss did not improve from 0.00025\n",
      "\n",
      "Epoch 66: val_loss did not improve from 0.00025\n",
      "\n",
      "Epoch 67: val_loss did not improve from 0.00025\n",
      "\n",
      "Epoch 68: val_loss did not improve from 0.00025\n",
      "\n",
      "Epoch 69: val_loss did not improve from 0.00025\n",
      "\n",
      "Epoch 70: val_loss did not improve from 0.00025\n",
      "\n",
      "Epoch 71: val_loss did not improve from 0.00025\n",
      "\n",
      "Epoch 72: val_loss did not improve from 0.00025\n",
      "\n",
      "Epoch 73: val_loss did not improve from 0.00025\n",
      "\n",
      "Epoch 74: val_loss did not improve from 0.00025\n",
      "\n",
      "Epoch 75: val_loss did not improve from 0.00025\n",
      "\n",
      "Epoch 76: val_loss did not improve from 0.00025\n",
      "\n",
      "Epoch 77: val_loss did not improve from 0.00025\n",
      "\n",
      "Epoch 78: val_loss did not improve from 0.00025\n",
      "\n",
      "Epoch 79: val_loss did not improve from 0.00025\n",
      "\n",
      "Epoch 80: val_loss did not improve from 0.00025\n",
      "\n",
      "Epoch 81: val_loss did not improve from 0.00025\n",
      "\n",
      "Epoch 82: val_loss did not improve from 0.00025\n",
      "\n",
      "Epoch 83: val_loss did not improve from 0.00025\n",
      "\n",
      "Epoch 84: val_loss did not improve from 0.00025\n",
      "\n",
      "Epoch 85: val_loss did not improve from 0.00025\n",
      "\n",
      "Epoch 86: val_loss did not improve from 0.00025\n",
      "\n",
      "Epoch 87: val_loss did not improve from 0.00025\n",
      "\n",
      "Epoch 88: val_loss did not improve from 0.00025\n",
      "\n",
      "Epoch 89: val_loss did not improve from 0.00025\n",
      "\n",
      "Epoch 90: val_loss did not improve from 0.00025\n",
      "\n",
      "Epoch 91: val_loss did not improve from 0.00025\n",
      "\n",
      "Epoch 92: val_loss did not improve from 0.00025\n",
      "\n",
      "Epoch 93: val_loss did not improve from 0.00025\n",
      "\n",
      "Epoch 94: val_loss did not improve from 0.00025\n",
      "\n",
      "Epoch 95: val_loss did not improve from 0.00025\n",
      "\n",
      "Epoch 96: val_loss did not improve from 0.00025\n",
      "\n",
      "Epoch 97: val_loss did not improve from 0.00025\n",
      "\n",
      "Epoch 98: val_loss did not improve from 0.00025\n",
      "\n",
      "Epoch 99: val_loss did not improve from 0.00025\n",
      "\n",
      "Epoch 100: val_loss did not improve from 0.00025\n",
      "\n",
      "Epoch 101: val_loss did not improve from 0.00025\n",
      "\n",
      "Epoch 102: val_loss did not improve from 0.00025\n",
      "\n",
      "Epoch 103: val_loss did not improve from 0.00025\n",
      "\n",
      "Epoch 104: val_loss did not improve from 0.00025\n",
      "\n",
      "Epoch 105: val_loss did not improve from 0.00025\n",
      "\n",
      "Epoch 106: val_loss did not improve from 0.00025\n",
      "\n",
      "Epoch 107: val_loss did not improve from 0.00025\n",
      "\n",
      "Epoch 108: val_loss did not improve from 0.00025\n",
      "\n",
      "Epoch 109: val_loss did not improve from 0.00025\n",
      "\n",
      "Epoch 110: val_loss did not improve from 0.00025\n",
      "\n",
      "Epoch 111: val_loss did not improve from 0.00025\n",
      "\n",
      "Epoch 112: val_loss did not improve from 0.00025\n",
      "\n",
      "Epoch 113: val_loss did not improve from 0.00025\n",
      "\n",
      "Epoch 114: val_loss did not improve from 0.00025\n",
      "\n",
      "Epoch 115: val_loss did not improve from 0.00025\n",
      "\n",
      "Epoch 116: val_loss did not improve from 0.00025\n",
      "\n",
      "Epoch 117: val_loss did not improve from 0.00025\n",
      "\n",
      "Epoch 118: val_loss did not improve from 0.00025\n",
      "\n",
      "Epoch 119: val_loss did not improve from 0.00025\n",
      "\n",
      "Epoch 120: val_loss did not improve from 0.00025\n",
      "\n",
      "Epoch 121: val_loss did not improve from 0.00025\n",
      "\n",
      "Epoch 122: val_loss did not improve from 0.00025\n",
      "\n",
      "Epoch 123: val_loss did not improve from 0.00025\n",
      "\n",
      "Epoch 124: val_loss did not improve from 0.00025\n",
      "\n",
      "Epoch 125: val_loss did not improve from 0.00025\n",
      "\n",
      "Epoch 126: val_loss did not improve from 0.00025\n",
      "\n",
      "Epoch 127: val_loss did not improve from 0.00025\n",
      "\n",
      "Epoch 128: val_loss did not improve from 0.00025\n",
      "\n",
      "Epoch 129: val_loss did not improve from 0.00025\n",
      "\n",
      "Epoch 130: val_loss did not improve from 0.00025\n",
      "\n",
      "Epoch 131: val_loss did not improve from 0.00025\n",
      "\n",
      "Epoch 132: val_loss did not improve from 0.00025\n",
      "\n",
      "Epoch 133: val_loss did not improve from 0.00025\n",
      "\n",
      "Epoch 134: val_loss did not improve from 0.00025\n",
      "\n",
      "Epoch 135: val_loss did not improve from 0.00025\n",
      "\n",
      "Epoch 136: val_loss did not improve from 0.00025\n",
      "\n",
      "Epoch 137: val_loss did not improve from 0.00025\n",
      "\n",
      "Epoch 138: val_loss did not improve from 0.00025\n",
      "\n",
      "Epoch 139: val_loss did not improve from 0.00025\n",
      "\n",
      "Epoch 140: val_loss did not improve from 0.00025\n",
      "\n",
      "Epoch 141: val_loss did not improve from 0.00025\n",
      "\n",
      "Epoch 142: val_loss did not improve from 0.00025\n",
      "\n",
      "Epoch 143: val_loss did not improve from 0.00025\n",
      "\n",
      "Epoch 144: val_loss did not improve from 0.00025\n",
      "\n",
      "Epoch 145: val_loss did not improve from 0.00025\n",
      "\n",
      "Epoch 146: val_loss did not improve from 0.00025\n",
      "\n",
      "Epoch 147: val_loss did not improve from 0.00025\n",
      "\n",
      "Epoch 148: val_loss did not improve from 0.00025\n",
      "\n",
      "Epoch 149: val_loss did not improve from 0.00025\n",
      "\n",
      "Epoch 150: val_loss did not improve from 0.00025\n",
      "\n",
      "Epoch 151: val_loss did not improve from 0.00025\n",
      "\n",
      "Epoch 152: val_loss did not improve from 0.00025\n",
      "\n",
      "Epoch 153: val_loss did not improve from 0.00025\n",
      "\n",
      "Epoch 154: val_loss did not improve from 0.00025\n",
      "\n",
      "Epoch 155: val_loss did not improve from 0.00025\n",
      "\n",
      "Epoch 156: val_loss did not improve from 0.00025\n",
      "\n",
      "Epoch 157: val_loss did not improve from 0.00025\n",
      "\n",
      "Epoch 158: val_loss did not improve from 0.00025\n",
      "\n",
      "Epoch 159: val_loss did not improve from 0.00025\n",
      "\n",
      "Epoch 160: val_loss did not improve from 0.00025\n",
      "\n",
      "Epoch 161: val_loss did not improve from 0.00025\n",
      "\n",
      "Epoch 162: val_loss did not improve from 0.00025\n",
      "\n",
      "Epoch 163: val_loss did not improve from 0.00025\n",
      "\n",
      "Epoch 164: val_loss did not improve from 0.00025\n",
      "\n",
      "Epoch 165: val_loss did not improve from 0.00025\n",
      "\n",
      "Epoch 166: val_loss did not improve from 0.00025\n",
      "\n",
      "Epoch 167: val_loss did not improve from 0.00025\n",
      "\n",
      "Epoch 168: val_loss did not improve from 0.00025\n",
      "\n",
      "Epoch 169: val_loss did not improve from 0.00025\n",
      "\n",
      "Epoch 170: val_loss did not improve from 0.00025\n",
      "\n",
      "Epoch 171: val_loss did not improve from 0.00025\n",
      "\n",
      "Epoch 172: val_loss did not improve from 0.00025\n",
      "\n",
      "Epoch 173: val_loss did not improve from 0.00025\n",
      "\n",
      "Epoch 174: val_loss did not improve from 0.00025\n",
      "\n",
      "Epoch 175: val_loss did not improve from 0.00025\n",
      "\n",
      "Epoch 176: val_loss did not improve from 0.00025\n",
      "\n",
      "Epoch 177: val_loss did not improve from 0.00025\n",
      "\n",
      "Epoch 178: val_loss did not improve from 0.00025\n",
      "\n",
      "Epoch 179: val_loss did not improve from 0.00025\n",
      "\n",
      "Epoch 180: val_loss did not improve from 0.00025\n",
      "\n",
      "Epoch 181: val_loss did not improve from 0.00025\n",
      "\n",
      "Epoch 182: val_loss did not improve from 0.00025\n",
      "\n",
      "Epoch 183: val_loss did not improve from 0.00025\n",
      "\n",
      "Epoch 184: val_loss did not improve from 0.00025\n",
      "\n",
      "Epoch 185: val_loss did not improve from 0.00025\n",
      "\n",
      "Epoch 186: val_loss did not improve from 0.00025\n",
      "\n",
      "Epoch 187: val_loss did not improve from 0.00025\n",
      "\n",
      "Epoch 188: val_loss did not improve from 0.00025\n",
      "\n",
      "Epoch 189: val_loss did not improve from 0.00025\n",
      "\n",
      "Epoch 190: val_loss did not improve from 0.00025\n",
      "\n",
      "Epoch 191: val_loss did not improve from 0.00025\n",
      "\n",
      "Epoch 192: val_loss did not improve from 0.00025\n",
      "\n",
      "Epoch 193: val_loss did not improve from 0.00025\n",
      "\n",
      "Epoch 194: val_loss did not improve from 0.00025\n",
      "\n",
      "Epoch 195: val_loss did not improve from 0.00025\n",
      "\n",
      "Epoch 196: val_loss did not improve from 0.00025\n",
      "\n",
      "Epoch 197: val_loss did not improve from 0.00025\n",
      "\n",
      "Epoch 198: val_loss did not improve from 0.00025\n",
      "\n",
      "Epoch 199: val_loss did not improve from 0.00025\n",
      "\n",
      "Epoch 200: val_loss did not improve from 0.00025\n",
      "\n",
      "Epoch 201: val_loss did not improve from 0.00025\n",
      "\n",
      "Epoch 202: val_loss did not improve from 0.00025\n",
      "\n",
      "Epoch 203: val_loss did not improve from 0.00025\n",
      "\n",
      "Epoch 204: val_loss did not improve from 0.00025\n",
      "\n",
      "Epoch 205: val_loss did not improve from 0.00025\n",
      "\n",
      "Epoch 206: val_loss did not improve from 0.00025\n",
      "\n",
      "Epoch 207: val_loss did not improve from 0.00025\n",
      "\n",
      "Epoch 208: val_loss did not improve from 0.00025\n",
      "\n",
      "Epoch 209: val_loss did not improve from 0.00025\n",
      "\n",
      "Epoch 210: val_loss did not improve from 0.00025\n",
      "\n",
      "Epoch 211: val_loss did not improve from 0.00025\n",
      "\n",
      "Epoch 212: val_loss did not improve from 0.00025\n",
      "\n",
      "Epoch 213: val_loss did not improve from 0.00025\n",
      "\n",
      "Epoch 214: val_loss did not improve from 0.00025\n",
      "\n",
      "Epoch 215: val_loss did not improve from 0.00025\n",
      "\n",
      "Epoch 216: val_loss did not improve from 0.00025\n",
      "\n",
      "Epoch 217: val_loss did not improve from 0.00025\n",
      "\n",
      "Epoch 218: val_loss did not improve from 0.00025\n",
      "\n",
      "Epoch 219: val_loss did not improve from 0.00025\n",
      "\n",
      "Epoch 220: val_loss did not improve from 0.00025\n",
      "\n",
      "Epoch 221: val_loss did not improve from 0.00025\n",
      "\n",
      "Epoch 222: val_loss did not improve from 0.00025\n",
      "\n",
      "Epoch 223: val_loss did not improve from 0.00025\n",
      "\n",
      "Epoch 224: val_loss did not improve from 0.00025\n",
      "\n",
      "Epoch 225: val_loss did not improve from 0.00025\n",
      "\n",
      "Epoch 226: val_loss did not improve from 0.00025\n",
      "\n",
      "Epoch 227: val_loss did not improve from 0.00025\n",
      "\n",
      "Epoch 228: val_loss did not improve from 0.00025\n",
      "\n",
      "Epoch 229: val_loss did not improve from 0.00025\n",
      "\n",
      "Epoch 230: val_loss did not improve from 0.00025\n",
      "\n",
      "Epoch 231: val_loss did not improve from 0.00025\n",
      "\n",
      "Epoch 232: val_loss did not improve from 0.00025\n",
      "\n",
      "Epoch 233: val_loss did not improve from 0.00025\n",
      "\n",
      "Epoch 234: val_loss did not improve from 0.00025\n",
      "\n",
      "Epoch 235: val_loss did not improve from 0.00025\n",
      "\n",
      "Epoch 236: val_loss did not improve from 0.00025\n",
      "\n",
      "Epoch 237: val_loss did not improve from 0.00025\n",
      "\n",
      "Epoch 238: val_loss did not improve from 0.00025\n",
      "\n",
      "Epoch 239: val_loss did not improve from 0.00025\n",
      "\n",
      "Epoch 240: val_loss did not improve from 0.00025\n",
      "\n",
      "Epoch 241: val_loss did not improve from 0.00025\n",
      "\n",
      "Epoch 242: val_loss did not improve from 0.00025\n",
      "\n",
      "Epoch 243: val_loss did not improve from 0.00025\n",
      "\n",
      "Epoch 244: val_loss did not improve from 0.00025\n",
      "\n",
      "Epoch 245: val_loss did not improve from 0.00025\n",
      "\n",
      "Epoch 246: val_loss did not improve from 0.00025\n",
      "\n",
      "Epoch 247: val_loss did not improve from 0.00025\n",
      "\n",
      "Epoch 248: val_loss did not improve from 0.00025\n",
      "\n",
      "Epoch 249: val_loss did not improve from 0.00025\n",
      "\n",
      "Epoch 250: val_loss did not improve from 0.00025\n",
      "\u001b[1m5/5\u001b[0m \u001b[32m━━━━━━━━━━━━━━━━━━━━\u001b[0m\u001b[37m\u001b[0m \u001b[1m3s\u001b[0m 412ms/step\n",
      "Training with params: {'timesteps': 40, 'hl': [40, 35], 'lr': 0.0001, 'batch_size': 32, 'num_epochs': 200}\n"
     ]
    },
    {
     "name": "stderr",
     "output_type": "stream",
     "text": [
      "c:\\Users\\84368\\AppData\\Local\\Programs\\Python\\Python311\\Lib\\site-packages\\keras\\src\\layers\\rnn\\rnn.py:200: UserWarning: Do not pass an `input_shape`/`input_dim` argument to a layer. When using Sequential models, prefer using an `Input(shape)` object as the first layer in the model instead.\n",
      "  super().__init__(**kwargs)\n"
     ]
    },
    {
     "name": "stdout",
     "output_type": "stream",
     "text": [
      "\n",
      "Epoch 1: val_loss did not improve from 0.00025\n",
      "\n",
      "Epoch 2: val_loss did not improve from 0.00025\n",
      "\n",
      "Epoch 3: val_loss did not improve from 0.00025\n",
      "\n",
      "Epoch 4: val_loss did not improve from 0.00025\n",
      "\n",
      "Epoch 5: val_loss did not improve from 0.00025\n",
      "\n",
      "Epoch 6: val_loss did not improve from 0.00025\n",
      "\n",
      "Epoch 7: val_loss did not improve from 0.00025\n",
      "\n",
      "Epoch 8: val_loss did not improve from 0.00025\n",
      "\n",
      "Epoch 9: val_loss did not improve from 0.00025\n",
      "\n",
      "Epoch 10: val_loss did not improve from 0.00025\n",
      "\n",
      "Epoch 11: val_loss did not improve from 0.00025\n",
      "\n",
      "Epoch 12: val_loss did not improve from 0.00025\n",
      "\n",
      "Epoch 13: val_loss did not improve from 0.00025\n",
      "\n",
      "Epoch 14: val_loss did not improve from 0.00025\n",
      "\n",
      "Epoch 15: val_loss did not improve from 0.00025\n",
      "\n",
      "Epoch 16: val_loss did not improve from 0.00025\n",
      "\n",
      "Epoch 17: val_loss did not improve from 0.00025\n",
      "\n",
      "Epoch 18: val_loss did not improve from 0.00025\n",
      "\n",
      "Epoch 19: val_loss did not improve from 0.00025\n",
      "\n",
      "Epoch 20: val_loss did not improve from 0.00025\n",
      "\n",
      "Epoch 21: val_loss did not improve from 0.00025\n",
      "\n",
      "Epoch 22: val_loss did not improve from 0.00025\n",
      "\n",
      "Epoch 23: val_loss did not improve from 0.00025\n",
      "\n",
      "Epoch 24: val_loss did not improve from 0.00025\n",
      "\n",
      "Epoch 25: val_loss did not improve from 0.00025\n",
      "\n",
      "Epoch 26: val_loss did not improve from 0.00025\n",
      "\n",
      "Epoch 27: val_loss did not improve from 0.00025\n",
      "\n",
      "Epoch 28: val_loss did not improve from 0.00025\n",
      "\n",
      "Epoch 29: val_loss did not improve from 0.00025\n",
      "\n",
      "Epoch 30: val_loss did not improve from 0.00025\n",
      "\n",
      "Epoch 31: val_loss did not improve from 0.00025\n",
      "\n",
      "Epoch 32: val_loss did not improve from 0.00025\n",
      "\n",
      "Epoch 33: val_loss did not improve from 0.00025\n",
      "\n",
      "Epoch 34: val_loss did not improve from 0.00025\n",
      "\n",
      "Epoch 35: val_loss did not improve from 0.00025\n",
      "\n",
      "Epoch 36: val_loss did not improve from 0.00025\n",
      "\n",
      "Epoch 37: val_loss did not improve from 0.00025\n",
      "\n",
      "Epoch 38: val_loss did not improve from 0.00025\n",
      "\n",
      "Epoch 39: val_loss did not improve from 0.00025\n",
      "\n",
      "Epoch 40: val_loss did not improve from 0.00025\n",
      "\n",
      "Epoch 41: val_loss did not improve from 0.00025\n",
      "\n",
      "Epoch 42: val_loss did not improve from 0.00025\n",
      "\n",
      "Epoch 43: val_loss did not improve from 0.00025\n",
      "\n",
      "Epoch 44: val_loss did not improve from 0.00025\n",
      "\n",
      "Epoch 45: val_loss did not improve from 0.00025\n",
      "\n",
      "Epoch 46: val_loss did not improve from 0.00025\n",
      "\n",
      "Epoch 47: val_loss did not improve from 0.00025\n",
      "\n",
      "Epoch 48: val_loss did not improve from 0.00025\n",
      "\n",
      "Epoch 49: val_loss did not improve from 0.00025\n",
      "\n",
      "Epoch 50: val_loss did not improve from 0.00025\n",
      "\n",
      "Epoch 51: val_loss did not improve from 0.00025\n",
      "\n",
      "Epoch 52: val_loss did not improve from 0.00025\n",
      "\n",
      "Epoch 53: val_loss did not improve from 0.00025\n",
      "\n",
      "Epoch 54: val_loss did not improve from 0.00025\n",
      "\n",
      "Epoch 55: val_loss did not improve from 0.00025\n",
      "\n",
      "Epoch 56: val_loss did not improve from 0.00025\n",
      "\n",
      "Epoch 57: val_loss did not improve from 0.00025\n",
      "\n",
      "Epoch 58: val_loss did not improve from 0.00025\n",
      "\n",
      "Epoch 59: val_loss did not improve from 0.00025\n",
      "\n",
      "Epoch 60: val_loss did not improve from 0.00025\n",
      "\n",
      "Epoch 61: val_loss did not improve from 0.00025\n",
      "\n",
      "Epoch 62: val_loss did not improve from 0.00025\n",
      "\n",
      "Epoch 63: val_loss did not improve from 0.00025\n",
      "\n",
      "Epoch 64: val_loss did not improve from 0.00025\n",
      "\n",
      "Epoch 65: val_loss did not improve from 0.00025\n",
      "\n",
      "Epoch 66: val_loss did not improve from 0.00025\n",
      "\n",
      "Epoch 67: val_loss did not improve from 0.00025\n",
      "\n",
      "Epoch 68: val_loss did not improve from 0.00025\n",
      "\n",
      "Epoch 69: val_loss did not improve from 0.00025\n",
      "\n",
      "Epoch 70: val_loss did not improve from 0.00025\n",
      "\n",
      "Epoch 71: val_loss did not improve from 0.00025\n",
      "\n",
      "Epoch 72: val_loss did not improve from 0.00025\n",
      "\n",
      "Epoch 73: val_loss did not improve from 0.00025\n",
      "\n",
      "Epoch 74: val_loss did not improve from 0.00025\n",
      "\n",
      "Epoch 75: val_loss did not improve from 0.00025\n",
      "\n",
      "Epoch 76: val_loss did not improve from 0.00025\n",
      "\n",
      "Epoch 77: val_loss did not improve from 0.00025\n",
      "\n",
      "Epoch 78: val_loss did not improve from 0.00025\n",
      "\n",
      "Epoch 79: val_loss did not improve from 0.00025\n",
      "\n",
      "Epoch 80: val_loss did not improve from 0.00025\n",
      "\n",
      "Epoch 81: val_loss did not improve from 0.00025\n",
      "\n",
      "Epoch 82: val_loss did not improve from 0.00025\n",
      "\n",
      "Epoch 83: val_loss did not improve from 0.00025\n",
      "\n",
      "Epoch 84: val_loss did not improve from 0.00025\n",
      "\n",
      "Epoch 85: val_loss did not improve from 0.00025\n",
      "\n",
      "Epoch 86: val_loss did not improve from 0.00025\n",
      "\n",
      "Epoch 87: val_loss did not improve from 0.00025\n",
      "\n",
      "Epoch 88: val_loss did not improve from 0.00025\n",
      "\n",
      "Epoch 89: val_loss did not improve from 0.00025\n",
      "\n",
      "Epoch 90: val_loss did not improve from 0.00025\n",
      "\n",
      "Epoch 91: val_loss did not improve from 0.00025\n",
      "\n",
      "Epoch 92: val_loss did not improve from 0.00025\n",
      "\n",
      "Epoch 93: val_loss did not improve from 0.00025\n",
      "\n",
      "Epoch 94: val_loss did not improve from 0.00025\n",
      "\n",
      "Epoch 95: val_loss did not improve from 0.00025\n",
      "\n",
      "Epoch 96: val_loss did not improve from 0.00025\n",
      "\n",
      "Epoch 97: val_loss did not improve from 0.00025\n",
      "\n",
      "Epoch 98: val_loss did not improve from 0.00025\n",
      "\n",
      "Epoch 99: val_loss did not improve from 0.00025\n",
      "\n",
      "Epoch 100: val_loss did not improve from 0.00025\n",
      "\n",
      "Epoch 101: val_loss did not improve from 0.00025\n",
      "\n",
      "Epoch 102: val_loss did not improve from 0.00025\n",
      "\n",
      "Epoch 103: val_loss did not improve from 0.00025\n",
      "\n",
      "Epoch 104: val_loss did not improve from 0.00025\n",
      "\n",
      "Epoch 105: val_loss did not improve from 0.00025\n",
      "\n",
      "Epoch 106: val_loss did not improve from 0.00025\n",
      "\n",
      "Epoch 107: val_loss did not improve from 0.00025\n",
      "\n",
      "Epoch 108: val_loss did not improve from 0.00025\n",
      "\n",
      "Epoch 109: val_loss did not improve from 0.00025\n",
      "\n",
      "Epoch 110: val_loss did not improve from 0.00025\n",
      "\n",
      "Epoch 111: val_loss did not improve from 0.00025\n",
      "\n",
      "Epoch 112: val_loss did not improve from 0.00025\n",
      "\n",
      "Epoch 113: val_loss did not improve from 0.00025\n",
      "\n",
      "Epoch 114: val_loss did not improve from 0.00025\n",
      "\n",
      "Epoch 115: val_loss did not improve from 0.00025\n",
      "\n",
      "Epoch 116: val_loss did not improve from 0.00025\n",
      "\n",
      "Epoch 117: val_loss did not improve from 0.00025\n",
      "\n",
      "Epoch 118: val_loss did not improve from 0.00025\n",
      "\n",
      "Epoch 119: val_loss did not improve from 0.00025\n",
      "\n",
      "Epoch 120: val_loss did not improve from 0.00025\n",
      "\n",
      "Epoch 121: val_loss did not improve from 0.00025\n",
      "\n",
      "Epoch 122: val_loss did not improve from 0.00025\n",
      "\n",
      "Epoch 123: val_loss did not improve from 0.00025\n",
      "\n",
      "Epoch 124: val_loss did not improve from 0.00025\n",
      "\n",
      "Epoch 125: val_loss did not improve from 0.00025\n",
      "\n",
      "Epoch 126: val_loss did not improve from 0.00025\n",
      "\n",
      "Epoch 127: val_loss did not improve from 0.00025\n",
      "\n",
      "Epoch 128: val_loss did not improve from 0.00025\n",
      "\n",
      "Epoch 129: val_loss did not improve from 0.00025\n",
      "\n",
      "Epoch 130: val_loss did not improve from 0.00025\n",
      "\n",
      "Epoch 131: val_loss did not improve from 0.00025\n",
      "\n",
      "Epoch 132: val_loss did not improve from 0.00025\n",
      "\n",
      "Epoch 133: val_loss did not improve from 0.00025\n",
      "\n",
      "Epoch 134: val_loss did not improve from 0.00025\n",
      "\n",
      "Epoch 135: val_loss did not improve from 0.00025\n",
      "\n",
      "Epoch 136: val_loss did not improve from 0.00025\n",
      "\n",
      "Epoch 137: val_loss did not improve from 0.00025\n",
      "\n",
      "Epoch 138: val_loss did not improve from 0.00025\n",
      "\n",
      "Epoch 139: val_loss did not improve from 0.00025\n",
      "\n",
      "Epoch 140: val_loss did not improve from 0.00025\n",
      "\n",
      "Epoch 141: val_loss did not improve from 0.00025\n",
      "\n",
      "Epoch 142: val_loss did not improve from 0.00025\n",
      "\n",
      "Epoch 143: val_loss did not improve from 0.00025\n",
      "\n",
      "Epoch 144: val_loss did not improve from 0.00025\n",
      "\n",
      "Epoch 145: val_loss did not improve from 0.00025\n",
      "\n",
      "Epoch 146: val_loss did not improve from 0.00025\n",
      "\n",
      "Epoch 147: val_loss did not improve from 0.00025\n",
      "\n",
      "Epoch 148: val_loss did not improve from 0.00025\n",
      "\n",
      "Epoch 149: val_loss did not improve from 0.00025\n",
      "\n",
      "Epoch 150: val_loss did not improve from 0.00025\n",
      "\n",
      "Epoch 151: val_loss did not improve from 0.00025\n",
      "\n",
      "Epoch 152: val_loss did not improve from 0.00025\n",
      "\n",
      "Epoch 153: val_loss did not improve from 0.00025\n",
      "\n",
      "Epoch 154: val_loss did not improve from 0.00025\n",
      "\n",
      "Epoch 155: val_loss did not improve from 0.00025\n",
      "\n",
      "Epoch 156: val_loss did not improve from 0.00025\n",
      "\n",
      "Epoch 157: val_loss did not improve from 0.00025\n",
      "\n",
      "Epoch 158: val_loss did not improve from 0.00025\n",
      "\n",
      "Epoch 159: val_loss did not improve from 0.00025\n",
      "Epoch 159: early stopping\n",
      "\u001b[1m5/5\u001b[0m \u001b[32m━━━━━━━━━━━━━━━━━━━━\u001b[0m\u001b[37m\u001b[0m \u001b[1m2s\u001b[0m 219ms/step\n",
      "Training with params: {'timesteps': 40, 'hl': [40, 35], 'lr': 0.0001, 'batch_size': 32, 'num_epochs': 250}\n"
     ]
    },
    {
     "name": "stderr",
     "output_type": "stream",
     "text": [
      "c:\\Users\\84368\\AppData\\Local\\Programs\\Python\\Python311\\Lib\\site-packages\\keras\\src\\layers\\rnn\\rnn.py:200: UserWarning: Do not pass an `input_shape`/`input_dim` argument to a layer. When using Sequential models, prefer using an `Input(shape)` object as the first layer in the model instead.\n",
      "  super().__init__(**kwargs)\n"
     ]
    },
    {
     "name": "stdout",
     "output_type": "stream",
     "text": [
      "\n",
      "Epoch 1: val_loss did not improve from 0.00025\n",
      "\n",
      "Epoch 2: val_loss did not improve from 0.00025\n",
      "\n",
      "Epoch 3: val_loss did not improve from 0.00025\n",
      "\n",
      "Epoch 4: val_loss did not improve from 0.00025\n",
      "\n",
      "Epoch 5: val_loss did not improve from 0.00025\n",
      "\n",
      "Epoch 6: val_loss did not improve from 0.00025\n",
      "\n",
      "Epoch 7: val_loss did not improve from 0.00025\n",
      "\n",
      "Epoch 8: val_loss did not improve from 0.00025\n",
      "\n",
      "Epoch 9: val_loss did not improve from 0.00025\n",
      "\n",
      "Epoch 10: val_loss did not improve from 0.00025\n",
      "\n",
      "Epoch 11: val_loss did not improve from 0.00025\n",
      "\n",
      "Epoch 12: val_loss did not improve from 0.00025\n",
      "\n",
      "Epoch 13: val_loss did not improve from 0.00025\n",
      "\n",
      "Epoch 14: val_loss did not improve from 0.00025\n",
      "\n",
      "Epoch 15: val_loss did not improve from 0.00025\n",
      "\n",
      "Epoch 16: val_loss did not improve from 0.00025\n",
      "\n",
      "Epoch 17: val_loss did not improve from 0.00025\n",
      "\n",
      "Epoch 18: val_loss did not improve from 0.00025\n",
      "\n",
      "Epoch 19: val_loss did not improve from 0.00025\n",
      "\n",
      "Epoch 20: val_loss did not improve from 0.00025\n",
      "\n",
      "Epoch 21: val_loss did not improve from 0.00025\n",
      "\n",
      "Epoch 22: val_loss did not improve from 0.00025\n",
      "\n",
      "Epoch 23: val_loss did not improve from 0.00025\n",
      "\n",
      "Epoch 24: val_loss did not improve from 0.00025\n",
      "\n",
      "Epoch 25: val_loss did not improve from 0.00025\n",
      "\n",
      "Epoch 26: val_loss did not improve from 0.00025\n",
      "\n",
      "Epoch 27: val_loss did not improve from 0.00025\n",
      "\n",
      "Epoch 28: val_loss did not improve from 0.00025\n",
      "\n",
      "Epoch 29: val_loss did not improve from 0.00025\n",
      "\n",
      "Epoch 30: val_loss did not improve from 0.00025\n",
      "\n",
      "Epoch 31: val_loss did not improve from 0.00025\n",
      "\n",
      "Epoch 32: val_loss did not improve from 0.00025\n",
      "\n",
      "Epoch 33: val_loss did not improve from 0.00025\n",
      "\n",
      "Epoch 34: val_loss did not improve from 0.00025\n",
      "\n",
      "Epoch 35: val_loss did not improve from 0.00025\n",
      "\n",
      "Epoch 36: val_loss did not improve from 0.00025\n",
      "\n",
      "Epoch 37: val_loss did not improve from 0.00025\n",
      "\n",
      "Epoch 38: val_loss did not improve from 0.00025\n",
      "\n",
      "Epoch 39: val_loss did not improve from 0.00025\n",
      "\n",
      "Epoch 40: val_loss did not improve from 0.00025\n",
      "\n",
      "Epoch 41: val_loss did not improve from 0.00025\n",
      "\n",
      "Epoch 42: val_loss did not improve from 0.00025\n",
      "\n",
      "Epoch 43: val_loss did not improve from 0.00025\n",
      "\n",
      "Epoch 44: val_loss did not improve from 0.00025\n",
      "\n",
      "Epoch 45: val_loss did not improve from 0.00025\n",
      "\n",
      "Epoch 46: val_loss did not improve from 0.00025\n",
      "\n",
      "Epoch 47: val_loss did not improve from 0.00025\n",
      "\n",
      "Epoch 48: val_loss did not improve from 0.00025\n",
      "\n",
      "Epoch 49: val_loss did not improve from 0.00025\n",
      "\n",
      "Epoch 50: val_loss did not improve from 0.00025\n",
      "\n",
      "Epoch 51: val_loss did not improve from 0.00025\n",
      "\n",
      "Epoch 52: val_loss did not improve from 0.00025\n",
      "\n",
      "Epoch 53: val_loss did not improve from 0.00025\n",
      "\n",
      "Epoch 54: val_loss did not improve from 0.00025\n",
      "\n",
      "Epoch 55: val_loss did not improve from 0.00025\n",
      "\n",
      "Epoch 56: val_loss did not improve from 0.00025\n",
      "\n",
      "Epoch 57: val_loss did not improve from 0.00025\n",
      "\n",
      "Epoch 58: val_loss did not improve from 0.00025\n",
      "\n",
      "Epoch 59: val_loss did not improve from 0.00025\n",
      "\n",
      "Epoch 60: val_loss did not improve from 0.00025\n",
      "\n",
      "Epoch 61: val_loss did not improve from 0.00025\n",
      "\n",
      "Epoch 62: val_loss did not improve from 0.00025\n",
      "\n",
      "Epoch 63: val_loss did not improve from 0.00025\n",
      "\n",
      "Epoch 64: val_loss did not improve from 0.00025\n",
      "\n",
      "Epoch 65: val_loss did not improve from 0.00025\n",
      "\n",
      "Epoch 66: val_loss did not improve from 0.00025\n",
      "\n",
      "Epoch 67: val_loss did not improve from 0.00025\n",
      "\n",
      "Epoch 68: val_loss did not improve from 0.00025\n",
      "\n",
      "Epoch 69: val_loss did not improve from 0.00025\n",
      "\n",
      "Epoch 70: val_loss did not improve from 0.00025\n",
      "\n",
      "Epoch 71: val_loss did not improve from 0.00025\n",
      "\n",
      "Epoch 72: val_loss did not improve from 0.00025\n",
      "\n",
      "Epoch 73: val_loss did not improve from 0.00025\n",
      "\n",
      "Epoch 74: val_loss did not improve from 0.00025\n",
      "\n",
      "Epoch 75: val_loss did not improve from 0.00025\n",
      "\n",
      "Epoch 76: val_loss did not improve from 0.00025\n",
      "\n",
      "Epoch 77: val_loss did not improve from 0.00025\n",
      "\n",
      "Epoch 78: val_loss did not improve from 0.00025\n",
      "\n",
      "Epoch 79: val_loss did not improve from 0.00025\n",
      "\n",
      "Epoch 80: val_loss did not improve from 0.00025\n",
      "\n",
      "Epoch 81: val_loss did not improve from 0.00025\n",
      "\n",
      "Epoch 82: val_loss did not improve from 0.00025\n",
      "\n",
      "Epoch 83: val_loss did not improve from 0.00025\n",
      "\n",
      "Epoch 84: val_loss did not improve from 0.00025\n",
      "\n",
      "Epoch 85: val_loss did not improve from 0.00025\n",
      "\n",
      "Epoch 86: val_loss did not improve from 0.00025\n",
      "\n",
      "Epoch 87: val_loss did not improve from 0.00025\n",
      "\n",
      "Epoch 88: val_loss did not improve from 0.00025\n",
      "\n",
      "Epoch 89: val_loss did not improve from 0.00025\n",
      "\n",
      "Epoch 90: val_loss did not improve from 0.00025\n",
      "\n",
      "Epoch 91: val_loss did not improve from 0.00025\n",
      "\n",
      "Epoch 92: val_loss did not improve from 0.00025\n",
      "\n",
      "Epoch 93: val_loss did not improve from 0.00025\n",
      "\n",
      "Epoch 94: val_loss did not improve from 0.00025\n",
      "\n",
      "Epoch 95: val_loss did not improve from 0.00025\n",
      "\n",
      "Epoch 96: val_loss did not improve from 0.00025\n",
      "\n",
      "Epoch 97: val_loss did not improve from 0.00025\n",
      "\n",
      "Epoch 98: val_loss did not improve from 0.00025\n",
      "\n",
      "Epoch 99: val_loss did not improve from 0.00025\n",
      "\n",
      "Epoch 100: val_loss did not improve from 0.00025\n",
      "\n",
      "Epoch 101: val_loss did not improve from 0.00025\n",
      "\n",
      "Epoch 102: val_loss did not improve from 0.00025\n",
      "\n",
      "Epoch 103: val_loss did not improve from 0.00025\n",
      "\n",
      "Epoch 104: val_loss did not improve from 0.00025\n",
      "\n",
      "Epoch 105: val_loss did not improve from 0.00025\n",
      "\n",
      "Epoch 106: val_loss did not improve from 0.00025\n",
      "\n",
      "Epoch 107: val_loss did not improve from 0.00025\n",
      "\n",
      "Epoch 108: val_loss did not improve from 0.00025\n",
      "\n",
      "Epoch 109: val_loss did not improve from 0.00025\n",
      "\n",
      "Epoch 110: val_loss did not improve from 0.00025\n",
      "\n",
      "Epoch 111: val_loss did not improve from 0.00025\n",
      "\n",
      "Epoch 112: val_loss did not improve from 0.00025\n",
      "\n",
      "Epoch 113: val_loss did not improve from 0.00025\n",
      "\n",
      "Epoch 114: val_loss did not improve from 0.00025\n",
      "\n",
      "Epoch 115: val_loss did not improve from 0.00025\n",
      "\n",
      "Epoch 116: val_loss did not improve from 0.00025\n",
      "\n",
      "Epoch 117: val_loss did not improve from 0.00025\n",
      "\n",
      "Epoch 118: val_loss did not improve from 0.00025\n",
      "\n",
      "Epoch 119: val_loss did not improve from 0.00025\n",
      "\n",
      "Epoch 120: val_loss did not improve from 0.00025\n",
      "\n",
      "Epoch 121: val_loss did not improve from 0.00025\n",
      "\n",
      "Epoch 122: val_loss did not improve from 0.00025\n",
      "\n",
      "Epoch 123: val_loss did not improve from 0.00025\n",
      "\n",
      "Epoch 124: val_loss did not improve from 0.00025\n",
      "\n",
      "Epoch 125: val_loss did not improve from 0.00025\n",
      "\n",
      "Epoch 126: val_loss did not improve from 0.00025\n",
      "\n",
      "Epoch 127: val_loss did not improve from 0.00025\n",
      "Epoch 127: early stopping\n",
      "\u001b[1m5/5\u001b[0m \u001b[32m━━━━━━━━━━━━━━━━━━━━\u001b[0m\u001b[37m\u001b[0m \u001b[1m2s\u001b[0m 233ms/step\n",
      "Training with params: {'timesteps': 40, 'hl': [40, 35], 'lr': 0.0001, 'batch_size': 64, 'num_epochs': 200}\n"
     ]
    },
    {
     "name": "stderr",
     "output_type": "stream",
     "text": [
      "c:\\Users\\84368\\AppData\\Local\\Programs\\Python\\Python311\\Lib\\site-packages\\keras\\src\\layers\\rnn\\rnn.py:200: UserWarning: Do not pass an `input_shape`/`input_dim` argument to a layer. When using Sequential models, prefer using an `Input(shape)` object as the first layer in the model instead.\n",
      "  super().__init__(**kwargs)\n"
     ]
    },
    {
     "name": "stdout",
     "output_type": "stream",
     "text": [
      "\n",
      "Epoch 1: val_loss did not improve from 0.00025\n",
      "\n",
      "Epoch 2: val_loss did not improve from 0.00025\n",
      "\n",
      "Epoch 3: val_loss did not improve from 0.00025\n",
      "\n",
      "Epoch 4: val_loss did not improve from 0.00025\n",
      "\n",
      "Epoch 5: val_loss did not improve from 0.00025\n",
      "\n",
      "Epoch 6: val_loss did not improve from 0.00025\n",
      "\n",
      "Epoch 7: val_loss did not improve from 0.00025\n",
      "\n",
      "Epoch 8: val_loss did not improve from 0.00025\n",
      "\n",
      "Epoch 9: val_loss did not improve from 0.00025\n",
      "\n",
      "Epoch 10: val_loss did not improve from 0.00025\n",
      "\n",
      "Epoch 11: val_loss did not improve from 0.00025\n",
      "\n",
      "Epoch 12: val_loss did not improve from 0.00025\n",
      "\n",
      "Epoch 13: val_loss did not improve from 0.00025\n",
      "\n",
      "Epoch 14: val_loss did not improve from 0.00025\n",
      "\n",
      "Epoch 15: val_loss did not improve from 0.00025\n",
      "\n",
      "Epoch 16: val_loss did not improve from 0.00025\n",
      "\n",
      "Epoch 17: val_loss did not improve from 0.00025\n",
      "\n",
      "Epoch 18: val_loss did not improve from 0.00025\n",
      "\n",
      "Epoch 19: val_loss did not improve from 0.00025\n",
      "\n",
      "Epoch 20: val_loss did not improve from 0.00025\n",
      "\n",
      "Epoch 21: val_loss did not improve from 0.00025\n",
      "\n",
      "Epoch 22: val_loss did not improve from 0.00025\n",
      "\n",
      "Epoch 23: val_loss did not improve from 0.00025\n",
      "\n",
      "Epoch 24: val_loss did not improve from 0.00025\n",
      "\n",
      "Epoch 25: val_loss did not improve from 0.00025\n",
      "\n",
      "Epoch 26: val_loss did not improve from 0.00025\n",
      "\n",
      "Epoch 27: val_loss did not improve from 0.00025\n",
      "\n",
      "Epoch 28: val_loss did not improve from 0.00025\n",
      "\n",
      "Epoch 29: val_loss did not improve from 0.00025\n",
      "\n",
      "Epoch 30: val_loss did not improve from 0.00025\n",
      "\n",
      "Epoch 31: val_loss did not improve from 0.00025\n",
      "\n",
      "Epoch 32: val_loss did not improve from 0.00025\n",
      "\n",
      "Epoch 33: val_loss did not improve from 0.00025\n",
      "\n",
      "Epoch 34: val_loss did not improve from 0.00025\n",
      "\n",
      "Epoch 35: val_loss did not improve from 0.00025\n",
      "\n",
      "Epoch 36: val_loss did not improve from 0.00025\n",
      "\n",
      "Epoch 37: val_loss did not improve from 0.00025\n",
      "\n",
      "Epoch 38: val_loss did not improve from 0.00025\n",
      "\n",
      "Epoch 39: val_loss did not improve from 0.00025\n",
      "\n",
      "Epoch 40: val_loss did not improve from 0.00025\n",
      "\n",
      "Epoch 41: val_loss did not improve from 0.00025\n",
      "\n",
      "Epoch 42: val_loss did not improve from 0.00025\n",
      "\n",
      "Epoch 43: val_loss did not improve from 0.00025\n",
      "\n",
      "Epoch 44: val_loss did not improve from 0.00025\n",
      "\n",
      "Epoch 45: val_loss did not improve from 0.00025\n",
      "\n",
      "Epoch 46: val_loss did not improve from 0.00025\n",
      "\n",
      "Epoch 47: val_loss did not improve from 0.00025\n",
      "\n",
      "Epoch 48: val_loss did not improve from 0.00025\n",
      "\n",
      "Epoch 49: val_loss did not improve from 0.00025\n",
      "\n",
      "Epoch 50: val_loss did not improve from 0.00025\n",
      "\n",
      "Epoch 51: val_loss did not improve from 0.00025\n",
      "\n",
      "Epoch 52: val_loss did not improve from 0.00025\n",
      "\n",
      "Epoch 53: val_loss did not improve from 0.00025\n",
      "\n",
      "Epoch 54: val_loss did not improve from 0.00025\n",
      "\n",
      "Epoch 55: val_loss did not improve from 0.00025\n",
      "\n",
      "Epoch 56: val_loss did not improve from 0.00025\n",
      "\n",
      "Epoch 57: val_loss did not improve from 0.00025\n",
      "\n",
      "Epoch 58: val_loss did not improve from 0.00025\n",
      "\n",
      "Epoch 59: val_loss did not improve from 0.00025\n",
      "\n",
      "Epoch 60: val_loss did not improve from 0.00025\n",
      "\n",
      "Epoch 61: val_loss did not improve from 0.00025\n",
      "\n",
      "Epoch 62: val_loss did not improve from 0.00025\n",
      "\n",
      "Epoch 63: val_loss did not improve from 0.00025\n",
      "\n",
      "Epoch 64: val_loss did not improve from 0.00025\n",
      "\n",
      "Epoch 65: val_loss did not improve from 0.00025\n",
      "\n",
      "Epoch 66: val_loss did not improve from 0.00025\n",
      "\n",
      "Epoch 67: val_loss did not improve from 0.00025\n",
      "\n",
      "Epoch 68: val_loss did not improve from 0.00025\n",
      "\n",
      "Epoch 69: val_loss did not improve from 0.00025\n",
      "\n",
      "Epoch 70: val_loss did not improve from 0.00025\n",
      "\n",
      "Epoch 71: val_loss did not improve from 0.00025\n",
      "\n",
      "Epoch 72: val_loss did not improve from 0.00025\n",
      "\n",
      "Epoch 73: val_loss did not improve from 0.00025\n",
      "\n",
      "Epoch 74: val_loss did not improve from 0.00025\n",
      "\n",
      "Epoch 75: val_loss did not improve from 0.00025\n",
      "\n",
      "Epoch 76: val_loss did not improve from 0.00025\n",
      "\n",
      "Epoch 77: val_loss did not improve from 0.00025\n",
      "\n",
      "Epoch 78: val_loss did not improve from 0.00025\n",
      "\n",
      "Epoch 79: val_loss did not improve from 0.00025\n",
      "\n",
      "Epoch 80: val_loss did not improve from 0.00025\n",
      "\n",
      "Epoch 81: val_loss did not improve from 0.00025\n",
      "\n",
      "Epoch 82: val_loss did not improve from 0.00025\n",
      "\n",
      "Epoch 83: val_loss did not improve from 0.00025\n",
      "\n",
      "Epoch 84: val_loss did not improve from 0.00025\n",
      "\n",
      "Epoch 85: val_loss did not improve from 0.00025\n",
      "\n",
      "Epoch 86: val_loss did not improve from 0.00025\n",
      "\n",
      "Epoch 87: val_loss did not improve from 0.00025\n",
      "\n",
      "Epoch 88: val_loss did not improve from 0.00025\n",
      "\n",
      "Epoch 89: val_loss did not improve from 0.00025\n",
      "\n",
      "Epoch 90: val_loss did not improve from 0.00025\n",
      "\n",
      "Epoch 91: val_loss did not improve from 0.00025\n",
      "\n",
      "Epoch 92: val_loss did not improve from 0.00025\n",
      "\n",
      "Epoch 93: val_loss did not improve from 0.00025\n",
      "\n",
      "Epoch 94: val_loss did not improve from 0.00025\n",
      "\n",
      "Epoch 95: val_loss did not improve from 0.00025\n",
      "\n",
      "Epoch 96: val_loss did not improve from 0.00025\n",
      "\n",
      "Epoch 97: val_loss did not improve from 0.00025\n",
      "\n",
      "Epoch 98: val_loss did not improve from 0.00025\n",
      "\n",
      "Epoch 99: val_loss did not improve from 0.00025\n",
      "\n",
      "Epoch 100: val_loss did not improve from 0.00025\n",
      "Epoch 100: early stopping\n",
      "\u001b[1m5/5\u001b[0m \u001b[32m━━━━━━━━━━━━━━━━━━━━\u001b[0m\u001b[37m\u001b[0m \u001b[1m1s\u001b[0m 192ms/step\n",
      "Training with params: {'timesteps': 40, 'hl': [40, 35], 'lr': 0.0001, 'batch_size': 64, 'num_epochs': 250}\n"
     ]
    },
    {
     "name": "stderr",
     "output_type": "stream",
     "text": [
      "c:\\Users\\84368\\AppData\\Local\\Programs\\Python\\Python311\\Lib\\site-packages\\keras\\src\\layers\\rnn\\rnn.py:200: UserWarning: Do not pass an `input_shape`/`input_dim` argument to a layer. When using Sequential models, prefer using an `Input(shape)` object as the first layer in the model instead.\n",
      "  super().__init__(**kwargs)\n"
     ]
    },
    {
     "name": "stdout",
     "output_type": "stream",
     "text": [
      "\n",
      "Epoch 1: val_loss did not improve from 0.00025\n",
      "\n",
      "Epoch 2: val_loss did not improve from 0.00025\n",
      "\n",
      "Epoch 3: val_loss did not improve from 0.00025\n",
      "\n",
      "Epoch 4: val_loss did not improve from 0.00025\n",
      "\n",
      "Epoch 5: val_loss did not improve from 0.00025\n",
      "\n",
      "Epoch 6: val_loss did not improve from 0.00025\n",
      "\n",
      "Epoch 7: val_loss did not improve from 0.00025\n",
      "\n",
      "Epoch 8: val_loss did not improve from 0.00025\n",
      "\n",
      "Epoch 9: val_loss did not improve from 0.00025\n",
      "\n",
      "Epoch 10: val_loss did not improve from 0.00025\n",
      "\n",
      "Epoch 11: val_loss did not improve from 0.00025\n",
      "\n",
      "Epoch 12: val_loss did not improve from 0.00025\n",
      "\n",
      "Epoch 13: val_loss did not improve from 0.00025\n",
      "\n",
      "Epoch 14: val_loss did not improve from 0.00025\n",
      "\n",
      "Epoch 15: val_loss did not improve from 0.00025\n",
      "\n",
      "Epoch 16: val_loss did not improve from 0.00025\n",
      "\n",
      "Epoch 17: val_loss did not improve from 0.00025\n",
      "\n",
      "Epoch 18: val_loss did not improve from 0.00025\n",
      "\n",
      "Epoch 19: val_loss did not improve from 0.00025\n",
      "\n",
      "Epoch 20: val_loss did not improve from 0.00025\n",
      "\n",
      "Epoch 21: val_loss did not improve from 0.00025\n",
      "\n",
      "Epoch 22: val_loss did not improve from 0.00025\n",
      "\n",
      "Epoch 23: val_loss did not improve from 0.00025\n",
      "\n",
      "Epoch 24: val_loss did not improve from 0.00025\n",
      "\n",
      "Epoch 25: val_loss did not improve from 0.00025\n",
      "\n",
      "Epoch 26: val_loss did not improve from 0.00025\n",
      "\n",
      "Epoch 27: val_loss did not improve from 0.00025\n",
      "\n",
      "Epoch 28: val_loss did not improve from 0.00025\n",
      "\n",
      "Epoch 29: val_loss did not improve from 0.00025\n",
      "\n",
      "Epoch 30: val_loss did not improve from 0.00025\n",
      "\n",
      "Epoch 31: val_loss did not improve from 0.00025\n",
      "\n",
      "Epoch 32: val_loss did not improve from 0.00025\n",
      "\n",
      "Epoch 33: val_loss did not improve from 0.00025\n",
      "\n",
      "Epoch 34: val_loss did not improve from 0.00025\n",
      "\n",
      "Epoch 35: val_loss did not improve from 0.00025\n",
      "\n",
      "Epoch 36: val_loss did not improve from 0.00025\n",
      "\n",
      "Epoch 37: val_loss did not improve from 0.00025\n",
      "\n",
      "Epoch 38: val_loss did not improve from 0.00025\n",
      "\n",
      "Epoch 39: val_loss did not improve from 0.00025\n",
      "\n",
      "Epoch 40: val_loss did not improve from 0.00025\n",
      "\n",
      "Epoch 41: val_loss did not improve from 0.00025\n",
      "\n",
      "Epoch 42: val_loss did not improve from 0.00025\n",
      "\n",
      "Epoch 43: val_loss did not improve from 0.00025\n",
      "\n",
      "Epoch 44: val_loss did not improve from 0.00025\n",
      "\n",
      "Epoch 45: val_loss did not improve from 0.00025\n",
      "\n",
      "Epoch 46: val_loss did not improve from 0.00025\n",
      "\n",
      "Epoch 47: val_loss did not improve from 0.00025\n",
      "\n",
      "Epoch 48: val_loss did not improve from 0.00025\n",
      "\n",
      "Epoch 49: val_loss did not improve from 0.00025\n",
      "\n",
      "Epoch 50: val_loss did not improve from 0.00025\n",
      "\n",
      "Epoch 51: val_loss did not improve from 0.00025\n",
      "\n",
      "Epoch 52: val_loss did not improve from 0.00025\n",
      "\n",
      "Epoch 53: val_loss did not improve from 0.00025\n",
      "\n",
      "Epoch 54: val_loss did not improve from 0.00025\n",
      "\n",
      "Epoch 55: val_loss did not improve from 0.00025\n",
      "\n",
      "Epoch 56: val_loss did not improve from 0.00025\n",
      "\n",
      "Epoch 57: val_loss did not improve from 0.00025\n",
      "\n",
      "Epoch 58: val_loss did not improve from 0.00025\n",
      "\n",
      "Epoch 59: val_loss did not improve from 0.00025\n",
      "\n",
      "Epoch 60: val_loss did not improve from 0.00025\n",
      "\n",
      "Epoch 61: val_loss did not improve from 0.00025\n",
      "\n",
      "Epoch 62: val_loss did not improve from 0.00025\n",
      "\n",
      "Epoch 63: val_loss did not improve from 0.00025\n",
      "\n",
      "Epoch 64: val_loss did not improve from 0.00025\n",
      "\n",
      "Epoch 65: val_loss did not improve from 0.00025\n",
      "\n",
      "Epoch 66: val_loss did not improve from 0.00025\n",
      "\n",
      "Epoch 67: val_loss did not improve from 0.00025\n",
      "\n",
      "Epoch 68: val_loss did not improve from 0.00025\n",
      "\n",
      "Epoch 69: val_loss did not improve from 0.00025\n",
      "\n",
      "Epoch 70: val_loss did not improve from 0.00025\n",
      "\n",
      "Epoch 71: val_loss did not improve from 0.00025\n",
      "\n",
      "Epoch 72: val_loss did not improve from 0.00025\n",
      "\n",
      "Epoch 73: val_loss did not improve from 0.00025\n",
      "\n",
      "Epoch 74: val_loss did not improve from 0.00025\n",
      "\n",
      "Epoch 75: val_loss did not improve from 0.00025\n",
      "\n",
      "Epoch 76: val_loss did not improve from 0.00025\n",
      "\n",
      "Epoch 77: val_loss did not improve from 0.00025\n",
      "\n",
      "Epoch 78: val_loss did not improve from 0.00025\n",
      "\n",
      "Epoch 79: val_loss did not improve from 0.00025\n",
      "\n",
      "Epoch 80: val_loss did not improve from 0.00025\n",
      "\n",
      "Epoch 81: val_loss did not improve from 0.00025\n",
      "\n",
      "Epoch 82: val_loss did not improve from 0.00025\n",
      "\n",
      "Epoch 83: val_loss did not improve from 0.00025\n",
      "\n",
      "Epoch 84: val_loss did not improve from 0.00025\n",
      "\n",
      "Epoch 85: val_loss did not improve from 0.00025\n",
      "\n",
      "Epoch 86: val_loss did not improve from 0.00025\n",
      "\n",
      "Epoch 87: val_loss did not improve from 0.00025\n",
      "\n",
      "Epoch 88: val_loss did not improve from 0.00025\n",
      "\n",
      "Epoch 89: val_loss did not improve from 0.00025\n",
      "\n",
      "Epoch 90: val_loss did not improve from 0.00025\n",
      "\n",
      "Epoch 91: val_loss did not improve from 0.00025\n",
      "\n",
      "Epoch 92: val_loss did not improve from 0.00025\n",
      "\n",
      "Epoch 93: val_loss did not improve from 0.00025\n",
      "\n",
      "Epoch 94: val_loss did not improve from 0.00025\n",
      "\n",
      "Epoch 95: val_loss did not improve from 0.00025\n",
      "\n",
      "Epoch 96: val_loss did not improve from 0.00025\n",
      "\n",
      "Epoch 97: val_loss did not improve from 0.00025\n",
      "\n",
      "Epoch 98: val_loss did not improve from 0.00025\n",
      "\n",
      "Epoch 99: val_loss did not improve from 0.00025\n",
      "\n",
      "Epoch 100: val_loss did not improve from 0.00025\n",
      "\n",
      "Epoch 101: val_loss did not improve from 0.00025\n",
      "\n",
      "Epoch 102: val_loss did not improve from 0.00025\n",
      "\n",
      "Epoch 103: val_loss did not improve from 0.00025\n",
      "\n",
      "Epoch 104: val_loss did not improve from 0.00025\n",
      "\n",
      "Epoch 105: val_loss did not improve from 0.00025\n",
      "\n",
      "Epoch 106: val_loss did not improve from 0.00025\n",
      "\n",
      "Epoch 107: val_loss did not improve from 0.00025\n",
      "\n",
      "Epoch 108: val_loss did not improve from 0.00025\n",
      "\n",
      "Epoch 109: val_loss did not improve from 0.00025\n",
      "\n",
      "Epoch 110: val_loss did not improve from 0.00025\n",
      "\n",
      "Epoch 111: val_loss did not improve from 0.00025\n",
      "\n",
      "Epoch 112: val_loss did not improve from 0.00025\n",
      "\n",
      "Epoch 113: val_loss did not improve from 0.00025\n",
      "\n",
      "Epoch 114: val_loss did not improve from 0.00025\n",
      "\n",
      "Epoch 115: val_loss did not improve from 0.00025\n",
      "\n",
      "Epoch 116: val_loss did not improve from 0.00025\n",
      "\n",
      "Epoch 117: val_loss did not improve from 0.00025\n",
      "\n",
      "Epoch 118: val_loss did not improve from 0.00025\n",
      "\n",
      "Epoch 119: val_loss did not improve from 0.00025\n",
      "\n",
      "Epoch 120: val_loss did not improve from 0.00025\n",
      "\n",
      "Epoch 121: val_loss did not improve from 0.00025\n",
      "\n",
      "Epoch 122: val_loss did not improve from 0.00025\n",
      "\n",
      "Epoch 123: val_loss did not improve from 0.00025\n",
      "\n",
      "Epoch 124: val_loss did not improve from 0.00025\n",
      "\n",
      "Epoch 125: val_loss did not improve from 0.00025\n",
      "\n",
      "Epoch 126: val_loss did not improve from 0.00025\n",
      "\n",
      "Epoch 127: val_loss did not improve from 0.00025\n",
      "\n",
      "Epoch 128: val_loss did not improve from 0.00025\n",
      "\n",
      "Epoch 129: val_loss did not improve from 0.00025\n",
      "\n",
      "Epoch 130: val_loss did not improve from 0.00025\n",
      "\n",
      "Epoch 131: val_loss did not improve from 0.00025\n",
      "\n",
      "Epoch 132: val_loss did not improve from 0.00025\n",
      "\n",
      "Epoch 133: val_loss did not improve from 0.00025\n",
      "\n",
      "Epoch 134: val_loss did not improve from 0.00025\n",
      "\n",
      "Epoch 135: val_loss did not improve from 0.00025\n",
      "\n",
      "Epoch 136: val_loss did not improve from 0.00025\n",
      "\n",
      "Epoch 137: val_loss did not improve from 0.00025\n",
      "\n",
      "Epoch 138: val_loss did not improve from 0.00025\n",
      "\n",
      "Epoch 139: val_loss did not improve from 0.00025\n",
      "\n",
      "Epoch 140: val_loss did not improve from 0.00025\n",
      "\n",
      "Epoch 141: val_loss did not improve from 0.00025\n",
      "\n",
      "Epoch 142: val_loss did not improve from 0.00025\n",
      "\n",
      "Epoch 143: val_loss did not improve from 0.00025\n",
      "\n",
      "Epoch 144: val_loss did not improve from 0.00025\n",
      "\n",
      "Epoch 145: val_loss did not improve from 0.00025\n",
      "\n",
      "Epoch 146: val_loss did not improve from 0.00025\n",
      "\n",
      "Epoch 147: val_loss did not improve from 0.00025\n",
      "\n",
      "Epoch 148: val_loss did not improve from 0.00025\n",
      "\n",
      "Epoch 149: val_loss did not improve from 0.00025\n",
      "\n",
      "Epoch 150: val_loss did not improve from 0.00025\n",
      "\n",
      "Epoch 151: val_loss did not improve from 0.00025\n",
      "\n",
      "Epoch 152: val_loss did not improve from 0.00025\n",
      "\n",
      "Epoch 153: val_loss did not improve from 0.00025\n",
      "\n",
      "Epoch 154: val_loss did not improve from 0.00025\n",
      "\n",
      "Epoch 155: val_loss did not improve from 0.00025\n",
      "\n",
      "Epoch 156: val_loss did not improve from 0.00025\n",
      "\n",
      "Epoch 157: val_loss did not improve from 0.00025\n",
      "\n",
      "Epoch 158: val_loss did not improve from 0.00025\n",
      "\n",
      "Epoch 159: val_loss did not improve from 0.00025\n",
      "\n",
      "Epoch 160: val_loss did not improve from 0.00025\n",
      "\n",
      "Epoch 161: val_loss did not improve from 0.00025\n",
      "\n",
      "Epoch 162: val_loss did not improve from 0.00025\n",
      "\n",
      "Epoch 163: val_loss did not improve from 0.00025\n",
      "\n",
      "Epoch 164: val_loss did not improve from 0.00025\n",
      "\n",
      "Epoch 165: val_loss did not improve from 0.00025\n",
      "\n",
      "Epoch 166: val_loss did not improve from 0.00025\n",
      "\n",
      "Epoch 167: val_loss did not improve from 0.00025\n",
      "Epoch 167: early stopping\n",
      "\u001b[1m5/5\u001b[0m \u001b[32m━━━━━━━━━━━━━━━━━━━━\u001b[0m\u001b[37m\u001b[0m \u001b[1m2s\u001b[0m 207ms/step\n",
      "Training with params: {'timesteps': 50, 'hl': [40, 35], 'lr': 0.001, 'batch_size': 32, 'num_epochs': 200}\n"
     ]
    },
    {
     "name": "stderr",
     "output_type": "stream",
     "text": [
      "c:\\Users\\84368\\AppData\\Local\\Programs\\Python\\Python311\\Lib\\site-packages\\keras\\src\\layers\\rnn\\rnn.py:200: UserWarning: Do not pass an `input_shape`/`input_dim` argument to a layer. When using Sequential models, prefer using an `Input(shape)` object as the first layer in the model instead.\n",
      "  super().__init__(**kwargs)\n"
     ]
    },
    {
     "name": "stdout",
     "output_type": "stream",
     "text": [
      "\n",
      "Epoch 1: val_loss did not improve from 0.00025\n",
      "\n",
      "Epoch 2: val_loss did not improve from 0.00025\n",
      "\n",
      "Epoch 3: val_loss did not improve from 0.00025\n",
      "\n",
      "Epoch 4: val_loss did not improve from 0.00025\n",
      "\n",
      "Epoch 5: val_loss did not improve from 0.00025\n",
      "\n",
      "Epoch 6: val_loss did not improve from 0.00025\n",
      "\n",
      "Epoch 7: val_loss did not improve from 0.00025\n",
      "\n",
      "Epoch 8: val_loss did not improve from 0.00025\n",
      "\n",
      "Epoch 9: val_loss did not improve from 0.00025\n",
      "\n",
      "Epoch 10: val_loss did not improve from 0.00025\n",
      "\n",
      "Epoch 11: val_loss did not improve from 0.00025\n",
      "\n",
      "Epoch 12: val_loss did not improve from 0.00025\n",
      "\n",
      "Epoch 13: val_loss did not improve from 0.00025\n",
      "\n",
      "Epoch 14: val_loss did not improve from 0.00025\n",
      "\n",
      "Epoch 15: val_loss did not improve from 0.00025\n",
      "\n",
      "Epoch 16: val_loss did not improve from 0.00025\n",
      "\n",
      "Epoch 17: val_loss did not improve from 0.00025\n",
      "\n",
      "Epoch 18: val_loss did not improve from 0.00025\n",
      "\n",
      "Epoch 19: val_loss did not improve from 0.00025\n",
      "\n",
      "Epoch 20: val_loss did not improve from 0.00025\n",
      "\n",
      "Epoch 21: val_loss did not improve from 0.00025\n",
      "\n",
      "Epoch 22: val_loss did not improve from 0.00025\n",
      "\n",
      "Epoch 23: val_loss did not improve from 0.00025\n",
      "\n",
      "Epoch 24: val_loss did not improve from 0.00025\n",
      "\n",
      "Epoch 25: val_loss did not improve from 0.00025\n",
      "\n",
      "Epoch 26: val_loss did not improve from 0.00025\n",
      "\n",
      "Epoch 27: val_loss did not improve from 0.00025\n",
      "\n",
      "Epoch 28: val_loss did not improve from 0.00025\n",
      "\n",
      "Epoch 29: val_loss did not improve from 0.00025\n",
      "\n",
      "Epoch 30: val_loss did not improve from 0.00025\n",
      "\n",
      "Epoch 31: val_loss did not improve from 0.00025\n",
      "\n",
      "Epoch 32: val_loss did not improve from 0.00025\n",
      "\n",
      "Epoch 33: val_loss did not improve from 0.00025\n",
      "\n",
      "Epoch 34: val_loss did not improve from 0.00025\n",
      "\n",
      "Epoch 35: val_loss did not improve from 0.00025\n",
      "\n",
      "Epoch 36: val_loss did not improve from 0.00025\n",
      "\n",
      "Epoch 37: val_loss did not improve from 0.00025\n",
      "\n",
      "Epoch 38: val_loss did not improve from 0.00025\n",
      "\n",
      "Epoch 39: val_loss did not improve from 0.00025\n",
      "\n",
      "Epoch 40: val_loss did not improve from 0.00025\n",
      "\n",
      "Epoch 41: val_loss did not improve from 0.00025\n",
      "\n",
      "Epoch 42: val_loss did not improve from 0.00025\n",
      "\n",
      "Epoch 43: val_loss did not improve from 0.00025\n",
      "\n",
      "Epoch 44: val_loss did not improve from 0.00025\n",
      "\n",
      "Epoch 45: val_loss did not improve from 0.00025\n",
      "\n",
      "Epoch 46: val_loss did not improve from 0.00025\n",
      "\n",
      "Epoch 47: val_loss did not improve from 0.00025\n",
      "\n",
      "Epoch 48: val_loss did not improve from 0.00025\n",
      "\n",
      "Epoch 49: val_loss did not improve from 0.00025\n",
      "\n",
      "Epoch 50: val_loss did not improve from 0.00025\n",
      "\n",
      "Epoch 51: val_loss did not improve from 0.00025\n",
      "\n",
      "Epoch 52: val_loss did not improve from 0.00025\n",
      "\n",
      "Epoch 53: val_loss did not improve from 0.00025\n",
      "\n",
      "Epoch 54: val_loss did not improve from 0.00025\n",
      "\n",
      "Epoch 55: val_loss did not improve from 0.00025\n",
      "\n",
      "Epoch 56: val_loss did not improve from 0.00025\n",
      "\n",
      "Epoch 57: val_loss did not improve from 0.00025\n",
      "\n",
      "Epoch 58: val_loss did not improve from 0.00025\n",
      "\n",
      "Epoch 59: val_loss did not improve from 0.00025\n",
      "\n",
      "Epoch 60: val_loss did not improve from 0.00025\n",
      "\n",
      "Epoch 61: val_loss did not improve from 0.00025\n",
      "\n",
      "Epoch 62: val_loss did not improve from 0.00025\n",
      "\n",
      "Epoch 63: val_loss did not improve from 0.00025\n",
      "\n",
      "Epoch 64: val_loss did not improve from 0.00025\n",
      "\n",
      "Epoch 65: val_loss did not improve from 0.00025\n",
      "\n",
      "Epoch 66: val_loss did not improve from 0.00025\n",
      "\n",
      "Epoch 67: val_loss did not improve from 0.00025\n",
      "\n",
      "Epoch 68: val_loss did not improve from 0.00025\n",
      "\n",
      "Epoch 69: val_loss did not improve from 0.00025\n",
      "\n",
      "Epoch 70: val_loss did not improve from 0.00025\n",
      "\n",
      "Epoch 71: val_loss did not improve from 0.00025\n",
      "\n",
      "Epoch 72: val_loss did not improve from 0.00025\n",
      "\n",
      "Epoch 73: val_loss did not improve from 0.00025\n",
      "\n",
      "Epoch 74: val_loss did not improve from 0.00025\n",
      "\n",
      "Epoch 75: val_loss did not improve from 0.00025\n",
      "\n",
      "Epoch 76: val_loss did not improve from 0.00025\n",
      "\n",
      "Epoch 77: val_loss did not improve from 0.00025\n",
      "\n",
      "Epoch 78: val_loss did not improve from 0.00025\n",
      "\n",
      "Epoch 79: val_loss did not improve from 0.00025\n",
      "\n",
      "Epoch 80: val_loss did not improve from 0.00025\n",
      "\n",
      "Epoch 81: val_loss did not improve from 0.00025\n",
      "\n",
      "Epoch 82: val_loss did not improve from 0.00025\n",
      "\n",
      "Epoch 83: val_loss did not improve from 0.00025\n",
      "\n",
      "Epoch 84: val_loss did not improve from 0.00025\n",
      "\n",
      "Epoch 85: val_loss did not improve from 0.00025\n",
      "\n",
      "Epoch 86: val_loss did not improve from 0.00025\n",
      "\n",
      "Epoch 87: val_loss did not improve from 0.00025\n",
      "\n",
      "Epoch 88: val_loss did not improve from 0.00025\n",
      "\n",
      "Epoch 89: val_loss did not improve from 0.00025\n",
      "\n",
      "Epoch 90: val_loss did not improve from 0.00025\n",
      "\n",
      "Epoch 91: val_loss did not improve from 0.00025\n",
      "\n",
      "Epoch 92: val_loss did not improve from 0.00025\n",
      "\n",
      "Epoch 93: val_loss did not improve from 0.00025\n",
      "\n",
      "Epoch 94: val_loss did not improve from 0.00025\n",
      "\n",
      "Epoch 95: val_loss did not improve from 0.00025\n",
      "\n",
      "Epoch 96: val_loss did not improve from 0.00025\n",
      "\n",
      "Epoch 97: val_loss did not improve from 0.00025\n",
      "\n",
      "Epoch 98: val_loss did not improve from 0.00025\n",
      "\n",
      "Epoch 99: val_loss did not improve from 0.00025\n",
      "\n",
      "Epoch 100: val_loss did not improve from 0.00025\n",
      "\n",
      "Epoch 101: val_loss did not improve from 0.00025\n",
      "\n",
      "Epoch 102: val_loss did not improve from 0.00025\n",
      "\n",
      "Epoch 103: val_loss did not improve from 0.00025\n",
      "\n",
      "Epoch 104: val_loss did not improve from 0.00025\n",
      "\n",
      "Epoch 105: val_loss did not improve from 0.00025\n",
      "\n",
      "Epoch 106: val_loss did not improve from 0.00025\n",
      "\n",
      "Epoch 107: val_loss did not improve from 0.00025\n",
      "\n",
      "Epoch 108: val_loss did not improve from 0.00025\n",
      "\n",
      "Epoch 109: val_loss did not improve from 0.00025\n",
      "\n",
      "Epoch 110: val_loss did not improve from 0.00025\n",
      "\n",
      "Epoch 111: val_loss did not improve from 0.00025\n",
      "\n",
      "Epoch 112: val_loss did not improve from 0.00025\n",
      "\n",
      "Epoch 113: val_loss did not improve from 0.00025\n",
      "\n",
      "Epoch 114: val_loss did not improve from 0.00025\n",
      "\n",
      "Epoch 115: val_loss did not improve from 0.00025\n",
      "\n",
      "Epoch 116: val_loss did not improve from 0.00025\n",
      "\n",
      "Epoch 117: val_loss did not improve from 0.00025\n",
      "\n",
      "Epoch 118: val_loss did not improve from 0.00025\n",
      "\n",
      "Epoch 119: val_loss did not improve from 0.00025\n",
      "\n",
      "Epoch 120: val_loss did not improve from 0.00025\n",
      "\n",
      "Epoch 121: val_loss did not improve from 0.00025\n",
      "\n",
      "Epoch 122: val_loss did not improve from 0.00025\n",
      "\n",
      "Epoch 123: val_loss did not improve from 0.00025\n",
      "\n",
      "Epoch 124: val_loss did not improve from 0.00025\n",
      "\n",
      "Epoch 125: val_loss did not improve from 0.00025\n",
      "\n",
      "Epoch 126: val_loss did not improve from 0.00025\n",
      "\n",
      "Epoch 127: val_loss did not improve from 0.00025\n",
      "\n",
      "Epoch 128: val_loss did not improve from 0.00025\n",
      "\n",
      "Epoch 129: val_loss did not improve from 0.00025\n",
      "\n",
      "Epoch 130: val_loss did not improve from 0.00025\n",
      "\n",
      "Epoch 131: val_loss did not improve from 0.00025\n",
      "\n",
      "Epoch 132: val_loss did not improve from 0.00025\n",
      "\n",
      "Epoch 133: val_loss did not improve from 0.00025\n",
      "\n",
      "Epoch 134: val_loss did not improve from 0.00025\n",
      "\n",
      "Epoch 135: val_loss did not improve from 0.00025\n",
      "\n",
      "Epoch 136: val_loss did not improve from 0.00025\n",
      "\n",
      "Epoch 137: val_loss did not improve from 0.00025\n",
      "\n",
      "Epoch 138: val_loss did not improve from 0.00025\n",
      "\n",
      "Epoch 139: val_loss did not improve from 0.00025\n",
      "\n",
      "Epoch 140: val_loss did not improve from 0.00025\n",
      "\n",
      "Epoch 141: val_loss did not improve from 0.00025\n",
      "\n",
      "Epoch 142: val_loss did not improve from 0.00025\n",
      "\n",
      "Epoch 143: val_loss did not improve from 0.00025\n",
      "\n",
      "Epoch 144: val_loss did not improve from 0.00025\n",
      "\n",
      "Epoch 145: val_loss did not improve from 0.00025\n",
      "\n",
      "Epoch 146: val_loss did not improve from 0.00025\n",
      "\n",
      "Epoch 147: val_loss did not improve from 0.00025\n",
      "\n",
      "Epoch 148: val_loss did not improve from 0.00025\n",
      "\n",
      "Epoch 149: val_loss did not improve from 0.00025\n",
      "\n",
      "Epoch 150: val_loss did not improve from 0.00025\n",
      "\n",
      "Epoch 151: val_loss did not improve from 0.00025\n",
      "\n",
      "Epoch 152: val_loss did not improve from 0.00025\n",
      "\n",
      "Epoch 153: val_loss did not improve from 0.00025\n",
      "\n",
      "Epoch 154: val_loss did not improve from 0.00025\n",
      "\n",
      "Epoch 155: val_loss did not improve from 0.00025\n",
      "\n",
      "Epoch 156: val_loss did not improve from 0.00025\n",
      "\n",
      "Epoch 157: val_loss did not improve from 0.00025\n",
      "\n",
      "Epoch 158: val_loss did not improve from 0.00025\n",
      "\n",
      "Epoch 159: val_loss did not improve from 0.00025\n",
      "\n",
      "Epoch 160: val_loss did not improve from 0.00025\n",
      "\n",
      "Epoch 161: val_loss did not improve from 0.00025\n",
      "\n",
      "Epoch 162: val_loss did not improve from 0.00025\n",
      "\n",
      "Epoch 163: val_loss did not improve from 0.00025\n",
      "\n",
      "Epoch 164: val_loss did not improve from 0.00025\n",
      "\n",
      "Epoch 165: val_loss did not improve from 0.00025\n",
      "\n",
      "Epoch 166: val_loss did not improve from 0.00025\n",
      "\n",
      "Epoch 167: val_loss did not improve from 0.00025\n",
      "\n",
      "Epoch 168: val_loss did not improve from 0.00025\n",
      "\n",
      "Epoch 169: val_loss did not improve from 0.00025\n",
      "\n",
      "Epoch 170: val_loss did not improve from 0.00025\n",
      "\n",
      "Epoch 171: val_loss did not improve from 0.00025\n",
      "\n",
      "Epoch 172: val_loss did not improve from 0.00025\n",
      "\n",
      "Epoch 173: val_loss did not improve from 0.00025\n",
      "\n",
      "Epoch 174: val_loss did not improve from 0.00025\n",
      "\n",
      "Epoch 175: val_loss did not improve from 0.00025\n",
      "\n",
      "Epoch 176: val_loss did not improve from 0.00025\n",
      "\n",
      "Epoch 177: val_loss did not improve from 0.00025\n",
      "\n",
      "Epoch 178: val_loss did not improve from 0.00025\n",
      "\n",
      "Epoch 179: val_loss did not improve from 0.00025\n",
      "\n",
      "Epoch 180: val_loss did not improve from 0.00025\n",
      "\n",
      "Epoch 181: val_loss did not improve from 0.00025\n",
      "\n",
      "Epoch 182: val_loss did not improve from 0.00025\n",
      "\n",
      "Epoch 183: val_loss did not improve from 0.00025\n",
      "\n",
      "Epoch 184: val_loss did not improve from 0.00025\n",
      "\n",
      "Epoch 185: val_loss did not improve from 0.00025\n",
      "\n",
      "Epoch 186: val_loss did not improve from 0.00025\n",
      "\n",
      "Epoch 187: val_loss did not improve from 0.00025\n",
      "\n",
      "Epoch 188: val_loss did not improve from 0.00025\n",
      "\n",
      "Epoch 189: val_loss did not improve from 0.00025\n",
      "\n",
      "Epoch 190: val_loss did not improve from 0.00025\n",
      "\n",
      "Epoch 191: val_loss did not improve from 0.00025\n",
      "\n",
      "Epoch 192: val_loss did not improve from 0.00025\n",
      "\n",
      "Epoch 193: val_loss did not improve from 0.00025\n",
      "\n",
      "Epoch 194: val_loss did not improve from 0.00025\n",
      "\n",
      "Epoch 195: val_loss did not improve from 0.00025\n",
      "\n",
      "Epoch 196: val_loss did not improve from 0.00025\n",
      "\n",
      "Epoch 197: val_loss did not improve from 0.00025\n",
      "\n",
      "Epoch 198: val_loss did not improve from 0.00025\n",
      "\n",
      "Epoch 199: val_loss did not improve from 0.00025\n",
      "\n",
      "Epoch 200: val_loss did not improve from 0.00025\n",
      "\u001b[1m5/5\u001b[0m \u001b[32m━━━━━━━━━━━━━━━━━━━━\u001b[0m\u001b[37m\u001b[0m \u001b[1m2s\u001b[0m 217ms/step\n",
      "Training with params: {'timesteps': 50, 'hl': [40, 35], 'lr': 0.001, 'batch_size': 32, 'num_epochs': 250}\n"
     ]
    },
    {
     "name": "stderr",
     "output_type": "stream",
     "text": [
      "c:\\Users\\84368\\AppData\\Local\\Programs\\Python\\Python311\\Lib\\site-packages\\keras\\src\\layers\\rnn\\rnn.py:200: UserWarning: Do not pass an `input_shape`/`input_dim` argument to a layer. When using Sequential models, prefer using an `Input(shape)` object as the first layer in the model instead.\n",
      "  super().__init__(**kwargs)\n"
     ]
    },
    {
     "name": "stdout",
     "output_type": "stream",
     "text": [
      "\n",
      "Epoch 1: val_loss did not improve from 0.00025\n",
      "\n",
      "Epoch 2: val_loss did not improve from 0.00025\n",
      "\n",
      "Epoch 3: val_loss did not improve from 0.00025\n",
      "\n",
      "Epoch 4: val_loss did not improve from 0.00025\n",
      "\n",
      "Epoch 5: val_loss did not improve from 0.00025\n",
      "\n",
      "Epoch 6: val_loss did not improve from 0.00025\n",
      "\n",
      "Epoch 7: val_loss did not improve from 0.00025\n",
      "\n",
      "Epoch 8: val_loss did not improve from 0.00025\n",
      "\n",
      "Epoch 9: val_loss did not improve from 0.00025\n",
      "\n",
      "Epoch 10: val_loss did not improve from 0.00025\n",
      "\n",
      "Epoch 11: val_loss did not improve from 0.00025\n",
      "\n",
      "Epoch 12: val_loss did not improve from 0.00025\n",
      "\n",
      "Epoch 13: val_loss did not improve from 0.00025\n",
      "\n",
      "Epoch 14: val_loss did not improve from 0.00025\n",
      "\n",
      "Epoch 15: val_loss did not improve from 0.00025\n",
      "\n",
      "Epoch 16: val_loss did not improve from 0.00025\n",
      "\n",
      "Epoch 17: val_loss did not improve from 0.00025\n",
      "\n",
      "Epoch 18: val_loss did not improve from 0.00025\n",
      "\n",
      "Epoch 19: val_loss did not improve from 0.00025\n",
      "\n",
      "Epoch 20: val_loss did not improve from 0.00025\n",
      "\n",
      "Epoch 21: val_loss did not improve from 0.00025\n",
      "\n",
      "Epoch 22: val_loss did not improve from 0.00025\n",
      "\n",
      "Epoch 23: val_loss did not improve from 0.00025\n",
      "\n",
      "Epoch 24: val_loss did not improve from 0.00025\n",
      "\n",
      "Epoch 25: val_loss did not improve from 0.00025\n",
      "\n",
      "Epoch 26: val_loss did not improve from 0.00025\n",
      "\n",
      "Epoch 27: val_loss did not improve from 0.00025\n",
      "\n",
      "Epoch 28: val_loss did not improve from 0.00025\n",
      "\n",
      "Epoch 29: val_loss did not improve from 0.00025\n",
      "\n",
      "Epoch 30: val_loss did not improve from 0.00025\n",
      "\n",
      "Epoch 31: val_loss did not improve from 0.00025\n",
      "\n",
      "Epoch 32: val_loss did not improve from 0.00025\n",
      "\n",
      "Epoch 33: val_loss did not improve from 0.00025\n",
      "\n",
      "Epoch 34: val_loss did not improve from 0.00025\n",
      "\n",
      "Epoch 35: val_loss did not improve from 0.00025\n",
      "\n",
      "Epoch 36: val_loss did not improve from 0.00025\n",
      "\n",
      "Epoch 37: val_loss did not improve from 0.00025\n",
      "\n",
      "Epoch 38: val_loss did not improve from 0.00025\n",
      "\n",
      "Epoch 39: val_loss did not improve from 0.00025\n",
      "\n",
      "Epoch 40: val_loss did not improve from 0.00025\n",
      "\n",
      "Epoch 41: val_loss did not improve from 0.00025\n",
      "\n",
      "Epoch 42: val_loss did not improve from 0.00025\n",
      "\n",
      "Epoch 43: val_loss did not improve from 0.00025\n",
      "\n",
      "Epoch 44: val_loss did not improve from 0.00025\n",
      "\n",
      "Epoch 45: val_loss did not improve from 0.00025\n",
      "\n",
      "Epoch 46: val_loss did not improve from 0.00025\n",
      "\n",
      "Epoch 47: val_loss did not improve from 0.00025\n",
      "\n",
      "Epoch 48: val_loss did not improve from 0.00025\n",
      "\n",
      "Epoch 49: val_loss did not improve from 0.00025\n",
      "\n",
      "Epoch 50: val_loss did not improve from 0.00025\n",
      "\n",
      "Epoch 51: val_loss did not improve from 0.00025\n",
      "\n",
      "Epoch 52: val_loss did not improve from 0.00025\n",
      "\n",
      "Epoch 53: val_loss did not improve from 0.00025\n",
      "\n",
      "Epoch 54: val_loss did not improve from 0.00025\n",
      "\n",
      "Epoch 55: val_loss did not improve from 0.00025\n",
      "\n",
      "Epoch 56: val_loss did not improve from 0.00025\n",
      "\n",
      "Epoch 57: val_loss did not improve from 0.00025\n",
      "\n",
      "Epoch 58: val_loss did not improve from 0.00025\n",
      "\n",
      "Epoch 59: val_loss did not improve from 0.00025\n",
      "\n",
      "Epoch 60: val_loss did not improve from 0.00025\n",
      "\n",
      "Epoch 61: val_loss did not improve from 0.00025\n",
      "\n",
      "Epoch 62: val_loss did not improve from 0.00025\n",
      "\n",
      "Epoch 63: val_loss did not improve from 0.00025\n",
      "\n",
      "Epoch 64: val_loss did not improve from 0.00025\n",
      "\n",
      "Epoch 65: val_loss did not improve from 0.00025\n",
      "\n",
      "Epoch 66: val_loss did not improve from 0.00025\n",
      "\n",
      "Epoch 67: val_loss did not improve from 0.00025\n",
      "\n",
      "Epoch 68: val_loss did not improve from 0.00025\n",
      "\n",
      "Epoch 69: val_loss did not improve from 0.00025\n",
      "\n",
      "Epoch 70: val_loss did not improve from 0.00025\n",
      "\n",
      "Epoch 71: val_loss did not improve from 0.00025\n",
      "\n",
      "Epoch 72: val_loss did not improve from 0.00025\n",
      "\n",
      "Epoch 73: val_loss did not improve from 0.00025\n",
      "\n",
      "Epoch 74: val_loss did not improve from 0.00025\n",
      "\n",
      "Epoch 75: val_loss did not improve from 0.00025\n",
      "\n",
      "Epoch 76: val_loss did not improve from 0.00025\n",
      "\n",
      "Epoch 77: val_loss did not improve from 0.00025\n",
      "\n",
      "Epoch 78: val_loss did not improve from 0.00025\n",
      "\n",
      "Epoch 79: val_loss did not improve from 0.00025\n",
      "\n",
      "Epoch 80: val_loss did not improve from 0.00025\n",
      "\n",
      "Epoch 81: val_loss did not improve from 0.00025\n",
      "\n",
      "Epoch 82: val_loss did not improve from 0.00025\n",
      "\n",
      "Epoch 83: val_loss did not improve from 0.00025\n",
      "\n",
      "Epoch 84: val_loss did not improve from 0.00025\n",
      "\n",
      "Epoch 85: val_loss did not improve from 0.00025\n",
      "\n",
      "Epoch 86: val_loss did not improve from 0.00025\n",
      "\n",
      "Epoch 87: val_loss did not improve from 0.00025\n",
      "\n",
      "Epoch 88: val_loss did not improve from 0.00025\n",
      "\n",
      "Epoch 89: val_loss did not improve from 0.00025\n",
      "\n",
      "Epoch 90: val_loss did not improve from 0.00025\n",
      "\n",
      "Epoch 91: val_loss did not improve from 0.00025\n",
      "\n",
      "Epoch 92: val_loss did not improve from 0.00025\n",
      "\n",
      "Epoch 93: val_loss did not improve from 0.00025\n",
      "\n",
      "Epoch 94: val_loss did not improve from 0.00025\n",
      "\n",
      "Epoch 95: val_loss did not improve from 0.00025\n",
      "\n",
      "Epoch 96: val_loss did not improve from 0.00025\n",
      "\n",
      "Epoch 97: val_loss did not improve from 0.00025\n",
      "\n",
      "Epoch 98: val_loss did not improve from 0.00025\n",
      "\n",
      "Epoch 99: val_loss did not improve from 0.00025\n",
      "\n",
      "Epoch 100: val_loss did not improve from 0.00025\n",
      "\n",
      "Epoch 101: val_loss did not improve from 0.00025\n",
      "\n",
      "Epoch 102: val_loss did not improve from 0.00025\n",
      "\n",
      "Epoch 103: val_loss did not improve from 0.00025\n",
      "\n",
      "Epoch 104: val_loss did not improve from 0.00025\n",
      "\n",
      "Epoch 105: val_loss did not improve from 0.00025\n",
      "\n",
      "Epoch 106: val_loss did not improve from 0.00025\n",
      "\n",
      "Epoch 107: val_loss did not improve from 0.00025\n",
      "\n",
      "Epoch 108: val_loss did not improve from 0.00025\n",
      "\n",
      "Epoch 109: val_loss did not improve from 0.00025\n",
      "\n",
      "Epoch 110: val_loss did not improve from 0.00025\n",
      "\n",
      "Epoch 111: val_loss did not improve from 0.00025\n",
      "\n",
      "Epoch 112: val_loss did not improve from 0.00025\n",
      "\n",
      "Epoch 113: val_loss did not improve from 0.00025\n",
      "\n",
      "Epoch 114: val_loss did not improve from 0.00025\n",
      "\n",
      "Epoch 115: val_loss did not improve from 0.00025\n",
      "\n",
      "Epoch 116: val_loss did not improve from 0.00025\n",
      "\n",
      "Epoch 117: val_loss did not improve from 0.00025\n",
      "\n",
      "Epoch 118: val_loss did not improve from 0.00025\n",
      "\n",
      "Epoch 119: val_loss did not improve from 0.00025\n",
      "\n",
      "Epoch 120: val_loss did not improve from 0.00025\n",
      "\n",
      "Epoch 121: val_loss did not improve from 0.00025\n",
      "\n",
      "Epoch 122: val_loss did not improve from 0.00025\n",
      "\n",
      "Epoch 123: val_loss did not improve from 0.00025\n",
      "\n",
      "Epoch 124: val_loss did not improve from 0.00025\n",
      "\n",
      "Epoch 125: val_loss did not improve from 0.00025\n",
      "\n",
      "Epoch 126: val_loss did not improve from 0.00025\n",
      "\n",
      "Epoch 127: val_loss did not improve from 0.00025\n",
      "\n",
      "Epoch 128: val_loss did not improve from 0.00025\n",
      "\n",
      "Epoch 129: val_loss did not improve from 0.00025\n",
      "\n",
      "Epoch 130: val_loss did not improve from 0.00025\n",
      "\n",
      "Epoch 131: val_loss did not improve from 0.00025\n",
      "\n",
      "Epoch 132: val_loss did not improve from 0.00025\n",
      "\n",
      "Epoch 133: val_loss did not improve from 0.00025\n",
      "\n",
      "Epoch 134: val_loss did not improve from 0.00025\n",
      "\n",
      "Epoch 135: val_loss did not improve from 0.00025\n",
      "\n",
      "Epoch 136: val_loss did not improve from 0.00025\n",
      "\n",
      "Epoch 137: val_loss did not improve from 0.00025\n",
      "\n",
      "Epoch 138: val_loss did not improve from 0.00025\n",
      "\n",
      "Epoch 139: val_loss did not improve from 0.00025\n",
      "\n",
      "Epoch 140: val_loss did not improve from 0.00025\n",
      "\n",
      "Epoch 141: val_loss did not improve from 0.00025\n",
      "\n",
      "Epoch 142: val_loss did not improve from 0.00025\n",
      "\n",
      "Epoch 143: val_loss did not improve from 0.00025\n",
      "\n",
      "Epoch 144: val_loss did not improve from 0.00025\n",
      "\n",
      "Epoch 145: val_loss did not improve from 0.00025\n",
      "\n",
      "Epoch 146: val_loss did not improve from 0.00025\n",
      "\n",
      "Epoch 147: val_loss did not improve from 0.00025\n",
      "\n",
      "Epoch 148: val_loss did not improve from 0.00025\n",
      "\n",
      "Epoch 149: val_loss did not improve from 0.00025\n",
      "\n",
      "Epoch 150: val_loss did not improve from 0.00025\n",
      "\n",
      "Epoch 151: val_loss did not improve from 0.00025\n",
      "\n",
      "Epoch 152: val_loss did not improve from 0.00025\n",
      "\n",
      "Epoch 153: val_loss did not improve from 0.00025\n",
      "\n",
      "Epoch 154: val_loss did not improve from 0.00025\n",
      "\n",
      "Epoch 155: val_loss did not improve from 0.00025\n",
      "\n",
      "Epoch 156: val_loss did not improve from 0.00025\n",
      "\n",
      "Epoch 157: val_loss did not improve from 0.00025\n",
      "\n",
      "Epoch 158: val_loss did not improve from 0.00025\n",
      "\n",
      "Epoch 159: val_loss did not improve from 0.00025\n",
      "\n",
      "Epoch 160: val_loss did not improve from 0.00025\n",
      "\n",
      "Epoch 161: val_loss did not improve from 0.00025\n",
      "\n",
      "Epoch 162: val_loss did not improve from 0.00025\n",
      "\n",
      "Epoch 163: val_loss did not improve from 0.00025\n",
      "\n",
      "Epoch 164: val_loss did not improve from 0.00025\n",
      "\n",
      "Epoch 165: val_loss did not improve from 0.00025\n",
      "\n",
      "Epoch 166: val_loss did not improve from 0.00025\n",
      "\n",
      "Epoch 167: val_loss did not improve from 0.00025\n",
      "\n",
      "Epoch 168: val_loss did not improve from 0.00025\n",
      "\n",
      "Epoch 169: val_loss did not improve from 0.00025\n",
      "\n",
      "Epoch 170: val_loss did not improve from 0.00025\n",
      "\n",
      "Epoch 171: val_loss did not improve from 0.00025\n",
      "\n",
      "Epoch 172: val_loss did not improve from 0.00025\n",
      "\n",
      "Epoch 173: val_loss did not improve from 0.00025\n",
      "\n",
      "Epoch 174: val_loss did not improve from 0.00025\n",
      "\n",
      "Epoch 175: val_loss did not improve from 0.00025\n",
      "\n",
      "Epoch 176: val_loss did not improve from 0.00025\n",
      "\n",
      "Epoch 177: val_loss did not improve from 0.00025\n",
      "\n",
      "Epoch 178: val_loss did not improve from 0.00025\n",
      "\n",
      "Epoch 179: val_loss did not improve from 0.00025\n",
      "\n",
      "Epoch 180: val_loss did not improve from 0.00025\n",
      "\n",
      "Epoch 181: val_loss did not improve from 0.00025\n",
      "\n",
      "Epoch 182: val_loss did not improve from 0.00025\n",
      "\n",
      "Epoch 183: val_loss did not improve from 0.00025\n",
      "\n",
      "Epoch 184: val_loss did not improve from 0.00025\n",
      "\n",
      "Epoch 185: val_loss did not improve from 0.00025\n",
      "\n",
      "Epoch 186: val_loss did not improve from 0.00025\n",
      "\n",
      "Epoch 187: val_loss did not improve from 0.00025\n",
      "\n",
      "Epoch 188: val_loss did not improve from 0.00025\n",
      "\n",
      "Epoch 189: val_loss did not improve from 0.00025\n",
      "\n",
      "Epoch 190: val_loss did not improve from 0.00025\n",
      "\n",
      "Epoch 191: val_loss did not improve from 0.00025\n",
      "\n",
      "Epoch 192: val_loss did not improve from 0.00025\n",
      "\n",
      "Epoch 193: val_loss did not improve from 0.00025\n",
      "\n",
      "Epoch 194: val_loss did not improve from 0.00025\n",
      "\n",
      "Epoch 195: val_loss did not improve from 0.00025\n",
      "\n",
      "Epoch 196: val_loss did not improve from 0.00025\n",
      "\n",
      "Epoch 197: val_loss did not improve from 0.00025\n",
      "\n",
      "Epoch 198: val_loss did not improve from 0.00025\n",
      "\n",
      "Epoch 199: val_loss did not improve from 0.00025\n",
      "\n",
      "Epoch 200: val_loss did not improve from 0.00025\n",
      "\n",
      "Epoch 201: val_loss did not improve from 0.00025\n",
      "\n",
      "Epoch 202: val_loss did not improve from 0.00025\n",
      "\n",
      "Epoch 203: val_loss did not improve from 0.00025\n",
      "\n",
      "Epoch 204: val_loss did not improve from 0.00025\n",
      "\n",
      "Epoch 205: val_loss did not improve from 0.00025\n",
      "\n",
      "Epoch 206: val_loss did not improve from 0.00025\n",
      "\n",
      "Epoch 207: val_loss did not improve from 0.00025\n",
      "\n",
      "Epoch 208: val_loss did not improve from 0.00025\n",
      "\n",
      "Epoch 209: val_loss did not improve from 0.00025\n",
      "\n",
      "Epoch 210: val_loss did not improve from 0.00025\n",
      "\n",
      "Epoch 211: val_loss did not improve from 0.00025\n",
      "\n",
      "Epoch 212: val_loss did not improve from 0.00025\n",
      "\n",
      "Epoch 213: val_loss did not improve from 0.00025\n",
      "\n",
      "Epoch 214: val_loss did not improve from 0.00025\n",
      "\n",
      "Epoch 215: val_loss did not improve from 0.00025\n",
      "\n",
      "Epoch 216: val_loss did not improve from 0.00025\n",
      "\n",
      "Epoch 217: val_loss did not improve from 0.00025\n",
      "\n",
      "Epoch 218: val_loss did not improve from 0.00025\n",
      "\n",
      "Epoch 219: val_loss did not improve from 0.00025\n",
      "\n",
      "Epoch 220: val_loss did not improve from 0.00025\n",
      "\n",
      "Epoch 221: val_loss did not improve from 0.00025\n",
      "\n",
      "Epoch 222: val_loss did not improve from 0.00025\n",
      "\n",
      "Epoch 223: val_loss did not improve from 0.00025\n",
      "\n",
      "Epoch 224: val_loss did not improve from 0.00025\n",
      "\n",
      "Epoch 225: val_loss did not improve from 0.00025\n",
      "\n",
      "Epoch 226: val_loss did not improve from 0.00025\n",
      "\n",
      "Epoch 227: val_loss did not improve from 0.00025\n",
      "\n",
      "Epoch 228: val_loss did not improve from 0.00025\n",
      "\n",
      "Epoch 229: val_loss did not improve from 0.00025\n",
      "\n",
      "Epoch 230: val_loss did not improve from 0.00025\n",
      "\n",
      "Epoch 231: val_loss did not improve from 0.00025\n",
      "\n",
      "Epoch 232: val_loss did not improve from 0.00025\n",
      "\n",
      "Epoch 233: val_loss did not improve from 0.00025\n",
      "\n",
      "Epoch 234: val_loss did not improve from 0.00025\n",
      "\n",
      "Epoch 235: val_loss did not improve from 0.00025\n",
      "\n",
      "Epoch 236: val_loss did not improve from 0.00025\n",
      "\n",
      "Epoch 237: val_loss did not improve from 0.00025\n",
      "\n",
      "Epoch 238: val_loss did not improve from 0.00025\n",
      "\n",
      "Epoch 239: val_loss did not improve from 0.00025\n",
      "\n",
      "Epoch 240: val_loss did not improve from 0.00025\n",
      "\n",
      "Epoch 241: val_loss did not improve from 0.00025\n",
      "\n",
      "Epoch 242: val_loss did not improve from 0.00025\n",
      "\n",
      "Epoch 243: val_loss did not improve from 0.00025\n",
      "\n",
      "Epoch 244: val_loss did not improve from 0.00025\n",
      "\n",
      "Epoch 245: val_loss did not improve from 0.00025\n",
      "\n",
      "Epoch 246: val_loss did not improve from 0.00025\n",
      "\n",
      "Epoch 247: val_loss did not improve from 0.00025\n",
      "\n",
      "Epoch 248: val_loss did not improve from 0.00025\n",
      "\n",
      "Epoch 249: val_loss did not improve from 0.00025\n",
      "\n",
      "Epoch 250: val_loss did not improve from 0.00025\n",
      "\u001b[1m5/5\u001b[0m \u001b[32m━━━━━━━━━━━━━━━━━━━━\u001b[0m\u001b[37m\u001b[0m \u001b[1m2s\u001b[0m 231ms/step\n",
      "Training with params: {'timesteps': 50, 'hl': [40, 35], 'lr': 0.001, 'batch_size': 64, 'num_epochs': 200}\n"
     ]
    },
    {
     "name": "stderr",
     "output_type": "stream",
     "text": [
      "c:\\Users\\84368\\AppData\\Local\\Programs\\Python\\Python311\\Lib\\site-packages\\keras\\src\\layers\\rnn\\rnn.py:200: UserWarning: Do not pass an `input_shape`/`input_dim` argument to a layer. When using Sequential models, prefer using an `Input(shape)` object as the first layer in the model instead.\n",
      "  super().__init__(**kwargs)\n"
     ]
    },
    {
     "name": "stdout",
     "output_type": "stream",
     "text": [
      "\n",
      "Epoch 1: val_loss did not improve from 0.00025\n",
      "\n",
      "Epoch 2: val_loss did not improve from 0.00025\n",
      "\n",
      "Epoch 3: val_loss did not improve from 0.00025\n",
      "\n",
      "Epoch 4: val_loss did not improve from 0.00025\n",
      "\n",
      "Epoch 5: val_loss did not improve from 0.00025\n",
      "\n",
      "Epoch 6: val_loss did not improve from 0.00025\n",
      "\n",
      "Epoch 7: val_loss did not improve from 0.00025\n",
      "\n",
      "Epoch 8: val_loss did not improve from 0.00025\n",
      "\n",
      "Epoch 9: val_loss did not improve from 0.00025\n",
      "\n",
      "Epoch 10: val_loss did not improve from 0.00025\n",
      "\n",
      "Epoch 11: val_loss did not improve from 0.00025\n",
      "\n",
      "Epoch 12: val_loss did not improve from 0.00025\n",
      "\n",
      "Epoch 13: val_loss did not improve from 0.00025\n",
      "\n",
      "Epoch 14: val_loss did not improve from 0.00025\n",
      "\n",
      "Epoch 15: val_loss did not improve from 0.00025\n",
      "\n",
      "Epoch 16: val_loss did not improve from 0.00025\n",
      "\n",
      "Epoch 17: val_loss did not improve from 0.00025\n",
      "\n",
      "Epoch 18: val_loss did not improve from 0.00025\n",
      "\n",
      "Epoch 19: val_loss did not improve from 0.00025\n",
      "\n",
      "Epoch 20: val_loss did not improve from 0.00025\n",
      "\n",
      "Epoch 21: val_loss did not improve from 0.00025\n",
      "\n",
      "Epoch 22: val_loss did not improve from 0.00025\n",
      "\n",
      "Epoch 23: val_loss did not improve from 0.00025\n",
      "\n",
      "Epoch 24: val_loss did not improve from 0.00025\n",
      "\n",
      "Epoch 25: val_loss did not improve from 0.00025\n",
      "\n",
      "Epoch 26: val_loss did not improve from 0.00025\n",
      "\n",
      "Epoch 27: val_loss did not improve from 0.00025\n",
      "\n",
      "Epoch 28: val_loss did not improve from 0.00025\n",
      "\n",
      "Epoch 29: val_loss did not improve from 0.00025\n",
      "\n",
      "Epoch 30: val_loss did not improve from 0.00025\n",
      "\n",
      "Epoch 31: val_loss did not improve from 0.00025\n",
      "\n",
      "Epoch 32: val_loss did not improve from 0.00025\n",
      "\n",
      "Epoch 33: val_loss did not improve from 0.00025\n",
      "\n",
      "Epoch 34: val_loss did not improve from 0.00025\n",
      "\n",
      "Epoch 35: val_loss did not improve from 0.00025\n",
      "\n",
      "Epoch 36: val_loss did not improve from 0.00025\n",
      "\n",
      "Epoch 37: val_loss did not improve from 0.00025\n",
      "\n",
      "Epoch 38: val_loss did not improve from 0.00025\n",
      "\n",
      "Epoch 39: val_loss did not improve from 0.00025\n",
      "\n",
      "Epoch 40: val_loss did not improve from 0.00025\n",
      "\n",
      "Epoch 41: val_loss did not improve from 0.00025\n",
      "\n",
      "Epoch 42: val_loss did not improve from 0.00025\n",
      "\n",
      "Epoch 43: val_loss did not improve from 0.00025\n",
      "\n",
      "Epoch 44: val_loss did not improve from 0.00025\n",
      "\n",
      "Epoch 45: val_loss did not improve from 0.00025\n",
      "\n",
      "Epoch 46: val_loss did not improve from 0.00025\n",
      "\n",
      "Epoch 47: val_loss did not improve from 0.00025\n",
      "\n",
      "Epoch 48: val_loss did not improve from 0.00025\n",
      "\n",
      "Epoch 49: val_loss did not improve from 0.00025\n",
      "\n",
      "Epoch 50: val_loss did not improve from 0.00025\n",
      "\n",
      "Epoch 51: val_loss did not improve from 0.00025\n",
      "\n",
      "Epoch 52: val_loss did not improve from 0.00025\n",
      "\n",
      "Epoch 53: val_loss did not improve from 0.00025\n",
      "\n",
      "Epoch 54: val_loss did not improve from 0.00025\n",
      "\n",
      "Epoch 55: val_loss did not improve from 0.00025\n",
      "\n",
      "Epoch 56: val_loss did not improve from 0.00025\n",
      "\n",
      "Epoch 57: val_loss did not improve from 0.00025\n",
      "\n",
      "Epoch 58: val_loss did not improve from 0.00025\n",
      "\n",
      "Epoch 59: val_loss did not improve from 0.00025\n",
      "\n",
      "Epoch 60: val_loss did not improve from 0.00025\n",
      "\n",
      "Epoch 61: val_loss did not improve from 0.00025\n",
      "\n",
      "Epoch 62: val_loss did not improve from 0.00025\n",
      "\n",
      "Epoch 63: val_loss did not improve from 0.00025\n",
      "\n",
      "Epoch 64: val_loss did not improve from 0.00025\n",
      "\n",
      "Epoch 65: val_loss did not improve from 0.00025\n",
      "\n",
      "Epoch 66: val_loss did not improve from 0.00025\n",
      "\n",
      "Epoch 67: val_loss did not improve from 0.00025\n",
      "\n",
      "Epoch 68: val_loss did not improve from 0.00025\n",
      "\n",
      "Epoch 69: val_loss did not improve from 0.00025\n",
      "\n",
      "Epoch 70: val_loss did not improve from 0.00025\n",
      "\n",
      "Epoch 71: val_loss did not improve from 0.00025\n",
      "\n",
      "Epoch 72: val_loss did not improve from 0.00025\n",
      "\n",
      "Epoch 73: val_loss did not improve from 0.00025\n",
      "\n",
      "Epoch 74: val_loss did not improve from 0.00025\n",
      "\n",
      "Epoch 75: val_loss did not improve from 0.00025\n",
      "\n",
      "Epoch 76: val_loss did not improve from 0.00025\n",
      "\n",
      "Epoch 77: val_loss did not improve from 0.00025\n",
      "\n",
      "Epoch 78: val_loss did not improve from 0.00025\n",
      "\n",
      "Epoch 79: val_loss did not improve from 0.00025\n",
      "\n",
      "Epoch 80: val_loss did not improve from 0.00025\n",
      "\n",
      "Epoch 81: val_loss did not improve from 0.00025\n",
      "\n",
      "Epoch 82: val_loss did not improve from 0.00025\n",
      "\n",
      "Epoch 83: val_loss did not improve from 0.00025\n",
      "\n",
      "Epoch 84: val_loss did not improve from 0.00025\n",
      "\n",
      "Epoch 85: val_loss did not improve from 0.00025\n",
      "\n",
      "Epoch 86: val_loss did not improve from 0.00025\n",
      "\n",
      "Epoch 87: val_loss did not improve from 0.00025\n",
      "\n",
      "Epoch 88: val_loss did not improve from 0.00025\n",
      "\n",
      "Epoch 89: val_loss did not improve from 0.00025\n",
      "\n",
      "Epoch 90: val_loss did not improve from 0.00025\n",
      "\n",
      "Epoch 91: val_loss did not improve from 0.00025\n",
      "\n",
      "Epoch 92: val_loss did not improve from 0.00025\n",
      "Epoch 92: early stopping\n",
      "\u001b[1m5/5\u001b[0m \u001b[32m━━━━━━━━━━━━━━━━━━━━\u001b[0m\u001b[37m\u001b[0m \u001b[1m2s\u001b[0m 216ms/step\n",
      "Training with params: {'timesteps': 50, 'hl': [40, 35], 'lr': 0.001, 'batch_size': 64, 'num_epochs': 250}\n"
     ]
    },
    {
     "name": "stderr",
     "output_type": "stream",
     "text": [
      "c:\\Users\\84368\\AppData\\Local\\Programs\\Python\\Python311\\Lib\\site-packages\\keras\\src\\layers\\rnn\\rnn.py:200: UserWarning: Do not pass an `input_shape`/`input_dim` argument to a layer. When using Sequential models, prefer using an `Input(shape)` object as the first layer in the model instead.\n",
      "  super().__init__(**kwargs)\n"
     ]
    },
    {
     "name": "stdout",
     "output_type": "stream",
     "text": [
      "\n",
      "Epoch 1: val_loss did not improve from 0.00025\n",
      "\n",
      "Epoch 2: val_loss did not improve from 0.00025\n",
      "\n",
      "Epoch 3: val_loss did not improve from 0.00025\n",
      "\n",
      "Epoch 4: val_loss did not improve from 0.00025\n",
      "\n",
      "Epoch 5: val_loss did not improve from 0.00025\n",
      "\n",
      "Epoch 6: val_loss did not improve from 0.00025\n",
      "\n",
      "Epoch 7: val_loss did not improve from 0.00025\n",
      "\n",
      "Epoch 8: val_loss did not improve from 0.00025\n",
      "\n",
      "Epoch 9: val_loss did not improve from 0.00025\n",
      "\n",
      "Epoch 10: val_loss did not improve from 0.00025\n",
      "\n",
      "Epoch 11: val_loss did not improve from 0.00025\n",
      "\n",
      "Epoch 12: val_loss did not improve from 0.00025\n",
      "\n",
      "Epoch 13: val_loss did not improve from 0.00025\n",
      "\n",
      "Epoch 14: val_loss did not improve from 0.00025\n",
      "\n",
      "Epoch 15: val_loss did not improve from 0.00025\n",
      "\n",
      "Epoch 16: val_loss did not improve from 0.00025\n",
      "\n",
      "Epoch 17: val_loss did not improve from 0.00025\n",
      "\n",
      "Epoch 18: val_loss did not improve from 0.00025\n",
      "\n",
      "Epoch 19: val_loss did not improve from 0.00025\n",
      "\n",
      "Epoch 20: val_loss did not improve from 0.00025\n",
      "\n",
      "Epoch 21: val_loss did not improve from 0.00025\n",
      "\n",
      "Epoch 22: val_loss did not improve from 0.00025\n",
      "\n",
      "Epoch 23: val_loss did not improve from 0.00025\n",
      "\n",
      "Epoch 24: val_loss did not improve from 0.00025\n",
      "\n",
      "Epoch 25: val_loss did not improve from 0.00025\n",
      "\n",
      "Epoch 26: val_loss did not improve from 0.00025\n",
      "\n",
      "Epoch 27: val_loss did not improve from 0.00025\n",
      "\n",
      "Epoch 28: val_loss did not improve from 0.00025\n",
      "\n",
      "Epoch 29: val_loss did not improve from 0.00025\n",
      "\n",
      "Epoch 30: val_loss did not improve from 0.00025\n",
      "\n",
      "Epoch 31: val_loss did not improve from 0.00025\n",
      "\n",
      "Epoch 32: val_loss did not improve from 0.00025\n",
      "\n",
      "Epoch 33: val_loss did not improve from 0.00025\n",
      "\n",
      "Epoch 34: val_loss did not improve from 0.00025\n",
      "\n",
      "Epoch 35: val_loss did not improve from 0.00025\n",
      "\n",
      "Epoch 36: val_loss did not improve from 0.00025\n",
      "\n",
      "Epoch 37: val_loss did not improve from 0.00025\n",
      "\n",
      "Epoch 38: val_loss did not improve from 0.00025\n",
      "\n",
      "Epoch 39: val_loss did not improve from 0.00025\n",
      "\n",
      "Epoch 40: val_loss did not improve from 0.00025\n",
      "\n",
      "Epoch 41: val_loss did not improve from 0.00025\n",
      "\n",
      "Epoch 42: val_loss did not improve from 0.00025\n",
      "\n",
      "Epoch 43: val_loss did not improve from 0.00025\n",
      "\n",
      "Epoch 44: val_loss did not improve from 0.00025\n",
      "\n",
      "Epoch 45: val_loss did not improve from 0.00025\n",
      "\n",
      "Epoch 46: val_loss did not improve from 0.00025\n",
      "\n",
      "Epoch 47: val_loss did not improve from 0.00025\n",
      "\n",
      "Epoch 48: val_loss did not improve from 0.00025\n",
      "\n",
      "Epoch 49: val_loss did not improve from 0.00025\n",
      "\n",
      "Epoch 50: val_loss did not improve from 0.00025\n",
      "\n",
      "Epoch 51: val_loss did not improve from 0.00025\n",
      "\n",
      "Epoch 52: val_loss did not improve from 0.00025\n",
      "\n",
      "Epoch 53: val_loss did not improve from 0.00025\n",
      "\n",
      "Epoch 54: val_loss did not improve from 0.00025\n",
      "\n",
      "Epoch 55: val_loss did not improve from 0.00025\n",
      "\n",
      "Epoch 56: val_loss did not improve from 0.00025\n",
      "\n",
      "Epoch 57: val_loss did not improve from 0.00025\n",
      "\n",
      "Epoch 58: val_loss did not improve from 0.00025\n",
      "\n",
      "Epoch 59: val_loss did not improve from 0.00025\n",
      "\n",
      "Epoch 60: val_loss did not improve from 0.00025\n",
      "\n",
      "Epoch 61: val_loss did not improve from 0.00025\n",
      "\n",
      "Epoch 62: val_loss did not improve from 0.00025\n",
      "\n",
      "Epoch 63: val_loss did not improve from 0.00025\n",
      "\n",
      "Epoch 64: val_loss did not improve from 0.00025\n",
      "\n",
      "Epoch 65: val_loss did not improve from 0.00025\n",
      "\n",
      "Epoch 66: val_loss did not improve from 0.00025\n",
      "\n",
      "Epoch 67: val_loss did not improve from 0.00025\n",
      "\n",
      "Epoch 68: val_loss did not improve from 0.00025\n",
      "\n",
      "Epoch 69: val_loss did not improve from 0.00025\n",
      "\n",
      "Epoch 70: val_loss did not improve from 0.00025\n",
      "\n",
      "Epoch 71: val_loss did not improve from 0.00025\n",
      "\n",
      "Epoch 72: val_loss did not improve from 0.00025\n",
      "\n",
      "Epoch 73: val_loss did not improve from 0.00025\n",
      "\n",
      "Epoch 74: val_loss did not improve from 0.00025\n",
      "\n",
      "Epoch 75: val_loss did not improve from 0.00025\n",
      "\n",
      "Epoch 76: val_loss did not improve from 0.00025\n",
      "\n",
      "Epoch 77: val_loss did not improve from 0.00025\n",
      "\n",
      "Epoch 78: val_loss did not improve from 0.00025\n",
      "\n",
      "Epoch 79: val_loss did not improve from 0.00025\n",
      "\n",
      "Epoch 80: val_loss did not improve from 0.00025\n",
      "\n",
      "Epoch 81: val_loss did not improve from 0.00025\n",
      "\n",
      "Epoch 82: val_loss did not improve from 0.00025\n",
      "\n",
      "Epoch 83: val_loss did not improve from 0.00025\n",
      "\n",
      "Epoch 84: val_loss did not improve from 0.00025\n",
      "\n",
      "Epoch 85: val_loss did not improve from 0.00025\n",
      "\n",
      "Epoch 86: val_loss did not improve from 0.00025\n",
      "\n",
      "Epoch 87: val_loss did not improve from 0.00025\n",
      "\n",
      "Epoch 88: val_loss did not improve from 0.00025\n",
      "\n",
      "Epoch 89: val_loss did not improve from 0.00025\n",
      "\n",
      "Epoch 90: val_loss did not improve from 0.00025\n",
      "\n",
      "Epoch 91: val_loss did not improve from 0.00025\n",
      "\n",
      "Epoch 92: val_loss did not improve from 0.00025\n",
      "\n",
      "Epoch 93: val_loss did not improve from 0.00025\n",
      "\n",
      "Epoch 94: val_loss did not improve from 0.00025\n",
      "\n",
      "Epoch 95: val_loss did not improve from 0.00025\n",
      "\n",
      "Epoch 96: val_loss did not improve from 0.00025\n",
      "\n",
      "Epoch 97: val_loss did not improve from 0.00025\n",
      "\n",
      "Epoch 98: val_loss did not improve from 0.00025\n",
      "\n",
      "Epoch 99: val_loss did not improve from 0.00025\n",
      "\n",
      "Epoch 100: val_loss did not improve from 0.00025\n",
      "\n",
      "Epoch 101: val_loss did not improve from 0.00025\n",
      "\n",
      "Epoch 102: val_loss did not improve from 0.00025\n",
      "\n",
      "Epoch 103: val_loss did not improve from 0.00025\n",
      "\n",
      "Epoch 104: val_loss did not improve from 0.00025\n",
      "\n",
      "Epoch 105: val_loss did not improve from 0.00025\n",
      "\n",
      "Epoch 106: val_loss did not improve from 0.00025\n",
      "\n",
      "Epoch 107: val_loss did not improve from 0.00025\n",
      "\n",
      "Epoch 108: val_loss did not improve from 0.00025\n",
      "\n",
      "Epoch 109: val_loss did not improve from 0.00025\n",
      "\n",
      "Epoch 110: val_loss did not improve from 0.00025\n",
      "\n",
      "Epoch 111: val_loss did not improve from 0.00025\n",
      "\n",
      "Epoch 112: val_loss did not improve from 0.00025\n",
      "\n",
      "Epoch 113: val_loss did not improve from 0.00025\n",
      "\n",
      "Epoch 114: val_loss did not improve from 0.00025\n",
      "\n",
      "Epoch 115: val_loss did not improve from 0.00025\n",
      "\n",
      "Epoch 116: val_loss did not improve from 0.00025\n",
      "\n",
      "Epoch 117: val_loss did not improve from 0.00025\n",
      "\n",
      "Epoch 118: val_loss did not improve from 0.00025\n",
      "\n",
      "Epoch 119: val_loss did not improve from 0.00025\n",
      "Epoch 119: early stopping\n",
      "\u001b[1m5/5\u001b[0m \u001b[32m━━━━━━━━━━━━━━━━━━━━\u001b[0m\u001b[37m\u001b[0m \u001b[1m2s\u001b[0m 205ms/step\n",
      "Training with params: {'timesteps': 50, 'hl': [40, 35], 'lr': 0.0001, 'batch_size': 32, 'num_epochs': 200}\n"
     ]
    },
    {
     "name": "stderr",
     "output_type": "stream",
     "text": [
      "c:\\Users\\84368\\AppData\\Local\\Programs\\Python\\Python311\\Lib\\site-packages\\keras\\src\\layers\\rnn\\rnn.py:200: UserWarning: Do not pass an `input_shape`/`input_dim` argument to a layer. When using Sequential models, prefer using an `Input(shape)` object as the first layer in the model instead.\n",
      "  super().__init__(**kwargs)\n"
     ]
    },
    {
     "name": "stdout",
     "output_type": "stream",
     "text": [
      "\n",
      "Epoch 1: val_loss did not improve from 0.00025\n",
      "\n",
      "Epoch 2: val_loss did not improve from 0.00025\n",
      "\n",
      "Epoch 3: val_loss did not improve from 0.00025\n",
      "\n",
      "Epoch 4: val_loss did not improve from 0.00025\n",
      "\n",
      "Epoch 5: val_loss did not improve from 0.00025\n",
      "\n",
      "Epoch 6: val_loss did not improve from 0.00025\n",
      "\n",
      "Epoch 7: val_loss did not improve from 0.00025\n",
      "\n",
      "Epoch 8: val_loss did not improve from 0.00025\n",
      "\n",
      "Epoch 9: val_loss did not improve from 0.00025\n",
      "\n",
      "Epoch 10: val_loss did not improve from 0.00025\n",
      "\n",
      "Epoch 11: val_loss did not improve from 0.00025\n",
      "\n",
      "Epoch 12: val_loss did not improve from 0.00025\n",
      "\n",
      "Epoch 13: val_loss did not improve from 0.00025\n",
      "\n",
      "Epoch 14: val_loss did not improve from 0.00025\n",
      "\n",
      "Epoch 15: val_loss did not improve from 0.00025\n",
      "\n",
      "Epoch 16: val_loss did not improve from 0.00025\n",
      "\n",
      "Epoch 17: val_loss did not improve from 0.00025\n",
      "\n",
      "Epoch 18: val_loss did not improve from 0.00025\n",
      "\n",
      "Epoch 19: val_loss did not improve from 0.00025\n",
      "\n",
      "Epoch 20: val_loss did not improve from 0.00025\n",
      "\n",
      "Epoch 21: val_loss did not improve from 0.00025\n",
      "\n",
      "Epoch 22: val_loss did not improve from 0.00025\n",
      "\n",
      "Epoch 23: val_loss did not improve from 0.00025\n",
      "\n",
      "Epoch 24: val_loss did not improve from 0.00025\n",
      "\n",
      "Epoch 25: val_loss did not improve from 0.00025\n",
      "\n",
      "Epoch 26: val_loss did not improve from 0.00025\n",
      "\n",
      "Epoch 27: val_loss did not improve from 0.00025\n",
      "\n",
      "Epoch 28: val_loss did not improve from 0.00025\n",
      "\n",
      "Epoch 29: val_loss did not improve from 0.00025\n",
      "\n",
      "Epoch 30: val_loss did not improve from 0.00025\n",
      "\n",
      "Epoch 31: val_loss did not improve from 0.00025\n",
      "\n",
      "Epoch 32: val_loss did not improve from 0.00025\n",
      "\n",
      "Epoch 33: val_loss did not improve from 0.00025\n",
      "\n",
      "Epoch 34: val_loss did not improve from 0.00025\n",
      "\n",
      "Epoch 35: val_loss did not improve from 0.00025\n",
      "\n",
      "Epoch 36: val_loss did not improve from 0.00025\n",
      "\n",
      "Epoch 37: val_loss did not improve from 0.00025\n",
      "\n",
      "Epoch 38: val_loss did not improve from 0.00025\n",
      "\n",
      "Epoch 39: val_loss did not improve from 0.00025\n",
      "\n",
      "Epoch 40: val_loss did not improve from 0.00025\n",
      "\n",
      "Epoch 41: val_loss did not improve from 0.00025\n",
      "\n",
      "Epoch 42: val_loss did not improve from 0.00025\n",
      "\n",
      "Epoch 43: val_loss did not improve from 0.00025\n",
      "\n",
      "Epoch 44: val_loss did not improve from 0.00025\n",
      "\n",
      "Epoch 45: val_loss did not improve from 0.00025\n",
      "\n",
      "Epoch 46: val_loss did not improve from 0.00025\n",
      "\n",
      "Epoch 47: val_loss did not improve from 0.00025\n",
      "\n",
      "Epoch 48: val_loss did not improve from 0.00025\n",
      "\n",
      "Epoch 49: val_loss did not improve from 0.00025\n",
      "\n",
      "Epoch 50: val_loss did not improve from 0.00025\n",
      "\n",
      "Epoch 51: val_loss did not improve from 0.00025\n",
      "\n",
      "Epoch 52: val_loss did not improve from 0.00025\n",
      "\n",
      "Epoch 53: val_loss did not improve from 0.00025\n",
      "\n",
      "Epoch 54: val_loss did not improve from 0.00025\n",
      "\n",
      "Epoch 55: val_loss did not improve from 0.00025\n",
      "\n",
      "Epoch 56: val_loss did not improve from 0.00025\n",
      "\n",
      "Epoch 57: val_loss did not improve from 0.00025\n",
      "\n",
      "Epoch 58: val_loss did not improve from 0.00025\n",
      "\n",
      "Epoch 59: val_loss did not improve from 0.00025\n",
      "\n",
      "Epoch 60: val_loss did not improve from 0.00025\n",
      "\n",
      "Epoch 61: val_loss did not improve from 0.00025\n",
      "\n",
      "Epoch 62: val_loss did not improve from 0.00025\n",
      "\n",
      "Epoch 63: val_loss did not improve from 0.00025\n",
      "\n",
      "Epoch 64: val_loss did not improve from 0.00025\n",
      "\n",
      "Epoch 65: val_loss did not improve from 0.00025\n",
      "\n",
      "Epoch 66: val_loss did not improve from 0.00025\n",
      "\n",
      "Epoch 67: val_loss did not improve from 0.00025\n",
      "\n",
      "Epoch 68: val_loss did not improve from 0.00025\n",
      "\n",
      "Epoch 69: val_loss did not improve from 0.00025\n",
      "\n",
      "Epoch 70: val_loss did not improve from 0.00025\n",
      "\n",
      "Epoch 71: val_loss did not improve from 0.00025\n",
      "\n",
      "Epoch 72: val_loss did not improve from 0.00025\n",
      "\n",
      "Epoch 73: val_loss did not improve from 0.00025\n",
      "\n",
      "Epoch 74: val_loss did not improve from 0.00025\n",
      "\n",
      "Epoch 75: val_loss did not improve from 0.00025\n",
      "\n",
      "Epoch 76: val_loss did not improve from 0.00025\n",
      "\n",
      "Epoch 77: val_loss did not improve from 0.00025\n",
      "\n",
      "Epoch 78: val_loss did not improve from 0.00025\n",
      "\n",
      "Epoch 79: val_loss did not improve from 0.00025\n",
      "\n",
      "Epoch 80: val_loss did not improve from 0.00025\n",
      "\n",
      "Epoch 81: val_loss did not improve from 0.00025\n",
      "\n",
      "Epoch 82: val_loss did not improve from 0.00025\n",
      "\n",
      "Epoch 83: val_loss did not improve from 0.00025\n",
      "\n",
      "Epoch 84: val_loss did not improve from 0.00025\n",
      "\n",
      "Epoch 85: val_loss did not improve from 0.00025\n",
      "\n",
      "Epoch 86: val_loss did not improve from 0.00025\n",
      "\n",
      "Epoch 87: val_loss did not improve from 0.00025\n",
      "\n",
      "Epoch 88: val_loss did not improve from 0.00025\n",
      "\n",
      "Epoch 89: val_loss did not improve from 0.00025\n",
      "\n",
      "Epoch 90: val_loss did not improve from 0.00025\n",
      "\n",
      "Epoch 91: val_loss did not improve from 0.00025\n",
      "\n",
      "Epoch 92: val_loss did not improve from 0.00025\n",
      "\n",
      "Epoch 93: val_loss did not improve from 0.00025\n",
      "\n",
      "Epoch 94: val_loss did not improve from 0.00025\n",
      "\n",
      "Epoch 95: val_loss did not improve from 0.00025\n",
      "\n",
      "Epoch 96: val_loss did not improve from 0.00025\n",
      "\n",
      "Epoch 97: val_loss did not improve from 0.00025\n",
      "\n",
      "Epoch 98: val_loss did not improve from 0.00025\n",
      "\n",
      "Epoch 99: val_loss did not improve from 0.00025\n",
      "\n",
      "Epoch 100: val_loss did not improve from 0.00025\n",
      "\n",
      "Epoch 101: val_loss did not improve from 0.00025\n",
      "\n",
      "Epoch 102: val_loss did not improve from 0.00025\n",
      "\n",
      "Epoch 103: val_loss did not improve from 0.00025\n",
      "\n",
      "Epoch 104: val_loss did not improve from 0.00025\n",
      "\n",
      "Epoch 105: val_loss did not improve from 0.00025\n",
      "\n",
      "Epoch 106: val_loss did not improve from 0.00025\n",
      "\n",
      "Epoch 107: val_loss did not improve from 0.00025\n",
      "\n",
      "Epoch 108: val_loss did not improve from 0.00025\n",
      "\n",
      "Epoch 109: val_loss did not improve from 0.00025\n",
      "\n",
      "Epoch 110: val_loss did not improve from 0.00025\n",
      "\n",
      "Epoch 111: val_loss did not improve from 0.00025\n",
      "\n",
      "Epoch 112: val_loss did not improve from 0.00025\n",
      "\n",
      "Epoch 113: val_loss did not improve from 0.00025\n",
      "\n",
      "Epoch 114: val_loss did not improve from 0.00025\n",
      "\n",
      "Epoch 115: val_loss did not improve from 0.00025\n",
      "\n",
      "Epoch 116: val_loss did not improve from 0.00025\n",
      "\n",
      "Epoch 117: val_loss did not improve from 0.00025\n",
      "\n",
      "Epoch 118: val_loss did not improve from 0.00025\n",
      "\n",
      "Epoch 119: val_loss did not improve from 0.00025\n",
      "\n",
      "Epoch 120: val_loss did not improve from 0.00025\n",
      "\n",
      "Epoch 121: val_loss did not improve from 0.00025\n",
      "\n",
      "Epoch 122: val_loss did not improve from 0.00025\n",
      "\n",
      "Epoch 123: val_loss did not improve from 0.00025\n",
      "\n",
      "Epoch 124: val_loss did not improve from 0.00025\n",
      "\n",
      "Epoch 125: val_loss did not improve from 0.00025\n",
      "\n",
      "Epoch 126: val_loss did not improve from 0.00025\n",
      "\n",
      "Epoch 127: val_loss did not improve from 0.00025\n",
      "\n",
      "Epoch 128: val_loss did not improve from 0.00025\n",
      "\n",
      "Epoch 129: val_loss did not improve from 0.00025\n",
      "\n",
      "Epoch 130: val_loss did not improve from 0.00025\n",
      "\n",
      "Epoch 131: val_loss did not improve from 0.00025\n",
      "\n",
      "Epoch 132: val_loss did not improve from 0.00025\n",
      "\n",
      "Epoch 133: val_loss did not improve from 0.00025\n",
      "\n",
      "Epoch 134: val_loss did not improve from 0.00025\n",
      "\n",
      "Epoch 135: val_loss did not improve from 0.00025\n",
      "\n",
      "Epoch 136: val_loss did not improve from 0.00025\n",
      "\n",
      "Epoch 137: val_loss did not improve from 0.00025\n",
      "\n",
      "Epoch 138: val_loss did not improve from 0.00025\n",
      "\n",
      "Epoch 139: val_loss did not improve from 0.00025\n",
      "\n",
      "Epoch 140: val_loss did not improve from 0.00025\n",
      "\n",
      "Epoch 141: val_loss did not improve from 0.00025\n",
      "\n",
      "Epoch 142: val_loss did not improve from 0.00025\n",
      "\n",
      "Epoch 143: val_loss did not improve from 0.00025\n",
      "\n",
      "Epoch 144: val_loss did not improve from 0.00025\n",
      "\n",
      "Epoch 145: val_loss did not improve from 0.00025\n",
      "\n",
      "Epoch 146: val_loss did not improve from 0.00025\n",
      "\n",
      "Epoch 147: val_loss did not improve from 0.00025\n",
      "\n",
      "Epoch 148: val_loss did not improve from 0.00025\n",
      "\n",
      "Epoch 149: val_loss did not improve from 0.00025\n",
      "\n",
      "Epoch 150: val_loss did not improve from 0.00025\n",
      "\n",
      "Epoch 151: val_loss did not improve from 0.00025\n",
      "\n",
      "Epoch 152: val_loss did not improve from 0.00025\n",
      "\n",
      "Epoch 153: val_loss did not improve from 0.00025\n",
      "\n",
      "Epoch 154: val_loss did not improve from 0.00025\n",
      "\n",
      "Epoch 155: val_loss did not improve from 0.00025\n",
      "\n",
      "Epoch 156: val_loss did not improve from 0.00025\n",
      "\n",
      "Epoch 157: val_loss did not improve from 0.00025\n",
      "\n",
      "Epoch 158: val_loss did not improve from 0.00025\n",
      "\n",
      "Epoch 159: val_loss did not improve from 0.00025\n",
      "\n",
      "Epoch 160: val_loss did not improve from 0.00025\n",
      "\n",
      "Epoch 161: val_loss did not improve from 0.00025\n",
      "\n",
      "Epoch 162: val_loss did not improve from 0.00025\n",
      "\n",
      "Epoch 163: val_loss did not improve from 0.00025\n",
      "\n",
      "Epoch 164: val_loss did not improve from 0.00025\n",
      "\n",
      "Epoch 165: val_loss did not improve from 0.00025\n",
      "\n",
      "Epoch 166: val_loss did not improve from 0.00025\n",
      "\n",
      "Epoch 167: val_loss did not improve from 0.00025\n",
      "\n",
      "Epoch 168: val_loss did not improve from 0.00025\n",
      "\n",
      "Epoch 169: val_loss did not improve from 0.00025\n",
      "\n",
      "Epoch 170: val_loss did not improve from 0.00025\n",
      "\n",
      "Epoch 171: val_loss did not improve from 0.00025\n",
      "\n",
      "Epoch 172: val_loss did not improve from 0.00025\n",
      "\n",
      "Epoch 173: val_loss did not improve from 0.00025\n",
      "\n",
      "Epoch 174: val_loss did not improve from 0.00025\n",
      "\n",
      "Epoch 175: val_loss did not improve from 0.00025\n",
      "\n",
      "Epoch 176: val_loss did not improve from 0.00025\n",
      "Epoch 176: early stopping\n",
      "\u001b[1m5/5\u001b[0m \u001b[32m━━━━━━━━━━━━━━━━━━━━\u001b[0m\u001b[37m\u001b[0m \u001b[1m2s\u001b[0m 190ms/step\n",
      "Training with params: {'timesteps': 50, 'hl': [40, 35], 'lr': 0.0001, 'batch_size': 32, 'num_epochs': 250}\n"
     ]
    },
    {
     "name": "stderr",
     "output_type": "stream",
     "text": [
      "c:\\Users\\84368\\AppData\\Local\\Programs\\Python\\Python311\\Lib\\site-packages\\keras\\src\\layers\\rnn\\rnn.py:200: UserWarning: Do not pass an `input_shape`/`input_dim` argument to a layer. When using Sequential models, prefer using an `Input(shape)` object as the first layer in the model instead.\n",
      "  super().__init__(**kwargs)\n"
     ]
    },
    {
     "name": "stdout",
     "output_type": "stream",
     "text": [
      "\n",
      "Epoch 1: val_loss did not improve from 0.00025\n",
      "\n",
      "Epoch 2: val_loss did not improve from 0.00025\n",
      "\n",
      "Epoch 3: val_loss did not improve from 0.00025\n",
      "\n",
      "Epoch 4: val_loss did not improve from 0.00025\n",
      "\n",
      "Epoch 5: val_loss did not improve from 0.00025\n",
      "\n",
      "Epoch 6: val_loss did not improve from 0.00025\n",
      "\n",
      "Epoch 7: val_loss did not improve from 0.00025\n",
      "\n",
      "Epoch 8: val_loss did not improve from 0.00025\n",
      "\n",
      "Epoch 9: val_loss did not improve from 0.00025\n",
      "\n",
      "Epoch 10: val_loss did not improve from 0.00025\n",
      "\n",
      "Epoch 11: val_loss did not improve from 0.00025\n",
      "\n",
      "Epoch 12: val_loss did not improve from 0.00025\n",
      "\n",
      "Epoch 13: val_loss did not improve from 0.00025\n",
      "\n",
      "Epoch 14: val_loss did not improve from 0.00025\n",
      "\n",
      "Epoch 15: val_loss did not improve from 0.00025\n",
      "\n",
      "Epoch 16: val_loss did not improve from 0.00025\n",
      "\n",
      "Epoch 17: val_loss did not improve from 0.00025\n",
      "\n",
      "Epoch 18: val_loss did not improve from 0.00025\n",
      "\n",
      "Epoch 19: val_loss did not improve from 0.00025\n",
      "\n",
      "Epoch 20: val_loss did not improve from 0.00025\n",
      "\n",
      "Epoch 21: val_loss did not improve from 0.00025\n",
      "\n",
      "Epoch 22: val_loss did not improve from 0.00025\n",
      "\n",
      "Epoch 23: val_loss did not improve from 0.00025\n",
      "\n",
      "Epoch 24: val_loss did not improve from 0.00025\n",
      "\n",
      "Epoch 25: val_loss did not improve from 0.00025\n",
      "\n",
      "Epoch 26: val_loss did not improve from 0.00025\n",
      "\n",
      "Epoch 27: val_loss did not improve from 0.00025\n",
      "\n",
      "Epoch 28: val_loss did not improve from 0.00025\n",
      "\n",
      "Epoch 29: val_loss did not improve from 0.00025\n",
      "\n",
      "Epoch 30: val_loss did not improve from 0.00025\n",
      "\n",
      "Epoch 31: val_loss did not improve from 0.00025\n",
      "\n",
      "Epoch 32: val_loss did not improve from 0.00025\n",
      "\n",
      "Epoch 33: val_loss did not improve from 0.00025\n",
      "\n",
      "Epoch 34: val_loss did not improve from 0.00025\n",
      "\n",
      "Epoch 35: val_loss did not improve from 0.00025\n",
      "\n",
      "Epoch 36: val_loss did not improve from 0.00025\n",
      "\n",
      "Epoch 37: val_loss did not improve from 0.00025\n",
      "\n",
      "Epoch 38: val_loss did not improve from 0.00025\n",
      "\n",
      "Epoch 39: val_loss did not improve from 0.00025\n",
      "\n",
      "Epoch 40: val_loss did not improve from 0.00025\n",
      "\n",
      "Epoch 41: val_loss did not improve from 0.00025\n",
      "\n",
      "Epoch 42: val_loss did not improve from 0.00025\n",
      "\n",
      "Epoch 43: val_loss did not improve from 0.00025\n",
      "\n",
      "Epoch 44: val_loss did not improve from 0.00025\n",
      "\n",
      "Epoch 45: val_loss did not improve from 0.00025\n",
      "\n",
      "Epoch 46: val_loss did not improve from 0.00025\n",
      "\n",
      "Epoch 47: val_loss did not improve from 0.00025\n",
      "\n",
      "Epoch 48: val_loss did not improve from 0.00025\n",
      "\n",
      "Epoch 49: val_loss did not improve from 0.00025\n",
      "\n",
      "Epoch 50: val_loss did not improve from 0.00025\n",
      "\n",
      "Epoch 51: val_loss did not improve from 0.00025\n",
      "\n",
      "Epoch 52: val_loss did not improve from 0.00025\n",
      "\n",
      "Epoch 53: val_loss did not improve from 0.00025\n",
      "\n",
      "Epoch 54: val_loss did not improve from 0.00025\n",
      "\n",
      "Epoch 55: val_loss did not improve from 0.00025\n",
      "\n",
      "Epoch 56: val_loss did not improve from 0.00025\n",
      "\n",
      "Epoch 57: val_loss did not improve from 0.00025\n",
      "\n",
      "Epoch 58: val_loss did not improve from 0.00025\n",
      "\n",
      "Epoch 59: val_loss did not improve from 0.00025\n",
      "\n",
      "Epoch 60: val_loss did not improve from 0.00025\n",
      "\n",
      "Epoch 61: val_loss did not improve from 0.00025\n",
      "\n",
      "Epoch 62: val_loss did not improve from 0.00025\n",
      "\n",
      "Epoch 63: val_loss did not improve from 0.00025\n",
      "\n",
      "Epoch 64: val_loss did not improve from 0.00025\n",
      "\n",
      "Epoch 65: val_loss did not improve from 0.00025\n",
      "\n",
      "Epoch 66: val_loss did not improve from 0.00025\n",
      "\n",
      "Epoch 67: val_loss did not improve from 0.00025\n",
      "\n",
      "Epoch 68: val_loss did not improve from 0.00025\n",
      "\n",
      "Epoch 69: val_loss did not improve from 0.00025\n",
      "\n",
      "Epoch 70: val_loss did not improve from 0.00025\n",
      "\n",
      "Epoch 71: val_loss did not improve from 0.00025\n",
      "\n",
      "Epoch 72: val_loss did not improve from 0.00025\n",
      "\n",
      "Epoch 73: val_loss did not improve from 0.00025\n",
      "\n",
      "Epoch 74: val_loss did not improve from 0.00025\n",
      "\n",
      "Epoch 75: val_loss did not improve from 0.00025\n",
      "\n",
      "Epoch 76: val_loss did not improve from 0.00025\n",
      "\n",
      "Epoch 77: val_loss did not improve from 0.00025\n",
      "\n",
      "Epoch 78: val_loss did not improve from 0.00025\n",
      "\n",
      "Epoch 79: val_loss did not improve from 0.00025\n",
      "\n",
      "Epoch 80: val_loss did not improve from 0.00025\n",
      "\n",
      "Epoch 81: val_loss did not improve from 0.00025\n",
      "\n",
      "Epoch 82: val_loss did not improve from 0.00025\n",
      "\n",
      "Epoch 83: val_loss did not improve from 0.00025\n",
      "\n",
      "Epoch 84: val_loss did not improve from 0.00025\n",
      "\n",
      "Epoch 85: val_loss did not improve from 0.00025\n",
      "\n",
      "Epoch 86: val_loss did not improve from 0.00025\n",
      "\n",
      "Epoch 87: val_loss did not improve from 0.00025\n",
      "\n",
      "Epoch 88: val_loss did not improve from 0.00025\n",
      "\n",
      "Epoch 89: val_loss did not improve from 0.00025\n",
      "\n",
      "Epoch 90: val_loss did not improve from 0.00025\n",
      "\n",
      "Epoch 91: val_loss did not improve from 0.00025\n",
      "\n",
      "Epoch 92: val_loss did not improve from 0.00025\n",
      "\n",
      "Epoch 93: val_loss did not improve from 0.00025\n",
      "\n",
      "Epoch 94: val_loss did not improve from 0.00025\n",
      "\n",
      "Epoch 95: val_loss did not improve from 0.00025\n",
      "\n",
      "Epoch 96: val_loss did not improve from 0.00025\n",
      "\n",
      "Epoch 97: val_loss did not improve from 0.00025\n",
      "\n",
      "Epoch 98: val_loss did not improve from 0.00025\n",
      "\n",
      "Epoch 99: val_loss did not improve from 0.00025\n",
      "\n",
      "Epoch 100: val_loss did not improve from 0.00025\n",
      "\n",
      "Epoch 101: val_loss did not improve from 0.00025\n",
      "\n",
      "Epoch 102: val_loss did not improve from 0.00025\n",
      "\n",
      "Epoch 103: val_loss did not improve from 0.00025\n",
      "\n",
      "Epoch 104: val_loss did not improve from 0.00025\n",
      "\n",
      "Epoch 105: val_loss did not improve from 0.00025\n",
      "\n",
      "Epoch 106: val_loss did not improve from 0.00025\n",
      "\n",
      "Epoch 107: val_loss did not improve from 0.00025\n",
      "\n",
      "Epoch 108: val_loss did not improve from 0.00025\n",
      "\n",
      "Epoch 109: val_loss did not improve from 0.00025\n",
      "\n",
      "Epoch 110: val_loss did not improve from 0.00025\n",
      "\n",
      "Epoch 111: val_loss did not improve from 0.00025\n",
      "\n",
      "Epoch 112: val_loss did not improve from 0.00025\n",
      "\n",
      "Epoch 113: val_loss did not improve from 0.00025\n",
      "\n",
      "Epoch 114: val_loss did not improve from 0.00025\n",
      "\n",
      "Epoch 115: val_loss did not improve from 0.00025\n",
      "\n",
      "Epoch 116: val_loss did not improve from 0.00025\n",
      "\n",
      "Epoch 117: val_loss did not improve from 0.00025\n",
      "\n",
      "Epoch 118: val_loss did not improve from 0.00025\n",
      "\n",
      "Epoch 119: val_loss did not improve from 0.00025\n",
      "\n",
      "Epoch 120: val_loss did not improve from 0.00025\n",
      "\n",
      "Epoch 121: val_loss did not improve from 0.00025\n",
      "\n",
      "Epoch 122: val_loss did not improve from 0.00025\n",
      "\n",
      "Epoch 123: val_loss did not improve from 0.00025\n",
      "\n",
      "Epoch 124: val_loss did not improve from 0.00025\n",
      "\n",
      "Epoch 125: val_loss did not improve from 0.00025\n",
      "\n",
      "Epoch 126: val_loss did not improve from 0.00025\n",
      "\n",
      "Epoch 127: val_loss did not improve from 0.00025\n",
      "\n",
      "Epoch 128: val_loss did not improve from 0.00025\n",
      "\n",
      "Epoch 129: val_loss did not improve from 0.00025\n",
      "\n",
      "Epoch 130: val_loss did not improve from 0.00025\n",
      "\n",
      "Epoch 131: val_loss did not improve from 0.00025\n",
      "\n",
      "Epoch 132: val_loss did not improve from 0.00025\n",
      "\n",
      "Epoch 133: val_loss did not improve from 0.00025\n",
      "\n",
      "Epoch 134: val_loss did not improve from 0.00025\n",
      "\n",
      "Epoch 135: val_loss did not improve from 0.00025\n",
      "\n",
      "Epoch 136: val_loss did not improve from 0.00025\n",
      "\n",
      "Epoch 137: val_loss did not improve from 0.00025\n",
      "\n",
      "Epoch 138: val_loss did not improve from 0.00025\n",
      "\n",
      "Epoch 139: val_loss did not improve from 0.00025\n",
      "\n",
      "Epoch 140: val_loss did not improve from 0.00025\n",
      "\n",
      "Epoch 141: val_loss did not improve from 0.00025\n",
      "\n",
      "Epoch 142: val_loss did not improve from 0.00025\n",
      "\n",
      "Epoch 143: val_loss did not improve from 0.00025\n",
      "\n",
      "Epoch 144: val_loss did not improve from 0.00025\n",
      "\n",
      "Epoch 145: val_loss did not improve from 0.00025\n",
      "\n",
      "Epoch 146: val_loss did not improve from 0.00025\n",
      "\n",
      "Epoch 147: val_loss did not improve from 0.00025\n",
      "\n",
      "Epoch 148: val_loss did not improve from 0.00025\n",
      "\n",
      "Epoch 149: val_loss did not improve from 0.00025\n",
      "\n",
      "Epoch 150: val_loss did not improve from 0.00025\n",
      "\n",
      "Epoch 151: val_loss did not improve from 0.00025\n",
      "\n",
      "Epoch 152: val_loss did not improve from 0.00025\n",
      "\n",
      "Epoch 153: val_loss did not improve from 0.00025\n",
      "\n",
      "Epoch 154: val_loss did not improve from 0.00025\n",
      "\n",
      "Epoch 155: val_loss did not improve from 0.00025\n",
      "\n",
      "Epoch 156: val_loss did not improve from 0.00025\n",
      "\n",
      "Epoch 157: val_loss did not improve from 0.00025\n",
      "\n",
      "Epoch 158: val_loss did not improve from 0.00025\n",
      "\n",
      "Epoch 159: val_loss did not improve from 0.00025\n",
      "Epoch 159: early stopping\n",
      "\u001b[1m5/5\u001b[0m \u001b[32m━━━━━━━━━━━━━━━━━━━━\u001b[0m\u001b[37m\u001b[0m \u001b[1m2s\u001b[0m 254ms/step\n",
      "Training with params: {'timesteps': 50, 'hl': [40, 35], 'lr': 0.0001, 'batch_size': 64, 'num_epochs': 200}\n"
     ]
    },
    {
     "name": "stderr",
     "output_type": "stream",
     "text": [
      "c:\\Users\\84368\\AppData\\Local\\Programs\\Python\\Python311\\Lib\\site-packages\\keras\\src\\layers\\rnn\\rnn.py:200: UserWarning: Do not pass an `input_shape`/`input_dim` argument to a layer. When using Sequential models, prefer using an `Input(shape)` object as the first layer in the model instead.\n",
      "  super().__init__(**kwargs)\n"
     ]
    },
    {
     "name": "stdout",
     "output_type": "stream",
     "text": [
      "\n",
      "Epoch 1: val_loss did not improve from 0.00025\n",
      "\n",
      "Epoch 2: val_loss did not improve from 0.00025\n",
      "\n",
      "Epoch 3: val_loss did not improve from 0.00025\n",
      "\n",
      "Epoch 4: val_loss did not improve from 0.00025\n",
      "\n",
      "Epoch 5: val_loss did not improve from 0.00025\n",
      "\n",
      "Epoch 6: val_loss did not improve from 0.00025\n",
      "\n",
      "Epoch 7: val_loss did not improve from 0.00025\n",
      "\n",
      "Epoch 8: val_loss did not improve from 0.00025\n",
      "\n",
      "Epoch 9: val_loss did not improve from 0.00025\n",
      "\n",
      "Epoch 10: val_loss did not improve from 0.00025\n",
      "\n",
      "Epoch 11: val_loss did not improve from 0.00025\n",
      "\n",
      "Epoch 12: val_loss did not improve from 0.00025\n",
      "\n",
      "Epoch 13: val_loss did not improve from 0.00025\n",
      "\n",
      "Epoch 14: val_loss did not improve from 0.00025\n",
      "\n",
      "Epoch 15: val_loss did not improve from 0.00025\n",
      "\n",
      "Epoch 16: val_loss did not improve from 0.00025\n",
      "\n",
      "Epoch 17: val_loss did not improve from 0.00025\n",
      "\n",
      "Epoch 18: val_loss did not improve from 0.00025\n",
      "\n",
      "Epoch 19: val_loss did not improve from 0.00025\n",
      "\n",
      "Epoch 20: val_loss did not improve from 0.00025\n",
      "\n",
      "Epoch 21: val_loss did not improve from 0.00025\n",
      "\n",
      "Epoch 22: val_loss did not improve from 0.00025\n",
      "\n",
      "Epoch 23: val_loss did not improve from 0.00025\n",
      "\n",
      "Epoch 24: val_loss did not improve from 0.00025\n",
      "\n",
      "Epoch 25: val_loss did not improve from 0.00025\n",
      "\n",
      "Epoch 26: val_loss did not improve from 0.00025\n",
      "\n",
      "Epoch 27: val_loss did not improve from 0.00025\n",
      "\n",
      "Epoch 28: val_loss did not improve from 0.00025\n",
      "\n",
      "Epoch 29: val_loss did not improve from 0.00025\n",
      "\n",
      "Epoch 30: val_loss did not improve from 0.00025\n",
      "\n",
      "Epoch 31: val_loss did not improve from 0.00025\n",
      "\n",
      "Epoch 32: val_loss did not improve from 0.00025\n",
      "\n",
      "Epoch 33: val_loss did not improve from 0.00025\n",
      "\n",
      "Epoch 34: val_loss did not improve from 0.00025\n",
      "\n",
      "Epoch 35: val_loss did not improve from 0.00025\n",
      "\n",
      "Epoch 36: val_loss did not improve from 0.00025\n",
      "\n",
      "Epoch 37: val_loss did not improve from 0.00025\n",
      "\n",
      "Epoch 38: val_loss did not improve from 0.00025\n",
      "\n",
      "Epoch 39: val_loss did not improve from 0.00025\n",
      "\n",
      "Epoch 40: val_loss did not improve from 0.00025\n",
      "\n",
      "Epoch 41: val_loss did not improve from 0.00025\n",
      "\n",
      "Epoch 42: val_loss did not improve from 0.00025\n",
      "\n",
      "Epoch 43: val_loss did not improve from 0.00025\n",
      "\n",
      "Epoch 44: val_loss did not improve from 0.00025\n",
      "\n",
      "Epoch 45: val_loss did not improve from 0.00025\n",
      "\n",
      "Epoch 46: val_loss did not improve from 0.00025\n",
      "\n",
      "Epoch 47: val_loss did not improve from 0.00025\n",
      "\n",
      "Epoch 48: val_loss did not improve from 0.00025\n",
      "\n",
      "Epoch 49: val_loss did not improve from 0.00025\n",
      "\n",
      "Epoch 50: val_loss did not improve from 0.00025\n",
      "\n",
      "Epoch 51: val_loss did not improve from 0.00025\n",
      "\n",
      "Epoch 52: val_loss did not improve from 0.00025\n",
      "\n",
      "Epoch 53: val_loss did not improve from 0.00025\n",
      "\n",
      "Epoch 54: val_loss did not improve from 0.00025\n",
      "\n",
      "Epoch 55: val_loss did not improve from 0.00025\n",
      "\n",
      "Epoch 56: val_loss did not improve from 0.00025\n",
      "\n",
      "Epoch 57: val_loss did not improve from 0.00025\n",
      "\n",
      "Epoch 58: val_loss did not improve from 0.00025\n",
      "\n",
      "Epoch 59: val_loss did not improve from 0.00025\n",
      "\n",
      "Epoch 60: val_loss did not improve from 0.00025\n",
      "\n",
      "Epoch 61: val_loss did not improve from 0.00025\n",
      "\n",
      "Epoch 62: val_loss did not improve from 0.00025\n",
      "\n",
      "Epoch 63: val_loss did not improve from 0.00025\n",
      "\n",
      "Epoch 64: val_loss did not improve from 0.00025\n",
      "\n",
      "Epoch 65: val_loss did not improve from 0.00025\n",
      "\n",
      "Epoch 66: val_loss did not improve from 0.00025\n",
      "\n",
      "Epoch 67: val_loss did not improve from 0.00025\n",
      "\n",
      "Epoch 68: val_loss did not improve from 0.00025\n",
      "\n",
      "Epoch 69: val_loss did not improve from 0.00025\n",
      "\n",
      "Epoch 70: val_loss did not improve from 0.00025\n",
      "\n",
      "Epoch 71: val_loss did not improve from 0.00025\n",
      "\n",
      "Epoch 72: val_loss did not improve from 0.00025\n",
      "\n",
      "Epoch 73: val_loss did not improve from 0.00025\n",
      "\n",
      "Epoch 74: val_loss did not improve from 0.00025\n",
      "\n",
      "Epoch 75: val_loss did not improve from 0.00025\n",
      "\n",
      "Epoch 76: val_loss did not improve from 0.00025\n",
      "\n",
      "Epoch 77: val_loss did not improve from 0.00025\n",
      "\n",
      "Epoch 78: val_loss did not improve from 0.00025\n",
      "\n",
      "Epoch 79: val_loss did not improve from 0.00025\n",
      "\n",
      "Epoch 80: val_loss did not improve from 0.00025\n",
      "\n",
      "Epoch 81: val_loss did not improve from 0.00025\n",
      "\n",
      "Epoch 82: val_loss did not improve from 0.00025\n",
      "\n",
      "Epoch 83: val_loss did not improve from 0.00025\n",
      "\n",
      "Epoch 84: val_loss did not improve from 0.00025\n",
      "\n",
      "Epoch 85: val_loss did not improve from 0.00025\n",
      "\n",
      "Epoch 86: val_loss did not improve from 0.00025\n",
      "\n",
      "Epoch 87: val_loss did not improve from 0.00025\n",
      "\n",
      "Epoch 88: val_loss did not improve from 0.00025\n",
      "\n",
      "Epoch 89: val_loss did not improve from 0.00025\n",
      "\n",
      "Epoch 90: val_loss did not improve from 0.00025\n",
      "\n",
      "Epoch 91: val_loss did not improve from 0.00025\n",
      "\n",
      "Epoch 92: val_loss did not improve from 0.00025\n",
      "\n",
      "Epoch 93: val_loss did not improve from 0.00025\n",
      "\n",
      "Epoch 94: val_loss did not improve from 0.00025\n",
      "\n",
      "Epoch 95: val_loss did not improve from 0.00025\n",
      "\n",
      "Epoch 96: val_loss did not improve from 0.00025\n",
      "\n",
      "Epoch 97: val_loss did not improve from 0.00025\n",
      "\n",
      "Epoch 98: val_loss did not improve from 0.00025\n",
      "\n",
      "Epoch 99: val_loss did not improve from 0.00025\n",
      "\n",
      "Epoch 100: val_loss did not improve from 0.00025\n",
      "\n",
      "Epoch 101: val_loss did not improve from 0.00025\n",
      "\n",
      "Epoch 102: val_loss did not improve from 0.00025\n",
      "\n",
      "Epoch 103: val_loss did not improve from 0.00025\n",
      "\n",
      "Epoch 104: val_loss did not improve from 0.00025\n",
      "\n",
      "Epoch 105: val_loss did not improve from 0.00025\n",
      "\n",
      "Epoch 106: val_loss did not improve from 0.00025\n",
      "\n",
      "Epoch 107: val_loss did not improve from 0.00025\n",
      "\n",
      "Epoch 108: val_loss did not improve from 0.00025\n",
      "\n",
      "Epoch 109: val_loss did not improve from 0.00025\n",
      "\n",
      "Epoch 110: val_loss did not improve from 0.00025\n",
      "\n",
      "Epoch 111: val_loss did not improve from 0.00025\n",
      "\n",
      "Epoch 112: val_loss did not improve from 0.00025\n",
      "\n",
      "Epoch 113: val_loss did not improve from 0.00025\n",
      "\n",
      "Epoch 114: val_loss did not improve from 0.00025\n",
      "\n",
      "Epoch 115: val_loss did not improve from 0.00025\n",
      "\n",
      "Epoch 116: val_loss did not improve from 0.00025\n",
      "\n",
      "Epoch 117: val_loss did not improve from 0.00025\n",
      "\n",
      "Epoch 118: val_loss did not improve from 0.00025\n",
      "\n",
      "Epoch 119: val_loss did not improve from 0.00025\n",
      "\n",
      "Epoch 120: val_loss did not improve from 0.00025\n",
      "\n",
      "Epoch 121: val_loss did not improve from 0.00025\n",
      "\n",
      "Epoch 122: val_loss did not improve from 0.00025\n",
      "\n",
      "Epoch 123: val_loss did not improve from 0.00025\n",
      "\n",
      "Epoch 124: val_loss did not improve from 0.00025\n",
      "\n",
      "Epoch 125: val_loss did not improve from 0.00025\n",
      "\n",
      "Epoch 126: val_loss did not improve from 0.00025\n",
      "\n",
      "Epoch 127: val_loss did not improve from 0.00025\n",
      "\n",
      "Epoch 128: val_loss did not improve from 0.00025\n",
      "\n",
      "Epoch 129: val_loss did not improve from 0.00025\n",
      "\n",
      "Epoch 130: val_loss did not improve from 0.00025\n",
      "\n",
      "Epoch 131: val_loss did not improve from 0.00025\n",
      "\n",
      "Epoch 132: val_loss did not improve from 0.00025\n",
      "\n",
      "Epoch 133: val_loss did not improve from 0.00025\n",
      "\n",
      "Epoch 134: val_loss did not improve from 0.00025\n",
      "\n",
      "Epoch 135: val_loss did not improve from 0.00025\n",
      "\n",
      "Epoch 136: val_loss did not improve from 0.00025\n",
      "\n",
      "Epoch 137: val_loss did not improve from 0.00025\n",
      "\n",
      "Epoch 138: val_loss did not improve from 0.00025\n",
      "\n",
      "Epoch 139: val_loss did not improve from 0.00025\n",
      "\n",
      "Epoch 140: val_loss did not improve from 0.00025\n",
      "\n",
      "Epoch 141: val_loss did not improve from 0.00025\n",
      "\n",
      "Epoch 142: val_loss did not improve from 0.00025\n",
      "\n",
      "Epoch 143: val_loss did not improve from 0.00025\n",
      "\n",
      "Epoch 144: val_loss did not improve from 0.00025\n",
      "\n",
      "Epoch 145: val_loss did not improve from 0.00025\n",
      "\n",
      "Epoch 146: val_loss did not improve from 0.00025\n",
      "\n",
      "Epoch 147: val_loss did not improve from 0.00025\n",
      "Epoch 147: early stopping\n",
      "\u001b[1m5/5\u001b[0m \u001b[32m━━━━━━━━━━━━━━━━━━━━\u001b[0m\u001b[37m\u001b[0m \u001b[1m1s\u001b[0m 204ms/step\n",
      "Training with params: {'timesteps': 50, 'hl': [40, 35], 'lr': 0.0001, 'batch_size': 64, 'num_epochs': 250}\n"
     ]
    },
    {
     "name": "stderr",
     "output_type": "stream",
     "text": [
      "c:\\Users\\84368\\AppData\\Local\\Programs\\Python\\Python311\\Lib\\site-packages\\keras\\src\\layers\\rnn\\rnn.py:200: UserWarning: Do not pass an `input_shape`/`input_dim` argument to a layer. When using Sequential models, prefer using an `Input(shape)` object as the first layer in the model instead.\n",
      "  super().__init__(**kwargs)\n"
     ]
    },
    {
     "name": "stdout",
     "output_type": "stream",
     "text": [
      "\n",
      "Epoch 1: val_loss did not improve from 0.00025\n",
      "\n",
      "Epoch 2: val_loss did not improve from 0.00025\n",
      "\n",
      "Epoch 3: val_loss did not improve from 0.00025\n",
      "\n",
      "Epoch 4: val_loss did not improve from 0.00025\n",
      "\n",
      "Epoch 5: val_loss did not improve from 0.00025\n",
      "\n",
      "Epoch 6: val_loss did not improve from 0.00025\n",
      "\n",
      "Epoch 7: val_loss did not improve from 0.00025\n",
      "\n",
      "Epoch 8: val_loss did not improve from 0.00025\n",
      "\n",
      "Epoch 9: val_loss did not improve from 0.00025\n",
      "\n",
      "Epoch 10: val_loss did not improve from 0.00025\n",
      "\n",
      "Epoch 11: val_loss did not improve from 0.00025\n",
      "\n",
      "Epoch 12: val_loss did not improve from 0.00025\n",
      "\n",
      "Epoch 13: val_loss did not improve from 0.00025\n",
      "\n",
      "Epoch 14: val_loss did not improve from 0.00025\n",
      "\n",
      "Epoch 15: val_loss did not improve from 0.00025\n",
      "\n",
      "Epoch 16: val_loss did not improve from 0.00025\n",
      "\n",
      "Epoch 17: val_loss did not improve from 0.00025\n",
      "\n",
      "Epoch 18: val_loss did not improve from 0.00025\n",
      "\n",
      "Epoch 19: val_loss did not improve from 0.00025\n",
      "\n",
      "Epoch 20: val_loss did not improve from 0.00025\n",
      "\n",
      "Epoch 21: val_loss did not improve from 0.00025\n",
      "\n",
      "Epoch 22: val_loss did not improve from 0.00025\n",
      "\n",
      "Epoch 23: val_loss did not improve from 0.00025\n",
      "\n",
      "Epoch 24: val_loss did not improve from 0.00025\n",
      "\n",
      "Epoch 25: val_loss did not improve from 0.00025\n",
      "\n",
      "Epoch 26: val_loss did not improve from 0.00025\n",
      "\n",
      "Epoch 27: val_loss did not improve from 0.00025\n",
      "\n",
      "Epoch 28: val_loss did not improve from 0.00025\n",
      "\n",
      "Epoch 29: val_loss did not improve from 0.00025\n",
      "\n",
      "Epoch 30: val_loss did not improve from 0.00025\n",
      "\n",
      "Epoch 31: val_loss did not improve from 0.00025\n",
      "\n",
      "Epoch 32: val_loss did not improve from 0.00025\n",
      "\n",
      "Epoch 33: val_loss did not improve from 0.00025\n",
      "\n",
      "Epoch 34: val_loss did not improve from 0.00025\n",
      "\n",
      "Epoch 35: val_loss did not improve from 0.00025\n",
      "\n",
      "Epoch 36: val_loss did not improve from 0.00025\n",
      "\n",
      "Epoch 37: val_loss did not improve from 0.00025\n",
      "\n",
      "Epoch 38: val_loss did not improve from 0.00025\n",
      "\n",
      "Epoch 39: val_loss did not improve from 0.00025\n",
      "\n",
      "Epoch 40: val_loss did not improve from 0.00025\n",
      "\n",
      "Epoch 41: val_loss did not improve from 0.00025\n",
      "\n",
      "Epoch 42: val_loss did not improve from 0.00025\n",
      "\n",
      "Epoch 43: val_loss did not improve from 0.00025\n",
      "\n",
      "Epoch 44: val_loss did not improve from 0.00025\n",
      "\n",
      "Epoch 45: val_loss did not improve from 0.00025\n",
      "\n",
      "Epoch 46: val_loss did not improve from 0.00025\n",
      "\n",
      "Epoch 47: val_loss did not improve from 0.00025\n",
      "\n",
      "Epoch 48: val_loss did not improve from 0.00025\n",
      "\n",
      "Epoch 49: val_loss did not improve from 0.00025\n",
      "\n",
      "Epoch 50: val_loss did not improve from 0.00025\n",
      "\n",
      "Epoch 51: val_loss did not improve from 0.00025\n",
      "\n",
      "Epoch 52: val_loss did not improve from 0.00025\n",
      "\n",
      "Epoch 53: val_loss did not improve from 0.00025\n",
      "\n",
      "Epoch 54: val_loss did not improve from 0.00025\n",
      "\n",
      "Epoch 55: val_loss did not improve from 0.00025\n",
      "\n",
      "Epoch 56: val_loss did not improve from 0.00025\n",
      "\n",
      "Epoch 57: val_loss did not improve from 0.00025\n",
      "\n",
      "Epoch 58: val_loss did not improve from 0.00025\n",
      "\n",
      "Epoch 59: val_loss did not improve from 0.00025\n",
      "\n",
      "Epoch 60: val_loss did not improve from 0.00025\n",
      "\n",
      "Epoch 61: val_loss did not improve from 0.00025\n",
      "\n",
      "Epoch 62: val_loss did not improve from 0.00025\n",
      "\n",
      "Epoch 63: val_loss did not improve from 0.00025\n",
      "\n",
      "Epoch 64: val_loss did not improve from 0.00025\n",
      "\n",
      "Epoch 65: val_loss did not improve from 0.00025\n",
      "\n",
      "Epoch 66: val_loss did not improve from 0.00025\n",
      "\n",
      "Epoch 67: val_loss did not improve from 0.00025\n",
      "\n",
      "Epoch 68: val_loss did not improve from 0.00025\n",
      "\n",
      "Epoch 69: val_loss did not improve from 0.00025\n",
      "\n",
      "Epoch 70: val_loss did not improve from 0.00025\n",
      "\n",
      "Epoch 71: val_loss did not improve from 0.00025\n",
      "\n",
      "Epoch 72: val_loss did not improve from 0.00025\n",
      "\n",
      "Epoch 73: val_loss did not improve from 0.00025\n",
      "\n",
      "Epoch 74: val_loss did not improve from 0.00025\n",
      "\n",
      "Epoch 75: val_loss did not improve from 0.00025\n",
      "\n",
      "Epoch 76: val_loss did not improve from 0.00025\n",
      "\n",
      "Epoch 77: val_loss did not improve from 0.00025\n",
      "\n",
      "Epoch 78: val_loss did not improve from 0.00025\n",
      "\n",
      "Epoch 79: val_loss did not improve from 0.00025\n",
      "\n",
      "Epoch 80: val_loss did not improve from 0.00025\n",
      "\n",
      "Epoch 81: val_loss did not improve from 0.00025\n",
      "\n",
      "Epoch 82: val_loss did not improve from 0.00025\n",
      "\n",
      "Epoch 83: val_loss did not improve from 0.00025\n",
      "\n",
      "Epoch 84: val_loss did not improve from 0.00025\n",
      "\n",
      "Epoch 85: val_loss did not improve from 0.00025\n",
      "\n",
      "Epoch 86: val_loss did not improve from 0.00025\n",
      "\n",
      "Epoch 87: val_loss did not improve from 0.00025\n",
      "\n",
      "Epoch 88: val_loss did not improve from 0.00025\n",
      "\n",
      "Epoch 89: val_loss did not improve from 0.00025\n",
      "\n",
      "Epoch 90: val_loss did not improve from 0.00025\n",
      "\n",
      "Epoch 91: val_loss did not improve from 0.00025\n",
      "\n",
      "Epoch 92: val_loss did not improve from 0.00025\n",
      "\n",
      "Epoch 93: val_loss did not improve from 0.00025\n",
      "\n",
      "Epoch 94: val_loss did not improve from 0.00025\n",
      "\n",
      "Epoch 95: val_loss did not improve from 0.00025\n",
      "\n",
      "Epoch 96: val_loss did not improve from 0.00025\n",
      "\n",
      "Epoch 97: val_loss did not improve from 0.00025\n",
      "\n",
      "Epoch 98: val_loss did not improve from 0.00025\n",
      "\n",
      "Epoch 99: val_loss did not improve from 0.00025\n",
      "\n",
      "Epoch 100: val_loss did not improve from 0.00025\n",
      "\n",
      "Epoch 101: val_loss did not improve from 0.00025\n",
      "\n",
      "Epoch 102: val_loss did not improve from 0.00025\n",
      "\n",
      "Epoch 103: val_loss did not improve from 0.00025\n",
      "\n",
      "Epoch 104: val_loss did not improve from 0.00025\n",
      "\n",
      "Epoch 105: val_loss did not improve from 0.00025\n",
      "\n",
      "Epoch 106: val_loss did not improve from 0.00025\n",
      "\n",
      "Epoch 107: val_loss did not improve from 0.00025\n",
      "\n",
      "Epoch 108: val_loss did not improve from 0.00025\n",
      "\n",
      "Epoch 109: val_loss did not improve from 0.00025\n",
      "\n",
      "Epoch 110: val_loss did not improve from 0.00025\n",
      "\n",
      "Epoch 111: val_loss did not improve from 0.00025\n",
      "\n",
      "Epoch 112: val_loss did not improve from 0.00025\n",
      "\n",
      "Epoch 113: val_loss did not improve from 0.00025\n",
      "\n",
      "Epoch 114: val_loss did not improve from 0.00025\n",
      "\n",
      "Epoch 115: val_loss did not improve from 0.00025\n",
      "\n",
      "Epoch 116: val_loss did not improve from 0.00025\n",
      "\n",
      "Epoch 117: val_loss did not improve from 0.00025\n",
      "\n",
      "Epoch 118: val_loss did not improve from 0.00025\n",
      "\n",
      "Epoch 119: val_loss did not improve from 0.00025\n",
      "\n",
      "Epoch 120: val_loss did not improve from 0.00025\n",
      "\n",
      "Epoch 121: val_loss did not improve from 0.00025\n",
      "\n",
      "Epoch 122: val_loss did not improve from 0.00025\n",
      "\n",
      "Epoch 123: val_loss did not improve from 0.00025\n",
      "\n",
      "Epoch 124: val_loss did not improve from 0.00025\n",
      "\n",
      "Epoch 125: val_loss did not improve from 0.00025\n",
      "\n",
      "Epoch 126: val_loss did not improve from 0.00025\n",
      "\n",
      "Epoch 127: val_loss did not improve from 0.00025\n",
      "\n",
      "Epoch 128: val_loss did not improve from 0.00025\n",
      "\n",
      "Epoch 129: val_loss did not improve from 0.00025\n",
      "\n",
      "Epoch 130: val_loss did not improve from 0.00025\n",
      "\n",
      "Epoch 131: val_loss did not improve from 0.00025\n",
      "\n",
      "Epoch 132: val_loss did not improve from 0.00025\n",
      "\n",
      "Epoch 133: val_loss did not improve from 0.00025\n",
      "\n",
      "Epoch 134: val_loss did not improve from 0.00025\n",
      "\n",
      "Epoch 135: val_loss did not improve from 0.00025\n",
      "\n",
      "Epoch 136: val_loss did not improve from 0.00025\n",
      "Epoch 136: early stopping\n",
      "\u001b[1m5/5\u001b[0m \u001b[32m━━━━━━━━━━━━━━━━━━━━\u001b[0m\u001b[37m\u001b[0m \u001b[1m1s\u001b[0m 167ms/step\n",
      "    timesteps        hl      lr  batch_size  num_epochs       MSE      RMSE  \\\n",
      "0          30  [40, 35]  0.0010          32         200  0.004589  0.067742   \n",
      "1          30  [40, 35]  0.0010          32         250  0.001562  0.039521   \n",
      "2          30  [40, 35]  0.0010          64         200  0.002421  0.049200   \n",
      "3          30  [40, 35]  0.0010          64         250  0.001588  0.039855   \n",
      "4          30  [40, 35]  0.0001          32         200  0.001490  0.038601   \n",
      "5          30  [40, 35]  0.0001          32         250  0.001425  0.037753   \n",
      "6          30  [40, 35]  0.0001          64         200  0.001995  0.044665   \n",
      "7          30  [40, 35]  0.0001          64         250  0.002158  0.046459   \n",
      "8          40  [40, 35]  0.0010          32         200  0.000849  0.029137   \n",
      "9          40  [40, 35]  0.0010          32         250  0.001992  0.044636   \n",
      "10         40  [40, 35]  0.0010          64         200  0.002414  0.049131   \n",
      "11         40  [40, 35]  0.0010          64         250  0.000969  0.031136   \n",
      "12         40  [40, 35]  0.0001          32         200  0.003176  0.056358   \n",
      "13         40  [40, 35]  0.0001          32         250  0.002420  0.049197   \n",
      "14         40  [40, 35]  0.0001          64         200  0.002072  0.045518   \n",
      "15         40  [40, 35]  0.0001          64         250  0.001699  0.041216   \n",
      "16         50  [40, 35]  0.0010          32         200  0.001289  0.035903   \n",
      "17         50  [40, 35]  0.0010          32         250  0.000596  0.024415   \n",
      "18         50  [40, 35]  0.0010          64         200  0.001245  0.035286   \n",
      "19         50  [40, 35]  0.0010          64         250  0.001068  0.032683   \n",
      "20         50  [40, 35]  0.0001          32         200  0.001938  0.044022   \n",
      "21         50  [40, 35]  0.0001          32         250  0.001747  0.041803   \n",
      "22         50  [40, 35]  0.0001          64         200  0.001681  0.041004   \n",
      "23         50  [40, 35]  0.0001          64         250  0.001752  0.041860   \n",
      "\n",
      "        MAPE        R²  \n",
      "0   0.116863  0.527531  \n",
      "1   0.067188  0.839190  \n",
      "2   0.072984  0.750782  \n",
      "3   0.059697  0.836462  \n",
      "4   0.058125  0.846590  \n",
      "5   0.057004  0.853254  \n",
      "6   0.066375  0.794607  \n",
      "7   0.072707  0.777774  \n",
      "8   0.043483  0.914628  \n",
      "9   0.074099  0.799639  \n",
      "10  0.072811  0.757256  \n",
      "11  0.047749  0.902507  \n",
      "12  0.088232  0.680595  \n",
      "13  0.076654  0.756608  \n",
      "14  0.068726  0.791646  \n",
      "15  0.063588  0.829169  \n",
      "16  0.056569  0.867313  \n",
      "17  0.035372  0.938638  \n",
      "18  0.053187  0.871835  \n",
      "19  0.049544  0.890043  \n",
      "20  0.064894  0.800509  \n",
      "21  0.064060  0.820119  \n",
      "22  0.061954  0.826927  \n",
      "23  0.061202  0.819621  \n",
      "Best parameters: {'timesteps': 50, 'hl': [40, 35], 'lr': 0.001, 'batch_size': 32, 'num_epochs': 250}\n",
      "Best RMSE score: 0.02441524689522165\n"
     ]
    }
   ],
   "source": [
    "best_params, best_score, results_df = grid_search_rnn(train, val, test, param_grid)\n",
    "\n",
    "print(results_df)\n",
    "print(\"Best parameters:\", best_params)\n",
    "print(\"Best RMSE score:\", best_score)"
   ]
  },
  {
   "cell_type": "markdown",
   "metadata": {},
   "source": [
    "### Bước 5: Huấn luyện mô hình với bộ tham số tối ưu"
   ]
  },
  {
   "cell_type": "code",
   "execution_count": 91,
   "metadata": {},
   "outputs": [
    {
     "name": "stderr",
     "output_type": "stream",
     "text": [
      "c:\\Users\\84368\\AppData\\Local\\Programs\\Python\\Python311\\Lib\\site-packages\\keras\\src\\layers\\rnn\\rnn.py:200: UserWarning: Do not pass an `input_shape`/`input_dim` argument to a layer. When using Sequential models, prefer using an `Input(shape)` object as the first layer in the model instead.\n",
      "  super().__init__(**kwargs)\n"
     ]
    },
    {
     "name": "stdout",
     "output_type": "stream",
     "text": [
      "\n",
      "Epoch 1: val_loss did not improve from 0.00025\n",
      "\n",
      "Epoch 2: val_loss did not improve from 0.00025\n",
      "\n",
      "Epoch 3: val_loss did not improve from 0.00025\n",
      "\n",
      "Epoch 4: val_loss did not improve from 0.00025\n",
      "\n",
      "Epoch 5: val_loss did not improve from 0.00025\n",
      "\n",
      "Epoch 6: val_loss did not improve from 0.00025\n",
      "\n",
      "Epoch 7: val_loss did not improve from 0.00025\n",
      "\n",
      "Epoch 8: val_loss did not improve from 0.00025\n",
      "\n",
      "Epoch 9: val_loss did not improve from 0.00025\n",
      "\n",
      "Epoch 10: val_loss did not improve from 0.00025\n",
      "\n",
      "Epoch 11: val_loss did not improve from 0.00025\n",
      "\n",
      "Epoch 12: val_loss did not improve from 0.00025\n",
      "\n",
      "Epoch 13: val_loss did not improve from 0.00025\n",
      "\n",
      "Epoch 14: val_loss did not improve from 0.00025\n",
      "\n",
      "Epoch 15: val_loss did not improve from 0.00025\n",
      "\n",
      "Epoch 16: val_loss did not improve from 0.00025\n",
      "\n",
      "Epoch 17: val_loss did not improve from 0.00025\n",
      "\n",
      "Epoch 18: val_loss did not improve from 0.00025\n",
      "\n",
      "Epoch 19: val_loss did not improve from 0.00025\n",
      "\n",
      "Epoch 20: val_loss did not improve from 0.00025\n",
      "\n",
      "Epoch 21: val_loss did not improve from 0.00025\n",
      "\n",
      "Epoch 22: val_loss did not improve from 0.00025\n",
      "\n",
      "Epoch 23: val_loss did not improve from 0.00025\n",
      "\n",
      "Epoch 24: val_loss did not improve from 0.00025\n",
      "\n",
      "Epoch 25: val_loss did not improve from 0.00025\n",
      "\n",
      "Epoch 26: val_loss did not improve from 0.00025\n",
      "\n",
      "Epoch 27: val_loss did not improve from 0.00025\n",
      "\n",
      "Epoch 28: val_loss did not improve from 0.00025\n",
      "\n",
      "Epoch 29: val_loss did not improve from 0.00025\n",
      "\n",
      "Epoch 30: val_loss did not improve from 0.00025\n",
      "\n",
      "Epoch 31: val_loss did not improve from 0.00025\n",
      "\n",
      "Epoch 32: val_loss did not improve from 0.00025\n",
      "\n",
      "Epoch 33: val_loss did not improve from 0.00025\n",
      "\n",
      "Epoch 34: val_loss did not improve from 0.00025\n",
      "\n",
      "Epoch 35: val_loss did not improve from 0.00025\n",
      "\n",
      "Epoch 36: val_loss did not improve from 0.00025\n",
      "\n",
      "Epoch 37: val_loss did not improve from 0.00025\n",
      "\n",
      "Epoch 38: val_loss did not improve from 0.00025\n",
      "\n",
      "Epoch 39: val_loss did not improve from 0.00025\n",
      "\n",
      "Epoch 40: val_loss did not improve from 0.00025\n",
      "\n",
      "Epoch 41: val_loss did not improve from 0.00025\n",
      "\n",
      "Epoch 42: val_loss did not improve from 0.00025\n",
      "\n",
      "Epoch 43: val_loss did not improve from 0.00025\n",
      "\n",
      "Epoch 44: val_loss did not improve from 0.00025\n",
      "\n",
      "Epoch 45: val_loss did not improve from 0.00025\n",
      "\n",
      "Epoch 46: val_loss did not improve from 0.00025\n",
      "\n",
      "Epoch 47: val_loss did not improve from 0.00025\n",
      "\n",
      "Epoch 48: val_loss did not improve from 0.00025\n",
      "\n",
      "Epoch 49: val_loss did not improve from 0.00025\n",
      "\n",
      "Epoch 50: val_loss did not improve from 0.00025\n",
      "\n",
      "Epoch 51: val_loss did not improve from 0.00025\n",
      "\n",
      "Epoch 52: val_loss did not improve from 0.00025\n",
      "\n",
      "Epoch 53: val_loss did not improve from 0.00025\n",
      "\n",
      "Epoch 54: val_loss did not improve from 0.00025\n",
      "\n",
      "Epoch 55: val_loss did not improve from 0.00025\n",
      "\n",
      "Epoch 56: val_loss did not improve from 0.00025\n",
      "\n",
      "Epoch 57: val_loss did not improve from 0.00025\n",
      "\n",
      "Epoch 58: val_loss did not improve from 0.00025\n",
      "\n",
      "Epoch 59: val_loss did not improve from 0.00025\n",
      "\n",
      "Epoch 60: val_loss did not improve from 0.00025\n",
      "\n",
      "Epoch 61: val_loss did not improve from 0.00025\n",
      "\n",
      "Epoch 62: val_loss did not improve from 0.00025\n",
      "\n",
      "Epoch 63: val_loss did not improve from 0.00025\n",
      "\n",
      "Epoch 64: val_loss did not improve from 0.00025\n",
      "\n",
      "Epoch 65: val_loss did not improve from 0.00025\n",
      "\n",
      "Epoch 66: val_loss did not improve from 0.00025\n",
      "\n",
      "Epoch 67: val_loss did not improve from 0.00025\n",
      "\n",
      "Epoch 68: val_loss did not improve from 0.00025\n",
      "\n",
      "Epoch 69: val_loss did not improve from 0.00025\n",
      "\n",
      "Epoch 70: val_loss did not improve from 0.00025\n",
      "\n",
      "Epoch 71: val_loss did not improve from 0.00025\n",
      "\n",
      "Epoch 72: val_loss did not improve from 0.00025\n",
      "\n",
      "Epoch 73: val_loss did not improve from 0.00025\n",
      "\n",
      "Epoch 74: val_loss did not improve from 0.00025\n",
      "\n",
      "Epoch 75: val_loss did not improve from 0.00025\n",
      "\n",
      "Epoch 76: val_loss did not improve from 0.00025\n",
      "\n",
      "Epoch 77: val_loss did not improve from 0.00025\n",
      "\n",
      "Epoch 78: val_loss did not improve from 0.00025\n",
      "\n",
      "Epoch 79: val_loss did not improve from 0.00025\n",
      "\n",
      "Epoch 80: val_loss did not improve from 0.00025\n",
      "\n",
      "Epoch 81: val_loss did not improve from 0.00025\n",
      "\n",
      "Epoch 82: val_loss did not improve from 0.00025\n",
      "\n",
      "Epoch 83: val_loss did not improve from 0.00025\n",
      "\n",
      "Epoch 84: val_loss did not improve from 0.00025\n",
      "\n",
      "Epoch 85: val_loss did not improve from 0.00025\n",
      "\n",
      "Epoch 86: val_loss did not improve from 0.00025\n",
      "\n",
      "Epoch 87: val_loss did not improve from 0.00025\n",
      "\n",
      "Epoch 88: val_loss did not improve from 0.00025\n",
      "\n",
      "Epoch 89: val_loss did not improve from 0.00025\n",
      "\n",
      "Epoch 90: val_loss did not improve from 0.00025\n",
      "Epoch 90: early stopping\n"
     ]
    }
   ],
   "source": [
    "timesteps = 50\n",
    "hl = [40, 35]\n",
    "lr = 1e-3\n",
    "batch_size = 32\n",
    "num_epochs = 250\n",
    "\n",
    "model, train_error, val_error = fit_model_4(train, val, timesteps, hl, lr, batch_size, num_epochs)"
   ]
  },
  {
   "cell_type": "markdown",
   "metadata": {},
   "source": [
    "### Bước 6: Đánh giá mô hình và trực quan hóa kết quả"
   ]
  },
  {
   "cell_type": "markdown",
   "metadata": {},
   "source": [
    "#### 6.1. Vẽ biểu đồ train_loss và val_loss"
   ]
  },
  {
   "cell_type": "code",
   "execution_count": 92,
   "metadata": {},
   "outputs": [
    {
     "data": {
      "image/png": "[encoded data removed]",
      "text/plain": [
       "<Figure size 640x480 with 1 Axes>"
      ]
     },
     "metadata": {},
     "output_type": "display_data"
    }
   ],
   "source": [
    "plot_error(train_error, val_error)"
   ]
  },
  {
   "cell_type": "markdown",
   "metadata": {},
   "source": [
    "#### 6.2. Đánh giá mô hình trên tập test"
   ]
  },
  {
   "cell_type": "code",
   "execution_count": 93,
   "metadata": {},
   "outputs": [
    {
     "name": "stdout",
     "output_type": "stream",
     "text": [
      "\u001b[1m5/5\u001b[0m \u001b[32m━━━━━━━━━━━━━━━━━━━━\u001b[0m\u001b[37m\u001b[0m \u001b[1m2s\u001b[0m 265ms/step\n"
     ]
    }
   ],
   "source": [
    "mse, rmse, mape, r2, true, predicted = evaluate_model_4(model, test, timesteps)"
   ]
  },
  {
   "cell_type": "code",
   "execution_count": 94,
   "metadata": {},
   "outputs": [
    {
     "name": "stdout",
     "output_type": "stream",
     "text": [
      "MSE = 0.000826151321881605\n",
      "RMSE = 0.028742848186663846\n",
      "MAPE = 0.04389271305944009\n",
      "R-Squared Score = 0.9149574921482326\n"
     ]
    }
   ],
   "source": [
    "print('MSE = {}'.format(mse))\n",
    "print('RMSE = {}'.format(rmse))\n",
    "print('MAPE = {}'.format(mape))\n",
    "print('R-Squared Score = {}'.format(r2))"
   ]
  },
  {
   "cell_type": "markdown",
   "metadata": {},
   "source": [
    "#### 6.3. Vẽ đồ thị dự đoán vs thực tế"
   ]
  },
  {
   "cell_type": "code",
   "execution_count": 95,
   "metadata": {},
   "outputs": [
    {
     "data": {
      "image/png": "[encoded data removed]",
      "text/plain": [
       "<Figure size 640x480 with 1 Axes>"
      ]
     },
     "metadata": {},
     "output_type": "display_data"
    }
   ],
   "source": [
    "plot_data_4(true, predicted)"
   ]
  },
  {
   "cell_type": "code",
   "execution_count": 96,
   "metadata": {},
   "outputs": [],
   "source": [
    "# Save a model\n",
    "model.save('10VAR-szc-lstm.keras')"
   ]
  },
  {
   "cell_type": "code",
   "execution_count": null,
   "metadata": {},
   "outputs": [],
   "source": [
    "del model"
   ]
  }
 ],
 "metadata": {
  "kernelspec": {
   "display_name": "Python 3",
   "language": "python",
   "name": "python3"
  },
  "language_info": {
   "codemirror_mode": {
    "name": "ipython",
    "version": 3
   },
   "file_extension": ".py",
   "mimetype": "text/x-python",
   "name": "python",
   "nbconvert_exporter": "python",
   "pygments_lexer": "ipython3",
   "version": "3.11.6"
  }
 },
 "nbformat": 4,
 "nbformat_minor": 2
}
